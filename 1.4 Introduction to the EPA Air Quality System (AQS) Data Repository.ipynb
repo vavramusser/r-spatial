{
 "cells": [
  {
   "cell_type": "markdown",
   "id": "7063dfcc-8c48-4753-8afe-f705fe15bd72",
   "metadata": {},
   "source": [
    "# Introduction to the Environmental Protection Agency (EPA) Air Quality System (AQS) Data Repository and API"
   ]
  },
  {
   "cell_type": "markdown",
   "id": "44ee4be8-672d-4875-a0cb-79becbb2c9a9",
   "metadata": {},
   "source": [
    "he [EPA’s Air Quality System (AQS) API](https://aqs.epa.gov/aqsweb/documents/data_api.html) provides access to detailed, historical data on ambient air quality collected across the United States. Developed and maintained by the [United States Environmental Protection Agency (EPA)](https://www.epa.gov), the [Air Quality System (AQS)](https://www.epa.gov/aqs) houses data from thousands of air pollution monitoring stations operated by state, local, tribal, and federal agencies.\n",
    "\n",
    "The AQS API offers row-level data on pollutant measurements, site metadata, and meteorological conditions, enabling research in environmental science, public health, and policy. AQS data include information about criteria pollutants like particulate matter (PM2.5 and PM10), ozone, sulfur dioxide, carbon monoxide, nitrogen dioxide, and lead.  For a complete list of all pollutants available from the AQS data repository, refer tot he [AQS Codes and Descriptions List](https://www.epa.gov/aqs/aqs-code-list). These data are highly valuable for understanding air quality trends and analyzing the relationship between pollution exposure and health outcomes across different demographics and geographies.\n",
    "\n",
    "The [RAQSAPI package](https://cran.r-project.org/web/packages/RAQSAPI/index.html) is a tool for retrieving and managing AQS data in R, facilitating direct, programmatic access to EPA’s air quality database. By interfacing with the AQS API, RAQSAPI enables users to retrieve historical air quality data for specific pollutants, states, moitoring sites, or time periods directly into R for analysis."
   ]
  },
  {
   "cell_type": "markdown",
   "id": "3a8e4e10-be36-4b5a-baa8-bb7c8e6bda2a",
   "metadata": {},
   "source": [
    "### The EPA Air Quality System (AQS) API\n",
    "\n",
    "The RAQSAPI package uses the [EPA's Air Quality System (AQS) API](https://aqs.epa.gov/aqsweb/documents/data_api.html) to extract data requests from the AQS data repository.  An [API (Application Programming Interface)](https://en.wikipedia.org/wiki/API) is a set of rules and protocols that allow different software applications to communicate with each other. APIs enable automated access to data and services, allowing users to retrieve, manipulate, and manage information without directly interacting with a website or user interface. An API provides a streamlined, programmatic way to access data, making it possible to request and download datasets directly within R.\n",
    "\n",
    "#### Create Your AQS Account and API Key\n",
    "\n",
    "To use the AQS API, users need to register for an API key.  To register via email, update the following link with your email address (replace \"myemail@example.com\" in the example with your email address) and navigate to the link.\n",
    "\n",
    "https://aqs.epa.gov/data/api/signup?email=myemail@example.com\n",
    "\n",
    "An email containing your API key will be sent to the registered address from aqsdatamart@epa.gov."
   ]
  },
  {
   "cell_type": "markdown",
   "id": "64814d69-4559-4268-bb53-a182824b43b8",
   "metadata": {},
   "source": [
    "## Next Steps\n",
    "\n",
    "From here, we recommend exploring the following notebooks:\n",
    "\n",
    "* **Buffer Analysis**"
   ]
  }
 ],
 "metadata": {
  "kernelspec": {
   "display_name": "R",
   "language": "R",
   "name": "ir"
  },
  "language_info": {
   "codemirror_mode": "r",
   "file_extension": ".r",
   "mimetype": "text/x-r-source",
   "name": "R",
   "pygments_lexer": "r",
   "version": "4.3.3"
  }
 },
 "nbformat": 4,
 "nbformat_minor": 5
}
