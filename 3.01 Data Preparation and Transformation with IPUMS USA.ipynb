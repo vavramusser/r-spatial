{
 "cells": [
  {
   "cell_type": "markdown",
   "id": "8e08d742-8677-4b94-9052-f0e492b7c26e",
   "metadata": {},
   "source": [
    "# Data Preparation and Transformation with IPUMS USA"
   ]
  },
  {
   "cell_type": "markdown",
   "id": "69e9f83b-932b-4bdb-89cd-d551f4352c6b",
   "metadata": {},
   "source": [
    "## Introduction\n",
    "\n",
    "This notebook is designed to guide you through a data cleaning workflow using 2010 ACS data previously downloaded from the [IPUMS USA](https://cps.ipums.org/usa) project using the [ipumsr R package](https://cran.r-project.org/web/packages/ipumsr/index.htm).\n",
    "\n",
    "This notebook is designed to be run directly after working through the **IPUMS ACS Data Extraction** notebook.  If you are working on this notebook without previously runnig the **IPUMS ACS Data Extraction** notebook, you will need to copy the \"IPUMS_ACS_5y_2022.rds\" file into your working directory prior to running this notebook.\n",
    "\n",
    "Users are also encouraged to revise this notebook for their own purposes and using their own data.\n",
    "\n",
    "By working through this notebook, you will learn some common workflows for cleanig and recoding population data.\n",
    "\n",
    "### ★ Prerequisites ★\n",
    "* Complete Chapter 1.1: Introduction to IPUMS and the IPUMS API\n",
    "* Set Up Your [IPUMS Account and API Key](https://account.ipums.org/api_keys)\n",
    "* Complete Chapter 1.2: IPUMS USA Data Extraction Using ipumsr\n",
    "\n",
    "At the end of Chapter 1.2: IPUMS USA Data Extraction Using ipumsr, you saved your data extraction as two file formats *ipums_usa_example.rds* and *ipums_usa_example.csv*.  You will need these files to run this notebook.  If you are working throuhg this chapter without previously completing, Chapter 1.2, you will need to copy the \"IPUMS_ACS_5y_2022.rds\" file into your working directory prior to running this notebook."
   ]
  },
  {
   "cell_type": "markdown",
   "id": "f2e3517d-61c4-49bf-b9ae-06f0e52d3bab",
   "metadata": {},
   "source": [
    "#### Overview\n",
    "This notebook includes the following sections:\n",
    "\n",
    "1. Setup\n",
    "2. Initial Review\n",
    "3. Cleaning and Recoding Continuous Variables\n",
    "5. Cleaning and Recoding Categorical Variables\n",
    "6. Final Review"
   ]
  },
  {
   "cell_type": "markdown",
   "id": "e05d95c1-55c8-470a-a8b6-f317f6cd87e7",
   "metadata": {},
   "source": [
    "## 1. Setup\n",
    "\n",
    "Before running this script, you will need to install and load the following packages into your R environment:\n",
    "\n",
    "[**dplyr**](https://cran.r-project.org/web/packages/dplyr/index.html) A Grammar of Data Manipulation. This notebook uses the the following functions from *dplyr*.\n",
    "\n",
    "* [*mutate*](https://rdrr.io/cran/dplyr/man/mutate.html) · create, modify, and delete columns\n",
    "* [*case_when*](https://rdrr.io/cran/dplyr/man/case_when.html) · a general vectorized if-else\n",
    "* This notebook also uses [*%>%*](https://magrittr.tidyverse.org/reference/pipe.html), referred to as the *pipe* operator, which is used to pass the output from one function directly into the next function for the purpose of creating streamlined workflows.  The *pipe* operator is a commonly used component of the [*tidyverse*](https://www.tidyverse.org).\n",
    "\n",
    "[**haven**](https://cran.r-project.org/web/packages/haven/index.html) Import and Export 'SPSS', 'Stata' and 'SAS' Files.  This notebook uses the the following functions from *haven*.\n",
    "\n",
    "* [*as_factor()*](https://rdrr.io/cran/haven/man/as_factor.html) · for formating categorical variables as factors.\n",
    "\n",
    "### 1a. Install and Load Required Packages\n",
    "If you have not already installed the required packages, uncomment and run the code below:"
   ]
  },
  {
   "cell_type": "code",
   "execution_count": 9,
   "id": "9d39c474-e2a6-4845-9c31-edffcb536e21",
   "metadata": {},
   "outputs": [],
   "source": [
    "# install.packages(c(\"dplyr\", \"haven\"))"
   ]
  },
  {
   "cell_type": "markdown",
   "id": "e9b97492-bde1-4140-ad26-b7d73bdc9a21",
   "metadata": {},
   "source": [
    "Load the packages into your workspace."
   ]
  },
  {
   "cell_type": "code",
   "execution_count": 2,
   "id": "51f10447-c644-49ab-b45b-4275c83cfb84",
   "metadata": {},
   "outputs": [
    {
     "name": "stderr",
     "output_type": "stream",
     "text": [
      "\n",
      "Attaching package: 'dplyr'\n",
      "\n",
      "\n",
      "The following objects are masked from 'package:stats':\n",
      "\n",
      "    filter, lag\n",
      "\n",
      "\n",
      "The following objects are masked from 'package:base':\n",
      "\n",
      "    intersect, setdiff, setequal, union\n",
      "\n",
      "\n"
     ]
    }
   ],
   "source": [
    "library(dplyr)\n",
    "library(haven)"
   ]
  },
  {
   "cell_type": "markdown",
   "id": "3466e722-d43f-466e-b8a4-2c59b37a2af1",
   "metadata": {},
   "source": [
    "### 1b. Read the Data File\n",
    "\n",
    "Run the following line of code to read in the *ipums_usa_example.rds* file into memory.  You may need to update the file path to reflect the file's location on your machine or in your working directory.\n",
    "\n",
    "The *ipums_usa_example.rds* file contains information from the 2010 ACS."
   ]
  },
  {
   "cell_type": "code",
   "execution_count": 4,
   "id": "dcef9e34-4eff-4690-b383-3b8a8014a5d7",
   "metadata": {},
   "outputs": [],
   "source": [
    "dat <- readRDS(\"ipums_usa_example.rds\")"
   ]
  },
  {
   "cell_type": "markdown",
   "id": "01fa9d70-849a-4ebe-80cf-89bdc29400ce",
   "metadata": {},
   "source": [
    "As a refresher, let's take a look at the number of observations and the variables in the data."
   ]
  },
  {
   "cell_type": "code",
   "execution_count": 5,
   "id": "0a65ff85-be0b-47ce-9041-d60a93c0138f",
   "metadata": {},
   "outputs": [
    {
     "data": {
      "text/html": [
       "<style>\n",
       ".list-inline {list-style: none; margin:0; padding: 0}\n",
       ".list-inline>li {display: inline-block}\n",
       ".list-inline>li:not(:last-child)::after {content: \"\\00b7\"; padding: 0 .5ex}\n",
       "</style>\n",
       "<ol class=list-inline><li>3061692</li><li>18</li></ol>\n"
      ],
      "text/latex": [
       "\\begin{enumerate*}\n",
       "\\item 3061692\n",
       "\\item 18\n",
       "\\end{enumerate*}\n"
      ],
      "text/markdown": [
       "1. 3061692\n",
       "2. 18\n",
       "\n",
       "\n"
      ],
      "text/plain": [
       "[1] 3061692      18"
      ]
     },
     "metadata": {},
     "output_type": "display_data"
    }
   ],
   "source": [
    "dim(dat)"
   ]
  },
  {
   "cell_type": "markdown",
   "id": "0c2d8916-03ce-42bc-92d3-086c45a3c620",
   "metadata": {},
   "source": [
    "The data includes information on 18 variables for 3,061,692 observations."
   ]
  },
  {
   "cell_type": "code",
   "execution_count": 7,
   "id": "d55c1341-fffc-4b44-9615-1a889c573360",
   "metadata": {},
   "outputs": [
    {
     "data": {
      "text/html": [
       "<style>\n",
       ".list-inline {list-style: none; margin:0; padding: 0}\n",
       ".list-inline>li {display: inline-block}\n",
       ".list-inline>li:not(:last-child)::after {content: \"\\00b7\"; padding: 0 .5ex}\n",
       "</style>\n",
       "<ol class=list-inline><li>'YEAR'</li><li>'SAMPLE'</li><li>'SERIAL'</li><li>'CBSERIAL'</li><li>'HHWT'</li><li>'CLUSTER'</li><li>'PUMA'</li><li>'STRATA'</li><li>'GQ'</li><li>'PERNUM'</li><li>'PERWT'</li><li>'SEX'</li><li>'AGE'</li><li>'RACE'</li><li>'RACED'</li><li>'EDUC'</li><li>'EDUCD'</li><li>'INCTOT'</li></ol>\n"
      ],
      "text/latex": [
       "\\begin{enumerate*}\n",
       "\\item 'YEAR'\n",
       "\\item 'SAMPLE'\n",
       "\\item 'SERIAL'\n",
       "\\item 'CBSERIAL'\n",
       "\\item 'HHWT'\n",
       "\\item 'CLUSTER'\n",
       "\\item 'PUMA'\n",
       "\\item 'STRATA'\n",
       "\\item 'GQ'\n",
       "\\item 'PERNUM'\n",
       "\\item 'PERWT'\n",
       "\\item 'SEX'\n",
       "\\item 'AGE'\n",
       "\\item 'RACE'\n",
       "\\item 'RACED'\n",
       "\\item 'EDUC'\n",
       "\\item 'EDUCD'\n",
       "\\item 'INCTOT'\n",
       "\\end{enumerate*}\n"
      ],
      "text/markdown": [
       "1. 'YEAR'\n",
       "2. 'SAMPLE'\n",
       "3. 'SERIAL'\n",
       "4. 'CBSERIAL'\n",
       "5. 'HHWT'\n",
       "6. 'CLUSTER'\n",
       "7. 'PUMA'\n",
       "8. 'STRATA'\n",
       "9. 'GQ'\n",
       "10. 'PERNUM'\n",
       "11. 'PERWT'\n",
       "12. 'SEX'\n",
       "13. 'AGE'\n",
       "14. 'RACE'\n",
       "15. 'RACED'\n",
       "16. 'EDUC'\n",
       "17. 'EDUCD'\n",
       "18. 'INCTOT'\n",
       "\n",
       "\n"
      ],
      "text/plain": [
       " [1] \"YEAR\"     \"SAMPLE\"   \"SERIAL\"   \"CBSERIAL\" \"HHWT\"     \"CLUSTER\" \n",
       " [7] \"PUMA\"     \"STRATA\"   \"GQ\"       \"PERNUM\"   \"PERWT\"    \"SEX\"     \n",
       "[13] \"AGE\"      \"RACE\"     \"RACED\"    \"EDUC\"     \"EDUCD\"    \"INCTOT\"  "
      ]
     },
     "metadata": {},
     "output_type": "display_data"
    }
   ],
   "source": [
    "colnames(dat)"
   ]
  },
  {
   "cell_type": "markdown",
   "id": "1a431ed9-368c-40bb-84bf-d070783384df",
   "metadata": {},
   "source": [
    "Below is a referece list of the variables included in this data extraction.\n",
    "\n",
    "**Variable Selection**\n",
    "* Public Use Microdata Area (PUMA)\n",
    "* Sex (SEX)\n",
    "* Age (AGE)\n",
    "* Race (RACE)\n",
    "* Educational Attainment (EDUC)\n",
    "* Total Personal Income (INCTOT)\n",
    "\n",
    "**Detailed Supplements for Selected Variables**\n",
    "* Race (detailed) (RACED)\n",
    "* Education (detailed) (EDUCD)\n",
    "\n",
    "**IPUMS Preselected Variables**\n",
    "* Census Year (YEAR)\n",
    "* IPUMS Sample Identifier (SAMPLE)\n",
    "* Household Serial Number (SERIAL)\n",
    "* Original Census Bureau Household Serial Number (CBSERIAL)\n",
    "* Household Weight (HHWT)\n",
    "* Household Cluster for Vaccine Estimation (CLUSTER)\n",
    "* Household Strata for Variance Estimation (STRATA)\n",
    "* Group Quarters Status (GQ)\n",
    "* Person Number in Sample Unit (PERNUM)\n",
    "* Person Weight (PERWT)"
   ]
  },
  {
   "cell_type": "code",
   "execution_count": 6,
   "id": "c2244332-5052-4710-b135-a3559b817f6b",
   "metadata": {},
   "outputs": [
    {
     "data": {
      "text/html": [
       "<table class=\"dataframe\">\n",
       "<caption>A tibble: 6 × 18</caption>\n",
       "<thead>\n",
       "\t<tr><th scope=col>YEAR</th><th scope=col>SAMPLE</th><th scope=col>SERIAL</th><th scope=col>CBSERIAL</th><th scope=col>HHWT</th><th scope=col>CLUSTER</th><th scope=col>PUMA</th><th scope=col>STRATA</th><th scope=col>GQ</th><th scope=col>PERNUM</th><th scope=col>PERWT</th><th scope=col>SEX</th><th scope=col>AGE</th><th scope=col>RACE</th><th scope=col>RACED</th><th scope=col>EDUC</th><th scope=col>EDUCD</th><th scope=col>INCTOT</th></tr>\n",
       "\t<tr><th scope=col>&lt;int&gt;</th><th scope=col>&lt;int+lbl&gt;</th><th scope=col>&lt;dbl&gt;</th><th scope=col>&lt;dbl&gt;</th><th scope=col>&lt;dbl&gt;</th><th scope=col>&lt;dbl&gt;</th><th scope=col>&lt;dbl+lbl&gt;</th><th scope=col>&lt;dbl&gt;</th><th scope=col>&lt;int+lbl&gt;</th><th scope=col>&lt;dbl&gt;</th><th scope=col>&lt;dbl&gt;</th><th scope=col>&lt;int+lbl&gt;</th><th scope=col>&lt;int+lbl&gt;</th><th scope=col>&lt;int+lbl&gt;</th><th scope=col>&lt;int+lbl&gt;</th><th scope=col>&lt;int+lbl&gt;</th><th scope=col>&lt;int+lbl&gt;</th><th scope=col>&lt;dbl+lbl&gt;</th></tr>\n",
       "</thead>\n",
       "<tbody>\n",
       "\t<tr><td>2010</td><td>201001</td><td>1</td><td> 69</td><td>96</td><td>2.01e+12</td><td> 400</td><td> 40001</td><td>1</td><td>1</td><td> 96</td><td>2</td><td>75</td><td>1</td><td>100</td><td> 6</td><td> 63</td><td>   7500</td></tr>\n",
       "\t<tr><td>2010</td><td>201001</td><td>2</td><td> 80</td><td>97</td><td>2.01e+12</td><td>2200</td><td>220001</td><td>1</td><td>1</td><td> 97</td><td>1</td><td>25</td><td>1</td><td>100</td><td>11</td><td>114</td><td>  17000</td></tr>\n",
       "\t<tr><td>2010</td><td>201001</td><td>2</td><td> 80</td><td>97</td><td>2.01e+12</td><td>2200</td><td>220001</td><td>1</td><td>2</td><td>128</td><td>2</td><td>26</td><td>1</td><td>100</td><td> 7</td><td> 71</td><td>  13000</td></tr>\n",
       "\t<tr><td>2010</td><td>201001</td><td>2</td><td> 80</td><td>97</td><td>2.01e+12</td><td>2200</td><td>220001</td><td>1</td><td>3</td><td>182</td><td>1</td><td> 3</td><td>1</td><td>100</td><td> 0</td><td>  2</td><td>9999999</td></tr>\n",
       "\t<tr><td>2010</td><td>201001</td><td>3</td><td>140</td><td>90</td><td>2.01e+12</td><td> 100</td><td> 10001</td><td>1</td><td>1</td><td> 90</td><td>2</td><td>87</td><td>1</td><td>100</td><td> 7</td><td> 71</td><td>  29400</td></tr>\n",
       "\t<tr><td>2010</td><td>201001</td><td>4</td><td>224</td><td>82</td><td>2.01e+12</td><td>1300</td><td>130001</td><td>1</td><td>1</td><td> 82</td><td>1</td><td>33</td><td>1</td><td>100</td><td>10</td><td>101</td><td>  28000</td></tr>\n",
       "</tbody>\n",
       "</table>\n"
      ],
      "text/latex": [
       "A tibble: 6 × 18\n",
       "\\begin{tabular}{llllllllllllllllll}\n",
       " YEAR & SAMPLE & SERIAL & CBSERIAL & HHWT & CLUSTER & PUMA & STRATA & GQ & PERNUM & PERWT & SEX & AGE & RACE & RACED & EDUC & EDUCD & INCTOT\\\\\n",
       " <int> & <int+lbl> & <dbl> & <dbl> & <dbl> & <dbl> & <dbl+lbl> & <dbl> & <int+lbl> & <dbl> & <dbl> & <int+lbl> & <int+lbl> & <int+lbl> & <int+lbl> & <int+lbl> & <int+lbl> & <dbl+lbl>\\\\\n",
       "\\hline\n",
       "\t 2010 & 201001 & 1 &  69 & 96 & 2.01e+12 &  400 &  40001 & 1 & 1 &  96 & 2 & 75 & 1 & 100 &  6 &  63 &    7500\\\\\n",
       "\t 2010 & 201001 & 2 &  80 & 97 & 2.01e+12 & 2200 & 220001 & 1 & 1 &  97 & 1 & 25 & 1 & 100 & 11 & 114 &   17000\\\\\n",
       "\t 2010 & 201001 & 2 &  80 & 97 & 2.01e+12 & 2200 & 220001 & 1 & 2 & 128 & 2 & 26 & 1 & 100 &  7 &  71 &   13000\\\\\n",
       "\t 2010 & 201001 & 2 &  80 & 97 & 2.01e+12 & 2200 & 220001 & 1 & 3 & 182 & 1 &  3 & 1 & 100 &  0 &   2 & 9999999\\\\\n",
       "\t 2010 & 201001 & 3 & 140 & 90 & 2.01e+12 &  100 &  10001 & 1 & 1 &  90 & 2 & 87 & 1 & 100 &  7 &  71 &   29400\\\\\n",
       "\t 2010 & 201001 & 4 & 224 & 82 & 2.01e+12 & 1300 & 130001 & 1 & 1 &  82 & 1 & 33 & 1 & 100 & 10 & 101 &   28000\\\\\n",
       "\\end{tabular}\n"
      ],
      "text/markdown": [
       "\n",
       "A tibble: 6 × 18\n",
       "\n",
       "| YEAR &lt;int&gt; | SAMPLE &lt;int+lbl&gt; | SERIAL &lt;dbl&gt; | CBSERIAL &lt;dbl&gt; | HHWT &lt;dbl&gt; | CLUSTER &lt;dbl&gt; | PUMA &lt;dbl+lbl&gt; | STRATA &lt;dbl&gt; | GQ &lt;int+lbl&gt; | PERNUM &lt;dbl&gt; | PERWT &lt;dbl&gt; | SEX &lt;int+lbl&gt; | AGE &lt;int+lbl&gt; | RACE &lt;int+lbl&gt; | RACED &lt;int+lbl&gt; | EDUC &lt;int+lbl&gt; | EDUCD &lt;int+lbl&gt; | INCTOT &lt;dbl+lbl&gt; |\n",
       "|---|---|---|---|---|---|---|---|---|---|---|---|---|---|---|---|---|---|\n",
       "| 2010 | 201001 | 1 |  69 | 96 | 2.01e+12 |  400 |  40001 | 1 | 1 |  96 | 2 | 75 | 1 | 100 |  6 |  63 |    7500 |\n",
       "| 2010 | 201001 | 2 |  80 | 97 | 2.01e+12 | 2200 | 220001 | 1 | 1 |  97 | 1 | 25 | 1 | 100 | 11 | 114 |   17000 |\n",
       "| 2010 | 201001 | 2 |  80 | 97 | 2.01e+12 | 2200 | 220001 | 1 | 2 | 128 | 2 | 26 | 1 | 100 |  7 |  71 |   13000 |\n",
       "| 2010 | 201001 | 2 |  80 | 97 | 2.01e+12 | 2200 | 220001 | 1 | 3 | 182 | 1 |  3 | 1 | 100 |  0 |   2 | 9999999 |\n",
       "| 2010 | 201001 | 3 | 140 | 90 | 2.01e+12 |  100 |  10001 | 1 | 1 |  90 | 2 | 87 | 1 | 100 |  7 |  71 |   29400 |\n",
       "| 2010 | 201001 | 4 | 224 | 82 | 2.01e+12 | 1300 | 130001 | 1 | 1 |  82 | 1 | 33 | 1 | 100 | 10 | 101 |   28000 |\n",
       "\n"
      ],
      "text/plain": [
       "  YEAR SAMPLE SERIAL CBSERIAL HHWT CLUSTER  PUMA STRATA GQ PERNUM PERWT SEX AGE\n",
       "1 2010 201001 1       69      96   2.01e+12  400  40001 1  1       96   2   75 \n",
       "2 2010 201001 2       80      97   2.01e+12 2200 220001 1  1       97   1   25 \n",
       "3 2010 201001 2       80      97   2.01e+12 2200 220001 1  2      128   2   26 \n",
       "4 2010 201001 2       80      97   2.01e+12 2200 220001 1  3      182   1    3 \n",
       "5 2010 201001 3      140      90   2.01e+12  100  10001 1  1       90   2   87 \n",
       "6 2010 201001 4      224      82   2.01e+12 1300 130001 1  1       82   1   33 \n",
       "  RACE RACED EDUC EDUCD INCTOT \n",
       "1 1    100    6    63      7500\n",
       "2 1    100   11   114     17000\n",
       "3 1    100    7    71     13000\n",
       "4 1    100    0     2   9999999\n",
       "5 1    100    7    71     29400\n",
       "6 1    100   10   101     28000"
      ]
     },
     "metadata": {},
     "output_type": "display_data"
    }
   ],
   "source": [
    "head(dat)"
   ]
  },
  {
   "cell_type": "markdown",
   "id": "cb504823-1749-45bb-aaa5-9ab552b65150",
   "metadata": {},
   "source": [
    "Notice that this data is in *[tibble](https://tibble.tidyverse.org)* format rather than the more common *data.frame* format you might be used if you are a regular R user.  A tibble can be thought of as a version of a data.frame that includes additional functionality and metadata visibility.  It is also more compatible with [*tidyverse*](https://www.tidyverse.org) packages, including the [*dplyr*](https://cran.r-project.org/web/packages/dplyr/index.html) package we use in this notebook."
   ]
  },
  {
   "cell_type": "markdown",
   "id": "84d45a4d-52bc-4fdf-a9a4-eba65771e9ec",
   "metadata": {},
   "source": [
    "## 2. Review the Data\n",
    "\n",
    "First, let's start with a quick summary using the *summary* command in base R.  We will restrict the summary view to just the subset of demographic variables since those are the variables we will focus on in the data cleaning process for this exercise.\n",
    "\n",
    "The *summary* command provides a overview of our data and is a quick and easy way of exploring the structure of our data as well as potential issues."
   ]
  },
  {
   "cell_type": "code",
   "execution_count": 8,
   "id": "0447fa3b-9fb3-458a-9a35-2018e0611002",
   "metadata": {},
   "outputs": [
    {
     "data": {
      "text/plain": [
       "      SEX             AGE             RACE           RACED      \n",
       " Min.   :1.000   Min.   : 0.00   Min.   :1.000   Min.   :100.0  \n",
       " 1st Qu.:1.000   1st Qu.:19.00   1st Qu.:1.000   1st Qu.:100.0  \n",
       " Median :2.000   Median :40.00   Median :1.000   Median :100.0  \n",
       " Mean   :1.514   Mean   :39.69   Mean   :1.738   Mean   :175.5  \n",
       " 3rd Qu.:2.000   3rd Qu.:58.00   3rd Qu.:1.000   3rd Qu.:100.0  \n",
       " Max.   :2.000   Max.   :95.00   Max.   :9.000   Max.   :990.0  \n",
       "      EDUC            EDUCD            INCTOT       \n",
       " Min.   : 0.000   Min.   :  1.00   Min.   : -15870  \n",
       " 1st Qu.: 3.000   1st Qu.: 30.00   1st Qu.:   9600  \n",
       " Median : 6.000   Median : 63.00   Median :  30000  \n",
       " Mean   : 5.838   Mean   : 60.81   Mean   :1879017  \n",
       " 3rd Qu.: 8.000   3rd Qu.: 81.00   3rd Qu.:  85000  \n",
       " Max.   :11.000   Max.   :116.00   Max.   :9999999  "
      ]
     },
     "metadata": {},
     "output_type": "display_data"
    }
   ],
   "source": [
    "summary(dat[, c(\"SEX\", \"AGE\", \"RACE\", \"RACED\", \"EDUC\", \"EDUCD\", \"INCTOT\")])"
   ]
  },
  {
   "cell_type": "markdown",
   "id": "06bd95aa-0024-4837-8c98-a255c3c75f76",
   "metadata": {},
   "source": [
    "We can see from this summary that all the variables are coded as numeric, even though many of them are categorical, such as \"race\" or \"worker class\".  The numeric values for these categorical variables are useless without data labels or a codebook reference.  Fortunately, the IPUMS extraction and download process included metadata for our data, which includes labels for relevant variables.  We can also refer to the [IPUMS website](https://usa.ipums.org/usa-action/variables/group/demog) for detailed information on each variable.  It is a good data stewardship practice to always have the codebook or other reference material nearby while performing the data cleaning process.\n",
    "\n",
    "The high-level summary also shows us a few potential issues with these data.\n",
    "\n",
    "1. **All variables are coded as numeric, even though many of them are actually categorical.**  It is very common to code categorical variables using numeric codes but it is important to remember that these categorical variables are useless without data labels or a codebook reference.  Fortunately, the IPUMS extraction and download process included metadata for our data, which includes labels for relevant variables.  We can also refer to the [IPUMS website](https://usa.ipums.org/usa-action/variables/group/demog) for detailed information on each variable.  It is a good data stewardship practice to always have the codebook or other reference material nearby while performing the data cleaning process.\n",
    "2. **There are no missing values.**  In the summary view of R, these would be indicated by a count of \"NA\" values for each of the variables.  While it is possible that our data actually has no missing values, it is also very possible that missing values are coded with a specific coding as mentioned in the section above.  Especailly with very large and complex datasets, we should retain a skepticism about the lack of missing values and review each variable and its corresponding labels and codebook during the cleaning process.\n",
    "3. **The largest total income (INCTOT) value is 9999999.**  While it is possible that this is the actual maximum total income value in the dataset, it is more likely that this is a topcoded reference value.  Often values in multiples of 9s, e.g. \"999\" or \"9999999\" indicate a topcoded value, missing, or other special value.  This quick summary overview reminds us that when we clean the INCTOT variable, we should be doubly sure to reference the codebook and data labels.\n",
    "\n",
    "In the next two sections we will review each of the demographic variables, keeping these potential issues at the front of our mind as we go.\n",
    "\n",
    "This process will involve looking for and managing and issues with the data, such as missing values or values which need to be recoded, as well as reorganizing variables to make them easier to use or to suit the needs of our project."
   ]
  },
  {
   "cell_type": "markdown",
   "id": "42366358-993f-421d-9e37-409a43bc4c86",
   "metadata": {},
   "source": [
    "## 3. Clean and Recode Categorical Variables\n",
    "\n",
    "We will start with the three categorical variables in our set demographic variables.  The categorical variables in our dataset include:\n",
    "\n",
    "* [sex (SEX)](https://usa.ipums.org/usa-action/variables/SEX#codes_section)\n",
    "* [race (RACE and RACED)](https://usa.ipums.org/usa-action/variables/RACE#codes_section)\n",
    "* [educational attainment (EDUC and EDUCD)](https://usa.ipums.org/usa-action/variables/EDUC#codes_section)"
   ]
  },
  {
   "cell_type": "markdown",
   "id": "04e07a94-14a7-434a-872f-23d70bc4fdca",
   "metadata": {},
   "source": [
    "To help us easily view the percent of the data which is represented by each variable level - as well as the data labels *{{variable}}*, count of observations *n*, and numeric level indicator *Code* - we will create and use following helper function *calculate_percentage*.  Alternately, we could use the base R function *table* which would provide us with the counts for each variable level but would not show the percents or labels."
   ]
  },
  {
   "cell_type": "code",
   "execution_count": null,
   "id": "2a5413c8-81bd-4eb2-81df-7c98adb3570e",
   "metadata": {},
   "outputs": [],
   "source": [
    "calculate_percentage <- function(data, variable) {\n",
    "    data %>%\n",
    "    count({{variable}}) %>%\n",
    "    mutate(\n",
    "        Code = row_number(),\n",
    "        {{variable}} := as_factor({{variable}}),\n",
    "        Percent = round(n / sum(n) * 100, 2)\n",
    "    ) %>%\n",
    "    select({{variable}}, Code, n, Percent)\n",
    "}"
   ]
  },
  {
   "cell_type": "markdown",
   "id": "eeabf85b-c239-4b22-8f39-78786d13788f",
   "metadata": {},
   "source": [
    "### 3a. Sex\n",
    "\n",
    "The [IPUMS codebook for SEX](https://usa.ipums.org/usa-action/variables/SEX#codes_section) shows us that there are three categories for this variable.\n",
    "\n",
    "1. Male\n",
    "2. Female\n",
    "9. Missing/blank\n",
    "\n",
    "Similar to the INCTOT case we talked about in the inital review, the SEX variable also has a special coding using 9s.  A code of 9 for SEX indicates a missing value.\n",
    "\n",
    "Let's take a look at the breakdown of the SEX variable in our data."
   ]
  },
  {
   "cell_type": "code",
   "execution_count": null,
   "id": "d970c063-d9a7-43cc-9683-8eeb038af121",
   "metadata": {},
   "outputs": [],
   "source": [
    "calculate_percentage(dat, SEX)"
   ]
  },
  {
   "cell_type": "markdown",
   "id": "f87d5b1a-c295-4982-9fb4-3c897819d66e",
   "metadata": {},
   "source": [
    "All values in the SEX variable in our data are 1 (male) or 2 (female) and there are no missing values."
   ]
  },
  {
   "cell_type": "markdown",
   "id": "03530487-3b29-4a4b-8b7f-771826f00e4e",
   "metadata": {},
   "source": [
    "### 3b. Race\n",
    "\n",
    "As we remember from our initial *summary* view, the IPUMS API call included both the RACE variable and a supplementary detailed race RACED variable.  The [IPUMS codebook for RACE and RACED](https://usa.ipums.org/usa-action/variables/RACE#codes_section) shows us that there are nine categories for the basic race variable (RACE) and 253 categories for the detailed race variable (RACED).\n",
    "\n",
    "Let's first take a look at the RACE variable."
   ]
  },
  {
   "cell_type": "code",
   "execution_count": null,
   "id": "1625c81f-48f0-4be7-ad96-a41baa089782",
   "metadata": {},
   "outputs": [],
   "source": [
    "calculate_percentage(dat, RACE)"
   ]
  },
  {
   "cell_type": "markdown",
   "id": "b1dfda0f-af7a-4c94-a80b-3f284dec1030",
   "metadata": {},
   "source": [
    "As we saw in the codebook, the RACE variable has nine categories, and our dataset indcludes individuals in each of the nine categories.\n",
    "\n",
    "**Note:** The acronym NEC, as in the \"Other race, nec\" category, stands for \"not elsewhere classified\" and is commonly used in demographic data.\n",
    "\n",
    "The RACE variable is an example of a very common occurrance in demographic data where one or a few categories represent the vast the majority of the data and the remaining categories are relatively rare.  In our sample over 70% of the individuals are White!  This sometimes poses an issue in analysis, especially if we are interested in focusing on minority populations.  We won't worry about it much here, but it is something to think about when you conduct your own analyses.\n",
    "\n",
    "We know that the detailed race variable (RACED) has a lot of categories (253).  Let's check how many of them are represented in our data."
   ]
  },
  {
   "cell_type": "code",
   "execution_count": null,
   "id": "ffb0da5f-cd2e-484a-a5fe-6209e05cb98c",
   "metadata": {},
   "outputs": [],
   "source": [
    "length(unique((dat$RACED)))"
   ]
  },
  {
   "cell_type": "markdown",
   "id": "a8b501fe-295b-450e-b8b7-6845a891afe9",
   "metadata": {},
   "source": [
    "The individuals in our data represent 137 of the possible 253 race categories.\n",
    "\n",
    "137 is still a lot of categories so we aren't going to attempt to view the full table for this variable.  Instead, let's take a look at the first ten categories."
   ]
  },
  {
   "cell_type": "code",
   "execution_count": null,
   "id": "c763ee96-cdd6-4ab2-a2f7-bced2122c83d",
   "metadata": {},
   "outputs": [],
   "source": [
    "head(calculate_percentage(dat, RACED), 10)"
   ]
  },
  {
   "cell_type": "markdown",
   "id": "f4439601-b5ad-432f-ad1e-671134a7e883",
   "metadata": {},
   "source": [
    "We can already see that this version of the race variable has a lot of additional information.  The first two categories (White and Black/African-American) are the same as the RACE variable but the next few categories split up the more general \"American Indian or Alaska Native\" cateogry and specify specific Native American tribes.  Without looking at the entire list of all categories in RACED we can get an idea of the level of detail included in this variable.\n",
    "\n",
    "This level of detail might come in handy later on if we use this data for a detailed race-based analysis.  But for now let's keep it simple and stick to just using the RACE variable."
   ]
  },
  {
   "cell_type": "markdown",
   "id": "ac56c4c0-fd91-465d-9a64-731846b4686d",
   "metadata": {},
   "source": [
    "#### Recoding the Race Variable\n",
    "\n",
    "Even the 9 race categories in the simple RACE variable is a lot, and if we are plannign to run a regression or do some other analysis where statistical power is important, we might want to simplify this variable even further.\n",
    "\n",
    "Depending on the type of analysis you conduct, it might be essential to reduce the number of cateogies - especially condensing categories with very few observations - so that you can run an analysis with sufficient statisitcal power.  When it comes to a variable like race, the practice of combining categories can be contentious and nuanced.  For this exercise, we will condense our data to five very commonly used race categories for working with data on the United States general population.  These are the categories currently in use for the U.S. Decennial Census.\n",
    "\n",
    "1. White\n",
    "2. Black or African-American\n",
    "3. American Indian or Alaska native\n",
    "4. Asian or Pacific Islander\n",
    "5. Some Other Race\n",
    "6. Two or More Races\n",
    "\n",
    "This process will condense our data down from 9 to 6 categories.  Individuals classified as \"4. Chinese\", \"5. Japanese\", \"6, Other Asian or Pacific Islander\" will be reclassified to the new \"4. Asian or Pacific Islander\" category and indiviuals classified as \"8. Two major races\" and \"9. Three or more major races\" will be reclassified the new \"6. Two or More Races\" category.\n",
    "\n",
    "We will use the *mutate()* and *case_when()* functions from the *dplyr* package to create a new variable (RACE_RECODE) based on information from the existing RACE variable."
   ]
  },
  {
   "cell_type": "code",
   "execution_count": null,
   "id": "42888329-c5fe-4975-b22e-2e181f85c7e3",
   "metadata": {},
   "outputs": [],
   "source": [
    "dat <- dat %>%\n",
    "  mutate(RACE_RECODE = case_when(\n",
    "    RACE == 1 ~ 1,\n",
    "    RACE == 2 ~ 2,\n",
    "    RACE == 3 ~ 3,\n",
    "    RACE %in% c(4, 5, 6) ~ 4,\n",
    "    RACE == 7 ~ 5,\n",
    "    RACE %in% c(8, 9) ~ 6))"
   ]
  },
  {
   "cell_type": "markdown",
   "id": "70ddce90-8b39-4c8e-8b6f-3b25e04581ba",
   "metadata": {},
   "source": [
    "We should also specify the new RACE_RECODE variable as a [**factor**](https://r4ds.hadley.nz/factors.html) which a data type used to represent categorical variables that have a limited and fixed set of possible categories.  The individual categories of a factor are usually referred to as \"levels\".  A nice feature of factors is that we can also set the order of the levels and add labels to each level.\n",
    "\n",
    "The RACE_RECODE only has five possible levels, corresponding to the five race groupings we created, so it fits the critera of a factor.    We will add labels in this step which will help us remembewhat races are grouped into the categories represented by r each of t RACE_RECODE levels.e."
   ]
  },
  {
   "cell_type": "code",
   "execution_count": null,
   "id": "52fcba0b-b6a8-4c72-bff4-c304f26b2184",
   "metadata": {},
   "outputs": [],
   "source": [
    "dat <- dat %>%\n",
    "  mutate(RACE_RECODE = factor(RACE_RECODE,\n",
    "                              levels = c(1, 2, 3, 4, 5, 6),\n",
    "                              labels = c(\"White\",\n",
    "                                         \"Black\",\n",
    "                                         \"American Indian or Native American\",\n",
    "                                         \"Asian or Pacific Islander\",\n",
    "                                         \"Other Race\",\n",
    "                                         \"Two or More Races\")))"
   ]
  },
  {
   "cell_type": "markdown",
   "id": "ded7c320-348c-4058-bbba-9383c1470b26",
   "metadata": {},
   "source": [
    "Let's take a look at the new variable."
   ]
  },
  {
   "cell_type": "code",
   "execution_count": null,
   "id": "1520d5d4-8ed3-4522-b97b-9b07e51a5ba0",
   "metadata": {},
   "outputs": [],
   "source": [
    "calculate_percentage(dat, RACE_RECODE)"
   ]
  },
  {
   "cell_type": "markdown",
   "id": "1f3e873b-3bc0-4674-828c-56be7120ca0d",
   "metadata": {},
   "source": [
    "We now have a new, simplified version of the RACE variable with fewer categories.  The smallest group (American Indian or Native American) corresponds to 1.18% of the population while the largest group (White) corresponds to 71.19% of the population."
   ]
  },
  {
   "cell_type": "markdown",
   "id": "162b90ab-4f48-44e1-8d35-3ece0c8caab0",
   "metadata": {},
   "source": [
    "### 3c. Education\n",
    "\n",
    "Similar to the RACE variable, the eductional attainment variable EDUC also has a supplementary, more detailed educational attainment variable EDUCD.  The EDUC and EDUCD variables provide information on total individual educational attainment.  The [IPUMS codebook for EDUC and EDUCD](https://usa.ipums.org/usa-action/variables/EDUCD#codes_section) shows us that there are 13 categories for the basic education variable (EDUC) and 44 categories for the detailed education variable (EDUCD).\n",
    "\n",
    "Let's first take a look at the EDUC variable."
   ]
  },
  {
   "cell_type": "code",
   "execution_count": null,
   "id": "de452f22-6cb1-4d85-916f-9a9a495da256",
   "metadata": {},
   "outputs": [],
   "source": [
    "calculate_percentage(dat, EDUC)"
   ]
  },
  {
   "cell_type": "markdown",
   "id": "c5914c99-a484-4cbd-acd2-0898a802c9bd",
   "metadata": {},
   "source": [
    "Taking a look at the EDUC variable, we can see that the first level corresponds to either \"N/A\" or \"no schooling\".  At the beginning of the EDA section, we mentioned the possibility of some variables having levels which correspond to missing or not applicable values.  Unfortunatly for us, the two components of the \"N/A or no schooling\" group correspond to two very different situations.  Most likely, we would want to seperate these two situations, recoding the \"N/A\" values as \"missing\" and either creating a seperate group for individuals with no schooling or combining them into a \"little or no schooling\" category.\n",
    "\n",
    "We can also see that, while the EDUC variable provides information on the number of years of education completed, it does not provide information on degree completion.  In most cases, there is a significant social and economic difference between actually receiving a high school diploma and completing 12 years of education but not receiving a high school diploma.  It would be best if we could explore additional detail for the individuals in some of these categories.\n",
    "\n",
    "Fortunatly, we have the EDUCD variable which has a lot more information on educational attainment.  Let's take a look at what information is available in EDUCD."
   ]
  },
  {
   "cell_type": "code",
   "execution_count": null,
   "id": "6eb877e8-1689-4de3-937f-828cea148610",
   "metadata": {},
   "outputs": [],
   "source": [
    "calculate_percentage(dat, EDUCD)"
   ]
  },
  {
   "cell_type": "markdown",
   "id": "e3aea276-8433-4545-8567-897bea5264e3",
   "metadata": {},
   "source": [
    "The EDUCD variable has many more categories including seperate categories for \"N/A\" and \"no schooling completed\" as well as detailed information on degree completion!"
   ]
  },
  {
   "cell_type": "markdown",
   "id": "44ad7d05-6bec-4c26-a394-b55ac5ab1434",
   "metadata": {},
   "source": [
    "#### Recoding the Education Variable\n",
    "\n",
    "Like with the RACE variable in the previous section, we are going to recode the education variable into a new set of groups which might be a bit more useful for analysis.  This time we will use information from the EDUCD variable since it contains the additional detail we need to be able to make groups for \"N/A\", \"no schooling\", and completion of specific degrees.\n",
    "\n",
    "Our recode will have the following seven categories.\n",
    "\n",
    "1. eight or fewer years of eduction (including no schooling)\n",
    "2. some high school (9-12 years, no degree)\n",
    "3. high school diploma, GED, or alternative credential completed\n",
    "4. some college (1+ years, no degree)\n",
    "5. associate's degree\n",
    "6. bachelor's degree\n",
    "7. advanced degree (master's, professional, or doctoral degree)\n",
    "\n",
    "This new variable will include missing values since we plan to recode instances of \"N/A\" to missing.  In R, missing values are represented by the special object *NA*.  Most analytical functions in R automatically ignore *NA* values or have an option to ignore them so recoding missing categories as *NA* will make things easier for us down the line."
   ]
  },
  {
   "cell_type": "code",
   "execution_count": null,
   "id": "af90221f-96e4-4404-87a3-d047c3f9d9ab",
   "metadata": {},
   "outputs": [],
   "source": [
    "dat <- dat %>%\n",
    "  mutate(EDUC_RECODE = case_when(\n",
    "    EDUCD == 1 ~ NA,                # N/A\n",
    "    EDUCD %in% c(2:26) ~ 1,         # eight or fewer years (including no schooling)\n",
    "    EDUCD %in% c(30:61) ~ 2,        # some high school (9-12 years, no degree)\n",
    "    EDUCD %in% c(63:64) ~ 3,        # high school diploma, GED, or alternative credential completed\n",
    "    EDUCD %in% c(65:71) ~ 4,        # some college (1+ years, no degree)\n",
    "    EDUCD == 81 ~ 5,                # associate's degree\n",
    "    EDUCD == 101 ~ 6,               # bachelor's degree\n",
    "    EDUCD %in% c(114:116) ~ 7))     # advanced degree (master's, professional, or doctoral degree)"
   ]
  },
  {
   "cell_type": "markdown",
   "id": "ca67bf8e-944c-4106-a72c-3eb7483d1d57",
   "metadata": {},
   "source": [
    "As with the RACE_RECODE variable in the previous section, we will classify the EDUC_RECODE as a factor and attach category labels."
   ]
  },
  {
   "cell_type": "code",
   "execution_count": null,
   "id": "033af000-a653-459f-b6b1-727d9f679a78",
   "metadata": {},
   "outputs": [],
   "source": [
    "dat <- dat %>%\n",
    "  mutate(EDUC_RECODE = factor(EDUC_RECODE,\n",
    "                              levels = c(1, 2, 3, 4, 5, 6, 7),\n",
    "                              labels = c(\"eight or fewer years\",\n",
    "                                         \"some high school, no degree\",\n",
    "                                         \"high school degree or equivalent\",\n",
    "                                         \"some college, no degree\",\n",
    "                                         \"associate's degree\",\n",
    "                                         \"bachelor's degree\",\n",
    "                                         \"advanced degree\")))"
   ]
  },
  {
   "cell_type": "markdown",
   "id": "52b6a9a1-fe69-45c8-82f2-b4a4deffeea0",
   "metadata": {},
   "source": [
    "Let's take a look at the new variable."
   ]
  },
  {
   "cell_type": "code",
   "execution_count": null,
   "id": "9e0745a6-ef1b-4530-b21b-69b4d0afd78a",
   "metadata": {},
   "outputs": [],
   "source": [
    "calculate_percentage(dat, EDUC_RECODE)"
   ]
  },
  {
   "cell_type": "markdown",
   "id": "9784d8d2-d513-4507-8785-41bf8526ceb7",
   "metadata": {},
   "source": [
    "Again we have a new, simplified version of the a categorical variable with fewer categories.  In this case, the new variable is both simplier than either of the original RACE and RACED variables and also reorganizes the data in a way which is more meaningful for the analyses we have in mind."
   ]
  },
  {
   "cell_type": "markdown",
   "id": "c66273a2-a857-470c-b335-b481be1e0b80",
   "metadata": {},
   "source": [
    "## 4. Clean and Recode Continuious Variables\n",
    "\n",
    "Now that we have finished reviewing the three categorical demographic varables, we will move on to the two continuous demographic variables.  The continuous variables in our dataset include:\n",
    "\n",
    "* [age (AGE)](https://usa.ipums.org/usa-action/variables/AGE#codes_section)\n",
    "* [individual total income (INCTOT)](https://usa.ipums.org/usa-action/variables/INCTOT#codes_section)"
   ]
  },
  {
   "cell_type": "markdown",
   "id": "3df79beb-7bd1-4aec-8bbf-20ab5b638215",
   "metadata": {},
   "source": [
    "### 4a. Age\n",
    "\n",
    "The AGE variable provides the numeric age, in years, for each indiviual in the sample.  Checking out the [IPUMS codebook for AGE](https://usa.ipums.org/usa-action/variables/AGE#codes_section) tells us that there is a missing value code corresponding to \"999\" but based on our initial review of the data, we don't appear to have any \"999\" codes and therefore no missing data for age.  We will double check for missing values in this step.\n",
    "\n",
    "We could use the *calculate_percentage* function we had been using for the categorical variables to view the AGE variable but that would give us a table for every age in the dataset, probably not very useful.\n",
    "\n",
    "Instead, let's take a look at the summary statistics using the *summary()* command from base R and distribution for this numeric variable using the historgam *hist()* command also from base R.\n",
    "\n",
    "Both functions are from base R!  The information and graphics they will provide are relatively simple and not very pretty but the commands are also simple and easy to remember, part of the base R environment (so they don't require any additional packages), and computationally non-intensive.  You could use more complicated functions to generate summary tables and visualizations but at this stage, when we just want quick snapshots of the data so we can make management decisions, the simple base R functions work great."
   ]
  },
  {
   "cell_type": "code",
   "execution_count": null,
   "id": "805d65ba-dd83-4b82-9f47-c220e1091d22",
   "metadata": {},
   "outputs": [],
   "source": [
    "summary(dat$AGE)"
   ]
  },
  {
   "cell_type": "markdown",
   "id": "b77ab0c3-449a-4234-8ec0-4438724fc749",
   "metadata": {},
   "source": [
    "Ages in this sample range from 0 to 97 which seems reasonable.  And we also can confirm that we don't have any instances of the \"999\" code indicating missing data."
   ]
  },
  {
   "cell_type": "code",
   "execution_count": null,
   "id": "98355078-53ad-4985-ad3d-1491261b3569",
   "metadata": {
    "scrolled": true
   },
   "outputs": [],
   "source": [
    "hist(dat$AGE, breaks = 50, main = \"Histogram of Age\", xlab = \"Age\")"
   ]
  },
  {
   "cell_type": "markdown",
   "id": "29ae8187-5e52-4e6d-8bb4-478073d6f7df",
   "metadata": {},
   "source": [
    "The distribution of ages, as shown in the histogram, also seems to be a reasonable representation of a random sample of the population.\n",
    "\n",
    "While the numeric AGE variable is very useful, it likely contains more detail that we will need for our analysis.  So let's create a new categorical age variable based on age ranges.  Our new variable will use the following commonly used age ranges for demographic and sociological research.\n",
    "\n",
    "1. 0 to 17 (children)\n",
    "2. 18 to 24 (young adults)\n",
    "3. 25 to 44\n",
    "4. 45 to 64\n",
    "5. 65+ (older adults; retirement age)\n",
    "\n",
    "We will use the *mutate()* function from the *dplyr* package to recode information from AGE variable into a new AGE_CAT variable."
   ]
  },
  {
   "cell_type": "code",
   "execution_count": null,
   "id": "25a463c2-624c-49c7-84a1-ca186fd02fb0",
   "metadata": {},
   "outputs": [],
   "source": [
    "dat <- dat %>%\n",
    "  mutate(AGE_CAT = case_when(\n",
    "    AGE < 18 ~ 1,\n",
    "    AGE %in% c(18:24) ~ 2,\n",
    "    AGE %in% c(25:44) ~ 3,\n",
    "    AGE %in% c(45:64) ~ 4,\n",
    "    AGE >= 65 ~ 5))"
   ]
  },
  {
   "cell_type": "markdown",
   "id": "17316492-62f9-4c31-803a-3b74163eaf9d",
   "metadata": {},
   "source": [
    "Although the original AGE variable was continuous, the new AGE_CAT variable is categorical and like RACE_RECODE and EDUC_RECODE, AGE_CAT is also a factor.  Therefore, we will specify AGE_CAT as a factor and set labels for each variable level using the same workflow we used for the cateogorical variables."
   ]
  },
  {
   "cell_type": "code",
   "execution_count": null,
   "id": "e9d65dcf-3bf8-4ad1-982c-93c525e4584d",
   "metadata": {},
   "outputs": [],
   "source": [
    "dat <- dat %>%\n",
    "  mutate(AGE_CAT = factor(AGE_CAT,\n",
    "                              levels = c(1, 2, 3, 4, 5),\n",
    "                              labels = c(\"under 18\",\n",
    "                                         \"18-24\",\n",
    "                                         \"25-44\",\n",
    "                                         \"45-64\",\n",
    "                                         \"65+\")))"
   ]
  },
  {
   "cell_type": "markdown",
   "id": "f35b2641-3bc0-4f5d-bd9d-7b66ee132523",
   "metadata": {},
   "source": [
    "Now that we have a labeled, categorical version of the AGE variable, let's take a look at the percent breakdown by age range."
   ]
  },
  {
   "cell_type": "code",
   "execution_count": null,
   "id": "eb5992f3-d32d-47bf-af74-bbf6e4680978",
   "metadata": {},
   "outputs": [],
   "source": [
    "calculate_percentage(dat, AGE_CAT)"
   ]
  },
  {
   "cell_type": "markdown",
   "id": "a26e3857-5530-430d-96ed-dde900e5b483",
   "metadata": {},
   "source": [
    "The new AGE_CAT variable simplifies the AGE information into a format which is likely easier for us to use and understand."
   ]
  },
  {
   "cell_type": "markdown",
   "id": "9116e38f-d049-4d92-8aa8-d78e30f39226",
   "metadata": {},
   "source": [
    "### 4b. Income\n",
    "\n",
    "The last demographic varaible we will work with is the income variable (INCTOT).  Like the age variable, the original version of this variable is numeric and specifes the exact income for each surveyed individual.  We can take a look at the \n",
    "\n",
    "As with AGE, rather than using the *calculate_percentage* function, we'll use the base R *summary()* function to check out the summary statistics for the variable, and the base R *hist()* function to view the distribution of income."
   ]
  },
  {
   "cell_type": "code",
   "execution_count": null,
   "id": "adf91f23-7d2b-4eff-ac83-7e4a8d842a7d",
   "metadata": {},
   "outputs": [],
   "source": [
    "summary(dat$INCTOT)"
   ]
  },
  {
   "cell_type": "markdown",
   "id": "8dd8b6c0-1ead-4620-838c-f8c3ef7756e5",
   "metadata": {},
   "source": [
    "The \"9999999\" maximum value should raise some alarm and remind you that we previously noticed the maximum INCTOT value is \"9999999\".  Something to be suspicious about..."
   ]
  },
  {
   "cell_type": "code",
   "execution_count": null,
   "id": "ab89983e-ce7b-4354-8ee9-b209a96206f0",
   "metadata": {},
   "outputs": [],
   "source": [
    "hist(dat$INCTOT, breaks = 100, main = \"Histogram of Total Income\", xlab = \"Total Income\")"
   ]
  },
  {
   "cell_type": "markdown",
   "id": "03673c2d-6533-4fc3-ae45-1088240e266f",
   "metadata": {},
   "source": [
    "The histogram showing the distribution of income values is another red flag that something is not right.  Numeric, continuous demographic variables almost always follow some type of normal or log-normal distribution.  However, there is clearly a large chunk of the data categorized at a very high value.  An anomaly which doesn't seem to follow the pattern of the rest of the data.\n",
    "\n",
    "The solution is to take a look at the [IPUMS codebook for INCTOT](https://usa.ipums.org/usa-action/variables/INCTOT#codes_section).  The codebooks tells us that value \"9999998\" indicates \"unknown\" and the value \"9999999\" indictes \"N/A\".\n",
    "\n",
    "So for our next step we should recode these two values as *NA* so they won't be included in any calculations or in while visualizing the distribution."
   ]
  },
  {
   "cell_type": "code",
   "execution_count": null,
   "id": "4d321417-c983-4cb3-b84c-ad0478474863",
   "metadata": {},
   "outputs": [],
   "source": [
    "dat <- dat %>%\n",
    "  mutate(INCTOT = na_if(INCTOT, 9999998),\n",
    "         INCTOT = na_if(INCTOT, 9999999))"
   ]
  },
  {
   "cell_type": "markdown",
   "id": "c61b2753-01c5-4b1e-a9a4-6da31fa7fd73",
   "metadata": {},
   "source": [
    "Let's take another look at the summary statistics and the distribution of values after recoding the missing information."
   ]
  },
  {
   "cell_type": "code",
   "execution_count": null,
   "id": "45d230c8-956c-4c92-91a5-6f33a84218e6",
   "metadata": {},
   "outputs": [],
   "source": [
    "summary(dat$INCTOT)"
   ]
  },
  {
   "cell_type": "code",
   "execution_count": null,
   "id": "b4e0ba6a-d371-43de-b6e0-c52e0e9623b2",
   "metadata": {},
   "outputs": [],
   "source": [
    "hist(dat$INCTOT, breaks = 100, main = \"Histogram of Total Income\", xlab = \"Total Income\")"
   ]
  },
  {
   "cell_type": "markdown",
   "id": "b8649fb8-d5b2-4238-aa0d-4f38920dedf4",
   "metadata": {},
   "source": [
    "After the recode the data summary and distribution appear much more as we would expect.  The distribution shows that the majority of the individuals in the sample have incomes around 200,000 or less but there are a few outliers ranging up to the largest income in the sample, 1.87 million.\n",
    "\n",
    "Similar to age, total income is not very useful as a raw number.  Instead, it's often more useful to look at income brackets rather than raw income values.\n",
    "\n",
    "A recode would be especially useful in our situation since we have an income distribution with a very long right tail, indicating that we have a few individuals with very high incomes who are skewing the overall distribution.  When we have a highly skewed dataset, values usually take on wildly different meanings at different parts of the distribution.  For example, the difference between an income of 10,000 and 50,000 corresponds to a very large difference in lifestyle and socioeconmic status.  However, the difference between an income of 1,010,000 and 1,050,000 is likely negligible, both very high incomes correspond to a similair lifestyle and very high socioeconomic status.\n",
    "\n",
    "We will recode the income variable in the following way:\n",
    "\n",
    "1. < 25,000 (low income)\n",
    "2. 25,000 to 49,999 (lower-middle income)\n",
    "3. 50,000 to 74,999 (middle income)\n",
    "4. 75,000 to 149,999 (upper-middle income)\n",
    "5. 150,000 or more (high income)"
   ]
  },
  {
   "cell_type": "code",
   "execution_count": null,
   "id": "ddbf394e-2da8-4108-ab8d-336f86fbfdd1",
   "metadata": {},
   "outputs": [],
   "source": [
    "dat <- dat %>%\n",
    "  mutate(INCTOT_CAT = case_when(\n",
    "    INCTOT < 25000 ~ 1,\n",
    "    INCTOT %in% c(25000:49999) ~ 2,\n",
    "    INCTOT %in% c(50000:74999) ~ 3,\n",
    "    INCTOT %in% c(75000:149999) ~ 4,\n",
    "    INCTOT >= 150000 ~ 5))"
   ]
  },
  {
   "cell_type": "markdown",
   "id": "d12624c1-5a75-4737-bb65-fc9ce82b21d2",
   "metadata": {},
   "source": [
    "As usuall, we will code this variable as a factor and create a set of labels for each level."
   ]
  },
  {
   "cell_type": "code",
   "execution_count": null,
   "id": "45fecb3d-a609-414b-ac5e-0595b080b696",
   "metadata": {},
   "outputs": [],
   "source": [
    "dat <- dat %>%\n",
    "  mutate(INCTOT_CAT = factor(INCTOT_CAT,\n",
    "                              levels = c(1, 2, 3, 4, 5),\n",
    "                              labels = c(\"under 25,000\",\n",
    "                                         \"25,000 to 49,999\",\n",
    "                                         \"50,000 to 74,999\",\n",
    "                                         \"75,000 to 149,999\",\n",
    "                                         \"150,000 or more\")))"
   ]
  },
  {
   "cell_type": "markdown",
   "id": "d1a4bec6-be08-438d-96da-da0b0fd5bd6f",
   "metadata": {},
   "source": [
    "Let's take a look at the percentage breakdown for our new categorical variable."
   ]
  },
  {
   "cell_type": "code",
   "execution_count": null,
   "id": "a0bc011f-0e58-454a-bd96-022ea4370432",
   "metadata": {},
   "outputs": [],
   "source": [
    "calculate_percentage(dat, INCTOT_CAT)"
   ]
  },
  {
   "cell_type": "markdown",
   "id": "39141151-bcf9-4599-a57f-a937989a91c8",
   "metadata": {},
   "source": [
    "As with AGE_CAT, the INCTOT_CAT variable simplifies the income information into a simplier format which is easier to understand and work with."
   ]
  },
  {
   "cell_type": "markdown",
   "id": "380dd7a1-587b-4651-80f4-fd3271fbacb9",
   "metadata": {},
   "source": [
    "## 5. Final Review\n",
    "\n",
    "We've completed initial data management and recode steps for each of the demographic variables we requested in our abstract.  Let's take a final look at the updated summary information including all the new demographic varaibles we created in this section."
   ]
  },
  {
   "cell_type": "code",
   "execution_count": null,
   "id": "b3975059-091e-4ab8-9544-0ba4bf48f261",
   "metadata": {},
   "outputs": [],
   "source": [
    "summary(dat[, c(\"SEX\", \"AGE\", \"AGE_CAT\", \"RACE\", \"RACED\", \"RACE_RECODE\", \"EDUC\", \"EDUCD\", \"EDUC_RECODE\", \"INCTOT\", \"INCTOT_CAT\")])"
   ]
  },
  {
   "cell_type": "markdown",
   "id": "bae022ce-688a-4d51-9063-8bd02c147147",
   "metadata": {},
   "source": [
    "We've made a lot of updates!  We now have categorical versions of our two continuous numeric variables, AGE and INCTOT, and new, recoded versions of RACE and EDUC.  We've also recoded the missing values in EDUC_RECODE and INC_TOT to *NA* so we can use these variables in analyses without having to worry about incorrectly treating the missing codes like real numers.\n",
    "\n",
    "Let's make a simplified version of the data, specifically for analysis, that only includes the variables we plan to keep.\n",
    "\n",
    "This step isn't essential but it will give us a smaller version of the data to work with in the next steps of our analysis which will be less confusing and less computationally intensive to work with.\n",
    "\n",
    "Specifically, we will restrict our data to the following demographic variables:\n",
    "\n",
    "1. sex (SEX)\n",
    "2. age (AGE)\n",
    "3. age categories (AGE_CAT)\n",
    "4. race categories (RACE_RECODE)\n",
    "5. educational attainment categories (EDUC_RECODE)\n",
    "6. income (INCTOT)\n",
    "7. income categories (INCTOT_CAT)\n",
    "\n",
    "And the two geographic identification variables we included in our original data extraction:\n",
    "\n",
    "6. state FIPS code (STATEFIP)\n",
    "7. county FIPS code (COUNTYFIP)"
   ]
  },
  {
   "cell_type": "code",
   "execution_count": null,
   "id": "9af87562-33fa-42ff-850b-fe6e00279d26",
   "metadata": {},
   "outputs": [],
   "source": [
    "dat_analysis <- dat %>% select(STATEFIP, COUNTYFIP, SEX, AGE, AGE_CAT, RACE_RECODE, EDUC_RECODE, INCTOT, INCTOT_CAT)"
   ]
  },
  {
   "cell_type": "markdown",
   "id": "6f906d80-d01a-41ab-9b37-5d69aa9b0b36",
   "metadata": {},
   "source": [
    "Let's take a look at the first few lines of *dat_analysis*."
   ]
  },
  {
   "cell_type": "code",
   "execution_count": null,
   "id": "608d434e-f3dc-4915-a71d-af8806368f9d",
   "metadata": {},
   "outputs": [],
   "source": [
    "head(dat_analysis)"
   ]
  },
  {
   "cell_type": "markdown",
   "id": "0f5c24c2-8f2a-4928-a4b7-fb083c0cd048",
   "metadata": {},
   "source": [
    "And a look at the summary information for *dat_analysis*."
   ]
  },
  {
   "cell_type": "code",
   "execution_count": null,
   "id": "18be50e3-1689-4dde-99be-99e86c7263bf",
   "metadata": {},
   "outputs": [],
   "source": [
    "summary(dat_analysis)"
   ]
  },
  {
   "cell_type": "markdown",
   "id": "45902040-521f-47c7-930b-c98f66841f07",
   "metadata": {},
   "source": [
    "We'll save a copy of *dat_analysis* in the .rds file format using the *saveRDS* base R function.  The .rds format will allow us to retain the labels and metadata in our dataset for the next time we want to import the same file back into R.  One downside to the .rds format is it is only useable within R.\n",
    "\n",
    "Alternatively we could save this file as a .csv or other common format which would allow us to easily open it in other settings.  However, for this exercise, we are simply interested in storing a copy of our data so that we can use it in another notebook withouth having to go through the data cleaning and labeling steps again."
   ]
  },
  {
   "cell_type": "code",
   "execution_count": 10,
   "id": "322019a2-694e-4a5e-88a9-9ec0a38f94f0",
   "metadata": {},
   "outputs": [
    {
     "ename": "ERROR",
     "evalue": "Error in eval(expr, envir, enclos): object 'dat_analysis' not found\n",
     "output_type": "error",
     "traceback": [
      "Error in eval(expr, envir, enclos): object 'dat_analysis' not found\nTraceback:\n",
      "1. saveRDS(dat_analysis, \"ipums_usa_analysis.rds\")"
     ]
    }
   ],
   "source": [
    "saveRDS(dat_analysis, \"ipums_usa_analysis.rds\")"
   ]
  },
  {
   "cell_type": "markdown",
   "id": "40156e6e-6b0b-40e0-9f9b-c96acd18ab26",
   "metadata": {},
   "source": [
    "We now have a cleaned, quality dataset saved and ready for our next step, exploratory data analysis (EDA)!"
   ]
  },
  {
   "cell_type": "markdown",
   "id": "50a2eb67-14ba-4b22-a30c-3c42837cfcf4",
   "metadata": {},
   "source": [
    "## Recommended Next Steps\n",
    "\n",
    "* **Continue with Chapter 3: Data Cleaning and Preparation**\n",
    "  * 3.2: Spatial Data Preparation and Transformation with IPUMS NHGIS\n",
    "* **Move on to Chapter 4: Exploratory Data Analysis (EDA)**\n",
    "  * 4.1: Exploratory Data Analysis (EDA) with IPUMS USA"
   ]
  },
  {
   "cell_type": "code",
   "execution_count": null,
   "id": "f3985d5e-e567-4219-80d6-0034781656b8",
   "metadata": {},
   "outputs": [],
   "source": []
  }
 ],
 "metadata": {
  "kernelspec": {
   "display_name": "R",
   "language": "R",
   "name": "ir"
  },
  "language_info": {
   "codemirror_mode": "r",
   "file_extension": ".r",
   "mimetype": "text/x-r-source",
   "name": "R",
   "pygments_lexer": "r",
   "version": "4.3.3"
  }
 },
 "nbformat": 4,
 "nbformat_minor": 5
}
