{
 "cells": [
  {
   "cell_type": "markdown",
   "id": "8e08d742-8677-4b94-9052-f0e492b7c26e",
   "metadata": {},
   "source": [
    "# Data Cleaning with IPUMS USA"
   ]
  },
  {
   "cell_type": "markdown",
   "id": "69e9f83b-932b-4bdb-89cd-d551f4352c6b",
   "metadata": {},
   "source": [
    "## Introduction\n",
    "\n",
    "This notebook is designed to guide you through a data cleaning workflow using 2017-2022 5-year American Community Survey (ACS) data previously downloaded from the [IPUMS USA](https://cps.ipums.org/usa) project using the [ipumsr R package](https://cran.r-project.org/web/packages/ipumsr/index.htm).\n",
    "\n",
    "This notebook is designed to be run directly after working through the **IPUMS ACS Data Extraction** notebook.  If you are working on this notebook without previously runnig the **IPUMS ACS Data Extraction** notebook, you will need to copy the \"IPUMS_ACS_5y_2022.rds\" file into your working directory prior to running this notebook.\n",
    "\n",
    "Users are also encouraged to revise this notebook for their own purposes and using their own data.\n",
    "\n",
    "By working through this notebook, you will learn some common workflows for cleanig and recoding population data."
   ]
  },
  {
   "cell_type": "markdown",
   "id": "f2e3517d-61c4-49bf-b9ae-06f0e52d3bab",
   "metadata": {},
   "source": [
    "#### Overview\n",
    "This notebook includes the following sections:\n",
    "\n",
    "1. Setup\n",
    "2. Initial Review\n",
    "3. Cleaning and Recoding Continuous Variables\n",
    "5. Cleaning and Recoding Categorical Variables\n",
    "6. Final Review"
   ]
  },
  {
   "cell_type": "markdown",
   "id": "e05d95c1-55c8-470a-a8b6-f317f6cd87e7",
   "metadata": {},
   "source": [
    "## 1. Setup\n",
    "\n",
    "Before running this script, you will need to install and load the following packages into your R environment:\n",
    "\n",
    "[**dplyr**](https://cran.r-project.org/web/packages/dplyr/index.html) A package for data manipulation that provides a consistent set of functions to filter, arrange, summarize, and transform data. *dplyr* makes it easy to work with data frames and perform operations efficiently.  This notebook uses the the following functions from *dplyr*.\n",
    "* [*mutate()*](https://dplyr.tidyverse.org/reference/mutate.html) for modifying dataframes\n",
    "* [*case_when()*](https://dplyr.tidyverse.org/reference/case_when.html) for creating or modifying new dataframe columns based on multiple conditions\n",
    "* This notebook also uses [*%>%*](https://magrittr.tidyverse.org/reference/pipe.html), referred to as the *pipe* operator, which is used to pass the output from one function directly into the next function for the purpose of creating streamlined workflows.  The *pipe* operator is a commonly used component of the [*tidyverse*](https://www.tidyverse.org).\n",
    "\n",
    "[**haven**](https://cran.r-project.org/web/packages/haven/index.html) A package primairly designed for importing and exporting SPSS, Stata, and SAS files.  This notebook uses the following functions from *haven*.\n",
    "\n",
    "* [*as_factor()*](https://haven.tidyverse.org/reference/as_factor.html) for formating categorical variables as factors.\n",
    "\n",
    "If you are working in the I-GUIDE environment, these packages should be already be installed but you you will still need to load them into your workspace using *library* function."
   ]
  },
  {
   "cell_type": "code",
   "execution_count": 2,
   "id": "51f10447-c644-49ab-b45b-4275c83cfb84",
   "metadata": {},
   "outputs": [
    {
     "name": "stderr",
     "output_type": "stream",
     "text": [
      "\n",
      "Attaching package: ‘dplyr’\n",
      "\n",
      "\n",
      "The following objects are masked from ‘package:stats’:\n",
      "\n",
      "    filter, lag\n",
      "\n",
      "\n",
      "The following objects are masked from ‘package:base’:\n",
      "\n",
      "    intersect, setdiff, setequal, union\n",
      "\n",
      "\n"
     ]
    }
   ],
   "source": [
    "library(dplyr)\n",
    "library(haven)"
   ]
  },
  {
   "cell_type": "markdown",
   "id": "3466e722-d43f-466e-b8a4-2c59b37a2af1",
   "metadata": {},
   "source": [
    "Run the following line of code to read in the \"IPUMS_ACS_5y_2022.rds\" file.  You may need to update the file path to reflect the file's location on your machine or in your working directory."
   ]
  },
  {
   "cell_type": "code",
   "execution_count": 3,
   "id": "dcef9e34-4eff-4690-b383-3b8a8014a5d7",
   "metadata": {},
   "outputs": [],
   "source": [
    "dat <- readRDS(\"IPUMS_ACS_5y_2022.rds\")"
   ]
  },
  {
   "cell_type": "markdown",
   "id": "01fa9d70-849a-4ebe-80cf-89bdc29400ce",
   "metadata": {},
   "source": [
    "If you previously ran the **IPUMS USA Data Extraction** notebook, the rest of this section will be redundant.  You can skip to the next section, **2. Initial Review**.\n",
    "\n",
    "Let's take a look at the number of observations and variables in the data."
   ]
  },
  {
   "cell_type": "code",
   "execution_count": 4,
   "id": "0a65ff85-be0b-47ce-9041-d60a93c0138f",
   "metadata": {},
   "outputs": [
    {
     "data": {
      "text/html": [
       "<style>\n",
       ".list-inline {list-style: none; margin:0; padding: 0}\n",
       ".list-inline>li {display: inline-block}\n",
       ".list-inline>li:not(:last-child)::after {content: \"\\00b7\"; padding: 0 .5ex}\n",
       "</style>\n",
       "<ol class=list-inline><li>15721123</li><li>20</li></ol>\n"
      ],
      "text/latex": [
       "\\begin{enumerate*}\n",
       "\\item 15721123\n",
       "\\item 20\n",
       "\\end{enumerate*}\n"
      ],
      "text/markdown": [
       "1. 15721123\n",
       "2. 20\n",
       "\n",
       "\n"
      ],
      "text/plain": [
       "[1] 15721123       20"
      ]
     },
     "metadata": {},
     "output_type": "display_data"
    }
   ],
   "source": [
    "dim(dat)"
   ]
  },
  {
   "cell_type": "markdown",
   "id": "0c2d8916-03ce-42bc-92d3-086c45a3c620",
   "metadata": {},
   "source": [
    "The 2022 5-year ACS data includes information on 20 variables for 15,721,123 individuals.  This makes sense since we know the ACS surveys about 3.5 million individuals and our dataset corresponds to five years of ACS data.\n",
    "\n",
    "Let's take a look at the first few lines of the data file."
   ]
  },
  {
   "cell_type": "code",
   "execution_count": 5,
   "id": "c2244332-5052-4710-b135-a3559b817f6b",
   "metadata": {},
   "outputs": [
    {
     "data": {
      "text/html": [
       "<table class=\"dataframe\">\n",
       "<caption>A tibble: 6 × 20</caption>\n",
       "<thead>\n",
       "\t<tr><th scope=col>YEAR</th><th scope=col>MULTYEAR</th><th scope=col>SAMPLE</th><th scope=col>SERIAL</th><th scope=col>CBSERIAL</th><th scope=col>HHWT</th><th scope=col>CLUSTER</th><th scope=col>STATEFIP</th><th scope=col>COUNTYFIP</th><th scope=col>STRATA</th><th scope=col>GQ</th><th scope=col>PERNUM</th><th scope=col>PERWT</th><th scope=col>SEX</th><th scope=col>AGE</th><th scope=col>RACE</th><th scope=col>RACED</th><th scope=col>EDUC</th><th scope=col>EDUCD</th><th scope=col>INCTOT</th></tr>\n",
       "\t<tr><th scope=col>&lt;int&gt;</th><th scope=col>&lt;dbl&gt;</th><th scope=col>&lt;int+lbl&gt;</th><th scope=col>&lt;dbl&gt;</th><th scope=col>&lt;dbl&gt;</th><th scope=col>&lt;dbl&gt;</th><th scope=col>&lt;dbl&gt;</th><th scope=col>&lt;int+lbl&gt;</th><th scope=col>&lt;dbl+lbl&gt;</th><th scope=col>&lt;dbl&gt;</th><th scope=col>&lt;int+lbl&gt;</th><th scope=col>&lt;dbl&gt;</th><th scope=col>&lt;dbl&gt;</th><th scope=col>&lt;int+lbl&gt;</th><th scope=col>&lt;int+lbl&gt;</th><th scope=col>&lt;int+lbl&gt;</th><th scope=col>&lt;int+lbl&gt;</th><th scope=col>&lt;int+lbl&gt;</th><th scope=col>&lt;int+lbl&gt;</th><th scope=col>&lt;dbl+lbl&gt;</th></tr>\n",
       "</thead>\n",
       "<tbody>\n",
       "\t<tr><td>2022</td><td>2018</td><td>202203</td><td>1</td><td>2.01801e+12</td><td>17</td><td>2.022e+12</td><td>1</td><td> 0</td><td>160001</td><td>4</td><td>1</td><td>17</td><td>2</td><td>19</td><td>1</td><td>100</td><td>6</td><td>65</td><td>-1754</td></tr>\n",
       "\t<tr><td>2022</td><td>2018</td><td>202203</td><td>2</td><td>2.01801e+12</td><td>17</td><td>2.022e+12</td><td>1</td><td>81</td><td>190001</td><td>4</td><td>1</td><td>17</td><td>2</td><td>18</td><td>2</td><td>200</td><td>6</td><td>65</td><td> 1870</td></tr>\n",
       "\t<tr><td>2022</td><td>2018</td><td>202203</td><td>3</td><td>2.01801e+12</td><td>24</td><td>2.022e+12</td><td>1</td><td> 0</td><td>200001</td><td>3</td><td>1</td><td>24</td><td>1</td><td>53</td><td>1</td><td>100</td><td>6</td><td>64</td><td>11691</td></tr>\n",
       "\t<tr><td>2022</td><td>2018</td><td>202203</td><td>4</td><td>2.01801e+12</td><td> 8</td><td>2.022e+12</td><td>1</td><td> 0</td><td>240001</td><td>3</td><td>1</td><td> 8</td><td>1</td><td>28</td><td>1</td><td>100</td><td>7</td><td>71</td><td>    0</td></tr>\n",
       "\t<tr><td>2022</td><td>2018</td><td>202203</td><td>5</td><td>2.01801e+12</td><td> 3</td><td>2.022e+12</td><td>1</td><td>97</td><td>270101</td><td>3</td><td>1</td><td> 3</td><td>2</td><td>25</td><td>1</td><td>100</td><td>3</td><td>30</td><td>    0</td></tr>\n",
       "\t<tr><td>2022</td><td>2018</td><td>202203</td><td>6</td><td>2.01801e+12</td><td> 4</td><td>2.022e+12</td><td>1</td><td> 0</td><td>240001</td><td>3</td><td>1</td><td> 4</td><td>2</td><td>30</td><td>1</td><td>100</td><td>6</td><td>63</td><td>    0</td></tr>\n",
       "</tbody>\n",
       "</table>\n"
      ],
      "text/latex": [
       "A tibble: 6 × 20\n",
       "\\begin{tabular}{llllllllllllllllllll}\n",
       " YEAR & MULTYEAR & SAMPLE & SERIAL & CBSERIAL & HHWT & CLUSTER & STATEFIP & COUNTYFIP & STRATA & GQ & PERNUM & PERWT & SEX & AGE & RACE & RACED & EDUC & EDUCD & INCTOT\\\\\n",
       " <int> & <dbl> & <int+lbl> & <dbl> & <dbl> & <dbl> & <dbl> & <int+lbl> & <dbl+lbl> & <dbl> & <int+lbl> & <dbl> & <dbl> & <int+lbl> & <int+lbl> & <int+lbl> & <int+lbl> & <int+lbl> & <int+lbl> & <dbl+lbl>\\\\\n",
       "\\hline\n",
       "\t 2022 & 2018 & 202203 & 1 & 2.01801e+12 & 17 & 2.022e+12 & 1 &  0 & 160001 & 4 & 1 & 17 & 2 & 19 & 1 & 100 & 6 & 65 & -1754\\\\\n",
       "\t 2022 & 2018 & 202203 & 2 & 2.01801e+12 & 17 & 2.022e+12 & 1 & 81 & 190001 & 4 & 1 & 17 & 2 & 18 & 2 & 200 & 6 & 65 &  1870\\\\\n",
       "\t 2022 & 2018 & 202203 & 3 & 2.01801e+12 & 24 & 2.022e+12 & 1 &  0 & 200001 & 3 & 1 & 24 & 1 & 53 & 1 & 100 & 6 & 64 & 11691\\\\\n",
       "\t 2022 & 2018 & 202203 & 4 & 2.01801e+12 &  8 & 2.022e+12 & 1 &  0 & 240001 & 3 & 1 &  8 & 1 & 28 & 1 & 100 & 7 & 71 &     0\\\\\n",
       "\t 2022 & 2018 & 202203 & 5 & 2.01801e+12 &  3 & 2.022e+12 & 1 & 97 & 270101 & 3 & 1 &  3 & 2 & 25 & 1 & 100 & 3 & 30 &     0\\\\\n",
       "\t 2022 & 2018 & 202203 & 6 & 2.01801e+12 &  4 & 2.022e+12 & 1 &  0 & 240001 & 3 & 1 &  4 & 2 & 30 & 1 & 100 & 6 & 63 &     0\\\\\n",
       "\\end{tabular}\n"
      ],
      "text/markdown": [
       "\n",
       "A tibble: 6 × 20\n",
       "\n",
       "| YEAR &lt;int&gt; | MULTYEAR &lt;dbl&gt; | SAMPLE &lt;int+lbl&gt; | SERIAL &lt;dbl&gt; | CBSERIAL &lt;dbl&gt; | HHWT &lt;dbl&gt; | CLUSTER &lt;dbl&gt; | STATEFIP &lt;int+lbl&gt; | COUNTYFIP &lt;dbl+lbl&gt; | STRATA &lt;dbl&gt; | GQ &lt;int+lbl&gt; | PERNUM &lt;dbl&gt; | PERWT &lt;dbl&gt; | SEX &lt;int+lbl&gt; | AGE &lt;int+lbl&gt; | RACE &lt;int+lbl&gt; | RACED &lt;int+lbl&gt; | EDUC &lt;int+lbl&gt; | EDUCD &lt;int+lbl&gt; | INCTOT &lt;dbl+lbl&gt; |\n",
       "|---|---|---|---|---|---|---|---|---|---|---|---|---|---|---|---|---|---|---|---|\n",
       "| 2022 | 2018 | 202203 | 1 | 2.01801e+12 | 17 | 2.022e+12 | 1 |  0 | 160001 | 4 | 1 | 17 | 2 | 19 | 1 | 100 | 6 | 65 | -1754 |\n",
       "| 2022 | 2018 | 202203 | 2 | 2.01801e+12 | 17 | 2.022e+12 | 1 | 81 | 190001 | 4 | 1 | 17 | 2 | 18 | 2 | 200 | 6 | 65 |  1870 |\n",
       "| 2022 | 2018 | 202203 | 3 | 2.01801e+12 | 24 | 2.022e+12 | 1 |  0 | 200001 | 3 | 1 | 24 | 1 | 53 | 1 | 100 | 6 | 64 | 11691 |\n",
       "| 2022 | 2018 | 202203 | 4 | 2.01801e+12 |  8 | 2.022e+12 | 1 |  0 | 240001 | 3 | 1 |  8 | 1 | 28 | 1 | 100 | 7 | 71 |     0 |\n",
       "| 2022 | 2018 | 202203 | 5 | 2.01801e+12 |  3 | 2.022e+12 | 1 | 97 | 270101 | 3 | 1 |  3 | 2 | 25 | 1 | 100 | 3 | 30 |     0 |\n",
       "| 2022 | 2018 | 202203 | 6 | 2.01801e+12 |  4 | 2.022e+12 | 1 |  0 | 240001 | 3 | 1 |  4 | 2 | 30 | 1 | 100 | 6 | 63 |     0 |\n",
       "\n"
      ],
      "text/plain": [
       "  YEAR MULTYEAR SAMPLE SERIAL CBSERIAL    HHWT CLUSTER   STATEFIP COUNTYFIP\n",
       "1 2022 2018     202203 1      2.01801e+12 17   2.022e+12 1         0       \n",
       "2 2022 2018     202203 2      2.01801e+12 17   2.022e+12 1        81       \n",
       "3 2022 2018     202203 3      2.01801e+12 24   2.022e+12 1         0       \n",
       "4 2022 2018     202203 4      2.01801e+12  8   2.022e+12 1         0       \n",
       "5 2022 2018     202203 5      2.01801e+12  3   2.022e+12 1        97       \n",
       "6 2022 2018     202203 6      2.01801e+12  4   2.022e+12 1         0       \n",
       "  STRATA GQ PERNUM PERWT SEX AGE RACE RACED EDUC EDUCD INCTOT\n",
       "1 160001 4  1      17    2   19  1    100   6    65    -1754 \n",
       "2 190001 4  1      17    2   18  2    200   6    65     1870 \n",
       "3 200001 3  1      24    1   53  1    100   6    64    11691 \n",
       "4 240001 3  1       8    1   28  1    100   7    71        0 \n",
       "5 270101 3  1       3    2   25  1    100   3    30        0 \n",
       "6 240001 3  1       4    2   30  1    100   6    63        0 "
      ]
     },
     "metadata": {},
     "output_type": "display_data"
    }
   ],
   "source": [
    "head(dat)"
   ]
  },
  {
   "cell_type": "markdown",
   "id": "cb504823-1749-45bb-aaa5-9ab552b65150",
   "metadata": {},
   "source": [
    "Notice that this data is in [\"tibble\"](https://tibble.tidyverse.org) format rather than the more common \"data.frame\" format you might be used to as an R user.  A tibble can be thought of as a version of a data.frame that includes additional functionality and metadata visibility.  It is also more compatible with the tidyverse packages, including the dplyr package we use in this notebook.\n",
    "\n",
    "We also appear to have a lot more columns than the set we requested from IPUMS.  The view above truncates the dataset to a subset of the columns for easier viewing.  Let's take a quick look at the list of column names so we can see all the variables included in this dataset."
   ]
  },
  {
   "cell_type": "code",
   "execution_count": 6,
   "id": "d55c1341-fffc-4b44-9615-1a889c573360",
   "metadata": {},
   "outputs": [
    {
     "data": {
      "text/html": [
       "<style>\n",
       ".list-inline {list-style: none; margin:0; padding: 0}\n",
       ".list-inline>li {display: inline-block}\n",
       ".list-inline>li:not(:last-child)::after {content: \"\\00b7\"; padding: 0 .5ex}\n",
       "</style>\n",
       "<ol class=list-inline><li>'YEAR'</li><li>'MULTYEAR'</li><li>'SAMPLE'</li><li>'SERIAL'</li><li>'CBSERIAL'</li><li>'HHWT'</li><li>'CLUSTER'</li><li>'STATEFIP'</li><li>'COUNTYFIP'</li><li>'STRATA'</li><li>'GQ'</li><li>'PERNUM'</li><li>'PERWT'</li><li>'SEX'</li><li>'AGE'</li><li>'RACE'</li><li>'RACED'</li><li>'EDUC'</li><li>'EDUCD'</li><li>'INCTOT'</li></ol>\n"
      ],
      "text/latex": [
       "\\begin{enumerate*}\n",
       "\\item 'YEAR'\n",
       "\\item 'MULTYEAR'\n",
       "\\item 'SAMPLE'\n",
       "\\item 'SERIAL'\n",
       "\\item 'CBSERIAL'\n",
       "\\item 'HHWT'\n",
       "\\item 'CLUSTER'\n",
       "\\item 'STATEFIP'\n",
       "\\item 'COUNTYFIP'\n",
       "\\item 'STRATA'\n",
       "\\item 'GQ'\n",
       "\\item 'PERNUM'\n",
       "\\item 'PERWT'\n",
       "\\item 'SEX'\n",
       "\\item 'AGE'\n",
       "\\item 'RACE'\n",
       "\\item 'RACED'\n",
       "\\item 'EDUC'\n",
       "\\item 'EDUCD'\n",
       "\\item 'INCTOT'\n",
       "\\end{enumerate*}\n"
      ],
      "text/markdown": [
       "1. 'YEAR'\n",
       "2. 'MULTYEAR'\n",
       "3. 'SAMPLE'\n",
       "4. 'SERIAL'\n",
       "5. 'CBSERIAL'\n",
       "6. 'HHWT'\n",
       "7. 'CLUSTER'\n",
       "8. 'STATEFIP'\n",
       "9. 'COUNTYFIP'\n",
       "10. 'STRATA'\n",
       "11. 'GQ'\n",
       "12. 'PERNUM'\n",
       "13. 'PERWT'\n",
       "14. 'SEX'\n",
       "15. 'AGE'\n",
       "16. 'RACE'\n",
       "17. 'RACED'\n",
       "18. 'EDUC'\n",
       "19. 'EDUCD'\n",
       "20. 'INCTOT'\n",
       "\n",
       "\n"
      ],
      "text/plain": [
       " [1] \"YEAR\"      \"MULTYEAR\"  \"SAMPLE\"    \"SERIAL\"    \"CBSERIAL\"  \"HHWT\"     \n",
       " [7] \"CLUSTER\"   \"STATEFIP\"  \"COUNTYFIP\" \"STRATA\"    \"GQ\"        \"PERNUM\"   \n",
       "[13] \"PERWT\"     \"SEX\"       \"AGE\"       \"RACE\"      \"RACED\"     \"EDUC\"     \n",
       "[19] \"EDUCD\"     \"INCTOT\"   "
      ]
     },
     "metadata": {},
     "output_type": "display_data"
    }
   ],
   "source": [
    "colnames(dat)"
   ]
  },
  {
   "cell_type": "markdown",
   "id": "1a431ed9-368c-40bb-84bf-d070783384df",
   "metadata": {},
   "source": [
    "The IPUMS R API included both the variables we asked for and some additional variables.\n",
    "\n",
    "We have the demographic variables we requested:\n",
    "\n",
    "1. sex (SEX)\n",
    "2. age (AGE)\n",
    "3. race (RACE)\n",
    "4. educational attainment (EDUC)\n",
    "5. total income (INCTOT)\n",
    "\n",
    "Along with more descriptive supplementary versions of some of our demographic variables:\n",
    "\n",
    "6. detailed race (RACED)\n",
    "7. detailed educational attainment (EDUCD)\n",
    "\n",
    "And the geographic variables we requested:\n",
    "\n",
    "8. state FIPS code (STATEFIP)\n",
    "9. county FIPS code (COUNTYFIP)\n",
    "\n",
    "IPUMS has also included a set of varibles which we did not specifically request but which are always included in the ACS data downloads:\n",
    "\n",
    "10. five-year summary reference year (YEAR) (i.e. 2022 for this data)\n",
    "11. survey year (MULTYEAR) (i.e. 2018, 2019, 2020, 2021, or 2022 for this data)\n",
    "12. sample identifier (SAMPLE)\n",
    "13. unique household identifier (SERIAL)\n",
    "14. Census Bureau unique household identifier (CBSERIAL)\n",
    "15. household survey weight (HHWT)\n",
    "16. primmary sampling unit or cluster (CLUSTER)\n",
    "17. stratification code (STRATA)\n",
    "18. group quarters code (GQ)\n",
    "19. person nunber within the household (PERNUM)\n",
    "20. person weight (PERWT)"
   ]
  },
  {
   "cell_type": "markdown",
   "id": "84d45a4d-52bc-4fdf-a9a4-eba65771e9ec",
   "metadata": {},
   "source": [
    "## 2. Initial Review\n",
    "\n",
    "First, let's start with a quick summary using the *summary* command in base R.  We will restrict the summary view to just the subset of demographic variables since those are the variables we will focus on in the data cleaning process for this exercise.\n",
    "\n",
    "The *summary* command provides a overview of our data and is a quick and easy way of exploring the structure of our data as well as potential issues."
   ]
  },
  {
   "cell_type": "code",
   "execution_count": 7,
   "id": "0447fa3b-9fb3-458a-9a35-2018e0611002",
   "metadata": {},
   "outputs": [
    {
     "data": {
      "text/plain": [
       "      SEX             AGE             RACE           RACED          EDUC       \n",
       " Min.   :1.000   Min.   : 0.00   Min.   :1.000   Min.   :100   Min.   : 0.000  \n",
       " 1st Qu.:1.000   1st Qu.:22.00   1st Qu.:1.000   1st Qu.:100   1st Qu.: 5.000  \n",
       " Median :2.000   Median :43.00   Median :1.000   Median :100   Median : 6.000  \n",
       " Mean   :1.509   Mean   :42.34   Mean   :2.208   Mean   :224   Mean   : 6.298  \n",
       " 3rd Qu.:2.000   3rd Qu.:62.00   3rd Qu.:2.000   3rd Qu.:200   3rd Qu.:10.000  \n",
       " Max.   :2.000   Max.   :97.00   Max.   :9.000   Max.   :990   Max.   :11.000  \n",
       "     EDUCD            INCTOT       \n",
       " Min.   :  1.00   Min.   : -13093  \n",
       " 1st Qu.: 50.00   1st Qu.:  12700  \n",
       " Median : 65.00   Median :  40210  \n",
       " Mean   : 65.43   Mean   :1632244  \n",
       " 3rd Qu.:101.00   3rd Qu.: 106384  \n",
       " Max.   :116.00   Max.   :9999999  "
      ]
     },
     "metadata": {},
     "output_type": "display_data"
    }
   ],
   "source": [
    "summary(dat[, c(\"SEX\", \"AGE\", \"RACE\", \"RACED\", \"EDUC\", \"EDUCD\", \"INCTOT\")])"
   ]
  },
  {
   "cell_type": "markdown",
   "id": "06bd95aa-0024-4837-8c98-a255c3c75f76",
   "metadata": {},
   "source": [
    "We can see from this summary that all the variables are coded as numeric, even though many of them are categorical, such as \"race\" or \"worker class\".  The numeric values for these categorical variables are useless without data labels or a codebook reference.  Fortunately, the IPUMS extraction and download process included metadata for our data, which includes labels for relevant variables.  We can also refer to the [IPUMS website](https://usa.ipums.org/usa-action/variables/group/demog) for detailed information on each variable.  It is a good data stewardship practice to always have the codebook or other reference material nearby while performing the data cleaning process.\n",
    "\n",
    "The high-level summary also shows us a few potential issues with these data.\n",
    "\n",
    "1. **All variables are coded as numeric, even though many of them are actually categorical.**  It is very common to code categorical variables using numeric codes but it is important to remember that these categorical variables are useless without data labels or a codebook reference.  Fortunately, the IPUMS extraction and download process included metadata for our data, which includes labels for relevant variables.  We can also refer to the [IPUMS website](https://usa.ipums.org/usa-action/variables/group/demog) for detailed information on each variable.  It is a good data stewardship practice to always have the codebook or other reference material nearby while performing the data cleaning process.\n",
    "2. **There are no missing values.**  In the summary view of R, these would be indicated by a count of \"NA\" values for each of the variables.  While it is possible that our data actually has no missing values, it is also very possible that missing values are coded with a specific coding as mentioned in the section above.  Especailly with very large and complex datasets, we should retain a skepticism about the lack of missing values and review each variable and its corresponding labels and codebook during the cleaning process.\n",
    "3. **The largest total income (INCTOT) value is 9999999.**  While it is possible that this is the actual maximum total income value in the dataset, it is more likely that this is a topcoded reference value.  Often values in multiples of 9s, e.g. \"999\" or \"9999999\" indicate a topcoded value, missing, or other special value.  This quick summary overview reminds us that when we clean the INCTOT variable, we should be doubly sure to reference the codebook and data labels.\n",
    "\n",
    "In the next two sections we will review each of the demographic variables, keeping these potential issues at the front of our mind as we go.\n",
    "\n",
    "This process will involve looking for and managing and issues with the data, such as missing values or values which need to be recoded, as well as reorganizing variables to make them easier to use or to suit the needs of our project."
   ]
  },
  {
   "cell_type": "markdown",
   "id": "42366358-993f-421d-9e37-409a43bc4c86",
   "metadata": {},
   "source": [
    "## 3. Cleaning and Recoding Categorical Variables\n",
    "\n",
    "We will start with the three categorical variables in our set demographic variables.  The categorical variables in our dataset include:\n",
    "\n",
    "* [sex (SEX)](https://usa.ipums.org/usa-action/variables/SEX#codes_section)\n",
    "* [race (RACE and RACED)](https://usa.ipums.org/usa-action/variables/RACE#codes_section)\n",
    "* [educational attainment (EDUC and EDUCD)](https://usa.ipums.org/usa-action/variables/EDUC#codes_section)"
   ]
  },
  {
   "cell_type": "markdown",
   "id": "04e07a94-14a7-434a-872f-23d70bc4fdca",
   "metadata": {},
   "source": [
    "To help us easily view the percent of the data which is represented by each variable level - as well as the data labels *{{variable}}*, count of observations *n*, and numeric level indicator *Code* - we will create and use following helper function *calculate_percentage*.  Alternately, we could use the base R function *table* which would provide us with the counts for each variable level but would not show the percents or labels."
   ]
  },
  {
   "cell_type": "code",
   "execution_count": 8,
   "id": "2a5413c8-81bd-4eb2-81df-7c98adb3570e",
   "metadata": {},
   "outputs": [],
   "source": [
    "calculate_percentage <- function(data, variable) {\n",
    "    data %>%\n",
    "    count({{variable}}) %>%\n",
    "    mutate(\n",
    "        Code = row_number(),\n",
    "        {{variable}} := as_factor({{variable}}),\n",
    "        Percent = round(n / sum(n) * 100, 2)\n",
    "    ) %>%\n",
    "    select({{variable}}, Code, n, Percent)\n",
    "}"
   ]
  },
  {
   "cell_type": "markdown",
   "id": "eeabf85b-c239-4b22-8f39-78786d13788f",
   "metadata": {},
   "source": [
    "### 3a. Sex\n",
    "\n",
    "The [IPUMS codebook for SEX](https://usa.ipums.org/usa-action/variables/SEX#codes_section) shows us that there are three categories for this variable.\n",
    "\n",
    "1. Male\n",
    "2. Female\n",
    "9. Missing/blank\n",
    "\n",
    "Similar to the INCTOT case we talked about in the inital review, the SEX variable also has a special coding using 9s.  A code of 9 for SEX indicates a missing value.\n",
    "\n",
    "Let's take a look at the breakdown of the SEX variable in our data."
   ]
  },
  {
   "cell_type": "code",
   "execution_count": 9,
   "id": "d970c063-d9a7-43cc-9683-8eeb038af121",
   "metadata": {},
   "outputs": [
    {
     "data": {
      "text/html": [
       "<table class=\"dataframe\">\n",
       "<caption>A tibble: 2 × 4</caption>\n",
       "<thead>\n",
       "\t<tr><th scope=col>SEX</th><th scope=col>Code</th><th scope=col>n</th><th scope=col>Percent</th></tr>\n",
       "\t<tr><th scope=col>&lt;fct&gt;</th><th scope=col>&lt;int&gt;</th><th scope=col>&lt;int&gt;</th><th scope=col>&lt;dbl&gt;</th></tr>\n",
       "</thead>\n",
       "<tbody>\n",
       "\t<tr><td>Male  </td><td>1</td><td>7722475</td><td>49.12</td></tr>\n",
       "\t<tr><td>Female</td><td>2</td><td>7998648</td><td>50.88</td></tr>\n",
       "</tbody>\n",
       "</table>\n"
      ],
      "text/latex": [
       "A tibble: 2 × 4\n",
       "\\begin{tabular}{llll}\n",
       " SEX & Code & n & Percent\\\\\n",
       " <fct> & <int> & <int> & <dbl>\\\\\n",
       "\\hline\n",
       "\t Male   & 1 & 7722475 & 49.12\\\\\n",
       "\t Female & 2 & 7998648 & 50.88\\\\\n",
       "\\end{tabular}\n"
      ],
      "text/markdown": [
       "\n",
       "A tibble: 2 × 4\n",
       "\n",
       "| SEX &lt;fct&gt; | Code &lt;int&gt; | n &lt;int&gt; | Percent &lt;dbl&gt; |\n",
       "|---|---|---|---|\n",
       "| Male   | 1 | 7722475 | 49.12 |\n",
       "| Female | 2 | 7998648 | 50.88 |\n",
       "\n"
      ],
      "text/plain": [
       "  SEX    Code n       Percent\n",
       "1 Male   1    7722475 49.12  \n",
       "2 Female 2    7998648 50.88  "
      ]
     },
     "metadata": {},
     "output_type": "display_data"
    }
   ],
   "source": [
    "calculate_percentage(dat, SEX)"
   ]
  },
  {
   "cell_type": "markdown",
   "id": "f87d5b1a-c295-4982-9fb4-3c897819d66e",
   "metadata": {},
   "source": [
    "All values in the SEX variable in our data are 1 (male) or 2 (female) and there are no missing values."
   ]
  },
  {
   "cell_type": "markdown",
   "id": "03530487-3b29-4a4b-8b7f-771826f00e4e",
   "metadata": {},
   "source": [
    "### 3b. Race\n",
    "\n",
    "As we remember from our initial *summary* view, the IPUMS API call included both the RACE variable and a supplementary detailed race RACED variable.  The [IPUMS codebook for RACE and RACED](https://usa.ipums.org/usa-action/variables/RACE#codes_section) shows us that there are nine categories for the basic race variable (RACE) and 253 categories for the detailed race variable (RACED).\n",
    "\n",
    "Let's first take a look at the RACE variable."
   ]
  },
  {
   "cell_type": "code",
   "execution_count": 10,
   "id": "1625c81f-48f0-4be7-ad96-a41baa089782",
   "metadata": {},
   "outputs": [
    {
     "data": {
      "text/html": [
       "<table class=\"dataframe\">\n",
       "<caption>A tibble: 9 × 4</caption>\n",
       "<thead>\n",
       "\t<tr><th scope=col>RACE</th><th scope=col>Code</th><th scope=col>n</th><th scope=col>Percent</th></tr>\n",
       "\t<tr><th scope=col>&lt;fct&gt;</th><th scope=col>&lt;int&gt;</th><th scope=col>&lt;int&gt;</th><th scope=col>&lt;dbl&gt;</th></tr>\n",
       "</thead>\n",
       "<tbody>\n",
       "\t<tr><td>White                           </td><td>1</td><td>11191212</td><td>71.19</td></tr>\n",
       "\t<tr><td>Black/African American          </td><td>2</td><td> 1463804</td><td> 9.31</td></tr>\n",
       "\t<tr><td>American Indian or Alaska Native</td><td>3</td><td>  184752</td><td> 1.18</td></tr>\n",
       "\t<tr><td>Chinese                         </td><td>4</td><td>  228640</td><td> 1.45</td></tr>\n",
       "\t<tr><td>Japanese                        </td><td>5</td><td>   40156</td><td> 0.26</td></tr>\n",
       "\t<tr><td>Other Asian or Pacific Islander </td><td>6</td><td>  660127</td><td> 4.20</td></tr>\n",
       "\t<tr><td>Other race, nec                 </td><td>7</td><td>  754861</td><td> 4.80</td></tr>\n",
       "\t<tr><td>Two major races                 </td><td>8</td><td> 1099410</td><td> 6.99</td></tr>\n",
       "\t<tr><td>Three or more major races       </td><td>9</td><td>   98161</td><td> 0.62</td></tr>\n",
       "</tbody>\n",
       "</table>\n"
      ],
      "text/latex": [
       "A tibble: 9 × 4\n",
       "\\begin{tabular}{llll}\n",
       " RACE & Code & n & Percent\\\\\n",
       " <fct> & <int> & <int> & <dbl>\\\\\n",
       "\\hline\n",
       "\t White                            & 1 & 11191212 & 71.19\\\\\n",
       "\t Black/African American           & 2 &  1463804 &  9.31\\\\\n",
       "\t American Indian or Alaska Native & 3 &   184752 &  1.18\\\\\n",
       "\t Chinese                          & 4 &   228640 &  1.45\\\\\n",
       "\t Japanese                         & 5 &    40156 &  0.26\\\\\n",
       "\t Other Asian or Pacific Islander  & 6 &   660127 &  4.20\\\\\n",
       "\t Other race, nec                  & 7 &   754861 &  4.80\\\\\n",
       "\t Two major races                  & 8 &  1099410 &  6.99\\\\\n",
       "\t Three or more major races        & 9 &    98161 &  0.62\\\\\n",
       "\\end{tabular}\n"
      ],
      "text/markdown": [
       "\n",
       "A tibble: 9 × 4\n",
       "\n",
       "| RACE &lt;fct&gt; | Code &lt;int&gt; | n &lt;int&gt; | Percent &lt;dbl&gt; |\n",
       "|---|---|---|---|\n",
       "| White                            | 1 | 11191212 | 71.19 |\n",
       "| Black/African American           | 2 |  1463804 |  9.31 |\n",
       "| American Indian or Alaska Native | 3 |   184752 |  1.18 |\n",
       "| Chinese                          | 4 |   228640 |  1.45 |\n",
       "| Japanese                         | 5 |    40156 |  0.26 |\n",
       "| Other Asian or Pacific Islander  | 6 |   660127 |  4.20 |\n",
       "| Other race, nec                  | 7 |   754861 |  4.80 |\n",
       "| Two major races                  | 8 |  1099410 |  6.99 |\n",
       "| Three or more major races        | 9 |    98161 |  0.62 |\n",
       "\n"
      ],
      "text/plain": [
       "  RACE                             Code n        Percent\n",
       "1 White                            1    11191212 71.19  \n",
       "2 Black/African American           2     1463804  9.31  \n",
       "3 American Indian or Alaska Native 3      184752  1.18  \n",
       "4 Chinese                          4      228640  1.45  \n",
       "5 Japanese                         5       40156  0.26  \n",
       "6 Other Asian or Pacific Islander  6      660127  4.20  \n",
       "7 Other race, nec                  7      754861  4.80  \n",
       "8 Two major races                  8     1099410  6.99  \n",
       "9 Three or more major races        9       98161  0.62  "
      ]
     },
     "metadata": {},
     "output_type": "display_data"
    }
   ],
   "source": [
    "calculate_percentage(dat, RACE)"
   ]
  },
  {
   "cell_type": "markdown",
   "id": "b1dfda0f-af7a-4c94-a80b-3f284dec1030",
   "metadata": {},
   "source": [
    "As we saw in the codebook, the RACE variable has nine categories, and our dataset indcludes individuals in each of the nine categories.\n",
    "\n",
    "**Note:** The acronym NEC, as in the \"Other race, nec\" category, stands for \"not elsewhere classified\" and is commonly used in demographic data.\n",
    "\n",
    "The RACE variable is an example of a very common occurrance in demographic data where one or a few categories represent the vast the majority of the data and the remaining categories are relatively rare.  In our sample over 70% of the individuals are White!  This sometimes poses an issue in analysis, especially if we are interested in focusing on minority populations.  We won't worry about it much here, but it is something to think about when you conduct your own analyses.\n",
    "\n",
    "We know that the detailed race variable (RACED) has a lot of categories (253).  Let's check how many of them are represented in our data."
   ]
  },
  {
   "cell_type": "code",
   "execution_count": 11,
   "id": "ffb0da5f-cd2e-484a-a5fe-6209e05cb98c",
   "metadata": {},
   "outputs": [
    {
     "data": {
      "text/html": [
       "137"
      ],
      "text/latex": [
       "137"
      ],
      "text/markdown": [
       "137"
      ],
      "text/plain": [
       "[1] 137"
      ]
     },
     "metadata": {},
     "output_type": "display_data"
    }
   ],
   "source": [
    "length(unique((dat$RACED)))"
   ]
  },
  {
   "cell_type": "markdown",
   "id": "a8b501fe-295b-450e-b8b7-6845a891afe9",
   "metadata": {},
   "source": [
    "The individuals in our data represent 137 of the possible 253 race categories.\n",
    "\n",
    "137 is still a lot of categories so we aren't going to attempt to view the full table for this variable.  Instead, let's take a look at the first ten categories."
   ]
  },
  {
   "cell_type": "code",
   "execution_count": 12,
   "id": "c763ee96-cdd6-4ab2-a2f7-bced2122c83d",
   "metadata": {},
   "outputs": [
    {
     "data": {
      "text/html": [
       "<table class=\"dataframe\">\n",
       "<caption>A tibble: 10 × 4</caption>\n",
       "<thead>\n",
       "\t<tr><th scope=col>RACED</th><th scope=col>Code</th><th scope=col>n</th><th scope=col>Percent</th></tr>\n",
       "\t<tr><th scope=col>&lt;fct&gt;</th><th scope=col>&lt;int&gt;</th><th scope=col>&lt;int&gt;</th><th scope=col>&lt;dbl&gt;</th></tr>\n",
       "</thead>\n",
       "<tbody>\n",
       "\t<tr><td>White                 </td><td> 1</td><td>11191212</td><td>71.19</td></tr>\n",
       "\t<tr><td>Black/African American</td><td> 2</td><td> 1463804</td><td> 9.31</td></tr>\n",
       "\t<tr><td>Apache                </td><td> 3</td><td>    3784</td><td> 0.02</td></tr>\n",
       "\t<tr><td>Blackfoot             </td><td> 4</td><td>    1563</td><td> 0.01</td></tr>\n",
       "\t<tr><td>Cherokee              </td><td> 5</td><td>   15772</td><td> 0.10</td></tr>\n",
       "\t<tr><td>Chickasaw             </td><td> 6</td><td>    1665</td><td> 0.01</td></tr>\n",
       "\t<tr><td>Chippewa              </td><td> 7</td><td>    6531</td><td> 0.04</td></tr>\n",
       "\t<tr><td>Choctaw               </td><td> 8</td><td>    5925</td><td> 0.04</td></tr>\n",
       "\t<tr><td>Creek                 </td><td> 9</td><td>    2715</td><td> 0.02</td></tr>\n",
       "\t<tr><td>Crow                  </td><td>10</td><td>     671</td><td> 0.00</td></tr>\n",
       "</tbody>\n",
       "</table>\n"
      ],
      "text/latex": [
       "A tibble: 10 × 4\n",
       "\\begin{tabular}{llll}\n",
       " RACED & Code & n & Percent\\\\\n",
       " <fct> & <int> & <int> & <dbl>\\\\\n",
       "\\hline\n",
       "\t White                  &  1 & 11191212 & 71.19\\\\\n",
       "\t Black/African American &  2 &  1463804 &  9.31\\\\\n",
       "\t Apache                 &  3 &     3784 &  0.02\\\\\n",
       "\t Blackfoot              &  4 &     1563 &  0.01\\\\\n",
       "\t Cherokee               &  5 &    15772 &  0.10\\\\\n",
       "\t Chickasaw              &  6 &     1665 &  0.01\\\\\n",
       "\t Chippewa               &  7 &     6531 &  0.04\\\\\n",
       "\t Choctaw                &  8 &     5925 &  0.04\\\\\n",
       "\t Creek                  &  9 &     2715 &  0.02\\\\\n",
       "\t Crow                   & 10 &      671 &  0.00\\\\\n",
       "\\end{tabular}\n"
      ],
      "text/markdown": [
       "\n",
       "A tibble: 10 × 4\n",
       "\n",
       "| RACED &lt;fct&gt; | Code &lt;int&gt; | n &lt;int&gt; | Percent &lt;dbl&gt; |\n",
       "|---|---|---|---|\n",
       "| White                  |  1 | 11191212 | 71.19 |\n",
       "| Black/African American |  2 |  1463804 |  9.31 |\n",
       "| Apache                 |  3 |     3784 |  0.02 |\n",
       "| Blackfoot              |  4 |     1563 |  0.01 |\n",
       "| Cherokee               |  5 |    15772 |  0.10 |\n",
       "| Chickasaw              |  6 |     1665 |  0.01 |\n",
       "| Chippewa               |  7 |     6531 |  0.04 |\n",
       "| Choctaw                |  8 |     5925 |  0.04 |\n",
       "| Creek                  |  9 |     2715 |  0.02 |\n",
       "| Crow                   | 10 |      671 |  0.00 |\n",
       "\n"
      ],
      "text/plain": [
       "   RACED                  Code n        Percent\n",
       "1  White                   1   11191212 71.19  \n",
       "2  Black/African American  2    1463804  9.31  \n",
       "3  Apache                  3       3784  0.02  \n",
       "4  Blackfoot               4       1563  0.01  \n",
       "5  Cherokee                5      15772  0.10  \n",
       "6  Chickasaw               6       1665  0.01  \n",
       "7  Chippewa                7       6531  0.04  \n",
       "8  Choctaw                 8       5925  0.04  \n",
       "9  Creek                   9       2715  0.02  \n",
       "10 Crow                   10        671  0.00  "
      ]
     },
     "metadata": {},
     "output_type": "display_data"
    }
   ],
   "source": [
    "head(calculate_percentage(dat, RACED), 10)"
   ]
  },
  {
   "cell_type": "markdown",
   "id": "f4439601-b5ad-432f-ad1e-671134a7e883",
   "metadata": {},
   "source": [
    "We can already see that this version of the race variable has a lot of additional information.  The first two categories (White and Black/African-American) are the same as the RACE variable but the next few categories split up the more general \"American Indian or Alaska Native\" cateogry and specify specific Native American tribes.  Without looking at the entire list of all categories in RACED we can get an idea of the level of detail included in this variable.\n",
    "\n",
    "This level of detail might come in handy later on if we use this data for a detailed race-based analysis.  But for now let's keep it simple and stick to just using the RACE variable."
   ]
  },
  {
   "cell_type": "markdown",
   "id": "ac56c4c0-fd91-465d-9a64-731846b4686d",
   "metadata": {},
   "source": [
    "#### Recoding the Race Variable\n",
    "\n",
    "Even the 9 race categories in the simple RACE variable is a lot, and if we are plannign to run a regression or do some other analysis where statistical power is important, we might want to simplify this variable even further.\n",
    "\n",
    "Depending on the type of analysis you conduct, it might be essential to reduce the number of cateogies - especially condensing categories with very few observations - so that you can run an analysis with sufficient statisitcal power.  When it comes to a variable like race, the practice of combining categories can be contentious and nuanced.  For this exercise, we will condense our data to five very commonly used race categories for working with data on the United States general population.  These are the categories currently in use for the U.S. Decennial Census.\n",
    "\n",
    "1. White\n",
    "2. Black or African-American\n",
    "3. American Indian or Alaska native\n",
    "4. Asian or Pacific Islander\n",
    "5. Some Other Race\n",
    "6. Two or More Races\n",
    "\n",
    "This process will condense our data down from 9 to 6 categories.  Individuals classified as \"4. Chinese\", \"5. Japanese\", \"6, Other Asian or Pacific Islander\" will be reclassified to the new \"4. Asian or Pacific Islander\" category and indiviuals classified as \"8. Two major races\" and \"9. Three or more major races\" will be reclassified the new \"6. Two or More Races\" category.\n",
    "\n",
    "We will use the *mutate()* and *case_when()* functions from the *dplyr* package to create a new variable (RACE_RECODE) based on information from the existing RACE variable."
   ]
  },
  {
   "cell_type": "code",
   "execution_count": 13,
   "id": "42888329-c5fe-4975-b22e-2e181f85c7e3",
   "metadata": {},
   "outputs": [],
   "source": [
    "dat <- dat %>%\n",
    "  mutate(RACE_RECODE = case_when(\n",
    "    RACE == 1 ~ 1,\n",
    "    RACE == 2 ~ 2,\n",
    "    RACE == 3 ~ 3,\n",
    "    RACE %in% c(4, 5, 6) ~ 4,\n",
    "    RACE == 7 ~ 5,\n",
    "    RACE %in% c(8, 9) ~ 6))"
   ]
  },
  {
   "cell_type": "markdown",
   "id": "70ddce90-8b39-4c8e-8b6f-3b25e04581ba",
   "metadata": {},
   "source": [
    "We should also specify the new RACE_RECODE variable as a [**factor**](https://r4ds.hadley.nz/factors.html) which a data type used to represent categorical variables that have a limited and fixed set of possible categories.  The individual categories of a factor are usually referred to as \"levels\".  A nice feature of factors is that we can also set the order of the levels and add labels to each level.\n",
    "\n",
    "The RACE_RECODE only has five possible levels, corresponding to the five race groupings we created, so it fits the critera of a factor.    We will add labels in this step which will help us remembewhat races are grouped into the categories represented by r each of t RACE_RECODE levels.e."
   ]
  },
  {
   "cell_type": "code",
   "execution_count": 14,
   "id": "52fcba0b-b6a8-4c72-bff4-c304f26b2184",
   "metadata": {},
   "outputs": [],
   "source": [
    "dat <- dat %>%\n",
    "  mutate(RACE_RECODE = factor(RACE_RECODE,\n",
    "                              levels = c(1, 2, 3, 4, 5, 6),\n",
    "                              labels = c(\"White\",\n",
    "                                         \"Black\",\n",
    "                                         \"American Indian or Native American\",\n",
    "                                         \"Asian or Pacific Islander\",\n",
    "                                         \"Other Race\",\n",
    "                                         \"Two or More Races\")))"
   ]
  },
  {
   "cell_type": "markdown",
   "id": "ded7c320-348c-4058-bbba-9383c1470b26",
   "metadata": {},
   "source": [
    "Let's take a look at the new variable."
   ]
  },
  {
   "cell_type": "code",
   "execution_count": 15,
   "id": "1520d5d4-8ed3-4522-b97b-9b07e51a5ba0",
   "metadata": {},
   "outputs": [
    {
     "data": {
      "text/html": [
       "<table class=\"dataframe\">\n",
       "<caption>A tibble: 6 × 4</caption>\n",
       "<thead>\n",
       "\t<tr><th scope=col>RACE_RECODE</th><th scope=col>Code</th><th scope=col>n</th><th scope=col>Percent</th></tr>\n",
       "\t<tr><th scope=col>&lt;fct&gt;</th><th scope=col>&lt;int&gt;</th><th scope=col>&lt;int&gt;</th><th scope=col>&lt;dbl&gt;</th></tr>\n",
       "</thead>\n",
       "<tbody>\n",
       "\t<tr><td>White                             </td><td>1</td><td>11191212</td><td>71.19</td></tr>\n",
       "\t<tr><td>Black                             </td><td>2</td><td> 1463804</td><td> 9.31</td></tr>\n",
       "\t<tr><td>American Indian or Native American</td><td>3</td><td>  184752</td><td> 1.18</td></tr>\n",
       "\t<tr><td>Asian or Pacific Islander         </td><td>4</td><td>  928923</td><td> 5.91</td></tr>\n",
       "\t<tr><td>Other Race                        </td><td>5</td><td>  754861</td><td> 4.80</td></tr>\n",
       "\t<tr><td>Two or More Races                 </td><td>6</td><td> 1197571</td><td> 7.62</td></tr>\n",
       "</tbody>\n",
       "</table>\n"
      ],
      "text/latex": [
       "A tibble: 6 × 4\n",
       "\\begin{tabular}{llll}\n",
       " RACE\\_RECODE & Code & n & Percent\\\\\n",
       " <fct> & <int> & <int> & <dbl>\\\\\n",
       "\\hline\n",
       "\t White                              & 1 & 11191212 & 71.19\\\\\n",
       "\t Black                              & 2 &  1463804 &  9.31\\\\\n",
       "\t American Indian or Native American & 3 &   184752 &  1.18\\\\\n",
       "\t Asian or Pacific Islander          & 4 &   928923 &  5.91\\\\\n",
       "\t Other Race                         & 5 &   754861 &  4.80\\\\\n",
       "\t Two or More Races                  & 6 &  1197571 &  7.62\\\\\n",
       "\\end{tabular}\n"
      ],
      "text/markdown": [
       "\n",
       "A tibble: 6 × 4\n",
       "\n",
       "| RACE_RECODE &lt;fct&gt; | Code &lt;int&gt; | n &lt;int&gt; | Percent &lt;dbl&gt; |\n",
       "|---|---|---|---|\n",
       "| White                              | 1 | 11191212 | 71.19 |\n",
       "| Black                              | 2 |  1463804 |  9.31 |\n",
       "| American Indian or Native American | 3 |   184752 |  1.18 |\n",
       "| Asian or Pacific Islander          | 4 |   928923 |  5.91 |\n",
       "| Other Race                         | 5 |   754861 |  4.80 |\n",
       "| Two or More Races                  | 6 |  1197571 |  7.62 |\n",
       "\n"
      ],
      "text/plain": [
       "  RACE_RECODE                        Code n        Percent\n",
       "1 White                              1    11191212 71.19  \n",
       "2 Black                              2     1463804  9.31  \n",
       "3 American Indian or Native American 3      184752  1.18  \n",
       "4 Asian or Pacific Islander          4      928923  5.91  \n",
       "5 Other Race                         5      754861  4.80  \n",
       "6 Two or More Races                  6     1197571  7.62  "
      ]
     },
     "metadata": {},
     "output_type": "display_data"
    }
   ],
   "source": [
    "calculate_percentage(dat, RACE_RECODE)"
   ]
  },
  {
   "cell_type": "markdown",
   "id": "1f3e873b-3bc0-4674-828c-56be7120ca0d",
   "metadata": {},
   "source": [
    "We now have a new, simplified version of the RACE variable with fewer categories.  The smallest group (American Indian or Native American) corresponds to 1.18% of the population while the largest group (White) corresponds to 71.19% of the population."
   ]
  },
  {
   "cell_type": "markdown",
   "id": "162b90ab-4f48-44e1-8d35-3ece0c8caab0",
   "metadata": {},
   "source": [
    "### 3c. Education\n",
    "\n",
    "Similar to the RACE variable, the eductional attainment variable EDUC also has a supplementary, more detailed educational attainment variable EDUCD.  The EDUC and EDUCD variables provide information on total individual educational attainment.  The [IPUMS codebook for EDUC and EDUCD](https://usa.ipums.org/usa-action/variables/EDUCD#codes_section) shows us that there are 13 categories for the basic education variable (EDUC) and 44 categories for the detailed education variable (EDUCD).\n",
    "\n",
    "Let's first take a look at the EDUC variable."
   ]
  },
  {
   "cell_type": "code",
   "execution_count": 16,
   "id": "de452f22-6cb1-4d85-916f-9a9a495da256",
   "metadata": {},
   "outputs": [
    {
     "data": {
      "text/html": [
       "<table class=\"dataframe\">\n",
       "<caption>A tibble: 11 × 4</caption>\n",
       "<thead>\n",
       "\t<tr><th scope=col>EDUC</th><th scope=col>Code</th><th scope=col>n</th><th scope=col>Percent</th></tr>\n",
       "\t<tr><th scope=col>&lt;fct&gt;</th><th scope=col>&lt;int&gt;</th><th scope=col>&lt;int&gt;</th><th scope=col>&lt;dbl&gt;</th></tr>\n",
       "</thead>\n",
       "<tbody>\n",
       "\t<tr><td>N/A or no schooling      </td><td> 1</td><td> 931255</td><td> 5.92</td></tr>\n",
       "\t<tr><td>Nursery school to grade 4</td><td> 2</td><td>1117203</td><td> 7.11</td></tr>\n",
       "\t<tr><td>Grade 5, 6, 7, or 8      </td><td> 3</td><td> 993865</td><td> 6.32</td></tr>\n",
       "\t<tr><td>Grade 9                  </td><td> 4</td><td> 319559</td><td> 2.03</td></tr>\n",
       "\t<tr><td>Grade 10                 </td><td> 5</td><td> 351462</td><td> 2.24</td></tr>\n",
       "\t<tr><td>Grade 11                 </td><td> 6</td><td> 395440</td><td> 2.52</td></tr>\n",
       "\t<tr><td>Grade 12                 </td><td> 7</td><td>4658839</td><td>29.63</td></tr>\n",
       "\t<tr><td>1 year of college        </td><td> 8</td><td>1799557</td><td>11.45</td></tr>\n",
       "\t<tr><td>2 years of college       </td><td> 9</td><td>1059890</td><td> 6.74</td></tr>\n",
       "\t<tr><td>4 years of college       </td><td>10</td><td>2492914</td><td>15.86</td></tr>\n",
       "\t<tr><td>5+ years of college      </td><td>11</td><td>1601139</td><td>10.18</td></tr>\n",
       "</tbody>\n",
       "</table>\n"
      ],
      "text/latex": [
       "A tibble: 11 × 4\n",
       "\\begin{tabular}{llll}\n",
       " EDUC & Code & n & Percent\\\\\n",
       " <fct> & <int> & <int> & <dbl>\\\\\n",
       "\\hline\n",
       "\t N/A or no schooling       &  1 &  931255 &  5.92\\\\\n",
       "\t Nursery school to grade 4 &  2 & 1117203 &  7.11\\\\\n",
       "\t Grade 5, 6, 7, or 8       &  3 &  993865 &  6.32\\\\\n",
       "\t Grade 9                   &  4 &  319559 &  2.03\\\\\n",
       "\t Grade 10                  &  5 &  351462 &  2.24\\\\\n",
       "\t Grade 11                  &  6 &  395440 &  2.52\\\\\n",
       "\t Grade 12                  &  7 & 4658839 & 29.63\\\\\n",
       "\t 1 year of college         &  8 & 1799557 & 11.45\\\\\n",
       "\t 2 years of college        &  9 & 1059890 &  6.74\\\\\n",
       "\t 4 years of college        & 10 & 2492914 & 15.86\\\\\n",
       "\t 5+ years of college       & 11 & 1601139 & 10.18\\\\\n",
       "\\end{tabular}\n"
      ],
      "text/markdown": [
       "\n",
       "A tibble: 11 × 4\n",
       "\n",
       "| EDUC &lt;fct&gt; | Code &lt;int&gt; | n &lt;int&gt; | Percent &lt;dbl&gt; |\n",
       "|---|---|---|---|\n",
       "| N/A or no schooling       |  1 |  931255 |  5.92 |\n",
       "| Nursery school to grade 4 |  2 | 1117203 |  7.11 |\n",
       "| Grade 5, 6, 7, or 8       |  3 |  993865 |  6.32 |\n",
       "| Grade 9                   |  4 |  319559 |  2.03 |\n",
       "| Grade 10                  |  5 |  351462 |  2.24 |\n",
       "| Grade 11                  |  6 |  395440 |  2.52 |\n",
       "| Grade 12                  |  7 | 4658839 | 29.63 |\n",
       "| 1 year of college         |  8 | 1799557 | 11.45 |\n",
       "| 2 years of college        |  9 | 1059890 |  6.74 |\n",
       "| 4 years of college        | 10 | 2492914 | 15.86 |\n",
       "| 5+ years of college       | 11 | 1601139 | 10.18 |\n",
       "\n"
      ],
      "text/plain": [
       "   EDUC                      Code n       Percent\n",
       "1  N/A or no schooling        1    931255  5.92  \n",
       "2  Nursery school to grade 4  2   1117203  7.11  \n",
       "3  Grade 5, 6, 7, or 8        3    993865  6.32  \n",
       "4  Grade 9                    4    319559  2.03  \n",
       "5  Grade 10                   5    351462  2.24  \n",
       "6  Grade 11                   6    395440  2.52  \n",
       "7  Grade 12                   7   4658839 29.63  \n",
       "8  1 year of college          8   1799557 11.45  \n",
       "9  2 years of college         9   1059890  6.74  \n",
       "10 4 years of college        10   2492914 15.86  \n",
       "11 5+ years of college       11   1601139 10.18  "
      ]
     },
     "metadata": {},
     "output_type": "display_data"
    }
   ],
   "source": [
    "calculate_percentage(dat, EDUC)"
   ]
  },
  {
   "cell_type": "markdown",
   "id": "c5914c99-a484-4cbd-acd2-0898a802c9bd",
   "metadata": {},
   "source": [
    "Taking a look at the EDUC variable, we can see that the first level corresponds to either \"N/A\" or \"no schooling\".  At the beginning of the EDA section, we mentioned the possibility of some variables having levels which correspond to missing or not applicable values.  Unfortunatly for us, the two components of the \"N/A or no schooling\" group correspond to two very different situations.  Most likely, we would want to seperate these two situations, recoding the \"N/A\" values as \"missing\" and either creating a seperate group for individuals with no schooling or combining them into a \"little or no schooling\" category.\n",
    "\n",
    "We can also see that, while the EDUC variable provides information on the number of years of education completed, it does not provide information on degree completion.  In most cases, there is a significant social and economic difference between actually receiving a high school diploma and completing 12 years of education but not receiving a high school diploma.  It would be best if we could explore additional detail for the individuals in some of these categories.\n",
    "\n",
    "Fortunatly, we have the EDUCD variable which has a lot more information on educational attainment.  Let's take a look at what information is available in EDUCD."
   ]
  },
  {
   "cell_type": "code",
   "execution_count": 17,
   "id": "6eb877e8-1689-4de3-937f-828cea148610",
   "metadata": {},
   "outputs": [
    {
     "data": {
      "text/html": [
       "<table class=\"dataframe\">\n",
       "<caption>A tibble: 25 × 4</caption>\n",
       "<thead>\n",
       "\t<tr><th scope=col>EDUCD</th><th scope=col>Code</th><th scope=col>n</th><th scope=col>Percent</th></tr>\n",
       "\t<tr><th scope=col>&lt;fct&gt;</th><th scope=col>&lt;int&gt;</th><th scope=col>&lt;int&gt;</th><th scope=col>&lt;dbl&gt;</th></tr>\n",
       "</thead>\n",
       "<tbody>\n",
       "\t<tr><td>N/A                                           </td><td> 1</td><td> 437349</td><td> 2.78</td></tr>\n",
       "\t<tr><td>No schooling completed                        </td><td> 2</td><td> 493906</td><td> 3.14</td></tr>\n",
       "\t<tr><td>Nursery school, preschool                     </td><td> 3</td><td> 209748</td><td> 1.33</td></tr>\n",
       "\t<tr><td>Kindergarten                                  </td><td> 4</td><td> 180016</td><td> 1.15</td></tr>\n",
       "\t<tr><td>Grade 1                                       </td><td> 5</td><td> 166978</td><td> 1.06</td></tr>\n",
       "\t<tr><td>Grade 2                                       </td><td> 6</td><td> 177927</td><td> 1.13</td></tr>\n",
       "\t<tr><td>Grade 3                                       </td><td> 7</td><td> 192714</td><td> 1.23</td></tr>\n",
       "\t<tr><td>Grade 4                                       </td><td> 8</td><td> 189820</td><td> 1.21</td></tr>\n",
       "\t<tr><td>Grade 5                                       </td><td> 9</td><td> 205537</td><td> 1.31</td></tr>\n",
       "\t<tr><td>Grade 6                                       </td><td>10</td><td> 261667</td><td> 1.66</td></tr>\n",
       "\t<tr><td>Grade 7                                       </td><td>11</td><td> 216196</td><td> 1.38</td></tr>\n",
       "\t<tr><td>Grade 8                                       </td><td>12</td><td> 310465</td><td> 1.97</td></tr>\n",
       "\t<tr><td>Grade 9                                       </td><td>13</td><td> 319559</td><td> 2.03</td></tr>\n",
       "\t<tr><td>Grade 10                                      </td><td>14</td><td> 351462</td><td> 2.24</td></tr>\n",
       "\t<tr><td>Grade 11                                      </td><td>15</td><td> 395440</td><td> 2.52</td></tr>\n",
       "\t<tr><td>12th grade, no diploma                        </td><td>16</td><td> 260789</td><td> 1.66</td></tr>\n",
       "\t<tr><td>Regular high school diploma                   </td><td>17</td><td>2969026</td><td>18.89</td></tr>\n",
       "\t<tr><td>GED or alternative credential                 </td><td>18</td><td> 504671</td><td> 3.21</td></tr>\n",
       "\t<tr><td>Some college, but less than 1 year            </td><td>19</td><td> 924353</td><td> 5.88</td></tr>\n",
       "\t<tr><td>1 or more years of college credit, no degree  </td><td>20</td><td>1799557</td><td>11.45</td></tr>\n",
       "\t<tr><td>Associate's degree, type not specified        </td><td>21</td><td>1059890</td><td> 6.74</td></tr>\n",
       "\t<tr><td>Bachelor's degree                             </td><td>22</td><td>2492914</td><td>15.86</td></tr>\n",
       "\t<tr><td>Master's degree                               </td><td>23</td><td>1136457</td><td> 7.23</td></tr>\n",
       "\t<tr><td>Professional degree beyond a bachelor's degree</td><td>24</td><td> 272727</td><td> 1.73</td></tr>\n",
       "\t<tr><td>Doctoral degree                               </td><td>25</td><td> 191955</td><td> 1.22</td></tr>\n",
       "</tbody>\n",
       "</table>\n"
      ],
      "text/latex": [
       "A tibble: 25 × 4\n",
       "\\begin{tabular}{llll}\n",
       " EDUCD & Code & n & Percent\\\\\n",
       " <fct> & <int> & <int> & <dbl>\\\\\n",
       "\\hline\n",
       "\t N/A                                            &  1 &  437349 &  2.78\\\\\n",
       "\t No schooling completed                         &  2 &  493906 &  3.14\\\\\n",
       "\t Nursery school, preschool                      &  3 &  209748 &  1.33\\\\\n",
       "\t Kindergarten                                   &  4 &  180016 &  1.15\\\\\n",
       "\t Grade 1                                        &  5 &  166978 &  1.06\\\\\n",
       "\t Grade 2                                        &  6 &  177927 &  1.13\\\\\n",
       "\t Grade 3                                        &  7 &  192714 &  1.23\\\\\n",
       "\t Grade 4                                        &  8 &  189820 &  1.21\\\\\n",
       "\t Grade 5                                        &  9 &  205537 &  1.31\\\\\n",
       "\t Grade 6                                        & 10 &  261667 &  1.66\\\\\n",
       "\t Grade 7                                        & 11 &  216196 &  1.38\\\\\n",
       "\t Grade 8                                        & 12 &  310465 &  1.97\\\\\n",
       "\t Grade 9                                        & 13 &  319559 &  2.03\\\\\n",
       "\t Grade 10                                       & 14 &  351462 &  2.24\\\\\n",
       "\t Grade 11                                       & 15 &  395440 &  2.52\\\\\n",
       "\t 12th grade, no diploma                         & 16 &  260789 &  1.66\\\\\n",
       "\t Regular high school diploma                    & 17 & 2969026 & 18.89\\\\\n",
       "\t GED or alternative credential                  & 18 &  504671 &  3.21\\\\\n",
       "\t Some college, but less than 1 year             & 19 &  924353 &  5.88\\\\\n",
       "\t 1 or more years of college credit, no degree   & 20 & 1799557 & 11.45\\\\\n",
       "\t Associate's degree, type not specified         & 21 & 1059890 &  6.74\\\\\n",
       "\t Bachelor's degree                              & 22 & 2492914 & 15.86\\\\\n",
       "\t Master's degree                                & 23 & 1136457 &  7.23\\\\\n",
       "\t Professional degree beyond a bachelor's degree & 24 &  272727 &  1.73\\\\\n",
       "\t Doctoral degree                                & 25 &  191955 &  1.22\\\\\n",
       "\\end{tabular}\n"
      ],
      "text/markdown": [
       "\n",
       "A tibble: 25 × 4\n",
       "\n",
       "| EDUCD &lt;fct&gt; | Code &lt;int&gt; | n &lt;int&gt; | Percent &lt;dbl&gt; |\n",
       "|---|---|---|---|\n",
       "| N/A                                            |  1 |  437349 |  2.78 |\n",
       "| No schooling completed                         |  2 |  493906 |  3.14 |\n",
       "| Nursery school, preschool                      |  3 |  209748 |  1.33 |\n",
       "| Kindergarten                                   |  4 |  180016 |  1.15 |\n",
       "| Grade 1                                        |  5 |  166978 |  1.06 |\n",
       "| Grade 2                                        |  6 |  177927 |  1.13 |\n",
       "| Grade 3                                        |  7 |  192714 |  1.23 |\n",
       "| Grade 4                                        |  8 |  189820 |  1.21 |\n",
       "| Grade 5                                        |  9 |  205537 |  1.31 |\n",
       "| Grade 6                                        | 10 |  261667 |  1.66 |\n",
       "| Grade 7                                        | 11 |  216196 |  1.38 |\n",
       "| Grade 8                                        | 12 |  310465 |  1.97 |\n",
       "| Grade 9                                        | 13 |  319559 |  2.03 |\n",
       "| Grade 10                                       | 14 |  351462 |  2.24 |\n",
       "| Grade 11                                       | 15 |  395440 |  2.52 |\n",
       "| 12th grade, no diploma                         | 16 |  260789 |  1.66 |\n",
       "| Regular high school diploma                    | 17 | 2969026 | 18.89 |\n",
       "| GED or alternative credential                  | 18 |  504671 |  3.21 |\n",
       "| Some college, but less than 1 year             | 19 |  924353 |  5.88 |\n",
       "| 1 or more years of college credit, no degree   | 20 | 1799557 | 11.45 |\n",
       "| Associate's degree, type not specified         | 21 | 1059890 |  6.74 |\n",
       "| Bachelor's degree                              | 22 | 2492914 | 15.86 |\n",
       "| Master's degree                                | 23 | 1136457 |  7.23 |\n",
       "| Professional degree beyond a bachelor's degree | 24 |  272727 |  1.73 |\n",
       "| Doctoral degree                                | 25 |  191955 |  1.22 |\n",
       "\n"
      ],
      "text/plain": [
       "   EDUCD                                          Code n       Percent\n",
       "1  N/A                                             1    437349  2.78  \n",
       "2  No schooling completed                          2    493906  3.14  \n",
       "3  Nursery school, preschool                       3    209748  1.33  \n",
       "4  Kindergarten                                    4    180016  1.15  \n",
       "5  Grade 1                                         5    166978  1.06  \n",
       "6  Grade 2                                         6    177927  1.13  \n",
       "7  Grade 3                                         7    192714  1.23  \n",
       "8  Grade 4                                         8    189820  1.21  \n",
       "9  Grade 5                                         9    205537  1.31  \n",
       "10 Grade 6                                        10    261667  1.66  \n",
       "11 Grade 7                                        11    216196  1.38  \n",
       "12 Grade 8                                        12    310465  1.97  \n",
       "13 Grade 9                                        13    319559  2.03  \n",
       "14 Grade 10                                       14    351462  2.24  \n",
       "15 Grade 11                                       15    395440  2.52  \n",
       "16 12th grade, no diploma                         16    260789  1.66  \n",
       "17 Regular high school diploma                    17   2969026 18.89  \n",
       "18 GED or alternative credential                  18    504671  3.21  \n",
       "19 Some college, but less than 1 year             19    924353  5.88  \n",
       "20 1 or more years of college credit, no degree   20   1799557 11.45  \n",
       "21 Associate's degree, type not specified         21   1059890  6.74  \n",
       "22 Bachelor's degree                              22   2492914 15.86  \n",
       "23 Master's degree                                23   1136457  7.23  \n",
       "24 Professional degree beyond a bachelor's degree 24    272727  1.73  \n",
       "25 Doctoral degree                                25    191955  1.22  "
      ]
     },
     "metadata": {},
     "output_type": "display_data"
    }
   ],
   "source": [
    "calculate_percentage(dat, EDUCD)"
   ]
  },
  {
   "cell_type": "markdown",
   "id": "e3aea276-8433-4545-8567-897bea5264e3",
   "metadata": {},
   "source": [
    "The EDUCD variable has many more categories including seperate categories for \"N/A\" and \"no schooling completed\" as well as detailed information on degree completion!"
   ]
  },
  {
   "cell_type": "markdown",
   "id": "44ad7d05-6bec-4c26-a394-b55ac5ab1434",
   "metadata": {},
   "source": [
    "#### Recoding the Education Variable\n",
    "\n",
    "Like with the RACE variable in the previous section, we are going to recode the education variable into a new set of groups which might be a bit more useful for analysis.  This time we will use information from the EDUCD variable since it contains the additional detail we need to be able to make groups for \"N/A\", \"no schooling\", and completion of specific degrees.\n",
    "\n",
    "Our recode will have the following seven categories.\n",
    "\n",
    "1. eight or fewer years of eduction (including no schooling)\n",
    "2. some high school (9-12 years, no degree)\n",
    "3. high school diploma, GED, or alternative credential completed\n",
    "4. some college (1+ years, no degree)\n",
    "5. associate's degree\n",
    "6. bachelor's degree\n",
    "7. advanced degree (master's, professional, or doctoral degree)\n",
    "\n",
    "This new variable will include missing values since we plan to recode instances of \"N/A\" to missing.  In R, missing values are represented by the special object *NA*.  Most analytical functions in R automatically ignore *NA* values or have an option to ignore them so recoding missing categories as *NA* will make things easier for us down the line."
   ]
  },
  {
   "cell_type": "code",
   "execution_count": 18,
   "id": "af90221f-96e4-4404-87a3-d047c3f9d9ab",
   "metadata": {},
   "outputs": [],
   "source": [
    "dat <- dat %>%\n",
    "  mutate(EDUC_RECODE = case_when(\n",
    "    EDUCD == 1 ~ NA,                # N/A\n",
    "    EDUCD %in% c(2:26) ~ 1,         # eight or fewer years (including no schooling)\n",
    "    EDUCD %in% c(30:61) ~ 2,        # some high school (9-12 years, no degree)\n",
    "    EDUCD %in% c(63:64) ~ 3,        # high school diploma, GED, or alternative credential completed\n",
    "    EDUCD %in% c(65:71) ~ 4,        # some college (1+ years, no degree)\n",
    "    EDUCD == 81 ~ 5,                # associate's degree\n",
    "    EDUCD == 101 ~ 6,               # bachelor's degree\n",
    "    EDUCD %in% c(114:116) ~ 7))     # advanced degree (master's, professional, or doctoral degree)"
   ]
  },
  {
   "cell_type": "markdown",
   "id": "ca67bf8e-944c-4106-a72c-3eb7483d1d57",
   "metadata": {},
   "source": [
    "As with the RACE_RECODE variable in the previous section, we will classify the EDUC_RECODE as a factor and attach category labels."
   ]
  },
  {
   "cell_type": "code",
   "execution_count": 19,
   "id": "033af000-a653-459f-b6b1-727d9f679a78",
   "metadata": {},
   "outputs": [],
   "source": [
    "dat <- dat %>%\n",
    "  mutate(EDUC_RECODE = factor(EDUC_RECODE,\n",
    "                              levels = c(1, 2, 3, 4, 5, 6, 7),\n",
    "                              labels = c(\"eight or fewer years\",\n",
    "                                         \"some high school, no degree\",\n",
    "                                         \"high school degree or equivalent\",\n",
    "                                         \"some college, no degree\",\n",
    "                                         \"associate's degree\",\n",
    "                                         \"bachelor's degree\",\n",
    "                                         \"advanced degree\")))"
   ]
  },
  {
   "cell_type": "markdown",
   "id": "52b6a9a1-fe69-45c8-82f2-b4a4deffeea0",
   "metadata": {},
   "source": [
    "Let's take a look at the new variable."
   ]
  },
  {
   "cell_type": "code",
   "execution_count": 20,
   "id": "9e0745a6-ef1b-4530-b21b-69b4d0afd78a",
   "metadata": {},
   "outputs": [
    {
     "data": {
      "text/html": [
       "<table class=\"dataframe\">\n",
       "<caption>A tibble: 8 × 4</caption>\n",
       "<thead>\n",
       "\t<tr><th scope=col>EDUC_RECODE</th><th scope=col>Code</th><th scope=col>n</th><th scope=col>Percent</th></tr>\n",
       "\t<tr><th scope=col>&lt;fct&gt;</th><th scope=col>&lt;int&gt;</th><th scope=col>&lt;int&gt;</th><th scope=col>&lt;dbl&gt;</th></tr>\n",
       "</thead>\n",
       "<tbody>\n",
       "\t<tr><td>eight or fewer years            </td><td>1</td><td>2604974</td><td>16.57</td></tr>\n",
       "\t<tr><td>some high school, no degree     </td><td>2</td><td>1327250</td><td> 8.44</td></tr>\n",
       "\t<tr><td>high school degree or equivalent</td><td>3</td><td>3473697</td><td>22.10</td></tr>\n",
       "\t<tr><td>some college, no degree         </td><td>4</td><td>2723910</td><td>17.33</td></tr>\n",
       "\t<tr><td>associate's degree              </td><td>5</td><td>1059890</td><td> 6.74</td></tr>\n",
       "\t<tr><td>bachelor's degree               </td><td>6</td><td>2492914</td><td>15.86</td></tr>\n",
       "\t<tr><td>advanced degree                 </td><td>7</td><td>1601139</td><td>10.18</td></tr>\n",
       "\t<tr><td>NA                              </td><td>8</td><td> 437349</td><td> 2.78</td></tr>\n",
       "</tbody>\n",
       "</table>\n"
      ],
      "text/latex": [
       "A tibble: 8 × 4\n",
       "\\begin{tabular}{llll}\n",
       " EDUC\\_RECODE & Code & n & Percent\\\\\n",
       " <fct> & <int> & <int> & <dbl>\\\\\n",
       "\\hline\n",
       "\t eight or fewer years             & 1 & 2604974 & 16.57\\\\\n",
       "\t some high school, no degree      & 2 & 1327250 &  8.44\\\\\n",
       "\t high school degree or equivalent & 3 & 3473697 & 22.10\\\\\n",
       "\t some college, no degree          & 4 & 2723910 & 17.33\\\\\n",
       "\t associate's degree               & 5 & 1059890 &  6.74\\\\\n",
       "\t bachelor's degree                & 6 & 2492914 & 15.86\\\\\n",
       "\t advanced degree                  & 7 & 1601139 & 10.18\\\\\n",
       "\t NA                               & 8 &  437349 &  2.78\\\\\n",
       "\\end{tabular}\n"
      ],
      "text/markdown": [
       "\n",
       "A tibble: 8 × 4\n",
       "\n",
       "| EDUC_RECODE &lt;fct&gt; | Code &lt;int&gt; | n &lt;int&gt; | Percent &lt;dbl&gt; |\n",
       "|---|---|---|---|\n",
       "| eight or fewer years             | 1 | 2604974 | 16.57 |\n",
       "| some high school, no degree      | 2 | 1327250 |  8.44 |\n",
       "| high school degree or equivalent | 3 | 3473697 | 22.10 |\n",
       "| some college, no degree          | 4 | 2723910 | 17.33 |\n",
       "| associate's degree               | 5 | 1059890 |  6.74 |\n",
       "| bachelor's degree                | 6 | 2492914 | 15.86 |\n",
       "| advanced degree                  | 7 | 1601139 | 10.18 |\n",
       "| NA                               | 8 |  437349 |  2.78 |\n",
       "\n"
      ],
      "text/plain": [
       "  EDUC_RECODE                      Code n       Percent\n",
       "1 eight or fewer years             1    2604974 16.57  \n",
       "2 some high school, no degree      2    1327250  8.44  \n",
       "3 high school degree or equivalent 3    3473697 22.10  \n",
       "4 some college, no degree          4    2723910 17.33  \n",
       "5 associate's degree               5    1059890  6.74  \n",
       "6 bachelor's degree                6    2492914 15.86  \n",
       "7 advanced degree                  7    1601139 10.18  \n",
       "8 NA                               8     437349  2.78  "
      ]
     },
     "metadata": {},
     "output_type": "display_data"
    }
   ],
   "source": [
    "calculate_percentage(dat, EDUC_RECODE)"
   ]
  },
  {
   "cell_type": "markdown",
   "id": "9784d8d2-d513-4507-8785-41bf8526ceb7",
   "metadata": {},
   "source": [
    "Again we have a new, simplified version of the a categorical variable with fewer categories.  In this case, the new variable is both simplier than either of the original RACE and RACED variables and also reorganizes the data in a way which is more meaningful for the analyses we have in mind."
   ]
  },
  {
   "cell_type": "markdown",
   "id": "c66273a2-a857-470c-b335-b481be1e0b80",
   "metadata": {},
   "source": [
    "## 4. Cleaning and Recoding Continuious Variables\n",
    "\n",
    "Now that we have finished reviewing the three categorical demographic varables, we will move on to the two continuous demographic variables.  The continuous variables in our dataset include:\n",
    "\n",
    "* [age (AGE)](https://usa.ipums.org/usa-action/variables/AGE#codes_section)\n",
    "* [individual total income (INCTOT)](https://usa.ipums.org/usa-action/variables/INCTOT#codes_section)"
   ]
  },
  {
   "cell_type": "markdown",
   "id": "3df79beb-7bd1-4aec-8bbf-20ab5b638215",
   "metadata": {},
   "source": [
    "### 4a. Age\n",
    "\n",
    "The AGE variable provides the numeric age, in years, for each indiviual in the sample.  Checking out the [IPUMS codebook for AGE](https://usa.ipums.org/usa-action/variables/AGE#codes_section) tells us that there is a missing value code corresponding to \"999\" but based on our initial review of the data, we don't appear to have any \"999\" codes and therefore no missing data for age.  We will double check for missing values in this step.\n",
    "\n",
    "We could use the *calculate_percentage* function we had been using for the categorical variables to view the AGE variable but that would give us a table for every age in the dataset, probably not very useful.\n",
    "\n",
    "Instead, let's take a look at the summary statistics using the *summary()* command from base R and distribution for this numeric variable using the historgam *hist()* command also from base R.\n",
    "\n",
    "Both functions are from base R!  The information and graphics they will provide are relatively simple and not very pretty but the commands are also simple and easy to remember, part of the base R environment (so they don't require any additional packages), and computationally non-intensive.  You could use more complicated functions to generate summary tables and visualizations but at this stage, when we just want quick snapshots of the data so we can make management decisions, the simple base R functions work great."
   ]
  },
  {
   "cell_type": "code",
   "execution_count": 21,
   "id": "805d65ba-dd83-4b82-9f47-c220e1091d22",
   "metadata": {},
   "outputs": [
    {
     "data": {
      "text/plain": [
       "   Min. 1st Qu.  Median    Mean 3rd Qu.    Max. \n",
       "   0.00   22.00   43.00   42.34   62.00   97.00 "
      ]
     },
     "metadata": {},
     "output_type": "display_data"
    }
   ],
   "source": [
    "summary(dat$AGE)"
   ]
  },
  {
   "cell_type": "markdown",
   "id": "b77ab0c3-449a-4234-8ec0-4438724fc749",
   "metadata": {},
   "source": [
    "Ages in this sample range from 0 to 97 which seems reasonable.  And we also can confirm that we don't have any instances of the \"999\" code indicating missing data."
   ]
  },
  {
   "cell_type": "code",
   "execution_count": 22,
   "id": "98355078-53ad-4985-ad3d-1491261b3569",
   "metadata": {
    "scrolled": true
   },
   "outputs": [
    {
     "data": {
      "image/png": "[encoded data removed]",
      "text/plain": [
       "Plot with title “Histogram of Age”"
      ]
     },
     "metadata": {
      "image/png": {
       "height": 420,
       "width": 420
      }
     },
     "output_type": "display_data"
    }
   ],
   "source": [
    "hist(dat$AGE, breaks = 50, main = \"Histogram of Age\", xlab = \"Age\")"
   ]
  },
  {
   "cell_type": "markdown",
   "id": "29ae8187-5e52-4e6d-8bb4-478073d6f7df",
   "metadata": {},
   "source": [
    "The distribution of ages, as shown in the histogram, also seems to be a reasonable representation of a random sample of the population.\n",
    "\n",
    "While the numeric AGE variable is very useful, it likely contains more detail that we will need for our analysis.  So let's create a new categorical age variable based on age ranges.  Our new variable will use the following commonly used age ranges for demographic and sociological research.\n",
    "\n",
    "1. 0 to 17 (children)\n",
    "2. 18 to 24 (young adults)\n",
    "3. 25 to 44\n",
    "4. 45 to 64\n",
    "5. 65+ (older adults; retirement age)\n",
    "\n",
    "We will use the *mutate()* function from the *dplyr* package to recode information from AGE variable into a new AGE_CAT variable."
   ]
  },
  {
   "cell_type": "code",
   "execution_count": 23,
   "id": "25a463c2-624c-49c7-84a1-ca186fd02fb0",
   "metadata": {},
   "outputs": [],
   "source": [
    "dat <- dat %>%\n",
    "  mutate(AGE_CAT = case_when(\n",
    "    AGE < 18 ~ 1,\n",
    "    AGE %in% c(18:24) ~ 2,\n",
    "    AGE %in% c(25:44) ~ 3,\n",
    "    AGE %in% c(45:64) ~ 4,\n",
    "    AGE >= 65 ~ 5))"
   ]
  },
  {
   "cell_type": "markdown",
   "id": "17316492-62f9-4c31-803a-3b74163eaf9d",
   "metadata": {},
   "source": [
    "Although the original AGE variable was continuous, the new AGE_CAT variable is categorical and like RACE_RECODE and EDUC_RECODE, AGE_CAT is also a factor.  Therefore, we will specify AGE_CAT as a factor and set labels for each variable level using the same workflow we used for the cateogorical variables."
   ]
  },
  {
   "cell_type": "code",
   "execution_count": 17,
   "id": "e9d65dcf-3bf8-4ad1-982c-93c525e4584d",
   "metadata": {},
   "outputs": [],
   "source": [
    "dat <- dat %>%\n",
    "  mutate(AGE_CAT = factor(AGE_CAT,\n",
    "                              levels = c(1, 2, 3, 4, 5),\n",
    "                              labels = c(\"under 18\",\n",
    "                                         \"18-24\",\n",
    "                                         \"25-44\",\n",
    "                                         \"45-64\",\n",
    "                                         \"65+\")))"
   ]
  },
  {
   "cell_type": "markdown",
   "id": "f35b2641-3bc0-4f5d-bd9d-7b66ee132523",
   "metadata": {},
   "source": [
    "Now that we have a labeled, categorical version of the AGE variable, let's take a look at the percent breakdown by age range."
   ]
  },
  {
   "cell_type": "code",
   "execution_count": 18,
   "id": "eb5992f3-d32d-47bf-af74-bbf6e4680978",
   "metadata": {},
   "outputs": [
    {
     "data": {
      "text/html": [
       "<table class=\"dataframe\">\n",
       "<caption>A tibble: 5 × 4</caption>\n",
       "<thead>\n",
       "\t<tr><th scope=col>AGE_CAT</th><th scope=col>Code</th><th scope=col>n</th><th scope=col>Percent</th></tr>\n",
       "\t<tr><th scope=col>&lt;fct&gt;</th><th scope=col>&lt;int&gt;</th><th scope=col>&lt;int&gt;</th><th scope=col>&lt;dbl&gt;</th></tr>\n",
       "</thead>\n",
       "<tbody>\n",
       "\t<tr><td>under 18</td><td>1</td><td>3070679</td><td>19.53</td></tr>\n",
       "\t<tr><td>18-24   </td><td>2</td><td>1347750</td><td> 8.57</td></tr>\n",
       "\t<tr><td>25-44   </td><td>3</td><td>3737684</td><td>23.77</td></tr>\n",
       "\t<tr><td>45-64   </td><td>4</td><td>4213399</td><td>26.80</td></tr>\n",
       "\t<tr><td>65+     </td><td>5</td><td>3351611</td><td>21.32</td></tr>\n",
       "</tbody>\n",
       "</table>\n"
      ],
      "text/latex": [
       "A tibble: 5 × 4\n",
       "\\begin{tabular}{llll}\n",
       " AGE\\_CAT & Code & n & Percent\\\\\n",
       " <fct> & <int> & <int> & <dbl>\\\\\n",
       "\\hline\n",
       "\t under 18 & 1 & 3070679 & 19.53\\\\\n",
       "\t 18-24    & 2 & 1347750 &  8.57\\\\\n",
       "\t 25-44    & 3 & 3737684 & 23.77\\\\\n",
       "\t 45-64    & 4 & 4213399 & 26.80\\\\\n",
       "\t 65+      & 5 & 3351611 & 21.32\\\\\n",
       "\\end{tabular}\n"
      ],
      "text/markdown": [
       "\n",
       "A tibble: 5 × 4\n",
       "\n",
       "| AGE_CAT &lt;fct&gt; | Code &lt;int&gt; | n &lt;int&gt; | Percent &lt;dbl&gt; |\n",
       "|---|---|---|---|\n",
       "| under 18 | 1 | 3070679 | 19.53 |\n",
       "| 18-24    | 2 | 1347750 |  8.57 |\n",
       "| 25-44    | 3 | 3737684 | 23.77 |\n",
       "| 45-64    | 4 | 4213399 | 26.80 |\n",
       "| 65+      | 5 | 3351611 | 21.32 |\n",
       "\n"
      ],
      "text/plain": [
       "  AGE_CAT  Code n       Percent\n",
       "1 under 18 1    3070679 19.53  \n",
       "2 18-24    2    1347750  8.57  \n",
       "3 25-44    3    3737684 23.77  \n",
       "4 45-64    4    4213399 26.80  \n",
       "5 65+      5    3351611 21.32  "
      ]
     },
     "metadata": {},
     "output_type": "display_data"
    }
   ],
   "source": [
    "calculate_percentage(dat, AGE_CAT)"
   ]
  },
  {
   "cell_type": "markdown",
   "id": "a26e3857-5530-430d-96ed-dde900e5b483",
   "metadata": {},
   "source": [
    "The new AGE_CAT variable simplifies the AGE information into a format which is likely easier for us to use and understand."
   ]
  },
  {
   "cell_type": "markdown",
   "id": "9116e38f-d049-4d92-8aa8-d78e30f39226",
   "metadata": {},
   "source": [
    "### 4b. Income\n",
    "\n",
    "The last demographic varaible we will work with is the income variable (INCTOT).  Like the age variable, the original version of this variable is numeric and specifes the exact income for each surveyed individual.  We can take a look at the \n",
    "\n",
    "As with AGE, rather than using the *calculate_percentage* function, we'll use the base R *summary()* function to check out the summary statistics for the variable, and the base R *hist()* function to view the distribution of income."
   ]
  },
  {
   "cell_type": "code",
   "execution_count": 24,
   "id": "adf91f23-7d2b-4eff-ac83-7e4a8d842a7d",
   "metadata": {},
   "outputs": [
    {
     "data": {
      "text/plain": [
       "   Min. 1st Qu.  Median    Mean 3rd Qu.    Max. \n",
       " -13093   12700   40210 1632244  106384 9999999 "
      ]
     },
     "metadata": {},
     "output_type": "display_data"
    }
   ],
   "source": [
    "summary(dat$INCTOT)"
   ]
  },
  {
   "cell_type": "markdown",
   "id": "8dd8b6c0-1ead-4620-838c-f8c3ef7756e5",
   "metadata": {},
   "source": [
    "The \"9999999\" maximum value should raise some alarm and remind you that we previously noticed the maximum INCTOT value is \"9999999\".  Something to be suspicious about..."
   ]
  },
  {
   "cell_type": "code",
   "execution_count": 25,
   "id": "ab89983e-ce7b-4354-8ee9-b209a96206f0",
   "metadata": {},
   "outputs": [
    {
     "data": {
      "image/png": "[encoded data removed]",
      "text/plain": [
       "Plot with title “Histogram of Total Income”"
      ]
     },
     "metadata": {
      "image/png": {
       "height": 420,
       "width": 420
      }
     },
     "output_type": "display_data"
    }
   ],
   "source": [
    "hist(dat$INCTOT, breaks = 100, main = \"Histogram of Total Income\", xlab = \"Total Income\")"
   ]
  },
  {
   "cell_type": "markdown",
   "id": "03673c2d-6533-4fc3-ae45-1088240e266f",
   "metadata": {},
   "source": [
    "The histogram showing the distribution of income values is another red flag that something is not right.  Numeric, continuous demographic variables almost always follow some type of normal or log-normal distribution.  However, there is clearly a large chunk of the data categorized at a very high value.  An anomaly which doesn't seem to follow the pattern of the rest of the data.\n",
    "\n",
    "The solution is to take a look at the [IPUMS codebook for INCTOT](https://usa.ipums.org/usa-action/variables/INCTOT#codes_section).  The codebooks tells us that value \"9999998\" indicates \"unknown\" and the value \"9999999\" indictes \"N/A\".\n",
    "\n",
    "So for our next step we should recode these two values as *NA* so they won't be included in any calculations or in while visualizing the distribution."
   ]
  },
  {
   "cell_type": "code",
   "execution_count": 28,
   "id": "4d321417-c983-4cb3-b84c-ad0478474863",
   "metadata": {},
   "outputs": [],
   "source": [
    "dat <- dat %>%\n",
    "  mutate(INCTOT = na_if(INCTOT, 9999998),\n",
    "         INCTOT = na_if(INCTOT, 9999999))"
   ]
  },
  {
   "cell_type": "markdown",
   "id": "c61b2753-01c5-4b1e-a9a4-6da31fa7fd73",
   "metadata": {},
   "source": [
    "Let's take another look at the summary statistics and the distribution of values after recoding the missing information."
   ]
  },
  {
   "cell_type": "code",
   "execution_count": 29,
   "id": "45d230c8-956c-4c92-91a5-6f33a84218e6",
   "metadata": {},
   "outputs": [
    {
     "data": {
      "text/plain": [
       "   Min. 1st Qu.  Median    Mean 3rd Qu.    Max.    NA's \n",
       " -13093    9875   30000   50384   63152 1870446 2499455 "
      ]
     },
     "metadata": {},
     "output_type": "display_data"
    }
   ],
   "source": [
    "summary(dat$INCTOT)"
   ]
  },
  {
   "cell_type": "code",
   "execution_count": 30,
   "id": "b4e0ba6a-d371-43de-b6e0-c52e0e9623b2",
   "metadata": {},
   "outputs": [
    {
     "data": {
      "image/png": "[encoded data removed]",
      "text/plain": [
       "Plot with title “Histogram of Total Income”"
      ]
     },
     "metadata": {
      "image/png": {
       "height": 420,
       "width": 420
      }
     },
     "output_type": "display_data"
    }
   ],
   "source": [
    "hist(dat$INCTOT, breaks = 100, main = \"Histogram of Total Income\", xlab = \"Total Income\")"
   ]
  },
  {
   "cell_type": "markdown",
   "id": "b8649fb8-d5b2-4238-aa0d-4f38920dedf4",
   "metadata": {},
   "source": [
    "After the recode the data summary and distribution appear much more as we would expect.  The distribution shows that the majority of the individuals in the sample have incomes around 200,000 or less but there are a few outliers ranging up to the largest income in the sample, 1.87 million.\n",
    "\n",
    "Similar to age, total income is not very useful as a raw number.  Instead, it's often more useful to look at income brackets rather than raw income values.\n",
    "\n",
    "A recode would be especially useful in our situation since we have an income distribution with a very long right tail, indicating that we have a few individuals with very high incomes who are skewing the overall distribution.  When we have a highly skewed dataset, values usually take on wildly different meanings at different parts of the distribution.  For example, the difference between an income of 10,000 and 50,000 corresponds to a very large difference in lifestyle and socioeconmic status.  However, the difference between an income of 1,010,000 and 1,050,000 is likely negligible, both very high incomes correspond to a similair lifestyle and very high socioeconomic status.\n",
    "\n",
    "We will recode the income variable in the following way:\n",
    "\n",
    "1. < 25,000 (low income)\n",
    "2. 25,000 to 49,999 (lower-middle income)\n",
    "3. 50,000 to 74,999 (middle income)\n",
    "4. 75,000 to 149,999 (upper-middle income)\n",
    "5. 150,000 or more (high income)"
   ]
  },
  {
   "cell_type": "code",
   "execution_count": 32,
   "id": "ddbf394e-2da8-4108-ab8d-336f86fbfdd1",
   "metadata": {},
   "outputs": [],
   "source": [
    "dat <- dat %>%\n",
    "  mutate(INCTOT_CAT = case_when(\n",
    "    INCTOT < 25000 ~ 1,\n",
    "    INCTOT %in% c(25000:49999) ~ 2,\n",
    "    INCTOT %in% c(50000:74999) ~ 3,\n",
    "    INCTOT %in% c(75000:149999) ~ 4,\n",
    "    INCTOT >= 150000 ~ 5))"
   ]
  },
  {
   "cell_type": "markdown",
   "id": "d12624c1-5a75-4737-bb65-fc9ce82b21d2",
   "metadata": {},
   "source": [
    "As usuall, we will code this variable as a factor and create a set of labels for each level."
   ]
  },
  {
   "cell_type": "code",
   "execution_count": 33,
   "id": "45fecb3d-a609-414b-ac5e-0595b080b696",
   "metadata": {},
   "outputs": [],
   "source": [
    "dat <- dat %>%\n",
    "  mutate(INCTOT_CAT = factor(INCTOT_CAT,\n",
    "                              levels = c(1, 2, 3, 4, 5),\n",
    "                              labels = c(\"under 25,000\",\n",
    "                                         \"25,000 to 49,999\",\n",
    "                                         \"50,000 to 74,999\",\n",
    "                                         \"75,000 to 149,999\",\n",
    "                                         \"150,000 or more\")))"
   ]
  },
  {
   "cell_type": "markdown",
   "id": "d1a4bec6-be08-438d-96da-da0b0fd5bd6f",
   "metadata": {},
   "source": [
    "Let's take a look at the percentage breakdown for our new categorical variable."
   ]
  },
  {
   "cell_type": "code",
   "execution_count": 34,
   "id": "a0bc011f-0e58-454a-bd96-022ea4370432",
   "metadata": {},
   "outputs": [
    {
     "data": {
      "text/html": [
       "<table class=\"dataframe\">\n",
       "<caption>A tibble: 6 × 4</caption>\n",
       "<thead>\n",
       "\t<tr><th scope=col>INCTOT_CAT</th><th scope=col>Code</th><th scope=col>n</th><th scope=col>Percent</th></tr>\n",
       "\t<tr><th scope=col>&lt;fct&gt;</th><th scope=col>&lt;int&gt;</th><th scope=col>&lt;int&gt;</th><th scope=col>&lt;dbl&gt;</th></tr>\n",
       "</thead>\n",
       "<tbody>\n",
       "\t<tr><td>under 25,000     </td><td>1</td><td>5881976</td><td>37.41</td></tr>\n",
       "\t<tr><td>25,000 to 49,999 </td><td>2</td><td>2935713</td><td>18.67</td></tr>\n",
       "\t<tr><td>50,000 to 74,999 </td><td>3</td><td>1798438</td><td>11.44</td></tr>\n",
       "\t<tr><td>75,000 to 149,999</td><td>4</td><td>1829175</td><td>11.64</td></tr>\n",
       "\t<tr><td>150,000 or more  </td><td>5</td><td> 747065</td><td> 4.75</td></tr>\n",
       "\t<tr><td>NA               </td><td>6</td><td>2528756</td><td>16.09</td></tr>\n",
       "</tbody>\n",
       "</table>\n"
      ],
      "text/latex": [
       "A tibble: 6 × 4\n",
       "\\begin{tabular}{llll}\n",
       " INCTOT\\_CAT & Code & n & Percent\\\\\n",
       " <fct> & <int> & <int> & <dbl>\\\\\n",
       "\\hline\n",
       "\t under 25,000      & 1 & 5881976 & 37.41\\\\\n",
       "\t 25,000 to 49,999  & 2 & 2935713 & 18.67\\\\\n",
       "\t 50,000 to 74,999  & 3 & 1798438 & 11.44\\\\\n",
       "\t 75,000 to 149,999 & 4 & 1829175 & 11.64\\\\\n",
       "\t 150,000 or more   & 5 &  747065 &  4.75\\\\\n",
       "\t NA                & 6 & 2528756 & 16.09\\\\\n",
       "\\end{tabular}\n"
      ],
      "text/markdown": [
       "\n",
       "A tibble: 6 × 4\n",
       "\n",
       "| INCTOT_CAT &lt;fct&gt; | Code &lt;int&gt; | n &lt;int&gt; | Percent &lt;dbl&gt; |\n",
       "|---|---|---|---|\n",
       "| under 25,000      | 1 | 5881976 | 37.41 |\n",
       "| 25,000 to 49,999  | 2 | 2935713 | 18.67 |\n",
       "| 50,000 to 74,999  | 3 | 1798438 | 11.44 |\n",
       "| 75,000 to 149,999 | 4 | 1829175 | 11.64 |\n",
       "| 150,000 or more   | 5 |  747065 |  4.75 |\n",
       "| NA                | 6 | 2528756 | 16.09 |\n",
       "\n"
      ],
      "text/plain": [
       "  INCTOT_CAT        Code n       Percent\n",
       "1 under 25,000      1    5881976 37.41  \n",
       "2 25,000 to 49,999  2    2935713 18.67  \n",
       "3 50,000 to 74,999  3    1798438 11.44  \n",
       "4 75,000 to 149,999 4    1829175 11.64  \n",
       "5 150,000 or more   5     747065  4.75  \n",
       "6 NA                6    2528756 16.09  "
      ]
     },
     "metadata": {},
     "output_type": "display_data"
    }
   ],
   "source": [
    "calculate_percentage(dat, INCTOT_CAT)"
   ]
  },
  {
   "cell_type": "markdown",
   "id": "39141151-bcf9-4599-a57f-a937989a91c8",
   "metadata": {},
   "source": [
    "As with AGE_CAT, the INCTOT_CAT variable simplifies the income information into a simplier format which is easier to understand and work with."
   ]
  },
  {
   "cell_type": "markdown",
   "id": "380dd7a1-587b-4651-80f4-fd3271fbacb9",
   "metadata": {},
   "source": [
    "## 5. Final Review\n",
    "\n",
    "We've completed initial data management and recode steps for each of the demographic variables we requested in our abstract.  Let's take a final look at the updated summary information including all the new demographic varaibles we created in this section."
   ]
  },
  {
   "cell_type": "code",
   "execution_count": 35,
   "id": "b3975059-091e-4ab8-9544-0ba4bf48f261",
   "metadata": {},
   "outputs": [
    {
     "data": {
      "text/plain": [
       "      SEX             AGE           AGE_CAT           RACE           RACED    \n",
       " Min.   :1.000   Min.   : 0.00   Min.   :1.000   Min.   :1.000   Min.   :100  \n",
       " 1st Qu.:1.000   1st Qu.:22.00   1st Qu.:2.000   1st Qu.:1.000   1st Qu.:100  \n",
       " Median :2.000   Median :43.00   Median :3.000   Median :1.000   Median :100  \n",
       " Mean   :1.509   Mean   :42.34   Mean   :3.218   Mean   :2.208   Mean   :224  \n",
       " 3rd Qu.:2.000   3rd Qu.:62.00   3rd Qu.:4.000   3rd Qu.:2.000   3rd Qu.:200  \n",
       " Max.   :2.000   Max.   :97.00   Max.   :5.000   Max.   :9.000   Max.   :990  \n",
       "                                                                              \n",
       "                             RACE_RECODE            EDUC       \n",
       " White                             :11191212   Min.   : 0.000  \n",
       " Black                             : 1463804   1st Qu.: 5.000  \n",
       " American Indian or Native American:  184752   Median : 6.000  \n",
       " Asian or Pacific Islander         :  928923   Mean   : 6.298  \n",
       " Other Race                        :  754861   3rd Qu.:10.000  \n",
       " Two or More Races                 : 1197571   Max.   :11.000  \n",
       "                                                               \n",
       "     EDUCD                                  EDUC_RECODE          INCTOT       \n",
       " Min.   :  1.00   high school degree or equivalent:3473697   Min.   : -13093  \n",
       " 1st Qu.: 50.00   some college, no degree         :2723910   1st Qu.:   9875  \n",
       " Median : 65.00   eight or fewer years            :2604974   Median :  30000  \n",
       " Mean   : 65.43   bachelor's degree               :2492914   Mean   :  50384  \n",
       " 3rd Qu.:101.00   advanced degree                 :1601139   3rd Qu.:  63152  \n",
       " Max.   :116.00   (Other)                         :2387140   Max.   :1870446  \n",
       "                  NA's                            : 437349   NA's   :2499455  \n",
       "             INCTOT_CAT     \n",
       " under 25,000     :5881976  \n",
       " 25,000 to 49,999 :2935713  \n",
       " 50,000 to 74,999 :1798438  \n",
       " 75,000 to 149,999:1829175  \n",
       " 150,000 or more  : 747065  \n",
       " NA's             :2528756  \n",
       "                            "
      ]
     },
     "metadata": {},
     "output_type": "display_data"
    }
   ],
   "source": [
    "summary(dat[, c(\"SEX\", \"AGE\", \"AGE_CAT\", \"RACE\", \"RACED\", \"RACE_RECODE\", \"EDUC\", \"EDUCD\", \"EDUC_RECODE\", \"INCTOT\", \"INCTOT_CAT\")])"
   ]
  },
  {
   "cell_type": "markdown",
   "id": "bae022ce-688a-4d51-9063-8bd02c147147",
   "metadata": {},
   "source": [
    "We've made a lot of updates!  We now have categorical versions of our two continuous numeric variables, AGE and INCTOT, and new, recoded versions of RACE and EDUC.  We've also recoded the missing values in EDUC_RECODE and INC_TOT to *NA* so we can use these variables in analyses without having to worry about incorrectly treating the missing codes like real numers.\n",
    "\n",
    "Let's make a simplified version of the data, specifically for analysis, that only includes the variables we plan to keep.\n",
    "\n",
    "This step isn't essential but it will give us a smaller version of the data to work with in the next steps of our analysis which will be less confusing and less computationally intensive to work with.\n",
    "\n",
    "Specifically, we will restrict our data to the following demographic variables:\n",
    "\n",
    "1. sex (SEX)\n",
    "2. age (AGE)\n",
    "3. age categories (AGE_CAT)\n",
    "4. race categories (RACE_RECODE)\n",
    "5. educational attainment categories (EDUC_RECODE)\n",
    "6. income (INCTOT)\n",
    "7. income categories (INCTOT_CAT)\n",
    "\n",
    "And the two geographic identification variables we included in our original data extraction:\n",
    "\n",
    "6. state FIPS code (STATEFIP)\n",
    "7. county FIPS code (COUNTYFIP)"
   ]
  },
  {
   "cell_type": "code",
   "execution_count": 40,
   "id": "9af87562-33fa-42ff-850b-fe6e00279d26",
   "metadata": {},
   "outputs": [],
   "source": [
    "dat_analysis <- dat %>% select(STATEFIP, COUNTYFIP, SEX, AGE, AGE_CAT, RACE_RECODE, EDUC_RECODE, INCTOT, INCTOT_CAT)"
   ]
  },
  {
   "cell_type": "markdown",
   "id": "6f906d80-d01a-41ab-9b37-5d69aa9b0b36",
   "metadata": {},
   "source": [
    "Let's take a look at the first few lines of *dat_analysis*."
   ]
  },
  {
   "cell_type": "code",
   "execution_count": 41,
   "id": "608d434e-f3dc-4915-a71d-af8806368f9d",
   "metadata": {},
   "outputs": [
    {
     "data": {
      "text/html": [
       "<table class=\"dataframe\">\n",
       "<caption>A tibble: 6 × 9</caption>\n",
       "<thead>\n",
       "\t<tr><th scope=col>STATEFIP</th><th scope=col>COUNTYFIP</th><th scope=col>SEX</th><th scope=col>AGE</th><th scope=col>AGE_CAT</th><th scope=col>RACE_RECODE</th><th scope=col>EDUC_RECODE</th><th scope=col>INCTOT</th><th scope=col>INCTOT_CAT</th></tr>\n",
       "\t<tr><th scope=col>&lt;int+lbl&gt;</th><th scope=col>&lt;dbl+lbl&gt;</th><th scope=col>&lt;int+lbl&gt;</th><th scope=col>&lt;int+lbl&gt;</th><th scope=col>&lt;dbl&gt;</th><th scope=col>&lt;fct&gt;</th><th scope=col>&lt;fct&gt;</th><th scope=col>&lt;dbl+lbl&gt;</th><th scope=col>&lt;fct&gt;</th></tr>\n",
       "</thead>\n",
       "<tbody>\n",
       "\t<tr><td>1</td><td> 0</td><td>2</td><td>19</td><td>2</td><td>White</td><td>some college, no degree         </td><td>-1754</td><td>under 25,000</td></tr>\n",
       "\t<tr><td>1</td><td>81</td><td>2</td><td>18</td><td>2</td><td>Black</td><td>some college, no degree         </td><td> 1870</td><td>under 25,000</td></tr>\n",
       "\t<tr><td>1</td><td> 0</td><td>1</td><td>53</td><td>4</td><td>White</td><td>high school degree or equivalent</td><td>11691</td><td>under 25,000</td></tr>\n",
       "\t<tr><td>1</td><td> 0</td><td>1</td><td>28</td><td>3</td><td>White</td><td>some college, no degree         </td><td>    0</td><td>under 25,000</td></tr>\n",
       "\t<tr><td>1</td><td>97</td><td>2</td><td>25</td><td>3</td><td>White</td><td>some high school, no degree     </td><td>    0</td><td>under 25,000</td></tr>\n",
       "\t<tr><td>1</td><td> 0</td><td>2</td><td>30</td><td>3</td><td>White</td><td>high school degree or equivalent</td><td>    0</td><td>under 25,000</td></tr>\n",
       "</tbody>\n",
       "</table>\n"
      ],
      "text/latex": [
       "A tibble: 6 × 9\n",
       "\\begin{tabular}{lllllllll}\n",
       " STATEFIP & COUNTYFIP & SEX & AGE & AGE\\_CAT & RACE\\_RECODE & EDUC\\_RECODE & INCTOT & INCTOT\\_CAT\\\\\n",
       " <int+lbl> & <dbl+lbl> & <int+lbl> & <int+lbl> & <dbl> & <fct> & <fct> & <dbl+lbl> & <fct>\\\\\n",
       "\\hline\n",
       "\t 1 &  0 & 2 & 19 & 2 & White & some college, no degree          & -1754 & under 25,000\\\\\n",
       "\t 1 & 81 & 2 & 18 & 2 & Black & some college, no degree          &  1870 & under 25,000\\\\\n",
       "\t 1 &  0 & 1 & 53 & 4 & White & high school degree or equivalent & 11691 & under 25,000\\\\\n",
       "\t 1 &  0 & 1 & 28 & 3 & White & some college, no degree          &     0 & under 25,000\\\\\n",
       "\t 1 & 97 & 2 & 25 & 3 & White & some high school, no degree      &     0 & under 25,000\\\\\n",
       "\t 1 &  0 & 2 & 30 & 3 & White & high school degree or equivalent &     0 & under 25,000\\\\\n",
       "\\end{tabular}\n"
      ],
      "text/markdown": [
       "\n",
       "A tibble: 6 × 9\n",
       "\n",
       "| STATEFIP &lt;int+lbl&gt; | COUNTYFIP &lt;dbl+lbl&gt; | SEX &lt;int+lbl&gt; | AGE &lt;int+lbl&gt; | AGE_CAT &lt;dbl&gt; | RACE_RECODE &lt;fct&gt; | EDUC_RECODE &lt;fct&gt; | INCTOT &lt;dbl+lbl&gt; | INCTOT_CAT &lt;fct&gt; |\n",
       "|---|---|---|---|---|---|---|---|---|\n",
       "| 1 |  0 | 2 | 19 | 2 | White | some college, no degree          | -1754 | under 25,000 |\n",
       "| 1 | 81 | 2 | 18 | 2 | Black | some college, no degree          |  1870 | under 25,000 |\n",
       "| 1 |  0 | 1 | 53 | 4 | White | high school degree or equivalent | 11691 | under 25,000 |\n",
       "| 1 |  0 | 1 | 28 | 3 | White | some college, no degree          |     0 | under 25,000 |\n",
       "| 1 | 97 | 2 | 25 | 3 | White | some high school, no degree      |     0 | under 25,000 |\n",
       "| 1 |  0 | 2 | 30 | 3 | White | high school degree or equivalent |     0 | under 25,000 |\n",
       "\n"
      ],
      "text/plain": [
       "  STATEFIP COUNTYFIP SEX AGE AGE_CAT RACE_RECODE\n",
       "1 1         0        2   19  2       White      \n",
       "2 1        81        2   18  2       Black      \n",
       "3 1         0        1   53  4       White      \n",
       "4 1         0        1   28  3       White      \n",
       "5 1        97        2   25  3       White      \n",
       "6 1         0        2   30  3       White      \n",
       "  EDUC_RECODE                      INCTOT INCTOT_CAT  \n",
       "1 some college, no degree          -1754  under 25,000\n",
       "2 some college, no degree           1870  under 25,000\n",
       "3 high school degree or equivalent 11691  under 25,000\n",
       "4 some college, no degree              0  under 25,000\n",
       "5 some high school, no degree          0  under 25,000\n",
       "6 high school degree or equivalent     0  under 25,000"
      ]
     },
     "metadata": {},
     "output_type": "display_data"
    }
   ],
   "source": [
    "head(dat_analysis)"
   ]
  },
  {
   "cell_type": "markdown",
   "id": "0f5c24c2-8f2a-4928-a4b7-fb083c0cd048",
   "metadata": {},
   "source": [
    "And a look at the summary information for *dat_analysis*."
   ]
  },
  {
   "cell_type": "code",
   "execution_count": 38,
   "id": "18be50e3-1689-4dde-99be-99e86c7263bf",
   "metadata": {},
   "outputs": [
    {
     "data": {
      "text/plain": [
       "    STATEFIP       COUNTYFIP           SEX           AGE_CAT     \n",
       " Min.   : 1.00   Min.   :  0.00   Min.   :1.000   Min.   :1.000  \n",
       " 1st Qu.:12.00   1st Qu.:  0.00   1st Qu.:1.000   1st Qu.:2.000  \n",
       " Median :27.00   Median : 19.00   Median :2.000   Median :3.000  \n",
       " Mean   :27.76   Mean   : 50.75   Mean   :1.509   Mean   :3.218  \n",
       " 3rd Qu.:42.00   3rd Qu.: 73.00   3rd Qu.:2.000   3rd Qu.:4.000  \n",
       " Max.   :56.00   Max.   :810.00   Max.   :2.000   Max.   :5.000  \n",
       "                                                                 \n",
       "                             RACE_RECODE      \n",
       " White                             :11191212  \n",
       " Black                             : 1463804  \n",
       " American Indian or Native American:  184752  \n",
       " Asian or Pacific Islander         :  928923  \n",
       " Other Race                        :  754861  \n",
       " Two or More Races                 : 1197571  \n",
       "                                              \n",
       "                           EDUC_RECODE                  INCTOT_CAT     \n",
       " high school degree or equivalent:3473697   under 25,000     :5881976  \n",
       " some college, no degree         :2723910   25,000 to 49,999 :2935713  \n",
       " eight or fewer years            :2604974   50,000 to 74,999 :1798438  \n",
       " bachelor's degree               :2492914   75,000 to 149,999:1829175  \n",
       " advanced degree                 :1601139   150,000 or more  : 747065  \n",
       " (Other)                         :2387140   NA's             :2528756  \n",
       " NA's                            : 437349                              "
      ]
     },
     "metadata": {},
     "output_type": "display_data"
    }
   ],
   "source": [
    "summary(dat_analysis)"
   ]
  },
  {
   "cell_type": "markdown",
   "id": "45902040-521f-47c7-930b-c98f66841f07",
   "metadata": {},
   "source": [
    "We'll save a copy of *dat_analysis* in the .rds file format using the *saveRDS* base R function.  The .rds format will allow us to retain the labels and metadata in our dataset for the next time we want to import the same file back into R.  One downside to the .rds format is it is only useable within R.\n",
    "\n",
    "Alternatively we could save this file as a .csv or other common format which would allow us to easily open it in other settings.  However, for this exercise, we are simply interested in storing a copy of our data so that we can use it in another notebook withouth having to go through the data cleaning and labeling steps again."
   ]
  },
  {
   "cell_type": "code",
   "execution_count": 42,
   "id": "322019a2-694e-4a5e-88a9-9ec0a38f94f0",
   "metadata": {},
   "outputs": [],
   "source": [
    "saveRDS(dat_analysis, \"dat_analysis.rds\")"
   ]
  },
  {
   "cell_type": "markdown",
   "id": "40156e6e-6b0b-40e0-9f9b-c96acd18ab26",
   "metadata": {},
   "source": [
    "We now have a cleaned, quality dataset saved and ready for our next step, exploratory data analysis (EDA)!"
   ]
  },
  {
   "cell_type": "markdown",
   "id": "50a2eb67-14ba-4b22-a30c-3c42837cfcf4",
   "metadata": {},
   "source": [
    "## Next Steps\n",
    "\n",
    "From here, we recommend exploring the following notebooks:\n",
    "\n",
    "* **Exploratory Data Analysis (EDA) with IPUMS USA**"
   ]
  }
 ],
 "metadata": {
  "kernelspec": {
   "display_name": "iguide-ewd-r",
   "language": "R",
   "name": "iguide-ewd-r"
  },
  "language_info": {
   "codemirror_mode": "r",
   "file_extension": ".r",
   "mimetype": "text/x-r-source",
   "name": "R",
   "pygments_lexer": "r",
   "version": "4.3.1"
  }
 },
 "nbformat": 4,
 "nbformat_minor": 5
}
