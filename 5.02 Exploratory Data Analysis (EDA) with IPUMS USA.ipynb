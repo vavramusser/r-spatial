{
 "cells": [
  {
   "cell_type": "markdown",
   "id": "e52181c1-d397-4f78-8eb4-e2ec9bb052e7",
   "metadata": {},
   "source": [
    "# Exploratory Data Analysis (EDA) with IPUMS USA\n",
    "### by [Kate Vavra-Musser](https://vavramusser.github.io) for the [R Spatial Notebook Series](https://vavramusser.github.io/r-spatial)"
   ]
  },
  {
   "cell_type": "markdown",
   "id": "2102dd01-4ae9-40f0-a199-abd37711f717",
   "metadata": {},
   "source": [
    "## Introduction\n",
    "This notebook demonstrates the process of exploratory data analysin using with tabular data.  The notebook uses data extracted from the [IPUMS USA](https://usa.ipums.org/usa) repository, which provides harmonized data from the U.S. Decennial Census, American Community Survey, and Puerto Rico Community Survey, and other sources.  Following data cleaning and preparation, the next step in an analysis workflow is to carry out exploratory data analyses (EDA) which will help you better understand the information contained in your data and potential relationships between variables.  EDA is often carried out as a preliminary step before more nuanced analyses like regression analysis.  This notebook will guide you through key steps in EDA, including exploring variable characteristics and relationships between variables.\n",
    "\n",
    "### Notebook Goals\n",
    "This notebook introduces an EDA workflow using previously-downloaded, cleaned, and prepared data from [IPUMS USA](https://usa.ipums.org/usa) data using the [IPUMS API](https://developer.ipums.org/docs/v2/apiprogram) via the [ipumsr R package](https://cran.r-project.org/web/packages/ipumsr/index.html).  This notebook is intended as a follow-up to [Data Cleaning and Preparation with IPUMS USA](https://platform.i-guide.io/notebooks/b4b29b13-d832-495d-8db7-1545a30549f1).  Users will learn how to manage outliers, identify relationships, and calculate EDA statistics for population data in R.  By the end of this notebook, users will have the skills to create their own EDA workflows for tabular IPUMS data or other population datasets for social and demographic research workflows.\n",
    "\n",
    "### ✨ Prerequisites ✨\n",
    "* Complete [Introduction to IPUMS and the IPUMS API](https://platform.i-guide.io/notebooks/82d3b176-e4e6-4307-8186-318a3fe6c81a)\n",
    "* Complete [IPUMS USA Data Extraction Using ipumsr](https://platform.i-guide.io/notebooks/ab5cad39-6d00-43d2-bc51-17fd4e6b98f2)\n",
    "* Complete [Data Cleaning and Preparation with IPUMS USA](https://platform.i-guide.io/notebooks/b4b29b13-d832-495d-8db7-1545a30549f1)\n",
    "\n",
    "### 💽 Data Used in this Notebook 💽\n",
    "* IPUMS USA Example Analysis (*ipums_usa_analysis.rds*)\n",
    "  * If you worked through [Data Cleaning and Preparation with IPUMS USA](https://platform.i-guide.io/notebooks/b4b29b13-d832-495d-8db7-1545a30549f1) you should have created and saved a copy of *ipums_usa_analysis.rds* in the final section of the notebook.\n",
    "  * You can also download a copy of *ipums_usa_analysis.rds* file from [the I-GUIDE platform](https://platform.i-guide.io/datasets/25de540c-44a1-4a65-b5af-c772a716e082) or [Kate's GitHub](https://github.com/vavramusser/r-spatial/blob/main/ipums_usa_analysis.rds).\n",
    "\n",
    "#### About the Example Data Set\n",
    "The [*ipums_usa_analysis.rds*](https://platform.i-guide.io/datasets/25de540c-44a1-4a65-b5af-c772a716e082) file contains basic demographic information (sex, age, race, educational attainment, and total personal income) on residents of the state of Michigan collected as part of the 2010 [American Community Survey (ACS)](https://www.census.gov/programs-surveys/acs/about.html).  The data has been modified from its original version during data cleaning and preparation steps carried out in [Chapter 3.1](https://platform.i-guide.io/notebooks/b4b29b13-d832-495d-8db7-1545a30549f1).  The ACS is an annual survey conducted by the [U.S. Census Bureau](https://www.census.gov) that collects information on a subset of the U.S. population.  It is a more in-depth supplement to the [U.S. Decennial Census](https://www.census.gov/programs-surveys/decennial-census.html) and in 2005 replaced the long-form version of the Decennial Census survey which was previously conducted every ten years.\n",
    "\n",
    "### Notebook Overview\n",
    "1. Setup\n",
    "2. Summary Statistics"
   ]
  },
  {
   "cell_type": "markdown",
   "id": "f155399e-6b76-4f49-9096-a7e078140101",
   "metadata": {},
   "source": [
    "## 1. Setup\n",
    "This section will guide you through the process of installing essential packages.\n",
    "\n",
    "[**haven**](https://cran.r-project.org/web/packages/haven/index.html) · Import foreign statistical formats into R via the embedded [\"ReadStat\"](https://github.com/WizardMac/ReadStat) C library.  This notebook uses the the following functions from *haven*."
   ]
  },
  {
   "cell_type": "markdown",
   "id": "94d3525e-7136-4f72-b2d4-dd27e6c48edc",
   "metadata": {},
   "source": [
    "### 1a. Install and Load Required Packages\n",
    "If you have not already installed the required packages, uncomment and run the code below:"
   ]
  },
  {
   "cell_type": "code",
   "execution_count": null,
   "id": "3cb61f57-81e3-4d2a-93bf-15cff43fcff0",
   "metadata": {},
   "outputs": [],
   "source": [
    "# install.packages(\"haven\")"
   ]
  },
  {
   "cell_type": "markdown",
   "id": "3beed6a8-7b67-4fa4-8e08-0e9a4bc50725",
   "metadata": {},
   "source": [
    "Load the packages into your workspace."
   ]
  },
  {
   "cell_type": "code",
   "execution_count": null,
   "id": "f3c86a4b-2696-4917-9e9b-f0d986f4733d",
   "metadata": {},
   "outputs": [],
   "source": [
    "library(haven)"
   ]
  },
  {
   "cell_type": "markdown",
   "id": "4e44d026-b9fd-4336-982f-78304827f3e9",
   "metadata": {},
   "source": [
    "### 1b. Read in the Data File\n",
    "\n",
    "Run the following line of code to read in the *ipums_usa_analysis.rds* file into memory.  You may need to update the file path to reflect the file's location on your machine or in your working directory."
   ]
  },
  {
   "cell_type": "code",
   "execution_count": null,
   "id": "05024eb1-f2a7-47ed-91cc-ee7ef1a79025",
   "metadata": {},
   "outputs": [],
   "source": [
    "dat <- readRDS(\"ipums_usa_analysis.rds\")"
   ]
  },
  {
   "cell_type": "markdown",
   "id": "92817d4b-4c60-4b45-8d6d-0cf657d8d917",
   "metadata": {},
   "source": [
    "### 1c. Review the Data\n",
    "\n",
    "As a reminder, the data included in the *ipums_usa_analysis.rds* file was initially downloaded from IPUMS USA via API in [Chapter 2.1](https://platform.i-guide.io/notebooks/ab5cad39-6d00-43d2-bc51-17fd4e6b98f2) and later modified during data cleaning and preparation steps in [Chapter 3.1](https://platform.i-guide.io/notebooks/b4b29b13-d832-495d-8db7-1545a30549f1).  The data is derived from the 2010 ACS and was subset to only the state of Michigan.  After Chapter 3.1 the data includes the following variables:\n",
    "\n",
    "**Variable List**\n",
    "* [State FIPS Code (STATEFIP)](https://en.wikipedia.org/wiki/Federal_Information_Processing_Standard_state_code)\n",
    "* [Public Use Microdata Area (PUMA)](https://www.census.gov/programs-surveys/geography/guidance/geo-areas/pumas.html#:~:text=Public%20Use%20Microdata%20Areas%20(PUMAs)%20are%20non%2Doverlapping%2C,%2C%20Puerto%20Rico%2C%20and%20Guam.)\n",
    "* Sex (SEX)\n",
    "* Age (AGE)\n",
    "* Age Categories (AGE_CAT) derived from the AGE variable in [Chapter 3.1](https://platform.i-guide.io/notebooks/b4b29b13-d832-495d-8db7-1545a30549f1)\n",
    "* Race Categories (RACE_RECODE) derived from the RACE variable in [Chapter 3.1](https://platform.i-guide.io/notebooks/b4b29b13-d832-495d-8db7-1545a30549f1)\n",
    "* Educatioal Attainment Categories (EDUC_RECODE) derived from the EDUC variable in [Chapter 3.1](https://platform.i-guide.io/notebooks/b4b29b13-d832-495d-8db7-1545a30549f1)\n",
    "* Total Personal Income (INCTOT)\n",
    "* Total Personal Income Categories (INC_TOT) derived from the INCTOT variable in [Chapter 3.1](https://platform.i-guide.io/notebooks/b4b29b13-d832-495d-8db7-1545a30549f1)\n",
    "\n",
    "Let's check out the dimensions of the data."
   ]
  },
  {
   "cell_type": "code",
   "execution_count": null,
   "id": "14e6d51a-0e99-4e4b-a840-64394122dc83",
   "metadata": {},
   "outputs": [],
   "source": [
    "dim(dat)"
   ]
  },
  {
   "cell_type": "markdown",
   "id": "63a7799e-e998-485f-8c2d-cb8d6091d61b",
   "metadata": {},
   "source": [
    "The data includes information on 9 variables for 98,973 individuals in the state of Michigan in 2010.\n",
    "\n",
    "## 2. Summary Statistics\n",
    "\n",
    "Before we get into more serious EDA steps, let's take a look at a summary of the data which will provide us with a quick snapshot of the variables included in the file."
   ]
  },
  {
   "cell_type": "code",
   "execution_count": null,
   "id": "6e77ca51-cb75-4228-aa7b-3ce3977d44b4",
   "metadata": {},
   "outputs": [],
   "source": [
    "summary(dat)"
   ]
  },
  {
   "cell_type": "markdown",
   "id": "b0278fd9-5144-45c4-9bd5-035d5c922e2c",
   "metadata": {},
   "source": [
    "From this we can see that the age (AGE) and total personal income (INCTOT) variables are numeric and the sex (SEX), age category (AGE_CAT), race category (RACE_RECODE), and total personal income category (INCTOT_CAT) variables are all categorical.  The geographic reference values State FIPS Code (STATEFIP) and Public Use Microdata Area (PUMA) variables are also numeric and correspond to identification codes for state and PUMA geographies.\n",
    "\n",
    "We can also see the number of missing values for each variable.  Most variables have no missing values but the educational attainment category variable (EDUC_RECODE) is missing for 3,081 individuals (< 1% of the data), the total personal income variable (INCTOT) is missing for 17688 individuals (1.8% of the data), and the total personal income category variable (INCTOT_CAT) is missing for 17939 individuals (1.8% of the data).\n",
    "\n",
    "### 2a. Measures of Central Tendency and Dispersion (Spread)\n",
    "\n",
    "We can also use individual functions for each of the summary statisitcs.  Let's check out some summary statistics for the age variable (AGE)."
   ]
  },
  {
   "cell_type": "code",
   "execution_count": null,
   "id": "3d29de3e-9ac7-483f-a12c-42332a3384c9",
   "metadata": {},
   "outputs": [],
   "source": [
    "# measures of central tendency\n",
    "paste(\"mean:\", round(mean(dat$AGE), 1))\n",
    "paste(\"median:\", median(dat$AGE))"
   ]
  },
  {
   "cell_type": "code",
   "execution_count": null,
   "id": "76d22cb1-5b29-4dd4-b3ec-7843b5c32e4d",
   "metadata": {},
   "outputs": [],
   "source": [
    "# measures of spread\n",
    "paste(\"varaince:\", round(var(dat$AGE), 1))\n",
    "paste(\"standard deviation:\", round(sd(dat$AGE), 1))\n",
    "paste(\"inter-quartile range:\", IQR(dat$AGE))"
   ]
  },
  {
   "cell_type": "markdown",
   "id": "fc383b64-60c4-4bad-a6eb-689e5ea6d74d",
   "metadata": {},
   "source": [
    "### 2b. Measures of Position\n"
   ]
  },
  {
   "cell_type": "code",
   "execution_count": null,
   "id": "1754b5d0-2c66-433e-900f-1dcfadf918e8",
   "metadata": {},
   "outputs": [],
   "source": [
    "paste(\"minimum:\", min(dat$AGE))\n",
    "paste(\"maximum:\", max(dat$AGE))"
   ]
  },
  {
   "cell_type": "markdown",
   "id": "8f26febe-a995-4083-b536-15813b64a30a",
   "metadata": {},
   "source": [
    "The *quantile* function to return percentiles based on whatever probability levels we specify."
   ]
  },
  {
   "cell_type": "code",
   "execution_count": null,
   "id": "35be9445-b891-4df3-b5b6-1d7e6bb7cde9",
   "metadata": {},
   "outputs": [],
   "source": [
    "# default quantiles (0th, 25th, 50th, 75th, and 100th percentiles)\n",
    "quantile(dat$AGE)\n",
    "\n",
    "# user-specified percentiles\n",
    "quantile(dat$AGE, probs = c(0.01, 0.05, 0.10, 0.90, 0.95, 0.99))"
   ]
  },
  {
   "cell_type": "markdown",
   "id": "6d9fe2a4-3a77-4f2b-89a5-108cf5bc0add",
   "metadata": {},
   "source": [
    "Viewing summary statistics are useful to get an idea of the structure and characteristics of our data but using the functions in R also make it easy to extract and store specific statistics to use later in our analysis.  For example, we will later create a density plot of the total personal income (INCTOT) variable and may want to add horizontal lines to the chart indicating the mean and median of the INCTOT variable.  Using the functions we could save the mean and median values as objects which we will later pass to the density plot function or we could pass the values directly to the plot by calling the summary statistic functions on the fly.  We will explore this more in the Data Visualization section of this notebook.\n",
    "\n",
    "### 2c. Variable Correlations"
   ]
  },
  {
   "cell_type": "code",
   "execution_count": null,
   "id": "f43ea9de-e5c4-4c0f-bb29-b32f2977a07b",
   "metadata": {},
   "outputs": [],
   "source": [
    "cor(dat$PUMA, dat$INCTOT, use = \"complete.obs\", method = \"pearson\")"
   ]
  },
  {
   "cell_type": "markdown",
   "id": "2dcf311f-be26-4ec1-a15b-49ee9eebe90a",
   "metadata": {},
   "source": [
    "## 3. Data Visualization"
   ]
  },
  {
   "cell_type": "markdown",
   "id": "ee626cfc-f385-4def-98be-64c3be807a62",
   "metadata": {},
   "source": [
    "### 2a. Histograms"
   ]
  },
  {
   "cell_type": "code",
   "execution_count": null,
   "id": "17f2d645-ed3d-43b1-bd9e-dd55ab8fbbbe",
   "metadata": {},
   "outputs": [],
   "source": [
    "hist(dat$AGE,\n",
    "     breaks = 25,\n",
    "     main = \"Age Distribution\",\n",
    "     xlab = \"Age in Years\",\n",
    "     col = \"orchid\")     # fill color for the histogram bars"
   ]
  },
  {
   "cell_type": "code",
   "execution_count": null,
   "id": "2f281c1f-5a7b-413d-9675-34be1aa347b9",
   "metadata": {},
   "outputs": [],
   "source": [
    "hist(dat$INCTOT,\n",
    "     breaks = 25,\n",
    "     main = \"Income Distribution\",\n",
    "     xlab = \"Income in Years\",\n",
    "     col = \"lightblue\")"
   ]
  },
  {
   "cell_type": "code",
   "execution_count": null,
   "id": "084ff48e-5f4e-49fb-be8a-5cf0b1cf622d",
   "metadata": {},
   "outputs": [],
   "source": [
    "# set the plot space to 1 row and 2 columns\n",
    "# the two histograms will appear side-by-side\n",
    "par(mfrow = c(1, 2))\n",
    "\n",
    "# histogram for age\n",
    "hist(dat$AGE,\n",
    "     breaks = 25,\n",
    "     main = \"Age Distribution\",\n",
    "     xlab = \"Age in Years\",\n",
    "     col = \"orchid\")\n",
    "\n",
    "# histogram for total income\n",
    "hist(dat$INCTOT,\n",
    "     breaks = 25,\n",
    "     main = \"Income Distribution\",\n",
    "     xlab = \"Income in Years\",\n",
    "     col = \"lightblue\")\n",
    "\n",
    "# reset the plot space back to the 1 x 1 default\n",
    "par(mfrow = c(1, 1))"
   ]
  },
  {
   "cell_type": "code",
   "execution_count": null,
   "id": "48604d9b-2b34-44d9-b89f-1c6f532372f8",
   "metadata": {},
   "outputs": [],
   "source": [
    "ggplot(dat, aes(x = AGE)) +\n",
    "  geom_histogram(bins = 25,\n",
    "                 fill = \"orchid\",       # fill color for the histogram bars\n",
    "                 color = \"black\") +     # border color for the histogram bars\n",
    "  labs(title = \"Age Distribution\",\n",
    "       x = \"Age in Years\",\n",
    "       y = \"Frequency\") +\n",
    "    theme_minimal()"
   ]
  },
  {
   "cell_type": "code",
   "execution_count": null,
   "id": "850d21e6-160f-4268-ae17-6a9b9e92e3b6",
   "metadata": {},
   "outputs": [],
   "source": [
    "mean(dat$INCTOT, na.rm = T)\n",
    "sd(dat$INCTOT, na.rm = T)"
   ]
  },
  {
   "cell_type": "code",
   "execution_count": null,
   "id": "49cdeb3b-126f-4edd-a15f-326c3e6a01eb",
   "metadata": {},
   "outputs": [],
   "source": [
    "dat %>%\n",
    "    filter(INCTOT <= mean(dat$INCTOT, na.rm = T) + sd(dat$INCTOT, na.rm = T) & INCTOT > 0) %>%\n",
    "    ggplot(aes(x = INCTOT)) +\n",
    "        geom_histogram(bins = 25,\n",
    "                       fill = \"lightblue\",\n",
    "                       color = \"black\") +\n",
    "        labs(title = \"Income Distribution\",\n",
    "             x = \"Income in Dollars\",\n",
    "             y = \"Frequency\") +\n",
    "    theme_minimal()"
   ]
  },
  {
   "cell_type": "markdown",
   "id": "8fe77572-2bd9-439e-b76b-d17605a8774a",
   "metadata": {},
   "source": [
    "### Gping In-Depth: Exploring Age by State"
   ]
  },
  {
   "cell_type": "markdown",
   "id": "2585242e-beb4-43cf-b6f4-b2045cee0fa4",
   "metadata": {},
   "source": [
    "As we begin to explore our data and visualize the patterns, we might start to have questions about how variables interact with one another.  The EDA phase is a great time to be curious and explore any relationships which might seem interesting.  It doesn't matter if you plan to specifically analyze that relationship in your final analysis.  Any data exploration will help you better understand the structure of your data and that, in turn, will allow you to more effectively approach your data during final data analysis.\n",
    "\n",
    "Let's start by getting curious about a potential relationship between age and location.  Do some states have a younger age distribution in their population?\n",
    "\n",
    "First, we will rearrange our data, grouping it by state (STATEFIIP), summarizing age for each state by calculating the mean and median age, and then arranging the states by mean age in descending order (from the \"oldest\" to the \"youngest\" state)."
   ]
  },
  {
   "cell_type": "code",
   "execution_count": null,
   "id": "529ee137-7bd9-4aa5-885a-4a009544e182",
   "metadata": {
    "scrolled": true
   },
   "outputs": [],
   "source": [
    "# List of mean and median age by state, sorted by mean age\n",
    "dat %>%\n",
    "  group_by(STATEFIP) %>%\n",
    "  summarize(mean_age = mean(AGE, na.rm = TRUE),\n",
    "            median_age = median(AGE, na.rm = TRUE)) %>%\n",
    "  arrange(desc(mean_age)) %>%\n",
    "  print(n = Inf)"
   ]
  },
  {
   "cell_type": "markdown",
   "id": "3603fc6a-4701-4356-808d-a15935f44471",
   "metadata": {},
   "source": [
    "There is a wide range between the minimum and maximum age by state.  The \"oldest\" state is Maine with a mean and median age of 46.6 and 51 years respectively while the \"youngest\" state is Utah with a mean and median age of 35.8 and 33, respectively.  That's a huge difference between the two states.\n",
    "\n",
    "Let's take a look at the age distributions for the two states and compare their differences.  We will use the *ggplot* function *grom_histogram()* again, use the *ggplot* function *geom_vline()* to create vertical lines in the plots to represent the means and medians for the two states, and use the *grid.arrange()* function from the *gridExtra* package to arrange the two histograms on on top of the other in the same graphic."
   ]
  },
  {
   "cell_type": "code",
   "execution_count": null,
   "id": "dfd6426c-00be-45db-8e03-dc2546d589cd",
   "metadata": {},
   "outputs": [],
   "source": [
    "# histogram of Maine age distribution\n",
    "hist_maine <- ggplot(filter(dat, STATEFIP == 23), aes(x = AGE)) +\n",
    "  geom_histogram(bins = 25, fill = \"lightblue\", color = \"black\") +\n",
    "  labs(title = \"Age Distribution in Maine\", x = \"Age\", y = \"Frequency\") +\n",
    "  geom_vline(xintercept = mean(filter(dat, STATEFIP == 23)$AGE, na.rm = T), color = \"red\", linewidth = 1) +\n",
    "  geom_vline(xintercept = median(filter(dat, STATEFIP == 23)$AGE, na.rm = T), color = \"blue\", linewidth = 1) +\n",
    "  theme_minimal()\n",
    "    \n",
    "# histogram of Utah age distribution\n",
    "hist_utah <- ggplot(filter(dat, STATEFIP == 49), aes(x = AGE)) +\n",
    "  geom_histogram(bins = 25, fill = \"lightgoldenrod\", color = \"black\") +\n",
    "  labs(title = \"Age Distribution in Utah\", x = \"Age\", y = \"Frequency\") +\n",
    "  geom_vline(xintercept = mean(filter(dat, STATEFIP == 49)$AGE, na.rm = T), color = \"red\", linewidth = 1) +\n",
    "  geom_vline(xintercept = median(filter(dat, STATEFIP == 49)$AGE, na.rm = T), color = \"blue\", linewidth = 1) +\n",
    "  theme_minimal()\n",
    "\n",
    "# arrange the histograms in two rows\n",
    "grid.arrange(hist_maine, hist_utah, nrow = 2)"
   ]
  },
  {
   "cell_type": "markdown",
   "id": "154fa7f7-593e-483b-b49b-98bdbb82491e",
   "metadata": {},
   "source": [
    "Viewing the two histograms shows us that these two states have very different age demographics.  The largest age group in Maine appears to be in the range of about 50 to 75 while the largest age group in Utah appears to be 25 and younger."
   ]
  },
  {
   "cell_type": "markdown",
   "id": "e117bb3d-1818-46f1-88f2-edd5a487a76e",
   "metadata": {},
   "source": [
    "### 2b. Box Plots"
   ]
  },
  {
   "cell_type": "code",
   "execution_count": null,
   "id": "4b7d4562-497f-444b-84d8-f8b046d40724",
   "metadata": {},
   "outputs": [],
   "source": [
    "boxplot(INCTOT ~ EDUC_RECODE, data = dat,\n",
    "        main = \"Income Distribution by Educational Attainment\",\n",
    "        xlab = \"Educational Attainment Categories\",\n",
    "        ylab = \"Total Income\",\n",
    "        col = \"lightblue\",      # fill color for the boxes\n",
    "        border = \"darkblue\",    # border color for the boxes\n",
    "        outline = FALSE)        # excludes outliers for a cleaner look"
   ]
  },
  {
   "cell_type": "code",
   "execution_count": null,
   "id": "5c2ddd21-6534-41be-ac09-10c029de40ef",
   "metadata": {},
   "outputs": [],
   "source": [
    "y_limit <- quantile(dat$INCTOT, 0.95, na.rm = T)\n",
    "\n",
    "dat %>%\n",
    "filter(!is.na(INCTOT)) %>%\n",
    "ggplot(aes(x = EDUC_RECODE, y = INCTOT)) +\n",
    "  geom_boxplot(fill = \"lightblue\", color = \"darkblue\", outlier.shape = NA) +\n",
    "  labs(title = \"Income Distribution by Educational Attainment\",\n",
    "       x = \"Educational Attainment Categories\",\n",
    "       y = \"Total Income\") +\n",
    "  coord_cartesian(ylim = c(0, y_limit)) +\n",
    "  theme_minimal()"
   ]
  },
  {
   "cell_type": "markdown",
   "id": "0390a0de-9fe3-4edc-9a09-b2b42acd9aab",
   "metadata": {},
   "source": [
    "### 2c. Scatter Plots"
   ]
  },
  {
   "cell_type": "code",
   "execution_count": null,
   "id": "63b5fd5b-fe10-49f1-90ff-09379b19c50e",
   "metadata": {},
   "outputs": [],
   "source": [
    "plot(dat$AGE)"
   ]
  },
  {
   "cell_type": "code",
   "execution_count": null,
   "id": "baad8958-a464-4fa8-af69-ee9f9a884a1d",
   "metadata": {},
   "outputs": [],
   "source": [
    "ggplot2::geom_point()"
   ]
  },
  {
   "cell_type": "markdown",
   "id": "741763e7-3edb-4387-95a4-4b5460511ab9",
   "metadata": {},
   "source": [
    "### 2d. Density Plots:"
   ]
  },
  {
   "cell_type": "code",
   "execution_count": null,
   "id": "8e05e11b-a485-44f4-89c6-d5d35260bae3",
   "metadata": {},
   "outputs": [],
   "source": [
    "ggplot2::geom_density()"
   ]
  },
  {
   "cell_type": "markdown",
   "id": "cf789ab5-9a24-44cb-9451-b161fc0b88a4",
   "metadata": {},
   "source": [
    "## 3. Correlation Analysis"
   ]
  },
  {
   "cell_type": "markdown",
   "id": "90fc7792-5237-4e0d-b206-c780c8b0f6b7",
   "metadata": {},
   "source": [
    "### 3a. Correlation Matricies"
   ]
  },
  {
   "cell_type": "code",
   "execution_count": null,
   "id": "d92faa4a-bf98-4620-bad4-526046bfdfa7",
   "metadata": {},
   "outputs": [],
   "source": [
    "cor()"
   ]
  },
  {
   "cell_type": "code",
   "execution_count": null,
   "id": "7d1a5a0a-219f-40de-bf92-031ab7563831",
   "metadata": {},
   "outputs": [],
   "source": [
    "corrplot::corrplot()"
   ]
  },
  {
   "cell_type": "markdown",
   "id": "24a292da-7155-4106-836d-30e18c859c6d",
   "metadata": {},
   "source": [
    "### 3b. Heatmaps"
   ]
  },
  {
   "cell_type": "code",
   "execution_count": null,
   "id": "2708fff7-84de-4131-bca4-6d50b779c757",
   "metadata": {},
   "outputs": [],
   "source": [
    "GGally::ggpairs()"
   ]
  },
  {
   "cell_type": "markdown",
   "id": "841a1d2b-c29c-4de6-8bb3-fe5a2e2c9c66",
   "metadata": {},
   "source": [
    "## 4. Outlier Detection"
   ]
  },
  {
   "cell_type": "code",
   "execution_count": null,
   "id": "adfd700c-6587-4f49-b35b-8d3f6bb1f257",
   "metadata": {},
   "outputs": [],
   "source": [
    "boxplot()"
   ]
  },
  {
   "cell_type": "code",
   "execution_count": null,
   "id": "971ee3b6-6ad3-4112-b5d3-b5b1e8ad97a9",
   "metadata": {},
   "outputs": [],
   "source": [
    "dplyr::filter()"
   ]
  },
  {
   "cell_type": "code",
   "execution_count": null,
   "id": "047e1e15-7ea1-4995-aacb-622b0e40f329",
   "metadata": {},
   "outputs": [],
   "source": [
    "ggplot2::geom_boxplot()"
   ]
  },
  {
   "cell_type": "markdown",
   "id": "ae52a25e-4d63-428f-b59f-ebddbc039699",
   "metadata": {},
   "source": [
    "## 5. Categorical Variable Analysis"
   ]
  },
  {
   "cell_type": "code",
   "execution_count": null,
   "id": "5fe17217-8cb8-4c80-8f1a-5482945ab18e",
   "metadata": {},
   "outputs": [],
   "source": [
    "table()"
   ]
  },
  {
   "cell_type": "code",
   "execution_count": null,
   "id": "42b9be33-e2fd-4705-b919-250e80db87f3",
   "metadata": {},
   "outputs": [],
   "source": [
    "prop.table()"
   ]
  },
  {
   "cell_type": "code",
   "execution_count": null,
   "id": "f227698b-95fc-4343-af1a-78ed2f0774ca",
   "metadata": {},
   "outputs": [],
   "source": [
    "ggplot2::geom_bar"
   ]
  },
  {
   "cell_type": "markdown",
   "id": "9fa3405f-0eb8-4cfe-8819-bccb3edc2eaa",
   "metadata": {},
   "source": [
    "## 5. Exploring Relationships in Depth"
   ]
  },
  {
   "cell_type": "markdown",
   "id": "15148ecf-8eeb-4696-a224-4f27183ce96e",
   "metadata": {},
   "source": [
    "### Exploring Educational Attainmennt by Age Group\n",
    "\n",
    "Taking a look at the education information, you might notice that there seem to be a suprisingly high number of individuals with very little education."
   ]
  },
  {
   "cell_type": "code",
   "execution_count": null,
   "id": "fabc6e8f-d581-44f5-b7a9-1d2cad2ed994",
   "metadata": {},
   "outputs": [],
   "source": [
    "calculate_percentage(dat, EDUC_RECODE)"
   ]
  },
  {
   "cell_type": "markdown",
   "id": "48485987-b67d-4153-b735-c6b13256fb38",
   "metadata": {},
   "source": [
    "25.01% (16.57% + 8.44%) of the population has not completed a high school degree or equivalent! This seems very high for 2017-2022. A quick search shows us that in 2021 only 8.9% of the population had less than a high school degree or equivalent.\n",
    "\n",
    "That number is way too high because we have children in the sample! Our review of the AGE variable, showed us that many of the individuals in this sample are too young to have even started school, let alone complete a degree. Unless we are specifically intersted in tracking educational attainment for children, it probably isn't very useful to include children when we analyze the EDUC_RECODE variable.\n",
    "\n",
    "When exploring educational attainment, it's common to only look at individuals aged 25 and older and if you clicked the link above you may have noticed that the website specifies that the 8.9% statistic is for ages 25 and older. Population level educational attainment research is usually focused on high school completion and college completion and, for the most part, individuals usually complete these degrees by age 25 if they plan to complete them at all.\n",
    "\n",
    "Let's take another look at the education variable, but restricting to only individuals aged 25 or older. We are also excluding the missing (N/A) category for this view and focus only on the individuals for which we have educational attainment information."
   ]
  },
  {
   "cell_type": "code",
   "execution_count": null,
   "id": "af38da08-ba90-4761-9c79-783d350ac6ac",
   "metadata": {},
   "outputs": [],
   "source": [
    "calculate_percentage(filter(dat, AGE >= 25 & !is.na(EDUC_RECODE)), EDUC_RECODE)"
   ]
  },
  {
   "cell_type": "markdown",
   "id": "c03637b0-50a7-42a5-b057-1cc65de9d61f",
   "metadata": {},
   "source": [
    "After restricing the data to only individuals aged 25 or older we can see that only 10.31% (4.35% + 5.96%) have not achieved a high school degree or equivalent.  This is close to the statistic provided above and makes much more sense given contemporary educational attainment rates.\n",
    "\n",
    "We can dig even deeper and compare age category and educational attainment category.\n",
    "\n",
    "First we will make a new helper function to produce cross-tabulations with percents."
   ]
  },
  {
   "cell_type": "code",
   "execution_count": null,
   "id": "8c10091d-6464-46a5-9222-c2862f83add6",
   "metadata": {},
   "outputs": [],
   "source": [
    "calculate_percentage_cross_tab <- function(data, var1, var2) {\n",
    "  data %>%\n",
    "    count({{ var1 }}, {{ var2 }}) %>%\n",
    "    group_by({{ var1 }}) %>%\n",
    "    mutate(Percentage = n / sum(n) * 100) %>%\n",
    "    ungroup()\n",
    "}"
   ]
  },
  {
   "cell_type": "markdown",
   "id": "fa21f387-a104-4da6-a8b7-a051f81096d3",
   "metadata": {},
   "source": [
    "Then we can take a look at educational attainment by age category."
   ]
  },
  {
   "cell_type": "code",
   "execution_count": null,
   "id": "1a2195a1-c365-4c3c-8f91-8d9d43a800f0",
   "metadata": {},
   "outputs": [],
   "source": [
    "calculate_percentage_cross_tab(filter(dat, AGE >= 25), AGE_CAT, EDUC_RECODE) %>% print(n = Inf)"
   ]
  },
  {
   "cell_type": "markdown",
   "id": "fa5103fd-05dd-42df-bfdb-dd2a84a6b654",
   "metadata": {},
   "source": [
    "This cross-tabulation shows us that younger adults are completing more education than the older generations.  Fewer members of the younger generation have not completed high school and more have completed a bachelor's degree.\n",
    "\n",
    "Percent of the population with no high school diploma or equivalent:\n",
    "* 8.68% (3.17% + 5.51%) of the 25-44 population\n",
    "* 10.25% (4.30% + 5.95%) of the 45-64 population\n",
    "* 12.20% (5.74% + 6.46%) of the 65+ population\n",
    "\n",
    "Percent of the population with a Bachelor's degree or more:\n",
    "* 40.6% (25.7% + 14.9%) of the 25-44 population\n",
    "* 36.6% (20.0% + 13.6%) of the 45-64 population\n",
    "* 30.0% (16.3% + 13.7%) of the 65+ population"
   ]
  },
  {
   "cell_type": "markdown",
   "id": "1c51720b-9717-491d-8093-3c4e4964ff7f",
   "metadata": {},
   "source": [
    "Let's use *ggplot* to create a stacked bar chat showing educational attainment category by age group."
   ]
  },
  {
   "cell_type": "code",
   "execution_count": null,
   "id": "1cd8f23f-b28c-4910-8102-cff79b1bb7cf",
   "metadata": {},
   "outputs": [],
   "source": [
    "# stacked bar chart comparing age groups and educational attainment\n",
    "ggplot(filter(dat, AGE >= 25), aes(x = AGE_CAT, fill = EDUC_RECODE)) +\n",
    "  geom_bar(position = \"fill\") +\n",
    "  labs(title = \"Educational Attainment by Age Group\",\n",
    "       x = \"Age Group\",\n",
    "       y = \"Proportion\",\n",
    "       fill = \"Educational Attainment\") +\n",
    "  scale_y_continuous(labels = scales::percent_format()) +\n",
    "  theme_minimal()"
   ]
  },
  {
   "cell_type": "markdown",
   "id": "23f1d35a-a5b1-4a91-9daf-b6a42e60b6fe",
   "metadata": {},
   "source": [
    "The stacked bar chart confirms what we saw in the cross-tabulation and shows a shift of educational attainment by generation.  The most common educational attainment level for individuals aged 25-44 is a Bachelor's degree compared to a high school degree or equivalent for individuals aged 65+.\n",
    "\n",
    "Let's break this down further by exploring these trends seperately for men and women."
   ]
  },
  {
   "cell_type": "code",
   "execution_count": null,
   "id": "d79f27e6-a8e1-41ea-9bf6-4bdc7cc7ba0a",
   "metadata": {},
   "outputs": [],
   "source": [
    "# stacked bar chart comparing age groups and educational attainment (men only)\n",
    "ggplot(filter(dat, AGE >= 25 & SEX == 1), aes(x = AGE_CAT, fill = EDUC_RECODE)) +\n",
    "  geom_bar(position = \"fill\") +\n",
    "  labs(title = \"Men's Educational Attainment by Age Group\",\n",
    "       x = \"Age Group\",\n",
    "       y = \"Proportion\",\n",
    "       fill = \"Educational Attainment\") +\n",
    "  scale_y_continuous(labels = scales::percent_format()) +\n",
    "  theme_minimal()\n",
    "\n",
    "# stacked bar chart comparing age groups and educational attainment (women only)\n",
    "ggplot(filter(dat, AGE >= 25 & SEX == 2), aes(x = AGE_CAT, fill = EDUC_RECODE)) +\n",
    "  geom_bar(position = \"fill\") +\n",
    "  labs(title = \"Women's Educational Attainment by Age Group\",\n",
    "       x = \"Age Group\",\n",
    "       y = \"Proportion\",\n",
    "       fill = \"Educational Attainment\") +\n",
    "  scale_y_continuous(labels = scales::percent_format()) +\n",
    "  theme_minimal()"
   ]
  },
  {
   "cell_type": "markdown",
   "id": "45d57a35-a0da-46c7-8f9a-2c77858210da",
   "metadata": {},
   "source": [
    "This comparison shows us that a lot of this shift in educational attainment we are seeing is due to a shift in women's educational attainment specifically.  While men's educational attainment has also changed, the difference between age groups is not nearly as significant as it is for women.\n",
    "\n",
    "We also see interesting differences between men's and women's educational attainment.  Let's take a look at the cross-tabulations for men and women seperately."
   ]
  },
  {
   "cell_type": "code",
   "execution_count": null,
   "id": "4145cf31-e000-433a-955f-518180e5301c",
   "metadata": {},
   "outputs": [],
   "source": [
    "# men only\n",
    "calculate_percentage_cross_tab(filter(dat, AGE >= 25 & SEX == 1), AGE_CAT, EDUC_RECODE) %>% print(n = Inf)"
   ]
  },
  {
   "cell_type": "code",
   "execution_count": null,
   "id": "d9a44b5c-fe43-4e71-90ec-52ab19edc1b9",
   "metadata": {},
   "outputs": [],
   "source": [
    "# women only\n",
    "calculate_percentage_cross_tab(filter(dat, AGE >= 25 & SEX == 2), AGE_CAT, EDUC_RECODE) %>% print(n = Inf)"
   ]
  },
  {
   "cell_type": "code",
   "execution_count": null,
   "id": "57cb43a2-e237-4463-8956-d5b85eec2ccb",
   "metadata": {},
   "outputs": [],
   "source": [
    "There are some interesting differences in educational attainment for men compared to women.  In general, women in the youngest generation are completing more education than their male counterparts.\n",
    "\n",
    "Percent of the 25-44 population with no high school diploma or equivalent:\n",
    "* 10.22% (3.55% + 6.67%) of men aged 25-44\n",
    "* 7.11% (2.78% + 4.33%) of women aged 25-44\n",
    "\n",
    "Percent of the 25-44 population with a Bachelor's degree or more:\n",
    "* 35.8% (23.5% + 12.3%) of men aged 25-44\n",
    "* 45.5% (27.9% + 17.6%) of women aged 25-44"
   ]
  },
  {
   "cell_type": "markdown",
   "id": "87576a42-dd3d-4268-a271-b81b5f9b6820",
   "metadata": {},
   "source": [
    "---\n",
    "\n",
    "## Next Steps\n",
    "\n",
    "* Continue to [**Chapter 5.3 Spatial Data Exploration and Preprocessing with IPUMS NHGIS**](https://platform.i-guide.io/notebooks/2927de7d-45a4-46d7-8f76-a569af637d82)\n",
    "* Move on to Chapter 6: Mapping and Visualization\n",
    "  * [**Chapter 6.1 Visualization and Quick Plots**](https://platform.i-guide.io/notebooks/dfe8fd72-f896-4dd2-9d61-6d9982394f1f)\n",
    "  * [**Chapter 6.2 Mapping Point and Polygon Data**](https://platform.i-guide.io/notebooks/2b9f579c-32b0-4078-af39-994bb31d50ec)\n",
    "  * [**Chapter 6.3 Choropleth Mapping**](https://platform.i-guide.io/notebooks/f2f973df-2412-49f0-ad39-d80051f20d4d)\n",
    "* Return to the [**R Spatial Notebooks Project Chapter List**](https://vavramusser.github.io/r-spatial/#:~:text=Chapter%201%3A%20Data%20Sources%20and%20APIs) to view a list of all available notebooks organized in the R Spatial Notebooks chapter structure.\n",
    "* Visit the [**R Spatial Notebooks Project Homepage**](https://vavramusser.github.io/r-spatial) to learn more about the project, view the list of all notebooks, and explore additional resources.\n",
    "* Join the project [**Mailing List**](https://mailchi.mp/ab01e8fc8397/r-spatial-email-signup) to hear about future notebook releases and other updates.\n",
    "* If you have an idea for a new notebook please submit your idea via the [**Suggestion Box**](https://us19.list-manage.com/survey?u=746bf8d366d6fbc99c699e714&id=54590a28ea&attribution=false).\n",
    "\n",
    "---\n",
    "\n",
    "## ★ Thank You ★\n",
    "\n",
    "Thank you so much for engaging with this notebook and supporting the project!  The R Spatial Notebooks Project is a labor of love so if you enjoy or benefit from these notebooks, please consider [**Donating to the Project**](https://buymeacoffee.com/vavramusser).  Your support allows me to continue producing notebooks and supporting the R Spatial Notebooks community."
   ]
  }
 ],
 "metadata": {
  "kernelspec": {
   "display_name": "R",
   "language": "R",
   "name": "ir"
  },
  "language_info": {
   "codemirror_mode": "r",
   "file_extension": ".r",
   "mimetype": "text/x-r-source",
   "name": "R",
   "pygments_lexer": "r",
   "version": "4.3.3"
  }
 },
 "nbformat": 4,
 "nbformat_minor": 5
}
