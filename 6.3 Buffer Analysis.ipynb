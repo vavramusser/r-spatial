{
 "cells": [
  {
   "cell_type": "markdown",
   "id": "a4659146-97c2-4666-bd68-367141e13b42",
   "metadata": {},
   "source": [
    "# Buffer Analysis"
   ]
  },
  {
   "cell_type": "markdown",
   "id": "1f575a3c-005a-4ab8-bbde-b3b378305f57",
   "metadata": {},
   "source": [
    "## Introduction\n",
    "\n",
    "This notebook demonstrates a buffer analysis to assess population exposure to air pollutants using PM2.5 data from the [U.S. EPA Air Quality System (AQS)](https://www.epa.gov/aqs). [Buffer analysis](https://en.wikipedia.org/wiki/Buffer_analysis) is essential in spatial data analysis for identifying areas impacted within a specified distance of a point location, such as air quality monitoring sites. Here, we will create buffers around PM2.5 monitoring sites and overlay population data to estimate the population potentially exposed to pollutants within these buffer zones."
   ]
  },
  {
   "cell_type": "markdown",
   "id": "f7a23bec-c7b7-40cb-843a-30e438a6ff34",
   "metadata": {},
   "source": [
    "### The United States Environmental Protection Agency's (EPA) Air Quality System (AQS) Database and API\n",
    "\n",
    "The [EPA’s Air Quality System (AQS) API](https://aqs.epa.gov/aqsweb/documents/data_api.html) provides access to detailed, historical data on ambient air quality collected across the United States. Developed and maintained by the [United States Environmental Protection Agency (EPA)](https://www.epa.gov), the [Air Quality System (AQS)](https://www.epa.gov/aqs) houses data from thousands of air pollution monitoring stations operated by state, local, tribal, and federal agencies.\n",
    "\n",
    "The AQS API offers row-level data on pollutant measurements, site metadata, and meteorological conditions, enabling research in environmental science, public health, and policy. AQS data include information about criteria pollutants like particulate matter (PM2.5 and PM10), ozone, sulfur dioxide, carbon monoxide, nitrogen dioxide, and lead. These data are highly valuable for understanding air quality trends and analyzing the relationship between pollution exposure and health outcomes across different demographics and geographies.\n",
    "\n",
    "The [RAQSAPI package](https://cran.r-project.org/web/packages/RAQSAPI/index.html) is a tool for retrieving and managing AQS data in R, facilitating direct, programmatic access to EPA’s air quality database. By interfacing with the AQS API, RAQSAPI enables users to retrieve historical air quality data for specific pollutants, states, monitoring sites, or time periods directly into R for analysis.\n",
    "\n",
    "#### Create Your EPA AQS API Key\n",
    "To use the AQS API, users need to register for an API key.  To register via email, update the following link with your email address (replace \"myemail@example.com\" in the example with your email address) and navigate to the link.\n",
    "\n",
    "https://aqs.epa.gov/data/api/signup?email=myemail@example.com\n",
    "\n",
    "An email containing your API key will be sent to the registered address from aqsdatamart@epa.gov."
   ]
  },
  {
   "cell_type": "markdown",
   "id": "b0588a2b-db20-44ec-b9a2-1a6dfb3a73de",
   "metadata": {},
   "source": [
    "#### Overview\n",
    "This notebook includes the following sections:\n",
    "\n",
    "1. Setup\n",
    "2. Data Acquisition\n",
    "3. USA Data Extraction Specification and Submission"
   ]
  },
  {
   "cell_type": "markdown",
   "id": "a9ec4dff-5f81-4248-8405-61b735b62581",
   "metadata": {},
   "source": [
    "## 1 Setup\n",
    "\n",
    "### 1a. Package Installation\n",
    "\n",
    "Before running this script, you will need to install and load the following packages into your R environment:"
   ]
  },
  {
   "cell_type": "markdown",
   "id": "2b89930c-47e1-43bb-86a4-77661d68ca86",
   "metadata": {},
   "source": [
    "[**dplyr**](https://cran.r-project.org/web/packages/dplyr/index.html) A package for data manipulation that provides a consistent set of functions to filter, arrange, summarize, and transform data. *dplyr* makes it easy to work with data frames and perform operations efficiently.  This notebook uses the the following functions from *dplyr*.\n",
    "\n",
    "* [*group_by()*](https://dplyr.tidyverse.org/reference/group_by.html) for grouping by one or more variables\n",
    "* [*summarize()*](https://dplyr.tidyverse.org/reference/summarise.html) for creating a new data frame using combinations of grouping variables\n",
    "* This notebook also uses [*%>%*](https://magrittr.tidyverse.org/reference/pipe.html), referred to as the *pipe* operator, which is used to pass the output from one function directly into the next function for the purpose of creating streamlined workflows.  The *pipe* operator is a commonly used component of the [*tidyverse*](https://www.tidyverse.org)."
   ]
  },
  {
   "cell_type": "markdown",
   "id": "073b91d3-85fe-44f0-a876-37398152059b",
   "metadata": {},
   "source": [
    "[**ggplot2**](https://cran.r-project.org/web/packages/ggplot2/index.html) A package for creating graphics based on the \"Grammar of Graphics\".  This notebook uses the following functions from *ggplot2*.\n",
    "\n",
    "* [*geom_sf()*](https://ggplot2.tidyverse.org/reference/ggsf.html) for visualizing (mapping) sf objects"
   ]
  },
  {
   "cell_type": "markdown",
   "id": "938dcbba-8780-49bf-92f5-dcc5281a6956",
   "metadata": {},
   "source": [
    "[**ipumsr**](https://cran.r-project.org/web/packages/ipumsr/index.html) A package specifically designed to interact with IPUMS datasets, including NHGIS. It allows users to define and submit data extraction requests, download data, and read it directly into R for analysis.  This notebook uses the the following functions from *ipumsr*.\n",
    "\n",
    "* *set_ipums_api_key()* for setting your IPUMS API key\n",
    "* *define_extract_nhgis()* for defining an IPUMS NHGIS extract request\n",
    "* *tst_spec()* for creating a tst_spec object containing a time-series table specification\n",
    "* *submit_exract()* for submitting an extract request via the IPUMS API and return an *ipums_extract* object\n",
    "* *wait_for_extract()* wait for an extract to finish processing\n",
    "* *download_extract()* download an extract's data files\n",
    "* *read_ipums_ddi()* for reading metadata about an IPUMS microdata extract from a DDI codebook (.xml) file\n",
    "* *read_ipums_micro()* for reading data from an IPUMS microdata extract\n",
    "* *read_nhgis()* for reading tabular data from an NHGIS extract\n",
    "* *read_ipums_sf()* for reading spatial data from an IPUMS extract"
   ]
  },
  {
   "cell_type": "markdown",
   "id": "d218c92f-9aff-4c2a-9b2d-f4f89c1cfb3c",
   "metadata": {},
   "source": [
    "[**RAQSAPI**](https://cran.r-project.org/web/packages/RAQSAPI/index.html) A package designed to interface with the [United States Environmental Protection Agency's (EPA) Air Quality System (AQS) Data Mart API](https://aqs.epa.gov/aqsweb/documents/data_api.html) and retrieve air monitoring data and associated metadata from the EPA's air quality monitoring service.  This notebook uses the the following functions from *RAQSAPI*.\n",
    "\n",
    "* *aqs_credentials()* for setting the user credentials for the AQS API\n",
    "* *aqs_annualsummary_by_state()* for returning annual data from the AQS API aggregated at the state level"
   ]
  },
  {
   "cell_type": "markdown",
   "id": "d68bfae4-d25b-4bbe-8e11-0f80f274671a",
   "metadata": {},
   "source": [
    "[**sf**](https://cran.r-project.org/web/packages/sf/index.html) A package providing support for simple features (sf) geometry objects, a standardized way to encode spatial vector data.  This notebook uses the following functions from *sf*.\n",
    "\n",
    "* [*st_as_sf()*](https://r-spatial.github.io/sf/reference/st_as_sf.html) for converting a foreign object on a sf object\n",
    "* [*st_buffer()*](https://r-spatial.github.io/sf/reference/geos_unary.html) for carrying out a unary buffer operation on simple feature geometries\n",
    "* [*st_intersection()*](https://r-spatial.github.io/sf/reference/geos_binary_ops.html) for performing geometric set operations with simple feature geometry collections\n",
    "* [*st_transform()*](https://r-spatial.github.io/sf/reference/st_transform.html) for transforming or converting coordinates of simple feature"
   ]
  },
  {
   "cell_type": "markdown",
   "id": "fde1997c-b105-441f-822b-518b27d5a389",
   "metadata": {},
   "source": [
    "If you are working in the I-GUIDE environment, these packages should be already be installed.  However you will still need to load the packages into your workspace using *library* base R function."
   ]
  },
  {
   "cell_type": "code",
   "execution_count": null,
   "id": "560d292d-ead4-4f12-ae76-0384f2a6a5d2",
   "metadata": {},
   "outputs": [],
   "source": [
    "library(dplyr)\n",
    "library(ggplot2)\n",
    "library(ipumsr)\n",
    "# library(RAQSAPI)\n",
    "library(sf)"
   ]
  },
  {
   "cell_type": "markdown",
   "id": "b4c62f5c-cc07-4f6a-9859-f8e72319e461",
   "metadata": {},
   "source": [
    "#### Connect your IPUMS API Key\n",
    "\n",
    "Run the following code to enter your [IPUMS API key](https://account.ipums.org/api_keys).  Refer to the **Introduction to IPUMS and the IPUMS API** notebook for background on the IPUMS data repository and for instructions on setting up your IPUMS account and API key."
   ]
  },
  {
   "cell_type": "code",
   "execution_count": null,
   "id": "538cec42-57ab-4838-90f6-8e8adc37a951",
   "metadata": {},
   "outputs": [],
   "source": [
    "ipumps_api_key = readline(\"Please enter your IPUMS API key: \")\n",
    "set_ipums_api_key(ipumps_api_key, save = T, overwrite = T)"
   ]
  },
  {
   "cell_type": "markdown",
   "id": "75c934a1-2534-4da5-bfef-35361f05ae42",
   "metadata": {},
   "source": [
    "#### Connect your EPA AQS API Key\n",
    "\n",
    "Run the following code to enter your [EPA AQS](https://aqs.epa.gov/aqsweb/documents/data_api.html) API username (email) and key.  Refer to the **Introduction to the Environmental Protection Agency (EPA) Air Quality System (AQS) Data Repository and API** notebook for background on the EPA AQS data repository and for instructions on setting up your EPA AQS API key."
   ]
  },
  {
   "cell_type": "code",
   "execution_count": null,
   "id": "8ebb9283-ee64-4723-be98-a472e9050e43",
   "metadata": {},
   "outputs": [],
   "source": [
    "aqs_api_email = readline(\"Please enter your EPA AQS API username (email): \")\n",
    "aqs_api_key = readline(\"Please enter your EPA AQS API key: \")\n",
    "# this step commented until the RAQSAPI package is installed\n",
    "#aqs_credentials(api_email, aqs_api_key)"
   ]
  },
  {
   "cell_type": "markdown",
   "id": "375504ca-a3af-4547-8410-9f730da9c7ce",
   "metadata": {},
   "source": [
    "## 2. PM 2.5 Emissions Data Acquisition Using RAQSAPI\n",
    "\n",
    "For this exercise, we will explore differences between populations living in high vs. low PM2 2.5 emissions areas.  To do this we will first we will acquire [PM2.5 (particulate matter)](https://en.wikipedia.org/wiki/Particulates) emission estimates at monitoring site locations for the state of California in 2023 - sourced from the from the U.S. EPA Air Quality System (AQS) via the AQS API\n",
    "\n",
    "We will be using the *aqs_annualsummary_by_state()* function from the *RAQSAPI* package for our API request.  This function is specifically designed for retrieving annual data at the state level.  However, the *RAQSAPI* R pakcage provides many other functions for setting up API pulls with different parameterization.  Refer to the [*RAQSAPI* user manuel](https://cran.r-project.org/web/packages/RAQSAPI/RAQSAPI.pdf) for a comprehensive list of all available functions. \n",
    "\n",
    "To define the API request using the *aqs_annualsummary_by_state()* function, we need to provide the following information:\n",
    "\n",
    "* [EPA AQS parameter code](https://www.epa.gov/aqs/aqs-code-list): we will use code \"88101\" corresponding to PM 2.5\n",
    "* [state FIPS code](https://transition.fcc.gov/oet/info/maps/census/fips/fips.txt)\n",
    "* start date\n",
    "* end date\n",
    "\n",
    "For this example, we will use parameter code 88101 (correspoding to PM 2.5), California state FIPS code \"06\", and a start and end date of January 1 and December 31, 2023."
   ]
  },
  {
   "cell_type": "code",
   "execution_count": null,
   "id": "43651a36-cf26-42c6-af68-fb31c69a0572",
   "metadata": {},
   "outputs": [],
   "source": [
    "pm25_data <- aqs_annualsummary_by_state(\n",
    "  parameter = \"88101\",                                # paraemter code for PM 2.5\n",
    "  stateFIPS = 06,                                     # state FIPS code for California\n",
    "  bdate = as.Date(\"20230101\", format = \"%Y%m%d\"),     # start date (January 1, 2023)\n",
    "  edate = as.Date(\"20231231\", format = \"%Y%m%d\")      # end date (December 31, 2023)\n",
    ")"
   ]
  },
  {
   "cell_type": "code",
   "execution_count": null,
   "id": "7ea0d5b5-1efe-41f1-87aa-33332d9fa2ca",
   "metadata": {},
   "outputs": [],
   "source": [
    "# temporary helper step until the RAQSAPI package is installed\n",
    "pm25_data <- read.csv(\"pm25_data.csv\")"
   ]
  },
  {
   "cell_type": "markdown",
   "id": "6c222a70-a0b2-43f9-85fd-f556a73e36c4",
   "metadata": {},
   "source": [
    "The API request should return a tibble containing information on PM 2.5 emissions from monitoring sites in California.  Let's take a look at the first few rows of data."
   ]
  },
  {
   "cell_type": "code",
   "execution_count": null,
   "id": "36d5ad5c-e9e8-4c36-aa1c-7e012cccbb98",
   "metadata": {},
   "outputs": [],
   "source": [
    "head(pm25_data)"
   ]
  },
  {
   "cell_type": "markdown",
   "id": "2b878df6-2f57-45e6-ae3d-ad971727ed16",
   "metadata": {},
   "source": [
    "From this data preview, we can see that the first monitor in the dataset (site number 1006) is represented at least six times in the data.  The EPA AQS data returns information collected from monitoring sites but also provides monitoring results based on multiple different scenarios.\n",
    "\n",
    "Let's compare the number of observations (rows) to the number of unique monitoring sites in our data."
   ]
  },
  {
   "cell_type": "code",
   "execution_count": null,
   "id": "5ae0207a-157d-492f-9cdd-d0b559c86404",
   "metadata": {},
   "outputs": [],
   "source": [
    "# total number of observations\n",
    "dim(pm25_data)[1]\n",
    "\n",
    "# number of unique site numbers\n",
    "length(unique(pm25_data$site_number))"
   ]
  },
  {
   "cell_type": "markdown",
   "id": "7fbb3cc9-c392-4f80-a84e-c83cd623cfac",
   "metadata": {},
   "source": [
    "Our data has 1733 rows for 70 unique monitors!\n",
    "\n",
    "Let's take a look at all the rows in our data set which correspond to site number 1006.  For this view we sill select a subset of the columns to focus on."
   ]
  },
  {
   "cell_type": "code",
   "execution_count": null,
   "id": "8438c84d-ebba-499c-9c46-e0efb585f0d7",
   "metadata": {},
   "outputs": [],
   "source": [
    "filter(pm25_data, site_number == 1006) %>%\n",
    "select(site_number, sample_duration, pollutant_standard, metric_used, method, event_type, observation_count, validity_indicator, valid_day_count, arithmetic_mean, standard_deviation)"
   ]
  },
  {
   "cell_type": "markdown",
   "id": "a12d9c1d-fd41-4723-a623-95a37c9122f7",
   "metadata": {},
   "source": [
    "Our dataset includes 20 rows for monitoring site number 1006 alone!  We can see, based on this view, that there are multiple conditions which differentiate the different rows of data, even those all of these rows correspond to PM 2.5 data from monitoring site 1006 from the year 2023.  Each of these rows corresponds to a different arithmetic mean summary statistic for the year.  But which aritmetic mean should we use for this site?\n",
    "\n",
    "Our next goal is to limit this dataset down to a single row (and single corresponding arithmetic mean) for each of the monitoring sites in the data.  We will focus on a few important differences colums including:\n",
    "\n",
    "1. validity indicator\n",
    "2. pollutant standard\n",
    "5. event type\n",
    "\n",
    "First, let's filter our data to only rows which are flagged as valid (valitidy indicaor \"Y\") and which follow a specific pollutant standard.  To decide which pollutant standard we will choose, let's take a look at the differnt pollutant standards which are represented in our dataset."
   ]
  },
  {
   "cell_type": "code",
   "execution_count": null,
   "id": "4ae31190-912e-4953-bd51-a3d1a0d53553",
   "metadata": {},
   "outputs": [],
   "source": [
    "unique(pm25_data$pollutant_standard)"
   ]
  },
  {
   "cell_type": "markdown",
   "id": "909413cf-4394-4db9-bc1b-5cddce451975",
   "metadata": {},
   "source": [
    "Our data includes 24-hour and annual standards based on the years 1997, 2006, 2012, and 2024.  Let's choose to focus on using data based on the 2024 annual standard and filter our data to only those rows which are valid (validity_indicator == \"Y\") and are based on the 2024 annual PM 2.5 pollutant standard (pollutant_standard == \"PM25 Annual 2024\").  For now, let's continue to only look at monitor 1006 (site_number == 1006) as an example site during our filtering process."
   ]
  },
  {
   "cell_type": "code",
   "execution_count": null,
   "id": "c67192f8-27a6-431d-bc3c-f1223ee246fb",
   "metadata": {},
   "outputs": [],
   "source": [
    "filter(pm25_data, site_number == 1006, validity_indicator == \"Y\", pollutant_standard == \"PM25 Annual 2024\") %>%\n",
    "select(site_number, sample_duration, pollutant_standard, metric_used, method, event_type, observation_count, validity_indicator, valid_day_count, arithmetic_mean, standard_deviation)"
   ]
  },
  {
   "cell_type": "markdown",
   "id": "130af915-d2c9-47ca-acf4-03cb7e6dcda5",
   "metadata": {},
   "source": [
    "We are down to only two rows for site 1006!  Next, let's filter based on types of events which are included when calculating summary statistics for emissions.  Let's take a look at the different types of event inclusion scenarios which are represented in our dataset."
   ]
  },
  {
   "cell_type": "code",
   "execution_count": null,
   "id": "84887330-6052-43f4-81c0-019f092c22c8",
   "metadata": {},
   "outputs": [],
   "source": [
    "unique(pm25_data$event_type)"
   ]
  },
  {
   "cell_type": "markdown",
   "id": "ba106c78-95f1-4a5a-8cfe-fb175db24ae0",
   "metadata": {},
   "source": [
    "Let's choose to filter our data to only rows where no events occurred (event_type == \"No Events\")."
   ]
  },
  {
   "cell_type": "code",
   "execution_count": null,
   "id": "0b2c3790-7a87-4680-ac13-cd04f848de79",
   "metadata": {},
   "outputs": [],
   "source": [
    "filter(pm25_data, site_number == 1006, validity_indicator == \"Y\", pollutant_standard == \"PM25 Annual 2024\", event_type == \"No Events\") %>%\n",
    "select(site_number, sample_duration, pollutant_standard, metric_used, method, event_type, observation_count, validity_indicator, valid_day_count, arithmetic_mean, standard_deviation)"
   ]
  },
  {
   "cell_type": "markdown",
   "id": "fc6bcfff-49d2-45da-b9b1-440c5baa4a55",
   "metadata": {},
   "source": [
    "We are now down to a single row of information for monitor 1006!  Let's create a new version of the data *pm25_filtered* which applies these filters (validity_indicator == \"Y\", pollutant_standard == \"PM25 Annual 2024\", and event_type == \"No Events\") to the entire dataset."
   ]
  },
  {
   "cell_type": "code",
   "execution_count": null,
   "id": "d87cc345-81d9-4502-84e1-d9791a2d999b",
   "metadata": {},
   "outputs": [],
   "source": [
    "pm25_filtered <- filter(pm25_data,\n",
    "                        validity_indicator == \"Y\",\n",
    "                        pollutant_standard == \"PM25 Annual 2024\",\n",
    "                        event_type == \"No Events\")\n",
    "\n",
    "head(pm25_filtered)"
   ]
  },
  {
   "cell_type": "markdown",
   "id": "881598de-1668-4eae-9132-c13ace6ea33c",
   "metadata": {},
   "source": [
    "We are still seeing some sites (e.g. site 6 in this preview) which correspond to more than one row.  Instead of creating another filtering criteria, let's simply select the row for each monitoring site which corresponds to the highest number of observations - assuming that a summary based on more observations will be more likely to be accurate."
   ]
  },
  {
   "cell_type": "code",
   "execution_count": null,
   "id": "7deebcb5-897b-49fb-907c-83a34ac86842",
   "metadata": {},
   "outputs": [],
   "source": [
    "pm25_filtered <- pm25_filtered %>%\n",
    "  group_by(site_number) %>%\n",
    "  slice_max(observation_count, with_ties = FALSE) %>%     # keeps only the row with the max observation_count for each group\n",
    "  ungroup()\n",
    "\n",
    "# View the result\n",
    "head(pm25_filtered)"
   ]
  },
  {
   "cell_type": "markdown",
   "id": "930a75e8-4f9b-4c18-bbde-22232ecfe568",
   "metadata": {},
   "source": [
    "We should now only have one row for each monitoring site.  But let's double check by quickly comparing the total number rows and the total number of unique sites in our filtered dataset."
   ]
  },
  {
   "cell_type": "code",
   "execution_count": null,
   "id": "425b8c15-9371-484c-81a0-2c06d1ca2322",
   "metadata": {},
   "outputs": [],
   "source": [
    "# total number of observations\n",
    "dim(pm25_filtered)[1]\n",
    "\n",
    "# number of unique site numbers\n",
    "length(unique(pm25_filtered$site_number))"
   ]
  },
  {
   "cell_type": "markdown",
   "id": "11954c63-e035-4738-9eff-0aec842c8a9a",
   "metadata": {},
   "source": [
    "We have 53 rows and 53 unique site numbers!  We have lost a few of the monitoring sites in our filtering process (remember we started with 70) but we know that the remanining 53 rows are represented by the specific conditions we specified (validity_indicator == \"Y\", pollutant_standard == \"PM25 Annual 2024\", event_type == \"No Events\").\n",
    "\n",
    "Let's take a look at some summary information for the arithmetic_mean PM 2.5 for our 53 monitoring sites."
   ]
  },
  {
   "cell_type": "code",
   "execution_count": null,
   "id": "d96d6b58-5f83-44bf-9c5a-8b0e6ccd54ff",
   "metadata": {},
   "outputs": [],
   "source": [
    "summary(pm25_filtered$arithmetic_mean)"
   ]
  },
  {
   "cell_type": "markdown",
   "id": "705ddbbe-9f9b-49a8-bef5-707862d0151d",
   "metadata": {},
   "source": [
    "Mean PM 2.5 levels range from about 3.4 to about 14.3.  Let's take a look at a histogram of the PM 2.5 data."
   ]
  },
  {
   "cell_type": "code",
   "execution_count": null,
   "id": "c72e58e9-54f8-46b2-a317-39cfa21ef1aa",
   "metadata": {},
   "outputs": [],
   "source": [
    "ggplot(data = pm25_filtered, aes(x = arithmetic_mean)) +\n",
    "  geom_histogram(binwidth = 1, fill = \"blue\", color = \"black\", alpha = 0.7) +\n",
    "  labs(title = \"Distribution of PM2.5 Arithmetic Mean Values\",\n",
    "       x = \"Arithmetic Mean PM2.5 Concentration\",\n",
    "       y = \"Frequency\") +\n",
    "  theme_minimal()"
   ]
  },
  {
   "cell_type": "markdown",
   "id": "66f3d3a1-41f6-4a28-9ab6-9efb30bcad48",
   "metadata": {},
   "source": [
    "When we compare populations based on their PM 2.5 exposure, we will need a frame of reference for understanding how bad PM 2.5 exposure is.  For this exercise, we will use the following PM 2.5 exposure categories.\n",
    "\n",
    "1. Low (Good): 0–5 µg/m³\n",
    "2. Moderate: 5–10 µg/m³\n",
    "3. High (Unhealthy for Sensitive Groups): 10–15 µg/m³\n",
    "\n",
    "We'll make a new column in *pm25_filtered* corresponding to the exposure category and add labels to this variable for easy reference."
   ]
  },
  {
   "cell_type": "code",
   "execution_count": null,
   "id": "75142497-6114-446e-8f64-60f842835d86",
   "metadata": {},
   "outputs": [],
   "source": [
    "pm25_filtered <- pm25_filtered %>%\n",
    "  mutate(pm25_cat = case_when(\n",
    "    arithmetic_mean <= 5 ~ 1,\n",
    "    arithmetic_mean > 5 & arithmetic_mean <= 10 ~ 2,\n",
    "    arithmetic_mean > 10 ~ 3))"
   ]
  },
  {
   "cell_type": "code",
   "execution_count": null,
   "id": "0c731aa3-c34e-4809-bd04-1bc6d0de1eb9",
   "metadata": {},
   "outputs": [],
   "source": [
    "pm25_filtered <- pm25_filtered %>%\n",
    "  mutate(pm25_cat = factor(pm25_cat,\n",
    "                              levels = c(1, 2, 3),\n",
    "                              labels = c(\"low (0-5 µg/m³)\",\n",
    "                                         \"moderate (5-10 µg/m³)\",\n",
    "                                         \"high (10-15 µg/m³)\")))"
   ]
  },
  {
   "cell_type": "markdown",
   "id": "7b3fb6e5-015c-4ddb-a7ce-855990cbdaba",
   "metadata": {},
   "source": [
    "We're most interested in using the summary data (arithmetic_mean and pm25_cat) in our analysis.  Our data still has a lot of columns we don't plan to use."
   ]
  },
  {
   "cell_type": "code",
   "execution_count": null,
   "id": "fd9b918a-981d-4454-88ed-013b4e42b2c0",
   "metadata": {},
   "outputs": [],
   "source": [
    "colnames(pm25_filtered)"
   ]
  },
  {
   "cell_type": "markdown",
   "id": "d623cb05-5ee0-4ca9-82ec-f9931936e465",
   "metadata": {},
   "source": [
    "Let's limit the set of columns to the information we will specifically need for our analysis including site number, arithmetic mean PM 2.5, standard deviation PM 2.5, and site geographic coordinates (latitude and longitude).  This will make our data simplier and easier to work with moving forward."
   ]
  },
  {
   "cell_type": "code",
   "execution_count": null,
   "id": "a7c11a1b-69db-4b2d-b5b0-ccd5ccf971bf",
   "metadata": {},
   "outputs": [],
   "source": [
    "pm25_final <- pm25_filtered %>%\n",
    "select(site_number, arithmetic_mean, pm25_cat, latitude, longitude)"
   ]
  },
  {
   "cell_type": "markdown",
   "id": "f8d5e945-fbc1-49eb-a20a-da5c96f5f780",
   "metadata": {},
   "source": [
    "Next we will convert our monitoring site data to a geographic point dataset which we can map."
   ]
  },
  {
   "cell_type": "markdown",
   "id": "ddb61a77-595e-4a85-a831-97be45be0939",
   "metadata": {},
   "source": [
    "## 3. PM 2.5 Monitoring Site Buffer Creation\n",
    "\n",
    "### 3a. Convert the PM 2.5 Monitoring Data to a Spatial Object\n",
    "\n",
    "To create buffers around each site we will need to convert the latitude and longitude information in our *pm25_final* to an sf (simple features) object."
   ]
  },
  {
   "cell_type": "code",
   "execution_count": null,
   "id": "77d0ad7b-0781-4bc5-9b2f-680d8e5cf640",
   "metadata": {},
   "outputs": [],
   "source": [
    "# Convert summarized data to an sf object with point geometry\n",
    "pm25_sf <- st_as_sf(pm25_final, coords = c(\"longitude\", \"latitude\"), crs = 4326)"
   ]
  },
  {
   "cell_type": "markdown",
   "id": "118b1c8d-a730-4a73-9dee-414e029749c9",
   "metadata": {},
   "source": [
    "Next we will set an appropriate Coordinate Reference System (CRS) that uses meters (EPSG 3310, California Albers)."
   ]
  },
  {
   "cell_type": "code",
   "execution_count": null,
   "id": "90fa20b2-feab-4e03-bff4-4a3fa29abc70",
   "metadata": {},
   "outputs": [],
   "source": [
    "# Reproject to a projected CRS that uses meters for distance measurements\n",
    "pm25_sf <- st_transform(pm25_sf, crs = 3310)     # California Albers projection"
   ]
  },
  {
   "cell_type": "markdown",
   "id": "c1e02e54-399c-4a09-b33d-d78e14bf4e88",
   "metadata": {},
   "source": [
    "### 3b. Map the PM 2.5 Monitoring Site Locations in the State of California\n",
    "\n",
    "Let's also read in a California state boundary shapefile."
   ]
  },
  {
   "cell_type": "code",
   "execution_count": null,
   "id": "0f108e6c-c5de-4632-a7d0-911c0207ae2e",
   "metadata": {},
   "outputs": [],
   "source": [
    "california_boundary <- st_read(\"CA_State.shp\")"
   ]
  },
  {
   "cell_type": "markdown",
   "id": "c2e6c7a6-082a-4152-9990-74eeeb010833",
   "metadata": {},
   "source": [
    "And transform the California boundary to the same CRS as the *pm25_sf* dataset."
   ]
  },
  {
   "cell_type": "code",
   "execution_count": null,
   "id": "40b789dc-e8f0-478a-90b3-755939f8c449",
   "metadata": {},
   "outputs": [],
   "source": [
    "california_boundary <- st_transform(california_boundary, crs = st_crs(pm25_sf))"
   ]
  },
  {
   "cell_type": "markdown",
   "id": "55623094-d448-4366-8513-78013886cad3",
   "metadata": {},
   "source": [
    "Now let's use ggplot to take a look at the monitoring sites and where they are located in the state of California.  This map will both help us better understand our data and also ensure that our data is property geographically referenced."
   ]
  },
  {
   "cell_type": "code",
   "execution_count": null,
   "id": "8a126243-719c-497e-9968-feb2fb23fecc",
   "metadata": {},
   "outputs": [],
   "source": [
    "ggplot() +\n",
    "  geom_sf(data = california_boundary, fill = NA, color = \"black\") +  # California boundary\n",
    "  geom_sf(data = pm25_sf, color = \"blue\", size = 1) +  # PM2.5 monitoring sites\n",
    "  labs(title = \"PM2.5 Monitoring Sites in California\", x = \"Longitude\", y = \"Latitude\") +\n",
    "  theme_minimal()"
   ]
  },
  {
   "cell_type": "markdown",
   "id": "19e42fa0-d478-4bcd-886d-427ea370556e",
   "metadata": {},
   "source": [
    "The map looks great!  Next let's create 5 km buffers around each of the monitoring site point locations."
   ]
  },
  {
   "cell_type": "markdown",
   "id": "9f82585c-0c9c-4140-82da-230832410934",
   "metadata": {},
   "source": [
    "### 3c. Create Buffers Around Each Monitoring Site\n",
    "\n",
    "Now, create buffer zones around each site (e.g., 5,000 meters or 5 km) to determine the impacted areas.\n",
    "\n",
    "First we will define the buffer distance as 5000 meters.  We know our data is in meters since we projected the PM 2.5 dataset to the 3310 California Albers CRS, which uses meters for units."
   ]
  },
  {
   "cell_type": "code",
   "execution_count": null,
   "id": "a2f39e86-71c2-4681-9b7b-8b9f0331f508",
   "metadata": {},
   "outputs": [],
   "source": [
    "buffer_distance <- 5000"
   ]
  },
  {
   "cell_type": "markdown",
   "id": "efd65ec2-2c4c-421d-a793-536e86f28c21",
   "metadata": {},
   "source": [
    "Then we will use the *st_buffer()* function from the *sf* package to create a new geographic feature set *pm25_buffers* corresponding to 5000 meter buffers around each site."
   ]
  },
  {
   "cell_type": "code",
   "execution_count": null,
   "id": "e1b389b6-c445-4eda-8be6-53807572b627",
   "metadata": {},
   "outputs": [],
   "source": [
    "pm25_buffers <- st_buffer(pm25_sf, dist = buffer_distance)"
   ]
  },
  {
   "cell_type": "markdown",
   "id": "2bbf38b5-e595-4d95-9460-d2c1bc55bffb",
   "metadata": {},
   "source": [
    "Let's take a look at the new *pm25_buffers* sf dataset."
   ]
  },
  {
   "cell_type": "code",
   "execution_count": null,
   "id": "f0a4b106-ab8a-4e2c-884c-2fbcceed4173",
   "metadata": {},
   "outputs": [],
   "source": [
    "# cannot run until geojsonio is installed\n",
    "#head(pm25_sf)"
   ]
  },
  {
   "cell_type": "markdown",
   "id": "14928064-1d20-44d4-8212-aef9a3403f9b",
   "metadata": {},
   "source": [
    "And let's take a look at a map of the buffers.  Since the buffers would be too small to see when looking at the full California map, let's take a look at the buffers within Los Angeles County.\n",
    "\n",
    "First, we will import a shapefile boundary of Los Angeles County and set it to the same CRS as the pm25_sf and pm25_buffers data."
   ]
  },
  {
   "cell_type": "code",
   "execution_count": null,
   "id": "840f9f13-4453-4d5a-8ac9-d80f5a140d35",
   "metadata": {},
   "outputs": [],
   "source": [
    "los_angeles_county_boundary <- st_read(\"Los_Angeles_County.shp\")\n",
    "los_angeles_county_boundary <- st_transform(los_angeles_county_boundary, crs = st_crs(pm25_buffers))"
   ]
  },
  {
   "cell_type": "markdown",
   "id": "2913d58b-d693-43cb-abda-37338e2eb77e",
   "metadata": {},
   "source": [
    "Then let's map the locations of the monitoring sites and the corresponding 5000 meter site buffers located in Los Angeles County.  We will color the sites based on the PM 2.5 categories we created earlier."
   ]
  },
  {
   "cell_type": "code",
   "execution_count": null,
   "id": "0567e2e8-6944-43e5-8300-994d2a06ad08",
   "metadata": {},
   "outputs": [],
   "source": [
    "ggplot() +\n",
    "  geom_sf(data = los_angeles_county_boundary, fill = NA, color = \"black\", size = 1) +     # Los Angeles County boundary\n",
    "  geom_sf(data = pm25_buffers, aes(fill = pm25_cat), alpha = 0.4, color = NA) +                # monitoring site buffers\n",
    "  geom_sf(data = pm25_sf, color = \"blue\", size = 1) +                                     # monitoring site point locations\n",
    "  scale_fill_manual(values = c(\"low (0-5 µg/m³)\" = \"green\",\n",
    "                               \"moderate (5-10 µg/m³)\" = \"yellow\",\n",
    "                               \"high (10-15 µg/m³)\" = \"red\")) +\n",
    "  labs(title = \"PM2.5 Monitoring Sites with Buffers in Los Angeles County\",\n",
    "       x = \"Longitude\", y = \"Latitude\") +\n",
    "  coord_sf(xlim = st_bbox(los_angeles_county_boundary)[c(\"xmin\", \"xmax\")], \n",
    "           ylim = st_bbox(los_angeles_county_boundary)[c(\"ymin\", \"ymax\")]) +              # focus the map on the geographic extent of LA County\n",
    "  theme_minimal()"
   ]
  },
  {
   "cell_type": "markdown",
   "id": "3d7c3338-b87f-499e-855d-f74f2b910416",
   "metadata": {},
   "source": [
    "Everything is looking good!  Next we will extract some population data from IPUMS NHGIS using the *ipumsr* package and use that to explore population characteristics by exposure."
   ]
  },
  {
   "cell_type": "markdown",
   "id": "d98632b9-3446-4757-92f0-fc2edb4b9e62",
   "metadata": {},
   "source": [
    "## 4. Block Level Population Data Extraction Using ipumsr\n",
    "\n",
    "Next, we will retrieve census block population data based on the 2020 US Decennial Census from IPUMS NHGIS using the ipumsr package, including geographic boundaries.  For this exercise we will use an NHGIS data extraction with the following specifications:\n",
    "\n",
    "* Time Series Table: Decennial Census Population Count by Race Harmonized to 2010 Geographies (table CM1)\n",
    "* Geographic Level: Block Group\n",
    "* Year: 2020\n",
    "* Shapefile: 2010 Tiger Line California Block Group Shapefile (060_blck_grp_2010_tl2010)\n",
    "\n",
    "For a detailed explanation and walkthrough of the IPUMS NHGIS data extraction process using the ipumsr package, refer to the **IPUMS NGHIS Data Extraction** notebook."
   ]
  },
  {
   "cell_type": "code",
   "execution_count": null,
   "id": "b3fa846d-de19-4a75-9b33-49a67391dbff",
   "metadata": {},
   "outputs": [],
   "source": [
    "extraction <- define_extract_nhgis(description = \"I-GUIDE IPUMS 2020 Census Block Group Population by Race\",\n",
    "                                   time_series_tables = tst_spec(name = \"CM1\",\n",
    "                                                                 geog_levels = \"blck_grp\",\n",
    "                                                                 years = \"2020\"),\n",
    "                                   shapefiles = \"060_blck_grp_2010_tl2010\")"
   ]
  },
  {
   "cell_type": "markdown",
   "id": "d86665b5-9ef5-4868-83d6-96b4ee884af3",
   "metadata": {},
   "source": [
    "Submit the extraction request and wait for it to complete, then download the resulting data."
   ]
  },
  {
   "cell_type": "code",
   "execution_count": null,
   "id": "a09d64d2-d4f2-489b-99dd-fb7f3882a196",
   "metadata": {},
   "outputs": [],
   "source": [
    "# submit extraction  \n",
    "extraction_submitted <- submit_extract(extraction)\n",
    "\n",
    "# wait for completion\n",
    "extraction_complete <- wait_for_extract(extraction_submitted)\n",
    "\n",
    "# check completion\n",
    "extraction_complete$status\n",
    "\n",
    "# get extraction filepath\n",
    "filepath <- download_extract(extraction_submitted, overwrite = T)\n",
    "\n",
    "# save the files\n",
    "dat_nhgis <- read_nhgis(filepath[1])\n",
    "shp <- read_ipums_sf(filepath[2])"
   ]
  },
  {
   "cell_type": "markdown",
   "id": "e46b8cd6-0916-4448-8222-aa270b87896c",
   "metadata": {},
   "source": [
    "Now that we have downloaded the population by race data from NHGIS.  The race classifications for these data are as follows:\n",
    "\n",
    "* CM1AA2020: White\n",
    "* CM1AB2020: Black or African American\n",
    "* CM1AC2020: American Indian and Alaska Nativer\n",
    "* CM1AD2020: Asian\n",
    "* CM1AE2020: Native Hawaiian and Other Pacific Islander\n",
    "* CM1AF2020: Some Other Race\n",
    "* CM1AG2020: Two or More Races\n",
    "\n",
    "Let's simplify this by creating a % White variable."
   ]
  },
  {
   "cell_type": "code",
   "execution_count": null,
   "id": "f91db529-f68d-4aed-9b2a-b0ce261d9fae",
   "metadata": {},
   "outputs": [],
   "source": [
    "dat_nhgis <- dat_nhgis %>%\n",
    "  mutate(perc_white = CM1AA2020 / (CM1AA2020 + CM1AB2020 + CM1AC2020 + CM1AD2020 + CM1AE2020 + CM1AF2020 + CM1AG2020))\n",
    "\n",
    "summary(dat_nhgis$perc_white)"
   ]
  },
  {
   "cell_type": "markdown",
   "id": "17bd669d-fb5f-4ab6-a45e-1e9d626465ca",
   "metadata": {},
   "source": [
    "Census blocks in the United States range from 0% to 100% White with an average of 70.7% White and a median of 62.7% White.\n",
    "\n",
    "Let's create a simplified version of our population data which only includes the subset of variables we are interested in for our analysis."
   ]
  },
  {
   "cell_type": "code",
   "execution_count": null,
   "id": "41584fe2-1e06-4270-8010-a48eca4fc974",
   "metadata": {},
   "outputs": [],
   "source": [
    "head(dat_nhgis)"
   ]
  },
  {
   "cell_type": "code",
   "execution_count": null,
   "id": "2be8cacf-1013-4808-aa63-15e922922e88",
   "metadata": {},
   "outputs": [],
   "source": [
    "dat_nhgis <- dat_nhgis %>% select(\"GISJOIN\", \"BLCK_GRPA\", \"perc_white\")\n",
    "\n",
    "head(dat_nhgis)"
   ]
  },
  {
   "cell_type": "markdown",
   "id": "aa649da8-5b80-4a9d-ab7f-b6e21921ae58",
   "metadata": {},
   "source": [
    "Next will merge the population data with the corresponding downloaded shapefile, convert the new file to an sf object, and set it to have the same CRS as our PM 2.5 data."
   ]
  },
  {
   "cell_type": "code",
   "execution_count": null,
   "id": "2967cffb-d598-4aef-a4b4-568f13409b39",
   "metadata": {},
   "outputs": [],
   "source": [
    "# merge the population and spatial data from the NHGIS API call\n",
    "nhgis_shp <- merge(dat_nhgis, shp, by = \"GISJOIN\")\n",
    "\n",
    "# transform the resulting file to an sf object\n",
    "nhgis_shp <- st_as_sf(nhgis_shp)\n",
    "\n",
    "# reproject the sf object to the same CRS as the PM 2.5 data\n",
    "nhgis_shp <- st_transform(nhgis_shp, crs = st_crs(pm25_buffers))"
   ]
  },
  {
   "cell_type": "markdown",
   "id": "6b4a8b77-b048-4521-867d-8c6d7e99aa4f",
   "metadata": {},
   "source": [
    "And we'll take a look at the California block group map showing percent White population by block group."
   ]
  },
  {
   "cell_type": "code",
   "execution_count": null,
   "id": "195d06fa-122d-4c1b-976c-c5130a76cd1b",
   "metadata": {},
   "outputs": [],
   "source": [
    "ggplot(data = nhgis_shp) +\n",
    "  geom_sf(aes(fill = perc_white), color = NA) +                      # color block groups by perc_white\n",
    "  scale_fill_viridis_c(option = \"plasma\", na.value = \"grey50\") +     # use the \"plasma\" color scale and handle NA values\n",
    "  labs(title = \"Block Groups by Percent White Population\",\n",
    "       fill = \"Percent White\") +\n",
    "  theme_minimal()"
   ]
  },
  {
   "cell_type": "markdown",
   "id": "f7c6d77b-383d-4c6e-8fa3-afe04e829e3e",
   "metadata": {},
   "source": [
    "## 5. Exposed Population Count Buffer Analysis\r\n",
    "\n",
    "Step 5: Perform Spatial Join to Count Population Within Buffers\n",
    "\n",
    "Finally, use a spatial join to intersect the population data with the buffers.  This will count the number of people within each buffer zone."
   ]
  },
  {
   "cell_type": "code",
   "execution_count": null,
   "id": "a3fc5311-d3bb-4475-99c0-66cd7fc56cb9",
   "metadata": {},
   "outputs": [],
   "source": [
    "# Spatial join - associate each block group with the PM2.5 buffer it intersects\n",
    "# This will create duplicates for block groups that intersect multiple buffers\n",
    "bg_pm25_joined <- st_join(nhgis_shp, pm25_sf, join = st_intersects)"
   ]
  },
  {
   "cell_type": "code",
   "execution_count": null,
   "id": "595c2c45-5444-4aab-916b-79ed63391e95",
   "metadata": {},
   "outputs": [],
   "source": [
    "# Summarize percent white for each PM2.5 category\n",
    "# Group by the PM2.5 category and calculate the mean percentage white population\n",
    "summary_percent_white <- bg_pm25_joined %>%\n",
    "  group_by(pm25_cat) %>%\n",
    "  summarize(mean_perc_white = mean(perc_white, na.rm = TRUE),\n",
    "            median_perc_white = median(perc_white, na.rm = TRUE),\n",
    "            .groups = 'drop') %>%\n",
    "  filter(!is.na(pm25_cat))"
   ]
  },
  {
   "cell_type": "code",
   "execution_count": null,
   "id": "eda2930e-d122-4930-b58f-4c04ca56d08f",
   "metadata": {},
   "outputs": [],
   "source": [
    "# View the summary\n",
    "as.data.frame(summary_percent_white)"
   ]
  },
  {
   "cell_type": "code",
   "execution_count": null,
   "id": "00c2b1d2-9c90-4caf-89d7-ca497befe24b",
   "metadata": {},
   "outputs": [],
   "source": [
    "ggplot(data = summary_percent_white,\n",
    "       aes(x = pm25_cat, y = mean_perc_white, fill = pm25_cat)) +\n",
    "  geom_bar(stat = \"identity\") +\n",
    "  labs(title = \"Average Percent White by PM2.5 Level\",\n",
    "       x = \"PM2.5 Level\",\n",
    "       y = \"Mean Percent White\") +\n",
    "  scale_fill_manual(values = c(\"low (0-5 µg/m³)\" = \"green\",\n",
    "                               \"moderate (5-10 µg/m³)\" = \"yellow\",\n",
    "                               \"high (10-15 µg/m³)\" = \"red\")) +\n",
    "  theme_minimal()"
   ]
  },
  {
   "cell_type": "markdown",
   "id": "e47e62f9-570e-4668-8a5a-4a9bb1468d44",
   "metadata": {},
   "source": [
    "Our analysis shows there is a relationship between race and PM 2.5 exposure level for the subset of California block groups which are within 5000 meters of an EPA AQS PM 2.5 monitoring site.  Populations close to monitoring sites showing low PM 2.5 (0-5 µg/m³) are, on averge, 64% White while populations close to monitoring sites showing high PM 2.5 (10-15 µg/m³) are, on average, only 33% White.\n",
    "\n",
    "This initial exploratory analysis indicates there may be an environmental justice issue where areas with larger populations of color are more exposed to PM 2.5."
   ]
  },
  {
   "cell_type": "markdown",
   "id": "8a997960-cc19-40ef-a92c-eeafc5ecfac7",
   "metadata": {},
   "source": [
    "## Conclusion"
   ]
  },
  {
   "cell_type": "markdown",
   "id": "a9f73d03-2d45-47ca-9cb5-331ad2035dfe",
   "metadata": {},
   "source": []
  },
  {
   "cell_type": "code",
   "execution_count": null,
   "id": "3cc4cb24-c422-424b-9c0e-9d746f164509",
   "metadata": {},
   "outputs": [],
   "source": [
    "saveRDS(pm25_sf, file = \"pm25_sf.rds\")"
   ]
  },
  {
   "cell_type": "markdown",
   "id": "bf7a3573-121f-469a-8d37-5f112bfca5bf",
   "metadata": {},
   "source": [
    "## Next Steps\n",
    "\n",
    "From here, we recommend exploring the following notebooks:\n",
    "\n",
    "* ..."
   ]
  }
 ],
 "metadata": {
  "kernelspec": {
   "display_name": "iguide-ewd-r",
   "language": "R",
   "name": "iguide-ewd-r"
  },
  "language_info": {
   "codemirror_mode": "r",
   "file_extension": ".r",
   "mimetype": "text/x-r-source",
   "name": "R",
   "pygments_lexer": "r",
   "version": "4.3.1"
  }
 },
 "nbformat": 4,
 "nbformat_minor": 5
}
