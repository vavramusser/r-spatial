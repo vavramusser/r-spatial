{
 "cells": [
  {
   "cell_type": "markdown",
   "id": "bf6b7b0c-c8d9-460d-bece-9671917fae92",
   "metadata": {},
   "source": [
    "# IPUMS [NHGIS](https://www.nhgis.org) Data Extraction Using [ipumsr](https://cran.r-project.org/web/packages/ipumsr/index.html) - Supplemental Exercise 1\n",
    "### by [Kate Vavra-Musser](https://vavramusser.github.io) for the [R Spatial Notebook Series](https://vavramusser.github.io/r-spatial)"
   ]
  },
  {
   "cell_type": "markdown",
   "id": "af42be01-6b9d-4d51-81de-31acca48c38f",
   "metadata": {},
   "source": [
    "## Introduction\n",
    "This notebook provides an additional example of the IPUMS NHGIS data extraction process using the IPUMS API via the ipumsr R package.  This exercise is a supplement to the workflow introducted in Chapter 3.4 IPUMS NHGIS Data Extraction Using ipumsr.\n",
    "\n",
    "### Notebook Goals\n",
    "This notebook replicates the IPUMS NHGIS data extraction process and extracts a NHGIS point dataset on population of populated places and point locations shapefile.  The resulting data file is used in subsequent notebooks in the R Spatial Notebooks series.  The notebook provides an example of extracting point-based spatial data with attached attribute data from the IPUMS NHGIS repository.\n",
    "\n",
    "### ★ Prerequisites ★\n",
    "* Complete [Chapter 1.1 Introduction to IPUMS and the IPUMS API](https://platform.i-guide.io/notebooks/82d3b176-e4e6-4307-8186-318a3fe6c81a)\n",
    "* Set Up Your [IPUMS Account and API Key](https://account.ipums.org/api_keys)\n",
    "* Complete [Chapter 2.4 IPUMS NHGIS Data Extraction Using ipumsr](https://platform.i-guide.io/notebooks/be08e56e-1c08-458e-a230-263c64d386bc)\n",
    "\n",
    "### Notebook Overview\n",
    "1. Setup\n",
    "2. Extraction Workflow: Point-Based Shapefiles + Tabular Data\n",
    "\n",
    "---"
   ]
  },
  {
   "cell_type": "markdown",
   "id": "6917be72-fd3d-4d54-82e2-377a1c10bbb7",
   "metadata": {},
   "source": [
    "## 1. Setup\n",
    "This section will guide you through the process of installing essential packages and setting your IPUMS API key.\n",
    "\n",
    "#### Required Packages\n",
    "\n",
    "[**dplyr**](https://cran.r-project.org/web/packages/dplyr/index.html) A Grammar of Data Manipulation. This notebook uses the the following functions from *dplyr*.\n",
    "\n",
    "* [*filter*](https://rdrr.io/cran/dplyr/man/filter.html) · keep rows that match a condition\n",
    "\n",
    "[**ipumsr**](https://cran.r-project.org/web/packages/ipumsr/index.html) An R Interface for Downloading, Reading, and Handling IPUMS Data.  This notebook uses the the following functions from *ipumsr*.\n",
    "\n",
    "* [*define_extract_nhgis*](https://rdrr.io/cran/ipumsr/man/define_extract_nhgis.html) · define an IPUMS NHGIS extract request\n",
    "* [*download_extract*](https://rdrr.io/cran/ipumsr/man/download_extract.html) · download a completed IPUMS data extract\n",
    "* [*get_metadata_nhgis*](https://rdrr.io/cran/ipumsr/man/get_metadata_nhgis.html) · list available data sources from IPUMS NHGIS\n",
    "* [*read_ipums_sf*](https://rdrr.io/cran/ipumsr/man/read_ipums_sf.html) · read spatial data from an IPUMS extract\n",
    "* [*read_nhgis*](https://rdrr.io/cran/ipumsr/man/read_nhgis.html) · read tabular data from an NHGIS extract\n",
    "* [*set_ipums_api_key*](https://rdrr.io/cran/ipumsr/man/set_ipums_api_key.html) · set your IPUMS API key\n",
    "* [*submit_extract*](https://rdrr.io/cran/ipumsr/man/submit_extract.html) · submit an extract request via the IPUMS API\n",
    "* *tst_spec* · create a *tst_spec* object containing a time series table specification\n",
    "* [*wait_for_extract*](https://rdrr.io/cran/ipumsr/man/wait_for_extract.html) · wait for an extract to finish processing\n",
    "\n",
    "[**purrr**](https://cran.r-project.org/web/packages/purrr/index.html) A complete and consistent functional programming toolkit for R. This notebook uses the the following functions from *purrr*.\n",
    "\n",
    "* [*map()*](https://rdrr.io/cran/purrr/man/map.html) and [*map_dfr()*](https://rdrr.io/cran/purrr/man/map_dfr.html) · apply a function to each element of a vector\n",
    "\n",
    "[**sf**](https://cran.r-project.org/web/packages/sf/index.html) Support for simple features, a standardized way to encode spatial vector data. Binds to 'GDAL' for reading and writing data, to 'GEOS' for geometrical operations, and to 'PROJ' for projection conversions and datum transformations. Uses by default the 's2' package for spherical geometry operations on ellipsoidal (long/lat) coordinates.  This notebook uses the following functions from *sf*.\n",
    "\n",
    "* [*st_write*](https://rdrr.io/cran/sf/man/st_write.html) · Write simple features object to file or database"
   ]
  },
  {
   "cell_type": "markdown",
   "id": "a6304a6e-b348-416e-bc69-99f96f6cdb9e",
   "metadata": {},
   "source": [
    "### 1a. Install and Load Required Packages\n",
    "If you have not already installed the required packages, uncomment and run the code below:"
   ]
  },
  {
   "cell_type": "code",
   "execution_count": null,
   "id": "0d7a6d6d-70bb-4212-8bf1-c7e04cee8e13",
   "metadata": {},
   "outputs": [],
   "source": [
    "# install.packages(\"dplyr\", \"ipumsr\", \"purr\", \"sf\")"
   ]
  },
  {
   "cell_type": "markdown",
   "id": "036e31b6-dfeb-46fc-a8ef-d1b42ca1be7b",
   "metadata": {},
   "source": [
    "Load the packages into your workspace."
   ]
  },
  {
   "cell_type": "code",
   "execution_count": null,
   "id": "dd119ca6-b0a3-4fb3-b862-f6479e8a67c7",
   "metadata": {},
   "outputs": [],
   "source": [
    "library(dplyr)\n",
    "library(ipumsr)\n",
    "library(purrr)\n",
    "library(sf)"
   ]
  },
  {
   "cell_type": "markdown",
   "id": "c23d8f2f-c689-4c13-aed9-5865b396f8d7",
   "metadata": {},
   "source": [
    "### 1b. Set Your IPUMS API Key\n",
    "\n",
    "Store your [IPUMS API key](https://account.ipums.org/api_keys) in your environment using the following code.\n",
    "\n",
    "Refer to [Chapter 1.1 Introduction to IPUMS and the IPUMS API](https://platform.i-guide.io/notebooks/82d3b176-e4e6-4307-8186-318a3fe6c81a) for instructions on setting up your IPUMS account and API key."
   ]
  },
  {
   "cell_type": "code",
   "execution_count": null,
   "id": "fc0c5984-b1e1-4d04-a2fd-a4ec0e338909",
   "metadata": {},
   "outputs": [],
   "source": [
    "ipumps_api_key = readline(\"Please enter your IPUMS API key: \")\n",
    "set_ipums_api_key(ipumps_api_key, save = T, overwrite = T)"
   ]
  },
  {
   "cell_type": "markdown",
   "id": "372511ac-da85-4823-806a-56043848b481",
   "metadata": {},
   "source": [
    "## 2. NHGIS Time-Series + Points\n",
    "\n",
    "### 2a. View and Filter the List of Time-Series Datasets\n",
    "\n",
    "First we will take a look at the list of available time-series datasets in the NHGIS repository that fit our critera.  We are looking for datasets on *total population* at the *place* geography."
   ]
  },
  {
   "cell_type": "code",
   "execution_count": null,
   "id": "e7997365-63ad-4faa-b17e-bdee9eb56455",
   "metadata": {},
   "outputs": [],
   "source": [
    "metadata_datts_filter <- get_metadata_nhgis(\"time_series_tables\") %>%\n",
    "    filter(grepl(\"place\", geog_levels, ignore.case = T), grepl(\"total population\", description, ignore.case = T)) %>%\n",
    "    select(name, description) %>%\n",
    "    as.data.frame() %>%\n",
    "    print()"
   ]
  },
  {
   "cell_type": "markdown",
   "id": "71b39e8b-8ca0-4eed-b6b4-08e17c4959f4",
   "metadata": {},
   "source": [
    "The results returned three possible datasets, *AV0*, *B78*, and *CL8*.\n",
    "\n",
    "### 2b. Identify Available Years and Geographic Levels\n",
    "\n",
    "Next let's take a look at the available years and geographic levels for each of these three datasets."
   ]
  },
  {
   "cell_type": "code",
   "execution_count": null,
   "id": "7a81c4fc-4b2c-4a3e-9bc1-682aba16baaf",
   "metadata": {},
   "outputs": [],
   "source": [
    "# get metadata for each time-series table\n",
    "metadata_list <- map(metadata_datts_filter$name, ~ get_metadata_nhgis(time_series_table = .x))\n",
    "\n",
    "# combine into a data frame with the necessary columns\n",
    "metadata_combined <- map_dfr(metadata_list, function(metadata) {\n",
    "  data.frame(\n",
    "    name = metadata$name,\n",
    "    description = metadata$description,\n",
    "    # extract only the \"description\" column from the nested tibbles in \"years\" and \"geog_levels\"\n",
    "    years = paste(metadata$years$description, collapse = \", \"),\n",
    "    geog_levels = paste(metadata$geog_levels$name, collapse = \", \")\n",
    "  )\n",
    "})\n",
    "\n",
    "# print the final data frame\n",
    "metadata_combined"
   ]
  },
  {
   "cell_type": "markdown",
   "id": "de39fc8f-bdc7-4d38-9313-eefef0f4c21d",
   "metadata": {},
   "source": [
    "Let's choose the *CL8* time-series table and move onto the next step, selecting a shapefile to go with our time-series data.\n",
    "\n",
    "### 2c. View and Filter the List of Geography Shapefiles\n",
    "\n",
    "Since we want our data to be at the *place (points)* geography, let's filter the shapfile metadata to only include shapfiles which include the word *points* in the description of their *geographic_level*."
   ]
  },
  {
   "cell_type": "code",
   "execution_count": null,
   "id": "d113486e-123d-49e3-a558-21fb228af578",
   "metadata": {},
   "outputs": [],
   "source": [
    "metadata_shp <- get_metadata_nhgis(\"shapefiles\") %>%\n",
    "    filter(grepl(\"points\", geographic_level, ignore.case = T)) %>%\n",
    "    print(n = Inf)"
   ]
  },
  {
   "cell_type": "markdown",
   "id": "293e4fa9-ffcd-4d30-871c-f8c278473b95",
   "metadata": {},
   "source": [
    "Let's select the 2010 shapefile (*us_place_point_2010_tlgnis*).\n",
    "\n",
    "### 2d. Time-Series + Shapefile Extraction Specification and Submission\n",
    "\n",
    "Now that we have selected our time-series dataset (*CL8*), the geographic level for our time-series dataset (*place*), and our shapefile (*us_place_point_2010_tlgnis*) we are ready to define and submit our exraction request to the IPUMS API."
   ]
  },
  {
   "cell_type": "code",
   "execution_count": null,
   "id": "21804b5e-ee34-4f11-86e8-51f68d891822",
   "metadata": {},
   "outputs": [],
   "source": [
    "extract_definition <- define_extract_nhgis(description = \"I-GUIDE NHGIS Places Points Extraction\",\n",
    "                                           time_series = tst_spec(name = \"CL8\",\n",
    "                                                                  geog_levels = \"place\"),\n",
    "                                           shapefiles = \"us_place_point_2010_tlgnis\")"
   ]
  },
  {
   "cell_type": "markdown",
   "id": "3e6f80fe-4c7b-4ffd-be02-97f4fedae375",
   "metadata": {},
   "source": [
    "Submitting the extraction definition object *extract_definition* to the API."
   ]
  },
  {
   "cell_type": "code",
   "execution_count": null,
   "id": "5da46034-fd3a-4d0f-8014-650c146ae4f2",
   "metadata": {},
   "outputs": [],
   "source": [
    "extraction_submitted <- submit_extract(extract_definition)\n",
    "extraction_complete <- wait_for_extract(extraction_submitted)\n",
    "extraction_complete$status\n",
    "filepath <- download_extract(extraction_submitted, overwrite = T)"
   ]
  },
  {
   "cell_type": "markdown",
   "id": "ff3b708c-b5e4-4484-97b6-809e43cae9d7",
   "metadata": {},
   "source": [
    "The result of the extraction request will be two files 1) a time-series table containing the populationd data and 2) the places (points) geography shapefile.  The next step is to read these two files into R."
   ]
  },
  {
   "cell_type": "code",
   "execution_count": null,
   "id": "d61b9660-06d2-4967-adf3-89fdf230dae9",
   "metadata": {},
   "outputs": [],
   "source": [
    "dat <- read_nhgis(filepath[1])\n",
    "shp <- read_ipums_sf(filepath[2])"
   ]
  },
  {
   "cell_type": "markdown",
   "id": "098be377-abf6-42ac-a69a-6e7c40c66b9f",
   "metadata": {},
   "source": [
    "Let's take a look at the dimesions of the time-series data (*dat*) and the shapefile (*shp*)."
   ]
  },
  {
   "cell_type": "code",
   "execution_count": null,
   "id": "ba39a154-20cd-4312-b907-2e6deaca693a",
   "metadata": {},
   "outputs": [],
   "source": [
    "dim(dat)\n",
    "dim(shp)"
   ]
  },
  {
   "cell_type": "markdown",
   "id": "7f5002c0-8dd2-4af5-9d9b-883de03f2fb0",
   "metadata": {},
   "source": [
    "The time-series table includes 16 variables for 29,261 places and the shapefile includes 8 attributes for 29,514 places.  The number of places represented by the time-series table is slightly smaller than the number of places represented in the shapefile.  It could be that some of the places represented in the shapefile do not have population counts available in the data table.\n",
    "\n",
    "Let's take a look at the first few lines of the time-series table on population and the places (points) shapefile."
   ]
  },
  {
   "cell_type": "code",
   "execution_count": null,
   "id": "51150503-aa70-4ff3-90ee-fcda08f40c0a",
   "metadata": {},
   "outputs": [],
   "source": [
    "head(dat)"
   ]
  },
  {
   "cell_type": "code",
   "execution_count": null,
   "id": "aa7f297c-31ab-4c22-affe-3fc3e50bcbb4",
   "metadata": {},
   "outputs": [],
   "source": [
    "head(shp)"
   ]
  },
  {
   "cell_type": "markdown",
   "id": "afd927b9-23a1-4802-a36c-636cb6eeef7e",
   "metadata": {},
   "source": [
    "Before we join the *dat* and *shp* files, let's remove a few of data columns which are less useful for our analyses.\n",
    "\n",
    "We will only keep the following attributes:\n",
    "\n",
    "**From the *dat* Tabular Data**\n",
    "* GIS Join Key (*GISJOIN*)\n",
    "* Place (*PLACE*)\n",
    "* 1990 Total Population (*CL8AA1990*)\n",
    "* 2000 Total Population (*CL8AA2000*)\n",
    "* 2010 Total Population (*CL8AA2010*)\n",
    "* 2020 Total Population (*CL8AA2020*)\n",
    "\n",
    "**From the *shp* Geography Data**\n",
    "* GIS Join Key (*GISJOIN*)\n",
    "* Name (*NAME*)"
   ]
  },
  {
   "cell_type": "code",
   "execution_count": null,
   "id": "a73a0ee2-5cd9-4809-8c02-1e0d556932e4",
   "metadata": {},
   "outputs": [],
   "source": [
    "dat_cols <- c(\"GISJOIN\", \"PLACE\", \"CL8AA1990\", \"CL8AA2000\", \"CL8AA2010\", \"CL8AA2020\")\n",
    "dat <- dat[dat_cols]\n",
    "\n",
    "shp_cols <- c(\"GISJOIN\", \"NAME\")\n",
    "shp <- shp[shp_cols]"
   ]
  },
  {
   "cell_type": "markdown",
   "id": "d7cd4751-9269-4f85-8fc5-0dffea942490",
   "metadata": {},
   "source": [
    "We kept the *GISJOIN* join key column in both files and we will use this common key to join the two datasets using the *merge* function."
   ]
  },
  {
   "cell_type": "code",
   "execution_count": null,
   "id": "066bc0f2-0636-439d-91e4-39695dfb2d8d",
   "metadata": {},
   "outputs": [],
   "source": [
    "# merge the time-series population data with the county geographic data\n",
    "dat_shp <- merge(dat, shp, by = \"GISJOIN\")"
   ]
  },
  {
   "cell_type": "markdown",
   "id": "728e0c57-ca2b-4586-b1d4-393407cc5ff1",
   "metadata": {},
   "source": [
    "Finally we will save the data in shapefile format."
   ]
  },
  {
   "cell_type": "code",
   "execution_count": null,
   "id": "30f69948-8061-4547-849a-2580cb1368a7",
   "metadata": {},
   "outputs": [],
   "source": [
    "st_write(dat_shp, \"ipums_nhgis_places.shp\", driver = \"ESRI Shapefile\", delete_dsn = T)"
   ]
  },
  {
   "cell_type": "markdown",
   "id": "198e5671-dbfe-435f-81ac-a6cddad41637",
   "metadata": {},
   "source": [
    "At the end of this notebook we have saved a copy of the time-series table with population data from the 1990, 2000, 2010, and 2020 Decennial Censuses for populated places in the United States to the file *ipums_nhgis_places.csv* and a copy of the complementary geographic data file for populated places to the shapefile *ipums_nhgis_places.shp*."
   ]
  },
  {
   "cell_type": "markdown",
   "id": "872e488e-8ff5-4917-80a8-e1f67904ab32",
   "metadata": {},
   "source": [
    "---\n",
    "## Recommended Next Steps\n",
    "\n",
    "* **Continue with Chapter 2: IPUMS Data Acquisition and Extraction**\n",
    "  * [2.4b IPUMS NHGIS Data Extraction Using ipumsr - Supplemental Exercise 2]()\n",
    "  * [2.4c IPUMS NHGIS Data Extraction Using ipumsr - Supplemental Exercise 3]()"
   ]
  },
  {
   "cell_type": "markdown",
   "id": "768c7e19-e4c9-4602-a2e9-a300ae802493",
   "metadata": {},
   "source": [
    "## Stay Connected\n",
    "Thank you for engaging with this notebook and supporting the project!  Please visit the [**R Spatial Notebooks Project Homepage**](https://vavramusser.github.io/r-spatial) to learn more about the project and explore additional notebooks.  Don't forget to join the project [**Mailing List**](https://mailchi.mp/ab01e8fc8397/r-spatial-email-signup) to hear about future notebook releases and other updates.  If you have an idea for a new notebook I want to hear about it!  Please submit your idea via the [**Suggestion Box**](https://us19.list-manage.com/survey?u=746bf8d366d6fbc99c699e714&id=54590a28ea&attribution=false)."
   ]
  }
 ],
 "metadata": {
  "kernelspec": {
   "display_name": "R",
   "language": "R",
   "name": "ir"
  },
  "language_info": {
   "codemirror_mode": "r",
   "file_extension": ".r",
   "mimetype": "text/x-r-source",
   "name": "R",
   "pygments_lexer": "r",
   "version": "4.3.3"
  }
 },
 "nbformat": 4,
 "nbformat_minor": 5
}
