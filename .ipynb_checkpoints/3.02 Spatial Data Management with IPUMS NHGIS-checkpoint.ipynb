{
 "cells": [
  {
   "cell_type": "markdown",
   "id": "8e08d742-8677-4b94-9052-f0e492b7c26e",
   "metadata": {},
   "source": [
    "# Spatial Data Management with IPUMS NHGIS\n",
    "### by [Kate Vavra-Musser](https://vavramusser.github.io) for the [R Spatial Notebook Series](https://vavramusser.github.io/r-spatial)"
   ]
  },
  {
   "cell_type": "markdown",
   "id": "69e9f83b-932b-4bdb-89cd-d551f4352c6b",
   "metadata": {},
   "source": [
    "## Introduction\n",
    "\n",
    "This notebook demonstrates the process of cleaning and preparing spatial data for analysis.  The notebook uses data extracted from the [IPUMS National Historical Geographic Information System (NHGIS)](https://www.nhgis.org) repository, which provides harmonized data from the U.S. Decennial Census, American Community Survey, and other sources.  Working with spatial data, like the data included in the IPUMS NHGIS repository, requires specalized management of the complex relationships between geographic boundaries and attribute data, as well as attention to the nuances of georeferenced data. This notebook will guide you through steps in a typical spatial data management process, including importing, joining, and preparing tabular and boundary data to create clean, analysis-ready spatial datasets.\n",
    "\n",
    "### Notebook Goals\n",
    "This notebook introduces a typical spatial data management workflow using previously-downloaded [IPUMS NHGIS](https://www.nhgis.org) data using the [IPUMS API](https://developer.ipums.org/docs/v2/apiprogram) via the [ipumsr R package](https://cran.r-project.org/web/packages/ipumsr/index.html).  This notebook is intended as a follow-up to [2.4 IPUMS NHGIS Data Extraction Using ipumsr](https://platform.i-guide.io/notebooks/be08e56e-1c08-458e-a230-263c64d386bc).  By the end of this notebook, users will have the skills to create their own workflows managing spatial NHGIS IPUMS data or other spatial for social and demographic research workflows.\n",
    "\n",
    "### ★ Prerequisites ★\n",
    "* Complete [Chapter 2.4 IPUMS NHGIS Data Extraction Using ipumsr](https://platform.i-guide.io/notebooks/be08e56e-1c08-458e-a230-263c64d386bc)\n",
    "* Have a copy of the *ipums_nhgis_example.shp* shapefile available in your workspace.\n",
    "  * If you worked through [Chapter 2.4](https://platform.i-guide.io/notebooks/be08e56e-1c08-458e-a230-263c64d386bc) you should have created and saved a copy of the *ipums_nhgis_example.shp* shapefile in the final section of the notebook.\n",
    "  * You can also download the zipped shapefile *ipums_nhgis_example.zip* including the four *ipums_nhgis_example* shapefile files from [the I-GUIDE platform](https://platform.i-guide.io/datasets/b033e365-cb1f-41d6-ad99-e6a13c41127c) or [Kate's GitHub](https://github.com/vavramusser/r-spatial/blob/main/ipums_nhgis_example.zip).\n",
    "\n",
    "#### About the Example Data Set\n",
    "The [*ipums_nhgis_example*](https://github.com/vavramusser/r-spatial/blob/main/ipums_usa_example.csv) shapefile contains total population counts from the 1990, 2000, 2010, and 2020 [U.S. Decennial Censuses](https://www.census.gov/programs-surveys/decennial-census.html) for all counties in the state of California, standardized to 2010 geographic boundaries.  The United States [Decennial Census](https://www.census.gov/programs-surveys/decennial-census.html) is a population and housing count conducted by the [U.S. Census Bureau](https://www.census.gov) every ten years. The Census aims to count every person living in the United States and its territories, collecting basic demographic information such as age, sex, race, ethnicity, and household relationships.  It is designed to provide a comprehensive snapshot of the nation's population and housing characteristics at a specific point in time.\n",
    "\n",
    "#### Notebook Overview\n",
    "1. Setup\n",
    "2. Importing and Exploring Spatial Data\n",
    "3. Spatial Data Management and Validation"
   ]
  },
  {
   "cell_type": "markdown",
   "id": "e05d95c1-55c8-470a-a8b6-f317f6cd87e7",
   "metadata": {},
   "source": [
    "## 1. Setup\n",
    "\n",
    "This section will guide you through the process of installing essential packages.\n",
    "\n",
    "[**geojsonio**](https://cran.r-project.org/web/packages/geojsonio/index.html) · Convert Data from and to *[GeoJSON](https://geojson.org)* or *[TopoJSON](https://github.com/topojson/topojson)*.\n",
    "\n",
    "[**ggplot2**](https://cran.r-project.org/web/packages/ggplot2/index.html) · Create Elegant Data Visualisations Using the Grammar of Graphics.  A system for 'declaratively' creating graphics, based on \"The Grammar of Graphics\". You provide the data, tell 'ggplot2' how to map variables to aesthetics, what graphical primitives to use, and it takes care of the details.  This notebook uses the following functions from *ggplot2*.\n",
    "\n",
    "* [*aes*](https://rdrr.io/cran/ggplot2/man/aes.html) · Construct aesthetic mappings\n",
    "* *CoordSf* · Visualize sf objects\n",
    "  * *geom_sf* · geometric objects (points, lines, or polygons)\n",
    "* [*ggplot*](https://rdrr.io/cran/ggplot2/man/ggplot.html) · Create a new ggplot\n",
    "* [*ggtheme*](https://rdrr.io/cran/ggplot2/man/ggtheme.html) · Complete themes\n",
    "  * *theme_minimal* · Minimal theme\n",
    "* [*labs*](https://rdrr.io/cran/ggplot2/man/labs.html) · Modify axis, legend, and plot labels\n",
    "\n",
    "[**sf**](https://cran.r-project.org/web/packages/sf/index.html) · Support for simple features, a standardized way to encode spatial vector data. Binds to 'GDAL' for reading and writing data, to 'GEOS' for geometrical operations, and to 'PROJ' for projection conversions and datum transformations. Uses by default the 's2' package for spherical geometry operations on ellipsoidal (long/lat) coordinates.  This notebook uses the following functions from *sf*.\n",
    "\n",
    "* [*st_crs*](https://rdrr.io/cran/sf/man/st_crs.html) · Retrieve coordinate reference system from object\n",
    "* [*st_geometry*](https://rdrr.io/cran/sf/man/st_geometry.html) · Get, set, replace or rename geometry from an sf object\n",
    "* [*st_read*](https://rdrr.io/cran/sf/man/st_read.html) · Read simple features or layers from file or database\n",
    "* [*st_write*](https://rdrr.io/cran/sf/man/st_write.html) · Write simple features object to file or database\n",
    "* [*valid*](https://rdrr.io/cran/sf/man/valid.html) · Check validity or make an invalid geometry valid\n",
    "  * *st_make_valid* · Make an invalid geometry valid\n",
    "  * *st_is_valid* · Check validity\n",
    "\n",
    "### 1a. Install and Load Required Packages\n",
    "If you have not already installed the required packages, uncomment and run the code below:"
   ]
  },
  {
   "cell_type": "code",
   "execution_count": null,
   "id": "9d39c474-e2a6-4845-9c31-edffcb536e21",
   "metadata": {},
   "outputs": [],
   "source": [
    "# install.packages(c(\"geojsonio\", \"ggplot2\", \"sf\"))"
   ]
  },
  {
   "cell_type": "markdown",
   "id": "e9b97492-bde1-4140-ad26-b7d73bdc9a21",
   "metadata": {},
   "source": [
    "Load the packages into your workspace."
   ]
  },
  {
   "cell_type": "code",
   "execution_count": null,
   "id": "51f10447-c644-49ab-b45b-4275c83cfb84",
   "metadata": {},
   "outputs": [],
   "source": [
    "library(geojsonio)\n",
    "library(ggplot2)\n",
    "library(sf)"
   ]
  },
  {
   "cell_type": "markdown",
   "id": "3466e722-d43f-466e-b8a4-2c59b37a2af1",
   "metadata": {},
   "source": [
    "## 2. Importing and Exploring Spatial Data\n",
    "\n",
    "First we will read in the *ipums_nhgis_example.shp* shapefile into memory using the [*st_read*](https://rdrr.io/cran/sf/man/st_read.html) function from the [**sf**](https://cran.r-project.org/web/packages/sf/index.html) package.  You may need to update the file path to reflect the file's location on your machine or in your working directory.\n",
    "\n",
    "The [*st_read*](https://rdrr.io/cran/sf/man/st_read.html) function reads spatial data files (like shapefiles) into an [*sf object*](https://r-spatial.github.io/sf/articles/sf1.html), which includes both attribute and geometry data.  The *sf object* allows you to treat spatial data like a regular data frame while retaining its spatial attributes."
   ]
  },
  {
   "cell_type": "code",
   "execution_count": null,
   "id": "dcef9e34-4eff-4690-b383-3b8a8014a5d7",
   "metadata": {},
   "outputs": [],
   "source": [
    "dat <- st_read(\"ipums_nhgis_example.shp\")"
   ]
  },
  {
   "cell_type": "markdown",
   "id": "5744a5cf-0871-4423-87e1-912124d5a216",
   "metadata": {},
   "source": [
    "The *ipums_nhgis_example.shp* file was saved as a shapefile, which includes spatial reference informaiton and metadata, and we get a preview of some of this spatial metadata when we read in the file with [*st_read*](https://rdrr.io/cran/sf/man/st_read.html).\n",
    "\n",
    "* The data includes **58 features** (the counties in the state of California) and has **32 attribute fields**.\n",
    "* The bounding box is **(-2356114, -364426.6) (-1646660 845925.2)**\n",
    "* The coordinate reference system (CRS) is the **[USA Contiguous Albers Equal Area Conic](https://en.wikipedia.org/wiki/Albers_projection) projected CRS**\n",
    "\n",
    "Let's take a look at the first few lines of the data.\n",
    "\n",
    "As a reminder, the [*ipums_nhgis_example.shp*](https://github.com/vavramusser/r-spatial/blob/main/ipums_usa_example.csv) file contains total population counts from the 1990, 2000, 2010, and 2020 [U.S. Decennial Censuses](https://www.census.gov/programs-surveys/decennial-census.html) for all counties in the state of California."
   ]
  },
  {
   "cell_type": "code",
   "execution_count": null,
   "id": "9f3ebd29-476d-4503-ab70-4b0dc05faaea",
   "metadata": {},
   "outputs": [],
   "source": [
    "head(dat)"
   ]
  },
  {
   "cell_type": "markdown",
   "id": "d2a9a225-c518-48a9-b1ab-46770aac317d",
   "metadata": {},
   "source": [
    "In [Chapter 2.4](https://platform.i-guide.io/notebooks/be08e56e-1c08-458e-a230-263c64d386bc) we set up our IPUMS API extraction to return total population data for the 1990, 2000, 2010, and 2020 Decennial Censuses.  However, IPUMS includes a set of preselected variables in data extractions including metadata and other supplemental information whch account for the additional 12 variables.\n",
    "\n",
    "Let's take a look at the list of column names."
   ]
  },
  {
   "cell_type": "code",
   "execution_count": null,
   "id": "d55c1341-fffc-4b44-9615-1a889c573360",
   "metadata": {},
   "outputs": [],
   "source": [
    "colnames(dat)"
   ]
  },
  {
   "cell_type": "markdown",
   "id": "1a431ed9-368c-40bb-84bf-d070783384df",
   "metadata": {},
   "source": [
    "Below is a referece list of the variables included in the data.  This list includes the 4 total population variables and 6 total population lower and upper bound variables for the four Censuses represented in the data as well as IPUMS preselected geographic variables from the time-series table and additional geographic variables included in the original shapefile from our extract.  After we merged the time-series tabular and spatial datasets at the end of [Chapter 2.4](https://platform.i-guide.io/notebooks/be08e56e-1c08-458e-a230-263c64d386bc) the combined dataset includes all variables from both original sources.  Recall that before saving the merged data we removed the Land Area in Square Meters (ALAND10), Water Area in Square Meters (AWATER10), and Shape Area (Shape_area) attributes due to space limitations.\n",
    "\n",
    "**Population Variables**\n",
    "* 1990 Total Population Estimate (CL8AA1990)\n",
    "* 1990 Total Population Lower Bound (CL8AA1990L)\n",
    "* 1990 Total Population Upper Bound (CL8AA1990U)\n",
    "* 2000 Total Population Estimate (CL8AA2000)\n",
    "* 2000 Total Population Lower Bound (CL8AA2000L)\n",
    "* 2000 Total Population Upper Bound (CL8AA2000U)\n",
    "* 2010 Total Population (CL8AA2010)\n",
    "* 2020 Total Population Estimate (CL8AA2020)\n",
    "* 2020 Total Population Lower Bound (CL8AA2020L)\n",
    "* 2020 Total Population Upper Bound (CL8AA2020U)\n",
    "\n",
    "**Geographic Variables (from the Time-Series Tables)**\n",
    "* Geography Year (GEOGYEAR)\n",
    "* State Name (STATE)\n",
    "* State FIPS Code (STATEA)\n",
    "* County Name (COUNTY)\n",
    "* County FIPS Code (COUNTYA)\n",
    "\n",
    "**Geographic Variables (from the original Shapefile)**\n",
    "* State FIPS Code (STATEFP10)\n",
    "* County FIPS Code (COUNTYFP10)\n",
    "* COUNTYNS10\n",
    "* Geographic Identifier (GEOID10)\n",
    "* County Name (NAME10)\n",
    "* Legal/Statistical Area Description (LSAD) Name (NAMELSAD10)\n",
    "* FIPS Class Code (CLASSFP10)\n",
    "* Combined Statistical Area (CSA) FIPS Code (CSAFP10)\n",
    "* Core-Based Statistical Area (CBSA) FIPS Code (CBSAFP10)\n",
    "* Metropolitan Division FIPS Code (METDIVFP10)\n",
    "* Functional Status (FUNCSTAT10)\n",
    "* Internal Point (Centroid) Latitude Coordinate (INTPTLAT10)\n",
    "* Internal Point (Centroid) Longitude Coordinate (INTPTLON10)\n",
    "* Shape Length (Shape_len)\n",
    "* Spatial Geometry (geometry)\n",
    "\n",
    "**GIS Join**\n",
    "* GIS Join Match Code (GISJOIN)\n",
    "\n",
    "### 2a. Exploring the sf Object Data Structure\n",
    "\n",
    "After importing the data and reviewing the tabular attribute data, we’ll explore its structure and spatial attributes.  First we'll take a look at the structure of the data using the *str* command."
   ]
  },
  {
   "cell_type": "code",
   "execution_count": null,
   "id": "edc4c668-7ff8-4737-a429-3082ad3aa459",
   "metadata": {},
   "outputs": [],
   "source": [
    "str(dat)"
   ]
  },
  {
   "cell_type": "markdown",
   "id": "41f661fd-8018-4414-803a-3e0a4bbc674c",
   "metadata": {},
   "source": [
    "This view provides a different snapshot of the data than the typical tabular format.  We can see each of the attributes listed first with information on the data type for each attribute and a preview of some of the first few rows of data.\n",
    "\n",
    "Below the attribute list we see the *geometry* column.  This special column differentiates an [*sf object*](https://r-spatial.github.io/sf/articles/sf1.html) from a typical *data.frame*.  The *geometry* column contains a multipolygon for each feature in the dataset and each multipolygon is further made up of a series of coordinate corresponding to the points which makde up the polygon shape.\n",
    "\n",
    "### 2b. Exploring the Coordinate Reference System\n",
    "Next we will check out the coordinate reference system (CRS) for our data using the [*st_crs*](https://rdrr.io/cran/sf/man/st_crs.html) function from the [**sf**](https://cran.r-project.org/web/packages/sf/index.html) package."
   ]
  },
  {
   "cell_type": "code",
   "execution_count": null,
   "id": "2bff03bd-9c34-4546-bf4b-ca4bc9f8a847",
   "metadata": {},
   "outputs": [],
   "source": [
    "# retuns the CRS\n",
    "st_crs(dat)"
   ]
  },
  {
   "cell_type": "markdown",
   "id": "db53d35b-4e70-4351-8ca3-a125092833d9",
   "metadata": {},
   "source": [
    "This view provides us with a lot of metainformation about our data's CRS, the [USA Contiguous Albers Equal Area Conic](https://en.wikipedia.org/wiki/Albers_projection) projection, including:\n",
    "\n",
    "* [datum](https://en.wikipedia.org/wiki/Geodetic_datum): **[North American Datum 1983 (NAD83)](https://en.wikipedia.org/wiki/North_American_Datum)**\n",
    "* [ellipsoid](https://en.wikipedia.org/wiki/Earth_ellipsoid): **[Geodetic Reference System 1980](https://en.wikipedia.org/wiki/Geodetic_Reference_System_1980)**\n",
    "* [(EPSG) code](https://en.wikipedia.org/wiki/EPSG_Geodetic_Parameter_Dataset): **[9822](https://epsg.io/9822-method)** or **[ESRI 102003](https://epsg.io/102003)**\n",
    "* units: meters\n",
    "\n",
    "We can also set the [*st_crs*](https://rdrr.io/cran/sf/man/st_crs.html) parameter *parameters* to *TRUE* to get a list of detailed CRS parameters."
   ]
  },
  {
   "cell_type": "code",
   "execution_count": null,
   "id": "81cee251-fd46-4fcd-a3c2-151ad4a86ceb",
   "metadata": {},
   "outputs": [],
   "source": [
    "# returns the list of CRS parameters\n",
    "st_crs(dat, parameters = T)"
   ]
  },
  {
   "cell_type": "markdown",
   "id": "2c61574b-c2e5-43ee-bcd6-2b356a566b44",
   "metadata": {},
   "source": [
    "Using this we can also programmitally call individual components of the CRS parameter list."
   ]
  },
  {
   "cell_type": "code",
   "execution_count": null,
   "id": "ea640e80-b678-4e1f-a3a0-0d4ee1bd59a3",
   "metadata": {},
   "outputs": [],
   "source": [
    "# returns the name CRS name\n",
    "st_crs(dat, parameters = T)$Name\n",
    "\n",
    "# returns the proj4string\n",
    "st_crs(dat, parameters = T)$proj4string"
   ]
  },
  {
   "cell_type": "markdown",
   "id": "0fff82ad-3e4f-4a09-8278-3671445234f7",
   "metadata": {},
   "source": [
    "### 2c. Mapping Raw Geometry\n",
    "\n",
    "Although our data includes multiple attributes, including the Census total population data we are interested in, it isuseful to take a look at the raw geometry prior to further analysis.  We can access the raw geometry of our file using the [*st_geometry*](https://rdrr.io/cran/sf/man/st_geometry.html) function from the [**sf**](https://cran.r-project.org/web/packages/sf/index.html) package and plot it with the basic *plot* function."
   ]
  },
  {
   "cell_type": "code",
   "execution_count": null,
   "id": "a2907685-a38f-4061-b936-4b685abca6c0",
   "metadata": {},
   "outputs": [],
   "source": [
    "# plots the raw geometry without attributes\n",
    "plot(st_geometry(dat))"
   ]
  },
  {
   "cell_type": "markdown",
   "id": "d5e75772-706c-433a-b008-e41308b5581f",
   "metadata": {},
   "source": [
    "### 2d. Mapping Raw Geometry with ggplot2\n",
    "\n",
    "In addition to the simple map made with the base R *plot* function, we can also make more complicated maps with the [**ggplot2**](https://cran.r-project.org/web/packages/ggplot2/index.html) package.  We will use *ggplots* to create more elaborate maps in later notebooks, but for now we will create a simple map of the raw geometry for our data.\n",
    "\n",
    "The code below sets up a *ggplot* and specifies style parameters.\n",
    "\n",
    "* [*ggplot*](https://rdrr.io/cran/ggplot2/man/ggplot.html) sets up the *ggplot* plot object and specifies that we will use *dat* as the data for the plot\n",
    "* [*geom_sf*](https://ggplot2.tidyverse.org/reference/ggsf.html) adds a layer to plot spatial features from an sf object\n",
    "* [*labs*](https://rdrr.io/cran/ggplot2/man/labs.html) allows us to add customization including a map title and caption for this map\n",
    "* [*theme_minimal*](https://rdrr.io/cran/ggplot2/man/ggtheme.html) provides a clean, minimalist theming for the overall map"
   ]
  },
  {
   "cell_type": "code",
   "execution_count": null,
   "id": "f4a5fe48-7ba9-4433-8b9b-719cf01b3b4f",
   "metadata": {},
   "outputs": [],
   "source": [
    "ggplot(data = dat) +\n",
    "  geom_sf() +\n",
    "  labs(title = \"California Counties 2010\",\n",
    "       caption = \"Data Source: IPUMS NHGIS\") +\n",
    "  theme_minimal()"
   ]
  },
  {
   "cell_type": "markdown",
   "id": "b72c5281-66a4-4d07-8a0c-026ad330299a",
   "metadata": {},
   "source": [
    "### 2e. Mapping Attribute Data with ggplot2\n",
    "\n",
    "We can build on the *ggplot* we previously created to map the raw geometries and make a version that maps the 2010 total population attribute (CL8AA2010).  This version of the *ggplot* specifies the attribute to use by specifying the attribute with the [*aes*](https://rdrr.io/cran/ggplot2/man/aes.html) function as a parameter to the *geom_sf* parameter.  The *ggplot* map will automatically use a continuous blue color scheme to visualize the geometries based on the specified attribute value."
   ]
  },
  {
   "cell_type": "code",
   "execution_count": null,
   "id": "74e8395e-d76b-4682-a5d7-e707785e488d",
   "metadata": {},
   "outputs": [],
   "source": [
    "ggplot(data = dat) +\n",
    "  geom_sf(aes(fill = CL8AA2010)) +\n",
    "  labs(title = \"California Counties 2010\",\n",
    "       subtitle = \"2010 Total Population\",\n",
    "       caption = \"Data Source: IPUMS NHGIS\") +\n",
    "  theme_minimal()"
   ]
  },
  {
   "cell_type": "markdown",
   "id": "ba8b90a9-654e-4d30-99e5-625cd417b48e",
   "metadata": {},
   "source": [
    "We can change the color scheme by adding an additional parameter to the *ggplot* object such as the built-in [*scale_colour_continuous*](https://rdrr.io/cran/ggplot2/man/scale_colour_continuous.html) color schemes such as *scale_fill_viridis_c*."
   ]
  },
  {
   "cell_type": "code",
   "execution_count": null,
   "id": "0ee80f62-a01f-4106-a555-94d43f8ef400",
   "metadata": {},
   "outputs": [],
   "source": [
    "ggplot(data = dat) +\n",
    "  geom_sf(aes(fill = CL8AA2010)) +\n",
    "  labs(title = \"California Counties 2010\",\n",
    "       subtitle = \"2010 Total Population\",\n",
    "       caption = \"Data Source: IPUMS NHGIS\") +\n",
    "  theme_minimal() +\n",
    "  scale_fill_viridis_c()"
   ]
  },
  {
   "cell_type": "markdown",
   "id": "9bbdb331-0ec6-4f5c-8772-9bdada139acb",
   "metadata": {},
   "source": [
    "## 3. Spatial Data Preprocessing\n",
    "\n",
    "Prior to carrying out spatial data analysis there are a few essential spatial data preprocessing tasks which we should carry out to ensure the integretity of our data and its compatibility for any downstream analysis.\n",
    "\n",
    "### 3a. Reprojecting Data\n",
    "\n",
    "In addition to viewing our data's CRS, we can also reproject data using the [*st_transform*](https://rdrr.io/cran/sf/man/st_transform.html) function from the [**sf**](https://cran.r-project.org/web/packages/sf/index.html) package.  This can help ensure compatibility between layers or to use a CRS suitable for your analysis.\n",
    "\n",
    "We can reproject to a different CRS using the appropriate [(EPSG) code](https://en.wikipedia.org/wiki/EPSG_Geodetic_Parameter_Dataset) for our desired CRS."
   ]
  },
  {
   "cell_type": "code",
   "execution_count": null,
   "id": "144bd530-5385-4bec-a979-7725b6edf4da",
   "metadata": {},
   "outputs": [],
   "source": [
    "# reproject to WGS84 (EPSG:4326)\n",
    "dat_reproj <- st_transform(dat, crs = 4326)"
   ]
  },
  {
   "cell_type": "markdown",
   "id": "2ef6628e-d114-490e-b5da-0f23438fbdb0",
   "metadata": {},
   "source": [
    "If we plot the new version of the data, we can see that the data has been reprojected."
   ]
  },
  {
   "cell_type": "code",
   "execution_count": null,
   "id": "239b3309-f4e4-4d01-9e86-9cae11847010",
   "metadata": {},
   "outputs": [],
   "source": [
    "plot(st_geometry(dat_reproj))"
   ]
  },
  {
   "cell_type": "markdown",
   "id": "d816aac5-e4f4-48c2-9b81-1403b90bf081",
   "metadata": {},
   "source": [
    "You can also use the [*st_transform*](https://rdrr.io/cran/sf/man/st_transform.html) function to easily reproject a file to match the projection of another file by passing the file's CRS using [*st_crs*](https://rdrr.io/cran/sf/man/st_crs.html).  This is especially useful if you are bringing in multiple data sources to your project and need to ensure they are all projected in the same CRS.\n",
    "\n",
    "In the example below we project the *dat_reproj* object back to the CRS of the *dat* object."
   ]
  },
  {
   "cell_type": "code",
   "execution_count": null,
   "id": "9b954098-7fc3-4138-8f00-740876e5689a",
   "metadata": {},
   "outputs": [],
   "source": [
    "# reproject dat_reproj back to the dat CRS (9822)\n",
    "dat_reproj <- st_transform(dat_reproj, st_crs(dat))\n",
    "\n",
    "plot(st_geometry(dat_reproj))"
   ]
  },
  {
   "cell_type": "markdown",
   "id": "9fe6efc6-2b31-4150-98e7-8ed93556d72e",
   "metadata": {},
   "source": [
    "*plot_reproj* is now back to the original CRS of *dat*.\n",
    "\n",
    "**★ Pro Tip:**  Here are a few common CRSs and their EPSG codes:\n",
    "\n",
    "* WGS84 (World Geodetic System 1984) (EPSG:4326): great for global datasets, webmapping, and GPS systems\n",
    "* WGS84 Pseudo-Mercator (EPSG: 3857): great for web mapping applications\n",
    "* NAD83 (North American Datum 1983) (EPSG: 4269): great for National datasets covering the entire United States\n",
    "* NAD83 Albers Equal Area (EPSG:5070): great for National datasets covering the entire United States\n",
    "* NAD83 Contiguious USA Lambert Conformal Conic (EPSG: 102003): great for National datasets covering the contiguious United States (CONUS) \n",
    "* NAD83 UTM (Universal Transverse Mercator) (UTM zone-specific EPSGs): great for analyses in specific UTM zones\n",
    "* State Plane Coordinate System (SPCS) (region-specific EPSGs): great for analysis at the state and county level\n",
    "\n",
    "### 3b. Validating Spatial Data\n",
    "\n",
    "Before proceeding to any spatial analysis or significant spatial data manipulation, we should check to make sure that all the geometries in our dataset are valid.  An invalid geometry in spatial data refers to a geometry that does not conform to the rules of its geometry type or is otherwise problematic for spatial operations. These issues can prevent spatial functions like intersections, unions, or buffering from working correctly.  Invalid geometries can cause errors in spatial operations or produce incorrect map visualizations.\n",
    "\n",
    "We can use the [*st_is_valid*](https://rdrr.io/cran/sf/man/valid.html) function from the [**sf**](https://cran.r-project.org/web/packages/sf/index.html) package to check for invalid geometries in our data.  The following code stores the output of the *st_is_valid* function, a list of *TRUE* and *FALSE* values indicating the validity of each geometry in the data, stores the list to the *invalid_geometries* object, and counts the number of invalid geometries."
   ]
  },
  {
   "cell_type": "code",
   "execution_count": null,
   "id": "b775eaaa-27db-486a-a73e-ec8adfb6fde6",
   "metadata": {},
   "outputs": [],
   "source": [
    "# check for invalid geometries\n",
    "invalid_geometries <- st_is_valid(dat)\n",
    "\n",
    "# count invalid geometries\n",
    "sum(!invalid_geometries)"
   ]
  },
  {
   "cell_type": "markdown",
   "id": "6a98e3ee-2942-46cf-9af9-2c0ee09bf2da",
   "metadata": {},
   "source": [
    "Our data has one invalid geometry!  Fortunatly we can easily fix it using the [*st_make_valid*](https://rdrr.io/cran/sf/man/valid.html) function from the [**sf**](https://cran.r-project.org/web/packages/sf/index.html) package."
   ]
  },
  {
   "cell_type": "code",
   "execution_count": null,
   "id": "b5d2cd0b-561b-4a79-a37a-b5c5e2fca20d",
   "metadata": {},
   "outputs": [],
   "source": [
    "# fix invalid geometries\n",
    "dat <- st_make_valid(dat)\n",
    "\n",
    "# check for invalid geometries\n",
    "sum(!st_is_valid(dat))"
   ]
  },
  {
   "cell_type": "markdown",
   "id": "be7fa462-218d-4974-8f48-92de15f86dd2",
   "metadata": {},
   "source": [
    "Testing the file again using *st_is_valid* now returns 0 invalid geometries.  Our data is now validated and ready for analysis.\n",
    "\n",
    "### 3c. Save the Data\n",
    "\n",
    "After the processing steps we should save our data again so we can import it to our next notebook.  We will again save the data as a **shapefile** (*.shp*) using the [*st_write*](https://rdrr.io/cran/sf/man/st_write.html) function from the [**sf**](https://cran.r-project.org/web/packages/sf/index.html) package."
   ]
  },
  {
   "cell_type": "code",
   "execution_count": null,
   "id": "2fb68e34-de3b-4204-9faa-b4bba3b76545",
   "metadata": {},
   "outputs": [],
   "source": [
    "st_write(dat, \"ipums_nhgis_analysis.shp\", driver = \"ESRI Shapefile\", delete_dsn = T)"
   ]
  },
  {
   "cell_type": "markdown",
   "id": "ea03de60-8f37-4109-aaa6-96f7a4518fe0",
   "metadata": {},
   "source": [
    "At the end of this exercise we have a tested and validated version of our IPUMS NHGIS data saved in our workspace."
   ]
  },
  {
   "cell_type": "markdown",
   "id": "f4eb0455-3ad4-49c4-90d6-0dfa952733b5",
   "metadata": {},
   "source": [
    "## Recommended Next Steps\n",
    "\n",
    "* **Move on to Chapter 4: Exploratory Data Analysis (EDA)**\n",
    "  * 4.2 Exploratory Spatial Data Analysis (ESDA) with IPUMS NHGIS"
   ]
  },
  {
   "cell_type": "markdown",
   "id": "64753504-0e4c-451c-a917-e340b03553c1",
   "metadata": {},
   "source": [
    "## Quick Code\n",
    "A clean and simple version of the code included in this notebook."
   ]
  },
  {
   "cell_type": "raw",
   "id": "4826082c-073c-4b5a-afc2-7f98e621d0c0",
   "metadata": {},
   "source": [
    "# install required packages\n",
    "# install.packages(c(\"geojsonio\", \"ggplot2\", \"sf\"))\n",
    "\n",
    "# load required libraries\n",
    "library(geojsonio)\n",
    "library(ggplot2)\n",
    "library(sf)\n",
    "\n",
    "# read in the .shp file\n",
    "dat <- st_read(\"ipums_nhgis_example.shp\")\n",
    "\n",
    "# view the CRS\n",
    "st_crs(dat)\n",
    "\n",
    "# view a list of CRS parameters\n",
    "st_crs(dat, parameters = T)\n",
    "\n",
    "# plot the raw geometry without attributes\n",
    "plot(st_geometry(dat))\n",
    "\n",
    "# plot a ggplot of the raw geometry without attributes\n",
    "ggplot(data = dat) +\n",
    "  geom_sf() +\n",
    "  labs(title = \"California Counties 2010\",\n",
    "       caption = \"Data Source: IPUMS NHGIS\") +\n",
    "  theme_minimal()\n",
    "\n",
    "# plot a ggplot of the 2010 total population attribute\n",
    "ggplot(data = dat) +\n",
    "  geom_sf(aes(fill = CL8AA2010)) +\n",
    "  labs(title = \"California Counties 2010\",\n",
    "       subtitle = \"2010 Total Population\",\n",
    "       caption = \"Data Source: IPUMS NHGIS\") +\n",
    "  theme_minimal() +\n",
    "  scale_fill_viridis_c()\n",
    "\n",
    "# reproject to WGS84 (EPSG:4326)\n",
    "dat_reproj <- st_transform(dat, crs = 4326)\n",
    "\n",
    "# check for invalid geometries\n",
    "sum(!st_is_valid(dat))\n",
    "\n",
    "# fix invalid geometries\n",
    "dat <- st_make_valid(dat)\n",
    "\n",
    "# save the data\n",
    "st_write(dat, \"ipums_nhgis_analysis.shp\", driver = \"ESRI Shapefile\", delete_dsn = T)"
   ]
  }
 ],
 "metadata": {
  "kernelspec": {
   "display_name": "R",
   "language": "R",
   "name": "ir"
  },
  "language_info": {
   "codemirror_mode": "r",
   "file_extension": ".r",
   "mimetype": "text/x-r-source",
   "name": "R",
   "pygments_lexer": "r",
   "version": "4.3.3"
  }
 },
 "nbformat": 4,
 "nbformat_minor": 5
}
