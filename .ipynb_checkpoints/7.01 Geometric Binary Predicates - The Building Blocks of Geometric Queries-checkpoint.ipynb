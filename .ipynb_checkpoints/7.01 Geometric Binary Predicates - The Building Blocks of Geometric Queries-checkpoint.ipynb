{
 "cells": [
  {
   "cell_type": "markdown",
   "id": "d67a2e4e-99bb-442a-9876-731c8573360c",
   "metadata": {},
   "source": [
    "# Geometric Binary Predicates: The Building Blocks of Geometric Queries\n",
    "### by [Kate Vavra-Musser](https://vavramusser.github.io) for the [R Spatial Notebook Series](https://vavramusser.github.io/r-spatial)"
   ]
  },
  {
   "cell_type": "markdown",
   "id": "6aba8631-bda2-4edf-bdd3-bd53da4c4a1e",
   "metadata": {},
   "source": [
    "## Introduction\n",
    "Spatial analyses often begin with questions about relationships between geographic features: *Does one feature lie within another? Do features overlap or share a boundary? Does one feature entirely contain another?* These questions, collectively referred to as **geometric queries**, are foundational to many workflows in spatial data science and the social sciences.\n",
    "\n",
    "In traditional GIS software like ArcGIS or QGIS, these relationships are often evaluated visually through tools like *Select by Location* or specific geoprocessing tools. In the R programming environment, we move beyond visual interpretation by using well-defined geometric functions. These functions allow for reproducible, automated, and scalable workflows, making them ideal for complex analyses or large datasets.\n",
    "\n",
    "This notebook introduces three commonly used **geometric binary predicate** functions from the [**`sf`**](https://cran.r-project.org/web/packages/sf/index.html) package:\n",
    "\n",
    "* *`st_contains`* checks if one feature completely contains another (inverse of *`st_within`*)\n",
    "* *`st_within`* checks if one feature is entirely contained within another (inverse of *`st_contains`*)\n",
    "* *`st_intersects`* checks if two features share any part of their space\n",
    "\n",
    "### What is a Geometric Binary Predicate?\n",
    "A **geometric binary predicate** is a function that takes two sets of geometric features (points, lines, or polygons) as input and returns a vector (list) of boolean value (true or false) based on the spatial relationship between the two feature sets.\n",
    "\n",
    "* **Binary** – It operates on two geometric objects.\n",
    "* **Geometric** – It is related to spatial relationships such as intersection, containment, adjacency, etc.\n",
    "* **Predicate** – It evaluates a condition and returns a boolean (true or false) result.\n",
    "\n",
    "Geometric binary predicates are crucial in spatial analysis, spatial databases, GIS, and computational geometry because they enable **efficient spatial reasoning, querying, and decision-making** based on **geometric relationships**.\n",
    "\n",
    "**Examples of Geometric Binary Predicates**\n",
    "* **Intersects(A, B)** → true if A and B share at least one point\n",
    "* **Touches(A, B)** → true if A and B share a boundary but not their interior\n",
    "* **Contains(A, B)** → true if A completely encloses B\n",
    "* **Within(A, B)** → true if A is completely inside B\n",
    "* **Disjoint(A, B)** → true if A and B have no points in common\n",
    "* **Equals(A, B)** → true if A and B represent the same geometric shape\n",
    "\n",
    "In R spatial analysis, particularly in social science applications, geometric binary predicates are **not typically used in isolation**. Instead, they are the building blocks for more advanced analyses such as **spatial joins**, **overlays**, **filtering operations**, and **proximity calculations**. These functions allow users to analyze relationships between spatial entities.\n",
    "\n",
    "In later notebooks, we will explore how to incorporate these foundational spatial relationship functions into more complex workflows.\n",
    "\n",
    "### Why Geometric Queries Matter for Social Science Workflows?\n",
    "In the social sciences, spatial data often represent individuals, households, neighborhoods, or administrative units like census tracts. Understanding spatial relationships among these features can help answer questions such as:\n",
    "\n",
    "* Are schools located within specific catchment zones?\n",
    "* How many health clinics fall within high-poverty neighborhoods?\n",
    "* Do city boundaries overlap with environmentally protected areas?\n",
    "\n",
    "These types of questions can be addressed systematically and reproducibly using geometric queries, which abstract the spatial relationships into logical comparisons. Mastering these concepts is critical for transitioning from traditional GIS tools to programmatic workflows, where such functions are key to enabling scalable and efficient analyses.\n",
    "\n",
    "### Notebook Goals\n",
    "By the end of this notebook, you will be able to:\n",
    "\n",
    "* Understand the purpose and functionality of the binary geometric query **`sf`** functions *`st_contains`*, *`st_intersects`*, and *`st_within`*.\n",
    "* Apply these functions to evaluate spatial relationships between geographic features in R.\n",
    "* Recognize how these functions fit into larger workflows, such as spatial joins and proximity analyses.\n",
    "* Appreciate the broader set of geometric comparison functions available in the **`sf`** package.\n",
    "\n",
    "### ✨ Prerequisites ✨\n",
    "* Complete [Introduction to sf: Reading, Writing, and Inspecting Vector Data](https://platform.i-guide.io/notebooks/9968babe-22e4-4c3d-98e2-d8b45e9672cd)\n",
    "* Complete [Working with CRS: Reprojection and Transformation](https://platform.i-guide.io/notebooks/76912ca7-73e4-437e-8ecf-0cb456bd7282)\n",
    "* Complete [Preparing Vector Data for Analysis](https://platform.i-guide.io/notebooks/44926d85-7f08-4774-a103-a22ff3876cad)\n",
    "* Complete [IPUMS NHGIS Data Extraction Using ipumsr: Supplemental Exercise 1](https://platform.i-guide.io/notebooks/a74fff96-4db5-430f-b346-958b0c5f7b38)\n",
    "* Have a copy of United States Populated Places Point Locations Shapefile (*ipums_nhgis_places.shp*) file available in your workspace\n",
    "  * If you worked through [IPUMS NHGIS Data Extraction Using ipumsr: Supplemental Exercise 1](https://platform.i-guide.io/notebooks/a74fff96-4db5-430f-b346-958b0c5f7b38) you should have created and saved a copy of *ipums_nhgis_places.shp* in the final section of the notebook.\n",
    "  * You can also download a copy of *ipums_nhgis_places.zip* file from [the I-GUIDE platform](https://platform.i-guide.io/datasets/514a645c-fb7e-405e-99de-ac12cf1b143b) or directly from [Kate's GitHub](https://github.com/vavramusser/r-spatial/blob/main/ipums_nhgis_places.zip).  You will need to unzip *ipums_nhgis_places.zip* and extract *ipums_nhgis_places.shp* file to your workspace.\n",
    "* Complete [IPUMS NHGIS Data Extraction Using ipumsr: Supplemental Exercise 2](https://platform.i-guide.io/notebooks/bc79eda6-8353-42ea-8cb7-5db70aa6febf)\n",
    "* Have a copy of United States State Boundaries Shapefile (*ipums_nhgis_states.shp*) file available in your workspace\n",
    "  * If you worked through [IPUMS NHGIS Data Extraction Using ipumsr: Supplemental Exercise 2](https://platform.i-guide.io/notebooks/bc79eda6-8353-42ea-8cb7-5db70aa6febf) you should have created and saved a copy of *ipums_nhgis_states.shp* in the final section of the notebook.\n",
    "  * You can also download a copy of *ipums_nhgis_states.zip* file from [the I-GUIDE platform](https://platform.i-guide.io/datasets/1a5acd50-4741-447a-bf36-2331b39559af) or directly from [Kate's GitHub](https://github.com/vavramusser/r-spatial/blob/main/ipums_nhgis_states.zip).  You will need to unzip *ipums_nhgis_states.zip* and extract *ipums_nhgis_states.shp* file to your workspace.\n",
    "* Complete [Importing Data from Natural Earth with rnaturalearth and rnaturalearthdata](https://platform.i-guide.io/notebooks/934e764c-d727-4bab-bc1c-198233484adc)\n",
    "* Have a copy of Time Zone Boundary Shapefile (*time_zones.shp*) file available in your workspace\n",
    "  * If you worked through [Importing Data from Natural Earth with rnaturalearth and rnaturalearthdata](https://platform.i-guide.io/notebooks/934e764c-d727-4bab-bc1c-198233484adc) you should have created and saved a copy of *time_zones.shp* in the final section of the notebook.\n",
    "  * You can also download a copy of *time_zones.zip* file from [the I-GUIDE platform](https://platform.i-guide.io/datasets/b69f8825-7807-401f-b6d9-f7d8754adb07) or directly from [Kate's GitHub](https://github.com/vavramusser/r-spatial/blob/main/time_zones.zip).  You will need to unzip *time_zones.zip* and extract *time_zones.shp* file to your workspace.\n",
    "\n",
    "### Notebook Overview\n",
    "1. Setup\n",
    "2. Exploring Geometric Binary Predicate Functions from the sf Package\n",
    "3. A List of Geometric Binary Predicate Functions from the sf Package\n",
    "\n",
    "---"
   ]
  },
  {
   "cell_type": "markdown",
   "id": "379a8ae9-c3bc-4eee-9bb7-3468c862146a",
   "metadata": {},
   "source": [
    "## 1. Setup\n",
    "This notebook requires the following R packages and functions.\n",
    "\n",
    "##### Required Packages\n",
    "\n",
    "[**sf**](https://cran.r-project.org/web/packages/sf/index.html) · Support for [simple features](https://r-spatial.github.io/sf/articles/sf1.html), a standardized way to encode spatial vector data - Binds to [*GDAL*](https://gdal.org/en/stable) for reading and writing data, to [*GEOS*](https://libgeos.org) for geometrical operations, and to [*PROJ*](https://proj.org/en/stable) for projection conversions and datum transformations - Uses by default the [*s2*](https://cran.r-project.org/web/packages/s2/index.html) package for spherical geometry operations on ellipsoidal (long/lat) coordinates · This notebook uses the following functions from *sf*.\n",
    "\n",
    "* [*geos_binary_pred*](https://rdrr.io/cran/sf/man/geos_binary_pred.html) · geometric binary predicates on pairs of simple feature geometry sets\n",
    "  * *st_contains*\n",
    "  * *st_intersects*\n",
    "  * *st_within*\n",
    "* [*st_crs*](https://rdrr.io/cran/sf/man/st_crs.html) · retrieve coordinate reference system from object\n",
    "* [*st_read*](https://rdrr.io/cran/sf/man/st_read.html) · read simple features or layers from file or database\n",
    "* [*st_transform*](https://rdrr.io/cran/sf/man/st_transform.html) · transform or convert coordinates of simple feature\n",
    "* [*valid*](https://rdrr.io/cran/sf/man/valid.html) · check validity or make an invalid geometry valid\n",
    "  * *st_make_valid* · make an invalid geometry valid\n",
    "  * *st_is_valid* · check validity"
   ]
  },
  {
   "cell_type": "markdown",
   "id": "8beb7de5-072d-4ad1-b2ea-7ee5cd54c7ad",
   "metadata": {},
   "source": [
    "### 1a. Install and Load Required Packages\n",
    "If you have not already installed the required packages, uncomment and run the code below:"
   ]
  },
  {
   "cell_type": "code",
   "execution_count": 48,
   "id": "e4f89cba-4bab-4ac3-8706-6be8adc40c0c",
   "metadata": {},
   "outputs": [],
   "source": [
    "# install.packages(\"sf\")"
   ]
  },
  {
   "cell_type": "markdown",
   "id": "8d7b8c45-58c4-49d3-bc23-8627f07a7d5b",
   "metadata": {},
   "source": [
    "Load the packages into your workspace."
   ]
  },
  {
   "cell_type": "code",
   "execution_count": null,
   "id": "93a2b1fe-9805-445f-95b2-1bbc2909779d",
   "metadata": {},
   "outputs": [],
   "source": [
    "library(sf)"
   ]
  },
  {
   "cell_type": "markdown",
   "id": "fea2ae01-cde3-4fdb-bb44-aa7e96487622",
   "metadata": {},
   "source": [
    "### 1b. Import Data\n",
    "\n",
    "First we will import three vector datasets to work with using the [*st_read*](https://rdrr.io/cran/sf/man/st_read.html) function from the [**sf**](https://cran.r-project.org/web/packages/sf/index.html) package.  If you worked through [Chapter 3.4.1](), [Chapter 3.4.2](), and [Chapter 4.1](), you should have saved these files to your workspace and they should be available to work with directly.  If you did not work through these chapters, you can download and import the files to your workspace.\n",
    "\n",
    "* **United States Populated Places Point Locations** (*ipums_nhgis_places.shp*) downloaded from [IPUMS NHGIS](https://www.nhgis.org) in [Chapter 3.4.1 IPUMS NHGIS Data Extraction Using ipumsr - Supplemental Exercise 1](). \n",
    "* **United States State Boundaries** (*ipums_nhgis_states.shp*) downloaded from [IPUMS NHGIS](https://www.nhgis.org) in [Chapter 3.4.2 IPUMS NHGIS Data Extraction Using ipumsr - Supplemental Exercise 2](). \n",
    "* **Global Time Zone Boundaries** (*time_zones.shp*) downloaded from [Natural Earth](https://www.naturalearthdata.com) in [Chapter 4.1 Importing Data from Natural Earth with rnaturalearth and rnaturalearthdata](). "
   ]
  },
  {
   "cell_type": "code",
   "execution_count": null,
   "id": "b97c94e9-3bc1-4ce6-8907-75dae64ae497",
   "metadata": {},
   "outputs": [],
   "source": [
    "places <- st_read(\"ipums_nhgis_places.shp\")\n",
    "states <- st_read(\"ipums_nhgis_states.shp\")\n",
    "time_zones <- st_read(\"time_zones.shp\")"
   ]
  },
  {
   "cell_type": "markdown",
   "id": "8b337d64-937c-4135-9fcf-0ce99001e33c",
   "metadata": {},
   "source": [
    "We can see that the *places* file contains point locations and information on 29,261 populated places in the US, the *states* file contains boundaries and information on 52 US states (50 states, Washington DC, and Puerto Rico), and the *time_zone* file contains boundaries and information on 120 time global time zones.\n",
    "\n",
    "### 1c. Project All Files to the Same CRS\n",
    "\n",
    "Let's ensure that all three files are using the same coordinate reference system (CRS).  Based on the file information output from reading in the data in the above code chunk, we can see that the two files from [IPUMS NHGIS](https://www.nhgis.org) (*places* and *states*) both use the [USA Contiguous Albers Equal Area Conic projected CRS](https://epsg.io/102003) while the *time_zones* file from [Natural Earth](https://www.naturalearthdata.com) uses the [WGS 1984 Geodetic CRS](https://epsg.io/4326).\n",
    "\n",
    "For this notebook, we will use the [WGS 1984 Geodetic CRS](https://epsg.io/4326) used by *time_zones* so we will need to reproject the *places* and *states* files to this CRS."
   ]
  },
  {
   "cell_type": "code",
   "execution_count": null,
   "id": "1624ab9b-4461-41fc-af61-7f6da5b7211a",
   "metadata": {},
   "outputs": [],
   "source": [
    "places <- st_transform(places, st_crs(time_zones))\n",
    "states <- st_transform(states, st_crs(time_zones))"
   ]
  },
  {
   "cell_type": "markdown",
   "id": "85190782-eb51-4b8a-8d02-ff01612f6625",
   "metadata": {},
   "source": [
    "Let's double check the CRS for all three files."
   ]
  },
  {
   "cell_type": "code",
   "execution_count": null,
   "id": "42d77fd1-9dbe-4098-881e-6d8c63a54be8",
   "metadata": {},
   "outputs": [],
   "source": [
    "st_crs(places)$epsg\n",
    "st_crs(states)$epsg\n",
    "st_crs(time_zones)$epsg"
   ]
  },
  {
   "cell_type": "markdown",
   "id": "a56132fa-4a8a-4244-99cd-868bc4bbaf4b",
   "metadata": {},
   "source": [
    "All three files are now represented in the [WGS 1984 Geodetic CRS (EPSG code 4326)](https://epsg.io/4326).\n",
    "\n",
    "### 1d. Validate the Data\n",
    "\n",
    "Let's ensure that the three files we are working with have valid geometries using the [*st_is_valid*](https://rdrr.io/cran/sf/man/valid.html) function from the [**sf**](https://cran.r-project.org/web/packages/sf/index.html) package.  If there are any invalid geometries that could impact our ability to carry out spatial analyses or properly map our data."
   ]
  },
  {
   "cell_type": "code",
   "execution_count": null,
   "id": "e2688532-f8ff-413e-a3b1-a4a5d30d2628",
   "metadata": {},
   "outputs": [],
   "source": [
    "table(st_is_valid(places))"
   ]
  },
  {
   "cell_type": "code",
   "execution_count": null,
   "id": "60a271eb-f11c-4c48-81d2-f1d0ac1af49c",
   "metadata": {},
   "outputs": [],
   "source": [
    "table(st_is_valid(states))"
   ]
  },
  {
   "cell_type": "code",
   "execution_count": null,
   "id": "068c76b3-e8fc-41a4-b45c-727291355dc0",
   "metadata": {},
   "outputs": [],
   "source": [
    "table(st_is_valid(time_zones))"
   ]
  },
  {
   "cell_type": "markdown",
   "id": "96fa98c5-4fc3-4298-b169-f12817df77ed",
   "metadata": {},
   "source": [
    "All 29,261 features in the *places* file are all valid.  However, 12 of the 52 features in the *states* file and 2 of the 120 features in the *time_zones* file are invalid.  We will need to validate these files before continuing using the [*st_make_valid*](https://rdrr.io/cran/sf/man/valid.html) function from the [**sf**](https://cran.r-project.org/web/packages/sf/index.html) package."
   ]
  },
  {
   "cell_type": "code",
   "execution_count": null,
   "id": "1fa691bd-3e83-4615-8344-9c9641e6348b",
   "metadata": {},
   "outputs": [],
   "source": [
    "states <- st_make_valid(states)\n",
    "time_zones <- st_make_valid(time_zones)"
   ]
  },
  {
   "cell_type": "markdown",
   "id": "03942e0d-3c6c-4bb8-bd3c-95906fa04c41",
   "metadata": {},
   "source": [
    "Let's check to see if the *states* and *time_zones* files have been completely validated."
   ]
  },
  {
   "cell_type": "code",
   "execution_count": null,
   "id": "f9552fce-4836-4af1-852b-5553b0d000a2",
   "metadata": {},
   "outputs": [],
   "source": [
    "table(st_is_valid(states))"
   ]
  },
  {
   "cell_type": "code",
   "execution_count": null,
   "id": "c091ff80-7b54-43d0-ac58-81161dad1322",
   "metadata": {},
   "outputs": [],
   "source": [
    "table(st_is_valid(time_zones))"
   ]
  },
  {
   "cell_type": "markdown",
   "id": "b3720cf8-91eb-4d46-93f6-5e5f6f3db26b",
   "metadata": {},
   "source": [
    "All 52 features inthe *states* file and 120 features in the *time_zones* file are now validated!  We are ready to move on to the next step.\n",
    "\n",
    "### 1e. Review the Data\n",
    "\n",
    "Before jumping into analysis, let's take a quick look at the first few rows for the *places* and *states* files as a refresher to see what attibutes (columns) each file includes."
   ]
  },
  {
   "cell_type": "code",
   "execution_count": null,
   "id": "407be997-ae5f-400f-b645-3c04bf48a3bb",
   "metadata": {},
   "outputs": [],
   "source": [
    "head(places, 3)"
   ]
  },
  {
   "cell_type": "code",
   "execution_count": null,
   "id": "ea8d3033-484a-49a5-a296-4d2ca034185c",
   "metadata": {},
   "outputs": [],
   "source": [
    "head(states, 3)"
   ]
  },
  {
   "cell_type": "markdown",
   "id": "01f2ff75-bc73-4188-9b4f-c5e09254ca61",
   "metadata": {},
   "source": [
    "A few attributes we may want to take note of for our analyses are:\n",
    "\n",
    "From the ***places*** file:\n",
    "\n",
    "* State Name (*STATE_x*)\n",
    "* City Name (*PLACE_x*)\n",
    "* 1990 Total Population (*CL8AA1990*)\n",
    "* 2000 Total Population (*CL8AA2000*)\n",
    "* 2010 Total Population (*CL8AA2010*)\n",
    "* 2020 Total Population (*CL8AA2020*)\n",
    "\n",
    "From the ***states*** file:\n",
    "\n",
    "* State Name (*NAME10*)\n",
    "* State USPS Abbreviation (*STUSPS10*)"
   ]
  },
  {
   "cell_type": "markdown",
   "id": "90aed062-5b60-4042-921f-6dbe537de423",
   "metadata": {},
   "source": [
    "## 2. Exploring Geometric Binary Predicate Functions from the sf Package\n",
    "\n",
    "In this section we will explore [*binary predicate functions*](https://rdrr.io/cran/sf/man/geos_binary_pred.html) by stepping through the process of using them in practical examples.\n",
    "\n",
    "The [*binary predicate functions*](https://rdrr.io/cran/sf/man/geos_binary_pred.html), (including [`st_contains`](https://rdrr.io/cran/sf/man/geos_binary_pred.html), [`st_intersects`](https://rdrr.io/cran/sf/man/geos_binary_pred.html), [`st_within`](https://rdrr.io/cran/sf/man/geos_binary_pred.html), and others) will return an interesting type of data object called a **sparse geometry binary predicate (*sgbp*)** which represents the relationships between the two sets of features.  An *sgbp* is essentailly a list of feature index values (from the first set of features) each with a corresponding list of feature index values (from the second set of features) - a list of lists.  That can be a confusing data structure to imagine, but stepping through this section will help you to understand and visualize the structure of this type of data and how it is essential for spatial analyses.\n",
    "\n",
    "An *sgbp* may seem like a convoluded and abstract way of representing the relationship between two sets of features but it is a very simple and lightweight way for a computer to store and understand a large set of relationships.  For the most part, you, the user, will not need to directly interact with *sgbp* objects because you likely will not have a reason to work with any of the [*binary predicate functions*](https://rdrr.io/cran/sf/man/geos_binary_pred.html) by themselves.  Instead, you will use these functions, and their output, in conjunction with key spatial query functions including spatial subsetting and joining ([`st_join`](https://rdrr.io/cran/sf/man/st_join.html), [`st_filter`](https://rdrr.io/cran/sf/man/st_join.html) and [`st_crop`](https://rdrr.io/cran/sf/man/st_crs.html)), spatial aggregation and geometry manipulation ([`st_union`](https://rdrr.io/cran/sf/man/geos_combine.html) and [`st_combine`](https://rdrr.io/cran/sf/man/geos_combine.html)), geometric binary operations ([`st_intersects`](https://rdrr.io/cran/sf/man/geos_binary_ops.html) and [`st_difference`](https://rdrr.io/cran/sf/man/geos_binary_ops.html)), spatial relationships ([`st_relate`](https://rdrr.io/cran/sf/man/st_read.html)), and others.\n",
    "\n",
    "Although you may not need to work with the output to the [*binary predicate functions*](https://rdrr.io/cran/sf/man/geos_binary_pred.html), it is a good idea to have some understanding of how they work since they are an essential underlying part of working with and manipulating spatial data.\n",
    "\n",
    "The next three sections step you through using [`st_contains`](https://rdrr.io/cran/sf/man/geos_binary_pred.html), [`st_intersects`](https://rdrr.io/cran/sf/man/geos_binary_pred.html), and [`st_within`](https://rdrr.io/cran/sf/man/geos_binary_pred.html) in practical examples.  For these sections, focus on understanding the relationship between the input pair of features and the resulting *sgbp* object as well as the structure of the *sgbp* object itself.\n",
    "\n",
    "### 2a. Using [`st_contains`](https://rdrr.io/cran/sf/man/geos_binary_pred.html): Which States Contain which Places?\n",
    "\n",
    "In this first exercise, we will use the [`st_contains`](https://rdrr.io/cran/sf/man/geos_binary_pred.html) function from the [`sf`](https://cran.r-project.org/web/packages/sf/index.html) package to explore which US states **contain** which populated places.\n",
    "\n",
    "The following step will return a list of state index values each with a corresponding list of  populated place index values."
   ]
  },
  {
   "cell_type": "code",
   "execution_count": null,
   "id": "a921bc46-5a2c-4ffd-8f2f-54bd4dc0ba17",
   "metadata": {},
   "outputs": [],
   "source": [
    "states_contains_places <- st_contains(states, places)"
   ]
  },
  {
   "cell_type": "markdown",
   "id": "6db26176-9971-433e-bd71-1d2396af5f3e",
   "metadata": {},
   "source": [
    "Let's take a look at the dimensions and the class of the resulting object."
   ]
  },
  {
   "cell_type": "code",
   "execution_count": null,
   "id": "66542ca2-9c49-4f85-8cc3-02c31547b9be",
   "metadata": {},
   "outputs": [],
   "source": [
    "dim(states_contains_places)\n",
    "class(states_contains_places)"
   ]
  },
  {
   "cell_type": "markdown",
   "id": "f28adf83-c1b8-43cb-a05a-56b134caa45e",
   "metadata": {},
   "source": [
    "The *states_contains_places* object returned by the [`st_contains`](https://rdrr.io/cran/sf/man/geos_binary_pred.html) function is an *sgbp* object with **52** items (the index values for the 52 features in the *states* object) with attached *lists* containing **29,261** items (the index values for the 29,621 features in the *places* object).  In otherwords, the function returned a **list of state indicies** each with a corresponding **list of place indicies** representing the **states** and which **places** they contain.\n",
    "\n",
    "Let's take a quick look at the first five items in the *states_contains_places* object.  This will show us the first five *states* and their corresponding lists of *places*."
   ]
  },
  {
   "cell_type": "code",
   "execution_count": null,
   "id": "82ddee29-bde8-4ef1-8f89-4c23448894cc",
   "metadata": {},
   "outputs": [],
   "source": [
    "states_contains_places[1:5]"
   ]
  },
  {
   "cell_type": "markdown",
   "id": "d75eac55-781e-4b98-bb6c-fecd1859d33d",
   "metadata": {},
   "source": [
    "Let's take a quick look at the length of each list of place indicies for the states using the *lengths* function.  The output will show us number of places contained in each of the states."
   ]
  },
  {
   "cell_type": "code",
   "execution_count": null,
   "id": "cf9d1a1a-67d2-4316-b075-ea52b5b5121f",
   "metadata": {},
   "outputs": [],
   "source": [
    "lengths(states_contains_places)"
   ]
  },
  {
   "cell_type": "markdown",
   "id": "46f3d756-e51d-4c6f-9948-771612b55d83",
   "metadata": {},
   "source": [
    "From this we can see that the first state contains 203 places, the second state contains 1765 places, and so on.\n",
    "\n",
    "You may notice that there is one state with 0 places and one state with only 1 place which seems out of the ordinary compared to the other states.  The state with 0 places is Puerto Rico which, of course, in reality does have populated places, but did not match to any features in the *places* object because the *places* object does not include information for Puerto Rico.  The state with 1 place is the District of Columbia which contains the single city of Washington DC.\n",
    "\n",
    "Let's take a look at the summary information for the counts of places in each state."
   ]
  },
  {
   "cell_type": "code",
   "execution_count": null,
   "id": "3b2c9a95-ba05-4922-90e7-7c8fa9e2bc32",
   "metadata": {},
   "outputs": [],
   "source": [
    "summary(lengths(states_contains_places))"
   ]
  },
  {
   "cell_type": "markdown",
   "id": "9b7f607c-c82f-46e1-a671-a99cfed4f733",
   "metadata": {},
   "source": [
    "From this output we can see that states contain a mean and median of about 562 and 466 populated places, respectively."
   ]
  },
  {
   "cell_type": "markdown",
   "id": "ccae5558-1d15-4337-8214-3e0367436810",
   "metadata": {},
   "source": [
    "### 2b. Using [`st_within`](https://rdrr.io/cran/sf/man/geos_binary_pred.html): Which Places are Within which States?\n",
    "\n",
    "For the second exercise, we will use the [`st_intersects`](https://rdrr.io/cran/sf/man/geos_binary_pred.html) function from the [`sf`](https://cran.r-project.org/web/packages/sf/index.html) package to explore which places are within each state.\n",
    "\n",
    "As you might guess, this analysis is very similar to the one carried out in section 2a.  However, this time the results will be a list of *places* with corresponding lists of *states* rather than *states* with corresponding lists of *places*.  The [`st_intersects`](https://rdrr.io/cran/sf/man/geos_binary_pred.html) function is the **inverse** of the [`st_within`](https://rdrr.io/cran/sf/man/geos_binary_pred.html) function and vice versa.\n",
    "\n",
    "The following step will return a list of populated place index values each with a corresponding list of state index values."
   ]
  },
  {
   "cell_type": "code",
   "execution_count": null,
   "id": "8b397e73-9eac-4d5a-8d57-0ba475518e00",
   "metadata": {},
   "outputs": [],
   "source": [
    "places_within_states <- st_within(places, states)"
   ]
  },
  {
   "cell_type": "markdown",
   "id": "5f14a5e0-83f1-44d7-aa6f-faa94a78100f",
   "metadata": {},
   "source": [
    "Let's take a look at the dimensions of the resulting object."
   ]
  },
  {
   "cell_type": "code",
   "execution_count": null,
   "id": "aca48d31-652b-4217-b3c8-1b0658927cf1",
   "metadata": {},
   "outputs": [],
   "source": [
    "dim(places_within_states)"
   ]
  },
  {
   "cell_type": "markdown",
   "id": "ff471e0e-be2c-404e-a94f-d48e8574a236",
   "metadata": {},
   "source": [
    "This time the result is an *sgbp* object with **29,261** items (the index values for the 29,621 features in the *places* object) with attached *lists* containing **52** items (the index values for the 52 features in the *states* object) - a **list of place indicies** each with a corresponding **list of state indicies**  representing the **places** and which **states** they are within.\n",
    "\n",
    "Let's take a quick look at the first ten items in the *places_within_states* object.  "
   ]
  },
  {
   "cell_type": "code",
   "execution_count": null,
   "id": "c2d50edd-5b2f-49f8-9eaa-c393d8458ce9",
   "metadata": {},
   "outputs": [],
   "source": [
    "places_within_states[1:10]"
   ]
  },
  {
   "cell_type": "markdown",
   "id": "8bf78d5a-2099-46d8-93f0-51b2373a62a6",
   "metadata": {},
   "source": [
    "Each of these first 10 places are in state 36 (Alabama) and exploring the *places_within_states* object will show you that each *place* corresponds to only one *state*.  The point geometries representing the point locations of each populated place can only be located within one polygon.\n",
    "\n",
    "If you are used to thinking of relationships in terms of *one-to-one*, *one-to-many*, *many-to-one*, and *many-to-many* the results of this exercise is a *many-to-one* relationship (many places can be within a state) while the results of the previous exercise exploring which states contain which places was a *one-to-many* (a state can contain many places) relationship.\n",
    "\n",
    "If our goal was to explore this same relationship but for metropolitain areas (which may span more than one state) we would need to use polygons rather that points to represent populated places ."
   ]
  },
  {
   "cell_type": "markdown",
   "id": "6baef4f6-a9d3-41b4-a2a7-3c34c413f873",
   "metadata": {},
   "source": [
    "### 2c. Using [`st_intersects`](https://rdrr.io/cran/sf/man/geos_binary_pred.html): Which Timezones Intersect with which States?\n",
    "\n",
    "For the final exercise, we will use the [`st_intersects`](https://rdrr.io/cran/sf/man/geos_binary_pred.html) function from the [`sf`](https://cran.r-project.org/web/packages/sf/index.html) package to explore which time zones intersect with which states.  Unlike the previous two examples which used a set of points and a set of polygons, this exercise uses two sets of polygons.\n",
    "\n",
    "The following step will return a list of time zone index values each with a corresponding list of state index values."
   ]
  },
  {
   "cell_type": "code",
   "execution_count": null,
   "id": "3464e4d6-9993-4a32-8cbb-6a4914ededa3",
   "metadata": {},
   "outputs": [],
   "source": [
    "timezones_intersects_states <- st_intersects(time_zones, states)"
   ]
  },
  {
   "cell_type": "markdown",
   "id": "d4ad4226-b17c-4f54-a63f-cc6dc0888e81",
   "metadata": {},
   "source": [
    "Let's take a look at the dimensions of the resulting object.\n",
    "\n",
    "The *timezones_intersects_states* object will contain a **list of time zone indicies** each with a corresponding **list of state indicies** representing the states which intersect with the time zone.\n",
    "\n",
    "Let's take a look at the *places_within_states* object.  "
   ]
  },
  {
   "cell_type": "code",
   "execution_count": null,
   "id": "b9af2d47-1c3c-45b0-8c53-d168fa1e86dd",
   "metadata": {},
   "outputs": [],
   "source": [
    "timezones_intersects_states"
   ]
  },
  {
   "cell_type": "markdown",
   "id": "f548be6e-d139-4ddf-9383-a706ca382ce4",
   "metadata": {},
   "source": [
    "From this output we can see that the time zones with indicies 10, 12, 13, and 21 intersect with most of the states and probably represent the four main time zones used in the contiguious United States.  Time zones 2, 7, 17, 79 also intersect with US states.\n",
    "\n",
    "We can also see that many of the time zones have no corresponding states - their list of states is empty.  This is because most of the global time zones do not cross the United States and do not contain any US states.  Recall from the introduction that *sgbp* stands for **sparse geometry binary predicate**.  In this case **sparse** refers to the fact that some of the elements in the object can be 0 (empty).  If you are familiar with the concept of a **sparse matrix** a **sparse geometry set** is an application of that concept.\n",
    "\n",
    "An important thing to note here is that **some of the time zones intersect with more than one state** - some state indicies are in the lists for more than one time zone.  For example, state 18 (Alaska) is in the list for time zones 2, 7, and 79 while state 4 (New Mexico) is in the list for zones 10 and 12.  Again, if you are used to thinking of relationships in terms of *one-to-one*, *one-to-many*, *many-to-one*, and *many-to-many* the results of this exercise is a *many-to-many* relationship (a time zone can intersect with many states *and* a state can intersect with many time zones).  [`st_intersects`](https://rdrr.io/cran/sf/man/geos_binary_pred.html) and the other geometric binary predicate functions can produce *many-to-many* relationships.  It is important to have a clear understanding of the type of geometric binary predicate you're using and ensure it both fits your data and the analysis you are trying to carry out.\n",
    "\n",
    "Let's take a look at the UTC format (*utc_format*) and places (*places*) for the four time zones which intersect with most of the states, zones 10, 12, 13, and 21."
   ]
  },
  {
   "cell_type": "code",
   "execution_count": null,
   "id": "6ebf6b26-a3b4-4c97-9c24-604e802dbd95",
   "metadata": {},
   "outputs": [],
   "source": [
    "time_zones[c(10, 12, 13, 21), c(\"utc_format\", \"places\")]"
   ]
  },
  {
   "cell_type": "markdown",
   "id": "d67f4e62-0411-413d-82d3-3f268085849c",
   "metadata": {},
   "source": [
    "We can confirm that these four time zones correspond to the UTC-5 (Eastern), UTC-6 (Central), UTC-7 (Mountain), and UTC-8 (Pacific) time zones used in the contiguious United States.\n",
    "\n",
    "Let's take a look at the other four zones which intersect US states, zones 2, 7, 17, and 79."
   ]
  },
  {
   "cell_type": "code",
   "execution_count": null,
   "id": "dd0ab0b0-3622-4574-9101-3aeb06fb7ab4",
   "metadata": {},
   "outputs": [],
   "source": [
    "time_zones[c(2, 7, 17, 79), c(\"utc_format\", \"places\")]"
   ]
  },
  {
   "cell_type": "markdown",
   "id": "f0a53306-4724-4b10-a79d-1607f3ff7e6c",
   "metadata": {},
   "source": [
    "These four include UTC-9 which is used by most of Alaska, two versions of UTC-10 which are used by Hawaii and the Aleutian Islands in Alaska, and UTC-4 which is used by Puerto Rico."
   ]
  },
  {
   "cell_type": "markdown",
   "id": "5e9b8984-e3d4-4f30-ab36-a58392dc99d0",
   "metadata": {},
   "source": [
    "## 3. A List of Geometric Binary Predicate Functions from the [**sf**](https://cran.r-project.org/web/packages/sf/index.html) Package\n",
    "\n",
    "Each of the [geometric binary predicate functions](https://rdrr.io/cran/sf/man/geos_binary_pred.html) takes two vector sf objects and returns a sparse geometry binary predicate (*sgbp*) object representing the relationships between the two sets of features.  Reading through this list you'll notice that the differences between many of the functions are very nuanced.  If you are new to [**sf**](https://cran.r-project.org/web/packages/sf/index.html) and the concept of spatial relationships in R, you can probably just focus on `st_contains`, `st_within`, `st_intersects`, and `st_touches` which will likely cover most of the geometric queries you will need in a typical analysis.\n",
    "   \n",
    "| Function               | Description | Importance |\n",
    "|:------------------------|:-------------| :-------------|\n",
    "| **st_contains**        | checks if one geometry completely contains another (inverse of `st_within`) | ✅ most important |\n",
    "| **st_contains_properly** | like `st_contains`, but boundaries must not touch | ⚠️ learn later |\n",
    "| **st_covered_by**      | checks if a geometry is fully inside another, including the boundary (inverse of `st_covers`) | ⚠️ learn later |\n",
    "| **st_covers**          | checks if one geometry fully covers another, including the boundary (inverse of `st_covered_by`) | ⚠️ learn later |\n",
    "| **st_crosses**         | checks if two geometries intersect but do not fully contain one another | ⛔️ advanced use |\n",
    "| **st_disjoint**        | checks if two geometries have no points in common (inverse of `st_intersects`) | ⛔️ advanced use |\n",
    "| **st_equals**          | checks if two geometries are exactly the same | ⛔️ advanced use |\n",
    "| **st_equals_exact**    | like `st_equals`, but allows for small numerical differences | ⛔️ advanced use |\n",
    "| **st_intersects**      | checks if two geometries share any space (inverse of `st_disjoint`) | ✅ most important |\n",
    "| **st_is_within_distance** | checks if two geometries are within a specified distance | ⚠️ learn later |\n",
    "| **st_overlaps**        | checks if two geometries share some space but are not fully contained within each other | ⛔️ advanced use |\n",
    "| **st_touches**         | checks if two geometries share a boundary but do not overlap | ✅ most important |\n",
    "| **st_within**          | checks if one geometry is entirely inside another (inverse of `st_contains`) | ✅ most important |"
   ]
  },
  {
   "cell_type": "markdown",
   "id": "7fd70c76-566b-44c0-a8ae-5557b1a637b3",
   "metadata": {},
   "source": [
    "The *geometric binary predicate* functions are used in:\n",
    "\n",
    "* **Spatial Joins and Spatial Filtering**\n",
    "* **Overlay Operations**\n",
    "* **Distance-Based Analysis**"
   ]
  },
  {
   "cell_type": "markdown",
   "id": "91a6301f-3b0f-4bcc-bdf9-00f8d1de0eea",
   "metadata": {},
   "source": [
    "---\n",
    "\n",
    "## Next Steps\n",
    "\n",
    "* Continue to [**Chapter 7.2 Spatial Joins and Filter by Location**](https://platform.i-guide.io/notebooks/a4f2cf0c-b777-4811-8aa1-6d5420795)\n",
    "* Continue to [**Chapter 7.3 Distance and Nearest Neighbor Calculations**](https://platform.i-guide.io/notebooks/02f7f46b-c45f-4a06-81e0-d7df3f81ca23)\n",
    "* Return to the [**R Spatial Notebooks Project Chapter List**](https://vavramusser.github.io/r-spatial/#:~:text=R%20Spatial%20Notebooks%20Chapter%20List) to view a list of all available notebooks organized in the R Spatial Notebooks chapter structure.\n",
    "* Visit the [**R Spatial Notebooks Project Homepage**](https://vavramusser.github.io/r-spatial) to learn more about the project, view the list of all notebooks, and explore additional resources.\n",
    "* Join the project [**Mailing List**](https://mailchi.mp/ab01e8fc8397/r-spatial-email-signup) to hear about future notebook releases and other updates.\n",
    "* If you have an idea for a new notebook please submit your idea via the [**Suggestion Box**](https://us19.list-manage.com/survey?u=746bf8d366d6fbc99c699e714&id=54590a28ea&attribution=false).\n",
    "\n",
    "---\n",
    "\n",
    "## ★ Thank You ★\n",
    "\n",
    "Thank you so much for engaging with this notebook and supporting the project!  The R Spatial Notebooks Project is a labor of love so if you enjoy or benefit from these notebooks, please consider [**Donating to the Project**](https://buymeacoffee.com/vavramusser).  Your support allows me to continue producing notebooks and supporting the R Spatial Notebooks community."
   ]
  }
 ],
 "metadata": {
  "kernelspec": {
   "display_name": "R",
   "language": "R",
   "name": "ir"
  },
  "language_info": {
   "codemirror_mode": "r",
   "file_extension": ".r",
   "mimetype": "text/x-r-source",
   "name": "R",
   "pygments_lexer": "r",
   "version": "4.3.3"
  }
 },
 "nbformat": 4,
 "nbformat_minor": 5
}
