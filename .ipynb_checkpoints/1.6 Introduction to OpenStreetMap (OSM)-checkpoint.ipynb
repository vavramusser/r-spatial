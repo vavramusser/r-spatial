{
 "cells": [
  {
   "cell_type": "markdown",
   "id": "e4c1cc8d-a24a-44ec-8955-1cee499d1c2f",
   "metadata": {},
   "source": [
    "# Introduction to OpenStreetMap (OSM)"
   ]
  },
  {
   "cell_type": "markdown",
   "id": "a3e3b7d6-75dc-4f0b-8dee-f11fe69d9ae3",
   "metadata": {},
   "source": [
    "[**OpenStreetMap (OSM)**](https://www.openstreetmap.org) is a collaborative, open-source mapping platform that provides rich geographic data contributed by a global community of volunteers. OSM includes information on streets, buildings, amenities, and natural features, making it a valuable resource for spatial analysis and mapping.\n",
    "\n",
    "### Available Data\n",
    "OpenStreetMap (OSM) data includes detailed information on roads, buildings, points of interest, natural features, land use, administrative boundaries, and more. Data coverage and accuracy vary by region, with urban areas typically offering higher detail. OSM data is dynamic and frequently updated, making it a valuable resource for applications requiring current geospatial information."
   ]
  },
  {
   "cell_type": "markdown",
   "id": "63c2d926-6c1e-47b9-9191-39e023508b79",
   "metadata": {},
   "source": [
    "## The osmdata R Package\n",
    "\n",
    "The [**osmdata package**](https://cran.r-project.org/web/packages/osmdata/osmdata.pdf) is a powerful tool for accessing and extracting geospatial data from OpenStreetMap (OSM) directly within R. Designed to facilitate the use of OSM data in spatial analyses, osmdata allows users to query and retrieve map features, such as points of interest, roads, buildings, waterways, and land use, using the Overpass API. The package supports data extraction in multiple formats, including sf (simple features) and sp objects, enabling seamless integration with R’s spatial data ecosystem. With osmdata, users can efficiently filter and download detailed geospatial information tailored to their analytical needs."
   ]
  },
  {
   "cell_type": "markdown",
   "id": "84510962-21eb-4d97-a3a3-5a06e0e3799c",
   "metadata": {},
   "source": [
    "## The Overpass API\n",
    "\n",
    "The osmdata package uses the [**Overpass API**](https://wiki.openstreetmap.org/wiki/Overpass_API) to query and extract geospatial data from OpenStreetMap (OSM).\n",
    "\n",
    "An [API (Application Programming Interface)](https://en.wikipedia.org/wiki/API) is a set of rules and protocols that allow different software applications to communicate with each other. APIs enable automated access to data and services, allowing users to retrieve, manipulate, and manage information without directly interacting with a website or user interface.\n",
    "\n",
    "The Overpass API provides a programmatic way to access and query OpenStreetMap’s vast database of geographic features. It enables users to specify detailed queries, such as retrieving data for specific feature types (e.g., roads, buildings, waterways) or geographic areas, and return the results in structured formats for further analysis.\n",
    "\n",
    "The Overpass API does not require an OpenStreetMap (OSM) account or an API key to use."
   ]
  },
  {
   "cell_type": "markdown",
   "id": "e42c670f-0c02-415a-9943-4f8246ec459a",
   "metadata": {},
   "source": [
    "## The ggmap R Package\n",
    "\n",
    "The [**ggmap package**](https://cran.r-project.org/web/packages/ggmap/index.html) is a powerful tool for visualizing spatial data by combining the flexibility of ggplot2 with the ability to retrieve basemaps from online mapping services including [OpenStreetMap](https://www.openstreetmap.org) as well as [Google Maps](https://mapsplatform.google.com), [Stadia Maps](https://stadiamaps.com), and [Stamen Maps](https://maps.stamen.com).  Designed to streamline the integration of basemaps and data layers, ggmap allows users to create high-quality, interactive, and publication-ready maps. With functions for geocoding, reverse geocoding, and map styling, ggmap enables users to overlay spatial data points, polygons, or lines onto visually appealing basemaps, making it an essential package for spatial visualization in R."
   ]
  },
  {
   "cell_type": "markdown",
   "id": "91ec28b4-2911-4183-ad95-bbf348565b23",
   "metadata": {},
   "source": [
    "## Recommended Next Steps\n",
    "\n",
    "* **Continue with Chapter 1: Data Sources and APIs**\n",
    "  * 1.1: Introduction to IPUMS and the IPUMS API\n",
    "  * 1.2: Introduciton to Natural Earth\n",
    "  * 1.3: Introduction to Basemaps with ggmap\n",
    "  * 1.4: Introduction to the EPA Air Quality System (AQS) Data Repository\n",
    "  * 1.5: Introduction to the National Land Cover Database (NLCD)\n",
    "  * 1.7: Introduction to Google Earth Engine (GEE)"
   ]
  }
 ],
 "metadata": {
  "kernelspec": {
   "display_name": "R",
   "language": "R",
   "name": "ir"
  },
  "language_info": {
   "codemirror_mode": "r",
   "file_extension": ".r",
   "mimetype": "text/x-r-source",
   "name": "R",
   "pygments_lexer": "r",
   "version": "4.3.3"
  }
 },
 "nbformat": 4,
 "nbformat_minor": 5
}
