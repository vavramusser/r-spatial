{
 "cells": [
  {
   "cell_type": "markdown",
   "id": "bc9db899-b672-4f6c-ab18-eab2da9b8ae3",
   "metadata": {},
   "source": [
    "# Importing Data from [Natural Earth](https://www.naturalearthdata.com) with [rnaturalearth](https://cran.r-project.org/web/packages/rnaturalearth/index.html) and [rnaturalearthdata](https://cran.r-project.org/web/packages/rnaturalearthdata/index.html)\n",
    "### by [Kate Vavra-Musser](https://vavramusser.github.io) for the [R Spatial Notebook Series](https://vavramusser.github.io/r-spatial)"
   ]
  },
  {
   "cell_type": "markdown",
   "id": "501d4efe-a162-4c70-aabc-e152b9518804",
   "metadata": {},
   "source": [
    "## Introduction\n",
    "[Natural Earth](https://www.naturalearthdata.com) is a public domain map dataset available at multiple scales, featuring a wide variety of cultural and physical geographic data. The [rnaturalearth](https://cran.r-project.org/web/packages/rnaturalearth/index.html) and [rnaturalearthdata](https://cran.r-project.org/web/packages/rnaturalearthdata/index.html) R packages simplify the process of accessing, downloading, and using these datasets directly within R. These datasets are particularly valuable for social sciences research involving spatial data analysis due to their compatibility with R's spatial data tools.\n",
    "\n",
    "### Notebook Goals\n",
    "In this notebook, we will explore how to use [rnaturalearth](https://cran.r-project.org/web/packages/rnaturalearth/index.html) and [rnaturalearthdata](https://cran.r-project.org/web/packages/rnaturalearthdata/index.html) to import data from Natural Earth. We will focus on reviewing available datasets, downloading them, and saving the data for further analysis. By the end of this notebook, you will have a workflow to efficiently access and visualize Natural Earth data, including cultural and physical features such as country and boundary polygons.\n",
    "\n",
    "### ✨ Prerequisites ✨\n",
    "* Complete [Introduciton to Natural Earth](https://platform.i-guide.io/notebooks/924c7ca6-3d12-4a80-ab4d-814cc80f7f79)\n",
    "* Complete [Introduction to sf: Reading, Writing, and Inspecting Vector Data](https://platform.i-guide.io/notebooks/9968babe-22e4-4c3d-98e2-d8b45e9672cd)\n",
    "\n",
    "### Notebook Overview\n",
    "1. Setup\n",
    "2. Explore Available Data from Natural Earth\n",
    "3. Download and Save Data from Natural Earth"
   ]
  },
  {
   "cell_type": "markdown",
   "id": "61c37c42-6b4f-42a0-97a3-3ee4a1611519",
   "metadata": {},
   "source": [
    "## 1. Setup\n",
    "This notebook requires the following R packages and functions.\n",
    "\n",
    "#### Required Packages\n",
    "\n",
    "[**rnaturalearth**](https://cran.r-project.org/web/packages/rnaturalearth/index.html) · World Map Data from [Natural Earth](https://www.naturalearthdata.com) · Facilitates mapping by making natural earth map data from [Natural Earth](https://www.naturalearthdata.com) more easily available to R users · This notebook uses the folloing functions from *rnationalearth*.\n",
    "\n",
    "* [*ne_countries*](https://rdrr.io/cran/rnaturalearth/man/ne_countries.html) · get natural earth world country polygons\n",
    "* [*ne_download*](https://rdrr.io/cran/rnaturalearth/man/ne_download.html) · download data from Natural Earth and (optionally) read into R\n",
    "* [*ne_find_vector_data*](https://rdrr.io/cran/rnaturalearth/man/ne_find_vector_data.html) · return a dataframe of available vector layers on Natural Earth\n",
    "\n",
    "[**rnaturalearthdata**](https://cran.r-project.org/web/packages/rnaturalearthdata/index.html) · World Vector Map Data from [Natural Earth](https://www.naturalearthdata.com) Used in [rnaturalearth](https://cran.r-project.org/web/packages/rnaturalearth/index.html) · Vector map data from [Natural Earth](https://www.naturalearthdata.com) - Access functions are provided in the accompanying package [rnaturalearth](https://cran.r-project.org/web/packages/rnaturalearth/index.html)\n",
    "\n",
    "[**sf**](https://cran.r-project.org/web/packages/sf/index.html) · Support for [simple features](https://r-spatial.github.io/sf/articles/sf1.html), a standardized way to encode spatial vector data - Binds to [*GDAL*](https://gdal.org/en/stable) for reading and writing data, to [*GEOS*](https://libgeos.org) for geometrical operations, and to [*PROJ*](https://proj.org/en/stable) for projection conversions and datum transformations - Uses by default the [*s2*](https://cran.r-project.org/web/packages/s2/index.html) package for spherical geometry operations on ellipsoidal (long/lat) coordinates · This notebook uses the following functions from *sf*.\n",
    "\n",
    "* [*st_geometry*](https://rdrr.io/cran/sf/man/st_geometry.html) · get, set, replace or rename geometry from an sf object\n",
    "* [*st_write*](https://rdrr.io/cran/sf/man/st_write.html) · write simple features object to file or database"
   ]
  },
  {
   "cell_type": "markdown",
   "id": "aff4c7fe-f208-466e-878f-0b58e091125f",
   "metadata": {},
   "source": [
    "### 1a. Install and Load Required Packages\n",
    "If you have not already installed the required packages, uncomment and run the code below:"
   ]
  },
  {
   "cell_type": "code",
   "execution_count": null,
   "id": "19d98aaf-a4fa-4d8a-b902-71e6b5014944",
   "metadata": {},
   "outputs": [],
   "source": [
    "# install.packages(\"rnaturalearth\", \"rnaturalearthr\", \"sf\")"
   ]
  },
  {
   "cell_type": "markdown",
   "id": "012d0979-0b5e-4794-ba33-0ac88fe16887",
   "metadata": {},
   "source": [
    "Load the packages into your workspace."
   ]
  },
  {
   "cell_type": "code",
   "execution_count": null,
   "id": "c9371192-d7c0-4275-96af-8fc3934f48fc",
   "metadata": {},
   "outputs": [],
   "source": [
    "library(rnaturalearth)\n",
    "library(rnaturalearthdata)\n",
    "library(sf)"
   ]
  },
  {
   "cell_type": "markdown",
   "id": "4a0b7f5d-96a7-43f0-8a03-8821a5ca46cf",
   "metadata": {},
   "source": [
    "## 2. Explore Available Data from Natural Earth\n",
    "\n",
    "Natural Earth provides datasets across three scales:\n",
    "\n",
    "* Small scale (1:110m): Best for global or continental-scale analysis.\n",
    "* Medium scale (1:50m): Useful for regional or country-level analysis.\n",
    "* Large scale (1:10m): Provides the most detailed data, suitable for local-level analysis.\n",
    "\n",
    "The [*ne_find_vector_data*](https://rdrr.io/cran/rnaturalearth/man/ne_find_vector_data.html) function helps you explore available data from [Natural Earth](https://www.naturalearthdata.com) based on scale and category.\n",
    "\n",
    "### 2a. Review the List of Cultural Data\n",
    "\n",
    "Below, we review the available cultural data, which includes datasets such as administrative boundaries, populated places, and other human-related geographic features."
   ]
  },
  {
   "cell_type": "code",
   "execution_count": null,
   "id": "49dae12f-967c-4e80-b4a0-0d85bfed90f9",
   "metadata": {},
   "outputs": [],
   "source": [
    "# list of small scale cultural data (1:110 meters)\n",
    "ne_find_vector_data(category = \"cultural\")"
   ]
  },
  {
   "cell_type": "code",
   "execution_count": null,
   "id": "c7ede8fc-0a15-4c8e-b67d-7507794decf4",
   "metadata": {},
   "outputs": [],
   "source": [
    "# list of medium scale cultural data (1:50 meters)\n",
    "ne_find_vector_data(category = \"cultural\", scale = 50)"
   ]
  },
  {
   "cell_type": "code",
   "execution_count": null,
   "id": "a5958688-b026-406e-aa16-dfb9da33a2a8",
   "metadata": {},
   "outputs": [],
   "source": [
    "# list of large scale cultural data (1:10 meters)\n",
    "ne_find_vector_data(category = \"cultural\", scale = 10)"
   ]
  },
  {
   "cell_type": "markdown",
   "id": "78653281-4578-4a3b-bf23-efa469170d98",
   "metadata": {},
   "source": [
    "These commands display a list of available vector datasets, allowing you to browse the options and select datasets relevant to your analysis. Once you've identified the datasets of interest, you can download them using functions in the next section."
   ]
  },
  {
   "cell_type": "markdown",
   "id": "8b9e70d0-c0dd-403d-b0a1-0c34020ce303",
   "metadata": {},
   "source": [
    "## 3. Download and Save Data from Natural Earth\n",
    "\n",
    "After identifying relevant datasets, you can download and visualize them using the [*ne_countries*](https://rdrr.io/cran/rnaturalearth/man/ne_countries.html) function for country boundaries and [*ne_download*](https://rdrr.io/cran/rnaturalearth/man/ne_download.html) for other datasets.\n",
    "\n",
    "### 3a. United States Boundary Polygons\n",
    "\n",
    "As an example, we will download and visualize boundary polygons for the United States."
   ]
  },
  {
   "cell_type": "code",
   "execution_count": null,
   "id": "ffc34c5e-19d5-434e-b9e2-c10810f45400",
   "metadata": {},
   "outputs": [],
   "source": [
    "# United States State Boundaries (polygons)\n",
    "usa_boundary <- ne_countries(country = \"United States of America\")"
   ]
  },
  {
   "cell_type": "code",
   "execution_count": null,
   "id": "e6caf768-45e3-40bf-bf14-18c54e1afd13",
   "metadata": {},
   "outputs": [],
   "source": [
    "# plot the boundaries\n",
    "plot(st_geometry(usa_boundary))"
   ]
  },
  {
   "cell_type": "code",
   "execution_count": null,
   "id": "d7d36c95-897b-42ef-8495-00f6e751ea63",
   "metadata": {},
   "outputs": [],
   "source": [
    "# simplify the dataset by removing memory-intensive columns\n",
    "usa_boundary <- usa_boundary[, !names(usa_boundary) %in% c(\"pop_est\", \"ne_id\")]"
   ]
  },
  {
   "cell_type": "code",
   "execution_count": null,
   "id": "b4793872-c1ab-427b-893e-87ffb8f18f0f",
   "metadata": {},
   "outputs": [],
   "source": [
    "# write the usa_boundaries shapefile\n",
    "st_write(usa_boundary, \"usa_boundary.shp\", driver = \"ESRI Shapefile\", delete_dsn = T)"
   ]
  },
  {
   "cell_type": "markdown",
   "id": "973816fb-9d3c-4244-be3a-fc1f87672ea6",
   "metadata": {},
   "source": [
    "This process retrieves boundary polygons for the United States, visualizes them, and cleans up the dataset by removing non-essential columns. This workflow can be extended to download and work with other datasets from Natural Earth."
   ]
  },
  {
   "cell_type": "markdown",
   "id": "12d894bd-062b-4518-9494-5e5909d6fc2c",
   "metadata": {},
   "source": [
    "### 3b. Global Airport Locations\n",
    "\n",
    "As a second example, we'll download the airports dataset.  This data provides point locations and additional data for all airports worldwide."
   ]
  },
  {
   "cell_type": "code",
   "execution_count": null,
   "id": "3dbf040f-1faf-422c-b4dd-b12db1da1ee0",
   "metadata": {},
   "outputs": [],
   "source": [
    "airports <- ne_download(scale = 10, type = \"airports\", category = \"cultural\", returnclass = \"sf\")"
   ]
  },
  {
   "cell_type": "code",
   "execution_count": null,
   "id": "5a52554d-f789-4d8e-8aa7-64165a3e7d65",
   "metadata": {},
   "outputs": [],
   "source": [
    "plot(st_geometry(airports))"
   ]
  },
  {
   "cell_type": "code",
   "execution_count": null,
   "id": "0d26a912-3675-4f68-bbc2-e874ca546026",
   "metadata": {},
   "outputs": [],
   "source": [
    "# simplify the dataset by removing memory-intensive columns\n",
    "airports <- airports[, !names(airports) %in% c(\"ne_id\")]"
   ]
  },
  {
   "cell_type": "code",
   "execution_count": null,
   "id": "c55cbdc6-7145-4b0e-a5ee-99fa87d78e44",
   "metadata": {},
   "outputs": [],
   "source": [
    "st_write(airports, \"airports.shp\", driver = \"ESRI Shapefile\", delete_dsn = T)"
   ]
  },
  {
   "cell_type": "markdown",
   "id": "37365b98-71c2-4608-8238-c5a59e31d737",
   "metadata": {},
   "source": [
    "### 3c. Global Time Zones"
   ]
  },
  {
   "cell_type": "code",
   "execution_count": null,
   "id": "16705301-fe72-4eee-89aa-dd263c7887b1",
   "metadata": {},
   "outputs": [],
   "source": [
    "time_zones <- ne_download(scale = 10, type = \"time_zones\", category = \"cultural\", returnclass = \"sf\")"
   ]
  },
  {
   "cell_type": "code",
   "execution_count": null,
   "id": "9bea6a68-b574-4f98-9740-d636398718ac",
   "metadata": {},
   "outputs": [],
   "source": [
    "st_write(time_zones, \"time_zones.shp\", driver = \"ESRI Shapefile\", delete_dsn = T)"
   ]
  },
  {
   "cell_type": "markdown",
   "id": "da474536-38db-497a-bfd6-ac2ddf09143f",
   "metadata": {},
   "source": [
    "---\n",
    "\n",
    "## Next Steps\n",
    "\n",
    "* Move on to Chapter 6: Mapping and Visualization\n",
    "  * [**Chapter 6.1 Visualization and Quick Plots**](https://platform.i-guide.io/notebooks/dfe8fd72-f896-4dd2-9d61-6d9982394f1f)\n",
    "  * [**Chapter 6.2 Mapping Point and Polygon Data**](https://platform.i-guide.io/notebooks/2b9f579c-32b0-4078-af39-994bb31d50ec)\n",
    "  * [**Chapter 6.3 Choropleth Mapping**](https://platform.i-guide.io/notebooks/f2f973df-2412-49f0-ad39-d80051f20d4d)\n",
    "* Return to the [**R Spatial Notebooks Project Chapter List**](https://vavramusser.github.io/r-spatial/#:~:text=R%20Spatial%20Notebooks%20Chapter%20List) to view a list of all available notebooks organized in the R Spatial Notebooks chapter structure.\n",
    "* Visit the [**R Spatial Notebooks Project Homepage**](https://vavramusser.github.io/r-spatial) to learn more about the project, view the list of all notebooks, and explore additional resources.\n",
    "* Join the project [**Mailing List**](https://mailchi.mp/ab01e8fc8397/r-spatial-email-signup) to hear about future notebook releases and other updates.\n",
    "* If you have an idea for a new notebook please submit your idea via the [**Suggestion Box**](https://us19.list-manage.com/survey?u=746bf8d366d6fbc99c699e714&id=54590a28ea&attribution=false).\n",
    "\n",
    "---\n",
    "\n",
    "## ★ Thank You ★\n",
    "\n",
    "Thank you so much for engaging with this notebook and supporting the project!  The R Spatial Notebooks Project is a labor of love so if you enjoy or benefit from these notebooks, please consider [**Donating to the Project**](https://buymeacoffee.com/vavramusser).  Your support allows me to continue producing notebooks and supporting the R Spatial Notebooks community."
   ]
  }
 ],
 "metadata": {
  "kernelspec": {
   "display_name": "R",
   "language": "R",
   "name": "ir"
  },
  "language_info": {
   "codemirror_mode": "r",
   "file_extension": ".r",
   "mimetype": "text/x-r-source",
   "name": "R",
   "pygments_lexer": "r",
   "version": "4.3.3"
  }
 },
 "nbformat": 4,
 "nbformat_minor": 5
}
