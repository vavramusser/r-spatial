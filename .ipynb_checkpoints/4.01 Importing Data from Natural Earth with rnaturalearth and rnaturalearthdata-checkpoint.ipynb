{
 "cells": [
  {
   "cell_type": "markdown",
   "id": "bc9db899-b672-4f6c-ab18-eab2da9b8ae3",
   "metadata": {},
   "source": [
    "# Importing Data from [Natural Earth](https://www.naturalearthdata.com) with [rnaturalearth](https://cran.r-project.org/web/packages/rnaturalearth/index.html) and [rnaturalearthdata](https://cran.r-project.org/web/packages/rnaturalearthdata/index.html)\n",
    "### by [Kate Vavra-Musser](https://vavramusser.github.io) for the [R Spatial Notebook Series](https://vavramusser.github.io/r-spatial)"
   ]
  },
  {
   "cell_type": "markdown",
   "id": "501d4efe-a162-4c70-aabc-e152b9518804",
   "metadata": {},
   "source": [
    "## Introduction\n",
    "[Natural Earth](https://www.naturalearthdata.com) is a public domain map dataset available at multiple scales, featuring a wide variety of cultural and physical geographic data. The [rnaturalearth](https://cran.r-project.org/web/packages/rnaturalearth/index.html) and [rnaturalearthdata](https://cran.r-project.org/web/packages/rnaturalearthdata/index.html) R packages simplify the process of accessing, downloading, and using these datasets directly within R. These datasets are particularly valuable for social sciences research involving spatial data analysis due to their compatibility with R's spatial data tools.\n",
    "\n",
    "#### Vector Data Available from Natural Earth\n",
    "...\n",
    "\n",
    "### Notebook Goals\n",
    "In this notebook, we will explore how to use [rnaturalearth](https://cran.r-project.org/web/packages/rnaturalearth/index.html) and [rnaturalearthdata](https://cran.r-project.org/web/packages/rnaturalearthdata/index.html) to import data from Natural Earth. We will focus on reviewing available datasets, downloading them, and saving the data for further analysis. By the end of this notebook, you will have a workflow to efficiently access and visualize Natural Earth data, including cultural and physical features such as country and boundary polygons.\n",
    "\n",
    "### ★ Prerequisites ★\n",
    "* Complete [Chapter 1.2 Introduciton to Natural Earth](https://platform.i-guide.io/notebooks/924c7ca6-3d12-4a80-ab4d-814cc80f7f79)\n",
    "* Complete [Chapter 2.1 Introduction to sf: Reading, Writing, and Inspecting Spatial Data]()\n",
    "\n",
    "### Notebook Overview\n",
    "1. Setup\n",
    "2. Explore Available Data from Natural Earth\n",
    "3. Download and Save Data from Natural Earth"
   ]
  },
  {
   "cell_type": "markdown",
   "id": "61c37c42-6b4f-42a0-97a3-3ee4a1611519",
   "metadata": {},
   "source": [
    "## 1. Setup\n",
    "This notebook requires the following R packages and functions.\n",
    "\n",
    "#### Required Packages\n",
    "\n",
    "[**rnaturalearth**](https://cran.r-project.org/web/packages/rnaturalearth/index.html) · World Map Data from [Natural Earth](https://www.naturalearthdata.com) · Facilitates mapping by making natural earth map data from [Natural Earth](https://www.naturalearthdata.com) more easily available to R users · This notebook uses the folloing functions from *rnationalearth*.\n",
    "\n",
    "* [*ne_countries*](https://rdrr.io/cran/rnaturalearth/man/ne_countries.html) · get natural earth world country polygons\n",
    "* [*ne_download*](https://rdrr.io/cran/rnaturalearth/man/ne_download.html) · download data from Natural Earth and (optionally) read into R\n",
    "* [*ne_find_vector_data*](https://rdrr.io/cran/rnaturalearth/man/ne_find_vector_data.html) · return a dataframe of available vector layers on Natural Earth\n",
    "\n",
    "[**rnaturalearthdata**](https://cran.r-project.org/web/packages/rnaturalearthdata/index.html) · World Vector Map Data from [Natural Earth](https://www.naturalearthdata.com) Used in [rnaturalearth](https://cran.r-project.org/web/packages/rnaturalearth/index.html) · Vector map data from [Natural Earth](https://www.naturalearthdata.com) - Access functions are provided in the accompanying package [rnaturalearth](https://cran.r-project.org/web/packages/rnaturalearth/index.html)\n",
    "\n",
    "[**sf**](https://cran.r-project.org/web/packages/sf/index.html) · Support for [simple features](https://r-spatial.github.io/sf/articles/sf1.html), a standardized way to encode spatial vector data - Binds to [*GDAL*](https://gdal.org/en/stable) for reading and writing data, to [*GEOS*](https://libgeos.org) for geometrical operations, and to [*PROJ*](https://proj.org/en/stable) for projection conversions and datum transformations - Uses by default the [*s2*](https://cran.r-project.org/web/packages/s2/index.html) package for spherical geometry operations on ellipsoidal (long/lat) coordinates · This notebook uses the following functions from *sf*.\n",
    "\n",
    "* [*st_geometry*](https://rdrr.io/cran/sf/man/st_geometry.html) · get, set, replace or rename geometry from an sf object\n",
    "* [*st_write*](https://rdrr.io/cran/sf/man/st_write.html) · write simple features object to file or database"
   ]
  },
  {
   "cell_type": "markdown",
   "id": "aff4c7fe-f208-466e-878f-0b58e091125f",
   "metadata": {},
   "source": [
    "### 1a. Install and Load Required Packages\n",
    "If you have not already installed the required packages, uncomment and run the code below:"
   ]
  },
  {
   "cell_type": "code",
   "execution_count": 4,
   "id": "19d98aaf-a4fa-4d8a-b902-71e6b5014944",
   "metadata": {},
   "outputs": [],
   "source": [
    "# install.packages(\"rnaturalearth\", \"rnaturalearthr\", \"sf\")"
   ]
  },
  {
   "cell_type": "markdown",
   "id": "012d0979-0b5e-4794-ba33-0ac88fe16887",
   "metadata": {},
   "source": [
    "Load the packages into your workspace."
   ]
  },
  {
   "cell_type": "code",
   "execution_count": 9,
   "id": "c9371192-d7c0-4275-96af-8fc3934f48fc",
   "metadata": {},
   "outputs": [],
   "source": [
    "library(rnaturalearth)\n",
    "library(rnaturalearthdata)\n",
    "library(sf)"
   ]
  },
  {
   "cell_type": "markdown",
   "id": "4a0b7f5d-96a7-43f0-8a03-8821a5ca46cf",
   "metadata": {},
   "source": [
    "## 2. Explore Available Data from Natural Earth\n",
    "\n",
    "Natural Earth provides datasets across three scales:\n",
    "\n",
    "* Small scale (1:110m): Best for global or continental-scale analysis.\n",
    "* Medium scale (1:50m): Useful for regional or country-level analysis.\n",
    "* Large scale (1:10m): Provides the most detailed data, suitable for local-level analysis.\n",
    "\n",
    "The [*ne_find_vector_data*](https://rdrr.io/cran/rnaturalearth/man/ne_find_vector_data.html) function helps you explore available data from [Natural Earth](https://www.naturalearthdata.com) based on scale and category.\n",
    "\n",
    "### 2a. Review the List of Cultural Data\n",
    "\n",
    "Below, we review the available cultural data, which includes datasets such as administrative boundaries, populated places, and other human-related geographic features."
   ]
  },
  {
   "cell_type": "code",
   "execution_count": 6,
   "id": "49dae12f-967c-4e80-b4a0-0d85bfed90f9",
   "metadata": {},
   "outputs": [
    {
     "data": {
      "text/html": [
       "<table class=\"dataframe\">\n",
       "<caption>A data.frame: 14 × 2</caption>\n",
       "<thead>\n",
       "\t<tr><th scope=col>layer</th><th scope=col>scale</th></tr>\n",
       "\t<tr><th scope=col>&lt;chr&gt;</th><th scope=col>&lt;dbl&gt;</th></tr>\n",
       "</thead>\n",
       "<tbody>\n",
       "\t<tr><td>admin_0_boundary_lines_land        </td><td>110</td></tr>\n",
       "\t<tr><td>admin_0_countries                  </td><td>110</td></tr>\n",
       "\t<tr><td>admin_0_countries_lakes            </td><td>110</td></tr>\n",
       "\t<tr><td>admin_0_map_units                  </td><td>110</td></tr>\n",
       "\t<tr><td>admin_0_pacific_groupings          </td><td>110</td></tr>\n",
       "\t<tr><td>admin_0_scale_rank                 </td><td>110</td></tr>\n",
       "\t<tr><td>admin_0_sovereignty                </td><td>110</td></tr>\n",
       "\t<tr><td>admin_0_tiny_countries             </td><td>110</td></tr>\n",
       "\t<tr><td>admin_1_states_provinces           </td><td>110</td></tr>\n",
       "\t<tr><td>admin_1_states_provinces_lakes     </td><td>110</td></tr>\n",
       "\t<tr><td>admin_1_states_provinces_lines     </td><td>110</td></tr>\n",
       "\t<tr><td>admin_1_states_provinces_scale_rank</td><td>110</td></tr>\n",
       "\t<tr><td>populated_places                   </td><td>110</td></tr>\n",
       "\t<tr><td>populated_places_simple            </td><td>110</td></tr>\n",
       "</tbody>\n",
       "</table>\n"
      ],
      "text/latex": [
       "A data.frame: 14 × 2\n",
       "\\begin{tabular}{ll}\n",
       " layer & scale\\\\\n",
       " <chr> & <dbl>\\\\\n",
       "\\hline\n",
       "\t admin\\_0\\_boundary\\_lines\\_land         & 110\\\\\n",
       "\t admin\\_0\\_countries                   & 110\\\\\n",
       "\t admin\\_0\\_countries\\_lakes             & 110\\\\\n",
       "\t admin\\_0\\_map\\_units                   & 110\\\\\n",
       "\t admin\\_0\\_pacific\\_groupings           & 110\\\\\n",
       "\t admin\\_0\\_scale\\_rank                  & 110\\\\\n",
       "\t admin\\_0\\_sovereignty                 & 110\\\\\n",
       "\t admin\\_0\\_tiny\\_countries              & 110\\\\\n",
       "\t admin\\_1\\_states\\_provinces            & 110\\\\\n",
       "\t admin\\_1\\_states\\_provinces\\_lakes      & 110\\\\\n",
       "\t admin\\_1\\_states\\_provinces\\_lines      & 110\\\\\n",
       "\t admin\\_1\\_states\\_provinces\\_scale\\_rank & 110\\\\\n",
       "\t populated\\_places                    & 110\\\\\n",
       "\t populated\\_places\\_simple             & 110\\\\\n",
       "\\end{tabular}\n"
      ],
      "text/markdown": [
       "\n",
       "A data.frame: 14 × 2\n",
       "\n",
       "| layer &lt;chr&gt; | scale &lt;dbl&gt; |\n",
       "|---|---|\n",
       "| admin_0_boundary_lines_land         | 110 |\n",
       "| admin_0_countries                   | 110 |\n",
       "| admin_0_countries_lakes             | 110 |\n",
       "| admin_0_map_units                   | 110 |\n",
       "| admin_0_pacific_groupings           | 110 |\n",
       "| admin_0_scale_rank                  | 110 |\n",
       "| admin_0_sovereignty                 | 110 |\n",
       "| admin_0_tiny_countries              | 110 |\n",
       "| admin_1_states_provinces            | 110 |\n",
       "| admin_1_states_provinces_lakes      | 110 |\n",
       "| admin_1_states_provinces_lines      | 110 |\n",
       "| admin_1_states_provinces_scale_rank | 110 |\n",
       "| populated_places                    | 110 |\n",
       "| populated_places_simple             | 110 |\n",
       "\n"
      ],
      "text/plain": [
       "   layer                               scale\n",
       "1  admin_0_boundary_lines_land         110  \n",
       "2  admin_0_countries                   110  \n",
       "3  admin_0_countries_lakes             110  \n",
       "4  admin_0_map_units                   110  \n",
       "5  admin_0_pacific_groupings           110  \n",
       "6  admin_0_scale_rank                  110  \n",
       "7  admin_0_sovereignty                 110  \n",
       "8  admin_0_tiny_countries              110  \n",
       "9  admin_1_states_provinces            110  \n",
       "10 admin_1_states_provinces_lakes      110  \n",
       "11 admin_1_states_provinces_lines      110  \n",
       "12 admin_1_states_provinces_scale_rank 110  \n",
       "13 populated_places                    110  \n",
       "14 populated_places_simple             110  "
      ]
     },
     "metadata": {},
     "output_type": "display_data"
    }
   ],
   "source": [
    "# list of small scale cultural data (1:110 meters)\n",
    "ne_find_vector_data(category = \"cultural\")"
   ]
  },
  {
   "cell_type": "code",
   "execution_count": 7,
   "id": "c7ede8fc-0a15-4c8e-b67d-7507794decf4",
   "metadata": {},
   "outputs": [
    {
     "data": {
      "text/html": [
       "<table class=\"dataframe\">\n",
       "<caption>A data.frame: 24 × 2</caption>\n",
       "<thead>\n",
       "\t<tr><th scope=col>layer</th><th scope=col>scale</th></tr>\n",
       "\t<tr><th scope=col>&lt;chr&gt;</th><th scope=col>&lt;dbl&gt;</th></tr>\n",
       "</thead>\n",
       "<tbody>\n",
       "\t<tr><td>admin_0_boundary_lines_disputed_areas        </td><td>50</td></tr>\n",
       "\t<tr><td>admin_0_boundary_lines_land                  </td><td>50</td></tr>\n",
       "\t<tr><td>admin_0_boundary_lines_maritime_indicator    </td><td>50</td></tr>\n",
       "\t<tr><td>admin_0_boundary_lines_maritime_indicator_chn</td><td>50</td></tr>\n",
       "\t<tr><td>admin_0_boundary_map_units                   </td><td>50</td></tr>\n",
       "\t<tr><td>admin_0_breakaway_disputed_areas             </td><td>50</td></tr>\n",
       "\t<tr><td>admin_0_countries                            </td><td>50</td></tr>\n",
       "\t<tr><td>admin_0_countries_lakes                      </td><td>50</td></tr>\n",
       "\t<tr><td>admin_0_map_subunits                         </td><td>50</td></tr>\n",
       "\t<tr><td>admin_0_map_units                            </td><td>50</td></tr>\n",
       "\t<tr><td>admin_0_pacific_groupings                    </td><td>50</td></tr>\n",
       "\t<tr><td>admin_0_scale_rank                           </td><td>50</td></tr>\n",
       "\t<tr><td>admin_0_sovereignty                          </td><td>50</td></tr>\n",
       "\t<tr><td>admin_0_tiny_countries                       </td><td>50</td></tr>\n",
       "\t<tr><td>admin_0_tiny_countries_scale_rank            </td><td>50</td></tr>\n",
       "\t<tr><td>admin_1_states_provinces                     </td><td>50</td></tr>\n",
       "\t<tr><td>admin_1_states_provinces_lakes               </td><td>50</td></tr>\n",
       "\t<tr><td>admin_1_states_provinces_lines               </td><td>50</td></tr>\n",
       "\t<tr><td>admin_1_states_provinces_scale_rank          </td><td>50</td></tr>\n",
       "\t<tr><td>airports                                     </td><td>50</td></tr>\n",
       "\t<tr><td>populated_places                             </td><td>50</td></tr>\n",
       "\t<tr><td>populated_places_simple                      </td><td>50</td></tr>\n",
       "\t<tr><td>ports                                        </td><td>50</td></tr>\n",
       "\t<tr><td>urban_areas                                  </td><td>50</td></tr>\n",
       "</tbody>\n",
       "</table>\n"
      ],
      "text/latex": [
       "A data.frame: 24 × 2\n",
       "\\begin{tabular}{ll}\n",
       " layer & scale\\\\\n",
       " <chr> & <dbl>\\\\\n",
       "\\hline\n",
       "\t admin\\_0\\_boundary\\_lines\\_disputed\\_areas         & 50\\\\\n",
       "\t admin\\_0\\_boundary\\_lines\\_land                   & 50\\\\\n",
       "\t admin\\_0\\_boundary\\_lines\\_maritime\\_indicator     & 50\\\\\n",
       "\t admin\\_0\\_boundary\\_lines\\_maritime\\_indicator\\_chn & 50\\\\\n",
       "\t admin\\_0\\_boundary\\_map\\_units                    & 50\\\\\n",
       "\t admin\\_0\\_breakaway\\_disputed\\_areas              & 50\\\\\n",
       "\t admin\\_0\\_countries                             & 50\\\\\n",
       "\t admin\\_0\\_countries\\_lakes                       & 50\\\\\n",
       "\t admin\\_0\\_map\\_subunits                          & 50\\\\\n",
       "\t admin\\_0\\_map\\_units                             & 50\\\\\n",
       "\t admin\\_0\\_pacific\\_groupings                     & 50\\\\\n",
       "\t admin\\_0\\_scale\\_rank                            & 50\\\\\n",
       "\t admin\\_0\\_sovereignty                           & 50\\\\\n",
       "\t admin\\_0\\_tiny\\_countries                        & 50\\\\\n",
       "\t admin\\_0\\_tiny\\_countries\\_scale\\_rank             & 50\\\\\n",
       "\t admin\\_1\\_states\\_provinces                      & 50\\\\\n",
       "\t admin\\_1\\_states\\_provinces\\_lakes                & 50\\\\\n",
       "\t admin\\_1\\_states\\_provinces\\_lines                & 50\\\\\n",
       "\t admin\\_1\\_states\\_provinces\\_scale\\_rank           & 50\\\\\n",
       "\t airports                                      & 50\\\\\n",
       "\t populated\\_places                              & 50\\\\\n",
       "\t populated\\_places\\_simple                       & 50\\\\\n",
       "\t ports                                         & 50\\\\\n",
       "\t urban\\_areas                                   & 50\\\\\n",
       "\\end{tabular}\n"
      ],
      "text/markdown": [
       "\n",
       "A data.frame: 24 × 2\n",
       "\n",
       "| layer &lt;chr&gt; | scale &lt;dbl&gt; |\n",
       "|---|---|\n",
       "| admin_0_boundary_lines_disputed_areas         | 50 |\n",
       "| admin_0_boundary_lines_land                   | 50 |\n",
       "| admin_0_boundary_lines_maritime_indicator     | 50 |\n",
       "| admin_0_boundary_lines_maritime_indicator_chn | 50 |\n",
       "| admin_0_boundary_map_units                    | 50 |\n",
       "| admin_0_breakaway_disputed_areas              | 50 |\n",
       "| admin_0_countries                             | 50 |\n",
       "| admin_0_countries_lakes                       | 50 |\n",
       "| admin_0_map_subunits                          | 50 |\n",
       "| admin_0_map_units                             | 50 |\n",
       "| admin_0_pacific_groupings                     | 50 |\n",
       "| admin_0_scale_rank                            | 50 |\n",
       "| admin_0_sovereignty                           | 50 |\n",
       "| admin_0_tiny_countries                        | 50 |\n",
       "| admin_0_tiny_countries_scale_rank             | 50 |\n",
       "| admin_1_states_provinces                      | 50 |\n",
       "| admin_1_states_provinces_lakes                | 50 |\n",
       "| admin_1_states_provinces_lines                | 50 |\n",
       "| admin_1_states_provinces_scale_rank           | 50 |\n",
       "| airports                                      | 50 |\n",
       "| populated_places                              | 50 |\n",
       "| populated_places_simple                       | 50 |\n",
       "| ports                                         | 50 |\n",
       "| urban_areas                                   | 50 |\n",
       "\n"
      ],
      "text/plain": [
       "   layer                                         scale\n",
       "1  admin_0_boundary_lines_disputed_areas         50   \n",
       "2  admin_0_boundary_lines_land                   50   \n",
       "3  admin_0_boundary_lines_maritime_indicator     50   \n",
       "4  admin_0_boundary_lines_maritime_indicator_chn 50   \n",
       "5  admin_0_boundary_map_units                    50   \n",
       "6  admin_0_breakaway_disputed_areas              50   \n",
       "7  admin_0_countries                             50   \n",
       "8  admin_0_countries_lakes                       50   \n",
       "9  admin_0_map_subunits                          50   \n",
       "10 admin_0_map_units                             50   \n",
       "11 admin_0_pacific_groupings                     50   \n",
       "12 admin_0_scale_rank                            50   \n",
       "13 admin_0_sovereignty                           50   \n",
       "14 admin_0_tiny_countries                        50   \n",
       "15 admin_0_tiny_countries_scale_rank             50   \n",
       "16 admin_1_states_provinces                      50   \n",
       "17 admin_1_states_provinces_lakes                50   \n",
       "18 admin_1_states_provinces_lines                50   \n",
       "19 admin_1_states_provinces_scale_rank           50   \n",
       "20 airports                                      50   \n",
       "21 populated_places                              50   \n",
       "22 populated_places_simple                       50   \n",
       "23 ports                                         50   \n",
       "24 urban_areas                                   50   "
      ]
     },
     "metadata": {},
     "output_type": "display_data"
    }
   ],
   "source": [
    "# list of medium scale cultural data (1:50 meters)\n",
    "ne_find_vector_data(category = \"cultural\", scale = 50)"
   ]
  },
  {
   "cell_type": "code",
   "execution_count": 8,
   "id": "a5958688-b026-406e-aa16-dfb9da33a2a8",
   "metadata": {},
   "outputs": [
    {
     "data": {
      "text/html": [
       "<table class=\"dataframe\">\n",
       "<caption>A data.frame: 80 × 2</caption>\n",
       "<thead>\n",
       "\t<tr><th scope=col>layer</th><th scope=col>scale</th></tr>\n",
       "\t<tr><th scope=col>&lt;chr&gt;</th><th scope=col>&lt;dbl&gt;</th></tr>\n",
       "</thead>\n",
       "<tbody>\n",
       "\t<tr><td>admin_0_antarctic_claim_limit_lines          </td><td>10</td></tr>\n",
       "\t<tr><td>admin_0_antarctic_claims                     </td><td>10</td></tr>\n",
       "\t<tr><td>admin_0_boundary_lines_disputed_areas        </td><td>10</td></tr>\n",
       "\t<tr><td>admin_0_boundary_lines_land                  </td><td>10</td></tr>\n",
       "\t<tr><td>admin_0_boundary_lines_map_units             </td><td>10</td></tr>\n",
       "\t<tr><td>admin_0_boundary_lines_maritime_indicator    </td><td>10</td></tr>\n",
       "\t<tr><td>admin_0_boundary_lines_maritime_indicator_chn</td><td>10</td></tr>\n",
       "\t<tr><td>admin_0_countries                            </td><td>10</td></tr>\n",
       "\t<tr><td>admin_0_countries_arg                        </td><td>10</td></tr>\n",
       "\t<tr><td>admin_0_countries_bdg                        </td><td>10</td></tr>\n",
       "\t<tr><td>admin_0_countries_bra                        </td><td>10</td></tr>\n",
       "\t<tr><td>admin_0_countries_chn                        </td><td>10</td></tr>\n",
       "\t<tr><td>admin_0_countries_deu                        </td><td>10</td></tr>\n",
       "\t<tr><td>admin_0_countries_egy                        </td><td>10</td></tr>\n",
       "\t<tr><td>admin_0_countries_esp                        </td><td>10</td></tr>\n",
       "\t<tr><td>admin_0_countries_fra                        </td><td>10</td></tr>\n",
       "\t<tr><td>admin_0_countries_gbr                        </td><td>10</td></tr>\n",
       "\t<tr><td>admin_0_countries_grc                        </td><td>10</td></tr>\n",
       "\t<tr><td>admin_0_countries_idn                        </td><td>10</td></tr>\n",
       "\t<tr><td>admin_0_countries_ind                        </td><td>10</td></tr>\n",
       "\t<tr><td>admin_0_countries_iso                        </td><td>10</td></tr>\n",
       "\t<tr><td>admin_0_countries_isr                        </td><td>10</td></tr>\n",
       "\t<tr><td>admin_0_countries_ita                        </td><td>10</td></tr>\n",
       "\t<tr><td>admin_0_countries_jpn                        </td><td>10</td></tr>\n",
       "\t<tr><td>admin_0_countries_kor                        </td><td>10</td></tr>\n",
       "\t<tr><td>admin_0_countries_lakes                      </td><td>10</td></tr>\n",
       "\t<tr><td>admin_0_countries_mar                        </td><td>10</td></tr>\n",
       "\t<tr><td>admin_0_countries_nep                        </td><td>10</td></tr>\n",
       "\t<tr><td>admin_0_countries_nld                        </td><td>10</td></tr>\n",
       "\t<tr><td>admin_0_countries_pak                        </td><td>10</td></tr>\n",
       "\t<tr><td>⋮</td><td>⋮</td></tr>\n",
       "\t<tr><td>admin_0_seams                            </td><td>10</td></tr>\n",
       "\t<tr><td>admin_0_sovereignty                      </td><td>10</td></tr>\n",
       "\t<tr><td>admin_1_label_points                     </td><td>10</td></tr>\n",
       "\t<tr><td>admin_1_label_points_details             </td><td>10</td></tr>\n",
       "\t<tr><td>admin_1_seams                            </td><td>10</td></tr>\n",
       "\t<tr><td>admin_1_states_provinces                 </td><td>10</td></tr>\n",
       "\t<tr><td>admin_1_states_provinces_lakes           </td><td>10</td></tr>\n",
       "\t<tr><td>admin_1_states_provinces_lines           </td><td>10</td></tr>\n",
       "\t<tr><td>admin_1_states_provinces_scale_rank      </td><td>10</td></tr>\n",
       "\t<tr><td>admin_2_counties                         </td><td>10</td></tr>\n",
       "\t<tr><td>admin_2_counties_lakes                   </td><td>10</td></tr>\n",
       "\t<tr><td>admin_2_counties_scale_rank              </td><td>10</td></tr>\n",
       "\t<tr><td>admin_2_counties_scale_rank_minor_islands</td><td>10</td></tr>\n",
       "\t<tr><td>admin_2_label_points                     </td><td>10</td></tr>\n",
       "\t<tr><td>admin_2_label_points_details             </td><td>10</td></tr>\n",
       "\t<tr><td>airports                                 </td><td>10</td></tr>\n",
       "\t<tr><td>parks_and_protected_lands_area           </td><td>10</td></tr>\n",
       "\t<tr><td>parks_and_protected_lands_line           </td><td>10</td></tr>\n",
       "\t<tr><td>parks_and_protected_lands_point          </td><td>10</td></tr>\n",
       "\t<tr><td>parks_and_protected_lands_scale_rank     </td><td>10</td></tr>\n",
       "\t<tr><td>populated_places                         </td><td>10</td></tr>\n",
       "\t<tr><td>populated_places_simple                  </td><td>10</td></tr>\n",
       "\t<tr><td>ports                                    </td><td>10</td></tr>\n",
       "\t<tr><td>railroads                                </td><td>10</td></tr>\n",
       "\t<tr><td>railroads_north_america                  </td><td>10</td></tr>\n",
       "\t<tr><td>roads                                    </td><td>10</td></tr>\n",
       "\t<tr><td>roads_north_america                      </td><td>10</td></tr>\n",
       "\t<tr><td>time_zones                               </td><td>10</td></tr>\n",
       "\t<tr><td>urban_areas                              </td><td>10</td></tr>\n",
       "\t<tr><td>urban_areas_landscan                     </td><td>10</td></tr>\n",
       "</tbody>\n",
       "</table>\n"
      ],
      "text/latex": [
       "A data.frame: 80 × 2\n",
       "\\begin{tabular}{ll}\n",
       " layer & scale\\\\\n",
       " <chr> & <dbl>\\\\\n",
       "\\hline\n",
       "\t admin\\_0\\_antarctic\\_claim\\_limit\\_lines           & 10\\\\\n",
       "\t admin\\_0\\_antarctic\\_claims                      & 10\\\\\n",
       "\t admin\\_0\\_boundary\\_lines\\_disputed\\_areas         & 10\\\\\n",
       "\t admin\\_0\\_boundary\\_lines\\_land                   & 10\\\\\n",
       "\t admin\\_0\\_boundary\\_lines\\_map\\_units              & 10\\\\\n",
       "\t admin\\_0\\_boundary\\_lines\\_maritime\\_indicator     & 10\\\\\n",
       "\t admin\\_0\\_boundary\\_lines\\_maritime\\_indicator\\_chn & 10\\\\\n",
       "\t admin\\_0\\_countries                             & 10\\\\\n",
       "\t admin\\_0\\_countries\\_arg                         & 10\\\\\n",
       "\t admin\\_0\\_countries\\_bdg                         & 10\\\\\n",
       "\t admin\\_0\\_countries\\_bra                         & 10\\\\\n",
       "\t admin\\_0\\_countries\\_chn                         & 10\\\\\n",
       "\t admin\\_0\\_countries\\_deu                         & 10\\\\\n",
       "\t admin\\_0\\_countries\\_egy                         & 10\\\\\n",
       "\t admin\\_0\\_countries\\_esp                         & 10\\\\\n",
       "\t admin\\_0\\_countries\\_fra                         & 10\\\\\n",
       "\t admin\\_0\\_countries\\_gbr                         & 10\\\\\n",
       "\t admin\\_0\\_countries\\_grc                         & 10\\\\\n",
       "\t admin\\_0\\_countries\\_idn                         & 10\\\\\n",
       "\t admin\\_0\\_countries\\_ind                         & 10\\\\\n",
       "\t admin\\_0\\_countries\\_iso                         & 10\\\\\n",
       "\t admin\\_0\\_countries\\_isr                         & 10\\\\\n",
       "\t admin\\_0\\_countries\\_ita                         & 10\\\\\n",
       "\t admin\\_0\\_countries\\_jpn                         & 10\\\\\n",
       "\t admin\\_0\\_countries\\_kor                         & 10\\\\\n",
       "\t admin\\_0\\_countries\\_lakes                       & 10\\\\\n",
       "\t admin\\_0\\_countries\\_mar                         & 10\\\\\n",
       "\t admin\\_0\\_countries\\_nep                         & 10\\\\\n",
       "\t admin\\_0\\_countries\\_nld                         & 10\\\\\n",
       "\t admin\\_0\\_countries\\_pak                         & 10\\\\\n",
       "\t ⋮ & ⋮\\\\\n",
       "\t admin\\_0\\_seams                             & 10\\\\\n",
       "\t admin\\_0\\_sovereignty                       & 10\\\\\n",
       "\t admin\\_1\\_label\\_points                      & 10\\\\\n",
       "\t admin\\_1\\_label\\_points\\_details              & 10\\\\\n",
       "\t admin\\_1\\_seams                             & 10\\\\\n",
       "\t admin\\_1\\_states\\_provinces                  & 10\\\\\n",
       "\t admin\\_1\\_states\\_provinces\\_lakes            & 10\\\\\n",
       "\t admin\\_1\\_states\\_provinces\\_lines            & 10\\\\\n",
       "\t admin\\_1\\_states\\_provinces\\_scale\\_rank       & 10\\\\\n",
       "\t admin\\_2\\_counties                          & 10\\\\\n",
       "\t admin\\_2\\_counties\\_lakes                    & 10\\\\\n",
       "\t admin\\_2\\_counties\\_scale\\_rank               & 10\\\\\n",
       "\t admin\\_2\\_counties\\_scale\\_rank\\_minor\\_islands & 10\\\\\n",
       "\t admin\\_2\\_label\\_points                      & 10\\\\\n",
       "\t admin\\_2\\_label\\_points\\_details              & 10\\\\\n",
       "\t airports                                  & 10\\\\\n",
       "\t parks\\_and\\_protected\\_lands\\_area            & 10\\\\\n",
       "\t parks\\_and\\_protected\\_lands\\_line            & 10\\\\\n",
       "\t parks\\_and\\_protected\\_lands\\_point           & 10\\\\\n",
       "\t parks\\_and\\_protected\\_lands\\_scale\\_rank      & 10\\\\\n",
       "\t populated\\_places                          & 10\\\\\n",
       "\t populated\\_places\\_simple                   & 10\\\\\n",
       "\t ports                                     & 10\\\\\n",
       "\t railroads                                 & 10\\\\\n",
       "\t railroads\\_north\\_america                   & 10\\\\\n",
       "\t roads                                     & 10\\\\\n",
       "\t roads\\_north\\_america                       & 10\\\\\n",
       "\t time\\_zones                                & 10\\\\\n",
       "\t urban\\_areas                               & 10\\\\\n",
       "\t urban\\_areas\\_landscan                      & 10\\\\\n",
       "\\end{tabular}\n"
      ],
      "text/markdown": [
       "\n",
       "A data.frame: 80 × 2\n",
       "\n",
       "| layer &lt;chr&gt; | scale &lt;dbl&gt; |\n",
       "|---|---|\n",
       "| admin_0_antarctic_claim_limit_lines           | 10 |\n",
       "| admin_0_antarctic_claims                      | 10 |\n",
       "| admin_0_boundary_lines_disputed_areas         | 10 |\n",
       "| admin_0_boundary_lines_land                   | 10 |\n",
       "| admin_0_boundary_lines_map_units              | 10 |\n",
       "| admin_0_boundary_lines_maritime_indicator     | 10 |\n",
       "| admin_0_boundary_lines_maritime_indicator_chn | 10 |\n",
       "| admin_0_countries                             | 10 |\n",
       "| admin_0_countries_arg                         | 10 |\n",
       "| admin_0_countries_bdg                         | 10 |\n",
       "| admin_0_countries_bra                         | 10 |\n",
       "| admin_0_countries_chn                         | 10 |\n",
       "| admin_0_countries_deu                         | 10 |\n",
       "| admin_0_countries_egy                         | 10 |\n",
       "| admin_0_countries_esp                         | 10 |\n",
       "| admin_0_countries_fra                         | 10 |\n",
       "| admin_0_countries_gbr                         | 10 |\n",
       "| admin_0_countries_grc                         | 10 |\n",
       "| admin_0_countries_idn                         | 10 |\n",
       "| admin_0_countries_ind                         | 10 |\n",
       "| admin_0_countries_iso                         | 10 |\n",
       "| admin_0_countries_isr                         | 10 |\n",
       "| admin_0_countries_ita                         | 10 |\n",
       "| admin_0_countries_jpn                         | 10 |\n",
       "| admin_0_countries_kor                         | 10 |\n",
       "| admin_0_countries_lakes                       | 10 |\n",
       "| admin_0_countries_mar                         | 10 |\n",
       "| admin_0_countries_nep                         | 10 |\n",
       "| admin_0_countries_nld                         | 10 |\n",
       "| admin_0_countries_pak                         | 10 |\n",
       "| ⋮ | ⋮ |\n",
       "| admin_0_seams                             | 10 |\n",
       "| admin_0_sovereignty                       | 10 |\n",
       "| admin_1_label_points                      | 10 |\n",
       "| admin_1_label_points_details              | 10 |\n",
       "| admin_1_seams                             | 10 |\n",
       "| admin_1_states_provinces                  | 10 |\n",
       "| admin_1_states_provinces_lakes            | 10 |\n",
       "| admin_1_states_provinces_lines            | 10 |\n",
       "| admin_1_states_provinces_scale_rank       | 10 |\n",
       "| admin_2_counties                          | 10 |\n",
       "| admin_2_counties_lakes                    | 10 |\n",
       "| admin_2_counties_scale_rank               | 10 |\n",
       "| admin_2_counties_scale_rank_minor_islands | 10 |\n",
       "| admin_2_label_points                      | 10 |\n",
       "| admin_2_label_points_details              | 10 |\n",
       "| airports                                  | 10 |\n",
       "| parks_and_protected_lands_area            | 10 |\n",
       "| parks_and_protected_lands_line            | 10 |\n",
       "| parks_and_protected_lands_point           | 10 |\n",
       "| parks_and_protected_lands_scale_rank      | 10 |\n",
       "| populated_places                          | 10 |\n",
       "| populated_places_simple                   | 10 |\n",
       "| ports                                     | 10 |\n",
       "| railroads                                 | 10 |\n",
       "| railroads_north_america                   | 10 |\n",
       "| roads                                     | 10 |\n",
       "| roads_north_america                       | 10 |\n",
       "| time_zones                                | 10 |\n",
       "| urban_areas                               | 10 |\n",
       "| urban_areas_landscan                      | 10 |\n",
       "\n"
      ],
      "text/plain": [
       "   layer                                         scale\n",
       "1  admin_0_antarctic_claim_limit_lines           10   \n",
       "2  admin_0_antarctic_claims                      10   \n",
       "3  admin_0_boundary_lines_disputed_areas         10   \n",
       "4  admin_0_boundary_lines_land                   10   \n",
       "5  admin_0_boundary_lines_map_units              10   \n",
       "6  admin_0_boundary_lines_maritime_indicator     10   \n",
       "7  admin_0_boundary_lines_maritime_indicator_chn 10   \n",
       "8  admin_0_countries                             10   \n",
       "9  admin_0_countries_arg                         10   \n",
       "10 admin_0_countries_bdg                         10   \n",
       "11 admin_0_countries_bra                         10   \n",
       "12 admin_0_countries_chn                         10   \n",
       "13 admin_0_countries_deu                         10   \n",
       "14 admin_0_countries_egy                         10   \n",
       "15 admin_0_countries_esp                         10   \n",
       "16 admin_0_countries_fra                         10   \n",
       "17 admin_0_countries_gbr                         10   \n",
       "18 admin_0_countries_grc                         10   \n",
       "19 admin_0_countries_idn                         10   \n",
       "20 admin_0_countries_ind                         10   \n",
       "21 admin_0_countries_iso                         10   \n",
       "22 admin_0_countries_isr                         10   \n",
       "23 admin_0_countries_ita                         10   \n",
       "24 admin_0_countries_jpn                         10   \n",
       "25 admin_0_countries_kor                         10   \n",
       "26 admin_0_countries_lakes                       10   \n",
       "27 admin_0_countries_mar                         10   \n",
       "28 admin_0_countries_nep                         10   \n",
       "29 admin_0_countries_nld                         10   \n",
       "30 admin_0_countries_pak                         10   \n",
       "⋮  ⋮                                             ⋮    \n",
       "51 admin_0_seams                                 10   \n",
       "52 admin_0_sovereignty                           10   \n",
       "53 admin_1_label_points                          10   \n",
       "54 admin_1_label_points_details                  10   \n",
       "55 admin_1_seams                                 10   \n",
       "56 admin_1_states_provinces                      10   \n",
       "57 admin_1_states_provinces_lakes                10   \n",
       "58 admin_1_states_provinces_lines                10   \n",
       "59 admin_1_states_provinces_scale_rank           10   \n",
       "60 admin_2_counties                              10   \n",
       "61 admin_2_counties_lakes                        10   \n",
       "62 admin_2_counties_scale_rank                   10   \n",
       "63 admin_2_counties_scale_rank_minor_islands     10   \n",
       "64 admin_2_label_points                          10   \n",
       "65 admin_2_label_points_details                  10   \n",
       "66 airports                                      10   \n",
       "67 parks_and_protected_lands_area                10   \n",
       "68 parks_and_protected_lands_line                10   \n",
       "69 parks_and_protected_lands_point               10   \n",
       "70 parks_and_protected_lands_scale_rank          10   \n",
       "71 populated_places                              10   \n",
       "72 populated_places_simple                       10   \n",
       "73 ports                                         10   \n",
       "74 railroads                                     10   \n",
       "75 railroads_north_america                       10   \n",
       "76 roads                                         10   \n",
       "77 roads_north_america                           10   \n",
       "78 time_zones                                    10   \n",
       "79 urban_areas                                   10   \n",
       "80 urban_areas_landscan                          10   "
      ]
     },
     "metadata": {},
     "output_type": "display_data"
    }
   ],
   "source": [
    "# list of large scale cultural data (1:10 meters)\n",
    "ne_find_vector_data(category = \"cultural\", scale = 10)"
   ]
  },
  {
   "cell_type": "markdown",
   "id": "78653281-4578-4a3b-bf23-efa469170d98",
   "metadata": {},
   "source": [
    "These commands display a list of available vector datasets, allowing you to browse the options and select datasets relevant to your analysis. Once you've identified the datasets of interest, you can download them using functions in the next section."
   ]
  },
  {
   "cell_type": "markdown",
   "id": "8b9e70d0-c0dd-403d-b0a1-0c34020ce303",
   "metadata": {},
   "source": [
    "## 3. Download and Save Data from Natural Earth\n",
    "\n",
    "After identifying relevant datasets, you can download and visualize them using the [*ne_countries*](https://rdrr.io/cran/rnaturalearth/man/ne_countries.html) function for country boundaries and [*ne_download*](https://rdrr.io/cran/rnaturalearth/man/ne_download.html) for other datasets.\n",
    "\n",
    "### 3a. United States Boundary Polygons\n",
    "\n",
    "As an example, we will download and visualize boundary polygons for the United States."
   ]
  },
  {
   "cell_type": "code",
   "execution_count": 15,
   "id": "ffc34c5e-19d5-434e-b9e2-c10810f45400",
   "metadata": {},
   "outputs": [],
   "source": [
    "# United States State Boundaries (polygons)\n",
    "usa_boundary <- ne_countries(country = \"United States of America\")"
   ]
  },
  {
   "cell_type": "code",
   "execution_count": 16,
   "id": "e6caf768-45e3-40bf-bf14-18c54e1afd13",
   "metadata": {},
   "outputs": [
    {
     "data": {
      "image/png": "[encoded data removed]",
      "text/plain": [
       "plot without title"
      ]
     },
     "metadata": {
      "image/png": {
       "height": 420,
       "width": 420
      }
     },
     "output_type": "display_data"
    }
   ],
   "source": [
    "# plot the boundaries\n",
    "plot(st_geometry(usa_boundary))"
   ]
  },
  {
   "cell_type": "code",
   "execution_count": 17,
   "id": "d7d36c95-897b-42ef-8495-00f6e751ea63",
   "metadata": {},
   "outputs": [],
   "source": [
    "# simplify the dataset by removing memory-intensive columns\n",
    "usa_boundary <- usa_boundary[, !names(usa_boundary) %in% c(\"pop_est\", \"ne_id\")]"
   ]
  },
  {
   "cell_type": "code",
   "execution_count": 18,
   "id": "b4793872-c1ab-427b-893e-87ffb8f18f0f",
   "metadata": {},
   "outputs": [
    {
     "name": "stdout",
     "output_type": "stream",
     "text": [
      "Deleting source `usa_boundary.shp' using driver `ESRI Shapefile'\n",
      "Writing layer `usa_boundary' to data source \n",
      "  `usa_boundary.shp' using driver `ESRI Shapefile'\n",
      "Writing 1 features with 166 fields and geometry type Multi Polygon.\n"
     ]
    },
    {
     "name": "stderr",
     "output_type": "stream",
     "text": [
      "Warning message in CPL_write_ogr(obj, dsn, layer, driver, as.character(dataset_options), :\n",
      "\"GDAL Message 1: One or several characters couldn't be converted correctly from UTF-8 to ISO-8859-1.  This warning will not be emitted anymore.\"\n"
     ]
    }
   ],
   "source": [
    "# write the usa_boundaries shapefile\n",
    "st_write(usa_boundary, \"usa_boundary.shp\", driver = \"ESRI Shapefile\", delete_dsn = T)"
   ]
  },
  {
   "cell_type": "markdown",
   "id": "973816fb-9d3c-4244-be3a-fc1f87672ea6",
   "metadata": {},
   "source": [
    "This process retrieves boundary polygons for the United States, visualizes them, and cleans up the dataset by removing non-essential columns. This workflow can be extended to download and work with other datasets from Natural Earth."
   ]
  },
  {
   "cell_type": "markdown",
   "id": "12d894bd-062b-4518-9494-5e5909d6fc2c",
   "metadata": {},
   "source": [
    "### 3a. Global Airport Locations\n",
    "\n",
    "As a second example, we'll download the airports dataset.  This data provides point locations and additional data for all airports worldwide."
   ]
  },
  {
   "cell_type": "code",
   "execution_count": 21,
   "id": "3dbf040f-1faf-422c-b4dd-b12db1da1ee0",
   "metadata": {},
   "outputs": [
    {
     "name": "stdout",
     "output_type": "stream",
     "text": [
      "Reading layer `ne_10m_airports' from data source \n",
      "  `C:\\Users\\vavra\\AppData\\Local\\Temp\\RtmpO4vMT3\\ne_10m_airports.shp' \n",
      "  using driver `ESRI Shapefile'\n",
      "Simple feature collection with 893 features and 40 fields\n",
      "Geometry type: POINT\n",
      "Dimension:     XY\n",
      "Bounding box:  xmin: -175.1356 ymin: -53.78147 xmax: 179.1954 ymax: 78.24672\n",
      "Geodetic CRS:  WGS 84\n"
     ]
    }
   ],
   "source": [
    "airports <- ne_download(scale = 10, type = \"airports\", category = \"cultural\", returnclass = \"sf\")"
   ]
  },
  {
   "cell_type": "code",
   "execution_count": 22,
   "id": "5a52554d-f789-4d8e-8aa7-64165a3e7d65",
   "metadata": {},
   "outputs": [
    {
     "data": {
      "image/png": "[encoded data removed]",
      "text/plain": [
       "plot without title"
      ]
     },
     "metadata": {
      "image/png": {
       "height": 420,
       "width": 420
      }
     },
     "output_type": "display_data"
    }
   ],
   "source": [
    "plot(st_geometry(airports))"
   ]
  },
  {
   "cell_type": "code",
   "execution_count": 24,
   "id": "0d26a912-3675-4f68-bbc2-e874ca546026",
   "metadata": {},
   "outputs": [],
   "source": [
    "# simplify the dataset by removing memory-intensive columns\n",
    "airports <- airports[, !names(airports) %in% c(\"ne_id\")]"
   ]
  },
  {
   "cell_type": "code",
   "execution_count": 25,
   "id": "c55cbdc6-7145-4b0e-a5ee-99fa87d78e44",
   "metadata": {},
   "outputs": [
    {
     "name": "stdout",
     "output_type": "stream",
     "text": [
      "Deleting source `airports.shp' using driver `ESRI Shapefile'\n",
      "Writing layer `airports' to data source `airports.shp' using driver `ESRI Shapefile'\n",
      "Writing 893 features with 39 fields and geometry type Point.\n"
     ]
    },
    {
     "name": "stderr",
     "output_type": "stream",
     "text": [
      "Warning message in CPL_write_ogr(obj, dsn, layer, driver, as.character(dataset_options), :\n",
      "\"GDAL Message 1: One or several characters couldn't be converted correctly from UTF-8 to ISO-8859-1.  This warning will not be emitted anymore.\"\n"
     ]
    }
   ],
   "source": [
    "st_write(airports, \"airports.shp\", driver = \"ESRI Shapefile\", delete_dsn = T)"
   ]
  },
  {
   "cell_type": "markdown",
   "id": "37365b98-71c2-4608-8238-c5a59e31d737",
   "metadata": {},
   "source": [
    "### 3x. Global Time Zones"
   ]
  },
  {
   "cell_type": "code",
   "execution_count": 10,
   "id": "16705301-fe72-4eee-89aa-dd263c7887b1",
   "metadata": {},
   "outputs": [
    {
     "name": "stdout",
     "output_type": "stream",
     "text": [
      "Reading layer `ne_10m_time_zones' from data source \n",
      "  `C:\\Users\\vavra\\AppData\\Local\\Temp\\Rtmpsnf0bO\\ne_10m_time_zones.shp' \n",
      "  using driver `ESRI Shapefile'\n",
      "Simple feature collection with 120 features and 15 fields\n",
      "Geometry type: MULTIPOLYGON\n",
      "Dimension:     XY\n",
      "Bounding box:  xmin: -180 ymin: -90 xmax: 180 ymax: 90.00021\n",
      "Geodetic CRS:  WGS 84\n"
     ]
    }
   ],
   "source": [
    "time_zones <- ne_download(scale = 10, type = \"time_zones\", category = \"cultural\", returnclass = \"sf\")"
   ]
  },
  {
   "cell_type": "code",
   "execution_count": 11,
   "id": "9bea6a68-b574-4f98-9740-d636398718ac",
   "metadata": {},
   "outputs": [
    {
     "name": "stderr",
     "output_type": "stream",
     "text": [
      "Warning message in CPL_write_ogr(obj, dsn, layer, driver, as.character(dataset_options), :\n",
      "\"GDAL Error 1: time_zones.shp does not appear to be a file or directory.\"\n"
     ]
    },
    {
     "name": "stdout",
     "output_type": "stream",
     "text": [
      "Deleting source `time_zones.shp' failed\n",
      "Writing layer `time_zones' to data source \n",
      "  `time_zones.shp' using driver `ESRI Shapefile'\n",
      "Writing 120 features with 15 fields and geometry type Multi Polygon.\n"
     ]
    }
   ],
   "source": [
    "st_write(time_zones, \"time_zones.shp\", driver = \"ESRI Shapefile\", delete_dsn = T)"
   ]
  },
  {
   "cell_type": "markdown",
   "id": "da474536-38db-497a-bfd6-ac2ddf09143f",
   "metadata": {},
   "source": [
    "## Recommended Next Steps\n",
    "* **Move on to Chapter 6: Mapping and Visualization**\n",
    "  * Foundational Mapping and Visualization\n",
    "    * [Visualization and Quick Plots]()\n",
    "    * [Mapping Point and Polygon Data](https://platform.i-guide.io/notebooks/2b9f579c-32b0-4078-af39-994bb31d50ec)\n",
    "    * [Choropleth Mapping](https://platform.i-guide.io/notebooks/f2f973df-2412-49f0-ad39-d80051f20d4d)"
   ]
  },
  {
   "cell_type": "markdown",
   "id": "457a22bf-0d40-475b-97fd-a6954e4883fb",
   "metadata": {},
   "source": [
    "## Stay Connected\n",
    "Thank you for engaging with this notebook and supporting the project!  Please visit the [**R Spatial Notebooks Project Homepage**](https://vavramusser.github.io/r-spatial) to learn more about the project and explore additional notebooks.  Don't forget to join the project [**Mailing List**](https://mailchi.mp/ab01e8fc8397/r-spatial-email-signup) to hear about future notebook releases and other updates.  If you have an idea for a new notebook I want to hear about it!  Please submit your idea via the [**Suggestion Box**](https://us19.list-manage.com/survey?u=746bf8d366d6fbc99c699e714&id=54590a28ea&attribution=false)."
   ]
  }
 ],
 "metadata": {
  "kernelspec": {
   "display_name": "R",
   "language": "R",
   "name": "ir"
  },
  "language_info": {
   "codemirror_mode": "r",
   "file_extension": ".r",
   "mimetype": "text/x-r-source",
   "name": "R",
   "pygments_lexer": "r",
   "version": "4.3.3"
  }
 },
 "nbformat": 4,
 "nbformat_minor": 5
}
