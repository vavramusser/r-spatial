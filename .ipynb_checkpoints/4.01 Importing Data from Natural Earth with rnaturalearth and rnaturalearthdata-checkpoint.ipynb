{
 "cells": [
  {
   "cell_type": "markdown",
   "id": "bc9db899-b672-4f6c-ab18-eab2da9b8ae3",
   "metadata": {},
   "source": [
    "# Importing Data from [Natural Earth](https://www.naturalearthdata.com) with [rnaturalearth](https://cran.r-project.org/web/packages/rnaturalearth/index.html) and [rnaturalearthdata](https://cran.r-project.org/web/packages/rnaturalearthdata/index.html)\n",
    "### by [Kate Vavra-Musser](https://vavramusser.github.io) for the [R Spatial Notebook Series](https://vavramusser.github.io/r-spatial)"
   ]
  },
  {
   "cell_type": "markdown",
   "id": "501d4efe-a162-4c70-aabc-e152b9518804",
   "metadata": {},
   "source": [
    "## Introduction\n",
    "[Natural Earth](https://www.naturalearthdata.com) is a public domain map dataset available at multiple scales, featuring a wide variety of cultural and physical geographic data. The [rnaturalearth](https://cran.r-project.org/web/packages/rnaturalearth/index.html) and [rnaturalearthdata](https://cran.r-project.org/web/packages/rnaturalearthdata/index.html) R packages simplify the process of accessing, downloading, and using these datasets directly within R. These datasets are particularly valuable for social sciences research involving spatial data analysis due to their compatibility with R's spatial data tools.\n",
    "\n",
    "### Notebook Goals\n",
    "In this notebook, we will explore how to use [rnaturalearth](https://cran.r-project.org/web/packages/rnaturalearth/index.html) and [rnaturalearthdata](https://cran.r-project.org/web/packages/rnaturalearthdata/index.html) to import data from Natural Earth. We will focus on reviewing available datasets, downloading them, and saving the data for further analysis. By the end of this notebook, you will have a workflow to efficiently access and visualize Natural Earth data, including cultural and physical features such as country and boundary polygons.\n",
    "\n",
    "### ✨ Prerequisites ✨\n",
    "* Complete [Introduciton to Natural Earth](https://platform.i-guide.io/notebooks/924c7ca6-3d12-4a80-ab4d-814cc80f7f79)\n",
    "* Complete [Introduction to sf: Reading, Writing, and Inspecting Vector Data](https://platform.i-guide.io/notebooks/9968babe-22e4-4c3d-98e2-d8b45e9672cd)\n",
    "\n",
    "### Notebook Overview\n",
    "1. Setup\n",
    "2. Explore Available Data from Natural Earth\n",
    "3. Download and Save Data from Natural Earth"
   ]
  },
  {
   "cell_type": "markdown",
   "id": "61c37c42-6b4f-42a0-97a3-3ee4a1611519",
   "metadata": {},
   "source": [
    "## 1. Setup\n",
    "This notebook requires the following R packages and functions.\n",
    "\n",
    "#### Required Packages\n",
    "\n",
    "[**rnaturalearth**](https://cran.r-project.org/web/packages/rnaturalearth/index.html) · World Map Data from [Natural Earth](https://www.naturalearthdata.com) · Facilitates mapping by making natural earth map data from [Natural Earth](https://www.naturalearthdata.com) more easily available to R users · This notebook uses the folloing functions from *rnationalearth*.\n",
    "\n",
    "* [*ne_countries*](https://rdrr.io/cran/rnaturalearth/man/ne_countries.html) · get natural earth world country polygons\n",
    "* [*ne_download*](https://rdrr.io/cran/rnaturalearth/man/ne_download.html) · download data from Natural Earth and (optionally) read into R\n",
    "* [*ne_find_vector_data*](https://rdrr.io/cran/rnaturalearth/man/ne_find_vector_data.html) · return a dataframe of available vector layers on Natural Earth\n",
    "\n",
    "[**rnaturalearthdata**](https://cran.r-project.org/web/packages/rnaturalearthdata/index.html) · World Vector Map Data from [Natural Earth](https://www.naturalearthdata.com) Used in [rnaturalearth](https://cran.r-project.org/web/packages/rnaturalearth/index.html) · Vector map data from [Natural Earth](https://www.naturalearthdata.com) - Access functions are provided in the accompanying package [rnaturalearth](https://cran.r-project.org/web/packages/rnaturalearth/index.html)\n",
    "\n",
    "[**sf**](https://cran.r-project.org/web/packages/sf/index.html) · Support for [simple features](https://r-spatial.github.io/sf/articles/sf1.html), a standardized way to encode spatial vector data - Binds to [*GDAL*](https://gdal.org/en/stable) for reading and writing data, to [*GEOS*](https://libgeos.org) for geometrical operations, and to [*PROJ*](https://proj.org/en/stable) for projection conversions and datum transformations - Uses by default the [*s2*](https://cran.r-project.org/web/packages/s2/index.html) package for spherical geometry operations on ellipsoidal (long/lat) coordinates · This notebook uses the following functions from *sf*.\n",
    "\n",
    "* [*st_geometry*](https://rdrr.io/cran/sf/man/st_geometry.html) · get, set, replace or rename geometry from an sf object\n",
    "* [*st_write*](https://rdrr.io/cran/sf/man/st_write.html) · write simple features object to file or database"
   ]
  },
  {
   "cell_type": "markdown",
   "id": "aff4c7fe-f208-466e-878f-0b58e091125f",
   "metadata": {},
   "source": [
    "### 1a. Install and Load Required Packages\n",
    "If you have not already installed the required packages, uncomment and run the code below:"
   ]
  },
  {
   "cell_type": "code",
   "execution_count": 3,
   "id": "19d98aaf-a4fa-4d8a-b902-71e6b5014944",
   "metadata": {},
   "outputs": [
    {
     "name": "stderr",
     "output_type": "stream",
     "text": [
      "Warning message:\n",
      "\"package 'rnaturalearth' is in use and will not be installed\"\n"
     ]
    }
   ],
   "source": [
    "# install.packages(\"rnaturalearth\", \"rnaturalearthr\", \"sf\")"
   ]
  },
  {
   "cell_type": "markdown",
   "id": "012d0979-0b5e-4794-ba33-0ac88fe16887",
   "metadata": {},
   "source": [
    "Load the packages into your workspace."
   ]
  },
  {
   "cell_type": "code",
   "execution_count": 4,
   "id": "c9371192-d7c0-4275-96af-8fc3934f48fc",
   "metadata": {},
   "outputs": [],
   "source": [
    "library(rnaturalearth)\n",
    "library(rnaturalearthdata)\n",
    "library(sf)"
   ]
  },
  {
   "cell_type": "markdown",
   "id": "4a0b7f5d-96a7-43f0-8a03-8821a5ca46cf",
   "metadata": {},
   "source": [
    "## 2. Explore Available Data from Natural Earth\n",
    "\n",
    "Natural Earth provides datasets across three scales:\n",
    "\n",
    "* Small scale (1:110m): Best for global or continental-scale analysis.\n",
    "* Medium scale (1:50m): Useful for regional or country-level analysis.\n",
    "* Large scale (1:10m): Provides the most detailed data, suitable for local-level analysis.\n",
    "\n",
    "The [*ne_find_vector_data*](https://rdrr.io/cran/rnaturalearth/man/ne_find_vector_data.html) function helps you explore available data from [Natural Earth](https://www.naturalearthdata.com) based on scale and category.  The function *checks the Natural Earth Github repository for current vector layers and provides the file name required in the type argument of ne_download*. \n",
    "\n",
    "### 2a. Review the List of Cultural Data\n",
    "\n",
    "Below, we review the available cultural data, which includes datasets such as administrative boundaries, populated places, and other human-related geographic features.   For this exercise, we will limit our search to only \"cultural\" data.\n",
    "\n",
    "The purpose of this initial process is to explore what data is available and also identify the keywords for the layers we are interested in.  We will use the keywords in later functions to tell Natural Earth exactly what data we want to export."
   ]
  },
  {
   "cell_type": "code",
   "execution_count": 14,
   "id": "49dae12f-967c-4e80-b4a0-0d85bfed90f9",
   "metadata": {},
   "outputs": [
    {
     "data": {
      "text/html": [
       "<table class=\"dataframe\">\n",
       "<caption>A data.frame: 14 × 2</caption>\n",
       "<thead>\n",
       "\t<tr><th scope=col>layer</th><th scope=col>scale</th></tr>\n",
       "\t<tr><th scope=col>&lt;chr&gt;</th><th scope=col>&lt;dbl&gt;</th></tr>\n",
       "</thead>\n",
       "<tbody>\n",
       "\t<tr><td>admin_0_boundary_lines_land        </td><td>110</td></tr>\n",
       "\t<tr><td>admin_0_countries                  </td><td>110</td></tr>\n",
       "\t<tr><td>admin_0_countries_lakes            </td><td>110</td></tr>\n",
       "\t<tr><td>admin_0_map_units                  </td><td>110</td></tr>\n",
       "\t<tr><td>admin_0_pacific_groupings          </td><td>110</td></tr>\n",
       "\t<tr><td>admin_0_scale_rank                 </td><td>110</td></tr>\n",
       "\t<tr><td>admin_0_sovereignty                </td><td>110</td></tr>\n",
       "\t<tr><td>admin_0_tiny_countries             </td><td>110</td></tr>\n",
       "\t<tr><td>admin_1_states_provinces           </td><td>110</td></tr>\n",
       "\t<tr><td>admin_1_states_provinces_lakes     </td><td>110</td></tr>\n",
       "\t<tr><td>admin_1_states_provinces_lines     </td><td>110</td></tr>\n",
       "\t<tr><td>admin_1_states_provinces_scale_rank</td><td>110</td></tr>\n",
       "\t<tr><td>populated_places                   </td><td>110</td></tr>\n",
       "\t<tr><td>populated_places_simple            </td><td>110</td></tr>\n",
       "</tbody>\n",
       "</table>\n"
      ],
      "text/latex": [
       "A data.frame: 14 × 2\n",
       "\\begin{tabular}{ll}\n",
       " layer & scale\\\\\n",
       " <chr> & <dbl>\\\\\n",
       "\\hline\n",
       "\t admin\\_0\\_boundary\\_lines\\_land         & 110\\\\\n",
       "\t admin\\_0\\_countries                   & 110\\\\\n",
       "\t admin\\_0\\_countries\\_lakes             & 110\\\\\n",
       "\t admin\\_0\\_map\\_units                   & 110\\\\\n",
       "\t admin\\_0\\_pacific\\_groupings           & 110\\\\\n",
       "\t admin\\_0\\_scale\\_rank                  & 110\\\\\n",
       "\t admin\\_0\\_sovereignty                 & 110\\\\\n",
       "\t admin\\_0\\_tiny\\_countries              & 110\\\\\n",
       "\t admin\\_1\\_states\\_provinces            & 110\\\\\n",
       "\t admin\\_1\\_states\\_provinces\\_lakes      & 110\\\\\n",
       "\t admin\\_1\\_states\\_provinces\\_lines      & 110\\\\\n",
       "\t admin\\_1\\_states\\_provinces\\_scale\\_rank & 110\\\\\n",
       "\t populated\\_places                    & 110\\\\\n",
       "\t populated\\_places\\_simple             & 110\\\\\n",
       "\\end{tabular}\n"
      ],
      "text/markdown": [
       "\n",
       "A data.frame: 14 × 2\n",
       "\n",
       "| layer &lt;chr&gt; | scale &lt;dbl&gt; |\n",
       "|---|---|\n",
       "| admin_0_boundary_lines_land         | 110 |\n",
       "| admin_0_countries                   | 110 |\n",
       "| admin_0_countries_lakes             | 110 |\n",
       "| admin_0_map_units                   | 110 |\n",
       "| admin_0_pacific_groupings           | 110 |\n",
       "| admin_0_scale_rank                  | 110 |\n",
       "| admin_0_sovereignty                 | 110 |\n",
       "| admin_0_tiny_countries              | 110 |\n",
       "| admin_1_states_provinces            | 110 |\n",
       "| admin_1_states_provinces_lakes      | 110 |\n",
       "| admin_1_states_provinces_lines      | 110 |\n",
       "| admin_1_states_provinces_scale_rank | 110 |\n",
       "| populated_places                    | 110 |\n",
       "| populated_places_simple             | 110 |\n",
       "\n"
      ],
      "text/plain": [
       "   layer                               scale\n",
       "1  admin_0_boundary_lines_land         110  \n",
       "2  admin_0_countries                   110  \n",
       "3  admin_0_countries_lakes             110  \n",
       "4  admin_0_map_units                   110  \n",
       "5  admin_0_pacific_groupings           110  \n",
       "6  admin_0_scale_rank                  110  \n",
       "7  admin_0_sovereignty                 110  \n",
       "8  admin_0_tiny_countries              110  \n",
       "9  admin_1_states_provinces            110  \n",
       "10 admin_1_states_provinces_lakes      110  \n",
       "11 admin_1_states_provinces_lines      110  \n",
       "12 admin_1_states_provinces_scale_rank 110  \n",
       "13 populated_places                    110  \n",
       "14 populated_places_simple             110  "
      ]
     },
     "metadata": {},
     "output_type": "display_data"
    }
   ],
   "source": [
    "# list of small scale cultural data (1:110 meters)\n",
    "ne_find_vector_data(category = \"cultural\")"
   ]
  },
  {
   "cell_type": "markdown",
   "id": "bf2322c3-2358-4d44-ae2c-cef00374db2b",
   "metadata": {},
   "source": [
    "The function returns a list of 14 available cultural vector datasets.  Note that all the returned data is at the 1:110 (small) scale - this is the default scale for the function, but we can change the scale to 1:50 (medium) or 1:10 (large).  Below we slightly change our function call to search for only cultural vector data at scale 1:50 (medium)."
   ]
  },
  {
   "cell_type": "code",
   "execution_count": 11,
   "id": "c7ede8fc-0a15-4c8e-b67d-7507794decf4",
   "metadata": {},
   "outputs": [
    {
     "data": {
      "text/html": [
       "<table class=\"dataframe\">\n",
       "<caption>A data.frame: 24 × 2</caption>\n",
       "<thead>\n",
       "\t<tr><th scope=col>layer</th><th scope=col>scale</th></tr>\n",
       "\t<tr><th scope=col>&lt;chr&gt;</th><th scope=col>&lt;dbl&gt;</th></tr>\n",
       "</thead>\n",
       "<tbody>\n",
       "\t<tr><td>admin_0_boundary_lines_disputed_areas        </td><td>50</td></tr>\n",
       "\t<tr><td>admin_0_boundary_lines_land                  </td><td>50</td></tr>\n",
       "\t<tr><td>admin_0_boundary_lines_maritime_indicator    </td><td>50</td></tr>\n",
       "\t<tr><td>admin_0_boundary_lines_maritime_indicator_chn</td><td>50</td></tr>\n",
       "\t<tr><td>admin_0_boundary_map_units                   </td><td>50</td></tr>\n",
       "\t<tr><td>admin_0_breakaway_disputed_areas             </td><td>50</td></tr>\n",
       "\t<tr><td>admin_0_countries                            </td><td>50</td></tr>\n",
       "\t<tr><td>admin_0_countries_lakes                      </td><td>50</td></tr>\n",
       "\t<tr><td>admin_0_map_subunits                         </td><td>50</td></tr>\n",
       "\t<tr><td>admin_0_map_units                            </td><td>50</td></tr>\n",
       "\t<tr><td>admin_0_pacific_groupings                    </td><td>50</td></tr>\n",
       "\t<tr><td>admin_0_scale_rank                           </td><td>50</td></tr>\n",
       "\t<tr><td>admin_0_sovereignty                          </td><td>50</td></tr>\n",
       "\t<tr><td>admin_0_tiny_countries                       </td><td>50</td></tr>\n",
       "\t<tr><td>admin_0_tiny_countries_scale_rank            </td><td>50</td></tr>\n",
       "\t<tr><td>admin_1_states_provinces                     </td><td>50</td></tr>\n",
       "\t<tr><td>admin_1_states_provinces_lakes               </td><td>50</td></tr>\n",
       "\t<tr><td>admin_1_states_provinces_lines               </td><td>50</td></tr>\n",
       "\t<tr><td>admin_1_states_provinces_scale_rank          </td><td>50</td></tr>\n",
       "\t<tr><td>airports                                     </td><td>50</td></tr>\n",
       "\t<tr><td>populated_places                             </td><td>50</td></tr>\n",
       "\t<tr><td>populated_places_simple                      </td><td>50</td></tr>\n",
       "\t<tr><td>ports                                        </td><td>50</td></tr>\n",
       "\t<tr><td>urban_areas                                  </td><td>50</td></tr>\n",
       "</tbody>\n",
       "</table>\n"
      ],
      "text/latex": [
       "A data.frame: 24 × 2\n",
       "\\begin{tabular}{ll}\n",
       " layer & scale\\\\\n",
       " <chr> & <dbl>\\\\\n",
       "\\hline\n",
       "\t admin\\_0\\_boundary\\_lines\\_disputed\\_areas         & 50\\\\\n",
       "\t admin\\_0\\_boundary\\_lines\\_land                   & 50\\\\\n",
       "\t admin\\_0\\_boundary\\_lines\\_maritime\\_indicator     & 50\\\\\n",
       "\t admin\\_0\\_boundary\\_lines\\_maritime\\_indicator\\_chn & 50\\\\\n",
       "\t admin\\_0\\_boundary\\_map\\_units                    & 50\\\\\n",
       "\t admin\\_0\\_breakaway\\_disputed\\_areas              & 50\\\\\n",
       "\t admin\\_0\\_countries                             & 50\\\\\n",
       "\t admin\\_0\\_countries\\_lakes                       & 50\\\\\n",
       "\t admin\\_0\\_map\\_subunits                          & 50\\\\\n",
       "\t admin\\_0\\_map\\_units                             & 50\\\\\n",
       "\t admin\\_0\\_pacific\\_groupings                     & 50\\\\\n",
       "\t admin\\_0\\_scale\\_rank                            & 50\\\\\n",
       "\t admin\\_0\\_sovereignty                           & 50\\\\\n",
       "\t admin\\_0\\_tiny\\_countries                        & 50\\\\\n",
       "\t admin\\_0\\_tiny\\_countries\\_scale\\_rank             & 50\\\\\n",
       "\t admin\\_1\\_states\\_provinces                      & 50\\\\\n",
       "\t admin\\_1\\_states\\_provinces\\_lakes                & 50\\\\\n",
       "\t admin\\_1\\_states\\_provinces\\_lines                & 50\\\\\n",
       "\t admin\\_1\\_states\\_provinces\\_scale\\_rank           & 50\\\\\n",
       "\t airports                                      & 50\\\\\n",
       "\t populated\\_places                              & 50\\\\\n",
       "\t populated\\_places\\_simple                       & 50\\\\\n",
       "\t ports                                         & 50\\\\\n",
       "\t urban\\_areas                                   & 50\\\\\n",
       "\\end{tabular}\n"
      ],
      "text/markdown": [
       "\n",
       "A data.frame: 24 × 2\n",
       "\n",
       "| layer &lt;chr&gt; | scale &lt;dbl&gt; |\n",
       "|---|---|\n",
       "| admin_0_boundary_lines_disputed_areas         | 50 |\n",
       "| admin_0_boundary_lines_land                   | 50 |\n",
       "| admin_0_boundary_lines_maritime_indicator     | 50 |\n",
       "| admin_0_boundary_lines_maritime_indicator_chn | 50 |\n",
       "| admin_0_boundary_map_units                    | 50 |\n",
       "| admin_0_breakaway_disputed_areas              | 50 |\n",
       "| admin_0_countries                             | 50 |\n",
       "| admin_0_countries_lakes                       | 50 |\n",
       "| admin_0_map_subunits                          | 50 |\n",
       "| admin_0_map_units                             | 50 |\n",
       "| admin_0_pacific_groupings                     | 50 |\n",
       "| admin_0_scale_rank                            | 50 |\n",
       "| admin_0_sovereignty                           | 50 |\n",
       "| admin_0_tiny_countries                        | 50 |\n",
       "| admin_0_tiny_countries_scale_rank             | 50 |\n",
       "| admin_1_states_provinces                      | 50 |\n",
       "| admin_1_states_provinces_lakes                | 50 |\n",
       "| admin_1_states_provinces_lines                | 50 |\n",
       "| admin_1_states_provinces_scale_rank           | 50 |\n",
       "| airports                                      | 50 |\n",
       "| populated_places                              | 50 |\n",
       "| populated_places_simple                       | 50 |\n",
       "| ports                                         | 50 |\n",
       "| urban_areas                                   | 50 |\n",
       "\n"
      ],
      "text/plain": [
       "   layer                                         scale\n",
       "1  admin_0_boundary_lines_disputed_areas         50   \n",
       "2  admin_0_boundary_lines_land                   50   \n",
       "3  admin_0_boundary_lines_maritime_indicator     50   \n",
       "4  admin_0_boundary_lines_maritime_indicator_chn 50   \n",
       "5  admin_0_boundary_map_units                    50   \n",
       "6  admin_0_breakaway_disputed_areas              50   \n",
       "7  admin_0_countries                             50   \n",
       "8  admin_0_countries_lakes                       50   \n",
       "9  admin_0_map_subunits                          50   \n",
       "10 admin_0_map_units                             50   \n",
       "11 admin_0_pacific_groupings                     50   \n",
       "12 admin_0_scale_rank                            50   \n",
       "13 admin_0_sovereignty                           50   \n",
       "14 admin_0_tiny_countries                        50   \n",
       "15 admin_0_tiny_countries_scale_rank             50   \n",
       "16 admin_1_states_provinces                      50   \n",
       "17 admin_1_states_provinces_lakes                50   \n",
       "18 admin_1_states_provinces_lines                50   \n",
       "19 admin_1_states_provinces_scale_rank           50   \n",
       "20 airports                                      50   \n",
       "21 populated_places                              50   \n",
       "22 populated_places_simple                       50   \n",
       "23 ports                                         50   \n",
       "24 urban_areas                                   50   "
      ]
     },
     "metadata": {},
     "output_type": "display_data"
    }
   ],
   "source": [
    "# list of medium scale cultural data (1:50 meters)\n",
    "ne_find_vector_data(category = \"cultural\", scale = 50)"
   ]
  },
  {
   "cell_type": "markdown",
   "id": "9032126d-abc6-44a1-ace1-2d276d87a3eb",
   "metadata": {},
   "source": [
    "Finally, let's also check out what cultural data is available at the 1:10 (large) scale."
   ]
  },
  {
   "cell_type": "code",
   "execution_count": 13,
   "id": "a5958688-b026-406e-aa16-dfb9da33a2a8",
   "metadata": {},
   "outputs": [
    {
     "data": {
      "text/html": [
       "<table class=\"dataframe\">\n",
       "<caption>A data.frame: 80 × 2</caption>\n",
       "<thead>\n",
       "\t<tr><th scope=col>layer</th><th scope=col>scale</th></tr>\n",
       "\t<tr><th scope=col>&lt;chr&gt;</th><th scope=col>&lt;dbl&gt;</th></tr>\n",
       "</thead>\n",
       "<tbody>\n",
       "\t<tr><td>admin_0_antarctic_claim_limit_lines          </td><td>10</td></tr>\n",
       "\t<tr><td>admin_0_antarctic_claims                     </td><td>10</td></tr>\n",
       "\t<tr><td>admin_0_boundary_lines_disputed_areas        </td><td>10</td></tr>\n",
       "\t<tr><td>admin_0_boundary_lines_land                  </td><td>10</td></tr>\n",
       "\t<tr><td>admin_0_boundary_lines_map_units             </td><td>10</td></tr>\n",
       "\t<tr><td>admin_0_boundary_lines_maritime_indicator    </td><td>10</td></tr>\n",
       "\t<tr><td>admin_0_boundary_lines_maritime_indicator_chn</td><td>10</td></tr>\n",
       "\t<tr><td>admin_0_countries                            </td><td>10</td></tr>\n",
       "\t<tr><td>admin_0_countries_arg                        </td><td>10</td></tr>\n",
       "\t<tr><td>admin_0_countries_bdg                        </td><td>10</td></tr>\n",
       "\t<tr><td>admin_0_countries_bra                        </td><td>10</td></tr>\n",
       "\t<tr><td>admin_0_countries_chn                        </td><td>10</td></tr>\n",
       "\t<tr><td>admin_0_countries_deu                        </td><td>10</td></tr>\n",
       "\t<tr><td>admin_0_countries_egy                        </td><td>10</td></tr>\n",
       "\t<tr><td>admin_0_countries_esp                        </td><td>10</td></tr>\n",
       "\t<tr><td>admin_0_countries_fra                        </td><td>10</td></tr>\n",
       "\t<tr><td>admin_0_countries_gbr                        </td><td>10</td></tr>\n",
       "\t<tr><td>admin_0_countries_grc                        </td><td>10</td></tr>\n",
       "\t<tr><td>admin_0_countries_idn                        </td><td>10</td></tr>\n",
       "\t<tr><td>admin_0_countries_ind                        </td><td>10</td></tr>\n",
       "\t<tr><td>admin_0_countries_iso                        </td><td>10</td></tr>\n",
       "\t<tr><td>admin_0_countries_isr                        </td><td>10</td></tr>\n",
       "\t<tr><td>admin_0_countries_ita                        </td><td>10</td></tr>\n",
       "\t<tr><td>admin_0_countries_jpn                        </td><td>10</td></tr>\n",
       "\t<tr><td>admin_0_countries_kor                        </td><td>10</td></tr>\n",
       "\t<tr><td>admin_0_countries_lakes                      </td><td>10</td></tr>\n",
       "\t<tr><td>admin_0_countries_mar                        </td><td>10</td></tr>\n",
       "\t<tr><td>admin_0_countries_nep                        </td><td>10</td></tr>\n",
       "\t<tr><td>admin_0_countries_nld                        </td><td>10</td></tr>\n",
       "\t<tr><td>admin_0_countries_pak                        </td><td>10</td></tr>\n",
       "\t<tr><td>⋮</td><td>⋮</td></tr>\n",
       "\t<tr><td>admin_0_seams                            </td><td>10</td></tr>\n",
       "\t<tr><td>admin_0_sovereignty                      </td><td>10</td></tr>\n",
       "\t<tr><td>admin_1_label_points                     </td><td>10</td></tr>\n",
       "\t<tr><td>admin_1_label_points_details             </td><td>10</td></tr>\n",
       "\t<tr><td>admin_1_seams                            </td><td>10</td></tr>\n",
       "\t<tr><td>admin_1_states_provinces                 </td><td>10</td></tr>\n",
       "\t<tr><td>admin_1_states_provinces_lakes           </td><td>10</td></tr>\n",
       "\t<tr><td>admin_1_states_provinces_lines           </td><td>10</td></tr>\n",
       "\t<tr><td>admin_1_states_provinces_scale_rank      </td><td>10</td></tr>\n",
       "\t<tr><td>admin_2_counties                         </td><td>10</td></tr>\n",
       "\t<tr><td>admin_2_counties_lakes                   </td><td>10</td></tr>\n",
       "\t<tr><td>admin_2_counties_scale_rank              </td><td>10</td></tr>\n",
       "\t<tr><td>admin_2_counties_scale_rank_minor_islands</td><td>10</td></tr>\n",
       "\t<tr><td>admin_2_label_points                     </td><td>10</td></tr>\n",
       "\t<tr><td>admin_2_label_points_details             </td><td>10</td></tr>\n",
       "\t<tr><td>airports                                 </td><td>10</td></tr>\n",
       "\t<tr><td>parks_and_protected_lands_area           </td><td>10</td></tr>\n",
       "\t<tr><td>parks_and_protected_lands_line           </td><td>10</td></tr>\n",
       "\t<tr><td>parks_and_protected_lands_point          </td><td>10</td></tr>\n",
       "\t<tr><td>parks_and_protected_lands_scale_rank     </td><td>10</td></tr>\n",
       "\t<tr><td>populated_places                         </td><td>10</td></tr>\n",
       "\t<tr><td>populated_places_simple                  </td><td>10</td></tr>\n",
       "\t<tr><td>ports                                    </td><td>10</td></tr>\n",
       "\t<tr><td>railroads                                </td><td>10</td></tr>\n",
       "\t<tr><td>railroads_north_america                  </td><td>10</td></tr>\n",
       "\t<tr><td>roads                                    </td><td>10</td></tr>\n",
       "\t<tr><td>roads_north_america                      </td><td>10</td></tr>\n",
       "\t<tr><td>time_zones                               </td><td>10</td></tr>\n",
       "\t<tr><td>urban_areas                              </td><td>10</td></tr>\n",
       "\t<tr><td>urban_areas_landscan                     </td><td>10</td></tr>\n",
       "</tbody>\n",
       "</table>\n"
      ],
      "text/latex": [
       "A data.frame: 80 × 2\n",
       "\\begin{tabular}{ll}\n",
       " layer & scale\\\\\n",
       " <chr> & <dbl>\\\\\n",
       "\\hline\n",
       "\t admin\\_0\\_antarctic\\_claim\\_limit\\_lines           & 10\\\\\n",
       "\t admin\\_0\\_antarctic\\_claims                      & 10\\\\\n",
       "\t admin\\_0\\_boundary\\_lines\\_disputed\\_areas         & 10\\\\\n",
       "\t admin\\_0\\_boundary\\_lines\\_land                   & 10\\\\\n",
       "\t admin\\_0\\_boundary\\_lines\\_map\\_units              & 10\\\\\n",
       "\t admin\\_0\\_boundary\\_lines\\_maritime\\_indicator     & 10\\\\\n",
       "\t admin\\_0\\_boundary\\_lines\\_maritime\\_indicator\\_chn & 10\\\\\n",
       "\t admin\\_0\\_countries                             & 10\\\\\n",
       "\t admin\\_0\\_countries\\_arg                         & 10\\\\\n",
       "\t admin\\_0\\_countries\\_bdg                         & 10\\\\\n",
       "\t admin\\_0\\_countries\\_bra                         & 10\\\\\n",
       "\t admin\\_0\\_countries\\_chn                         & 10\\\\\n",
       "\t admin\\_0\\_countries\\_deu                         & 10\\\\\n",
       "\t admin\\_0\\_countries\\_egy                         & 10\\\\\n",
       "\t admin\\_0\\_countries\\_esp                         & 10\\\\\n",
       "\t admin\\_0\\_countries\\_fra                         & 10\\\\\n",
       "\t admin\\_0\\_countries\\_gbr                         & 10\\\\\n",
       "\t admin\\_0\\_countries\\_grc                         & 10\\\\\n",
       "\t admin\\_0\\_countries\\_idn                         & 10\\\\\n",
       "\t admin\\_0\\_countries\\_ind                         & 10\\\\\n",
       "\t admin\\_0\\_countries\\_iso                         & 10\\\\\n",
       "\t admin\\_0\\_countries\\_isr                         & 10\\\\\n",
       "\t admin\\_0\\_countries\\_ita                         & 10\\\\\n",
       "\t admin\\_0\\_countries\\_jpn                         & 10\\\\\n",
       "\t admin\\_0\\_countries\\_kor                         & 10\\\\\n",
       "\t admin\\_0\\_countries\\_lakes                       & 10\\\\\n",
       "\t admin\\_0\\_countries\\_mar                         & 10\\\\\n",
       "\t admin\\_0\\_countries\\_nep                         & 10\\\\\n",
       "\t admin\\_0\\_countries\\_nld                         & 10\\\\\n",
       "\t admin\\_0\\_countries\\_pak                         & 10\\\\\n",
       "\t ⋮ & ⋮\\\\\n",
       "\t admin\\_0\\_seams                             & 10\\\\\n",
       "\t admin\\_0\\_sovereignty                       & 10\\\\\n",
       "\t admin\\_1\\_label\\_points                      & 10\\\\\n",
       "\t admin\\_1\\_label\\_points\\_details              & 10\\\\\n",
       "\t admin\\_1\\_seams                             & 10\\\\\n",
       "\t admin\\_1\\_states\\_provinces                  & 10\\\\\n",
       "\t admin\\_1\\_states\\_provinces\\_lakes            & 10\\\\\n",
       "\t admin\\_1\\_states\\_provinces\\_lines            & 10\\\\\n",
       "\t admin\\_1\\_states\\_provinces\\_scale\\_rank       & 10\\\\\n",
       "\t admin\\_2\\_counties                          & 10\\\\\n",
       "\t admin\\_2\\_counties\\_lakes                    & 10\\\\\n",
       "\t admin\\_2\\_counties\\_scale\\_rank               & 10\\\\\n",
       "\t admin\\_2\\_counties\\_scale\\_rank\\_minor\\_islands & 10\\\\\n",
       "\t admin\\_2\\_label\\_points                      & 10\\\\\n",
       "\t admin\\_2\\_label\\_points\\_details              & 10\\\\\n",
       "\t airports                                  & 10\\\\\n",
       "\t parks\\_and\\_protected\\_lands\\_area            & 10\\\\\n",
       "\t parks\\_and\\_protected\\_lands\\_line            & 10\\\\\n",
       "\t parks\\_and\\_protected\\_lands\\_point           & 10\\\\\n",
       "\t parks\\_and\\_protected\\_lands\\_scale\\_rank      & 10\\\\\n",
       "\t populated\\_places                          & 10\\\\\n",
       "\t populated\\_places\\_simple                   & 10\\\\\n",
       "\t ports                                     & 10\\\\\n",
       "\t railroads                                 & 10\\\\\n",
       "\t railroads\\_north\\_america                   & 10\\\\\n",
       "\t roads                                     & 10\\\\\n",
       "\t roads\\_north\\_america                       & 10\\\\\n",
       "\t time\\_zones                                & 10\\\\\n",
       "\t urban\\_areas                               & 10\\\\\n",
       "\t urban\\_areas\\_landscan                      & 10\\\\\n",
       "\\end{tabular}\n"
      ],
      "text/markdown": [
       "\n",
       "A data.frame: 80 × 2\n",
       "\n",
       "| layer &lt;chr&gt; | scale &lt;dbl&gt; |\n",
       "|---|---|\n",
       "| admin_0_antarctic_claim_limit_lines           | 10 |\n",
       "| admin_0_antarctic_claims                      | 10 |\n",
       "| admin_0_boundary_lines_disputed_areas         | 10 |\n",
       "| admin_0_boundary_lines_land                   | 10 |\n",
       "| admin_0_boundary_lines_map_units              | 10 |\n",
       "| admin_0_boundary_lines_maritime_indicator     | 10 |\n",
       "| admin_0_boundary_lines_maritime_indicator_chn | 10 |\n",
       "| admin_0_countries                             | 10 |\n",
       "| admin_0_countries_arg                         | 10 |\n",
       "| admin_0_countries_bdg                         | 10 |\n",
       "| admin_0_countries_bra                         | 10 |\n",
       "| admin_0_countries_chn                         | 10 |\n",
       "| admin_0_countries_deu                         | 10 |\n",
       "| admin_0_countries_egy                         | 10 |\n",
       "| admin_0_countries_esp                         | 10 |\n",
       "| admin_0_countries_fra                         | 10 |\n",
       "| admin_0_countries_gbr                         | 10 |\n",
       "| admin_0_countries_grc                         | 10 |\n",
       "| admin_0_countries_idn                         | 10 |\n",
       "| admin_0_countries_ind                         | 10 |\n",
       "| admin_0_countries_iso                         | 10 |\n",
       "| admin_0_countries_isr                         | 10 |\n",
       "| admin_0_countries_ita                         | 10 |\n",
       "| admin_0_countries_jpn                         | 10 |\n",
       "| admin_0_countries_kor                         | 10 |\n",
       "| admin_0_countries_lakes                       | 10 |\n",
       "| admin_0_countries_mar                         | 10 |\n",
       "| admin_0_countries_nep                         | 10 |\n",
       "| admin_0_countries_nld                         | 10 |\n",
       "| admin_0_countries_pak                         | 10 |\n",
       "| ⋮ | ⋮ |\n",
       "| admin_0_seams                             | 10 |\n",
       "| admin_0_sovereignty                       | 10 |\n",
       "| admin_1_label_points                      | 10 |\n",
       "| admin_1_label_points_details              | 10 |\n",
       "| admin_1_seams                             | 10 |\n",
       "| admin_1_states_provinces                  | 10 |\n",
       "| admin_1_states_provinces_lakes            | 10 |\n",
       "| admin_1_states_provinces_lines            | 10 |\n",
       "| admin_1_states_provinces_scale_rank       | 10 |\n",
       "| admin_2_counties                          | 10 |\n",
       "| admin_2_counties_lakes                    | 10 |\n",
       "| admin_2_counties_scale_rank               | 10 |\n",
       "| admin_2_counties_scale_rank_minor_islands | 10 |\n",
       "| admin_2_label_points                      | 10 |\n",
       "| admin_2_label_points_details              | 10 |\n",
       "| airports                                  | 10 |\n",
       "| parks_and_protected_lands_area            | 10 |\n",
       "| parks_and_protected_lands_line            | 10 |\n",
       "| parks_and_protected_lands_point           | 10 |\n",
       "| parks_and_protected_lands_scale_rank      | 10 |\n",
       "| populated_places                          | 10 |\n",
       "| populated_places_simple                   | 10 |\n",
       "| ports                                     | 10 |\n",
       "| railroads                                 | 10 |\n",
       "| railroads_north_america                   | 10 |\n",
       "| roads                                     | 10 |\n",
       "| roads_north_america                       | 10 |\n",
       "| time_zones                                | 10 |\n",
       "| urban_areas                               | 10 |\n",
       "| urban_areas_landscan                      | 10 |\n",
       "\n"
      ],
      "text/plain": [
       "   layer                                         scale\n",
       "1  admin_0_antarctic_claim_limit_lines           10   \n",
       "2  admin_0_antarctic_claims                      10   \n",
       "3  admin_0_boundary_lines_disputed_areas         10   \n",
       "4  admin_0_boundary_lines_land                   10   \n",
       "5  admin_0_boundary_lines_map_units              10   \n",
       "6  admin_0_boundary_lines_maritime_indicator     10   \n",
       "7  admin_0_boundary_lines_maritime_indicator_chn 10   \n",
       "8  admin_0_countries                             10   \n",
       "9  admin_0_countries_arg                         10   \n",
       "10 admin_0_countries_bdg                         10   \n",
       "11 admin_0_countries_bra                         10   \n",
       "12 admin_0_countries_chn                         10   \n",
       "13 admin_0_countries_deu                         10   \n",
       "14 admin_0_countries_egy                         10   \n",
       "15 admin_0_countries_esp                         10   \n",
       "16 admin_0_countries_fra                         10   \n",
       "17 admin_0_countries_gbr                         10   \n",
       "18 admin_0_countries_grc                         10   \n",
       "19 admin_0_countries_idn                         10   \n",
       "20 admin_0_countries_ind                         10   \n",
       "21 admin_0_countries_iso                         10   \n",
       "22 admin_0_countries_isr                         10   \n",
       "23 admin_0_countries_ita                         10   \n",
       "24 admin_0_countries_jpn                         10   \n",
       "25 admin_0_countries_kor                         10   \n",
       "26 admin_0_countries_lakes                       10   \n",
       "27 admin_0_countries_mar                         10   \n",
       "28 admin_0_countries_nep                         10   \n",
       "29 admin_0_countries_nld                         10   \n",
       "30 admin_0_countries_pak                         10   \n",
       "⋮  ⋮                                             ⋮    \n",
       "51 admin_0_seams                                 10   \n",
       "52 admin_0_sovereignty                           10   \n",
       "53 admin_1_label_points                          10   \n",
       "54 admin_1_label_points_details                  10   \n",
       "55 admin_1_seams                                 10   \n",
       "56 admin_1_states_provinces                      10   \n",
       "57 admin_1_states_provinces_lakes                10   \n",
       "58 admin_1_states_provinces_lines                10   \n",
       "59 admin_1_states_provinces_scale_rank           10   \n",
       "60 admin_2_counties                              10   \n",
       "61 admin_2_counties_lakes                        10   \n",
       "62 admin_2_counties_scale_rank                   10   \n",
       "63 admin_2_counties_scale_rank_minor_islands     10   \n",
       "64 admin_2_label_points                          10   \n",
       "65 admin_2_label_points_details                  10   \n",
       "66 airports                                      10   \n",
       "67 parks_and_protected_lands_area                10   \n",
       "68 parks_and_protected_lands_line                10   \n",
       "69 parks_and_protected_lands_point               10   \n",
       "70 parks_and_protected_lands_scale_rank          10   \n",
       "71 populated_places                              10   \n",
       "72 populated_places_simple                       10   \n",
       "73 ports                                         10   \n",
       "74 railroads                                     10   \n",
       "75 railroads_north_america                       10   \n",
       "76 roads                                         10   \n",
       "77 roads_north_america                           10   \n",
       "78 time_zones                                    10   \n",
       "79 urban_areas                                   10   \n",
       "80 urban_areas_landscan                          10   "
      ]
     },
     "metadata": {},
     "output_type": "display_data"
    }
   ],
   "source": [
    "# list of large scale cultural data (1:10 meters)\n",
    "ne_find_vector_data(category = \"cultural\", scale = 10)"
   ]
  },
  {
   "cell_type": "markdown",
   "id": "78653281-4578-4a3b-bf23-efa469170d98",
   "metadata": {},
   "source": [
    "These commands display lists of available vector datasets, allowing you to browse the options and select datasets relevant to your analysis.  Once you've identified the datasets of interest, you can download them using functions in the next section."
   ]
  },
  {
   "cell_type": "markdown",
   "id": "8b9e70d0-c0dd-403d-b0a1-0c34020ce303",
   "metadata": {},
   "source": [
    "## 3. Download and Save Data from Natural Earth\n",
    "\n",
    "After identifying relevant datasets, you can download and visualize them using the [*ne_countries*](https://rdrr.io/cran/rnaturalearth/man/ne_countries.html) function for global country boundaries, [*ne_coastline*](https://rdrr.io/cran/rnaturalearth/man/ne_coastline.html) for global coastlines, and [*ne_download*](https://rdrr.io/cran/rnaturalearth/man/ne_download.html) for all other datasets.\n",
    "\n",
    "### 3a. United States Boundary Polygons\n",
    "\n",
    "As an example, we will download and visualize boundary polygons for the United States.  To do this, we will use the *ne_countries* function and specify that we only want the border of the United States of America."
   ]
  },
  {
   "cell_type": "code",
   "execution_count": 26,
   "id": "ffc34c5e-19d5-434e-b9e2-c10810f45400",
   "metadata": {},
   "outputs": [],
   "source": [
    "# United States State Boundaries (polygons)\n",
    "usa_boundary <- ne_countries(country = \"United States of America\")"
   ]
  },
  {
   "cell_type": "markdown",
   "id": "fab7a1f8-d3bd-48a2-abae-e609e6328589",
   "metadata": {},
   "source": [
    "Let's take a look at the structure of the *usa_boundary* object."
   ]
  },
  {
   "cell_type": "code",
   "execution_count": 21,
   "id": "4fefe71a-9c51-48f6-abf2-3f13aa9b3ca6",
   "metadata": {},
   "outputs": [
    {
     "data": {
      "application/geo+json": {
       "features": [
        {
         "geometry": {
          "coordinates": [
           [
            [
             [
              -122.84,
              49
             ],
             [
              -120,
              49
             ],
             [
              -117.0312,
              49
             ],
             [
              -116.0482,
              49
             ],
             [
              -113,
              49
             ],
             [
              -110.05,
              49
             ],
             [
              -107.05,
              49
             ],
             [
              -104.0483,
              48.9999
             ],
             [
              -100.65,
              49
             ],
             [
              -97.2287,
              49.0007
             ],
             [
              -95.1591,
              49
             ],
             [
              -95.1561,
              49.3843
             ],
             [
              -94.8176,
              49.389
             ],
             [
              -94.64,
              48.84
             ],
             [
              -94.3291,
              48.6707
             ],
             [
              -93.6309,
              48.6093
             ],
             [
              -92.61,
              48.45
             ],
             [
              -91.64,
              48.14
             ],
             [
              -90.83,
              48.27
             ],
             [
              -89.6,
              48.01
             ],
             [
              -89.2729,
              48.0198
             ],
             [
              -88.3781,
              48.3029
             ],
             [
              -87.4398,
              47.94
             ],
             [
              -86.462,
              47.5533
             ],
             [
              -85.6524,
              47.2202
             ],
             [
              -84.8761,
              46.9001
             ],
             [
              -84.7792,
              46.6371
             ],
             [
              -84.5437,
              46.5387
             ],
             [
              -84.6049,
              46.4396
             ],
             [
              -84.3367,
              46.4088
             ],
             [
              -84.1421,
              46.5122
             ],
             [
              -84.0919,
              46.2754
             ],
             [
              -83.8908,
              46.1169
             ],
             [
              -83.6161,
              46.1169
             ],
             [
              -83.4696,
              45.9947
             ],
             [
              -83.5929,
              45.8169
             ],
             [
              -82.5509,
              45.3475
             ],
             [
              -82.3378,
              44.44
             ],
             [
              -82.1376,
              43.5711
             ],
             [
              -82.43,
              42.98
             ],
             [
              -82.9,
              42.43
             ],
             [
              -83.12,
              42.08
             ],
             [
              -83.142,
              41.9757
             ],
             [
              -83.0298,
              41.8328
             ],
             [
              -82.6901,
              41.6751
             ],
             [
              -82.4393,
              41.6751
             ],
             [
              -81.2777,
              42.209
             ],
             [
              -80.2474,
              42.3662
             ],
             [
              -78.9394,
              42.8636
             ],
             [
              -78.92,
              42.965
             ],
             [
              -79.01,
              43.27
             ],
             [
              -79.1717,
              43.4663
             ],
             [
              -78.7203,
              43.6251
             ],
             [
              -77.7379,
              43.6291
             ],
             [
              -76.82,
              43.6288
             ],
             [
              -76.5,
              44.0185
             ],
             [
              -76.375,
              44.0963
             ],
             [
              -75.3182,
              44.8165
             ],
             [
              -74.867,
              45.0005
             ],
             [
              -73.3478,
              45.0074
             ],
             [
              -71.5051,
              45.0082
             ],
             [
              -71.405,
              45.255
             ],
             [
              -71.0848,
              45.3052
             ],
             [
              -70.66,
              45.46
             ],
             [
              -70.305,
              45.915
             ],
             [
              -70,
              46.6931
             ],
             [
              -69.2372,
              47.4478
             ],
             [
              -68.905,
              47.185
             ],
             [
              -68.2344,
              47.3549
             ],
             [
              -67.7905,
              47.0664
             ],
             [
              -67.7913,
              45.7028
             ],
             [
              -67.1374,
              45.1375
             ],
             [
              -66.9647,
              44.8097
             ],
             [
              -68.0325,
              44.3252
             ],
             [
              -69.06,
              43.98
             ],
             [
              -70.1162,
              43.6841
             ],
             [
              -70.6455,
              43.0902
             ],
             [
              -70.8149,
              42.8653
             ],
             [
              -70.825,
              42.335
             ],
             [
              -70.495,
              41.805
             ],
             [
              -70.08,
              41.78
             ],
             [
              -70.185,
              42.145
             ],
             [
              -69.885,
              41.9228
             ],
             [
              -69.965,
              41.6372
             ],
             [
              -70.64,
              41.475
             ],
             [
              -71.1204,
              41.4945
             ],
             [
              -71.86,
              41.32
             ],
             [
              -72.295,
              41.27
             ],
             [
              -72.8764,
              41.2207
             ],
             [
              -73.71,
              40.9311
             ],
             [
              -72.2413,
              41.1195
             ],
             [
              -71.945,
              40.93
             ],
             [
              -73.345,
              40.63
             ],
             [
              -73.982,
              40.628
             ],
             [
              -73.9523,
              40.7508
             ],
             [
              -74.2567,
              40.4735
             ],
             [
              -73.9624,
              40.4276
             ],
             [
              -74.1784,
              39.7093
             ],
             [
              -74.906,
              38.9395
             ],
             [
              -74.9804,
              39.1964
             ],
             [
              -75.2,
              39.2485
             ],
             [
              -75.5281,
              39.4985
             ],
             [
              -75.32,
              38.96
             ],
             [
              -75.0718,
              38.782
             ],
             [
              -75.0567,
              38.4041
             ],
             [
              -75.3775,
              38.0155
             ],
             [
              -75.9402,
              37.2169
             ],
             [
              -76.0313,
              37.2566
             ],
             [
              -75.722,
              37.9371
             ],
             [
              -76.2329,
              38.3192
             ],
             [
              -76.35,
              39.15
             ],
             [
              -76.5427,
              38.7176
             ],
             [
              -76.3293,
              38.0833
             ],
             [
              -76.99,
              38.24
             ],
             [
              -76.3016,
              37.9179
             ],
             [
              -76.2587,
              36.9664
             ],
             [
              -75.9718,
              36.8973
             ],
             [
              -75.868,
              36.5513
             ],
             [
              -75.7275,
              35.5507
             ],
             [
              -76.3632,
              34.8085
             ],
             [
              -77.3976,
              34.512
             ],
             [
              -78.055,
              33.9255
             ],
             [
              -78.5543,
              33.8613
             ],
             [
              -79.0607,
              33.4939
             ],
             [
              -79.2036,
              33.1584
             ],
             [
              -80.3013,
              32.5094
             ],
             [
              -80.865,
              32.0333
             ],
             [
              -81.3363,
              31.4405
             ],
             [
              -81.4904,
              30.73
             ],
             [
              -81.3137,
              30.0355
             ],
             [
              -80.98,
              29.18
             ],
             [
              -80.5356,
              28.4721
             ],
             [
              -80.53,
              28.04
             ],
             [
              -80.0565,
              26.88
             ],
             [
              -80.088,
              26.2058
             ],
             [
              -80.1316,
              25.8168
             ],
             [
              -80.381,
              25.2062
             ],
             [
              -80.68,
              25.08
             ],
             [
              -81.1721,
              25.2013
             ],
             [
              -81.33,
              25.64
             ],
             [
              -81.71,
              25.87
             ],
             [
              -82.24,
              26.73
             ],
             [
              -82.7052,
              27.495
             ],
             [
              -82.8553,
              27.8862
             ],
             [
              -82.65,
              28.55
             ],
             [
              -82.93,
              29.1
             ],
             [
              -83.7096,
              29.9366
             ],
             [
              -84.1,
              30.09
             ],
             [
              -85.1088,
              29.6362
             ],
             [
              -85.2878,
              29.6861
             ],
             [
              -85.7731,
              30.1526
             ],
             [
              -86.4,
              30.4
             ],
             [
              -87.5304,
              30.2743
             ],
             [
              -88.4178,
              30.3849
             ],
             [
              -89.1805,
              30.316
             ],
             [
              -89.5938,
              30.16
             ],
             [
              -89.4137,
              29.8942
             ],
             [
              -89.43,
              29.4886
             ],
             [
              -89.2177,
              29.2911
             ],
             [
              -89.4082,
              29.1596
             ],
             [
              -89.7793,
              29.3071
             ],
             [
              -90.1546,
              29.1174
             ],
             [
              -90.8802,
              29.1485
             ],
             [
              -91.6268,
              29.677
             ],
             [
              -92.4991,
              29.5523
             ],
             [
              -93.2264,
              29.7838
             ],
             [
              -93.8484,
              29.7136
             ],
             [
              -94.69,
              29.48
             ],
             [
              -95.6003,
              28.7386
             ],
             [
              -96.594,
              28.3075
             ],
             [
              -97.14,
              27.83
             ],
             [
              -97.37,
              27.38
             ],
             [
              -97.38,
              26.69
             ],
             [
              -97.33,
              26.21
             ],
             [
              -97.14,
              25.87
             ],
             [
              -97.53,
              25.84
             ],
             [
              -98.24,
              26.06
             ],
             [
              -99.02,
              26.37
             ],
             [
              -99.3,
              26.84
             ],
             [
              -99.52,
              27.54
             ],
             [
              -100.11,
              28.11
             ],
             [
              -100.4558,
              28.6961
             ],
             [
              -100.9576,
              29.3807
             ],
             [
              -101.6624,
              29.7793
             ],
             [
              -102.48,
              29.76
             ],
             [
              -103.11,
              28.97
             ],
             [
              -103.94,
              29.27
             ],
             [
              -104.457,
              29.572
             ],
             [
              -104.7057,
              30.1217
             ],
             [
              -105.0374,
              30.644
             ],
             [
              -105.6316,
              31.0838
             ],
             [
              -106.1429,
              31.4
             ],
             [
              -106.5076,
              31.7545
             ],
             [
              -108.24,
              31.7549
             ],
             [
              -108.2419,
              31.3422
             ],
             [
              -109.035,
              31.3419
             ],
             [
              -111.0236,
              31.3347
             ],
             [
              -113.305,
              32.0391
             ],
             [
              -114.815,
              32.5253
             ],
             [
              -114.7214,
              32.7208
             ],
             [
              -115.9913,
              32.6124
             ],
             [
              -117.1278,
              32.5353
             ],
             [
              -117.2959,
              33.0462
             ],
             [
              -117.944,
              33.6212
             ],
             [
              -118.4106,
              33.7409
             ],
             [
              -118.5199,
              34.0278
             ],
             [
              -119.081,
              34.078
             ],
             [
              -119.4388,
              34.3485
             ],
             [
              -120.3678,
              34.4471
             ],
             [
              -120.6229,
              34.6085
             ],
             [
              -120.7443,
              35.1569
             ],
             [
              -121.7146,
              36.1615
             ],
             [
              -122.5475,
              37.5518
             ],
             [
              -122.512,
              37.7834
             ],
             [
              -122.9532,
              38.1137
             ],
             [
              -123.7272,
              38.9517
             ],
             [
              -123.8652,
              39.767
             ],
             [
              -124.3981,
              40.3132
             ],
             [
              -124.1789,
              41.142
             ],
             [
              -124.2137,
              41.9996
             ],
             [
              -124.5328,
              42.766
             ],
             [
              -124.1421,
              43.7084
             ],
             [
              -124.0205,
              44.6159
             ],
             [
              -123.8989,
              45.5234
             ],
             [
              -124.0796,
              46.8648
             ],
             [
              -124.3957,
              47.7202
             ],
             [
              -124.6872,
              48.1844
             ],
             [
              -124.5661,
              48.3797
             ],
             [
              -123.12,
              48.04
             ],
             [
              -122.5874,
              47.096
             ],
             [
              -122.34,
              47.36
             ],
             [
              -122.5,
              48.18
             ],
             [
              -122.84,
              49
             ]
            ]
           ],
           [
            [
             [
              -155.4021,
              20.0798
             ],
             [
              -155.2245,
              19.993
             ],
             [
              -155.0623,
              19.8591
             ],
             [
              -154.8074,
              19.5087
             ],
             [
              -154.8315,
              19.4533
             ],
             [
              -155.2222,
              19.2397
             ],
             [
              -155.5421,
              19.0835
             ],
             [
              -155.6882,
              18.9162
             ],
             [
              -155.9366,
              19.0594
             ],
             [
              -155.9081,
              19.3389
             ],
             [
              -156.0735,
              19.7029
             ],
             [
              -156.0237,
              19.8142
             ],
             [
              -155.8501,
              19.9773
             ],
             [
              -155.9191,
              20.174
             ],
             [
              -155.8611,
              20.2672
             ],
             [
              -155.7851,
              20.2487
             ],
             [
              -155.4021,
              20.0798
             ]
            ]
           ],
           [
            [
             [
              -155.9957,
              20.764
             ],
             [
              -156.0793,
              20.644
             ],
             [
              -156.4144,
              20.5724
             ],
             [
              -156.5867,
              20.783
             ],
             [
              -156.7017,
              20.8643
             ],
             [
              -156.7105,
              20.9268
             ],
             [
              -156.6126,
              21.0125
             ],
             [
              -156.2571,
              20.9175
             ],
             [
              -155.9957,
              20.764
             ]
            ]
           ],
           [
            [
             [
              -156.7582,
              21.1768
             ],
             [
              -156.7893,
              21.0687
             ],
             [
              -157.3252,
              21.0978
             ],
             [
              -157.2503,
              21.2196
             ],
             [
              -156.7582,
              21.1768
             ]
            ]
           ],
           [
            [
             [
              -158.0252,
              21.717
             ],
             [
              -157.9416,
              21.6527
             ],
             [
              -157.6528,
              21.3222
             ],
             [
              -157.707,
              21.2644
             ],
             [
              -157.7786,
              21.2773
             ],
             [
              -158.1267,
              21.3124
             ],
             [
              -158.2538,
              21.5392
             ],
             [
              -158.2927,
              21.5791
             ],
             [
              -158.0252,
              21.717
             ]
            ]
           ],
           [
            [
             [
              -159.3657,
              22.2149
             ],
             [
              -159.3451,
              21.982
             ],
             [
              -159.4637,
              21.883
             ],
             [
              -159.8005,
              22.0653
             ],
             [
              -159.7488,
              22.1382
             ],
             [
              -159.5962,
              22.2362
             ],
             [
              -159.3657,
              22.2149
             ]
            ]
           ],
           [
            [
             [
              -166.4678,
              60.3842
             ],
             [
              -165.6744,
              60.2936
             ],
             [
              -165.5792,
              59.91
             ],
             [
              -166.1928,
              59.7544
             ],
             [
              -166.8483,
              59.9414
             ],
             [
              -167.4553,
              60.2131
             ],
             [
              -166.4678,
              60.3842
             ]
            ]
           ],
           [
            [
             [
              -153.2287,
              57.969
             ],
             [
              -152.5648,
              57.9014
             ],
             [
              -152.1411,
              57.5911
             ],
             [
              -153.0063,
              57.1158
             ],
             [
              -154.0051,
              56.7347
             ],
             [
              -154.5164,
              56.9927
             ],
             [
              -154.671,
              57.4612
             ],
             [
              -153.7628,
              57.8166
             ],
             [
              -153.2287,
              57.969
             ]
            ]
           ],
           [
            [
             [
              -140.986,
              69.712
             ],
             [
              -140.986,
              69.712
             ],
             [
              -140.9925,
              66
             ],
             [
              -140.9978,
              60.3064
             ],
             [
              -140.013,
              60.2768
             ],
             [
              -139.039,
              60
             ],
             [
              -138.3409,
              59.5621
             ],
             [
              -137.4525,
              58.905
             ],
             [
              -136.4797,
              59.4639
             ],
             [
              -135.4758,
              59.7878
             ],
             [
              -134.945,
              59.2706
             ],
             [
              -134.2711,
              58.8611
             ],
             [
              -133.3556,
              58.4103
             ],
             [
              -132.7304,
              57.6929
             ],
             [
              -131.7078,
              56.5521
             ],
             [
              -130.0078,
              55.9158
             ],
             [
              -129.98,
              55.285
             ],
             [
              -130.5361,
              54.8028
             ],
             [
              -130.5361,
              54.8028
             ],
             [
              -130.5361,
              54.8028
             ],
             [
              -131.0858,
              55.1789
             ],
             [
              -131.9672,
              55.4978
             ],
             [
              -132.25,
              56.37
             ],
             [
              -133.5392,
              57.1789
             ],
             [
              -134.0781,
              58.1231
             ],
             [
              -135.0382,
              58.1877
             ],
             [
              -136.6281,
              58.2122
             ],
             [
              -137.8,
              58.5
             ],
             [
              -139.8678,
              59.5378
             ],
             [
              -140.8253,
              59.7275
             ],
             [
              -142.5744,
              60.0844
             ],
             [
              -143.9589,
              59.9992
             ],
             [
              -145.9256,
              60.4586
             ],
             [
              -147.1144,
              60.8847
             ],
             [
              -148.2243,
              60.673
             ],
             [
              -148.0181,
              59.9783
             ],
             [
              -148.5708,
              59.9142
             ],
             [
              -149.7279,
              59.7057
             ],
             [
              -150.6082,
              59.3682
             ],
             [
              -151.7164,
              59.1558
             ],
             [
              -151.8594,
              59.745
             ],
             [
              -151.4097,
              60.7258
             ],
             [
              -150.3469,
              61.0336
             ],
             [
              -150.6211,
              61.2844
             ],
             [
              -151.8958,
              60.7272
             ],
             [
              -152.5783,
              60.0617
             ],
             [
              -154.0192,
              59.3503
             ],
             [
              -153.2875,
              58.8647
             ],
             [
              -154.2325,
              58.1464
             ],
             [
              -155.3075,
              57.7278
             ],
             [
              -156.3083,
              57.4228
             ],
             [
              -156.5561,
              56.98
             ],
             [
              -158.1172,
              56.4636
             ],
             [
              -158.4333,
              55.9942
             ],
             [
              -159.6033,
              55.5667
             ],
             [
              -160.2897,
              55.6436
             ],
             [
              -161.223,
              55.3647
             ],
             [
              -162.2378,
              55.0242
             ],
             [
              -163.0694,
              54.6897
             ],
             [
              -164.7856,
              54.4042
             ],
             [
              -164.9422,
              54.5722
             ],
             [
              -163.8483,
              55.0394
             ],
             [
              -162.87,
              55.348
             ],
             [
              -161.8042,
              55.895
             ],
             [
              -160.5636,
              56.0081
             ],
             [
              -160.0706,
              56.4181
             ],
             [
              -158.6844,
              57.0167
             ],
             [
              -158.4611,
              57.2169
             ],
             [
              -157.7228,
              57.57
             ],
             [
              -157.5503,
              58.3283
             ],
             [
              -157.0417,
              58.9189
             ],
             [
              -158.1947,
              58.6158
             ],
             [
              -158.5172,
              58.7878
             ],
             [
              -159.0586,
              58.4242
             ],
             [
              -159.7117,
              58.9314
             ],
             [
              -159.9813,
              58.5725
             ],
             [
              -160.3553,
              59.0711
             ],
             [
              -161.355,
              58.6708
             ],
             [
              -161.9689,
              58.6717
             ],
             [
              -162.055,
              59.2669
             ],
             [
              -161.8742,
              59.6336
             ],
             [
              -162.5181,
              59.9897
             ],
             [
              -163.8183,
              59.7981
             ],
             [
              -164.6622,
              60.2675
             ],
             [
              -165.3464,
              60.5075
             ],
             [
              -165.3508,
              61.0739
             ],
             [
              -166.1214,
              61.5
             ],
             [
              -165.7345,
              62.075
             ],
             [
              -164.9192,
              62.6331
             ],
             [
              -164.5625,
              63.1464
             ],
             [
              -163.7533,
              63.2194
             ],
             [
              -163.0672,
              63.0595
             ],
             [
              -162.2606,
              63.5419
             ],
             [
              -161.5344,
              63.4558
             ],
             [
              -160.7725,
              63.7661
             ],
             [
              -160.9583,
              64.2228
             ],
             [
              -161.5181,
              64.4028
             ],
             [
              -160.7778,
              64.7886
             ],
             [
              -161.3919,
              64.7772
             ],
             [
              -162.4531,
              64.5594
             ],
             [
              -162.7578,
              64.3386
             ],
             [
              -163.5464,
              64.5592
             ],
             [
              -164.9608,
              64.4469
             ],
             [
              -166.4253,
              64.6867
             ],
             [
              -166.845,
              65.0889
             ],
             [
              -168.1106,
              65.67
             ],
             [
              -166.7053,
              66.0883
             ],
             [
              -164.4747,
              66.5767
             ],
             [
              -163.6525,
              66.5767
             ],
             [
              -163.7886,
              66.0772
             ],
             [
              -161.6778,
              66.1161
             ],
             [
              -162.4897,
              66.7356
             ],
             [
              -163.7197,
              67.1164
             ],
             [
              -164.431,
              67.6163
             ],
             [
              -165.3903,
              68.0428
             ],
             [
              -166.7644,
              68.3589
             ],
             [
              -166.2047,
              68.883
             ],
             [
              -164.4308,
              68.9155
             ],
             [
              -163.1686,
              69.3711
             ],
             [
              -162.9306,
              69.8581
             ],
             [
              -161.9089,
              70.3333
             ],
             [
              -160.9348,
              70.4477
             ],
             [
              -159.0392,
              70.8916
             ],
             [
              -158.1197,
              70.8247
             ],
             [
              -156.5808,
              71.3578
             ],
             [
              -155.0678,
              71.1478
             ],
             [
              -154.3442,
              70.6964
             ],
             [
              -153.9,
              70.89
             ],
             [
              -152.21,
              70.83
             ],
             [
              -152.27,
              70.6
             ],
             [
              -150.74,
              70.43
             ],
             [
              -149.72,
              70.53
             ],
             [
              -147.6134,
              70.214
             ],
             [
              -145.69,
              70.12
             ],
             [
              -144.92,
              69.99
             ],
             [
              -143.5894,
              70.1525
             ],
             [
              -142.0725,
              69.8519
             ],
             [
              -140.986,
              69.712
             ],
             [
              -140.986,
              69.712
             ]
            ]
           ],
           [
            [
             [
              -171.7317,
              63.7825
             ],
             [
              -171.1144,
              63.5922
             ],
             [
              -170.4911,
              63.695
             ],
             [
              -169.6825,
              63.4311
             ],
             [
              -168.6894,
              63.2975
             ],
             [
              -168.7719,
              63.1886
             ],
             [
              -169.5294,
              62.9769
             ],
             [
              -170.2906,
              63.1944
             ],
             [
              -170.6714,
              63.3758
             ],
             [
              -171.5531,
              63.3178
             ],
             [
              -171.7911,
              63.4058
             ],
             [
              -171.7317,
              63.7825
             ]
            ]
           ]
          ],
          "type": "MultiPolygon"
         },
         "properties": {
          "abbrev": "U.S.A.",
          "abbrev_len": 6,
          "adm0_a3": "USA",
          "adm0_a3_ar": "USA",
          "adm0_a3_bd": "USA",
          "adm0_a3_br": "USA",
          "adm0_a3_cn": "USA",
          "adm0_a3_de": "USA",
          "adm0_a3_eg": "USA",
          "adm0_a3_es": "USA",
          "adm0_a3_fr": "USA",
          "adm0_a3_gb": "USA",
          "adm0_a3_gr": "USA",
          "adm0_a3_id": "USA",
          "adm0_a3_il": "USA",
          "adm0_a3_in": "USA",
          "adm0_a3_it": "USA",
          "adm0_a3_jp": "USA",
          "adm0_a3_ko": "USA",
          "adm0_a3_ma": "USA",
          "adm0_a3_nl": "USA",
          "adm0_a3_np": "USA",
          "adm0_a3_pk": "USA",
          "adm0_a3_pl": "USA",
          "adm0_a3_ps": "USA",
          "adm0_a3_pt": "USA",
          "adm0_a3_ru": "USA",
          "adm0_a3_sa": "USA",
          "adm0_a3_se": "USA",
          "adm0_a3_tr": "USA",
          "adm0_a3_tw": "USA",
          "adm0_a3_ua": "USA",
          "adm0_a3_un": -99,
          "adm0_a3_us": "USA",
          "adm0_a3_vn": "USA",
          "adm0_a3_wb": -99,
          "adm0_dif": 1,
          "adm0_diff": null,
          "adm0_iso": "USA",
          "adm0_tlc": "USA",
          "admin": "United States of America",
          "brk_a3": "USA",
          "brk_diff": 0,
          "brk_group": null,
          "brk_name": "United States",
          "continent": "North America",
          "economy": "1. Developed region: G7",
          "fclass_ar": null,
          "fclass_bd": null,
          "fclass_br": null,
          "fclass_cn": null,
          "fclass_de": null,
          "fclass_eg": null,
          "fclass_es": null,
          "fclass_fr": null,
          "fclass_gb": null,
          "fclass_gr": null,
          "fclass_id": null,
          "fclass_il": null,
          "fclass_in": null,
          "fclass_iso": "Admin-0 country",
          "fclass_it": null,
          "fclass_jp": null,
          "fclass_ko": null,
          "fclass_ma": null,
          "fclass_nl": null,
          "fclass_np": null,
          "fclass_pk": null,
          "fclass_pl": null,
          "fclass_ps": null,
          "fclass_pt": null,
          "fclass_ru": null,
          "fclass_sa": null,
          "fclass_se": null,
          "fclass_tlc": "Admin-0 country",
          "fclass_tr": null,
          "fclass_tw": null,
          "fclass_ua": null,
          "fclass_us": null,
          "fclass_vn": null,
          "featurecla": "Admin-0 country",
          "fips_10": "US",
          "formal_en": "United States of America",
          "formal_fr": null,
          "gdp_md": 21433226,
          "gdp_year": 2019,
          "geou_dif": 0,
          "geounit": "United States of America",
          "gu_a3": "USA",
          "homepart": 1,
          "income_grp": "1. High income: OECD",
          "iso_a2": "US",
          "iso_a2_eh": "US",
          "iso_a3": "USA",
          "iso_a3_eh": "USA",
          "iso_n3": "840",
          "iso_n3_eh": "840",
          "label_x": -97.4826,
          "label_y": 39.5385,
          "labelrank": 2,
          "level": 2,
          "long_len": 13,
          "mapcolor13": 1,
          "mapcolor7": 4,
          "mapcolor8": 5,
          "mapcolor9": 1,
          "max_label": 5.7,
          "min_label": 1.7,
          "min_zoom": 0,
          "name": "United States of America",
          "name_alt": null,
          "name_ar": "الولايات المتحدة",
          "name_bn": "মার্কিন যুক্তরাষ্ট্র",
          "name_ciawf": "United States",
          "name_de": "Vereinigte Staaten",
          "name_el": "Ηνωμένες Πολιτείες Αμερικής",
          "name_en": "United States of America",
          "name_es": "Estados Unidos",
          "name_fa": "ایالات متحده آمریکا",
          "name_fr": "États-Unis",
          "name_he": "ארצות הברית",
          "name_hi": "संयुक्त राज्य अमेरिका",
          "name_hu": "Amerikai Egyesült Államok",
          "name_id": "Amerika Serikat",
          "name_it": "Stati Uniti d'America",
          "name_ja": "アメリカ合衆国",
          "name_ko": "미국",
          "name_len": 24,
          "name_long": "United States",
          "name_nl": "Verenigde Staten van Amerika",
          "name_pl": "Stany Zjednoczone",
          "name_pt": "Estados Unidos",
          "name_ru": "США",
          "name_sort": "United States of America",
          "name_sv": "USA",
          "name_tr": "Amerika Birleşik Devletleri",
          "name_uk": "Сполучені Штати Америки",
          "name_ur": "ریاستہائے متحدہ امریکا",
          "name_vi": "Hoa Kỳ",
          "name_zh": "美国",
          "name_zht": "美國",
          "ne_id": 1159321369,
          "note_adm0": null,
          "note_brk": null,
          "pop_est": 328239523,
          "pop_rank": 17,
          "pop_year": 2019,
          "postal": "US",
          "region_un": "Americas",
          "region_wb": "North America",
          "scalerank": 1,
          "sov_a3": "US1",
          "sovereignt": "United States of America",
          "su_a3": "USA",
          "su_dif": 0,
          "subregion": "Northern America",
          "subunit": "United States",
          "tiny": -99,
          "tlc": "1",
          "tlc_diff": null,
          "type": "Country",
          "un_a3": "840",
          "wb_a2": "US",
          "wb_a3": "USA",
          "wikidataid": "Q30",
          "woe_id": 23424977,
          "woe_id_eh": 23424977,
          "woe_note": "Exact WOE match as country"
         },
         "type": "Feature"
        }
       ],
       "type": "FeatureCollection"
      },
      "text/html": [
       "<table class=\"dataframe\">\n",
       "<caption>A sf: 1 × 169</caption>\n",
       "<thead>\n",
       "\t<tr><th></th><th scope=col>featurecla</th><th scope=col>scalerank</th><th scope=col>labelrank</th><th scope=col>sovereignt</th><th scope=col>sov_a3</th><th scope=col>adm0_dif</th><th scope=col>level</th><th scope=col>type</th><th scope=col>tlc</th><th scope=col>admin</th><th scope=col>geometry</th><th scope=col>⋯</th><th scope=col>fclass_tr</th><th scope=col>fclass_id</th><th scope=col>fclass_pl</th><th scope=col>fclass_gr</th><th scope=col>fclass_it</th><th scope=col>fclass_nl</th><th scope=col>fclass_se</th><th scope=col>fclass_bd</th><th scope=col>fclass_ua</th><th scope=col>geometry</th></tr>\n",
       "\t<tr><th></th><th scope=col>&lt;chr&gt;</th><th scope=col>&lt;int&gt;</th><th scope=col>&lt;int&gt;</th><th scope=col>&lt;chr&gt;</th><th scope=col>&lt;chr&gt;</th><th scope=col>&lt;int&gt;</th><th scope=col>&lt;int&gt;</th><th scope=col>&lt;chr&gt;</th><th scope=col>&lt;chr&gt;</th><th scope=col>&lt;chr&gt;</th><th scope=col>⋯</th><th scope=col>&lt;chr&gt;</th><th scope=col>&lt;chr&gt;</th><th scope=col>&lt;chr&gt;</th><th scope=col>&lt;chr&gt;</th><th scope=col>&lt;chr&gt;</th><th scope=col>&lt;chr&gt;</th><th scope=col>&lt;chr&gt;</th><th scope=col>&lt;chr&gt;</th><th scope=col>&lt;chr&gt;</th><th scope=col>&lt;MULTIPOLYGON [°]&gt;</th></tr>\n",
       "</thead>\n",
       "<tbody>\n",
       "\t<tr><th scope=row>5</th><td>Admin-0 country</td><td>1</td><td>2</td><td>United States of America</td><td>US1</td><td>1</td><td>2</td><td>Country</td><td>1</td><td>United States of America</td><td>MULTIPOLYGON (((-122.84 49,...</td><td>⋯</td><td>NA</td><td>NA</td><td>NA</td><td>NA</td><td>NA</td><td>NA</td><td>NA</td><td>NA</td><td>NA</td><td>MULTIPOLYGON (((-122.84 49,...</td></tr>\n",
       "</tbody>\n",
       "</table>\n"
      ],
      "text/latex": [
       "A sf: 1 × 169\n",
       "\\begin{tabular}{r|lllllllllllllllllllll}\n",
       "  & featurecla & scalerank & labelrank & sovereignt & sov\\_a3 & adm0\\_dif & level & type & tlc & admin & geometry & ⋯ & fclass\\_tr & fclass\\_id & fclass\\_pl & fclass\\_gr & fclass\\_it & fclass\\_nl & fclass\\_se & fclass\\_bd & fclass\\_ua & geometry\\\\\n",
       "  & <chr> & <int> & <int> & <chr> & <chr> & <int> & <int> & <chr> & <chr> & <chr> & ⋯ & <chr> & <chr> & <chr> & <chr> & <chr> & <chr> & <chr> & <chr> & <chr> & <MULTIPOLYGON {[}°{]}>\\\\\n",
       "\\hline\n",
       "\t5 & Admin-0 country & 1 & 2 & United States of America & US1 & 1 & 2 & Country & 1 & United States of America & MULTIPOLYGON (((-122.84 49,... & ⋯ & NA & NA & NA & NA & NA & NA & NA & NA & NA & MULTIPOLYGON (((-122.84 49,...\\\\\n",
       "\\end{tabular}\n"
      ],
      "text/markdown": [
       "\n",
       "A sf: 1 × 169\n",
       "\n",
       "| <!--/--> | featurecla &lt;chr&gt; | scalerank &lt;int&gt; | labelrank &lt;int&gt; | sovereignt &lt;chr&gt; | sov_a3 &lt;chr&gt; | adm0_dif &lt;int&gt; | level &lt;int&gt; | type &lt;chr&gt; | tlc &lt;chr&gt; | admin &lt;chr&gt; | geometry ⋯ | ⋯ &lt;chr&gt; | fclass_tr &lt;chr&gt; | fclass_id &lt;chr&gt; | fclass_pl &lt;chr&gt; | fclass_gr &lt;chr&gt; | fclass_it &lt;chr&gt; | fclass_nl &lt;chr&gt; | fclass_se &lt;chr&gt; | fclass_bd &lt;chr&gt; | fclass_ua &lt;MULTIPOLYGON [°]&gt; | geometry &lt;chr&gt; |\n",
       "|---|---|---|---|---|---|---|---|---|---|---|---|---|---|---|---|---|---|---|---|---|---|\n",
       "| 5 | Admin-0 country | 1 | 2 | United States of America | US1 | 1 | 2 | Country | 1 | United States of America | MULTIPOLYGON (((-122.84 49,... | ⋯ | NA | NA | NA | NA | NA | NA | NA | NA | NA | MULTIPOLYGON (((-122.84 49,... |\n",
       "\n"
      ],
      "text/plain": [
       "  featurecla      scalerank labelrank sovereignt               sov_a3 adm0_dif\n",
       "5 Admin-0 country 1         2         United States of America US1    1       \n",
       "  level type    tlc admin                    geometry                       ⋯\n",
       "5 2     Country 1   United States of America MULTIPOLYGON (((-122.84 49,... ⋯\n",
       "  fclass_tr fclass_id fclass_pl fclass_gr fclass_it fclass_nl fclass_se\n",
       "5 NA        NA        NA        NA        NA        NA        NA       \n",
       "  fclass_bd fclass_ua geometry                      \n",
       "5 NA        NA        MULTIPOLYGON (((-122.84 49,..."
      ]
     },
     "metadata": {},
     "output_type": "display_data"
    }
   ],
   "source": [
    "usa_boundary"
   ]
  },
  {
   "cell_type": "markdown",
   "id": "087e8b4e-af78-438e-b3db-2cb0a682cb3c",
   "metadata": {},
   "source": [
    "The *usa_boundary* object is an sf object with one row (representing the single country in the data - the United States) and 169 feature columns.  Recall that we can work with sf objects similar to the way we work with dataframes in R but sf objects also have special properties specific to spatial data.\n",
    "\n",
    "Let's quickly map the data using R's native *plot* function.  We will pass the geometry of the *usa_boundary* object to the *plot* function using the *st_geometry* function from the ***sf*** package."
   ]
  },
  {
   "cell_type": "code",
   "execution_count": 18,
   "id": "e6caf768-45e3-40bf-bf14-18c54e1afd13",
   "metadata": {},
   "outputs": [
    {
     "data": {
      "image/png": "[encoded data removed]",
      "text/plain": [
       "plot without title"
      ]
     },
     "metadata": {
      "image/png": {
       "height": 420,
       "width": 420
      }
     },
     "output_type": "display_data"
    }
   ],
   "source": [
    "# plot the boundaries\n",
    "plot(st_geometry(usa_boundary))"
   ]
  },
  {
   "cell_type": "markdown",
   "id": "46beb32c-71d9-4e09-8242-8ade233a6eb8",
   "metadata": {},
   "source": [
    "We can see that our downloaded data is a simple border of the entire United States of America including Alaska and Hawaii.\n",
    "\n",
    "Finally, let's save our data locally as a shapefile so we can load it into other workflows and notebooks.  Prior to saving the data we need to remove a couple of memory-intensive columns including the population estimate (*pop_est*) and Natural Earth identification code (*ne_id*) columns.  These columns were identified during the development process of this notebook as roadblocks to saving the *usa_boundary* file in the next step.  If you are working with your own data, or a different extraction from Natural Earth, your experience and process may be different."
   ]
  },
  {
   "cell_type": "code",
   "execution_count": 30,
   "id": "d7d36c95-897b-42ef-8495-00f6e751ea63",
   "metadata": {},
   "outputs": [],
   "source": [
    "# simplify the dataset by removing memory-intensive columns\n",
    "usa_boundary <- usa_boundary[, !names(usa_boundary) %in% c(\"pop_est\", \"ne_id\")]"
   ]
  },
  {
   "cell_type": "markdown",
   "id": "f4a62d7d-35a8-466a-a718-cdaf719df1e9",
   "metadata": {},
   "source": [
    "We'll save the *usa_boundary* object as a shapefile using the *st_write* function from the ***sf*** package."
   ]
  },
  {
   "cell_type": "code",
   "execution_count": 32,
   "id": "b4793872-c1ab-427b-893e-87ffb8f18f0f",
   "metadata": {},
   "outputs": [
    {
     "name": "stdout",
     "output_type": "stream",
     "text": [
      "Deleting source `usa_boundary.shp' using driver `ESRI Shapefile'\n",
      "Writing layer `usa_boundary' to data source \n",
      "  `usa_boundary.shp' using driver `ESRI Shapefile'\n",
      "Writing 1 features with 166 fields and geometry type Multi Polygon.\n"
     ]
    },
    {
     "name": "stderr",
     "output_type": "stream",
     "text": [
      "Warning message in CPL_write_ogr(obj, dsn, layer, driver, as.character(dataset_options), :\n",
      "\"GDAL Message 1: One or several characters couldn't be converted correctly from UTF-8 to ISO-8859-1.  This warning will not be emitted anymore.\"\n"
     ]
    }
   ],
   "source": [
    "# write the usa_boundaries shapefile\n",
    "st_write(usa_boundary, \"usa_boundary.shp\", driver = \"ESRI Shapefile\", delete_dsn = T)"
   ]
  },
  {
   "cell_type": "markdown",
   "id": "973816fb-9d3c-4244-be3a-fc1f87672ea6",
   "metadata": {},
   "source": [
    "This process retrieves boundary polygons for the United States, visualizes them, and cleans up the dataset by removing non-essential columns. This workflow can be extended to download and work with other datasets from Natural Earth."
   ]
  },
  {
   "cell_type": "markdown",
   "id": "12d894bd-062b-4518-9494-5e5909d6fc2c",
   "metadata": {},
   "source": [
    "### 3b. Global Airport Locations\n",
    "\n",
    "As a second example, we'll download the airports dataset.  This data provides point locations and additional data for all airports worldwide.\n",
    "\n",
    "In the previous example we used the *ne_countries* function which is specificly used for downloading country borders.  Similairly, the *ne_coastlines* function is used for downloading global coastlines.  For all other types of vector data from Natural Earth, we will need to use the flexible *ne_download* function and specify what type of data we are interested in.\n",
    "\n",
    "For this exercise, we want to export the point locations of all airports globally.  We will need to use the proper layer key to pass to the *ne_download* function.  Referring back to the lists of cultural data we explored in part 2, we can see that airport data can be referenced using the \"airports\" key and that the airports data comes in either 1:50 (medium) or 1:10 (large) scales.\n",
    "\n",
    "Setting up the function we will pass \"airports\" as the type while also specifying the category (\"cultural\") and scale (\"10\").  Since we want to make sure the function will return an *sf* object, we also set the return class to \"sf\"."
   ]
  },
  {
   "cell_type": "code",
   "execution_count": 34,
   "id": "3dbf040f-1faf-422c-b4dd-b12db1da1ee0",
   "metadata": {},
   "outputs": [
    {
     "name": "stdout",
     "output_type": "stream",
     "text": [
      "Reading layer `ne_10m_airports' from data source \n",
      "  `C:\\Users\\vavra\\AppData\\Local\\Temp\\RtmpqY97wX\\ne_10m_airports.shp' \n",
      "  using driver `ESRI Shapefile'\n",
      "Simple feature collection with 893 features and 40 fields\n",
      "Geometry type: POINT\n",
      "Dimension:     XY\n",
      "Bounding box:  xmin: -175.1356 ymin: -53.78147 xmax: 179.1954 ymax: 78.24672\n",
      "Geodetic CRS:  WGS 84\n"
     ]
    }
   ],
   "source": [
    "airports <- ne_download(scale = 10, type = \"airports\", category = \"cultural\", returnclass = \"sf\")"
   ]
  },
  {
   "cell_type": "markdown",
   "id": "baf5cb56-20e8-4e29-b7eb-9eaa201cdd7d",
   "metadata": {},
   "source": [
    "The metadata printout shows us that the *airports* object is a simple feature (*sf*) collection of 893 point features, corresponding to 893 global airports, and 40 attribute fields.\n",
    "\n",
    "Let's take a look at the first ten records in the *airports* object using the *head* function from base R."
   ]
  },
  {
   "cell_type": "code",
   "execution_count": 37,
   "id": "b0706bc7-9140-47fb-a49a-87e81a06f973",
   "metadata": {},
   "outputs": [
    {
     "data": {
      "application/geo+json": {
       "features": [
        {
         "geometry": {
          "coordinates": [
           75.9571,
           30.8504
          ],
          "type": "Point"
         },
         "properties": {
          "abbrev": "LUH",
          "comments": null,
          "featurecla": "Airport",
          "gps_code": "VILD",
          "iata_code": "LUH",
          "location": "terminal",
          "name": "Sahnewal",
          "name_ar": null,
          "name_bn": null,
          "name_de": null,
          "name_el": null,
          "name_en": "Sahnewal Airport",
          "name_es": null,
          "name_fa": "فرودگاه سهنول",
          "name_fr": "aéroport de Sahnewal",
          "name_he": null,
          "name_hi": "सहेनवाल हवाई अड्डा",
          "name_hu": null,
          "name_id": null,
          "name_it": null,
          "name_ja": null,
          "name_ko": null,
          "name_nl": null,
          "name_pl": null,
          "name_pt": "Aeroporto de Sahnewal",
          "name_ru": null,
          "name_sv": "Ludhiana Airport",
          "name_tr": null,
          "name_uk": null,
          "name_ur": null,
          "name_vi": null,
          "name_zh": null,
          "name_zht": null,
          "natlscale": 8,
          "ne_id": 1159113785,
          "scalerank": 9,
          "type": "small",
          "wdid_score": 4,
          "wikidataid": "Q7399709",
          "wikipedia": "http://en.wikipedia.org/wiki/Sahnewal_Airport"
         },
         "type": "Feature"
        },
        {
         "geometry": {
          "coordinates": [
           75.9331,
           17.6254
          ],
          "type": "Point"
         },
         "properties": {
          "abbrev": "SSE",
          "comments": null,
          "featurecla": "Airport",
          "gps_code": "VASL",
          "iata_code": "SSE",
          "location": "terminal",
          "name": "Solapur",
          "name_ar": "مطار سولابور",
          "name_bn": null,
          "name_de": null,
          "name_el": null,
          "name_en": "Solapur Airport",
          "name_es": null,
          "name_fa": "فرودگاه سولاپور",
          "name_fr": "aéroport de Solapur",
          "name_he": null,
          "name_hi": "शोलापुर विमानक्षेत्र",
          "name_hu": null,
          "name_id": null,
          "name_it": null,
          "name_ja": "ソーラープル空港",
          "name_ko": null,
          "name_nl": null,
          "name_pl": null,
          "name_pt": null,
          "name_ru": null,
          "name_sv": null,
          "name_tr": null,
          "name_uk": null,
          "name_ur": null,
          "name_vi": null,
          "name_zh": null,
          "name_zht": null,
          "natlscale": 8,
          "ne_id": 1159113803,
          "scalerank": 9,
          "type": "mid",
          "wdid_score": 4,
          "wikidataid": "Q7555807",
          "wikipedia": "http://en.wikipedia.org/wiki/Solapur_Airport"
         },
         "type": "Feature"
        },
        {
         "geometry": {
          "coordinates": [
           85.3236,
           23.3177
          ],
          "type": "Point"
         },
         "properties": {
          "abbrev": "IXR",
          "comments": null,
          "featurecla": "Airport",
          "gps_code": "VERC",
          "iata_code": "IXR",
          "location": "terminal",
          "name": "Birsa Munda",
          "name_ar": null,
          "name_bn": "বিরসা মুন্ডা বিমানবন্দর",
          "name_de": null,
          "name_el": null,
          "name_en": "Birsa Munda Airport",
          "name_es": "Aeropuerto Birsa Munda",
          "name_fa": "فرودگاه بیرسا موندا",
          "name_fr": "aéroport de Birsa Munda",
          "name_he": null,
          "name_hi": "बिरसा मुंडा हवाई-अड्डा",
          "name_hu": null,
          "name_id": "Bandar Udara Birsa Munda",
          "name_it": null,
          "name_ja": "ビルサ・ムンダ空港",
          "name_ko": null,
          "name_nl": "Birsa Munda Airport",
          "name_pl": "Port lotniczy Ranchi",
          "name_pt": "Aeroporto Internacional Birsa Munda",
          "name_ru": "Аеропорт имени Бирса Мунда",
          "name_sv": "M. O. Ranchi",
          "name_tr": "Birsa Munda Havaalanı",
          "name_uk": null,
          "name_ur": null,
          "name_vi": "Sân bay Birsa Munda",
          "name_zh": "比尔萨·蒙达机场",
          "name_zht": "比爾薩·蒙達機場",
          "natlscale": 8,
          "ne_id": 1159113831,
          "scalerank": 9,
          "type": "mid",
          "wdid_score": 4,
          "wikidataid": "Q598231",
          "wikipedia": "http://en.wikipedia.org/wiki/Birsa_Munda_Airport"
         },
         "type": "Feature"
        },
        {
         "geometry": {
          "coordinates": [
           48.7471,
           31.3432
          ],
          "type": "Point"
         },
         "properties": {
          "abbrev": "AWZ",
          "comments": null,
          "featurecla": "Airport",
          "gps_code": "OIAW",
          "iata_code": "AWZ",
          "location": "terminal",
          "name": "Ahwaz",
          "name_ar": "مطار الأهواز الدولي",
          "name_bn": null,
          "name_de": "Flughafen Ahvaz",
          "name_el": null,
          "name_en": "Ahvaz International Airport",
          "name_es": "Aeropuerto Internacional de Ahvaz",
          "name_fa": "فرودگاه بین المللی اهواز",
          "name_fr": "aéroport d'Ahvaz",
          "name_he": null,
          "name_hi": null,
          "name_hu": null,
          "name_id": "Bandar Udara Internasional Ahwaz",
          "name_it": null,
          "name_ja": "アフヴァーズ空港",
          "name_ko": null,
          "name_nl": "Ahwaz Airport",
          "name_pl": "Port lotniczy Ahwaz",
          "name_pt": null,
          "name_ru": null,
          "name_sv": "Ahwaz International Airport",
          "name_tr": "Ahvaz Havalimanı",
          "name_uk": null,
          "name_ur": null,
          "name_vi": "Sân bay Ahvaz",
          "name_zh": "阿瓦士机场",
          "name_zht": "阿瓦士機場",
          "natlscale": 8,
          "ne_id": 1159113845,
          "scalerank": 9,
          "type": "mid",
          "wdid_score": 4,
          "wikidataid": "Q622296",
          "wikipedia": "http://en.wikipedia.org/wiki/Ahwaz_Airport"
         },
         "type": "Feature"
        },
        {
         "geometry": {
          "coordinates": [
           78.2172,
           26.2855
          ],
          "type": "Point"
         },
         "properties": {
          "abbrev": "GWL",
          "comments": null,
          "featurecla": "Airport",
          "gps_code": "VIGR",
          "iata_code": "GWL",
          "location": "terminal",
          "name": "Gwalior",
          "name_ar": "مطار قاليور",
          "name_bn": "গোয়ালিয়র বিমানবন্দর",
          "name_de": null,
          "name_el": null,
          "name_en": "Gwalior Airport",
          "name_es": null,
          "name_fa": "فرودگاه گوالیور",
          "name_fr": "aéroport de Gwalior",
          "name_he": null,
          "name_hi": "ग्वालियर विमानक्षेत्र",
          "name_hu": null,
          "name_id": null,
          "name_it": null,
          "name_ja": "グワーリヤル空港",
          "name_ko": null,
          "name_nl": null,
          "name_pl": "Port lotniczy Gwalior",
          "name_pt": null,
          "name_ru": null,
          "name_sv": "Gwalior Airport",
          "name_tr": null,
          "name_uk": null,
          "name_ur": null,
          "name_vi": "Sân bay Gwalior",
          "name_zh": "辛迪亚航空站",
          "name_zht": "辛迪亞航空站",
          "natlscale": 8,
          "ne_id": 1159113863,
          "scalerank": 9,
          "type": "mid and military",
          "wdid_score": 4,
          "wikidataid": "Q2247561",
          "wikipedia": "http://en.wikipedia.org/wiki/Gwalior_Airport"
         },
         "type": "Feature"
        },
        {
         "geometry": {
          "coordinates": [
           42.9711,
           14.7553
          ],
          "type": "Point"
         },
         "properties": {
          "abbrev": "HOD",
          "comments": null,
          "featurecla": "Airport",
          "gps_code": "OYHD",
          "iata_code": "HOD",
          "location": "terminal",
          "name": "Hodeidah Int'l",
          "name_ar": "مطار الحديدة الدولي",
          "name_bn": null,
          "name_de": null,
          "name_el": null,
          "name_en": "Hodeida International Airport",
          "name_es": "Aeropuerto Internacional de Hodeida",
          "name_fa": "فرودگاه بینالمللی هودیدا",
          "name_fr": "HOD",
          "name_he": null,
          "name_hi": null,
          "name_hu": null,
          "name_id": "Bandar Udara Internasional Hodeida",
          "name_it": null,
          "name_ja": "フダイダ国際空港",
          "name_ko": null,
          "name_nl": null,
          "name_pl": "Port lotniczy Al-Hudajda",
          "name_pt": null,
          "name_ru": null,
          "name_sv": null,
          "name_tr": null,
          "name_uk": null,
          "name_ur": null,
          "name_vi": null,
          "name_zh": "荷台达国际机场",
          "name_zht": "荷台達國際機場",
          "natlscale": 8,
          "ne_id": 1159113883,
          "scalerank": 9,
          "type": "mid",
          "wdid_score": 4,
          "wikidataid": "Q2584014",
          "wikipedia": "http://en.wikipedia.org/wiki/Hodeida_International_Airport"
         },
         "type": "Feature"
        }
       ],
       "type": "FeatureCollection"
      },
      "text/html": [
       "<table class=\"dataframe\">\n",
       "<caption>A sf: 6 × 41</caption>\n",
       "<thead>\n",
       "\t<tr><th></th><th scope=col>scalerank</th><th scope=col>featurecla</th><th scope=col>type</th><th scope=col>name</th><th scope=col>abbrev</th><th scope=col>location</th><th scope=col>gps_code</th><th scope=col>iata_code</th><th scope=col>wikipedia</th><th scope=col>natlscale</th><th scope=col>geometry</th><th scope=col>⋯</th><th scope=col>name_vi</th><th scope=col>name_zh</th><th scope=col>wdid_score</th><th scope=col>ne_id</th><th scope=col>name_fa</th><th scope=col>name_he</th><th scope=col>name_uk</th><th scope=col>name_ur</th><th scope=col>name_zht</th><th scope=col>geometry</th></tr>\n",
       "\t<tr><th></th><th scope=col>&lt;int&gt;</th><th scope=col>&lt;chr&gt;</th><th scope=col>&lt;chr&gt;</th><th scope=col>&lt;chr&gt;</th><th scope=col>&lt;chr&gt;</th><th scope=col>&lt;chr&gt;</th><th scope=col>&lt;chr&gt;</th><th scope=col>&lt;chr&gt;</th><th scope=col>&lt;chr&gt;</th><th scope=col>&lt;dbl&gt;</th><th scope=col>⋯</th><th scope=col>&lt;chr&gt;</th><th scope=col>&lt;chr&gt;</th><th scope=col>&lt;int&gt;</th><th scope=col>&lt;dbl&gt;</th><th scope=col>&lt;chr&gt;</th><th scope=col>&lt;chr&gt;</th><th scope=col>&lt;chr&gt;</th><th scope=col>&lt;chr&gt;</th><th scope=col>&lt;chr&gt;</th><th scope=col>&lt;POINT [°]&gt;</th></tr>\n",
       "</thead>\n",
       "<tbody>\n",
       "\t<tr><th scope=row>1</th><td>9</td><td>Airport</td><td>small           </td><td>Sahnewal      </td><td>LUH</td><td>terminal</td><td>VILD</td><td>LUH</td><td>http://en.wikipedia.org/wiki/Sahnewal_Airport             </td><td>8</td><td>POINT (75.95707 30.85036)</td><td>⋯</td><td>NA                 </td><td>NA             </td><td>4</td><td>1159113785</td><td>فرودگاه سهنول           </td><td>NA</td><td>NA</td><td>NA</td><td>NA             </td><td>POINT (75.95707 30.85036)</td></tr>\n",
       "\t<tr><th scope=row>2</th><td>9</td><td>Airport</td><td>mid             </td><td>Solapur       </td><td>SSE</td><td>terminal</td><td>VASL</td><td>SSE</td><td>http://en.wikipedia.org/wiki/Solapur_Airport              </td><td>8</td><td>POINT (75.93306 17.62542)</td><td>⋯</td><td>NA                 </td><td>NA             </td><td>4</td><td>1159113803</td><td>فرودگاه سولاپور         </td><td>NA</td><td>NA</td><td>NA</td><td>NA             </td><td>POINT (75.93306 17.62542)</td></tr>\n",
       "\t<tr><th scope=row>3</th><td>9</td><td>Airport</td><td>mid             </td><td>Birsa Munda   </td><td>IXR</td><td>terminal</td><td>VERC</td><td>IXR</td><td>http://en.wikipedia.org/wiki/Birsa_Munda_Airport          </td><td>8</td><td>POINT (85.3236 23.31772)</td><td>⋯</td><td>Sân bay Birsa Munda</td><td>比尔萨·蒙达机场</td><td>4</td><td>1159113831</td><td>فرودگاه بیرسا موندا     </td><td>NA</td><td>NA</td><td>NA</td><td>比爾薩·蒙達機場</td><td>POINT (85.3236 23.31772)</td></tr>\n",
       "\t<tr><th scope=row>4</th><td>9</td><td>Airport</td><td>mid             </td><td>Ahwaz         </td><td>AWZ</td><td>terminal</td><td>OIAW</td><td>AWZ</td><td>http://en.wikipedia.org/wiki/Ahwaz_Airport                </td><td>8</td><td>POINT (48.74711 31.34316)</td><td>⋯</td><td>Sân bay Ahvaz      </td><td>阿瓦士机场     </td><td>4</td><td>1159113845</td><td>فرودگاه بین المللی اهواز</td><td>NA</td><td>NA</td><td>NA</td><td>阿瓦士機場     </td><td>POINT (48.74711 31.34316)</td></tr>\n",
       "\t<tr><th scope=row>5</th><td>9</td><td>Airport</td><td>mid and military</td><td>Gwalior       </td><td>GWL</td><td>terminal</td><td>VIGR</td><td>GWL</td><td>http://en.wikipedia.org/wiki/Gwalior_Airport              </td><td>8</td><td>POINT (78.21722 26.28549)</td><td>⋯</td><td>Sân bay Gwalior    </td><td>辛迪亚航空站   </td><td>4</td><td>1159113863</td><td>فرودگاه گوالیور         </td><td>NA</td><td>NA</td><td>NA</td><td>辛迪亞航空站   </td><td>POINT (78.21722 26.28549)</td></tr>\n",
       "\t<tr><th scope=row>6</th><td>9</td><td>Airport</td><td>mid             </td><td>Hodeidah Int'l</td><td>HOD</td><td>terminal</td><td>OYHD</td><td>HOD</td><td>http://en.wikipedia.org/wiki/Hodeida_International_Airport</td><td>8</td><td>POINT (42.9711 14.75525)</td><td>⋯</td><td>NA                 </td><td>荷台达国际机场 </td><td>4</td><td>1159113883</td><td>فرودگاه بینالمللی هودیدا</td><td>NA</td><td>NA</td><td>NA</td><td>荷台達國際機場 </td><td>POINT (42.9711 14.75525)</td></tr>\n",
       "</tbody>\n",
       "</table>\n"
      ],
      "text/latex": [
       "A sf: 6 × 41\n",
       "\\begin{tabular}{r|lllllllllllllllllllll}\n",
       "  & scalerank & featurecla & type & name & abbrev & location & gps\\_code & iata\\_code & wikipedia & natlscale & geometry & ⋯ & name\\_vi & name\\_zh & wdid\\_score & ne\\_id & name\\_fa & name\\_he & name\\_uk & name\\_ur & name\\_zht & geometry\\\\\n",
       "  & <int> & <chr> & <chr> & <chr> & <chr> & <chr> & <chr> & <chr> & <chr> & <dbl> & ⋯ & <chr> & <chr> & <int> & <dbl> & <chr> & <chr> & <chr> & <chr> & <chr> & <POINT {[}°{]}>\\\\\n",
       "\\hline\n",
       "\t1 & 9 & Airport & small            & Sahnewal       & LUH & terminal & VILD & LUH & http://en.wikipedia.org/wiki/Sahnewal\\_Airport              & 8 & POINT (75.95707 30.85036) & ⋯ & NA                  & NA              & 4 & 1159113785 & فرودگاه سهنول            & NA & NA & NA & NA              & POINT (75.95707 30.85036)\\\\\n",
       "\t2 & 9 & Airport & mid              & Solapur        & SSE & terminal & VASL & SSE & http://en.wikipedia.org/wiki/Solapur\\_Airport               & 8 & POINT (75.93306 17.62542) & ⋯ & NA                  & NA              & 4 & 1159113803 & فرودگاه سولاپور          & NA & NA & NA & NA              & POINT (75.93306 17.62542)\\\\\n",
       "\t3 & 9 & Airport & mid              & Birsa Munda    & IXR & terminal & VERC & IXR & http://en.wikipedia.org/wiki/Birsa\\_Munda\\_Airport           & 8 & POINT (85.3236 23.31772) & ⋯ & Sân bay Birsa Munda & 比尔萨·蒙达机场 & 4 & 1159113831 & فرودگاه بیرسا موندا      & NA & NA & NA & 比爾薩·蒙達機場 & POINT (85.3236 23.31772)\\\\\n",
       "\t4 & 9 & Airport & mid              & Ahwaz          & AWZ & terminal & OIAW & AWZ & http://en.wikipedia.org/wiki/Ahwaz\\_Airport                 & 8 & POINT (48.74711 31.34316) & ⋯ & Sân bay Ahvaz       & 阿瓦士机场      & 4 & 1159113845 & فرودگاه بین المللی اهواز & NA & NA & NA & 阿瓦士機場      & POINT (48.74711 31.34316)\\\\\n",
       "\t5 & 9 & Airport & mid and military & Gwalior        & GWL & terminal & VIGR & GWL & http://en.wikipedia.org/wiki/Gwalior\\_Airport               & 8 & POINT (78.21722 26.28549) & ⋯ & Sân bay Gwalior     & 辛迪亚航空站    & 4 & 1159113863 & فرودگاه گوالیور          & NA & NA & NA & 辛迪亞航空站    & POINT (78.21722 26.28549)\\\\\n",
       "\t6 & 9 & Airport & mid              & Hodeidah Int'l & HOD & terminal & OYHD & HOD & http://en.wikipedia.org/wiki/Hodeida\\_International\\_Airport & 8 & POINT (42.9711 14.75525) & ⋯ & NA                  & 荷台达国际机场  & 4 & 1159113883 & فرودگاه بینالمللی هودیدا & NA & NA & NA & 荷台達國際機場  & POINT (42.9711 14.75525)\\\\\n",
       "\\end{tabular}\n"
      ],
      "text/markdown": [
       "\n",
       "A sf: 6 × 41\n",
       "\n",
       "| <!--/--> | scalerank &lt;int&gt; | featurecla &lt;chr&gt; | type &lt;chr&gt; | name &lt;chr&gt; | abbrev &lt;chr&gt; | location &lt;chr&gt; | gps_code &lt;chr&gt; | iata_code &lt;chr&gt; | wikipedia &lt;chr&gt; | natlscale &lt;dbl&gt; | geometry ⋯ | ⋯ &lt;chr&gt; | name_vi &lt;chr&gt; | name_zh &lt;int&gt; | wdid_score &lt;dbl&gt; | ne_id &lt;chr&gt; | name_fa &lt;chr&gt; | name_he &lt;chr&gt; | name_uk &lt;chr&gt; | name_ur &lt;chr&gt; | name_zht &lt;POINT [°]&gt; | geometry &lt;int&gt; |\n",
       "|---|---|---|---|---|---|---|---|---|---|---|---|---|---|---|---|---|---|---|---|---|---|\n",
       "| 1 | 9 | Airport | small            | Sahnewal       | LUH | terminal | VILD | LUH | http://en.wikipedia.org/wiki/Sahnewal_Airport              | 8 | POINT (75.95707 30.85036) | ⋯ | NA                  | NA              | 4 | 1159113785 | فرودگاه سهنول            | NA | NA | NA | NA              | POINT (75.95707 30.85036) |\n",
       "| 2 | 9 | Airport | mid              | Solapur        | SSE | terminal | VASL | SSE | http://en.wikipedia.org/wiki/Solapur_Airport               | 8 | POINT (75.93306 17.62542) | ⋯ | NA                  | NA              | 4 | 1159113803 | فرودگاه سولاپور          | NA | NA | NA | NA              | POINT (75.93306 17.62542) |\n",
       "| 3 | 9 | Airport | mid              | Birsa Munda    | IXR | terminal | VERC | IXR | http://en.wikipedia.org/wiki/Birsa_Munda_Airport           | 8 | POINT (85.3236 23.31772) | ⋯ | Sân bay Birsa Munda | 比尔萨·蒙达机场 | 4 | 1159113831 | فرودگاه بیرسا موندا      | NA | NA | NA | 比爾薩·蒙達機場 | POINT (85.3236 23.31772) |\n",
       "| 4 | 9 | Airport | mid              | Ahwaz          | AWZ | terminal | OIAW | AWZ | http://en.wikipedia.org/wiki/Ahwaz_Airport                 | 8 | POINT (48.74711 31.34316) | ⋯ | Sân bay Ahvaz       | 阿瓦士机场      | 4 | 1159113845 | فرودگاه بین المللی اهواز | NA | NA | NA | 阿瓦士機場      | POINT (48.74711 31.34316) |\n",
       "| 5 | 9 | Airport | mid and military | Gwalior        | GWL | terminal | VIGR | GWL | http://en.wikipedia.org/wiki/Gwalior_Airport               | 8 | POINT (78.21722 26.28549) | ⋯ | Sân bay Gwalior     | 辛迪亚航空站    | 4 | 1159113863 | فرودگاه گوالیور          | NA | NA | NA | 辛迪亞航空站    | POINT (78.21722 26.28549) |\n",
       "| 6 | 9 | Airport | mid              | Hodeidah Int'l | HOD | terminal | OYHD | HOD | http://en.wikipedia.org/wiki/Hodeida_International_Airport | 8 | POINT (42.9711 14.75525) | ⋯ | NA                  | 荷台达国际机场  | 4 | 1159113883 | فرودگاه بینالمللی هودیدا | NA | NA | NA | 荷台達國際機場  | POINT (42.9711 14.75525) |\n",
       "\n"
      ],
      "text/plain": [
       "  scalerank featurecla type             name           abbrev location gps_code\n",
       "1 9         Airport    small            Sahnewal       LUH    terminal VILD    \n",
       "2 9         Airport    mid              Solapur        SSE    terminal VASL    \n",
       "3 9         Airport    mid              Birsa Munda    IXR    terminal VERC    \n",
       "4 9         Airport    mid              Ahwaz          AWZ    terminal OIAW    \n",
       "5 9         Airport    mid and military Gwalior        GWL    terminal VIGR    \n",
       "6 9         Airport    mid              Hodeidah Int'l HOD    terminal OYHD    \n",
       "  iata_code wikipedia                                                 \n",
       "1 LUH       http://en.wikipedia.org/wiki/Sahnewal_Airport             \n",
       "2 SSE       http://en.wikipedia.org/wiki/Solapur_Airport              \n",
       "3 IXR       http://en.wikipedia.org/wiki/Birsa_Munda_Airport          \n",
       "4 AWZ       http://en.wikipedia.org/wiki/Ahwaz_Airport                \n",
       "5 GWL       http://en.wikipedia.org/wiki/Gwalior_Airport              \n",
       "6 HOD       http://en.wikipedia.org/wiki/Hodeida_International_Airport\n",
       "  natlscale geometry                  ⋯ name_vi             name_zh        \n",
       "1 8         POINT (75.95707 30.85036) ⋯ NA                  NA             \n",
       "2 8         POINT (75.93306 17.62542) ⋯ NA                  NA             \n",
       "3 8         POINT (85.3236 23.31772)  ⋯ Sân bay Birsa Munda 比尔萨·蒙达机场\n",
       "4 8         POINT (48.74711 31.34316) ⋯ Sân bay Ahvaz       阿瓦士机场     \n",
       "5 8         POINT (78.21722 26.28549) ⋯ Sân bay Gwalior     辛迪亚航空站   \n",
       "6 8         POINT (42.9711 14.75525)  ⋯ NA                  荷台达国际机场 \n",
       "  wdid_score ne_id      name_fa                  name_he name_uk name_ur\n",
       "1 4          1159113785 فرودگاه سهنول            NA      NA      NA     \n",
       "2 4          1159113803 فرودگاه سولاپور          NA      NA      NA     \n",
       "3 4          1159113831 فرودگاه بیرسا موندا      NA      NA      NA     \n",
       "4 4          1159113845 فرودگاه بین المللی اهواز NA      NA      NA     \n",
       "5 4          1159113863 فرودگاه گوالیور          NA      NA      NA     \n",
       "6 4          1159113883 فرودگاه بینالمللی هودیدا NA      NA      NA     \n",
       "  name_zht        geometry                 \n",
       "1 NA              POINT (75.95707 30.85036)\n",
       "2 NA              POINT (75.93306 17.62542)\n",
       "3 比爾薩·蒙達機場 POINT (85.3236 23.31772) \n",
       "4 阿瓦士機場      POINT (48.74711 31.34316)\n",
       "5 辛迪亞航空站    POINT (78.21722 26.28549)\n",
       "6 荷台達國際機場  POINT (42.9711 14.75525) "
      ]
     },
     "metadata": {},
     "output_type": "display_data"
    }
   ],
   "source": [
    "head(airports)"
   ]
  },
  {
   "cell_type": "markdown",
   "id": "7749d5be-c38d-44c8-968c-d77159897ee4",
   "metadata": {},
   "source": [
    "We can see that the file contains lots of useful information on each airport such as the airport's name (in multiple languages), [IATA airport code](https://www.iata.org/en/publications/directories/code-search), location type (e.g. terminal, ramp, runway, and others), and a link to the airport's Wikipedia page.\n",
    "\n",
    "Like we did with the United States boundary file, let's quickly plot the *airports* object by passing it to the base R *plot* funtion using the *st_geometry* function from the ***sf*** package."
   ]
  },
  {
   "cell_type": "code",
   "execution_count": 44,
   "id": "5a52554d-f789-4d8e-8aa7-64165a3e7d65",
   "metadata": {},
   "outputs": [
    {
     "data": {
      "image/png": "[encoded data removed]",
      "text/plain": [
       "plot without title"
      ]
     },
     "metadata": {
      "image/png": {
       "height": 420,
       "width": 420
      }
     },
     "output_type": "display_data"
    }
   ],
   "source": [
    "plot(st_geometry(airports))"
   ]
  },
  {
   "cell_type": "markdown",
   "id": "11f64a8f-451e-4ec1-8766-bfa8ca2540ad",
   "metadata": {},
   "source": [
    "The simple plot gives us a high-level view of our data.  The airports are represented globally using point markers.\n",
    "\n",
    "Finally, let's export the *airports* object to our local machine the same way we did with the *usa_boundary* object.  Again, before we do this step, we will remove a memory-intensive feature column which would impede the export process."
   ]
  },
  {
   "cell_type": "code",
   "execution_count": 47,
   "id": "0d26a912-3675-4f68-bbc2-e874ca546026",
   "metadata": {},
   "outputs": [
    {
     "name": "stdout",
     "output_type": "stream",
     "text": [
      "Deleting source `airports.shp' using driver `ESRI Shapefile'\n",
      "Writing layer `airports' to data source `airports.shp' using driver `ESRI Shapefile'\n",
      "Writing 893 features with 39 fields and geometry type Point.\n"
     ]
    },
    {
     "name": "stderr",
     "output_type": "stream",
     "text": [
      "Warning message in CPL_write_ogr(obj, dsn, layer, driver, as.character(dataset_options), :\n",
      "\"GDAL Message 1: One or several characters couldn't be converted correctly from UTF-8 to ISO-8859-1.  This warning will not be emitted anymore.\"\n"
     ]
    }
   ],
   "source": [
    "# simplify the dataset by removing memory-intensive columns\n",
    "airports <- airports[, !names(airports) %in% c(\"ne_id\")]\n",
    "\n",
    "st_write(airports, \"airports.shp\", driver = \"ESRI Shapefile\", delete_dsn = T)"
   ]
  },
  {
   "cell_type": "markdown",
   "id": "37365b98-71c2-4608-8238-c5a59e31d737",
   "metadata": {},
   "source": [
    "### 3c. Global Time Zones\n",
    "\n",
    "For a final exercise, we will extract and download the global time zone boundaries from the Natural Earth repository.\n",
    "\n",
    "Taking a look at the lists of available data we identified in part 2, we can see that *time_zones* data is only available at the 1:10 (large) scale."
   ]
  },
  {
   "cell_type": "code",
   "execution_count": 49,
   "id": "16705301-fe72-4eee-89aa-dd263c7887b1",
   "metadata": {},
   "outputs": [
    {
     "name": "stdout",
     "output_type": "stream",
     "text": [
      "Reading layer `ne_10m_time_zones' from data source \n",
      "  `C:\\Users\\vavra\\AppData\\Local\\Temp\\RtmpqY97wX\\ne_10m_time_zones.shp' \n",
      "  using driver `ESRI Shapefile'\n",
      "Simple feature collection with 120 features and 15 fields\n",
      "Geometry type: MULTIPOLYGON\n",
      "Dimension:     XY\n",
      "Bounding box:  xmin: -180 ymin: -90 xmax: 180 ymax: 90.00021\n",
      "Geodetic CRS:  WGS 84\n"
     ]
    },
    {
     "data": {
      "application/geo+json": {
       "features": [
        {
         "geometry": {
          "coordinates": [
           [
            [
             [
              -142.4651,
              74.9001
             ],
             [
              -142.4631,
              74.4463
             ],
             [
              -142.4611,
              73.9924
             ],
             [
              -142.4592,
              73.5385
             ],
             [
              -142.4572,
              73.0846
             ],
             [
              -142.4552,
              72.6307
             ],
             [
              -142.4533,
              72.1768
             ],
             [
              -142.4513,
              71.7229
             ],
             [
              -142.4494,
              71.269
             ],
             [
              -142.4474,
              70.8152
             ],
             [
              -142.4454,
              70.3613
             ],
             [
              -142.4405,
              70.2273
             ],
             [
              -142.488,
              70.2384
             ],
             [
              -142.6769,
              70.2705
             ],
             [
              -143.1592,
              70.3249
             ],
             [
              -143.5411,
              70.3334
             ],
             [
              -143.6786,
              70.3298
             ],
             [
              -143.9229,
              70.3051
             ],
             [
              -144.2419,
              70.2844
             ],
             [
              -144.4353,
              70.2533
             ],
             [
              -144.5964,
              70.2387
             ],
             [
              -144.7558,
              70.2099
             ],
             [
              -144.8145,
              70.2056
             ],
             [
              -144.9719,
              70.2341
             ],
             [
              -145.1166,
              70.2489
             ],
             [
              -145.3333,
              70.2936
             ],
             [
              -145.5389,
              70.3478
             ],
             [
              -145.7497,
              70.3771
             ],
             [
              -145.8526,
              70.3819
             ],
             [
              -146.0094,
              70.381
             ],
             [
              -146.1855,
              70.3926
             ],
             [
              -146.4777,
              70.3964
             ],
             [
              -146.7699,
              70.4002
             ],
             [
              -146.9038,
              70.3992
             ],
             [
              -147.0733,
              70.3901
             ],
             [
              -147.1757,
              70.3938
             ],
             [
              -147.2864,
              70.4116
             ],
             [
              -147.4222,
              70.4592
             ],
             [
              -147.5484,
              70.489
             ],
             [
              -147.7476,
              70.5153
             ],
             [
              -147.9394,
              70.5506
             ],
             [
              -148.178,
              70.5635
             ],
             [
              -148.2556,
              70.5721
             ],
             [
              -148.3191,
              70.5883
             ],
             [
              -148.4693,
              70.6455
             ],
             [
              -148.5491,
              70.6679
             ],
             [
              -148.9782,
              70.7409
             ],
             [
              -149.1194,
              70.756
             ],
             [
              -149.2436,
              70.7594
             ],
             [
              -149.3712,
              70.7559
             ],
             [
              -149.6687,
              70.7251
             ],
             [
              -149.94,
              70.7174
             ],
             [
              -150.1858,
              70.6963
             ],
             [
              -150.5214,
              70.7158
             ],
             [
              -150.8104,
              70.7118
             ],
             [
              -150.984,
              70.6991
             ],
             [
              -151.1607,
              70.6701
             ],
             [
              -151.1964,
              70.6684
             ],
             [
              -151.3902,
              70.7317
             ],
             [
              -151.4825,
              70.7507
             ],
             [
              -151.5957,
              70.7663
             ],
             [
              -151.6029,
              70.8526
             ],
             [
              -151.6694,
              70.9172
             ],
             [
              -151.8182,
              70.9845
             ],
             [
              -151.9167,
              71.0139
             ],
             [
              -152.0218,
              71.0365
             ],
             [
              -152.2377,
              71.0693
             ],
             [
              -152.3901,
              71.0863
             ],
             [
              -152.7503,
              71.1034
             ],
             [
              -153.1834,
              71.1345
             ],
             [
              -153.2992,
              71.1359
             ],
             [
              -153.4159,
              71.1314
             ],
             [
              -153.6891,
              71.0998
             ],
             [
              -154.0231,
              71.1014
             ],
             [
              -154.1358,
              71.1582
             ],
             [
              -154.3629,
              71.2416
             ],
             [
              -154.4445,
              71.2635
             ],
             [
              -154.5988,
              71.2906
             ],
             [
              -154.7375,
              71.3277
             ],
             [
              -154.859,
              71.3464
             ],
             [
              -154.9903,
              71.357
             ],
             [
              -155.1101,
              71.3594
             ],
             [
              -155.2704,
              71.3542
             ],
             [
              -155.3877,
              71.3734
             ],
             [
              -155.6819,
              71.4087
             ],
             [
              -155.7444,
              71.4224
             ],
             [
              -155.7938,
              71.4684
             ],
             [
              -155.8859,
              71.5158
             ],
             [
              -155.9701,
              71.5472
             ],
             [
              -156.0686,
              71.5737
             ],
             [
              -156.1924,
              71.5965
             ],
             [
              -156.3134,
              71.6101
             ],
             [
              -156.4405,
              71.6162
             ],
             [
              -156.5706,
              71.6141
             ],
             [
              -156.7079,
              71.6014
             ],
             [
              -156.8584,
              71.5747
             ],
             [
              -157.0164,
              71.5338
             ],
             [
              -157.2076,
              71.4723
             ],
             [
              -157.3509,
              71.4183
             ],
             [
              -157.4802,
              71.3599
             ],
             [
              -157.526,
              71.3309
             ],
             [
              -157.5256,
              71.3783
             ],
             [
              -157.5256,
              71.6278
             ],
             [
              -157.5256,
              72.0952
             ],
             [
              -157.5256,
              72.5627
             ],
             [
              -157.5256,
              73.0302
             ],
             [
              -157.5256,
              73.4976
             ],
             [
              -157.5256,
              73.9651
             ],
             [
              -157.5256,
              74.4325
             ],
             [
              -157.5256,
              74.9
             ],
             [
              -157.5256,
              75.3545
             ],
             [
              -157.5256,
              75.8091
             ],
             [
              -157.5256,
              76.2636
             ],
             [
              -157.5256,
              76.7182
             ],
             [
              -157.5256,
              77.1727
             ],
             [
              -157.5256,
              77.6273
             ],
             [
              -157.5256,
              78.0818
             ],
             [
              -157.5256,
              78.5364
             ],
             [
              -157.5256,
              78.9909
             ],
             [
              -157.5256,
              79.4455
             ],
             [
              -157.5256,
              79.9
             ],
             [
              -157.5256,
              80.3545
             ],
             [
              -157.5256,
              80.8091
             ],
             [
              -157.5256,
              81.2636
             ],
             [
              -157.5256,
              81.7182
             ],
             [
              -157.5256,
              82.1727
             ],
             [
              -157.5256,
              82.6273
             ],
             [
              -157.5256,
              83.0818
             ],
             [
              -157.5256,
              83.5364
             ],
             [
              -157.5256,
              83.9909
             ],
             [
              -157.5256,
              84.4455
             ],
             [
              -157.5256,
              84.9
             ],
             [
              -157.5256,
              85.3636
             ],
             [
              -157.5256,
              85.8273
             ],
             [
              -157.5256,
              86.2909
             ],
             [
              -157.5256,
              86.7545
             ],
             [
              -157.5256,
              87.2182
             ],
             [
              -157.5256,
              87.6818
             ],
             [
              -157.5256,
              88.1455
             ],
             [
              -157.5256,
              88.6091
             ],
             [
              -157.5256,
              89.0727
             ],
             [
              -157.5256,
              89.5364
             ],
             [
              -157.5256,
              90
             ],
             [
              -157.0846,
              90
             ],
             [
              -156.6436,
              90
             ],
             [
              -156.2025,
              90
             ],
             [
              -155.7615,
              90
             ],
             [
              -155.3204,
              90
             ],
             [
              -154.8794,
              90
             ],
             [
              -154.4384,
              90
             ],
             [
              -153.9973,
              90
             ],
             [
              -153.5563,
              90
             ],
             [
              -153.1153,
              90
             ],
             [
              -152.6742,
              90
             ],
             [
              -152.2332,
              90
             ],
             [
              -151.7922,
              90
             ],
             [
              -151.3511,
              90
             ],
             [
              -150.9101,
              90
             ],
             [
              -150.4691,
              90
             ],
             [
              -150.028,
              90
             ],
             [
              -149.587,
              90
             ],
             [
              -149.146,
              90
             ],
             [
              -148.7049,
              90
             ],
             [
              -148.2639,
              90
             ],
             [
              -147.8229,
              90
             ],
             [
              -147.3818,
              90
             ],
             [
              -146.9408,
              90
             ],
             [
              -146.4998,
              90
             ],
             [
              -146.0587,
              90
             ],
             [
              -145.6177,
              90
             ],
             [
              -145.1766,
              90
             ],
             [
              -144.7356,
              90
             ],
             [
              -144.2946,
              90
             ],
             [
              -143.8535,
              90
             ],
             [
              -143.4125,
              90
             ],
             [
              -142.9715,
              90
             ],
             [
              -142.5304,
              90
             ],
             [
              -142.5284,
              89.5364
             ],
             [
              -142.5264,
              89.0727
             ],
             [
              -142.5244,
              88.6091
             ],
             [
              -142.5224,
              88.1455
             ],
             [
              -142.5204,
              87.6818
             ],
             [
              -142.5184,
              87.2182
             ],
             [
              -142.5164,
              86.7546
             ],
             [
              -142.5144,
              86.2909
             ],
             [
              -142.5124,
              85.8273
             ],
             [
              -142.5104,
              85.3637
             ],
             [
              -142.5084,
              84.9
             ],
             [
              -142.5064,
              84.4455
             ],
             [
              -142.5044,
              83.991
             ],
             [
              -142.5025,
              83.5364
             ],
             [
              -142.5005,
              83.0819
             ],
             [
              -142.4985,
              82.6273
             ],
             [
              -142.4966,
              82.1728
             ],
             [
              -142.4946,
              81.7183
             ],
             [
              -142.4926,
              81.2637
             ],
             [
              -142.4907,
              80.8092
             ],
             [
              -142.4887,
              80.3546
             ],
             [
              -142.4867,
              79.9001
             ],
             [
              -142.4848,
              79.4456
             ],
             [
              -142.4828,
              78.991
             ],
             [
              -142.4808,
              78.5365
             ],
             [
              -142.4789,
              78.0819
             ],
             [
              -142.4769,
              77.6274
             ],
             [
              -142.4749,
              77.1728
             ],
             [
              -142.4729,
              76.7183
             ],
             [
              -142.471,
              76.2638
             ],
             [
              -142.469,
              75.8092
             ],
             [
              -142.467,
              75.3547
             ],
             [
              -142.4651,
              74.9001
             ]
            ]
           ]
          ],
          "type": "MultiPolygon"
         },
         "properties": {
          "dst_places": null,
          "featurecla": "Timezone",
          "iso_8601": "2012-05-30T18:33:50-10:00",
          "map_color6": 4,
          "map_color8": 4,
          "name": "-10",
          "note": null,
          "objectid": 2,
          "places": "Arctic Ocean",
          "scalerank": 6,
          "time_zone": "UTC-10:00",
          "tz_name1st": null,
          "tz_namesum": 0,
          "utc_format": "UTC-10:00",
          "zone": -10
         },
         "type": "Feature"
        },
        {
         "geometry": {
          "coordinates": [
           [
            [
             [
              179.9997,
              59.5019
             ],
             [
              180,
              59.2988
             ],
             [
              180,
              58.8096
             ],
             [
              180,
              58.3204
             ],
             [
              180,
              57.8312
             ],
             [
              180,
              57.3419
             ],
             [
              180,
              56.8527
             ],
             [
              180,
              56.3635
             ],
             [
              180,
              55.8743
             ],
             [
              180,
              55.3851
             ],
             [
              180,
              54.8958
             ],
             [
              180,
              54.4066
             ],
             [
              180,
              53.9174
             ],
             [
              180,
              53.4282
             ],
             [
              180,
              52.9389
             ],
             [
              180,
              52.4497
             ],
             [
              180,
              51.9605
             ],
             [
              180,
              51.4713
             ],
             [
              180,
              50.9821
             ],
             [
              180,
              50.4928
             ],
             [
              180,
              50.0036
             ],
             [
              180,
              49.6029
             ],
             [
              180,
              49.2022
             ],
             [
              180,
              48.8014
             ],
             [
              180,
              48.4007
             ],
             [
              180,
              48
             ],
             [
              179.555,
              48.2219
             ],
             [
              179.1101,
              48.4438
             ],
             [
              178.6532,
              48.6961
             ],
             [
              178.2162,
              48.9205
             ],
             [
              177.7714,
              49.148
             ],
             [
              177.3339,
              49.371
             ],
             [
              176.9104,
              49.5862
             ],
             [
              176.4794,
              49.8044
             ],
             [
              175.9968,
              50.0479
             ],
             [
              175.5871,
              50.254
             ],
             [
              175.1479,
              50.4742
             ],
             [
              174.6937,
              50.7011
             ],
             [
              174.2611,
              50.9165
             ],
             [
              173.8138,
              51.1386
             ],
             [
              173.3544,
              51.3658
             ],
             [
              172.9671,
              51.5572
             ],
             [
              172.5213,
              51.7762
             ],
             [
              172.0628,
              52.0007
             ],
             [
              171.7345,
              52.1613
             ],
             [
              171.3394,
              52.3537
             ],
             [
              170.7999,
              52.6151
             ],
             [
              170.4874,
              52.7657
             ],
             [
              169.9997,
              52.9999
             ],
             [
              170.274,
              53.192
             ],
             [
              170.5474,
              53.3825
             ],
             [
              170.8197,
              53.5717
             ],
             [
              171.0911,
              53.7594
             ],
             [
              171.3616,
              53.9456
             ],
             [
              171.6311,
              54.1304
             ],
             [
              171.8997,
              54.3136
             ],
             [
              172.167,
              54.4955
             ],
             [
              172.4334,
              54.6759
             ],
             [
              172.8272,
              54.9411
             ],
             [
              173.2262,
              55.2083
             ],
             [
              173.4881,
              55.3829
             ],
             [
              173.749,
              55.556
             ],
             [
              174.0087,
              55.7276
             ],
             [
              174.2671,
              55.8978
             ],
             [
              174.5244,
              56.0664
             ],
             [
              174.9285,
              56.33
             ],
             [
              175.2889,
              56.5638
             ],
             [
              175.5908,
              56.7583
             ],
             [
              175.7921,
              56.8879
             ],
             [
              176.0568,
              57.0572
             ],
             [
              176.29,
              57.2063
             ],
             [
              176.5014,
              57.3404
             ],
             [
              176.7824,
              57.5187
             ],
             [
              177.0376,
              57.6794
             ],
             [
              177.2693,
              57.8253
             ],
             [
              177.5429,
              57.9963
             ],
             [
              177.7505,
              58.126
             ],
             [
              178.0306,
              58.2998
             ],
             [
              178.2256,
              58.4207
             ],
             [
              178.5014,
              58.5906
             ],
             [
              178.938,
              58.8582
             ],
             [
              179.4136,
              59.1479
             ],
             [
              179.7279,
              59.338
             ],
             [
              179.9997,
              59.5019
             ]
            ]
           ]
          ],
          "type": "MultiPolygon"
         },
         "properties": {
          "dst_places": "United States (Aleutian Islands)",
          "featurecla": "Timezone",
          "iso_8601": "2012-05-30T18:33:50-10:00",
          "map_color6": 4,
          "map_color8": 4,
          "name": "-10",
          "note": null,
          "objectid": 2,
          "places": "United States (Aleutian Islands)",
          "scalerank": 6,
          "time_zone": "UTC-10:00",
          "tz_name1st": null,
          "tz_namesum": 0,
          "utc_format": "UTC-10:00",
          "zone": -10
         },
         "type": "Feature"
        },
        {
         "geometry": {
          "coordinates": [
           [
            [
             [
              -157.9421,
              71.1217
             ],
             [
              -158.1742,
              71.0508
             ],
             [
              -158.2662,
              71.0443
             ],
             [
              -158.519,
              71.0568
             ],
             [
              -158.751,
              71.0462
             ],
             [
              -158.9649,
              71.08
             ],
             [
              -159.15,
              71.0883
             ],
             [
              -159.3651,
              71.0767
             ],
             [
              -159.6672,
              71.0398
             ],
             [
              -159.9113,
              70.9982
             ],
             [
              -160.092,
              70.9531
             ],
             [
              -160.168,
              70.9255
             ],
             [
              -160.3238,
              70.8536
             ],
             [
              -160.578,
              70.7668
             ],
             [
              -160.8031,
              70.6617
             ],
             [
              -161.1135,
              70.5786
             ],
             [
              -161.2855,
              70.5209
             ],
             [
              -161.3496,
              70.518
             ],
             [
              -161.8301,
              70.5552
             ],
             [
              -161.9413,
              70.5559
             ],
             [
              -162.0412,
              70.5498
             ],
             [
              -162.2192,
              70.5197
             ],
             [
              -162.4654,
              70.4486
             ],
             [
              -162.7624,
              70.3754
             ],
             [
              -162.8974,
              70.3263
             ],
             [
              -162.9997,
              70.2759
             ],
             [
              -163.2346,
              70.1122
             ],
             [
              -163.5108,
              69.9553
             ],
             [
              -163.5851,
              69.8991
             ],
             [
              -163.7496,
              69.6848
             ],
             [
              -163.762,
              69.6281
             ],
             [
              -163.7571,
              69.4799
             ],
             [
              -163.7764,
              69.4356
             ],
             [
              -163.8161,
              69.3953
             ],
             [
              -164.0656,
              69.2538
             ],
             [
              -164.3762,
              69.1515
             ],
             [
              -164.4988,
              69.1281
             ],
             [
              -164.8796,
              69.114
             ],
             [
              -165.1939,
              69.0798
             ],
             [
              -165.3701,
              69.0776
             ],
             [
              -165.5844,
              69.0671
             ],
             [
              -166.051,
              69.0927
             ],
             [
              -166.3396,
              69.0825
             ],
             [
              -166.473,
              69.0657
             ],
             [
              -166.5904,
              69.0378
             ],
             [
              -166.6808,
              69.0018
             ],
             [
              -166.7504,
              68.9558
             ],
             [
              -166.7779,
              68.9104
             ],
             [
              -167.2223,
              68.7283
             ],
             [
              -167.6667,
              68.5462
             ],
             [
              -168.1111,
              68.3642
             ],
             [
              -168.5556,
              68.1821
             ],
             [
              -169,
              68
             ],
             [
              -169.3899,
              68.2481
             ],
             [
              -169.6985,
              68.5162
             ],
             [
              -170.1304,
              68.8373
             ],
             [
              -170.5365,
              69.1322
             ],
             [
              -170.8897,
              69.3839
             ],
             [
              -171.3379,
              69.6978
             ],
             [
              -171.714,
              69.9568
             ],
             [
              -172.1081,
              70.2243
             ],
             [
              -172.5085,
              70.4921
             ],
             [
              -172.509,
              70.6997
             ],
             [
              -172.509,
              71.1664
             ],
             [
              -172.509,
              71.6331
             ],
             [
              -172.509,
              72.0998
             ],
             [
              -172.509,
              72.5665
             ],
             [
              -172.509,
              73.0332
             ],
             [
              -172.509,
              73.4999
             ],
             [
              -172.509,
              73.9666
             ],
             [
              -172.509,
              74.4333
             ],
             [
              -172.509,
              74.9
             ],
             [
              -172.509,
              75.3545
             ],
             [
              -172.509,
              75.8091
             ],
             [
              -172.509,
              76.2636
             ],
             [
              -172.509,
              76.7182
             ],
             [
              -172.509,
              77.1727
             ],
             [
              -172.509,
              77.6273
             ],
             [
              -172.509,
              78.0818
             ],
             [
              -172.509,
              78.5364
             ],
             [
              -172.509,
              78.9909
             ],
             [
              -172.509,
              79.4455
             ],
             [
              -172.509,
              79.9
             ],
             [
              -172.509,
              80.3545
             ],
             [
              -172.509,
              80.8091
             ],
             [
              -172.509,
              81.2636
             ],
             [
              -172.509,
              81.7182
             ],
             [
              -172.509,
              82.1727
             ],
             [
              -172.509,
              82.6273
             ],
             [
              -172.509,
              83.0818
             ],
             [
              -172.509,
              83.5364
             ],
             [
              -172.509,
              83.9909
             ],
             [
              -172.509,
              84.4455
             ],
             [
              -172.509,
              84.9
             ],
             [
              -172.509,
              85.3636
             ],
             [
              -172.509,
              85.8273
             ],
             [
              -172.509,
              86.2909
             ],
             [
              -172.509,
              86.7545
             ],
             [
              -172.509,
              87.2182
             ],
             [
              -172.509,
              87.6818
             ],
             [
              -172.509,
              88.1455
             ],
             [
              -172.509,
              88.6091
             ],
             [
              -172.509,
              89.0727
             ],
             [
              -172.509,
              89.5364
             ],
             [
              -172.509,
              90
             ],
             [
              -172.0683,
              90
             ],
             [
              -171.6277,
              90
             ],
             [
              -171.187,
              90
             ],
             [
              -170.7463,
              90
             ],
             [
              -170.3056,
              90
             ],
             [
              -169.8649,
              90
             ],
             [
              -169.4242,
              90
             ],
             [
              -168.9835,
              90
             ],
             [
              -168.5428,
              90
             ],
             [
              -168.1021,
              90
             ],
             [
              -167.6615,
              90
             ],
             [
              -167.2208,
              90
             ],
             [
              -166.7801,
              90
             ],
             [
              -166.3394,
              90
             ],
             [
              -165.8987,
              90
             ],
             [
              -165.458,
              90
             ],
             [
              -165.0173,
              90
             ],
             [
              -164.5766,
              90
             ],
             [
              -164.1359,
              90
             ],
             [
              -163.6953,
              90
             ],
             [
              -163.2546,
              90
             ],
             [
              -162.8139,
              90
             ],
             [
              -162.3732,
              90
             ],
             [
              -161.9325,
              90
             ],
             [
              -161.4918,
              90
             ],
             [
              -161.0511,
              90
             ],
             [
              -160.6104,
              90
             ],
             [
              -160.1698,
              90
             ],
             [
              -159.7291,
              90
             ],
             [
              -159.2884,
              90
             ],
             [
              -158.8477,
              90
             ],
             [
              -158.407,
              90
             ],
             [
              -157.9663,
              90
             ],
             [
              -157.5256,
              90
             ],
             [
              -157.5256,
              89.5364
             ],
             [
              -157.5256,
              89.0727
             ],
             [
              -157.5256,
              88.6091
             ],
             [
              -157.5256,
              88.1455
             ],
             [
              -157.5256,
              87.6818
             ],
             [
              -157.5256,
              87.2182
             ],
             [
              -157.5256,
              86.7545
             ],
             [
              -157.5256,
              86.2909
             ],
             [
              -157.5256,
              85.8273
             ],
             [
              -157.5256,
              85.3636
             ],
             [
              -157.5256,
              84.9
             ],
             [
              -157.5256,
              84.4455
             ],
             [
              -157.5256,
              83.9909
             ],
             [
              -157.5256,
              83.5364
             ],
             [
              -157.5256,
              83.0818
             ],
             [
              -157.5256,
              82.6273
             ],
             [
              -157.5256,
              82.1727
             ],
             [
              -157.5256,
              81.7182
             ],
             [
              -157.5256,
              81.2636
             ],
             [
              -157.5256,
              80.8091
             ],
             [
              -157.5256,
              80.3545
             ],
             [
              -157.5256,
              79.9
             ],
             [
              -157.5256,
              79.4455
             ],
             [
              -157.5256,
              78.9909
             ],
             [
              -157.5256,
              78.5364
             ],
             [
              -157.5256,
              78.0818
             ],
             [
              -157.5256,
              77.6273
             ],
             [
              -157.5256,
              77.1727
             ],
             [
              -157.5256,
              76.7182
             ],
             [
              -157.5256,
              76.2636
             ],
             [
              -157.5256,
              75.8091
             ],
             [
              -157.5256,
              75.3545
             ],
             [
              -157.5256,
              74.9
             ],
             [
              -157.5259,
              74.4537
             ],
             [
              -157.5261,
              74.0075
             ],
             [
              -157.5263,
              73.5612
             ],
             [
              -157.5266,
              73.115
             ],
             [
              -157.5268,
              72.6687
             ],
             [
              -157.527,
              72.2224
             ],
             [
              -157.5273,
              71.7762
             ],
             [
              -157.5275,
              71.3299
             ],
             [
              -157.6824,
              71.2319
             ],
             [
              -157.7754,
              71.1849
             ],
             [
              -157.9421,
              71.1217
             ]
            ]
           ]
          ],
          "type": "MultiPolygon"
         },
         "properties": {
          "dst_places": null,
          "featurecla": "Timezone",
          "iso_8601": "2012-05-30T17:33:50-11:00",
          "map_color6": 5,
          "map_color8": 3,
          "name": "-11",
          "note": null,
          "objectid": 1,
          "places": "Arctic Ocean",
          "scalerank": 6,
          "time_zone": "UTC-11:00",
          "tz_name1st": null,
          "tz_namesum": 0,
          "utc_format": "UTC-11:00",
          "zone": -11
         },
         "type": "Feature"
        },
        {
         "geometry": {
          "coordinates": [
           [
            [
             [
              -172.483,
              15.0205
             ],
             [
              -172.483,
              15
             ],
             [
              -172.0162,
              15
             ],
             [
              -171.5493,
              15
             ],
             [
              -171.0825,
              15
             ],
             [
              -170.6157,
              15
             ],
             [
              -170.1488,
              15
             ],
             [
              -169.682,
              15
             ],
             [
              -169.1953,
              15
             ],
             [
              -168.7085,
              15
             ],
             [
              -168.2218,
              15
             ],
             [
              -167.735,
              15
             ],
             [
              -167.2483,
              15
             ],
             [
              -166.7615,
              15
             ],
             [
              -166.2748,
              15
             ],
             [
              -165.7881,
              15
             ],
             [
              -165.3013,
              15
             ],
             [
              -164.8146,
              15
             ],
             [
              -164.3278,
              15
             ],
             [
              -163.8411,
              15
             ],
             [
              -163.3544,
              15
             ],
             [
              -162.8676,
              15
             ],
             [
              -162.3809,
              15
             ],
             [
              -161.8941,
              15
             ],
             [
              -161.4074,
              15
             ],
             [
              -160.9206,
              15
             ],
             [
              -160.4339,
              15
             ],
             [
              -159.9472,
              15
             ],
             [
              -159.4604,
              15
             ],
             [
              -158.9737,
              15
             ],
             [
              -158.4869,
              15
             ],
             [
              -158.0002,
              15
             ],
             [
              -158.0002,
              14.9991
             ],
             [
              -157.5176,
              14.9991
             ],
             [
              -157.5175,
              14.4991
             ],
             [
              -157.5175,
              13.9992
             ],
             [
              -157.5174,
              13.4992
             ],
             [
              -157.5174,
              12.9993
             ],
             [
              -157.5173,
              12.4993
             ],
             [
              -157.5173,
              11.9994
             ],
             [
              -157.5172,
              11.4994
             ],
             [
              -157.5172,
              10.9995
             ],
             [
              -157.5171,
              10.4995
             ],
             [
              -157.5171,
              9.9995
             ],
             [
              -157.517,
              9.4996
             ],
             [
              -157.5169,
              8.9996
             ],
             [
              -157.5169,
              8.4997
             ],
             [
              -157.5168,
              7.9997
             ],
             [
              -157.5168,
              7.4998
             ],
             [
              -157.5167,
              6.9998
             ],
             [
              -157.5167,
              6.4999
             ],
             [
              -157.5166,
              5.9999
             ],
             [
              -157.5166,
              5.5
             ],
             [
              -157.5147,
              4.9373
             ],
             [
              -158.0291,
              4.9373
             ],
             [
              -158.5023,
              4.9373
             ],
             [
              -159.0167,
              4.9373
             ],
             [
              -159.5311,
              4.9373
             ],
             [
              -160.0044,
              4.9373
             ],
             [
              -160.6398,
              4.9373
             ],
             [
              -160.6398,
              4.5346
             ],
             [
              -160.6398,
              4.0613
             ],
             [
              -160.6398,
              3.5058
             ],
             [
              -160.6398,
              3.012
             ],
             [
              -160.6398,
              2.5181
             ],
             [
              -160.6398,
              2.0037
             ],
             [
              -160.6398,
              1.4982
             ],
             [
              -160.2484,
              1.1844
             ],
             [
              -159.9124,
              0.9151
             ],
             [
              -159.569,
              0.6397
             ],
             [
              -159.2405,
              0.3764
             ],
             [
              -158.9572,
              0.1492
             ],
             [
              -158.4866,
              -0.2281
             ],
             [
              -158.4866,
              -0.6094
             ],
             [
              -158.4866,
              -1.0036
             ],
             [
              -158.4866,
              -1.4869
             ],
             [
              -158.4866,
              -1.9777
             ],
             [
              -158.4866,
              -2.5094
             ],
             [
              -159.0424,
              -2.5094
             ],
             [
              -159.571,
              -2.5094
             ],
             [
              -160.024,
              -2.5094
             ],
             [
              -160.5526,
              -2.5094
             ],
             [
              -161.0434,
              -2.5094
             ],
             [
              -161.5342,
              -2.5094
             ],
             [
              -162.025,
              -2.5094
             ],
             [
              -162.5158,
              -2.5094
             ],
             [
              -163.0444,
              -2.5094
             ],
             [
              -163.5352,
              -2.5094
             ],
             [
              -164.026,
              -2.5094
             ],
             [
              -164.5168,
              -2.5094
             ],
             [
              -165.0077,
              -2.5094
             ],
             [
              -165.5362,
              -2.5094
             ],
             [
              -166.027,
              -2.5094
             ],
             [
              -166.4801,
              -2.5094
             ],
             [
              -167.0087,
              -2.5094
             ],
             [
              -167.4617,
              -2.5094
             ],
             [
              -168.179,
              -2.5094
             ],
             [
              -168.7076,
              -2.5094
             ],
             [
              -169.2739,
              -2.5094
             ],
             [
              -169.878,
              -2.5094
             ],
             [
              -170.4066,
              -2.5094
             ],
             [
              -170.8596,
              -2.5094
             ],
             [
              -171.4637,
              -2.5094
             ],
             [
              -172.0678,
              -2.5094
             ],
             [
              -172.502,
              -2.5093
             ],
             [
              -172.5015,
              -2.1313
             ],
             [
              -172.501,
              -1.7745
             ],
             [
              -172.5005,
              -1.3744
             ],
             [
              -172.5,
              -1.0008
             ],
             [
              -172.5,
              -0.5008
             ],
             [
              -172.5,
              -0.0008
             ],
             [
              -172.5,
              0.4992
             ],
             [
              -172.5,
              0.9992
             ],
             [
              -172.5,
              1.4992
             ],
             [
              -172.5,
              1.9992
             ],
             [
              -172.5,
              2.4992
             ],
             [
              -172.5,
              2.9992
             ],
             [
              -172.5,
              3.4992
             ],
             [
              -172.5,
              3.9992
             ],
             [
              -172.5,
              4.4991
             ],
             [
              -172.5,
              4.9991
             ],
             [
              -172.5,
              5.4991
             ],
             [
              -172.5,
              5.9991
             ],
             [
              -172.5,
              6.4991
             ],
             [
              -172.5,
              6.9991
             ],
             [
              -172.5,
              7.4991
             ],
             [
              -172.5,
              7.9991
             ],
             [
              -172.5,
              8.4991
             ],
             [
              -172.5,
              8.9991
             ],
             [
              -172.5,
              9.4991
             ],
             [
              -172.5,
              9.9991
             ],
             [
              -172.5,
              10.4991
             ],
             [
              -172.5,
              10.9991
             ],
             [
              -172.5,
              11.4991
             ],
             [
              -172.5,
              11.9991
             ],
             [
              -172.5,
              12.4991
             ],
             [
              -172.5,
              12.9991
             ],
             [
              -172.5,
              13.4991
             ],
             [
              -172.5,
              13.9991
             ],
             [
              -172.5,
              14.4991
             ],
             [
              -172.5,
              14.9991
             ],
             [
              -172.483,
              15.0205
             ]
            ]
           ]
          ],
          "type": "MultiPolygon"
         },
         "properties": {
          "dst_places": null,
          "featurecla": "Timezone",
          "iso_8601": "2012-05-30T17:33:50-11:00",
          "map_color6": 5,
          "map_color8": 3,
          "name": "-11",
          "note": null,
          "objectid": 1,
          "places": "American Samoa, Niue",
          "scalerank": 6,
          "time_zone": "UTC-11:00",
          "tz_name1st": null,
          "tz_namesum": 0,
          "utc_format": "UTC-11:00",
          "zone": -11
         },
         "type": "Feature"
        },
        {
         "geometry": {
          "coordinates": [
           [
            [
             [
              -172.5135,
              48.0009
             ],
             [
              -172.0294,
              48.0009
             ],
             [
              -171.5453,
              48.0009
             ],
             [
              -171.0612,
              48.001
             ],
             [
              -170.5771,
              48.001
             ],
             [
              -170.093,
              48.001
             ],
             [
              -169.6089,
              48.001
             ],
             [
              -169.1248,
              48.001
             ],
             [
              -168.6407,
              48.001
             ],
             [
              -168.1566,
              48.0011
             ],
             [
              -167.6725,
              48.0011
             ],
             [
              -167.1884,
              48.0011
             ],
             [
              -166.7043,
              48.0011
             ],
             [
              -166.2202,
              48.0011
             ],
             [
              -165.7361,
              48.0011
             ],
             [
              -165.252,
              48.0012
             ],
             [
              -164.7679,
              48.0012
             ],
             [
              -164.2838,
              48.0012
             ],
             [
              -163.7997,
              48.0012
             ],
             [
              -163.3156,
              48.0012
             ],
             [
              -162.8315,
              48.0013
             ],
             [
              -162.3474,
              48.0013
             ],
             [
              -161.8633,
              48.0013
             ],
             [
              -161.3792,
              48.0013
             ],
             [
              -160.8951,
              48.0013
             ],
             [
              -160.411,
              48.0013
             ],
             [
              -159.9269,
              48.0014
             ],
             [
              -159.4428,
              48.0014
             ],
             [
              -158.9587,
              48.0014
             ],
             [
              -158.4746,
              48.0014
             ],
             [
              -157.9905,
              48.0014
             ],
             [
              -157.5064,
              48.0014
             ],
             [
              -157.5064,
              47.5057
             ],
             [
              -157.5064,
              47.0099
             ],
             [
              -157.5064,
              46.5141
             ],
             [
              -157.5064,
              46.0183
             ],
             [
              -157.5064,
              45.5226
             ],
             [
              -157.5064,
              45.0268
             ],
             [
              -157.5064,
              44.5722
             ],
             [
              -157.5064,
              44.1177
             ],
             [
              -157.5064,
              43.6631
             ],
             [
              -157.5064,
              43.2086
             ],
             [
              -157.5064,
              42.7541
             ],
             [
              -157.5064,
              42.2995
             ],
             [
              -157.5064,
              41.845
             ],
             [
              -157.5064,
              41.3904
             ],
             [
              -157.5064,
              40.9359
             ],
             [
              -157.5064,
              40.4813
             ],
             [
              -157.5064,
              40.0268
             ],
             [
              -157.5064,
              39.5722
             ],
             [
              -157.5064,
              39.1177
             ],
             [
              -157.5064,
              38.6631
             ],
             [
              -157.5064,
              38.2086
             ],
             [
              -157.5064,
              37.7541
             ],
             [
              -157.5064,
              37.2995
             ],
             [
              -157.5064,
              36.845
             ],
             [
              -157.5064,
              36.3904
             ],
             [
              -157.5064,
              35.9359
             ],
             [
              -157.5064,
              35.4813
             ],
             [
              -157.5064,
              35.0268
             ],
             [
              -157.5064,
              34.5722
             ],
             [
              -157.5064,
              34.1177
             ],
             [
              -157.5064,
              33.6631
             ],
             [
              -157.5064,
              33.2086
             ],
             [
              -157.5064,
              32.7541
             ],
             [
              -157.5064,
              32.2995
             ],
             [
              -157.5064,
              31.845
             ],
             [
              -157.5064,
              31.3904
             ],
             [
              -157.5064,
              30.9359
             ],
             [
              -157.5064,
              30.4813
             ],
             [
              -157.5064,
              30.0268
             ],
             [
              -157.5064,
              29.9989
             ],
             [
              -158.0022,
              29.999
             ],
             [
              -158.498,
              29.9991
             ],
             [
              -158.9938,
              29.9992
             ],
             [
              -159.4896,
              29.9993
             ],
             [
              -159.9854,
              29.9994
             ],
             [
              -160.4812,
              29.9995
             ],
             [
              -160.977,
              29.9995
             ],
             [
              -161.4728,
              29.9996
             ],
             [
              -161.9686,
              29.9997
             ],
             [
              -162.4644,
              29.9998
             ],
             [
              -162.9602,
              29.9999
             ],
             [
              -163.456,
              30
             ],
             [
              -163.9518,
              30.0001
             ],
             [
              -164.4476,
              30.0002
             ],
             [
              -164.9434,
              30.0003
             ],
             [
              -165.4392,
              30.0004
             ],
             [
              -165.935,
              30.0005
             ],
             [
              -166.4308,
              30.0006
             ],
             [
              -166.9266,
              30.0007
             ],
             [
              -167.4224,
              30.0008
             ],
             [
              -167.9182,
              30.0008
             ],
             [
              -168.414,
              30.0009
             ],
             [
              -168.9098,
              30.001
             ],
             [
              -169.4056,
              30.0011
             ],
             [
              -169.9013,
              30.0012
             ],
             [
              -170.3971,
              30.0013
             ],
             [
              -170.8929,
              30.0014
             ],
             [
              -171.3887,
              30.0015
             ],
             [
              -171.8845,
              30.0016
             ],
             [
              -172.3803,
              30.0017
             ],
             [
              -172.8761,
              30.0018
             ],
             [
              -173.3719,
              30.0019
             ],
             [
              -173.8677,
              30.002
             ],
             [
              -174.3635,
              30.0021
             ],
             [
              -174.8593,
              30.0022
             ],
             [
              -175.3551,
              30.0022
             ],
             [
              -175.8509,
              30.0023
             ],
             [
              -176.3467,
              30.0024
             ],
             [
              -176.3467,
              29.9989
             ],
             [
              -176.3467,
              29.5174
             ],
             [
              -176.3467,
              29.0359
             ],
             [
              -176.3467,
              28.5545
             ],
             [
              -176.3467,
              28.073
             ],
             [
              -176.3467,
              27.5915
             ],
             [
              -176.7717,
              27.5915
             ],
             [
              -177.1967,
              27.5915
             ],
             [
              -177.6217,
              27.5915
             ],
             [
              -178.0467,
              27.5915
             ],
             [
              -178.0467,
              28.0737
             ],
             [
              -178.0467,
              28.5559
             ],
             [
              -178.0467,
              29.0381
             ],
             [
              -178.0467,
              29.5203
             ],
             [
              -178.0467,
              30.0025
             ],
             [
              -178.535,
              30.0016
             ],
             [
              -179.0234,
              30.0007
             ],
             [
              -179.5117,
              29.9998
             ],
             [
              -180,
              29.9989
             ],
             [
              -180,
              30.4989
             ],
             [
              -180,
              30.9989
             ],
             [
              -180,
              31.4989
             ],
             [
              -180,
              31.9989
             ],
             [
              -180,
              32.4988
             ],
             [
              -180,
              32.9988
             ],
             [
              -180,
              33.4988
             ],
             [
              -180,
              33.9988
             ],
             [
              -180,
              34.4988
             ],
             [
              -180,
              34.9988
             ],
             [
              -179.5,
              34.9988
             ],
             [
              -179,
              34.9988
             ],
             [
              -178.5,
              34.9988
             ],
             [
              -178,
              34.9988
             ],
             [
              -177.5,
              34.9988
             ],
             [
              -177,
              34.9988
             ],
             [
              -176.5,
              34.9988
             ],
             [
              -176,
              34.9988
             ],
             [
              -175.5,
              34.9988
             ],
             [
              -175,
              34.9988
             ],
             [
              -174.5,
              34.9988
             ],
             [
              -174,
              34.9988
             ],
             [
              -173.5,
              34.9988
             ],
             [
              -173,
              34.9988
             ],
             [
              -172.5,
              34.9988
             ],
             [
              -172.5005,
              35.4804
             ],
             [
              -172.501,
              35.9619
             ],
             [
              -172.5015,
              36.4435
             ],
             [
              -172.502,
              36.925
             ],
             [
              -172.5025,
              37.4066
             ],
             [
              -172.503,
              37.8882
             ],
             [
              -172.5035,
              38.3697
             ],
             [
              -172.504,
              38.8513
             ],
             [
              -172.5045,
              39.3328
             ],
             [
              -172.505,
              39.8144
             ],
             [
              -172.5055,
              40.2959
             ],
             [
              -172.506,
              40.7775
             ],
             [
              -172.5065,
              41.2591
             ],
             [
              -172.507,
              41.7406
             ],
             [
              -172.5075,
              42.2222
             ],
             [
              -172.508,
              42.7037
             ],
             [
              -172.5085,
              43.1853
             ],
             [
              -172.509,
              43.6669
             ],
             [
              -172.5095,
              44.1484
             ],
             [
              -172.51,
              44.63
             ],
             [
              -172.5105,
              45.1115
             ],
             [
              -172.511,
              45.5931
             ],
             [
              -172.5115,
              46.0747
             ],
             [
              -172.512,
              46.5562
             ],
             [
              -172.5125,
              47.0378
             ],
             [
              -172.513,
              47.5193
             ],
             [
              -172.5135,
              48.0009
             ]
            ]
           ]
          ],
          "type": "MultiPolygon"
         },
         "properties": {
          "dst_places": null,
          "featurecla": "Timezone",
          "iso_8601": "2012-05-30T17:33:50-11:00",
          "map_color6": 5,
          "map_color8": 3,
          "name": "-11",
          "note": null,
          "objectid": 1,
          "places": "American Samoa, Niue",
          "scalerank": 6,
          "time_zone": "UTC-11:00",
          "tz_name1st": "Pacific/Midway",
          "tz_namesum": 1,
          "utc_format": "UTC-11:00",
          "zone": -11
         },
         "type": "Feature"
        },
        {
         "geometry": {
          "coordinates": [
           [
            [
             [
              -167.9977,
              -7.9983
             ],
             [
              -167.9965,
              -8.0003
             ],
             [
              -168.0001,
              -8.0003
             ],
             [
              -168.0001,
              -8.4004
             ],
             [
              -168.0001,
              -8.8004
             ],
             [
              -168.0001,
              -9.2005
             ],
             [
              -168.0001,
              -9.6006
             ],
             [
              -168.0001,
              -10.0007
             ],
             [
              -168,
              -10.3383
             ],
             [
              -168,
              -10.6759
             ],
             [
              -168,
              -11.1409
             ],
             [
              -168,
              -11.6058
             ],
             [
              -168,
              -12.0708
             ],
             [
              -168,
              -12.5357
             ],
             [
              -168,
              -13.0007
             ],
             [
              -167.5061,
              -13.0007
             ],
             [
              -167.0121,
              -13.0007
             ],
             [
              -167.0115,
              -13.5007
             ],
             [
              -167.0108,
              -14.0007
             ],
             [
              -167.0101,
              -14.5007
             ],
             [
              -167.0094,
              -15.0007
             ],
             [
              -167.0088,
              -15.5007
             ],
             [
              -167.0081,
              -16.0007
             ],
             [
              -167.0074,
              -16.5007
             ],
             [
              -167.0068,
              -17.0006
             ],
             [
              -167.0061,
              -17.5006
             ],
             [
              -167.0054,
              -18.0006
             ],
             [
              -167.0047,
              -18.5006
             ],
             [
              -167.0041,
              -19.0006
             ],
             [
              -167.0034,
              -19.5006
             ],
             [
              -167.0027,
              -20.0006
             ],
             [
              -167.002,
              -20.5006
             ],
             [
              -167.0014,
              -21.0006
             ],
             [
              -167.0007,
              -21.5006
             ],
             [
              -167,
              -22.0006
             ],
             [
              -166.5,
              -22.0005
             ],
             [
              -166,
              -22.0005
             ],
             [
              -165.5001,
              -22.0004
             ],
             [
              -165.0001,
              -22.0003
             ],
             [
              -164.5001,
              -22.0002
             ],
             [
              -164.0001,
              -22.0002
             ],
             [
              -163.5001,
              -22.0001
             ],
             [
              -163.0001,
              -22
             ],
             [
              -163.0001,
              -22.4287
             ],
             [
              -163.0001,
              -22.8573
             ],
             [
              -163.0001,
              -23.286
             ],
             [
              -163.0001,
              -23.7147
             ],
             [
              -163.0001,
              -24.1433
             ],
             [
              -163,
              -24.572
             ],
             [
              -163,
              -25.0006
             ],
             [
              -162.5006,
              -25.0006
             ],
             [
              -162.0012,
              -25.0006
             ],
             [
              -161.5017,
              -25.0006
             ],
             [
              -161.0023,
              -25.0006
             ],
             [
              -160.5029,
              -25.0006
             ],
             [
              -160.0035,
              -25.0006
             ],
             [
              -159.504,
              -25.0006
             ],
             [
              -159.0046,
              -25.0006
             ],
             [
              -158.5052,
              -25.0006
             ],
             [
              -158.0058,
              -25.0006
             ],
             [
              -157.5063,
              -25.0006
             ],
             [
              -157.5063,
              -25.4202
             ],
             [
              -157.5063,
              -25.8397
             ],
             [
              -157.5063,
              -26.2592
             ],
             [
              -157.5063,
              -26.6787
             ],
             [
              -157.5063,
              -27.0983
             ],
             [
              -157.5063,
              -27.5178
             ],
             [
              -157.5063,
              -28.0178
             ],
             [
              -157.5063,
              -28.5178
             ],
             [
              -157.5063,
              -29.0178
             ],
             [
              -157.5063,
              -29.5178
             ],
             [
              -157.5063,
              -30.0178
             ],
             [
              -157.5063,
              -30.5178
             ],
             [
              -157.5063,
              -31.0178
             ],
             [
              -157.5063,
              -31.5178
             ],
             [
              -157.5063,
              -32.0178
             ],
             [
              -157.5063,
              -32.5178
             ],
             [
              -157.5063,
              -32.9724
             ],
             [
              -157.5063,
              -33.4269
             ],
             [
              -157.5063,
              -33.8814
             ],
             [
              -157.5063,
              -34.336
             ],
             [
              -157.5063,
              -34.7905
             ],
             [
              -157.5063,
              -35.2451
             ],
             [
              -157.5063,
              -35.6996
             ],
             [
              -157.5063,
              -36.1542
             ],
             [
              -157.5063,
              -36.6087
             ],
             [
              -157.5063,
              -37.0633
             ],
             [
              -157.5063,
              -37.5178
             ],
             [
              -157.5063,
              -37.9648
             ],
             [
              -157.5063,
              -38.4119
             ],
             [
              -157.5063,
              -38.8589
             ],
             [
              -157.5063,
              -39.3059
             ],
             [
              -157.5063,
              -39.753
             ],
             [
              -157.5063,
              -40.2
             ],
             [
              -157.5063,
              -40.6545
             ],
             [
              -157.5063,
              -41.1091
             ],
             [
              -157.5063,
              -41.5636
             ],
             [
              -157.5063,
              -42.0182
             ],
             [
              -157.5063,
              -42.4727
             ],
             [
              -157.5063,
              -42.9273
             ],
             [
              -157.5063,
              -43.3818
             ],
             [
              -157.5063,
              -43.8364
             ],
             [
              -157.5063,
              -44.2909
             ],
             [
              -157.5063,
              -44.7455
             ],
             [
              -157.5063,
              -45.2
             ],
             [
              -157.5063,
              -45.6545
             ],
             [
              -157.5063,
              -46.1091
             ],
             [
              -157.5063,
              -46.5636
             ],
             [
              -157.5063,
              -47.0182
             ],
             [
              -157.5063,
              -47.4727
             ],
             [
              -157.5063,
              -47.9273
             ],
             [
              -157.5063,
              -48.3818
             ],
             [
              -157.5063,
              -48.8364
             ],
             [
              -157.5063,
              -49.2909
             ],
             [
              -157.5063,
              -49.7455
             ],
             [
              -157.5063,
              -50.2
             ],
             [
              -157.5063,
              -50.45
             ],
             [
              -157.5063,
              -50.7
             ],
             [
              -157.5063,
              -51.1545
             ],
             [
              -157.5063,
              -51.6091
             ],
             [
              -157.5063,
              -52.0636
             ],
             [
              -157.5063,
              -52.5182
             ],
             [
              -157.5063,
              -52.9727
             ],
             [
              -157.5063,
              -53.4273
             ],
             [
              -157.5063,
              -53.8818
             ],
             [
              -157.5063,
              -54.3364
             ],
             [
              -157.5063,
              -54.7909
             ],
             [
              -157.5063,
              -55.2455
             ],
             [
              -157.5063,
              -55.7
             ],
             [
              -157.5063,
              -56.1545
             ],
             [
              -157.5063,
              -56.6091
             ],
             [
              -157.5063,
              -57.0636
             ],
             [
              -157.5063,
              -57.5182
             ],
             [
              -157.5063,
              -57.9727
             ],
             [
              -157.5063,
              -58.4273
             ],
             [
              -157.5063,
              -58.8818
             ],
             [
              -157.5063,
              -59.3364
             ],
             [
              -157.5063,
              -59.7909
             ],
             [
              -157.5063,
              -60.2455
             ],
             [
              -157.5063,
              -60.7
             ],
             [
              -157.5063,
              -61.2
             ],
             [
              -157.5063,
              -61.7
             ],
             [
              -157.5063,
              -62.2
             ],
             [
              -157.5063,
              -62.7
             ],
             [
              -157.5063,
              -63.2
             ],
             [
              -157.5063,
              -63.7
             ],
             [
              -157.5063,
              -64.2
             ],
             [
              -157.5063,
              -64.7
             ],
             [
              -157.5063,
              -65.2
             ],
             [
              -157.5063,
              -65.7
             ],
             [
              -157.5063,
              -66.1545
             ],
             [
              -157.5063,
              -66.6091
             ],
             [
              -157.5063,
              -67.0636
             ],
             [
              -157.5063,
              -67.5182
             ],
             [
              -157.5063,
              -67.9727
             ],
             [
              -157.5063,
              -68.4273
             ],
             [
              -157.5063,
              -68.8818
             ],
             [
              -157.5063,
              -69.3364
             ],
             [
              -157.5063,
              -69.7909
             ],
             [
              -157.5063,
              -70.2455
             ],
             [
              -157.5063,
              -70.7
             ],
             [
              -157.5063,
              -71.1545
             ],
             [
              -157.5063,
              -71.6091
             ],
             [
              -157.5063,
              -72.0636
             ],
             [
              -157.5063,
              -72.5182
             ],
             [
              -157.5063,
              -72.9727
             ],
             [
              -157.5063,
              -73.4273
             ],
             [
              -157.5063,
              -73.8818
             ],
             [
              -157.5063,
              -74.3364
             ],
             [
              -157.5063,
              -74.7909
             ],
             [
              -157.5063,
              -75.2455
             ],
             [
              -157.5063,
              -75.7
             ],
             [
              -157.5063,
              -76.0963
             ],
             [
              -157.5063,
              -76.4925
             ],
             [
              -157.5063,
              -76.8888
             ],
             [
              -157.5356,
              -76.8852
             ],
             [
              -157.6777,
              -76.8721
             ],
             [
              -157.8278,
              -76.8647
             ],
             [
              -157.9697,
              -76.8634
             ],
             [
              -158.1155,
              -76.8677
             ],
             [
              -158.4381,
              -76.886
             ],
             [
              -158.6072,
              -76.9013
             ],
             [
              -158.7356,
              -76.9189
             ],
             [
              -158.8742,
              -76.9483
             ],
             [
              -159.0057,
              -76.9878
             ],
             [
              -159.0987,
              -77.0289
             ],
             [
              -159.1504,
              -77.0694
             ],
             [
              -159.1787,
              -77.1393
             ],
             [
              -159.1344,
              -77.2097
             ],
             [
              -159.1974,
              -77.2741
             ],
             [
              -159.2144,
              -77.3239
             ],
             [
              -159.1941,
              -77.3799
             ],
             [
              -159.1244,
              -77.4418
             ],
             [
              -159.1788,
              -77.5039
             ],
             [
              -159.1791,
              -77.5278
             ],
             [
              -159.155,
              -77.5597
             ],
             [
              -159.2069,
              -77.5948
             ],
             [
              -159.2596,
              -77.6481
             ],
             [
              -159.3945,
              -77.7022
             ],
             [
              -159.5077,
              -77.7806
             ],
             [
              -159.5551,
              -77.8399
             ],
             [
              -159.546,
              -77.8947
             ],
             [
              -159.5129,
              -77.9244
             ],
             [
              -159.4591,
              -77.953
             ],
             [
              -159.3177,
              -77.997
             ],
             [
              -159.721,
              -78.0492
             ],
             [
              -160.1697,
              -78.1072
             ],
             [
              -160.6184,
              -78.1652
             ],
             [
              -161.0671,
              -78.2233
             ],
             [
              -161.5158,
              -78.2813
             ],
             [
              -161.9645,
              -78.3393
             ],
             [
              -162.4132,
              -78.3973
             ],
             [
              -162.862,
              -78.4554
             ],
             [
              -163.3107,
              -78.5134
             ],
             [
              -163.7594,
              -78.5714
             ],
             [
              -164.2081,
              -78.6294
             ],
             [
              -164.6981,
              -78.614
             ],
             [
              -165.1881,
              -78.5986
             ],
             [
              -165.6782,
              -78.5832
             ],
             [
              -166.1682,
              -78.5677
             ],
             [
              -166.6583,
              -78.5523
             ],
             [
              -167.1483,
              -78.5369
             ],
             [
              -167.6383,
              -78.5215
             ],
             [
              -168.1284,
              -78.5061
             ],
             [
              -168.6184,
              -78.4906
             ],
             [
              -169.1085,
              -78.4752
             ],
             [
              -169.5985,
              -78.4598
             ],
             [
              -170.0885,
              -78.4444
             ],
             [
              -170.5786,
              -78.4289
             ],
             [
              -171.0686,
              -78.4135
             ],
             [
              -171.5587,
              -78.3981
             ],
             [
              -172.0487,
              -78.3827
             ],
             [
              -172.5387,
              -78.3673
             ],
             [
              -172.5387,
              -77.8862
             ],
             [
              -172.5388,
              -77.4052
             ],
             [
              -172.5388,
              -76.9242
             ],
             [
              -172.5388,
              -76.4431
             ],
             [
              -172.5388,
              -75.9621
             ],
             [
              -172.5388,
              -75.481
             ],
             [
              -172.5389,
              -75
             ],
             [
              -172.5389,
              -74.5455
             ],
             [
              -172.5389,
              -74.0909
             ],
             [
              -172.5389,
              -73.6364
             ],
             [
              -172.5389,
              -73.1818
             ],
             [
              -172.5389,
              -72.7273
             ],
             [
              -172.5389,
              -72.2727
             ],
             [
              -172.539,
              -71.8182
             ],
             [
              -172.539,
              -71.3636
             ],
             [
              -172.539,
              -70.9091
             ],
             [
              -172.539,
              -70.4545
             ],
             [
              -172.539,
              -70
             ],
             [
              -172.539,
              -69.5455
             ],
             [
              -172.5391,
              -69.0909
             ],
             [
              -172.5391,
              -68.6364
             ],
             [
              -172.5391,
              -68.1818
             ],
             [
              -172.5391,
              -67.7273
             ],
             [
              -172.5391,
              -67.2727
             ],
             [
              -172.5391,
              -66.8182
             ],
             [
              -172.5392,
              -66.3636
             ],
             [
              -172.5392,
              -65.9091
             ],
             [
              -172.5392,
              -65.4545
             ],
             [
              -172.5392,
              -65
             ],
             [
              -172.5392,
              -64.5455
             ],
             [
              -172.5392,
              -64.0909
             ],
             [
              -172.5393,
              -63.6364
             ],
             [
              -172.5393,
              -63.1818
             ],
             [
              -172.5393,
              -62.7273
             ],
             [
              -172.5393,
              -62.2727
             ],
             [
              -172.5393,
              -61.8182
             ],
             [
              -172.5393,
              -61.3636
             ],
             [
              -172.5394,
              -60.9091
             ],
             [
              -172.5394,
              -60.4545
             ],
             [
              -172.5394,
              -60
             ],
             [
              -172.5394,
              -59.5455
             ],
             [
              -172.5394,
              -59.0909
             ],
             [
              -172.5394,
              -58.6364
             ],
             [
              -172.5395,
              -58.1818
             ],
             [
              -172.5395,
              -57.7273
             ],
             [
              -172.5395,
              -57.2727
             ],
             [
              -172.5395,
              -56.8182
             ],
             [
              -172.5395,
              -56.3636
             ],
             [
              -172.5395,
              -55.9091
             ],
             [
              -172.5396,
              -55.4545
             ],
             [
              -172.5396,
              -55
             ],
             [
              -172.5396,
              -54.5455
             ],
             [
              -172.5396,
              -54.0909
             ],
             [
              -172.5396,
              -53.6364
             ],
             [
              -172.5396,
              -53.1818
             ],
             [
              -172.5396,
              -52.7273
             ],
             [
              -172.5397,
              -52.2727
             ],
             [
              -172.5397,
              -51.8182
             ],
             [
              -172.5397,
              -51.3636
             ],
             [
              -172.5397,
              -50.9091
             ],
             [
              -172.5397,
              -50.4545
             ],
             [
              -172.5397,
              -50
             ],
             [
              -172.5398,
              -49.5455
             ],
             [
              -172.5398,
              -49.0909
             ],
             [
              -172.5398,
              -48.6364
             ],
             [
              -172.5398,
              -48.1818
             ],
             [
              -172.5398,
              -47.7273
             ],
             [
              -172.5398,
              -47.2727
             ],
             [
              -172.5399,
              -46.8182
             ],
             [
              -172.5399,
              -46.3636
             ],
             [
              -172.5399,
              -45.9091
             ],
             [
              -172.5399,
              -45.4545
             ],
             [
              -172.5399,
              -45.0352
             ],
             [
              -172.5,
              -45
             ],
             [
              -172.5,
              -44.5472
             ],
             [
              -172.5,
              -44.0624
             ],
             [
              -172.5,
              -43.5754
             ],
             [
              -172.5,
              -43.1251
             ],
             [
              -172.5,
              -42.6014
             ],
             [
              -172.5,
              -42.1875
             ],
             [
              -172.5,
              -41.6273
             ],
             [
              -172.5,
              -41.25
             ],
             [
              -172.5,
              -40.6325
             ],
             [
              -172.5,
              -40.1143
             ],
             [
              -172.5,
              -39.6791
             ],
             [
              -172.5,
              -39.1403
             ],
             [
              -172.5,
              -38.6221
             ],
             [
              -172.5,
              -38.1662
             ],
             [
              -172.5,
              -37.6895
             ],
             [
              -172.5,
              -37.1817
             ],
             [
              -172.5,
              -36.5625
             ],
             [
              -172.5,
              -36.2076
             ],
             [
              -172.5,
              -35.6249
             ],
             [
              -172.5,
              -35.1921
             ],
             [
              -172.5,
              -34.6876
             ],
             [
              -172.5,
              -34.218
             ],
             [
              -172.5,
              -33.7359
             ],
             [
              -172.5,
              -33.2854
             ],
             [
              -172.5,
              -32.8125
             ],
             [
              -172.5,
              -32.2906
             ],
             [
              -172.5,
              -31.6265
             ],
             [
              -172.5,
              -30.9375
             ],
             [
              -172.5,
              -30.3528
             ],
             [
              -172.5,
              -29.8347
             ],
             [
              -172.5,
              -29.2363
             ],
             [
              -172.5,
              -28.8191
             ],
             [
              -172.5,
              -27.9999
             ],
             [
              -172.5,
              -27.3891
             ],
             [
              -172.5,
              -27.0001
             ],
             [
              -172.5,
              -26.3736
             ],
             [
              -172.5,
              -26.0002
             ],
             [
              -172.5,
              -25.4409
             ],
             [
              -172.5,
              -25
             ],
             [
              -172.5,
              -24.4668
             ],
             [
              -172.5,
              -24.0001
             ],
             [
              -172.5,
              -23.5
             ],
             [
              -172.5,
              -22.9689
             ],
             [
              -172.5,
              -22.4375
             ],
             [
              -172.5,
              -22.0006
             ],
             [
              -172.5,
              -21.5964
             ],
             [
              -172.5,
              -21.1197
             ],
             [
              -172.5,
              -20.6638
             ],
             [
              -172.5,
              -20.3126
             ],
             [
              -172.5,
              -19.7813
             ],
             [
              -172.5,
              -19.2499
             ],
             [
              -172.5,
              -18.7188
             ],
             [
              -172.5,
              -18.1875
             ],
             [
              -172.5,
              -17.6563
             ],
             [
              -172.5,
              -17.2856
             ],
             [
              -172.5,
              -16.8503
             ],
             [
              -172.5,
              -16.3944
             ],
             [
              -172.5,
              -16.0626
             ],
             [
              -172.5,
              -15.5312
             ],
             [
              -172.5,
              -15.0001
             ],
             [
              -172.0095,
              -14.7792
             ],
             [
              -171.5969,
              -14.5933
             ],
             [
              -171.2367,
              -14.431
             ],
             [
              -171.0033,
              -13.9679
             ],
             [
              -171.0495,
              -13.5045
             ],
             [
              -171.1002,
              -12.9968
             ],
             [
              -171.1502,
              -12.5005
             ],
             [
              -171.1967,
              -12.0298
             ],
             [
              -171.2297,
              -11.6998
             ],
             [
              -171.261,
              -11.3855
             ],
             [
              -171.2938,
              -11.0573
             ],
             [
              -171.2244,
              -10.682
             ],
             [
              -171.1722,
              -10.3991
             ],
             [
              -171.0996,
              -10.0063
             ],
             [
              -171.0454,
              -9.7129
             ],
             [
              -170.9928,
              -9.4284
             ],
             [
              -170.8496,
              -9.1069
             ],
             [
              -170.7302,
              -8.8386
             ],
             [
              -170.5585,
              -8.4531
             ],
             [
              -170.331,
              -7.942
             ],
             [
              -170.1292,
              -7.4888
             ],
             [
              -169.8959,
              -6.9648
             ],
             [
              -169.6884,
              -6.4987
             ],
             [
              -169.3961,
              -5.8423
             ],
             [
              -168.9924,
              -5.8423
             ],
             [
              -168.5073,
              -5.8423
             ],
             [
              -167.9977,
              -5.8423
             ],
             [
              -167.9977,
              -7.9983
             ]
            ]
           ]
          ],
          "type": "MultiPolygon"
         },
         "properties": {
          "dst_places": null,
          "featurecla": "Timezone",
          "iso_8601": "2012-05-30T17:33:50-11:00",
          "map_color6": 5,
          "map_color8": 3,
          "name": "-11",
          "note": null,
          "objectid": 1,
          "places": "American Samoa, Niue",
          "scalerank": 6,
          "time_zone": "UTC-11:00",
          "tz_name1st": "Pacific/Pago_Pago",
          "tz_namesum": 2,
          "utc_format": "UTC-11:00",
          "zone": -11
         },
         "type": "Feature"
        }
       ],
       "type": "FeatureCollection"
      },
      "text/html": [
       "<table class=\"dataframe\">\n",
       "<caption>A sf: 6 × 16</caption>\n",
       "<thead>\n",
       "\t<tr><th></th><th scope=col>objectid</th><th scope=col>scalerank</th><th scope=col>featurecla</th><th scope=col>name</th><th scope=col>map_color6</th><th scope=col>map_color8</th><th scope=col>note</th><th scope=col>zone</th><th scope=col>utc_format</th><th scope=col>time_zone</th><th scope=col>iso_8601</th><th scope=col>places</th><th scope=col>dst_places</th><th scope=col>tz_name1st</th><th scope=col>tz_namesum</th><th scope=col>geometry</th></tr>\n",
       "\t<tr><th></th><th scope=col>&lt;int&gt;</th><th scope=col>&lt;int&gt;</th><th scope=col>&lt;chr&gt;</th><th scope=col>&lt;chr&gt;</th><th scope=col>&lt;int&gt;</th><th scope=col>&lt;int&gt;</th><th scope=col>&lt;chr&gt;</th><th scope=col>&lt;dbl&gt;</th><th scope=col>&lt;chr&gt;</th><th scope=col>&lt;chr&gt;</th><th scope=col>&lt;chr&gt;</th><th scope=col>&lt;chr&gt;</th><th scope=col>&lt;chr&gt;</th><th scope=col>&lt;chr&gt;</th><th scope=col>&lt;int&gt;</th><th scope=col>&lt;MULTIPOLYGON [°]&gt;</th></tr>\n",
       "</thead>\n",
       "<tbody>\n",
       "\t<tr><th scope=row>1</th><td>2</td><td>6</td><td>Timezone</td><td>-10</td><td>4</td><td>4</td><td>NA</td><td>-10</td><td>UTC-10:00</td><td>UTC-10:00</td><td>2012-05-30T18:33:50-10:00</td><td>Arctic Ocean                    </td><td>NA                              </td><td>NA               </td><td>0</td><td>MULTIPOLYGON (((-142.4651 7...</td></tr>\n",
       "\t<tr><th scope=row>2</th><td>2</td><td>6</td><td>Timezone</td><td>-10</td><td>4</td><td>4</td><td>NA</td><td>-10</td><td>UTC-10:00</td><td>UTC-10:00</td><td>2012-05-30T18:33:50-10:00</td><td>United States (Aleutian Islands)</td><td>United States (Aleutian Islands)</td><td>NA               </td><td>0</td><td>MULTIPOLYGON (((179.9997 59...</td></tr>\n",
       "\t<tr><th scope=row>3</th><td>1</td><td>6</td><td>Timezone</td><td>-11</td><td>5</td><td>3</td><td>NA</td><td>-11</td><td>UTC-11:00</td><td>UTC-11:00</td><td>2012-05-30T17:33:50-11:00</td><td>Arctic Ocean                    </td><td>NA                              </td><td>NA               </td><td>0</td><td>MULTIPOLYGON (((-157.9421 7...</td></tr>\n",
       "\t<tr><th scope=row>4</th><td>1</td><td>6</td><td>Timezone</td><td>-11</td><td>5</td><td>3</td><td>NA</td><td>-11</td><td>UTC-11:00</td><td>UTC-11:00</td><td>2012-05-30T17:33:50-11:00</td><td>American Samoa, Niue            </td><td>NA                              </td><td>NA               </td><td>0</td><td>MULTIPOLYGON (((-172.483 15...</td></tr>\n",
       "\t<tr><th scope=row>5</th><td>1</td><td>6</td><td>Timezone</td><td>-11</td><td>5</td><td>3</td><td>NA</td><td>-11</td><td>UTC-11:00</td><td>UTC-11:00</td><td>2012-05-30T17:33:50-11:00</td><td>American Samoa, Niue            </td><td>NA                              </td><td>Pacific/Midway   </td><td>1</td><td>MULTIPOLYGON (((-172.5135 4...</td></tr>\n",
       "\t<tr><th scope=row>6</th><td>1</td><td>6</td><td>Timezone</td><td>-11</td><td>5</td><td>3</td><td>NA</td><td>-11</td><td>UTC-11:00</td><td>UTC-11:00</td><td>2012-05-30T17:33:50-11:00</td><td>American Samoa, Niue            </td><td>NA                              </td><td>Pacific/Pago_Pago</td><td>2</td><td>MULTIPOLYGON (((-167.9977 -...</td></tr>\n",
       "</tbody>\n",
       "</table>\n"
      ],
      "text/latex": [
       "A sf: 6 × 16\n",
       "\\begin{tabular}{r|llllllllllllllll}\n",
       "  & objectid & scalerank & featurecla & name & map\\_color6 & map\\_color8 & note & zone & utc\\_format & time\\_zone & iso\\_8601 & places & dst\\_places & tz\\_name1st & tz\\_namesum & geometry\\\\\n",
       "  & <int> & <int> & <chr> & <chr> & <int> & <int> & <chr> & <dbl> & <chr> & <chr> & <chr> & <chr> & <chr> & <chr> & <int> & <MULTIPOLYGON {[}°{]}>\\\\\n",
       "\\hline\n",
       "\t1 & 2 & 6 & Timezone & -10 & 4 & 4 & NA & -10 & UTC-10:00 & UTC-10:00 & 2012-05-30T18:33:50-10:00 & Arctic Ocean                     & NA                               & NA                & 0 & MULTIPOLYGON (((-142.4651 7...\\\\\n",
       "\t2 & 2 & 6 & Timezone & -10 & 4 & 4 & NA & -10 & UTC-10:00 & UTC-10:00 & 2012-05-30T18:33:50-10:00 & United States (Aleutian Islands) & United States (Aleutian Islands) & NA                & 0 & MULTIPOLYGON (((179.9997 59...\\\\\n",
       "\t3 & 1 & 6 & Timezone & -11 & 5 & 3 & NA & -11 & UTC-11:00 & UTC-11:00 & 2012-05-30T17:33:50-11:00 & Arctic Ocean                     & NA                               & NA                & 0 & MULTIPOLYGON (((-157.9421 7...\\\\\n",
       "\t4 & 1 & 6 & Timezone & -11 & 5 & 3 & NA & -11 & UTC-11:00 & UTC-11:00 & 2012-05-30T17:33:50-11:00 & American Samoa, Niue             & NA                               & NA                & 0 & MULTIPOLYGON (((-172.483 15...\\\\\n",
       "\t5 & 1 & 6 & Timezone & -11 & 5 & 3 & NA & -11 & UTC-11:00 & UTC-11:00 & 2012-05-30T17:33:50-11:00 & American Samoa, Niue             & NA                               & Pacific/Midway    & 1 & MULTIPOLYGON (((-172.5135 4...\\\\\n",
       "\t6 & 1 & 6 & Timezone & -11 & 5 & 3 & NA & -11 & UTC-11:00 & UTC-11:00 & 2012-05-30T17:33:50-11:00 & American Samoa, Niue             & NA                               & Pacific/Pago\\_Pago & 2 & MULTIPOLYGON (((-167.9977 -...\\\\\n",
       "\\end{tabular}\n"
      ],
      "text/markdown": [
       "\n",
       "A sf: 6 × 16\n",
       "\n",
       "| <!--/--> | objectid &lt;int&gt; | scalerank &lt;int&gt; | featurecla &lt;chr&gt; | name &lt;chr&gt; | map_color6 &lt;int&gt; | map_color8 &lt;int&gt; | note &lt;chr&gt; | zone &lt;dbl&gt; | utc_format &lt;chr&gt; | time_zone &lt;chr&gt; | iso_8601 &lt;chr&gt; | places &lt;chr&gt; | dst_places &lt;chr&gt; | tz_name1st &lt;chr&gt; | tz_namesum &lt;int&gt; | geometry &lt;MULTIPOLYGON [°]&gt; |\n",
       "|---|---|---|---|---|---|---|---|---|---|---|---|---|---|---|---|---|\n",
       "| 1 | 2 | 6 | Timezone | -10 | 4 | 4 | NA | -10 | UTC-10:00 | UTC-10:00 | 2012-05-30T18:33:50-10:00 | Arctic Ocean                     | NA                               | NA                | 0 | MULTIPOLYGON (((-142.4651 7... |\n",
       "| 2 | 2 | 6 | Timezone | -10 | 4 | 4 | NA | -10 | UTC-10:00 | UTC-10:00 | 2012-05-30T18:33:50-10:00 | United States (Aleutian Islands) | United States (Aleutian Islands) | NA                | 0 | MULTIPOLYGON (((179.9997 59... |\n",
       "| 3 | 1 | 6 | Timezone | -11 | 5 | 3 | NA | -11 | UTC-11:00 | UTC-11:00 | 2012-05-30T17:33:50-11:00 | Arctic Ocean                     | NA                               | NA                | 0 | MULTIPOLYGON (((-157.9421 7... |\n",
       "| 4 | 1 | 6 | Timezone | -11 | 5 | 3 | NA | -11 | UTC-11:00 | UTC-11:00 | 2012-05-30T17:33:50-11:00 | American Samoa, Niue             | NA                               | NA                | 0 | MULTIPOLYGON (((-172.483 15... |\n",
       "| 5 | 1 | 6 | Timezone | -11 | 5 | 3 | NA | -11 | UTC-11:00 | UTC-11:00 | 2012-05-30T17:33:50-11:00 | American Samoa, Niue             | NA                               | Pacific/Midway    | 1 | MULTIPOLYGON (((-172.5135 4... |\n",
       "| 6 | 1 | 6 | Timezone | -11 | 5 | 3 | NA | -11 | UTC-11:00 | UTC-11:00 | 2012-05-30T17:33:50-11:00 | American Samoa, Niue             | NA                               | Pacific/Pago_Pago | 2 | MULTIPOLYGON (((-167.9977 -... |\n",
       "\n"
      ],
      "text/plain": [
       "  objectid scalerank featurecla name map_color6 map_color8 note zone utc_format\n",
       "1 2        6         Timezone   -10  4          4          NA   -10  UTC-10:00 \n",
       "2 2        6         Timezone   -10  4          4          NA   -10  UTC-10:00 \n",
       "3 1        6         Timezone   -11  5          3          NA   -11  UTC-11:00 \n",
       "4 1        6         Timezone   -11  5          3          NA   -11  UTC-11:00 \n",
       "5 1        6         Timezone   -11  5          3          NA   -11  UTC-11:00 \n",
       "6 1        6         Timezone   -11  5          3          NA   -11  UTC-11:00 \n",
       "  time_zone iso_8601                  places                          \n",
       "1 UTC-10:00 2012-05-30T18:33:50-10:00 Arctic Ocean                    \n",
       "2 UTC-10:00 2012-05-30T18:33:50-10:00 United States (Aleutian Islands)\n",
       "3 UTC-11:00 2012-05-30T17:33:50-11:00 Arctic Ocean                    \n",
       "4 UTC-11:00 2012-05-30T17:33:50-11:00 American Samoa, Niue            \n",
       "5 UTC-11:00 2012-05-30T17:33:50-11:00 American Samoa, Niue            \n",
       "6 UTC-11:00 2012-05-30T17:33:50-11:00 American Samoa, Niue            \n",
       "  dst_places                       tz_name1st        tz_namesum\n",
       "1 NA                               NA                0         \n",
       "2 United States (Aleutian Islands) NA                0         \n",
       "3 NA                               NA                0         \n",
       "4 NA                               NA                0         \n",
       "5 NA                               Pacific/Midway    1         \n",
       "6 NA                               Pacific/Pago_Pago 2         \n",
       "  geometry                      \n",
       "1 MULTIPOLYGON (((-142.4651 7...\n",
       "2 MULTIPOLYGON (((179.9997 59...\n",
       "3 MULTIPOLYGON (((-157.9421 7...\n",
       "4 MULTIPOLYGON (((-172.483 15...\n",
       "5 MULTIPOLYGON (((-172.5135 4...\n",
       "6 MULTIPOLYGON (((-167.9977 -..."
      ]
     },
     "metadata": {},
     "output_type": "display_data"
    }
   ],
   "source": [
    "time_zones <- ne_download(scale = 10, type = \"time_zones\", category = \"cultural\", returnclass = \"sf\")\n",
    "\n",
    "head(time_zones)"
   ]
  },
  {
   "cell_type": "markdown",
   "id": "bf0551dc-3639-42fb-9898-672b0b37b22e",
   "metadata": {},
   "source": [
    "Extracting the *time_zones* data gives us an *sf* object with 120 polygon features, representing 120 time zones, and 15 attribute columns.  Attributes include informaiton such as time zone name, the [Universal Coordinated Time (UTC) format](https://en.wikipedia.org/wiki/Coordinated_Universal_Time) for the time zone, and a list of places in the time zone.\n",
    "\n",
    "Let's take a look at a quick map of the *time_zones* data."
   ]
  },
  {
   "cell_type": "code",
   "execution_count": 51,
   "id": "c293f382-2804-448a-82a1-9fcc7b83b95c",
   "metadata": {},
   "outputs": [
    {
     "name": "stderr",
     "output_type": "stream",
     "text": [
      "Warning message in st_is_longlat(x):\n",
      "\"bounding box has potentially an invalid value range for longlat data\"\n"
     ]
    },
    {
     "data": {
      "image/png": "[encoded data removed]",
      "text/plain": [
       "plot without title"
      ]
     },
     "metadata": {
      "image/png": {
       "height": 420,
       "width": 420
      }
     },
     "output_type": "display_data"
    }
   ],
   "source": [
    "plot(st_geometry(time_zones))"
   ]
  },
  {
   "cell_type": "markdown",
   "id": "d129bdef-4dc4-4a1d-84a6-410a6a6eae1c",
   "metadata": {},
   "source": [
    "Let's write the *time_zones* object as a shapefile to our local machine."
   ]
  },
  {
   "cell_type": "code",
   "execution_count": 50,
   "id": "9bea6a68-b574-4f98-9740-d636398718ac",
   "metadata": {},
   "outputs": [
    {
     "name": "stdout",
     "output_type": "stream",
     "text": [
      "Deleting source `time_zones.shp' using driver `ESRI Shapefile'\n",
      "Writing layer `time_zones' to data source \n",
      "  `time_zones.shp' using driver `ESRI Shapefile'\n",
      "Writing 120 features with 15 fields and geometry type Multi Polygon.\n"
     ]
    }
   ],
   "source": [
    "st_write(time_zones, \"time_zones.shp\", driver = \"ESRI Shapefile\", delete_dsn = T)"
   ]
  },
  {
   "cell_type": "markdown",
   "id": "0690e61d-1ab9-4d06-b0ad-9ea705a33e43",
   "metadata": {},
   "source": [
    "At the end of this script we have explored the available data in the Natural Earth repository and extracted three spatial datasets representing the boundary of the United States, global airport point locations, and global time zone boundaries."
   ]
  },
  {
   "cell_type": "markdown",
   "id": "da474536-38db-497a-bfd6-ac2ddf09143f",
   "metadata": {},
   "source": [
    "---\n",
    "\n",
    "## Next Steps\n",
    "\n",
    "* Move on to Chapter 6: Mapping and Visualization\n",
    "  * [**Chapter 6.1 Visualization and Quick Plots**](https://platform.i-guide.io/notebooks/dfe8fd72-f896-4dd2-9d61-6d9982394f1f)\n",
    "  * [**Chapter 6.2 Mapping Point and Polygon Data**](https://platform.i-guide.io/notebooks/2b9f579c-32b0-4078-af39-994bb31d50ec)\n",
    "  * [**Chapter 6.3 Choropleth Mapping**](https://platform.i-guide.io/notebooks/f2f973df-2412-49f0-ad39-d80051f20d4d)\n",
    "* Return to the [**R Spatial Notebooks Project Chapter List**](https://vavramusser.github.io/r-spatial/#:~:text=R%20Spatial%20Notebooks%20Chapter%20List) to view a list of all available notebooks organized in the R Spatial Notebooks chapter structure.\n",
    "* Visit the [**R Spatial Notebooks Project Homepage**](https://vavramusser.github.io/r-spatial) to learn more about the project, view the list of all notebooks, and explore additional resources.\n",
    "* Join the project [**Mailing List**](https://mailchi.mp/ab01e8fc8397/r-spatial-email-signup) to hear about future notebook releases and other updates.\n",
    "* If you have an idea for a new notebook please submit your idea via the [**Suggestion Box**](https://us19.list-manage.com/survey?u=746bf8d366d6fbc99c699e714&id=54590a28ea&attribution=false).\n",
    "\n",
    "---\n",
    "\n",
    "## ★ Thank You ★\n",
    "\n",
    "Thank you so much for engaging with this notebook and supporting the project!  The R Spatial Notebooks Project is a labor of love so if you enjoy or benefit from these notebooks, please consider [**Donating to the Project**](https://buymeacoffee.com/vavramusser).  Your support allows me to continue producing notebooks and supporting the R Spatial Notebooks community."
   ]
  }
 ],
 "metadata": {
  "kernelspec": {
   "display_name": "R",
   "language": "R",
   "name": "ir"
  },
  "language_info": {
   "codemirror_mode": "r",
   "file_extension": ".r",
   "mimetype": "text/x-r-source",
   "name": "R",
   "pygments_lexer": "r",
   "version": "4.3.3"
  }
 },
 "nbformat": 4,
 "nbformat_minor": 5
}
