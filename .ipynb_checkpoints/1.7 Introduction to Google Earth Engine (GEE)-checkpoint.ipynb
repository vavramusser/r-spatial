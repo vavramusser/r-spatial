{
 "cells": [
  {
   "cell_type": "markdown",
   "id": "2af0d3a7-22a8-46fe-b0aa-0c882c0591a6",
   "metadata": {},
   "source": [
    "# Introduction to Google Earth Engine (GEE)"
   ]
  },
  {
   "cell_type": "markdown",
   "id": "dcc2b1bb-738b-4aba-b360-6bcefa21e64b",
   "metadata": {},
   "source": [
    "Google Earth Engine (GEE) is a cloud-based platform for geospatial analysis that provides access to a vast catalog of satellite imagery and environmental datasets. GEE enables scalable, high-performance processing of large geospatial datasets, making it ideal for applications like land cover classification, climate change analysis, and environmental monitoring. This notebook introduces GEE, highlights its capabilities, and demonstrates how to integrate it into spatial workflows in R.\n",
    "\n",
    "### Available Data"
   ]
  },
  {
   "cell_type": "markdown",
   "id": "ceec78ce-e543-4c52-b5ee-fbfdfe2c117a",
   "metadata": {},
   "source": [
    "## Recommended Next Steps\n",
    "\n",
    "* **Continue with Chapter 1: Data Sources and APIs**\n",
    "  * 1.1: Introduction to IPUMS and the IPUMS API\n",
    "  * 1.2: Introduciton to Natural Earth\n",
    "  * 1.3: Introduction to Basemaps with ggmap\n",
    "  * 1.4: Introduction to the EPA Air Quality System (AQS) Data Repository\n",
    "  * 1.5: Introduction to the National Land Cover Database (NLCD)\n",
    "  * 1.6: Introduction to Open Street Map (OSM)"
   ]
  }
 ],
 "metadata": {
  "kernelspec": {
   "display_name": "R",
   "language": "R",
   "name": "ir"
  },
  "language_info": {
   "codemirror_mode": "r",
   "file_extension": ".r",
   "mimetype": "text/x-r-source",
   "name": "R",
   "pygments_lexer": "r",
   "version": "4.3.3"
  }
 },
 "nbformat": 4,
 "nbformat_minor": 5
}
