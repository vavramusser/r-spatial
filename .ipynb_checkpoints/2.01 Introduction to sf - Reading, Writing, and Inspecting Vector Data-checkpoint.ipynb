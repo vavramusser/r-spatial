{
 "cells": [
  {
   "cell_type": "markdown",
   "id": "d66aabcc-7952-4e31-a8d0-1636406839b0",
   "metadata": {},
   "source": [
    "# Introduction to sf: Reading, Writing, and Inspecting Vector Data\n",
    "### by [Kate Vavra-Musser](https://vavramusser.github.io) for the [R Spatial Notebook Series](https://vavramusser.github.io/r-spatial)"
   ]
  },
  {
   "cell_type": "markdown",
   "id": "3cc96f60-fad1-44de-ada6-d3509ed4197e",
   "metadata": {},
   "source": [
    "## Introduction\n",
    "\n",
    "The [***sf***](https://cran.r-project.org/web/packages/sf/index.html) R package was designed to provide support for working with the [simple features (sf)](https://r-spatial.github.io/sf/articles/sf1.html) standard for geographic [vector data](https://en.wikipedia.org/wiki/Vector_graphics) representation within the R ecosystem.  The *sf* package was first released in 2016 and within a few years had largely surpassed the [***sp***](https://cran.r-project.org/web/packages/sp/index.html) package (first released in 2005) as the most commonly used geographic data representation for vector data in R.  In additon to providing support for the simple features data standard, *sf* includes a wide range of functions for working with spatial vector data in R.  If you are accustomed to working with spatial data using traditional [GIS](https://en.wikipedia.org/wiki/Geographic_information_system) desktop software such as [QGIS](https://en.wikipedia.org/wiki/QGIS) or [ArCGIS](https://en.wikipedia.org/wiki/ArcGIS), you will find analogues to the typical analysis, query, selection, geoprocessing, and visualization GIS tools within the *sf* package.\n",
    "\n",
    "#### From the [Simple Features for R](https://r-spatial.github.io/sf/articles/sf1.html) Webpage\n",
    "*[Simple features (sf)](https://en.wikipedia.org/wiki/Simple_Features) or [simple feature access](https://www.ogc.org/publications/standard/sfa) refers to a formal standard ([ISO 19125-1:2004](https://www.iso.org/standard/40114.html)) that describes how objects in the real world can be represented in computers, with emphasis on the spatial geometry of these objects. It also describes how such objects can be stored in and retrieved from databases, and which geometrical operations should be defined for them.  The standard is widely implemented in spatial databases (such as [PostGIS](https://postgis.net)), commercial GIS (e.g., [ESRI ArcGIS](https://www.esri.com/en-us/home)) and forms the vector data basis for libraries such as [GDAL](https://gdal.org/en/stable).*\n",
    "\n",
    "### Notebook Goals\n",
    "This notebook will introduce you to the [***sf***](https://cran.r-project.org/web/packages/sf/index.html) package and working with geographic vector data in the [simple features (sf)](https://en.wikipedia.org/wiki/Simple_Features) data standard.  This notebook is only intended to be a very quick introductin to the *sf* package as many more *sf* functions will be introduced in later notebooks, primairly in the **Mapping and Visualization** and **Spatial Analyses** chapters.\n",
    "\n",
    "### ✨ Prerequisites ✨\n",
    "* Have a copy of the *usa_boundary.zip* shapefile available in your workspace.\n",
    "  * You can download the zipped shapefile *usa_boundary.zip* including the four *usa_boundary* shapefile files from [the I-GUIDE platform]() or [Kate's GitHub]().\n",
    "\n",
    "### Additional Resources on the Web\n",
    "\n",
    "* [Using *sf* for Spatial Data & Intro to Making Maps](https://learning.nceas.ucsb.edu/2023-04-coreR/session_15.html)\n",
    "\n",
    "### Notebook Overview\n",
    "1. Setup\n",
    "2. Reading and Writing Spatial Data\n",
    "4. Creating and Viewing Spatial Objects\n",
    "\n",
    "---"
   ]
  },
  {
   "cell_type": "markdown",
   "id": "e75f1209-a998-422a-ab9e-b7fa0b0435a5",
   "metadata": {},
   "source": [
    "## 1. Setup\n",
    "This notebook requires the following R packages and functions.\n",
    "\n",
    "[**sf**](https://cran.r-project.org/web/packages/sf/index.html) · Support for [simple features](https://r-spatial.github.io/sf/articles/sf1.html), a standardized way to encode spatial vector data - Binds to [GDAL](https://gdal.org/en/stable) for reading and writing data, to [GEOS](https://libgeos.org) for geometrical operations, and to [PROJ](https://proj.org/en/stable) for projection conversions and datum transformations - Uses by default the [*s2*](https://cran.r-project.org/web/packages/s2/index.html) package for spherical geometry operations on ellipsoidal (long/lat) coordinates · This notebook uses the following functions from *sf*.\n",
    "\n",
    "* [*st_as_sf*](https://rdrr.io/cran/sf/man/st_as_sf.html) · convert foreign object to an sf object\n",
    "* [*st_bbox*](https://rdrr.io/cran/sf/man/st_bbox.html) · return bounding of a simple feature or simple feature set\n",
    "* [*st_geometry*](https://rdrr.io/cran/sf/man/st_geometry.html) · get, set, replace or rename geometry from an sf object\n",
    "* [*st_read*](https://rdrr.io/cran/sf/man/st_read.html) · read simple features or layers from file or database\n",
    "* [*st_write*](https://rdrr.io/cran/sf/man/st_write.html) · write simple features object to file or database"
   ]
  },
  {
   "cell_type": "markdown",
   "id": "9ec5e09c-f334-4155-9be1-327b47f04c5e",
   "metadata": {},
   "source": [
    "### 1a. Install and Load Required Packages\n",
    "\n",
    "If you have not already installed the required packages, uncomment and run the code below:"
   ]
  },
  {
   "cell_type": "code",
   "execution_count": null,
   "id": "b98a7baa-3676-4da5-8635-4a30c4b975df",
   "metadata": {},
   "outputs": [],
   "source": [
    "# install.packages(\"sf\")"
   ]
  },
  {
   "cell_type": "markdown",
   "id": "398c38c8-22d2-4570-b083-b42869349153",
   "metadata": {},
   "source": [
    "Load the packages into your workspace."
   ]
  },
  {
   "cell_type": "code",
   "execution_count": null,
   "id": "d7937dca-4171-4385-8e97-bed10924baa8",
   "metadata": {},
   "outputs": [],
   "source": [
    "library(sf)"
   ]
  },
  {
   "cell_type": "markdown",
   "id": "fb5ccccf-739d-4511-8a77-abef70dc3c47",
   "metadata": {},
   "source": [
    "## 2. Reading and Writing Spatial Data\n",
    "\n",
    "### 2a. Reading Spatial Data with [`st_read`](https://rdrr.io/cran/sf/man/st_read.html)\n",
    "\n",
    "The [`st_read`](https://rdrr.io/cran/sf/man/st_read.html) function from the [***sf***](https://cran.r-project.org/web/packages/sf/index.html) package reads spatial vector data from a variety of formats supported by [GDAL (Geospatial Data Abstraction Library)](https://gdal.org/en/stable), including [ESRI Shapefile (.shp)](https://doc.arcgis.com/en/arcgis-online/reference/shapefiles.htm), [GeoJSON (.geojson)](https://geojson.org), [GeoPackage (.gpkg)](https://www.geopackage.org), [KML (.kml) and KMZ (.kmz)](https://en.wikipedia.org/wiki/Keyhole_Markup_Language), [CSV with WKT (well-known text) (.csv)](https://en.wikipedia.org/wiki/Well-known_text_representation_of_geometry), and more.\n",
    "\n",
    "[`st_read`](https://rdrr.io/cran/sf/man/st_read.html) simplifies the process of reading in spatial data by automatically recognizing the file format and returning the data as a [simple features (sf)](https://en.wikipedia.org/wiki/Simple_Features) object.\n",
    "\n",
    "**★ Pro Tip:**  If the [coordinate reference system (CRS)](https://en.wikipedia.org/wiki/Spatial_reference_system) is specified in the file, it will be read automatically."
   ]
  },
  {
   "cell_type": "code",
   "execution_count": null,
   "id": "a5856071-2950-44d8-9e81-c99200ace266",
   "metadata": {},
   "outputs": [],
   "source": [
    "# read the USA boundary shapefile as an sf object\n",
    "usa_boundary <- st_read(\"usa_boundary.shp\")"
   ]
  },
  {
   "cell_type": "markdown",
   "id": "aeab1bd8-5335-49fd-8512-e08d5b83f30e",
   "metadata": {},
   "source": [
    "When we use [`st_read`](https://rdrr.io/cran/sf/man/st_read.html) to read in the *usa_boundary.shp* shapefile we get a preview of some of the file's spatial metadata.\n",
    "\n",
    "* The data was read in using the **ESRI Shapefile** driver.\n",
    "* The data includes **1 feature** (the boundary of the United States) and has **166 attribute fields**.\n",
    "* The geometry type is **multipolygon**.\n",
    "* The bounding box is **(-171.7911, 18.9161) (-66.96466 71.35776)**\n",
    "* The coordinate reference system (CRS) is the **[World Geodetic System 1984 (WGS 84)](https://en.wikipedia.org/wiki/World_Geodetic_System) CRS**"
   ]
  },
  {
   "cell_type": "markdown",
   "id": "a926273d-d764-417c-8fdb-9c492453089a",
   "metadata": {},
   "source": [
    "### 2b. Writing Spatial Data with [*st_write*](https://rdrr.io/cran/sf/man/st_write.html)\n",
    "\n",
    "To export spatial data, the `st_write()` function can save an *sf* object to a variety of formats.\n",
    "\n",
    "You can specify the output format by either adding the appropriate file extension or specifying the appropritate GDAL driver.  Additional options can be specified to control how the data is written.\n",
    "\n",
    "For example, the following two lines of code achieve the same output.\n",
    "\n",
    "**★ Pro Tip:**  The `append = F` parameter allows the file to overwrite an already-existing file with the same name in the working directory."
   ]
  },
  {
   "cell_type": "code",
   "execution_count": null,
   "id": "56e6f57c-12ec-4ef1-891f-1047d32932b3",
   "metadata": {},
   "outputs": [],
   "source": [
    "st_write(dat_sf, \"data_sf.shp\", append = F)\n",
    "st_write(dat_sf, \"data_sf\", driver = \"ESRI Shapefile\", append = F)"
   ]
  },
  {
   "cell_type": "markdown",
   "id": "a7badcff-608b-4e89-b2a4-2d87c2367064",
   "metadata": {},
   "source": [
    "### 2c. Spatial Data Types Supported by the `st_read` and `st_write` Functions\n",
    "\n",
    "| **Format Name**          | **File Extension** | **GDAL Driver**         | **Description** | **Commonality Ranking** |\n",
    "|:--------------------------|:-------------------|:-------------------------|:----------------|:------------------------|\n",
    "| **GeoPackage**           | `.gpkg`           | `GPKG`                  | Modern SQLite-based format, supports multiple layers and large datasets efficiently. | ✅ **Very Common** |\n",
    "| **ESRI Shapefile**       | `.shp`            | `ESRI Shapefile`        | Legacy GIS format, widely supported but has limitations (e.g., 10-character field names, no multi-layer support). | ✅ **Very Common** |\n",
    "| **GeoJSON**              | `.geojson`        | `GeoJSON`               | Lightweight JSON-based format used in web mapping applications. | ✅ **Very Common** |\n",
    "| **CSV with WKT/WKB**     | `.csv`            | `CSV`                    | Tabular format; stores spatial data as WKT (Well-Known Text) or coordinates in separate columns. | ✅ **Very Common** |\n",
    "| **KML/KMZ**              | `.kml`, `.kmz`    | `KML`                   | Used in Google Earth and lightweight visualization applications. | ⚠️ **Less Common** |\n",
    "| **FlatGeobuf**           | `.fgb`            | `FlatGeobuf`            | High-performance binary format, optimized for large datasets and streaming. | ⚠️ **Less Common** |\n",
    "| **Spatialite (SQLite-based)** | `.sqlite` | `SQLite`                | Lightweight spatial database format similar to GeoPackage but less widely adopted. | ⚠️ **Less Common** |\n",
    "| **MapInfo TAB**          | `.tab`            | `MapInfo File`          | Proprietary format used in MapInfo GIS software, mostly in government applications. | ⚠️ **Less Common** |\n",
    "| **GML (Geography Markup Language)** | `.gml` | `GML`                   | XML-based open standard for spatial data, used in OGC services and European INSPIRE datasets. | ⚠️ **Less Common** |\n",
    "| **PostGIS (Database)**   | N/A (Direct Connection) | `PostgreSQL/PostGIS` | Stores spatial data in a PostgreSQL database with advanced querying capabilities. | ⛔ **Specialized or Advanced Use** |\n",
    "| **OpenStreetMap (OSM XML)** | `.osm`        | `OSM`                   | XML-based format containing OpenStreetMap data. | ⛔ **Specialized or Advanced Use** |\n",
    "| **DXF (AutoCAD)**        | `.dxf`            | `DXF`                   | CAD format for exchanging vector data, used in engineering and design. | ⛔ **Specialized or Advanced Use** |\n",
    "| **GPS Exchange Format (GPX)** | `.gpx`    | `GPX`                   | Format for storing GPS waypoints, routes, and tracks. | ⛔ **Specialized or Advanced Use** |\n",
    "| **MapInfo Interchange**  | `.mif`, `.mid`    | `MapInfo File`          | ASCII-based MapInfo format for data exchange. | ⛔ **Specialized or Advanced Use** |"
   ]
  },
  {
   "cell_type": "markdown",
   "id": "f046a8f9-71bc-4413-93b8-5f3b34cd7a1a",
   "metadata": {},
   "source": [
    "## 3. Creating and Viewing Spatial Objects\n",
    "\n",
    "### 3a. Creating Simple Features with [*st_as_sf*](https://rdrr.io/cran/sf/man/st_as_sf.html)\n",
    "The `st_as_sf()` function converts data frames with spatial information into *sf* objects.\n",
    "\n",
    "* The `coords` argument specifies the column names for the x (longitude) and y (latitude) coordinates.\n",
    "* The `crs` argument defines the coordinate reference system."
   ]
  },
  {
   "cell_type": "code",
   "execution_count": null,
   "id": "40b99768-e497-4899-9c1c-43589dac4428",
   "metadata": {},
   "outputs": [],
   "source": [
    "# sample data frame with coordinates\n",
    "coordinates_df <- data.frame(\n",
    "  id = 1:3,\n",
    "  longitude = c(-93.625, -93.629, -93.635),\n",
    "  latitude = c(42.034, 42.036, 42.040)\n",
    ")\n",
    "\n",
    "# view the sample data frame\n",
    "print(coordinates_df)"
   ]
  },
  {
   "cell_type": "code",
   "execution_count": null,
   "id": "b64f7b2c-649d-4b22-8bc4-96976933b930",
   "metadata": {},
   "outputs": [],
   "source": [
    "# convert to sf object\n",
    "points_sf <- st_as_sf(\n",
    "  coordinates_df,\n",
    "  coords = c(\"longitude\", \"latitude\"),\n",
    "  crs = 4326 # WGS84 CRS\n",
    ")\n",
    "\n",
    "# view the sf object\n",
    "print(points_sf)"
   ]
  },
  {
   "cell_type": "markdown",
   "id": "a1531199-d234-4492-bbd8-823e9921aedb",
   "metadata": {},
   "source": [
    "The data has been converted to an *sf* object with a *geometry* column."
   ]
  },
  {
   "cell_type": "markdown",
   "id": "7821a5b6-7415-411e-9ee3-4040940ad77e",
   "metadata": {},
   "source": [
    "### 3b. Viewing Spatial Extents with [*st_bbox*](https://rdrr.io/cran/sf/man/st_bbox.html)\n",
    "The `st_bbox()` function extracts the bounding box (spatial extent) of an `sf` object."
   ]
  },
  {
   "cell_type": "code",
   "execution_count": null,
   "id": "103e356b-4548-4bd6-be97-1592f4e9dd2c",
   "metadata": {},
   "outputs": [],
   "source": [
    "# get the bounding box of the sf object\n",
    "print(st_bbox(points_sf))"
   ]
  },
  {
   "cell_type": "markdown",
   "id": "bf4a136d-a33e-4593-b8fb-ea4ea984e6d0",
   "metadata": {},
   "source": [
    "### 3c. Accessing Geometries with [*st_geometry*](https://rdrr.io/cran/sf/man/st_geometry.html)\n",
    "The `st_geometry()` function extracts the geometry (spatial features) of an `sf` object.\n",
    "\n",
    "`st_geometry()` returns the geometry column as an `sfc` (simple feature column) object.  You can manipulate or analyze the geometry separately using additional `sf` functions."
   ]
  },
  {
   "cell_type": "code",
   "execution_count": null,
   "id": "edada99c-9184-4511-98bb-7273c95a7fff",
   "metadata": {},
   "outputs": [],
   "source": [
    "# access geometry of an sf object\n",
    "geometry <- st_geometry(points_sf)\n",
    "\n",
    "# view geometry and spatial metadata\n",
    "print(geometry)"
   ]
  },
  {
   "cell_type": "markdown",
   "id": "9b3e599e-02ce-4bc3-931d-cde2b025a236",
   "metadata": {},
   "source": [
    "You can also pass the results of the `st_geometry` function to the `plot` function to create a quick map visualization of your data."
   ]
  },
  {
   "cell_type": "code",
   "execution_count": null,
   "id": "0b1bc8c1-28ad-4f72-868e-55f74aea9e11",
   "metadata": {},
   "outputs": [],
   "source": [
    "plot(st_geometry(dat_sf))"
   ]
  },
  {
   "cell_type": "markdown",
   "id": "8de3409e-7e15-49a3-b0ac-23a7651c5ab8",
   "metadata": {},
   "source": [
    "## Review\n",
    "\n",
    "This notebook provided an introduction to working with spatial data in R using the [*sf*](https://cran.r-project.org/web/packages/sf/index.html) package, including:\n",
    "\n",
    "* Reading and writing spatial data with [*st_read*](https://rdrr.io/cran/sf/man/st_read.html) and [*st_write*](https://rdrr.io/cran/sf/man/st_write.html).\n",
    "* Creating, inspecting, and manipulating spatial objects using [*st_as_sf*](https://rdrr.io/cran/sf/man/st_as_sf.html), [*st_bbox*](https://rdrr.io/cran/sf/man/st_bbox.html) , and [*st_geometry*](https://rdrr.io/cran/sf/man/st_geometry.html). "
   ]
  },
  {
   "cell_type": "markdown",
   "id": "ba3841ef-5244-406a-9ef9-780f6b89d200",
   "metadata": {},
   "source": [
    "---\n",
    "\n",
    "## Next Steps\n",
    "\n",
    "* Continue to [**Chapter 2.02 Working with CRS: Reprojecting and Transforming Vector Data**]()\n",
    "* Continue to [**Chapter 2.03 Preparing Vector Data for Analysis**]()\n",
    "* Move on to Chapter 3: IPUMS Data Acquisition and Extraction\n",
    "  * [**Chapter 3.01 IPUMS USA Data Extraction using ipumsr**]()\n",
    "  * [**Chapter 3.02 IPUMS NHGIS Data Extraction using ipumsr**]()\n",
    "* Move on to Chapter 4: Open-Source GIS Data Acquisition and Extraction\n",
    "  * [**Chapter 4.01 Importing Data from Natural Earth with rnaturalearth and rnaturalearthdata**]()\n",
    "* Return to the [**R Spatial Notebooks Project Chapter List**](https://vavramusser.github.io/r-spatial/#:~:text=Chapter%201%3A%20Data%20Sources%20and%20APIs) to view a list of all available notebooks organized in the R Spatial Notebooks chapter structure.\n",
    "* Visit the [**R Spatial Notebooks Project Homepage**](https://vavramusser.github.io/r-spatial) to learn more about the project, view the list of all notebooks, and explore additional resources.\n",
    "* Join the project [**Mailing List**](https://mailchi.mp/ab01e8fc8397/r-spatial-email-signup) to hear about future notebook releases and other updates.\n",
    "* If you have an idea for a new notebook please submit your idea via the [**Suggestion Box**](https://us19.list-manage.com/survey?u=746bf8d366d6fbc99c699e714&id=54590a28ea&attribution=false).\n",
    "\n",
    "---\n",
    "\n",
    "## ★ Thank You ★\n",
    "\n",
    "Thank you so much for engaging with this notebook and supporting the project!  The R Spatial Notebooks Project is a labor of love so if you enjoy or benefit from these notebooks, please consider [**Donating to the Project**](https://buymeacoffee.com/vavramusser).  Your support allows me to continue producing notebooks and supporting the R Spatial Notebooks community."
   ]
  }
 ],
 "metadata": {
  "kernelspec": {
   "display_name": "R",
   "language": "R",
   "name": "ir"
  },
  "language_info": {
   "codemirror_mode": "r",
   "file_extension": ".r",
   "mimetype": "text/x-r-source",
   "name": "R",
   "pygments_lexer": "r",
   "version": "4.3.3"
  }
 },
 "nbformat": 4,
 "nbformat_minor": 5
}
