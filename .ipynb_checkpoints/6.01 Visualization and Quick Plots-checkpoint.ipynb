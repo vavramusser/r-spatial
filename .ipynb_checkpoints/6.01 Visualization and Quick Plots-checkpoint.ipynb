{
 "cells": [
  {
   "cell_type": "markdown",
   "id": "89474c97-01cc-4738-8cab-8ed363d0c8a0",
   "metadata": {},
   "source": [
    "# Visualization and Quick Plots\n",
    "### by [Kate Vavra-Musser](https://vavramusser.github.io) for the [R Spatial Notebook Series](https://vavramusser.github.io/r-spatial)"
   ]
  },
  {
   "cell_type": "markdown",
   "id": "2865d5cd-32f4-45a6-bfd6-aefd9f126a6b",
   "metadata": {},
   "source": [
    "## Introduction\n",
    "Visualization is a critical step in spatial analysis, enabling us to explore and communicate patterns in spatial data effectively. This notebook focuses on quick visualization techniques, which are essential during the exploratory phase of analysis. By visualizing your data early on, you can uncover trends, detect outliers, and gain insights that inform the rest of your workflow.\n",
    "\n",
    "This notebook is the foundation for the rest of the \"Mapping and Visualization\" chapter. Later notebooks will dive deeper into working with point and polygon data, choropleth mapping, and advanced tools like leaflet and tmap.\n",
    "\n",
    "### Notebook Goals\n",
    "Learn how to create quick, static plots of spatial data.  Use R's sf package to handle spatial data efficiently.  Leverage ggplot2 for clean and customizable visualizations.  Address common challenges, such as working with projections and large datasets.\n",
    "\n",
    "By the end of this notebook, you'll be able to: Quickly visualize spatial data to assess its structure and content.  Use plotting techniques that set the stage for more advanced mapping.\n",
    "\n",
    "### ✨ Prerequisites ✨\n",
    "* Complete [Introduction to sf: Reading, Writing, and Inspecting Vector Data](https://platform.i-guide.io/notebooks/9968babe-22e4-4c3d-98e2-d8b45e9672cd)\n",
    "* Complete [Working with CRS: Reprojection and Transformation](https://platform.i-guide.io/notebooks/76912ca7-73e4-437e-8ecf-0cb456bd7282)\n",
    "* Complete [Preparing Vector Data for Analysis](https://platform.i-guide.io/notebooks/44926d85-7f08-4774-a103-a22ff3876cad)\n",
    "* Complete [IPUMS NHGIS Data Extraction Using ipumsr: Supplemental Exercise 2](https://platform.i-guide.io/notebooks/bc79eda6-8353-42ea-8cb7-5db70aa6febf)\n",
    "\n",
    "### 💽 Data Used in this Notebook 💽\n",
    "* United States State Boundaries Shapefile (*ipums_nhgis_states.shp*)\n",
    "  * If you worked through [IPUMS NHGIS Data Extraction Using ipumsr: Supplemental Exercise 2](https://platform.i-guide.io/notebooks/bc79eda6-8353-42ea-8cb7-5db70aa6febf) you should have created and saved a copy of *ipums_nhgis_states.shp* in the final section of the notebook.\n",
    "  * You can download a copy of *ipums_nhgis_states.zip* file from [the I-GUIDE platform](https://platform.i-guide.io/datasets/1a5acd50-4741-447a-bf36-2331b39559af) or directly from [Kate's GitHub](https://github.com/vavramusser/r-spatial/blob/main/ipums_nhgis_states.zip).  You will need to unzip *ipums_nhgis_states.zip* and extract *ipums_nhgis_states.shp* file to your workspace.\n",
    "\n",
    "### Notebook Overview\n",
    "1. Setup\n",
    "2. Basic Spatial Data Plotting\n",
    "3. Mapping with ggplot2\n",
    "\n",
    "---"
   ]
  },
  {
   "cell_type": "markdown",
   "id": "66bf081d-4976-4d06-855f-3621cdd642b1",
   "metadata": {},
   "source": [
    "## 1. Setup\n",
    "\n",
    "This notebook requires the following R packages and functions.\n",
    "\n",
    "[**ggplot2**](https://cran.r-project.org/web/packages/ggplot2/index.html) · Create Elegant Data Visualisations Using the Grammar of Graphics · A system for *declaratively* creating graphics, based on *The Grammar of Graphics*. You provide the data, tell *ggplot2* how to map variables to aesthetics, what graphical primitives to use, and it takes care of the details. · This notebook uses the following functions from *ggplot2*.\n",
    "\n",
    "* *CoordSf* · visualize sf objects\n",
    "  * *geom_sf* · geometric objects (points, lines, or polygons)\n",
    "* [*ggplot*](https://rdrr.io/cran/ggplot2/man/ggplot.html) · create a new ggplot\n",
    "* [*labs*](https://rdrr.io/cran/ggplot2/man/labs.html) · modify axis, legend, and plot labels\n",
    "* [*ggtheme*](https://rdrr.io/cran/ggplot2/man/ggtheme.html) · complete themes\n",
    "  * *theme_minimal* · minimal theme\n",
    "\n",
    "[**sf**](https://cran.r-project.org/web/packages/sf/index.html) · Support for [simple features](https://r-spatial.github.io/sf/articles/sf1.html), a standardized way to encode spatial vector data - Binds to [*GDAL*](https://gdal.org/en/stable) for reading and writing data, to [*GEOS*](https://libgeos.org) for geometrical operations, and to [*PROJ*](https://proj.org/en/stable) for projection conversions and datum transformations - Uses by default the [*s2*](https://cran.r-project.org/web/packages/s2/index.html) package for spherical geometry operations on ellipsoidal (long/lat) coordinates · This notebook uses the following functions from *sf*.\n",
    "\n",
    "* [*st_read*](https://rdrr.io/cran/sf/man/st_read.html) · read simple features or layers from file or database\n",
    "* [*st_transform*](https://rdrr.io/cran/sf/man/st_transform.html) · transform or convert coordinates of simple feature\n",
    "* [*st_write*](https://rdrr.io/cran/sf/man/st_write.html) · write simple features object to file or database\n",
    "\n",
    "[**viridis**](https://cran.r-project.org/web/packages/viridis/index.html) · Colorblind-Friendly Color Maps for R · Color maps designed to improve graph readability for readers with common forms of color blindness and/or color vision deficiency. The color maps are also perceptually-uniform, both in regular form and also when converted to black-and-white for printing. This package also contains [*ggplot2*](https://cran.r-project.org/web/packages/ggplot2/index.html) bindings for discrete and continuous color and fill scales. A lean version of the package called [*viridisLite*](https://cran.r-project.org/web/packages/viridisLite/index.html) that does not include the *ggplot2* bindings is also available. · This notebook uses the following functions from *viridis*.\n",
    "\n",
    "* [*scale_fill_viridis*](https://rdrr.io/cran/viridis/man/scale_viridis.html) · Viridis Color Scales for [*ggplot2*](https://cran.r-project.org/web/packages/ggplot2/index.html)"
   ]
  },
  {
   "cell_type": "markdown",
   "id": "2b474442-9324-4b88-ae61-b53123d8f547",
   "metadata": {},
   "source": [
    "### 1a. Install and Load Required Packages\n",
    "If you have not already installed the required packages, uncomment and run the code below:"
   ]
  },
  {
   "cell_type": "code",
   "execution_count": null,
   "id": "0707c1ef-8684-4f7b-aecd-97d31e5b8c59",
   "metadata": {},
   "outputs": [],
   "source": [
    "# install.packages(c(\"ggplot2\", \"sf\", \"viridis\"))"
   ]
  },
  {
   "cell_type": "markdown",
   "id": "eaef2b44-ae0e-4dc6-9234-08adb27fbccd",
   "metadata": {},
   "source": [
    "Load the packages into your workspace."
   ]
  },
  {
   "cell_type": "code",
   "execution_count": null,
   "id": "f9f0c3cc-d963-4148-97d7-fffdf63dda04",
   "metadata": {},
   "outputs": [],
   "source": [
    "library(ggplot2)\n",
    "library(sf)\n",
    "library(viridis)"
   ]
  },
  {
   "cell_type": "code",
   "execution_count": null,
   "id": "d7304090-6eb8-4c11-a129-2b8e689c0ab9",
   "metadata": {},
   "outputs": [],
   "source": [
    "# load example spatial data\n",
    "usa_states <- st_read(\"ipums_nhgis_states.shp\")"
   ]
  },
  {
   "cell_type": "code",
   "execution_count": null,
   "id": "f486c921-0cbb-4d52-801d-49d006b97acd",
   "metadata": {},
   "outputs": [],
   "source": [
    "# inspect the data\n",
    "print(usa_states)"
   ]
  },
  {
   "cell_type": "markdown",
   "id": "faa0a146-b246-4f01-8c6f-07aa5f8b4c15",
   "metadata": {},
   "source": [
    "## 2. Basic Spatial Data Plotting\n",
    "\n",
    "Before diving into advanced visualization techniques, it’s helpful to understand how to create simple maps using base R plotting functions. These quick visualizations are often used in the early stages of spatial analysis to get a sense of the structure, extent, and contents of a spatial dataset.\n",
    "\n",
    "In this section, we:\n",
    "\n",
    "- Read and inspect vector spatial data using the sf package.\n",
    "- Use the base R plot() function to create quick, informative maps with minimal setup.\n",
    "\n",
    "While base R plots lack the customization of other approaches, they are ideal for:\n",
    "\n",
    "- Verifying data was loaded and parsed correctly.\n",
    "- Quickly exploring spatial attributes and geometries.\n",
    "- Creating maps with minimal code or dependencies.\n",
    "\n",
    "This is a great starting point for newcomers to spatial analysis in R, and it helps build an intuitive understanding of how spatial objects behave."
   ]
  },
  {
   "cell_type": "markdown",
   "id": "5fcfea0d-4841-423d-b3ac-4d65053952dd",
   "metadata": {},
   "source": [
    "plot(st_geometry(usa_states))"
   ]
  },
  {
   "cell_type": "code",
   "execution_count": null,
   "id": "41ffed16-a98c-4497-ac1c-ccb1afbbf802",
   "metadata": {},
   "outputs": [],
   "source": [
    "plot(usa_states[\"REGION10\"])"
   ]
  },
  {
   "cell_type": "code",
   "execution_count": null,
   "id": "adc5b31a-d8ee-4caa-859b-f21ea19f8008",
   "metadata": {},
   "outputs": [],
   "source": [
    "plot(usa_states[\"REGION10\"], main = \"Base R Plot of Spatial Data\")"
   ]
  },
  {
   "cell_type": "markdown",
   "id": "acc275b5-d834-44fa-a74b-9dd6a669f075",
   "metadata": {},
   "source": [
    "## 3. Mapping with *ggplot2*\n",
    "\n",
    "The [*ggplot2*](https://cran.r-project.org/web/packages/ggplot2/index.html) package is a powerful and flexible system for creating static graphics in R, and it's especially useful for producing high-quality maps when used in combination with the [*sf*](https://cran.r-project.org/web/packages/sf/index.html) package.\n",
    "\n",
    "In this section, we explore how to build maps with [*ggplot2*](https://cran.r-project.org/web/packages/ggplot2/index.html), starting from simple geometry plots and progressing to full thematic visualizations. [*ggplot2*](https://cran.r-project.org/web/packages/ggplot2/index.html) provides fine-grained control over map appearance, allowing you to customize colors, labels, legends, and more.\n",
    "\n",
    "Advantages of using [*ggplot2*](https://cran.r-project.org/web/packages/ggplot2/index.html) for mapping include:\n",
    "\n",
    "- Seamless integration with tidyverse workflows.\n",
    "- Layered syntax that makes it easy to incrementally build complex maps.\n",
    "- Extensive customization options for styling and annotation.\n",
    "\n",
    "We'll begin by learning how to plot just the geometry of spatial features—such as borders, shapes, and points—before layering in additional information."
   ]
  },
  {
   "cell_type": "markdown",
   "id": "414c770e-9745-459c-bd96-c129a66270ef",
   "metadata": {},
   "source": [
    "### 3.1 Plotting Geometry\n",
    "\n",
    "A great first step in using [*ggplot2*](https://cran.r-project.org/web/packages/ggplot2/index.html) for spatial visualization is to plot only the geometries in your spatial object - without attaching any specific attributes or variables. This allows you to quickly assess the shapes, locations, and layout of your data.\n",
    "\n",
    "We use *geom_sf()* to render spatial objects created with the [*sf*](https://cran.r-project.org/web/packages/sf/index.html) package. When no fill or color aesthetic is specified, [*ggplot2*](https://cran.r-project.org/web/packages/ggplot2/index.html) will use default values to outline polygons or plot points.\n",
    "\n",
    "This kind of geometry-only plot is useful for:\n",
    "\n",
    "- Exploring the structure and coverage of your spatial data.\n",
    "- Confirming that your coordinate reference system (CRS) looks appropriate.\n",
    "- Setting the stage for thematic mapping in subsequent steps.\n",
    "\n",
    "Up next, we’ll map attributes—linking visual elements like color to data variables."
   ]
  },
  {
   "cell_type": "code",
   "execution_count": null,
   "id": "6f45b81f-b2ac-475e-b3c4-ce80cb671d67",
   "metadata": {},
   "outputs": [],
   "source": [
    "# basic plot using ggplot2 and geom_sf\n",
    "ggplot(data = usa_states) +\n",
    "    geom_sf() +\n",
    "    theme_minimal()"
   ]
  },
  {
   "cell_type": "markdown",
   "id": "a0ea5a6a-f8e6-47b7-8269-d841ec1146d0",
   "metadata": {},
   "source": [
    "### 3.2 Plotting Attributes\n",
    "\n",
    "Once you've mapped the raw geometries, the next step is to visualize the attributes associated with those spatial features. This is the essence of thematic mapping - using color, size, or shape to represent data values tied to geography.\n",
    "\n",
    "Using [*ggplot2*](https://cran.r-project.org/web/packages/ggplot2/index.html), we can map variables by assigning them to aesthetics like fill, color, or size. For example, we might shade polygons based on population density, or color points based on category or count.\n",
    "\n",
    "In this section, you’ll learn how to:\n",
    "\n",
    "- Use the aes() function within geom_sf() to link spatial data attributes to visual elements.\n",
    "- Control how data-driven attributes are mapped to the appearance of the plot.\n",
    "- Create visual representations of social or environmental phenomena using real data.\n",
    "\n",
    "These maps are often called choropleths (for polygons) or graduated symbol maps (for points)—and they serve as powerful tools for pattern detection and storytelling."
   ]
  },
  {
   "cell_type": "code",
   "execution_count": null,
   "id": "f260a768-9853-48f2-8edf-06ed57828ea1",
   "metadata": {},
   "outputs": [],
   "source": [
    "# basic plot using ggplot2 and geom_sf\n",
    "ggplot(data = usa_states) +\n",
    "    geom_sf(aes(fill = REGION10)) +\n",
    "    theme_minimal()"
   ]
  },
  {
   "cell_type": "markdown",
   "id": "2b217b73-50e1-4222-879d-067bb5b0aa9e",
   "metadata": {},
   "source": [
    "### 3.3 Adding Titles, Labels, and Legends\n",
    "\n",
    "As your maps become more detailed, it's important to guide the viewer with meaningful titles, axis labels, and legends. These elements provide essential context and help users interpret your map correctly.\n",
    "\n",
    "In ggplot2, these features are easy to add using functions like labs() for titles and axis labels, and guides() or theme() for customizing legend appearance.\n",
    "\n",
    "In this section, you’ll learn how to:\n",
    "\n",
    "- Add and customize map titles, subtitles, and captions.\n",
    "- Modify axis labels or remove them when appropriate for spatial data.\n",
    "- Control the display of legends—adjusting their position, title, and layout.\n",
    "\n",
    "Adding clear, descriptive annotations turns a basic plot into a polished and professional map, helping you communicate your insights more effectively."
   ]
  },
  {
   "cell_type": "code",
   "execution_count": null,
   "id": "b955b7c3-c6ef-4eaa-8a9a-eb42cb4af1ef",
   "metadata": {},
   "outputs": [],
   "source": [
    "# basic plot using ggplot2 and geom_sf\n",
    "ggplot(data = usa_states) +\n",
    "    geom_sf(aes(fill = REGION10)) +\n",
    "    labs(title = \"Region by State\",\n",
    "         fill = \"Region\") +\n",
    "    theme_minimal()"
   ]
  },
  {
   "cell_type": "markdown",
   "id": "cd543bc0-0564-44a2-a957-570c86687337",
   "metadata": {},
   "source": [
    "### 3.4 Adjusting Color Palettes\n",
    "\n",
    "Effective use of color can significantly improve the readability and impact of your maps. In this section, we explore how to fine-tune the color palettes used for attribute-based mapping.\n",
    "\n",
    "Whether you're mapping continuous variables (like income or temperature) or categorical ones (like land use types), choosing the right palette is essential for conveying your message clearly and accessibly.\n",
    "\n",
    "Here you'll learn how to:\n",
    "\n",
    "- Apply color palettes using scale_fill_*() and scale_color_*() functions.\n",
    "- Choose appropriate palettes for sequential, diverging, and qualitative data.\n",
    "- Use colorblind-friendly and perceptually uniform palettes, such as those from the viridis and RColorBrewer packages.\n",
    "\n",
    "Good color choices are not just aesthetic—they also help ensure your maps are readable and interpretable by a broader audience, including those with color vision deficiencies.\n",
    "\n",
    "Choosing appropriate color palettes is crucial when visualizing spatial data. Effective palettes help communicate the underlying data clearly and accurately, especially when color is used to represent continuous or categorical attributes.\n",
    "\n",
    "**Best practices:**\n",
    "- Use sequential palettes (e.g., Blues, Viridis) for continuous data.\n",
    "- Use qualitative palettes (e.g., Set1, Dark2) for categorical data.\n",
    "- Choose colorblind-friendly palettes where possible.\n",
    "- Use perceptually uniform palettes (like `viridis`) for improved readability.\n",
    "\n",
    "Below are some examples using `ggplot2` and `viridis`."
   ]
  },
  {
   "cell_type": "code",
   "execution_count": null,
   "id": "cd6aebb5-95dd-4a7c-93d0-3a30d8e6c3b7",
   "metadata": {},
   "outputs": [],
   "source": [
    "#ggplot(data = usa_states) +\n",
    "#  geom_sf(aes(fill = STATEFP10)) +\n",
    "#  scale_fill_viridis_c(option = \"plasma\", name = \"Region by State\") +\n",
    "#  theme_minimal() +\n",
    "#  labs(title = \"Population Density by Region\")"
   ]
  },
  {
   "cell_type": "markdown",
   "id": "ab4b598b-18ad-4563-a710-1f7ed62cd91b",
   "metadata": {},
   "source": [
    "## 4. Comparing Plotting Approaches: `plot()`, `ggplot2`, and `tmap`\n",
    "\n",
    "There are multiple ways to create maps in R, each with its own strengths depending on your goals, workflow, and audience:\n",
    "\n",
    "- `plot()` is fast and simple — great for quick data checks and exploratory work.\n",
    "- `ggplot2` is highly customizable and integrates well with tidyverse data pipelines.\n",
    "- `tmap` provides easy thematic mapping with high-level functions and supports both static and interactive mapping modes.\n",
    "\n",
    "This section offers a side-by-side comparison of the same spatial dataset visualized using each approach. By viewing them together, you can begin to identify which tool best suits your needs—whether you're conducting rapid spatial exploration, building publication-quality maps, or preparing interactive visualizations for the web.\n",
    "\n",
    "As you move into the next chapters, you'll get hands-on experience using both ggplot2 and tmap in greater depth, applying them to real-world social science and environmental data."
   ]
  },
  {
   "cell_type": "code",
   "execution_count": null,
   "id": "9982872b-d615-44f7-a2bb-267f979bce56",
   "metadata": {},
   "outputs": [],
   "source": [
    "# Base R plot\n",
    "plot(your_sf_object[\"population_density\"], main = \"Base R plot\")"
   ]
  },
  {
   "cell_type": "code",
   "execution_count": null,
   "id": "83a61a34-0856-4b3f-b2e8-39e325c72938",
   "metadata": {},
   "outputs": [],
   "source": [
    "# ggplot2\n",
    "ggplot(data = your_sf_object) +\n",
    "  geom_sf(aes(fill = population_density)) +\n",
    "  theme_minimal() +\n",
    "  labs(title = \"ggplot2 Plot\")"
   ]
  },
  {
   "cell_type": "code",
   "execution_count": null,
   "id": "2c211817-5c12-44f1-8ab2-d27bdd554b6e",
   "metadata": {},
   "outputs": [],
   "source": [
    "# tmap\n",
    "library(tmap)\n",
    "tm_shape(your_sf_object) +\n",
    "  tm_fill(\"population_density\", palette = \"Blues\", title = \"Population Density\") +\n",
    "  tm_borders() +\n",
    "  tm_layout(title = \"tmap Plot\")"
   ]
  },
  {
   "cell_type": "markdown",
   "id": "d82a9f44-c540-4efe-b6f2-da22999a74fb",
   "metadata": {},
   "source": [
    "## 5. Exporting Maps\n",
    "\n",
    "Once you're happy with a map, you may want to save it for reports, presentations, or sharing.\n",
    "\n",
    "- Use `ggsave()` to export `ggplot2` visualizations.\n",
    "- Use `tmap_save()` to export `tmap` visualizations.\n",
    "\n",
    "Here's how to save a map to file:"
   ]
  },
  {
   "cell_type": "code",
   "execution_count": null,
   "id": "26487a7c-00b8-45d2-a5a5-d362bc2897b1",
   "metadata": {},
   "outputs": [],
   "source": [
    "# ggplot2 example\n",
    "p <- ggplot(data = usa_states) +\n",
    "  geom_sf(aes(fill = population_density)) +\n",
    "  theme_minimal()\n",
    "\n",
    "ggsave(\"population_map.png\", plot = p, width = 8, height = 6)\n",
    "\n",
    "# tmap example\n",
    "tm <- tm_shape(your_sf_object) +\n",
    "  tm_fill(\"population_density\") +\n",
    "  tm_borders()\n",
    "\n",
    "tmap_save(tm, filename = \"tmap_population_map.png\")"
   ]
  },
  {
   "cell_type": "markdown",
   "id": "482e9413-2d03-4538-9dba-2a8d9ce35f4b",
   "metadata": {},
   "source": [
    "---\n",
    "\n",
    "## Next Steps\n",
    "\n",
    "* Continue to [**Chapter 6.2 Mapping Point and Polygon Data**](https://platform.i-guide.io/notebooks/2b9f579c-32b0-4078-af39-994bb31d50ec)\n",
    "* Continue to [**Chapter 6.3 Choropleth Mapping**](https://platform.i-guide.io/notebooks/f2f973df-2412-49f0-ad39-d80051f20d4d)\n",
    "* Move on to Chapter 7: Foundational Spatial Analyses\n",
    "  * [**Chapter 7.1 Geometric Binary Predicates: The Building Blocks of Geometric Queries**](https://platform.i-guide.io/notebooks/06a40182-91cc-4ed4-befb-7dad6ff99966)\n",
    "  * [**Chapter 7.2 Spatial Joins and Filter by Location**](https://platform.i-guide.io/notebooks/a4f2cf0c-b777-4811-8aa1-6d5420795)\n",
    "  * [**Chapter 7.3 Distance and Nearest Neighbor Calculations**](https://platform.i-guide.io/notebooks/02f7f46b-c45f-4a06-81e0-d7df3f81ca23)\n",
    "* Return to the [**R Spatial Notebooks Project Chapter List**](https://vavramusser.github.io/r-spatial/#:~:text=Chapter%201%3A%20Data%20Sources%20and%20APIs) to view a list of all available notebooks organized in the R Spatial Notebooks chapter structure.\n",
    "* Visit the [**R Spatial Notebooks Project Homepage**](https://vavramusser.github.io/r-spatial) to learn more about the project, view the list of all notebooks, and explore additional resources.\n",
    "* Join the project [**Mailing List**](https://mailchi.mp/ab01e8fc8397/r-spatial-email-signup) to hear about future notebook releases and other updates.\n",
    "* If you have an idea for a new notebook please submit your idea via the [**Suggestion Box**](https://us19.list-manage.com/survey?u=746bf8d366d6fbc99c699e714&id=54590a28ea&attribution=false).\n",
    "\n",
    "---\n",
    "\n",
    "## ★ Thank You ★\n",
    "\n",
    "Thank you so much for engaging with this notebook and supporting the project!  The R Spatial Notebooks Project is a labor of love so if you enjoy or benefit from these notebooks, please consider [**Donating to the Project**](https://buymeacoffee.com/vavramusser).  Your support allows me to continue producing notebooks and supporting the R Spatial Notebooks community."
   ]
  },
  {
   "cell_type": "code",
   "execution_count": null,
   "id": "0e77725d-0366-4544-a4a4-9163cff29ec0",
   "metadata": {},
   "outputs": [],
   "source": []
  },
  {
   "cell_type": "code",
   "execution_count": null,
   "id": "a0fd2209-6b36-4716-8b9c-b978db03be13",
   "metadata": {},
   "outputs": [],
   "source": []
  }
 ],
 "metadata": {
  "kernelspec": {
   "display_name": "R",
   "language": "R",
   "name": "ir"
  },
  "language_info": {
   "codemirror_mode": "r",
   "file_extension": ".r",
   "mimetype": "text/x-r-source",
   "name": "R",
   "pygments_lexer": "r",
   "version": "4.3.3"
  }
 },
 "nbformat": 4,
 "nbformat_minor": 5
}
