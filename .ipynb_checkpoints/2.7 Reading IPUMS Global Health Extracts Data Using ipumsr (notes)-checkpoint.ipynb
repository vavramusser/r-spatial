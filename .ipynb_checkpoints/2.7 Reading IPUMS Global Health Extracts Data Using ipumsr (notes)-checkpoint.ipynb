{
 "cells": [
  {
   "cell_type": "markdown",
   "id": "429164da-e63b-4a77-ab3a-d9ac616a7332",
   "metadata": {},
   "source": [
    "# IPUMS Global Health Data Extraction Using ipumsr"
   ]
  },
  {
   "cell_type": "markdown",
   "id": "4165c62c-f002-41fb-b9d6-9c5c512a88db",
   "metadata": {},
   "source": [
    "From the IPUMS Global Health Website: IPUMS Global Health provides integrated international health survey data at no cost for research and educational purposes from three data series: the Demographic Health Surveys (DHS), the UNICEF Multiple Indicator Cluster surveys (MICS), and Performance Monitoring for Action (PMA).\n",
    "\n",
    "* **Demographic Health Surveys (DHS)**: Integrated Demographic and Health Surveys from The DHS Program, currently covering Africa and South Asian surveys from the 1980s to the present.\n",
    "* **Performance Monitoring for Action (PMA)**: Integrated Demographic and Health Surveys from The DHS Program, currently covering Africa and South Asian surveys from the 1980s to the present.\n",
    "* **Multiple Indicator Cluster Surveys (MICS)**: Integrated MICS surveys covering child health and well-being."
   ]
  },
  {
   "cell_type": "markdown",
   "id": "fe512f46-853c-4904-9254-48fde405ad97",
   "metadata": {},
   "source": [
    "#### Demographic Health Surveys (DHS)\n",
    "\n",
    "##### Bangladesh 1998\n",
    "\n",
    "**Variable Selection**\n",
    "* Major Source of Drinking Water (DRINKWTR)\n",
    "* House Has Telephone (Household Record) (HHPHONEHH)\n",
    "* Household has Refrigerator (from Household Record) (FRIDGEHH)\n",
    "* Household has Air Conditioner (AIRCON)\n",
    "* Household Wealth Index in Quintiles, from HH Form (WEALTHQHH)\n",
    "\n",
    "**IPUMS Preselected Variables**\n",
    "* IPUMS-DHS Sample Identifier (SAMPLE)\n",
    "* IPUMS-DHS Sample Identifier (string) (SAMPLESTR)\n",
    "* Country (COUNTRY)\n",
    "* Year of Sample (YEAR)\n",
    "* Unique Cross-Sample Household Identifier (IDHSHID)\n",
    "* Key to Link DHS Clusters to Context Data (string) (DHSID)\n",
    "* Unique Sample-Case PSU Identifier (IDHSPSU)\n",
    "* Unique Cross-Sample Sampling Strata (IDHSSTRATA)\n",
    "* Sample-Specific Household Identifier (HHID)\n",
    "* Line Number in Household (HHLINENO)\n",
    "* Household Sample Weight (6 decimals) (HHWEIGHT)\n",
    "* Population Factor Weight (household members) (POPWT_HH)\n",
    "* Bangladesh Regions, 1994-2018 (integrated; GIS) (GEO_BD1994_2018)\n",
    "* Bangladesh Regions, 2018 (GIS) (GEO_BD2018)\n",
    "* Household Member is Usual Resident or Visitor (HHRESIDENT)\n",
    "* Displaced GPS Coordinates of Primary Sampling Unit (GPSLATLONG)"
   ]
  },
  {
   "cell_type": "markdown",
   "id": "28d87fe8-553c-4731-b5f9-cdbc26555f5e",
   "metadata": {},
   "source": [
    "#### Performance Monitoring for Action (PMA)\n",
    "\n",
    "##### Uganda 2021\n",
    "\n",
    "**Variable Selection**\n",
    "\n",
    "* facility ID\n",
    "* Facility Usually Offers FP (FPOFFERED)\n",
    "* Provides IUD (IUDPROV)\n",
    "* Provides Male Serilization (MSTPROV)\n",
    "* Provides Birth Control Pills (PILLPROV)\n",
    "* Provides Sayana Press Contraception (SAYPROV)\n",
    "\n",
    "**IPUMS Preselected Variables**\n",
    "* PMA Sample Number (SAMPLE)\n",
    "* PMA Country (CONTRY)\n",
    "* Year (YEAR)\n",
    "* Enumeration Area (EAID)\n",
    "* Facility ID (FACILITY ID)\n",
    "* Strata (STRATA)\n",
    "* Type of Facility, Detailed (FACILITYT"
   ]
  },
  {
   "cell_type": "markdown",
   "id": "449c96e2-fb17-4ab2-aede-97a905dc991d",
   "metadata": {},
   "source": [
    "#### Multiple Indicator Cluster Surveys (MICS)\n",
    "\n",
    "**Variable Selection**\n",
    "\n",
    "* country geographic unit\n",
    "\n",
    "**IPUMS Preselected Variables**"
   ]
  }
 ],
 "metadata": {
  "kernelspec": {
   "display_name": "R",
   "language": "R",
   "name": "ir"
  },
  "language_info": {
   "codemirror_mode": "r",
   "file_extension": ".r",
   "mimetype": "text/x-r-source",
   "name": "R",
   "pygments_lexer": "r",
   "version": "4.3.3"
  }
 },
 "nbformat": 4,
 "nbformat_minor": 5
}
