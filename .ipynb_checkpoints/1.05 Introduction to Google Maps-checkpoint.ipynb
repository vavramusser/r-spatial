{
 "cells": [
  {
   "cell_type": "markdown",
   "id": "2af0d3a7-22a8-46fe-b0aa-0c882c0591a6",
   "metadata": {},
   "source": [
    "# Introduction to Google Maps"
   ]
  },
  {
   "cell_type": "markdown",
   "id": "dcc2b1bb-738b-4aba-b360-6bcefa21e64b",
   "metadata": {},
   "source": [
    "The [**Google Maps Platform**](https://mapsplatform.google.com) is a widely used mapping platform that provides high-quality basemaps, satellite imagery, and detailed geographic data for locations around the world. With extensive coverage and advanced features, Google Maps offers detailed information on roads, landmarks, businesses, and natural features, making it an invaluable resource for navigation, spatial analysis, and mapping applications. Its API allows for programmatic access to a range of services, including geocoding, distance calculations, and map customizations, supporting a variety of use cases in research, business, and application development.\n",
    "\n",
    "### Available Data\n",
    "Google Maps provides a wide range of geospatial data and services that can be integrated into mapping and spatial analysis workflows. The available data and services include:\n",
    "\n",
    "* Basemaps: High-quality road maps, satellite imagery, terrain maps, and hybrid maps that combine satellite and road features.\n",
    "* Points of Interest (POIs): Locations of landmarks, businesses, public services, and amenities, with associated metadata such as names, categories, and ratings.\n",
    "* Geocoding and Reverse Geocoding:\n",
    "  * Geocoding: Converts addresses into geographic coordinates.\n",
    "  * Reverse Geocoding: Converts geographic coordinates into human-readable addresses.\n",
    "* Routes and Directions: Optimized travel routes for various modes of transportation, including driving, walking, cycling, and public transit.\n",
    "* Traffic and Road Conditions: Real-time data on traffic flow, congestion, and road closures.\n",
    "* Distance and Time Calculations: Estimated travel distances and times between locations.\n",
    "* Elevation Data: Information on terrain elevation for a given location or along a path.\n",
    "Street View Imagery: Panoramic street-level images of locations worldwide."
   ]
  },
  {
   "cell_type": "markdown",
   "id": "e99838f2-ad30-4848-9190-8ca43ec72180",
   "metadata": {},
   "source": [
    "## The Google Maps API\n",
    "\n",
    "As of mid-2018, the [**Google Maps Platform**](https://mapsplatform.google.com) requires a registered API key.\n",
    "\n",
    "An [API (Application Programming Interface)](https://en.wikipedia.org/wiki/API) is a set of rules and protocols that allow different software applications to communicate with each other. APIs enable automated access to data and services, allowing users to retrieve, manipulate, and manage information without directly interacting with a website or user interface.\n",
    "\n",
    "### ★ Create Your Google Maps Account and API Key ★\n",
    "\n",
    "To obtain an API key and enable services, go to the [Google Maps Platform](https://mapsplatform.google.com) and set up a Google Cloud account. This documentation shows you how to input the requisite information (e.g. your API key) into R, and it also shows you a few tools that can help you work with the credentialing.\n",
    "\n",
    "Note that since Google requires a valid credit card to use its online cloud services, this also means that anyone who obtains your key can potentially make charges to your card in the form of Google services. So be sure to not share your API key."
   ]
  },
  {
   "cell_type": "markdown",
   "id": "344cad25-038c-4aff-8d5a-a7e068571756",
   "metadata": {},
   "source": [
    "## The ggmap R Package\n",
    "\n",
    "The [**ggmap package**](https://cran.r-project.org/web/packages/ggmap/index.html) is a powerful tool for visualizing spatial data by combining the flexibility of ggplot2 with the ability to retrieve basemaps from online mapping services including [Google Maps](https://mapsplatform.google.com) as well as [OpenStreetMap](https://www.openstreetmap.org), [Stadia Maps](https://stadiamaps.com), and [Stamen Maps](https://maps.stamen.com).  Designed to streamline the integration of basemaps and data layers, ggmap allows users to create high-quality, interactive, and publication-ready maps. With functions for geocoding, reverse geocoding, and map styling, ggmap enables users to overlay spatial data points, polygons, or lines onto visually appealing basemaps, making it an essential package for spatial visualization in R."
   ]
  },
  {
   "cell_type": "markdown",
   "id": "ceec78ce-e543-4c52-b5ee-fbfdfe2c117a",
   "metadata": {},
   "source": [
    "## Recommended Next Steps\n",
    "\n",
    "* **Continue with Chapter 1: Data Sources and APIs**\n",
    "  * [1.1 Introduction to IPUMS and the IPUMS API](https://platform.i-guide.io/notebooks/82d3b176-e4e6-4307-8186-318a3fe6c81a)\n",
    "  * [1.2 Introduciton to Natural Earth](https://platform.i-guide.io/notebooks/924c7ca6-3d12-4a80-ab4d-814cc80f7f79)\n",
    "  * [1.3 Introduction to OpenStreetMap (OSM)](https://platform.i-guide.io/notebooks/e7796dde-de2e-4745-a9e3-5880d2f28803)\n",
    "  * [1.4 Introduction to Stadia Maps and Stamen Maps](https://platform.i-guide.io/notebooks/9d896d1e-bb49-4915-9a8c-b1ea07f495a4)\n",
    "  * [1.6 Introduction to Google Earth Engine (GEE)](https://platform.i-guide.io/notebooks/7ef82017-ed6d-44d9-865c-0780fdc54da9)\n",
    "  * [1.7 Introduction to the National Land Cover Database (NLCD)](https://platform.i-guide.io/notebooks/92d44a37-8633-4dd9-8d22-ad461bcc73ab)\n",
    "  * [1.8 Introduction to the EPA Air Quality System (AQS) Data Repository](https://platform.i-guide.io/notebooks/12ad0cf1-5acd-404b-8a82-25430173c1a1)"
   ]
  }
 ],
 "metadata": {
  "kernelspec": {
   "display_name": "R",
   "language": "R",
   "name": "ir"
  },
  "language_info": {
   "codemirror_mode": "r",
   "file_extension": ".r",
   "mimetype": "text/x-r-source",
   "name": "R",
   "pygments_lexer": "r",
   "version": "4.3.3"
  }
 },
 "nbformat": 4,
 "nbformat_minor": 5
}
