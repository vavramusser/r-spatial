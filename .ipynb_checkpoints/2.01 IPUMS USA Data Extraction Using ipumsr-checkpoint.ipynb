{
 "cells": [
  {
   "cell_type": "markdown",
   "id": "7aaffa8e-d021-4099-abba-a0c18aaf69b0",
   "metadata": {},
   "source": [
    "# IPUMS USA Data Extraction Using ipumsr\n",
    "### by [Kate Vavra-Musser](https://vavramusser.github.io) for the [R Spatial Notebook Series](https://vavramusser.github.io/r-spatial)"
   ]
  },
  {
   "cell_type": "markdown",
   "id": "d34c6940-17d7-418c-8ab7-271fe716a114",
   "metadata": {},
   "source": [
    "## Introduction\n",
    "The [IPUMS USA](https://usa.ipums.org/usa) database offers harmonized microdata from the [U.S. Decennial Census](https://www.census.gov/programs-surveys/decennial-census.html), [American Community Survey (ACS)](https://www.census.gov/programs-surveys/acs/about.html), and [Puerto Rico Community Survey (PRCS)](https://www.census.gov/programs-surveys/acs/about/puerto-rico-community-survey.html). It provides detailed, individual-level records on population demographics, economic activity, housing conditions, and social characteristics, enabling the analysis of trends in American society across time and space. Through harmonization, IPUMS USA allows data to be seamlessly compared across census years, despite changes in survey design, geographic boundaries, and variable definitions.\n",
    "\n",
    "**From the [IPUMS USA Website](https://usa.ipums.org/usa):** IPUMS USA collects, preserves and harmonizes United States Census microdata and provides easy access to this data with enhanced documentation. Data includes Decennial Censuses from 1790 to 2010 and American Community Surveys (ACS) from 2000 to the present.\n",
    "\n",
    "This notebook introduces the process of extracting [IPUMS USA](https://usa.ipums.org/usa) data using the [IPUMS API](https://developer.ipums.org/docs/v2/apiprogram) via the [ipumsr R package](https://cran.r-project.org/web/packages/ipumsr/index.html). Users will learn how to define, submit, and download an IPUMS USA data extract, specifying desired variables, time periods, and geographic units for analysis. By the end of this notebook, users will have the skills to efficiently acquire customized IPUMS USA datasets and prepare them for spatial and statistical workflows.\n",
    "\n",
    "### ★ Prerequisites ★\n",
    "* Complete [Section 1.1 Introduction to IPUMS and the IPUMS API](https://platform.i-guide.io/notebooks/82d3b176-e4e6-4307-8186-318a3fe6c81a)\n",
    "* Set Up Your [IPUMS Account and API Key](https://account.ipums.org/api_keys)\n",
    "\n",
    "### Notebook Overview\n",
    "1. Setup\n",
    "2. IPUMS USA Metadata Exploration\n",
    "3. IPUMS USA Data Extraction Specification and Submission"
   ]
  },
  {
   "cell_type": "markdown",
   "id": "fca65eb8-9354-460a-b440-02bccddfb839",
   "metadata": {},
   "source": [
    "## 1. Setup\n",
    "This section will guide you through the process of installing essential packages and setting your IPUMS API key.\n",
    "\n",
    "#### Required Packages\n",
    "\n",
    "[**dplyr**](https://cran.r-project.org/web/packages/dplyr/index.html) A Grammar of Data Manipulation. This notebook uses the the following function from *dplyr*.\n",
    "\n",
    "* [*filter*](https://rdrr.io/cran/dplyr/man/filter.html) · keep rows that match a condition\n",
    "* This notebook also uses [*%>%*](https://magrittr.tidyverse.org/reference/pipe.html), referred to as the *pipe* operator.  The *pip* operator is used to pass the output from one function directly into the next function for the purpose of creating streamlined workflows and is a commonly used component of the [*tidyverse*](https://www.tidyverse.org).\n",
    "\n",
    "[**ipumsr**](https://cran.r-project.org/web/packages/ipumsr/index.html) An R Interface for Downloading, Reading, and Handling IPUMS Data.  This notebook uses the the following functions from *ipumsr*.\n",
    "\n",
    "* [*define_extract_micro*](https://rdrr.io/github/mnpopcenter/ripums/man/define_extract_micro.html) · define an extract request for an IPUMS microdata collection\n",
    "* [*download_extract*](https://rdrr.io/cran/ipumsr/man/download_extract.html) · download a completed IPUMS data extract\n",
    "* [*get_sample_info*](https://rdrr.io/cran/ipumsr/man/get_sample_info.html) · list available samples for IPUMS microdata collections\n",
    "* [*read_ipums_ddi*](https://rdrr.io/cran/ipumsr/man/read_ipums_ddi.html) · read metadata about an IPUMS microdata extract from a DDI codebook (.xml) file\n",
    "* [*read_ipums_micro*](https://rdrr.io/cran/ipumsr/man/read_ipums_micro.html) · read data from an IPUMS microdata extract\n",
    "* [*set_ipums_api_key*](https://rdrr.io/cran/ipumsr/man/set_ipums_api_key.html) · set your IPUMS API key\n",
    "* [*submit_extract*](https://rdrr.io/cran/ipumsr/man/submit_extract.html) · submit an extract request via the IPUMS API\n",
    "* [*wait_for_extract*](https://rdrr.io/cran/ipumsr/man/wait_for_extract.html) · wait for an extract to finish processing\n",
    "\n",
    "[**stringr**](https://cran.r-project.org/web/packages/stringr/index.html) Simple, Consistent Wrappers for Common String Operations.  This notebook uses the following function from *stringr*.\n",
    "\n",
    "* [*str_detect*](https://stringr.tidyverse.org/reference/str_detect.html) · detect the presence or absence of a match"
   ]
  },
  {
   "cell_type": "markdown",
   "id": "25e1018c-13cb-4e15-91a3-504ce1eb07a1",
   "metadata": {},
   "source": [
    "### 1a. Install and Load Required Packages\n",
    "If you have not already installed the required packages, uncomment and run the code below:"
   ]
  },
  {
   "cell_type": "code",
   "execution_count": null,
   "id": "ed2c53cc-354e-4eef-a6ad-bb96d627765f",
   "metadata": {},
   "outputs": [],
   "source": [
    "# install.packages(c(\"dplyr\", \"ipumsr\", \"stringr\"))"
   ]
  },
  {
   "cell_type": "markdown",
   "id": "1b8b928a-bdf7-464f-9ffb-64b2cf7b6910",
   "metadata": {},
   "source": [
    "Load the packages into your workspace."
   ]
  },
  {
   "cell_type": "code",
   "execution_count": null,
   "id": "8b7f2f90-2b0d-47e9-a088-596751cb3dbe",
   "metadata": {},
   "outputs": [],
   "source": [
    "library(dplyr)\n",
    "library(ipumsr)\n",
    "library(stringr)"
   ]
  },
  {
   "cell_type": "markdown",
   "id": "d91a1587-dbef-4dda-a967-07b3953b532f",
   "metadata": {},
   "source": [
    "### 1b. Set Your IPUMS API Key\n",
    "\n",
    "Store your [IPUMS API key](https://account.ipums.org/api_keys) in your environment using the following code.\n",
    "\n",
    "Refer to [Chapter 1.1 Introduction to IPUMS and the IPUMS API](https://platform.i-guide.io/notebooks/82d3b176-e4e6-4307-8186-318a3fe6c81a) for instructions on setting up your IPUMS account and API key."
   ]
  },
  {
   "cell_type": "code",
   "execution_count": null,
   "id": "ae999683-c024-47d7-9936-55d91ce26e82",
   "metadata": {},
   "outputs": [],
   "source": [
    "ipumps_api_key = readline(\"Please enter your IPUMS API key: \")\n",
    "set_ipums_api_key(ipumps_api_key, save = T, overwrite = T)"
   ]
  },
  {
   "cell_type": "markdown",
   "id": "3169ebf5-3bf0-489d-9f31-591faa2b784d",
   "metadata": {},
   "source": [
    "## 2. IPUMS USA Metadata Exploration\n",
    "\n",
    "Before submitting an IPUMS data extraction request, it’s essential to ensure the parameters of the extraction definition are set up correctly.  The extraction definition specifies the sample, variables, and other options.\n",
    "\n",
    "If this is your first time using the IPUMS API in R, or if you are setting up a new data extract for a new project, it is a good idea to start by exploring the available data which can be done using the *ipumsr* package.\n",
    "\n",
    "### 2a. Review the List of Samples\n",
    "\n",
    "First, let's take a look at the entire list of datasets available from the [IPUMS USA data repository](https://usa.ipums.org/usa).  The USA data available for direct extraction using the IPUMS API include the [American Communinty Survey (ACS)](https://www.census.gov/programs-surveys/acs) and [Puerto Rico Community Survey (PRCS)](https://www.census.gov/programs-surveys/acs/about/puerto-rico-community-survey.html).\n",
    "\n",
    "The ACS and PRCS are are annual surveys conducted by the U.S. Census Bureau that collect information on a subset of the U.S. population.  The ACS collects data on a variety of topics, including income, poverty, education, marital status, health insurance coverage, disability, occupancy, costs, tenure, and units by type.  It is a more in-depth supplement to the Decennial U.S. Census and in 2005 replaced the long-form version of the Decennial Census survey which was previously conducted every ten years.  Each year the ACS samples over 3.5 million housing units across the United States with a new sample of about 250,000 addresses drawn each month.\n",
    "\n",
    "ACS and PRCS are available as single-year datasets as well as three- and five-year summaries of the data.  The three- and five-year summary data are often used in lieu of the single-year data as they are less susceptible to anomalies.\n",
    "\n",
    "The IPUMS Data also includes population counts and samples dating back to 1850 but, for this exercise, we will focus on the ACS sample data which has been the standard USA population sample survey since 2005.  Refer to the [Descriptions of IPUMS Samples](https://usa.ipums.org/usa/sampdesc.shtml) page on the IPUMS USA website for a list of all IPUMS USA data sets and their descriptions.\n",
    "\n",
    "For this step, we will use the [*get_sample_info*](https://rdrr.io/cran/ipumsr/man/get_sample_info.html) function from the [**ipumsr**](https://cran.r-project.org/web/packages/ipumsr/index.html) package.  This function will return a list of all datasets from the specified IPUMS data repository which are available to be downloaded using the ipumsr API.  Since we are focusing on IPUMS USA, we will specify that we want to view all available samples from the IPUMS USA repository by passing *\"usa\"* to the function.  This code stores the metadata from all available samples in the IPUMS USA repository to the object *metadata_usa*.\n",
    "\n",
    "**★ Pro Tip:** You can use the [*get_sample_info*](https://rdrr.io/cran/ipumsr/man/get_sample_info.html) function to retrieve metadata for any of the available IPUMS repositories by changing the database reference code."
   ]
  },
  {
   "cell_type": "code",
   "execution_count": null,
   "id": "4403097a-86f6-44e3-adf9-b282082c6718",
   "metadata": {},
   "outputs": [],
   "source": [
    "# retrive and view the list of samples from the IPUMS USA database\n",
    "metadata_usa <- get_sample_info(\"usa\")"
   ]
  },
  {
   "cell_type": "markdown",
   "id": "b74f5804-059e-47a7-a306-205d9434574c",
   "metadata": {},
   "source": [
    "Let's take a look at the dimensions of the *metadata_usa* object.  This will give us an idea of how many samples are available from the IPUMS_USA repository."
   ]
  },
  {
   "cell_type": "code",
   "execution_count": null,
   "id": "e4947857-7046-4ba1-9c25-b4052b68a3aa",
   "metadata": {},
   "outputs": [],
   "source": [
    "# view the dimensions of the list of samples\n",
    "dim(metadata_usa)"
   ]
  },
  {
   "cell_type": "markdown",
   "id": "98dae0a8-51bd-4dbd-b180-a22cee84d2c8",
   "metadata": {},
   "source": [
    "The results tell us that there are 148 samples available from IPUMS USA.\n",
    "\n",
    "Let's take a look at the first few elements in the table of samples."
   ]
  },
  {
   "cell_type": "code",
   "execution_count": null,
   "id": "48cad01c-89a4-45bf-bcc4-00809be6f72c",
   "metadata": {},
   "outputs": [],
   "source": [
    "# view the first few lines of the list of samples\n",
    "head(metadata_usa)"
   ]
  },
  {
   "cell_type": "markdown",
   "id": "d3831bee-6210-4c38-8e4f-64e925689a6c",
   "metadata": {},
   "source": [
    "From this preview, we can see that the IPUMS USA metada table has 1) a **name*, corresponding to a sample identification code, and 2) a **description**, providing a short description or label for each sample.  We will need to select a sample and make note of its sample identification code (**name**) which we will use when defining out data extraction.\n",
    "\n",
    "At first glance, it might be difficult to understand what data is contained in each sample, especially if you are not used to working with US Census and ACS data.  Refer to the [Descriptions of IPUMS USA Samples](https://usa.ipums.org/usa/sampdesc.shtml) page on the IPUMS USA website for a list of all IPUMS USA samples and more detailed information on each sample.  IPUMS also provides the [list of sample identification codes](https://usa.ipums.org/usa-action/samples/sample_ids) on their website.\n",
    "\n",
    "If you already know which sample you want to use you could explore the samples list until you found the appropriate sample identification code (**name**).  Alternately, you could use the [*filter*](https://rdrr.io/cran/dplyr/man/filter.html) function from the [**dplyr**](https://cran.r-project.org/web/packages/dplyr/index.html) package in conjunction with the[*str_detect*](https://stringr.tidyverse.org/reference/str_detect.html) function from the [**stringr**](https://cran.r-project.org/web/packages/stringr/index.html) package to filter the list of samples down to the subset which may be relevant for your project.\n",
    "\n",
    "For this exercise, we will filter the list of sample metadata *metadata_use* to only samples which have both *ACS* and *2010* in their descriptions."
   ]
  },
  {
   "cell_type": "code",
   "execution_count": null,
   "id": "2af9b894-ca0c-4286-9f54-cf971654120d",
   "metadata": {},
   "outputs": [],
   "source": [
    "# filter the list of samples by survey and year\n",
    "metadata_usa %>% filter(str_detect(description, \"ACS\"),      # filter descrption by survey\n",
    "                        str_detect(description, \"2010\"))     # filter description by year"
   ]
  },
  {
   "cell_type": "markdown",
   "id": "439e5d91-e3a8-41e3-82cd-e52cc1283128",
   "metadata": {},
   "source": [
    "The filtering process has returned five relevant samples including the 2010 ACS, the 2008-2010 and 2010-2012 ACS 3-year summaries, and the 2006-2010 and 2010-2014 ACS 5-year summaries.  For this exercise we will use the **2010 ACS Sample** which is referred to using identification code (*name*) **us2010a**.\n",
    "\n",
    "**★ Pro Tip:** In the IPUMS specification, ACS and PRCS multi-year summaries are referred to by the **final year** in the corresponding time range.  For example, the 2008-2010 ACS 3-year summary is referred to using the code *2010e*.\n",
    "\n",
    "## 3. IPUMS USA Data Extraction Specification and Submission\n",
    "\n",
    "Once we have review the available samples and decided on the dataset, the next step is to set up a data extraction using the [*define_extract_micro*](https://rdrr.io/github/mnpopcenter/ripums/man/define_extract_micro.html) function from the [**ipumsr**](https://cran.r-project.org/web/packages/ipumsr/index.html) package.  This function requires the following minimum parameters:\n",
    "\n",
    "* *collection* · the IPUMS data collection for the extract (for this exercise we are downloading from IPUMS USA so we use the code \"usa\")\n",
    "* *description* · text description of the extract\n",
    "* *samples* · vector of samples to include in the extract; samples should be specified using the sample identification codes\n",
    "* *variables* · vector of variables to include in the extract\n",
    "\n",
    "### 3a. Define the Variable List\n",
    "\n",
    "We already know what we will pass to the function for the *collection* (\"usa\") and *samples* (\"us2010a\") parameters.  Next we will need to determine which variables we want.\n",
    "\n",
    "If you are already familiar with IPUMS data extractions using their web-based data extraction platforms, you might already know which variables are available.  If not, the best place to start is by exploring the [**IPUMS USA Variable Selection Live Search**](https://usa.ipums.org/usa-action/variables/live_search) to see what is available and identify the appropriate variable code for your desired variables.  Before using the live search platform, be sure to click the **Select Samples** button in the top-left corner of the live search platform and select the samples you are planning to use.  Since we are using the 2010 ACS sample for this example, you should select the 2010 ACS sample within the live search platform.  What variables are available, and the code used for the variables, may differ based on your selected sample, so it is important to be specific.\n",
    "\n",
    "For this example we will use the following set of variables from the 2010 ACS.\n",
    "\n",
    "**Variable Selection**\n",
    "* [Public Use Microdata Area (PUMA)](https://www.census.gov/programs-surveys/geography/guidance/geo-areas/pumas.html#:~:text=Public%20Use%20Microdata%20Areas%20(PUMAs)%20are%20non%2Doverlapping%2C,%2C%20Puerto%20Rico%2C%20and%20Guam.)\n",
    "* Sex (SEX)\n",
    "* Age (AGE)\n",
    "* Race (RACE)\n",
    "* Educational Attainment (EDUC)\n",
    "* Total Personal Income (INCTOT)\n",
    "\n",
    "By default, the data extraction will also include both our selected variables and a set of IPUMS preselected variables.  The preselected variables include metainformation such as identification codes and survey weights.  We will explore and list the preselected variables after completing the data extraction.\n",
    "\n",
    "### 3b. Define the Data Extract\n",
    "\n",
    "Now that we know the collection (\"usa\"), sample (\"us2010a\"), and list of variables (c(\"PUMA\", \"SEX\", \"AGE\", \"RACE\", \"EDUC\", \"INCTOT\")) we are ready to submit our data extract request.  In this step we will add a text description of the request which can be anything and is included to help us differentiate between requests.  For this extract we will use the simple description \"IPUMS USA Data Extraction\".\n",
    "\n",
    "Here we pass all the extraction definition information to the [*define_extract_micro*](https://rdrr.io/github/mnpopcenter/ripums/man/define_extract_micro.html) function from the [**ipumsr**](https://cran.r-project.org/web/packages/ipumsr/index.html) package and store the resulting extraction definition in the object *extract_definition*.\n",
    "\n",
    "**★ Pro Tip:** You can specify multiple samples in the same data extract by specifying all sample identification codes as a list.  Be sure that the variables you specify are available for all of the samples!"
   ]
  },
  {
   "cell_type": "code",
   "execution_count": null,
   "id": "1e76df77-bbfa-4629-aa04-c3af735d4474",
   "metadata": {},
   "outputs": [],
   "source": [
    "# set up the data extraction definition\n",
    "extract_definition <- define_extract_micro(collection = \"usa\",\n",
    "                                           description = \"IPUMS USA Data Extraction\",\n",
    "                                           samples = c(\"us2010a\"),\n",
    "                                           variables = c(\"PUMA\", \"SEX\", \"AGE\", \"RACE\", \"EDUC\", \"INCTOT\"))"
   ]
  },
  {
   "cell_type": "markdown",
   "id": "d53300a8-9e38-4035-9e21-97a364238f15",
   "metadata": {},
   "source": [
    "Let's review the extraction definition information to make sure we have set it up the way we intended."
   ]
  },
  {
   "cell_type": "code",
   "execution_count": null,
   "id": "c4d04593-1a8d-4963-974b-e0f5eb4a5d97",
   "metadata": {},
   "outputs": [],
   "source": [
    "# review the extraction definition\n",
    "extract_definition"
   ]
  },
  {
   "cell_type": "markdown",
   "id": "eb957bb5-f2af-4124-a0e7-591b57b3ef04",
   "metadata": {},
   "source": [
    "Everything looks good so we will submit the extraction request, wait for it to complete, and download the resulting data.\n",
    "\n",
    "### 3c. Submit the Extract Request\n",
    "\n",
    "Now that the extraction definition is set up, we can submit it to the IPUMS API using the [*submit_extract*](https://rdrr.io/cran/ipumsr/man/submit_extract.html) from the [**ipumsr**](https://cran.r-project.org/web/packages/ipumsr/index.html).\n",
    "\n",
    "For this exercise, after submitting the request we will also use the [*wait_for_extract*](https://rdrr.io/cran/ipumsr/man/wait_for_extract.html) function from the [**ipumsr**](https://cran.r-project.org/web/packages/ipumsr/index.html) package to monitor the status of the request.  This is not a necessary step but it is helpful, especially when submitting large requests.\n",
    "\n",
    "Finally, once the extract is complete, we can download it using the [*download_extract*](https://rdrr.io/cran/ipumsr/man/download_extract.html) function from the [**ipumsr**](https://cran.r-project.org/web/packages/ipumsr/index.html) package and save it in the object *filepath*."
   ]
  },
  {
   "cell_type": "code",
   "execution_count": null,
   "id": "d804f9c9-54f3-41c3-a2a2-ba5a63cfaf99",
   "metadata": {},
   "outputs": [],
   "source": [
    "# submit extraction request\n",
    "extract_submitted <- submit_extract(extract_definition)\n",
    "\n",
    "# wait for completion\n",
    "extraction_complete <- wait_for_extract(extract_submitted)\n",
    "\n",
    "# check completion status\n",
    "extraction_complete$status\n",
    "\n",
    "# get the extract filepath\n",
    "filepath <- download_extract(extract_submitted, overwrite = T)"
   ]
  },
  {
   "cell_type": "markdown",
   "id": "96a4b12f-4353-4fac-833b-dd08ea829173",
   "metadata": {},
   "source": [
    "### 3d. Review the Extract\n",
    "\n",
    "Once we have downloaded the extract, we are ready to review it and transform it to a format we can easily use.  The data extract download will contain the following two files.\n",
    "\n",
    "1. A [DDI (Data Documentation Initiative)](https://ddialliance.org) codebook file (file extension .xml) containing metadata and descriptive information for the data.\n",
    "2. A zipped data (.dat) file (file extension .dat.gz) containing the data.\n",
    "\n",
    "Read the ddi and data files into a format which we can work with in R.  The final *dat* object will contain the data from our extraction in a table format which is easy to use in R."
   ]
  },
  {
   "cell_type": "code",
   "execution_count": null,
   "id": "d4e90e86-6f89-4118-bfe5-dffedd6a18bd",
   "metadata": {},
   "outputs": [],
   "source": [
    "ddi <- read_ipums_ddi(filepath)\n",
    "dat <- read_ipums_micro(ddi)"
   ]
  },
  {
   "cell_type": "markdown",
   "id": "f823c049-3fe4-48ac-9c91-ba9bd28b5d22",
   "metadata": {},
   "source": [
    "We now have a useable version of our dataset stored in *dat*.  Let's take a look at the number of observations and variables in the data."
   ]
  },
  {
   "cell_type": "code",
   "execution_count": null,
   "id": "15776ab6-2323-4b53-bb7d-1fa41e5ab211",
   "metadata": {},
   "outputs": [],
   "source": [
    "dim(dat)"
   ]
  },
  {
   "cell_type": "markdown",
   "id": "6f6a36bd-0e8d-40d0-bc9a-5252c8ba85f6",
   "metadata": {},
   "source": [
    "The 2010 ACS data we downloaded includes information on 18 variables for about 3.1 million individuals.  This makes sense since we know the ACS surveys about 3.5 million individuals each year.\n",
    "\n",
    "Let's take a look at the first few lines of the data."
   ]
  },
  {
   "cell_type": "code",
   "execution_count": null,
   "id": "f76e9234-340d-4ec0-99c5-4bfe0e46a594",
   "metadata": {},
   "outputs": [],
   "source": [
    "head(dat)"
   ]
  },
  {
   "cell_type": "markdown",
   "id": "02f17e74-6f2a-4495-b588-845fd185a817",
   "metadata": {},
   "source": [
    "Notice that this data is in [*tibble*](https://tibble.tidyverse.org) format rather than the more common *data.frame* format you might be used to as an R user.  A tibble can be thought of as a version of a data.frame that includes additional functionality and metadata visibility.  It is also more compatible with the [*tidyverse*](https://www.tidyverse.org) packages, including the [*dplyr*](https://cran.r-project.org/web/packages/dplyr/index.html) package we use in this notebook.\n",
    "\n",
    "As mentioned above, IPUMS includes a set of preselected variables in data extractions, along with the variables selected by the user.  We only selected 6 variables for the extraction but the resulting download includes 18 variables.  Let's take a look at the list of column names."
   ]
  },
  {
   "cell_type": "code",
   "execution_count": null,
   "id": "07efce56-6ebe-4ec8-81ca-a2514bc83332",
   "metadata": {},
   "outputs": [],
   "source": [
    "colnames(dat)"
   ]
  },
  {
   "cell_type": "markdown",
   "id": "b4d212d0-f085-42ee-b885-4c9dbc61e597",
   "metadata": {},
   "source": [
    "This list includes the 6 variables we originally selected as well as detailed supplemental variables for 2 of our selected variables (RACED for the variales RACE and EDUCD for the variable EDUC).  We also see that there are 10 additional IPUMS preselected variables which mainly include metadata such as identification codes, weights, and other metainformation.\n",
    "\n",
    "**Variable Selection**\n",
    "* Public Use Microdata Area (PUMA)\n",
    "* Sex (SEX)\n",
    "* Age (AGE)\n",
    "* Race (RACE)\n",
    "* Educational Attainment (EDUC)\n",
    "* Total Personal Income (INCTOT)\n",
    "\n",
    "**Detailed Supplements for Selected Variables**\n",
    "* Race (detailed) (RACED)\n",
    "* Education (detailed) (EDUCD)\n",
    "\n",
    "**IPUMS Preselected Variables**\n",
    "* Census Year (YEAR)\n",
    "* IPUMS Sample Identifier (SAMPLE)\n",
    "* Household Serial Number (SERIAL)\n",
    "* Original Census Bureau Household Serial Number (CBSERIAL)\n",
    "* Household Weight (HHWT)\n",
    "* Household Cluster for Vaccine Estimation (CLUSTER)\n",
    "* Household Strata for Variance Estimation (STRATA)\n",
    "* Group Quarters Status (GQ)\n",
    "* Person Number in Sample Unit (PERNUM)\n",
    "* Person Weight (PERWT)"
   ]
  },
  {
   "cell_type": "markdown",
   "id": "eedc7967-7ba6-4972-9fe7-1d64e5394cd9",
   "metadata": {},
   "source": [
    "### 3e. Save the Data\n",
    "\n",
    "Finally, let's save the data we extracted from IPUMS USA.  We will save the data in the following two formats:\n",
    "\n",
    "* A *.rds* version of the data.  The **R Data Serialization (RDS)** format will retain metadata for the next time we want to import the file back into R.  One downside to the .rds format is it is only useable within R.\n",
    "* A *.csv* version of the data.  The [**Comma-Separated Values (CSV)**](https://en.wikipedia.org/wiki/Comma-separated_values) format is versitile and can be easily accessed in other programs.  However, the CSV file format does not include metadata such as labels for variable levels."
   ]
  },
  {
   "cell_type": "code",
   "execution_count": null,
   "id": "96f7c3b3-06ec-403c-baa1-576123fe2654",
   "metadata": {},
   "outputs": [],
   "source": [
    "saveRDS(dat, \"ipums_usa_example.rds\")\n",
    "write.csv(dat, \"ipums_usa_example.csv\")"
   ]
  },
  {
   "cell_type": "markdown",
   "id": "a1647e32-2058-4898-87bf-6181dfd3f193",
   "metadata": {},
   "source": [
    "At the end of this exercise we have a freshly downloaded dataset from the IPUMS USA repository saved in our workspace."
   ]
  },
  {
   "cell_type": "markdown",
   "id": "3de5cc34-47fb-4be1-a467-a78fddb88ac1",
   "metadata": {},
   "source": [
    "## Recommended Next Steps\n",
    "* **Continue with Chapter 2: IPUMS Data Acquisition and Extraction**\n",
    "  * [2.2 IPUMS CPS Data Extraction Using ipumsr](https://platform.i-guide.io/notebooks/286321c5-6cc6-43df-a3e5-f3d72192e00c)\n",
    "  * [2.3 IPUMS International Microdata Extraction Using ipumsr](https://platform.i-guide.io/notebooks/71bcc1a6-8d43-405d-a8c3-adceaf5b785d)\n",
    "  * [2.4 IPUMS NHGIS Data Extraction Using ipumsr](https://platform.i-guide.io/notebooks/be08e56e-1c08-458e-a230-263c64d386bc)\n",
    "  * [2.5 IPUMS Time Use Data Extraction Using ipumsr](https://platform.i-guide.io/datasets/db169417-ceb7-4a98-965c-096873edbf6a)\n",
    "  * [2.6 IPUMS Health Surveys Data Extraction Using ipumsr](https://platform.i-guide.io/notebooks/4b366bd1-b23f-4f47-9c7f-2a060a9135a5)\n",
    "* **Move on to Chapter 3: Data Cleaning and Preparation**\n",
    "  * [3.1 Data Preparation and Transformation with IPUMS USA](https://platform.i-guide.io/notebooks/b4b29b13-d832-495d-8db7-1545a30549f1)"
   ]
  },
  {
   "cell_type": "markdown",
   "id": "38cd4475-fc7d-4935-ace2-db1072757b60",
   "metadata": {},
   "source": [
    "## Quick Code\n",
    "A clean and simple version of the code included in this notebook (excluding the metadata exploration steps).  **Don't forget to update the code with your IPUMS API key!**"
   ]
  },
  {
   "cell_type": "raw",
   "id": "f803b68b-01e2-44ac-bfcb-8fc3703596f6",
   "metadata": {},
   "source": [
    "# install required packages\n",
    "# install.packages(\"ipumsr\")\n",
    "\n",
    "# load required libraries\n",
    "library(ipumsr)\n",
    "\n",
    "# set IPUMS API key\n",
    "ipums_api_key <- \"paste your api key here\"\n",
    "set_ipums_api_key(ipums_api_key, save = T, overwrite = T)\n",
    "\n",
    "# set up the data extract\n",
    "extraction <- define_extract_micro(description = \"IPUMS USA Data Extraction\",\n",
    "                                   collection = \"usa\",\n",
    "                                   sample = \"us2010a\",\n",
    "                                   variables = c(\"PUMA\", \"SEX\", \"AGE\", \"RACE\", \"EDUC\", \"INCTOT\"))\n",
    "\n",
    "# submit extract request and download the files\n",
    "extraction_submitted <- submit_extract(extraction)                  # submit the extract  \n",
    "extraction_complete <- wait_for_extract(extraction_submitted)       # wait for completion\n",
    "extraction_complete$status                                          # check completion\n",
    "filepath <- download_extract(extraction_submitted, overwrite = T)   # get extract filepath\n",
    "\n",
    "# extract the files\n",
    "ddi <- read_ipums_ddi(filepath)\n",
    "dat <- read_ipums_micro(ddi)\n",
    "\n",
    "# save as RDS file\n",
    "saveRDS(dat, \"ipums_usa_example.rds\", )\n",
    "\n",
    "# save as a csv file\n",
    "write.csv(dat, \"ipums_usa_example.csv\")"
   ]
  }
 ],
 "metadata": {
  "kernelspec": {
   "display_name": "R",
   "language": "R",
   "name": "ir"
  },
  "language_info": {
   "codemirror_mode": "r",
   "file_extension": ".r",
   "mimetype": "text/x-r-source",
   "name": "R",
   "pygments_lexer": "r",
   "version": "4.3.3"
  }
 },
 "nbformat": 4,
 "nbformat_minor": 5
}
