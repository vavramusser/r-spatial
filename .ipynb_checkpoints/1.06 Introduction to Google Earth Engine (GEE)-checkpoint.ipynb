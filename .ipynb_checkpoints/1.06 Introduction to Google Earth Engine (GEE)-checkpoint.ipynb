{
 "cells": [
  {
   "cell_type": "markdown",
   "id": "2af0d3a7-22a8-46fe-b0aa-0c882c0591a6",
   "metadata": {},
   "source": [
    "# Introduction to Google Earth Engine (GEE)"
   ]
  },
  {
   "cell_type": "markdown",
   "id": "dcc2b1bb-738b-4aba-b360-6bcefa21e64b",
   "metadata": {},
   "source": [
    "[**Google Earth Engine (GEE)**](https://earthengine.google.com) is a cloud-based platform for geospatial analysis that provides access to a vast catalog of satellite imagery and environmental datasets. GEE enables scalable, high-performance processing of large geospatial datasets, making it ideal for applications like land cover classification, climate change analysis, and environmental monitoring. This notebook introduces GEE, highlights its capabilities, and demonstrates how to integrate it into spatial workflows in R.\n",
    "\n",
    "### Available Data\n",
    "Google Earth Engine (GEE) provides access to a vast catalog of geospatial datasets and services, enabling advanced analysis and visualization. Key categories of available data include:\n",
    "\n",
    "* Satellite Imagery\n",
    "  * High-resolution imagery from sources like Landsat, Sentinel, and MODIS.\n",
    "  * Historical and near real-time data for monitoring land, water, and atmospheric conditions.\n",
    "* Environmental Data\n",
    "  * Climate variables such as temperature, precipitation, and humidity.\n",
    "  * Vegetation indices, including NDVI and EVI, derived from satellite imagery.\n",
    "  * Atmospheric data on aerosols, greenhouse gases, and air quality.\n",
    "* Land Cover and Land Use\n",
    "  * Global and regional land cover classifications, including the National Land Cover Database (NLCD) and ESA's WorldCover.\n",
    "  * Data on urbanization, deforestation, and agricultural expansion.\n",
    "* Topography and Elevation\n",
    " * Digital elevation models (DEMs) from sources like SRTM and ASTER.\n",
    " * Terrain analysis, including slope and aspect.\n",
    "* Hydrological Data\n",
    "  * Surface water occurrence, flooding patterns, and water quality indicators.\n",
    "  * River networks and watershed delineations.\n",
    "* Socioeconomic Data\n",
    "  * Human population density, settlement patterns, and infrastructure data.\n",
    "* Global Change Indicators\n",
    "  * Datasets related to climate change, biodiversity, and ecosystem services.\n",
    "* Custom User-Uploaded Data\n",
    "  * Users can upload and integrate their geospatial datasets to enhance analyses."
   ]
  },
  {
   "cell_type": "markdown",
   "id": "20ac1429-3f80-47f1-863e-7c78d60794fd",
   "metadata": {},
   "source": [
    "## The rgee R Package\n",
    "The [**rgee**](https://cran.r-project.org/web/packages/rgee/index.html) package serves as an interface between R and the GEE API, enabling Earth Engine functionality within R. It simplifies tasks like retrieving data, running computations, and visualizing results in R."
   ]
  },
  {
   "cell_type": "markdown",
   "id": "66fd09cd-040c-4fd8-b30c-9c9d0ebee88c",
   "metadata": {},
   "source": [
    "## The Google Earth Engine API\n",
    "The rgee package uses the [**Google Earth Engine API**](https://developers.google.com/earth-engine/guides/access) to query and extract geospatial data from Google Earth Engine..\n",
    "\n",
    "An [API (Application Programming Interface)](https://en.wikipedia.org/wiki/API) is a set of rules and protocols that allow different software applications to communicate with each other. APIs enable automated access to data and services, allowing users to retrieve, manipulate, and manage information without directly interacting with a website or user interface.\n",
    "\n",
    "### ★ Create Your Google Earth Engine Account and API Key ★\n",
    "To use the API, you must first sign up for access at Google Earth Engine.\n",
    "\n",
    "While GEE does not use a traditional API key, you must authenticate your account using Google credentials. This process typically involves setting up a service account or using OAuth 2.0 authentication."
   ]
  },
  {
   "cell_type": "markdown",
   "id": "ceec78ce-e543-4c52-b5ee-fbfdfe2c117a",
   "metadata": {},
   "source": [
    "## Recommended Next Steps\n",
    "\n",
    "* **Continue with Chapter 1: Data Sources and APIs**\n",
    "  * [1.1 Introduction to IPUMS and the IPUMS API](https://platform.i-guide.io/notebooks/82d3b176-e4e6-4307-8186-318a3fe6c81a)\n",
    "  * [1.2 Introduciton to Natural Earth](https://platform.i-guide.io/notebooks/924c7ca6-3d12-4a80-ab4d-814cc80f7f79)\n",
    "  * [1.3 Introduction to OpenStreetMap (OSM)](https://platform.i-guide.io/notebooks/e7796dde-de2e-4745-a9e3-5880d2f28803)\n",
    "  * [1.4 Introduction to Stadia Maps and Stamen Maps](https://platform.i-guide.io/notebooks/9d896d1e-bb49-4915-9a8c-b1ea07f495a4)\n",
    "  * [1.5 Introduction to Google Maps](https://platform.i-guide.io/notebooks/e2767af9-62ba-43a7-b16b-9f3b053cf418)\n",
    "  * [1.7 Introduction to the National Land Cover Database (NLCD)](https://platform.i-guide.io/notebooks/92d44a37-8633-4dd9-8d22-ad461bcc73ab)\n",
    "  * [1.8 Introduction to the EPA Air Quality System (AQS) Data Repository](https://platform.i-guide.io/notebooks/12ad0cf1-5acd-404b-8a82-25430173c1a1)"
   ]
  }
 ],
 "metadata": {
  "kernelspec": {
   "display_name": "R",
   "language": "R",
   "name": "ir"
  },
  "language_info": {
   "codemirror_mode": "r",
   "file_extension": ".r",
   "mimetype": "text/x-r-source",
   "name": "R",
   "pygments_lexer": "r",
   "version": "4.3.3"
  }
 },
 "nbformat": 4,
 "nbformat_minor": 5
}
