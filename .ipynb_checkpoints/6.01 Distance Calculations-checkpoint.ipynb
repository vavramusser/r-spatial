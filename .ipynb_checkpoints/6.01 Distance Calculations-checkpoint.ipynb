{
 "cells": [
  {
   "cell_type": "markdown",
   "id": "c2306c5d-16ed-4ec4-87d2-3001cf343a9e",
   "metadata": {},
   "source": [
    "# Distance Calculations"
   ]
  },
  {
   "cell_type": "markdown",
   "id": "f17c37e9-01c8-4a96-b4c9-f1bb5d2fbe23",
   "metadata": {},
   "source": [
    "## Introduction\n",
    "\n",
    "Proximity analysis is a critical aspect of spatial analysis, enabling researchers to evaluate distances between spatial features, assess accessibility, and identify relationships between locations.  Proximity analysis is widely used in accessibility studies, urban planning, environmental research, and many other fields.\n",
    "\n",
    "This notebook demonstrates how to perform proximity analysis using R, covering common scenarios and applications."
   ]
  },
  {
   "cell_type": "markdown",
   "id": "bf6ca292-d141-48a0-bbd0-aac187468491",
   "metadata": {},
   "source": [
    "## 1. Setup\n",
    "This section will guide you through the process of installing essential packages and setting your IPUMS API key.\n",
    "\n",
    "##### Required Packages\n",
    "\n",
    "[**geosphere**](https://cran.r-project.org/web/packages/geosphere/index.html) · Spherical Trigonometry . Spherical trigonometry for geographic applications. That is, compute distances and related measures for angular (longitude/latitude) locations.  This notebook uses the following functions from *geosphere*.\n",
    "\n",
    "* [*distm*](https://rdrr.io/rforge/geosphere/man/distm.html) · Distance matrix\n",
    "* [*distHaversine*](https://rdrr.io/rforge/geosphere/man/distHaversine.html) · Haversine great circle distance\n",
    "\n",
    "[**leaflet**](https://cran.r-project.org/web/packages/leaflet/index.html) · Create Interactive Web Maps with the [*JavaScript Leaflet library*](https://leafletjs.com).  Create and customize interactive maps using the 'Leaflet' JavaScript library and the [*htmlwidgets*](https://www.htmlwidgets.org) package. These maps can be used directly from the R console, from 'RStudio', in Shiny applications and R Markdown documents.  This notebook uses the following functions from the *leaflet* package.\n",
    "\n",
    "* *addControl* · Graphics elements and layers\n",
    "  * *addTiles* · Add a tile layer to the map\n",
    "  * *addCircleMarkers* · Add circle markers to the map\n",
    "  * *addPolylines* · Add polylines to the map\n",
    "* [*addLayersControl](https://rdrr.io/cran/leaflet/man/addLayersControl.html) · Add UI controls to switch layers on and off\n",
    "* [*leaflet*](https://rdrr.io/cran/leaflet/man/leaflet.html) · Create a Leaflet map widget.\n",
    "\n",
    "[**rnaturalearth**](https://cran.r-project.org/web/packages/rnaturalearth/index.html) · World Map Data from [Natural Earth](https://www.naturalearthdata.com).  Facilitates mapping by making natural earth map data from more easily available to R users.  This notebook uses the folloing functions from *rnationalearth*.\n",
    "\n",
    "* [*ne_download*](https://rdrr.io/cran/rnaturalearth/man/ne_download.html) · Download data from Natural Earth and (optionally) read into R\n",
    "\n",
    "[**rnaturalearthdata**](https://cran.r-project.org/web/packages/rnaturalearthdata/index.html) · World Vector Map Data from [Natural Earth](https://www.naturalearthdata.com) Used in [rnaturalearth](https://cran.r-project.org/web/packages/rnaturalearth/index.html). Access functions are provided in the accompanying package [rnaturalearth](https://cran.r-project.org/web/packages/rnaturalearth/index.html).\n",
    "\n",
    "[**sf**](https://cran.r-project.org/web/packages/sf/index.html) · Support for simple features, a standardized way to encode spatial vector data. Binds to 'GDAL' for reading and writing data, to 'GEOS' for geometrical operations, and to 'PROJ' for projection conversions and datum transformations. Uses by default the 's2' package for spherical geometry operations on ellipsoidal (long/lat) coordinates.  This notebook uses the following functions from *sf*.\n",
    "\n",
    "* [*geos_measures*](https://rdrr.io/cran/sf/man/geos_measures.html) · Compute geometric measurements\n",
    "  * *st_distance* · Compute distance\n",
    "* [*st_coordinates*](https://rdrr.io/cran/sf/man/st_coordinates.html) · retrieve coordinates in matrix form\n",
    "* [*st_nearest_feature*](https://rdrr.io/cran/sf/man/st_nearest_feature.html) · get index of nearest featur\n",
    "* [*st_transform*](https://rdrr.io/cran/sf/man/st_transform.html) · Transform or convert coordinates of simple feature\n",
    "\n",
    "### 1a. Install and Load Required Packages\n",
    "If you have not already installed the required packages, uncomment and run the code below:"
   ]
  },
  {
   "cell_type": "code",
   "execution_count": null,
   "id": "ab68e2e8-f073-4ba8-8314-e5f020249ba0",
   "metadata": {},
   "outputs": [],
   "source": [
    "# install.packages(c(\"geosphere\", \"leaflet\", \"rnaturalearth\", \"rnaturalearthdata\", \"sf\"))"
   ]
  },
  {
   "cell_type": "markdown",
   "id": "2f672ce2-0e53-4cc1-9cd8-f6a0d65ea973",
   "metadata": {},
   "source": [
    "Load the packages into your workspace."
   ]
  },
  {
   "cell_type": "code",
   "execution_count": null,
   "id": "1c1537f5-c632-44cc-8a80-0f743052682a",
   "metadata": {},
   "outputs": [],
   "source": [
    "library(geosphere)\n",
    "library(leaflet)\n",
    "library(rnaturalearth)\n",
    "library(rnaturalearthdata)\n",
    "library(sf)"
   ]
  },
  {
   "cell_type": "markdown",
   "id": "505098a3-bded-4685-926f-c48a24abc748",
   "metadata": {},
   "source": [
    "## 2. Load and Explore the Data"
   ]
  },
  {
   "cell_type": "markdown",
   "id": "7bd4e80f-de56-4036-b9b7-992aac76f9cd",
   "metadata": {},
   "source": [
    "For this notebook, we’ll use the [*rnaturalearth*](https://cran.r-project.org/web/packages/rnaturalearth/index.html) package to access and load datasets from [*Natural Earth*](https://www.naturalearthdata.com). These packages provide direct access to Natural Earth’s geographic data without requiring an API key, making it simple to bring boundaries and point data directly into R.\n",
    "\n",
    "We’ll import the following data files:\n",
    "\n",
    "* Populated Places (points): locations of major cities and towns\n",
    "* Coastline (polygons): ocean coastline\n",
    "\n",
    "Each dataset will be returned as an sf object, allowing us to work easily with the files in R using the [*sf*](https://cran.r-project.org/web/packages/sf/index.html) package."
   ]
  },
  {
   "cell_type": "code",
   "execution_count": null,
   "id": "d443f1b8-d4ba-4862-a65f-3ad0483ed6cb",
   "metadata": {},
   "outputs": [],
   "source": [
    "# populated places point locations\n",
    "cities <- ne_download(scale = \"medium\", type = \"populated_places\", category = \"cultural\", returnclass = \"sf\")\n",
    "\n",
    "# coastline\n",
    "coastline <- ne_download(scale = \"medium\", type = \"coastline\", category = \"physical\", returnclass = \"sf\")"
   ]
  },
  {
   "cell_type": "markdown",
   "id": "a5727667-f77a-4795-966f-7ef367f23eb9",
   "metadata": {},
   "source": [
    "### Visualize the Data\n",
    "\n",
    "To better understand our datasets, let's visualize them using an interactive map."
   ]
  },
  {
   "cell_type": "code",
   "execution_count": null,
   "id": "41e498c4-4561-4b6b-b900-412102767627",
   "metadata": {},
   "outputs": [],
   "source": [
    "leaflet() %>%\n",
    "    addTiles() %>%\n",
    "    addCircleMarkers(data = cities, color = \"blue\", radius = 3, label = ~NAME, group = \"Cities\") %>%\n",
    "    addPolylines(data = coastline, color = \"green\", group = \"Coastline\") %>%\n",
    "    addLayersControl(overlayGroups = c(\"Cities\", \"Coastline\"))"
   ]
  },
  {
   "cell_type": "markdown",
   "id": "ca9d136f-a4c1-4719-b511-877b1b14628e",
   "metadata": {},
   "source": [
    "For this notebook, we will analyze only the subset of populated places which are located in the United States - i.e. the list of major cities in the United States."
   ]
  },
  {
   "cell_type": "code",
   "execution_count": null,
   "id": "fecacfc9-8ea6-431f-b54b-93572457e92e",
   "metadata": {},
   "outputs": [],
   "source": [
    "# Ensure both layers have the same CRS\n",
    "cities <- st_transform(cities, crs = st_crs(united_states))\n",
    "\n",
    "# Spatial join to select cities within the United States\n",
    "cities_within_us <- cities[cities$SOV0NAME == \"United States\" & cities$POP_MAX >= 1000000,]\n",
    "\n",
    "# Display the selected cities\n",
    "cities_within_us[order(cities_within_us$NAME), c(\"NAME\", \"POP_MAX\")]"
   ]
  },
  {
   "cell_type": "code",
   "execution_count": null,
   "id": "77113b99-04e6-4dce-9254-7077e8830886",
   "metadata": {},
   "outputs": [],
   "source": [
    "# Visualize the result\n",
    "leaflet() %>%\n",
    "  addTiles() %>%\n",
    "  addCircleMarkers(data = cities_within_us, color = \"blue\", radius = 3, label = ~NAME, group = \"Cities in US\")"
   ]
  },
  {
   "cell_type": "markdown",
   "id": "32ef4602-a5fc-4cd8-ae64-034bd3d8a66c",
   "metadata": {},
   "source": [
    "## 3. Basic Distance Calculations"
   ]
  },
  {
   "cell_type": "markdown",
   "id": "cdd37948-ddb9-49f0-b07e-b96d8a586461",
   "metadata": {},
   "source": [
    "### 3a. Euclidean Distance\n",
    "\n",
    "Euclidean distance is the \"straight-line\" distance between two points in Cartesian space. It is calculated based on projected coordinates and is often used for smaller areas."
   ]
  },
  {
   "cell_type": "code",
   "execution_count": null,
   "id": "ee5a413c-ef92-4b61-a583-d9b8f8dc7ed0",
   "metadata": {},
   "outputs": [],
   "source": [
    "# Transform to projected CRS for accurate Euclidean distance\n",
    "cities_projected <- st_transform(cities_within_us, crs = 26915)  # UTM Zone 15N\n",
    "\n",
    "# Select a sample of cities for analysis\n",
    "cities_projected <- cities_projected[1:10, ]\n",
    "\n",
    "# Distance matrix (Euclidean)\n",
    "dist_matrix_euclidean <- st_distance(cities_projected)\n",
    "\n",
    "# Display the distance matrix (in meters)\n",
    "dist_matrix_euclidean"
   ]
  },
  {
   "cell_type": "markdown",
   "id": "47708c32-70ee-48bb-8d70-8d0dd3acf20f",
   "metadata": {},
   "source": [
    "### 3b. Geodesic Distance\n",
    "\n",
    "Geodesic distance is the shortest path between two points on the Earth's surface. It is more accurate for larger areas or when working with lat/lon coordinates."
   ]
  },
  {
   "cell_type": "code",
   "execution_count": null,
   "id": "1ad9722a-7c29-44d1-aaae-5eb653c25cfb",
   "metadata": {},
   "outputs": [],
   "source": [
    "### requires the geosphere package ###\n",
    "\n",
    "# Calculate geodesic distances using geosphere package\n",
    "coords <- st_coordinates(cities)\n",
    "#dist_matrix_geodesic <- distm(\n",
    "#  x = coords[1:10, ],\n",
    "#  fun = distHaversine  # Haversine formula for geodesic distance\n",
    "#)\n",
    "\n",
    "# Display the distance matrix (in meters)\n",
    "#dist_matrix_geodesic"
   ]
  },
  {
   "cell_type": "markdown",
   "id": "9ba195d2-d36f-41a2-b9ef-a1f239dabdea",
   "metadata": {},
   "source": [
    "### **3c. Distance from Cities to Coastline**\n",
    "To calculate the distance from each city to the nearest point on the coastline."
   ]
  },
  {
   "cell_type": "code",
   "execution_count": null,
   "id": "db1c1c3a-9ea2-45c2-8070-2541258f8561",
   "metadata": {},
   "outputs": [],
   "source": [
    "# Calculate distance from each city to the nearest coastline point\n",
    "city_to_coast_distances <- st_distance(cities_within_us, coastline)\n",
    "\n",
    "# Find the minimum distance for each city\n",
    "min_distances <- apply(city_to_coast_distances, 1, min)\n",
    "\n",
    "# Convert distances to kilometers\n",
    "min_distances_km <- round(min_distances / 1000, 1)\n",
    "\n",
    "# Create a data frame with city names and nearest coastline distances\n",
    "city_distance_to_coastline <- data.frame(\n",
    "  city_name = cities_within_us$NAME,\n",
    "  state = cities_within_us$ADM1NAME,\n",
    "  distance_to_nearest_coastline_km = min_distances_km\n",
    ")\n",
    "\n",
    "# Display the results\n",
    "city_distance_to_coastline[order(city_distance_to_coastline$distance_to_nearest_coastline_km),]"
   ]
  },
  {
   "cell_type": "markdown",
   "id": "036913ef-2f68-4d37-af73-8d670ba2f945",
   "metadata": {},
   "source": [
    "Based this analysis, San Juan, Puerto Rico is the closest major city to the coast while Denver, Colorado is the furthest major city from the coast."
   ]
  },
  {
   "cell_type": "markdown",
   "id": "25abc69e-04da-4baa-a570-c889e05ff780",
   "metadata": {},
   "source": [
    "## 4. Nearest Neighbor Analysis\n",
    "\n",
    "Nearest neighbor analysis identifies the closest spatial feature for each point in a dataset. This is useful for applications like finding the nearest service center or analyzing spatial clustering."
   ]
  },
  {
   "cell_type": "code",
   "execution_count": null,
   "id": "b9819e31-c4b3-49ad-90bc-3ff353eef758",
   "metadata": {},
   "outputs": [],
   "source": [
    "# Find the index of the nearest coastline feature for each city\n",
    "nearest_indices <- st_nearest_feature(cities, coastline)\n",
    "\n",
    "# Extract the corresponding distances\n",
    "nearest_distances <- st_distance(cities, coastline[nearest_indices, ])\n",
    "\n",
    "# Convert distances to kilometers\n",
    "nearest_distances_km <- as.numeric(nearest_distances) / 1000\n",
    "\n",
    "# Combine results into a data frame\n",
    "nearest_results <- data.frame(\n",
    "  city_name = cities$NAME,\n",
    "  nearest_coastline_index = nearest_indices,\n",
    "  distance_to_coastline_km = nearest_distances_km\n",
    ")\n",
    "\n",
    "# Display nearest neighbor results\n",
    "nearest_results"
   ]
  },
  {
   "cell_type": "markdown",
   "id": "3cb93511-1c5c-4600-b67d-cbb211709c23",
   "metadata": {},
   "source": [
    "## 5. Buffer Analysis\n",
    "\n",
    "Buffer analysis creates zones of influence around spatial features, which can be used to analyze proximity impacts, such as areas within a certain distance of cities."
   ]
  },
  {
   "cell_type": "markdown",
   "id": "7bea5020-722d-42f3-80c4-be4c04e3d8bd",
   "metadata": {},
   "source": [
    "# Create buffer zones around cities\n",
    "buffers <- st_buffer(cities_projected[1:10, ], dist = 50000)  # 50 km buffer\n",
    "\n",
    "# Check which coastlines intersect with buffers\n",
    "intersections <- st_intersects(buffers, coastline)\n",
    "\n",
    "# Summarize results\n",
    "buffer_results <- data.frame(\n",
    "  city_name = cities$NAME[1:10],\n",
    "  num_coastline_intersections = sapply(intersections, length)\n",
    ")\n",
    "\n",
    "# Display buffer analysis results\n",
    "buffer_results\n",
    "\n",
    "# Visualize buffers on a map\n",
    "leaflet() %>%\n",
    "  addTiles() %>%\n",
    "  addPolygons(data = st_transform(buffers, crs = 4326), color = \"green\", fillOpacity = 0.2, group = \"Buffers\") %>%\n",
    "  addCircleMarkers(data = cities, color = \"blue\", radius = 5, group = \"Cities\") %>%\n",
    "  addPolylines(data = coastline, color = \"red\", group = \"Coastline\") %>%\n",
    "  addLayersControl(overlayGroups = c(\"Buffers\", \"Cities\", \"Coastline\"))"
   ]
  }
 ],
 "metadata": {
  "kernelspec": {
   "display_name": "R",
   "language": "R",
   "name": "ir"
  },
  "language_info": {
   "codemirror_mode": "r",
   "file_extension": ".r",
   "mimetype": "text/x-r-source",
   "name": "R",
   "pygments_lexer": "r",
   "version": "4.3.3"
  }
 },
 "nbformat": 4,
 "nbformat_minor": 5
}
