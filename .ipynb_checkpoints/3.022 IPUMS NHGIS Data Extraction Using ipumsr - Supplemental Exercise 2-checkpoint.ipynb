{
 "cells": [
  {
   "cell_type": "markdown",
   "id": "71fd0b56-4266-4501-a74b-caabe90f4eaf",
   "metadata": {},
   "source": [
    "# IPUMS [NHGIS](https://www.nhgis.org) Data Extraction Using [ipumsr](https://cran.r-project.org/web/packages/ipumsr/index.html) - Supplemental Exercise 2\n",
    "### by [Kate Vavra-Musser](https://vavramusser.github.io) for the [R Spatial Notebook Series](https://vavramusser.github.io/r-spatial)"
   ]
  },
  {
   "cell_type": "markdown",
   "id": "ef0f60c8-98a0-40ab-bedf-418fbdf2858c",
   "metadata": {},
   "source": [
    "## Introduction\n",
    "This notebook provides an additional example of the IPUMS NHGIS data extraction process using the IPUMS API via the ipumsr R package.  This exercise is a supplement to the workflow introducted in Chapter 3.4 IPUMS NHGIS Data Extraction Using ipumsr.\n",
    "\n",
    "### Notebook Goals\n",
    "This notebook replicates the IPUMS NHGIS data extraction process and extracts a NHGIS polygon shapefile.  The resulting data file is used in subsequent notebooks in the R Spatial Notebooks series.  The notebook provides an example of extracting spatial data only (without associated attribute data) from the IPUMS NHGIS repository.\n",
    "\n",
    "### ✨ Prerequisites ✨\n",
    "* Complete [Introduction to IPUMS and the IPUMS API](https://platform.i-guide.io/notebooks/82d3b176-e4e6-4307-8186-318a3fe6c81a)\n",
    "* Set Up Your [IPUMS Account and API Key](https://account.ipums.org/api_keys)\n",
    "* Complete [Introduction to sf: Reading, Writing, and Inspecting Vector Data](https://platform.i-guide.io/notebooks/9968babe-22e4-4c3d-98e2-d8b45e9672cd)\n",
    "* Complete [IPUMS NHGIS Data Extraction Using ipumsr](https://platform.i-guide.io/notebooks/be08e56e-1c08-458e-a230-263c64d386bc)\n",
    "\n",
    "### Notebook Overview\n",
    "1. Setup\n",
    "2. Extraction Workflow: Shapefiles Only\n",
    "\n",
    "---"
   ]
  },
  {
   "cell_type": "markdown",
   "id": "6864cfeb-7fe5-44e9-939b-22a35d979256",
   "metadata": {},
   "source": [
    "## 1. Setup\n",
    "This section will guide you through the process of installing essential packages and setting your IPUMS API key.\n",
    "\n",
    "#### Required Packages\n",
    "\n",
    "[**dplyr**](https://cran.r-project.org/web/packages/dplyr/index.html) A Grammar of Data Manipulation. This notebook uses the the following functions from *dplyr*.\n",
    "\n",
    "* [*filter*](https://rdrr.io/cran/dplyr/man/filter.html) · keep rows that match a condition\n",
    "\n",
    "[**ipumsr**](https://cran.r-project.org/web/packages/ipumsr/index.html) An R Interface for Downloading, Reading, and Handling IPUMS Data.  This notebook uses the the following functions from *ipumsr*.\n",
    "\n",
    "* [*define_extract_nhgis*](https://rdrr.io/cran/ipumsr/man/define_extract_nhgis.html) · define an IPUMS NHGIS extract request\n",
    "* [*download_extract*](https://rdrr.io/cran/ipumsr/man/download_extract.html) · download a completed IPUMS data extract\n",
    "* [*get_metadata_nhgis*](https://rdrr.io/cran/ipumsr/man/get_metadata_nhgis.html) · list available data sources from IPUMS NHGIS\n",
    "* [*read_ipums_sf*](https://rdrr.io/cran/ipumsr/man/read_ipums_sf.html) · read spatial data from an IPUMS extract\n",
    "* [*set_ipums_api_key*](https://rdrr.io/cran/ipumsr/man/set_ipums_api_key.html) · set your IPUMS API key\n",
    "* [*submit_extract*](https://rdrr.io/cran/ipumsr/man/submit_extract.html) · submit an extract request via the IPUMS API\n",
    "* *tst_spec* · create a *tst_spec* object containing a time series table specification\n",
    "* [*wait_for_extract*](https://rdrr.io/cran/ipumsr/man/wait_for_extract.html) · wait for an extract to finish processing\n",
    "\n",
    "[**sf**](https://cran.r-project.org/web/packages/sf/index.html) Support for simple features, a standardized way to encode spatial vector data. Binds to 'GDAL' for reading and writing data, to 'GEOS' for geometrical operations, and to 'PROJ' for projection conversions and datum transformations. Uses by default the 's2' package for spherical geometry operations on ellipsoidal (long/lat) coordinates.  This notebook uses the following functions from *sf*.\n",
    "\n",
    "* [*st_write*](https://rdrr.io/cran/sf/man/st_write.html) · Write simple features object to file or database"
   ]
  },
  {
   "cell_type": "markdown",
   "id": "61ebabf0-4629-4a48-a08b-d8cc893c8936",
   "metadata": {},
   "source": [
    "### 1a. Install and Load Required Packages\n",
    "If you have not already installed the required packages, uncomment and run the code below:"
   ]
  },
  {
   "cell_type": "code",
   "execution_count": null,
   "id": "774c244c-0bef-426c-b397-fccac75266b7",
   "metadata": {},
   "outputs": [],
   "source": [
    "# install.packages(\"dplyr\", \"ipumsr\", \"purr\", \"sf\")"
   ]
  },
  {
   "cell_type": "markdown",
   "id": "e687741b-ce32-41a1-ac0e-13915f8f4c48",
   "metadata": {},
   "source": [
    "Load the packages into your workspace."
   ]
  },
  {
   "cell_type": "code",
   "execution_count": null,
   "id": "dd119ca6-b0a3-4fb3-b862-f6479e8a67c7",
   "metadata": {},
   "outputs": [],
   "source": [
    "library(dplyr)\n",
    "library(ipumsr)\n",
    "library(purrr)\n",
    "library(sf)"
   ]
  },
  {
   "cell_type": "markdown",
   "id": "fb45df03-f010-4a30-8dbf-ca88ae7a633e",
   "metadata": {},
   "source": [
    "### 1b. Set Your IPUMS API Key\n",
    "\n",
    "Store your [IPUMS API key](https://account.ipums.org/api_keys) in your environment using the following code.\n",
    "\n",
    "Refer to [Chapter 1.1 Introduction to IPUMS and the IPUMS API](https://platform.i-guide.io/notebooks/82d3b176-e4e6-4307-8186-318a3fe6c81a) for instructions on setting up your IPUMS account and API key."
   ]
  },
  {
   "cell_type": "code",
   "execution_count": null,
   "id": "b606eb6c-e4f3-41b7-8ad8-bafda3abe191",
   "metadata": {},
   "outputs": [],
   "source": [
    "ipumps_api_key = readline(\"Please enter your IPUMS API key: \")\n",
    "set_ipums_api_key(ipumps_api_key, save = T, overwrite = T)"
   ]
  },
  {
   "cell_type": "markdown",
   "id": "c59b27a2-d8e5-4504-a288-2b49f8f6d36f",
   "metadata": {},
   "source": [
    "## 2. NHGIS Polygons Only\n",
    "\n",
    "### 2a. View and Filter the List of Geography Shapefiles\n",
    "\n",
    "Forthis exercise, we only want the geography shapefile and aren't interested in downloading any data from the time-series tables NHGIS repository.  Therefore, we will jump directly into e will taking a look at the list of geography shapefiles that fit our critera.  We are looking for state boundary shapefiles so let's filter the shapefile metadata to only incluede shapefiles which include the word \"state\" on the description of their *geographic_level*.  We will also focus on only shapefiles using the 2010 Tiger-Line files so we will also filter based on the *year = 2010* criteria."
   ]
  },
  {
   "cell_type": "code",
   "execution_count": null,
   "id": "67f666dc-d947-427b-b063-b3a985af8847",
   "metadata": {},
   "outputs": [],
   "source": [
    "metadata_shp <- get_metadata_nhgis(\"shapefiles\") %>%\n",
    "    filter(year == 2010 & grepl(\"state\", geographic_level, ignore.case = T)) %>%\n",
    "    print(n = Inf)"
   ]
  },
  {
   "cell_type": "markdown",
   "id": "5cf02cea-45b6-46ea-8ab4-5f152362eb1a",
   "metadata": {},
   "source": [
    "This filter resulted in a list of sevem potential shapefiles.  Let's select the 2010 shapefile based on 2010 Tiger-Line shapefiles for states (*us_state_2010_tl2010*).\n",
    "\n",
    "### 2b. Shapefile Extraction Specification and Submission\n",
    "\n",
    "Now that we have selected our shapefile (*us_state_2010_tl2010*) we are ready to define and submit our extraction request to the IPUMS API."
   ]
  },
  {
   "cell_type": "code",
   "execution_count": null,
   "id": "5676a988-6368-4ccb-9416-0463a2a4c7aa",
   "metadata": {},
   "outputs": [],
   "source": [
    "extract_definition <- define_extract_nhgis(description = \"I-GUIDE NHGIS State Polygons Shapefile Extraction\",\n",
    "                                           shapefiles = \"us_state_2010_tl2010\")"
   ]
  },
  {
   "cell_type": "markdown",
   "id": "8d38efd8-45c4-46b7-87de-c1cdf832e17b",
   "metadata": {},
   "source": [
    "Submitting the extraction definition object *extract_definition* to the API."
   ]
  },
  {
   "cell_type": "code",
   "execution_count": null,
   "id": "73bc6bc4-897e-4a06-bb15-f8de1547fca4",
   "metadata": {},
   "outputs": [],
   "source": [
    "extraction_submitted <- submit_extract(extract_definition)\n",
    "extraction_complete <- wait_for_extract(extraction_submitted)\n",
    "extraction_complete$status\n",
    "filepath <- download_extract(extraction_submitted, overwrite = T)"
   ]
  },
  {
   "cell_type": "markdown",
   "id": "0d429b2f-24fc-44df-a756-6fb84f03940f",
   "metadata": {},
   "source": [
    "The result of the extraction request will be one file, the state boundaries geography shapefile.  The next step is to read that file into R."
   ]
  },
  {
   "cell_type": "code",
   "execution_count": null,
   "id": "2562aa0d-2017-44a2-8156-b8d5074a45ee",
   "metadata": {},
   "outputs": [],
   "source": [
    "shp <- read_ipums_sf(filepath)"
   ]
  },
  {
   "cell_type": "markdown",
   "id": "b04ef1bf-8d55-4a5c-a8af-0fb896f753dc",
   "metadata": {},
   "source": [
    "Let's take a look at the dimesions of the shapefile (*shp*)."
   ]
  },
  {
   "cell_type": "code",
   "execution_count": null,
   "id": "0bd55eb7-320d-4124-ab7a-5f6304eaf889",
   "metadata": {},
   "outputs": [],
   "source": [
    "dim(shp)"
   ]
  },
  {
   "cell_type": "markdown",
   "id": "f436c4f4-229e-42ff-837d-b9aa68a03838",
   "metadata": {},
   "source": [
    "The shapefile includes 18 variables for 52 polygons inckding the 50 states, Washington D.C., and Puerto Rico.\n",
    "\n",
    "Let's take a look at the first few lines of the shapefile"
   ]
  },
  {
   "cell_type": "code",
   "execution_count": null,
   "id": "0c12e7d8-4bb5-4953-905a-ce3a4397afe1",
   "metadata": {},
   "outputs": [],
   "source": [
    "head(shp)"
   ]
  },
  {
   "cell_type": "markdown",
   "id": "d1121027-0515-4e10-bc86-2dffc07e91aa",
   "metadata": {},
   "source": [
    "Finally, we will save the shapefile.  Before we do that however, we subset out data to only the column we will use in subsequent analyses.  This will make it easier to save and work work this data."
   ]
  },
  {
   "cell_type": "code",
   "execution_count": null,
   "id": "403e6ffd-e2f4-48bd-a95e-e6a02d2d3e53",
   "metadata": {},
   "outputs": [],
   "source": [
    "colnames(shp)"
   ]
  },
  {
   "cell_type": "code",
   "execution_count": null,
   "id": "124b548e-5665-472a-9a5f-96a020b13bc7",
   "metadata": {},
   "outputs": [],
   "source": [
    "shp_cols <- c(\"STATEFP10\", \"STUSPS10\", \"NAME10\")\n",
    "shp <- shp[shp_cols]"
   ]
  },
  {
   "cell_type": "markdown",
   "id": "3453f89c-6260-4bf7-b114-27e73d610860",
   "metadata": {},
   "source": [
    "We are ready to save the shapefile to our workspace."
   ]
  },
  {
   "cell_type": "code",
   "execution_count": null,
   "id": "e7bfd29e-0745-4d38-a17a-bcc50262c9cc",
   "metadata": {},
   "outputs": [],
   "source": [
    "st_write(shp, \"ipums_nhgis_states.shp\", driver = \"ESRI Shapefile\", delete_dsn = T)"
   ]
  },
  {
   "cell_type": "markdown",
   "id": "d464ebd2-c91d-4322-b297-647a735ab6e1",
   "metadata": {},
   "source": [
    "At the end of this notebook we have saved a copy of the geographic data file for US states to the shapefile *ipums_nhgis_states.shp*."
   ]
  },
  {
   "cell_type": "markdown",
   "id": "683acf5e-f949-4e24-8845-789f783b207e",
   "metadata": {},
   "source": [
    "---\n",
    "\n",
    "## Next Steps\n",
    "\n",
    "* Continue to [**Chapter 3.01.3 IPUMS NHGIS Data Extraction using ipumsr: Supplemental Exercise 3**](https://platform.i-guide.io/notebooks/55dd96e5-fdf6-408f-a050-7fcd006d0575)\n",
    "* Move on to Chapter 5: Data Cleaning, Preparation, and Exploratory Data Analysis (EDA)\n",
    "  * [**Chapter 5.02 Spatial Data Exploration and Preprocessing with IPUMS NHGIS**]()\n",
    "* Return to the [**R Spatial Notebooks Project Chapter List**](https://vavramusser.github.io/r-spatial/#:~:text=Chapter%201%3A%20Data%20Sources%20and%20APIs) to view a list of all available notebooks organized in the R Spatial Notebooks chapter structure.\n",
    "* Visit the [**R Spatial Notebooks Project Homepage**](https://vavramusser.github.io/r-spatial) to learn more about the project, view the list of all notebooks, and explore additional resources.\n",
    "* Join the project [**Mailing List**](https://mailchi.mp/ab01e8fc8397/r-spatial-email-signup) to hear about future notebook releases and other updates.\n",
    "* If you have an idea for a new notebook please submit your idea via the [**Suggestion Box**](https://us19.list-manage.com/survey?u=746bf8d366d6fbc99c699e714&id=54590a28ea&attribution=false).\n",
    "\n",
    "---\n",
    "\n",
    "## ★ Thank You ★\n",
    "\n",
    "Thank you so much for engaging with this notebook and supporting the project!  The R Spatial Notebooks Project is a labor of love so if you enjoy or benefit from these notebooks, please consider [**Donating to the Project**](https://buymeacoffee.com/vavramusser).  Your support allows me to continue producing notebooks and supporting the R Spatial Notebooks community."
   ]
  }
 ],
 "metadata": {
  "kernelspec": {
   "display_name": "R",
   "language": "R",
   "name": "ir"
  },
  "language_info": {
   "codemirror_mode": "r",
   "file_extension": ".r",
   "mimetype": "text/x-r-source",
   "name": "R",
   "pygments_lexer": "r",
   "version": "4.3.3"
  }
 },
 "nbformat": 4,
 "nbformat_minor": 5
}
