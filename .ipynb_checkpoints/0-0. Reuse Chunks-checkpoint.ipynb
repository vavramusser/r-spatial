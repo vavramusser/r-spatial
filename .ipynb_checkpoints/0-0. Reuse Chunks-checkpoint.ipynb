{
 "cells": [
  {
   "cell_type": "markdown",
   "id": "54dcdb6a-2e99-4654-b890-97e1385635f2",
   "metadata": {},
   "source": [
    "## 1 Setup\n",
    "\n",
    "### 1a. Package Installation\n",
    "\n",
    "Before running this script, you will need to install and load the following packages into your R environment:"
   ]
  },
  {
   "cell_type": "markdown",
   "id": "daefca7b-de46-46d6-999d-9dfe43cddad6",
   "metadata": {},
   "source": [
    "[**corrplot**](https://cran.r-project.org/web/packages/corrplot/index.html) A package which provides a visualization of a correlation matrix.  This notebook uses the following function from *corrplot*.\n",
    "\n",
    "* [*corrplot()*](https://cran.r-project.org/web/packages/corrplot/vignettes/corrplot-intro.html) for creating a correlation matrix visualization"
   ]
  },
  {
   "cell_type": "markdown",
   "id": "374dd78d-56ab-49ce-a846-75df0766905c",
   "metadata": {},
   "source": [
    "[**dplyr**](https://cran.r-project.org/web/packages/dplyr/index.html) A package for data manipulation that provides a consistent set of functions to filter, arrange, summarize, and transform data. *dplyr* makes it easy to work with data frames and perform operations efficiently.  This notebook uses the the following functions from *dplyr*.\n",
    "\n",
    "* [*arrange()*](https://dplyr.tidyverse.org/reference/arrange.html) for ordering the rows of a data frame by selected columns\n",
    "* [*case_when()*](https://dplyr.tidyverse.org/reference/case_when.html) for creating or modifying new dataframe columns based on multiple conditions\n",
    "* [*filter()*](https://dplyr.tidyverse.org/reference/filter.html) for subsetting a dataframe based on specified conditions\n",
    "* [*group_by()*](https://dplyr.tidyverse.org/reference/group_by.html) for grouping by one or more variables\n",
    "* [*mutate()*](https://dplyr.tidyverse.org/reference/mutate.html) for modifying dataframes\n",
    "* [*rename()*](https://dplyr.tidyverse.org/reference/rename.html) for changing the names of individual variables in a dataframe\n",
    "* [*select()*](https://dplyr.tidyverse.org/reference/select.html) for selecting variables in a dataframe by name\n",
    "* [*summarize()*](https://dplyr.tidyverse.org/reference/summarise.html) for creating a new data frame using combinations of grouping variables\n",
    "* This notebook also uses [*%>%*](https://magrittr.tidyverse.org/reference/pipe.html), referred to as the *pipe* operator, which is used to pass the output from one function directly into the next function for the purpose of creating streamlined workflows.  The *pipe* operator is a commonly used component of the [*tidyverse*](https://www.tidyverse.org)."
   ]
  },
  {
   "cell_type": "markdown",
   "id": "8212bc3c-7e21-4069-b03b-20e6a5259db8",
   "metadata": {},
   "source": [
    "[**ggmap**](https://cran.r-project.org/web/packages/ggmap/index.html) A collection of functions to visualize spatial data and models on top of static maps from various online sources (e.g Google Maps and Stamen Maps). It includes tools common to those tasks, including functions for geolocation and routing.  This notebook uses the following functions from *ggmap*.\n",
    "\n",
    "* [*get_stamenmap*](https://rdrr.io/cran/ggmap/man/get_stamenmap.html) for accessing a tile server from Stamen Maps\n",
    "* [*register_stadiamaps*](https://search.r-project.org/CRAN/refmans/ggmap/html/register_stadiamaps.html) for registering a Stadia Maps API key"
   ]
  },
  {
   "cell_type": "markdown",
   "id": "091795ce-007a-49ee-9079-6d173d37b2c5",
   "metadata": {},
   "source": [
    "[**ggplot2**](https://cran.r-project.org/web/packages/ggplot2/index.html) A package for creating graphics based on the \"Grammar of Graphics\".  This notebook uses the following functions from *ggplot2*.\n",
    "\n",
    "* [*geom_bar()*](https://ggplot2.tidyverse.org/reference/geom_bar.html) for creating bar charts\n",
    "* [*geom_boxplot()*](https://ggplot2.tidyverse.org/reference/geom_boxplot.html) for creating boxplots, aka box-and-whisker plots\n",
    "* [*geom_density()*](https://ggplot2.tidyverse.org/reference/geom_density.html) for creating density plots\n",
    "* [*geom_histogram()*](https://ggplot2.tidyverse.org/reference/geom_histogram.html) for creating histograms\n",
    "* [*geom_point()*](https://ggplot2.tidyverse.org/reference/geom_point.html) for creating scatterplots\n",
    "* [*geom_sf()*](https://ggplot2.tidyverse.org/reference/ggsf.html) for visualizing (mapping) sf objects\n",
    "* [*geom_vline()*](https://www.rdocumentation.org/packages/ggplot2/versions/0.9.0/topics/geom_vline) for annotating a plot with a vertical line"
   ]
  },
  {
   "cell_type": "markdown",
   "id": "e0703490-c3b5-475b-a03d-8d0159e33ce5",
   "metadata": {},
   "source": [
    "[**gridExtra**](https://cran.r-project.org/web/packages/gridExtra/index.html) A package which provides a number of functions to work with grid graphics such as arranging multiple plots.  This notebook uses the following functions from *gridExtra*.\n",
    "\n",
    "* *grid.arrange()* for arranging multiple graphics on a page"
   ]
  },
  {
   "cell_type": "markdown",
   "id": "e80004ff-79b2-43f4-b3a2-5f1c600f0ff4",
   "metadata": {},
   "source": [
    "[**haven**](https://cran.r-project.org/web/packages/haven/index.html) A package for importing and exporting SPSS, Stata, and SAS files.  This notebook uses the following functions from *haven*.\n",
    "\n",
    "* [*as_factor()*](https://haven.tidyverse.org/reference/as_factor.html) for formating categorical variables as factors."
   ]
  },
  {
   "cell_type": "markdown",
   "id": "1c8230fb-af95-4b85-90cb-3a54ab2116c5",
   "metadata": {},
   "source": [
    "[**ipumsr**](https://cran.r-project.org/web/packages/ipumsr/index.html) A package for interacting with IPUMS datasets and the IPUMS API. It allows users to define and submit data extraction requests, download data, and read it directly into R for analysis.  This notebook uses the the following functions from *ipumsr*.\n",
    "\n",
    "* *set_ipums_api_key()* for setting your IPUMS API key\n",
    "* *get_sample_info()* for retrieving sample identification codes and descriptions for IPUMS microdata collections\n",
    "* *get_metadata_nhgis()* for listing available data sources from IPUMS NHGIS\n",
    "* *define_extract_micro()* for defining the parameters of an IPUMS microdata extract request to be submitted via the IPUMS API\n",
    "* *define_extract_nhgis()* for defining an IPUMS NHGIS extract request\n",
    "* *tst_spec()* for creating a tst_spec object containing a time-series table specification\n",
    "* *submit_exract()* for submitting an extract request via the IPUMS API and return an *ipums_extract* object\n",
    "* *wait_for_extract()* wait for an extract to finish processing\n",
    "* *download_extract()* download an extract's data files\n",
    "* *read_ipums_ddi()* for reading metadata about an IPUMS microdata extract from a DDI codebook (.xml) file\n",
    "* *read_ipums_micro()* for reading data from an IPUMS microdata extract\n",
    "* *read_nhgis()* for reading tabular data from an NHGIS extract\n",
    "* *read_ipums_sf()* for reading spatial data from an IPUMS extract"
   ]
  },
  {
   "cell_type": "markdown",
   "id": "18a1ee2e-70cd-400a-9e80-eb53f2dc5a8c",
   "metadata": {},
   "source": [
    "[**purrr**](https://cran.r-project.org/web/packages/purrr/index.html) A functional programming toolkit that simplifies the process of working with lists and vectors. It is particularly useful for applying functions to multiple elements or data frames, making it easier to write clean, efficient code.  This notebook uses the the following functions from *purr*.\n",
    "\n",
    "* [*map()*](https://www.rdocumentation.org/packages/purrr/versions/0.2.5/topics/map) and [*map_dfr()*](https://purrr.tidyverse.org/reference/map_dfr.html) for applying a function to each element in the given input"
   ]
  },
  {
   "cell_type": "markdown",
   "id": "a15306e9-62f0-4ca6-b0f3-ce0db2362949",
   "metadata": {},
   "source": [
    "[**RAQSAPI**](https://cran.r-project.org/web/packages/RAQSAPI/index.html) A package designed to interface with the [United States Environmental Protection Agency's (EPA) Air Quality System (AQS) Data Mart API](https://aqs.epa.gov/aqsweb/documents/data_api.html) and retrieve air monitoring data and associated metadata from the EPA's air quality monitoring service.  This notebook uses the the following functions from *RAQSAPI*.\n",
    "\n",
    "* *aqs_credentials()* for setting the user credentials for the AQS API\n",
    "* *aqs_annualsummary_by_state()* for returning annual data from the AQS API aggregated at the state level"
   ]
  },
  {
   "cell_type": "markdown",
   "id": "913a7caf-6743-43ec-b404-95d9c62e2f02",
   "metadata": {},
   "source": [
    "[**rnaturalearth**](https://cran.r-project.org/web/packages/rnaturalearth/index.html) A package for extracting geographic data from the open-source online repository [Natural Earth](https://www.naturalearthdata.com).  This notebook uses the folloing functions from *rnationalearth*.\n",
    "\n",
    "* [*ne_countries()*](https://www.rdocumentation.org/packages/rnaturalearth/versions/1.0.1/topics/ne_countries) for downloading world country polygons from Natural Earth\n",
    "* [*ne_download()*](https://www.rdocumentation.org/packages/rnaturalearth/versions/1.0.1/topics/ne_download) for downloading data from Natural Earth"
   ]
  },
  {
   "cell_type": "markdown",
   "id": "07b538e4-383c-4b53-b1a0-8b76f177bf06",
   "metadata": {},
   "source": [
    "[**rnaturalearthdata**](https://cran.r-project.org/web/packages/rnaturalearthdata/index.html)"
   ]
  },
  {
   "cell_type": "markdown",
   "id": "52cb6851-47b5-4a07-8874-8bf49a4e2b02",
   "metadata": {},
   "source": [
    "[**sf**](https://cran.r-project.org/web/packages/sf/index.html) A package providing support for simple features (sf) geometry objects, a standardized way to encode spatial vector data.  This notebook uses the following functions from *sf*.\n",
    "\n",
    "* [*st_area()*](https://r-spatial.github.io/sf/reference/geos_measures.html) for computing the area or the length of a set of geometries\n",
    "* [*st_as_sf()*](https://r-spatial.github.io/sf/reference/st_as_sf.html) for converting a foreign object on a sf object\n",
    "* [*st_buffer()*](https://r-spatial.github.io/sf/reference/geos_unary.html) for carrying out a unary buffer operation on simple feature geometries\n",
    "* [*st_crs()*](https://r-spatial.github.io/sf/reference/st_crs.html) for retrieveing, setting, and replacing coordinate reference systems (CRS) for sf objects\n",
    "* [*st_intersection()*](https://r-spatial.github.io/sf/reference/geos_binary_ops.html) for performing geometric set operations with simple feature geometry collections\n",
    "* [*st_make_valid()*](https://r-spatial.github.io/sf/reference/valid.html) for checking whether geometry is valid or making an invalid geometry valid\n",
    "* [*st_read()*](https://www.rdocumentation.org/packages/sf/versions/0.2-2/topics/st_read) for readinb simple features from file or database\n",
    "* [*st_transform()*](https://r-spatial.github.io/sf/reference/st_transform.html) for transforming or converting coordinates of simple feature"
   ]
  },
  {
   "cell_type": "markdown",
   "id": "66a42342-5268-422d-aa4f-e3e3cee8f955",
   "metadata": {},
   "source": [
    "If you are working in the I-GUIDE environment, the these packages should be already be installed.  If you are working on your local machine or another environment, you may need to install them before continuing."
   ]
  },
  {
   "cell_type": "markdown",
   "id": "2ce1521f-c235-476d-8850-addacf4aa039",
   "metadata": {},
   "source": [
    "Load the packages into your workspace."
   ]
  },
  {
   "cell_type": "markdown",
   "id": "7b42ae87-ba26-4ee7-8327-9392f9f4bc0c",
   "metadata": {},
   "source": [
    "### 1b. API Setup"
   ]
  },
  {
   "cell_type": "markdown",
   "id": "d991237b-6217-43e7-aa64-d20bc79aeedc",
   "metadata": {},
   "source": [
    "#### Connect your IPUMS API Key\n",
    "\n",
    "Run the following code to enter your [IPUMS API key](https://account.ipums.org/api_keys).  Refer to the **Introduction to IPUMS and the IPUMS API** notebook for background on the IPUMS data repository and for instructions on setting up your IPUMS account and API key."
   ]
  },
  {
   "cell_type": "code",
   "execution_count": null,
   "id": "9457fe8b-7ffb-4d1d-8083-1bdf5a529983",
   "metadata": {},
   "outputs": [],
   "source": [
    "ipumps_api_key = readline(\"Please enter your IPUMS API key: \")\n",
    "set_ipums_api_key(ipumps_api_key, save = T, overwrite = T)"
   ]
  },
  {
   "cell_type": "markdown",
   "id": "155fd12d-781c-4233-bf60-cd2fbce78270",
   "metadata": {},
   "source": [
    "#### Connect your EPA AQS API Key\n",
    "\n",
    "Run the following code to enter your [EPA AQS API](https://aqs.epa.gov/aqsweb/documents/data_api.html) username (email) and key.  Refer to the **Introduction to the Environmental Protection Agency (EPA) Air Quality System (AQS) Data Repository and API** notebook for background on the EPA AQS data repository and for instructions on setting up your EPA AQS API key."
   ]
  },
  {
   "cell_type": "code",
   "execution_count": null,
   "id": "845a2e11-da35-42a0-9f69-fa1535c7ef4a",
   "metadata": {},
   "outputs": [],
   "source": [
    "epaaqs_api_email = readline(\"Please enter your EPA AQS API username (email): \")\n",
    "epaaqs_api_key = readline(\"Please enter your EPA AQS API key: \")\n",
    "# this step commented until the RAQSAPI package is installed\n",
    "#aqs_credentials(epaaqs_api_email, epaaqs_api_key)"
   ]
  },
  {
   "cell_type": "markdown",
   "id": "d74cfc3b-605e-4989-a932-8a8291386b1b",
   "metadata": {},
   "source": [
    "#### Connect your Stadia Maps API Key\n",
    "\n",
    "Run the following code to enter your [Stadia Maps API](https://client.stadiamaps.com/signup) key.  Refer to the **Introduction to Basemaps with ggmap** notebook for background on the Stadia Maps data repository and for instructions on setting up your Stadia Maps API key."
   ]
  },
  {
   "cell_type": "code",
   "execution_count": null,
   "id": "20c71a58-13dc-46c0-89e9-0748f986d383",
   "metadata": {},
   "outputs": [],
   "source": [
    "stadia_api_key = readline(\"Please enter your Stadia API key: \")\n",
    "register_stadiamaps(stadia_api_key)"
   ]
  },
  {
   "cell_type": "markdown",
   "id": "cccb24ff-fa1f-4b8b-91a1-704da8e01b3d",
   "metadata": {},
   "source": [
    "## Next Steps\n",
    "\n",
    "From here, we recommend exploring the following notebooks:\n",
    "\n",
    "* **IPUMS USA Data Extraction** Extract IPUMS USA data.\n",
    "* **IPUMS NHGIS Data Extraction** Extract IPUMS NHGIS data and corresponding geographic boundary files.\n",
    "* **IPUMS ACS Data Cleaning** Work through a data cleaning workflow using the IPUMS USA data extraction you just downloaded."
   ]
  },
  {
   "cell_type": "markdown",
   "id": "5bc7ed2a-20eb-4872-a2da-ed2711c5ca60",
   "metadata": {},
   "source": [
    "## 6. Bonus: A Quick Population Map Using ggplot\n",
    "\n",
    "Now that we have merged the population data with the shapefiles, we can create a quick visualization to explore how the population is distributed across a specific state. This section code for generating simple choropleth map, which uses colors to represent population density across different geographic areas.\n",
    "\n",
    "The example map visualizes the population distribution within Rhode Island for 2020 using the merged datset. The code selects the state of Rhode Island by referencing the [state FIPS code](https://transition.fcc.gov/oet/info/maps/census/fips/fips.txt).  Mapping the data allows you to visually analyze patterns in population density, identifying areas with higher or lower populations."
   ]
  },
  {
   "cell_type": "code",
   "execution_count": 1,
   "id": "8d032689-ab47-4cac-8b16-6d6ea0051882",
   "metadata": {},
   "outputs": [
    {
     "name": "stderr",
     "output_type": "stream",
     "text": [
      "Installing packages into ‘/home/jovyan/R/x86_64-conda-linux-gnu-library/4.3’\n",
      "(as ‘lib’ is unspecified)\n",
      "\n",
      "Warning message in install.packages(c(\"ggplot2\", \"sf\")):\n",
      "“installation of package ‘sf’ had non-zero exit status”\n",
      "Linking to GEOS 3.12.0, GDAL 3.7.2, PROJ 9.3.0; sf_use_s2() is TRUE\n",
      "\n"
     ]
    },
    {
     "ename": "ERROR",
     "evalue": "Error in eval(expr, envir, enclos): object 'dat' not found\n",
     "output_type": "error",
     "traceback": [
      "Error in eval(expr, envir, enclos): object 'dat' not found\nTraceback:\n",
      "1. dat %>% filter(STATEFP10 == \"44\")",
      "2. filter(., STATEFP10 == \"44\")",
      "3. as.ts(x)"
     ]
    }
   ],
   "source": [
    "install.packages(c(\"ggplot2\", \"sf\"))\n",
    "library(ggplot2)\n",
    "library(sf)\n",
    "\n",
    "# filter the dataset for a single state (e.g., Rhode Island - FIPS code: 44)\n",
    "state_data <- dat %>% filter(STATEFP10 == \"44\")  # Rhode Island FIPS code\n",
    "\n",
    "# quick map of population for 2020\n",
    "ggplot(state_data) +\n",
    "  geom_sf(aes(fill = pop2020), color = \"white\", size = 0.2) +\n",
    "  scale_fill_viridis_c(name = \"Population\", option = \"plasma\") +\n",
    "  labs(\n",
    "    title = \"Population Distribution in Rhode Island (2020)\",\n",
    "    subtitle = \"Data Source: IPUMS NHGIS\",\n",
    "    caption = \"Created using ggplot2 and sf\"\n",
    "  ) +\n",
    "  theme_minimal()"
   ]
  },
  {
   "cell_type": "code",
   "execution_count": null,
   "id": "8fa5372b-6c1b-453b-8724-c09ff5de1e7b",
   "metadata": {},
   "outputs": [],
   "source": []
  }
 ],
 "metadata": {
  "kernelspec": {
   "display_name": "iguide-ewd-r",
   "language": "R",
   "name": "iguide-ewd-r"
  },
  "language_info": {
   "codemirror_mode": "r",
   "file_extension": ".r",
   "mimetype": "text/x-r-source",
   "name": "R",
   "pygments_lexer": "r",
   "version": "4.3.1"
  }
 },
 "nbformat": 4,
 "nbformat_minor": 5
}
