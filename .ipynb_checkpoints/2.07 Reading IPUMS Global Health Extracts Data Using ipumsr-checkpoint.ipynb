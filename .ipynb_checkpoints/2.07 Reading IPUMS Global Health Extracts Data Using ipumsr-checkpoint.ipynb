{
 "cells": [
  {
   "cell_type": "markdown",
   "id": "5c578a64-4d4a-4721-958c-800506510b16",
   "metadata": {},
   "source": [
    "# Reading IPUMS Global Health Data Extracts Using ipumsr"
   ]
  },
  {
   "cell_type": "markdown",
   "id": "dda02f5e-fa65-4398-b630-c51d09cea26d",
   "metadata": {},
   "source": [
    "## Introduction\n",
    "\n",
    "The [IPUMS Global Health](https://globalhealth.ipums.org) database offers harmonized microdata from international health surveys, including the [Demographic and Health Surveys (DHS)](https://dhsprogram.com), [Performance Monitoring for Action (PMA)](https://www.pmadata.org) surveys, and the [Multiple Indicator Cluster Surveys (MICS)](https://mics.unicef.org). It provides detailed information on maternal and child health, family planning, nutrition, and access to healthcare across countries. Through harmonization, IPUMS Global Health enables researchers to compare health outcomes and determinants across countries and survey years, overcoming challenges posed by differences in survey design, variable definitions, and geographic contexts.\n",
    "\n",
    "**From the [IPUMS Global Health Website](https://globalhealth.ipums.org):** IPUMS Global Health provides integrated international health survey data at no cost for research and educational purposes from three data series: the Demographic Health Surveys (DHS), the UNICEF Multiple Indicator Cluster surveys (MICS), and Performance Monitoring for Action (PMA).\n",
    "\n",
    "The IPUMS Global Health database organized into the following three subsections, based on data source:\n",
    "\n",
    "* [Demographic and Health Surveys (DHS)](https://www.idhsdata.org/idhs): Integrated Demographic and Health Surveys from The DHS Program, currently covering Africa and South Asian surveys from the 1980s to the present.\n",
    "* [Performance Monitoring for Action (PMA)](https://pma.ipums.org/pma): Integrated PMA surveys on fertility, contraception, hygiene, and health, administered frequently to monitor trends in select high-fertility countries.\n",
    "* [Multiple Indicator Cluster Surveys (MICS)](https://mics.ipums.org/mics): Integrated MICS surveys covering child health and well-being.\n",
    "\n",
    "This notebook introduces the process of using the the [ipumsr R package](https://cran.r-project.org/web/packages/ipumsr/index.html) to read [IPUMS Health Surveys](https://healthsurveys.ipums.org) data extracts which were previously downloaded from the IPUMS data repository. By the end of this notebook, users will have the skills to prepare IPUMS Global Health datasets for spatial and statistical workflows.\n",
    "\n",
    "*Note that the IPUMS API does not currently support direct data extraction from the IPUMS Global Health database.*\n",
    "\n",
    "### ★ Prerequisites ★\n",
    "* Complete Chapter 1.1: Introduction to IPUMS and the IPUMS API\n",
    "\n",
    "### Notebook Overview\n",
    "1. Setup\n",
    "2. ..."
   ]
  },
  {
   "cell_type": "markdown",
   "id": "03353d29-58ad-42d8-ab20-14307d49a404",
   "metadata": {},
   "source": [
    "## 1. Setup\n",
    "This section will guide you through the process of installing essential packages and setting your IPUMS API key.\n",
    "\n",
    "##### Required Packages\n",
    "\n",
    "[**ipumsr**](https://cran.r-project.org/web/packages/ipumsr/index.html) A package for interacting with IPUMS datasets and the IPUMS API. It allows users to define and submit data extraction requests, download data, and read it directly into R for analysis.  This notebook uses the the following functions from *ipumsr*.\n",
    "\n",
    "* *set_ipums_api_key()* for setting your IPUMS API key\n",
    "* *get_sample_info()* for retrieving sample identification codes and descriptions for IPUMS microdata collections\n",
    "* *get_metadata_nhgis()* for listing available data sources from IPUMS NHGIS\n",
    "* *define_extract_micro()* for defining the parameters of an IPUMS microdata extract request to be submitted via the IPUMS API\n",
    "* *define_extract_nhgis()* for defining an IPUMS NHGIS extract request\n",
    "* *tst_spec()* for creating a tst_spec object containing a time-series table specification\n",
    "* *submit_exract()* for submitting an extract request via the IPUMS API and return an *ipums_extract* object\n",
    "* *wait_for_extract()* wait for an extract to finish processing\n",
    "* *download_extract()* download an extract's data files\n",
    "* *read_ipums_ddi()* for reading metadata about an IPUMS microdata extract from a DDI codebook (.xml) file\n",
    "* *read_ipums_micro()* for reading data from an IPUMS microdata extract\n",
    "* *read_nhgis()* for reading tabular data from an NHGIS extract\n",
    "* *read_ipums_sf()* for reading spatial data from an IPUMS extract"
   ]
  },
  {
   "cell_type": "markdown",
   "id": "525de26d-96a5-43f0-85d7-256ab0729850",
   "metadata": {},
   "source": [
    "### 1a. Install and Load Required Packages\n",
    "If you have not already installed the required packages, uncomment and run the code below:"
   ]
  },
  {
   "cell_type": "code",
   "execution_count": null,
   "id": "e8b3569f-c2c3-45fe-9a9a-722dc636839b",
   "metadata": {},
   "outputs": [],
   "source": [
    "# install.packages(\"ipumsr\")"
   ]
  },
  {
   "cell_type": "markdown",
   "id": "5c489f29-cd67-4d22-903d-6c24d316817c",
   "metadata": {},
   "source": [
    "Load the packages into your workspace."
   ]
  },
  {
   "cell_type": "code",
   "execution_count": 1,
   "id": "35b8db89-b390-4d82-acc3-361c6bb9d368",
   "metadata": {},
   "outputs": [],
   "source": [
    "library(ipumsr)"
   ]
  },
  {
   "cell_type": "markdown",
   "id": "fb2e5fa6-292d-49dd-935a-2a7a6f02ac53",
   "metadata": {},
   "source": [
    "## 2. Read an IPUMS Demographic and Health Surveys (DHS) Data Extract\n",
    "\n",
    "From the [**IPUMS Demographic Health Surveys (DHS) Webpage**](https://www.atusdata.org/atus): IPUMS-DHS facilitates analysis of Demographic and Health Surveys, administered in low- and middle-income countries since the 1980s. IPUMS-DHS contains thousands of consistently coded variables on the health and well-being of women, children, births, men, and on all members of randomly selected households, for 42 African countries and 9 Asian countries. Users can determine variable availability at a glance and create data files with just the variables and samples they need.\n",
    "\n",
    "### ★ Create Your DHS Account ★\n",
    "Prior to downloading from the IPUMS DHS repository, you will need to [**set up a DHS account**](https://dhsprogram.com/data/dataset_admin/login_main.cfm).\n",
    "\n",
    "##### Kenya 2020 (Women)\n",
    "\n",
    "**Variable Selection**\n",
    "* Displaced GPS Coordinates of Primary Sampling Unit (GPSLATLONG)\n",
    "* Number of Entries in the Birth History (TOTBIRTHIST)\n",
    "* Timing of First Antenatal Visit for the Pregnancy: Months (ANVISMO_ALL)\n",
    "* Number of Antenatal Visits During the Pregnancy (ANVISNO_ALL)\n",
    "* Took SP/Fansidar for Malaria During Pregnancy (Last Birth) (ANMALSP_01)\n",
    "* Woman's Household Has Bednet for Sleeping (BEDNETHAVE)\n",
    "\n",
    "**IPUMS Preselected Variables**\n",
    "* IPUMS-DHS Sample Identifier (SAMPLE)\n",
    "* IPUMS-DHS Sample Identifier (string) (SAMPLESTR)\n",
    "* Country (COUNTRY)\n",
    "* Year of Sample (YEAR)\n",
    "* Unique Cross-Sample Respondent Identifier (IDHSPID)\n",
    "* Unique Cross-Sample Household Identifer (IDHSHID)\n",
    "* Key to Link DHS Clusters to Context String (string) (DHSID)\n",
    "* Uniqye Sample-Case PSU Identifier (IDHSPSU)\n",
    "* Unique Cross-Sample Sampling Strata (IDHSSTRATA)\n",
    "* Sample-Specific Respondent Identifer (CASEID)\n",
    "* Sample-Specific Household Identifer (HHID)\n",
    "* Sample-Specific Primary Sampling Unit (PSU)\n",
    "* Sample-Specific Sampling Strata (STRATA)\n",
    "* Sample-Specific Domain (DOMAIN)\n",
    "* Household Number in Cluster (HHNUM)\n",
    "* Sample-Specific Cluster Number (CLUSTERNO)\n",
    "* Household Line Number of Women Respondent (LINENO)\n",
    "* Sample Weight for Persons (PERWEIGHT)\n",
    "* Population Factor Weight (Women) (POPWT)\n",
    "* All Woman Factor for Total Population (AWFACTT)\n",
    "* Urban-Rural Status (URBAN)\n",
    "* Kenya Regions, 2020 (GIS) (GEO_KE2020)\n",
    "* Age (AGE)\n",
    "* Age in 5 Year Groups (AGE5YEAR)\n",
    "* Usual Resident or Visitor (RESIDENT)\n",
    "* Religion (RELIGION)\n",
    "* Total Children Ever Born (CHEB)\n",
    "* Household Wealth Index in Quintiles (WEALTHQ)\n",
    "* Wealth Index Factor Score (5 Decimals) (WEALTHS)\n",
    "* Highest Education Level (EDUCLVL)\n",
    "* Total Years of Education (EDYRTOTAL)"
   ]
  },
  {
   "cell_type": "markdown",
   "id": "ef38f87d-9d49-4e87-bc61-789abaf70b8b",
   "metadata": {},
   "source": [
    "## 3. Read an IPUMS Performance Monitoring for Action (PMA) Data Extract\n",
    "\n",
    "From the [**IPUMS Performance Monitoring for Action (PMA) Webpage**](https://pma.ipums.org/pma): IPUMS PMA harmonizes the Performance Monitoring for Action (PMA) data series (it was formerly known as Performance Monitoring and Accountability 2020 - PMA2020). It provides an interactive web dissemination system for PMA data with variable documentation on thousands of harmonized variables on reproductive and sexual health, family planning, maternal and newborn health, and nutrition. PMA is fielded by the Bill & Melinda Gates Foundation and Johns Hopkins University using streamlined and high-frequency data collection in 11 FP2020 pledging countries.\n",
    "\n",
    "### ★ Authorize Your IPUMS Account for PMA Data Access ★\n",
    "Prior to downloading from the IPUMS PMA repository, you will need to [**authorize your IPUMS account for PMA data access**](https://uma.pop.umn.edu/pma/registration).  Note that, unlike other data sources within the IPUMS repository, **the PMA access authorization process is not automatic**.  You may be required to to wait multiple days for your request to be processed and your account to be approved.\n",
    "\n",
    "##### Indonesia 2016 (Service Delivery Point - Family Planning)\n",
    "\n",
    "**Variable Selection**\n",
    "* Census Block, Indonesia (BLOCKID)\n",
    "* Number of Days per Week Facility is Open (DAYSOPEN)\n",
    "* Number of Beds (BEDS)\n",
    "* Total Number of Doctors (DOCTORNUM)\n",
    "* Facility Usually Offers FP (FPOFFERED)\n",
    "* Provide Antenatal Services (ANCPROV)\n",
    "\n",
    "**IPUMS Preselected Variables**\n",
    "* PMA Sample Number (SAMPLE)\n",
    "* PMA Country (COUNTRY)\n",
    "* Year (YEAR)\n",
    "* PMA Survey Round in this Country (ROUND)\n",
    "* Enumeration Area (EAID)\n",
    "* Facility ID (FACILITYID)\n",
    "* Consent Obtained from Interviewee (CONSENTSQ)\n",
    "* Strata (STRATA)\n",
    "* Type of Facility, Detailed (FACILITYTYPE)\n",
    "* Type of Facility, General (FACILITYTYPEGEN)"
   ]
  },
  {
   "cell_type": "markdown",
   "id": "7854a8ab-eb69-44c0-a98f-2f78350ebb38",
   "metadata": {},
   "source": [
    "## 4. Read an IPUMS Multiple Indicator Cluster Surveys (MICS) Data Extract\n",
    "\n",
    "From the [**IPUMS Multiple Indicator Cluster Surveys (MICS) Webpage**](https://www.mtusdata.org/mtus): IPUMS MICS harmonizes the Multiple Indicator Cluster Surveys (MICS) implemented by countries under the program developed by UNICEF. IPUMS MICS contains consistently coded variables on the health and well-being of women, children, adolescents, men, household members, and households. Users can determine variable availability at a glance and view documentation to create and request custom extracts with just the variables and samples they need.\n",
    "\n",
    "### ★ Create Your UNICEF Account ★\n",
    "Prior to downloading from the IPUMS PMA repository, you will need to [**set up an UNICEF account**](https://knowledge.unicef.org/user/login).\n",
    "\n",
    "##### Bangladesh 2019 (Children 0-4)\n",
    "\n",
    "**Variable Selection**\n",
    "* Bangladesh, District 2006-2019 (Consistent Boundaries, GIS) (GEO2_BD)\n",
    "* Child's Age in Months (AGECHMO)\n",
    "* Urban Wealth Index Quintile (WINDEX5U)\n",
    "* Rural Wealth Index Quintile (WINDEX5R)\n",
    "* Highest Level of School Attended by Mother/Caretaker (EDLEVELMOM)\n",
    "* Child Attends Early Childhood Education Programme (ECATTEND)\n",
    "\n",
    "**IPUMS Preselected Variables**\n",
    "* Unit of Analysis (UNITANALYSIS)\n",
    "* IPUMS Sample Identifer (SAMPLE)\n",
    "* Country (COUNTRY)\n",
    "* Survey Year (YEAR)\n",
    "* Survey Round (ROUND)\n",
    "* Subnational Survey (SUBNATIONAL)\n",
    "* Serial Number (SERIAL)\n",
    "* Cluster Number (CLUSTER)\n",
    "* Household Number (HHNO)\n",
    "* Child's Line Number (LINECH)\n",
    "* Mother/Caretaker's Line Number (LINEMC)\n",
    "* Result of Interview for Children Under 5 (RESULTCH)\n",
    "* Children Under 5 Sample Weight (WEIGHTCH)"
   ]
  },
  {
   "cell_type": "markdown",
   "id": "fd560765-3a34-4ad9-b71a-0c4f6307dfc5",
   "metadata": {},
   "source": [
    "## Recommended Next Steps\n",
    "* **Continue with Chapter 2: IPUMS Data Acquisition and Extraction**\n",
    "  * 2.1: IPUMS USA Data Extraction Using ipumsr\n",
    "  * 2.2: IPUMS CPS Data Extraction Using ipumsr\n",
    "  * 2.3: IPUMS International Microdata Extraction Using ipumsr\n",
    "  * 2.4: IPUMS NHGIS Data Extraction Using ipumsr\n",
    "  * 2.5: IPUMS Time Use Data Extraction Using ipumsr\n",
    "  * 2.6: IPUMS Health Surveys Data Extraction Using ipumsr\n",
    "  * 2.8: Reading IPUMS Higher Education Data Extracts Using ipumsr"
   ]
  }
 ],
 "metadata": {
  "kernelspec": {
   "display_name": "R",
   "language": "R",
   "name": "ir"
  },
  "language_info": {
   "codemirror_mode": "r",
   "file_extension": ".r",
   "mimetype": "text/x-r-source",
   "name": "R",
   "pygments_lexer": "r",
   "version": "4.3.3"
  }
 },
 "nbformat": 4,
 "nbformat_minor": 5
}
