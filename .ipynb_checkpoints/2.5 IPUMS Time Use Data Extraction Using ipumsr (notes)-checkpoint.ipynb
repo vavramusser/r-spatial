{
 "cells": [
  {
   "cell_type": "markdown",
   "id": "bd91b95a-6ca5-4dfa-9b55-dccb8c2dad0a",
   "metadata": {},
   "source": [
    "# IPUMS Time Use Data Extraction Using ipumsr"
   ]
  },
  {
   "cell_type": "markdown",
   "id": "907adcc6-182e-4f0f-84ed-62c33eefbc7b",
   "metadata": {},
   "source": [
    "From the IPUMS Time Use Data Website: These projects provide free individual-level time use data for research purposes. The data extract systems make it easy to create data sets containing time use and other variables a user needs.\n",
    "\n",
    "* **American Time Use Survey (ATUS)**: Annual American Time Use Survey (ATUS) data from 2003 forward.\n",
    "* **American Heritage Time Use Study Extract Builder (AHTUS)**: Historical American time use data since 1930 harmonized for comparison over time, including the ATUS samples.\n",
    "* **Multinational Time Use Study Extract Builder (MTUS)**: MTUS is a project dedicated to making it easy for researchers to use data from around the world."
   ]
  },
  {
   "cell_type": "markdown",
   "id": "2433fdcf-ae68-4711-b6d1-60223f378128",
   "metadata": {},
   "source": [
    "#### American Time Use Survey (ATUS)\n",
    "\n",
    "**Variable Selection**\n",
    "* County (FIPS Code) (COUNTY)\n",
    "* Age (AGE)\n",
    "* Sex (SEX)\n",
    "* Hours Usually Worked Per Week (UHRSWORKT)\n",
    "* Participated in Physical Activities for Fitness and Health in Last 7 Days (EXERCISE)\n",
    "* Time Spent During Activity on Secondary Eldercare for Household and Non-Household Members (SEC_ALL_LN)\n",
    "\n",
    "**IPUMS Preselected Variables**\n",
    "* Survey Year (YEAR)\n",
    "* ATUS Case ID (CASEID)\n",
    "* Household Serial Number (SERIAL)\n",
    "* Scrambled Pseudo Primary Sampling Unit (PSU) Collapsed Stratum (STRATA)\n",
    "* Person Number (general) (PERNUM)\n",
    "* Person Line Number (LINENO)\n",
    "* Person Weight, 2006 Methodology (WT06)\n",
    "* Person Weight, 2020 Methodology (WT20)"
   ]
  },
  {
   "cell_type": "markdown",
   "id": "529e0b75-462d-486f-80f2-1ade07a56b34",
   "metadata": {},
   "source": [
    "#### American Heritage Time Use Study Extract Builder (AHTUS)\n",
    "\n",
    "**Variable Selection**\n",
    "* State (STATE)\n",
    "* Age (AGE)\n",
    "* Sex (SEX)\n",
    "* Main Activity (MAIN)\n",
    "* Duration of Activity (TIME)\n",
    "* Secondary Activity (SEC)\n",
    "\n",
    "**IPUMS Preselected Variables**\n",
    "* Sample (SAMPLE)\n",
    "* Person Number (PERNUM)\n",
    "* Identifier (IDENT)\n",
    "* Household Identifier (HHID)\n",
    "* Person Identifier (PID)\n",
    "* Person Serial Number (SERIAL)\n",
    "* Year Diary Kept (YEAR)\n",
    "* Recommended Sample (Day) Weight Removing How Quality Diaries are Missing Age or Sex (RECWGHT)"
   ]
  },
  {
   "cell_type": "markdown",
   "id": "8bf44fae-35d8-4586-8feb-b00c6ffd92fe",
   "metadata": {},
   "source": [
    "#### Multinational Time Use Study Extract Builder (MTUS)\n",
    "\n",
    "**Variable Selection**\n",
    "* Region: Finland (REGION_FI)\n",
    "* Age (AGE)\n",
    "* Sex (SEX)\n",
    "* Duration of Activity in Minutes (TIME)\n",
    "* Main Activity (MAIN)\n",
    "* Secondary Activity (SEC)\n",
    "\n",
    "**IPUMS Preselected Variables**\n",
    "* Person Serial Number (SERIAL)\n",
    "* Sample (SAMPLE)\n",
    "* Identifier (IDENT)\n",
    "* Country or Region of Survey (COUNTRY)\n",
    "* HLDID (Household ID)\n",
    "* Person/Diarist Identifier (PERSID)\n",
    "* Diary Order (DIARY)\n",
    "* Year Diary Kept (YEAR)\n",
    "* Diary Identifier (DIARYID)\n",
    "* Person Number (PERNUM)\n",
    "* Proposed Weight (PROPWT)"
   ]
  }
 ],
 "metadata": {
  "kernelspec": {
   "display_name": "R",
   "language": "R",
   "name": "ir"
  },
  "language_info": {
   "codemirror_mode": "r",
   "file_extension": ".r",
   "mimetype": "text/x-r-source",
   "name": "R",
   "pygments_lexer": "r",
   "version": "4.3.3"
  }
 },
 "nbformat": 4,
 "nbformat_minor": 5
}
