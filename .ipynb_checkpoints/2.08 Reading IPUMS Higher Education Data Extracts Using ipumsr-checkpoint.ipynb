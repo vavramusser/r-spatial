{
 "cells": [
  {
   "cell_type": "markdown",
   "id": "5c578a64-4d4a-4721-958c-800506510b16",
   "metadata": {},
   "source": [
    "# Reading IPUMS Higher Education Data Extracts Using ipumsr"
   ]
  },
  {
   "cell_type": "markdown",
   "id": "dda02f5e-fa65-4398-b630-c51d09cea26d",
   "metadata": {},
   "source": [
    "## Introduction\n",
    "\n",
    "The [IPUMS Higher Education](https://highered.ipums.org/highered) database offers harmonized microdata from surveys focused on postsecondary education, workforce outcomes, and research activities from the [National Survey of College Graduates (NSCG)](https://ncses.nsf.gov/surveys/national-survey-college-graduates), [National Survey of Recent College Graduates (NSRCG)](https://www.nsf.gov/statistics/srvyrecentgrads), and [Survey of Doctorate Recipients (SDR)](https://ncses.nsf.gov/surveys/doctorate-recipients). It provides detailed information on educational attainment, employment, and demographic characteristics, enabling analysis of trends in higher education and its impacts on the labor market. Through harmonization, IPUMS Higher Education ensures data can be seamlessly compared across survey years, addressing differences in variable definitions, survey design, and geographic classifications.\n",
    "\n",
    "**From the [IPUMS Higher Education Website](https://highered.ipums.org/highered):** IPUMS Higher Ed disseminates data from the [Scientists and Engineers Statistical Data System (SESTAT)](https://www.nsf.gov/statistics/sestat), the leading surveys for studying the science and engineering (STEM) workforce in the United States. Data from the National Surveys of College Graduates (NSCG), Recent College Graduates (NSRCG), and Doctorate Recipients (SDR) are integrated from 1993 to the present.\n",
    "\n",
    "This notebook introduces the process of using the the [ipumsr R package](https://cran.r-project.org/web/packages/ipumsr/index.html) to read [IPUMS Higher Education](https://highered.ipums.org/highered) data extracts which were previously downloaded from the IPUMS data repository. By the end of this notebook, users will have the skills to prepare IPUMS Higher Education datasets for spatial and statistical workflows.\n",
    "\n",
    "*Note that the IPUMS API does not currently support direct data extraction from the IPUMS Higher Education database.*\n",
    "\n",
    "### ★ Prerequisites ★\n",
    "* Complete Chapter 1.1: Introduction to IPUMS and the IPUMS API\n",
    "\n",
    "### Notebook Overview\n",
    "1. Setup\n",
    "2. ..."
   ]
  },
  {
   "cell_type": "markdown",
   "id": "bc7c9562-0ea7-46ff-8dae-2f6b11931b7d",
   "metadata": {},
   "source": [
    "## 1. Setup\n",
    "This section will guide you through the process of installing essential packages and setting your IPUMS API key.\n",
    "\n",
    "##### Required Packages\n",
    "\n",
    "[**ipumsr**](https://cran.r-project.org/web/packages/ipumsr/index.html) A package for interacting with IPUMS datasets and the IPUMS API. It allows users to define and submit data extraction requests, download data, and read it directly into R for analysis.  This notebook uses the the following functions from *ipumsr*.\n",
    "\n",
    "* *set_ipums_api_key()* for setting your IPUMS API key\n",
    "* *get_sample_info()* for retrieving sample identification codes and descriptions for IPUMS microdata collections\n",
    "* *get_metadata_nhgis()* for listing available data sources from IPUMS NHGIS\n",
    "* *define_extract_micro()* for defining the parameters of an IPUMS microdata extract request to be submitted via the IPUMS API\n",
    "* *define_extract_nhgis()* for defining an IPUMS NHGIS extract request\n",
    "* *tst_spec()* for creating a tst_spec object containing a time-series table specification\n",
    "* *submit_exract()* for submitting an extract request via the IPUMS API and return an *ipums_extract* object\n",
    "* *wait_for_extract()* wait for an extract to finish processing\n",
    "* *download_extract()* download an extract's data files\n",
    "* *read_ipums_ddi()* for reading metadata about an IPUMS microdata extract from a DDI codebook (.xml) file\n",
    "* *read_ipums_micro()* for reading data from an IPUMS microdata extract\n",
    "* *read_nhgis()* for reading tabular data from an NHGIS extract\n",
    "* *read_ipums_sf()* for reading spatial data from an IPUMS extract"
   ]
  },
  {
   "cell_type": "markdown",
   "id": "8b1b8a53-79c9-4f83-8407-ae9d16c34ee8",
   "metadata": {},
   "source": [
    "### 1a. Install and Load Required Packages\n",
    "If you have not already installed the required packages, uncomment and run the code below:"
   ]
  },
  {
   "cell_type": "code",
   "execution_count": null,
   "id": "932adadc-123a-4e30-8bbe-d6e02e1213b4",
   "metadata": {},
   "outputs": [],
   "source": [
    "# install.packages(\"ipumsr\")"
   ]
  },
  {
   "cell_type": "markdown",
   "id": "e220c46d-d9f1-42d3-9a06-93a1c40149a3",
   "metadata": {},
   "source": [
    "Load the packages into your workspace."
   ]
  },
  {
   "cell_type": "code",
   "execution_count": null,
   "id": "bc4ca95a-f272-4319-a51a-6f2e7cbbd56f",
   "metadata": {},
   "outputs": [],
   "source": [
    "library(ipumsr)"
   ]
  },
  {
   "cell_type": "markdown",
   "id": "fb2e5fa6-292d-49dd-935a-2a7a6f02ac53",
   "metadata": {},
   "source": [
    "##### SDR 2013\n",
    "\n",
    "**Variable Selection**\n",
    "* Age (AGE)\n",
    "* Gender (GENDER)\n",
    "* Type of Highest Certificate or Degree (DGRDG)\n",
    "* Field of Major for Highest Degree (major group)\n",
    "* Labor Force Status (LFSTAT)\n",
    "\n",
    "**IPUMS Preselected Variables**\n",
    "* Individual Identification Number (PERSONID)\n",
    "* Survey Year (YEAR)\n",
    "* SESTAT Weight (WEIGHT)\n",
    "* Sample Identifier (SAMPLE)\n",
    "* Survey Identifier (SURID)"
   ]
  },
  {
   "cell_type": "markdown",
   "id": "a4e0db82-8d41-47ef-9fc5-4911c98e81bb",
   "metadata": {},
   "source": [
    "## Recommended Next Steps\n",
    "* **Continue with Chapter 2: IPUMS Data Acquisition and Extraction**\n",
    "  * 2.1: IPUMS USA Data Extraction Using ipumsr\n",
    "  * 2.2: IPUMS CPS Data Extraction Using ipumsr\n",
    "  * 2.3: IPUMS International Microdata Extraction Using ipumsr\n",
    "  * 2.4: IPUMS NHGIS Data Extraction Using ipumsr\n",
    "  * 2.5: IPUMS Time Use Data Extraction Using ipumsr\n",
    "  * 2.6: IPUMS Health Surveys Data Extraction Using ipumsr\n",
    "  * 2.7: Reading IPUMS Global Health Data Extracts Using ipumsr"
   ]
  }
 ],
 "metadata": {
  "kernelspec": {
   "display_name": "R",
   "language": "R",
   "name": "ir"
  },
  "language_info": {
   "codemirror_mode": "r",
   "file_extension": ".r",
   "mimetype": "text/x-r-source",
   "name": "R",
   "pygments_lexer": "r",
   "version": "4.3.3"
  }
 },
 "nbformat": 4,
 "nbformat_minor": 5
}
