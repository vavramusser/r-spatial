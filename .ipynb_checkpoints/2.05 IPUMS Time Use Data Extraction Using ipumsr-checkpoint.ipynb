{
 "cells": [
  {
   "cell_type": "markdown",
   "id": "5c578a64-4d4a-4721-958c-800506510b16",
   "metadata": {},
   "source": [
    "# IPUMS Time Use Data Extraction Using ipumsr\n",
    "### by [Kate Vavra-Musser](https://vavramusser.github.io) for the [R Spatial Notebook Series](https://vavramusser.github.io/r-spatial)"
   ]
  },
  {
   "cell_type": "markdown",
   "id": "3244e113-2b8d-4f6c-ad49-3ea83906e793",
   "metadata": {},
   "source": [
    "This notebook builds on the the workflow introduced in the **[Introduction to the IPUMS API for R Users](https://tech.popdata.org/ipumsr/articles/ipums-api.html)** article on the IPUMS website.  As the author of the R Spatial Notebook series, I recognize the IPUMS article as a significant inspiration and source of information for this notebook.\n",
    "\n",
    "## Introduction\n",
    "The [IPUMS Time Use](https://timeuse.ipums.org) database offers harmonized microdata from the [American Time Use Survey (ATUS)](https://www.bls.gov/tus) and international time use surveys, providing insights into how individuals allocate their time across various activities. It includes detailed records on work, caregiving, leisure, and daily routines, enabling analysis of time-use patterns and trends across different populations and time periods. Through harmonization, IPUMS Time Use ensures data can be seamlessly compared across survey years and countries, addressing differences in activity coding, survey methodologies, and geographic contexts.\n",
    "\n",
    "**From the [IPUMS Time Use Website](https://timeuse.ipums.org):** These projects provide free individual-level time use data for research purposes. The data extract systems make it easy to create data sets containing time use and other variables a user needs.\n",
    "\n",
    "#### Data Included in the IPUMS Time Use Repository\n",
    "The IPUMS Time Use data repository is divided into three subsections.\n",
    "\n",
    "#### [American Time Use Survey (ATUS)](https://www.atusdata.org/atus)\n",
    "The ATUS is a nationally representative U.S. time diary survey for period since 2003. IPUMS Time Use harmonizes these data and provides a data extract builder that allows users to create custom time use variables and data extracts for analysis. ATUS-X is a collaboration of the IPUMS Center for Data Integration and the [Maryland Population Research Center](https://www.popcenter.umd.edu).\n",
    "* The IPUMS ATUS repository incudes annual ATUS data from 2003 to present.\n",
    "\n",
    "#### [American Heritage Time Use Study (AHTUS)](https://www.ahtusdata.org/ahtus)\n",
    "The AHTUS is a harmonized collection of time diary data from the U.S. for the period 1930 to 2012. AHTUS-X is a data extract builder that allows users to create custom time use variables and data extracts for analysis. This project is a collaboration of the Minnesota Population Center, the Maryland Population Research Center and the Centre for Time Use Research at the University College London.  The IPUMS AHTUS repository includes data from the following surveys:\n",
    "\n",
    "* [The 1930 Women's College Time Use Study (1930-1931)](https://www.ahtusdata.org/ahtus/us1930a.shtml) administered by the United States Department of Agriculture (USDA)\n",
    "* [The Multinational Comparative Time-Budget Research Project (1965-1966)](https://www.ahtusdata.org/ahtus/us1965a.shtml), including a Jackson Michigan and a national USA sample, administered by the [Survey Research Center at the University of Michigan](https://src.isr.umich.edu) and the [Social Relations Department at Harvard University](https://en.wikipedia.org/wiki/Harvard_Department_of_Social_Relations), with funding from the National Science Foundation (NSF) (part of the Szalai Multinational Time Budget Research Project).\n",
    "* [American's Use of Time: Time Use in Economic and Social Accounts (1975-1976)](https://www.ahtusdata.org/ahtus/us1975a.shtml) administered by the [Survey Research Center at the University of Michigan](https://src.isr.umich.edu) with funding from the National Science Foundation (NSF) and the US Department of Health, Education, and Welfare.\n",
    "* [American's Use of Time Project (1985)](https://www.ahtusdata.org/ahtus/us1985a.shtml) administered by the [Survey Research Center at the University of Michigan](https://src.isr.umich.edu) with funding from The National Science Foundation (NSF) and the US Department of Health, Education, and Welfare.\n",
    "* [National Human Activity Pattern Survey (1993)](https://www.ahtusdata.org/ahtus/us1993a.shtml) administered by the [Survey Research Center at the University of Maryland](https://jpsm.umd.edu) with funding from the United States Environmental Protection Agency (EPA).\n",
    "* [National Time-Diary Study (1994-1995)](https://www.ahtusdata.org/ahtus/us1995a.shtml) administered by the [Survey Research Center at the University of Maryland](https://jpsm.umd.edu) with funding from the Environmental Protection Agency (EPA).\n",
    "* [Family Interaction, Social Capital, and Trends in Time Use Study (FISCT) (1998)](https://www.ahtusdata.org/ahtus/us1998a.shtml) administered by the [Survey Research Center at the University of Maryland](https://jpsm.umd.edu) with funding from the National Science Foundation (NSF) and the National Institute on Aging (NIA).  This data set combines two small-scale surveys collected by the University of Maryland Survey Research Centre, the 1998-99 Family Interaction, Social Capital, and Trends in Time Use Study (FISCT), a small-scale contiguous state sample funded by the National Science Foundation, and the 1999-2001 National Survey of Parents (NSP), funded by the Sloane Foundation.\n",
    "* [American Time Use Survey (ATUS) (2003-2012 and 2018)](https://www.bls.gov/tus)\n",
    "\n",
    "#### [Multinational Time Use Study (MTUS)](https://www.mtusdata.org/mtus)\n",
    "MTUS is a collection of time diary data from a growing number of countries that are harmonized for compatibility across time and space. IPUMS MTUS is a data extract builder that allows users to create custom time use variables and data extracts for analysis. This project is a collaboration of the Minnesota Population Center, the Maryland Population Research Center and the Centre for Time Use Research at University College London.\n",
    "* The IPUMS MTUS repository includes [time use surveys from over 20 countries dating back to the 1960s](https://www.mtusdata.org/mtus/samples.shtml). \n",
    "\n",
    "### ★ Prerequisites ★\n",
    "* Complete [Chapter 1.1 Introduction to IPUMS and the IPUMS API](https://platform.i-guide.io/notebooks/82d3b176-e4e6-4307-8186-318a3fe6c81a)\n",
    "* Set Up Your [IPUMS Account and API Key](https://account.ipums.org/api_keys)\n",
    "\n",
    "### Notebook Overview\n",
    "1. Setup\n",
    "2. IPUMS American Time Use Survey (ATUS) Metadata Exploration\n",
    "3. IPUMS American Time Use Survey (ATUS) Data Extraction Specification and Submission\n",
    "4. IPUMS American Heritage Time Use Study (AHTUS) Metadata Exploration\n",
    "5. IPUMS American Heritage Time Use Study (AHTUS) Data Extraction Specification and Submission\n",
    "6. IPUMS Multinational Time Use Study (MTUS) Metadata Exploration\n",
    "7. IPUMS Multinational Time Use Study (MTUS) Data Extraction Specification and Submission"
   ]
  },
  {
   "cell_type": "markdown",
   "id": "b23a46f0-029a-4bbd-8cf8-7d0cba4a6fdd",
   "metadata": {},
   "source": [
    "## 1. Setup\n",
    "This section will guide you through the process of installing essential packages and setting your IPUMS API key.\n",
    "\n",
    "#### Required Packages\n",
    "\n",
    "[**dplyr**](https://cran.r-project.org/web/packages/dplyr/index.html) A Grammar of Data Manipulation. This notebook uses the the following function from *dplyr*.\n",
    "\n",
    "* [*filter*](https://rdrr.io/cran/dplyr/man/filter.html) · keep rows that match a condition\n",
    "* This notebook also uses [*%>%*](https://magrittr.tidyverse.org/reference/pipe.html), referred to as the *pipe* operator.  The *pip* operator is used to pass the output from one function directly into the next function for the purpose of creating streamlined workflows and is a commonly used component of the [*tidyverse*](https://www.tidyverse.org).\n",
    "\n",
    "[**ipumsr**](https://cran.r-project.org/web/packages/ipumsr/index.html) An R Interface for Downloading, Reading, and Handling IPUMS Data.  This notebook uses the the following functions from *ipumsr*.\n",
    "\n",
    "* [*define_extract_micro*](https://rdrr.io/github/mnpopcenter/ripums/man/define_extract_micro.html) · define an extract request for an IPUMS microdata collection\n",
    "* [*download_extract*](https://rdrr.io/cran/ipumsr/man/download_extract.html) · download a completed IPUMS data extract\n",
    "* [*get_sample_info*](https://rdrr.io/cran/ipumsr/man/get_sample_info.html) · list available samples for IPUMS microdata collections\n",
    "* [*read_ipums_ddi*](https://rdrr.io/cran/ipumsr/man/read_ipums_ddi.html) · read metadata about an IPUMS microdata extract from a DDI codebook (.xml) file\n",
    "* [*read_ipums_micro*](https://rdrr.io/cran/ipumsr/man/read_ipums_micro.html) · read data from an IPUMS microdata extract\n",
    "* [*set_ipums_api_key*](https://rdrr.io/cran/ipumsr/man/set_ipums_api_key.html) · set your IPUMS API key\n",
    "* [*submit_extract*](https://rdrr.io/cran/ipumsr/man/submit_extract.html) · submit an extract request via the IPUMS API\n",
    "* [*wait_for_extract*](https://rdrr.io/cran/ipumsr/man/wait_for_extract.html) · wait for an extract to finish processing\n",
    "\n",
    "[**stringr**](https://cran.r-project.org/web/packages/stringr/index.html) Simple, Consistent Wrappers for Common String Operations.  This notebook uses the following function from *stringr*.\n",
    "\n",
    "* [*str_detect*](https://stringr.tidyverse.org/reference/str_detect.html) · detect the presence or absence of a match"
   ]
  },
  {
   "cell_type": "markdown",
   "id": "a5498790-2a32-45c2-b6ac-35d91303f0a7",
   "metadata": {},
   "source": [
    "### 1a. Install and Load Required Packages\n",
    "If you have not already installed the required packages, uncomment and run the code below:"
   ]
  },
  {
   "cell_type": "code",
   "execution_count": null,
   "id": "f5747b7c-3c50-4699-91c8-d880f9cf9d0b",
   "metadata": {},
   "outputs": [],
   "source": [
    "# install.packages(c(\"dplyr\", \"ipumsr\", \"stringr\"))"
   ]
  },
  {
   "cell_type": "markdown",
   "id": "40e0549b-289f-4185-b230-e5cc9e4d2331",
   "metadata": {},
   "source": [
    "Load the packages into your workspace."
   ]
  },
  {
   "cell_type": "code",
   "execution_count": null,
   "id": "53481a5d-b6e8-4250-a702-899c13ee1fe1",
   "metadata": {},
   "outputs": [],
   "source": [
    "library(dplyr)\n",
    "library(ipumsr)\n",
    "library(stringr)"
   ]
  },
  {
   "cell_type": "markdown",
   "id": "4f7dff7f-4159-4a23-9194-f19d2049f268",
   "metadata": {},
   "source": [
    "#### 1b. Set Your IPUMS API Key\n",
    "\n",
    "Store your [IPUMS API key](https://account.ipums.org/api_keys) in your environment using the following code.\n",
    "\n",
    "Refer to [Chapter 1.1 Introduction to IPUMS and the IPUMS API](https://platform.i-guide.io/notebooks/82d3b176-e4e6-4307-8186-318a3fe6c81a) for instructions on setting up your IPUMS account and API key."
   ]
  },
  {
   "cell_type": "code",
   "execution_count": null,
   "id": "97c5dcb1-c963-4f97-8e70-029c7a032123",
   "metadata": {},
   "outputs": [],
   "source": [
    "ipumps_api_key = readline(\"Please enter your IPUMS API key: \")\n",
    "set_ipums_api_key(ipumps_api_key, save = T, overwrite = T)"
   ]
  },
  {
   "cell_type": "markdown",
   "id": "d506445d-dddb-4c93-9bec-30b9fd20aabb",
   "metadata": {},
   "source": [
    "## 2. IPUMS American Time Use Survey (ATUS) Metadata Exploration\n",
    "\n",
    "Before submitting an IPUMS data extraction request, it’s essential to ensure the parameters of the extraction definition are set up correctly.  The extraction definition specifies the sample, variables, and other options.\n",
    "\n",
    "If this is your first time using the IPUMS API in R, or if you are setting up a new data extract for a new project, it is a good idea to start by exploring the available data which can be done using the *ipumsr* package.\n",
    "\n",
    "### 2a. Review the List of Samples\n",
    "\n",
    "First, let's take a look at the entire list of datasets available from the [IPUMS ATUS data repository](https://www.atusdata.org/atus/sample_summary.shtml).  The time use data available for direct extraction using the IPUMS API include the [American Time Use Survey (ATUS)](https://www.bls.gov/tus) from 2003 to present.\n",
    "\n",
    "For this step, we will use the [*get_sample_info*](https://rdrr.io/cran/ipumsr/man/get_sample_info.html) function from the [**ipumsr**](https://cran.r-project.org/web/packages/ipumsr/index.html) package.  This function will return a list of all datasets from the specified IPUMS data repository which are available to be downloaded using the IPUMS API.  Since we are focusing on IPUMS ATUS, we will specify that we want to view all available samples from the IPUMS ATUS repository by passing *\"atus\"* to the function.  This code stores the metadata from all available samples in the IPUMS ATUS repository to the object *metadata_atus*.\n",
    "\n",
    "**★ Pro Tip:** You can use the [*get_sample_info*](https://rdrr.io/cran/ipumsr/man/get_sample_info.html) function to retrieve metadata for any of the available IPUMS repositories by changing the database reference code."
   ]
  },
  {
   "cell_type": "code",
   "execution_count": null,
   "id": "3ecaab13-6070-46dd-9c13-a2fd6ba432f2",
   "metadata": {},
   "outputs": [],
   "source": [
    "# retrive and view the list of samples from the IPUMS ATUS database\n",
    "metadata_atus <- get_sample_info(\"atus\")\n",
    "\n",
    "# view the list of samples\n",
    "metadata_atus"
   ]
  },
  {
   "cell_type": "markdown",
   "id": "dd4dc1fa-6959-4392-9f56-a78f84cecb65",
   "metadata": {},
   "source": [
    "Viewing the metdata table tells us that there are 21 samples available from IPUMS ATUS.\n",
    "\n",
    "The IPUMS USA metada table has 1) a **name**, corresponding to a sample identification code, and 2) a **description**, providing a short description or label for each sample.  We will need to select a sample and make note of its sample identification code (**name**) which we will use when defining our data extraction.  Refer to the [Sample-Level Information](https://www.atusdata.org/atus/sample_summary.shtml) pafe on the IPUMS ATUS website for a list of all IPUMS ATUS samples and more detailed information on each sample.\n",
    "\n",
    "For this exercise we will use the **ATUS 2020** which is referred to using identification code (*name*) **at2020**.\n",
    "\n",
    "## 3. IPUMS American Time Use Survey (ATUS) Data Extraction Specification and Submission\n",
    "\n",
    "Once we have reviewed the available samples and decided on the dataset, the next step is to set up a data extraction using the [*define_extract_micro*](https://rdrr.io/github/mnpopcenter/ripums/man/define_extract_micro.html) function from the [**ipumsr**](https://cran.r-project.org/web/packages/ipumsr/index.html) package.  This function requires the following minimum parameters:\n",
    "\n",
    "* *collection* · the IPUMS data collection for the extract (for this exercise we are downloading from IPUMS ATUS so we use the code \"atus\")\n",
    "* *description* · text description of the extract\n",
    "* *samples* · vector of samples to include in the extract; samples should be specified using the sample identification codes\n",
    "* *variables* · vector of variables to include in the extract\n",
    "\n",
    "### 3a. Define the Variable List\n",
    "\n",
    "We already know what we will pass to the function for the *collection* (\"atus\") and *samples* (\"at2020\") parameters.  Next we will need to determine which variables we want.\n",
    "\n",
    "If you are already familiar with IPUMS ATUS data extractions using their web-based data extract platforms, you might already know which variables are available for our selected sample.  If not, the best place to start is by exploring the web-based [**IPUMS ATUS Data Extract Platform**](hhttps://www.atusdata.org/atus-action/variables/group) to see what variables are available and identify the appropriate variable codes.  Before searching for variables, be sure to click the **Select Samples** button in the top-left corner of the search platform and select the samples you are planning to use.  Since we are using the ATUS 2020 sample for this example, you should select the ATUS 2020 sample within the search platform.  What variables are available, and the codes used for the variables, may differ based on your selected sample, so it is important to be specific.\n",
    "\n",
    "For this example we will use the following set of variables from the ATUS 2020.\n",
    "\n",
    "**Variable Selection**\n",
    "* [County FIPS Code (COUNTY)](https://en.wikipedia.org/wiki/Federal_Information_Processing_Standard_state_code)\n",
    "* Age (AGE)\n",
    "* Sex (SEX)\n",
    "* Hours Usually Worked per Week (UHRSWORKT)\n",
    "* Total Time Spent on Secondary Childcare for All Children (SCC_ALL)\n",
    "* Eldercare Provided in Last 3 Months (ECPRIOR)\n",
    "\n",
    "By default, the data extraction will also include both our selected variables and a set of IPUMS preselected variables.  The preselected variables include metainformation such as identification codes and survey weights.  We will explore and list the preselected variables after completing the data extraction.\n",
    "\n",
    "### 3b. Define the Data Extract\n",
    "\n",
    "Now that we know the collection (\"atus\"), sample (\"at2020\"), and list of variables (c(\"COUNTY\", \"AGE\", \"SEX\", \"UHRSWORKT\", \"SCC_ALL\", \"ECPRIOR\")) we are ready to submit our data extract request.  In this step we will add a text description of the request which can be anything and is included to help us differentiate between requests.  For this extract we will use the simple description \"IPUMS ATUS Data Extraction\".\n",
    "\n",
    "Here we pass all the extraction definition information to the [*define_extract_micro*](https://rdrr.io/github/mnpopcenter/ripums/man/define_extract_micro.html) function from the [**ipumsr**](https://cran.r-project.org/web/packages/ipumsr/index.html) package and store the resulting extraction definition in the object *extract_definition*.\n",
    "\n",
    "**★ Pro Tip:** You can specify multiple samples in the same data extract by specifying all sample identification codes as a list.  Be sure that the variables you specify are available for all of the samples!"
   ]
  },
  {
   "cell_type": "code",
   "execution_count": null,
   "id": "ff289878-0c08-45a0-837b-bbacb4ac7f30",
   "metadata": {},
   "outputs": [],
   "source": [
    "# set up the data extraction definition\n",
    "extract_definition <- define_extract_micro(collection = \"atus\",\n",
    "                                           description = \"IPUMS ATUS Data Extraction\",\n",
    "                                           samples = c(\"at2020\"),\n",
    "                                           variables = c(\"COUNTY\", \"AGE\", \"SEX\", \"UHRSWORKT\", \"SCC_ALL\", \"ECPRIOR\"))"
   ]
  },
  {
   "cell_type": "markdown",
   "id": "5902a416-0e6a-42ec-a2e7-6acb12d8bd2c",
   "metadata": {},
   "source": [
    "Let's review the extraction definition information to make sure we have set it up the way we intended."
   ]
  },
  {
   "cell_type": "code",
   "execution_count": null,
   "id": "b6194107-6211-4005-9783-0490a928cacf",
   "metadata": {},
   "outputs": [],
   "source": [
    "# review the extraction definition\n",
    "extract_definition"
   ]
  },
  {
   "cell_type": "markdown",
   "id": "bc1d80ad-f3fa-4ed1-9ecc-f3629a7fb503",
   "metadata": {},
   "source": [
    "Everything looks good so we will submit the extraction request, wait for it to complete, and download the resulting data.\n",
    "\n",
    "### 3c. Submit the Extract Request\n",
    "\n",
    "Now that the extraction definition is set up, we can submit it to the IPUMS API using the [*submit_extract*](https://rdrr.io/cran/ipumsr/man/submit_extract.html) from the [**ipumsr**](https://cran.r-project.org/web/packages/ipumsr/index.html).\n",
    "\n",
    "For this exercise, after submitting the request we will also use the [*wait_for_extract*](https://rdrr.io/cran/ipumsr/man/wait_for_extract.html) function from the [**ipumsr**](https://cran.r-project.org/web/packages/ipumsr/index.html) package to monitor the status of the request.  This is not a necessary step but it is helpful, especially when submitting large requests.\n",
    "\n",
    "Finally, once the extract is complete, we can download it using the [*download_extract*](https://rdrr.io/cran/ipumsr/man/download_extract.html) function from the [**ipumsr**](https://cran.r-project.org/web/packages/ipumsr/index.html) package and save it in the object *filepath*."
   ]
  },
  {
   "cell_type": "code",
   "execution_count": null,
   "id": "a20a4fec-5fdc-48fc-9bd2-4c130f874c07",
   "metadata": {},
   "outputs": [],
   "source": [
    "# submit extraction request\n",
    "extract_submitted <- submit_extract(extract_definition)\n",
    "\n",
    "# wait for completion\n",
    "extraction_complete <- wait_for_extract(extract_submitted)\n",
    "\n",
    "# check completion status\n",
    "extraction_complete$status\n",
    "\n",
    "# get the extract filepath\n",
    "filepath <- download_extract(extract_submitted, overwrite = T)"
   ]
  },
  {
   "cell_type": "markdown",
   "id": "f808885c-1f7c-40f5-b8bd-aa542ce691a3",
   "metadata": {},
   "source": [
    "### 3d. Review the Extract\n",
    "\n",
    "Once we have downloaded the extract, we are ready to review it and transform it to a format we can easily use.  The data extract download will contain the following two files.\n",
    "\n",
    "1. A [DDI (Data Documentation Initiative)](https://ddialliance.org) codebook file (file extension .xml) containing metadata and descriptive information for the data.\n",
    "2. A zipped data (.dat) file (file extension .dat.gz) containing the data.\n",
    "\n",
    "Read the ddi and data files into a format which we can work with in R.  The final *dat* object will contain the data from our extraction in a table format which is easy to use in R."
   ]
  },
  {
   "cell_type": "code",
   "execution_count": null,
   "id": "916dc63c-46af-473f-83d7-c1c9f9a9e1da",
   "metadata": {},
   "outputs": [],
   "source": [
    "ddi <- read_ipums_ddi(filepath)\n",
    "dat <- read_ipums_micro(ddi)"
   ]
  },
  {
   "cell_type": "markdown",
   "id": "e4ef5a90-fab8-4f41-9be1-3b57e29ad9b8",
   "metadata": {},
   "source": [
    "We now have a useable version of our dataset stored in *dat*.  Let's take a look at the number of observations and variables in the data."
   ]
  },
  {
   "cell_type": "code",
   "execution_count": null,
   "id": "e2427b5a-e4a0-4a61-9c1d-a11529574a00",
   "metadata": {},
   "outputs": [],
   "source": [
    "dim(dat)"
   ]
  },
  {
   "cell_type": "markdown",
   "id": "a669cd1b-80dd-416c-b79a-689bedb16fc4",
   "metadata": {},
   "source": [
    "The 2020 ATUS data we downloaded includes information on 12 variables for 8782 individuals.\n",
    "\n",
    "Let's take a look at the first few lines of the data."
   ]
  },
  {
   "cell_type": "code",
   "execution_count": null,
   "id": "aad2fc99-3060-4e9f-8a22-0bb12b953b52",
   "metadata": {},
   "outputs": [],
   "source": [
    "head(dat)"
   ]
  },
  {
   "cell_type": "markdown",
   "id": "6b0d873a-cefe-4b15-bb28-7295540c5bb0",
   "metadata": {},
   "source": [
    "Notice that this data is in [*tibble*](https://tibble.tidyverse.org) format rather than the more common *data.frame* format you might be used to as an R user.  A tibble can be thought of as a version of a data.frame that includes additional functionality and metadata visibility.  It is also more compatible with the [*tidyverse*](https://www.tidyverse.org) packages, including the [*dplyr*](https://cran.r-project.org/web/packages/dplyr/index.html) package we use in this notebook.\n",
    "\n",
    "As mentioned above, IPUMS includes a set of preselected variables in data extractions, along with the variables selected by the user.  We only selected 6 variables for the extraction but the resulting download includes 18 variables.  Let's take a look at the list of column names."
   ]
  },
  {
   "cell_type": "code",
   "execution_count": null,
   "id": "39a0cd89-2084-4678-8212-5b833034c0de",
   "metadata": {},
   "outputs": [],
   "source": [
    "colnames(dat)"
   ]
  },
  {
   "cell_type": "markdown",
   "id": "fb2e5fa6-292d-49dd-935a-2a7a6f02ac53",
   "metadata": {},
   "source": [
    "This list includes the 6 variables we originally selected as well as 6 additional IPUMS preselected variables which mainly include metadata such as identification codes, weights, and other metainformation.\n",
    "\n",
    "**Variable Selection**\n",
    "* [County (FIPS Code) (COUNTY)](https://en.wikipedia.org/wiki/Federal_Information_Processing_Standard_state_code)\n",
    "* Age (AGE)\n",
    "* Sex (SEX)\n",
    "* Hours Usually Worked per Week (UHRSWORKT)\n",
    "* Total Time Spent on Secondary Childcare for All Children (SCC_ALL)\n",
    "* Eldercare Provided in Last 3 Months (ECPRIOR)\n",
    "\n",
    "**IPUMS Preselected Variables**\n",
    "* Survey Year (YEAR)\n",
    "* ATUS Case ID (CASEID)\n",
    "* Household Serial Number (SERIAL)\n",
    "* Person Number (General) (PERNUM)\n",
    "* Person Line Number (LINENO)\n",
    "* Person Weight, 2020 Methodology (WT20)\n",
    "\n",
    "### 3e. Save the Data\n",
    "\n",
    "Finally, let's save the data we extracted from IPUMS ATUS.  We will save the data in the following two formats:\n",
    "\n",
    "* A *.rds* version of the data.  The **R Data Serialization (RDS)** format will retain metadata for the next time we want to import the file back into R.  One downside to the .rds format is it is only useable within R.\n",
    "* A *.csv* version of the data.  The [**Comma-Separated Values (CSV)**](https://en.wikipedia.org/wiki/Comma-separated_values) format is versitile and can be easily accessed in other programs.  However, the CSV file format does not include metadata such as labels for variable levels.\n",
    "\n",
    "**★ Pro Tip:** Setting the *row.names* parameter to *FALSE* in the *write.csv* function will supress the creation of an additional column of index values which is automatically generated in the CSV writing process."
   ]
  },
  {
   "cell_type": "code",
   "execution_count": null,
   "id": "eab61c29-1241-451b-b52d-a329fec76960",
   "metadata": {},
   "outputs": [],
   "source": [
    "saveRDS(dat, \"ipums_atus_example.rds\")\n",
    "write.csv(dat, \"ipums_atus_example.csv\", row.names = F)"
   ]
  },
  {
   "cell_type": "markdown",
   "id": "8d261bc4-98c8-412f-a78a-e7811d4df999",
   "metadata": {},
   "source": [
    "At the end of this exercise we have a freshly downloaded dataset from the IPUMS ATUS repository saved in our workspace."
   ]
  },
  {
   "cell_type": "markdown",
   "id": "bb006ecd-580d-4a85-8bc0-e32628a8e92a",
   "metadata": {},
   "source": [
    "## 4. IPUMS American Heritage Time Use Study (AHTUS) Metadata Exploration\n",
    "\n",
    "Before submitting an IPUMS data extraction request, it’s essential to ensure the parameters of the extraction definition are set up correctly.  The extraction definition specifies the sample, variables, and other options.\n",
    "\n",
    "If this is your first time using the IPUMS API in R, or if you are setting up a new data extract for a new project, it is a good idea to start by exploring the available data which can be done using the *ipumsr* package.\n",
    "\n",
    "### 4a. Review the List of Samples\n",
    "\n",
    "First, let's take a look at the entire list of datasets available from the [IPUMS AHTUS data repository](https://www.ahtusdata.org/ahtus/sample_summary.shtml).  The IPUMS AHTUS data repository incudes seven histoic US time-use studies and [American Time Use Survey](https://www.atusdata.org/atus) information for 2003-2012 and 2018.\n",
    "\n",
    "For this step, we will use the [*get_sample_info*](https://rdrr.io/cran/ipumsr/man/get_sample_info.html) function from the [**ipumsr**](https://cran.r-project.org/web/packages/ipumsr/index.html) package.  This function will return a list of all datasets from the specified IPUMS data repository which are available to be downloaded using the IPUMS API.  Since we are focusing on IPUMS AHTUS, we will specify that we want to view all available samples from the IPUMS AHTUS repository by passing *\"ahtus\"* to the function.  This code stores the metadata from all available samples in the IPUMS AHTUS repository to the object *metadata_ahtus*.\n",
    "\n",
    "**★ Pro Tip:** You can use the [*get_sample_info*](https://rdrr.io/cran/ipumsr/man/get_sample_info.html) function to retrieve metadata for any of the available IPUMS repositories by changing the database reference code."
   ]
  },
  {
   "cell_type": "code",
   "execution_count": null,
   "id": "b5e0bc05-fc28-4f66-a280-8b0af1c31bfd",
   "metadata": {},
   "outputs": [],
   "source": [
    "# retrive and view the list of samples from the IPUMS AHTUS database\n",
    "metadata_ahtus <- get_sample_info(\"ahtus\")\n",
    "\n",
    "# view the list of samples\n",
    "metadata_ahtus"
   ]
  },
  {
   "cell_type": "markdown",
   "id": "d696d76a-8445-4ee7-9f96-3bd777f0a386",
   "metadata": {},
   "source": [
    "Viewing the metdata table tells us that there are 118 samples available from IPUMS ATUS.\n",
    "\n",
    "The IPUMS AHTUS metada table has 1) a **name**, corresponding to a sample identification code, and 2) a **description**, providing a short description or label for each sample.  We will need to select a sample and make note of its sample identification code (**name**) which we will use when defining our data extraction.  Refer to the [Sample-Level Information](https://www.ahtusdata.org/ahtus/sample_summary.shtml) page on the IPUMS AHTUS website for a list of all IPUMS AHTUS samples and more detailed information on each sample.\n",
    "\n",
    "For this exercise we will use the **ATUS 2010** which is referred to using identification code (*name*) **us2010a**."
   ]
  },
  {
   "cell_type": "markdown",
   "id": "0b0ec82b-70cc-4026-82c2-1cfd0a669efd",
   "metadata": {},
   "source": [
    "## 5. IPUMS AHTUS Data Extraction Specification and Submission\n",
    "\n",
    "Once we have reviewed the available samples and decided on the dataset, the next step is to set up a data extraction using the [*define_extract_micro*](https://rdrr.io/github/mnpopcenter/ripums/man/define_extract_micro.html) function from the [**ipumsr**](https://cran.r-project.org/web/packages/ipumsr/index.html) package.  This function requires the following minimum parameters:\n",
    "\n",
    "* *collection* · the IPUMS data collection for the extract (for this exercise we are downloading from IPUMS USA so we use the code \"ahtus\")\n",
    "* *description* · text description of the extract\n",
    "* *samples* · vector of samples to include in the extract; samples should be specified using the sample identification codes\n",
    "* *variables* · vector of variables to include in the extract\n",
    "\n",
    "### 5a. Define the Variable List\n",
    "\n",
    "We already know what we will pass to the function for the *collection* (\"ahtus\") and *samples* (\"us2010a\") parameters.  Next we will need to determine which variables we want.\n",
    "\n",
    "If you are already familiar with IPUMS USA data extractions using their web-based data extract platforms, you might already know which variables are available for our selected sample.  If not, the best place to start is by exploring the web-based [**IPUMS AHTUS Data Extract Platform**](https://www.ahtusdata.org/ahtus-action/variables/group) to see what variables are available and identify the appropriate variable codes.  Before searching for variables, be sure to click the **Select Samples** button in the top-left corner of the search platform and select the samples you are planning to use.  Since we are using the 2010 ATUS sample for this example, you should select the 2010 ATUS sample within the search platform.  What variables are available, and the codes used for the variables, may differ based on your selected sample, so it is important to be specific.\n",
    "\n",
    "For this example we will use the following set of variables from the 2010 ATUS.\n",
    "\n",
    "**Variable Selection**\n",
    "* State (STATE)\n",
    "* Age (AGE)\n",
    "* Sex (SEX)\n",
    "* Household Type (HHTYPE)\n",
    "* Number of Hours Worked Per Week (WKHRS)\n",
    "* Number of Full-Time Workers in Household (NWORK)\n",
    "\n",
    "By default, the data extraction will also include both our selected variables and a set of IPUMS preselected variables.  The preselected variables include metainformation such as identification codes and survey weights.  We will explore and list the preselected variables after completing the data extraction.\n",
    "\n",
    "### 5a. Define the Data Extract\n",
    "\n",
    "Now that we know the collection (\"ahtus\"), sample (\"us2010a\"), and list of variables (c(\"STATE\", \"AGE\", \"SEX\", \"HHTYPE\", \"WKHRS\", \"NWORK\")) we are ready to submit our data extract request.  In this step we will add a text description of the request which can be anything and is included to help us differentiate between requests.  For this extract we will use the simple description \"IPUMS AHTUS Data Extraction\".\n",
    "\n",
    "Here we pass all the extraction definition information to the [*define_extract_micro*](https://rdrr.io/github/mnpopcenter/ripums/man/define_extract_micro.html) function from the [**ipumsr**](https://cran.r-project.org/web/packages/ipumsr/index.html) package and store the resulting extraction definition in the object *extract_definition*.\n",
    "\n",
    "**★ Pro Tip:** You can specify multiple samples in the same data extract by specifying all sample identification codes as a list.  Be sure that the variables you specify are available for all of the samples!"
   ]
  },
  {
   "cell_type": "code",
   "execution_count": null,
   "id": "6258a5a8-bbfa-468c-bc04-58c2ac512b44",
   "metadata": {},
   "outputs": [],
   "source": [
    "# set up the data extraction definition\n",
    "extract_definition <- define_extract_micro(collection = \"ahtus\",\n",
    "                                           description = \"IPUMS AHTUS Data Extraction\",\n",
    "                                           samples = c(\"us2010a\"),\n",
    "                                           variables = c(\"STATE\", \"AGE\", \"SEX\", \"HHTYPE\", \"WKHRS\", \"NWORK\"))"
   ]
  },
  {
   "cell_type": "markdown",
   "id": "f6448166-505b-4b27-8c6d-4282902f98cd",
   "metadata": {},
   "source": [
    "Let's review the extraction definition information to make sure we have set it up the way we intended."
   ]
  },
  {
   "cell_type": "code",
   "execution_count": null,
   "id": "244cd717-bf28-4aac-9092-24a639c2175b",
   "metadata": {},
   "outputs": [],
   "source": [
    "# review the extraction definition\n",
    "extract_definition"
   ]
  },
  {
   "cell_type": "markdown",
   "id": "a68eb396-415d-449c-a046-6c4517f953a1",
   "metadata": {},
   "source": [
    "Everything looks good so we will submit the extraction request, wait for it to complete, and download the resulting data.\n",
    "\n",
    "### 5c. Submit the Extract Request\n",
    "\n",
    "Now that the extraction definition is set up, we can submit it to the IPUMS API using the [*submit_extract*](https://rdrr.io/cran/ipumsr/man/submit_extract.html) from the [**ipumsr**](https://cran.r-project.org/web/packages/ipumsr/index.html).\n",
    "\n",
    "For this exercise, after submitting the request we will also use the [*wait_for_extract*](https://rdrr.io/cran/ipumsr/man/wait_for_extract.html) function from the [**ipumsr**](https://cran.r-project.org/web/packages/ipumsr/index.html) package to monitor the status of the request.  This is not a necessary step but it is helpful, especially when submitting large requests.\n",
    "\n",
    "Finally, once the extract is complete, we can download it using the [*download_extract*](https://rdrr.io/cran/ipumsr/man/download_extract.html) function from the [**ipumsr**](https://cran.r-project.org/web/packages/ipumsr/index.html) package and save it in the object *filepath*."
   ]
  },
  {
   "cell_type": "code",
   "execution_count": null,
   "id": "1c8c804b-379e-4d9c-90dc-9da4bac8322a",
   "metadata": {},
   "outputs": [],
   "source": [
    "# submit extraction request\n",
    "extract_submitted <- submit_extract(extract_definition)\n",
    "\n",
    "# wait for completion\n",
    "extraction_complete <- wait_for_extract(extract_submitted)\n",
    "\n",
    "# check completion status\n",
    "extraction_complete$status\n",
    "\n",
    "# get the extract filepath\n",
    "filepath <- download_extract(extract_submitted, overwrite = T)"
   ]
  },
  {
   "cell_type": "markdown",
   "id": "722752d4-7c1c-45ea-9f2b-5eec5ef54dc9",
   "metadata": {},
   "source": [
    "### 5d. Review the Extract\n",
    "\n",
    "Once we have downloaded the extract, we are ready to review it and transform it to a format we can easily use.  The data extract download will contain the following two files.\n",
    "\n",
    "1. A [DDI (Data Documentation Initiative)](https://ddialliance.org) codebook file (file extension .xml) containing metadata and descriptive information for the data.\n",
    "2. A zipped data (.dat) file (file extension .dat.gz) containing the data.\n",
    "\n",
    "Read the ddi and data files into a format which we can work with in R.  The final *dat* object will contain the data from our extraction in a table format which is easy to use in R."
   ]
  },
  {
   "cell_type": "code",
   "execution_count": null,
   "id": "debbf77f-75e5-4d7d-a198-1c0735d2ae19",
   "metadata": {},
   "outputs": [],
   "source": [
    "ddi <- read_ipums_ddi(filepath)\n",
    "dat <- read_ipums_micro(ddi)"
   ]
  },
  {
   "cell_type": "markdown",
   "id": "d3af850e-b36c-47b4-97f2-6a29c1145d93",
   "metadata": {},
   "source": [
    "We now have a useable version of our dataset stored in *dat*.  Let's take a look at the number of observations and variables in the data."
   ]
  },
  {
   "cell_type": "code",
   "execution_count": null,
   "id": "09901e39-1e2a-4cb2-9034-9a9b25cf268d",
   "metadata": {},
   "outputs": [],
   "source": [
    "dim(dat)"
   ]
  },
  {
   "cell_type": "markdown",
   "id": "e809ceef-812a-4900-949e-62f324ad7d20",
   "metadata": {},
   "source": [
    "The 2010 ATUS data we downloaded includes information on 13 variables for 13,260 individuals.\n",
    "\n",
    "Let's take a look at the first few lines of the data."
   ]
  },
  {
   "cell_type": "code",
   "execution_count": null,
   "id": "763aec3b-bfc0-4bd6-b974-dae890680f3a",
   "metadata": {},
   "outputs": [],
   "source": [
    "head(dat)"
   ]
  },
  {
   "cell_type": "markdown",
   "id": "d38b6bdc-fbbf-4f58-b673-ffc32e4d356c",
   "metadata": {},
   "source": [
    "Notice that this data is in [*tibble*](https://tibble.tidyverse.org) format rather than the more common *data.frame* format you might be used to as an R user.  A tibble can be thought of as a version of a data.frame that includes additional functionality and metadata visibility.  It is also more compatible with the [*tidyverse*](https://www.tidyverse.org) packages, including the [*dplyr*](https://cran.r-project.org/web/packages/dplyr/index.html) package we use in this notebook.\n",
    "\n",
    "As mentioned above, IPUMS includes a set of preselected variables in data extractions, along with the variables selected by the user.  We only selected 6 variables for the extraction but the resulting download includes 13 variables.  Let's take a look at the list of column names."
   ]
  },
  {
   "cell_type": "code",
   "execution_count": null,
   "id": "72ee1272-ac63-468c-ba6c-1a8172ad5c26",
   "metadata": {},
   "outputs": [],
   "source": [
    "colnames(dat)"
   ]
  },
  {
   "cell_type": "markdown",
   "id": "ef38f87d-9d49-4e87-bc61-789abaf70b8b",
   "metadata": {},
   "source": [
    "This list includes the 6 variables we originally selected as well as 7 additional IPUMS preselected variables which mainly include metadata such as identification codes, weights, and other metainformation.\n",
    "\n",
    "**Variable Selection**\n",
    "* State (STATE)\n",
    "* Age (AGE)\n",
    "* Sex (SEX)\n",
    "* Household Type (HHTYPE)\n",
    "* Number of Hours Worked Per Week (WKHRS)\n",
    "* Number of Full-Time Workers in Household (NWORK)\n",
    "\n",
    "**IPUMS Preselected Variables**\n",
    "* Sample (SAMPLE)\n",
    "* Person Number (PERNUM)\n",
    "* Identifier (IDENT)\n",
    "* Person Identifer (PID)\n",
    "* Person Serial Number (SERIAL)\n",
    "* Year Diary Kept (YEAR)\n",
    "* Recommended Sample (Day) Weight Removing Low Quality Diaries and Missing Age or Sex (RECWGHT)\n",
    "\n",
    "### 5e. Save the Data\n",
    "\n",
    "Finally, let's save the data we extracted from IPUMS USA.  We will save the data in the following two formats:\n",
    "\n",
    "* A *.rds* version of the data.  The **R Data Serialization (RDS)** format will retain metadata for the next time we want to import the file back into R.  One downside to the .rds format is it is only useable within R.\n",
    "* A *.csv* version of the data.  The [**Comma-Separated Values (CSV)**](https://en.wikipedia.org/wiki/Comma-separated_values) format is versitile and can be easily accessed in other programs.  However, the CSV file format does not include metadata such as labels for variable levels.\n",
    "\n",
    "**★ Pro Tip:** Setting the *row.names* parameter to *FALSE* in the *write.csv* function will supress the creation of an additional column of index values which is automatically generated in the CSV writing process."
   ]
  },
  {
   "cell_type": "code",
   "execution_count": null,
   "id": "c2879af7-1dea-4d63-915d-b6080148f6f0",
   "metadata": {},
   "outputs": [],
   "source": [
    "saveRDS(dat, \"ipums_ahtus_example.rds\")\n",
    "write.csv(dat, \"ipums_ahtus_example.csv\", row.names = F)"
   ]
  },
  {
   "cell_type": "markdown",
   "id": "652c6fa1-1278-4fd6-b5ad-258279e1d28b",
   "metadata": {},
   "source": [
    "At the end of this exercise we have a freshly downloaded dataset from the IPUMS USA repository saved in our workspace."
   ]
  },
  {
   "cell_type": "markdown",
   "id": "a06884ae-eb53-4da5-ad8a-885415a4333b",
   "metadata": {},
   "source": [
    "## 6. IPUMS Multinational Time Use Study (MTUS) Metadata Exploration\n",
    "\n",
    "From the [**IPUMS Multinational Time Use Study (MTUS) Webpage**](https://www.mtusdata.org/mtus): MTUS is a collection of time diary data from a growing number of countries that are harmonized for compatibility across time and space. IPUMS MTUS is a data extract builder that allows users to create custom time use variables and data extracts for analysis. This project is a collaboration of the Minnesota Population Center, the Maryland Population Research Center and the Centre for Time Use Research at University College London.\n",
    "\n",
    "### 5a. Review the List of Samples"
   ]
  },
  {
   "cell_type": "code",
   "execution_count": null,
   "id": "81d8d8b2-74f2-4994-9bf6-b2071f41b4dc",
   "metadata": {},
   "outputs": [],
   "source": [
    "# retrive and view the list of samples from the IPUMS USA database\n",
    "metadata_mtus <- get_sample_info(\"mtus\")\n",
    "\n",
    "# view the dimensions of the list of samples\n",
    "dim(metadata_mtus)"
   ]
  },
  {
   "cell_type": "code",
   "execution_count": null,
   "id": "617f8fc9-e193-435a-b6f3-c852a6df4538",
   "metadata": {},
   "outputs": [],
   "source": [
    "# view the first few lines of the list of samples\n",
    "head(metadata_mtus)"
   ]
  },
  {
   "cell_type": "code",
   "execution_count": null,
   "id": "e75badf4-7d95-4ed3-83e3-e3382add8d44",
   "metadata": {},
   "outputs": [],
   "source": [
    "# filter the list of samples by country\n",
    "metadata_mtus %>% filter(str_detect(description, \"Finland\"))"
   ]
  },
  {
   "cell_type": "markdown",
   "id": "bf64add4-09a5-4123-b09e-c5557ee7f062",
   "metadata": {},
   "source": [
    "## 5. IPUMS MTUS Data Extraction Specification and Submission\n",
    "\n",
    "Once we know the dataset and variable selection we want, we can define our data extraction using the *define_extract_micro* function from the *ipumsr* package.  This function requires the following parameters:\n",
    "\n",
    "### 5a. Define the Data Extract\n",
    "\n",
    "For this example we will use the 2010 ACS sample.\n",
    "\n",
    "**Variable Selection**\n",
    "* Region: Finland (REGION_FI)\n",
    "* Age (AGE)\n",
    "* Sex (SEX)\n",
    "* Sector of Employment (SECTOR)\n",
    "* Hours Paid Work Last Week Including Overtime (WORKHRS)\n",
    "* Has Disability/Long-Term Health Condition (DISAB)\n",
    "\n",
    "By default, the data extraction will also include a number of IPUMS preselected variables.  These variables include metainformation such as identification codes and survey weights.  We will explore and list the preselected variables after completing the data extraction.\n",
    "\n",
    "* **collection** Code for the IPUMS collection represented by this extract request.  In our case we are downloading from IPUMS USA so we use the code \"usa\".\n",
    "* **description** Text description of the extract.\n",
    "* **samples** Vector of samples to include in the extract request.  In our case we are downloading the 2010 ACS data (us2010a).\n",
    "* **variables** Vector of variable names or a list of detailed variable specifications to include in the extract request."
   ]
  },
  {
   "cell_type": "code",
   "execution_count": null,
   "id": "f8210bff-2852-4f2f-b4d2-d32d882d6561",
   "metadata": {},
   "outputs": [],
   "source": [
    "# set up the data extraction definition\n",
    "extract_definition <- define_extract_micro(collection = \"mtus\",\n",
    "                                           description = \"IPUMS MTUS Data Extraction\",\n",
    "                                           samples = c(\"fi2009a\"),\n",
    "                                           variables = c(\"REGION_FI\", \"AGE\", \"SEX\", \"SECTOR\", \"WORKHRS\", \"DISAB\"))"
   ]
  },
  {
   "cell_type": "code",
   "execution_count": null,
   "id": "87b37ad6-3f80-44da-8d30-ecf94d0dc03d",
   "metadata": {},
   "outputs": [],
   "source": [
    "# review the extraction definition\n",
    "extract_definition"
   ]
  },
  {
   "cell_type": "markdown",
   "id": "f0ac8c5e-3c0a-4728-8658-afe58aaaf507",
   "metadata": {},
   "source": [
    "### 5b. Submit the Extract Request"
   ]
  },
  {
   "cell_type": "code",
   "execution_count": null,
   "id": "d3e9afcd-fc36-4703-96ad-8e99757e635b",
   "metadata": {},
   "outputs": [],
   "source": [
    "# submit extraction request\n",
    "extract_submitted <- submit_extract(extract_definition)\n",
    "\n",
    "# wait for completion\n",
    "extraction_complete <- wait_for_extract(extract_submitted)\n",
    "\n",
    "# check completion status\n",
    "extraction_complete$status\n",
    "\n",
    "# get the extract filepath\n",
    "filepath <- download_extract(extract_submitted, overwrite = T)"
   ]
  },
  {
   "cell_type": "markdown",
   "id": "fceffe85-23d5-4ec8-9dd2-9703247ea68e",
   "metadata": {},
   "source": [
    "### 5c. Review the Extract\n",
    "\n",
    "The data extract download will contain the following two files.\n",
    "\n",
    "1. A [DDI (Data Documentation Initiative)](https://ddialliance.org) codebook file (file extension .xml) containing metadata and descriptive information for you data.\n",
    "2. A zipped data (.dat) file (file extension .dat.gz) containing your data.\n",
    "\n",
    "Read the ddi and data files into a format which we can work with in R."
   ]
  },
  {
   "cell_type": "code",
   "execution_count": null,
   "id": "0cfceb07-2101-4b5f-88ba-cc9db359cee5",
   "metadata": {},
   "outputs": [],
   "source": [
    "ddi <- read_ipums_ddi(filepath)\n",
    "dat <- read_ipums_micro(ddi)"
   ]
  },
  {
   "cell_type": "code",
   "execution_count": null,
   "id": "3cf68817-8878-4c70-ad91-b787e1a0ce7e",
   "metadata": {},
   "outputs": [],
   "source": [
    "dim(dat)"
   ]
  },
  {
   "cell_type": "code",
   "execution_count": null,
   "id": "ace6f127-c0ab-4505-8be0-2ab589f3a3f4",
   "metadata": {},
   "outputs": [],
   "source": [
    "head(dat)"
   ]
  },
  {
   "cell_type": "code",
   "execution_count": null,
   "id": "a4258bd2-7b7b-4e06-8952-d708b5a8ae67",
   "metadata": {},
   "outputs": [],
   "source": [
    "colnames(dat)"
   ]
  },
  {
   "cell_type": "markdown",
   "id": "6d40e037-fbcd-441c-99d2-44ba64dd530d",
   "metadata": {},
   "source": [
    "**Variable Selection**\n",
    "* Region: Finland (REGION_FI)\n",
    "* Age (AGE)\n",
    "* Sex (SEX)\n",
    "* Sector of Employment (SECTOR)\n",
    "* Hours Paid Work Last Week Including Overtime (WORKHRS)\n",
    "* Has Disability/Long-Term Health Condition (DISAB)\n",
    "\n",
    "**IPUMS Preselected Variables**\n",
    "* Person Serial Number (SERIAL)\n",
    "* Sample (SAMPLE)\n",
    "* Identifier (IDENT)\n",
    "* Country or Region of Survey (COUNTRY)\n",
    "* Household ID (HLDID)\n",
    "* Person/Diarist Identifer (PERSID)\n",
    "* Diary Order (DIARY)\n",
    "* Year Diary Kept (YEAR)\n",
    "* Diary Identifier (DIARYID)\n",
    "* Person Number (PERNUM)\n",
    "* Proposed Weight (PROPWT)"
   ]
  },
  {
   "cell_type": "markdown",
   "id": "0ce6d59b-a548-4414-8819-d37d3c41fcd1",
   "metadata": {},
   "source": [
    "### 6d. Save the Data\n",
    "\n",
    "Next let's save a couple versions of our IPUMS ACS data file.\n",
    "\n",
    "* A *.rds* version of the data.  The **R Data Serialization (RDS)** format will retain metadata for the next time we want to import the file back into R.  One downside to the .rds format is it is only useable within R.\n",
    "* A *.csv* version of the data.  The [**Comma-Separated Values (CSV)**](https://en.wikipedia.org/wiki/Comma-separated_values) format is versitile and can be easily accessed in other programs.  However, the CSV file format does not include metadata such as labels for variable levels.\n",
    "\n",
    "**★ Pro Tip:** Setting the *row.names* parameter to *FALSE* in the *write.csv* function will supress the creation of an additional column of index values which is automatically generated in the CSV writing process."
   ]
  },
  {
   "cell_type": "code",
   "execution_count": null,
   "id": "15c5f0fa-4d80-4406-9829-0608d82ba037",
   "metadata": {},
   "outputs": [],
   "source": [
    "saveRDS(dat, \"ipums_mtus_example.rds\")\n",
    "write.csv(dat, \"ipums_mtus_example.csv\", row.names = F)"
   ]
  },
  {
   "cell_type": "markdown",
   "id": "bfc2c6c2-8555-4f2f-b568-e5cc51188c74",
   "metadata": {},
   "source": [
    "## Recommended Next Steps\n",
    "* **Continue with Chapter 2: IPUMS Data Acquisition and Extraction**\n",
    "  * 2.1: IPUMS USA Data Extraction Using ipumsr\n",
    "  * 2.2: IPUMS CPS Data Extraction Using ipumsr\n",
    "  * 2.3: IPUMS International Microdata Extraction Using ipumsr\n",
    "  * 2.4: IPUMS NHGIS Data Extraction Using ipumsr\n",
    "  * 2.6: IPUMS Health Surveys Data Extraction Using ipumsr\n",
    "  * 2.7: Reading IPUMS Global Health Data Extracts Using ipumsr\n",
    "  * 2.8: Reading IPUMS Higher Education Data Extracts Using ipumsr"
   ]
  },
  {
   "cell_type": "markdown",
   "id": "9673ce9a-9eb5-47b1-b970-617366005758",
   "metadata": {},
   "source": [
    "## Quick Code\n",
    "Don't forget to update the code with your IPUMS API key!"
   ]
  },
  {
   "cell_type": "raw",
   "id": "f39dc273-5a7c-4271-8630-357e08f19721",
   "metadata": {},
   "source": [
    "# install required packages\n",
    "# install.packages(\"ipumsr\")\n",
    "\n",
    "# load required libraries\n",
    "library(ipumsr)\n",
    "\n",
    "# set IPUMS API key\n",
    "ipums_api_key <- \"paste your api key here\"\n",
    "set_ipums_api_key(ipums_api_key, save = T, overwrite = T)\n",
    "\n",
    "# set up the data extract\n",
    "extraction <- define_extract_micro(description = \"IPUMS Data Extraction\",\n",
    "                                   collection = \"atus\",\n",
    "                                   sample = \"us2010a\",\n",
    "                                   variables = c(\"PUMA\", \"SEX\", \"AGE\", \"RACE\", \"EDUC\", \"INCTOT\"))\n",
    "\n",
    "# submit extract request and download the files\n",
    "extraction_submitted <- submit_extract(extraction)                  # submit the extract  \n",
    "extraction_complete <- wait_for_extract(extraction_submitted)       # wait for completion\n",
    "extraction_complete$status                                          # check completion\n",
    "filepath <- download_extract(extraction_submitted, overwrite = T)   # get extract filepath\n",
    "\n",
    "# extract the files\n",
    "ddi <- read_ipums_ddi(filepath)\n",
    "dat <- read_ipums_micro(ddi)\n",
    "\n",
    "# save as RDS file\n",
    "saveRDS(dat, \"ipums_usa_example.rds\", )\n",
    "\n",
    "# save as a csv file\n",
    "write.csv(dat, \"ipums_usa_example.csv\")"
   ]
  }
 ],
 "metadata": {
  "kernelspec": {
   "display_name": "R",
   "language": "R",
   "name": "ir"
  },
  "language_info": {
   "codemirror_mode": "r",
   "file_extension": ".r",
   "mimetype": "text/x-r-source",
   "name": "R",
   "pygments_lexer": "r",
   "version": "4.3.3"
  }
 },
 "nbformat": 4,
 "nbformat_minor": 5
}
