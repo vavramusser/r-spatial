{
 "cells": [
  {
   "cell_type": "markdown",
   "id": "2c92e071-29b0-4dac-97e7-0e38aaa7749e",
   "metadata": {},
   "source": [
    "# IPUMS Heath Surveys Data Extraction Using ipumsr"
   ]
  },
  {
   "cell_type": "markdown",
   "id": "59abd02f-a271-446f-b93b-0c2af013faea",
   "metadata": {},
   "source": [
    "From the IPUMS Health Surveys Website: IPUMS Health Surveys provide free individual-level survey data for research purposes from two leading sources of self-reported health and health care access information: the National Health Interview Survey (NHIS) and the Medical Expenditure Panel Survey (MEPS).\n",
    "\n",
    "* **National Health Interview Series (NHIS)**: The National Health Interview Survey (NHIS) provides harmonized annual microdata from the 1960s to the present.\n",
    "* **Medical Expenditure Panel Survey (MEPS)**: The Medical Expenditure Panel Survey (MEPS) provides harmonized microdata from the longitudinal survey of U.S. health care expenditures and utilization, covering the period 1996 to the present."
   ]
  },
  {
   "cell_type": "markdown",
   "id": "e148969c-36ae-4ba1-8ffb-c249431202d8",
   "metadata": {},
   "source": [
    "#### National Health Interview Series (NHIS)\n",
    "\n",
    "**Variable Selection**\n",
    "* Region of Residence (REGION)\n",
    "* Health Status (HEALTH)\n",
    "* Health Insurance Coverage Status (HINOTCOVE)\n",
    "* Ever Told Had Hypertension on 2+ Visits (HYP2TIME)\n",
    "* Ever Smoked 1000 Cigarettes in Life (SMOKEV)\n",
    "* Frequency of Vigorous Physical Activity 10+ Minutes: Time Period (VIG10FTP)\n",
    "\n",
    "**IPUMS Preselected Variables**\n",
    "* Survey Year (YEAR)\n",
    "* Sequential Serial Number, Household Record (SERIAL)\n",
    "* Stratum for Variance Estimation (STRATA)\n",
    "* Primary Sampling Unit (PSU) for Variance Estimation (PSU)\n",
    "* NHIS Unique Identifier, Household (NHISHID)\n",
    "* Household Weight, Final Annual (HHWEIGHT)\n",
    "* Person Number within Family/Household (from reformatting) (PERNUM)\n",
    "* NHIS Unique Identifier, Person (NHISPID)\n",
    "* Household Number (from NHIS) (HHX)\n",
    "* Family Number (from NHIS) (FMX)\n",
    "* Person Number of Respondent (from NHIS) (PX)\n",
    "* Final Basic Annual Weight (PERWEIGHT)\n",
    "* Sample Person Weight (SAMPWEIGHT)\n",
    "* Sample Adult Weight, Longitudinal Sample (LONGWEIGHT)\n",
    "* Sample Adult Weight, Partial Sample (PARTWEIGHT)\n",
    "* Final Annual Family Weight (FWEIGHT)\n",
    "* Sample Adult Flag (ASTATFLG)\n",
    "* Sample Child Flag (CSATFLG)"
   ]
  },
  {
   "cell_type": "markdown",
   "id": "1605a160-7fbb-49b0-8075-86b76f44690f",
   "metadata": {},
   "source": [
    "#### Medical Expenditure Panel Survey (MEPS)\n",
    "\n",
    "**Variable Selection**\n",
    "* Health Status (HEALTH)\n",
    "* Health Insurance Coverage Type (hierarchy) (COVERTYPE)\n",
    "* Now Taking Insulin (INSULIN)\n",
    "* Annual Total of Direct Health Care Payments (EXPTOT)\n",
    "* Annual Total Number of Visits Made to Office-Based Medical Providers (OBTOTVIS)\n",
    "\n",
    "**IPUMS Preselected Variables**\n",
    "* Record Type (RECTYPE)\n",
    "* Survey Year (YEAR)\n",
    "* Sequential Serial Number, Person Record (SERIAL)\n",
    "* Person Number within Family/Household (from reformatting) (PERNUM)\n",
    "* Dwelling Unit ID (DUID)\n",
    "* Person Number (PID)\n",
    "* MEPS Unique Identifier (IPUMS generated) (MEPSID)\n",
    "* Panel (PANEL)\n",
    "* Annual Primary Sampling Unit (PSU) for Variance Estimation (PSUANN)\n",
    "* Annual Stratum for Variance Estimation (STRATANN)\n",
    "* Pooled Primary Sampling Unit (PSU) for Variance Estimation (PSUPLD)\n",
    "* Pooled Variance Stratum (STRATAPLD)\n",
    "* Year Entered MEPS (PANELYR)\n",
    "* Relative Year 1 or 2 in Panel (RELYR)\n",
    "* Final Basic Annual Weight (PERWEIGHT)\n",
    "* Self-Administered Questionnaire Weight (SAQWEIGHT)\n",
    "* Diabetes Care Weight (DIABWEIGHT)\n",
    "* Social Determinants of Health (SDOH) Weight (SDOHWT)"
   ]
  }
 ],
 "metadata": {
  "kernelspec": {
   "display_name": "R",
   "language": "R",
   "name": "ir"
  },
  "language_info": {
   "codemirror_mode": "r",
   "file_extension": ".r",
   "mimetype": "text/x-r-source",
   "name": "R",
   "pygments_lexer": "r",
   "version": "4.3.3"
  }
 },
 "nbformat": 4,
 "nbformat_minor": 5
}
