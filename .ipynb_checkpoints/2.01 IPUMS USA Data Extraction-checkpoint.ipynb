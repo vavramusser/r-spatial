{
 "cells": [
  {
   "cell_type": "markdown",
   "id": "7aaffa8e-d021-4099-abba-a0c18aaf69b0",
   "metadata": {},
   "source": [
    "# IPUMS USA Data Extraction Using ipumsr"
   ]
  },
  {
   "cell_type": "markdown",
   "id": "d34c6940-17d7-418c-8ab7-271fe716a114",
   "metadata": {},
   "source": [
    "## Introduction\n",
    "The [IPUMS USA](https://usa.ipums.org/usa) database offers harmonized microdata from the [U.S. Decennial Census](https://www.census.gov/programs-surveys/decennial-census.html) and the [American Community Survey (ACS)](https://www.census.gov/programs-surveys/acs/about.html). It provides detailed, individual-level records on population demographics, economic activity, housing conditions, and social characteristics, enabling the analysis of trends in American society across time and space. Through harmonization, IPUMS USA allows data to be seamlessly compared across census years, despite changes in survey design, geographic boundaries, and variable definitions.\n",
    "\n",
    "**From the [IPUMS USA Website](https://usa.ipums.org/usa):** IPUMS USA collects, preserves and harmonizes United States Census microdata and provides easy access to this data with enhanced documentation. Data includes Decennial Censuses from 1790 to 2010 and American Community Surveys (ACS) from 2000 to the present.\n",
    "\n",
    "This notebook introduces the process of extracting [IPUMS USA](https://usa.ipums.org/usa) data using the [IPUMS API](https://developer.ipums.org/docs/v2/apiprogram) via the [ipumsr R package](https://cran.r-project.org/web/packages/ipumsr/index.html). Users will learn how to define, submit, and download an IPUMS USA data extract, specifying desired variables, time periods, and geographic units for analysis. By the end of this notebook, users will have the skills to efficiently acquire customized IPUMS USA datasets and prepare them for spatial and statistical workflows.\n",
    "\n",
    "### ★ Prerequisites ★\n",
    "* Complete Chapter 1.1: Introduction to IPUMS and the IPUMS API\n",
    "* Set Up Your [IPUMS Account and API Key](https://account.ipums.org/api_keys)\n",
    "\n",
    "### Notebook Overview\n",
    "1. Setup\n",
    "2. IPUMS USA Metadata Exploration\n",
    "3. IPUMS USA Data Extraction Specification and Submission"
   ]
  },
  {
   "cell_type": "markdown",
   "id": "fca65eb8-9354-460a-b440-02bccddfb839",
   "metadata": {},
   "source": [
    "## 1. Setup\n",
    "This section will guide you through the process of installing essential packages and setting your IPUMS API key.\n",
    "\n",
    "#### Required Packages\n",
    "\n",
    "[**dplyr**](https://cran.r-project.org/web/packages/dplyr/index.html) A Grammar of Data Manipulation. This notebook uses the the following function from *dplyr*.\n",
    "\n",
    "* [*filter*](https://rdrr.io/cran/dplyr/man/filter.html) · keep rows that match a condition\n",
    "* This notebook also uses [*%>%*](https://magrittr.tidyverse.org/reference/pipe.html), referred to as the *pipe* operator, which is used to pass the output from one function directly into the next function for the purpose of creating streamlined workflows.  The *pipe* operator is a commonly used component of the [*tidyverse*](https://www.tidyverse.org).\n",
    "\n",
    "[**ipumsr**](https://cran.r-project.org/web/packages/ipumsr/index.html) An R Interface for Downloading, Reading, and Handling IPUMS Data.  This notebook uses the the following functions from *ipumsr*.\n",
    "\n",
    "* [*define_extract_micro*](https://rdrr.io/github/mnpopcenter/ripums/man/define_extract_micro.html) · define an extract request for an IPUMS microdata collection\n",
    "* [*download_extract*](https://rdrr.io/cran/ipumsr/man/download_extract.html) · download a completed IPUMS data extract\n",
    "* [*get_sample_info*](https://rdrr.io/cran/ipumsr/man/get_sample_info.html) · list available samples for IPUMS microdata collections\n",
    "* [*read_ipums_ddi*](https://rdrr.io/cran/ipumsr/man/read_ipums_ddi.html) · read metadata about an IPUMS microdata extract from a DDI codebook (.xml) file\n",
    "* [*read_ipums_micro*](https://rdrr.io/cran/ipumsr/man/read_ipums_micro.html) · read data from an IPUMS microdata extract\n",
    "* [*set_ipums_api_key*](https://rdrr.io/cran/ipumsr/man/set_ipums_api_key.html) · set your IPUMS API key\n",
    "* [*submit_extract*](https://rdrr.io/cran/ipumsr/man/submit_extract.html) · submit an extract request via the IPUMS API\n",
    "* [*wait_for_extract*](https://rdrr.io/cran/ipumsr/man/wait_for_extract.html) · wait for an extract to finish processing\n",
    "\n",
    "[**stringr**](https://cran.r-project.org/web/packages/stringr/index.html) Simple, Consistent Wrappers for Common String Operations.  This notebook uses the following function from *stringr*.\n",
    "\n",
    "* [*str_detect*](https://stringr.tidyverse.org/reference/str_detect.html) · detect the presence or absence of a match"
   ]
  },
  {
   "cell_type": "markdown",
   "id": "25e1018c-13cb-4e15-91a3-504ce1eb07a1",
   "metadata": {},
   "source": [
    "### 1a. Install and Load Required Packages\n",
    "If you have not already installed the required packages, uncomment and run the code below:"
   ]
  },
  {
   "cell_type": "code",
   "execution_count": null,
   "id": "ed2c53cc-354e-4eef-a6ad-bb96d627765f",
   "metadata": {},
   "outputs": [],
   "source": [
    "# install.packages(c(\"dplyr\", \"ipumsr\", \"stringr\"))"
   ]
  },
  {
   "cell_type": "markdown",
   "id": "1b8b928a-bdf7-464f-9ffb-64b2cf7b6910",
   "metadata": {},
   "source": [
    "Load the packages into your workspace."
   ]
  },
  {
   "cell_type": "code",
   "execution_count": null,
   "id": "8b7f2f90-2b0d-47e9-a088-596751cb3dbe",
   "metadata": {},
   "outputs": [],
   "source": [
    "library(dplyr)\n",
    "library(ipumsr)\n",
    "library(stringr)"
   ]
  },
  {
   "cell_type": "markdown",
   "id": "d91a1587-dbef-4dda-a967-07b3953b532f",
   "metadata": {},
   "source": [
    "### 1b. Set Your IPUMS API Key\n",
    "\n",
    "Store your [IPUMS API key](https://account.ipums.org/api_keys) in your environment using the following code.\n",
    "\n",
    "Refer to *Chapter 1.1: Introduction to IPUMS and the IPUMS API* for instructions on setting up your IPUMS account and API key."
   ]
  },
  {
   "cell_type": "code",
   "execution_count": null,
   "id": "ae999683-c024-47d7-9936-55d91ce26e82",
   "metadata": {},
   "outputs": [],
   "source": [
    "ipumps_api_key = readline(\"Please enter your IPUMS API key: \")\n",
    "set_ipums_api_key(ipumps_api_key, save = T, overwrite = T)"
   ]
  },
  {
   "cell_type": "markdown",
   "id": "3169ebf5-3bf0-489d-9f31-591faa2b784d",
   "metadata": {},
   "source": [
    "## 2. IPUMS USA Metadata Exploration\n",
    "\n",
    "### 2a. Review the List of Samples"
   ]
  },
  {
   "cell_type": "code",
   "execution_count": null,
   "id": "d2f10506-e9d6-4f85-a7c1-55a06c4d0e07",
   "metadata": {},
   "outputs": [],
   "source": [
    "# retrive and view the list of samples from the IPUMS USA database\n",
    "metadata_usa <- get_sample_info(\"usa\")\n",
    "\n",
    "# view the dimensions of the list of samples\n",
    "dim(metadata_usa)"
   ]
  },
  {
   "cell_type": "code",
   "execution_count": null,
   "id": "48cad01c-89a4-45bf-bcc4-00809be6f72c",
   "metadata": {},
   "outputs": [],
   "source": [
    "# view the first few lines of the list of samples\n",
    "head(metadata_usa)"
   ]
  },
  {
   "cell_type": "markdown",
   "id": "d3831bee-6210-4c38-8e4f-64e925689a6c",
   "metadata": {},
   "source": [
    "Refer to the [Descriptions of IPUMS USA Samples](https://usa.ipums.org/usa/sampdesc.shtml) page on the IPUMS USA website ."
   ]
  },
  {
   "cell_type": "code",
   "execution_count": null,
   "id": "2af9b894-ca0c-4286-9f54-cf971654120d",
   "metadata": {},
   "outputs": [],
   "source": [
    "# filter the list of samples by survey and year\n",
    "metadata_usa %>% filter(str_detect(description, \"ACS\"),      # filter descrption by survey\n",
    "                        str_detect(description, \"2010\"))     # filter description by year"
   ]
  },
  {
   "cell_type": "markdown",
   "id": "439e5d91-e3a8-41e3-82cd-e52cc1283128",
   "metadata": {},
   "source": [
    "## 3. IPUMS USA Data Extraction Specification and Submission\n",
    "\n",
    "Once we know the dataset and variable selection we want, we can define our data extraction using the *define_extract_micro* function from the *ipumsr* package.  This function requires the following parameters:\n",
    "\n",
    "### 3a. Define the Data Extract\n",
    "\n",
    "For this example we will use the 2010 ACS sample.\n",
    "\n",
    "**Variable Selection**\n",
    "* Public Use Microdata Area (PUMA)\n",
    "* Sex (SEX)\n",
    "* Age (AGE)\n",
    "* Race (RACE)\n",
    "* Educational Attainment (EDUC)\n",
    "* Total Personal Income (INCTOT)\n",
    "\n",
    "By default, the data extraction will also include a number of IPUMS preselected variables.  These variables include metainformation such as identification codes and survey weights.  We will explore and list the preselected variables after completing the data extraction.\n",
    "\n",
    "* **collection** Code for the IPUMS collection represented by this extract request.  In our case we are downloading from IPUMS USA so we use the code \"usa\".\n",
    "* **description** Text description of the extract.\n",
    "* **samples** Vector of samples to include in the extract request.  In our case we are downloading the 2010 ACS data (us2010a).\n",
    "* **variables** Vector of variable names or a list of detailed variable specifications to include in the extract request."
   ]
  },
  {
   "cell_type": "code",
   "execution_count": null,
   "id": "1e76df77-bbfa-4629-aa04-c3af735d4474",
   "metadata": {},
   "outputs": [],
   "source": [
    "# set up the data extraction definition\n",
    "extract_definition <- define_extract_micro(collection = \"usa\",\n",
    "                                           description = \"IPUMS USA Data Extraction\",\n",
    "                                           samples = c(\"us2010a\"),\n",
    "                                           variables = c(\"PUMA\", \"SEX\", \"AGE\", \"RACE\", \"EDUC\", \"INCTOT\"))"
   ]
  },
  {
   "cell_type": "code",
   "execution_count": null,
   "id": "c4d04593-1a8d-4963-974b-e0f5eb4a5d97",
   "metadata": {},
   "outputs": [],
   "source": [
    "# review the extraction definition\n",
    "extract_definition"
   ]
  },
  {
   "cell_type": "markdown",
   "id": "eb957bb5-f2af-4124-a0e7-591b57b3ef04",
   "metadata": {},
   "source": [
    "### 3b. Submit the Extract Request"
   ]
  },
  {
   "cell_type": "code",
   "execution_count": null,
   "id": "d804f9c9-54f3-41c3-a2a2-ba5a63cfaf99",
   "metadata": {},
   "outputs": [],
   "source": [
    "# submit extraction request\n",
    "extract_submitted <- submit_extract(extract_definition)\n",
    "\n",
    "# wait for completion\n",
    "extraction_complete <- wait_for_extract(extract_submitted)\n",
    "\n",
    "# check completion status\n",
    "extraction_complete$status\n",
    "\n",
    "# get the extract filepath\n",
    "filepath <- download_extract(extract_submitted, overwrite = T)"
   ]
  },
  {
   "cell_type": "markdown",
   "id": "96a4b12f-4353-4fac-833b-dd08ea829173",
   "metadata": {},
   "source": [
    "### 3c. Review the Extract\n",
    "\n",
    "The data extract download will contain the following two files.\n",
    "\n",
    "1. A [DDI (Data Documentation Initiative)](https://ddialliance.org) codebook file (file extension .xml) containing metadata and descriptive information for you data.\n",
    "2. A zipped data (.dat) file (file extension .dat.gz) containing your data.\n",
    "\n",
    "Read the ddi and data files into a format which we can work with in R."
   ]
  },
  {
   "cell_type": "code",
   "execution_count": null,
   "id": "d4e90e86-6f89-4118-bfe5-dffedd6a18bd",
   "metadata": {},
   "outputs": [],
   "source": [
    "ddi <- read_ipums_ddi(filepath)\n",
    "dat <- read_ipums_micro(ddi)"
   ]
  },
  {
   "cell_type": "code",
   "execution_count": null,
   "id": "15776ab6-2323-4b53-bb7d-1fa41e5ab211",
   "metadata": {},
   "outputs": [],
   "source": [
    "dim(dat)"
   ]
  },
  {
   "cell_type": "code",
   "execution_count": null,
   "id": "f76e9234-340d-4ec0-99c5-4bfe0e46a594",
   "metadata": {},
   "outputs": [],
   "source": [
    "head(dat)"
   ]
  },
  {
   "cell_type": "code",
   "execution_count": null,
   "id": "07efce56-6ebe-4ec8-81ca-a2514bc83332",
   "metadata": {},
   "outputs": [],
   "source": [
    "colnames(dat)"
   ]
  },
  {
   "cell_type": "markdown",
   "id": "b4d212d0-f085-42ee-b885-4c9dbc61e597",
   "metadata": {},
   "source": [
    "**Variable Selection**\n",
    "* Public Use Microdata Area (PUMA)\n",
    "* Sex (SEX)\n",
    "* Age (AGE)\n",
    "* Race (RACE)\n",
    "* Educational Attainment (EDUC)\n",
    "* Total Personal Income (INCTOT)\n",
    "\n",
    "**Detailed Supplements for Selected Variables**\n",
    "* Race (detailed) (RACED)\n",
    "* Education (detailed) (EDUCD)\n",
    "\n",
    "**IPUMS Preselected Variables**\n",
    "* Census Year (YEAR)\n",
    "* IPUMS Sample Identifier (SAMPLE)\n",
    "* Household Serial Number (SERIAL)\n",
    "* Original Census Bureau Household Serial Number (CBSERIAL)\n",
    "* Household Weight (HHWT)\n",
    "* Household Cluster for Vaccine Estimation (CLUSTER)\n",
    "* Household Strata for Variance Estimation (STRATA)\n",
    "* Group Quarters Status (GQ)\n",
    "* Person Number in Sample Unit (PERNUM)\n",
    "* Person Weight (PERWT)"
   ]
  },
  {
   "cell_type": "markdown",
   "id": "eedc7967-7ba6-4972-9fe7-1d64e5394cd9",
   "metadata": {},
   "source": [
    "### 3d. Save the Data\n",
    "\n",
    "Next let's save a couple versions of our IPUMS ACS data file.\n",
    "\n",
    "* A *.rds* version of the data.  The **R Data Serialization (RDS)** format will retain metadata for the next time we want to import the file back into R.  One downside to the .rds format is it is only useable within R.\n",
    "* A *.csv* version of the data.  The [**Comma-Separated Values (CSV)**](https://en.wikipedia.org/wiki/Comma-separated_values) format is versitile and can be easily accessed in other programs.  However, the CSV file format does not include metadata such as labels for variable levels."
   ]
  },
  {
   "cell_type": "code",
   "execution_count": null,
   "id": "96f7c3b3-06ec-403c-baa1-576123fe2654",
   "metadata": {},
   "outputs": [],
   "source": [
    "saveRDS(dat, \"ipums_usa_example.rds\")\n",
    "write.csv(dat, \"ipums_usa_example.csv\")"
   ]
  },
  {
   "cell_type": "markdown",
   "id": "919ebf75-7e15-41ac-9b2c-ac5949828566",
   "metadata": {},
   "source": [
    "## 2. IPUMS USA Metadata Exploration\n",
    "\n",
    "First, let's take a look at the entire list of datasets available from the [IPUMS USA data repository](https://usa.ipums.org/usa).  The USA data available for direct extraction using the IPUMS API include the [American Communinty Survey (ACS)](https://www.census.gov/programs-surveys/acs) and [Puerto Rico Community Survey (PRCS)](https://www.census.gov/programs-surveys/acs/about/puerto-rico-community-survey.html).\n",
    "\n",
    "The ACS and PRCS are are annual surveys conducted by the U.S. Census Bureau that collect information on a subset of the U.S. population.  The ACS collects data on a variety of topics, including income, poverty, education, marital status, health insurance coverage, disability, occupancy, costs, tenure, and units by type.  It is a more in-depth supplement to the Decennial U.S. Census and in 2005 replaced the long-form version of the Decennial Census survey which was previously conducted every ten years.  Each year the ACS samples over 3.5 million housing units across the United States with a new sample of about 250,000 addresses drawn each month.\n",
    "\n",
    "ACS and PRCS are available as single-year datasets as well as three- and five-year summaries of the data.  The three- and five-year summary data are often used in lieu of the single-year data as they are less susceptible to anomalies.\n",
    "\n",
    "The IPUMS Data also includes population counts and samples dating back to 1850 but, for this exercise, we will focus on the ACS sample data which has been the standard USA population sample survey since 2005.  Refer to the [Descriptions of IPUMS Samples](https://usa.ipums.org/usa/sampdesc.shtml) page on the IPUMS USA website for a list of all IPUMS USA data sets and their descriptions.\n",
    "\n",
    "The *get_sample_info* function form the ipumsr package returns a list of all datasets from the specified IPUMS data repository which are available to be downloaded using the ipumsr API.  We will reuqest the list of datasets from the USA (usa) repository and print the full list."
   ]
  },
  {
   "cell_type": "markdown",
   "id": "edfd9db7-2c73-4d79-a6f6-1bc3c4e587d5",
   "metadata": {},
   "source": [
    "For this exercise, we will be work with the 2022 five-year ACS data (us2022c).  In the IPUMS specification, ACS and PRCS multi-year summaries are referred to by the final year in the corresponding time range.  So the 2022 five-year ACS is a summary of the 2018, 2019, 2020, 2021, and 2022 ACS surveys.\n",
    "\n",
    "The data extraction process does allow us to download multiple datasets, but for this exercise we will only download the us2022c ACS data.\n",
    "\n",
    "As mentioned, the ACS includes a wide range of variables on many topics.  Here we will focus on the following selection of demographic variables.\n",
    "\n",
    "And include a couple geography reference variables."
   ]
  },
  {
   "cell_type": "markdown",
   "id": "9d53d79e-3b04-4940-823b-d310425ef5e6",
   "metadata": {},
   "source": [
    "Review the extraction definition to make sure we have set it up the way we intended."
   ]
  },
  {
   "cell_type": "markdown",
   "id": "3a310e2f-9a4f-474b-9beb-2e037cf73b94",
   "metadata": {},
   "source": [
    "Everything looks good so we will submit the extraction request, wait for it to complete, and download the resulting data."
   ]
  },
  {
   "cell_type": "markdown",
   "id": "4bf547c7-be86-4fb4-af93-62e5ddb12032",
   "metadata": {},
   "source": [
    "We now have a useable version of our dataset stored in *dat*.  Let's take a look at the number of observations and variables in the data."
   ]
  },
  {
   "cell_type": "markdown",
   "id": "8261cdfa-e7d7-49b4-90c1-c6f5d60bbfd9",
   "metadata": {},
   "source": [
    "The 2022 5-year ACS data includes information on 20 variables for 15,721,123 individuals.  This makes sense since we know the ACS surveys about 3.5 million individuals and our dataset corresponds to five years of ACS data.\n",
    "\n",
    "Let's take a look at the first few lines of the data file."
   ]
  },
  {
   "cell_type": "markdown",
   "id": "8db235e4-c328-4b44-bd94-da7aca994eb2",
   "metadata": {},
   "source": [
    "Notice that this data is in [\"tibble\"](https://tibble.tidyverse.org) format rather than the more common \"data.frame\" format you might be used to as an R user.  A tibble can be thought of as a version of a data.frame that includes additional functionality and metadata visibility.  It is also more compatible with the tidyverse packages, including the dplyr package we use in this notebook.\n",
    "\n",
    "We also appear to have a lot more columns than the set we requested from IPUMS.  The view above truncates the dataset to a subset of the columns for easier viewing.  Let's take a quick look at the list of column names so we can see all the variables included in this dataset."
   ]
  },
  {
   "cell_type": "markdown",
   "id": "bcd8ff42-755b-45f8-b402-433242a15c81",
   "metadata": {},
   "source": [
    "The IPUMS R API included both the variables we asked for and some additional variables.\n",
    "\n",
    "We have the demographic variables we requested:\n",
    "\n",
    "Along with more descriptive supplementary versions of some of our demographic variables:\n",
    "\n",
    "And the geographic variables we requested:\n",
    "\n",
    "IPUMS has also included a set of varibles which we did not specifically request but which are always included in the ACS data downloads:"
   ]
  },
  {
   "cell_type": "markdown",
   "id": "f790ed4c-33be-4934-9ebb-9c069a63ced4",
   "metadata": {},
   "source": [
    "At the end of this exercise we have a freshly downloaded dataset from the IPUMS USA repository saved in our workspace."
   ]
  },
  {
   "cell_type": "markdown",
   "id": "3de5cc34-47fb-4be1-a467-a78fddb88ac1",
   "metadata": {},
   "source": [
    "## Recommended Next Steps\n",
    "* **Continue with Chapter 2: IPUMS Data Acquisition and Extraction**\n",
    "  * 2.1: IPUMS USA Data Extraction Using ipumsr\n",
    "  * 2.2: IPUMS CPS Data Extraction Using ipumsr\n",
    "  * 2.3: IPUMS International Microdata Extraction Using ipumsr\n",
    "  * 2.4: IPUMS NHGIS Data Extraction Using ipumsr\n",
    "  * 2.5: IPUMS Time Use Data Extraction Using ipumsr\n",
    "  * 2.6: IPUMS Health Surveys Data Extraction Using ipumsr\n",
    "  * 2.7: Reading IPUMS Global Health Data Extracts Using ipumsr\n",
    "  * 2.8: Reading IPUMS Higher Education Data Extracts Using ipumsr\n",
    "* **Move on to Chapter 3: Data Cleaning and Preparation**\n",
    "  * 3.1: Data Preparation and Transformation with IPUMS ACS"
   ]
  },
  {
   "cell_type": "markdown",
   "id": "38cd4475-fc7d-4935-ace2-db1072757b60",
   "metadata": {},
   "source": [
    "## Quick Code\n",
    "Don't forget to update the code with your IPUMS API key!"
   ]
  },
  {
   "cell_type": "raw",
   "id": "f803b68b-01e2-44ac-bfcb-8fc3703596f6",
   "metadata": {},
   "source": [
    "# install required packages\n",
    "# install.packages(\"ipumsr\")\n",
    "\n",
    "# load required libraries\n",
    "library(ipumsr)\n",
    "\n",
    "# set IPUMS API key\n",
    "ipums_api_key <- \"paste your api key here\"\n",
    "set_ipums_api_key(ipums_api_key, save = T, overwrite = T)\n",
    "\n",
    "# set up the data extract\n",
    "extraction <- define_extract_micro(description = \"IPUMS USA Data Extraction\",\n",
    "                                   collection = \"usa\",\n",
    "                                   sample = \"us2010a\",\n",
    "                                   variables = c(\"PUMA\", \"SEX\", \"AGE\", \"RACE\", \"EDUC\", \"INCTOT\"))\n",
    "\n",
    "# submit extract request and download the files\n",
    "extraction_submitted <- submit_extract(extraction)                  # submit the extract  \n",
    "extraction_complete <- wait_for_extract(extraction_submitted)       # wait for completion\n",
    "extraction_complete$status                                          # check completion\n",
    "filepath <- download_extract(extraction_submitted, overwrite = T)   # get extract filepath\n",
    "\n",
    "# extract the files\n",
    "ddi <- read_ipums_ddi(filepath)\n",
    "dat <- read_ipums_micro(ddi)\n",
    "\n",
    "# save as RDS file\n",
    "saveRDS(dat, \"ipums_usa_example.rds\", )\n",
    "\n",
    "# save as a csv file\n",
    "write.csv(dat, \"ipums_usa_example.csv\")"
   ]
  }
 ],
 "metadata": {
  "kernelspec": {
   "display_name": "R",
   "language": "R",
   "name": "ir"
  },
  "language_info": {
   "codemirror_mode": "r",
   "file_extension": ".r",
   "mimetype": "text/x-r-source",
   "name": "R",
   "pygments_lexer": "r",
   "version": "4.3.3"
  }
 },
 "nbformat": 4,
 "nbformat_minor": 5
}
