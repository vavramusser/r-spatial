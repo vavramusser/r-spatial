{
 "cells": [
  {
   "cell_type": "markdown",
   "id": "7063dfcc-8c48-4753-8afe-f705fe15bd72",
   "metadata": {},
   "source": [
    "# Introduction to the Environmental Protection Agency (EPA) Air Quality System (AQS) Data Repository and the AQS API"
   ]
  },
  {
   "cell_type": "markdown",
   "id": "812db503-950e-479c-8435-5e1beb4dc199",
   "metadata": {},
   "source": [
    "The [**Environmental Protection Agency’s (EPA) Air Quality System (AQS)**](https://aqs.epa.gov/aqsweb/documents/data_api.html) provides access to detailed, historical data on ambient air quality collected across the United States. Developed and maintained by the [United States Environmental Protection Agency (EPA)](https://www.epa.gov), the [Air Quality System (AQS)](https://www.epa.gov/aqs) houses data from thousands of air pollution monitoring stations operated by state, local, tribal, and federal agencies.\n",
    "\n",
    "The EPA Air Quality System (AQS) is a comprehensive repository of air quality monitoring data collected across the United States. Managed by the Environmental Protection Agency (EPA), the AQS includes detailed information on pollutants such as PM2.5, ozone, and carbon monoxide, as well as the geographic locations of monitoring sites. This notebook introduces the AQS, outlines its data structure, and demonstrates how to access and integrate AQS data into spatial analyses using R.\n",
    "\n",
    "### Available Data\n",
    "\n",
    "The AQS offers row-level data on pollutant measurements, site metadata, and meteorological conditions, enabling research in environmental science, public health, and policy. AQS data include information about criteria pollutants like particulate matter (PM2.5 and PM10), ozone, sulfur dioxide, carbon monoxide, nitrogen dioxide, and lead. For a complete list of all pollutants available from the AQS data repository, refer to the [AQS Codes and Descriptions List](https://www.epa.gov/aqs/aqs-code-list)."
   ]
  },
  {
   "cell_type": "markdown",
   "id": "05eb9f4d-7bf6-440a-a926-9e3bef040c2d",
   "metadata": {},
   "source": [
    "## The RAQSAPI R Package\n",
    "\n",
    "The **[RAQSAPI package](https://cran.r-project.org/web/packages/RAQSAPI/index.html)** is a tool for retrieving and managing AQS data in R, facilitating direct, programmatic access to EPA’s air quality database. By interfacing with the AQS API, RAQSAPI enables users to retrieve historical air quality data for specific pollutants, states, moitoring sites, or time periods directly into R for analysis."
   ]
  },
  {
   "cell_type": "markdown",
   "id": "34c6e3ac-9a2d-4f80-9207-c8a9720346fb",
   "metadata": {},
   "source": [
    "## The Air Quality System (AQS) API\n",
    "\n",
    "The RAQSAPI package uses the [**Air Quality System (AQS) API**](https://aqs.epa.gov/aqsweb/documents/data_api.html) to extract data requests from the AQS data repository.\n",
    "\n",
    "An [API (Application Programming Interface)](https://en.wikipedia.org/wiki/API) is a set of rules and protocols that allow different software applications to communicate with each other. APIs enable automated access to data and services, allowing users to retrieve, manipulate, and manage information without directly interacting with a website or user interface.\n",
    "\n",
    "### ★ Create Your AQS API Key ★\n",
    "To submit data requests using the AQS API **you will need to obtain an AQS API key**.  You can get your AQS API key by updating the following link with your email address (replace *myemail@<span>example.com</span>* in the example with your email address) and then navigating to the updated link.\n",
    "\n",
    "*ht<span>tps://aqs.epa.gov/data/api/signup?email=myemail@</span>example.com*\n",
    "\n",
    "An email containing your API key will be sent to the registered address from *aqsdatamart@<span>epa.gov</span>*."
   ]
  },
  {
   "cell_type": "markdown",
   "id": "64814d69-4559-4268-bb53-a182824b43b8",
   "metadata": {},
   "source": [
    "## Recommended Next Steps\n",
    "\n",
    "* **Continue with Chapter 1: Data Sources and APIs**\n",
    "  * 1.1: Introduction to IPUMS and the IPUMS API\n",
    "  * 1.2: Introduciton to Natural Earth\n",
    "  * 1.3: Introduction to Basemaps with ggmap\n",
    "  * 1.5: Introduction to the National Land Cover Database (NLCD)\n",
    "  * 1.6: Introduction to Open Street Map (OSM)\n",
    "  * 1.7: Introduction to Google Earth Engine (GEE)"
   ]
  }
 ],
 "metadata": {
  "kernelspec": {
   "display_name": "R",
   "language": "R",
   "name": "ir"
  },
  "language_info": {
   "codemirror_mode": "r",
   "file_extension": ".r",
   "mimetype": "text/x-r-source",
   "name": "R",
   "pygments_lexer": "r",
   "version": "4.3.3"
  }
 },
 "nbformat": 4,
 "nbformat_minor": 5
}
