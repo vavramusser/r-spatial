{
 "cells": [
  {
   "cell_type": "markdown",
   "id": "ac44d37f-3e32-4ba9-a12a-47aded210918",
   "metadata": {},
   "source": [
    "# Importing Data from [OpenStreetMap (OSM)](https://www.openstreetmap.org) with [osmdata](https://cran.r-project.org/web/packages/osmdata/index.html)\n",
    "### by [Kate Vavra-Musser](https://vavramusser.github.io) for the [R Spatial Notebook Series](https://vavramusser.github.io/r-spatial)"
   ]
  },
  {
   "cell_type": "markdown",
   "id": "df491dbc-46e2-40d1-95b4-7681131589de",
   "metadata": {},
   "source": [
    "## Introduction\n",
    "\n",
    "[**OpenStreetMap (OSM)**](https://www.openstreetmap.org) is a collaborative, open-source mapping platform that provides rich geographic data contributed by a global community of volunteers. OSM includes information on streets, buildings, amenities, and natural features, making it a valuable resource for spatial analysis and mapping.\n",
    "\n",
    "### Notebook Goals\n",
    "In this notebook, we will explore how to use [rosmdata](https://cran.r-project.org/web/packages/osmdata/index.html) to import data from Open Street Map (OSM).\n",
    "\n",
    "### ✨ Prerequisites ✨\n",
    "* Complete [Chapter 1.3 Introduction to OpenStreetMap (OSM)](https://platform.i-guide.io/notebooks/e7796dde-de2e-4745-a9e3-5880d2f28803)\n",
    "\n",
    "### Notebook Overview\n",
    "1. Setup\n",
    "2. Explore Available Data from OSM\n",
    "3. Download and Save Data from OSM"
   ]
  },
  {
   "cell_type": "markdown",
   "id": "ce0db12b-e43e-4a0d-98a7-4ae6c6b0d054",
   "metadata": {},
   "source": [
    "## 1. Setup\n",
    "This section will guide you through the process of installing essential packages.\n",
    "\n",
    "#### Required Packages\n",
    "\n",
    "[**ggplot2**](https://cran.r-project.org/web/packages/ggplot2/index.html) · Create Elegant Data Visualisations Using the Grammar of Graphics · A system for *declaratively* creating graphics, based on *The Grammar of Graphics*. You provide the data, tell *ggplot2* how to map variables to aesthetics, what graphical primitives to use, and it takes care of the details. · This notebook uses the following functions from *ggplot2*.\n",
    "\n",
    "* *CoordSf* · visualize sf objects\n",
    "  * *geom_sf* · geometric objects (points, lines, or polygons)\n",
    "* [*ggplot*](https://rdrr.io/cran/ggplot2/man/ggplot.html) · create a new ggplot\n",
    "\n",
    "[**osmdata**](https://cran.r-project.org/web/packages/osmdata/index.html) · Import [OpenStreetMap](https://www.openstreetmap.org) with Data as Simple Features or Spatial Objects.  This notebook uses the following functions from *osmdata*.\n",
    "\n",
    "* [*add_osm_feature*](https://rdrr.io/cran/osmdata/man/add_osm_feature.html) · add a feature to an Overpass query\n",
    "* [*opq*](https://rdrr.io/cran/osmdata/man/opq.html) · build an Overpass query\n",
    "* [*osmdata_sf*](https://rdrr.io/cran/osmdata/man/osmdata_sf.html) · Rreturn an OSM Overpass query as an osmdata object in *sf* format\n",
    "\n",
    "[**sf**](https://cran.r-project.org/web/packages/sf/index.html) · Support for [simple features](https://r-spatial.github.io/sf/articles/sf1.html), a standardized way to encode spatial vector data - Binds to [*GDAL*](https://gdal.org/en/stable) for reading and writing data, to [*GEOS*](https://libgeos.org) for geometrical operations, and to [*PROJ*](https://proj.org/en/stable) for projection conversions and datum transformations - Uses by default the [*s2*](https://cran.r-project.org/web/packages/s2/index.html) package for spherical geometry operations on ellipsoidal (long/lat) coordinates · This notebook uses the following functions from *sf*.\n",
    "\n",
    "* [*st_geometry*](https://rdrr.io/cran/sf/man/st_geometry.html) · get, set, replace or rename geometry from an sf object\n",
    "* [*st_write*](https://rdrr.io/cran/sf/man/st_write.html) · write simple features object to file or database"
   ]
  },
  {
   "cell_type": "markdown",
   "id": "a005c5cf-dcc2-4399-a1cf-d2a5728500b0",
   "metadata": {},
   "source": [
    "### 1a. Install and Load Required Packages\n",
    "If you have not already installed the required packages, uncomment and run the code below:"
   ]
  },
  {
   "cell_type": "code",
   "execution_count": 38,
   "id": "893ef8ad-c76f-4077-8eb3-986c3aca0784",
   "metadata": {},
   "outputs": [],
   "source": [
    "# install.packages(\"ggplot2\", \"osmdata\", \"sf\")"
   ]
  },
  {
   "cell_type": "markdown",
   "id": "594e5c55-bb8e-4105-b211-6c45c53bc2e4",
   "metadata": {},
   "source": [
    "Load the packages into your workspace."
   ]
  },
  {
   "cell_type": "code",
   "execution_count": 37,
   "id": "6ed08ba2-841d-48d7-aa17-a67eb8815e09",
   "metadata": {},
   "outputs": [],
   "source": [
    "library(ggplot2)\n",
    "library(osmdata)\n",
    "library(sf)"
   ]
  },
  {
   "cell_type": "markdown",
   "id": "bc1aa84a-62b0-4b67-9afd-565940afb0be",
   "metadata": {},
   "source": [
    "## 2. Explore Available Data from OpenStreetMap\n",
    "\n",
    "For this exercise, we will be using the **osmdata** R package to access OSM data via the *Overpass API*, OSM's native API.  Advanced users can learn more about the API by reviewing the [Overpass API User's Manual](https://dev.overpass-api.de/overpass-doc/en).\n",
    "\n",
    "### 2a. Review the List Data Types\n",
    "\n",
    "When using the Overapp API, you will need to specify the type of feature or features you are interested in extracting.  OSM includes a wide range and variety of features and users have access to all data available from the OSM platform.  To specify the specific feature type you are interested in, you will need to pass the feature's key to your API call.\n",
    "\n",
    "Use the [Map Features page from the OSM Wiki](https://wiki.openstreetmap.org/wiki/Map_features) to review available feature types and their respective keys.\n",
    "\n",
    "While using OSM and OSM data, rememember that OSM has been populated by volunteered user input.  Therefore, while OSM is a fantastic data source, you should not necessairly assume that the data included in OSM is exhaustive.  Additionally, many OSM features are region- or culture-specifc and may not be relevant for all queries.  Features might also have slightly different meanings in different regions, due to differences in cultural or regional definitions of terms and concepts.  Some feature types are less specific than others and many feature types overlap one another.  A given feature may be tagged with more than one feature tag.  OSM data users should remember that feature categorization might not be uniform, even in the same geographic area.\n",
    "\n",
    "For example, OSM includes feature tags for amenities, including the *sustenance* sub-cateogry which includes feature tags for *bar*, *biergarten*, *cafe*, *fast_food*, *food_court*, *ice_cream*, *pub*, and *restaurant* and the specific tags used for a given feature is at the discretion of the OSM volunteer contributors and editors.  A informal-type location which serves casual meals and beverages including alcohol may arguably be tagged using some combination of one or more of *bar*, *biergarten*, *cafe*, *fast_food*, *pub*, and *restaurant*.\n",
    "\n",
    "Users should consider the likely volume of users who are interested in contributing to and updating OSM's data for their specific area of interest.  A major city or touist destination in a country with a high volume of OSM users, such as the United States, Germany, and Indonesia, is likely to see see a high volume of contributions, updates, and corrections and is more likely to be up-to-date and complete.  While remote areas, areas with low population, informal settlements, and countries with low OSM useage might see little to no OSM contribution or may be slow to update and correct existing information.  Some countries, such as North Korea, Pakistan, and Somalia have low OSM data due to government restrictions."
   ]
  },
  {
   "cell_type": "markdown",
   "id": "d144201b-3059-4718-8fec-3aeb613ffc79",
   "metadata": {},
   "source": [
    "## 3. Download and Save Data from OpenStreetMap\n",
    "\n",
    "...\n",
    "\n",
    "### 3a Primary and Secondary Highway Data for the City of Chicago\n",
    "\n",
    "OSM provides datasets across three scales:\n",
    "\n",
    "* Small scale (1:110 meters): Best for global or continental-scale analysis.\n",
    "* Medium scale (1:50 meters): Useful for regional or country-level analysis.\n",
    "* Large scale (1:10 meters): Provides the most detailed data, suitable for local-level analysis.\n",
    "\n",
    "Extracting data from OSM requires users to specify a bounding box or indicating the spatial extent of the search area for extracting data.  For this exercise, we will explore only data within the city of Chicago.  The step below defines the Chicago bounding box and saves it to the variable *bbox*.  The bounding box is defined using the latitude and longitude coorinates of the corners of the bounding box."
   ]
  },
  {
   "cell_type": "code",
   "execution_count": 4,
   "id": "4f919183-a5b1-49cd-9efd-97f84ee14468",
   "metadata": {},
   "outputs": [],
   "source": [
    "# define bounding box and get OSM basemap data\n",
    "# this is the bounding box for the city of Chicago\n",
    "bbox <- c(-87.94011, 41.64454, -87.52414, 42.02304)"
   ]
  },
  {
   "cell_type": "markdown",
   "id": "c6ace009-49ec-4c58-b27f-6dbce93e230b",
   "metadata": {},
   "source": [
    "For this exercise we will use *opq*, *add_osm_feature*, and *osmdata-sf* functions from the ***osmdata*** package to set up an API query using the Overpass API.\n",
    "\n",
    "First, we can set up the base query using *opq*.  At minimum, this function requires a bounding box (*bbox*) so we will pass it the bounding box we previous created in the previous step."
   ]
  },
  {
   "cell_type": "code",
   "execution_count": 5,
   "id": "3dada0fa-cca6-4309-b15b-bb30780ace20",
   "metadata": {},
   "outputs": [],
   "source": [
    "query <- opq(bbox = bbox)"
   ]
  },
  {
   "cell_type": "markdown",
   "id": "2abfac95-2793-4866-8bc5-1f3e043b6125",
   "metadata": {},
   "source": [
    "For this exercise, we will download the primary highways in the city of Chicago.  We want the querty to will retun all major highways which are located within or pass through the bounding box we specified in the step above.  To specify that we want primary highways, we will use the *add_osm_feature* function to indicate the type of data we are looking for.  Here we need to include both the key \"highway\" to indicate we are searching within the broad highway category, as well as the \"primary\" value to indicate that we want only primary highways as well as passing the querty information we created in the previous step."
   ]
  },
  {
   "cell_type": "code",
   "execution_count": 9,
   "id": "5dfccc9e-40e8-4df3-a491-56e92aaf5677",
   "metadata": {},
   "outputs": [],
   "source": [
    "feature_query <- add_osm_feature(query, key = \"highway\", value = \"primary\")"
   ]
  },
  {
   "cell_type": "markdown",
   "id": "b3834bfb-be79-4b2a-b705-93f26550e1ef",
   "metadata": {},
   "source": [
    "Finally, the last thing we need to do is specify that we want the query to be retuned as an *sf* object.  We'll pass the *feature_query* information to the *osmdata_sf* function from the ***osmdata*** package and outout the result to a new object called *chicago_highways_primary*."
   ]
  },
  {
   "cell_type": "code",
   "execution_count": 14,
   "id": "96b24160-c784-462e-bdc4-9d0d751aa314",
   "metadata": {},
   "outputs": [],
   "source": [
    "# download primary highway data\n",
    "chicago_highways_primary <- osmdata_sf(feature_query)"
   ]
  },
  {
   "cell_type": "markdown",
   "id": "349b0dd2-c287-49d7-b64e-d2bc26e9aeae",
   "metadata": {},
   "source": [
    "This notebook steps the user through each embedded step in the process to set up an OSM Overpass API query.  However, all steps can be combined in the same line of code to achieve the same result."
   ]
  },
  {
   "cell_type": "code",
   "execution_count": 30,
   "id": "eb714e93-fa54-424d-a47b-f1323a3082ed",
   "metadata": {},
   "outputs": [],
   "source": [
    "# download primary highway data (one-line version)\n",
    "chicago_highways_primary <- osmdata_sf(add_osm_feature(opq(c(-87.94011, 41.64454, -87.52414, 42.02304)),\n",
    "                                                       key = \"highway\", value = \"primary\"))"
   ]
  },
  {
   "cell_type": "markdown",
   "id": "bbbc27af-ade1-49d8-bc2b-fb377fb653e0",
   "metadata": {},
   "source": [
    "Let's take a look at the object returned by this query."
   ]
  },
  {
   "cell_type": "code",
   "execution_count": 15,
   "id": "0894591a-de31-4f59-86d8-6f06228d1384",
   "metadata": {},
   "outputs": [
    {
     "name": "stderr",
     "output_type": "stream",
     "text": [
      "Object of class 'osmdata' with:\n",
      "                 $bbox : 41.64454,-87.94011,42.02304,-87.52414\n",
      "        $overpass_call : The call submitted to the overpass API\n",
      "                 $meta : metadata including timestamp and version numbers\n",
      "           $osm_points : 'sf' Simple Features Collection with 14473 points\n",
      "            $osm_lines : 'sf' Simple Features Collection with 4844 linestrings\n",
      "         $osm_polygons : 'sf' Simple Features Collection with 0 polygons\n",
      "       $osm_multilines : NULL\n",
      "    $osm_multipolygons : NULL\n",
      "\n",
      "\n"
     ]
    }
   ],
   "source": [
    "chicago_highways_primary"
   ]
  },
  {
   "cell_type": "markdown",
   "id": "020ecf7a-b5a1-4e98-bbce-781537249e56",
   "metadata": {},
   "source": [
    "The *chicago_highways_primary* object is a simple features (*sf*) object which includes 14,473 points and 4,844 lines.  Viewing the metadata also shows us the original bounding box we used in the API call.\n",
    "\n",
    "Let's make a simple plot of the line features in the *chicago_highways_primary* object using the base R *plot* function."
   ]
  },
  {
   "cell_type": "code",
   "execution_count": 27,
   "id": "6f683fdb-d2c4-4d08-a0d9-1cb61a71f7ba",
   "metadata": {},
   "outputs": [
    {
     "data": {
      "image/png": "[encoded data removed]",
      "text/plain": [
       "plot without title"
      ]
     },
     "metadata": {
      "image/png": {
       "height": 420,
       "width": 420
      }
     },
     "output_type": "display_data"
    }
   ],
   "source": [
    "plot(st_geometry(chicago_highways_primary$osm_lines))"
   ]
  },
  {
   "cell_type": "markdown",
   "id": "fc685f71-f5ec-4962-b285-3859629cc6e6",
   "metadata": {},
   "source": [
    "The simple map shows us the primary highways of Chicago represented by linestrings.\n",
    "\n",
    "Next, let's walk through the same process to download secondary highways in the same area representing the city of Chicago.  The API call will be exactly the same except this time we will set the *value* parameter in the *add_osm_feature function to \"secondary\" rather than \"primary\".  This query will take considerably longer to complete since there are far more secondary highways than primary highways in our search area."
   ]
  },
  {
   "cell_type": "code",
   "execution_count": 31,
   "id": "c6847f7f-327a-4942-a4b8-a7408d4ff73d",
   "metadata": {},
   "outputs": [],
   "source": [
    "# download secondary highway data\n",
    "chicago_highways_secondary <- osmdata_sf(add_osm_feature(opq(c(-87.94011, 41.64454, -87.52414, 42.02304)),\n",
    "                                                       key = \"highway\", value = \"secondary\"))"
   ]
  },
  {
   "cell_type": "markdown",
   "id": "b40bab9a-14ed-4ae5-93e8-56ff53b787b9",
   "metadata": {},
   "source": [
    "Let's take a quick look at the metadata for the Chicago secondary highways."
   ]
  },
  {
   "cell_type": "code",
   "execution_count": 33,
   "id": "a25d0670-cb2f-4a94-90f3-6e57becd90cc",
   "metadata": {},
   "outputs": [
    {
     "name": "stderr",
     "output_type": "stream",
     "text": [
      "Object of class 'osmdata' with:\n",
      "                 $bbox : 41.64454,-87.94011,42.02304,-87.52414\n",
      "        $overpass_call : The call submitted to the overpass API\n",
      "                 $meta : metadata including timestamp and version numbers\n",
      "           $osm_points : 'sf' Simple Features Collection with 51400 points\n",
      "            $osm_lines : 'sf' Simple Features Collection with 15450 linestrings\n",
      "         $osm_polygons : 'sf' Simple Features Collection with 0 polygons\n",
      "       $osm_multilines : NULL\n",
      "    $osm_multipolygons : NULL\n",
      "\n",
      "\n"
     ]
    }
   ],
   "source": [
    "chicago_highways_secondary"
   ]
  },
  {
   "cell_type": "markdown",
   "id": "fa0c5bb2-d02e-431e-ab88-b3fb38e0fc0d",
   "metadata": {},
   "source": [
    "The data include 51,400 points and 15,450 linestrings representing the Chicago secondary highway data.\n",
    "\n",
    "Let's make a quick map to view the secondary highways."
   ]
  },
  {
   "cell_type": "code",
   "execution_count": 32,
   "id": "11481487-8dca-426f-9e5b-d45bab8e2c5e",
   "metadata": {},
   "outputs": [
    {
     "data": {
      "image/png": "[encoded data removed]",
      "text/plain": [
       "plot without title"
      ]
     },
     "metadata": {
      "image/png": {
       "height": 420,
       "width": 420
      }
     },
     "output_type": "display_data"
    }
   ],
   "source": [
    "plot(st_geometry(chicago_highways_secondary$osm_lines))"
   ]
  },
  {
   "cell_type": "markdown",
   "id": "f4859a8c-e915-4da6-8f47-bda212475777",
   "metadata": {},
   "source": [
    "We now have two sets of data extracted from the OpenStreetMap platform, primary and secondary highways from the Chicago metropolitain area.\n",
    "\n",
    "Let's make a map with both highway types.  Since this map includes two sets of vector features and is therefore a little more complicated, let's use a very simple *ggplot* setup using functions from the *ggplot2* package rather than the base R *plot* function.  The following setup first initiallizes a ggplot using the *ggplot* function and then adds the two highway datasets as *sf* objects to the plot space using the *geom_sf* function.  We'll specify a red color for the primary highways and a gray color for the secondary highways.  We'll also specify that the plot should use the ggplot minimal theme by adding the *theme_minimal* funciton, this will make the map a little cleaner and easier to view than the defauly ggplot theme."
   ]
  },
  {
   "cell_type": "code",
   "execution_count": 40,
   "id": "f8ae7ca2-cec7-4279-963c-853d90475512",
   "metadata": {},
   "outputs": [
    {
     "data": {
      "image/png": "[encoded data removed]",
      "text/plain": [
       "plot without title"
      ]
     },
     "metadata": {
      "image/png": {
       "height": 420,
       "width": 420
      }
     },
     "output_type": "display_data"
    }
   ],
   "source": [
    "# plot the basemap and overlay\n",
    "ggplot() +\n",
    "  geom_sf(data = chicago_highways_primary$osm_lines, color = \"red\") +\n",
    "  geom_sf(data = chicago_highways_secondary$osm_lines, color = \"gray\") +\n",
    "  theme_minimal()"
   ]
  },
  {
   "cell_type": "markdown",
   "id": "792516bc-4be7-49fe-9ce7-9bd6de83c2c1",
   "metadata": {},
   "source": [
    "The result is a simple map of Chicago highways, entirely using OSM data we extracted from the OSM database directly to our workspace.  We can continue to refine our map, use the data in other projects within our R workspace, or save the data to our local machine."
   ]
  },
  {
   "cell_type": "markdown",
   "id": "31c0fc38-bba7-4cf6-9631-2a987c5323ef",
   "metadata": {},
   "source": [
    "---\n",
    "\n",
    "## Next Steps\n",
    "\n",
    "* Move on to Chapter 6: Mapping and Visualization\n",
    "  * [**Chapter 6.1 Visualization and Quick Plots**](https://platform.i-guide.io/notebooks/dfe8fd72-f896-4dd2-9d61-6d9982394f1f)\n",
    "  * [**Chapter 6.2 Mapping Point and Polygon Data**](https://platform.i-guide.io/notebooks/2b9f579c-32b0-4078-af39-994bb31d50ec)\n",
    "  * [**Chapter 6.3 Choropleth Mapping**](https://platform.i-guide.io/notebooks/f2f973df-2412-49f0-ad39-d80051f20d4d)\n",
    "* Return to the [**R Spatial Notebooks Project Chapter List**](https://vavramusser.github.io/r-spatial/#:~:text=R%20Spatial%20Notebooks%20Chapter%20List) to view a list of all available notebooks organized in the R Spatial Notebooks chapter structure.\n",
    "* Visit the [**R Spatial Notebooks Project Homepage**](https://vavramusser.github.io/r-spatial) to learn more about the project, view the list of all notebooks, and explore additional resources.\n",
    "* Join the project [**Mailing List**](https://mailchi.mp/ab01e8fc8397/r-spatial-email-signup) to hear about future notebook releases and other updates.\n",
    "* If you have an idea for a new notebook please submit your idea via the [**Suggestion Box**](https://us19.list-manage.com/survey?u=746bf8d366d6fbc99c699e714&id=54590a28ea&attribution=false).\n",
    "\n",
    "---\n",
    "\n",
    "## ★ Thank You ★\n",
    "\n",
    "Thank you so much for engaging with this notebook and supporting the project!  The R Spatial Notebooks Project is a labor of love so if you enjoy or benefit from these notebooks, please consider [**Donating to the Project**](https://buymeacoffee.com/vavramusser).  Your support allows me to continue producing notebooks and supporting the R Spatial Notebooks community."
   ]
  }
 ],
 "metadata": {
  "kernelspec": {
   "display_name": "R",
   "language": "R",
   "name": "ir"
  },
  "language_info": {
   "codemirror_mode": "r",
   "file_extension": ".r",
   "mimetype": "text/x-r-source",
   "name": "R",
   "pygments_lexer": "r",
   "version": "4.3.3"
  }
 },
 "nbformat": 4,
 "nbformat_minor": 5
}
