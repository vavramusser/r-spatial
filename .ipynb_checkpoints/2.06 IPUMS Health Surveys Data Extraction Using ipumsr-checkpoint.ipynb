{
 "cells": [
  {
   "cell_type": "markdown",
   "id": "5c578a64-4d4a-4721-958c-800506510b16",
   "metadata": {},
   "source": [
    "# IPUMS Health Surveys Data Extraction Using ipumsr"
   ]
  },
  {
   "cell_type": "markdown",
   "id": "dda02f5e-fa65-4398-b630-c51d09cea26d",
   "metadata": {},
   "source": [
    "## Introduction\n",
    "\n",
    "The [IPUMS Health Surveys](https://healthsurveys.ipums.org) database offers harmonized microdata from the [National Health Interview Survey (NHIS)](https://www.cdc.gov/nchs/nhis/index.html) and the [Medical Expenditure Panel Survey (MEPS)](https://meps.ahrq.gov/mepsweb), providing detailed information on population health, healthcare access, and medical expenditures. It enables researchers to analyze trends in health outcomes, insurance coverage, and healthcare utilization across time and demographic groups. Through harmonization, IPUMS Health Surveys ensures data can be seamlessly compared across survey years, addressing changes in survey design, variable definitions, and geographic classifications.\n",
    "\n",
    "**From the [IPUMS Health Surveys Website](https://healthsurveys.ipums.org):** IPUMS Health Surveys provide free individual-level survey data for research purposes from two leading sources of self-reported health and health care access information: the National Health Interview Survey (NHIS) and the Medical Expenditure Panel Survey (MEPS).\n",
    "\n",
    "The IPUMS Health Surveys database organized into the following two subsections, based on data source:\n",
    "\n",
    "* [National Health Interview Survey (NHIS)](https://nhis.ipums.org/nhis): The National Health Interview Survey (NHIS) provides harmonized annual microdata from the 1960s to the present.\n",
    "* [Medical Expenditure Panel Survey (MEPS)](https://meps.ipums.org/meps): The Medical Expenditure Panel Survey (MEPS) provides harmonized microdata from the longitudinal survey of U.S. health care expenditures and utilization, covering the period 1996 to the present.\n",
    "\n",
    "This notebook introduces the process of extracting [IPUMS Health Surveys](https://healthsurveys.ipums.org) data using the [IPUMS API](https://developer.ipums.org/docs/v2/apiprogram) via the [ipumsr R package](https://cran.r-project.org/web/packages/ipumsr/index.html). Users will learn how to define, submit, and download an IPUMS Health Surveys data extract, specifying desired variables, time periods, and geographic units for analysis. By the end of this notebook, users will have the skills to efficiently acquire customized IPUMS Health Surveys datasets and prepare them for spatial and statistical workflows.\n",
    "\n",
    "### ★ Prerequisites ★\n",
    "* Complete Chapter 1.1: Introduction to IPUMS and the IPUMS API\n",
    "* Set Up Your [IPUMS Account and API Key](https://account.ipums.org/api_keys)\n",
    "\n",
    "### Notebook Overview\n",
    "1. Setup\n",
    "2. IPUMS National Health Interview Series (NHIS) Metadata Exploration\n",
    "3. IPUMS National Health Interview Series (NHIS) Data Extraction Specification and Submission\n",
    "4. IPUMS Medical Expenditures Panel Survey (MEPS) Metadata Exploration\n",
    "5. IPUMS Medical Expenditures Panel Survey (MEPS) Data Extraction Specification and Submission"
   ]
  },
  {
   "cell_type": "markdown",
   "id": "500f6e8f-3e19-461c-a596-6ee38dcadb81",
   "metadata": {},
   "source": [
    "## 1. Setup\n",
    "This section will guide you through the process of installing essential packages and setting your IPUMS API key.\n",
    "\n",
    "##### Required Packages\n",
    "\n",
    "[**ipumsr**](https://cran.r-project.org/web/packages/ipumsr/index.html) A package for interacting with IPUMS datasets and the IPUMS API. It allows users to define and submit data extraction requests, download data, and read it directly into R for analysis.  This notebook uses the the following functions from *ipumsr*.\n",
    "\n",
    "* *set_ipums_api_key()* for setting your IPUMS API key\n",
    "* *get_sample_info()* for retrieving sample identification codes and descriptions for IPUMS microdata collections\n",
    "* *get_metadata_nhgis()* for listing available data sources from IPUMS NHGIS\n",
    "* *define_extract_micro()* for defining the parameters of an IPUMS microdata extract request to be submitted via the IPUMS API\n",
    "* *define_extract_nhgis()* for defining an IPUMS NHGIS extract request\n",
    "* *tst_spec()* for creating a tst_spec object containing a time-series table specification\n",
    "* *submit_exract()* for submitting an extract request via the IPUMS API and return an *ipums_extract* object\n",
    "* *wait_for_extract()* wait for an extract to finish processing\n",
    "* *download_extract()* download an extract's data files\n",
    "* *read_ipums_ddi()* for reading metadata about an IPUMS microdata extract from a DDI codebook (.xml) file\n",
    "* *read_ipums_micro()* for reading data from an IPUMS microdata extract\n",
    "* *read_nhgis()* for reading tabular data from an NHGIS extract\n",
    "* *read_ipums_sf()* for reading spatial data from an IPUMS extract"
   ]
  },
  {
   "cell_type": "markdown",
   "id": "bb9432cd-1d12-4290-bb5b-c624c9a388e2",
   "metadata": {},
   "source": [
    "### 1a. Install and Load Required Packages\n",
    "If you have not already installed the required packages, uncomment and run the code below:"
   ]
  },
  {
   "cell_type": "code",
   "execution_count": null,
   "id": "b216c3df-15f9-488f-9e56-ea384a848826",
   "metadata": {},
   "outputs": [],
   "source": [
    "# install.packages(c(\"dplyr\", \"ipumsr\", \"stringr\"))"
   ]
  },
  {
   "cell_type": "markdown",
   "id": "3cd9eb54-acd5-4baf-886c-cc5a35978451",
   "metadata": {},
   "source": [
    "Load the packages into your workspace."
   ]
  },
  {
   "cell_type": "code",
   "execution_count": 8,
   "id": "a586fda9-d65e-48c4-9341-1f2b3db3e1a3",
   "metadata": {},
   "outputs": [
    {
     "name": "stderr",
     "output_type": "stream",
     "text": [
      "\n",
      "Attaching package: 'dplyr'\n",
      "\n",
      "\n",
      "The following objects are masked from 'package:stats':\n",
      "\n",
      "    filter, lag\n",
      "\n",
      "\n",
      "The following objects are masked from 'package:base':\n",
      "\n",
      "    intersect, setdiff, setequal, union\n",
      "\n",
      "\n"
     ]
    }
   ],
   "source": [
    "library(dplyr)\n",
    "library(ipumsr)\n",
    "library(stringr)"
   ]
  },
  {
   "cell_type": "markdown",
   "id": "06f9a97a-949e-4ba0-99c0-19608949dfcf",
   "metadata": {},
   "source": [
    "#### 1b. Set Your IPUMS API Key\n",
    "\n",
    "Store your [IPUMS API key](https://account.ipums.org/api_keys) in your environment using the following code.\n",
    "\n",
    "Refer to *Chapter 1.1: Introduction to IPUMS and the IPUMS API* for instructions on setting up your IPUMS account and API key."
   ]
  },
  {
   "cell_type": "code",
   "execution_count": 2,
   "id": "8f275371-6941-45cf-9fe8-ab830a5a9740",
   "metadata": {},
   "outputs": [
    {
     "name": "stdin",
     "output_type": "stream",
     "text": [
      "Please enter your IPUMS API key:  59cba10d8a5da536fc06b59dd85f877c475a4c7d96dd08a9ce04d9d0\n"
     ]
    },
    {
     "name": "stderr",
     "output_type": "stream",
     "text": [
      "Existing .Renviron file copied to C:\\Users\\vavra\\Documents/.Renviron_backup for backup purposes.\n",
      "\n",
      "The environment variable IPUMS_API_KEY has been set and saved for future sessions.\n",
      "\n"
     ]
    }
   ],
   "source": [
    "ipumps_api_key = readline(\"Please enter your IPUMS API key: \")\n",
    "set_ipums_api_key(ipumps_api_key, save = T, overwrite = T)"
   ]
  },
  {
   "cell_type": "markdown",
   "id": "f3db7904-ccea-4e43-84c9-7858f42f6086",
   "metadata": {},
   "source": [
    "nhis\n",
    "meps"
   ]
  },
  {
   "cell_type": "markdown",
   "id": "44910989-5772-4af8-9ae6-73779b97d611",
   "metadata": {},
   "source": [
    "## 2. IPUMS National Health Interview Series (NHIS) Metadata Exploration\n",
    "\n",
    "From the [**IPUMS National Health Interview Series (NHIS) Webpage**](https://nhis.ipums.org/nhis): The National Health Interview Survey is a survey collecting information on the health, health care access, and health behaviors of the civilian, non-institutionalized U.S. population, with digital data files available from 1963 to present. IPUMS Health Surveys harmonizes these data and allows users to create custom NHIS data extracts for analysis.\n",
    "\n",
    "### 2a. Review the List of Samples"
   ]
  },
  {
   "cell_type": "code",
   "execution_count": 4,
   "id": "7924e1d2-609e-47d7-a6dd-c2f96de05036",
   "metadata": {},
   "outputs": [
    {
     "data": {
      "text/html": [
       "<style>\n",
       ".list-inline {list-style: none; margin:0; padding: 0}\n",
       ".list-inline>li {display: inline-block}\n",
       ".list-inline>li:not(:last-child)::after {content: \"\\00b7\"; padding: 0 .5ex}\n",
       "</style>\n",
       "<ol class=list-inline><li>61</li><li>2</li></ol>\n"
      ],
      "text/latex": [
       "\\begin{enumerate*}\n",
       "\\item 61\n",
       "\\item 2\n",
       "\\end{enumerate*}\n"
      ],
      "text/markdown": [
       "1. 61\n",
       "2. 2\n",
       "\n",
       "\n"
      ],
      "text/plain": [
       "[1] 61  2"
      ]
     },
     "metadata": {},
     "output_type": "display_data"
    }
   ],
   "source": [
    "# retrive and view the list of samples from the IPUMS USA database\n",
    "metadata_nhis <- get_sample_info(\"nhis\")\n",
    "\n",
    "# view the dimensions of the list of samples\n",
    "dim(metadata_nhis)"
   ]
  },
  {
   "cell_type": "code",
   "execution_count": 5,
   "id": "1a7ef288-9f10-4300-989f-3683a790baf5",
   "metadata": {},
   "outputs": [
    {
     "data": {
      "text/html": [
       "<table class=\"dataframe\">\n",
       "<caption>A tibble: 6 × 2</caption>\n",
       "<thead>\n",
       "\t<tr><th scope=col>name</th><th scope=col>description</th></tr>\n",
       "\t<tr><th scope=col>&lt;chr&gt;</th><th scope=col>&lt;chr&gt;</th></tr>\n",
       "</thead>\n",
       "<tbody>\n",
       "\t<tr><td>ih1968</td><td>1968 NHIS</td></tr>\n",
       "\t<tr><td>ih1969</td><td>1969 NHIS</td></tr>\n",
       "\t<tr><td>ih1970</td><td>1970 NHIS</td></tr>\n",
       "\t<tr><td>ih1971</td><td>1971 NHIS</td></tr>\n",
       "\t<tr><td>ih1972</td><td>1972 NHIS</td></tr>\n",
       "\t<tr><td>ih1973</td><td>1973 NHIS</td></tr>\n",
       "</tbody>\n",
       "</table>\n"
      ],
      "text/latex": [
       "A tibble: 6 × 2\n",
       "\\begin{tabular}{ll}\n",
       " name & description\\\\\n",
       " <chr> & <chr>\\\\\n",
       "\\hline\n",
       "\t ih1968 & 1968 NHIS\\\\\n",
       "\t ih1969 & 1969 NHIS\\\\\n",
       "\t ih1970 & 1970 NHIS\\\\\n",
       "\t ih1971 & 1971 NHIS\\\\\n",
       "\t ih1972 & 1972 NHIS\\\\\n",
       "\t ih1973 & 1973 NHIS\\\\\n",
       "\\end{tabular}\n"
      ],
      "text/markdown": [
       "\n",
       "A tibble: 6 × 2\n",
       "\n",
       "| name &lt;chr&gt; | description &lt;chr&gt; |\n",
       "|---|---|\n",
       "| ih1968 | 1968 NHIS |\n",
       "| ih1969 | 1969 NHIS |\n",
       "| ih1970 | 1970 NHIS |\n",
       "| ih1971 | 1971 NHIS |\n",
       "| ih1972 | 1972 NHIS |\n",
       "| ih1973 | 1973 NHIS |\n",
       "\n"
      ],
      "text/plain": [
       "  name   description\n",
       "1 ih1968 1968 NHIS  \n",
       "2 ih1969 1969 NHIS  \n",
       "3 ih1970 1970 NHIS  \n",
       "4 ih1971 1971 NHIS  \n",
       "5 ih1972 1972 NHIS  \n",
       "6 ih1973 1973 NHIS  "
      ]
     },
     "metadata": {},
     "output_type": "display_data"
    }
   ],
   "source": [
    "# view the first few lines of the list of samples\n",
    "head(metadata_nhis)"
   ]
  },
  {
   "cell_type": "markdown",
   "id": "7e21c1ae-8535-41b6-973c-4e15dedef687",
   "metadata": {},
   "source": [
    "Refer to the [Descriptions of IPUMS NHIS Samples](https://nhis.ipums.org/nhis/surveys.shtml) page on the IPUMS NHIS website."
   ]
  },
  {
   "cell_type": "code",
   "execution_count": 9,
   "id": "e320033a-150f-42e4-a56f-4512d689c00e",
   "metadata": {},
   "outputs": [
    {
     "data": {
      "text/html": [
       "<table class=\"dataframe\">\n",
       "<caption>A tibble: 1 × 2</caption>\n",
       "<thead>\n",
       "\t<tr><th scope=col>name</th><th scope=col>description</th></tr>\n",
       "\t<tr><th scope=col>&lt;chr&gt;</th><th scope=col>&lt;chr&gt;</th></tr>\n",
       "</thead>\n",
       "<tbody>\n",
       "\t<tr><td>ih2000</td><td>2000 NHIS</td></tr>\n",
       "</tbody>\n",
       "</table>\n"
      ],
      "text/latex": [
       "A tibble: 1 × 2\n",
       "\\begin{tabular}{ll}\n",
       " name & description\\\\\n",
       " <chr> & <chr>\\\\\n",
       "\\hline\n",
       "\t ih2000 & 2000 NHIS\\\\\n",
       "\\end{tabular}\n"
      ],
      "text/markdown": [
       "\n",
       "A tibble: 1 × 2\n",
       "\n",
       "| name &lt;chr&gt; | description &lt;chr&gt; |\n",
       "|---|---|\n",
       "| ih2000 | 2000 NHIS |\n",
       "\n"
      ],
      "text/plain": [
       "  name   description\n",
       "1 ih2000 2000 NHIS  "
      ]
     },
     "metadata": {},
     "output_type": "display_data"
    }
   ],
   "source": [
    "# filter the list of samples by year\n",
    "metadata_nhis %>% filter(str_detect(description, \"2000\"))"
   ]
  },
  {
   "cell_type": "markdown",
   "id": "b487aca4-7d40-4de3-a914-a7352fc3163e",
   "metadata": {},
   "source": [
    "## 3. IPUMS NHIS Data Extraction Specification and Submission\n",
    "\n",
    "Once we know the dataset and variable selection we want, we can define our data extraction using the *define_extract_micro* function from the *ipumsr* package.  This function requires the following parameters:\n",
    "\n",
    "### 3a. Define the Data Extract\n",
    "\n",
    "For this example we will use the 2020 NHIS sample.\n",
    "\n",
    "**Variable Selection**\n",
    "* Regin of Residence (REGION)\n",
    "* Health Status (HEALTH)\n",
    "* Health Insurance Coverage Status (HINOTCOVE)\n",
    "* Ever Told Had Hypertension on 2+ Visits (HYP2TIME)\n",
    "* Ever Smoked 100 Cigarettes in Life (SMOKEV)\n",
    "* Frequency of Vigorous Activity 10+ Minutes: Times per Week (VIG10FWK)\n",
    "\n",
    "By default, the data extraction will also include a number of IPUMS preselected variables.  These variables include metainformation such as identification codes and survey weights.  We will explore and list the preselected variables after completing the data extraction.\n",
    "\n",
    "* **collection** Code for the IPUMS collection represented by this extract request.  In our case we are downloading from IPUMS USA so we use the code \"usa\".\n",
    "* **description** Text description of the extract.\n",
    "* **samples** Vector of samples to include in the extract request.  In our case we are downloading the 2010 ACS data (us2010a).\n",
    "* **variables** Vector of variable names or a list of detailed variable specifications to include in the extract request."
   ]
  },
  {
   "cell_type": "code",
   "execution_count": 10,
   "id": "9542726a-527a-4968-b692-4266e2d46b8c",
   "metadata": {},
   "outputs": [],
   "source": [
    "# set up the data extraction definition\n",
    "extract_definition <- define_extract_micro(collection = \"nhis\",\n",
    "                                           description = \"IPUMS NHIS Data Extraction\",\n",
    "                                           samples = c(\"ih2000\"),\n",
    "                                           variables = c(\"REGION\", \"HEALTH\", \"HINOTCOVE\", \"HYP2TIME\", \"SMOKEV\", \"VIG10FWK\"))"
   ]
  },
  {
   "cell_type": "code",
   "execution_count": 11,
   "id": "9123ec83-1c31-425c-b4a8-c9c8a3dd26ec",
   "metadata": {},
   "outputs": [
    {
     "data": {
      "text/html": [
       "<dl>\n",
       "\t<dt>$collection</dt>\n",
       "\t\t<dd>'nhis'</dd>\n",
       "\t<dt>$description</dt>\n",
       "\t\t<dd>'IPUMS NHIS Data Extraction'</dd>\n",
       "\t<dt>$samples</dt>\n",
       "\t\t<dd><strong>$ih2000</strong> = <strong>$name</strong> = 'ih2000'</dd>\n",
       "\t<dt>$variables</dt>\n",
       "\t\t<dd><dl>\n",
       "\t<dt>$REGION</dt>\n",
       "\t\t<dd><strong>$name</strong> = 'REGION'</dd>\n",
       "\t<dt>$HEALTH</dt>\n",
       "\t\t<dd><strong>$name</strong> = 'HEALTH'</dd>\n",
       "\t<dt>$HINOTCOVE</dt>\n",
       "\t\t<dd><strong>$name</strong> = 'HINOTCOVE'</dd>\n",
       "\t<dt>$HYP2TIME</dt>\n",
       "\t\t<dd><strong>$name</strong> = 'HYP2TIME'</dd>\n",
       "\t<dt>$SMOKEV</dt>\n",
       "\t\t<dd><strong>$name</strong> = 'SMOKEV'</dd>\n",
       "\t<dt>$VIG10FWK</dt>\n",
       "\t\t<dd><strong>$name</strong> = 'VIG10FWK'</dd>\n",
       "</dl>\n",
       "</dd>\n",
       "\t<dt>$time_use_variables</dt>\n",
       "\t\t<dd>NULL</dd>\n",
       "\t<dt>$sample_members</dt>\n",
       "\t\t<dd>NULL</dd>\n",
       "\t<dt>$data_format</dt>\n",
       "\t\t<dd>'fixed_width'</dd>\n",
       "\t<dt>$data_structure</dt>\n",
       "\t\t<dd>'rectangular'</dd>\n",
       "\t<dt>$rectangular_on</dt>\n",
       "\t\t<dd>'P'</dd>\n",
       "\t<dt>$case_select_who</dt>\n",
       "\t\t<dd>'individuals'</dd>\n",
       "\t<dt>$data_quality_flags</dt>\n",
       "\t\t<dd>NULL</dd>\n",
       "\t<dt>$submitted</dt>\n",
       "\t\t<dd>FALSE</dd>\n",
       "\t<dt>$download_links</dt>\n",
       "\t\t<dd><dl>\n",
       "</dl>\n",
       "</dd>\n",
       "\t<dt>$number</dt>\n",
       "\t\t<dd>&lt;NA&gt;</dd>\n",
       "\t<dt>$status</dt>\n",
       "\t\t<dd>'unsubmitted'</dd>\n",
       "</dl>\n"
      ],
      "text/latex": [
       "\\begin{description}\n",
       "\\item[\\$collection] 'nhis'\n",
       "\\item[\\$description] 'IPUMS NHIS Data Extraction'\n",
       "\\item[\\$samples] \\textbf{\\$ih2000} = \\textbf{\\$name} = 'ih2000'\n",
       "\\item[\\$variables] \\begin{description}\n",
       "\\item[\\$REGION] \\textbf{\\$name} = 'REGION'\n",
       "\\item[\\$HEALTH] \\textbf{\\$name} = 'HEALTH'\n",
       "\\item[\\$HINOTCOVE] \\textbf{\\$name} = 'HINOTCOVE'\n",
       "\\item[\\$HYP2TIME] \\textbf{\\$name} = 'HYP2TIME'\n",
       "\\item[\\$SMOKEV] \\textbf{\\$name} = 'SMOKEV'\n",
       "\\item[\\$VIG10FWK] \\textbf{\\$name} = 'VIG10FWK'\n",
       "\\end{description}\n",
       "\n",
       "\\item[\\$time\\_use\\_variables] NULL\n",
       "\\item[\\$sample\\_members] NULL\n",
       "\\item[\\$data\\_format] 'fixed\\_width'\n",
       "\\item[\\$data\\_structure] 'rectangular'\n",
       "\\item[\\$rectangular\\_on] 'P'\n",
       "\\item[\\$case\\_select\\_who] 'individuals'\n",
       "\\item[\\$data\\_quality\\_flags] NULL\n",
       "\\item[\\$submitted] FALSE\n",
       "\\item[\\$download\\_links] \\begin{description}\n",
       "\\end{description}\n",
       "\n",
       "\\item[\\$number] <NA>\n",
       "\\item[\\$status] 'unsubmitted'\n",
       "\\end{description}\n"
      ],
      "text/markdown": [
       "$collection\n",
       ":   'nhis'\n",
       "$description\n",
       ":   'IPUMS NHIS Data Extraction'\n",
       "$samples\n",
       ":   **$ih2000** = **$name** = 'ih2000'\n",
       "$variables\n",
       ":   $REGION\n",
       ":   **$name** = 'REGION'\n",
       "$HEALTH\n",
       ":   **$name** = 'HEALTH'\n",
       "$HINOTCOVE\n",
       ":   **$name** = 'HINOTCOVE'\n",
       "$HYP2TIME\n",
       ":   **$name** = 'HYP2TIME'\n",
       "$SMOKEV\n",
       ":   **$name** = 'SMOKEV'\n",
       "$VIG10FWK\n",
       ":   **$name** = 'VIG10FWK'\n",
       "\n",
       "\n",
       "\n",
       "$time_use_variables\n",
       ":   NULL\n",
       "$sample_members\n",
       ":   NULL\n",
       "$data_format\n",
       ":   'fixed_width'\n",
       "$data_structure\n",
       ":   'rectangular'\n",
       "$rectangular_on\n",
       ":   'P'\n",
       "$case_select_who\n",
       ":   'individuals'\n",
       "$data_quality_flags\n",
       ":   NULL\n",
       "$submitted\n",
       ":   FALSE\n",
       "$download_links\n",
       ":   \n",
       "\n",
       "\n",
       "$number\n",
       ":   &lt;NA&gt;\n",
       "$status\n",
       ":   'unsubmitted'\n",
       "\n",
       "\n"
      ],
      "text/plain": [
       "Unsubmitted IPUMS NHIS extract \n",
       "Description: IPUMS NHIS Data Extraction\n",
       "\n",
       "\u001b[1mSamples: \u001b[22m(1 total) ih2000\n",
       "\u001b[1mVariables: \u001b[22m(6 total) REGION, HEALTH, HINOTCOVE, HYP2TIME, SMOKEV, VIG10FWK"
      ]
     },
     "metadata": {},
     "output_type": "display_data"
    }
   ],
   "source": [
    "# review the extraction definition\n",
    "extract_definition"
   ]
  },
  {
   "cell_type": "markdown",
   "id": "46b99602-39c2-42d8-b387-1ce557058115",
   "metadata": {},
   "source": [
    "### 3b. Submit the Extract Request"
   ]
  },
  {
   "cell_type": "code",
   "execution_count": 13,
   "id": "174a9f81-252d-47d1-afda-94405a8b6fe6",
   "metadata": {},
   "outputs": [
    {
     "name": "stderr",
     "output_type": "stream",
     "text": [
      "Successfully submitted IPUMS NHIS extract number 1\n",
      "\n",
      "Checking extract status...\n",
      "\n",
      "Waiting 10 seconds...\n",
      "\n",
      "Checking extract status...\n",
      "\n",
      "Waiting 20 seconds...\n",
      "\n",
      "Checking extract status...\n",
      "\n",
      "IPUMS NHIS extract 1 is ready to download.\n",
      "\n"
     ]
    },
    {
     "data": {
      "text/html": [
       "'completed'"
      ],
      "text/latex": [
       "'completed'"
      ],
      "text/markdown": [
       "'completed'"
      ],
      "text/plain": [
       "[1] \"completed\""
      ]
     },
     "metadata": {},
     "output_type": "display_data"
    },
    {
     "name": "stdout",
     "output_type": "stream",
     "text": [
      "\n",
      "\n",
      " |======================================================================| 100%"
     ]
    },
    {
     "name": "stderr",
     "output_type": "stream",
     "text": [
      "DDI codebook file saved to C:/Users/vavra/Dropbox/R Spatial/r-spatial/nhis_00001.xml\n",
      "Data file saved to C:/Users/vavra/Dropbox/R Spatial/r-spatial/nhis_00001.dat.gz\n",
      "\n"
     ]
    }
   ],
   "source": [
    "# submit extraction request\n",
    "extract_submitted <- submit_extract(extract_definition)\n",
    "\n",
    "# wait for completion\n",
    "extraction_complete <- wait_for_extract(extract_submitted)\n",
    "\n",
    "# check completion status\n",
    "extraction_complete$status\n",
    "\n",
    "# get the extract filepath\n",
    "filepath <- download_extract(extract_submitted, overwrite = T)"
   ]
  },
  {
   "cell_type": "markdown",
   "id": "81708df3-e2b0-4bd7-ab5d-55434d3960cb",
   "metadata": {},
   "source": [
    "### 3c. Review the Extract\n",
    "\n",
    "The data extract download will contain the following two files.\n",
    "\n",
    "1. A [DDI (Data Documentation Initiative)](https://ddialliance.org) codebook file (file extension .xml) containing metadata and descriptive information for you data.\n",
    "2. A zipped data (.dat) file (file extension .dat.gz) containing your data.\n",
    "\n",
    "Read the ddi and data files into a format which we can work with in R."
   ]
  },
  {
   "cell_type": "code",
   "execution_count": 20,
   "id": "03b61af0-2100-48c4-b95e-14b01b24b62a",
   "metadata": {},
   "outputs": [
    {
     "name": "stderr",
     "output_type": "stream",
     "text": [
      "Use of data from IPUMS NHIS is subject to conditions including that users should cite the data appropriately. Use command `ipums_conditions()` for more details.\n",
      "\n"
     ]
    }
   ],
   "source": [
    "ddi <- read_ipums_ddi(filepath)\n",
    "dat <- read_ipums_micro(ddi)"
   ]
  },
  {
   "cell_type": "code",
   "execution_count": 21,
   "id": "1aecfdfb-878e-4258-9b6f-d1f6b37d9acb",
   "metadata": {},
   "outputs": [
    {
     "data": {
      "text/html": [
       "<style>\n",
       ".list-inline {list-style: none; margin:0; padding: 0}\n",
       ".list-inline>li {display: inline-block}\n",
       ".list-inline>li:not(:last-child)::after {content: \"\\00b7\"; padding: 0 .5ex}\n",
       "</style>\n",
       "<ol class=list-inline><li>100618</li><li>22</li></ol>\n"
      ],
      "text/latex": [
       "\\begin{enumerate*}\n",
       "\\item 100618\n",
       "\\item 22\n",
       "\\end{enumerate*}\n"
      ],
      "text/markdown": [
       "1. 100618\n",
       "2. 22\n",
       "\n",
       "\n"
      ],
      "text/plain": [
       "[1] 100618     22"
      ]
     },
     "metadata": {},
     "output_type": "display_data"
    }
   ],
   "source": [
    "dim(dat)"
   ]
  },
  {
   "cell_type": "code",
   "execution_count": 22,
   "id": "cab80732-f495-4cff-a06b-07ade5dc453c",
   "metadata": {},
   "outputs": [
    {
     "data": {
      "text/html": [
       "<table class=\"dataframe\">\n",
       "<caption>A tibble: 6 × 22</caption>\n",
       "<thead>\n",
       "\t<tr><th scope=col>YEAR</th><th scope=col>SERIAL</th><th scope=col>STRATA</th><th scope=col>PSU</th><th scope=col>NHISHID</th><th scope=col>HHWEIGHT</th><th scope=col>REGION</th><th scope=col>PERNUM</th><th scope=col>NHISPID</th><th scope=col>HHX</th><th scope=col>⋯</th><th scope=col>PERWEIGHT</th><th scope=col>SAMPWEIGHT</th><th scope=col>FWEIGHT</th><th scope=col>ASTATFLG</th><th scope=col>CSTATFLG</th><th scope=col>HEALTH</th><th scope=col>HINOTCOVE</th><th scope=col>HYP2TIME</th><th scope=col>SMOKEV</th><th scope=col>VIG10FWK</th></tr>\n",
       "\t<tr><th scope=col>&lt;dbl&gt;</th><th scope=col>&lt;dbl&gt;</th><th scope=col>&lt;dbl+lbl&gt;</th><th scope=col>&lt;dbl+lbl&gt;</th><th scope=col>&lt;chr&gt;</th><th scope=col>&lt;dbl&gt;</th><th scope=col>&lt;int+lbl&gt;</th><th scope=col>&lt;dbl&gt;</th><th scope=col>&lt;chr&gt;</th><th scope=col>&lt;chr&gt;</th><th scope=col>⋯</th><th scope=col>&lt;dbl&gt;</th><th scope=col>&lt;dbl&gt;</th><th scope=col>&lt;dbl&gt;</th><th scope=col>&lt;int+lbl&gt;</th><th scope=col>&lt;int+lbl&gt;</th><th scope=col>&lt;int+lbl&gt;</th><th scope=col>&lt;int+lbl&gt;</th><th scope=col>&lt;int+lbl&gt;</th><th scope=col>&lt;int+lbl&gt;</th><th scope=col>&lt;dbl+lbl&gt;</th></tr>\n",
       "</thead>\n",
       "<tbody>\n",
       "\t<tr><td>2000</td><td>1</td><td>5061</td><td>1</td><td>00002000000001</td><td>2944</td><td>1</td><td>1</td><td>0020000000010101</td><td>000001</td><td>⋯</td><td>3568</td><td>    0</td><td>3160</td><td>3</td><td>0</td><td>1</td><td>1</td><td>0</td><td>0</td><td>0</td></tr>\n",
       "\t<tr><td>2000</td><td>1</td><td>5061</td><td>1</td><td>00002000000001</td><td>2944</td><td>1</td><td>2</td><td>0020000000010102</td><td>000001</td><td>⋯</td><td>3372</td><td>12409</td><td>3160</td><td>1</td><td>0</td><td>1</td><td>1</td><td>0</td><td>2</td><td>3</td></tr>\n",
       "\t<tr><td>2000</td><td>1</td><td>5061</td><td>1</td><td>00002000000001</td><td>2944</td><td>1</td><td>3</td><td>0020000000010103</td><td>000001</td><td>⋯</td><td>3343</td><td>    0</td><td>3160</td><td>0</td><td>3</td><td>1</td><td>1</td><td>0</td><td>0</td><td>0</td></tr>\n",
       "\t<tr><td>2000</td><td>1</td><td>5061</td><td>1</td><td>00002000000001</td><td>2944</td><td>1</td><td>4</td><td>0020000000010104</td><td>000001</td><td>⋯</td><td>3160</td><td>    0</td><td>3160</td><td>0</td><td>3</td><td>1</td><td>1</td><td>0</td><td>0</td><td>0</td></tr>\n",
       "\t<tr><td>2000</td><td>1</td><td>5061</td><td>1</td><td>00002000000001</td><td>2944</td><td>1</td><td>5</td><td>0020000000010105</td><td>000001</td><td>⋯</td><td>3267</td><td>15986</td><td>3160</td><td>0</td><td>1</td><td>1</td><td>1</td><td>0</td><td>0</td><td>0</td></tr>\n",
       "\t<tr><td>2000</td><td>1</td><td>5061</td><td>1</td><td>00002000000001</td><td>2944</td><td>1</td><td>6</td><td>0020000000010106</td><td>000001</td><td>⋯</td><td>3569</td><td>    0</td><td>3160</td><td>0</td><td>3</td><td>1</td><td>1</td><td>0</td><td>0</td><td>0</td></tr>\n",
       "</tbody>\n",
       "</table>\n"
      ],
      "text/latex": [
       "A tibble: 6 × 22\n",
       "\\begin{tabular}{lllllllllllllllllllll}\n",
       " YEAR & SERIAL & STRATA & PSU & NHISHID & HHWEIGHT & REGION & PERNUM & NHISPID & HHX & ⋯ & PERWEIGHT & SAMPWEIGHT & FWEIGHT & ASTATFLG & CSTATFLG & HEALTH & HINOTCOVE & HYP2TIME & SMOKEV & VIG10FWK\\\\\n",
       " <dbl> & <dbl> & <dbl+lbl> & <dbl+lbl> & <chr> & <dbl> & <int+lbl> & <dbl> & <chr> & <chr> & ⋯ & <dbl> & <dbl> & <dbl> & <int+lbl> & <int+lbl> & <int+lbl> & <int+lbl> & <int+lbl> & <int+lbl> & <dbl+lbl>\\\\\n",
       "\\hline\n",
       "\t 2000 & 1 & 5061 & 1 & 00002000000001 & 2944 & 1 & 1 & 0020000000010101 & 000001 & ⋯ & 3568 &     0 & 3160 & 3 & 0 & 1 & 1 & 0 & 0 & 0\\\\\n",
       "\t 2000 & 1 & 5061 & 1 & 00002000000001 & 2944 & 1 & 2 & 0020000000010102 & 000001 & ⋯ & 3372 & 12409 & 3160 & 1 & 0 & 1 & 1 & 0 & 2 & 3\\\\\n",
       "\t 2000 & 1 & 5061 & 1 & 00002000000001 & 2944 & 1 & 3 & 0020000000010103 & 000001 & ⋯ & 3343 &     0 & 3160 & 0 & 3 & 1 & 1 & 0 & 0 & 0\\\\\n",
       "\t 2000 & 1 & 5061 & 1 & 00002000000001 & 2944 & 1 & 4 & 0020000000010104 & 000001 & ⋯ & 3160 &     0 & 3160 & 0 & 3 & 1 & 1 & 0 & 0 & 0\\\\\n",
       "\t 2000 & 1 & 5061 & 1 & 00002000000001 & 2944 & 1 & 5 & 0020000000010105 & 000001 & ⋯ & 3267 & 15986 & 3160 & 0 & 1 & 1 & 1 & 0 & 0 & 0\\\\\n",
       "\t 2000 & 1 & 5061 & 1 & 00002000000001 & 2944 & 1 & 6 & 0020000000010106 & 000001 & ⋯ & 3569 &     0 & 3160 & 0 & 3 & 1 & 1 & 0 & 0 & 0\\\\\n",
       "\\end{tabular}\n"
      ],
      "text/markdown": [
       "\n",
       "A tibble: 6 × 22\n",
       "\n",
       "| YEAR &lt;dbl&gt; | SERIAL &lt;dbl&gt; | STRATA &lt;dbl+lbl&gt; | PSU &lt;dbl+lbl&gt; | NHISHID &lt;chr&gt; | HHWEIGHT &lt;dbl&gt; | REGION &lt;int+lbl&gt; | PERNUM &lt;dbl&gt; | NHISPID &lt;chr&gt; | HHX &lt;chr&gt; | ⋯ ⋯ | PERWEIGHT &lt;dbl&gt; | SAMPWEIGHT &lt;dbl&gt; | FWEIGHT &lt;dbl&gt; | ASTATFLG &lt;int+lbl&gt; | CSTATFLG &lt;int+lbl&gt; | HEALTH &lt;int+lbl&gt; | HINOTCOVE &lt;int+lbl&gt; | HYP2TIME &lt;int+lbl&gt; | SMOKEV &lt;int+lbl&gt; | VIG10FWK &lt;dbl+lbl&gt; |\n",
       "|---|---|---|---|---|---|---|---|---|---|---|---|---|---|---|---|---|---|---|---|---|\n",
       "| 2000 | 1 | 5061 | 1 | 00002000000001 | 2944 | 1 | 1 | 0020000000010101 | 000001 | ⋯ | 3568 |     0 | 3160 | 3 | 0 | 1 | 1 | 0 | 0 | 0 |\n",
       "| 2000 | 1 | 5061 | 1 | 00002000000001 | 2944 | 1 | 2 | 0020000000010102 | 000001 | ⋯ | 3372 | 12409 | 3160 | 1 | 0 | 1 | 1 | 0 | 2 | 3 |\n",
       "| 2000 | 1 | 5061 | 1 | 00002000000001 | 2944 | 1 | 3 | 0020000000010103 | 000001 | ⋯ | 3343 |     0 | 3160 | 0 | 3 | 1 | 1 | 0 | 0 | 0 |\n",
       "| 2000 | 1 | 5061 | 1 | 00002000000001 | 2944 | 1 | 4 | 0020000000010104 | 000001 | ⋯ | 3160 |     0 | 3160 | 0 | 3 | 1 | 1 | 0 | 0 | 0 |\n",
       "| 2000 | 1 | 5061 | 1 | 00002000000001 | 2944 | 1 | 5 | 0020000000010105 | 000001 | ⋯ | 3267 | 15986 | 3160 | 0 | 1 | 1 | 1 | 0 | 0 | 0 |\n",
       "| 2000 | 1 | 5061 | 1 | 00002000000001 | 2944 | 1 | 6 | 0020000000010106 | 000001 | ⋯ | 3569 |     0 | 3160 | 0 | 3 | 1 | 1 | 0 | 0 | 0 |\n",
       "\n"
      ],
      "text/plain": [
       "  YEAR SERIAL STRATA PSU NHISHID        HHWEIGHT REGION PERNUM NHISPID         \n",
       "1 2000 1      5061   1   00002000000001 2944     1      1      0020000000010101\n",
       "2 2000 1      5061   1   00002000000001 2944     1      2      0020000000010102\n",
       "3 2000 1      5061   1   00002000000001 2944     1      3      0020000000010103\n",
       "4 2000 1      5061   1   00002000000001 2944     1      4      0020000000010104\n",
       "5 2000 1      5061   1   00002000000001 2944     1      5      0020000000010105\n",
       "6 2000 1      5061   1   00002000000001 2944     1      6      0020000000010106\n",
       "  HHX    ⋯ PERWEIGHT SAMPWEIGHT FWEIGHT ASTATFLG CSTATFLG HEALTH HINOTCOVE\n",
       "1 000001 ⋯ 3568          0      3160    3        0        1      1        \n",
       "2 000001 ⋯ 3372      12409      3160    1        0        1      1        \n",
       "3 000001 ⋯ 3343          0      3160    0        3        1      1        \n",
       "4 000001 ⋯ 3160          0      3160    0        3        1      1        \n",
       "5 000001 ⋯ 3267      15986      3160    0        1        1      1        \n",
       "6 000001 ⋯ 3569          0      3160    0        3        1      1        \n",
       "  HYP2TIME SMOKEV VIG10FWK\n",
       "1 0        0      0       \n",
       "2 0        2      3       \n",
       "3 0        0      0       \n",
       "4 0        0      0       \n",
       "5 0        0      0       \n",
       "6 0        0      0       "
      ]
     },
     "metadata": {},
     "output_type": "display_data"
    }
   ],
   "source": [
    "head(dat)"
   ]
  },
  {
   "cell_type": "code",
   "execution_count": 23,
   "id": "5bd95137-7fec-4d79-9d9c-e9b6fb500bc5",
   "metadata": {},
   "outputs": [
    {
     "data": {
      "text/html": [
       "<style>\n",
       ".list-inline {list-style: none; margin:0; padding: 0}\n",
       ".list-inline>li {display: inline-block}\n",
       ".list-inline>li:not(:last-child)::after {content: \"\\00b7\"; padding: 0 .5ex}\n",
       "</style>\n",
       "<ol class=list-inline><li>'YEAR'</li><li>'SERIAL'</li><li>'STRATA'</li><li>'PSU'</li><li>'NHISHID'</li><li>'HHWEIGHT'</li><li>'REGION'</li><li>'PERNUM'</li><li>'NHISPID'</li><li>'HHX'</li><li>'FMX'</li><li>'PX'</li><li>'PERWEIGHT'</li><li>'SAMPWEIGHT'</li><li>'FWEIGHT'</li><li>'ASTATFLG'</li><li>'CSTATFLG'</li><li>'HEALTH'</li><li>'HINOTCOVE'</li><li>'HYP2TIME'</li><li>'SMOKEV'</li><li>'VIG10FWK'</li></ol>\n"
      ],
      "text/latex": [
       "\\begin{enumerate*}\n",
       "\\item 'YEAR'\n",
       "\\item 'SERIAL'\n",
       "\\item 'STRATA'\n",
       "\\item 'PSU'\n",
       "\\item 'NHISHID'\n",
       "\\item 'HHWEIGHT'\n",
       "\\item 'REGION'\n",
       "\\item 'PERNUM'\n",
       "\\item 'NHISPID'\n",
       "\\item 'HHX'\n",
       "\\item 'FMX'\n",
       "\\item 'PX'\n",
       "\\item 'PERWEIGHT'\n",
       "\\item 'SAMPWEIGHT'\n",
       "\\item 'FWEIGHT'\n",
       "\\item 'ASTATFLG'\n",
       "\\item 'CSTATFLG'\n",
       "\\item 'HEALTH'\n",
       "\\item 'HINOTCOVE'\n",
       "\\item 'HYP2TIME'\n",
       "\\item 'SMOKEV'\n",
       "\\item 'VIG10FWK'\n",
       "\\end{enumerate*}\n"
      ],
      "text/markdown": [
       "1. 'YEAR'\n",
       "2. 'SERIAL'\n",
       "3. 'STRATA'\n",
       "4. 'PSU'\n",
       "5. 'NHISHID'\n",
       "6. 'HHWEIGHT'\n",
       "7. 'REGION'\n",
       "8. 'PERNUM'\n",
       "9. 'NHISPID'\n",
       "10. 'HHX'\n",
       "11. 'FMX'\n",
       "12. 'PX'\n",
       "13. 'PERWEIGHT'\n",
       "14. 'SAMPWEIGHT'\n",
       "15. 'FWEIGHT'\n",
       "16. 'ASTATFLG'\n",
       "17. 'CSTATFLG'\n",
       "18. 'HEALTH'\n",
       "19. 'HINOTCOVE'\n",
       "20. 'HYP2TIME'\n",
       "21. 'SMOKEV'\n",
       "22. 'VIG10FWK'\n",
       "\n",
       "\n"
      ],
      "text/plain": [
       " [1] \"YEAR\"       \"SERIAL\"     \"STRATA\"     \"PSU\"        \"NHISHID\"   \n",
       " [6] \"HHWEIGHT\"   \"REGION\"     \"PERNUM\"     \"NHISPID\"    \"HHX\"       \n",
       "[11] \"FMX\"        \"PX\"         \"PERWEIGHT\"  \"SAMPWEIGHT\" \"FWEIGHT\"   \n",
       "[16] \"ASTATFLG\"   \"CSTATFLG\"   \"HEALTH\"     \"HINOTCOVE\"  \"HYP2TIME\"  \n",
       "[21] \"SMOKEV\"     \"VIG10FWK\"  "
      ]
     },
     "metadata": {},
     "output_type": "display_data"
    }
   ],
   "source": [
    "colnames(dat)"
   ]
  },
  {
   "cell_type": "markdown",
   "id": "613cbba4-bfcc-4a67-a78e-a3dfc9e81e40",
   "metadata": {},
   "source": [
    "**Variable Selection**\n",
    "* Regin of Residence (REGION)\n",
    "* Health Status (HEALTH)\n",
    "* Health Insurance Coverage Status (HINOTCOVE)\n",
    "* Ever Told Had Hypertension on 2+ Visits (HYP2TIME)\n",
    "* Ever Smoked 100 Cigarettes in Life (SMOKEV)\n",
    "* Frequency of Vigorous Activity 10+ Minutes: Times per Week (VIG10FWK)\n",
    "\n",
    "**IPUMS Preselected Variables**\n",
    "* Survey Year (YEAR)\n",
    "* Sequential Serial Number, Household Record (SERIAL)\n",
    "* Stratum for Variance Estimation (STRATA)\n",
    "* Primary Sampling Unit (PSU) for Variance Estimation (PSU)\n",
    "* NHIS Unique Identifier, Household (NHISHID)\n",
    "* Household Weight, Final Annual (HHWEIGHT)\n",
    "* Person Number within Family/Household (from reformatting) (PERNUM)\n",
    "* NHIS Unique Identifier, Person (NHISPID)\n",
    "* Household Number (from NHIS) (HHX)\n",
    "* Family Number (from NHIS) (FMX)\n",
    "* Person Number of Respondent (from NHIS) (PX)\n",
    "* Final Basic Annual Weight (PERWEIGHT)\n",
    "* Sample Person Weight (SAMPWEIGHT)\n",
    "* Final Annual Family Weight (FWEIGHT)\n",
    "* Sample Adult Flag (ASTATFLG)\n",
    "* Sample Child Flag (CSTATFLG)"
   ]
  },
  {
   "cell_type": "markdown",
   "id": "a7957855-d54f-4d52-ba11-a30d586eea58",
   "metadata": {},
   "source": [
    "### 3d. Save the Data\n",
    "\n",
    "Next let's save a couple versions of our IPUMS NHIS data file.\n",
    "\n",
    "* A *.rds* version of the data.  The **R Data Serialization (RDS)** format will retain metadata for the next time we want to import the file back into R.  One downside to the .rds format is it is only useable within R.\n",
    "* A *.csv* version of the data.  The [**Comma-Separated Values (CSV)**](https://en.wikipedia.org/wiki/Comma-separated_values) format is versitile and can be easily accessed in other programs.  However, the CSV file format does not include metadata such as labels for variable levels."
   ]
  },
  {
   "cell_type": "code",
   "execution_count": 24,
   "id": "5e644dc7-a733-4c76-865e-63798c7e6123",
   "metadata": {},
   "outputs": [],
   "source": [
    "saveRDS(dat, \"ipums_nhis_example.rds\")\n",
    "write.csv(dat, \"ipums_nhis_example.csv\")"
   ]
  },
  {
   "cell_type": "markdown",
   "id": "4843b229-a66a-4e1b-8c19-b71b3203042f",
   "metadata": {},
   "source": [
    "## 4. IPUMS Medical Expenditures Panel Survey (MEPS) Metadata Exploration\n",
    "\n",
    "From the [**IPUMS Medical Expenditures Panel Survey (MEPS) Webpage**](https://nhis.ipums.org/nhis): MEPS provides nationally representative, longitudinal data from 1996 to the present on health status, medical conditions, healthcare utilization, and healthcare expenditures for the U.S. civilian, non-institutionalized population. IPUMS MEPS harmonizes these data and allows users to create customized data extracts for analysis.\n",
    "\n",
    "### 4a. Review the List of Samples"
   ]
  },
  {
   "cell_type": "code",
   "execution_count": 26,
   "id": "2965aace-d326-4c9d-bb58-0690db9879f7",
   "metadata": {},
   "outputs": [
    {
     "data": {
      "text/html": [
       "<style>\n",
       ".list-inline {list-style: none; margin:0; padding: 0}\n",
       ".list-inline>li {display: inline-block}\n",
       ".list-inline>li:not(:last-child)::after {content: \"\\00b7\"; padding: 0 .5ex}\n",
       "</style>\n",
       "<ol class=list-inline><li>27</li><li>2</li></ol>\n"
      ],
      "text/latex": [
       "\\begin{enumerate*}\n",
       "\\item 27\n",
       "\\item 2\n",
       "\\end{enumerate*}\n"
      ],
      "text/markdown": [
       "1. 27\n",
       "2. 2\n",
       "\n",
       "\n"
      ],
      "text/plain": [
       "[1] 27  2"
      ]
     },
     "metadata": {},
     "output_type": "display_data"
    }
   ],
   "source": [
    "# retrive and view the list of samples from the IPUMS MEPS database\n",
    "metadata_meps <- get_sample_info(\"meps\")\n",
    "\n",
    "# view the dimensions of the list of samples\n",
    "dim(metadata_meps)"
   ]
  },
  {
   "cell_type": "code",
   "execution_count": 27,
   "id": "7943cae1-aabe-4289-9750-1025a265b6eb",
   "metadata": {},
   "outputs": [
    {
     "data": {
      "text/html": [
       "<table class=\"dataframe\">\n",
       "<caption>A tibble: 6 × 2</caption>\n",
       "<thead>\n",
       "\t<tr><th scope=col>name</th><th scope=col>description</th></tr>\n",
       "\t<tr><th scope=col>&lt;chr&gt;</th><th scope=col>&lt;chr&gt;</th></tr>\n",
       "</thead>\n",
       "<tbody>\n",
       "\t<tr><td>mp1996</td><td>1996 MEPS</td></tr>\n",
       "\t<tr><td>mp1997</td><td>1997 MEPS</td></tr>\n",
       "\t<tr><td>mp1998</td><td>1998 MEPS</td></tr>\n",
       "\t<tr><td>mp1999</td><td>1999 MEPS</td></tr>\n",
       "\t<tr><td>mp2000</td><td>2000 MEPS</td></tr>\n",
       "\t<tr><td>mp2001</td><td>2001 MEPS</td></tr>\n",
       "</tbody>\n",
       "</table>\n"
      ],
      "text/latex": [
       "A tibble: 6 × 2\n",
       "\\begin{tabular}{ll}\n",
       " name & description\\\\\n",
       " <chr> & <chr>\\\\\n",
       "\\hline\n",
       "\t mp1996 & 1996 MEPS\\\\\n",
       "\t mp1997 & 1997 MEPS\\\\\n",
       "\t mp1998 & 1998 MEPS\\\\\n",
       "\t mp1999 & 1999 MEPS\\\\\n",
       "\t mp2000 & 2000 MEPS\\\\\n",
       "\t mp2001 & 2001 MEPS\\\\\n",
       "\\end{tabular}\n"
      ],
      "text/markdown": [
       "\n",
       "A tibble: 6 × 2\n",
       "\n",
       "| name &lt;chr&gt; | description &lt;chr&gt; |\n",
       "|---|---|\n",
       "| mp1996 | 1996 MEPS |\n",
       "| mp1997 | 1997 MEPS |\n",
       "| mp1998 | 1998 MEPS |\n",
       "| mp1999 | 1999 MEPS |\n",
       "| mp2000 | 2000 MEPS |\n",
       "| mp2001 | 2001 MEPS |\n",
       "\n"
      ],
      "text/plain": [
       "  name   description\n",
       "1 mp1996 1996 MEPS  \n",
       "2 mp1997 1997 MEPS  \n",
       "3 mp1998 1998 MEPS  \n",
       "4 mp1999 1999 MEPS  \n",
       "5 mp2000 2000 MEPS  \n",
       "6 mp2001 2001 MEPS  "
      ]
     },
     "metadata": {},
     "output_type": "display_data"
    }
   ],
   "source": [
    "# view the first few lines of the list of samples\n",
    "head(metadata_meps)"
   ]
  },
  {
   "cell_type": "code",
   "execution_count": 29,
   "id": "d172fbdd-8448-4f54-ba2e-1960c7cff9c6",
   "metadata": {},
   "outputs": [
    {
     "data": {
      "text/html": [
       "<table class=\"dataframe\">\n",
       "<caption>A tibble: 1 × 2</caption>\n",
       "<thead>\n",
       "\t<tr><th scope=col>name</th><th scope=col>description</th></tr>\n",
       "\t<tr><th scope=col>&lt;chr&gt;</th><th scope=col>&lt;chr&gt;</th></tr>\n",
       "</thead>\n",
       "<tbody>\n",
       "\t<tr><td>mp2020</td><td>2020 MEPS</td></tr>\n",
       "</tbody>\n",
       "</table>\n"
      ],
      "text/latex": [
       "A tibble: 1 × 2\n",
       "\\begin{tabular}{ll}\n",
       " name & description\\\\\n",
       " <chr> & <chr>\\\\\n",
       "\\hline\n",
       "\t mp2020 & 2020 MEPS\\\\\n",
       "\\end{tabular}\n"
      ],
      "text/markdown": [
       "\n",
       "A tibble: 1 × 2\n",
       "\n",
       "| name &lt;chr&gt; | description &lt;chr&gt; |\n",
       "|---|---|\n",
       "| mp2020 | 2020 MEPS |\n",
       "\n"
      ],
      "text/plain": [
       "  name   description\n",
       "1 mp2020 2020 MEPS  "
      ]
     },
     "metadata": {},
     "output_type": "display_data"
    }
   ],
   "source": [
    "# filter the list of samples by year\n",
    "metadata_meps %>% filter(str_detect(description, \"2020\"))"
   ]
  },
  {
   "cell_type": "markdown",
   "id": "0f443d77-ee57-4cea-b014-4f7e030ababf",
   "metadata": {},
   "source": [
    "## 5. IPUMS Medical Expenditures Panel Survey (MEPS) Data Extraction Specification and Submission\n",
    "\n",
    "Once we know the dataset and variable selection we want, we can define our data extraction using the *define_extract_micro* function from the *ipumsr* package.  This function requires the following parameters:\n",
    "\n",
    "### 5a. Define the Data Extract\n",
    "\n",
    "For this example we will use the 2020 MEPS sample.\n",
    "\n",
    "**Variable Selection**\n",
    "* Health Status (HEALTH)\n",
    "* Health Insuraance Coverage Type (Hierarchy) (COVERTYPE)\n",
    "* Annual Total of Direct Health Care Payments (EXPTOT)\n",
    "* Annual Total Number of Visits Made to Office-Based Medical Providers (OBTOTVIS)\n",
    "* Respondent Has Been Told They Have Diabetes (DCSDIABDX)\n",
    "\n",
    "By default, the data extraction will also include a number of IPUMS preselected variables.  These variables include metainformation such as identification codes and survey weights.  We will explore and list the preselected variables after completing the data extraction.\n",
    "\n",
    "* **collection** Code for the IPUMS collection represented by this extract request.  In our case we are downloading from IPUMS USA so we use the code \"usa\".\n",
    "* **description** Text description of the extract.\n",
    "* **samples** Vector of samples to include in the extract request.  In our case we are downloading the 2010 ACS data (us2010a).\n",
    "* **variables** Vector of variable names or a list of detailed variable specifications to include in the extract request."
   ]
  },
  {
   "cell_type": "code",
   "execution_count": 30,
   "id": "191a9323-6755-46ce-ae38-9c554e109287",
   "metadata": {},
   "outputs": [],
   "source": [
    "# set up the data extraction definition\n",
    "extract_definition <- define_extract_micro(collection = \"meps\",\n",
    "                                           description = \"IPUMS MEPS Data Extraction\",\n",
    "                                           samples = c(\"mp2020\"),\n",
    "                                           variables = c(\"HEALTH\", \"COVERTYPE\", \"EXPTOT\", \"OBTOTVIS\", \"DCSDIABDX\"))"
   ]
  },
  {
   "cell_type": "code",
   "execution_count": 31,
   "id": "077bdafc-973b-4f99-9690-501ada8a7eba",
   "metadata": {},
   "outputs": [
    {
     "data": {
      "text/html": [
       "<dl>\n",
       "\t<dt>$collection</dt>\n",
       "\t\t<dd>'meps'</dd>\n",
       "\t<dt>$description</dt>\n",
       "\t\t<dd>'IPUMS MEPS Data Extraction'</dd>\n",
       "\t<dt>$samples</dt>\n",
       "\t\t<dd><strong>$mp2020</strong> = <strong>$name</strong> = 'mp2020'</dd>\n",
       "\t<dt>$variables</dt>\n",
       "\t\t<dd><dl>\n",
       "\t<dt>$HEALTH</dt>\n",
       "\t\t<dd><strong>$name</strong> = 'HEALTH'</dd>\n",
       "\t<dt>$COVERTYPE</dt>\n",
       "\t\t<dd><strong>$name</strong> = 'COVERTYPE'</dd>\n",
       "\t<dt>$EXPTOT</dt>\n",
       "\t\t<dd><strong>$name</strong> = 'EXPTOT'</dd>\n",
       "\t<dt>$OBTOTVIS</dt>\n",
       "\t\t<dd><strong>$name</strong> = 'OBTOTVIS'</dd>\n",
       "\t<dt>$DCSDIABDX</dt>\n",
       "\t\t<dd><strong>$name</strong> = 'DCSDIABDX'</dd>\n",
       "</dl>\n",
       "</dd>\n",
       "\t<dt>$time_use_variables</dt>\n",
       "\t\t<dd>NULL</dd>\n",
       "\t<dt>$sample_members</dt>\n",
       "\t\t<dd>NULL</dd>\n",
       "\t<dt>$data_format</dt>\n",
       "\t\t<dd>'fixed_width'</dd>\n",
       "\t<dt>$data_structure</dt>\n",
       "\t\t<dd>'rectangular'</dd>\n",
       "\t<dt>$rectangular_on</dt>\n",
       "\t\t<dd>'P'</dd>\n",
       "\t<dt>$case_select_who</dt>\n",
       "\t\t<dd>'individuals'</dd>\n",
       "\t<dt>$data_quality_flags</dt>\n",
       "\t\t<dd>NULL</dd>\n",
       "\t<dt>$submitted</dt>\n",
       "\t\t<dd>FALSE</dd>\n",
       "\t<dt>$download_links</dt>\n",
       "\t\t<dd><dl>\n",
       "</dl>\n",
       "</dd>\n",
       "\t<dt>$number</dt>\n",
       "\t\t<dd>&lt;NA&gt;</dd>\n",
       "\t<dt>$status</dt>\n",
       "\t\t<dd>'unsubmitted'</dd>\n",
       "</dl>\n"
      ],
      "text/latex": [
       "\\begin{description}\n",
       "\\item[\\$collection] 'meps'\n",
       "\\item[\\$description] 'IPUMS MEPS Data Extraction'\n",
       "\\item[\\$samples] \\textbf{\\$mp2020} = \\textbf{\\$name} = 'mp2020'\n",
       "\\item[\\$variables] \\begin{description}\n",
       "\\item[\\$HEALTH] \\textbf{\\$name} = 'HEALTH'\n",
       "\\item[\\$COVERTYPE] \\textbf{\\$name} = 'COVERTYPE'\n",
       "\\item[\\$EXPTOT] \\textbf{\\$name} = 'EXPTOT'\n",
       "\\item[\\$OBTOTVIS] \\textbf{\\$name} = 'OBTOTVIS'\n",
       "\\item[\\$DCSDIABDX] \\textbf{\\$name} = 'DCSDIABDX'\n",
       "\\end{description}\n",
       "\n",
       "\\item[\\$time\\_use\\_variables] NULL\n",
       "\\item[\\$sample\\_members] NULL\n",
       "\\item[\\$data\\_format] 'fixed\\_width'\n",
       "\\item[\\$data\\_structure] 'rectangular'\n",
       "\\item[\\$rectangular\\_on] 'P'\n",
       "\\item[\\$case\\_select\\_who] 'individuals'\n",
       "\\item[\\$data\\_quality\\_flags] NULL\n",
       "\\item[\\$submitted] FALSE\n",
       "\\item[\\$download\\_links] \\begin{description}\n",
       "\\end{description}\n",
       "\n",
       "\\item[\\$number] <NA>\n",
       "\\item[\\$status] 'unsubmitted'\n",
       "\\end{description}\n"
      ],
      "text/markdown": [
       "$collection\n",
       ":   'meps'\n",
       "$description\n",
       ":   'IPUMS MEPS Data Extraction'\n",
       "$samples\n",
       ":   **$mp2020** = **$name** = 'mp2020'\n",
       "$variables\n",
       ":   $HEALTH\n",
       ":   **$name** = 'HEALTH'\n",
       "$COVERTYPE\n",
       ":   **$name** = 'COVERTYPE'\n",
       "$EXPTOT\n",
       ":   **$name** = 'EXPTOT'\n",
       "$OBTOTVIS\n",
       ":   **$name** = 'OBTOTVIS'\n",
       "$DCSDIABDX\n",
       ":   **$name** = 'DCSDIABDX'\n",
       "\n",
       "\n",
       "\n",
       "$time_use_variables\n",
       ":   NULL\n",
       "$sample_members\n",
       ":   NULL\n",
       "$data_format\n",
       ":   'fixed_width'\n",
       "$data_structure\n",
       ":   'rectangular'\n",
       "$rectangular_on\n",
       ":   'P'\n",
       "$case_select_who\n",
       ":   'individuals'\n",
       "$data_quality_flags\n",
       ":   NULL\n",
       "$submitted\n",
       ":   FALSE\n",
       "$download_links\n",
       ":   \n",
       "\n",
       "\n",
       "$number\n",
       ":   &lt;NA&gt;\n",
       "$status\n",
       ":   'unsubmitted'\n",
       "\n",
       "\n"
      ],
      "text/plain": [
       "Unsubmitted IPUMS MEPS extract \n",
       "Description: IPUMS MEPS Data Extraction\n",
       "\n",
       "\u001b[1mSamples: \u001b[22m(1 total) mp2020\n",
       "\u001b[1mVariables: \u001b[22m(5 total) HEALTH, COVERTYPE, EXPTOT, OBTOTVIS, DCSDIABDX"
      ]
     },
     "metadata": {},
     "output_type": "display_data"
    }
   ],
   "source": [
    "# review the extraction definition\n",
    "extract_definition"
   ]
  },
  {
   "cell_type": "markdown",
   "id": "8dd3ad30-5607-4f39-900c-e38012e91b5b",
   "metadata": {},
   "source": [
    "### 5b. Submit the Extract Request"
   ]
  },
  {
   "cell_type": "code",
   "execution_count": 33,
   "id": "87c157fb-c29d-4d79-865e-061aecaa029f",
   "metadata": {},
   "outputs": [
    {
     "name": "stderr",
     "output_type": "stream",
     "text": [
      "Successfully submitted IPUMS MEPS extract number 1\n",
      "\n",
      "Checking extract status...\n",
      "\n",
      "Waiting 10 seconds...\n",
      "\n",
      "Checking extract status...\n",
      "\n",
      "IPUMS MEPS extract 1 is ready to download.\n",
      "\n"
     ]
    },
    {
     "data": {
      "text/html": [
       "'completed'"
      ],
      "text/latex": [
       "'completed'"
      ],
      "text/markdown": [
       "'completed'"
      ],
      "text/plain": [
       "[1] \"completed\""
      ]
     },
     "metadata": {},
     "output_type": "display_data"
    },
    {
     "name": "stdout",
     "output_type": "stream",
     "text": [
      "\n",
      "\n",
      " |======================================================================| 100%"
     ]
    },
    {
     "name": "stderr",
     "output_type": "stream",
     "text": [
      "DDI codebook file saved to C:/Users/vavra/Dropbox/R Spatial/r-spatial/meps_00001.xml\n",
      "Data file saved to C:/Users/vavra/Dropbox/R Spatial/r-spatial/meps_00001.dat.gz\n",
      "\n"
     ]
    }
   ],
   "source": [
    "# submit extraction request\n",
    "extract_submitted <- submit_extract(extract_definition)\n",
    "\n",
    "# wait for completion\n",
    "extraction_complete <- wait_for_extract(extract_submitted)\n",
    "\n",
    "# check completion status\n",
    "extraction_complete$status\n",
    "\n",
    "# get the extract filepath\n",
    "filepath <- download_extract(extract_submitted, overwrite = T)"
   ]
  },
  {
   "cell_type": "markdown",
   "id": "0ff7f2c1-b38c-49c7-b921-956e9e587e8b",
   "metadata": {},
   "source": [
    "### 5c. Review the Extract\n",
    "\n",
    "The data extract download will contain the following two files.\n",
    "\n",
    "1. A [DDI (Data Documentation Initiative)](https://ddialliance.org) codebook file (file extension .xml) containing metadata and descriptive information for you data.\n",
    "2. A zipped data (.dat) file (file extension .dat.gz) containing your data.\n",
    "\n",
    "Read the ddi and data files into a format which we can work with in R."
   ]
  },
  {
   "cell_type": "code",
   "execution_count": 34,
   "id": "e3b4a997-458f-4657-a000-29681f8cd0ae",
   "metadata": {},
   "outputs": [
    {
     "name": "stderr",
     "output_type": "stream",
     "text": [
      "Use of data from IPUMS MEPS is subject to conditions including that users should cite the data appropriately. Use command `ipums_conditions()` for more details.\n",
      "\n"
     ]
    }
   ],
   "source": [
    "ddi <- read_ipums_ddi(filepath)\n",
    "dat <- read_ipums_micro(ddi)"
   ]
  },
  {
   "cell_type": "code",
   "execution_count": 35,
   "id": "68a5ce49-3186-4524-a5e0-298ed3a7a481",
   "metadata": {},
   "outputs": [
    {
     "data": {
      "text/html": [
       "<style>\n",
       ".list-inline {list-style: none; margin:0; padding: 0}\n",
       ".list-inline>li {display: inline-block}\n",
       ".list-inline>li:not(:last-child)::after {content: \"\\00b7\"; padding: 0 .5ex}\n",
       "</style>\n",
       "<ol class=list-inline><li>27805</li><li>20</li></ol>\n"
      ],
      "text/latex": [
       "\\begin{enumerate*}\n",
       "\\item 27805\n",
       "\\item 20\n",
       "\\end{enumerate*}\n"
      ],
      "text/markdown": [
       "1. 27805\n",
       "2. 20\n",
       "\n",
       "\n"
      ],
      "text/plain": [
       "[1] 27805    20"
      ]
     },
     "metadata": {},
     "output_type": "display_data"
    }
   ],
   "source": [
    "dim(dat)"
   ]
  },
  {
   "cell_type": "code",
   "execution_count": 36,
   "id": "87a363f2-c771-42d0-a5cf-9e424686c853",
   "metadata": {},
   "outputs": [
    {
     "data": {
      "text/html": [
       "<table class=\"dataframe\">\n",
       "<caption>A tibble: 6 × 20</caption>\n",
       "<thead>\n",
       "\t<tr><th scope=col>YEAR</th><th scope=col>PERNUM</th><th scope=col>DUID</th><th scope=col>PID</th><th scope=col>MEPSID</th><th scope=col>PANEL</th><th scope=col>PSUANN</th><th scope=col>STRATANN</th><th scope=col>PSUPLD</th><th scope=col>STRATAPLD</th><th scope=col>PANELYR</th><th scope=col>RELYR</th><th scope=col>PERWEIGHT</th><th scope=col>SAQWEIGHT</th><th scope=col>DIABWEIGHT</th><th scope=col>HEALTH</th><th scope=col>COVERTYPE</th><th scope=col>EXPTOT</th><th scope=col>OBTOTVIS</th><th scope=col>DCSDIABDX</th></tr>\n",
       "\t<tr><th scope=col>&lt;dbl&gt;</th><th scope=col>&lt;dbl&gt;</th><th scope=col>&lt;dbl&gt;</th><th scope=col>&lt;chr&gt;</th><th scope=col>&lt;chr&gt;</th><th scope=col>&lt;int+lbl&gt;</th><th scope=col>&lt;dbl+lbl&gt;</th><th scope=col>&lt;dbl&gt;</th><th scope=col>&lt;dbl+lbl&gt;</th><th scope=col>&lt;dbl+lbl&gt;</th><th scope=col>&lt;int&gt;</th><th scope=col>&lt;int+lbl&gt;</th><th scope=col>&lt;dbl&gt;</th><th scope=col>&lt;dbl&gt;</th><th scope=col>&lt;dbl&gt;</th><th scope=col>&lt;int+lbl&gt;</th><th scope=col>&lt;int+lbl&gt;</th><th scope=col>&lt;dbl&gt;</th><th scope=col>&lt;dbl&gt;</th><th scope=col>&lt;int+lbl&gt;</th></tr>\n",
       "</thead>\n",
       "<tbody>\n",
       "\t<tr><td>2020</td><td>1</td><td>2320005</td><td>101</td><td>2320005101</td><td>23</td><td>1</td><td>20202079</td><td>1</td><td>2079</td><td>2018</td><td>3</td><td>8418.417</td><td>   0.000</td><td>   0.000</td><td>0</td><td>2</td><td> 459</td><td>4</td><td>0</td></tr>\n",
       "\t<tr><td>2020</td><td>2</td><td>2320005</td><td>102</td><td>2320005102</td><td>23</td><td>1</td><td>20202079</td><td>1</td><td>2079</td><td>2018</td><td>3</td><td>5199.932</td><td>   0.000</td><td>   0.000</td><td>0</td><td>2</td><td> 564</td><td>0</td><td>0</td></tr>\n",
       "\t<tr><td>2020</td><td>1</td><td>2320006</td><td>101</td><td>2320006101</td><td>23</td><td>1</td><td>20202028</td><td>1</td><td>2028</td><td>2018</td><td>3</td><td>2139.840</td><td>   0.000</td><td>   0.000</td><td>0</td><td>4</td><td> 140</td><td>1</td><td>0</td></tr>\n",
       "\t<tr><td>2020</td><td>2</td><td>2320006</td><td>102</td><td>2320006102</td><td>23</td><td>1</td><td>20202028</td><td>1</td><td>2028</td><td>2018</td><td>3</td><td>2216.009</td><td>4082.830</td><td>   0.000</td><td>1</td><td>4</td><td>4673</td><td>0</td><td>0</td></tr>\n",
       "\t<tr><td>2020</td><td>3</td><td>2320006</td><td>103</td><td>2320006103</td><td>23</td><td>1</td><td>20202028</td><td>1</td><td>2028</td><td>2018</td><td>3</td><td>4157.286</td><td>   0.000</td><td>   0.000</td><td>0</td><td>2</td><td> 410</td><td>0</td><td>0</td></tr>\n",
       "\t<tr><td>2020</td><td>1</td><td>2320012</td><td>102</td><td>2320012102</td><td>23</td><td>2</td><td>20202069</td><td>2</td><td>2069</td><td>2018</td><td>3</td><td>1960.941</td><td>2308.142</td><td>2950.122</td><td>2</td><td>2</td><td>2726</td><td>8</td><td>2</td></tr>\n",
       "</tbody>\n",
       "</table>\n"
      ],
      "text/latex": [
       "A tibble: 6 × 20\n",
       "\\begin{tabular}{llllllllllllllllllll}\n",
       " YEAR & PERNUM & DUID & PID & MEPSID & PANEL & PSUANN & STRATANN & PSUPLD & STRATAPLD & PANELYR & RELYR & PERWEIGHT & SAQWEIGHT & DIABWEIGHT & HEALTH & COVERTYPE & EXPTOT & OBTOTVIS & DCSDIABDX\\\\\n",
       " <dbl> & <dbl> & <dbl> & <chr> & <chr> & <int+lbl> & <dbl+lbl> & <dbl> & <dbl+lbl> & <dbl+lbl> & <int> & <int+lbl> & <dbl> & <dbl> & <dbl> & <int+lbl> & <int+lbl> & <dbl> & <dbl> & <int+lbl>\\\\\n",
       "\\hline\n",
       "\t 2020 & 1 & 2320005 & 101 & 2320005101 & 23 & 1 & 20202079 & 1 & 2079 & 2018 & 3 & 8418.417 &    0.000 &    0.000 & 0 & 2 &  459 & 4 & 0\\\\\n",
       "\t 2020 & 2 & 2320005 & 102 & 2320005102 & 23 & 1 & 20202079 & 1 & 2079 & 2018 & 3 & 5199.932 &    0.000 &    0.000 & 0 & 2 &  564 & 0 & 0\\\\\n",
       "\t 2020 & 1 & 2320006 & 101 & 2320006101 & 23 & 1 & 20202028 & 1 & 2028 & 2018 & 3 & 2139.840 &    0.000 &    0.000 & 0 & 4 &  140 & 1 & 0\\\\\n",
       "\t 2020 & 2 & 2320006 & 102 & 2320006102 & 23 & 1 & 20202028 & 1 & 2028 & 2018 & 3 & 2216.009 & 4082.830 &    0.000 & 1 & 4 & 4673 & 0 & 0\\\\\n",
       "\t 2020 & 3 & 2320006 & 103 & 2320006103 & 23 & 1 & 20202028 & 1 & 2028 & 2018 & 3 & 4157.286 &    0.000 &    0.000 & 0 & 2 &  410 & 0 & 0\\\\\n",
       "\t 2020 & 1 & 2320012 & 102 & 2320012102 & 23 & 2 & 20202069 & 2 & 2069 & 2018 & 3 & 1960.941 & 2308.142 & 2950.122 & 2 & 2 & 2726 & 8 & 2\\\\\n",
       "\\end{tabular}\n"
      ],
      "text/markdown": [
       "\n",
       "A tibble: 6 × 20\n",
       "\n",
       "| YEAR &lt;dbl&gt; | PERNUM &lt;dbl&gt; | DUID &lt;dbl&gt; | PID &lt;chr&gt; | MEPSID &lt;chr&gt; | PANEL &lt;int+lbl&gt; | PSUANN &lt;dbl+lbl&gt; | STRATANN &lt;dbl&gt; | PSUPLD &lt;dbl+lbl&gt; | STRATAPLD &lt;dbl+lbl&gt; | PANELYR &lt;int&gt; | RELYR &lt;int+lbl&gt; | PERWEIGHT &lt;dbl&gt; | SAQWEIGHT &lt;dbl&gt; | DIABWEIGHT &lt;dbl&gt; | HEALTH &lt;int+lbl&gt; | COVERTYPE &lt;int+lbl&gt; | EXPTOT &lt;dbl&gt; | OBTOTVIS &lt;dbl&gt; | DCSDIABDX &lt;int+lbl&gt; |\n",
       "|---|---|---|---|---|---|---|---|---|---|---|---|---|---|---|---|---|---|---|---|\n",
       "| 2020 | 1 | 2320005 | 101 | 2320005101 | 23 | 1 | 20202079 | 1 | 2079 | 2018 | 3 | 8418.417 |    0.000 |    0.000 | 0 | 2 |  459 | 4 | 0 |\n",
       "| 2020 | 2 | 2320005 | 102 | 2320005102 | 23 | 1 | 20202079 | 1 | 2079 | 2018 | 3 | 5199.932 |    0.000 |    0.000 | 0 | 2 |  564 | 0 | 0 |\n",
       "| 2020 | 1 | 2320006 | 101 | 2320006101 | 23 | 1 | 20202028 | 1 | 2028 | 2018 | 3 | 2139.840 |    0.000 |    0.000 | 0 | 4 |  140 | 1 | 0 |\n",
       "| 2020 | 2 | 2320006 | 102 | 2320006102 | 23 | 1 | 20202028 | 1 | 2028 | 2018 | 3 | 2216.009 | 4082.830 |    0.000 | 1 | 4 | 4673 | 0 | 0 |\n",
       "| 2020 | 3 | 2320006 | 103 | 2320006103 | 23 | 1 | 20202028 | 1 | 2028 | 2018 | 3 | 4157.286 |    0.000 |    0.000 | 0 | 2 |  410 | 0 | 0 |\n",
       "| 2020 | 1 | 2320012 | 102 | 2320012102 | 23 | 2 | 20202069 | 2 | 2069 | 2018 | 3 | 1960.941 | 2308.142 | 2950.122 | 2 | 2 | 2726 | 8 | 2 |\n",
       "\n"
      ],
      "text/plain": [
       "  YEAR PERNUM DUID    PID MEPSID     PANEL PSUANN STRATANN PSUPLD STRATAPLD\n",
       "1 2020 1      2320005 101 2320005101 23    1      20202079 1      2079     \n",
       "2 2020 2      2320005 102 2320005102 23    1      20202079 1      2079     \n",
       "3 2020 1      2320006 101 2320006101 23    1      20202028 1      2028     \n",
       "4 2020 2      2320006 102 2320006102 23    1      20202028 1      2028     \n",
       "5 2020 3      2320006 103 2320006103 23    1      20202028 1      2028     \n",
       "6 2020 1      2320012 102 2320012102 23    2      20202069 2      2069     \n",
       "  PANELYR RELYR PERWEIGHT SAQWEIGHT DIABWEIGHT HEALTH COVERTYPE EXPTOT OBTOTVIS\n",
       "1 2018    3     8418.417     0.000     0.000   0      2          459   4       \n",
       "2 2018    3     5199.932     0.000     0.000   0      2          564   0       \n",
       "3 2018    3     2139.840     0.000     0.000   0      4          140   1       \n",
       "4 2018    3     2216.009  4082.830     0.000   1      4         4673   0       \n",
       "5 2018    3     4157.286     0.000     0.000   0      2          410   0       \n",
       "6 2018    3     1960.941  2308.142  2950.122   2      2         2726   8       \n",
       "  DCSDIABDX\n",
       "1 0        \n",
       "2 0        \n",
       "3 0        \n",
       "4 0        \n",
       "5 0        \n",
       "6 2        "
      ]
     },
     "metadata": {},
     "output_type": "display_data"
    }
   ],
   "source": [
    "head(dat)"
   ]
  },
  {
   "cell_type": "code",
   "execution_count": 37,
   "id": "56044c1d-c087-4af5-af95-165deebb8df7",
   "metadata": {},
   "outputs": [
    {
     "data": {
      "text/html": [
       "<style>\n",
       ".list-inline {list-style: none; margin:0; padding: 0}\n",
       ".list-inline>li {display: inline-block}\n",
       ".list-inline>li:not(:last-child)::after {content: \"\\00b7\"; padding: 0 .5ex}\n",
       "</style>\n",
       "<ol class=list-inline><li>'YEAR'</li><li>'PERNUM'</li><li>'DUID'</li><li>'PID'</li><li>'MEPSID'</li><li>'PANEL'</li><li>'PSUANN'</li><li>'STRATANN'</li><li>'PSUPLD'</li><li>'STRATAPLD'</li><li>'PANELYR'</li><li>'RELYR'</li><li>'PERWEIGHT'</li><li>'SAQWEIGHT'</li><li>'DIABWEIGHT'</li><li>'HEALTH'</li><li>'COVERTYPE'</li><li>'EXPTOT'</li><li>'OBTOTVIS'</li><li>'DCSDIABDX'</li></ol>\n"
      ],
      "text/latex": [
       "\\begin{enumerate*}\n",
       "\\item 'YEAR'\n",
       "\\item 'PERNUM'\n",
       "\\item 'DUID'\n",
       "\\item 'PID'\n",
       "\\item 'MEPSID'\n",
       "\\item 'PANEL'\n",
       "\\item 'PSUANN'\n",
       "\\item 'STRATANN'\n",
       "\\item 'PSUPLD'\n",
       "\\item 'STRATAPLD'\n",
       "\\item 'PANELYR'\n",
       "\\item 'RELYR'\n",
       "\\item 'PERWEIGHT'\n",
       "\\item 'SAQWEIGHT'\n",
       "\\item 'DIABWEIGHT'\n",
       "\\item 'HEALTH'\n",
       "\\item 'COVERTYPE'\n",
       "\\item 'EXPTOT'\n",
       "\\item 'OBTOTVIS'\n",
       "\\item 'DCSDIABDX'\n",
       "\\end{enumerate*}\n"
      ],
      "text/markdown": [
       "1. 'YEAR'\n",
       "2. 'PERNUM'\n",
       "3. 'DUID'\n",
       "4. 'PID'\n",
       "5. 'MEPSID'\n",
       "6. 'PANEL'\n",
       "7. 'PSUANN'\n",
       "8. 'STRATANN'\n",
       "9. 'PSUPLD'\n",
       "10. 'STRATAPLD'\n",
       "11. 'PANELYR'\n",
       "12. 'RELYR'\n",
       "13. 'PERWEIGHT'\n",
       "14. 'SAQWEIGHT'\n",
       "15. 'DIABWEIGHT'\n",
       "16. 'HEALTH'\n",
       "17. 'COVERTYPE'\n",
       "18. 'EXPTOT'\n",
       "19. 'OBTOTVIS'\n",
       "20. 'DCSDIABDX'\n",
       "\n",
       "\n"
      ],
      "text/plain": [
       " [1] \"YEAR\"       \"PERNUM\"     \"DUID\"       \"PID\"        \"MEPSID\"    \n",
       " [6] \"PANEL\"      \"PSUANN\"     \"STRATANN\"   \"PSUPLD\"     \"STRATAPLD\" \n",
       "[11] \"PANELYR\"    \"RELYR\"      \"PERWEIGHT\"  \"SAQWEIGHT\"  \"DIABWEIGHT\"\n",
       "[16] \"HEALTH\"     \"COVERTYPE\"  \"EXPTOT\"     \"OBTOTVIS\"   \"DCSDIABDX\" "
      ]
     },
     "metadata": {},
     "output_type": "display_data"
    }
   ],
   "source": [
    "colnames(dat)"
   ]
  },
  {
   "cell_type": "markdown",
   "id": "9f3789ff-c213-4701-87e1-588a732fe95c",
   "metadata": {},
   "source": [
    "**Variable Selection**\n",
    "* Health Status (HEALTH)\n",
    "* Health Insuraance Coverage Type (Hierarchy) (COVERTYPE)\n",
    "* Annual Total of Direct Health Care Payments (EXPTOT)\n",
    "* Annual Total Number of Visits Made to Office-Based Medical Providers (OBTOTVIS)\n",
    "* Respondent Has Been Told They Have Diabetes (DCSDIABDX)\n",
    "\n",
    "**IPUMS Preselected Variables**\n",
    "* Survey Year (YEAR)\n",
    "* Person Number within Family/Household (from reformatting) (PERNUM)\n",
    "* Dwelling Unit ID (DUID)\n",
    "* Person Number (PID)\n",
    "* MEPS Unique Identifier (IPUMS Generated) (MEPSID)\n",
    "* Panel (PANEL)\n",
    "* Annual Primary Sampling Unit (PSU) for Variance Estimation (PSUANN)\n",
    "* Annual Stratum for Variance Estimation (STRATANN)\n",
    "* Pooled Primary Sampling Unit (PSU) for Variance Estimation (PSUPLD)\n",
    "* Pooled Variance Stratum (STRATAPLD)\n",
    "* Year Entered MEPS (PANELYR)\n",
    "* Relative Year 1 or 2 in Panel (RELYR)\n",
    "* Final Basic Annual Weight (PERWEIGHT)\n",
    "* Self-Administered Questionnaire Weight (SAQWEIGHT)\n",
    "* Diabetes Care Weight (DIABWEIGHT)"
   ]
  },
  {
   "cell_type": "markdown",
   "id": "d37d499c-b97a-4a22-b3b5-73d89c530d16",
   "metadata": {},
   "source": [
    "### 5d. Save the Data\n",
    "\n",
    "Next let's save a couple versions of our IPUMS MEPS data file.\n",
    "\n",
    "* A *.rds* version of the data.  The **R Data Serialization (RDS)** format will retain metadata for the next time we want to import the file back into R.  One downside to the .rds format is it is only useable within R.\n",
    "* A *.csv* version of the data.  The [**Comma-Separated Values (CSV)**](https://en.wikipedia.org/wiki/Comma-separated_values) format is versitile and can be easily accessed in other programs.  However, the CSV file format does not include metadata such as labels for variable levels."
   ]
  },
  {
   "cell_type": "code",
   "execution_count": 39,
   "id": "d55da418-c4fe-4e02-8728-6b9d9b890765",
   "metadata": {},
   "outputs": [],
   "source": [
    "saveRDS(dat, \"ipums_meps_example.rds\")\n",
    "write.csv(dat, \"ipums_mepss_example.csv\")"
   ]
  },
  {
   "cell_type": "markdown",
   "id": "4b21aeef-dac8-4138-a515-9e0626c3b27b",
   "metadata": {},
   "source": [
    "## Recommended Next Steps\n",
    "* **Continue with Chapter 2: IPUMS Data Acquisition and Extraction**\n",
    "  * 2.1: IPUMS USA Data Extraction Using ipumsr\n",
    "  * 2.2: IPUMS CPS Data Extraction Using ipumsr\n",
    "  * 2.3: IPUMS International Microdata Extraction Using ipumsr\n",
    "  * 2.4: IPUMS NHGIS Data Extraction Using ipumsr\n",
    "  * 2.5: IPUMS Time Use Data Extraction Using ipumsr\n",
    "  * 2.7: Reading IPUMS Global Health Data Extracts Using ipumsr\n",
    "  * 2.8: Reading IPUMS Higher Education Data Extracts Using ipumsr"
   ]
  }
 ],
 "metadata": {
  "kernelspec": {
   "display_name": "R",
   "language": "R",
   "name": "ir"
  },
  "language_info": {
   "codemirror_mode": "r",
   "file_extension": ".r",
   "mimetype": "text/x-r-source",
   "name": "R",
   "pygments_lexer": "r",
   "version": "4.3.3"
  }
 },
 "nbformat": 4,
 "nbformat_minor": 5
}
