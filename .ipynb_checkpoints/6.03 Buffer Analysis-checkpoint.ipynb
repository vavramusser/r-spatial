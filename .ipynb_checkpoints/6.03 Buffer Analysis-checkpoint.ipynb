{
 "cells": [
  {
   "cell_type": "markdown",
   "id": "a4659146-97c2-4666-bd68-367141e13b42",
   "metadata": {},
   "source": [
    "# Buffer Analysis"
   ]
  },
  {
   "cell_type": "markdown",
   "id": "1f575a3c-005a-4ab8-bbde-b3b378305f57",
   "metadata": {},
   "source": [
    "## Introduction\n",
    "\n",
    "This notebook demonstrates a buffer analysis to assess population exposure to air pollutants using PM2.5 data from the [U.S. EPA Air Quality System (AQS)](https://www.epa.gov/aqs). [Buffer analysis](https://en.wikipedia.org/wiki/Buffer_analysis) is essential in spatial data analysis for identifying areas impacted within a specified distance of a point location, such as air quality monitoring sites. Here, we will create buffers around PM2.5 monitoring sites and overlay population data to estimate the population potentially exposed to pollutants within these buffer zones."
   ]
  },
  {
   "cell_type": "markdown",
   "id": "f7a23bec-c7b7-40cb-843a-30e438a6ff34",
   "metadata": {},
   "source": [
    "### The United States Environmental Protection Agency's (EPA) Air Quality System (AQS) Database and API\n",
    "\n",
    "The [EPA’s Air Quality System (AQS) API](https://aqs.epa.gov/aqsweb/documents/data_api.html) provides access to detailed, historical data on ambient air quality collected across the United States. Developed and maintained by the [United States Environmental Protection Agency (EPA)](https://www.epa.gov), the [Air Quality System (AQS)](https://www.epa.gov/aqs) houses data from thousands of air pollution monitoring stations operated by state, local, tribal, and federal agencies.\n",
    "\n",
    "The AQS API offers row-level data on pollutant measurements, site metadata, and meteorological conditions, enabling research in environmental science, public health, and policy. AQS data include information about criteria pollutants like particulate matter (PM2.5 and PM10), ozone, sulfur dioxide, carbon monoxide, nitrogen dioxide, and lead. These data are highly valuable for understanding air quality trends and analyzing the relationship between pollution exposure and health outcomes across different demographics and geographies.\n",
    "\n",
    "The [RAQSAPI package](https://cran.r-project.org/web/packages/RAQSAPI/index.html) is a tool for retrieving and managing AQS data in R, facilitating direct, programmatic access to EPA’s air quality database. By interfacing with the AQS API, RAQSAPI enables users to retrieve historical air quality data for specific pollutants, states, monitoring sites, or time periods directly into R for analysis.\n",
    "\n",
    "#### Create Your EPA AQS API Key\n",
    "To use the AQS API, users need to register for an API key.  To register via email, update the following link with your email address (replace \"myemail@example.com\" in the example with your email address) and navigate to the link.\n",
    "\n",
    "https://aqs.epa.gov/data/api/signup?email=myemail@example.com\n",
    "\n",
    "An email containing your API key will be sent to the registered address from aqsdatamart@epa.gov."
   ]
  },
  {
   "cell_type": "markdown",
   "id": "b0588a2b-db20-44ec-b9a2-1a6dfb3a73de",
   "metadata": {},
   "source": [
    "#### Overview\n",
    "This notebook includes the following sections:\n",
    "\n",
    "1. Setup\n",
    "2. Data Acquisition\n",
    "3. USA Data Extraction Specification and Submission"
   ]
  },
  {
   "cell_type": "markdown",
   "id": "a9ec4dff-5f81-4248-8405-61b735b62581",
   "metadata": {},
   "source": [
    "## 1 Setup\n",
    "\n",
    "### 1a. Package Installation\n",
    "\n",
    "Before running this script, you will need to install and load the following packages into your R environment:"
   ]
  },
  {
   "cell_type": "markdown",
   "id": "2b89930c-47e1-43bb-86a4-77661d68ca86",
   "metadata": {},
   "source": [
    "[**dplyr**](https://cran.r-project.org/web/packages/dplyr/index.html) A package for data manipulation that provides a consistent set of functions to filter, arrange, summarize, and transform data. *dplyr* makes it easy to work with data frames and perform operations efficiently.  This notebook uses the the following functions from *dplyr*.\n",
    "\n",
    "* [*group_by()*](https://dplyr.tidyverse.org/reference/group_by.html) for grouping by one or more variables\n",
    "* [*summarize()*](https://dplyr.tidyverse.org/reference/summarise.html) for creating a new data frame using combinations of grouping variables\n",
    "* This notebook also uses [*%>%*](https://magrittr.tidyverse.org/reference/pipe.html), referred to as the *pipe* operator, which is used to pass the output from one function directly into the next function for the purpose of creating streamlined workflows.  The *pipe* operator is a commonly used component of the [*tidyverse*](https://www.tidyverse.org)."
   ]
  },
  {
   "cell_type": "markdown",
   "id": "073b91d3-85fe-44f0-a876-37398152059b",
   "metadata": {},
   "source": [
    "[**ggplot2**](https://cran.r-project.org/web/packages/ggplot2/index.html) A package for creating graphics based on the \"Grammar of Graphics\".  This notebook uses the following functions from *ggplot2*.\n",
    "\n",
    "* [*geom_sf()*](https://ggplot2.tidyverse.org/reference/ggsf.html) for visualizing (mapping) sf objects"
   ]
  },
  {
   "cell_type": "markdown",
   "id": "938dcbba-8780-49bf-92f5-dcc5281a6956",
   "metadata": {},
   "source": [
    "[**ipumsr**](https://cran.r-project.org/web/packages/ipumsr/index.html) A package specifically designed to interact with IPUMS datasets, including NHGIS. It allows users to define and submit data extraction requests, download data, and read it directly into R for analysis.  This notebook uses the the following functions from *ipumsr*.\n",
    "\n",
    "* *set_ipums_api_key()* for setting your IPUMS API key\n",
    "* *define_extract_nhgis()* for defining an IPUMS NHGIS extract request\n",
    "* *tst_spec()* for creating a tst_spec object containing a time-series table specification\n",
    "* *submit_exract()* for submitting an extract request via the IPUMS API and return an *ipums_extract* object\n",
    "* *wait_for_extract()* wait for an extract to finish processing\n",
    "* *download_extract()* download an extract's data files\n",
    "* *read_ipums_ddi()* for reading metadata about an IPUMS microdata extract from a DDI codebook (.xml) file\n",
    "* *read_ipums_micro()* for reading data from an IPUMS microdata extract\n",
    "* *read_nhgis()* for reading tabular data from an NHGIS extract\n",
    "* *read_ipums_sf()* for reading spatial data from an IPUMS extract"
   ]
  },
  {
   "cell_type": "markdown",
   "id": "d218c92f-9aff-4c2a-9b2d-f4f89c1cfb3c",
   "metadata": {},
   "source": [
    "[**RAQSAPI**](https://cran.r-project.org/web/packages/RAQSAPI/index.html) A package designed to interface with the [United States Environmental Protection Agency's (EPA) Air Quality System (AQS) Data Mart API](https://aqs.epa.gov/aqsweb/documents/data_api.html) and retrieve air monitoring data and associated metadata from the EPA's air quality monitoring service.  This notebook uses the the following functions from *RAQSAPI*.\n",
    "\n",
    "* *aqs_credentials()* for setting the user credentials for the AQS API\n",
    "* *aqs_annualsummary_by_state()* for returning annual data from the AQS API aggregated at the state level"
   ]
  },
  {
   "cell_type": "markdown",
   "id": "d68bfae4-d25b-4bbe-8e11-0f80f274671a",
   "metadata": {},
   "source": [
    "[**sf**](https://cran.r-project.org/web/packages/sf/index.html) A package providing support for simple features (sf) geometry objects, a standardized way to encode spatial vector data.  This notebook uses the following functions from *sf*.\n",
    "\n",
    "* [*st_as_sf()*](https://r-spatial.github.io/sf/reference/st_as_sf.html) for converting a foreign object on a sf object\n",
    "* [*st_buffer()*](https://r-spatial.github.io/sf/reference/geos_unary.html) for carrying out a unary buffer operation on simple feature geometries\n",
    "* [*st_intersection()*](https://r-spatial.github.io/sf/reference/geos_binary_ops.html) for performing geometric set operations with simple feature geometry collections\n",
    "* [*st_transform()*](https://r-spatial.github.io/sf/reference/st_transform.html) for transforming or converting coordinates of simple feature"
   ]
  },
  {
   "cell_type": "markdown",
   "id": "fde1997c-b105-441f-822b-518b27d5a389",
   "metadata": {},
   "source": [
    "If you are working in the I-GUIDE environment, these packages should be already be installed.  However you will still need to load the packages into your workspace using *library* base R function."
   ]
  },
  {
   "cell_type": "code",
   "execution_count": 36,
   "id": "8a913ad8-b99c-44d9-9704-0b800d513e0d",
   "metadata": {},
   "outputs": [],
   "source": [
    "#install.packages(\"dplyr\", \"ggplot2\", \"ipumsr\", \"RAQSAPI\", \"sf\")"
   ]
  },
  {
   "cell_type": "code",
   "execution_count": 12,
   "id": "560d292d-ead4-4f12-ae76-0384f2a6a5d2",
   "metadata": {},
   "outputs": [],
   "source": [
    "library(dplyr)\n",
    "library(ggplot2)\n",
    "library(ipumsr)\n",
    "library(RAQSAPI)\n",
    "library(sf)"
   ]
  },
  {
   "cell_type": "markdown",
   "id": "b4c62f5c-cc07-4f6a-9859-f8e72319e461",
   "metadata": {},
   "source": [
    "#### Connect your IPUMS API Key\n",
    "\n",
    "Run the following code to enter your [IPUMS API key](https://account.ipums.org/api_keys).  Refer to the **Introduction to IPUMS and the IPUMS API** notebook for background on the IPUMS data repository and for instructions on setting up your IPUMS account and API key."
   ]
  },
  {
   "cell_type": "code",
   "execution_count": 8,
   "id": "538cec42-57ab-4838-90f6-8e8adc37a951",
   "metadata": {},
   "outputs": [
    {
     "name": "stdin",
     "output_type": "stream",
     "text": [
      "Please enter your IPUMS API key:  59cba10d8a5da536fc06b59dd85f877c475a4c7d96dd08a9ce04d9d0\n"
     ]
    },
    {
     "name": "stderr",
     "output_type": "stream",
     "text": [
      "Existing .Renviron file copied to C:\\Users\\vavra\\Documents/.Renviron_backup for backup purposes.\n",
      "\n",
      "The environment variable IPUMS_API_KEY has been set and saved for future sessions.\n",
      "\n"
     ]
    }
   ],
   "source": [
    "ipumps_api_key = readline(\"Please enter your IPUMS API key: \")\n",
    "set_ipums_api_key(ipumps_api_key, save = T, overwrite = T)"
   ]
  },
  {
   "cell_type": "markdown",
   "id": "75c934a1-2534-4da5-bfef-35361f05ae42",
   "metadata": {},
   "source": [
    "#### Connect your EPA AQS API Key\n",
    "\n",
    "Run the following code to enter your [EPA AQS](https://aqs.epa.gov/aqsweb/documents/data_api.html) API username (email) and key.  Refer to the **Introduction to the Environmental Protection Agency (EPA) Air Quality System (AQS) Data Repository and API** notebook for background on the EPA AQS data repository and for instructions on setting up your EPA AQS API key."
   ]
  },
  {
   "cell_type": "code",
   "execution_count": 16,
   "id": "8ebb9283-ee64-4723-be98-a472e9050e43",
   "metadata": {},
   "outputs": [
    {
     "name": "stdin",
     "output_type": "stream",
     "text": [
      "Please enter your EPA AQS API username (email):  vavramusser@gmail.com\n",
      "Please enter your EPA AQS API key:  ochreosprey45\n"
     ]
    }
   ],
   "source": [
    "aqs_api_email = readline(\"Please enter your EPA AQS API username (email): \")\n",
    "aqs_api_key = readline(\"Please enter your EPA AQS API key: \")\n",
    "aqs_credentials(aqs_api_email, aqs_api_key)"
   ]
  },
  {
   "cell_type": "markdown",
   "id": "375504ca-a3af-4547-8410-9f730da9c7ce",
   "metadata": {},
   "source": [
    "## 2. PM 2.5 Emissions Data Acquisition Using RAQSAPI\n",
    "\n",
    "For this exercise, we will explore differences between populations living in high vs. low PM2 2.5 emissions areas.  To do this we will first we will acquire [PM2.5 (particulate matter)](https://en.wikipedia.org/wiki/Particulates) emission estimates at monitoring site locations for the state of California in 2023 - sourced from the from the U.S. EPA Air Quality System (AQS) via the AQS API\n",
    "\n",
    "We will be using the *aqs_annualsummary_by_state()* function from the *RAQSAPI* package for our API request.  This function is specifically designed for retrieving annual data at the state level.  However, the *RAQSAPI* R pakcage provides many other functions for setting up API pulls with different parameterization.  Refer to the [*RAQSAPI* user manuel](https://cran.r-project.org/web/packages/RAQSAPI/RAQSAPI.pdf) for a comprehensive list of all available functions. \n",
    "\n",
    "To define the API request using the *aqs_annualsummary_by_state()* function, we need to provide the following information:\n",
    "\n",
    "* [EPA AQS parameter code](https://www.epa.gov/aqs/aqs-code-list): we will use code \"88101\" corresponding to PM 2.5\n",
    "* [state FIPS code](https://transition.fcc.gov/oet/info/maps/census/fips/fips.txt)\n",
    "* start date\n",
    "* end date\n",
    "\n",
    "For this example, we will use parameter code 88101 (correspoding to PM 2.5), California state FIPS code \"06\", and a start and end date of January 1 and December 31, 2023."
   ]
  },
  {
   "cell_type": "code",
   "execution_count": 18,
   "id": "43651a36-cf26-42c6-af68-fb31c69a0572",
   "metadata": {},
   "outputs": [],
   "source": [
    "pm25_data <- aqs_annualsummary_by_state(\n",
    "  parameter = \"88101\",                                # paraemter code for PM 2.5\n",
    "  stateFIPS = \"06\",                                   # state FIPS code for California\n",
    "  bdate = as.Date(\"20230101\", format = \"%Y%m%d\"),     # start date (January 1, 2023)\n",
    "  edate = as.Date(\"20231231\", format = \"%Y%m%d\")      # end date (December 31, 2023)\n",
    ")"
   ]
  },
  {
   "cell_type": "markdown",
   "id": "6c222a70-a0b2-43f9-85fd-f556a73e36c4",
   "metadata": {},
   "source": [
    "The API request should return a tibble containing information on PM 2.5 emissions from monitoring sites in California.  Let's take a look at the first few rows of data."
   ]
  },
  {
   "cell_type": "code",
   "execution_count": 20,
   "id": "36d5ad5c-e9e8-4c36-aa1c-7e012cccbb98",
   "metadata": {},
   "outputs": [
    {
     "data": {
      "text/html": [
       "<table class=\"dataframe\">\n",
       "<caption>A data.frame: 6 × 56</caption>\n",
       "<thead>\n",
       "\t<tr><th></th><th scope=col>state_code</th><th scope=col>county_code</th><th scope=col>site_number</th><th scope=col>parameter_code</th><th scope=col>poc</th><th scope=col>latitude</th><th scope=col>longitude</th><th scope=col>datum</th><th scope=col>parameter</th><th scope=col>sample_duration_code</th><th scope=col>⋯</th><th scope=col>fiftieth_percentile</th><th scope=col>tenth_percentile</th><th scope=col>local_site_name</th><th scope=col>site_address</th><th scope=col>state</th><th scope=col>county</th><th scope=col>city</th><th scope=col>cbsa_code</th><th scope=col>cbsa</th><th scope=col>date_of_last_change</th></tr>\n",
       "\t<tr><th></th><th scope=col>&lt;chr&gt;</th><th scope=col>&lt;chr&gt;</th><th scope=col>&lt;chr&gt;</th><th scope=col>&lt;chr&gt;</th><th scope=col>&lt;int&gt;</th><th scope=col>&lt;dbl&gt;</th><th scope=col>&lt;dbl&gt;</th><th scope=col>&lt;chr&gt;</th><th scope=col>&lt;chr&gt;</th><th scope=col>&lt;chr&gt;</th><th scope=col>⋯</th><th scope=col>&lt;dbl&gt;</th><th scope=col>&lt;dbl&gt;</th><th scope=col>&lt;chr&gt;</th><th scope=col>&lt;chr&gt;</th><th scope=col>&lt;chr&gt;</th><th scope=col>&lt;chr&gt;</th><th scope=col>&lt;chr&gt;</th><th scope=col>&lt;chr&gt;</th><th scope=col>&lt;chr&gt;</th><th scope=col>&lt;chr&gt;</th></tr>\n",
       "</thead>\n",
       "<tbody>\n",
       "\t<tr><th scope=row>1</th><td>06</td><td>073</td><td>1006</td><td>88101</td><td>3</td><td>32.84232</td><td>-116.7683</td><td>NAD83</td><td>PM2.5 - Local Conditions</td><td>1</td><td>⋯</td><td> NA</td><td> NA</td><td>Alpine</td><td>2300 VICTORIA DR., ALPINE</td><td>California</td><td>San Diego</td><td>Alpine</td><td>41740</td><td>San Diego-Carlsbad, CA</td><td>2024-08-05</td></tr>\n",
       "\t<tr><th scope=row>2</th><td>06</td><td>073</td><td>1006</td><td>88101</td><td>3</td><td>32.84232</td><td>-116.7683</td><td>NAD83</td><td>PM2.5 - Local Conditions</td><td>1</td><td>⋯</td><td>6.1</td><td>2.1</td><td>Alpine</td><td>2300 VICTORIA DR., ALPINE</td><td>California</td><td>San Diego</td><td>Alpine</td><td>41740</td><td>San Diego-Carlsbad, CA</td><td>2024-08-05</td></tr>\n",
       "\t<tr><th scope=row>3</th><td>06</td><td>073</td><td>1006</td><td>88101</td><td>3</td><td>32.84232</td><td>-116.7683</td><td>NAD83</td><td>PM2.5 - Local Conditions</td><td>1</td><td>⋯</td><td>6.1</td><td>2.1</td><td>Alpine</td><td>2300 VICTORIA DR., ALPINE</td><td>California</td><td>San Diego</td><td>Alpine</td><td>41740</td><td>San Diego-Carlsbad, CA</td><td>2024-08-05</td></tr>\n",
       "\t<tr><th scope=row>4</th><td>06</td><td>073</td><td>1006</td><td>88101</td><td>3</td><td>32.84232</td><td>-116.7683</td><td>NAD83</td><td>PM2.5 - Local Conditions</td><td>X</td><td>⋯</td><td> NA</td><td> NA</td><td>Alpine</td><td>2300 VICTORIA DR., ALPINE</td><td>California</td><td>San Diego</td><td>Alpine</td><td>41740</td><td>San Diego-Carlsbad, CA</td><td>2024-08-05</td></tr>\n",
       "\t<tr><th scope=row>5</th><td>06</td><td>073</td><td>1006</td><td>88101</td><td>3</td><td>32.84232</td><td>-116.7683</td><td>NAD83</td><td>PM2.5 - Local Conditions</td><td>X</td><td>⋯</td><td> NA</td><td> NA</td><td>Alpine</td><td>2300 VICTORIA DR., ALPINE</td><td>California</td><td>San Diego</td><td>Alpine</td><td>41740</td><td>San Diego-Carlsbad, CA</td><td>2024-08-05</td></tr>\n",
       "\t<tr><th scope=row>6</th><td>06</td><td>073</td><td>1006</td><td>88101</td><td>3</td><td>32.84232</td><td>-116.7683</td><td>NAD83</td><td>PM2.5 - Local Conditions</td><td>X</td><td>⋯</td><td> NA</td><td> NA</td><td>Alpine</td><td>2300 VICTORIA DR., ALPINE</td><td>California</td><td>San Diego</td><td>Alpine</td><td>41740</td><td>San Diego-Carlsbad, CA</td><td>2024-08-05</td></tr>\n",
       "</tbody>\n",
       "</table>\n"
      ],
      "text/latex": [
       "A data.frame: 6 × 56\n",
       "\\begin{tabular}{r|lllllllllllllllllllll}\n",
       "  & state\\_code & county\\_code & site\\_number & parameter\\_code & poc & latitude & longitude & datum & parameter & sample\\_duration\\_code & ⋯ & fiftieth\\_percentile & tenth\\_percentile & local\\_site\\_name & site\\_address & state & county & city & cbsa\\_code & cbsa & date\\_of\\_last\\_change\\\\\n",
       "  & <chr> & <chr> & <chr> & <chr> & <int> & <dbl> & <dbl> & <chr> & <chr> & <chr> & ⋯ & <dbl> & <dbl> & <chr> & <chr> & <chr> & <chr> & <chr> & <chr> & <chr> & <chr>\\\\\n",
       "\\hline\n",
       "\t1 & 06 & 073 & 1006 & 88101 & 3 & 32.84232 & -116.7683 & NAD83 & PM2.5 - Local Conditions & 1 & ⋯ &  NA &  NA & Alpine & 2300 VICTORIA DR., ALPINE & California & San Diego & Alpine & 41740 & San Diego-Carlsbad, CA & 2024-08-05\\\\\n",
       "\t2 & 06 & 073 & 1006 & 88101 & 3 & 32.84232 & -116.7683 & NAD83 & PM2.5 - Local Conditions & 1 & ⋯ & 6.1 & 2.1 & Alpine & 2300 VICTORIA DR., ALPINE & California & San Diego & Alpine & 41740 & San Diego-Carlsbad, CA & 2024-08-05\\\\\n",
       "\t3 & 06 & 073 & 1006 & 88101 & 3 & 32.84232 & -116.7683 & NAD83 & PM2.5 - Local Conditions & 1 & ⋯ & 6.1 & 2.1 & Alpine & 2300 VICTORIA DR., ALPINE & California & San Diego & Alpine & 41740 & San Diego-Carlsbad, CA & 2024-08-05\\\\\n",
       "\t4 & 06 & 073 & 1006 & 88101 & 3 & 32.84232 & -116.7683 & NAD83 & PM2.5 - Local Conditions & X & ⋯ &  NA &  NA & Alpine & 2300 VICTORIA DR., ALPINE & California & San Diego & Alpine & 41740 & San Diego-Carlsbad, CA & 2024-08-05\\\\\n",
       "\t5 & 06 & 073 & 1006 & 88101 & 3 & 32.84232 & -116.7683 & NAD83 & PM2.5 - Local Conditions & X & ⋯ &  NA &  NA & Alpine & 2300 VICTORIA DR., ALPINE & California & San Diego & Alpine & 41740 & San Diego-Carlsbad, CA & 2024-08-05\\\\\n",
       "\t6 & 06 & 073 & 1006 & 88101 & 3 & 32.84232 & -116.7683 & NAD83 & PM2.5 - Local Conditions & X & ⋯ &  NA &  NA & Alpine & 2300 VICTORIA DR., ALPINE & California & San Diego & Alpine & 41740 & San Diego-Carlsbad, CA & 2024-08-05\\\\\n",
       "\\end{tabular}\n"
      ],
      "text/markdown": [
       "\n",
       "A data.frame: 6 × 56\n",
       "\n",
       "| <!--/--> | state_code &lt;chr&gt; | county_code &lt;chr&gt; | site_number &lt;chr&gt; | parameter_code &lt;chr&gt; | poc &lt;int&gt; | latitude &lt;dbl&gt; | longitude &lt;dbl&gt; | datum &lt;chr&gt; | parameter &lt;chr&gt; | sample_duration_code &lt;chr&gt; | ⋯ ⋯ | fiftieth_percentile &lt;dbl&gt; | tenth_percentile &lt;dbl&gt; | local_site_name &lt;chr&gt; | site_address &lt;chr&gt; | state &lt;chr&gt; | county &lt;chr&gt; | city &lt;chr&gt; | cbsa_code &lt;chr&gt; | cbsa &lt;chr&gt; | date_of_last_change &lt;chr&gt; |\n",
       "|---|---|---|---|---|---|---|---|---|---|---|---|---|---|---|---|---|---|---|---|---|---|\n",
       "| 1 | 06 | 073 | 1006 | 88101 | 3 | 32.84232 | -116.7683 | NAD83 | PM2.5 - Local Conditions | 1 | ⋯ |  NA |  NA | Alpine | 2300 VICTORIA DR., ALPINE | California | San Diego | Alpine | 41740 | San Diego-Carlsbad, CA | 2024-08-05 |\n",
       "| 2 | 06 | 073 | 1006 | 88101 | 3 | 32.84232 | -116.7683 | NAD83 | PM2.5 - Local Conditions | 1 | ⋯ | 6.1 | 2.1 | Alpine | 2300 VICTORIA DR., ALPINE | California | San Diego | Alpine | 41740 | San Diego-Carlsbad, CA | 2024-08-05 |\n",
       "| 3 | 06 | 073 | 1006 | 88101 | 3 | 32.84232 | -116.7683 | NAD83 | PM2.5 - Local Conditions | 1 | ⋯ | 6.1 | 2.1 | Alpine | 2300 VICTORIA DR., ALPINE | California | San Diego | Alpine | 41740 | San Diego-Carlsbad, CA | 2024-08-05 |\n",
       "| 4 | 06 | 073 | 1006 | 88101 | 3 | 32.84232 | -116.7683 | NAD83 | PM2.5 - Local Conditions | X | ⋯ |  NA |  NA | Alpine | 2300 VICTORIA DR., ALPINE | California | San Diego | Alpine | 41740 | San Diego-Carlsbad, CA | 2024-08-05 |\n",
       "| 5 | 06 | 073 | 1006 | 88101 | 3 | 32.84232 | -116.7683 | NAD83 | PM2.5 - Local Conditions | X | ⋯ |  NA |  NA | Alpine | 2300 VICTORIA DR., ALPINE | California | San Diego | Alpine | 41740 | San Diego-Carlsbad, CA | 2024-08-05 |\n",
       "| 6 | 06 | 073 | 1006 | 88101 | 3 | 32.84232 | -116.7683 | NAD83 | PM2.5 - Local Conditions | X | ⋯ |  NA |  NA | Alpine | 2300 VICTORIA DR., ALPINE | California | San Diego | Alpine | 41740 | San Diego-Carlsbad, CA | 2024-08-05 |\n",
       "\n"
      ],
      "text/plain": [
       "  state_code county_code site_number parameter_code poc latitude longitude\n",
       "1 06         073         1006        88101          3   32.84232 -116.7683\n",
       "2 06         073         1006        88101          3   32.84232 -116.7683\n",
       "3 06         073         1006        88101          3   32.84232 -116.7683\n",
       "4 06         073         1006        88101          3   32.84232 -116.7683\n",
       "5 06         073         1006        88101          3   32.84232 -116.7683\n",
       "6 06         073         1006        88101          3   32.84232 -116.7683\n",
       "  datum parameter                sample_duration_code ⋯ fiftieth_percentile\n",
       "1 NAD83 PM2.5 - Local Conditions 1                    ⋯  NA                \n",
       "2 NAD83 PM2.5 - Local Conditions 1                    ⋯ 6.1                \n",
       "3 NAD83 PM2.5 - Local Conditions 1                    ⋯ 6.1                \n",
       "4 NAD83 PM2.5 - Local Conditions X                    ⋯  NA                \n",
       "5 NAD83 PM2.5 - Local Conditions X                    ⋯  NA                \n",
       "6 NAD83 PM2.5 - Local Conditions X                    ⋯  NA                \n",
       "  tenth_percentile local_site_name site_address              state     \n",
       "1  NA              Alpine          2300 VICTORIA DR., ALPINE California\n",
       "2 2.1              Alpine          2300 VICTORIA DR., ALPINE California\n",
       "3 2.1              Alpine          2300 VICTORIA DR., ALPINE California\n",
       "4  NA              Alpine          2300 VICTORIA DR., ALPINE California\n",
       "5  NA              Alpine          2300 VICTORIA DR., ALPINE California\n",
       "6  NA              Alpine          2300 VICTORIA DR., ALPINE California\n",
       "  county    city   cbsa_code cbsa                   date_of_last_change\n",
       "1 San Diego Alpine 41740     San Diego-Carlsbad, CA 2024-08-05         \n",
       "2 San Diego Alpine 41740     San Diego-Carlsbad, CA 2024-08-05         \n",
       "3 San Diego Alpine 41740     San Diego-Carlsbad, CA 2024-08-05         \n",
       "4 San Diego Alpine 41740     San Diego-Carlsbad, CA 2024-08-05         \n",
       "5 San Diego Alpine 41740     San Diego-Carlsbad, CA 2024-08-05         \n",
       "6 San Diego Alpine 41740     San Diego-Carlsbad, CA 2024-08-05         "
      ]
     },
     "metadata": {},
     "output_type": "display_data"
    }
   ],
   "source": [
    "head(pm25_data)"
   ]
  },
  {
   "cell_type": "markdown",
   "id": "2b878df6-2f57-45e6-ae3d-ad971727ed16",
   "metadata": {},
   "source": [
    "From this data preview, we can see that the first monitor in the dataset (site number 1006) is represented at least six times in the data.  The EPA AQS data returns information collected from monitoring sites but also provides monitoring results based on multiple different scenarios.\n",
    "\n",
    "Let's compare the number of observations (rows) to the number of unique monitoring sites in our data."
   ]
  },
  {
   "cell_type": "code",
   "execution_count": 21,
   "id": "5ae0207a-157d-492f-9cdd-d0b559c86404",
   "metadata": {},
   "outputs": [
    {
     "data": {
      "text/html": [
       "1733"
      ],
      "text/latex": [
       "1733"
      ],
      "text/markdown": [
       "1733"
      ],
      "text/plain": [
       "[1] 1733"
      ]
     },
     "metadata": {},
     "output_type": "display_data"
    },
    {
     "data": {
      "text/html": [
       "70"
      ],
      "text/latex": [
       "70"
      ],
      "text/markdown": [
       "70"
      ],
      "text/plain": [
       "[1] 70"
      ]
     },
     "metadata": {},
     "output_type": "display_data"
    }
   ],
   "source": [
    "# total number of observations\n",
    "dim(pm25_data)[1]\n",
    "\n",
    "# number of unique site numbers\n",
    "length(unique(pm25_data$site_number))"
   ]
  },
  {
   "cell_type": "markdown",
   "id": "7fbb3cc9-c392-4f80-a84e-c83cd623cfac",
   "metadata": {},
   "source": [
    "Our data has 1733 rows for 70 unique monitors!\n",
    "\n",
    "Let's take a look at all the rows in our data set which correspond to site number 1006.  For this view we sill select a subset of the columns to focus on."
   ]
  },
  {
   "cell_type": "code",
   "execution_count": 22,
   "id": "8438c84d-ebba-499c-9c46-e0efb585f0d7",
   "metadata": {},
   "outputs": [
    {
     "data": {
      "text/html": [
       "<table class=\"dataframe\">\n",
       "<caption>A data.frame: 45 × 11</caption>\n",
       "<thead>\n",
       "\t<tr><th scope=col>site_number</th><th scope=col>sample_duration</th><th scope=col>pollutant_standard</th><th scope=col>metric_used</th><th scope=col>method</th><th scope=col>event_type</th><th scope=col>observation_count</th><th scope=col>validity_indicator</th><th scope=col>valid_day_count</th><th scope=col>arithmetic_mean</th><th scope=col>standard_deviation</th></tr>\n",
       "\t<tr><th scope=col>&lt;chr&gt;</th><th scope=col>&lt;chr&gt;</th><th scope=col>&lt;chr&gt;</th><th scope=col>&lt;chr&gt;</th><th scope=col>&lt;chr&gt;</th><th scope=col>&lt;chr&gt;</th><th scope=col>&lt;int&gt;</th><th scope=col>&lt;chr&gt;</th><th scope=col>&lt;int&gt;</th><th scope=col>&lt;dbl&gt;</th><th scope=col>&lt;dbl&gt;</th></tr>\n",
       "</thead>\n",
       "<tbody>\n",
       "\t<tr><td>1006</td><td>1 HOUR       </td><td>NA               </td><td>Observed Values               </td><td>Multiple Methods Used                                                </td><td>Events Excluded          </td><td>3976</td><td>Y</td><td>353</td><td>6.485136</td><td>3.669158</td></tr>\n",
       "\t<tr><td>1006</td><td>1 HOUR       </td><td>NA               </td><td>Observed Values               </td><td>Multiple Methods Used                                                </td><td>Events Included          </td><td>8425</td><td>Y</td><td>353</td><td>6.569875</td><td>3.815335</td></tr>\n",
       "\t<tr><td>1006</td><td>1 HOUR       </td><td>NA               </td><td>Observed Values               </td><td>Multiple Methods Used                                                </td><td>Concurred Events Excluded</td><td>8425</td><td>Y</td><td>353</td><td>6.569875</td><td>3.815335</td></tr>\n",
       "\t<tr><td>1006</td><td>24-HR BLK AVG</td><td>PM25 24-hour 2006</td><td>Daily Mean                    </td><td>Multiple Methods Used                                                </td><td>Events Excluded          </td><td> 166</td><td>N</td><td>352</td><td>6.416867</td><td>2.963999</td></tr>\n",
       "\t<tr><td>1006</td><td>24-HR BLK AVG</td><td>PM25 Annual 2006 </td><td>Quarterly Means of Daily Means</td><td>Multiple Methods Used                                                </td><td>Events Excluded          </td><td> 166</td><td>N</td><td>352</td><td>6.416867</td><td>2.963999</td></tr>\n",
       "\t<tr><td>1006</td><td>24-HR BLK AVG</td><td>PM25 24-hour 2012</td><td>Daily Mean                    </td><td>Multiple Methods Used                                                </td><td>Events Excluded          </td><td> 166</td><td>N</td><td>352</td><td>6.416867</td><td>2.963999</td></tr>\n",
       "\t<tr><td>1006</td><td>24-HR BLK AVG</td><td>PM25 Annual 2012 </td><td>Quarterly Means of Daily Means</td><td>Multiple Methods Used                                                </td><td>Events Excluded          </td><td> 166</td><td>N</td><td>352</td><td>6.416867</td><td>2.963999</td></tr>\n",
       "\t<tr><td>1006</td><td>24-HR BLK AVG</td><td>PM25 24-hour 1997</td><td>Daily Mean                    </td><td>Multiple Methods Used                                                </td><td>Events Excluded          </td><td> 166</td><td>N</td><td>352</td><td>6.416867</td><td>2.963999</td></tr>\n",
       "\t<tr><td>1006</td><td>24-HR BLK AVG</td><td>PM25 Annual 1997 </td><td>Quarterly Means of Daily Means</td><td>Multiple Methods Used                                                </td><td>Events Excluded          </td><td> 166</td><td>N</td><td>352</td><td>6.416867</td><td>2.963999</td></tr>\n",
       "\t<tr><td>1006</td><td>24-HR BLK AVG</td><td>PM25 24-hour 2024</td><td>Daily Mean                    </td><td>Multiple Methods Used                                                </td><td>Events Excluded          </td><td> 166</td><td>N</td><td>352</td><td>6.416867</td><td>2.963999</td></tr>\n",
       "\t<tr><td>1006</td><td>24-HR BLK AVG</td><td>PM25 Annual 2024 </td><td>Quarterly Means of Daily Means</td><td>Multiple Methods Used                                                </td><td>Events Excluded          </td><td> 166</td><td>N</td><td>352</td><td>6.416867</td><td>2.963999</td></tr>\n",
       "\t<tr><td>1006</td><td>24-HR BLK AVG</td><td>PM25 24-hour 2006</td><td>Daily Mean                    </td><td>Multiple Methods Used                                                </td><td>Events Included          </td><td> 352</td><td>Y</td><td>352</td><td>6.507102</td><td>3.087302</td></tr>\n",
       "\t<tr><td>1006</td><td>24-HR BLK AVG</td><td>PM25 Annual 2006 </td><td>Quarterly Means of Daily Means</td><td>Multiple Methods Used                                                </td><td>Events Included          </td><td> 352</td><td>Y</td><td>352</td><td>6.507102</td><td>3.087302</td></tr>\n",
       "\t<tr><td>1006</td><td>24-HR BLK AVG</td><td>PM25 24-hour 2012</td><td>Daily Mean                    </td><td>Multiple Methods Used                                                </td><td>Events Included          </td><td> 352</td><td>Y</td><td>352</td><td>6.507102</td><td>3.087302</td></tr>\n",
       "\t<tr><td>1006</td><td>24-HR BLK AVG</td><td>PM25 Annual 2012 </td><td>Quarterly Means of Daily Means</td><td>Multiple Methods Used                                                </td><td>Events Included          </td><td> 352</td><td>Y</td><td>352</td><td>6.507102</td><td>3.087302</td></tr>\n",
       "\t<tr><td>1006</td><td>24-HR BLK AVG</td><td>PM25 24-hour 1997</td><td>Daily Mean                    </td><td>Multiple Methods Used                                                </td><td>Events Included          </td><td> 352</td><td>Y</td><td>352</td><td>6.507102</td><td>3.087302</td></tr>\n",
       "\t<tr><td>1006</td><td>24-HR BLK AVG</td><td>PM25 Annual 1997 </td><td>Quarterly Means of Daily Means</td><td>Multiple Methods Used                                                </td><td>Events Included          </td><td> 352</td><td>Y</td><td>352</td><td>6.507102</td><td>3.087302</td></tr>\n",
       "\t<tr><td>1006</td><td>24-HR BLK AVG</td><td>PM25 24-hour 2024</td><td>Daily Mean                    </td><td>Multiple Methods Used                                                </td><td>Events Included          </td><td> 352</td><td>Y</td><td>352</td><td>6.507102</td><td>3.087302</td></tr>\n",
       "\t<tr><td>1006</td><td>24-HR BLK AVG</td><td>PM25 Annual 2024 </td><td>Quarterly Means of Daily Means</td><td>Multiple Methods Used                                                </td><td>Events Included          </td><td> 352</td><td>Y</td><td>352</td><td>6.507102</td><td>3.087302</td></tr>\n",
       "\t<tr><td>1006</td><td>24-HR BLK AVG</td><td>PM25 24-hour 2006</td><td>Daily Mean                    </td><td>Multiple Methods Used                                                </td><td>Concurred Events Excluded</td><td> 166</td><td>N</td><td>352</td><td>6.416867</td><td>2.963999</td></tr>\n",
       "\t<tr><td>1006</td><td>24-HR BLK AVG</td><td>PM25 Annual 2006 </td><td>Quarterly Means of Daily Means</td><td>Multiple Methods Used                                                </td><td>Concurred Events Excluded</td><td> 166</td><td>N</td><td>352</td><td>6.416867</td><td>2.963999</td></tr>\n",
       "\t<tr><td>1006</td><td>24-HR BLK AVG</td><td>PM25 24-hour 2012</td><td>Daily Mean                    </td><td>Multiple Methods Used                                                </td><td>Concurred Events Excluded</td><td> 166</td><td>N</td><td>352</td><td>6.416867</td><td>2.963999</td></tr>\n",
       "\t<tr><td>1006</td><td>24-HR BLK AVG</td><td>PM25 Annual 2012 </td><td>Quarterly Means of Daily Means</td><td>Multiple Methods Used                                                </td><td>Concurred Events Excluded</td><td> 166</td><td>N</td><td>352</td><td>6.416867</td><td>2.963999</td></tr>\n",
       "\t<tr><td>1006</td><td>24-HR BLK AVG</td><td>PM25 24-hour 1997</td><td>Daily Mean                    </td><td>Multiple Methods Used                                                </td><td>Concurred Events Excluded</td><td> 166</td><td>N</td><td>352</td><td>6.416867</td><td>2.963999</td></tr>\n",
       "\t<tr><td>1006</td><td>24-HR BLK AVG</td><td>PM25 Annual 1997 </td><td>Quarterly Means of Daily Means</td><td>Multiple Methods Used                                                </td><td>Concurred Events Excluded</td><td> 166</td><td>N</td><td>352</td><td>6.416867</td><td>2.963999</td></tr>\n",
       "\t<tr><td>1006</td><td>24-HR BLK AVG</td><td>PM25 24-hour 2024</td><td>Daily Mean                    </td><td>Multiple Methods Used                                                </td><td>Concurred Events Excluded</td><td> 166</td><td>N</td><td>352</td><td>6.416867</td><td>2.963999</td></tr>\n",
       "\t<tr><td>1006</td><td>24-HR BLK AVG</td><td>PM25 Annual 2024 </td><td>Quarterly Means of Daily Means</td><td>Multiple Methods Used                                                </td><td>Concurred Events Excluded</td><td> 166</td><td>N</td><td>352</td><td>6.416867</td><td>2.963999</td></tr>\n",
       "\t<tr><td>1006</td><td>1 HOUR       </td><td>NA               </td><td>Observed Values               </td><td>Teledyne T640X at 16.67 LPM (Corrected) - Broadband spectroscopy     </td><td>No Events                </td><td>4449</td><td>N</td><td>186</td><td>5.566779</td><td>3.494104</td></tr>\n",
       "\t<tr><td>1006</td><td>24-HR BLK AVG</td><td>PM25 24-hour 2006</td><td>Daily Mean                    </td><td>NA                                                                   </td><td>No Events                </td><td> 186</td><td>N</td><td>186</td><td>5.515054</td><td>2.817204</td></tr>\n",
       "\t<tr><td>1006</td><td>24-HR BLK AVG</td><td>PM25 Annual 2006 </td><td>Quarterly Means of Daily Means</td><td>NA                                                                   </td><td>No Events                </td><td> 186</td><td>N</td><td>186</td><td>5.515054</td><td>2.817204</td></tr>\n",
       "\t<tr><td>1006</td><td>24-HR BLK AVG</td><td>PM25 24-hour 2012</td><td>Daily Mean                    </td><td>NA                                                                   </td><td>No Events                </td><td> 186</td><td>N</td><td>186</td><td>5.515054</td><td>2.817204</td></tr>\n",
       "\t<tr><td>1006</td><td>24-HR BLK AVG</td><td>PM25 Annual 2012 </td><td>Quarterly Means of Daily Means</td><td>NA                                                                   </td><td>No Events                </td><td> 186</td><td>N</td><td>186</td><td>5.515054</td><td>2.817204</td></tr>\n",
       "\t<tr><td>1006</td><td>24-HR BLK AVG</td><td>PM25 24-hour 1997</td><td>Daily Mean                    </td><td>NA                                                                   </td><td>No Events                </td><td> 186</td><td>N</td><td>186</td><td>5.515054</td><td>2.817204</td></tr>\n",
       "\t<tr><td>1006</td><td>24-HR BLK AVG</td><td>PM25 Annual 1997 </td><td>Quarterly Means of Daily Means</td><td>NA                                                                   </td><td>No Events                </td><td> 186</td><td>N</td><td>186</td><td>5.515054</td><td>2.817204</td></tr>\n",
       "\t<tr><td>1006</td><td>24-HR BLK AVG</td><td>PM25 24-hour 2024</td><td>Daily Mean                    </td><td>NA                                                                   </td><td>No Events                </td><td> 186</td><td>N</td><td>186</td><td>5.515054</td><td>2.817204</td></tr>\n",
       "\t<tr><td>1006</td><td>24-HR BLK AVG</td><td>PM25 Annual 2024 </td><td>Quarterly Means of Daily Means</td><td>NA                                                                   </td><td>No Events                </td><td> 186</td><td>N</td><td>186</td><td>5.515054</td><td>2.817204</td></tr>\n",
       "\t<tr><td>1006</td><td>1 HOUR       </td><td>NA               </td><td>Observed Values               </td><td>Met One BAM-1022 Mass Monitor w/ VSCC or TE-PM2.5C - Beta Attenuation</td><td>No Events                </td><td>8417</td><td>Y</td><td>359</td><td>7.165332</td><td>8.607863</td></tr>\n",
       "\t<tr><td>1006</td><td>24-HR BLK AVG</td><td>PM25 24-hour 2006</td><td>Daily Mean                    </td><td>NA                                                                   </td><td>No Events                </td><td> 355</td><td>Y</td><td>355</td><td>7.127324</td><td>5.497309</td></tr>\n",
       "\t<tr><td>1006</td><td>24-HR BLK AVG</td><td>PM25 Annual 2006 </td><td>Quarterly Means of Daily Means</td><td>NA                                                                   </td><td>No Events                </td><td> 355</td><td>Y</td><td>355</td><td>7.127324</td><td>5.497309</td></tr>\n",
       "\t<tr><td>1006</td><td>24-HR BLK AVG</td><td>PM25 24-hour 2012</td><td>Daily Mean                    </td><td>NA                                                                   </td><td>No Events                </td><td> 355</td><td>Y</td><td>355</td><td>7.127324</td><td>5.497309</td></tr>\n",
       "\t<tr><td>1006</td><td>24-HR BLK AVG</td><td>PM25 Annual 2012 </td><td>Quarterly Means of Daily Means</td><td>NA                                                                   </td><td>No Events                </td><td> 355</td><td>Y</td><td>355</td><td>7.127324</td><td>5.497309</td></tr>\n",
       "\t<tr><td>1006</td><td>24-HR BLK AVG</td><td>PM25 24-hour 1997</td><td>Daily Mean                    </td><td>NA                                                                   </td><td>No Events                </td><td> 355</td><td>Y</td><td>355</td><td>7.127324</td><td>5.497309</td></tr>\n",
       "\t<tr><td>1006</td><td>24-HR BLK AVG</td><td>PM25 Annual 1997 </td><td>Quarterly Means of Daily Means</td><td>NA                                                                   </td><td>No Events                </td><td> 355</td><td>Y</td><td>355</td><td>7.127324</td><td>5.497309</td></tr>\n",
       "\t<tr><td>1006</td><td>24-HR BLK AVG</td><td>PM25 24-hour 2024</td><td>Daily Mean                    </td><td>NA                                                                   </td><td>No Events                </td><td> 355</td><td>Y</td><td>355</td><td>7.127324</td><td>5.497309</td></tr>\n",
       "\t<tr><td>1006</td><td>24-HR BLK AVG</td><td>PM25 Annual 2024 </td><td>Quarterly Means of Daily Means</td><td>NA                                                                   </td><td>No Events                </td><td> 355</td><td>Y</td><td>355</td><td>7.127324</td><td>5.497309</td></tr>\n",
       "</tbody>\n",
       "</table>\n"
      ],
      "text/latex": [
       "A data.frame: 45 × 11\n",
       "\\begin{tabular}{lllllllllll}\n",
       " site\\_number & sample\\_duration & pollutant\\_standard & metric\\_used & method & event\\_type & observation\\_count & validity\\_indicator & valid\\_day\\_count & arithmetic\\_mean & standard\\_deviation\\\\\n",
       " <chr> & <chr> & <chr> & <chr> & <chr> & <chr> & <int> & <chr> & <int> & <dbl> & <dbl>\\\\\n",
       "\\hline\n",
       "\t 1006 & 1 HOUR        & NA                & Observed Values                & Multiple Methods Used                                                 & Events Excluded           & 3976 & Y & 353 & 6.485136 & 3.669158\\\\\n",
       "\t 1006 & 1 HOUR        & NA                & Observed Values                & Multiple Methods Used                                                 & Events Included           & 8425 & Y & 353 & 6.569875 & 3.815335\\\\\n",
       "\t 1006 & 1 HOUR        & NA                & Observed Values                & Multiple Methods Used                                                 & Concurred Events Excluded & 8425 & Y & 353 & 6.569875 & 3.815335\\\\\n",
       "\t 1006 & 24-HR BLK AVG & PM25 24-hour 2006 & Daily Mean                     & Multiple Methods Used                                                 & Events Excluded           &  166 & N & 352 & 6.416867 & 2.963999\\\\\n",
       "\t 1006 & 24-HR BLK AVG & PM25 Annual 2006  & Quarterly Means of Daily Means & Multiple Methods Used                                                 & Events Excluded           &  166 & N & 352 & 6.416867 & 2.963999\\\\\n",
       "\t 1006 & 24-HR BLK AVG & PM25 24-hour 2012 & Daily Mean                     & Multiple Methods Used                                                 & Events Excluded           &  166 & N & 352 & 6.416867 & 2.963999\\\\\n",
       "\t 1006 & 24-HR BLK AVG & PM25 Annual 2012  & Quarterly Means of Daily Means & Multiple Methods Used                                                 & Events Excluded           &  166 & N & 352 & 6.416867 & 2.963999\\\\\n",
       "\t 1006 & 24-HR BLK AVG & PM25 24-hour 1997 & Daily Mean                     & Multiple Methods Used                                                 & Events Excluded           &  166 & N & 352 & 6.416867 & 2.963999\\\\\n",
       "\t 1006 & 24-HR BLK AVG & PM25 Annual 1997  & Quarterly Means of Daily Means & Multiple Methods Used                                                 & Events Excluded           &  166 & N & 352 & 6.416867 & 2.963999\\\\\n",
       "\t 1006 & 24-HR BLK AVG & PM25 24-hour 2024 & Daily Mean                     & Multiple Methods Used                                                 & Events Excluded           &  166 & N & 352 & 6.416867 & 2.963999\\\\\n",
       "\t 1006 & 24-HR BLK AVG & PM25 Annual 2024  & Quarterly Means of Daily Means & Multiple Methods Used                                                 & Events Excluded           &  166 & N & 352 & 6.416867 & 2.963999\\\\\n",
       "\t 1006 & 24-HR BLK AVG & PM25 24-hour 2006 & Daily Mean                     & Multiple Methods Used                                                 & Events Included           &  352 & Y & 352 & 6.507102 & 3.087302\\\\\n",
       "\t 1006 & 24-HR BLK AVG & PM25 Annual 2006  & Quarterly Means of Daily Means & Multiple Methods Used                                                 & Events Included           &  352 & Y & 352 & 6.507102 & 3.087302\\\\\n",
       "\t 1006 & 24-HR BLK AVG & PM25 24-hour 2012 & Daily Mean                     & Multiple Methods Used                                                 & Events Included           &  352 & Y & 352 & 6.507102 & 3.087302\\\\\n",
       "\t 1006 & 24-HR BLK AVG & PM25 Annual 2012  & Quarterly Means of Daily Means & Multiple Methods Used                                                 & Events Included           &  352 & Y & 352 & 6.507102 & 3.087302\\\\\n",
       "\t 1006 & 24-HR BLK AVG & PM25 24-hour 1997 & Daily Mean                     & Multiple Methods Used                                                 & Events Included           &  352 & Y & 352 & 6.507102 & 3.087302\\\\\n",
       "\t 1006 & 24-HR BLK AVG & PM25 Annual 1997  & Quarterly Means of Daily Means & Multiple Methods Used                                                 & Events Included           &  352 & Y & 352 & 6.507102 & 3.087302\\\\\n",
       "\t 1006 & 24-HR BLK AVG & PM25 24-hour 2024 & Daily Mean                     & Multiple Methods Used                                                 & Events Included           &  352 & Y & 352 & 6.507102 & 3.087302\\\\\n",
       "\t 1006 & 24-HR BLK AVG & PM25 Annual 2024  & Quarterly Means of Daily Means & Multiple Methods Used                                                 & Events Included           &  352 & Y & 352 & 6.507102 & 3.087302\\\\\n",
       "\t 1006 & 24-HR BLK AVG & PM25 24-hour 2006 & Daily Mean                     & Multiple Methods Used                                                 & Concurred Events Excluded &  166 & N & 352 & 6.416867 & 2.963999\\\\\n",
       "\t 1006 & 24-HR BLK AVG & PM25 Annual 2006  & Quarterly Means of Daily Means & Multiple Methods Used                                                 & Concurred Events Excluded &  166 & N & 352 & 6.416867 & 2.963999\\\\\n",
       "\t 1006 & 24-HR BLK AVG & PM25 24-hour 2012 & Daily Mean                     & Multiple Methods Used                                                 & Concurred Events Excluded &  166 & N & 352 & 6.416867 & 2.963999\\\\\n",
       "\t 1006 & 24-HR BLK AVG & PM25 Annual 2012  & Quarterly Means of Daily Means & Multiple Methods Used                                                 & Concurred Events Excluded &  166 & N & 352 & 6.416867 & 2.963999\\\\\n",
       "\t 1006 & 24-HR BLK AVG & PM25 24-hour 1997 & Daily Mean                     & Multiple Methods Used                                                 & Concurred Events Excluded &  166 & N & 352 & 6.416867 & 2.963999\\\\\n",
       "\t 1006 & 24-HR BLK AVG & PM25 Annual 1997  & Quarterly Means of Daily Means & Multiple Methods Used                                                 & Concurred Events Excluded &  166 & N & 352 & 6.416867 & 2.963999\\\\\n",
       "\t 1006 & 24-HR BLK AVG & PM25 24-hour 2024 & Daily Mean                     & Multiple Methods Used                                                 & Concurred Events Excluded &  166 & N & 352 & 6.416867 & 2.963999\\\\\n",
       "\t 1006 & 24-HR BLK AVG & PM25 Annual 2024  & Quarterly Means of Daily Means & Multiple Methods Used                                                 & Concurred Events Excluded &  166 & N & 352 & 6.416867 & 2.963999\\\\\n",
       "\t 1006 & 1 HOUR        & NA                & Observed Values                & Teledyne T640X at 16.67 LPM (Corrected) - Broadband spectroscopy      & No Events                 & 4449 & N & 186 & 5.566779 & 3.494104\\\\\n",
       "\t 1006 & 24-HR BLK AVG & PM25 24-hour 2006 & Daily Mean                     & NA                                                                    & No Events                 &  186 & N & 186 & 5.515054 & 2.817204\\\\\n",
       "\t 1006 & 24-HR BLK AVG & PM25 Annual 2006  & Quarterly Means of Daily Means & NA                                                                    & No Events                 &  186 & N & 186 & 5.515054 & 2.817204\\\\\n",
       "\t 1006 & 24-HR BLK AVG & PM25 24-hour 2012 & Daily Mean                     & NA                                                                    & No Events                 &  186 & N & 186 & 5.515054 & 2.817204\\\\\n",
       "\t 1006 & 24-HR BLK AVG & PM25 Annual 2012  & Quarterly Means of Daily Means & NA                                                                    & No Events                 &  186 & N & 186 & 5.515054 & 2.817204\\\\\n",
       "\t 1006 & 24-HR BLK AVG & PM25 24-hour 1997 & Daily Mean                     & NA                                                                    & No Events                 &  186 & N & 186 & 5.515054 & 2.817204\\\\\n",
       "\t 1006 & 24-HR BLK AVG & PM25 Annual 1997  & Quarterly Means of Daily Means & NA                                                                    & No Events                 &  186 & N & 186 & 5.515054 & 2.817204\\\\\n",
       "\t 1006 & 24-HR BLK AVG & PM25 24-hour 2024 & Daily Mean                     & NA                                                                    & No Events                 &  186 & N & 186 & 5.515054 & 2.817204\\\\\n",
       "\t 1006 & 24-HR BLK AVG & PM25 Annual 2024  & Quarterly Means of Daily Means & NA                                                                    & No Events                 &  186 & N & 186 & 5.515054 & 2.817204\\\\\n",
       "\t 1006 & 1 HOUR        & NA                & Observed Values                & Met One BAM-1022 Mass Monitor w/ VSCC or TE-PM2.5C - Beta Attenuation & No Events                 & 8417 & Y & 359 & 7.165332 & 8.607863\\\\\n",
       "\t 1006 & 24-HR BLK AVG & PM25 24-hour 2006 & Daily Mean                     & NA                                                                    & No Events                 &  355 & Y & 355 & 7.127324 & 5.497309\\\\\n",
       "\t 1006 & 24-HR BLK AVG & PM25 Annual 2006  & Quarterly Means of Daily Means & NA                                                                    & No Events                 &  355 & Y & 355 & 7.127324 & 5.497309\\\\\n",
       "\t 1006 & 24-HR BLK AVG & PM25 24-hour 2012 & Daily Mean                     & NA                                                                    & No Events                 &  355 & Y & 355 & 7.127324 & 5.497309\\\\\n",
       "\t 1006 & 24-HR BLK AVG & PM25 Annual 2012  & Quarterly Means of Daily Means & NA                                                                    & No Events                 &  355 & Y & 355 & 7.127324 & 5.497309\\\\\n",
       "\t 1006 & 24-HR BLK AVG & PM25 24-hour 1997 & Daily Mean                     & NA                                                                    & No Events                 &  355 & Y & 355 & 7.127324 & 5.497309\\\\\n",
       "\t 1006 & 24-HR BLK AVG & PM25 Annual 1997  & Quarterly Means of Daily Means & NA                                                                    & No Events                 &  355 & Y & 355 & 7.127324 & 5.497309\\\\\n",
       "\t 1006 & 24-HR BLK AVG & PM25 24-hour 2024 & Daily Mean                     & NA                                                                    & No Events                 &  355 & Y & 355 & 7.127324 & 5.497309\\\\\n",
       "\t 1006 & 24-HR BLK AVG & PM25 Annual 2024  & Quarterly Means of Daily Means & NA                                                                    & No Events                 &  355 & Y & 355 & 7.127324 & 5.497309\\\\\n",
       "\\end{tabular}\n"
      ],
      "text/markdown": [
       "\n",
       "A data.frame: 45 × 11\n",
       "\n",
       "| site_number &lt;chr&gt; | sample_duration &lt;chr&gt; | pollutant_standard &lt;chr&gt; | metric_used &lt;chr&gt; | method &lt;chr&gt; | event_type &lt;chr&gt; | observation_count &lt;int&gt; | validity_indicator &lt;chr&gt; | valid_day_count &lt;int&gt; | arithmetic_mean &lt;dbl&gt; | standard_deviation &lt;dbl&gt; |\n",
       "|---|---|---|---|---|---|---|---|---|---|---|\n",
       "| 1006 | 1 HOUR        | NA                | Observed Values                | Multiple Methods Used                                                 | Events Excluded           | 3976 | Y | 353 | 6.485136 | 3.669158 |\n",
       "| 1006 | 1 HOUR        | NA                | Observed Values                | Multiple Methods Used                                                 | Events Included           | 8425 | Y | 353 | 6.569875 | 3.815335 |\n",
       "| 1006 | 1 HOUR        | NA                | Observed Values                | Multiple Methods Used                                                 | Concurred Events Excluded | 8425 | Y | 353 | 6.569875 | 3.815335 |\n",
       "| 1006 | 24-HR BLK AVG | PM25 24-hour 2006 | Daily Mean                     | Multiple Methods Used                                                 | Events Excluded           |  166 | N | 352 | 6.416867 | 2.963999 |\n",
       "| 1006 | 24-HR BLK AVG | PM25 Annual 2006  | Quarterly Means of Daily Means | Multiple Methods Used                                                 | Events Excluded           |  166 | N | 352 | 6.416867 | 2.963999 |\n",
       "| 1006 | 24-HR BLK AVG | PM25 24-hour 2012 | Daily Mean                     | Multiple Methods Used                                                 | Events Excluded           |  166 | N | 352 | 6.416867 | 2.963999 |\n",
       "| 1006 | 24-HR BLK AVG | PM25 Annual 2012  | Quarterly Means of Daily Means | Multiple Methods Used                                                 | Events Excluded           |  166 | N | 352 | 6.416867 | 2.963999 |\n",
       "| 1006 | 24-HR BLK AVG | PM25 24-hour 1997 | Daily Mean                     | Multiple Methods Used                                                 | Events Excluded           |  166 | N | 352 | 6.416867 | 2.963999 |\n",
       "| 1006 | 24-HR BLK AVG | PM25 Annual 1997  | Quarterly Means of Daily Means | Multiple Methods Used                                                 | Events Excluded           |  166 | N | 352 | 6.416867 | 2.963999 |\n",
       "| 1006 | 24-HR BLK AVG | PM25 24-hour 2024 | Daily Mean                     | Multiple Methods Used                                                 | Events Excluded           |  166 | N | 352 | 6.416867 | 2.963999 |\n",
       "| 1006 | 24-HR BLK AVG | PM25 Annual 2024  | Quarterly Means of Daily Means | Multiple Methods Used                                                 | Events Excluded           |  166 | N | 352 | 6.416867 | 2.963999 |\n",
       "| 1006 | 24-HR BLK AVG | PM25 24-hour 2006 | Daily Mean                     | Multiple Methods Used                                                 | Events Included           |  352 | Y | 352 | 6.507102 | 3.087302 |\n",
       "| 1006 | 24-HR BLK AVG | PM25 Annual 2006  | Quarterly Means of Daily Means | Multiple Methods Used                                                 | Events Included           |  352 | Y | 352 | 6.507102 | 3.087302 |\n",
       "| 1006 | 24-HR BLK AVG | PM25 24-hour 2012 | Daily Mean                     | Multiple Methods Used                                                 | Events Included           |  352 | Y | 352 | 6.507102 | 3.087302 |\n",
       "| 1006 | 24-HR BLK AVG | PM25 Annual 2012  | Quarterly Means of Daily Means | Multiple Methods Used                                                 | Events Included           |  352 | Y | 352 | 6.507102 | 3.087302 |\n",
       "| 1006 | 24-HR BLK AVG | PM25 24-hour 1997 | Daily Mean                     | Multiple Methods Used                                                 | Events Included           |  352 | Y | 352 | 6.507102 | 3.087302 |\n",
       "| 1006 | 24-HR BLK AVG | PM25 Annual 1997  | Quarterly Means of Daily Means | Multiple Methods Used                                                 | Events Included           |  352 | Y | 352 | 6.507102 | 3.087302 |\n",
       "| 1006 | 24-HR BLK AVG | PM25 24-hour 2024 | Daily Mean                     | Multiple Methods Used                                                 | Events Included           |  352 | Y | 352 | 6.507102 | 3.087302 |\n",
       "| 1006 | 24-HR BLK AVG | PM25 Annual 2024  | Quarterly Means of Daily Means | Multiple Methods Used                                                 | Events Included           |  352 | Y | 352 | 6.507102 | 3.087302 |\n",
       "| 1006 | 24-HR BLK AVG | PM25 24-hour 2006 | Daily Mean                     | Multiple Methods Used                                                 | Concurred Events Excluded |  166 | N | 352 | 6.416867 | 2.963999 |\n",
       "| 1006 | 24-HR BLK AVG | PM25 Annual 2006  | Quarterly Means of Daily Means | Multiple Methods Used                                                 | Concurred Events Excluded |  166 | N | 352 | 6.416867 | 2.963999 |\n",
       "| 1006 | 24-HR BLK AVG | PM25 24-hour 2012 | Daily Mean                     | Multiple Methods Used                                                 | Concurred Events Excluded |  166 | N | 352 | 6.416867 | 2.963999 |\n",
       "| 1006 | 24-HR BLK AVG | PM25 Annual 2012  | Quarterly Means of Daily Means | Multiple Methods Used                                                 | Concurred Events Excluded |  166 | N | 352 | 6.416867 | 2.963999 |\n",
       "| 1006 | 24-HR BLK AVG | PM25 24-hour 1997 | Daily Mean                     | Multiple Methods Used                                                 | Concurred Events Excluded |  166 | N | 352 | 6.416867 | 2.963999 |\n",
       "| 1006 | 24-HR BLK AVG | PM25 Annual 1997  | Quarterly Means of Daily Means | Multiple Methods Used                                                 | Concurred Events Excluded |  166 | N | 352 | 6.416867 | 2.963999 |\n",
       "| 1006 | 24-HR BLK AVG | PM25 24-hour 2024 | Daily Mean                     | Multiple Methods Used                                                 | Concurred Events Excluded |  166 | N | 352 | 6.416867 | 2.963999 |\n",
       "| 1006 | 24-HR BLK AVG | PM25 Annual 2024  | Quarterly Means of Daily Means | Multiple Methods Used                                                 | Concurred Events Excluded |  166 | N | 352 | 6.416867 | 2.963999 |\n",
       "| 1006 | 1 HOUR        | NA                | Observed Values                | Teledyne T640X at 16.67 LPM (Corrected) - Broadband spectroscopy      | No Events                 | 4449 | N | 186 | 5.566779 | 3.494104 |\n",
       "| 1006 | 24-HR BLK AVG | PM25 24-hour 2006 | Daily Mean                     | NA                                                                    | No Events                 |  186 | N | 186 | 5.515054 | 2.817204 |\n",
       "| 1006 | 24-HR BLK AVG | PM25 Annual 2006  | Quarterly Means of Daily Means | NA                                                                    | No Events                 |  186 | N | 186 | 5.515054 | 2.817204 |\n",
       "| 1006 | 24-HR BLK AVG | PM25 24-hour 2012 | Daily Mean                     | NA                                                                    | No Events                 |  186 | N | 186 | 5.515054 | 2.817204 |\n",
       "| 1006 | 24-HR BLK AVG | PM25 Annual 2012  | Quarterly Means of Daily Means | NA                                                                    | No Events                 |  186 | N | 186 | 5.515054 | 2.817204 |\n",
       "| 1006 | 24-HR BLK AVG | PM25 24-hour 1997 | Daily Mean                     | NA                                                                    | No Events                 |  186 | N | 186 | 5.515054 | 2.817204 |\n",
       "| 1006 | 24-HR BLK AVG | PM25 Annual 1997  | Quarterly Means of Daily Means | NA                                                                    | No Events                 |  186 | N | 186 | 5.515054 | 2.817204 |\n",
       "| 1006 | 24-HR BLK AVG | PM25 24-hour 2024 | Daily Mean                     | NA                                                                    | No Events                 |  186 | N | 186 | 5.515054 | 2.817204 |\n",
       "| 1006 | 24-HR BLK AVG | PM25 Annual 2024  | Quarterly Means of Daily Means | NA                                                                    | No Events                 |  186 | N | 186 | 5.515054 | 2.817204 |\n",
       "| 1006 | 1 HOUR        | NA                | Observed Values                | Met One BAM-1022 Mass Monitor w/ VSCC or TE-PM2.5C - Beta Attenuation | No Events                 | 8417 | Y | 359 | 7.165332 | 8.607863 |\n",
       "| 1006 | 24-HR BLK AVG | PM25 24-hour 2006 | Daily Mean                     | NA                                                                    | No Events                 |  355 | Y | 355 | 7.127324 | 5.497309 |\n",
       "| 1006 | 24-HR BLK AVG | PM25 Annual 2006  | Quarterly Means of Daily Means | NA                                                                    | No Events                 |  355 | Y | 355 | 7.127324 | 5.497309 |\n",
       "| 1006 | 24-HR BLK AVG | PM25 24-hour 2012 | Daily Mean                     | NA                                                                    | No Events                 |  355 | Y | 355 | 7.127324 | 5.497309 |\n",
       "| 1006 | 24-HR BLK AVG | PM25 Annual 2012  | Quarterly Means of Daily Means | NA                                                                    | No Events                 |  355 | Y | 355 | 7.127324 | 5.497309 |\n",
       "| 1006 | 24-HR BLK AVG | PM25 24-hour 1997 | Daily Mean                     | NA                                                                    | No Events                 |  355 | Y | 355 | 7.127324 | 5.497309 |\n",
       "| 1006 | 24-HR BLK AVG | PM25 Annual 1997  | Quarterly Means of Daily Means | NA                                                                    | No Events                 |  355 | Y | 355 | 7.127324 | 5.497309 |\n",
       "| 1006 | 24-HR BLK AVG | PM25 24-hour 2024 | Daily Mean                     | NA                                                                    | No Events                 |  355 | Y | 355 | 7.127324 | 5.497309 |\n",
       "| 1006 | 24-HR BLK AVG | PM25 Annual 2024  | Quarterly Means of Daily Means | NA                                                                    | No Events                 |  355 | Y | 355 | 7.127324 | 5.497309 |\n",
       "\n"
      ],
      "text/plain": [
       "   site_number sample_duration pollutant_standard\n",
       "1  1006        1 HOUR          NA                \n",
       "2  1006        1 HOUR          NA                \n",
       "3  1006        1 HOUR          NA                \n",
       "4  1006        24-HR BLK AVG   PM25 24-hour 2006 \n",
       "5  1006        24-HR BLK AVG   PM25 Annual 2006  \n",
       "6  1006        24-HR BLK AVG   PM25 24-hour 2012 \n",
       "7  1006        24-HR BLK AVG   PM25 Annual 2012  \n",
       "8  1006        24-HR BLK AVG   PM25 24-hour 1997 \n",
       "9  1006        24-HR BLK AVG   PM25 Annual 1997  \n",
       "10 1006        24-HR BLK AVG   PM25 24-hour 2024 \n",
       "11 1006        24-HR BLK AVG   PM25 Annual 2024  \n",
       "12 1006        24-HR BLK AVG   PM25 24-hour 2006 \n",
       "13 1006        24-HR BLK AVG   PM25 Annual 2006  \n",
       "14 1006        24-HR BLK AVG   PM25 24-hour 2012 \n",
       "15 1006        24-HR BLK AVG   PM25 Annual 2012  \n",
       "16 1006        24-HR BLK AVG   PM25 24-hour 1997 \n",
       "17 1006        24-HR BLK AVG   PM25 Annual 1997  \n",
       "18 1006        24-HR BLK AVG   PM25 24-hour 2024 \n",
       "19 1006        24-HR BLK AVG   PM25 Annual 2024  \n",
       "20 1006        24-HR BLK AVG   PM25 24-hour 2006 \n",
       "21 1006        24-HR BLK AVG   PM25 Annual 2006  \n",
       "22 1006        24-HR BLK AVG   PM25 24-hour 2012 \n",
       "23 1006        24-HR BLK AVG   PM25 Annual 2012  \n",
       "24 1006        24-HR BLK AVG   PM25 24-hour 1997 \n",
       "25 1006        24-HR BLK AVG   PM25 Annual 1997  \n",
       "26 1006        24-HR BLK AVG   PM25 24-hour 2024 \n",
       "27 1006        24-HR BLK AVG   PM25 Annual 2024  \n",
       "28 1006        1 HOUR          NA                \n",
       "29 1006        24-HR BLK AVG   PM25 24-hour 2006 \n",
       "30 1006        24-HR BLK AVG   PM25 Annual 2006  \n",
       "31 1006        24-HR BLK AVG   PM25 24-hour 2012 \n",
       "32 1006        24-HR BLK AVG   PM25 Annual 2012  \n",
       "33 1006        24-HR BLK AVG   PM25 24-hour 1997 \n",
       "34 1006        24-HR BLK AVG   PM25 Annual 1997  \n",
       "35 1006        24-HR BLK AVG   PM25 24-hour 2024 \n",
       "36 1006        24-HR BLK AVG   PM25 Annual 2024  \n",
       "37 1006        1 HOUR          NA                \n",
       "38 1006        24-HR BLK AVG   PM25 24-hour 2006 \n",
       "39 1006        24-HR BLK AVG   PM25 Annual 2006  \n",
       "40 1006        24-HR BLK AVG   PM25 24-hour 2012 \n",
       "41 1006        24-HR BLK AVG   PM25 Annual 2012  \n",
       "42 1006        24-HR BLK AVG   PM25 24-hour 1997 \n",
       "43 1006        24-HR BLK AVG   PM25 Annual 1997  \n",
       "44 1006        24-HR BLK AVG   PM25 24-hour 2024 \n",
       "45 1006        24-HR BLK AVG   PM25 Annual 2024  \n",
       "   metric_used                   \n",
       "1  Observed Values               \n",
       "2  Observed Values               \n",
       "3  Observed Values               \n",
       "4  Daily Mean                    \n",
       "5  Quarterly Means of Daily Means\n",
       "6  Daily Mean                    \n",
       "7  Quarterly Means of Daily Means\n",
       "8  Daily Mean                    \n",
       "9  Quarterly Means of Daily Means\n",
       "10 Daily Mean                    \n",
       "11 Quarterly Means of Daily Means\n",
       "12 Daily Mean                    \n",
       "13 Quarterly Means of Daily Means\n",
       "14 Daily Mean                    \n",
       "15 Quarterly Means of Daily Means\n",
       "16 Daily Mean                    \n",
       "17 Quarterly Means of Daily Means\n",
       "18 Daily Mean                    \n",
       "19 Quarterly Means of Daily Means\n",
       "20 Daily Mean                    \n",
       "21 Quarterly Means of Daily Means\n",
       "22 Daily Mean                    \n",
       "23 Quarterly Means of Daily Means\n",
       "24 Daily Mean                    \n",
       "25 Quarterly Means of Daily Means\n",
       "26 Daily Mean                    \n",
       "27 Quarterly Means of Daily Means\n",
       "28 Observed Values               \n",
       "29 Daily Mean                    \n",
       "30 Quarterly Means of Daily Means\n",
       "31 Daily Mean                    \n",
       "32 Quarterly Means of Daily Means\n",
       "33 Daily Mean                    \n",
       "34 Quarterly Means of Daily Means\n",
       "35 Daily Mean                    \n",
       "36 Quarterly Means of Daily Means\n",
       "37 Observed Values               \n",
       "38 Daily Mean                    \n",
       "39 Quarterly Means of Daily Means\n",
       "40 Daily Mean                    \n",
       "41 Quarterly Means of Daily Means\n",
       "42 Daily Mean                    \n",
       "43 Quarterly Means of Daily Means\n",
       "44 Daily Mean                    \n",
       "45 Quarterly Means of Daily Means\n",
       "   method                                                               \n",
       "1  Multiple Methods Used                                                \n",
       "2  Multiple Methods Used                                                \n",
       "3  Multiple Methods Used                                                \n",
       "4  Multiple Methods Used                                                \n",
       "5  Multiple Methods Used                                                \n",
       "6  Multiple Methods Used                                                \n",
       "7  Multiple Methods Used                                                \n",
       "8  Multiple Methods Used                                                \n",
       "9  Multiple Methods Used                                                \n",
       "10 Multiple Methods Used                                                \n",
       "11 Multiple Methods Used                                                \n",
       "12 Multiple Methods Used                                                \n",
       "13 Multiple Methods Used                                                \n",
       "14 Multiple Methods Used                                                \n",
       "15 Multiple Methods Used                                                \n",
       "16 Multiple Methods Used                                                \n",
       "17 Multiple Methods Used                                                \n",
       "18 Multiple Methods Used                                                \n",
       "19 Multiple Methods Used                                                \n",
       "20 Multiple Methods Used                                                \n",
       "21 Multiple Methods Used                                                \n",
       "22 Multiple Methods Used                                                \n",
       "23 Multiple Methods Used                                                \n",
       "24 Multiple Methods Used                                                \n",
       "25 Multiple Methods Used                                                \n",
       "26 Multiple Methods Used                                                \n",
       "27 Multiple Methods Used                                                \n",
       "28 Teledyne T640X at 16.67 LPM (Corrected) - Broadband spectroscopy     \n",
       "29 NA                                                                   \n",
       "30 NA                                                                   \n",
       "31 NA                                                                   \n",
       "32 NA                                                                   \n",
       "33 NA                                                                   \n",
       "34 NA                                                                   \n",
       "35 NA                                                                   \n",
       "36 NA                                                                   \n",
       "37 Met One BAM-1022 Mass Monitor w/ VSCC or TE-PM2.5C - Beta Attenuation\n",
       "38 NA                                                                   \n",
       "39 NA                                                                   \n",
       "40 NA                                                                   \n",
       "41 NA                                                                   \n",
       "42 NA                                                                   \n",
       "43 NA                                                                   \n",
       "44 NA                                                                   \n",
       "45 NA                                                                   \n",
       "   event_type                observation_count validity_indicator\n",
       "1  Events Excluded           3976              Y                 \n",
       "2  Events Included           8425              Y                 \n",
       "3  Concurred Events Excluded 8425              Y                 \n",
       "4  Events Excluded            166              N                 \n",
       "5  Events Excluded            166              N                 \n",
       "6  Events Excluded            166              N                 \n",
       "7  Events Excluded            166              N                 \n",
       "8  Events Excluded            166              N                 \n",
       "9  Events Excluded            166              N                 \n",
       "10 Events Excluded            166              N                 \n",
       "11 Events Excluded            166              N                 \n",
       "12 Events Included            352              Y                 \n",
       "13 Events Included            352              Y                 \n",
       "14 Events Included            352              Y                 \n",
       "15 Events Included            352              Y                 \n",
       "16 Events Included            352              Y                 \n",
       "17 Events Included            352              Y                 \n",
       "18 Events Included            352              Y                 \n",
       "19 Events Included            352              Y                 \n",
       "20 Concurred Events Excluded  166              N                 \n",
       "21 Concurred Events Excluded  166              N                 \n",
       "22 Concurred Events Excluded  166              N                 \n",
       "23 Concurred Events Excluded  166              N                 \n",
       "24 Concurred Events Excluded  166              N                 \n",
       "25 Concurred Events Excluded  166              N                 \n",
       "26 Concurred Events Excluded  166              N                 \n",
       "27 Concurred Events Excluded  166              N                 \n",
       "28 No Events                 4449              N                 \n",
       "29 No Events                  186              N                 \n",
       "30 No Events                  186              N                 \n",
       "31 No Events                  186              N                 \n",
       "32 No Events                  186              N                 \n",
       "33 No Events                  186              N                 \n",
       "34 No Events                  186              N                 \n",
       "35 No Events                  186              N                 \n",
       "36 No Events                  186              N                 \n",
       "37 No Events                 8417              Y                 \n",
       "38 No Events                  355              Y                 \n",
       "39 No Events                  355              Y                 \n",
       "40 No Events                  355              Y                 \n",
       "41 No Events                  355              Y                 \n",
       "42 No Events                  355              Y                 \n",
       "43 No Events                  355              Y                 \n",
       "44 No Events                  355              Y                 \n",
       "45 No Events                  355              Y                 \n",
       "   valid_day_count arithmetic_mean standard_deviation\n",
       "1  353             6.485136        3.669158          \n",
       "2  353             6.569875        3.815335          \n",
       "3  353             6.569875        3.815335          \n",
       "4  352             6.416867        2.963999          \n",
       "5  352             6.416867        2.963999          \n",
       "6  352             6.416867        2.963999          \n",
       "7  352             6.416867        2.963999          \n",
       "8  352             6.416867        2.963999          \n",
       "9  352             6.416867        2.963999          \n",
       "10 352             6.416867        2.963999          \n",
       "11 352             6.416867        2.963999          \n",
       "12 352             6.507102        3.087302          \n",
       "13 352             6.507102        3.087302          \n",
       "14 352             6.507102        3.087302          \n",
       "15 352             6.507102        3.087302          \n",
       "16 352             6.507102        3.087302          \n",
       "17 352             6.507102        3.087302          \n",
       "18 352             6.507102        3.087302          \n",
       "19 352             6.507102        3.087302          \n",
       "20 352             6.416867        2.963999          \n",
       "21 352             6.416867        2.963999          \n",
       "22 352             6.416867        2.963999          \n",
       "23 352             6.416867        2.963999          \n",
       "24 352             6.416867        2.963999          \n",
       "25 352             6.416867        2.963999          \n",
       "26 352             6.416867        2.963999          \n",
       "27 352             6.416867        2.963999          \n",
       "28 186             5.566779        3.494104          \n",
       "29 186             5.515054        2.817204          \n",
       "30 186             5.515054        2.817204          \n",
       "31 186             5.515054        2.817204          \n",
       "32 186             5.515054        2.817204          \n",
       "33 186             5.515054        2.817204          \n",
       "34 186             5.515054        2.817204          \n",
       "35 186             5.515054        2.817204          \n",
       "36 186             5.515054        2.817204          \n",
       "37 359             7.165332        8.607863          \n",
       "38 355             7.127324        5.497309          \n",
       "39 355             7.127324        5.497309          \n",
       "40 355             7.127324        5.497309          \n",
       "41 355             7.127324        5.497309          \n",
       "42 355             7.127324        5.497309          \n",
       "43 355             7.127324        5.497309          \n",
       "44 355             7.127324        5.497309          \n",
       "45 355             7.127324        5.497309          "
      ]
     },
     "metadata": {},
     "output_type": "display_data"
    }
   ],
   "source": [
    "filter(pm25_data, site_number == 1006) %>%\n",
    "select(site_number, sample_duration, pollutant_standard, metric_used, method, event_type, observation_count, validity_indicator, valid_day_count, arithmetic_mean, standard_deviation)"
   ]
  },
  {
   "cell_type": "markdown",
   "id": "a12d9c1d-fd41-4723-a623-95a37c9122f7",
   "metadata": {},
   "source": [
    "Our dataset includes 20 rows for monitoring site number 1006 alone!  We can see, based on this view, that there are multiple conditions which differentiate the different rows of data, even those all of these rows correspond to PM 2.5 data from monitoring site 1006 from the year 2023.  Each of these rows corresponds to a different arithmetic mean summary statistic for the year.  But which aritmetic mean should we use for this site?\n",
    "\n",
    "Our next goal is to limit this dataset down to a single row (and single corresponding arithmetic mean) for each of the monitoring sites in the data.  We will focus on a few important differences colums including:\n",
    "\n",
    "1. validity indicator\n",
    "2. pollutant standard\n",
    "5. event type\n",
    "\n",
    "First, let's filter our data to only rows which are flagged as valid (valitidy indicaor \"Y\") and which follow a specific pollutant standard.  To decide which pollutant standard we will choose, let's take a look at the differnt pollutant standards which are represented in our dataset."
   ]
  },
  {
   "cell_type": "code",
   "execution_count": 37,
   "id": "4ae31190-912e-4953-bd51-a3d1a0d53553",
   "metadata": {},
   "outputs": [
    {
     "data": {
      "text/html": [
       "<style>\n",
       ".list-inline {list-style: none; margin:0; padding: 0}\n",
       ".list-inline>li {display: inline-block}\n",
       ".list-inline>li:not(:last-child)::after {content: \"\\00b7\"; padding: 0 .5ex}\n",
       "</style>\n",
       "<ol class=list-inline><li>NA</li><li>'PM25 24-hour 2006'</li><li>'PM25 Annual 2006'</li><li>'PM25 24-hour 2012'</li><li>'PM25 Annual 2012'</li><li>'PM25 24-hour 1997'</li><li>'PM25 Annual 1997'</li><li>'PM25 24-hour 2024'</li><li>'PM25 Annual 2024'</li></ol>\n"
      ],
      "text/latex": [
       "\\begin{enumerate*}\n",
       "\\item NA\n",
       "\\item 'PM25 24-hour 2006'\n",
       "\\item 'PM25 Annual 2006'\n",
       "\\item 'PM25 24-hour 2012'\n",
       "\\item 'PM25 Annual 2012'\n",
       "\\item 'PM25 24-hour 1997'\n",
       "\\item 'PM25 Annual 1997'\n",
       "\\item 'PM25 24-hour 2024'\n",
       "\\item 'PM25 Annual 2024'\n",
       "\\end{enumerate*}\n"
      ],
      "text/markdown": [
       "1. NA\n",
       "2. 'PM25 24-hour 2006'\n",
       "3. 'PM25 Annual 2006'\n",
       "4. 'PM25 24-hour 2012'\n",
       "5. 'PM25 Annual 2012'\n",
       "6. 'PM25 24-hour 1997'\n",
       "7. 'PM25 Annual 1997'\n",
       "8. 'PM25 24-hour 2024'\n",
       "9. 'PM25 Annual 2024'\n",
       "\n",
       "\n"
      ],
      "text/plain": [
       "[1] NA                  \"PM25 24-hour 2006\" \"PM25 Annual 2006\" \n",
       "[4] \"PM25 24-hour 2012\" \"PM25 Annual 2012\"  \"PM25 24-hour 1997\"\n",
       "[7] \"PM25 Annual 1997\"  \"PM25 24-hour 2024\" \"PM25 Annual 2024\" "
      ]
     },
     "metadata": {},
     "output_type": "display_data"
    }
   ],
   "source": [
    "unique(pm25_data$pollutant_standard)"
   ]
  },
  {
   "cell_type": "markdown",
   "id": "909413cf-4394-4db9-bc1b-5cddce451975",
   "metadata": {},
   "source": [
    "Our data includes 24-hour and annual standards based on the years 1997, 2006, 2012, and 2024.  Let's choose to focus on using data based on the 2024 annual standard and filter our data to only those rows which are valid (validity_indicator == \"Y\") and are based on the 2024 annual PM 2.5 pollutant standard (pollutant_standard == \"PM25 Annual 2024\").  For now, let's continue to only look at monitor 1006 (site_number == 1006) as an example site during our filtering process."
   ]
  },
  {
   "cell_type": "code",
   "execution_count": 38,
   "id": "c67192f8-27a6-431d-bc3c-f1223ee246fb",
   "metadata": {},
   "outputs": [
    {
     "data": {
      "text/html": [
       "<table class=\"dataframe\">\n",
       "<caption>A data.frame: 2 × 11</caption>\n",
       "<thead>\n",
       "\t<tr><th scope=col>site_number</th><th scope=col>sample_duration</th><th scope=col>pollutant_standard</th><th scope=col>metric_used</th><th scope=col>method</th><th scope=col>event_type</th><th scope=col>observation_count</th><th scope=col>validity_indicator</th><th scope=col>valid_day_count</th><th scope=col>arithmetic_mean</th><th scope=col>standard_deviation</th></tr>\n",
       "\t<tr><th scope=col>&lt;chr&gt;</th><th scope=col>&lt;chr&gt;</th><th scope=col>&lt;chr&gt;</th><th scope=col>&lt;chr&gt;</th><th scope=col>&lt;chr&gt;</th><th scope=col>&lt;chr&gt;</th><th scope=col>&lt;int&gt;</th><th scope=col>&lt;chr&gt;</th><th scope=col>&lt;int&gt;</th><th scope=col>&lt;dbl&gt;</th><th scope=col>&lt;dbl&gt;</th></tr>\n",
       "</thead>\n",
       "<tbody>\n",
       "\t<tr><td>1006</td><td>24-HR BLK AVG</td><td>PM25 Annual 2024</td><td>Quarterly Means of Daily Means</td><td>Multiple Methods Used</td><td>Events Included</td><td>352</td><td>Y</td><td>352</td><td>6.507102</td><td>3.087302</td></tr>\n",
       "\t<tr><td>1006</td><td>24-HR BLK AVG</td><td>PM25 Annual 2024</td><td>Quarterly Means of Daily Means</td><td>NA                   </td><td>No Events      </td><td>355</td><td>Y</td><td>355</td><td>7.127324</td><td>5.497309</td></tr>\n",
       "</tbody>\n",
       "</table>\n"
      ],
      "text/latex": [
       "A data.frame: 2 × 11\n",
       "\\begin{tabular}{lllllllllll}\n",
       " site\\_number & sample\\_duration & pollutant\\_standard & metric\\_used & method & event\\_type & observation\\_count & validity\\_indicator & valid\\_day\\_count & arithmetic\\_mean & standard\\_deviation\\\\\n",
       " <chr> & <chr> & <chr> & <chr> & <chr> & <chr> & <int> & <chr> & <int> & <dbl> & <dbl>\\\\\n",
       "\\hline\n",
       "\t 1006 & 24-HR BLK AVG & PM25 Annual 2024 & Quarterly Means of Daily Means & Multiple Methods Used & Events Included & 352 & Y & 352 & 6.507102 & 3.087302\\\\\n",
       "\t 1006 & 24-HR BLK AVG & PM25 Annual 2024 & Quarterly Means of Daily Means & NA                    & No Events       & 355 & Y & 355 & 7.127324 & 5.497309\\\\\n",
       "\\end{tabular}\n"
      ],
      "text/markdown": [
       "\n",
       "A data.frame: 2 × 11\n",
       "\n",
       "| site_number &lt;chr&gt; | sample_duration &lt;chr&gt; | pollutant_standard &lt;chr&gt; | metric_used &lt;chr&gt; | method &lt;chr&gt; | event_type &lt;chr&gt; | observation_count &lt;int&gt; | validity_indicator &lt;chr&gt; | valid_day_count &lt;int&gt; | arithmetic_mean &lt;dbl&gt; | standard_deviation &lt;dbl&gt; |\n",
       "|---|---|---|---|---|---|---|---|---|---|---|\n",
       "| 1006 | 24-HR BLK AVG | PM25 Annual 2024 | Quarterly Means of Daily Means | Multiple Methods Used | Events Included | 352 | Y | 352 | 6.507102 | 3.087302 |\n",
       "| 1006 | 24-HR BLK AVG | PM25 Annual 2024 | Quarterly Means of Daily Means | NA                    | No Events       | 355 | Y | 355 | 7.127324 | 5.497309 |\n",
       "\n"
      ],
      "text/plain": [
       "  site_number sample_duration pollutant_standard metric_used                   \n",
       "1 1006        24-HR BLK AVG   PM25 Annual 2024   Quarterly Means of Daily Means\n",
       "2 1006        24-HR BLK AVG   PM25 Annual 2024   Quarterly Means of Daily Means\n",
       "  method                event_type      observation_count validity_indicator\n",
       "1 Multiple Methods Used Events Included 352               Y                 \n",
       "2 NA                    No Events       355               Y                 \n",
       "  valid_day_count arithmetic_mean standard_deviation\n",
       "1 352             6.507102        3.087302          \n",
       "2 355             7.127324        5.497309          "
      ]
     },
     "metadata": {},
     "output_type": "display_data"
    }
   ],
   "source": [
    "filter(pm25_data, site_number == 1006, validity_indicator == \"Y\", pollutant_standard == \"PM25 Annual 2024\") %>%\n",
    "select(site_number, sample_duration, pollutant_standard, metric_used, method, event_type, observation_count, validity_indicator, valid_day_count, arithmetic_mean, standard_deviation)"
   ]
  },
  {
   "cell_type": "markdown",
   "id": "130af915-d2c9-47ca-acf4-03cb7e6dcda5",
   "metadata": {},
   "source": [
    "We are down to only two rows for site 1006!  Next, let's filter based on types of events which are included when calculating summary statistics for emissions.  Let's take a look at the different types of event inclusion scenarios which are represented in our dataset."
   ]
  },
  {
   "cell_type": "code",
   "execution_count": 39,
   "id": "84887330-6052-43f4-81c0-019f092c22c8",
   "metadata": {},
   "outputs": [
    {
     "data": {
      "text/html": [
       "<style>\n",
       ".list-inline {list-style: none; margin:0; padding: 0}\n",
       ".list-inline>li {display: inline-block}\n",
       ".list-inline>li:not(:last-child)::after {content: \"\\00b7\"; padding: 0 .5ex}\n",
       "</style>\n",
       "<ol class=list-inline><li>'Events Excluded'</li><li>'Events Included'</li><li>'Concurred Events Excluded'</li><li>'No Events'</li></ol>\n"
      ],
      "text/latex": [
       "\\begin{enumerate*}\n",
       "\\item 'Events Excluded'\n",
       "\\item 'Events Included'\n",
       "\\item 'Concurred Events Excluded'\n",
       "\\item 'No Events'\n",
       "\\end{enumerate*}\n"
      ],
      "text/markdown": [
       "1. 'Events Excluded'\n",
       "2. 'Events Included'\n",
       "3. 'Concurred Events Excluded'\n",
       "4. 'No Events'\n",
       "\n",
       "\n"
      ],
      "text/plain": [
       "[1] \"Events Excluded\"           \"Events Included\"          \n",
       "[3] \"Concurred Events Excluded\" \"No Events\"                "
      ]
     },
     "metadata": {},
     "output_type": "display_data"
    }
   ],
   "source": [
    "unique(pm25_data$event_type)"
   ]
  },
  {
   "cell_type": "markdown",
   "id": "ba106c78-95f1-4a5a-8cfe-fb175db24ae0",
   "metadata": {},
   "source": [
    "Let's choose to filter our data to only rows where no events occurred (event_type == \"No Events\")."
   ]
  },
  {
   "cell_type": "code",
   "execution_count": 40,
   "id": "0b2c3790-7a87-4680-ac13-cd04f848de79",
   "metadata": {},
   "outputs": [
    {
     "data": {
      "text/html": [
       "<table class=\"dataframe\">\n",
       "<caption>A data.frame: 1 × 11</caption>\n",
       "<thead>\n",
       "\t<tr><th scope=col>site_number</th><th scope=col>sample_duration</th><th scope=col>pollutant_standard</th><th scope=col>metric_used</th><th scope=col>method</th><th scope=col>event_type</th><th scope=col>observation_count</th><th scope=col>validity_indicator</th><th scope=col>valid_day_count</th><th scope=col>arithmetic_mean</th><th scope=col>standard_deviation</th></tr>\n",
       "\t<tr><th scope=col>&lt;chr&gt;</th><th scope=col>&lt;chr&gt;</th><th scope=col>&lt;chr&gt;</th><th scope=col>&lt;chr&gt;</th><th scope=col>&lt;chr&gt;</th><th scope=col>&lt;chr&gt;</th><th scope=col>&lt;int&gt;</th><th scope=col>&lt;chr&gt;</th><th scope=col>&lt;int&gt;</th><th scope=col>&lt;dbl&gt;</th><th scope=col>&lt;dbl&gt;</th></tr>\n",
       "</thead>\n",
       "<tbody>\n",
       "\t<tr><td>1006</td><td>24-HR BLK AVG</td><td>PM25 Annual 2024</td><td>Quarterly Means of Daily Means</td><td>NA</td><td>No Events</td><td>355</td><td>Y</td><td>355</td><td>7.127324</td><td>5.497309</td></tr>\n",
       "</tbody>\n",
       "</table>\n"
      ],
      "text/latex": [
       "A data.frame: 1 × 11\n",
       "\\begin{tabular}{lllllllllll}\n",
       " site\\_number & sample\\_duration & pollutant\\_standard & metric\\_used & method & event\\_type & observation\\_count & validity\\_indicator & valid\\_day\\_count & arithmetic\\_mean & standard\\_deviation\\\\\n",
       " <chr> & <chr> & <chr> & <chr> & <chr> & <chr> & <int> & <chr> & <int> & <dbl> & <dbl>\\\\\n",
       "\\hline\n",
       "\t 1006 & 24-HR BLK AVG & PM25 Annual 2024 & Quarterly Means of Daily Means & NA & No Events & 355 & Y & 355 & 7.127324 & 5.497309\\\\\n",
       "\\end{tabular}\n"
      ],
      "text/markdown": [
       "\n",
       "A data.frame: 1 × 11\n",
       "\n",
       "| site_number &lt;chr&gt; | sample_duration &lt;chr&gt; | pollutant_standard &lt;chr&gt; | metric_used &lt;chr&gt; | method &lt;chr&gt; | event_type &lt;chr&gt; | observation_count &lt;int&gt; | validity_indicator &lt;chr&gt; | valid_day_count &lt;int&gt; | arithmetic_mean &lt;dbl&gt; | standard_deviation &lt;dbl&gt; |\n",
       "|---|---|---|---|---|---|---|---|---|---|---|\n",
       "| 1006 | 24-HR BLK AVG | PM25 Annual 2024 | Quarterly Means of Daily Means | NA | No Events | 355 | Y | 355 | 7.127324 | 5.497309 |\n",
       "\n"
      ],
      "text/plain": [
       "  site_number sample_duration pollutant_standard metric_used                   \n",
       "1 1006        24-HR BLK AVG   PM25 Annual 2024   Quarterly Means of Daily Means\n",
       "  method event_type observation_count validity_indicator valid_day_count\n",
       "1 NA     No Events  355               Y                  355            \n",
       "  arithmetic_mean standard_deviation\n",
       "1 7.127324        5.497309          "
      ]
     },
     "metadata": {},
     "output_type": "display_data"
    }
   ],
   "source": [
    "filter(pm25_data, site_number == 1006, validity_indicator == \"Y\", pollutant_standard == \"PM25 Annual 2024\", event_type == \"No Events\") %>%\n",
    "select(site_number, sample_duration, pollutant_standard, metric_used, method, event_type, observation_count, validity_indicator, valid_day_count, arithmetic_mean, standard_deviation)"
   ]
  },
  {
   "cell_type": "markdown",
   "id": "fc6bcfff-49d2-45da-b9b1-440c5baa4a55",
   "metadata": {},
   "source": [
    "We are now down to a single row of information for monitor 1006!  Let's create a new version of the data *pm25_filtered* which applies these filters (validity_indicator == \"Y\", pollutant_standard == \"PM25 Annual 2024\", and event_type == \"No Events\") to the entire dataset."
   ]
  },
  {
   "cell_type": "code",
   "execution_count": 41,
   "id": "d87cc345-81d9-4502-84e1-d9791a2d999b",
   "metadata": {},
   "outputs": [
    {
     "data": {
      "text/html": [
       "<table class=\"dataframe\">\n",
       "<caption>A data.frame: 6 × 56</caption>\n",
       "<thead>\n",
       "\t<tr><th></th><th scope=col>state_code</th><th scope=col>county_code</th><th scope=col>site_number</th><th scope=col>parameter_code</th><th scope=col>poc</th><th scope=col>latitude</th><th scope=col>longitude</th><th scope=col>datum</th><th scope=col>parameter</th><th scope=col>sample_duration_code</th><th scope=col>⋯</th><th scope=col>fiftieth_percentile</th><th scope=col>tenth_percentile</th><th scope=col>local_site_name</th><th scope=col>site_address</th><th scope=col>state</th><th scope=col>county</th><th scope=col>city</th><th scope=col>cbsa_code</th><th scope=col>cbsa</th><th scope=col>date_of_last_change</th></tr>\n",
       "\t<tr><th></th><th scope=col>&lt;chr&gt;</th><th scope=col>&lt;chr&gt;</th><th scope=col>&lt;chr&gt;</th><th scope=col>&lt;chr&gt;</th><th scope=col>&lt;int&gt;</th><th scope=col>&lt;dbl&gt;</th><th scope=col>&lt;dbl&gt;</th><th scope=col>&lt;chr&gt;</th><th scope=col>&lt;chr&gt;</th><th scope=col>&lt;chr&gt;</th><th scope=col>⋯</th><th scope=col>&lt;dbl&gt;</th><th scope=col>&lt;dbl&gt;</th><th scope=col>&lt;chr&gt;</th><th scope=col>&lt;chr&gt;</th><th scope=col>&lt;chr&gt;</th><th scope=col>&lt;chr&gt;</th><th scope=col>&lt;chr&gt;</th><th scope=col>&lt;chr&gt;</th><th scope=col>&lt;chr&gt;</th><th scope=col>&lt;chr&gt;</th></tr>\n",
       "</thead>\n",
       "<tbody>\n",
       "\t<tr><th scope=row>1</th><td>06</td><td>059</td><td>0007</td><td>88101</td><td>3</td><td>33.83062</td><td>-117.9385</td><td>WGS84</td><td>PM2.5 - Local Conditions</td><td>X</td><td>⋯</td><td>9.1</td><td>2.8</td><td>Anaheim                  </td><td>1630 W. PAMPAS LANE                        </td><td>California</td><td>Orange         </td><td>Anaheim      </td><td>31080</td><td>Los Angeles-Long Beach-Anaheim, CA           </td><td>2024-08-07</td></tr>\n",
       "\t<tr><th scope=row>2</th><td>06</td><td>067</td><td>0006</td><td>88101</td><td>3</td><td>38.61378</td><td>-121.3680</td><td>WGS84</td><td>PM2.5 - Local Conditions</td><td>X</td><td>⋯</td><td>6.5</td><td>2.6</td><td>Sacramento-Del Paso Manor</td><td>DEL PASO-2701 AVALON DR, SACRAMENTO        </td><td>California</td><td>Sacramento     </td><td>Arden-Arcade </td><td>40900</td><td>Sacramento--Roseville--Arden-Arcade, CA      </td><td>2024-08-06</td></tr>\n",
       "\t<tr><th scope=row>3</th><td>06</td><td>067</td><td>0006</td><td>88101</td><td>1</td><td>38.61378</td><td>-121.3680</td><td>WGS84</td><td>PM2.5 - Local Conditions</td><td>7</td><td>⋯</td><td>6.1</td><td>2.8</td><td>Sacramento-Del Paso Manor</td><td>DEL PASO-2701 AVALON DR, SACRAMENTO        </td><td>California</td><td>Sacramento     </td><td>Arden-Arcade </td><td>40900</td><td>Sacramento--Roseville--Arden-Arcade, CA      </td><td>2024-08-06</td></tr>\n",
       "\t<tr><th scope=row>4</th><td>06</td><td>067</td><td>0006</td><td>88101</td><td>2</td><td>38.61378</td><td>-121.3680</td><td>WGS84</td><td>PM2.5 - Local Conditions</td><td>7</td><td>⋯</td><td>7.1</td><td>2.8</td><td>Sacramento-Del Paso Manor</td><td>DEL PASO-2701 AVALON DR, SACRAMENTO        </td><td>California</td><td>Sacramento     </td><td>Arden-Arcade </td><td>40900</td><td>Sacramento--Roseville--Arden-Arcade, CA      </td><td>2024-08-06</td></tr>\n",
       "\t<tr><th scope=row>5</th><td>06</td><td>079</td><td>2007</td><td>88101</td><td>1</td><td>35.04673</td><td>-120.5878</td><td>NAD83</td><td>PM2.5 - Local Conditions</td><td>X</td><td>⋯</td><td>6.0</td><td>2.0</td><td>CDF                      </td><td>2391 Willow Road, Arroyo Grande, California</td><td>California</td><td>San Luis Obispo</td><td>Arroyo Grande</td><td>42020</td><td>San Luis Obispo-Paso Robles-Arroyo Grande, CA</td><td>2024-05-17</td></tr>\n",
       "\t<tr><th scope=row>6</th><td>06</td><td>079</td><td>8002</td><td>88101</td><td>3</td><td>35.49453</td><td>-120.6662</td><td>WGS84</td><td>PM2.5 - Local Conditions</td><td>X</td><td>⋯</td><td>3.0</td><td>0.2</td><td>Atascadero               </td><td>5599 Traffic Way, Atascadero CA            </td><td>California</td><td>San Luis Obispo</td><td>Atascadero   </td><td>42020</td><td>San Luis Obispo-Paso Robles-Arroyo Grande, CA</td><td>2024-05-17</td></tr>\n",
       "</tbody>\n",
       "</table>\n"
      ],
      "text/latex": [
       "A data.frame: 6 × 56\n",
       "\\begin{tabular}{r|lllllllllllllllllllll}\n",
       "  & state\\_code & county\\_code & site\\_number & parameter\\_code & poc & latitude & longitude & datum & parameter & sample\\_duration\\_code & ⋯ & fiftieth\\_percentile & tenth\\_percentile & local\\_site\\_name & site\\_address & state & county & city & cbsa\\_code & cbsa & date\\_of\\_last\\_change\\\\\n",
       "  & <chr> & <chr> & <chr> & <chr> & <int> & <dbl> & <dbl> & <chr> & <chr> & <chr> & ⋯ & <dbl> & <dbl> & <chr> & <chr> & <chr> & <chr> & <chr> & <chr> & <chr> & <chr>\\\\\n",
       "\\hline\n",
       "\t1 & 06 & 059 & 0007 & 88101 & 3 & 33.83062 & -117.9385 & WGS84 & PM2.5 - Local Conditions & X & ⋯ & 9.1 & 2.8 & Anaheim                   & 1630 W. PAMPAS LANE                         & California & Orange          & Anaheim       & 31080 & Los Angeles-Long Beach-Anaheim, CA            & 2024-08-07\\\\\n",
       "\t2 & 06 & 067 & 0006 & 88101 & 3 & 38.61378 & -121.3680 & WGS84 & PM2.5 - Local Conditions & X & ⋯ & 6.5 & 2.6 & Sacramento-Del Paso Manor & DEL PASO-2701 AVALON DR, SACRAMENTO         & California & Sacramento      & Arden-Arcade  & 40900 & Sacramento--Roseville--Arden-Arcade, CA       & 2024-08-06\\\\\n",
       "\t3 & 06 & 067 & 0006 & 88101 & 1 & 38.61378 & -121.3680 & WGS84 & PM2.5 - Local Conditions & 7 & ⋯ & 6.1 & 2.8 & Sacramento-Del Paso Manor & DEL PASO-2701 AVALON DR, SACRAMENTO         & California & Sacramento      & Arden-Arcade  & 40900 & Sacramento--Roseville--Arden-Arcade, CA       & 2024-08-06\\\\\n",
       "\t4 & 06 & 067 & 0006 & 88101 & 2 & 38.61378 & -121.3680 & WGS84 & PM2.5 - Local Conditions & 7 & ⋯ & 7.1 & 2.8 & Sacramento-Del Paso Manor & DEL PASO-2701 AVALON DR, SACRAMENTO         & California & Sacramento      & Arden-Arcade  & 40900 & Sacramento--Roseville--Arden-Arcade, CA       & 2024-08-06\\\\\n",
       "\t5 & 06 & 079 & 2007 & 88101 & 1 & 35.04673 & -120.5878 & NAD83 & PM2.5 - Local Conditions & X & ⋯ & 6.0 & 2.0 & CDF                       & 2391 Willow Road, Arroyo Grande, California & California & San Luis Obispo & Arroyo Grande & 42020 & San Luis Obispo-Paso Robles-Arroyo Grande, CA & 2024-05-17\\\\\n",
       "\t6 & 06 & 079 & 8002 & 88101 & 3 & 35.49453 & -120.6662 & WGS84 & PM2.5 - Local Conditions & X & ⋯ & 3.0 & 0.2 & Atascadero                & 5599 Traffic Way, Atascadero CA             & California & San Luis Obispo & Atascadero    & 42020 & San Luis Obispo-Paso Robles-Arroyo Grande, CA & 2024-05-17\\\\\n",
       "\\end{tabular}\n"
      ],
      "text/markdown": [
       "\n",
       "A data.frame: 6 × 56\n",
       "\n",
       "| <!--/--> | state_code &lt;chr&gt; | county_code &lt;chr&gt; | site_number &lt;chr&gt; | parameter_code &lt;chr&gt; | poc &lt;int&gt; | latitude &lt;dbl&gt; | longitude &lt;dbl&gt; | datum &lt;chr&gt; | parameter &lt;chr&gt; | sample_duration_code &lt;chr&gt; | ⋯ ⋯ | fiftieth_percentile &lt;dbl&gt; | tenth_percentile &lt;dbl&gt; | local_site_name &lt;chr&gt; | site_address &lt;chr&gt; | state &lt;chr&gt; | county &lt;chr&gt; | city &lt;chr&gt; | cbsa_code &lt;chr&gt; | cbsa &lt;chr&gt; | date_of_last_change &lt;chr&gt; |\n",
       "|---|---|---|---|---|---|---|---|---|---|---|---|---|---|---|---|---|---|---|---|---|---|\n",
       "| 1 | 06 | 059 | 0007 | 88101 | 3 | 33.83062 | -117.9385 | WGS84 | PM2.5 - Local Conditions | X | ⋯ | 9.1 | 2.8 | Anaheim                   | 1630 W. PAMPAS LANE                         | California | Orange          | Anaheim       | 31080 | Los Angeles-Long Beach-Anaheim, CA            | 2024-08-07 |\n",
       "| 2 | 06 | 067 | 0006 | 88101 | 3 | 38.61378 | -121.3680 | WGS84 | PM2.5 - Local Conditions | X | ⋯ | 6.5 | 2.6 | Sacramento-Del Paso Manor | DEL PASO-2701 AVALON DR, SACRAMENTO         | California | Sacramento      | Arden-Arcade  | 40900 | Sacramento--Roseville--Arden-Arcade, CA       | 2024-08-06 |\n",
       "| 3 | 06 | 067 | 0006 | 88101 | 1 | 38.61378 | -121.3680 | WGS84 | PM2.5 - Local Conditions | 7 | ⋯ | 6.1 | 2.8 | Sacramento-Del Paso Manor | DEL PASO-2701 AVALON DR, SACRAMENTO         | California | Sacramento      | Arden-Arcade  | 40900 | Sacramento--Roseville--Arden-Arcade, CA       | 2024-08-06 |\n",
       "| 4 | 06 | 067 | 0006 | 88101 | 2 | 38.61378 | -121.3680 | WGS84 | PM2.5 - Local Conditions | 7 | ⋯ | 7.1 | 2.8 | Sacramento-Del Paso Manor | DEL PASO-2701 AVALON DR, SACRAMENTO         | California | Sacramento      | Arden-Arcade  | 40900 | Sacramento--Roseville--Arden-Arcade, CA       | 2024-08-06 |\n",
       "| 5 | 06 | 079 | 2007 | 88101 | 1 | 35.04673 | -120.5878 | NAD83 | PM2.5 - Local Conditions | X | ⋯ | 6.0 | 2.0 | CDF                       | 2391 Willow Road, Arroyo Grande, California | California | San Luis Obispo | Arroyo Grande | 42020 | San Luis Obispo-Paso Robles-Arroyo Grande, CA | 2024-05-17 |\n",
       "| 6 | 06 | 079 | 8002 | 88101 | 3 | 35.49453 | -120.6662 | WGS84 | PM2.5 - Local Conditions | X | ⋯ | 3.0 | 0.2 | Atascadero                | 5599 Traffic Way, Atascadero CA             | California | San Luis Obispo | Atascadero    | 42020 | San Luis Obispo-Paso Robles-Arroyo Grande, CA | 2024-05-17 |\n",
       "\n"
      ],
      "text/plain": [
       "  state_code county_code site_number parameter_code poc latitude longitude\n",
       "1 06         059         0007        88101          3   33.83062 -117.9385\n",
       "2 06         067         0006        88101          3   38.61378 -121.3680\n",
       "3 06         067         0006        88101          1   38.61378 -121.3680\n",
       "4 06         067         0006        88101          2   38.61378 -121.3680\n",
       "5 06         079         2007        88101          1   35.04673 -120.5878\n",
       "6 06         079         8002        88101          3   35.49453 -120.6662\n",
       "  datum parameter                sample_duration_code ⋯ fiftieth_percentile\n",
       "1 WGS84 PM2.5 - Local Conditions X                    ⋯ 9.1                \n",
       "2 WGS84 PM2.5 - Local Conditions X                    ⋯ 6.5                \n",
       "3 WGS84 PM2.5 - Local Conditions 7                    ⋯ 6.1                \n",
       "4 WGS84 PM2.5 - Local Conditions 7                    ⋯ 7.1                \n",
       "5 NAD83 PM2.5 - Local Conditions X                    ⋯ 6.0                \n",
       "6 WGS84 PM2.5 - Local Conditions X                    ⋯ 3.0                \n",
       "  tenth_percentile local_site_name          \n",
       "1 2.8              Anaheim                  \n",
       "2 2.6              Sacramento-Del Paso Manor\n",
       "3 2.8              Sacramento-Del Paso Manor\n",
       "4 2.8              Sacramento-Del Paso Manor\n",
       "5 2.0              CDF                      \n",
       "6 0.2              Atascadero               \n",
       "  site_address                                state      county         \n",
       "1 1630 W. PAMPAS LANE                         California Orange         \n",
       "2 DEL PASO-2701 AVALON DR, SACRAMENTO         California Sacramento     \n",
       "3 DEL PASO-2701 AVALON DR, SACRAMENTO         California Sacramento     \n",
       "4 DEL PASO-2701 AVALON DR, SACRAMENTO         California Sacramento     \n",
       "5 2391 Willow Road, Arroyo Grande, California California San Luis Obispo\n",
       "6 5599 Traffic Way, Atascadero CA             California San Luis Obispo\n",
       "  city          cbsa_code cbsa                                         \n",
       "1 Anaheim       31080     Los Angeles-Long Beach-Anaheim, CA           \n",
       "2 Arden-Arcade  40900     Sacramento--Roseville--Arden-Arcade, CA      \n",
       "3 Arden-Arcade  40900     Sacramento--Roseville--Arden-Arcade, CA      \n",
       "4 Arden-Arcade  40900     Sacramento--Roseville--Arden-Arcade, CA      \n",
       "5 Arroyo Grande 42020     San Luis Obispo-Paso Robles-Arroyo Grande, CA\n",
       "6 Atascadero    42020     San Luis Obispo-Paso Robles-Arroyo Grande, CA\n",
       "  date_of_last_change\n",
       "1 2024-08-07         \n",
       "2 2024-08-06         \n",
       "3 2024-08-06         \n",
       "4 2024-08-06         \n",
       "5 2024-05-17         \n",
       "6 2024-05-17         "
      ]
     },
     "metadata": {},
     "output_type": "display_data"
    }
   ],
   "source": [
    "pm25_filtered <- filter(pm25_data,\n",
    "                        validity_indicator == \"Y\",\n",
    "                        pollutant_standard == \"PM25 Annual 2024\",\n",
    "                        event_type == \"No Events\")\n",
    "\n",
    "head(pm25_filtered)"
   ]
  },
  {
   "cell_type": "markdown",
   "id": "881598de-1668-4eae-9132-c13ace6ea33c",
   "metadata": {},
   "source": [
    "We are still seeing some sites (e.g. site 6 in this preview) which correspond to more than one row.  Instead of creating another filtering criteria, let's simply select the row for each monitoring site which corresponds to the highest number of observations - assuming that a summary based on more observations will be more likely to be accurate."
   ]
  },
  {
   "cell_type": "code",
   "execution_count": 42,
   "id": "7deebcb5-897b-49fb-907c-83a34ac86842",
   "metadata": {},
   "outputs": [
    {
     "data": {
      "text/html": [
       "<table class=\"dataframe\">\n",
       "<caption>A tibble: 6 × 56</caption>\n",
       "<thead>\n",
       "\t<tr><th scope=col>state_code</th><th scope=col>county_code</th><th scope=col>site_number</th><th scope=col>parameter_code</th><th scope=col>poc</th><th scope=col>latitude</th><th scope=col>longitude</th><th scope=col>datum</th><th scope=col>parameter</th><th scope=col>sample_duration_code</th><th scope=col>⋯</th><th scope=col>fiftieth_percentile</th><th scope=col>tenth_percentile</th><th scope=col>local_site_name</th><th scope=col>site_address</th><th scope=col>state</th><th scope=col>county</th><th scope=col>city</th><th scope=col>cbsa_code</th><th scope=col>cbsa</th><th scope=col>date_of_last_change</th></tr>\n",
       "\t<tr><th scope=col>&lt;chr&gt;</th><th scope=col>&lt;chr&gt;</th><th scope=col>&lt;chr&gt;</th><th scope=col>&lt;chr&gt;</th><th scope=col>&lt;int&gt;</th><th scope=col>&lt;dbl&gt;</th><th scope=col>&lt;dbl&gt;</th><th scope=col>&lt;chr&gt;</th><th scope=col>&lt;chr&gt;</th><th scope=col>&lt;chr&gt;</th><th scope=col>⋯</th><th scope=col>&lt;dbl&gt;</th><th scope=col>&lt;dbl&gt;</th><th scope=col>&lt;chr&gt;</th><th scope=col>&lt;chr&gt;</th><th scope=col>&lt;chr&gt;</th><th scope=col>&lt;chr&gt;</th><th scope=col>&lt;chr&gt;</th><th scope=col>&lt;chr&gt;</th><th scope=col>&lt;chr&gt;</th><th scope=col>&lt;chr&gt;</th></tr>\n",
       "</thead>\n",
       "<tbody>\n",
       "\t<tr><td>06</td><td>009</td><td>0001</td><td>88101</td><td>3</td><td>38.20185</td><td>-120.6803</td><td>NAD83</td><td>PM2.5 - Local Conditions</td><td>X</td><td>⋯</td><td>4.9</td><td>1.8</td><td>San Andreas-Gold Strike Road</td><td>501 GOLD STRIKE ROAD, SAN ANDREAS </td><td>California</td><td>Calaveras </td><td>San Andreas          </td><td>NA   </td><td>NA                                     </td><td>2024-08-06</td></tr>\n",
       "\t<tr><td>06</td><td>053</td><td>0002</td><td>88101</td><td>3</td><td>36.48187</td><td>-121.7333</td><td>NAD83</td><td>PM2.5 - Local Conditions</td><td>X</td><td>⋯</td><td>3.6</td><td>1.7</td><td>Carmel Valley               </td><td>35 Ford Road                      </td><td>California</td><td>Monterey  </td><td>Carmel Valley Village</td><td>41500</td><td>Salinas, CA                            </td><td>2024-05-17</td></tr>\n",
       "\t<tr><td>06</td><td>061</td><td>0003</td><td>88101</td><td>1</td><td>38.93568</td><td>-121.0996</td><td>NAD83</td><td>PM2.5 - Local Conditions</td><td>X</td><td>⋯</td><td>5.2</td><td>0.7</td><td>Auburn-Atwood               </td><td>11645 Atwood Street, Auburn       </td><td>California</td><td>Placer    </td><td>Auburn               </td><td>40900</td><td>Sacramento--Roseville--Arden-Arcade, CA</td><td>2024-05-17</td></tr>\n",
       "\t<tr><td>06</td><td>097</td><td>0004</td><td>88101</td><td>3</td><td>38.40376</td><td>-122.8183</td><td>WGS84</td><td>PM2.5 - Local Conditions</td><td>X</td><td>⋯</td><td>3.8</td><td>1.3</td><td>Sebastopol                  </td><td>103 Morris Street,                </td><td>California</td><td>Sonoma    </td><td>Sebastopol           </td><td>42220</td><td>Santa Rosa, CA                         </td><td>2024-05-17</td></tr>\n",
       "\t<tr><td>06</td><td>057</td><td>0005</td><td>88101</td><td>3</td><td>39.23348</td><td>-121.0556</td><td>NAD83</td><td>PM2.5 - Local Conditions</td><td>X</td><td>⋯</td><td>4.4</td><td>1.5</td><td>Grass Valley-Litton Building</td><td>200 LITTON DR.,  GRASS VALLEY, CA </td><td>California</td><td>Nevada    </td><td>Grass Valley         </td><td>46020</td><td>Truckee-Grass Valley, CA               </td><td>2024-05-17</td></tr>\n",
       "\t<tr><td>06</td><td>099</td><td>0006</td><td>88101</td><td>3</td><td>37.48832</td><td>-120.8360</td><td>NAD83</td><td>PM2.5 - Local Conditions</td><td>X</td><td>⋯</td><td>8.4</td><td>3.2</td><td>Turlock                     </td><td> 900 S MINARET STREET, TURLOCK, CA</td><td>California</td><td>Stanislaus</td><td>Turlock              </td><td>33700</td><td>Modesto, CA                            </td><td>2024-08-06</td></tr>\n",
       "</tbody>\n",
       "</table>\n"
      ],
      "text/latex": [
       "A tibble: 6 × 56\n",
       "\\begin{tabular}{lllllllllllllllllllll}\n",
       " state\\_code & county\\_code & site\\_number & parameter\\_code & poc & latitude & longitude & datum & parameter & sample\\_duration\\_code & ⋯ & fiftieth\\_percentile & tenth\\_percentile & local\\_site\\_name & site\\_address & state & county & city & cbsa\\_code & cbsa & date\\_of\\_last\\_change\\\\\n",
       " <chr> & <chr> & <chr> & <chr> & <int> & <dbl> & <dbl> & <chr> & <chr> & <chr> & ⋯ & <dbl> & <dbl> & <chr> & <chr> & <chr> & <chr> & <chr> & <chr> & <chr> & <chr>\\\\\n",
       "\\hline\n",
       "\t 06 & 009 & 0001 & 88101 & 3 & 38.20185 & -120.6803 & NAD83 & PM2.5 - Local Conditions & X & ⋯ & 4.9 & 1.8 & San Andreas-Gold Strike Road & 501 GOLD STRIKE ROAD, SAN ANDREAS  & California & Calaveras  & San Andreas           & NA    & NA                                      & 2024-08-06\\\\\n",
       "\t 06 & 053 & 0002 & 88101 & 3 & 36.48187 & -121.7333 & NAD83 & PM2.5 - Local Conditions & X & ⋯ & 3.6 & 1.7 & Carmel Valley                & 35 Ford Road                       & California & Monterey   & Carmel Valley Village & 41500 & Salinas, CA                             & 2024-05-17\\\\\n",
       "\t 06 & 061 & 0003 & 88101 & 1 & 38.93568 & -121.0996 & NAD83 & PM2.5 - Local Conditions & X & ⋯ & 5.2 & 0.7 & Auburn-Atwood                & 11645 Atwood Street, Auburn        & California & Placer     & Auburn                & 40900 & Sacramento--Roseville--Arden-Arcade, CA & 2024-05-17\\\\\n",
       "\t 06 & 097 & 0004 & 88101 & 3 & 38.40376 & -122.8183 & WGS84 & PM2.5 - Local Conditions & X & ⋯ & 3.8 & 1.3 & Sebastopol                   & 103 Morris Street,                 & California & Sonoma     & Sebastopol            & 42220 & Santa Rosa, CA                          & 2024-05-17\\\\\n",
       "\t 06 & 057 & 0005 & 88101 & 3 & 39.23348 & -121.0556 & NAD83 & PM2.5 - Local Conditions & X & ⋯ & 4.4 & 1.5 & Grass Valley-Litton Building & 200 LITTON DR.,  GRASS VALLEY, CA  & California & Nevada     & Grass Valley          & 46020 & Truckee-Grass Valley, CA                & 2024-05-17\\\\\n",
       "\t 06 & 099 & 0006 & 88101 & 3 & 37.48832 & -120.8360 & NAD83 & PM2.5 - Local Conditions & X & ⋯ & 8.4 & 3.2 & Turlock                      &  900 S MINARET STREET, TURLOCK, CA & California & Stanislaus & Turlock               & 33700 & Modesto, CA                             & 2024-08-06\\\\\n",
       "\\end{tabular}\n"
      ],
      "text/markdown": [
       "\n",
       "A tibble: 6 × 56\n",
       "\n",
       "| state_code &lt;chr&gt; | county_code &lt;chr&gt; | site_number &lt;chr&gt; | parameter_code &lt;chr&gt; | poc &lt;int&gt; | latitude &lt;dbl&gt; | longitude &lt;dbl&gt; | datum &lt;chr&gt; | parameter &lt;chr&gt; | sample_duration_code &lt;chr&gt; | ⋯ ⋯ | fiftieth_percentile &lt;dbl&gt; | tenth_percentile &lt;dbl&gt; | local_site_name &lt;chr&gt; | site_address &lt;chr&gt; | state &lt;chr&gt; | county &lt;chr&gt; | city &lt;chr&gt; | cbsa_code &lt;chr&gt; | cbsa &lt;chr&gt; | date_of_last_change &lt;chr&gt; |\n",
       "|---|---|---|---|---|---|---|---|---|---|---|---|---|---|---|---|---|---|---|---|---|\n",
       "| 06 | 009 | 0001 | 88101 | 3 | 38.20185 | -120.6803 | NAD83 | PM2.5 - Local Conditions | X | ⋯ | 4.9 | 1.8 | San Andreas-Gold Strike Road | 501 GOLD STRIKE ROAD, SAN ANDREAS  | California | Calaveras  | San Andreas           | NA    | NA                                      | 2024-08-06 |\n",
       "| 06 | 053 | 0002 | 88101 | 3 | 36.48187 | -121.7333 | NAD83 | PM2.5 - Local Conditions | X | ⋯ | 3.6 | 1.7 | Carmel Valley                | 35 Ford Road                       | California | Monterey   | Carmel Valley Village | 41500 | Salinas, CA                             | 2024-05-17 |\n",
       "| 06 | 061 | 0003 | 88101 | 1 | 38.93568 | -121.0996 | NAD83 | PM2.5 - Local Conditions | X | ⋯ | 5.2 | 0.7 | Auburn-Atwood                | 11645 Atwood Street, Auburn        | California | Placer     | Auburn                | 40900 | Sacramento--Roseville--Arden-Arcade, CA | 2024-05-17 |\n",
       "| 06 | 097 | 0004 | 88101 | 3 | 38.40376 | -122.8183 | WGS84 | PM2.5 - Local Conditions | X | ⋯ | 3.8 | 1.3 | Sebastopol                   | 103 Morris Street,                 | California | Sonoma     | Sebastopol            | 42220 | Santa Rosa, CA                          | 2024-05-17 |\n",
       "| 06 | 057 | 0005 | 88101 | 3 | 39.23348 | -121.0556 | NAD83 | PM2.5 - Local Conditions | X | ⋯ | 4.4 | 1.5 | Grass Valley-Litton Building | 200 LITTON DR.,  GRASS VALLEY, CA  | California | Nevada     | Grass Valley          | 46020 | Truckee-Grass Valley, CA                | 2024-05-17 |\n",
       "| 06 | 099 | 0006 | 88101 | 3 | 37.48832 | -120.8360 | NAD83 | PM2.5 - Local Conditions | X | ⋯ | 8.4 | 3.2 | Turlock                      |  900 S MINARET STREET, TURLOCK, CA | California | Stanislaus | Turlock               | 33700 | Modesto, CA                             | 2024-08-06 |\n",
       "\n"
      ],
      "text/plain": [
       "  state_code county_code site_number parameter_code poc latitude longitude\n",
       "1 06         009         0001        88101          3   38.20185 -120.6803\n",
       "2 06         053         0002        88101          3   36.48187 -121.7333\n",
       "3 06         061         0003        88101          1   38.93568 -121.0996\n",
       "4 06         097         0004        88101          3   38.40376 -122.8183\n",
       "5 06         057         0005        88101          3   39.23348 -121.0556\n",
       "6 06         099         0006        88101          3   37.48832 -120.8360\n",
       "  datum parameter                sample_duration_code ⋯ fiftieth_percentile\n",
       "1 NAD83 PM2.5 - Local Conditions X                    ⋯ 4.9                \n",
       "2 NAD83 PM2.5 - Local Conditions X                    ⋯ 3.6                \n",
       "3 NAD83 PM2.5 - Local Conditions X                    ⋯ 5.2                \n",
       "4 WGS84 PM2.5 - Local Conditions X                    ⋯ 3.8                \n",
       "5 NAD83 PM2.5 - Local Conditions X                    ⋯ 4.4                \n",
       "6 NAD83 PM2.5 - Local Conditions X                    ⋯ 8.4                \n",
       "  tenth_percentile local_site_name             \n",
       "1 1.8              San Andreas-Gold Strike Road\n",
       "2 1.7              Carmel Valley               \n",
       "3 0.7              Auburn-Atwood               \n",
       "4 1.3              Sebastopol                  \n",
       "5 1.5              Grass Valley-Litton Building\n",
       "6 3.2              Turlock                     \n",
       "  site_address                       state      county    \n",
       "1 501 GOLD STRIKE ROAD, SAN ANDREAS  California Calaveras \n",
       "2 35 Ford Road                       California Monterey  \n",
       "3 11645 Atwood Street, Auburn        California Placer    \n",
       "4 103 Morris Street,                 California Sonoma    \n",
       "5 200 LITTON DR.,  GRASS VALLEY, CA  California Nevada    \n",
       "6  900 S MINARET STREET, TURLOCK, CA California Stanislaus\n",
       "  city                  cbsa_code cbsa                                   \n",
       "1 San Andreas           NA        NA                                     \n",
       "2 Carmel Valley Village 41500     Salinas, CA                            \n",
       "3 Auburn                40900     Sacramento--Roseville--Arden-Arcade, CA\n",
       "4 Sebastopol            42220     Santa Rosa, CA                         \n",
       "5 Grass Valley          46020     Truckee-Grass Valley, CA               \n",
       "6 Turlock               33700     Modesto, CA                            \n",
       "  date_of_last_change\n",
       "1 2024-08-06         \n",
       "2 2024-05-17         \n",
       "3 2024-05-17         \n",
       "4 2024-05-17         \n",
       "5 2024-05-17         \n",
       "6 2024-08-06         "
      ]
     },
     "metadata": {},
     "output_type": "display_data"
    }
   ],
   "source": [
    "pm25_filtered <- pm25_filtered %>%\n",
    "  group_by(site_number) %>%\n",
    "  slice_max(observation_count, with_ties = FALSE) %>%     # keeps only the row with the max observation_count for each group\n",
    "  ungroup()\n",
    "\n",
    "# View the result\n",
    "head(pm25_filtered)"
   ]
  },
  {
   "cell_type": "markdown",
   "id": "930a75e8-4f9b-4c18-bbde-22232ecfe568",
   "metadata": {},
   "source": [
    "We should now only have one row for each monitoring site.  But let's double check by quickly comparing the total number rows and the total number of unique sites in our filtered dataset."
   ]
  },
  {
   "cell_type": "code",
   "execution_count": 43,
   "id": "425b8c15-9371-484c-81a0-2c06d1ca2322",
   "metadata": {},
   "outputs": [
    {
     "data": {
      "text/html": [
       "53"
      ],
      "text/latex": [
       "53"
      ],
      "text/markdown": [
       "53"
      ],
      "text/plain": [
       "[1] 53"
      ]
     },
     "metadata": {},
     "output_type": "display_data"
    },
    {
     "data": {
      "text/html": [
       "53"
      ],
      "text/latex": [
       "53"
      ],
      "text/markdown": [
       "53"
      ],
      "text/plain": [
       "[1] 53"
      ]
     },
     "metadata": {},
     "output_type": "display_data"
    }
   ],
   "source": [
    "# total number of observations\n",
    "dim(pm25_filtered)[1]\n",
    "\n",
    "# number of unique site numbers\n",
    "length(unique(pm25_filtered$site_number))"
   ]
  },
  {
   "cell_type": "markdown",
   "id": "11954c63-e035-4738-9eff-0aec842c8a9a",
   "metadata": {},
   "source": [
    "We have 53 rows and 53 unique site numbers!  We have lost a few of the monitoring sites in our filtering process (remember we started with 70) but we know that the remanining 53 rows are represented by the specific conditions we specified (validity_indicator == \"Y\", pollutant_standard == \"PM25 Annual 2024\", event_type == \"No Events\").\n",
    "\n",
    "Let's take a look at some summary information for the arithmetic_mean PM 2.5 for our 53 monitoring sites."
   ]
  },
  {
   "cell_type": "code",
   "execution_count": 44,
   "id": "d96d6b58-5f83-44bf-9c5a-8b0e6ccd54ff",
   "metadata": {},
   "outputs": [
    {
     "data": {
      "text/plain": [
       "   Min. 1st Qu.  Median    Mean 3rd Qu.    Max. \n",
       "  3.385   5.483   7.947   8.116  10.508  14.334 "
      ]
     },
     "metadata": {},
     "output_type": "display_data"
    }
   ],
   "source": [
    "summary(pm25_filtered$arithmetic_mean)"
   ]
  },
  {
   "cell_type": "markdown",
   "id": "705ddbbe-9f9b-49a8-bef5-707862d0151d",
   "metadata": {},
   "source": [
    "Mean PM 2.5 levels range from about 3.4 to about 14.3.  Let's take a look at a histogram of the PM 2.5 data."
   ]
  },
  {
   "cell_type": "code",
   "execution_count": 45,
   "id": "c72e58e9-54f8-46b2-a317-39cfa21ef1aa",
   "metadata": {},
   "outputs": [
    {
     "data": {
      "image/png": "[encoded data removed]",
      "text/plain": [
       "plot without title"
      ]
     },
     "metadata": {
      "image/png": {
       "height": 420,
       "width": 420
      }
     },
     "output_type": "display_data"
    }
   ],
   "source": [
    "ggplot(data = pm25_filtered, aes(x = arithmetic_mean)) +\n",
    "  geom_histogram(binwidth = 1, fill = \"blue\", color = \"black\", alpha = 0.7) +\n",
    "  labs(title = \"Distribution of PM2.5 Arithmetic Mean Values\",\n",
    "       x = \"Arithmetic Mean PM2.5 Concentration\",\n",
    "       y = \"Frequency\") +\n",
    "  theme_minimal()"
   ]
  },
  {
   "cell_type": "markdown",
   "id": "66f3d3a1-41f6-4a28-9ab6-9efb30bcad48",
   "metadata": {},
   "source": [
    "When we compare populations based on their PM 2.5 exposure, we will need a frame of reference for understanding how bad PM 2.5 exposure is.  For this exercise, we will use the following PM 2.5 exposure categories.\n",
    "\n",
    "1. Low (Good): 0–5 µg/m³\n",
    "2. Moderate: 5–10 µg/m³\n",
    "3. High (Unhealthy for Sensitive Groups): 10–15 µg/m³\n",
    "\n",
    "We'll make a new column in *pm25_filtered* corresponding to the exposure category and add labels to this variable for easy reference."
   ]
  },
  {
   "cell_type": "code",
   "execution_count": 46,
   "id": "75142497-6114-446e-8f64-60f842835d86",
   "metadata": {},
   "outputs": [],
   "source": [
    "pm25_filtered <- pm25_filtered %>%\n",
    "  mutate(pm25_cat = case_when(\n",
    "    arithmetic_mean <= 5 ~ 1,\n",
    "    arithmetic_mean > 5 & arithmetic_mean <= 10 ~ 2,\n",
    "    arithmetic_mean > 10 ~ 3))"
   ]
  },
  {
   "cell_type": "code",
   "execution_count": 47,
   "id": "0c731aa3-c34e-4809-bd04-1bc6d0de1eb9",
   "metadata": {},
   "outputs": [],
   "source": [
    "pm25_filtered <- pm25_filtered %>%\n",
    "  mutate(pm25_cat = factor(pm25_cat,\n",
    "                              levels = c(1, 2, 3),\n",
    "                              labels = c(\"low (0-5 µg/m³)\",\n",
    "                                         \"moderate (5-10 µg/m³)\",\n",
    "                                         \"high (10-15 µg/m³)\")))"
   ]
  },
  {
   "cell_type": "markdown",
   "id": "7b3fb6e5-015c-4ddb-a7ce-855990cbdaba",
   "metadata": {},
   "source": [
    "We're most interested in using the summary data (arithmetic_mean and pm25_cat) in our analysis.  Our data still has a lot of columns we don't plan to use."
   ]
  },
  {
   "cell_type": "code",
   "execution_count": 48,
   "id": "fd9b918a-981d-4454-88ed-013b4e42b2c0",
   "metadata": {},
   "outputs": [
    {
     "data": {
      "text/html": [
       "<style>\n",
       ".list-inline {list-style: none; margin:0; padding: 0}\n",
       ".list-inline>li {display: inline-block}\n",
       ".list-inline>li:not(:last-child)::after {content: \"\\00b7\"; padding: 0 .5ex}\n",
       "</style>\n",
       "<ol class=list-inline><li>'state_code'</li><li>'county_code'</li><li>'site_number'</li><li>'parameter_code'</li><li>'poc'</li><li>'latitude'</li><li>'longitude'</li><li>'datum'</li><li>'parameter'</li><li>'sample_duration_code'</li><li>'sample_duration'</li><li>'pollutant_standard'</li><li>'metric_used'</li><li>'method'</li><li>'year'</li><li>'units_of_measure'</li><li>'event_type'</li><li>'observation_count'</li><li>'observation_percent'</li><li>'validity_indicator'</li><li>'valid_day_count'</li><li>'required_day_count'</li><li>'exceptional_data_count'</li><li>'null_observation_count'</li><li>'primary_exceedance_count'</li><li>'secondary_exceedance_count'</li><li>'certification_indicator'</li><li>'arithmetic_mean'</li><li>'standard_deviation'</li><li>'first_max_value'</li><li>'first_max_datetime'</li><li>'second_max_value'</li><li>'second_max_datetime'</li><li>'third_max_value'</li><li>'third_max_datetime'</li><li>'fourth_max_value'</li><li>'fourth_max_datetime'</li><li>'first_max_nonoverlap_value'</li><li>'first_max_n_o_datetime'</li><li>'second_max_nonoverlap_value'</li><li>'second_max_n_o_datetime'</li><li>'ninety_ninth_percentile'</li><li>'ninety_eighth_percentile'</li><li>'ninety_fifth_percentile'</li><li>'ninetieth_percentile'</li><li>'seventy_fifth_percentile'</li><li>'fiftieth_percentile'</li><li>'tenth_percentile'</li><li>'local_site_name'</li><li>'site_address'</li><li>'state'</li><li>'county'</li><li>'city'</li><li>'cbsa_code'</li><li>'cbsa'</li><li>'date_of_last_change'</li><li>'pm25_cat'</li></ol>\n"
      ],
      "text/latex": [
       "\\begin{enumerate*}\n",
       "\\item 'state\\_code'\n",
       "\\item 'county\\_code'\n",
       "\\item 'site\\_number'\n",
       "\\item 'parameter\\_code'\n",
       "\\item 'poc'\n",
       "\\item 'latitude'\n",
       "\\item 'longitude'\n",
       "\\item 'datum'\n",
       "\\item 'parameter'\n",
       "\\item 'sample\\_duration\\_code'\n",
       "\\item 'sample\\_duration'\n",
       "\\item 'pollutant\\_standard'\n",
       "\\item 'metric\\_used'\n",
       "\\item 'method'\n",
       "\\item 'year'\n",
       "\\item 'units\\_of\\_measure'\n",
       "\\item 'event\\_type'\n",
       "\\item 'observation\\_count'\n",
       "\\item 'observation\\_percent'\n",
       "\\item 'validity\\_indicator'\n",
       "\\item 'valid\\_day\\_count'\n",
       "\\item 'required\\_day\\_count'\n",
       "\\item 'exceptional\\_data\\_count'\n",
       "\\item 'null\\_observation\\_count'\n",
       "\\item 'primary\\_exceedance\\_count'\n",
       "\\item 'secondary\\_exceedance\\_count'\n",
       "\\item 'certification\\_indicator'\n",
       "\\item 'arithmetic\\_mean'\n",
       "\\item 'standard\\_deviation'\n",
       "\\item 'first\\_max\\_value'\n",
       "\\item 'first\\_max\\_datetime'\n",
       "\\item 'second\\_max\\_value'\n",
       "\\item 'second\\_max\\_datetime'\n",
       "\\item 'third\\_max\\_value'\n",
       "\\item 'third\\_max\\_datetime'\n",
       "\\item 'fourth\\_max\\_value'\n",
       "\\item 'fourth\\_max\\_datetime'\n",
       "\\item 'first\\_max\\_nonoverlap\\_value'\n",
       "\\item 'first\\_max\\_n\\_o\\_datetime'\n",
       "\\item 'second\\_max\\_nonoverlap\\_value'\n",
       "\\item 'second\\_max\\_n\\_o\\_datetime'\n",
       "\\item 'ninety\\_ninth\\_percentile'\n",
       "\\item 'ninety\\_eighth\\_percentile'\n",
       "\\item 'ninety\\_fifth\\_percentile'\n",
       "\\item 'ninetieth\\_percentile'\n",
       "\\item 'seventy\\_fifth\\_percentile'\n",
       "\\item 'fiftieth\\_percentile'\n",
       "\\item 'tenth\\_percentile'\n",
       "\\item 'local\\_site\\_name'\n",
       "\\item 'site\\_address'\n",
       "\\item 'state'\n",
       "\\item 'county'\n",
       "\\item 'city'\n",
       "\\item 'cbsa\\_code'\n",
       "\\item 'cbsa'\n",
       "\\item 'date\\_of\\_last\\_change'\n",
       "\\item 'pm25\\_cat'\n",
       "\\end{enumerate*}\n"
      ],
      "text/markdown": [
       "1. 'state_code'\n",
       "2. 'county_code'\n",
       "3. 'site_number'\n",
       "4. 'parameter_code'\n",
       "5. 'poc'\n",
       "6. 'latitude'\n",
       "7. 'longitude'\n",
       "8. 'datum'\n",
       "9. 'parameter'\n",
       "10. 'sample_duration_code'\n",
       "11. 'sample_duration'\n",
       "12. 'pollutant_standard'\n",
       "13. 'metric_used'\n",
       "14. 'method'\n",
       "15. 'year'\n",
       "16. 'units_of_measure'\n",
       "17. 'event_type'\n",
       "18. 'observation_count'\n",
       "19. 'observation_percent'\n",
       "20. 'validity_indicator'\n",
       "21. 'valid_day_count'\n",
       "22. 'required_day_count'\n",
       "23. 'exceptional_data_count'\n",
       "24. 'null_observation_count'\n",
       "25. 'primary_exceedance_count'\n",
       "26. 'secondary_exceedance_count'\n",
       "27. 'certification_indicator'\n",
       "28. 'arithmetic_mean'\n",
       "29. 'standard_deviation'\n",
       "30. 'first_max_value'\n",
       "31. 'first_max_datetime'\n",
       "32. 'second_max_value'\n",
       "33. 'second_max_datetime'\n",
       "34. 'third_max_value'\n",
       "35. 'third_max_datetime'\n",
       "36. 'fourth_max_value'\n",
       "37. 'fourth_max_datetime'\n",
       "38. 'first_max_nonoverlap_value'\n",
       "39. 'first_max_n_o_datetime'\n",
       "40. 'second_max_nonoverlap_value'\n",
       "41. 'second_max_n_o_datetime'\n",
       "42. 'ninety_ninth_percentile'\n",
       "43. 'ninety_eighth_percentile'\n",
       "44. 'ninety_fifth_percentile'\n",
       "45. 'ninetieth_percentile'\n",
       "46. 'seventy_fifth_percentile'\n",
       "47. 'fiftieth_percentile'\n",
       "48. 'tenth_percentile'\n",
       "49. 'local_site_name'\n",
       "50. 'site_address'\n",
       "51. 'state'\n",
       "52. 'county'\n",
       "53. 'city'\n",
       "54. 'cbsa_code'\n",
       "55. 'cbsa'\n",
       "56. 'date_of_last_change'\n",
       "57. 'pm25_cat'\n",
       "\n",
       "\n"
      ],
      "text/plain": [
       " [1] \"state_code\"                  \"county_code\"                \n",
       " [3] \"site_number\"                 \"parameter_code\"             \n",
       " [5] \"poc\"                         \"latitude\"                   \n",
       " [7] \"longitude\"                   \"datum\"                      \n",
       " [9] \"parameter\"                   \"sample_duration_code\"       \n",
       "[11] \"sample_duration\"             \"pollutant_standard\"         \n",
       "[13] \"metric_used\"                 \"method\"                     \n",
       "[15] \"year\"                        \"units_of_measure\"           \n",
       "[17] \"event_type\"                  \"observation_count\"          \n",
       "[19] \"observation_percent\"         \"validity_indicator\"         \n",
       "[21] \"valid_day_count\"             \"required_day_count\"         \n",
       "[23] \"exceptional_data_count\"      \"null_observation_count\"     \n",
       "[25] \"primary_exceedance_count\"    \"secondary_exceedance_count\" \n",
       "[27] \"certification_indicator\"     \"arithmetic_mean\"            \n",
       "[29] \"standard_deviation\"          \"first_max_value\"            \n",
       "[31] \"first_max_datetime\"          \"second_max_value\"           \n",
       "[33] \"second_max_datetime\"         \"third_max_value\"            \n",
       "[35] \"third_max_datetime\"          \"fourth_max_value\"           \n",
       "[37] \"fourth_max_datetime\"         \"first_max_nonoverlap_value\" \n",
       "[39] \"first_max_n_o_datetime\"      \"second_max_nonoverlap_value\"\n",
       "[41] \"second_max_n_o_datetime\"     \"ninety_ninth_percentile\"    \n",
       "[43] \"ninety_eighth_percentile\"    \"ninety_fifth_percentile\"    \n",
       "[45] \"ninetieth_percentile\"        \"seventy_fifth_percentile\"   \n",
       "[47] \"fiftieth_percentile\"         \"tenth_percentile\"           \n",
       "[49] \"local_site_name\"             \"site_address\"               \n",
       "[51] \"state\"                       \"county\"                     \n",
       "[53] \"city\"                        \"cbsa_code\"                  \n",
       "[55] \"cbsa\"                        \"date_of_last_change\"        \n",
       "[57] \"pm25_cat\"                   "
      ]
     },
     "metadata": {},
     "output_type": "display_data"
    }
   ],
   "source": [
    "colnames(pm25_filtered)"
   ]
  },
  {
   "cell_type": "markdown",
   "id": "d623cb05-5ee0-4ca9-82ec-f9931936e465",
   "metadata": {},
   "source": [
    "Let's limit the set of columns to the information we will specifically need for our analysis including site number, arithmetic mean PM 2.5, standard deviation PM 2.5, and site geographic coordinates (latitude and longitude).  This will make our data simplier and easier to work with moving forward."
   ]
  },
  {
   "cell_type": "code",
   "execution_count": 49,
   "id": "a7c11a1b-69db-4b2d-b5b0-ccd5ccf971bf",
   "metadata": {},
   "outputs": [],
   "source": [
    "pm25_final <- pm25_filtered %>%\n",
    "select(site_number, arithmetic_mean, pm25_cat, latitude, longitude)"
   ]
  },
  {
   "cell_type": "markdown",
   "id": "f8d5e945-fbc1-49eb-a20a-da5c96f5f780",
   "metadata": {},
   "source": [
    "Next we will convert our monitoring site data to a geographic point dataset which we can map."
   ]
  },
  {
   "cell_type": "markdown",
   "id": "ddb61a77-595e-4a85-a831-97be45be0939",
   "metadata": {},
   "source": [
    "## 3. PM 2.5 Monitoring Site Buffer Creation\n",
    "\n",
    "### 3a. Convert the PM 2.5 Monitoring Data to a Spatial Object\n",
    "\n",
    "To create buffers around each site we will need to convert the latitude and longitude information in our *pm25_final* to an sf (simple features) object."
   ]
  },
  {
   "cell_type": "code",
   "execution_count": 50,
   "id": "77d0ad7b-0781-4bc5-9b2f-680d8e5cf640",
   "metadata": {},
   "outputs": [],
   "source": [
    "# Convert summarized data to an sf object with point geometry\n",
    "pm25_sf <- st_as_sf(pm25_final, coords = c(\"longitude\", \"latitude\"), crs = 4326)"
   ]
  },
  {
   "cell_type": "markdown",
   "id": "118b1c8d-a730-4a73-9dee-414e029749c9",
   "metadata": {},
   "source": [
    "Next we will set an appropriate Coordinate Reference System (CRS) that uses meters (EPSG 3310, California Albers)."
   ]
  },
  {
   "cell_type": "code",
   "execution_count": 51,
   "id": "90fa20b2-feab-4e03-bff4-4a3fa29abc70",
   "metadata": {},
   "outputs": [],
   "source": [
    "# Reproject to a projected CRS that uses meters for distance measurements\n",
    "pm25_sf <- st_transform(pm25_sf, crs = 3310)     # California Albers projection"
   ]
  },
  {
   "cell_type": "markdown",
   "id": "c1e02e54-399c-4a09-b33d-d78e14bf4e88",
   "metadata": {},
   "source": [
    "### 3b. Map the PM 2.5 Monitoring Site Locations in the State of California\n",
    "\n",
    "Let's also read in a California state boundary shapefile."
   ]
  },
  {
   "cell_type": "code",
   "execution_count": 52,
   "id": "0f108e6c-c5de-4632-a7d0-911c0207ae2e",
   "metadata": {},
   "outputs": [
    {
     "ename": "ERROR",
     "evalue": "Error: Cannot open \"CA_State.shp\"; The file doesn't seem to exist.\n",
     "output_type": "error",
     "traceback": [
      "Error: Cannot open \"CA_State.shp\"; The file doesn't seem to exist.\nTraceback:\n",
      "1. st_read(\"CA_State.shp\")",
      "2. st_read.character(\"CA_State.shp\")",
      "3. CPL_read_ogr(dsn, layer, query, as.character(options), quiet, \n .     type, fid_column_name, drivers, wkt_filter, promote_to_multi, \n .     int64_as_string, dsn_exists, dsn_isdb, getOption(\"width\"))"
     ]
    }
   ],
   "source": [
    "california_boundary <- st_read(\"CA_State.shp\")"
   ]
  },
  {
   "cell_type": "markdown",
   "id": "c2e6c7a6-082a-4152-9990-74eeeb010833",
   "metadata": {},
   "source": [
    "And transform the California boundary to the same CRS as the *pm25_sf* dataset."
   ]
  },
  {
   "cell_type": "code",
   "execution_count": null,
   "id": "40b789dc-e8f0-478a-90b3-755939f8c449",
   "metadata": {},
   "outputs": [],
   "source": [
    "california_boundary <- st_transform(california_boundary, crs = st_crs(pm25_sf))"
   ]
  },
  {
   "cell_type": "markdown",
   "id": "55623094-d448-4366-8513-78013886cad3",
   "metadata": {},
   "source": [
    "Now let's use ggplot to take a look at the monitoring sites and where they are located in the state of California.  This map will both help us better understand our data and also ensure that our data is property geographically referenced."
   ]
  },
  {
   "cell_type": "code",
   "execution_count": null,
   "id": "8a126243-719c-497e-9968-feb2fb23fecc",
   "metadata": {},
   "outputs": [],
   "source": [
    "ggplot() +\n",
    "  geom_sf(data = california_boundary, fill = NA, color = \"black\") +  # California boundary\n",
    "  geom_sf(data = pm25_sf, color = \"blue\", size = 1) +  # PM2.5 monitoring sites\n",
    "  labs(title = \"PM2.5 Monitoring Sites in California\", x = \"Longitude\", y = \"Latitude\") +\n",
    "  theme_minimal()"
   ]
  },
  {
   "cell_type": "markdown",
   "id": "19e42fa0-d478-4bcd-886d-427ea370556e",
   "metadata": {},
   "source": [
    "The map looks great!  Next let's create 5 km buffers around each of the monitoring site point locations."
   ]
  },
  {
   "cell_type": "markdown",
   "id": "9f82585c-0c9c-4140-82da-230832410934",
   "metadata": {},
   "source": [
    "### 3c. Create Buffers Around Each Monitoring Site\n",
    "\n",
    "Now, create buffer zones around each site (e.g., 5,000 meters or 5 km) to determine the impacted areas.\n",
    "\n",
    "First we will define the buffer distance as 5000 meters.  We know our data is in meters since we projected the PM 2.5 dataset to the 3310 California Albers CRS, which uses meters for units."
   ]
  },
  {
   "cell_type": "code",
   "execution_count": null,
   "id": "a2f39e86-71c2-4681-9b7b-8b9f0331f508",
   "metadata": {},
   "outputs": [],
   "source": [
    "buffer_distance <- 5000"
   ]
  },
  {
   "cell_type": "markdown",
   "id": "efd65ec2-2c4c-421d-a793-536e86f28c21",
   "metadata": {},
   "source": [
    "Then we will use the *st_buffer()* function from the *sf* package to create a new geographic feature set *pm25_buffers* corresponding to 5000 meter buffers around each site."
   ]
  },
  {
   "cell_type": "code",
   "execution_count": null,
   "id": "e1b389b6-c445-4eda-8be6-53807572b627",
   "metadata": {},
   "outputs": [],
   "source": [
    "pm25_buffers <- st_buffer(pm25_sf, dist = buffer_distance)"
   ]
  },
  {
   "cell_type": "markdown",
   "id": "2bbf38b5-e595-4d95-9460-d2c1bc55bffb",
   "metadata": {},
   "source": [
    "Let's take a look at the new *pm25_buffers* sf dataset."
   ]
  },
  {
   "cell_type": "code",
   "execution_count": null,
   "id": "f0a4b106-ab8a-4e2c-884c-2fbcceed4173",
   "metadata": {},
   "outputs": [],
   "source": [
    "# cannot run until geojsonio is installed\n",
    "#head(pm25_sf)"
   ]
  },
  {
   "cell_type": "markdown",
   "id": "14928064-1d20-44d4-8212-aef9a3403f9b",
   "metadata": {},
   "source": [
    "And let's take a look at a map of the buffers.  Since the buffers would be too small to see when looking at the full California map, let's take a look at the buffers within Los Angeles County.\n",
    "\n",
    "First, we will import a shapefile boundary of Los Angeles County and set it to the same CRS as the pm25_sf and pm25_buffers data."
   ]
  },
  {
   "cell_type": "code",
   "execution_count": null,
   "id": "840f9f13-4453-4d5a-8ac9-d80f5a140d35",
   "metadata": {},
   "outputs": [],
   "source": [
    "los_angeles_county_boundary <- st_read(\"Los_Angeles_County.shp\")\n",
    "los_angeles_county_boundary <- st_transform(los_angeles_county_boundary, crs = st_crs(pm25_buffers))"
   ]
  },
  {
   "cell_type": "markdown",
   "id": "2913d58b-d693-43cb-abda-37338e2eb77e",
   "metadata": {},
   "source": [
    "Then let's map the locations of the monitoring sites and the corresponding 5000 meter site buffers located in Los Angeles County.  We will color the sites based on the PM 2.5 categories we created earlier."
   ]
  },
  {
   "cell_type": "code",
   "execution_count": null,
   "id": "0567e2e8-6944-43e5-8300-994d2a06ad08",
   "metadata": {},
   "outputs": [],
   "source": [
    "ggplot() +\n",
    "  geom_sf(data = los_angeles_county_boundary, fill = NA, color = \"black\", size = 1) +     # Los Angeles County boundary\n",
    "  geom_sf(data = pm25_buffers, aes(fill = pm25_cat), alpha = 0.4, color = NA) +                # monitoring site buffers\n",
    "  geom_sf(data = pm25_sf, color = \"blue\", size = 1) +                                     # monitoring site point locations\n",
    "  scale_fill_manual(values = c(\"low (0-5 µg/m³)\" = \"green\",\n",
    "                               \"moderate (5-10 µg/m³)\" = \"yellow\",\n",
    "                               \"high (10-15 µg/m³)\" = \"red\")) +\n",
    "  labs(title = \"PM2.5 Monitoring Sites with Buffers in Los Angeles County\",\n",
    "       x = \"Longitude\", y = \"Latitude\") +\n",
    "  coord_sf(xlim = st_bbox(los_angeles_county_boundary)[c(\"xmin\", \"xmax\")], \n",
    "           ylim = st_bbox(los_angeles_county_boundary)[c(\"ymin\", \"ymax\")]) +              # focus the map on the geographic extent of LA County\n",
    "  theme_minimal()"
   ]
  },
  {
   "cell_type": "markdown",
   "id": "3d7c3338-b87f-499e-855d-f74f2b910416",
   "metadata": {},
   "source": [
    "Everything is looking good!  Next we will extract some population data from IPUMS NHGIS using the *ipumsr* package and use that to explore population characteristics by exposure."
   ]
  },
  {
   "cell_type": "markdown",
   "id": "d98632b9-3446-4757-92f0-fc2edb4b9e62",
   "metadata": {},
   "source": [
    "## 4. Block Level Population Data Extraction Using ipumsr\n",
    "\n",
    "Next, we will retrieve census block population data based on the 2020 US Decennial Census from IPUMS NHGIS using the ipumsr package, including geographic boundaries.  For this exercise we will use an NHGIS data extraction with the following specifications:\n",
    "\n",
    "* Time Series Table: Decennial Census Population Count by Race Harmonized to 2010 Geographies (table CM1)\n",
    "* Geographic Level: Block Group\n",
    "* Year: 2020\n",
    "* Shapefile: 2010 Tiger Line California Block Group Shapefile (060_blck_grp_2010_tl2010)\n",
    "\n",
    "For a detailed explanation and walkthrough of the IPUMS NHGIS data extraction process using the ipumsr package, refer to the **IPUMS NGHIS Data Extraction** notebook."
   ]
  },
  {
   "cell_type": "code",
   "execution_count": null,
   "id": "b3fa846d-de19-4a75-9b33-49a67391dbff",
   "metadata": {},
   "outputs": [],
   "source": [
    "extraction <- define_extract_nhgis(description = \"I-GUIDE IPUMS 2020 Census Block Group Population by Race\",\n",
    "                                   time_series_tables = tst_spec(name = \"CM1\",\n",
    "                                                                 geog_levels = \"blck_grp\",\n",
    "                                                                 years = \"2020\"),\n",
    "                                   shapefiles = \"060_blck_grp_2010_tl2010\")"
   ]
  },
  {
   "cell_type": "markdown",
   "id": "d86665b5-9ef5-4868-83d6-96b4ee884af3",
   "metadata": {},
   "source": [
    "Submit the extraction request and wait for it to complete, then download the resulting data."
   ]
  },
  {
   "cell_type": "code",
   "execution_count": null,
   "id": "a09d64d2-d4f2-489b-99dd-fb7f3882a196",
   "metadata": {},
   "outputs": [],
   "source": [
    "# submit extraction  \n",
    "extraction_submitted <- submit_extract(extraction)\n",
    "\n",
    "# wait for completion\n",
    "extraction_complete <- wait_for_extract(extraction_submitted)\n",
    "\n",
    "# check completion\n",
    "extraction_complete$status\n",
    "\n",
    "# get extraction filepath\n",
    "filepath <- download_extract(extraction_submitted, overwrite = T)\n",
    "\n",
    "# save the files\n",
    "dat_nhgis <- read_nhgis(filepath[1])\n",
    "shp <- read_ipums_sf(filepath[2])"
   ]
  },
  {
   "cell_type": "markdown",
   "id": "e46b8cd6-0916-4448-8222-aa270b87896c",
   "metadata": {},
   "source": [
    "Now that we have downloaded the population by race data from NHGIS.  The race classifications for these data are as follows:\n",
    "\n",
    "* CM1AA2020: White\n",
    "* CM1AB2020: Black or African American\n",
    "* CM1AC2020: American Indian and Alaska Nativer\n",
    "* CM1AD2020: Asian\n",
    "* CM1AE2020: Native Hawaiian and Other Pacific Islander\n",
    "* CM1AF2020: Some Other Race\n",
    "* CM1AG2020: Two or More Races\n",
    "\n",
    "Let's simplify this by creating a % White variable."
   ]
  },
  {
   "cell_type": "code",
   "execution_count": null,
   "id": "f91db529-f68d-4aed-9b2a-b0ce261d9fae",
   "metadata": {},
   "outputs": [],
   "source": [
    "dat_nhgis <- dat_nhgis %>%\n",
    "  mutate(perc_white = CM1AA2020 / (CM1AA2020 + CM1AB2020 + CM1AC2020 + CM1AD2020 + CM1AE2020 + CM1AF2020 + CM1AG2020))\n",
    "\n",
    "summary(dat_nhgis$perc_white)"
   ]
  },
  {
   "cell_type": "markdown",
   "id": "17bd669d-fb5f-4ab6-a45e-1e9d626465ca",
   "metadata": {},
   "source": [
    "Census blocks in the United States range from 0% to 100% White with an average of 70.7% White and a median of 62.7% White.\n",
    "\n",
    "Let's create a simplified version of our population data which only includes the subset of variables we are interested in for our analysis."
   ]
  },
  {
   "cell_type": "code",
   "execution_count": null,
   "id": "41584fe2-1e06-4270-8010-a48eca4fc974",
   "metadata": {},
   "outputs": [],
   "source": [
    "head(dat_nhgis)"
   ]
  },
  {
   "cell_type": "code",
   "execution_count": null,
   "id": "2be8cacf-1013-4808-aa63-15e922922e88",
   "metadata": {},
   "outputs": [],
   "source": [
    "dat_nhgis <- dat_nhgis %>% select(\"GISJOIN\", \"BLCK_GRPA\", \"perc_white\")\n",
    "\n",
    "head(dat_nhgis)"
   ]
  },
  {
   "cell_type": "markdown",
   "id": "aa649da8-5b80-4a9d-ab7f-b6e21921ae58",
   "metadata": {},
   "source": [
    "Next will merge the population data with the corresponding downloaded shapefile, convert the new file to an sf object, and set it to have the same CRS as our PM 2.5 data."
   ]
  },
  {
   "cell_type": "code",
   "execution_count": null,
   "id": "2967cffb-d598-4aef-a4b4-568f13409b39",
   "metadata": {},
   "outputs": [],
   "source": [
    "# merge the population and spatial data from the NHGIS API call\n",
    "nhgis_shp <- merge(dat_nhgis, shp, by = \"GISJOIN\")\n",
    "\n",
    "# transform the resulting file to an sf object\n",
    "nhgis_shp <- st_as_sf(nhgis_shp)\n",
    "\n",
    "# reproject the sf object to the same CRS as the PM 2.5 data\n",
    "nhgis_shp <- st_transform(nhgis_shp, crs = st_crs(pm25_buffers))"
   ]
  },
  {
   "cell_type": "markdown",
   "id": "6b4a8b77-b048-4521-867d-8c6d7e99aa4f",
   "metadata": {},
   "source": [
    "And we'll take a look at the California block group map showing percent White population by block group."
   ]
  },
  {
   "cell_type": "code",
   "execution_count": null,
   "id": "195d06fa-122d-4c1b-976c-c5130a76cd1b",
   "metadata": {},
   "outputs": [],
   "source": [
    "ggplot(data = nhgis_shp) +\n",
    "  geom_sf(aes(fill = perc_white), color = NA) +                      # color block groups by perc_white\n",
    "  scale_fill_viridis_c(option = \"plasma\", na.value = \"grey50\") +     # use the \"plasma\" color scale and handle NA values\n",
    "  labs(title = \"Block Groups by Percent White Population\",\n",
    "       fill = \"Percent White\") +\n",
    "  theme_minimal()"
   ]
  },
  {
   "cell_type": "markdown",
   "id": "f7c6d77b-383d-4c6e-8fa3-afe04e829e3e",
   "metadata": {},
   "source": [
    "## 5. Exposed Population Count Buffer Analysis\r\n",
    "\n",
    "Step 5: Perform Spatial Join to Count Population Within Buffers\n",
    "\n",
    "Finally, use a spatial join to intersect the population data with the buffers.  This will count the number of people within each buffer zone."
   ]
  },
  {
   "cell_type": "code",
   "execution_count": null,
   "id": "a3fc5311-d3bb-4475-99c0-66cd7fc56cb9",
   "metadata": {},
   "outputs": [],
   "source": [
    "# Spatial join - associate each block group with the PM2.5 buffer it intersects\n",
    "# This will create duplicates for block groups that intersect multiple buffers\n",
    "bg_pm25_joined <- st_join(nhgis_shp, pm25_sf, join = st_intersects)"
   ]
  },
  {
   "cell_type": "code",
   "execution_count": null,
   "id": "595c2c45-5444-4aab-916b-79ed63391e95",
   "metadata": {},
   "outputs": [],
   "source": [
    "# Summarize percent white for each PM2.5 category\n",
    "# Group by the PM2.5 category and calculate the mean percentage white population\n",
    "summary_percent_white <- bg_pm25_joined %>%\n",
    "  group_by(pm25_cat) %>%\n",
    "  summarize(mean_perc_white = mean(perc_white, na.rm = TRUE),\n",
    "            median_perc_white = median(perc_white, na.rm = TRUE),\n",
    "            .groups = 'drop') %>%\n",
    "  filter(!is.na(pm25_cat))"
   ]
  },
  {
   "cell_type": "code",
   "execution_count": null,
   "id": "eda2930e-d122-4930-b58f-4c04ca56d08f",
   "metadata": {},
   "outputs": [],
   "source": [
    "# View the summary\n",
    "as.data.frame(summary_percent_white)"
   ]
  },
  {
   "cell_type": "code",
   "execution_count": null,
   "id": "00c2b1d2-9c90-4caf-89d7-ca497befe24b",
   "metadata": {},
   "outputs": [],
   "source": [
    "ggplot(data = summary_percent_white,\n",
    "       aes(x = pm25_cat, y = mean_perc_white, fill = pm25_cat)) +\n",
    "  geom_bar(stat = \"identity\") +\n",
    "  labs(title = \"Average Percent White by PM2.5 Level\",\n",
    "       x = \"PM2.5 Level\",\n",
    "       y = \"Mean Percent White\") +\n",
    "  scale_fill_manual(values = c(\"low (0-5 µg/m³)\" = \"green\",\n",
    "                               \"moderate (5-10 µg/m³)\" = \"yellow\",\n",
    "                               \"high (10-15 µg/m³)\" = \"red\")) +\n",
    "  theme_minimal()"
   ]
  },
  {
   "cell_type": "markdown",
   "id": "e47e62f9-570e-4668-8a5a-4a9bb1468d44",
   "metadata": {},
   "source": [
    "Our analysis shows there is a relationship between race and PM 2.5 exposure level for the subset of California block groups which are within 5000 meters of an EPA AQS PM 2.5 monitoring site.  Populations close to monitoring sites showing low PM 2.5 (0-5 µg/m³) are, on averge, 64% White while populations close to monitoring sites showing high PM 2.5 (10-15 µg/m³) are, on average, only 33% White.\n",
    "\n",
    "This initial exploratory analysis indicates there may be an environmental justice issue where areas with larger populations of color are more exposed to PM 2.5."
   ]
  }
 ],
 "metadata": {
  "kernelspec": {
   "display_name": "R",
   "language": "R",
   "name": "ir"
  },
  "language_info": {
   "codemirror_mode": "r",
   "file_extension": ".r",
   "mimetype": "text/x-r-source",
   "name": "R",
   "pygments_lexer": "r",
   "version": "4.3.3"
  }
 },
 "nbformat": 4,
 "nbformat_minor": 5
}
