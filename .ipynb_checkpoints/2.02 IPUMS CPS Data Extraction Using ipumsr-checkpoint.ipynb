{
 "cells": [
  {
   "cell_type": "markdown",
   "id": "5416a642-8884-4543-acf3-81c553cff811",
   "metadata": {},
   "source": [
    "# IPUMS Current Population Survey (CPS) Data Extraction Using ipumsr"
   ]
  },
  {
   "cell_type": "markdown",
   "id": "dda02f5e-fa65-4398-b630-c51d09cea26d",
   "metadata": {},
   "source": [
    "## Introduction\n",
    "The [IPUMS CPS](https://cps.ipums.org/cps) database offers harmonized microdata from the [Current Population Survey (CPS)](https://www.census.gov/programs-surveys/cps.html), a key source of information on labor force participation, employment, income, and related demographic characteristics in the United States. It provides detailed, individual-level records that enable the analysis of trends in the labor market and socioeconomic conditions over time. Through harmonization, IPUMS CPS allows data to be seamlessly compared across survey years, despite changes in questionnaire design, geographic classifications, and variable definitions.\n",
    "\n",
    "**From the [IPUMS CPS Website](https://cps.ipums.org/cps):** IPUMS CPS harmonizes microdata from the monthly U.S. labor force survey, the Current Population Survey (CPS), covering the period 1962 to the present. Data include demographic information, rich employment data, program participation and supplemental data on topics such as fertility, tobacco use, volunteer activities, voter registration, computer and internet use, food security, and more.\n",
    "\n",
    "This notebook introduces the process of extracting [IPUMS CPS](https://cps.ipums.org/cps) data using the [IPUMS API](https://developer.ipums.org/docs/v2/apiprogram) via the [ipumsr R package](https://cran.r-project.org/web/packages/ipumsr/index.html). Users will learn how to define, submit, and download an IPUMS CPS data extract, specifying desired variables, time periods, and geographic units for analysis. By the end of this notebook, users will have the skills to efficiently acquire customized IPUMS CPS datasets and prepare them for spatial and statistical workflows.\n",
    "\n",
    "### ★ Prerequisites ★\n",
    "* Complete Chapter 1.1: Introduction to IPUMS and the IPUMS API\n",
    "* Set Up Your [IPUMS Account and API Key](https://account.ipums.org/api_keys)\n",
    "\n",
    "### Notebook Overview\n",
    "1. Setup\n",
    "2. IPUMS CPS Metadata Exploration\n",
    "3. IPUMS CPS Data Extraction Specification and Submission"
   ]
  },
  {
   "cell_type": "markdown",
   "id": "a61334a9-13a7-4e2b-827c-c41ce3086d93",
   "metadata": {},
   "source": [
    "## 1. Setup\n",
    "This section will guide you through the process of installing essential packages and setting your IPUMS API key.\n",
    "\n",
    "#### Required Packages\n",
    "\n",
    "[**dplyr**](https://cran.r-project.org/web/packages/dplyr/index.html) A Grammar of Data Manipulation. This notebook uses the the following function from *dplyr*.\n",
    "\n",
    "* [*filter*](https://rdrr.io/cran/dplyr/man/filter.html) · keep rows that match a condition\n",
    "* This notebook also uses [*%>%*](https://magrittr.tidyverse.org/reference/pipe.html), referred to as the *pipe* operator, which is used to pass the output from one function directly into the next function for the purpose of creating streamlined workflows.  The *pipe* operator is a commonly used component of the [*tidyverse*](https://www.tidyverse.org).\n",
    "\n",
    "[**ipumsr**](https://cran.r-project.org/web/packages/ipumsr/index.html) An R Interface for Downloading, Reading, and Handling IPUMS Data.  This notebook uses the the following functions from *ipumsr*.\n",
    "\n",
    "* [*define_extract_micro*](https://rdrr.io/github/mnpopcenter/ripums/man/define_extract_micro.html) · define an extract request for an IPUMS microdata collection\n",
    "* [*download_extract*](https://rdrr.io/cran/ipumsr/man/download_extract.html) · download a completed IPUMS data extract\n",
    "* [*get_sample_info*](https://rdrr.io/cran/ipumsr/man/get_sample_info.html) · list available samples for IPUMS microdata collections\n",
    "* [*read_ipums_ddi*](https://rdrr.io/cran/ipumsr/man/read_ipums_ddi.html) · read metadata about an IPUMS microdata extract from a DDI codebook (.xml) file\n",
    "* [*read_ipums_micro*](https://rdrr.io/cran/ipumsr/man/read_ipums_micro.html) · read data from an IPUMS microdata extract\n",
    "* [*set_ipums_api_key*](https://rdrr.io/cran/ipumsr/man/set_ipums_api_key.html) · set your IPUMS API key\n",
    "* [*submit_extract*](https://rdrr.io/cran/ipumsr/man/submit_extract.html) · submit an extract request via the IPUMS API\n",
    "* [*wait_for_extract*](https://rdrr.io/cran/ipumsr/man/wait_for_extract.html) · wait for an extract to finish processing\n",
    "\n",
    "[**stringr**](https://cran.r-project.org/web/packages/stringr/index.html) Simple, Consistent Wrappers for Common String Operations.  This notebook uses the following function from *stringr*.\n",
    "\n",
    "* [*str_detect*](https://stringr.tidyverse.org/reference/str_detect.html) · detect the presence or absence of a match"
   ]
  },
  {
   "cell_type": "markdown",
   "id": "277496e2-30ab-4e2d-9289-75ac7ed1e242",
   "metadata": {},
   "source": [
    "### 1a. Install and Load Required Packages\n",
    "If you have not already installed the required packages, uncomment and run the code below:"
   ]
  },
  {
   "cell_type": "code",
   "execution_count": 55,
   "id": "f1024956-e83c-4da1-87cc-d71d7f6bd7fe",
   "metadata": {},
   "outputs": [],
   "source": [
    "# install.packages(c(\"dplyr\", \"ipumsr\", \"stringr\"))"
   ]
  },
  {
   "cell_type": "markdown",
   "id": "37614887-fb05-48db-844e-43bbca59bf16",
   "metadata": {},
   "source": [
    "Load the packages into your workspace."
   ]
  },
  {
   "cell_type": "code",
   "execution_count": 17,
   "id": "a3dd418e-ffe9-4a43-8f79-ac1784422dcb",
   "metadata": {},
   "outputs": [
    {
     "name": "stderr",
     "output_type": "stream",
     "text": [
      "\n",
      "Attaching package: 'dplyr'\n",
      "\n",
      "\n",
      "The following objects are masked from 'package:stats':\n",
      "\n",
      "    filter, lag\n",
      "\n",
      "\n",
      "The following objects are masked from 'package:base':\n",
      "\n",
      "    intersect, setdiff, setequal, union\n",
      "\n",
      "\n"
     ]
    }
   ],
   "source": [
    "library(dplyr)\n",
    "library(ipumsr)\n",
    "library(stringr)"
   ]
  },
  {
   "cell_type": "markdown",
   "id": "44c9276d-635e-4cf0-ac45-7076dcb2b187",
   "metadata": {},
   "source": [
    "### 1b. Set Your IPUMS API Key\n",
    "\n",
    "Store your [IPUMS API key](https://account.ipums.org/api_keys) in your environment using the following code.\n",
    "\n",
    "Refer to *Chapter 1.1: Introduction to IPUMS and the IPUMS API* for instructions on setting up your IPUMS account and API key."
   ]
  },
  {
   "cell_type": "code",
   "execution_count": 11,
   "id": "58871518-c306-462d-b442-f3ffa5e27f28",
   "metadata": {},
   "outputs": [
    {
     "name": "stdin",
     "output_type": "stream",
     "text": [
      "Please enter your IPUMS API key:  59cba10d8a5da536fc06b59dd85f877c475a4c7d96dd08a9ce04d9d0\n"
     ]
    },
    {
     "name": "stderr",
     "output_type": "stream",
     "text": [
      "Existing .Renviron file copied to C:\\Users\\vavra\\Documents/.Renviron_backup for backup purposes.\n",
      "\n",
      "The environment variable IPUMS_API_KEY has been set and saved for future sessions.\n",
      "\n"
     ]
    }
   ],
   "source": [
    "ipumps_api_key = readline(\"Please enter your IPUMS API key: \")\n",
    "set_ipums_api_key(ipumps_api_key, save = T, overwrite = T)"
   ]
  },
  {
   "cell_type": "markdown",
   "id": "f00d6494-5520-4d27-bd62-4eeae22e78e1",
   "metadata": {},
   "source": [
    "## 2. IPUMS CPS Metadata Exploration\n",
    "\n",
    "### 2a. Review the List of Samples"
   ]
  },
  {
   "cell_type": "code",
   "execution_count": 12,
   "id": "a7e2cd67-a408-47df-b726-3119fb2bd431",
   "metadata": {},
   "outputs": [
    {
     "data": {
      "text/html": [
       "<style>\n",
       ".list-inline {list-style: none; margin:0; padding: 0}\n",
       ".list-inline>li {display: inline-block}\n",
       ".list-inline>li:not(:last-child)::after {content: \"\\00b7\"; padding: 0 .5ex}\n",
       "</style>\n",
       "<ol class=list-inline><li>650</li><li>2</li></ol>\n"
      ],
      "text/latex": [
       "\\begin{enumerate*}\n",
       "\\item 650\n",
       "\\item 2\n",
       "\\end{enumerate*}\n"
      ],
      "text/markdown": [
       "1. 650\n",
       "2. 2\n",
       "\n",
       "\n"
      ],
      "text/plain": [
       "[1] 650   2"
      ]
     },
     "metadata": {},
     "output_type": "display_data"
    }
   ],
   "source": [
    "# retrive and view the list of samples from the IPUMS CPS database\n",
    "metadata_cps <- get_sample_info(\"cps\")\n",
    "\n",
    "# view the dimensions of the list of samples\n",
    "dim(metadata_cps)"
   ]
  },
  {
   "cell_type": "code",
   "execution_count": 14,
   "id": "53054616-bb4c-4a8b-93bc-5e515a102106",
   "metadata": {},
   "outputs": [
    {
     "data": {
      "text/html": [
       "<table class=\"dataframe\">\n",
       "<caption>A tibble: 6 × 2</caption>\n",
       "<thead>\n",
       "\t<tr><th scope=col>name</th><th scope=col>description</th></tr>\n",
       "\t<tr><th scope=col>&lt;chr&gt;</th><th scope=col>&lt;chr&gt;</th></tr>\n",
       "</thead>\n",
       "<tbody>\n",
       "\t<tr><td>cps1962_03s</td><td>IPUMS-CPS, ASEC 1962</td></tr>\n",
       "\t<tr><td>cps1963_03s</td><td>IPUMS-CPS, ASEC 1963</td></tr>\n",
       "\t<tr><td>cps1964_03s</td><td>IPUMS-CPS, ASEC 1964</td></tr>\n",
       "\t<tr><td>cps1965_03s</td><td>IPUMS-CPS, ASEC 1965</td></tr>\n",
       "\t<tr><td>cps1966_03s</td><td>IPUMS-CPS, ASEC 1966</td></tr>\n",
       "\t<tr><td>cps1967_03s</td><td>IPUMS-CPS, ASEC 1967</td></tr>\n",
       "</tbody>\n",
       "</table>\n"
      ],
      "text/latex": [
       "A tibble: 6 × 2\n",
       "\\begin{tabular}{ll}\n",
       " name & description\\\\\n",
       " <chr> & <chr>\\\\\n",
       "\\hline\n",
       "\t cps1962\\_03s & IPUMS-CPS, ASEC 1962\\\\\n",
       "\t cps1963\\_03s & IPUMS-CPS, ASEC 1963\\\\\n",
       "\t cps1964\\_03s & IPUMS-CPS, ASEC 1964\\\\\n",
       "\t cps1965\\_03s & IPUMS-CPS, ASEC 1965\\\\\n",
       "\t cps1966\\_03s & IPUMS-CPS, ASEC 1966\\\\\n",
       "\t cps1967\\_03s & IPUMS-CPS, ASEC 1967\\\\\n",
       "\\end{tabular}\n"
      ],
      "text/markdown": [
       "\n",
       "A tibble: 6 × 2\n",
       "\n",
       "| name &lt;chr&gt; | description &lt;chr&gt; |\n",
       "|---|---|\n",
       "| cps1962_03s | IPUMS-CPS, ASEC 1962 |\n",
       "| cps1963_03s | IPUMS-CPS, ASEC 1963 |\n",
       "| cps1964_03s | IPUMS-CPS, ASEC 1964 |\n",
       "| cps1965_03s | IPUMS-CPS, ASEC 1965 |\n",
       "| cps1966_03s | IPUMS-CPS, ASEC 1966 |\n",
       "| cps1967_03s | IPUMS-CPS, ASEC 1967 |\n",
       "\n"
      ],
      "text/plain": [
       "  name        description         \n",
       "1 cps1962_03s IPUMS-CPS, ASEC 1962\n",
       "2 cps1963_03s IPUMS-CPS, ASEC 1963\n",
       "3 cps1964_03s IPUMS-CPS, ASEC 1964\n",
       "4 cps1965_03s IPUMS-CPS, ASEC 1965\n",
       "5 cps1966_03s IPUMS-CPS, ASEC 1966\n",
       "6 cps1967_03s IPUMS-CPS, ASEC 1967"
      ]
     },
     "metadata": {},
     "output_type": "display_data"
    }
   ],
   "source": [
    "# view the first few lines of the list of samples\n",
    "head(metadata_cps)"
   ]
  },
  {
   "cell_type": "markdown",
   "id": "fd9313d4-ee5d-43b9-8bc4-88128ef9de50",
   "metadata": {},
   "source": [
    "Refer to the [Descriptions of IPUMS CPS Samples](https://cps.ipums.org/cps/samples.shtml) page on the IPUMS CPS website."
   ]
  },
  {
   "cell_type": "code",
   "execution_count": 18,
   "id": "c4efb7e2-d392-45be-87b7-7ff8895b9f38",
   "metadata": {},
   "outputs": [
    {
     "data": {
      "text/html": [
       "<table class=\"dataframe\">\n",
       "<caption>A tibble: 13 × 2</caption>\n",
       "<thead>\n",
       "\t<tr><th scope=col>name</th><th scope=col>description</th></tr>\n",
       "\t<tr><th scope=col>&lt;chr&gt;</th><th scope=col>&lt;chr&gt;</th></tr>\n",
       "</thead>\n",
       "<tbody>\n",
       "\t<tr><td>cps2020_01s</td><td>IPUMS-CPS, January 2020  </td></tr>\n",
       "\t<tr><td>cps2020_02s</td><td>IPUMS-CPS, February 2020 </td></tr>\n",
       "\t<tr><td>cps2020_03b</td><td>IPUMS-CPS, March 2020    </td></tr>\n",
       "\t<tr><td>cps2020_04b</td><td>IPUMS-CPS, April 2020    </td></tr>\n",
       "\t<tr><td>cps2020_05b</td><td>IPUMS-CPS, May 2020      </td></tr>\n",
       "\t<tr><td>cps2020_06s</td><td>IPUMS-CPS, June 2020     </td></tr>\n",
       "\t<tr><td>cps2020_07b</td><td>IPUMS-CPS, July 2020     </td></tr>\n",
       "\t<tr><td>cps2020_08s</td><td>IPUMS-CPS, August 2020   </td></tr>\n",
       "\t<tr><td>cps2020_03s</td><td>IPUMS-CPS, ASEC 2020     </td></tr>\n",
       "\t<tr><td>cps2020_09b</td><td>IPUMS-CPS, September 2020</td></tr>\n",
       "\t<tr><td>cps2020_10s</td><td>IPUMS-CPS, October 2020  </td></tr>\n",
       "\t<tr><td>cps2020_11s</td><td>IPUMS-CPS, November 2020 </td></tr>\n",
       "\t<tr><td>cps2020_12s</td><td>IPUMS-CPS, December 2020 </td></tr>\n",
       "</tbody>\n",
       "</table>\n"
      ],
      "text/latex": [
       "A tibble: 13 × 2\n",
       "\\begin{tabular}{ll}\n",
       " name & description\\\\\n",
       " <chr> & <chr>\\\\\n",
       "\\hline\n",
       "\t cps2020\\_01s & IPUMS-CPS, January 2020  \\\\\n",
       "\t cps2020\\_02s & IPUMS-CPS, February 2020 \\\\\n",
       "\t cps2020\\_03b & IPUMS-CPS, March 2020    \\\\\n",
       "\t cps2020\\_04b & IPUMS-CPS, April 2020    \\\\\n",
       "\t cps2020\\_05b & IPUMS-CPS, May 2020      \\\\\n",
       "\t cps2020\\_06s & IPUMS-CPS, June 2020     \\\\\n",
       "\t cps2020\\_07b & IPUMS-CPS, July 2020     \\\\\n",
       "\t cps2020\\_08s & IPUMS-CPS, August 2020   \\\\\n",
       "\t cps2020\\_03s & IPUMS-CPS, ASEC 2020     \\\\\n",
       "\t cps2020\\_09b & IPUMS-CPS, September 2020\\\\\n",
       "\t cps2020\\_10s & IPUMS-CPS, October 2020  \\\\\n",
       "\t cps2020\\_11s & IPUMS-CPS, November 2020 \\\\\n",
       "\t cps2020\\_12s & IPUMS-CPS, December 2020 \\\\\n",
       "\\end{tabular}\n"
      ],
      "text/markdown": [
       "\n",
       "A tibble: 13 × 2\n",
       "\n",
       "| name &lt;chr&gt; | description &lt;chr&gt; |\n",
       "|---|---|\n",
       "| cps2020_01s | IPUMS-CPS, January 2020   |\n",
       "| cps2020_02s | IPUMS-CPS, February 2020  |\n",
       "| cps2020_03b | IPUMS-CPS, March 2020     |\n",
       "| cps2020_04b | IPUMS-CPS, April 2020     |\n",
       "| cps2020_05b | IPUMS-CPS, May 2020       |\n",
       "| cps2020_06s | IPUMS-CPS, June 2020      |\n",
       "| cps2020_07b | IPUMS-CPS, July 2020      |\n",
       "| cps2020_08s | IPUMS-CPS, August 2020    |\n",
       "| cps2020_03s | IPUMS-CPS, ASEC 2020      |\n",
       "| cps2020_09b | IPUMS-CPS, September 2020 |\n",
       "| cps2020_10s | IPUMS-CPS, October 2020   |\n",
       "| cps2020_11s | IPUMS-CPS, November 2020  |\n",
       "| cps2020_12s | IPUMS-CPS, December 2020  |\n",
       "\n"
      ],
      "text/plain": [
       "   name        description              \n",
       "1  cps2020_01s IPUMS-CPS, January 2020  \n",
       "2  cps2020_02s IPUMS-CPS, February 2020 \n",
       "3  cps2020_03b IPUMS-CPS, March 2020    \n",
       "4  cps2020_04b IPUMS-CPS, April 2020    \n",
       "5  cps2020_05b IPUMS-CPS, May 2020      \n",
       "6  cps2020_06s IPUMS-CPS, June 2020     \n",
       "7  cps2020_07b IPUMS-CPS, July 2020     \n",
       "8  cps2020_08s IPUMS-CPS, August 2020   \n",
       "9  cps2020_03s IPUMS-CPS, ASEC 2020     \n",
       "10 cps2020_09b IPUMS-CPS, September 2020\n",
       "11 cps2020_10s IPUMS-CPS, October 2020  \n",
       "12 cps2020_11s IPUMS-CPS, November 2020 \n",
       "13 cps2020_12s IPUMS-CPS, December 2020 "
      ]
     },
     "metadata": {},
     "output_type": "display_data"
    }
   ],
   "source": [
    "# filter the list of samples by year\n",
    "metadata_cps %>% filter(str_detect(description, \"2020\"))      # filter descrption by year"
   ]
  },
  {
   "cell_type": "markdown",
   "id": "6a9d6299-c260-42f2-a3fa-482684d602d4",
   "metadata": {},
   "source": [
    "## 3. IPUMS CPS Data Extraction Specification and Submission\n",
    "\n",
    "Once we know the dataset and variable selection we want, we can define our data extraction using the *define_extract_micro* function from the *ipumsr* package.  This function requires the following parameters:\n",
    "\n",
    "### 3a. Define the Data Extract\n",
    "\n",
    "For this example we will use the January 2020 CPS sample.\n",
    "\n",
    "**Variable Selection**\n",
    "* County (FIPS Code) (COUNTY)\n",
    "* Age (AGE)\n",
    "* Sex (SEX)\n",
    "* Quit Job or Retired for Health Reasons (QUITSICK)\n",
    "* Covered by Military Health Insurance in the Last Year (HICHAMP)\n",
    "* Veteran's Most Recent Period of Service (VETLAST)\n",
    "\n",
    "By default, the data extraction will also include a number of IPUMS preselected variables.  These variables include metainformation such as identification codes and survey weights.  We will explore and list the preselected variables after completing the data extraction.\n",
    "\n",
    "* **collection** Code for the IPUMS collection represented by this extract request.  In our case we are downloading from IPUMS CPS so we use the code \"cps\".\n",
    "* **description** Description of the extract.\n",
    "* **samples** Vector of samples to include in the extract request.  In our case we are downloading the January 2020 CPS data (cps2020_01s).\n",
    "* **variables** Vector of variable names or a list of detailed variable specifications to include in the extract request."
   ]
  },
  {
   "cell_type": "code",
   "execution_count": 46,
   "id": "8c2695dc-a83d-4c40-848b-85927c554296",
   "metadata": {},
   "outputs": [],
   "source": [
    "# set up the data extraction definition\n",
    "extract_definition <- define_extract_micro(collection = \"cps\",\n",
    "                                           description = \"IPUMS CPS Data Extraction\",\n",
    "                                           samples = c(\"cps2020_03s\"),\n",
    "                                           variables = c(\"COUNTY\", \"AGE\", \"SEX\", \"QUITSICK\", \"HICHAMP\", \"VETLAST\"))"
   ]
  },
  {
   "cell_type": "code",
   "execution_count": 47,
   "id": "ec733522-08b8-44b8-b3bc-41c3e19d125f",
   "metadata": {},
   "outputs": [
    {
     "data": {
      "text/html": [
       "<dl>\n",
       "\t<dt>$collection</dt>\n",
       "\t\t<dd>'cps'</dd>\n",
       "\t<dt>$description</dt>\n",
       "\t\t<dd>'IPUMS CPS Data Extraction'</dd>\n",
       "\t<dt>$samples</dt>\n",
       "\t\t<dd><strong>$cps2020_03s</strong> = <strong>$name</strong> = 'cps2020_03s'</dd>\n",
       "\t<dt>$variables</dt>\n",
       "\t\t<dd><dl>\n",
       "\t<dt>$COUNTY</dt>\n",
       "\t\t<dd><strong>$name</strong> = 'COUNTY'</dd>\n",
       "\t<dt>$AGE</dt>\n",
       "\t\t<dd><strong>$name</strong> = 'AGE'</dd>\n",
       "\t<dt>$SEX</dt>\n",
       "\t\t<dd><strong>$name</strong> = 'SEX'</dd>\n",
       "\t<dt>$QUITSICK</dt>\n",
       "\t\t<dd><strong>$name</strong> = 'QUITSICK'</dd>\n",
       "\t<dt>$HICHAMP</dt>\n",
       "\t\t<dd><strong>$name</strong> = 'HICHAMP'</dd>\n",
       "\t<dt>$VETLAST</dt>\n",
       "\t\t<dd><strong>$name</strong> = 'VETLAST'</dd>\n",
       "</dl>\n",
       "</dd>\n",
       "\t<dt>$time_use_variables</dt>\n",
       "\t\t<dd>NULL</dd>\n",
       "\t<dt>$sample_members</dt>\n",
       "\t\t<dd>NULL</dd>\n",
       "\t<dt>$data_format</dt>\n",
       "\t\t<dd>'fixed_width'</dd>\n",
       "\t<dt>$data_structure</dt>\n",
       "\t\t<dd>'rectangular'</dd>\n",
       "\t<dt>$rectangular_on</dt>\n",
       "\t\t<dd>'P'</dd>\n",
       "\t<dt>$case_select_who</dt>\n",
       "\t\t<dd>'individuals'</dd>\n",
       "\t<dt>$data_quality_flags</dt>\n",
       "\t\t<dd>NULL</dd>\n",
       "\t<dt>$submitted</dt>\n",
       "\t\t<dd>FALSE</dd>\n",
       "\t<dt>$download_links</dt>\n",
       "\t\t<dd><dl>\n",
       "</dl>\n",
       "</dd>\n",
       "\t<dt>$number</dt>\n",
       "\t\t<dd>&lt;NA&gt;</dd>\n",
       "\t<dt>$status</dt>\n",
       "\t\t<dd>'unsubmitted'</dd>\n",
       "</dl>\n"
      ],
      "text/latex": [
       "\\begin{description}\n",
       "\\item[\\$collection] 'cps'\n",
       "\\item[\\$description] 'IPUMS CPS Data Extraction'\n",
       "\\item[\\$samples] \\textbf{\\$cps2020\\_03s} = \\textbf{\\$name} = 'cps2020\\_03s'\n",
       "\\item[\\$variables] \\begin{description}\n",
       "\\item[\\$COUNTY] \\textbf{\\$name} = 'COUNTY'\n",
       "\\item[\\$AGE] \\textbf{\\$name} = 'AGE'\n",
       "\\item[\\$SEX] \\textbf{\\$name} = 'SEX'\n",
       "\\item[\\$QUITSICK] \\textbf{\\$name} = 'QUITSICK'\n",
       "\\item[\\$HICHAMP] \\textbf{\\$name} = 'HICHAMP'\n",
       "\\item[\\$VETLAST] \\textbf{\\$name} = 'VETLAST'\n",
       "\\end{description}\n",
       "\n",
       "\\item[\\$time\\_use\\_variables] NULL\n",
       "\\item[\\$sample\\_members] NULL\n",
       "\\item[\\$data\\_format] 'fixed\\_width'\n",
       "\\item[\\$data\\_structure] 'rectangular'\n",
       "\\item[\\$rectangular\\_on] 'P'\n",
       "\\item[\\$case\\_select\\_who] 'individuals'\n",
       "\\item[\\$data\\_quality\\_flags] NULL\n",
       "\\item[\\$submitted] FALSE\n",
       "\\item[\\$download\\_links] \\begin{description}\n",
       "\\end{description}\n",
       "\n",
       "\\item[\\$number] <NA>\n",
       "\\item[\\$status] 'unsubmitted'\n",
       "\\end{description}\n"
      ],
      "text/markdown": [
       "$collection\n",
       ":   'cps'\n",
       "$description\n",
       ":   'IPUMS CPS Data Extraction'\n",
       "$samples\n",
       ":   **$cps2020_03s** = **$name** = 'cps2020_03s'\n",
       "$variables\n",
       ":   $COUNTY\n",
       ":   **$name** = 'COUNTY'\n",
       "$AGE\n",
       ":   **$name** = 'AGE'\n",
       "$SEX\n",
       ":   **$name** = 'SEX'\n",
       "$QUITSICK\n",
       ":   **$name** = 'QUITSICK'\n",
       "$HICHAMP\n",
       ":   **$name** = 'HICHAMP'\n",
       "$VETLAST\n",
       ":   **$name** = 'VETLAST'\n",
       "\n",
       "\n",
       "\n",
       "$time_use_variables\n",
       ":   NULL\n",
       "$sample_members\n",
       ":   NULL\n",
       "$data_format\n",
       ":   'fixed_width'\n",
       "$data_structure\n",
       ":   'rectangular'\n",
       "$rectangular_on\n",
       ":   'P'\n",
       "$case_select_who\n",
       ":   'individuals'\n",
       "$data_quality_flags\n",
       ":   NULL\n",
       "$submitted\n",
       ":   FALSE\n",
       "$download_links\n",
       ":   \n",
       "\n",
       "\n",
       "$number\n",
       ":   &lt;NA&gt;\n",
       "$status\n",
       ":   'unsubmitted'\n",
       "\n",
       "\n"
      ],
      "text/plain": [
       "Unsubmitted IPUMS CPS extract \n",
       "Description: IPUMS CPS Data Extraction\n",
       "\n",
       "\u001b[1mSamples: \u001b[22m(1 total) cps2020_03s\n",
       "\u001b[1mVariables: \u001b[22m(6 total) COUNTY, AGE, SEX, QUITSICK, HICHAMP, VETLAST"
      ]
     },
     "metadata": {},
     "output_type": "display_data"
    }
   ],
   "source": [
    "# review the extraction definition\n",
    "extract_definition"
   ]
  },
  {
   "cell_type": "markdown",
   "id": "064250dd-c833-47bf-89d8-a337390f7555",
   "metadata": {},
   "source": [
    "### 3b. Submit the Extract Request"
   ]
  },
  {
   "cell_type": "code",
   "execution_count": 48,
   "id": "b1784101-e2b4-4d24-ad6f-0dcc38470c8b",
   "metadata": {},
   "outputs": [
    {
     "name": "stderr",
     "output_type": "stream",
     "text": [
      "Successfully submitted IPUMS CPS extract number 1\n",
      "\n",
      "Checking extract status...\n",
      "\n",
      "Waiting 10 seconds...\n",
      "\n",
      "Checking extract status...\n",
      "\n",
      "IPUMS CPS extract 1 is ready to download.\n",
      "\n"
     ]
    },
    {
     "data": {
      "text/html": [
       "'completed'"
      ],
      "text/latex": [
       "'completed'"
      ],
      "text/markdown": [
       "'completed'"
      ],
      "text/plain": [
       "[1] \"completed\""
      ]
     },
     "metadata": {},
     "output_type": "display_data"
    },
    {
     "name": "stdout",
     "output_type": "stream",
     "text": [
      "\n",
      "\n",
      " |======================================================================| 100%"
     ]
    },
    {
     "name": "stderr",
     "output_type": "stream",
     "text": [
      "DDI codebook file saved to C:/Users/vavra/Dropbox/R Spatial/r-spatial/cps_00001.xml\n",
      "Data file saved to C:/Users/vavra/Dropbox/R Spatial/r-spatial/cps_00001.dat.gz\n",
      "\n"
     ]
    }
   ],
   "source": [
    "# submit extraction request\n",
    "extract_submitted <- submit_extract(extract_definition)\n",
    "\n",
    "# wait for completion\n",
    "extraction_complete <- wait_for_extract(extract_submitted)\n",
    "\n",
    "# check completion status\n",
    "extraction_complete$status\n",
    "\n",
    "# get the extract filepath\n",
    "filepath <- download_extract(extract_submitted, overwrite = T)"
   ]
  },
  {
   "cell_type": "markdown",
   "id": "cd4dfe7b-dad4-436e-840b-bdb2393a76a4",
   "metadata": {},
   "source": [
    "### 3c. Review the Extract\n",
    "\n",
    "The data extract download will contain the following two files.\n",
    "\n",
    "1. A [DDI (Data Documentation Initiative)](https://ddialliance.org) codebook file (file extension .xml) containing metadata and descriptive information for you data.\n",
    "2. A zipped data (.dat) file (file extension .dat.gz) containing your data.\n",
    "\n",
    "Read the ddi and data files into a format which we can work with in R."
   ]
  },
  {
   "cell_type": "code",
   "execution_count": 49,
   "id": "d7d53df0-08c8-4a75-85d6-df6bc905c974",
   "metadata": {},
   "outputs": [
    {
     "name": "stderr",
     "output_type": "stream",
     "text": [
      "Use of data from IPUMS CPS is subject to conditions including that users should cite the data appropriately. Use command `ipums_conditions()` for more details.\n",
      "\n"
     ]
    }
   ],
   "source": [
    "ddi <- read_ipums_ddi(filepath)\n",
    "dat <- read_ipums_micro(ddi)"
   ]
  },
  {
   "cell_type": "code",
   "execution_count": 50,
   "id": "03fb0c30-e042-41d3-9e0e-a7a3d13de657",
   "metadata": {},
   "outputs": [
    {
     "data": {
      "text/html": [
       "<style>\n",
       ".list-inline {list-style: none; margin:0; padding: 0}\n",
       ".list-inline>li {display: inline-block}\n",
       ".list-inline>li:not(:last-child)::after {content: \"\\00b7\"; padding: 0 .5ex}\n",
       "</style>\n",
       "<ol class=list-inline><li>157959</li><li>16</li></ol>\n"
      ],
      "text/latex": [
       "\\begin{enumerate*}\n",
       "\\item 157959\n",
       "\\item 16\n",
       "\\end{enumerate*}\n"
      ],
      "text/markdown": [
       "1. 157959\n",
       "2. 16\n",
       "\n",
       "\n"
      ],
      "text/plain": [
       "[1] 157959     16"
      ]
     },
     "metadata": {},
     "output_type": "display_data"
    }
   ],
   "source": [
    "dim(dat)"
   ]
  },
  {
   "cell_type": "code",
   "execution_count": 51,
   "id": "6d7e1961-bc3f-4d76-bca7-eaf6420a517f",
   "metadata": {},
   "outputs": [
    {
     "data": {
      "text/html": [
       "<table class=\"dataframe\">\n",
       "<caption>A tibble: 6 × 16</caption>\n",
       "<thead>\n",
       "\t<tr><th scope=col>YEAR</th><th scope=col>SERIAL</th><th scope=col>MONTH</th><th scope=col>CPSID</th><th scope=col>ASECFLAG</th><th scope=col>ASECWTH</th><th scope=col>COUNTY</th><th scope=col>PERNUM</th><th scope=col>CPSIDP</th><th scope=col>CPSIDV</th><th scope=col>ASECWT</th><th scope=col>AGE</th><th scope=col>SEX</th><th scope=col>QUITSICK</th><th scope=col>HICHAMP</th><th scope=col>VETLAST</th></tr>\n",
       "\t<tr><th scope=col>&lt;dbl&gt;</th><th scope=col>&lt;dbl&gt;</th><th scope=col>&lt;int+lbl&gt;</th><th scope=col>&lt;dbl&gt;</th><th scope=col>&lt;int+lbl&gt;</th><th scope=col>&lt;dbl&gt;</th><th scope=col>&lt;dbl+lbl&gt;</th><th scope=col>&lt;dbl&gt;</th><th scope=col>&lt;dbl&gt;</th><th scope=col>&lt;dbl&gt;</th><th scope=col>&lt;dbl&gt;</th><th scope=col>&lt;int+lbl&gt;</th><th scope=col>&lt;int+lbl&gt;</th><th scope=col>&lt;int+lbl&gt;</th><th scope=col>&lt;int+lbl&gt;</th><th scope=col>&lt;int+lbl&gt;</th></tr>\n",
       "</thead>\n",
       "<tbody>\n",
       "\t<tr><td>2020</td><td>1</td><td>3</td><td>2.01903e+13</td><td>1</td><td>1560.3756</td><td>0</td><td>1</td><td>2.01903e+13</td><td>2.01903e+14</td><td>1560.3756</td><td>63</td><td>2</td><td>1</td><td>1</td><td> 0</td></tr>\n",
       "\t<tr><td>2020</td><td>1</td><td>3</td><td>2.01903e+13</td><td>1</td><td>1560.3756</td><td>0</td><td>2</td><td>2.01903e+13</td><td>2.01903e+14</td><td>1560.3756</td><td>67</td><td>1</td><td>1</td><td>1</td><td> 0</td></tr>\n",
       "\t<tr><td>2020</td><td>2</td><td>3</td><td>2.01812e+13</td><td>1</td><td> 986.5948</td><td>0</td><td>1</td><td>2.01812e+13</td><td>2.01812e+14</td><td> 986.5948</td><td>64</td><td>1</td><td>1</td><td>2</td><td>11</td></tr>\n",
       "\t<tr><td>2020</td><td>2</td><td>3</td><td>2.01812e+13</td><td>1</td><td> 986.5948</td><td>0</td><td>2</td><td>2.01812e+13</td><td>2.01812e+14</td><td> 986.5948</td><td>71</td><td>2</td><td>1</td><td>2</td><td> 0</td></tr>\n",
       "\t<tr><td>2020</td><td>3</td><td>3</td><td>2.01902e+13</td><td>1</td><td>1519.0704</td><td>0</td><td>1</td><td>2.01902e+13</td><td>2.01902e+14</td><td>1519.0704</td><td>54</td><td>2</td><td>1</td><td>1</td><td> 0</td></tr>\n",
       "\t<tr><td>2020</td><td>4</td><td>3</td><td>2.01903e+13</td><td>1</td><td>1423.5779</td><td>0</td><td>1</td><td>2.01903e+13</td><td>2.01903e+14</td><td>1423.5779</td><td>74</td><td>2</td><td>1</td><td>1</td><td> 0</td></tr>\n",
       "</tbody>\n",
       "</table>\n"
      ],
      "text/latex": [
       "A tibble: 6 × 16\n",
       "\\begin{tabular}{llllllllllllllll}\n",
       " YEAR & SERIAL & MONTH & CPSID & ASECFLAG & ASECWTH & COUNTY & PERNUM & CPSIDP & CPSIDV & ASECWT & AGE & SEX & QUITSICK & HICHAMP & VETLAST\\\\\n",
       " <dbl> & <dbl> & <int+lbl> & <dbl> & <int+lbl> & <dbl> & <dbl+lbl> & <dbl> & <dbl> & <dbl> & <dbl> & <int+lbl> & <int+lbl> & <int+lbl> & <int+lbl> & <int+lbl>\\\\\n",
       "\\hline\n",
       "\t 2020 & 1 & 3 & 2.01903e+13 & 1 & 1560.3756 & 0 & 1 & 2.01903e+13 & 2.01903e+14 & 1560.3756 & 63 & 2 & 1 & 1 &  0\\\\\n",
       "\t 2020 & 1 & 3 & 2.01903e+13 & 1 & 1560.3756 & 0 & 2 & 2.01903e+13 & 2.01903e+14 & 1560.3756 & 67 & 1 & 1 & 1 &  0\\\\\n",
       "\t 2020 & 2 & 3 & 2.01812e+13 & 1 &  986.5948 & 0 & 1 & 2.01812e+13 & 2.01812e+14 &  986.5948 & 64 & 1 & 1 & 2 & 11\\\\\n",
       "\t 2020 & 2 & 3 & 2.01812e+13 & 1 &  986.5948 & 0 & 2 & 2.01812e+13 & 2.01812e+14 &  986.5948 & 71 & 2 & 1 & 2 &  0\\\\\n",
       "\t 2020 & 3 & 3 & 2.01902e+13 & 1 & 1519.0704 & 0 & 1 & 2.01902e+13 & 2.01902e+14 & 1519.0704 & 54 & 2 & 1 & 1 &  0\\\\\n",
       "\t 2020 & 4 & 3 & 2.01903e+13 & 1 & 1423.5779 & 0 & 1 & 2.01903e+13 & 2.01903e+14 & 1423.5779 & 74 & 2 & 1 & 1 &  0\\\\\n",
       "\\end{tabular}\n"
      ],
      "text/markdown": [
       "\n",
       "A tibble: 6 × 16\n",
       "\n",
       "| YEAR &lt;dbl&gt; | SERIAL &lt;dbl&gt; | MONTH &lt;int+lbl&gt; | CPSID &lt;dbl&gt; | ASECFLAG &lt;int+lbl&gt; | ASECWTH &lt;dbl&gt; | COUNTY &lt;dbl+lbl&gt; | PERNUM &lt;dbl&gt; | CPSIDP &lt;dbl&gt; | CPSIDV &lt;dbl&gt; | ASECWT &lt;dbl&gt; | AGE &lt;int+lbl&gt; | SEX &lt;int+lbl&gt; | QUITSICK &lt;int+lbl&gt; | HICHAMP &lt;int+lbl&gt; | VETLAST &lt;int+lbl&gt; |\n",
       "|---|---|---|---|---|---|---|---|---|---|---|---|---|---|---|---|\n",
       "| 2020 | 1 | 3 | 2.01903e+13 | 1 | 1560.3756 | 0 | 1 | 2.01903e+13 | 2.01903e+14 | 1560.3756 | 63 | 2 | 1 | 1 |  0 |\n",
       "| 2020 | 1 | 3 | 2.01903e+13 | 1 | 1560.3756 | 0 | 2 | 2.01903e+13 | 2.01903e+14 | 1560.3756 | 67 | 1 | 1 | 1 |  0 |\n",
       "| 2020 | 2 | 3 | 2.01812e+13 | 1 |  986.5948 | 0 | 1 | 2.01812e+13 | 2.01812e+14 |  986.5948 | 64 | 1 | 1 | 2 | 11 |\n",
       "| 2020 | 2 | 3 | 2.01812e+13 | 1 |  986.5948 | 0 | 2 | 2.01812e+13 | 2.01812e+14 |  986.5948 | 71 | 2 | 1 | 2 |  0 |\n",
       "| 2020 | 3 | 3 | 2.01902e+13 | 1 | 1519.0704 | 0 | 1 | 2.01902e+13 | 2.01902e+14 | 1519.0704 | 54 | 2 | 1 | 1 |  0 |\n",
       "| 2020 | 4 | 3 | 2.01903e+13 | 1 | 1423.5779 | 0 | 1 | 2.01903e+13 | 2.01903e+14 | 1423.5779 | 74 | 2 | 1 | 1 |  0 |\n",
       "\n"
      ],
      "text/plain": [
       "  YEAR SERIAL MONTH CPSID       ASECFLAG ASECWTH   COUNTY PERNUM CPSIDP     \n",
       "1 2020 1      3     2.01903e+13 1        1560.3756 0      1      2.01903e+13\n",
       "2 2020 1      3     2.01903e+13 1        1560.3756 0      2      2.01903e+13\n",
       "3 2020 2      3     2.01812e+13 1         986.5948 0      1      2.01812e+13\n",
       "4 2020 2      3     2.01812e+13 1         986.5948 0      2      2.01812e+13\n",
       "5 2020 3      3     2.01902e+13 1        1519.0704 0      1      2.01902e+13\n",
       "6 2020 4      3     2.01903e+13 1        1423.5779 0      1      2.01903e+13\n",
       "  CPSIDV      ASECWT    AGE SEX QUITSICK HICHAMP VETLAST\n",
       "1 2.01903e+14 1560.3756 63  2   1        1        0     \n",
       "2 2.01903e+14 1560.3756 67  1   1        1        0     \n",
       "3 2.01812e+14  986.5948 64  1   1        2       11     \n",
       "4 2.01812e+14  986.5948 71  2   1        2        0     \n",
       "5 2.01902e+14 1519.0704 54  2   1        1        0     \n",
       "6 2.01903e+14 1423.5779 74  2   1        1        0     "
      ]
     },
     "metadata": {},
     "output_type": "display_data"
    }
   ],
   "source": [
    "head(dat)"
   ]
  },
  {
   "cell_type": "code",
   "execution_count": 52,
   "id": "57aba26b-f76f-4335-add1-8e0fc5b38b6e",
   "metadata": {},
   "outputs": [
    {
     "data": {
      "text/html": [
       "<style>\n",
       ".list-inline {list-style: none; margin:0; padding: 0}\n",
       ".list-inline>li {display: inline-block}\n",
       ".list-inline>li:not(:last-child)::after {content: \"\\00b7\"; padding: 0 .5ex}\n",
       "</style>\n",
       "<ol class=list-inline><li>'YEAR'</li><li>'SERIAL'</li><li>'MONTH'</li><li>'CPSID'</li><li>'ASECFLAG'</li><li>'ASECWTH'</li><li>'COUNTY'</li><li>'PERNUM'</li><li>'CPSIDP'</li><li>'CPSIDV'</li><li>'ASECWT'</li><li>'AGE'</li><li>'SEX'</li><li>'QUITSICK'</li><li>'HICHAMP'</li><li>'VETLAST'</li></ol>\n"
      ],
      "text/latex": [
       "\\begin{enumerate*}\n",
       "\\item 'YEAR'\n",
       "\\item 'SERIAL'\n",
       "\\item 'MONTH'\n",
       "\\item 'CPSID'\n",
       "\\item 'ASECFLAG'\n",
       "\\item 'ASECWTH'\n",
       "\\item 'COUNTY'\n",
       "\\item 'PERNUM'\n",
       "\\item 'CPSIDP'\n",
       "\\item 'CPSIDV'\n",
       "\\item 'ASECWT'\n",
       "\\item 'AGE'\n",
       "\\item 'SEX'\n",
       "\\item 'QUITSICK'\n",
       "\\item 'HICHAMP'\n",
       "\\item 'VETLAST'\n",
       "\\end{enumerate*}\n"
      ],
      "text/markdown": [
       "1. 'YEAR'\n",
       "2. 'SERIAL'\n",
       "3. 'MONTH'\n",
       "4. 'CPSID'\n",
       "5. 'ASECFLAG'\n",
       "6. 'ASECWTH'\n",
       "7. 'COUNTY'\n",
       "8. 'PERNUM'\n",
       "9. 'CPSIDP'\n",
       "10. 'CPSIDV'\n",
       "11. 'ASECWT'\n",
       "12. 'AGE'\n",
       "13. 'SEX'\n",
       "14. 'QUITSICK'\n",
       "15. 'HICHAMP'\n",
       "16. 'VETLAST'\n",
       "\n",
       "\n"
      ],
      "text/plain": [
       " [1] \"YEAR\"     \"SERIAL\"   \"MONTH\"    \"CPSID\"    \"ASECFLAG\" \"ASECWTH\" \n",
       " [7] \"COUNTY\"   \"PERNUM\"   \"CPSIDP\"   \"CPSIDV\"   \"ASECWT\"   \"AGE\"     \n",
       "[13] \"SEX\"      \"QUITSICK\" \"HICHAMP\"  \"VETLAST\" "
      ]
     },
     "metadata": {},
     "output_type": "display_data"
    }
   ],
   "source": [
    "colnames(dat)"
   ]
  },
  {
   "cell_type": "markdown",
   "id": "4caf5572-7b0d-4299-b589-a586485810e3",
   "metadata": {},
   "source": [
    "**Variable Selection**\n",
    "* County (FIPS Code) (COUNTY)\n",
    "* Age (AGE)\n",
    "* Sex (SEX)\n",
    "* Quit Job or Retired for Health Reasons (QUITSICK)\n",
    "* Covered by Military Health Insurance in the Last Year (HICHAMP)\n",
    "* Veteran's Most Recent Period of Service (VETLAST)\n",
    "\n",
    "**IPUMS Preselected Variables**\n",
    "* Survey Year (YEAR)\n",
    "* Household Serial Number (SERIAL)\n",
    "* Month (MONTH)\n",
    "* CPSID, Household Record (CPSID)\n",
    "* Flag for ASEC (ASECFLAG)\n",
    "* Annual Social and Economic Supplement Household Weight (ASECWTH)\n",
    "* Person Number in Sample Unit (PERNUM)\n",
    "* CPSID, Person Record (CPSIDP)\n",
    "* Validated Longitudinal Identifer (CPSIDV)\n",
    "* Annual Social and Economic Supplement Weight (ASECWT)"
   ]
  },
  {
   "cell_type": "markdown",
   "id": "f69da11d-7b25-4569-9e06-0230c788091e",
   "metadata": {},
   "source": [
    "### 3d. Save the Data\n",
    "\n",
    "Next let's save a couple versions of our IPUMS ACS data file.\n",
    "\n",
    "* A *.rds* version of the data.  The **R Data Serialization (RDS)** format will retain metadata for the next time we want to import the file back into R.  One downside to the .rds format is it is only useable within R.\n",
    "* A *.csv* version of the data.  The [**Comma-Separated Values (CSV)**](https://en.wikipedia.org/wiki/Comma-separated_values) format is versitile and can be easily accessed in other programs.  However, the CSV file format does not include metadata such as labels for variable levels."
   ]
  },
  {
   "cell_type": "code",
   "execution_count": 54,
   "id": "b87ec85e-4e8f-41a0-a037-fac653114335",
   "metadata": {},
   "outputs": [],
   "source": [
    "saveRDS(dat, \"ipums_cps_example.rds\")\n",
    "write.csv(dat, \"ipums_cps_example.csv\")"
   ]
  },
  {
   "cell_type": "markdown",
   "id": "1af29113-db66-48db-9cd1-520a9baf38b1",
   "metadata": {},
   "source": [
    "## Recommended Next Steps\n",
    "* **Continue with Chapter 2: IPUMS Data Acquisition and Extraction**\n",
    "  * 2.1: IPUMS USA Data Extraction Using ipumsr\n",
    "  * 2.3: IPUMS International Microdata Extraction Using ipumsr\n",
    "  * 2.4: IPUMS NHGIS Data Extraction Using ipumsr\n",
    "  * 2.5: IPUMS Time Use Data Extraction Using ipumsr\n",
    "  * 2.6: IPUMS Health Surveys Data Extraction Using ipumsr\n",
    "  * 2.7: Reading IPUMS Global Health Data Extracts Using ipumsr\n",
    "  * 2.8: Reading IPUMS Higher Education Data Extracts Using ipumsr"
   ]
  },
  {
   "cell_type": "markdown",
   "id": "5737702e-8210-491c-bb7a-1c1281c1dba0",
   "metadata": {},
   "source": [
    "## Quick Code\n",
    "Don't forget to update the code with your IPUMS API key!"
   ]
  },
  {
   "cell_type": "raw",
   "id": "14cfc390-870f-44e5-8463-00a3b70e92fa",
   "metadata": {},
   "source": [
    "# install required packages\n",
    "# install.packages(\"ipumsr\")\n",
    "\n",
    "# load required libraries\n",
    "library(ipumsr)\n",
    "\n",
    "# set IPUMS API key\n",
    "ipums_api_key <- \"paste your api key here\"\n",
    "set_ipums_api_key(ipums_api_key, save = T, overwrite = T)\n",
    "\n",
    "# set up the data extract\n",
    "extraction <- define_extract_micro(description = \"IPUMS CPS Data Extraction\",\n",
    "                                   collection = \"cps\",\n",
    "                                   sample = \"cps2020_03s\",\n",
    "                                   variables = c(\"COUNTY\", \"AGE\", \"SEX\", \"QUITSICK\", \"HICHAMP\", \"VETLAST\"))\n",
    "\n",
    "# submit extract request and download the files\n",
    "extraction_submitted <- submit_extract(extraction)                  # submit the extract  \n",
    "extraction_complete <- wait_for_extract(extraction_submitted)       # wait for completion\n",
    "extraction_complete$status                                          # check completion\n",
    "filepath <- download_extract(extraction_submitted, overwrite = T)   # get extract filepath\n",
    "\n",
    "# extract the files\n",
    "ddi <- read_ipums_ddi(filepath)\n",
    "dat <- read_ipums_micro(ddi)\n",
    "\n",
    "# save as RDS file\n",
    "saveRDS(dat, \"ipums_cps_example.rds\", )\n",
    "\n",
    "# save as a csv file\n",
    "write.csv(dat, \"ipums_cps_example.csv\")"
   ]
  }
 ],
 "metadata": {
  "kernelspec": {
   "display_name": "R",
   "language": "R",
   "name": "ir"
  },
  "language_info": {
   "codemirror_mode": "r",
   "file_extension": ".r",
   "mimetype": "text/x-r-source",
   "name": "R",
   "pygments_lexer": "r",
   "version": "4.3.3"
  }
 },
 "nbformat": 4,
 "nbformat_minor": 5
}
