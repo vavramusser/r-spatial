{
 "cells": [
  {
   "cell_type": "markdown",
   "id": "fdf4e90c-5715-4052-9463-19677c5dc576",
   "metadata": {},
   "source": [
    "# IPUMS International Microdata Data Extraction Using ipumsr"
   ]
  },
  {
   "cell_type": "markdown",
   "id": "d5a6d248-6045-49db-99e0-3b14b9090690",
   "metadata": {},
   "source": [
    "From the IPUMS International Website: IPUMS International is dedicated to collecting and distributing census microdata from around the world. The project goals are to collect and preserve data and documentation, harmonize data, and disseminate the harmonized data free of charge."
   ]
  },
  {
   "cell_type": "markdown",
   "id": "afd17009-855d-4819-9add-bf6ad225b672",
   "metadata": {},
   "source": [
    "Possible County Selection\n",
    "\n",
    "* Brazil\n",
    "* India\n",
    "* **South Africa**\n",
    "* Mexico\n",
    "* Indonesia\n",
    "* Kenya\n",
    "\n",
    "**Variable Selection**\n",
    "* South Africa Magisterial District (MAGISZA)\n",
    "* Water Supply (WATSUP)\n",
    "* Cooking Fuel (FUELCOOK)\n",
    "* Number of Rooms (ROOMS)\n",
    "* Toilet (TOILET)\n",
    "* Roof Material (ROOF)\n",
    "* Household Classification (HHTYPE)\n",
    "\n",
    "**IPUMS Preselected Variables**\n",
    "* Country (COUNTRY)\n",
    "* Year (YEAR)\n",
    "* IPUMS Sample Identifier (SAMPLE)\n",
    "* Household Serial Number (SERIAL)\n",
    "* Household Weight (HHWT)\n",
    "* Questionnaire Type Received by Household (FORMTYPE)"
   ]
  },
  {
   "cell_type": "code",
   "execution_count": null,
   "id": "d3cfdb84-7543-488b-bf42-ed5b06e94f92",
   "metadata": {},
   "outputs": [],
   "source": []
  }
 ],
 "metadata": {
  "kernelspec": {
   "display_name": "R",
   "language": "R",
   "name": "ir"
  },
  "language_info": {
   "codemirror_mode": "r",
   "file_extension": ".r",
   "mimetype": "text/x-r-source",
   "name": "R",
   "pygments_lexer": "r",
   "version": "4.3.3"
  }
 },
 "nbformat": 4,
 "nbformat_minor": 5
}
