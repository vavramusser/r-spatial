{
 "cells": [
  {
   "cell_type": "markdown",
   "id": "dda55375-9fed-41f6-8d3b-b5a3855face7",
   "metadata": {},
   "source": [
    "# Introduction to the National Land Cover Database (NLCD)"
   ]
  },
  {
   "cell_type": "markdown",
   "id": "4b16bcf4-a14b-4e63-9aed-487b6c212f40",
   "metadata": {},
   "source": [
    "The [National Land Cover Database (NLCD)](https://www.usgs.gov/centers/eros/science/annual-national-land-cover-database) is a comprehensive dataset that provides detailed information on land cover and land use across the United States. Produced by the [Multi-Resolution Land Characteristics (MRLC) Consortium](https://www.mrlc.gov), the NLCD is widely used for environmental research, planning, and management. It classifies land cover into categories such as forests, wetlands, urban areas, and agriculture, with data available at a 30-meter resolution.\n",
    "\n",
    "Key Features of the NLCD:\n",
    "\n",
    "* Detailed Land Cover Categories: Includes classes like developed land, forests, wetlands, croplands, and grasslands, allowing users to analyze various land cover types.\n",
    "* Multiple Time Periods: Updated periodically, the NLCD provides snapshots of land cover for multiple years, enabling change detection and trend analysis.\n",
    "* Nationwide Coverage: Covers the entire contiguous United States, Alaska, Hawaii, and Puerto Rico, making it a consistent resource for studying land cover on a broad scale.\n",
    "\n",
    "\n",
    "\n",
    "The USGS National Land Cover Database (NLCD) is a premier source of high-resolution land cover and land use data for the United States. Produced by the U.S. Geological Survey (USGS), the NLCD includes datasets on vegetation, urbanization, water, and other land cover types, enabling analysis of environmental change and human impact. This notebook provides an overview of the NLCD, introduces key datasets, and demonstrates how to process and visualize NLCD data in R.\n",
    "\n",
    "### Available Data"
   ]
  },
  {
   "cell_type": "markdown",
   "id": "adf5fa53-7f2a-48f1-8c78-5722b44d5596",
   "metadata": {},
   "source": [
    "## Recommended Next Steps\n",
    "\n",
    "* **Continue with Chapter 1: Data Sources and APIs**\n",
    "  * [1.1 Introduction to IPUMS and the IPUMS API](https://platform.i-guide.io/notebooks/82d3b176-e4e6-4307-8186-318a3fe6c81a)\n",
    "  * [1.2 Introduciton to Natural Earth](https://platform.i-guide.io/notebooks/924c7ca6-3d12-4a80-ab4d-814cc80f7f79)\n",
    "  * [1.3 Introduction to OpenStreetMap (OSM)](https://platform.i-guide.io/notebooks/e7796dde-de2e-4745-a9e3-5880d2f28803)\n",
    "  * [1.4 Introduction to Stadia Maps and Stamen Maps](https://platform.i-guide.io/notebooks/9d896d1e-bb49-4915-9a8c-b1ea07f495a4)\n",
    "  * [1.5 Introduction to Google Maps](https://platform.i-guide.io/notebooks/e2767af9-62ba-43a7-b16b-9f3b053cf418)\n",
    "  * [1.6 Introduction to Google Earth Engine (GEE)](https://platform.i-guide.io/notebooks/7ef82017-ed6d-44d9-865c-0780fdc54da9)\n",
    "  * [1.8 Introduction to the EPA Air Quality System (AQS) Data Repository](https://platform.i-guide.io/notebooks/12ad0cf1-5acd-404b-8a82-25430173c1a1)"
   ]
  }
 ],
 "metadata": {
  "kernelspec": {
   "display_name": "R",
   "language": "R",
   "name": "ir"
  },
  "language_info": {
   "codemirror_mode": "r",
   "file_extension": ".r",
   "mimetype": "text/x-r-source",
   "name": "R",
   "pygments_lexer": "r",
   "version": "4.3.3"
  }
 },
 "nbformat": 4,
 "nbformat_minor": 5
}
