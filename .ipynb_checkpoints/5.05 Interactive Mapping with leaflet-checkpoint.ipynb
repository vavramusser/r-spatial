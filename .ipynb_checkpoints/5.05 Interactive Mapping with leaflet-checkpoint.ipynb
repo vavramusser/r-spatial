{
 "cells": [
  {
   "cell_type": "markdown",
   "id": "a7e2bb77-7dc0-4649-99d3-c21b55404a81",
   "metadata": {},
   "source": [
    "# Interactive Mapping with leaflet"
   ]
  },
  {
   "cell_type": "markdown",
   "id": "9b8ca358-3649-4cfe-b989-0e32a7c93278",
   "metadata": {},
   "source": [
    "## Introduction\n",
    "\n",
    "This notebook will introduce leaflet, a powerful tool for creating interactive maps in R. Unlike static maps, interactive maps allow users to explore the data dynamically, which is particularly useful for large datasets or for sharing maps online.  We'll use spatial data for California, including some point data (e.g., cities) and polygon data (e.g., state boundary)."
   ]
  },
  {
   "cell_type": "markdown",
   "id": "1926b9b4-d93c-4642-b396-2e7b93cbf47b",
   "metadata": {},
   "source": [
    "## 1. Setup\n",
    "\n",
    "Before running this script, you will need to install and load the following packages into your R environment:"
   ]
  },
  {
   "cell_type": "markdown",
   "id": "5a124e7e-07b7-4327-881d-225d8ea14d87",
   "metadata": {},
   "source": [
    "[**leaflet**](https://cran.r-project.org/web/packages/leaflet/index.html) A package for creating interactive web maps with the [*JavaScript Leaflet library*](https://leafletjs.com) and [*htmlwidgets*](https://www.htmlwidgets.org).\n",
    "\n",
    "* Multiple functions for adding graphics elements and layers to a map including [*addCircleMarkers()*], [*addMarkers()*], [*addPolygons()*] , and [*addTiles()*], among others.\n",
    "* [*leaflet()*] for creating a Leaflet map widget.\n",
    "* [*setView()*] for manipulating the map widget."
   ]
  },
  {
   "cell_type": "markdown",
   "id": "1d1217fc-190c-475f-96cf-d691ed91dcd6",
   "metadata": {},
   "source": [
    "[**sf**](https://cran.r-project.org/web/packages/sf/index.html) A package providing support for simple features (sf) geometry objects, a standardized way to encode spatial vector data.  This notebook uses the following functions from *sf*.\n",
    "\n",
    "* [*st_read()*](https://www.rdocumentation.org/packages/sf/versions/0.2-2/topics/st_read) for readinb simple features from file or database\n",
    "* [*st_transform()*](https://r-spatial.github.io/sf/reference/st_transform.html) for transforming or converting coordinates of simple feature"
   ]
  },
  {
   "cell_type": "markdown",
   "id": "a9f30cbe-6499-4bd4-8cb3-7b800f5784e1",
   "metadata": {},
   "source": [
    "If you are working in the I-GUIDE environment, these packages should be already be installed.  However you will still need to load the packages into your workspace using *library* base R function."
   ]
  },
  {
   "cell_type": "code",
   "execution_count": null,
   "id": "062f37c4-168b-4947-863a-2e4591dd41ad",
   "metadata": {},
   "outputs": [],
   "source": [
    "library(leaflet)\n",
    "library(sf)"
   ]
  },
  {
   "cell_type": "markdown",
   "id": "739945fb-871e-43e9-a6fb-eb8cbc7b0f7e",
   "metadata": {},
   "source": [
    "## 2. Creating a Basic Leaflet Map\n",
    "\n",
    "Start with a basic interactive map focused on California using leaflet. This map will load a default basemap and center on the California region.  First we will initialize the leaflet() function and then we will add a basemap layer with the addTiles() function.  Since we are not specifying a map with the addTiles() function, our leaflet map will use the default OpenStreetMap basemap."
   ]
  },
  {
   "cell_type": "code",
   "execution_count": null,
   "id": "bd35073d-078e-4a49-9cd6-eb7cb51ab286",
   "metadata": {},
   "outputs": [],
   "source": [
    "# Basic Leaflet map centered on California\n",
    "leaflet() %>%\n",
    "  addTiles() %>%\n",
    "  setView(lng = -119.4179, lat = 36.7783, zoom = 5)  # Centered on California"
   ]
  },
  {
   "cell_type": "markdown",
   "id": "c3e35e15-6ac3-449b-bd6a-3d7fd6e7d072",
   "metadata": {},
   "source": [
    "## 3. Adding Polygons: California Boundary\n",
    "\n",
    "Next we will display the California boundary on the map using polygon data from a shapefile.  This will provide a visual outline of the state, giving context for additional layers.\n",
    "\n",
    "First we will load the California boundary file using the *st_read()* function from the *sf* package."
   ]
  },
  {
   "cell_type": "code",
   "execution_count": null,
   "id": "ed49890b-f3da-4437-b801-371b7f45354d",
   "metadata": {},
   "outputs": [],
   "source": [
    "california_boundary <- st_read(\"CA_State.shp\")"
   ]
  },
  {
   "cell_type": "markdown",
   "id": "c360c961-2f86-46be-8efc-09a1107634b2",
   "metadata": {},
   "source": [
    "After reading in the California boundary boundary file, we will need to ensure that it is projected to the World Geodetic System (WGS) 1984 Coordinate Reference System (CRS) using the EPSG code 4326."
   ]
  },
  {
   "cell_type": "code",
   "execution_count": null,
   "id": "dff8c48a-d879-490c-b490-d08e4437a8e6",
   "metadata": {},
   "outputs": [],
   "source": [
    "california_boundary <- st_transform(california_boundary, crs = 4326)"
   ]
  },
  {
   "cell_type": "markdown",
   "id": "2a7dfbea-d51b-4ee7-9786-34b478f045d5",
   "metadata": {},
   "source": [
    "Once we have transformed it to the WGS CRS we will add the California boundary layer as a polygon layer to the leaflet map.\n",
    "\n",
    "* addPolygons(): Adds a polygon layer to represent California’s boundary.\n",
    "* color: Sets the border color.\n",
    "* fillOpacity: Adjusts the opacity of the fill inside the boundary."
   ]
  },
  {
   "cell_type": "code",
   "execution_count": null,
   "id": "c145ef91-2946-40eb-8535-e781b63c622c",
   "metadata": {},
   "outputs": [],
   "source": [
    "leaflet() %>%\n",
    "  addTiles() %>%\n",
    "  setView(lng = -119.4179, lat = 36.7783, zoom = 5) %>%\n",
    "  addPolygons(data = california_boundary, color = \"blue\", weight = 2, fillOpacity = 0.3)"
   ]
  },
  {
   "cell_type": "markdown",
   "id": "26c2545b-d336-41a1-bbf8-57c2e43bad60",
   "metadata": {},
   "source": [
    "## 4. Adding Points: Cities in California\n",
    "\n",
    "Overlay point data for California cities, giving additional detail within the state boundary. Points will represent cities, with popups for city names and other information.\n",
    "\n",
    "First we will create a sample dataset of major cities in California."
   ]
  },
  {
   "cell_type": "code",
   "execution_count": null,
   "id": "0ff798a3-fc99-4081-a708-2b3d7c56e17e",
   "metadata": {},
   "outputs": [],
   "source": [
    "cities <- data.frame(\n",
    "  name = c(\"Los Angeles\", \"San Francisco\", \"San Diego\", \"Sacramento\"),\n",
    "  lat = c(34.0522, 37.7749, 32.7157, 38.5816),\n",
    "  lng = c(-118.2437, -122.4194, -117.1611, -121.4944)\n",
    ")"
   ]
  },
  {
   "cell_type": "markdown",
   "id": "5fd220bb-ac9a-4007-91a7-cf94207e34c5",
   "metadata": {},
   "source": [
    "Then we will make a new version of the California leaflet map that includes the city point locations.\n",
    "\n",
    "* addMarkers(): Adds points for each city, with popups showing city names."
   ]
  },
  {
   "cell_type": "code",
   "execution_count": null,
   "id": "3935175b-d21e-4366-acd8-3c9c79ac0c01",
   "metadata": {},
   "outputs": [],
   "source": [
    "# Add cities as markers with popups for each city name\n",
    "leaflet() %>%\n",
    "  addTiles() %>%\n",
    "  setView(lng = -119.4179, lat = 36.7783, zoom = 5) %>%\n",
    "  addPolygons(data = california_boundary, color = \"blue\", weight = 2, fillOpacity = 0.3) %>%\n",
    "  addMarkers(data = cities, ~lng, ~lat, popup = ~name)"
   ]
  },
  {
   "cell_type": "markdown",
   "id": "31514bdd-bb79-4a0c-9a4d-31f9dee02330",
   "metadata": {},
   "source": [
    "## 5. Customizing Markers and Layers\n",
    "Purpose: Customize marker icons, colors, and styles to make the map more visually engaging. This section explores customizing point markers and adjusting polygon colors.\n",
    "\n",
    "* addCircleMarkers(): Creates circle markers with custom size and color for each city.\n",
    "* radius: Sets the size of the circle markers.\n",
    "* fillOpacity: Controls the transparency of the marker fill."
   ]
  },
  {
   "cell_type": "code",
   "execution_count": null,
   "id": "3015a081-e235-4f03-bce3-2b3c13736bea",
   "metadata": {},
   "outputs": [],
   "source": [
    "leaflet() %>%\n",
    "  addTiles() %>%\n",
    "  setView(lng = -119.4179, lat = 36.7783, zoom = 5) %>%\n",
    "  addPolygons(data = california_boundary, color = \"blue\", weight = 2, fillOpacity = 0.3) %>%\n",
    "  addCircleMarkers(data = cities, ~lng, ~lat, radius = 5, color = \"red\",\n",
    "                   fillOpacity = 0.8, popup = ~name)"
   ]
  }
 ],
 "metadata": {
  "kernelspec": {
   "display_name": "R",
   "language": "R",
   "name": "ir"
  },
  "language_info": {
   "codemirror_mode": "r",
   "file_extension": ".r",
   "mimetype": "text/x-r-source",
   "name": "R",
   "pygments_lexer": "r",
   "version": "4.3.3"
  }
 },
 "nbformat": 4,
 "nbformat_minor": 5
}
