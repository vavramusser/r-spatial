{
 "cells": [
  {
   "cell_type": "markdown",
   "id": "72003a39-c3a2-4e91-831a-c504e260f92a",
   "metadata": {},
   "source": [
    "# IPUMS NHGIS Data Extraction Using ipumsr"
   ]
  },
  {
   "cell_type": "markdown",
   "id": "1946f837-bf45-4140-a611-445463e263ad",
   "metadata": {},
   "source": [
    "## Introduction\n",
    "The [IPUMS NHGIS](https://www.nhgis.org) database offers harmonized summary data and geographic boundary files from U.S. censuses and surveys, providing a resource for spatial analysis of demographic, social, and economic trends. It enables users to access aggregated data at various geographic levels, such as states, counties, and census tracts, facilitating the exploration of population dynamics and regional patterns over time. Through harmonization, IPUMS NHGIS ensures that data can be seamlessly compared across years, despite changes in geographic boundaries, variable definitions, and survey methodologies.\n",
    "\n",
    "**From the [IPUMS NHGIS Webpage](https://www.nhgis.org):** The National Historical Geographic Information System (NHGIS) provides easy access to summary tables and time series of population, housing, agriculture, and economic data, along with GIS-compatible mapping files, for years from 1790 through the present and for all levels of U.S. census geography, including states, counties, tracts, and blocks.\n",
    "\n",
    "This notebook introduces the process of extracting [IPUMS NHGIS](https://www.nhgis.org) data using the [IPUMS API](https://developer.ipums.org/docs/v2/apiprogram) via the [ipumsr R package](https://cran.r-project.org/web/packages/ipumsr/index.html). Users will learn how to define, submit, and download an IPUMS NHGIS data extract, specifying desired variables, time periods, and geographic units for analysis. By the end of this notebook, users will have the skills to efficiently acquire customized IPUMS NHGIS datasets and prepare them for spatial and statistical workflows.\n",
    "\n",
    "### ★ Prerequisites ★\n",
    "* Complete Chapter 1.1: Introduction to IPUMS and the IPUMS API\n",
    "* Set Up Your [IPUMS Account and API Key](https://account.ipums.org/api_keys)\n",
    "\n",
    "### Notebook Overview\n",
    "1. Setup\n",
    "2. IPUMS NHGIS Time-Series Data Metadata Exploration\n",
    "3. IPUMS NHGIS Geography Shapefile Metadata Exploration\n",
    "4. IPUMS NHGIS Time-Series Data and Geography Shapefile Extraction Specification and Submission\n",
    "5. Subset and Merge the Time-Series and Geography Data Extractions"
   ]
  },
  {
   "cell_type": "markdown",
   "id": "e98b0d57-13c7-49d7-8511-85fb37e1b296",
   "metadata": {},
   "source": [
    "## 1. Setup\n",
    "This section will guide you through the process of installing essential packages and setting your IPUMS API key.\n",
    "\n",
    "#### Required Packages\n",
    "\n",
    "[**dplyr**](https://cran.r-project.org/web/packages/dplyr/index.html) A Grammar of Data Manipulation. This notebook uses the the following functions from *dplyr*.\n",
    "\n",
    "* [*filter*](https://rdrr.io/cran/dplyr/man/filter.html) · keep rows that match a condition\n",
    "* [*select*](https://rdrr.io/cran/dplyr/man/select.html) · keep or drop columns using their names and types\n",
    "* [*rename*](https://rdrr.io/cran/dplyr/man/rename.html) · rename columns\n",
    "* This notebook also uses [*%>%*](https://magrittr.tidyverse.org/reference/pipe.html), referred to as the *pipe* operator, which is used to pass the output from one function directly into the next function for the purpose of creating streamlined workflows.  The *pipe* operator is a commonly used component of the [*tidyverse*](https://www.tidyverse.org).\n",
    "\n",
    "[**ipumsr**](https://cran.r-project.org/web/packages/ipumsr/index.html) An R Interface for Downloading, Reading, and Handling IPUMS Data.  This notebook uses the the following functions from *ipumsr*.\n",
    "\n",
    "* [*define_extract_nhgis*](https://rdrr.io/cran/ipumsr/man/define_extract_nhgis.html) · define an IPUMS NHGIS extract request\n",
    "* [*download_extract*](https://rdrr.io/cran/ipumsr/man/download_extract.html) · download a completed IPUMS data extract\n",
    "* [*get_metadata_nhgis*](https://rdrr.io/cran/ipumsr/man/get_metadata_nhgis.html) · list available data sources from IPUMS NHGIS\n",
    "* [*read_ipums_sf*](https://rdrr.io/cran/ipumsr/man/read_ipums_sf.html) · read spatial data from an IPUMS extract\n",
    "* [*read_nhgis*](https://rdrr.io/cran/ipumsr/man/read_nhgis.html) · read tabular data from an NHGIS extract\n",
    "* [*set_ipums_api_key*](https://rdrr.io/cran/ipumsr/man/set_ipums_api_key.html) · set your IPUMS API key\n",
    "* [*submit_extract*](https://rdrr.io/cran/ipumsr/man/submit_extract.html) · submit an extract request via the IPUMS API\n",
    "* *tst_spec* · create a *tst_spec* object containing a time series table specification\n",
    "* [*wait_for_extract*](https://rdrr.io/cran/ipumsr/man/wait_for_extract.html) · wait for an extract to finish processing\n",
    "\n",
    "[**purrr**](https://cran.r-project.org/web/packages/purrr/index.html) A complete and consistent functional programming toolkit for R. This notebook uses the the following functions from *purrr*.\n",
    "\n",
    "* [*map()*](https://rdrr.io/cran/purrr/man/map.html) and [*map_dfr()*](https://rdrr.io/cran/purrr/man/map_dfr.html) · apply a function to each element of a vector\n",
    "\n",
    "[**sf**](https://cran.r-project.org/web/packages/sf/index.html) Support for simple features, a standardized way to encode spatial vector data. Binds to 'GDAL' for reading and writing data, to 'GEOS' for geometrical operations, and to 'PROJ' for projection conversions and datum transformations. Uses by default the 's2' package for spherical geometry operations on ellipsoidal (long/lat) coordinates."
   ]
  },
  {
   "cell_type": "markdown",
   "id": "29497545-6fb3-4990-bcab-b23ea3d9d5f1",
   "metadata": {},
   "source": [
    "### 1a. Install and Load Required Packages\n",
    "If you have not already installed the required packages, uncomment and run the code below:"
   ]
  },
  {
   "cell_type": "code",
   "execution_count": null,
   "id": "1b426c39-2d8d-4562-a284-d063f6f918e7",
   "metadata": {},
   "outputs": [],
   "source": [
    "# install.packages(\"dplyr\", \"ipumsr\", \"purr\", \"sf\")"
   ]
  },
  {
   "cell_type": "markdown",
   "id": "cd438188-d2c1-4a3d-8cec-55408980826e",
   "metadata": {},
   "source": [
    "Load the packages into your workspace."
   ]
  },
  {
   "cell_type": "code",
   "execution_count": 32,
   "id": "65683ba8-4ee0-447f-8cd3-36e76f469f71",
   "metadata": {
    "scrolled": true
   },
   "outputs": [
    {
     "ename": "ERROR",
     "evalue": "Error in library(sf): there is no package called 'sf'\n",
     "output_type": "error",
     "traceback": [
      "Error in library(sf): there is no package called 'sf'\nTraceback:\n",
      "1. library(sf)"
     ]
    }
   ],
   "source": [
    "library(dplyr)\n",
    "library(ipumsr)\n",
    "library(purrr)\n",
    "library(sf)"
   ]
  },
  {
   "cell_type": "markdown",
   "id": "d5b81dee-1b3e-4ac2-9649-a38f28f37c45",
   "metadata": {},
   "source": [
    "### 1b. Set Your IPUMS API Key\n",
    "\n",
    "Store your [IPUMS API key](https://account.ipums.org/api_keys) in your environment using the following code.\n",
    "\n",
    "Refer to *Chapter 1.1: Introduction to IPUMS and the IPUMS API* for instructions on setting up your IPUMS account and API key."
   ]
  },
  {
   "cell_type": "code",
   "execution_count": 7,
   "id": "cf136374-a2ee-4a3f-a633-fe33e23c48e8",
   "metadata": {},
   "outputs": [
    {
     "name": "stdin",
     "output_type": "stream",
     "text": [
      "Please enter your IPUMS API key:  59cba10d8a5da536fc06b59dd85f877c475a4c7d96dd08a9ce04d9d0\n"
     ]
    },
    {
     "name": "stderr",
     "output_type": "stream",
     "text": [
      "Existing .Renviron file copied to C:\\Users\\vavra\\Documents/.Renviron_backup for backup purposes.\n",
      "\n",
      "The environment variable IPUMS_API_KEY has been set and saved for future sessions.\n",
      "\n"
     ]
    }
   ],
   "source": [
    "ipumps_api_key = readline(\"Please enter your IPUMS API key: \")\n",
    "set_ipums_api_key(ipumps_api_key, save = T, overwrite = T)"
   ]
  },
  {
   "attachments": {},
   "cell_type": "markdown",
   "id": "4c68d863-f0c8-4394-b289-7d021433e46c",
   "metadata": {},
   "source": [
    "## 2. NHGIS Time-Series Data Metadata Exploration\n",
    "\n",
    "The NHGIS provides a variety of time-series tables, each representing collections of population data over different years. This section helps you identify the right datasets for your analysis by exploring the available time-series tables and filtering them based on specific criteria.\n",
    "\n",
    "#### Steps:\n",
    "1. Retrieve metadata for available time-series datasets.\n",
    "2. Filter and display datasets that focus on a specific topic.\n",
    "3. Identify which years and geographic levels are covered by each dataset.\n",
    "4. Select a dataset for extration.\n",
    "\n",
    "### 2a. Retrieve Time-Series Metadata\n",
    "First we will take a look at the list available NHGIS time-series datasets which includes hundreds of data tables.  Running the code below will provide a snapshot of the first ten datasets in the list."
   ]
  },
  {
   "cell_type": "code",
   "execution_count": 8,
   "id": "34f2d502-001d-474e-a02e-a5529c64bb1f",
   "metadata": {},
   "outputs": [
    {
     "name": "stdout",
     "output_type": "stream",
     "text": [
      "\u001b[90m# A tibble: 389 × 7\u001b[39m\n",
      "   name  description        geographic_integration sequence time_series years   \n",
      "   \u001b[3m\u001b[90m<chr>\u001b[39m\u001b[23m \u001b[3m\u001b[90m<chr>\u001b[39m\u001b[23m              \u001b[3m\u001b[90m<chr>\u001b[39m\u001b[23m                     \u001b[3m\u001b[90m<dbl>\u001b[39m\u001b[23m \u001b[3m\u001b[90m<list>\u001b[39m\u001b[23m      \u001b[3m\u001b[90m<list>\u001b[39m\u001b[23m  \n",
      "\u001b[90m 1\u001b[39m A00   Total Population   Nominal                    100. \u001b[90m<tibble>\u001b[39m    \u001b[90m<tibble>\u001b[39m\n",
      "\u001b[90m 2\u001b[39m AV0   Total Population   Nominal                    100. \u001b[90m<tibble>\u001b[39m    \u001b[90m<tibble>\u001b[39m\n",
      "\u001b[90m 3\u001b[39m B78   Total Population   Nominal                    100. \u001b[90m<tibble>\u001b[39m    \u001b[90m<tibble>\u001b[39m\n",
      "\u001b[90m 4\u001b[39m CL8   Total Population   Standardized to 2010       100. \u001b[90m<tibble>\u001b[39m    \u001b[90m<tibble>\u001b[39m\n",
      "\u001b[90m 5\u001b[39m A57   Persons by Urban/… Nominal                    101. \u001b[90m<tibble>\u001b[39m    \u001b[90m<tibble>\u001b[39m\n",
      "\u001b[90m 6\u001b[39m A59   Persons by Urban/… Nominal                    101. \u001b[90m<tibble>\u001b[39m    \u001b[90m<tibble>\u001b[39m\n",
      "\u001b[90m 7\u001b[39m CL9   Persons by Urban/… Standardized to 2010       101. \u001b[90m<tibble>\u001b[39m    \u001b[90m<tibble>\u001b[39m\n",
      "\u001b[90m 8\u001b[39m A08   Persons by Sex [2] Nominal                    102. \u001b[90m<tibble>\u001b[39m    \u001b[90m<tibble>\u001b[39m\n",
      "\u001b[90m 9\u001b[39m AV1   Persons by Sex [2] Nominal                    102. \u001b[90m<tibble>\u001b[39m    \u001b[90m<tibble>\u001b[39m\n",
      "\u001b[90m10\u001b[39m CM0   Persons by Sex [2] Standardized to 2010       102. \u001b[90m<tibble>\u001b[39m    \u001b[90m<tibble>\u001b[39m\n",
      "\u001b[90m# ℹ 379 more rows\u001b[39m\n",
      "\u001b[90m# ℹ 1 more variable: geog_levels <list>\u001b[39m\n"
     ]
    }
   ],
   "source": [
    "# get list of time-series dataset metadata\n",
    "datts_meta <- get_metadata_nhgis(\"time_series_tables\") %>% print(n = 10)"
   ]
  },
  {
   "cell_type": "markdown",
   "id": "db5b9822-fbc1-40e7-9a65-1149ae59e936",
   "metadata": {},
   "source": [
    "Note that each entry in the list includes not only the description and reference code for the dataset but also [tibbles](https://tibble.tidyverse.org) for \"time_series\", \"years\", and \"geog_levels\".  The information in the tibbles is not visualized in this high-level view of the data but you can imagine that for each \"\\<tibble>\" entry there is another table of information containing additional details on the available data.  We will zoom in deeper in the following steps and you will be able to view the data contained within these tibbles.\n",
    "\n",
    "This wealth of data is overwhelming and it is unlikely anyone would need it all for a single project.  So in the next step, we will programmatically filter the metadata to select only the datasets focused on a specific topic."
   ]
  },
  {
   "cell_type": "markdown",
   "id": "d276d141-1eda-4c17-a403-0f5a8e95cf3e",
   "metadata": {},
   "source": [
    "### 2b. Filter Metadata Based on Criteria\n",
    "\n",
    "You will use the following code to retrieve metadata on available NHGIS time-series datasets and filter them to find datasets that focus on a specific topic.\n",
    "\n",
    "In this example, we will explore only the datasets which focus on total population.  Therefore, we will filter the entire list of datasets to find the subset of datasets whcih include the phrase \"total population\" in the description."
   ]
  },
  {
   "cell_type": "code",
   "execution_count": 9,
   "id": "ced3ca38-dd98-442e-840d-6dd76d05547f",
   "metadata": {},
   "outputs": [],
   "source": [
    "description_filter <- \"total population\""
   ]
  },
  {
   "cell_type": "code",
   "execution_count": 10,
   "id": "da1ccea9-a365-458d-8600-dbc7edc8212e",
   "metadata": {},
   "outputs": [
    {
     "name": "stdout",
     "output_type": "stream",
     "text": [
      "  name      description\n",
      "1  A00 Total Population\n",
      "2  AV0 Total Population\n",
      "3  B78 Total Population\n",
      "4  CL8 Total Population\n"
     ]
    }
   ],
   "source": [
    "datts_meta_filter <- datts_meta %>% filter(grepl(description_filter, description, ignore.case = T)) %>% select(name, description) %>% as.data.frame() %>% print()"
   ]
  },
  {
   "cell_type": "markdown",
   "id": "d072c7bb-43d2-4197-b862-6aeb6d46edf9",
   "metadata": {},
   "source": [
    "Using \"total population\" as a filter resulted in four potential datasets.  For additional detailed information NHGIS time-series datasets, refer to the [NHGIS Time Series Tables lookup document](https://assets.nhgis.org/NHGIS_Time_Series_Tables.pdf).\n",
    "\n",
    "Next we will take a look at the metadata for this selection of datasets datasets to determine which of the datasets includes information on the time range and geographies we are interested in."
   ]
  },
  {
   "cell_type": "markdown",
   "id": "acfc1e15-ad82-4790-bcd8-d2fbfdddd354",
   "metadata": {},
   "source": [
    "### 2c. Identify Available Years and Geographic Levels\n",
    "\n",
    "This step will display the available years and geographic levels for the filtered datasets. This will help you decide which dataset best suits your analysis.\n",
    "\n",
    "You can use the *get_metadata_nhgis* command to view metadata for a specific NHGIS time-series table using the table's code.  The following example shows the metadata for table \"CL8\"."
   ]
  },
  {
   "cell_type": "code",
   "execution_count": 11,
   "id": "f998802a-203f-46bb-8b95-6af790c8ba93",
   "metadata": {},
   "outputs": [
    {
     "data": {
      "text/html": [
       "<dl>\n",
       "\t<dt>$name</dt>\n",
       "\t\t<dd>'CL8'</dd>\n",
       "\t<dt>$description</dt>\n",
       "\t\t<dd>'Total Population'</dd>\n",
       "\t<dt>$geographic_integration</dt>\n",
       "\t\t<dd>'Standardized to 2010'</dd>\n",
       "\t<dt>$sequence</dt>\n",
       "\t\t<dd>100.04</dd>\n",
       "\t<dt>$time_series</dt>\n",
       "\t\t<dd><table class=\"dataframe\">\n",
       "<caption>A tibble: 1 × 3</caption>\n",
       "<thead>\n",
       "\t<tr><th scope=col>name</th><th scope=col>description</th><th scope=col>sequence</th></tr>\n",
       "\t<tr><th scope=col>&lt;chr&gt;</th><th scope=col>&lt;chr&gt;</th><th scope=col>&lt;int&gt;</th></tr>\n",
       "</thead>\n",
       "<tbody>\n",
       "\t<tr><td>AA</td><td>Persons: Total</td><td>1</td></tr>\n",
       "</tbody>\n",
       "</table>\n",
       "</dd>\n",
       "\t<dt>$years</dt>\n",
       "\t\t<dd><table class=\"dataframe\">\n",
       "<caption>A tibble: 4 × 3</caption>\n",
       "<thead>\n",
       "\t<tr><th scope=col>name</th><th scope=col>description</th><th scope=col>sequence</th></tr>\n",
       "\t<tr><th scope=col>&lt;chr&gt;</th><th scope=col>&lt;chr&gt;</th><th scope=col>&lt;int&gt;</th></tr>\n",
       "</thead>\n",
       "<tbody>\n",
       "\t<tr><td>1990</td><td>1990</td><td>108</td></tr>\n",
       "\t<tr><td>2000</td><td>2000</td><td>118</td></tr>\n",
       "\t<tr><td>2010</td><td>2010</td><td>131</td></tr>\n",
       "\t<tr><td>2020</td><td>2020</td><td>155</td></tr>\n",
       "</tbody>\n",
       "</table>\n",
       "</dd>\n",
       "\t<dt>$geog_levels</dt>\n",
       "\t\t<dd><table class=\"dataframe\">\n",
       "<caption>A tibble: 10 × 3</caption>\n",
       "<thead>\n",
       "\t<tr><th scope=col>name</th><th scope=col>description</th><th scope=col>sequence</th></tr>\n",
       "\t<tr><th scope=col>&lt;chr&gt;</th><th scope=col>&lt;chr&gt;</th><th scope=col>&lt;int&gt;</th></tr>\n",
       "</thead>\n",
       "<tbody>\n",
       "\t<tr><td>state   </td><td>State                                                          </td><td>  4</td></tr>\n",
       "\t<tr><td>county  </td><td>State--County                                                  </td><td> 25</td></tr>\n",
       "\t<tr><td>tract   </td><td>State--County--Census Tract                                    </td><td> 66</td></tr>\n",
       "\t<tr><td>blck_grp</td><td>State--County--Census Tract--Block Group                       </td><td> 85</td></tr>\n",
       "\t<tr><td>cty_sub </td><td>State--County--County Subdivision                              </td><td>102</td></tr>\n",
       "\t<tr><td>place   </td><td>State--Place                                                   </td><td>148</td></tr>\n",
       "\t<tr><td>cd111th </td><td>State--Congressional District (2007-2013, 110th-112th Congress)</td><td>217</td></tr>\n",
       "\t<tr><td>cbsa    </td><td>Metropolitan Statistical Area/Micropolitan Statistical Area    </td><td>338</td></tr>\n",
       "\t<tr><td>urb_area</td><td>Urban Area                                                     </td><td>372</td></tr>\n",
       "\t<tr><td>zcta    </td><td>5-Digit ZIP Code Tabulation Area                               </td><td>382</td></tr>\n",
       "</tbody>\n",
       "</table>\n",
       "</dd>\n",
       "</dl>\n"
      ],
      "text/latex": [
       "\\begin{description}\n",
       "\\item[\\$name] 'CL8'\n",
       "\\item[\\$description] 'Total Population'\n",
       "\\item[\\$geographic\\_integration] 'Standardized to 2010'\n",
       "\\item[\\$sequence] 100.04\n",
       "\\item[\\$time\\_series] A tibble: 1 × 3\n",
       "\\begin{tabular}{lll}\n",
       " name & description & sequence\\\\\n",
       " <chr> & <chr> & <int>\\\\\n",
       "\\hline\n",
       "\t AA & Persons: Total & 1\\\\\n",
       "\\end{tabular}\n",
       "\n",
       "\\item[\\$years] A tibble: 4 × 3\n",
       "\\begin{tabular}{lll}\n",
       " name & description & sequence\\\\\n",
       " <chr> & <chr> & <int>\\\\\n",
       "\\hline\n",
       "\t 1990 & 1990 & 108\\\\\n",
       "\t 2000 & 2000 & 118\\\\\n",
       "\t 2010 & 2010 & 131\\\\\n",
       "\t 2020 & 2020 & 155\\\\\n",
       "\\end{tabular}\n",
       "\n",
       "\\item[\\$geog\\_levels] A tibble: 10 × 3\n",
       "\\begin{tabular}{lll}\n",
       " name & description & sequence\\\\\n",
       " <chr> & <chr> & <int>\\\\\n",
       "\\hline\n",
       "\t state    & State                                                           &   4\\\\\n",
       "\t county   & State--County                                                   &  25\\\\\n",
       "\t tract    & State--County--Census Tract                                     &  66\\\\\n",
       "\t blck\\_grp & State--County--Census Tract--Block Group                        &  85\\\\\n",
       "\t cty\\_sub  & State--County--County Subdivision                               & 102\\\\\n",
       "\t place    & State--Place                                                    & 148\\\\\n",
       "\t cd111th  & State--Congressional District (2007-2013, 110th-112th Congress) & 217\\\\\n",
       "\t cbsa     & Metropolitan Statistical Area/Micropolitan Statistical Area     & 338\\\\\n",
       "\t urb\\_area & Urban Area                                                      & 372\\\\\n",
       "\t zcta     & 5-Digit ZIP Code Tabulation Area                                & 382\\\\\n",
       "\\end{tabular}\n",
       "\n",
       "\\end{description}\n"
      ],
      "text/markdown": [
       "$name\n",
       ":   'CL8'\n",
       "$description\n",
       ":   'Total Population'\n",
       "$geographic_integration\n",
       ":   'Standardized to 2010'\n",
       "$sequence\n",
       ":   100.04\n",
       "$time_series\n",
       ":   \n",
       "A tibble: 1 × 3\n",
       "\n",
       "| name &lt;chr&gt; | description &lt;chr&gt; | sequence &lt;int&gt; |\n",
       "|---|---|---|\n",
       "| AA | Persons: Total | 1 |\n",
       "\n",
       "\n",
       "$years\n",
       ":   \n",
       "A tibble: 4 × 3\n",
       "\n",
       "| name &lt;chr&gt; | description &lt;chr&gt; | sequence &lt;int&gt; |\n",
       "|---|---|---|\n",
       "| 1990 | 1990 | 108 |\n",
       "| 2000 | 2000 | 118 |\n",
       "| 2010 | 2010 | 131 |\n",
       "| 2020 | 2020 | 155 |\n",
       "\n",
       "\n",
       "$geog_levels\n",
       ":   \n",
       "A tibble: 10 × 3\n",
       "\n",
       "| name &lt;chr&gt; | description &lt;chr&gt; | sequence &lt;int&gt; |\n",
       "|---|---|---|\n",
       "| state    | State                                                           |   4 |\n",
       "| county   | State--County                                                   |  25 |\n",
       "| tract    | State--County--Census Tract                                     |  66 |\n",
       "| blck_grp | State--County--Census Tract--Block Group                        |  85 |\n",
       "| cty_sub  | State--County--County Subdivision                               | 102 |\n",
       "| place    | State--Place                                                    | 148 |\n",
       "| cd111th  | State--Congressional District (2007-2013, 110th-112th Congress) | 217 |\n",
       "| cbsa     | Metropolitan Statistical Area/Micropolitan Statistical Area     | 338 |\n",
       "| urb_area | Urban Area                                                      | 372 |\n",
       "| zcta     | 5-Digit ZIP Code Tabulation Area                                | 382 |\n",
       "\n",
       "\n",
       "\n",
       "\n"
      ],
      "text/plain": [
       "$name\n",
       "[1] \"CL8\"\n",
       "\n",
       "$description\n",
       "[1] \"Total Population\"\n",
       "\n",
       "$geographic_integration\n",
       "[1] \"Standardized to 2010\"\n",
       "\n",
       "$sequence\n",
       "[1] 100.04\n",
       "\n",
       "$time_series\n",
       "\u001b[90m# A tibble: 1 × 3\u001b[39m\n",
       "  name  description    sequence\n",
       "  \u001b[3m\u001b[90m<chr>\u001b[39m\u001b[23m \u001b[3m\u001b[90m<chr>\u001b[39m\u001b[23m             \u001b[3m\u001b[90m<int>\u001b[39m\u001b[23m\n",
       "\u001b[90m1\u001b[39m AA    Persons: Total        1\n",
       "\n",
       "$years\n",
       "\u001b[90m# A tibble: 4 × 3\u001b[39m\n",
       "  name  description sequence\n",
       "  \u001b[3m\u001b[90m<chr>\u001b[39m\u001b[23m \u001b[3m\u001b[90m<chr>\u001b[39m\u001b[23m          \u001b[3m\u001b[90m<int>\u001b[39m\u001b[23m\n",
       "\u001b[90m1\u001b[39m 1990  1990             108\n",
       "\u001b[90m2\u001b[39m 2000  2000             118\n",
       "\u001b[90m3\u001b[39m 2010  2010             131\n",
       "\u001b[90m4\u001b[39m 2020  2020             155\n",
       "\n",
       "$geog_levels\n",
       "\u001b[90m# A tibble: 10 × 3\u001b[39m\n",
       "   name     description                                                 sequence\n",
       "   \u001b[3m\u001b[90m<chr>\u001b[39m\u001b[23m    \u001b[3m\u001b[90m<chr>\u001b[39m\u001b[23m                                                          \u001b[3m\u001b[90m<int>\u001b[39m\u001b[23m\n",
       "\u001b[90m 1\u001b[39m state    State                                                              4\n",
       "\u001b[90m 2\u001b[39m county   State--County                                                     25\n",
       "\u001b[90m 3\u001b[39m tract    State--County--Census Tract                                       66\n",
       "\u001b[90m 4\u001b[39m blck_grp State--County--Census Tract--Block Group                          85\n",
       "\u001b[90m 5\u001b[39m cty_sub  State--County--County Subdivision                                102\n",
       "\u001b[90m 6\u001b[39m place    State--Place                                                     148\n",
       "\u001b[90m 7\u001b[39m cd111th  State--Congressional District (2007-2013, 110th-112th Cong…      217\n",
       "\u001b[90m 8\u001b[39m cbsa     Metropolitan Statistical Area/Micropolitan Statistical Area      338\n",
       "\u001b[90m 9\u001b[39m urb_area Urban Area                                                       372\n",
       "\u001b[90m10\u001b[39m zcta     5-Digit ZIP Code Tabulation Area                                 382\n"
      ]
     },
     "metadata": {},
     "output_type": "display_data"
    }
   ],
   "source": [
    "get_metadata_nhgis(time_series_table = \"CL8\")"
   ]
  },
  {
   "cell_type": "markdown",
   "id": "29e13a9d-cc92-456d-ae13-fa6a6b65720f",
   "metadata": {},
   "source": [
    "The metadata view shows that the CL8 time-series table includes total population information for 1990, 2000, 2010, and 2020 and for a variety of geographic levels.  Here we can see the information included in the \"time_series\", \"years\", and \"geog_levels\" tibbles which were obscured in the high-level view in step 2a.\n",
    "\n",
    "We could repeat this process for each table from our data filtering proces, but to save us some time, the code below takes the name, description, years, and geograpic levels information for each of the tables in our filtering results and presents the metadata in a simple reference table."
   ]
  },
  {
   "cell_type": "code",
   "execution_count": 12,
   "id": "d1be7982-9fde-45b2-830f-21536d5708bc",
   "metadata": {},
   "outputs": [
    {
     "data": {
      "text/html": [
       "<table class=\"dataframe\">\n",
       "<caption>A data.frame: 4 × 4</caption>\n",
       "<thead>\n",
       "\t<tr><th scope=col>name</th><th scope=col>description</th><th scope=col>years</th><th scope=col>geog_levels</th></tr>\n",
       "\t<tr><th scope=col>&lt;chr&gt;</th><th scope=col>&lt;chr&gt;</th><th scope=col>&lt;chr&gt;</th><th scope=col>&lt;chr&gt;</th></tr>\n",
       "</thead>\n",
       "<tbody>\n",
       "\t<tr><td>A00</td><td>Total Population</td><td>1790, 1800, 1810, 1820, 1830, 1840, 1850, 1860, 1870, 1880, 1890, 1900, 1910, 1920, 1930, 1940, 1950, 1960, 1970, 1980, 1990, 2000, 2010, 2020                                              </td><td>state, county                                                                </td></tr>\n",
       "\t<tr><td>AV0</td><td>Total Population</td><td>1970, 1980, 1990, 2000, 2010, 2006-2010, 2007-2011, 2008-2012, 2009-2013, 2010-2014, 2011-2015, 2012-2016, 2013-2017, 2014-2018, 2015-2019, 2020, 2016-2020, 2017-2021, 2018-2022, 2019-2023</td><td>state, county, tract, cty_sub, place                                         </td></tr>\n",
       "\t<tr><td>B78</td><td>Total Population</td><td>1980, 1990, 2000, 2010, 2006-2010, 2007-2011, 2008-2012, 2009-2013, 2010-2014, 2011-2015, 2012-2016, 2013-2017, 2014-2018, 2015-2019, 2020, 2016-2020, 2017-2021, 2018-2022, 2019-2023      </td><td>nation, region, division, state, county, tract, cty_sub, place               </td></tr>\n",
       "\t<tr><td>CL8</td><td>Total Population</td><td>1990, 2000, 2010, 2020                                                                                                                                                                      </td><td>state, county, tract, blck_grp, cty_sub, place, cd111th, cbsa, urb_area, zcta</td></tr>\n",
       "</tbody>\n",
       "</table>\n"
      ],
      "text/latex": [
       "A data.frame: 4 × 4\n",
       "\\begin{tabular}{llll}\n",
       " name & description & years & geog\\_levels\\\\\n",
       " <chr> & <chr> & <chr> & <chr>\\\\\n",
       "\\hline\n",
       "\t A00 & Total Population & 1790, 1800, 1810, 1820, 1830, 1840, 1850, 1860, 1870, 1880, 1890, 1900, 1910, 1920, 1930, 1940, 1950, 1960, 1970, 1980, 1990, 2000, 2010, 2020                                               & state, county                                                                \\\\\n",
       "\t AV0 & Total Population & 1970, 1980, 1990, 2000, 2010, 2006-2010, 2007-2011, 2008-2012, 2009-2013, 2010-2014, 2011-2015, 2012-2016, 2013-2017, 2014-2018, 2015-2019, 2020, 2016-2020, 2017-2021, 2018-2022, 2019-2023 & state, county, tract, cty\\_sub, place                                         \\\\\n",
       "\t B78 & Total Population & 1980, 1990, 2000, 2010, 2006-2010, 2007-2011, 2008-2012, 2009-2013, 2010-2014, 2011-2015, 2012-2016, 2013-2017, 2014-2018, 2015-2019, 2020, 2016-2020, 2017-2021, 2018-2022, 2019-2023       & nation, region, division, state, county, tract, cty\\_sub, place               \\\\\n",
       "\t CL8 & Total Population & 1990, 2000, 2010, 2020                                                                                                                                                                       & state, county, tract, blck\\_grp, cty\\_sub, place, cd111th, cbsa, urb\\_area, zcta\\\\\n",
       "\\end{tabular}\n"
      ],
      "text/markdown": [
       "\n",
       "A data.frame: 4 × 4\n",
       "\n",
       "| name &lt;chr&gt; | description &lt;chr&gt; | years &lt;chr&gt; | geog_levels &lt;chr&gt; |\n",
       "|---|---|---|---|\n",
       "| A00 | Total Population | 1790, 1800, 1810, 1820, 1830, 1840, 1850, 1860, 1870, 1880, 1890, 1900, 1910, 1920, 1930, 1940, 1950, 1960, 1970, 1980, 1990, 2000, 2010, 2020                                               | state, county                                                                 |\n",
       "| AV0 | Total Population | 1970, 1980, 1990, 2000, 2010, 2006-2010, 2007-2011, 2008-2012, 2009-2013, 2010-2014, 2011-2015, 2012-2016, 2013-2017, 2014-2018, 2015-2019, 2020, 2016-2020, 2017-2021, 2018-2022, 2019-2023 | state, county, tract, cty_sub, place                                          |\n",
       "| B78 | Total Population | 1980, 1990, 2000, 2010, 2006-2010, 2007-2011, 2008-2012, 2009-2013, 2010-2014, 2011-2015, 2012-2016, 2013-2017, 2014-2018, 2015-2019, 2020, 2016-2020, 2017-2021, 2018-2022, 2019-2023       | nation, region, division, state, county, tract, cty_sub, place                |\n",
       "| CL8 | Total Population | 1990, 2000, 2010, 2020                                                                                                                                                                       | state, county, tract, blck_grp, cty_sub, place, cd111th, cbsa, urb_area, zcta |\n",
       "\n"
      ],
      "text/plain": [
       "  name description     \n",
       "1 A00  Total Population\n",
       "2 AV0  Total Population\n",
       "3 B78  Total Population\n",
       "4 CL8  Total Population\n",
       "  years                                                                                                                                                                                       \n",
       "1 1790, 1800, 1810, 1820, 1830, 1840, 1850, 1860, 1870, 1880, 1890, 1900, 1910, 1920, 1930, 1940, 1950, 1960, 1970, 1980, 1990, 2000, 2010, 2020                                              \n",
       "2 1970, 1980, 1990, 2000, 2010, 2006-2010, 2007-2011, 2008-2012, 2009-2013, 2010-2014, 2011-2015, 2012-2016, 2013-2017, 2014-2018, 2015-2019, 2020, 2016-2020, 2017-2021, 2018-2022, 2019-2023\n",
       "3 1980, 1990, 2000, 2010, 2006-2010, 2007-2011, 2008-2012, 2009-2013, 2010-2014, 2011-2015, 2012-2016, 2013-2017, 2014-2018, 2015-2019, 2020, 2016-2020, 2017-2021, 2018-2022, 2019-2023      \n",
       "4 1990, 2000, 2010, 2020                                                                                                                                                                      \n",
       "  geog_levels                                                                  \n",
       "1 state, county                                                                \n",
       "2 state, county, tract, cty_sub, place                                         \n",
       "3 nation, region, division, state, county, tract, cty_sub, place               \n",
       "4 state, county, tract, blck_grp, cty_sub, place, cd111th, cbsa, urb_area, zcta"
      ]
     },
     "metadata": {},
     "output_type": "display_data"
    }
   ],
   "source": [
    "# get metadata for each time-series table\n",
    "metadata_list <- map(datts_meta_filter$name, ~ get_metadata_nhgis(time_series_table = .x))\n",
    "\n",
    "# combine into a data frame with the necessary columns\n",
    "metadata_combined <- map_dfr(metadata_list, function(metadata) {\n",
    "  data.frame(\n",
    "    name = metadata$name,\n",
    "    description = metadata$description,\n",
    "    # Extract only the \"description\" column from the nested tibbles in \"years\" and \"geog_levels\"\n",
    "    years = paste(metadata$years$description, collapse = \", \"),\n",
    "    geog_levels = paste(metadata$geog_levels$name, collapse = \", \")\n",
    "  )\n",
    "})\n",
    "\n",
    "# print the final data frame\n",
    "metadata_combined"
   ]
  },
  {
   "cell_type": "markdown",
   "id": "fbaf2630-34dd-4619-8c1a-304008143778",
   "metadata": {},
   "source": [
    "Taking a look at these results, we can easily see the available years and geographies for each of the time-series tables we identified in our filtering process.\n",
    "\n",
    "Note that the lists of year ranges include both single years (e.g. \"2000\") corresponding to Decennial Census population counts and year ranges (e.g. \"2008-2012\") corresponding to five-year average population estimates from the [American Community Survey (ACS)](https://www.census.gov/programs-surveys/acs)."
   ]
  },
  {
   "cell_type": "markdown",
   "id": "3649a6a8-48e0-4b8b-a460-02cad0868a32",
   "metadata": {},
   "source": [
    "### 2d. Select a Dataset\n",
    "\n",
    "Once we have decided on a specific dataset, we will save the table's code for use in our data extration later on.\n",
    "\n",
    "In this example, we select the 2010 harmonized dataset (CL8), which aligns data to standardized 2010 geographies.  But you can change this line of code to correspond to whichever dataset you want.  You can also select multiple datasets using a list (e.g. *c(\"CL8\", \"A00\")*).  However, if you choose to select multiple dataseta, be mindful of the differences in available years and geographies for the datasets in your selection."
   ]
  },
  {
   "cell_type": "code",
   "execution_count": 13,
   "id": "beb219d2-fa44-4a90-844d-6b466cb4ea3f",
   "metadata": {},
   "outputs": [],
   "source": [
    "selection_datts <- \"CL8\""
   ]
  },
  {
   "cell_type": "markdown",
   "id": "df51bfe5-2dc5-4d22-9361-6c4532d33e7c",
   "metadata": {},
   "source": [
    "Now that we have selected our dataset, let's review its complete metadata details.  Verfity that you have selected the correct dataset and that our selection meets your data needs."
   ]
  },
  {
   "cell_type": "code",
   "execution_count": 14,
   "id": "a9007030-ac86-44b1-bd5e-efa9c569147b",
   "metadata": {},
   "outputs": [
    {
     "data": {
      "text/html": [
       "<dl>\n",
       "\t<dt>$name</dt>\n",
       "\t\t<dd>'CL8'</dd>\n",
       "\t<dt>$description</dt>\n",
       "\t\t<dd>'Total Population'</dd>\n",
       "\t<dt>$geographic_integration</dt>\n",
       "\t\t<dd>'Standardized to 2010'</dd>\n",
       "\t<dt>$sequence</dt>\n",
       "\t\t<dd>100.04</dd>\n",
       "\t<dt>$time_series</dt>\n",
       "\t\t<dd><table class=\"dataframe\">\n",
       "<caption>A tibble: 1 × 3</caption>\n",
       "<thead>\n",
       "\t<tr><th scope=col>name</th><th scope=col>description</th><th scope=col>sequence</th></tr>\n",
       "\t<tr><th scope=col>&lt;chr&gt;</th><th scope=col>&lt;chr&gt;</th><th scope=col>&lt;int&gt;</th></tr>\n",
       "</thead>\n",
       "<tbody>\n",
       "\t<tr><td>AA</td><td>Persons: Total</td><td>1</td></tr>\n",
       "</tbody>\n",
       "</table>\n",
       "</dd>\n",
       "\t<dt>$years</dt>\n",
       "\t\t<dd><table class=\"dataframe\">\n",
       "<caption>A tibble: 4 × 3</caption>\n",
       "<thead>\n",
       "\t<tr><th scope=col>name</th><th scope=col>description</th><th scope=col>sequence</th></tr>\n",
       "\t<tr><th scope=col>&lt;chr&gt;</th><th scope=col>&lt;chr&gt;</th><th scope=col>&lt;int&gt;</th></tr>\n",
       "</thead>\n",
       "<tbody>\n",
       "\t<tr><td>1990</td><td>1990</td><td>108</td></tr>\n",
       "\t<tr><td>2000</td><td>2000</td><td>118</td></tr>\n",
       "\t<tr><td>2010</td><td>2010</td><td>131</td></tr>\n",
       "\t<tr><td>2020</td><td>2020</td><td>155</td></tr>\n",
       "</tbody>\n",
       "</table>\n",
       "</dd>\n",
       "\t<dt>$geog_levels</dt>\n",
       "\t\t<dd><table class=\"dataframe\">\n",
       "<caption>A tibble: 10 × 3</caption>\n",
       "<thead>\n",
       "\t<tr><th scope=col>name</th><th scope=col>description</th><th scope=col>sequence</th></tr>\n",
       "\t<tr><th scope=col>&lt;chr&gt;</th><th scope=col>&lt;chr&gt;</th><th scope=col>&lt;int&gt;</th></tr>\n",
       "</thead>\n",
       "<tbody>\n",
       "\t<tr><td>state   </td><td>State                                                          </td><td>  4</td></tr>\n",
       "\t<tr><td>county  </td><td>State--County                                                  </td><td> 25</td></tr>\n",
       "\t<tr><td>tract   </td><td>State--County--Census Tract                                    </td><td> 66</td></tr>\n",
       "\t<tr><td>blck_grp</td><td>State--County--Census Tract--Block Group                       </td><td> 85</td></tr>\n",
       "\t<tr><td>cty_sub </td><td>State--County--County Subdivision                              </td><td>102</td></tr>\n",
       "\t<tr><td>place   </td><td>State--Place                                                   </td><td>148</td></tr>\n",
       "\t<tr><td>cd111th </td><td>State--Congressional District (2007-2013, 110th-112th Congress)</td><td>217</td></tr>\n",
       "\t<tr><td>cbsa    </td><td>Metropolitan Statistical Area/Micropolitan Statistical Area    </td><td>338</td></tr>\n",
       "\t<tr><td>urb_area</td><td>Urban Area                                                     </td><td>372</td></tr>\n",
       "\t<tr><td>zcta    </td><td>5-Digit ZIP Code Tabulation Area                               </td><td>382</td></tr>\n",
       "</tbody>\n",
       "</table>\n",
       "</dd>\n",
       "</dl>\n"
      ],
      "text/latex": [
       "\\begin{description}\n",
       "\\item[\\$name] 'CL8'\n",
       "\\item[\\$description] 'Total Population'\n",
       "\\item[\\$geographic\\_integration] 'Standardized to 2010'\n",
       "\\item[\\$sequence] 100.04\n",
       "\\item[\\$time\\_series] A tibble: 1 × 3\n",
       "\\begin{tabular}{lll}\n",
       " name & description & sequence\\\\\n",
       " <chr> & <chr> & <int>\\\\\n",
       "\\hline\n",
       "\t AA & Persons: Total & 1\\\\\n",
       "\\end{tabular}\n",
       "\n",
       "\\item[\\$years] A tibble: 4 × 3\n",
       "\\begin{tabular}{lll}\n",
       " name & description & sequence\\\\\n",
       " <chr> & <chr> & <int>\\\\\n",
       "\\hline\n",
       "\t 1990 & 1990 & 108\\\\\n",
       "\t 2000 & 2000 & 118\\\\\n",
       "\t 2010 & 2010 & 131\\\\\n",
       "\t 2020 & 2020 & 155\\\\\n",
       "\\end{tabular}\n",
       "\n",
       "\\item[\\$geog\\_levels] A tibble: 10 × 3\n",
       "\\begin{tabular}{lll}\n",
       " name & description & sequence\\\\\n",
       " <chr> & <chr> & <int>\\\\\n",
       "\\hline\n",
       "\t state    & State                                                           &   4\\\\\n",
       "\t county   & State--County                                                   &  25\\\\\n",
       "\t tract    & State--County--Census Tract                                     &  66\\\\\n",
       "\t blck\\_grp & State--County--Census Tract--Block Group                        &  85\\\\\n",
       "\t cty\\_sub  & State--County--County Subdivision                               & 102\\\\\n",
       "\t place    & State--Place                                                    & 148\\\\\n",
       "\t cd111th  & State--Congressional District (2007-2013, 110th-112th Congress) & 217\\\\\n",
       "\t cbsa     & Metropolitan Statistical Area/Micropolitan Statistical Area     & 338\\\\\n",
       "\t urb\\_area & Urban Area                                                      & 372\\\\\n",
       "\t zcta     & 5-Digit ZIP Code Tabulation Area                                & 382\\\\\n",
       "\\end{tabular}\n",
       "\n",
       "\\end{description}\n"
      ],
      "text/markdown": [
       "$name\n",
       ":   'CL8'\n",
       "$description\n",
       ":   'Total Population'\n",
       "$geographic_integration\n",
       ":   'Standardized to 2010'\n",
       "$sequence\n",
       ":   100.04\n",
       "$time_series\n",
       ":   \n",
       "A tibble: 1 × 3\n",
       "\n",
       "| name &lt;chr&gt; | description &lt;chr&gt; | sequence &lt;int&gt; |\n",
       "|---|---|---|\n",
       "| AA | Persons: Total | 1 |\n",
       "\n",
       "\n",
       "$years\n",
       ":   \n",
       "A tibble: 4 × 3\n",
       "\n",
       "| name &lt;chr&gt; | description &lt;chr&gt; | sequence &lt;int&gt; |\n",
       "|---|---|---|\n",
       "| 1990 | 1990 | 108 |\n",
       "| 2000 | 2000 | 118 |\n",
       "| 2010 | 2010 | 131 |\n",
       "| 2020 | 2020 | 155 |\n",
       "\n",
       "\n",
       "$geog_levels\n",
       ":   \n",
       "A tibble: 10 × 3\n",
       "\n",
       "| name &lt;chr&gt; | description &lt;chr&gt; | sequence &lt;int&gt; |\n",
       "|---|---|---|\n",
       "| state    | State                                                           |   4 |\n",
       "| county   | State--County                                                   |  25 |\n",
       "| tract    | State--County--Census Tract                                     |  66 |\n",
       "| blck_grp | State--County--Census Tract--Block Group                        |  85 |\n",
       "| cty_sub  | State--County--County Subdivision                               | 102 |\n",
       "| place    | State--Place                                                    | 148 |\n",
       "| cd111th  | State--Congressional District (2007-2013, 110th-112th Congress) | 217 |\n",
       "| cbsa     | Metropolitan Statistical Area/Micropolitan Statistical Area     | 338 |\n",
       "| urb_area | Urban Area                                                      | 372 |\n",
       "| zcta     | 5-Digit ZIP Code Tabulation Area                                | 382 |\n",
       "\n",
       "\n",
       "\n",
       "\n"
      ],
      "text/plain": [
       "$name\n",
       "[1] \"CL8\"\n",
       "\n",
       "$description\n",
       "[1] \"Total Population\"\n",
       "\n",
       "$geographic_integration\n",
       "[1] \"Standardized to 2010\"\n",
       "\n",
       "$sequence\n",
       "[1] 100.04\n",
       "\n",
       "$time_series\n",
       "\u001b[90m# A tibble: 1 × 3\u001b[39m\n",
       "  name  description    sequence\n",
       "  \u001b[3m\u001b[90m<chr>\u001b[39m\u001b[23m \u001b[3m\u001b[90m<chr>\u001b[39m\u001b[23m             \u001b[3m\u001b[90m<int>\u001b[39m\u001b[23m\n",
       "\u001b[90m1\u001b[39m AA    Persons: Total        1\n",
       "\n",
       "$years\n",
       "\u001b[90m# A tibble: 4 × 3\u001b[39m\n",
       "  name  description sequence\n",
       "  \u001b[3m\u001b[90m<chr>\u001b[39m\u001b[23m \u001b[3m\u001b[90m<chr>\u001b[39m\u001b[23m          \u001b[3m\u001b[90m<int>\u001b[39m\u001b[23m\n",
       "\u001b[90m1\u001b[39m 1990  1990             108\n",
       "\u001b[90m2\u001b[39m 2000  2000             118\n",
       "\u001b[90m3\u001b[39m 2010  2010             131\n",
       "\u001b[90m4\u001b[39m 2020  2020             155\n",
       "\n",
       "$geog_levels\n",
       "\u001b[90m# A tibble: 10 × 3\u001b[39m\n",
       "   name     description                                                 sequence\n",
       "   \u001b[3m\u001b[90m<chr>\u001b[39m\u001b[23m    \u001b[3m\u001b[90m<chr>\u001b[39m\u001b[23m                                                          \u001b[3m\u001b[90m<int>\u001b[39m\u001b[23m\n",
       "\u001b[90m 1\u001b[39m state    State                                                              4\n",
       "\u001b[90m 2\u001b[39m county   State--County                                                     25\n",
       "\u001b[90m 3\u001b[39m tract    State--County--Census Tract                                       66\n",
       "\u001b[90m 4\u001b[39m blck_grp State--County--Census Tract--Block Group                          85\n",
       "\u001b[90m 5\u001b[39m cty_sub  State--County--County Subdivision                                102\n",
       "\u001b[90m 6\u001b[39m place    State--Place                                                     148\n",
       "\u001b[90m 7\u001b[39m cd111th  State--Congressional District (2007-2013, 110th-112th Cong…      217\n",
       "\u001b[90m 8\u001b[39m cbsa     Metropolitan Statistical Area/Micropolitan Statistical Area      338\n",
       "\u001b[90m 9\u001b[39m urb_area Urban Area                                                       372\n",
       "\u001b[90m10\u001b[39m zcta     5-Digit ZIP Code Tabulation Area                                 382\n"
      ]
     },
     "metadata": {},
     "output_type": "display_data"
    }
   ],
   "source": [
    "get_metadata_nhgis(time_series_table = selection_datts)"
   ]
  },
  {
   "cell_type": "markdown",
   "id": "d4a95cdd-2313-498c-9d0c-d2438cced412",
   "metadata": {},
   "source": [
    "## 3. NHGIS Geography Shapefile Metadata Exploration\n",
    "\n",
    "As we saw in our metadata exploration above, the available geography levels vary based on the dataset.  If we want to extract geographic data along with the our datatable, we will need to review the available geographic data files and select an appropriate file for use with our data.\n",
    "\n",
    "#### Steps:\n",
    "1. Review dataset metadata.\n",
    "2. Retrieve metadata for available shapefiless.\n",
    "3. Filter and display shapefiles based on years and geographic level.\n",
    "5. Select a shapefile for extration."
   ]
  },
  {
   "cell_type": "markdown",
   "id": "672e3b73-804c-48c1-88b9-4c7c92d0fa20",
   "metadata": {},
   "source": [
    "### 3a. Review Time-Series Data Metadata\n",
    "\n",
    "First we should review which geographies are available for our selected datatable and select a geographic level for our extraction."
   ]
  },
  {
   "cell_type": "code",
   "execution_count": 15,
   "id": "24ac08e4-2ba7-44b2-adfb-4bf2652db967",
   "metadata": {},
   "outputs": [
    {
     "data": {
      "text/html": [
       "<table class=\"dataframe\">\n",
       "<caption>A tibble: 10 × 3</caption>\n",
       "<thead>\n",
       "\t<tr><th scope=col>name</th><th scope=col>description</th><th scope=col>sequence</th></tr>\n",
       "\t<tr><th scope=col>&lt;chr&gt;</th><th scope=col>&lt;chr&gt;</th><th scope=col>&lt;int&gt;</th></tr>\n",
       "</thead>\n",
       "<tbody>\n",
       "\t<tr><td>state   </td><td>State                                                          </td><td>  4</td></tr>\n",
       "\t<tr><td>county  </td><td>State--County                                                  </td><td> 25</td></tr>\n",
       "\t<tr><td>tract   </td><td>State--County--Census Tract                                    </td><td> 66</td></tr>\n",
       "\t<tr><td>blck_grp</td><td>State--County--Census Tract--Block Group                       </td><td> 85</td></tr>\n",
       "\t<tr><td>cty_sub </td><td>State--County--County Subdivision                              </td><td>102</td></tr>\n",
       "\t<tr><td>place   </td><td>State--Place                                                   </td><td>148</td></tr>\n",
       "\t<tr><td>cd111th </td><td>State--Congressional District (2007-2013, 110th-112th Congress)</td><td>217</td></tr>\n",
       "\t<tr><td>cbsa    </td><td>Metropolitan Statistical Area/Micropolitan Statistical Area    </td><td>338</td></tr>\n",
       "\t<tr><td>urb_area</td><td>Urban Area                                                     </td><td>372</td></tr>\n",
       "\t<tr><td>zcta    </td><td>5-Digit ZIP Code Tabulation Area                               </td><td>382</td></tr>\n",
       "</tbody>\n",
       "</table>\n"
      ],
      "text/latex": [
       "A tibble: 10 × 3\n",
       "\\begin{tabular}{lll}\n",
       " name & description & sequence\\\\\n",
       " <chr> & <chr> & <int>\\\\\n",
       "\\hline\n",
       "\t state    & State                                                           &   4\\\\\n",
       "\t county   & State--County                                                   &  25\\\\\n",
       "\t tract    & State--County--Census Tract                                     &  66\\\\\n",
       "\t blck\\_grp & State--County--Census Tract--Block Group                        &  85\\\\\n",
       "\t cty\\_sub  & State--County--County Subdivision                               & 102\\\\\n",
       "\t place    & State--Place                                                    & 148\\\\\n",
       "\t cd111th  & State--Congressional District (2007-2013, 110th-112th Congress) & 217\\\\\n",
       "\t cbsa     & Metropolitan Statistical Area/Micropolitan Statistical Area     & 338\\\\\n",
       "\t urb\\_area & Urban Area                                                      & 372\\\\\n",
       "\t zcta     & 5-Digit ZIP Code Tabulation Area                                & 382\\\\\n",
       "\\end{tabular}\n"
      ],
      "text/markdown": [
       "\n",
       "A tibble: 10 × 3\n",
       "\n",
       "| name &lt;chr&gt; | description &lt;chr&gt; | sequence &lt;int&gt; |\n",
       "|---|---|---|\n",
       "| state    | State                                                           |   4 |\n",
       "| county   | State--County                                                   |  25 |\n",
       "| tract    | State--County--Census Tract                                     |  66 |\n",
       "| blck_grp | State--County--Census Tract--Block Group                        |  85 |\n",
       "| cty_sub  | State--County--County Subdivision                               | 102 |\n",
       "| place    | State--Place                                                    | 148 |\n",
       "| cd111th  | State--Congressional District (2007-2013, 110th-112th Congress) | 217 |\n",
       "| cbsa     | Metropolitan Statistical Area/Micropolitan Statistical Area     | 338 |\n",
       "| urb_area | Urban Area                                                      | 372 |\n",
       "| zcta     | 5-Digit ZIP Code Tabulation Area                                | 382 |\n",
       "\n"
      ],
      "text/plain": [
       "   name     description                                                    \n",
       "1  state    State                                                          \n",
       "2  county   State--County                                                  \n",
       "3  tract    State--County--Census Tract                                    \n",
       "4  blck_grp State--County--Census Tract--Block Group                       \n",
       "5  cty_sub  State--County--County Subdivision                              \n",
       "6  place    State--Place                                                   \n",
       "7  cd111th  State--Congressional District (2007-2013, 110th-112th Congress)\n",
       "8  cbsa     Metropolitan Statistical Area/Micropolitan Statistical Area    \n",
       "9  urb_area Urban Area                                                     \n",
       "10 zcta     5-Digit ZIP Code Tabulation Area                               \n",
       "   sequence\n",
       "1    4     \n",
       "2   25     \n",
       "3   66     \n",
       "4   85     \n",
       "5  102     \n",
       "6  148     \n",
       "7  217     \n",
       "8  338     \n",
       "9  372     \n",
       "10 382     "
      ]
     },
     "metadata": {},
     "output_type": "display_data"
    }
   ],
   "source": [
    "get_metadata_nhgis(time_series_table = selection_datts)$geog_levels"
   ]
  },
  {
   "cell_type": "markdown",
   "id": "4cf6aaae-bf3f-4b7b-8e8e-6cbc11a58080",
   "metadata": {},
   "source": [
    "Select one of the available geographies and save it for use in our data extration later on.\n",
    "\n",
    "In this example, we select the Census tract (\"tract\") geographies.  But you can change this line of code to correspond to whichever geography you want.  Similar to the datast selection in step 2d, you can also select multiple geographies using a list (e.g. *c(\"state\", \"county\")*)."
   ]
  },
  {
   "cell_type": "code",
   "execution_count": 16,
   "id": "700c6ca8",
   "metadata": {},
   "outputs": [],
   "source": [
    "selection_geog <- \"tract\""
   ]
  },
  {
   "cell_type": "markdown",
   "id": "f658bf8f-4a2a-49a6-b143-b8dfdc65b62a",
   "metadata": {},
   "source": [
    "### 3b. Retrieve Geography Metadata\n",
    "\n",
    "Shapefiles are a type of file format which contain geographic boundaries.  This type of file is essential for spatial analysis.  This section retrieves and filters shapefile metadata to identify shapefiles which correspond to our selected year and geography.  This filtering step ensures you have the correct geographic boundaries for the population data."
   ]
  },
  {
   "cell_type": "code",
   "execution_count": 17,
   "id": "57327c9c-3f3f-434f-8093-2c8aabe6b851",
   "metadata": {},
   "outputs": [],
   "source": [
    "shp_meta <- get_metadata_nhgis(\"shapefiles\")"
   ]
  },
  {
   "cell_type": "markdown",
   "id": "21212492-840a-463a-8577-681446a4af23",
   "metadata": {},
   "source": [
    "### 3c. Filter Geography Metadata Based on Year and Geography\n",
    "\n",
    "For this exercise, we will extract a set of shapefiles at your previously-selected geography as well as a specific year.  As we saw in our metadata exploration above, the available geography levels vary based on the dataset.\n",
    "\n",
    "For this filtering step, you should also filter based on the year.  For this exercise, we are using time-series table CL8 which contains information on total population harmonized to 2010 geographies.  Therefore, we should only select a shapefile which corresponds to 2010 geographies."
   ]
  },
  {
   "cell_type": "code",
   "execution_count": 18,
   "id": "5ab9a0cb-74c4-419c-8cd6-bb18921494cd",
   "metadata": {},
   "outputs": [],
   "source": [
    "selection_year <- \"2010\""
   ]
  },
  {
   "cell_type": "markdown",
   "id": "f09c12d6-3e47-47eb-99f7-516ef589a242",
   "metadata": {},
   "source": [
    "If you are unfamiliar with Census geographies, it might sound strange to include a year specification in this filtring step.  For large geographies, such as \"nation\" or \"state\", the year is relatively unimportant because the boundaries of these regions are not redrawn from year to year.  However, for smaller geographies, especially those related to the U.S. Decennial Census, such as \"tract\", \"block\" or \"blck_grp\" (block group), and as those related to political districts, such as \"cd\" (congressional district), the boundary of the grography can change over time.  Census tract, block group, and block boundaries are redrawn for each Decennial Census based on population numbers, and Congressional Districts are often redrawn for new congresional elections.  For this reason, it is essential to correspond your shapefile selection to your time-series data extraction.\n",
    "\n",
    "Run the code below to list the available shapefiles based on your year and geography specifications."
   ]
  },
  {
   "cell_type": "code",
   "execution_count": 19,
   "id": "bc870bcd-ba3b-4c94-98f2-aacabb906d4d",
   "metadata": {},
   "outputs": [
    {
     "name": "stdout",
     "output_type": "stream",
     "text": [
      "\u001b[90m# A tibble: 4 × 6\u001b[39m\n",
      "  name                            year  geographic_level   extent basis sequence\n",
      "  \u001b[3m\u001b[90m<chr>\u001b[39m\u001b[23m                           \u001b[3m\u001b[90m<chr>\u001b[39m\u001b[23m \u001b[3m\u001b[90m<chr>\u001b[39m\u001b[23m              \u001b[3m\u001b[90m<chr>\u001b[39m\u001b[23m  \u001b[3m\u001b[90m<chr>\u001b[39m\u001b[23m    \u001b[3m\u001b[90m<int>\u001b[39m\u001b[23m\n",
      "\u001b[90m1\u001b[39m us_tract_2010_tl2010            2010  Census Tract       Unite… 2010…      603\n",
      "\u001b[90m2\u001b[39m us_tract_cenpop_2010_cenpop2010 2010  Census Tract (Cen… Unite… 2010…      604\n",
      "\u001b[90m3\u001b[39m us_tract_2010_tl2020            2010  Census Tract       Unite… 2020…      605\n",
      "\u001b[90m4\u001b[39m us_ttract_2010_tl2010           2010  Tribal Census Tra… Unite… 2010…      641\n"
     ]
    }
   ],
   "source": [
    "shp_meta %>% filter(year == selection_year & grepl(selection_geog, geographic_level, ignore.case = T)) %>% print(n = Inf)"
   ]
  },
  {
   "cell_type": "markdown",
   "id": "50ce420a-65cc-413f-b8a5-6fd9a7934bf9",
   "metadata": {},
   "source": [
    "The filtering step provides us with a list of potential shapefiles we can use for our extraction based on the year and geography criteria."
   ]
  },
  {
   "cell_type": "markdown",
   "id": "3f2acbf0-fa8b-45c8-9c67-d44b7c795871",
   "metadata": {},
   "source": [
    "### 3d. Select a Geography Shapfile\n",
    "\n",
    "For this exercise, we will select the 2010 Census tract dataset based on the 2010 TIGER line files (file \"us_tract_2010_tl2010\").  And wee will save this selection for use later in our data extraction step."
   ]
  },
  {
   "cell_type": "code",
   "execution_count": 20,
   "id": "a2cdadfb-24ad-4c55-a6c5-64f36c30e354",
   "metadata": {},
   "outputs": [],
   "source": [
    "selection_shp <- \"us_tract_2010_tl2010\""
   ]
  },
  {
   "cell_type": "markdown",
   "id": "097ffa3a-9550-4ccd-bc2e-cdc53ccdcff7",
   "metadata": {},
   "source": [
    "## 4. NHGIS Time-Series Dataset and Geography Shapefile Extraction Specification and Submission\n",
    "\n",
    "Now that you've identified your dataset and shapefile, this section defines and submits an extraction request to the IPUMS NHGIS API. Extracting data from IPUMS NHGIS allows you to download specific datasets and geographical data directly from the IPUMS server. This method makes it easy to automate and reproduce data requests.  The extraction will include both the selected time-series data and the corresponding shapefiles.\n",
    "\n",
    "#### Steps:\n",
    "1. Define and Run the Data Extraction\n",
    "2. Review the Data Extraction"
   ]
  },
  {
   "cell_type": "markdown",
   "id": "68c3f813-fa35-401d-a351-d1012a86e9db",
   "metadata": {},
   "source": [
    "### 4a. Define the Extraction Parameters and Run the Extraction\n",
    "\n",
    "Here we will put everything together including out time series data table selection (selection_datts), our selected geography (selection_geog), and our selected shapefiles (selection_shp)."
   ]
  },
  {
   "cell_type": "code",
   "execution_count": 21,
   "id": "06d6fbfd-9e94-47c5-8fac-78dbb8983e76",
   "metadata": {},
   "outputs": [],
   "source": [
    "extraction <- define_extract_nhgis(description = \"I-GUIDE IPUMS Population Change Extraction\",\n",
    "                                   time_series_tables = tst_spec(name = selection_datts,\n",
    "                                                                 geog_levels = selection_geog),\n",
    "                                   shapefiles = selection_shp)"
   ]
  },
  {
   "cell_type": "markdown",
   "id": "560de1c0-afbc-4a84-8260-9688df775926",
   "metadata": {},
   "source": [
    "Submit the extraction request and wait for it to complete, then download the resulting data."
   ]
  },
  {
   "cell_type": "code",
   "execution_count": 22,
   "id": "6c955fa7",
   "metadata": {},
   "outputs": [
    {
     "name": "stderr",
     "output_type": "stream",
     "text": [
      "Successfully submitted IPUMS NHGIS extract number 90\n",
      "\n",
      "Checking extract status...\n",
      "\n",
      "Waiting 10 seconds...\n",
      "\n",
      "Checking extract status...\n",
      "\n",
      "Waiting 20 seconds...\n",
      "\n",
      "Checking extract status...\n",
      "\n",
      "Waiting 30 seconds...\n",
      "\n",
      "Checking extract status...\n",
      "\n",
      "IPUMS NHGIS extract 90 is ready to download.\n",
      "\n"
     ]
    },
    {
     "data": {
      "text/html": [
       "'completed'"
      ],
      "text/latex": [
       "'completed'"
      ],
      "text/markdown": [
       "'completed'"
      ],
      "text/plain": [
       "[1] \"completed\""
      ]
     },
     "metadata": {},
     "output_type": "display_data"
    },
    {
     "name": "stdout",
     "output_type": "stream",
     "text": [
      "\n",
      "\n",
      " |======================================================================| 100%"
     ]
    },
    {
     "name": "stderr",
     "output_type": "stream",
     "text": [
      "Data file saved to C:/Users/vavra/Dropbox/R Spatial/r-spatial/nhgis0090_csv.zip\n",
      "Shapefile saved to C:/Users/vavra/Dropbox/R Spatial/r-spatial/nhgis0090_shape.zip\n",
      "\n"
     ]
    }
   ],
   "source": [
    "# submit extraction  \n",
    "extraction_submitted <- submit_extract(extraction)\n",
    "\n",
    "# wait for completion\n",
    "extraction_complete <- wait_for_extract(extraction_submitted)\n",
    "\n",
    "# check completion\n",
    "extraction_complete$status\n",
    "\n",
    "# get extraction filepath\n",
    "filepath <- download_extract(extraction_submitted, overwrite = T)"
   ]
  },
  {
   "cell_type": "markdown",
   "id": "d2cc34a6-2b19-4dba-bd01-40c70d9e276c",
   "metadata": {},
   "source": [
    "### 4b. Review the Extracted Files\n",
    "If you followed along with this exercise, your data extraction and download should contain the following two files.  If you expanded your extraction to additional datasets and shapefiles, you extraction will contain additional files.\n",
    "\n",
    "1. A dataset containing total population by Census tract (based on 2010 Census tract boundaries) for all available years in the CL8 time-series dataset (1990, 2000, 2010, and 2020).\n",
    "2. A shapefile with 2010 Census tract boundaries."
   ]
  },
  {
   "cell_type": "code",
   "execution_count": 37,
   "id": "99208189-2bfd-4a72-acb9-e4176842631b",
   "metadata": {},
   "outputs": [
    {
     "name": "stderr",
     "output_type": "stream",
     "text": [
      "Use of data from NHGIS is subject to conditions including that users should cite the data appropriately. Use command `ipums_conditions()` for more details.\n",
      "\n",
      "\u001b[1mRows: \u001b[22m\u001b[34m73057\u001b[39m \u001b[1mColumns: \u001b[22m\u001b[34m17\u001b[39m\n",
      "\u001b[36m──\u001b[39m \u001b[1mColumn specification\u001b[22m \u001b[36m────────────────────────────────────────────────────────\u001b[39m\n",
      "\u001b[1mDelimiter:\u001b[22m \",\"\n",
      "\u001b[31mchr\u001b[39m  (6): GISJOIN, STATE, STATEA, COUNTY, COUNTYA, TRACTA\n",
      "\u001b[32mdbl\u001b[39m (11): GEOGYEAR, CL8AA1990, CL8AA1990L, CL8AA1990U, CL8AA2000, CL8AA2000L...\n",
      "\n",
      "\u001b[36mℹ\u001b[39m Use `spec()` to retrieve the full column specification for this data.\n",
      "\u001b[36mℹ\u001b[39m Specify the column types or set `show_col_types = FALSE` to quiet this message.\n"
     ]
    }
   ],
   "source": [
    "# see files in extract\n",
    "dat <- read_nhgis(filepath[1])\n",
    "shp <- read_ipums_sf(filepath[2])"
   ]
  },
  {
   "cell_type": "code",
   "execution_count": 38,
   "id": "bad40933-267f-4531-8a63-11f23ad09419",
   "metadata": {},
   "outputs": [
    {
     "data": {
      "text/html": [
       "<table class=\"dataframe\">\n",
       "<caption>A tibble: 6 × 17</caption>\n",
       "<thead>\n",
       "\t<tr><th scope=col>GISJOIN</th><th scope=col>GEOGYEAR</th><th scope=col>STATE</th><th scope=col>STATEA</th><th scope=col>COUNTY</th><th scope=col>COUNTYA</th><th scope=col>TRACTA</th><th scope=col>CL8AA1990</th><th scope=col>CL8AA1990L</th><th scope=col>CL8AA1990U</th><th scope=col>CL8AA2000</th><th scope=col>CL8AA2000L</th><th scope=col>CL8AA2000U</th><th scope=col>CL8AA2010</th><th scope=col>CL8AA2020</th><th scope=col>CL8AA2020L</th><th scope=col>CL8AA2020U</th></tr>\n",
       "\t<tr><th scope=col>&lt;chr&gt;</th><th scope=col>&lt;dbl&gt;</th><th scope=col>&lt;chr&gt;</th><th scope=col>&lt;chr&gt;</th><th scope=col>&lt;chr&gt;</th><th scope=col>&lt;chr&gt;</th><th scope=col>&lt;chr&gt;</th><th scope=col>&lt;dbl&gt;</th><th scope=col>&lt;dbl&gt;</th><th scope=col>&lt;dbl&gt;</th><th scope=col>&lt;dbl&gt;</th><th scope=col>&lt;dbl&gt;</th><th scope=col>&lt;dbl&gt;</th><th scope=col>&lt;dbl&gt;</th><th scope=col>&lt;dbl&gt;</th><th scope=col>&lt;dbl&gt;</th><th scope=col>&lt;dbl&gt;</th></tr>\n",
       "</thead>\n",
       "<tbody>\n",
       "\t<tr><td>G0100010020100</td><td>2010</td><td>Alabama</td><td>01</td><td>Autauga County</td><td>001</td><td>020100</td><td>1772.67</td><td>1750</td><td>1773</td><td>1920.02</td><td>1900</td><td>1921</td><td> 1912</td><td> 1775</td><td> 1715</td><td> 1775</td></tr>\n",
       "\t<tr><td>G0100010020200</td><td>2010</td><td>Alabama</td><td>01</td><td>Autauga County</td><td>001</td><td>020200</td><td>2031.00</td><td>2031</td><td>2031</td><td>1892.00</td><td>1892</td><td>1892</td><td> 2170</td><td> 2055</td><td> 2055</td><td> 2115</td></tr>\n",
       "\t<tr><td>G0100010020300</td><td>2010</td><td>Alabama</td><td>01</td><td>Autauga County</td><td>001</td><td>020300</td><td>2952.00</td><td>2952</td><td>2952</td><td>3339.00</td><td>3339</td><td>3339</td><td> 3373</td><td> 3216</td><td> 3216</td><td> 3216</td></tr>\n",
       "\t<tr><td>G0100010020400</td><td>2010</td><td>Alabama</td><td>01</td><td>Autauga County</td><td>001</td><td>020400</td><td>4401.00</td><td>4401</td><td>4401</td><td>4556.00</td><td>4556</td><td>4556</td><td> 4386</td><td> 4246</td><td> 4246</td><td> 4246</td></tr>\n",
       "\t<tr><td>G0100010020500</td><td>2010</td><td>Alabama</td><td>01</td><td>Autauga County</td><td>001</td><td>020500</td><td>3120.68</td><td>3119</td><td>3433</td><td>6041.90</td><td>6040</td><td>6364</td><td>10766</td><td>11222</td><td>11222</td><td>11222</td></tr>\n",
       "\t<tr><td>G0100010020600</td><td>2010</td><td>Alabama</td><td>01</td><td>Autauga County</td><td>001</td><td>020600</td><td>3330.00</td><td>3330</td><td>3330</td><td>3272.00</td><td>3272</td><td>3272</td><td> 3668</td><td> 3729</td><td> 3729</td><td> 3729</td></tr>\n",
       "</tbody>\n",
       "</table>\n"
      ],
      "text/latex": [
       "A tibble: 6 × 17\n",
       "\\begin{tabular}{lllllllllllllllll}\n",
       " GISJOIN & GEOGYEAR & STATE & STATEA & COUNTY & COUNTYA & TRACTA & CL8AA1990 & CL8AA1990L & CL8AA1990U & CL8AA2000 & CL8AA2000L & CL8AA2000U & CL8AA2010 & CL8AA2020 & CL8AA2020L & CL8AA2020U\\\\\n",
       " <chr> & <dbl> & <chr> & <chr> & <chr> & <chr> & <chr> & <dbl> & <dbl> & <dbl> & <dbl> & <dbl> & <dbl> & <dbl> & <dbl> & <dbl> & <dbl>\\\\\n",
       "\\hline\n",
       "\t G0100010020100 & 2010 & Alabama & 01 & Autauga County & 001 & 020100 & 1772.67 & 1750 & 1773 & 1920.02 & 1900 & 1921 &  1912 &  1775 &  1715 &  1775\\\\\n",
       "\t G0100010020200 & 2010 & Alabama & 01 & Autauga County & 001 & 020200 & 2031.00 & 2031 & 2031 & 1892.00 & 1892 & 1892 &  2170 &  2055 &  2055 &  2115\\\\\n",
       "\t G0100010020300 & 2010 & Alabama & 01 & Autauga County & 001 & 020300 & 2952.00 & 2952 & 2952 & 3339.00 & 3339 & 3339 &  3373 &  3216 &  3216 &  3216\\\\\n",
       "\t G0100010020400 & 2010 & Alabama & 01 & Autauga County & 001 & 020400 & 4401.00 & 4401 & 4401 & 4556.00 & 4556 & 4556 &  4386 &  4246 &  4246 &  4246\\\\\n",
       "\t G0100010020500 & 2010 & Alabama & 01 & Autauga County & 001 & 020500 & 3120.68 & 3119 & 3433 & 6041.90 & 6040 & 6364 & 10766 & 11222 & 11222 & 11222\\\\\n",
       "\t G0100010020600 & 2010 & Alabama & 01 & Autauga County & 001 & 020600 & 3330.00 & 3330 & 3330 & 3272.00 & 3272 & 3272 &  3668 &  3729 &  3729 &  3729\\\\\n",
       "\\end{tabular}\n"
      ],
      "text/markdown": [
       "\n",
       "A tibble: 6 × 17\n",
       "\n",
       "| GISJOIN &lt;chr&gt; | GEOGYEAR &lt;dbl&gt; | STATE &lt;chr&gt; | STATEA &lt;chr&gt; | COUNTY &lt;chr&gt; | COUNTYA &lt;chr&gt; | TRACTA &lt;chr&gt; | CL8AA1990 &lt;dbl&gt; | CL8AA1990L &lt;dbl&gt; | CL8AA1990U &lt;dbl&gt; | CL8AA2000 &lt;dbl&gt; | CL8AA2000L &lt;dbl&gt; | CL8AA2000U &lt;dbl&gt; | CL8AA2010 &lt;dbl&gt; | CL8AA2020 &lt;dbl&gt; | CL8AA2020L &lt;dbl&gt; | CL8AA2020U &lt;dbl&gt; |\n",
       "|---|---|---|---|---|---|---|---|---|---|---|---|---|---|---|---|---|\n",
       "| G0100010020100 | 2010 | Alabama | 01 | Autauga County | 001 | 020100 | 1772.67 | 1750 | 1773 | 1920.02 | 1900 | 1921 |  1912 |  1775 |  1715 |  1775 |\n",
       "| G0100010020200 | 2010 | Alabama | 01 | Autauga County | 001 | 020200 | 2031.00 | 2031 | 2031 | 1892.00 | 1892 | 1892 |  2170 |  2055 |  2055 |  2115 |\n",
       "| G0100010020300 | 2010 | Alabama | 01 | Autauga County | 001 | 020300 | 2952.00 | 2952 | 2952 | 3339.00 | 3339 | 3339 |  3373 |  3216 |  3216 |  3216 |\n",
       "| G0100010020400 | 2010 | Alabama | 01 | Autauga County | 001 | 020400 | 4401.00 | 4401 | 4401 | 4556.00 | 4556 | 4556 |  4386 |  4246 |  4246 |  4246 |\n",
       "| G0100010020500 | 2010 | Alabama | 01 | Autauga County | 001 | 020500 | 3120.68 | 3119 | 3433 | 6041.90 | 6040 | 6364 | 10766 | 11222 | 11222 | 11222 |\n",
       "| G0100010020600 | 2010 | Alabama | 01 | Autauga County | 001 | 020600 | 3330.00 | 3330 | 3330 | 3272.00 | 3272 | 3272 |  3668 |  3729 |  3729 |  3729 |\n",
       "\n"
      ],
      "text/plain": [
       "  GISJOIN        GEOGYEAR STATE   STATEA COUNTY         COUNTYA TRACTA\n",
       "1 G0100010020100 2010     Alabama 01     Autauga County 001     020100\n",
       "2 G0100010020200 2010     Alabama 01     Autauga County 001     020200\n",
       "3 G0100010020300 2010     Alabama 01     Autauga County 001     020300\n",
       "4 G0100010020400 2010     Alabama 01     Autauga County 001     020400\n",
       "5 G0100010020500 2010     Alabama 01     Autauga County 001     020500\n",
       "6 G0100010020600 2010     Alabama 01     Autauga County 001     020600\n",
       "  CL8AA1990 CL8AA1990L CL8AA1990U CL8AA2000 CL8AA2000L CL8AA2000U CL8AA2010\n",
       "1 1772.67   1750       1773       1920.02   1900       1921        1912    \n",
       "2 2031.00   2031       2031       1892.00   1892       1892        2170    \n",
       "3 2952.00   2952       2952       3339.00   3339       3339        3373    \n",
       "4 4401.00   4401       4401       4556.00   4556       4556        4386    \n",
       "5 3120.68   3119       3433       6041.90   6040       6364       10766    \n",
       "6 3330.00   3330       3330       3272.00   3272       3272        3668    \n",
       "  CL8AA2020 CL8AA2020L CL8AA2020U\n",
       "1  1775      1715       1775     \n",
       "2  2055      2055       2115     \n",
       "3  3216      3216       3216     \n",
       "4  4246      4246       4246     \n",
       "5 11222     11222      11222     \n",
       "6  3729      3729       3729     "
      ]
     },
     "metadata": {},
     "output_type": "display_data"
    }
   ],
   "source": [
    "head(dat)"
   ]
  },
  {
   "cell_type": "code",
   "execution_count": 39,
   "id": "b1b935c8-9273-42b2-a6b4-7703eaba585c",
   "metadata": {},
   "outputs": [
    {
     "data": {
      "text/html": [
       "<style>\n",
       ".list-inline {list-style: none; margin:0; padding: 0}\n",
       ".list-inline>li {display: inline-block}\n",
       ".list-inline>li:not(:last-child)::after {content: \"\\00b7\"; padding: 0 .5ex}\n",
       "</style>\n",
       "<ol class=list-inline><li>'GISJOIN'</li><li>'GEOGYEAR'</li><li>'STATE'</li><li>'STATEA'</li><li>'COUNTY'</li><li>'COUNTYA'</li><li>'TRACTA'</li><li>'CL8AA1990'</li><li>'CL8AA1990L'</li><li>'CL8AA1990U'</li><li>'CL8AA2000'</li><li>'CL8AA2000L'</li><li>'CL8AA2000U'</li><li>'CL8AA2010'</li><li>'CL8AA2020'</li><li>'CL8AA2020L'</li><li>'CL8AA2020U'</li></ol>\n"
      ],
      "text/latex": [
       "\\begin{enumerate*}\n",
       "\\item 'GISJOIN'\n",
       "\\item 'GEOGYEAR'\n",
       "\\item 'STATE'\n",
       "\\item 'STATEA'\n",
       "\\item 'COUNTY'\n",
       "\\item 'COUNTYA'\n",
       "\\item 'TRACTA'\n",
       "\\item 'CL8AA1990'\n",
       "\\item 'CL8AA1990L'\n",
       "\\item 'CL8AA1990U'\n",
       "\\item 'CL8AA2000'\n",
       "\\item 'CL8AA2000L'\n",
       "\\item 'CL8AA2000U'\n",
       "\\item 'CL8AA2010'\n",
       "\\item 'CL8AA2020'\n",
       "\\item 'CL8AA2020L'\n",
       "\\item 'CL8AA2020U'\n",
       "\\end{enumerate*}\n"
      ],
      "text/markdown": [
       "1. 'GISJOIN'\n",
       "2. 'GEOGYEAR'\n",
       "3. 'STATE'\n",
       "4. 'STATEA'\n",
       "5. 'COUNTY'\n",
       "6. 'COUNTYA'\n",
       "7. 'TRACTA'\n",
       "8. 'CL8AA1990'\n",
       "9. 'CL8AA1990L'\n",
       "10. 'CL8AA1990U'\n",
       "11. 'CL8AA2000'\n",
       "12. 'CL8AA2000L'\n",
       "13. 'CL8AA2000U'\n",
       "14. 'CL8AA2010'\n",
       "15. 'CL8AA2020'\n",
       "16. 'CL8AA2020L'\n",
       "17. 'CL8AA2020U'\n",
       "\n",
       "\n"
      ],
      "text/plain": [
       " [1] \"GISJOIN\"    \"GEOGYEAR\"   \"STATE\"      \"STATEA\"     \"COUNTY\"    \n",
       " [6] \"COUNTYA\"    \"TRACTA\"     \"CL8AA1990\"  \"CL8AA1990L\" \"CL8AA1990U\"\n",
       "[11] \"CL8AA2000\"  \"CL8AA2000L\" \"CL8AA2000U\" \"CL8AA2010\"  \"CL8AA2020\" \n",
       "[16] \"CL8AA2020L\" \"CL8AA2020U\""
      ]
     },
     "metadata": {},
     "output_type": "display_data"
    }
   ],
   "source": [
    "colnames(dat)"
   ]
  },
  {
   "cell_type": "markdown",
   "id": "a873612b-8d8b-4334-8225-18203167c6f7",
   "metadata": {},
   "source": [
    "**Variables**\n",
    "* GIS Join Match Code (GISJOIN)\n",
    "* Geography Year (GEOGYEAR)\n",
    "* State Name (STATE)\n",
    "* State Code (STATEA)\n",
    "* County Name (COUNTY)\n",
    "* County Code (COUNTYA)\n",
    "* Census Tract Code (TRACTA)\n",
    "* 1990 Total Persons (CL8AA1990)\n",
    "* 1990 Total Persons (Lower Bound) (CL8AA1990L)\n",
    "* 1990 Total Persons (Upper Bound) (CL8AA1990U)\n",
    "* 2000 Total Persons (CL8AA2000)\n",
    "* 2000 Total Persons (Lower Bound) (CL8AA2000L)\n",
    "* 2000 Total Persons (Upper Bound) (CL8AA2000U)\n",
    "* 2010 Total Persons (CL8AA2010)\n",
    "* 2020 Total Persons (CL8AA2020)\n",
    "* 2020 Total Persons (Lower Bound) (CL8AA2020L)\n",
    "* 2020 Total Persons (Upper Bound) (CL8AA2020U)"
   ]
  },
  {
   "cell_type": "markdown",
   "id": "eaf1837a-2471-4b58-92c8-5c375e9a841c",
   "metadata": {},
   "source": [
    "## 5. Subset and Merge the Time-Series and Geography Data Extractions"
   ]
  },
  {
   "cell_type": "markdown",
   "id": "81be6dac-76b3-4f7e-a50e-0acdb70955a3",
   "metadata": {},
   "source": [
    "This final section provides a few example data engineering next steps for reference.\n",
    "\n",
    "1. First, the time-series population data is condensed to include only population counts from 1990, 2000, 2010, and 2020 and the column \"GISJOIN\" which contains unique codes for each Census tract.\n",
    "2. Next, the population count columns are renamed.\n",
    "3. Then the Census tract shapefile is condensed to include only the state FIPS code and \"GISJOIN\" columns.\n",
    "4. Finally, the time-series population data is mrged with the Census tract shapefile using the unique \"GISJOIN\" column as the join key."
   ]
  },
  {
   "cell_type": "markdown",
   "id": "e7c27f46-459a-4f3a-99a4-28178faf80aa",
   "metadata": {},
   "source": [
    "### 5a. Merge the Time-Series and Geography Data "
   ]
  },
  {
   "cell_type": "code",
   "execution_count": 40,
   "id": "935d7e5c-f3e1-464b-8893-e57ef219d7e2",
   "metadata": {},
   "outputs": [],
   "source": [
    "# merge the time-series population data with the Censuss tract shapefile\n",
    "dat_shp <- merge(dat, shp, by = \"GISJOIN\")"
   ]
  },
  {
   "cell_type": "markdown",
   "id": "dfca8c9f-2653-423d-b71b-24bbc8e12a0f",
   "metadata": {},
   "source": [
    "The final merged includes total population for 1990, 2000, 2010, and 2020 attached to the geographic boundaries of the 2010 Census tracts.  The code below provides a snapshot of the first ten lines in the final merged dataset."
   ]
  },
  {
   "cell_type": "code",
   "execution_count": 41,
   "id": "59fa05f2-af45-45ed-91e7-8ad2cc99467d",
   "metadata": {},
   "outputs": [
    {
     "data": {
      "text/html": [
       "<table class=\"dataframe\">\n",
       "<caption>A data.frame: 6 × 32</caption>\n",
       "<thead>\n",
       "\t<tr><th></th><th scope=col>GISJOIN</th><th scope=col>GEOGYEAR</th><th scope=col>STATE</th><th scope=col>STATEA</th><th scope=col>COUNTY</th><th scope=col>COUNTYA</th><th scope=col>TRACTA</th><th scope=col>CL8AA1990</th><th scope=col>CL8AA1990L</th><th scope=col>CL8AA1990U</th><th scope=col>⋯</th><th scope=col>NAMELSAD10</th><th scope=col>MTFCC10</th><th scope=col>FUNCSTAT10</th><th scope=col>ALAND10</th><th scope=col>AWATER10</th><th scope=col>INTPTLAT10</th><th scope=col>INTPTLON10</th><th scope=col>Shape_area</th><th scope=col>Shape_len</th><th scope=col>geometry</th></tr>\n",
       "\t<tr><th></th><th scope=col>&lt;chr&gt;</th><th scope=col>&lt;dbl&gt;</th><th scope=col>&lt;chr&gt;</th><th scope=col>&lt;chr&gt;</th><th scope=col>&lt;chr&gt;</th><th scope=col>&lt;chr&gt;</th><th scope=col>&lt;chr&gt;</th><th scope=col>&lt;dbl&gt;</th><th scope=col>&lt;dbl&gt;</th><th scope=col>&lt;dbl&gt;</th><th scope=col>⋯</th><th scope=col>&lt;chr&gt;</th><th scope=col>&lt;chr&gt;</th><th scope=col>&lt;chr&gt;</th><th scope=col>&lt;dbl&gt;</th><th scope=col>&lt;dbl&gt;</th><th scope=col>&lt;chr&gt;</th><th scope=col>&lt;chr&gt;</th><th scope=col>&lt;dbl&gt;</th><th scope=col>&lt;dbl&gt;</th><th scope=col>&lt;MULTIPOLYGON [m]&gt;</th></tr>\n",
       "</thead>\n",
       "<tbody>\n",
       "\t<tr><th scope=row>1</th><td>G0100010020100</td><td>2010</td><td>Alabama</td><td>01</td><td>Autauga County</td><td>001</td><td>020100</td><td>1772.67</td><td>1750</td><td>1773</td><td>⋯</td><td>Census Tract 201</td><td>G5020</td><td>S</td><td> 9809944</td><td>36312</td><td>+32.4771112</td><td>-086.4903033</td><td> 9846259</td><td>16193.875</td><td>MULTIPOLYGON (((888438 -515...</td></tr>\n",
       "\t<tr><th scope=row>2</th><td>G0100010020200</td><td>2010</td><td>Alabama</td><td>01</td><td>Autauga County</td><td>001</td><td>020200</td><td>2031.00</td><td>2031</td><td>2031</td><td>⋯</td><td>Census Tract 202</td><td>G5020</td><td>S</td><td> 3340505</td><td> 5846</td><td>+32.4757580</td><td>-086.4724678</td><td> 3346347</td><td> 9844.309</td><td>MULTIPOLYGON (((889844.1 -5...</td></tr>\n",
       "\t<tr><th scope=row>3</th><td>G0100010020300</td><td>2010</td><td>Alabama</td><td>01</td><td>Autauga County</td><td>001</td><td>020300</td><td>2952.00</td><td>2952</td><td>2952</td><td>⋯</td><td>Census Tract 203</td><td>G5020</td><td>S</td><td> 5349274</td><td> 9054</td><td>+32.4740243</td><td>-086.4597033</td><td> 5358330</td><td>10519.641</td><td>MULTIPOLYGON (((891383.8 -5...</td></tr>\n",
       "\t<tr><th scope=row>4</th><td>G0100010020400</td><td>2010</td><td>Alabama</td><td>01</td><td>Autauga County</td><td>001</td><td>020400</td><td>4401.00</td><td>4401</td><td>4401</td><td>⋯</td><td>Census Tract 204</td><td>G5020</td><td>S</td><td> 6382705</td><td>16244</td><td>+32.4710782</td><td>-086.4446805</td><td> 6398946</td><td>12500.859</td><td>MULTIPOLYGON (((892527.3 -5...</td></tr>\n",
       "\t<tr><th scope=row>5</th><td>G0100010020500</td><td>2010</td><td>Alabama</td><td>01</td><td>Autauga County</td><td>001</td><td>020500</td><td>3120.68</td><td>3119</td><td>3433</td><td>⋯</td><td>Census Tract 205</td><td>G5020</td><td>S</td><td>11397725</td><td>48412</td><td>+32.4589157</td><td>-086.4218165</td><td>11446139</td><td>17113.378</td><td>MULTIPOLYGON (((895451 -522...</td></tr>\n",
       "\t<tr><th scope=row>6</th><td>G0100010020600</td><td>2010</td><td>Alabama</td><td>01</td><td>Autauga County</td><td>001</td><td>020600</td><td>3330.00</td><td>3330</td><td>3330</td><td>⋯</td><td>Census Tract 206</td><td>G5020</td><td>S</td><td> 8020366</td><td>60048</td><td>+32.4473470</td><td>-086.4768023</td><td> 8080417</td><td>14306.062</td><td>MULTIPOLYGON (((889098.5 -5...</td></tr>\n",
       "</tbody>\n",
       "</table>\n"
      ],
      "text/latex": [
       "A data.frame: 6 × 32\n",
       "\\begin{tabular}{r|lllllllllllllllllllll}\n",
       "  & GISJOIN & GEOGYEAR & STATE & STATEA & COUNTY & COUNTYA & TRACTA & CL8AA1990 & CL8AA1990L & CL8AA1990U & ⋯ & NAMELSAD10 & MTFCC10 & FUNCSTAT10 & ALAND10 & AWATER10 & INTPTLAT10 & INTPTLON10 & Shape\\_area & Shape\\_len & geometry\\\\\n",
       "  & <chr> & <dbl> & <chr> & <chr> & <chr> & <chr> & <chr> & <dbl> & <dbl> & <dbl> & ⋯ & <chr> & <chr> & <chr> & <dbl> & <dbl> & <chr> & <chr> & <dbl> & <dbl> & <MULTIPOLYGON {[}m{]}>\\\\\n",
       "\\hline\n",
       "\t1 & G0100010020100 & 2010 & Alabama & 01 & Autauga County & 001 & 020100 & 1772.67 & 1750 & 1773 & ⋯ & Census Tract 201 & G5020 & S &  9809944 & 36312 & +32.4771112 & -086.4903033 &  9846259 & 16193.875 & MULTIPOLYGON (((888438 -515...\\\\\n",
       "\t2 & G0100010020200 & 2010 & Alabama & 01 & Autauga County & 001 & 020200 & 2031.00 & 2031 & 2031 & ⋯ & Census Tract 202 & G5020 & S &  3340505 &  5846 & +32.4757580 & -086.4724678 &  3346347 &  9844.309 & MULTIPOLYGON (((889844.1 -5...\\\\\n",
       "\t3 & G0100010020300 & 2010 & Alabama & 01 & Autauga County & 001 & 020300 & 2952.00 & 2952 & 2952 & ⋯ & Census Tract 203 & G5020 & S &  5349274 &  9054 & +32.4740243 & -086.4597033 &  5358330 & 10519.641 & MULTIPOLYGON (((891383.8 -5...\\\\\n",
       "\t4 & G0100010020400 & 2010 & Alabama & 01 & Autauga County & 001 & 020400 & 4401.00 & 4401 & 4401 & ⋯ & Census Tract 204 & G5020 & S &  6382705 & 16244 & +32.4710782 & -086.4446805 &  6398946 & 12500.859 & MULTIPOLYGON (((892527.3 -5...\\\\\n",
       "\t5 & G0100010020500 & 2010 & Alabama & 01 & Autauga County & 001 & 020500 & 3120.68 & 3119 & 3433 & ⋯ & Census Tract 205 & G5020 & S & 11397725 & 48412 & +32.4589157 & -086.4218165 & 11446139 & 17113.378 & MULTIPOLYGON (((895451 -522...\\\\\n",
       "\t6 & G0100010020600 & 2010 & Alabama & 01 & Autauga County & 001 & 020600 & 3330.00 & 3330 & 3330 & ⋯ & Census Tract 206 & G5020 & S &  8020366 & 60048 & +32.4473470 & -086.4768023 &  8080417 & 14306.062 & MULTIPOLYGON (((889098.5 -5...\\\\\n",
       "\\end{tabular}\n"
      ],
      "text/markdown": [
       "\n",
       "A data.frame: 6 × 32\n",
       "\n",
       "| <!--/--> | GISJOIN &lt;chr&gt; | GEOGYEAR &lt;dbl&gt; | STATE &lt;chr&gt; | STATEA &lt;chr&gt; | COUNTY &lt;chr&gt; | COUNTYA &lt;chr&gt; | TRACTA &lt;chr&gt; | CL8AA1990 &lt;dbl&gt; | CL8AA1990L &lt;dbl&gt; | CL8AA1990U &lt;dbl&gt; | ⋯ ⋯ | NAMELSAD10 &lt;chr&gt; | MTFCC10 &lt;chr&gt; | FUNCSTAT10 &lt;chr&gt; | ALAND10 &lt;dbl&gt; | AWATER10 &lt;dbl&gt; | INTPTLAT10 &lt;chr&gt; | INTPTLON10 &lt;chr&gt; | Shape_area &lt;dbl&gt; | Shape_len &lt;dbl&gt; | geometry &lt;MULTIPOLYGON [m]&gt; |\n",
       "|---|---|---|---|---|---|---|---|---|---|---|---|---|---|---|---|---|---|---|---|---|---|\n",
       "| 1 | G0100010020100 | 2010 | Alabama | 01 | Autauga County | 001 | 020100 | 1772.67 | 1750 | 1773 | ⋯ | Census Tract 201 | G5020 | S |  9809944 | 36312 | +32.4771112 | -086.4903033 |  9846259 | 16193.875 | MULTIPOLYGON (((888438 -515... |\n",
       "| 2 | G0100010020200 | 2010 | Alabama | 01 | Autauga County | 001 | 020200 | 2031.00 | 2031 | 2031 | ⋯ | Census Tract 202 | G5020 | S |  3340505 |  5846 | +32.4757580 | -086.4724678 |  3346347 |  9844.309 | MULTIPOLYGON (((889844.1 -5... |\n",
       "| 3 | G0100010020300 | 2010 | Alabama | 01 | Autauga County | 001 | 020300 | 2952.00 | 2952 | 2952 | ⋯ | Census Tract 203 | G5020 | S |  5349274 |  9054 | +32.4740243 | -086.4597033 |  5358330 | 10519.641 | MULTIPOLYGON (((891383.8 -5... |\n",
       "| 4 | G0100010020400 | 2010 | Alabama | 01 | Autauga County | 001 | 020400 | 4401.00 | 4401 | 4401 | ⋯ | Census Tract 204 | G5020 | S |  6382705 | 16244 | +32.4710782 | -086.4446805 |  6398946 | 12500.859 | MULTIPOLYGON (((892527.3 -5... |\n",
       "| 5 | G0100010020500 | 2010 | Alabama | 01 | Autauga County | 001 | 020500 | 3120.68 | 3119 | 3433 | ⋯ | Census Tract 205 | G5020 | S | 11397725 | 48412 | +32.4589157 | -086.4218165 | 11446139 | 17113.378 | MULTIPOLYGON (((895451 -522... |\n",
       "| 6 | G0100010020600 | 2010 | Alabama | 01 | Autauga County | 001 | 020600 | 3330.00 | 3330 | 3330 | ⋯ | Census Tract 206 | G5020 | S |  8020366 | 60048 | +32.4473470 | -086.4768023 |  8080417 | 14306.062 | MULTIPOLYGON (((889098.5 -5... |\n",
       "\n"
      ],
      "text/plain": [
       "  GISJOIN        GEOGYEAR STATE   STATEA COUNTY         COUNTYA TRACTA\n",
       "1 G0100010020100 2010     Alabama 01     Autauga County 001     020100\n",
       "2 G0100010020200 2010     Alabama 01     Autauga County 001     020200\n",
       "3 G0100010020300 2010     Alabama 01     Autauga County 001     020300\n",
       "4 G0100010020400 2010     Alabama 01     Autauga County 001     020400\n",
       "5 G0100010020500 2010     Alabama 01     Autauga County 001     020500\n",
       "6 G0100010020600 2010     Alabama 01     Autauga County 001     020600\n",
       "  CL8AA1990 CL8AA1990L CL8AA1990U ⋯ NAMELSAD10       MTFCC10 FUNCSTAT10\n",
       "1 1772.67   1750       1773       ⋯ Census Tract 201 G5020   S         \n",
       "2 2031.00   2031       2031       ⋯ Census Tract 202 G5020   S         \n",
       "3 2952.00   2952       2952       ⋯ Census Tract 203 G5020   S         \n",
       "4 4401.00   4401       4401       ⋯ Census Tract 204 G5020   S         \n",
       "5 3120.68   3119       3433       ⋯ Census Tract 205 G5020   S         \n",
       "6 3330.00   3330       3330       ⋯ Census Tract 206 G5020   S         \n",
       "  ALAND10  AWATER10 INTPTLAT10  INTPTLON10   Shape_area Shape_len\n",
       "1  9809944 36312    +32.4771112 -086.4903033  9846259   16193.875\n",
       "2  3340505  5846    +32.4757580 -086.4724678  3346347    9844.309\n",
       "3  5349274  9054    +32.4740243 -086.4597033  5358330   10519.641\n",
       "4  6382705 16244    +32.4710782 -086.4446805  6398946   12500.859\n",
       "5 11397725 48412    +32.4589157 -086.4218165 11446139   17113.378\n",
       "6  8020366 60048    +32.4473470 -086.4768023  8080417   14306.062\n",
       "  geometry                      \n",
       "1 MULTIPOLYGON (((888438 -515...\n",
       "2 MULTIPOLYGON (((889844.1 -5...\n",
       "3 MULTIPOLYGON (((891383.8 -5...\n",
       "4 MULTIPOLYGON (((892527.3 -5...\n",
       "5 MULTIPOLYGON (((895451 -522...\n",
       "6 MULTIPOLYGON (((889098.5 -5..."
      ]
     },
     "metadata": {},
     "output_type": "display_data"
    }
   ],
   "source": [
    "head(dat_shp)"
   ]
  },
  {
   "cell_type": "markdown",
   "id": "5b8e09de-21d3-4ea6-8f08-50e9d79e2cbe",
   "metadata": {},
   "source": [
    "### 3d. Save the Data\n",
    "\n",
    "Next let's save a couple versions of our IPUMS ACS data file.\n",
    "\n",
    "* A *.rds* version of the data.  The **R Data Serialization (RDS)** format will retain metadata for the next time we want to import the file back into R.  One downside to the .rds format is it is only useable within R.\n",
    "* A *.csv* version of the data.  The [**Comma-Separated Values (CSV)**](https://en.wikipedia.org/wiki/Comma-separated_values) format is versitile and can be easily accessed in other programs.  However, the CSV file format does not include metadata such as labels for variable levels."
   ]
  },
  {
   "cell_type": "code",
   "execution_count": 43,
   "id": "886ad181-8451-4d0d-a6ce-882dca99738d",
   "metadata": {},
   "outputs": [],
   "source": [
    "saveRDS(dat_shp, \"ipums_nhgis_example.rds\")\n",
    "write.csv(dat_shp, \"ipums_nhgis_example.csv\")"
   ]
  },
  {
   "cell_type": "markdown",
   "id": "05a80015-ce9c-4b51-ab23-35eafbcf9b81",
   "metadata": {},
   "source": [
    "## Conclusion\n",
    "This script provides a step-by-step guide to extracting and preparing U.S. Census population data from the IPUMS NHGIS for spatial analysis. By following this approach, social scientists and researchers can automate data extraction tasks, save time, and ensure reproducibility.\n",
    "\n",
    "The data and shapefile merging capabilities allow users to explore population trends across various geographic levels and time periods. Feel free to customize the script to fit your specific research needs."
   ]
  },
  {
   "cell_type": "markdown",
   "id": "313811a9-d540-4615-b871-ae4ebbee5cd4",
   "metadata": {},
   "source": [
    "## Recommended Next Steps\n",
    "* **Continue with Chapter 2: IPUMS Data Acquisition and Extraction**\n",
    "  * 2.1: IPUMS USA Data Extraction Using ipumsr\n",
    "  * 2.2: IPUMS CPS Data Extraction Using ipumsr\n",
    "  * 2.3: IPUMS International Microdata Extraction Using ipumsr\n",
    "  * 2.5: IPUMS Time Use Data Extraction Using ipumsr\n",
    "  * 2.6: IPUMS Health Surveys Data Extraction Using ipumsr\n",
    "  * 2.7: Reading IPUMS Global Health Data Extracts Using ipumsr\n",
    "  * 2.8: Reading IPUMS Higher Education Data Extracts Using ipumsr\n",
    "* **Move on to Chapter 3: Data Cleaning and Preparation**\n",
    "  * 3.2: Spatial Data Preparation and Transformation with IPUMS NHGIS"
   ]
  },
  {
   "cell_type": "markdown",
   "id": "4570aa6d-f6cd-436a-87d5-6788778bd601",
   "metadata": {},
   "source": [
    "## Quick Code\n",
    "\n",
    "Don't forget to update the code with your IPUMS API key!"
   ]
  },
  {
   "cell_type": "raw",
   "id": "e43e1487-d725-4ebf-a26e-d06e52a95ddc",
   "metadata": {},
   "source": [
    "# install necessary packages\n",
    "#install.packages(\"dplyr\", \"ipumsr\", \"purr\")\n",
    "\n",
    "# load necessary libraries\n",
    "library(dplyr)\n",
    "library(ipumsr)\n",
    "library(purrr)\n",
    "\n",
    "# set IPUMS API key\n",
    "ipums_api_key <- \"paste your api key here\"\n",
    "set_ipums_api_key(ipums_api_key, save = T, overwrite = T)\n",
    "\n",
    "# define extract specifications\n",
    "selection_datts <- \"CL8\"                  # time-series data table\n",
    "selection_geog <- \"tract\"                 # geographic level\n",
    "selection_year <- \"2010\"                  # year(s)\n",
    "selection_shp <- \"us_tract_2010_tl2010\"   # shapefile\n",
    "\n",
    "# set up the data extraction\n",
    "extraction <- define_extract_nhgis(description = \"IPUMS NHGIS Data Extraction\",\n",
    "                                   time_series_tables = tst_spec(name = selection_datts,\n",
    "                                                                 geog_levels = selection_geog,\n",
    "                                                                 years = selection_year),\n",
    "                                   shapefiles = selection_shp)\n",
    "\n",
    "# submit extraction and extract the data\n",
    "extraction_submitted <- submit_extract(extraction)                  # submit the extraction  \n",
    "extraction_complete <- wait_for_extract(extraction_submitted)       # wait for completion\n",
    "extraction_complete$status                                          # check completion\n",
    "filepath <- download_extract(extraction_submitted, overwrite = T)   # get extraction filepath\n",
    "\n",
    "# extract the files\n",
    "dat_raw <- read_nhgis(filepath[1])\n",
    "shp_raw <- read_ipums_sf(filepath[2])\n",
    "\n",
    "# merge the data and geography files\n",
    "dat <- merge(dat_raw, shp_raw, by = \"GISJOIN\")\n",
    "\n",
    "# save as RDS file\n",
    "saveRDS(dat, \"dat_ipums_nhgis.rds\", )"
   ]
  }
 ],
 "metadata": {
  "kernelspec": {
   "display_name": "R",
   "language": "R",
   "name": "ir"
  },
  "language_info": {
   "codemirror_mode": "r",
   "file_extension": ".r",
   "mimetype": "text/x-r-source",
   "name": "R",
   "pygments_lexer": "r",
   "version": "4.3.3"
  }
 },
 "nbformat": 4,
 "nbformat_minor": 5
}
