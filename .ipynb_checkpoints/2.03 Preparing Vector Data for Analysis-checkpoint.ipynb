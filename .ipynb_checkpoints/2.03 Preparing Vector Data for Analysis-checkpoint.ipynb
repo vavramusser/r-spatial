{
 "cells": [
  {
   "cell_type": "markdown",
   "id": "5df1d0dc-21a5-4353-b4e3-7a2db5cf5dd7",
   "metadata": {},
   "source": [
    "# Preparing Vector Data for Analysis\n",
    "### by [Kate Vavra-Musser](https://vavramusser.github.io) for the [R Spatial Notebook Series](https://vavramusser.github.io/r-spatial)"
   ]
  },
  {
   "cell_type": "markdown",
   "id": "77f4fb14-9015-49b5-8a00-705a54a02541",
   "metadata": {},
   "source": [
    "## Introduction\n",
    "Spatial data plays a critical role in geographic information systems (GIS) and spatial analysis. However, real-world datasets often come with geometric issues such as invalid geometries, misaligned coordinates, or topology errors, which can cause errors in analysis and visualization workflows. Ensuring the validity of geometries and resolving alignment issues is a key step in preparing spatial data for analysis.\n",
    "\n",
    "### Notebook Goals\n",
    "In this notebook, we will focus the [*st_is_valid*](https://rdrr.io/cran/sf/man/valid.html), [*st_make_valid*](https://rdrr.io/cran/sf/man/valid.html), and [*st_snap*](https://rdrr.io/cran/sf/man/geos_binary_ops.html) functions from the [**sf**](https://cran.r-project.org/web/packages/sf/index.html) package. These functions help validate and repair geometries as well as align spatial features for accurate processing. By the end of this notebook, you will have a practical understanding of how to identify and fix common spatial data issues, enabling seamless integration of spatial datasets into your analysis.\n",
    "\n",
    "### ✨ Prerequisites ✨\n",
    "* Complete [**Chapter 2.01 Introduction to sf: Reading, Writing, and Inspecting Data**]()\n",
    "* Have a copy of the *usa_boundary.zip* shapefile available in your workspace.\n",
    "  * You can download the zipped shapefile *usa_boundary.zip* including the four *usa_boundary* shapefile files from [the I-GUIDE platform]() or [Kate's GitHub]().\n",
    "\n",
    "### Notebook Overview\n",
    "1. Setup\n",
    "2. Validating and Repairing Geometries\n",
    "3. Aligning Geometries\n",
    "\n",
    "---"
   ]
  },
  {
   "cell_type": "markdown",
   "id": "ade35742-7605-46a6-9631-9ede21ffd58d",
   "metadata": {},
   "source": [
    "## 1. Setup\n",
    "This notebook requires the following R packages and functions.\n",
    "\n",
    "[**sf**](https://cran.r-project.org/web/packages/sf/index.html) · Support for [simple features](https://r-spatial.github.io/sf/articles/sf1.html), a standardized way to encode spatial vector data - Binds to [*GDAL*](https://gdal.org/en/stable) for reading and writing data, to [*GEOS*](https://libgeos.org) for geometrical operations, and to [*PROJ*](https://proj.org/en/stable) for projection conversions and datum transformations - Uses by default the [*s2*](https://cran.r-project.org/web/packages/s2/index.html) package for spherical geometry operations on ellipsoidal (long/lat) coordinates · This notebook uses the following functions from *sf*.\n",
    "\n",
    "* [*geos_binary_ops*](https://rdrr.io/cran/sf/man/geos_binary_ops.html) · geometric operations on pairs of simple feature geometry sets\n",
    "  * *st_snap* · snaps the vertices and segments of a geometry to another geometry's vertices\n",
    "* [*valid*](https://rdrr.io/cran/sf/man/valid.html) · check validity or make an invalid geometry valid\n",
    "  * *st_make_valid* · make an invalid geometry valid\n",
    "  * *st_is_valid* · check validity"
   ]
  },
  {
   "cell_type": "markdown",
   "id": "cb96c67c-04f0-4f38-b04e-157833d294a2",
   "metadata": {},
   "source": [
    "### 1a. Install and Load Required Packages\n",
    "If you have not already installed the required packages, uncomment and run the code below:"
   ]
  },
  {
   "cell_type": "code",
   "execution_count": null,
   "id": "ba909180-0d70-4045-b2eb-0629dbfee0e8",
   "metadata": {},
   "outputs": [],
   "source": [
    "# install.packages(\"sf\")"
   ]
  },
  {
   "cell_type": "markdown",
   "id": "75444a71-0884-4af6-b4b5-fac4b9183fab",
   "metadata": {},
   "source": [
    "Load the packages into your workspace."
   ]
  },
  {
   "cell_type": "code",
   "execution_count": null,
   "id": "e762bcd3-8b1d-450d-9a89-8102b2d4b5ad",
   "metadata": {},
   "outputs": [],
   "source": [
    "library(sf)"
   ]
  },
  {
   "cell_type": "code",
   "execution_count": null,
   "id": "6bdfb42e-625a-490c-aac7-b9a45a9a24cb",
   "metadata": {},
   "outputs": [],
   "source": [
    "# read the shapefile into an sf object\n",
    "usa_boundary <- st_read(\"usa_boundary.shp\")"
   ]
  },
  {
   "cell_type": "markdown",
   "id": "dedcc04a-e3e8-4532-8699-284b9668f80f",
   "metadata": {},
   "source": [
    "## 2. Validating and Repairing Geometries\n",
    "\n",
    "The first step in working with spatial data is to ensure that geometries are valid. Invalid geometries can result from overlapping polygons, self-intersecting lines, or improper ring structures. The [*st_is_valid*](https://rdrr.io/cran/sf/man/valid.html) function checks for geometry validity, while [*st_make_valid*](https://rdrr.io/cran/sf/man/valid.html) attempts to fix invalid geometries."
   ]
  },
  {
   "cell_type": "markdown",
   "id": "9aa07907-4389-4167-b9df-24278c922a71",
   "metadata": {},
   "source": [
    "### 2a. Checking for Invalid Geometries with [*st_is_valid*](https://rdrr.io/cran/sf/man/valid.html)\n",
    "\n",
    "[*st_is_valid*](https://rdrr.io/cran/sf/man/valid.html) returns TRUE for valid geometries and FALSE for invalid ones."
   ]
  },
  {
   "cell_type": "code",
   "execution_count": null,
   "id": "88ac6b5c-12ae-4bae-a96a-d4fe886eef57",
   "metadata": {},
   "outputs": [],
   "source": [
    "#checking validity\n",
    "validity_check <- st_is_valid(usa_boundary)\n",
    "validity_check"
   ]
  },
  {
   "cell_type": "markdown",
   "id": "e2d5008f-571c-4281-9660-8d8b5d43f4bd",
   "metadata": {},
   "source": [
    "### 2b. Validating Invalid Geometries with [*st_make_valid*](https://rdrr.io/cran/sf/man/valid.html)\n",
    "\n",
    "[*st_make_valid*](https://rdrr.io/cran/sf/man/valid.html) repairs geometries using robust algorithms, ensuring compatibility with spatial operations."
   ]
  },
  {
   "cell_type": "code",
   "execution_count": null,
   "id": "d1ac9940-9841-49e9-9f4f-136749f706da",
   "metadata": {},
   "outputs": [],
   "source": [
    "# fixing invalid geometries\n",
    "usa_boundary_fixed <- st_make_valid(usa_boundary)"
   ]
  },
  {
   "cell_type": "code",
   "execution_count": null,
   "id": "d5f7b089-e9ed-40e7-8e9c-28cf7c7e9067",
   "metadata": {},
   "outputs": [],
   "source": [
    "# visualizing the results\n",
    "plot(st_geometry(usa_boundary), main = \"Invalid Geometries\")\n",
    "plot(st_geometry(usa_boundary_fixed), main = \"Valid Geometries\")"
   ]
  },
  {
   "cell_type": "markdown",
   "id": "64c499fd-21b6-4375-8473-b8d34ce75dff",
   "metadata": {},
   "source": [
    "## 3. Aligning Geometries\n",
    "\n",
    "The [*st_snap*](https://rdrr.io/cran/sf/man/geos_binary_ops.html) function adjusts geometries by snapping vertices within a specified distance to a target geometry. This is particularly useful when aligning misaligned geometries or merging datasets with small offsets.  st_snap adjusts misaligned geometries within a specified tolerance distance.  It is ideal for cleaning small inconsistencies in spatial datasets."
   ]
  },
  {
   "cell_type": "code",
   "execution_count": null,
   "id": "b7e71801-ee99-46f6-b01e-71f90933ff41",
   "metadata": {},
   "outputs": [],
   "source": [
    "# example: Aligning geometries using st_snap\n",
    "target_line <- st_sfc(st_linestring(matrix(c(0, 0, 5, 5), ncol = 2, byrow = TRUE)))\n",
    "misaligned_line <- st_sfc(st_linestring(matrix(c(0.2, 0, 5.2, 5.1), ncol = 2, byrow = TRUE)))"
   ]
  },
  {
   "cell_type": "code",
   "execution_count": null,
   "id": "878b201c-61d4-41e4-8e23-13f416431ee5",
   "metadata": {},
   "outputs": [],
   "source": [
    "# visualizing original geometries\n",
    "plot(target_line, col = \"blue\", lwd = 2, main = \"Original and Misaligned Geometries\")\n",
    "plot(misaligned_line, col = \"red\", add = TRUE)"
   ]
  },
  {
   "cell_type": "code",
   "execution_count": null,
   "id": "de59e879-eb8d-4bdb-8cb7-ddce66fbd7da",
   "metadata": {},
   "outputs": [],
   "source": [
    "# snapping geometries\n",
    "snapped_line <- st_snap(misaligned_line, target_line, tolerance = 0.3)"
   ]
  },
  {
   "cell_type": "code",
   "execution_count": null,
   "id": "838c652c-af98-4f8c-a4c7-e09c5c7719ae",
   "metadata": {},
   "outputs": [],
   "source": [
    "# visualizing snapped geometries\n",
    "plot(target_line, col = \"blue\", lwd = 2, main = \"Snapped Geometry\")\n",
    "plot(snapped_line, col = \"green\", add = TRUE)"
   ]
  },
  {
   "cell_type": "markdown",
   "id": "e06cb74b-4af3-44b9-a812-22a5c2602464",
   "metadata": {},
   "source": [
    "## Review\n",
    "\n",
    "This notebook provided an introduction to preparing spatial data in R and validating spatial data geometries using the [*sf*](https://cran.r-project.org/web/packages/sf/index.html) package, including:\n",
    "\n",
    "* Checking for and fixing invalid geometry with [*st_is_valid*](https://rdrr.io/cran/sf/man/valid.html) and [*st_make_valid*](https://rdrr.io/cran/sf/man/valid.html).\n",
    "* Aligning geometries using [*st_snap*](https://rdrr.io/cran/sf/man/geos_binary_ops.html). "
   ]
  },
  {
   "cell_type": "markdown",
   "id": "9e786bb3-557e-4dff-b9e8-7665a145eccb",
   "metadata": {},
   "source": [
    "---\n",
    "\n",
    "## Next Steps\n",
    "\n",
    "* Move on to Chapter 3: IPUMS Data Acquisition and Extraction\n",
    "  * [**Chapter 3.01 IPUMS USA Data Extraction using ipumsr**]()\n",
    "  * [**Chapter 3.02 IPUMS NHGIS Data Extraction using ipumsr**]()\n",
    "* Move on to Chapter 4: Open-Source GIS Data Acquisition and Extraction\n",
    "  * [**Chapter 4.01 Importing Data from Natural Earth with rnaturalearth and rnaturalearthdata**]()\n",
    "* Return to the [**R Spatial Notebooks Project Chapter List**](https://vavramusser.github.io/r-spatial/#:~:text=Chapter%201%3A%20Data%20Sources%20and%20APIs) to view a list of all available notebooks organized in the R Spatial Notebooks chapter structure.\n",
    "* Visit the [**R Spatial Notebooks Project Homepage**](https://vavramusser.github.io/r-spatial) to learn more about the project, view the list of all notebooks, and explore additional resources.\n",
    "* Join the project [**Mailing List**](https://mailchi.mp/ab01e8fc8397/r-spatial-email-signup) to hear about future notebook releases and other updates.\n",
    "* If you have an idea for a new notebook please submit your idea via the [**Suggestion Box**](https://us19.list-manage.com/survey?u=746bf8d366d6fbc99c699e714&id=54590a28ea&attribution=false).\n",
    "\n",
    "---\n",
    "\n",
    "## ★ Thank You ★\n",
    "\n",
    "Thank you so much for engaging with this notebook and supporting the project!  The R Spatial Notebooks Project is a labor of love so if you enjoy or benefit from these notebooks, please consider [**Donating to the Project**](https://buymeacoffee.com/vavramusser).  Your support allows me to continue producing notebooks and supporting the R Spatial Notebooks community."
   ]
  }
 ],
 "metadata": {
  "kernelspec": {
   "display_name": "R",
   "language": "R",
   "name": "ir"
  },
  "language_info": {
   "codemirror_mode": "r",
   "file_extension": ".r",
   "mimetype": "text/x-r-source",
   "name": "R",
   "pygments_lexer": "r",
   "version": "4.3.3"
  }
 },
 "nbformat": 4,
 "nbformat_minor": 5
}
