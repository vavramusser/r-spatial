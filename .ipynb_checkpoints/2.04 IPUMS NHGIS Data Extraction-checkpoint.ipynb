{
 "cells": [
  {
   "cell_type": "markdown",
   "id": "72003a39-c3a2-4e91-831a-c504e260f92a",
   "metadata": {},
   "source": [
    "# IPUMS NHGIS Data Extraction Using ipumsr"
   ]
  },
  {
   "cell_type": "markdown",
   "id": "1946f837-bf45-4140-a611-445463e263ad",
   "metadata": {},
   "source": [
    "## Introduction\n",
    "The [IPUMS NHGIS](https://www.nhgis.org) database offers harmonized summary data and geographic boundary files from U.S. censuses and surveys, providing a resource for spatial analysis of demographic, social, and economic trends. It enables users to access aggregated data at various geographic levels, such as states, counties, and census tracts, facilitating the exploration of population dynamics and regional patterns over time. Through harmonization, IPUMS NHGIS ensures that data can be seamlessly compared across years, despite changes in geographic boundaries, variable definitions, and survey methodologies.\n",
    "\n",
    "**From the [IPUMS NHGIS Webpage](https://www.nhgis.org):** The National Historical Geographic Information System (NHGIS) provides easy access to summary tables and time series of population, housing, agriculture, and economic data, along with GIS-compatible mapping files, for years from 1790 through the present and for all levels of U.S. census geography, including states, counties, tracts, and blocks.\n",
    "\n",
    "This notebook introduces the process of extracting [IPUMS NHGIS](https://www.nhgis.org) data using the [IPUMS API](https://developer.ipums.org/docs/v2/apiprogram) via the [ipumsr R package](https://cran.r-project.org/web/packages/ipumsr/index.html). Users will learn how to define, submit, and download an IPUMS NHGIS data extract, specifying desired variables, time periods, and geographic units for analysis. By the end of this notebook, users will have the skills to efficiently acquire customized IPUMS NHGIS datasets and prepare them for spatial and statistical workflows.\n",
    "\n",
    "### ★ Prerequisites ★\n",
    "* Complete Chapter 1.1: Introduction to IPUMS and the IPUMS API\n",
    "* Set Up Your [IPUMS Account and API Key](https://account.ipums.org/api_keys)\n",
    "\n",
    "### Notebook Overview\n",
    "1. Setup\n",
    "2. IPUMS NHGIS Time-Series Data Metadata Exploration\n",
    "3. IPUMS NHGIS Geography Shapefile Metadata Exploration\n",
    "4. IPUMS NHGIS Time-Series Data and Geography Shapefile Extraction Specification and Submission\n",
    "5. Subset and Merge the Time-Series and Geography Data Extractions"
   ]
  },
  {
   "cell_type": "markdown",
   "id": "e98b0d57-13c7-49d7-8511-85fb37e1b296",
   "metadata": {},
   "source": [
    "## 1. Setup\n",
    "This section will guide you through the process of installing essential packages and setting your IPUMS API key.\n",
    "\n",
    "#### Required Packages\n",
    "\n",
    "[**dplyr**](https://cran.r-project.org/web/packages/dplyr/index.html) A Grammar of Data Manipulation. This notebook uses the the following functions from *dplyr*.\n",
    "\n",
    "* [*filter*](https://rdrr.io/cran/dplyr/man/filter.html) · keep rows that match a condition\n",
    "* [*select*](https://rdrr.io/cran/dplyr/man/select.html) · keep or drop columns using their names and types\n",
    "* [*rename*](https://rdrr.io/cran/dplyr/man/rename.html) · rename columns\n",
    "* This notebook also uses [*%>%*](https://magrittr.tidyverse.org/reference/pipe.html), referred to as the *pipe* operator, which is used to pass the output from one function directly into the next function for the purpose of creating streamlined workflows.  The *pipe* operator is a commonly used component of the [*tidyverse*](https://www.tidyverse.org).\n",
    "\n",
    "[**ipumsr**](https://cran.r-project.org/web/packages/ipumsr/index.html) An R Interface for Downloading, Reading, and Handling IPUMS Data.  This notebook uses the the following functions from *ipumsr*.\n",
    "\n",
    "* [*define_extract_nhgis*](https://rdrr.io/cran/ipumsr/man/define_extract_nhgis.html) · define an IPUMS NHGIS extract request\n",
    "* [*download_extract*](https://rdrr.io/cran/ipumsr/man/download_extract.html) · download a completed IPUMS data extract\n",
    "* [*get_metadata_nhgis*](https://rdrr.io/cran/ipumsr/man/get_metadata_nhgis.html) · list available data sources from IPUMS NHGIS\n",
    "* [*read_ipums_sf*](https://rdrr.io/cran/ipumsr/man/read_ipums_sf.html) · read spatial data from an IPUMS extract\n",
    "* [*read_nhgis*](https://rdrr.io/cran/ipumsr/man/read_nhgis.html) · read tabular data from an NHGIS extract\n",
    "* [*set_ipums_api_key*](https://rdrr.io/cran/ipumsr/man/set_ipums_api_key.html) · set your IPUMS API key\n",
    "* [*submit_extract*](https://rdrr.io/cran/ipumsr/man/submit_extract.html) · submit an extract request via the IPUMS API\n",
    "* *tst_spec* · create a *tst_spec* object containing a time series table specification\n",
    "* [*wait_for_extract*](https://rdrr.io/cran/ipumsr/man/wait_for_extract.html) · wait for an extract to finish processing\n",
    "\n",
    "[**purrr**](https://cran.r-project.org/web/packages/purrr/index.html) A complete and consistent functional programming toolkit for R. This notebook uses the the following functions from *purrr*.\n",
    "\n",
    "* [*map()*](https://rdrr.io/cran/purrr/man/map.html) and [*map_dfr()*](https://rdrr.io/cran/purrr/man/map_dfr.html) · apply a function to each element of a vector"
   ]
  },
  {
   "cell_type": "markdown",
   "id": "29497545-6fb3-4990-bcab-b23ea3d9d5f1",
   "metadata": {},
   "source": [
    "### 1a. Install and Load Required Packages\n",
    "If you have not already installed the required packages, uncomment and run the code below:"
   ]
  },
  {
   "cell_type": "code",
   "execution_count": null,
   "id": "1b426c39-2d8d-4562-a284-d063f6f918e7",
   "metadata": {},
   "outputs": [],
   "source": [
    "# install.packages(\"dplyr\", \"ipumsr\", \"purr\")"
   ]
  },
  {
   "cell_type": "markdown",
   "id": "cd438188-d2c1-4a3d-8cec-55408980826e",
   "metadata": {},
   "source": [
    "Load the packages into your workspace."
   ]
  },
  {
   "cell_type": "code",
   "execution_count": null,
   "id": "65683ba8-4ee0-447f-8cd3-36e76f469f71",
   "metadata": {},
   "outputs": [],
   "source": [
    "library(dplyr)\n",
    "library(ipumsr)\n",
    "library(purrr)"
   ]
  },
  {
   "cell_type": "markdown",
   "id": "d5b81dee-1b3e-4ac2-9649-a38f28f37c45",
   "metadata": {},
   "source": [
    "### 1b. Set Your IPUMS API Key\n",
    "\n",
    "Store your [IPUMS API key](https://account.ipums.org/api_keys) in your environment using the following code.\n",
    "\n",
    "Refer to *Chapter 1.1: Introduction to IPUMS and the IPUMS API* for instructions on setting up your IPUMS account and API key."
   ]
  },
  {
   "cell_type": "code",
   "execution_count": null,
   "id": "cf136374-a2ee-4a3f-a633-fe33e23c48e8",
   "metadata": {},
   "outputs": [],
   "source": [
    "ipumps_api_key = readline(\"Please enter your IPUMS API key: \")\n",
    "set_ipums_api_key(ipumps_api_key, save = T, overwrite = T)"
   ]
  },
  {
   "attachments": {},
   "cell_type": "markdown",
   "id": "4c68d863-f0c8-4394-b289-7d021433e46c",
   "metadata": {},
   "source": [
    "## 2. NHGIS Time-Series Data Metadata Exploration\n",
    "\n",
    "The NHGIS provides a variety of time-series tables, each representing collections of population data over different years. This section helps you identify the right datasets for your analysis by exploring the available time-series tables and filtering them based on specific criteria.\n",
    "\n",
    "#### Steps:\n",
    "1. Retrieve metadata for available time-series datasets.\n",
    "2. Filter and display datasets that focus on a specific topic.\n",
    "3. Identify which years and geographic levels are covered by each dataset.\n",
    "4. Select a dataset for extration.\n",
    "\n",
    "### 2a. Retrieve Time-Series Metadata\n",
    "First we will take a look at the list available NHGIS time-series datasets which includes hundreds of data tables.  Running the code below will provide a snapshot of the first ten datasets in the list."
   ]
  },
  {
   "cell_type": "code",
   "execution_count": null,
   "id": "34f2d502-001d-474e-a02e-a5529c64bb1f",
   "metadata": {},
   "outputs": [],
   "source": [
    "# get list of time-series dataset metadata\n",
    "datts_meta <- get_metadata_nhgis(\"time_series_tables\") %>% print(n = 10)"
   ]
  },
  {
   "cell_type": "markdown",
   "id": "db5b9822-fbc1-40e7-9a65-1149ae59e936",
   "metadata": {},
   "source": [
    "Note that each entry in the list includes not only the description and reference code for the dataset but also [tibbles](https://tibble.tidyverse.org) for \"time_series\", \"years\", and \"geog_levels\".  The information in the tibbles is not visualized in this high-level view of the data but you can imagine that for each \"\\<tibble>\" entry there is another table of information containing additional details on the available data.  We will zoom in deeper in the following steps and you will be able to view the data contained within these tibbles.\n",
    "\n",
    "This wealth of data is overwhelming and it is unlikely anyone would need it all for a single project.  So in the next step, we will programmatically filter the metadata to select only the datasets focused on a specific topic."
   ]
  },
  {
   "cell_type": "markdown",
   "id": "d276d141-1eda-4c17-a403-0f5a8e95cf3e",
   "metadata": {},
   "source": [
    "### 2b. Filter Metadata Based on Criteria\n",
    "\n",
    "You will use the following code to retrieve metadata on available NHGIS time-series datasets and filter them to find datasets that focus on a specific topic.\n",
    "\n",
    "In this example, we will explore only the datasets which focus on total population.  Therefore, we will filter the entire list of datasets to find the subset of datasets whcih include the phrase \"total population\" in the description."
   ]
  },
  {
   "cell_type": "code",
   "execution_count": null,
   "id": "ced3ca38-dd98-442e-840d-6dd76d05547f",
   "metadata": {},
   "outputs": [],
   "source": [
    "description_filter <- \"total population\""
   ]
  },
  {
   "cell_type": "code",
   "execution_count": null,
   "id": "da1ccea9-a365-458d-8600-dbc7edc8212e",
   "metadata": {},
   "outputs": [],
   "source": [
    "datts_meta_filter <- datts_meta %>% filter(grepl(description_filter, description, ignore.case = T)) %>% select(name, description) %>% as.data.frame() %>% print()"
   ]
  },
  {
   "cell_type": "markdown",
   "id": "d072c7bb-43d2-4197-b862-6aeb6d46edf9",
   "metadata": {},
   "source": [
    "Using \"total population\" as a filter resulted in four potential datasets.  For additional detailed information NHGIS time-series datasets, refer to the [NHGIS Time Series Tables lookup document](https://assets.nhgis.org/NHGIS_Time_Series_Tables.pdf).\n",
    "\n",
    "Next we will take a look at the metadata for this selection of datasets datasets to determine which of the datasets includes information on the time range and geographies we are interested in."
   ]
  },
  {
   "cell_type": "markdown",
   "id": "acfc1e15-ad82-4790-bcd8-d2fbfdddd354",
   "metadata": {},
   "source": [
    "### 2c. Identify Available Years and Geographic Levels\n",
    "\n",
    "This step will display the available years and geographic levels for the filtered datasets. This will help you decide which dataset best suits your analysis.\n",
    "\n",
    "You can use the *get_metadata_nhgis* command to view metadata for a specific NHGIS time-series table using the table's code.  The following example shows the metadata for table \"CL8\"."
   ]
  },
  {
   "cell_type": "code",
   "execution_count": null,
   "id": "f998802a-203f-46bb-8b95-6af790c8ba93",
   "metadata": {},
   "outputs": [],
   "source": [
    "get_metadata_nhgis(time_series_table = \"CL8\")"
   ]
  },
  {
   "cell_type": "markdown",
   "id": "29e13a9d-cc92-456d-ae13-fa6a6b65720f",
   "metadata": {},
   "source": [
    "The metadata view shows that the CL8 time-series table includes total population information for 1990, 2000, 2010, and 2020 and for a variety of geographic levels.  Here we can see the information included in the \"time_series\", \"years\", and \"geog_levels\" tibbles which were obscured in the high-level view in step 2a.\n",
    "\n",
    "We could repeat this process for each table from our data filtering proces, but to save us some time, the code below takes the name, description, years, and geograpic levels information for each of the tables in our filtering results and presents the metadata in a simple reference table."
   ]
  },
  {
   "cell_type": "code",
   "execution_count": null,
   "id": "d1be7982-9fde-45b2-830f-21536d5708bc",
   "metadata": {},
   "outputs": [],
   "source": [
    "# get metadata for each time-series table\n",
    "metadata_list <- map(datts_meta_filter$name, ~ get_metadata_nhgis(time_series_table = .x))\n",
    "\n",
    "# combine into a data frame with the necessary columns\n",
    "metadata_combined <- map_dfr(metadata_list, function(metadata) {\n",
    "  data.frame(\n",
    "    name = metadata$name,\n",
    "    description = metadata$description,\n",
    "    # Extract only the \"description\" column from the nested tibbles in \"years\" and \"geog_levels\"\n",
    "    years = paste(metadata$years$description, collapse = \", \"),\n",
    "    geog_levels = paste(metadata$geog_levels$name, collapse = \", \")\n",
    "  )\n",
    "})\n",
    "\n",
    "# print the final data frame\n",
    "metadata_combined"
   ]
  },
  {
   "cell_type": "markdown",
   "id": "fbaf2630-34dd-4619-8c1a-304008143778",
   "metadata": {},
   "source": [
    "Taking a look at these results, we can easily see the available years and geographies for each of the time-series tables we identified in our filtering process.\n",
    "\n",
    "Note that the lists of year ranges include both single years (e.g. \"2000\") corresponding to Decennial Census population counts and year ranges (e.g. \"2008-2012\") corresponding to five-year average population estimates from the [American Community Survey (ACS)](https://www.census.gov/programs-surveys/acs)."
   ]
  },
  {
   "cell_type": "markdown",
   "id": "3649a6a8-48e0-4b8b-a460-02cad0868a32",
   "metadata": {},
   "source": [
    "### 2d. Select a Dataset\n",
    "\n",
    "Once we have decided on a specific dataset, we will save the table's code for use in our data extration later on.\n",
    "\n",
    "In this example, we select the 2010 harmonized dataset (CL8), which aligns data to standardized 2010 geographies.  But you can change this line of code to correspond to whichever dataset you want.  You can also select multiple datasets using a list (e.g. *c(\"CL8\", \"A00\")*).  However, if you choose to select multiple dataseta, be mindful of the differences in available years and geographies for the datasets in your selection."
   ]
  },
  {
   "cell_type": "code",
   "execution_count": null,
   "id": "beb219d2-fa44-4a90-844d-6b466cb4ea3f",
   "metadata": {},
   "outputs": [],
   "source": [
    "selection_datts <- \"CL8\""
   ]
  },
  {
   "cell_type": "markdown",
   "id": "df51bfe5-2dc5-4d22-9361-6c4532d33e7c",
   "metadata": {},
   "source": [
    "Now that we have selected our dataset, let's review its complete metadata details.  Verfity that you have selected the correct dataset and that our selection meets your data needs."
   ]
  },
  {
   "cell_type": "code",
   "execution_count": null,
   "id": "a9007030-ac86-44b1-bd5e-efa9c569147b",
   "metadata": {},
   "outputs": [],
   "source": [
    "get_metadata_nhgis(time_series_table = selection_datts)"
   ]
  },
  {
   "cell_type": "markdown",
   "id": "d4a95cdd-2313-498c-9d0c-d2438cced412",
   "metadata": {},
   "source": [
    "## 3. NHGIS Geography Shapefile Metadata Exploration\n",
    "\n",
    "As we saw in our metadata exploration above, the available geography levels vary based on the dataset.  If we want to extract geographic data along with the our datatable, we will need to review the available geographic data files and select an appropriate file for use with our data.\n",
    "\n",
    "#### Steps:\n",
    "1. Review dataset metadata.\n",
    "2. Retrieve metadata for available shapefiless.\n",
    "3. Filter and display shapefiles based on years and geographic level.\n",
    "5. Select a shapefile for extration."
   ]
  },
  {
   "cell_type": "markdown",
   "id": "672e3b73-804c-48c1-88b9-4c7c92d0fa20",
   "metadata": {},
   "source": [
    "### 3a. Review Time-Series Data Metadata\n",
    "\n",
    "First we should review which geographies are available for our selected datatable and select a geographic level for our extraction."
   ]
  },
  {
   "cell_type": "code",
   "execution_count": null,
   "id": "24ac08e4-2ba7-44b2-adfb-4bf2652db967",
   "metadata": {},
   "outputs": [],
   "source": [
    "get_metadata_nhgis(time_series_table = selection_datts)$geog_levels"
   ]
  },
  {
   "cell_type": "markdown",
   "id": "4cf6aaae-bf3f-4b7b-8e8e-6cbc11a58080",
   "metadata": {},
   "source": [
    "Select one of the available geographies and save it for use in our data extration later on.\n",
    "\n",
    "In this example, we select the Census tract (\"tract\") geographies.  But you can change this line of code to correspond to whichever geography you want.  Similar to the datast selection in step 2d, you can also select multiple geographies using a list (e.g. *c(\"state\", \"county\")*)."
   ]
  },
  {
   "cell_type": "code",
   "execution_count": null,
   "id": "700c6ca8",
   "metadata": {},
   "outputs": [],
   "source": [
    "selection_geog <- \"tract\""
   ]
  },
  {
   "cell_type": "markdown",
   "id": "f658bf8f-4a2a-49a6-b143-b8dfdc65b62a",
   "metadata": {},
   "source": [
    "### 3b. Retrieve Geography Metadata\n",
    "\n",
    "Shapefiles are a type of file format which contain geographic boundaries.  This type of file is essential for spatial analysis.  This section retrieves and filters shapefile metadata to identify shapefiles which correspond to our selected year and geography.  This filtering step ensures you have the correct geographic boundaries for the population data."
   ]
  },
  {
   "cell_type": "code",
   "execution_count": null,
   "id": "57327c9c-3f3f-434f-8093-2c8aabe6b851",
   "metadata": {},
   "outputs": [],
   "source": [
    "shp_meta <- get_metadata_nhgis(\"shapefiles\")"
   ]
  },
  {
   "cell_type": "markdown",
   "id": "21212492-840a-463a-8577-681446a4af23",
   "metadata": {},
   "source": [
    "### 3c. Filter Geography Metadata Based on Year and Geography\n",
    "\n",
    "For this exercise, we will extract a set of shapefiles at your previously-selected geography as well as a specific year.  As we saw in our metadata exploration above, the available geography levels vary based on the dataset.\n",
    "\n",
    "For this filtering step, you should also filter based on the year.  For this exercise, we are using time-series table CL8 which contains information on total population harmonized to 2010 geographies.  Therefore, we should only select a shapefile which corresponds to 2010 geographies."
   ]
  },
  {
   "cell_type": "code",
   "execution_count": null,
   "id": "5ab9a0cb-74c4-419c-8cd6-bb18921494cd",
   "metadata": {},
   "outputs": [],
   "source": [
    "selection_year <- \"2010\""
   ]
  },
  {
   "cell_type": "markdown",
   "id": "f09c12d6-3e47-47eb-99f7-516ef589a242",
   "metadata": {},
   "source": [
    "If you are unfamiliar with Census geographies, it might sound strange to include a year specification in this filtring step.  For large geographies, such as \"nation\" or \"state\", the year is relatively unimportant because the boundaries of these regions are not redrawn from year to year.  However, for smaller geographies, especially those related to the U.S. Decennial Census, such as \"tract\", \"block\" or \"blck_grp\" (block group), and as those related to political districts, such as \"cd\" (congressional district), the boundary of the grography can change over time.  Census tract, block group, and block boundaries are redrawn for each Decennial Census based on population numbers, and Congressional Districts are often redrawn for new congresional elections.  For this reason, it is essential to correspond your shapefile selection to your time-series data extraction.\n",
    "\n",
    "Run the code below to list the available shapefiles based on your year and geography specifications."
   ]
  },
  {
   "cell_type": "code",
   "execution_count": null,
   "id": "bc870bcd-ba3b-4c94-98f2-aacabb906d4d",
   "metadata": {},
   "outputs": [],
   "source": [
    "shp_meta %>% filter(year == selection_year & grepl(selection_geog, geographic_level, ignore.case = T)) %>% print(n = Inf)"
   ]
  },
  {
   "cell_type": "markdown",
   "id": "50ce420a-65cc-413f-b8a5-6fd9a7934bf9",
   "metadata": {},
   "source": [
    "The filtering step provides us with a list of potential shapefiles we can use for our extraction based on the year and geography criteria."
   ]
  },
  {
   "cell_type": "markdown",
   "id": "3f2acbf0-fa8b-45c8-9c67-d44b7c795871",
   "metadata": {},
   "source": [
    "### 3d. Select a Geography Shapfile\n",
    "\n",
    "For this exercise, we will select the 2010 Census tract dataset based on the 2010 TIGER line files (file \"us_tract_2010_tl2010\").  And wee will save this selection for use later in our data extraction step."
   ]
  },
  {
   "cell_type": "code",
   "execution_count": null,
   "id": "a2cdadfb-24ad-4c55-a6c5-64f36c30e354",
   "metadata": {},
   "outputs": [],
   "source": [
    "selection_shp <- \"us_tract_2010_tl2010\""
   ]
  },
  {
   "cell_type": "markdown",
   "id": "097ffa3a-9550-4ccd-bc2e-cdc53ccdcff7",
   "metadata": {},
   "source": [
    "## 4. NHGIS Time-Series Dataset and Geography Shapefile Extraction Specification and Submission\n",
    "\n",
    "Now that you've identified your dataset and shapefile, this section defines and submits an extraction request to the IPUMS NHGIS API. Extracting data from IPUMS NHGIS allows you to download specific datasets and geographical data directly from the IPUMS server. This method makes it easy to automate and reproduce data requests.  The extraction will include both the selected time-series data and the corresponding shapefiles.\n",
    "\n",
    "#### Steps:\n",
    "1. Define and Run the Data Extraction\n",
    "2. Review the Data Extraction"
   ]
  },
  {
   "cell_type": "markdown",
   "id": "68c3f813-fa35-401d-a351-d1012a86e9db",
   "metadata": {},
   "source": [
    "### 4a. Define the Extraction Parameters and Run the Extraction\n",
    "\n",
    "Here we will put everything together including out time series data table selection (selection_datts), our selected geography (selection_geog), and our selected shapefiles (selection_shp)."
   ]
  },
  {
   "cell_type": "code",
   "execution_count": null,
   "id": "06d6fbfd-9e94-47c5-8fac-78dbb8983e76",
   "metadata": {},
   "outputs": [],
   "source": [
    "extraction <- define_extract_nhgis(description = \"I-GUIDE IPUMS Population Change Extraction\",\n",
    "                                   time_series_tables = tst_spec(name = selection_datts,\n",
    "                                                                 geog_levels = selection_geog),\n",
    "                                   shapefiles = selection_shp)"
   ]
  },
  {
   "cell_type": "markdown",
   "id": "560de1c0-afbc-4a84-8260-9688df775926",
   "metadata": {},
   "source": [
    "Submit the extraction request and wait for it to complete, then download the resulting data."
   ]
  },
  {
   "cell_type": "code",
   "execution_count": null,
   "id": "6c955fa7",
   "metadata": {},
   "outputs": [],
   "source": [
    "# submit extraction  \n",
    "extraction_submitted <- submit_extract(extraction)\n",
    "\n",
    "# wait for completion\n",
    "extraction_complete <- wait_for_extract(extraction_submitted)\n",
    "\n",
    "# check completion\n",
    "extraction_complete$status\n",
    "\n",
    "# get extraction filepath\n",
    "filepath <- download_extract(extraction_submitted, overwrite = T)"
   ]
  },
  {
   "cell_type": "markdown",
   "id": "d2cc34a6-2b19-4dba-bd01-40c70d9e276c",
   "metadata": {},
   "source": [
    "### 4b. Review the Extracted Files\n",
    "If you followed along with this exercise, your data extraction and download should contain the following two files.  If you expanded your extraction to additional datasets and shapefiles, you extraction will contain additional files.\n",
    "\n",
    "1. A dataset containing total population by Census tract (based on 2010 Census tract boundaries) for all available years in the CL8 time-series dataset (1990, 2000, 2010, and 2020).\n",
    "2. A shapefile with 2010 Census tract boundaries."
   ]
  },
  {
   "cell_type": "code",
   "execution_count": null,
   "id": "99208189-2bfd-4a72-acb9-e4176842631b",
   "metadata": {},
   "outputs": [],
   "source": [
    "# see files in extract\n",
    "dat_raw <- read_nhgis(filepath[1])\n",
    "shp_raw <- read_ipums_sf(filepath[2])"
   ]
  },
  {
   "cell_type": "code",
   "execution_count": null,
   "id": "bad40933-267f-4531-8a63-11f23ad09419",
   "metadata": {},
   "outputs": [],
   "source": [
    "head(dat_raw)"
   ]
  },
  {
   "cell_type": "markdown",
   "id": "eaf1837a-2471-4b58-92c8-5c375e9a841c",
   "metadata": {},
   "source": [
    "## 5. Subset and Merge the Time-Series and Geography Data Extractions"
   ]
  },
  {
   "cell_type": "markdown",
   "id": "81be6dac-76b3-4f7e-a50e-0acdb70955a3",
   "metadata": {},
   "source": [
    "This final section provides a few example data engineering next steps for reference.\n",
    "\n",
    "1. First, the time-series population data is condensed to include only population counts from 1990, 2000, 2010, and 2020 and the column \"GISJOIN\" which contains unique codes for each Census tract.\n",
    "2. Next, the population count columns are renamed.\n",
    "3. Then the Census tract shapefile is condensed to include only the state FIPS code and \"GISJOIN\" columns.\n",
    "4. Finally, the time-series population data is mrged with the Census tract shapefile using the unique \"GISJOIN\" column as the join key."
   ]
  },
  {
   "cell_type": "markdown",
   "id": "476d05b3-3321-45e6-bac0-ec1bd1a18fdb",
   "metadata": {},
   "source": [
    "### 5a. Subset the Time-Series and Geography Data\n",
    "\n"
   ]
  },
  {
   "cell_type": "code",
   "execution_count": null,
   "id": "83867576-a128-4e71-8065-b7931ba4915d",
   "metadata": {},
   "outputs": [],
   "source": [
    "# subset the time-series data to only necessary columns\n",
    "dat <- dat_raw[c(\"GISJOIN\", \"CL8AA1990\", \"CL8AA2000\", \"CL8AA2010\", \"CL8AA2020\")]\n",
    "\n",
    "# subset the shapefile to only necessary columns\n",
    "shp <- shp_raw[c(\"GISJOIN\", \"STATEFP10\")]"
   ]
  },
  {
   "cell_type": "markdown",
   "id": "e7c27f46-459a-4f3a-99a4-28178faf80aa",
   "metadata": {},
   "source": [
    "### 5b. Merge the Time-Series and Geography Data "
   ]
  },
  {
   "cell_type": "code",
   "execution_count": null,
   "id": "935d7e5c-f3e1-464b-8893-e57ef219d7e2",
   "metadata": {},
   "outputs": [],
   "source": [
    "# merge the time-series population data with the Censuss tract shapefile\n",
    "dat <- merge(dat, shp, by = \"GISJOIN\")"
   ]
  },
  {
   "cell_type": "markdown",
   "id": "dfca8c9f-2653-423d-b71b-24bbc8e12a0f",
   "metadata": {},
   "source": [
    "The final merged includes total population for 1990, 2000, 2010, and 2020 attached to the geographic boundaries of the 2010 Census tracts.  The code below provides a snapshot of the first ten lines in the final merged dataset."
   ]
  },
  {
   "cell_type": "code",
   "execution_count": null,
   "id": "59fa05f2-af45-45ed-91e7-8ad2cc99467d",
   "metadata": {},
   "outputs": [],
   "source": [
    "head(dat)"
   ]
  },
  {
   "cell_type": "markdown",
   "id": "05a80015-ce9c-4b51-ab23-35eafbcf9b81",
   "metadata": {},
   "source": [
    "## Conclusion\n",
    "This script provides a step-by-step guide to extracting and preparing U.S. Census population data from the IPUMS NHGIS for spatial analysis. By following this approach, social scientists and researchers can automate data extraction tasks, save time, and ensure reproducibility.\n",
    "\n",
    "The data and shapefile merging capabilities allow users to explore population trends across various geographic levels and time periods. Feel free to customize the script to fit your specific research needs."
   ]
  },
  {
   "cell_type": "markdown",
   "id": "313811a9-d540-4615-b871-ae4ebbee5cd4",
   "metadata": {},
   "source": [
    "## Recommended Next Steps\n",
    "* **Continue with Chapter 2: IPUMS Data Acquisition and Extraction**\n",
    "  * 2.1: IPUMS USA Data Extraction Using ipumsr\n",
    "  * 2.2: IPUMS CPS Data Extraction Using ipumsr\n",
    "  * 2.3: IPUMS International Microdata Extraction Using ipumsr\n",
    "  * 2.5: IPUMS Time Use Data Extraction Using ipumsr\n",
    "  * 2.6: IPUMS Health Surveys Data Extraction Using ipumsr\n",
    "  * 2.7: Reading IPUMS Global Health Data Extracts Using ipumsr\n",
    "  * 2.8: Reading IPUMS Higher Education Data Extracts Using ipumsr\n",
    "* **Move on to Chapter 3: Data Cleaning and Preparation**\n",
    "  * 3.2: Spatial Data Preparation and Transformation with IPUMS NHGIS"
   ]
  },
  {
   "cell_type": "markdown",
   "id": "4570aa6d-f6cd-436a-87d5-6788778bd601",
   "metadata": {},
   "source": [
    "## Quick Code\n",
    "\n",
    "Don't forget to update the code with your IPUMS API key!"
   ]
  },
  {
   "cell_type": "code",
   "execution_count": null,
   "id": "18f6faec-198e-4867-a630-fd27a51a124b",
   "metadata": {},
   "outputs": [],
   "source": [
    "# install necessary packages\n",
    "#install.packages(\"dplyr\", \"ipumsr\", \"purr\")\n",
    "\n",
    "# load necessary libraries\n",
    "library(dplyr)\n",
    "library(ipumsr)\n",
    "library(purrr)\n",
    "\n",
    "# set IPUMS API key\n",
    "ipums_api_key <- \"paste your api key here\"\n",
    "set_ipums_api_key(ipums_api_key, save = T, overwrite = T)\n",
    "\n",
    "# define extract specifications\n",
    "selection_datts <- \"CL8\"                  # time-series data table\n",
    "selection_geog <- \"tract\"                 # geographic level\n",
    "selection_year <- \"2010\"                  # year(s)\n",
    "selection_shp <- \"us_tract_2010_tl2010\"   # shapefile\n",
    "\n",
    "# set up the data extraction\n",
    "extraction <- define_extract_nhgis(description = \"IPUMS NHGIS Data Extraction\",\n",
    "                                   time_series_tables = tst_spec(name = selection_datts,\n",
    "                                                                 geog_levels = selection_geog,\n",
    "                                                                 years = selection_year),\n",
    "                                   shapefiles = selection_shp)\n",
    "\n",
    "# submit extraction and extract the data\n",
    "extraction_submitted <- submit_extract(extraction)                  # submit the extraction  \n",
    "extraction_complete <- wait_for_extract(extraction_submitted)       # wait for completion\n",
    "extraction_complete$status                                          # check completion\n",
    "filepath <- download_extract(extraction_submitted, overwrite = T)   # get extraction filepath\n",
    "\n",
    "# extract the files\n",
    "dat_raw <- read_nhgis(filepath[1])\n",
    "shp_raw <- read_ipums_sf(filepath[2])\n",
    "\n",
    "# merge the data and geography files\n",
    "dat <- merge(dat_raw, shp_raw, by = \"GISJOIN\")\n",
    "\n",
    "# save as RDS file\n",
    "saveRDS(dat, \"dat_ipums_nhgis.rds\", )"
   ]
  }
 ],
 "metadata": {
  "kernelspec": {
   "display_name": "R",
   "language": "R",
   "name": "ir"
  },
  "language_info": {
   "codemirror_mode": "r",
   "file_extension": ".r",
   "mimetype": "text/x-r-source",
   "name": "R",
   "pygments_lexer": "r",
   "version": "4.3.3"
  }
 },
 "nbformat": 4,
 "nbformat_minor": 5
}
