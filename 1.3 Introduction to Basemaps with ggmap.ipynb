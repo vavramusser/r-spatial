{
 "cells": [
  {
   "cell_type": "markdown",
   "id": "83d6607e-deb6-4d46-a9e4-2395beb58d15",
   "metadata": {},
   "source": [
    "# Introduction to Basemaps with ggmap"
   ]
  },
  {
   "cell_type": "markdown",
   "id": "8e75db4a-7c33-4a6c-b789-e75bb95fb030",
   "metadata": {},
   "source": [
    "The [ggmap package](https://cran.r-project.org/web/packages/ggmap/index.html) retrieves basemaps from various sources (e.g., Google Maps, OpenStreetMap, Stadia). Many of these basemaps require an API key, so this section walks users through obtaining and setting up an API key, if necessary.\n",
    "\n",
    "1. Install and load the ggmap package.\n",
    "2. Set up an API key for Google Maps (if desired) or use open basemap sources like Stamen.\n",
    "\n",
    "For example, Stadia Maps offer basemap options like toner, terrain, and watercolor.\n",
    "\n",
    "The ggmap package includes functionality for retrieving tile servers from [OpenStreetMap](https://www.openstreetmap.org), [Stadia Maps](https://stadiamaps.com), and [Stamen Maps](https://maps.stamen.com) (now part of the Stadia Maps server) as well as static maps from [Google Maps](https://mapsplatform.google.com)."
   ]
  },
  {
   "cell_type": "markdown",
   "id": "971a4734-8c44-45d1-85a2-a51f1e0e21c0",
   "metadata": {},
   "source": [
    "### Stadia Maps and Stamen Maps\n",
    "\n",
    "To obtain an API key and enable services visit the [Stadia Maps website](https://client.stadiamaps.com/signup). Stadia Maps is completely free for non-commercial and evaluation use and no credit card is required to sign up.\n",
    "\n",
    "As of 2023, [Stamen Maps](https://maps.stamen.com) tile services are hosted by Stadia Maps and are included in the Stadia Maps API access.\n",
    "\n",
    "\n",
    "#### Create Your Stadia Maps Account and API Key\n",
    "\n",
    "To use the Stadia Maps API with ggplot, users need to [set up a Stadia Maps account](https://client.stadiamaps.com/signup).  Once you have set up a Stadia Maps account, return to your account information to view your Stadia Maps API key."
   ]
  },
  {
   "cell_type": "markdown",
   "id": "85ba4ce6-5b46-4af2-8995-8ced08c771b8",
   "metadata": {},
   "source": [
    "### Google Maps\n",
    "\n",
    "As of mid-2018, the [Google Maps Platform](https://mapsplatform.google.com) requires a registered API key. While this alleviates previous burdens (e.g. query limits), it creates some challenges as well. The most immediate challenge for most R users is that ggmap functions that use Google’s services no longer function out of the box, since the user has to setup an account with Google, enable the relevant APIs, and then tell R about the user’s setup.\n",
    "\n",
    "To obtain an API key and enable services, go to the [Google Maps Platform](https://mapsplatform.google.com). This documentation shows you how to input the requisite information (e.g. your API key) into R, and it also shows you a few tools that can help you work with the credentialing.\n",
    "\n",
    "Note that since Google requires a valid credit card to use its online cloud services, this also means that anyone who obtains your key can potentially make charges to your card in the form of Google services. So be sure to not share your API key.\n",
    "\n",
    "#### Create Your Google Maps Account and API Key\n",
    "\n",
    "To use the Google Maps API with ggplot, users need to [set up a Google Cloud account](https://mapsplatform.google.com).  Users should note that setting up a Google Cloud account will require a valid credit card.  Once you have set up a Google Cloud account, return to your account to set up access to the Maps Static API which you can find in the the Google API Library."
   ]
  },
  {
   "cell_type": "markdown",
   "id": "4cc2c379-5ffc-460a-b60d-1346ffab94f7",
   "metadata": {},
   "source": [
    "[**ggmap**](https://cran.r-project.org/web/packages/ggmap/index.html) A collection of functions to visualize spatial data and models on top of static maps from various online sources (e.g Google Maps and Stamen Maps). It includes tools common to those tasks, including functions for geolocation and routing.  This notebook uses the following functions from *ggmap*.\n",
    "\n",
    "* [*get_stamenmap*](https://rdrr.io/cran/ggmap/man/get_stamenmap.html) for accessing a tile server from Stamen Maps\n",
    "* [*register_stadiamaps*](https://search.r-project.org/CRAN/refmans/ggmap/html/register_stadiamaps.html) for registering a Stadia Maps API key"
   ]
  },
  {
   "cell_type": "markdown",
   "id": "ddf83658-e3ec-436d-ae9c-1d0911f10584",
   "metadata": {},
   "source": [
    "## Next Steps\n",
    "\n",
    "From here, we recommend exploring the following notebooks:\n",
    "\n",
    "* **Adding Basemaps with ggplot2 and ggmap**"
   ]
  }
 ],
 "metadata": {
  "kernelspec": {
   "display_name": "R",
   "language": "R",
   "name": "ir"
  },
  "language_info": {
   "codemirror_mode": "r",
   "file_extension": ".r",
   "mimetype": "text/x-r-source",
   "name": "R",
   "pygments_lexer": "r",
   "version": "4.3.3"
  }
 },
 "nbformat": 4,
 "nbformat_minor": 5
}
