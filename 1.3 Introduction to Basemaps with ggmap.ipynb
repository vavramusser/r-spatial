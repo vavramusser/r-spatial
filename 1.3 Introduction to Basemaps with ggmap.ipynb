{
 "cells": [
  {
   "cell_type": "markdown",
   "id": "83d6607e-deb6-4d46-a9e4-2395beb58d15",
   "metadata": {},
   "source": [
    "# Introduction to Basemaps with ggmap"
   ]
  },
  {
   "cell_type": "markdown",
   "id": "8e75db4a-7c33-4a6c-b789-e75bb95fb030",
   "metadata": {},
   "source": [
    "Creating effective maps often starts with selecting an appropriate basemap. The ggmap R package allows users to overlay data onto basemaps from sources like Google Maps, OpenStreetMap, and Stamen Maps. By combining the power of the ggplot2 ecosystem with geospatial basemap data, ggmap facilitates the creation of visually compelling and informative maps. This notebook introduces the ggmap package, demonstrates how to retrieve and display basemaps, and provides guidance on adding spatial data layers to enhance map presentations.\n",
    "\n",
    "The [**ggmap package**](https://cran.r-project.org/web/packages/ggmap/index.html) is a powerful tool for visualizing spatial data by combining the flexibility of ggplot2 with the ability to retrieve basemaps from online mapping services such as [Google Maps](https://mapsplatform.google.com), [OpenStreetMap](https://www.openstreetmap.org), [Stadia Maps](https://stadiamaps.com), and [Stamen Maps](https://maps.stamen.com).  Designed to streamline the integration of basemaps and data layers, ggmap allows users to create high-quality, interactive, and publication-ready maps. With functions for geocoding, reverse geocoding, and map styling, ggmap enables users to overlay spatial data points, polygons, or lines onto visually appealing basemaps, making it an essential package for spatial visualization in R.\n",
    "\n",
    "### Available Data\n",
    "\n",
    "##### Tile Services\n",
    "A *tile server* is a system that delivers individual map tiles on demand, allowing for interactive zooming and panning on a map by dynamically fetching the relevant tiles as needed.\n",
    "\n",
    "* [OpenStreetMap](https://www.openstreetmap.org) (OSM)\n",
    "* [Stadia Maps](https://stadiamaps.com) and [Stamen Maps](https://maps.stamen.com) (now part of the Stadia Maps server)\n",
    "\n",
    "##### Static Maps\n",
    "A *static map* is a pre-rendered image of a map that cannot be interacted with or dynamically changed.\n",
    "\n",
    "* [Google Maps](https://mapsplatform.google.com)"
   ]
  },
  {
   "cell_type": "markdown",
   "id": "971a4734-8c44-45d1-85a2-a51f1e0e21c0",
   "metadata": {},
   "source": [
    "### Stadia Maps and Stamen Maps\n",
    "\n",
    "To obtain an API key and enable services visit the [Stadia Maps website](https://client.stadiamaps.com/signup). Stadia Maps is completely free for non-commercial and evaluation use and no credit card is required to sign up.\n",
    "\n",
    "As of 2023, [Stamen Maps](https://maps.stamen.com) tile services are hosted by Stadia Maps and are included in the Stadia Maps API access.\n",
    "\n",
    "\n",
    "### ★ Create Your Stadia Maps Account and API Key ★\n",
    "\n",
    "To use the Stadia Maps API with ggplot, users need to [set up a Stadia Maps account](https://client.stadiamaps.com/signup).  Once you have set up a Stadia Maps account, return to your account information to view your Stadia Maps API key."
   ]
  },
  {
   "cell_type": "markdown",
   "id": "85ba4ce6-5b46-4af2-8995-8ced08c771b8",
   "metadata": {},
   "source": [
    "### Google Maps\n",
    "\n",
    "As of mid-2018, the [Google Maps Platform](https://mapsplatform.google.com) requires a registered API key. While this alleviates previous burdens (e.g. query limits), it creates some challenges as well. The most immediate challenge for most R users is that ggmap functions that use Google’s services no longer function out of the box, since the user has to setup an account with Google, enable the relevant APIs, and then tell R about the user’s setup.\n",
    "\n",
    "To obtain an API key and enable services, go to the [Google Maps Platform](https://mapsplatform.google.com). This documentation shows you how to input the requisite information (e.g. your API key) into R, and it also shows you a few tools that can help you work with the credentialing.\n",
    "\n",
    "Note that since Google requires a valid credit card to use its online cloud services, this also means that anyone who obtains your key can potentially make charges to your card in the form of Google services. So be sure to not share your API key.\n",
    "\n",
    "### ★ Create Your Google Maps Account and API Key ★\n",
    "\n",
    "To use the Google Maps API with ggplot, users need to [set up a Google Cloud account](https://mapsplatform.google.com).  Users should note that setting up a Google Cloud account will require a valid credit card.  Once you have set up a Google Cloud account, return to your account to set up access to the Maps Static API which you can find in the the Google API Library."
   ]
  },
  {
   "cell_type": "markdown",
   "id": "ddf83658-e3ec-436d-ae9c-1d0911f10584",
   "metadata": {},
   "source": [
    "## Recommended Next Steps\n",
    "\n",
    "* **Continue with Chapter 1: Data Sources and APIs**\n",
    "  * 1.1: Introduction to IPUMS and the IPUMS API\n",
    "  * 1.2: Introduciton to Natural Earth\n",
    "  * 1.4: Introduction to the EPA Air Quality System (AQS) Data Repository\n",
    "  * 1.5: Introduction to the National Land Cover Database (NLCD)\n",
    "  * 1.6: Introduction to Open Street Map (OSM)\n",
    "  * 1.7: Introduction to Google Earth Engine (GEE)"
   ]
  }
 ],
 "metadata": {
  "kernelspec": {
   "display_name": "R",
   "language": "R",
   "name": "ir"
  },
  "language_info": {
   "codemirror_mode": "r",
   "file_extension": ".r",
   "mimetype": "text/x-r-source",
   "name": "R",
   "pygments_lexer": "r",
   "version": "4.3.3"
  }
 },
 "nbformat": 4,
 "nbformat_minor": 5
}
