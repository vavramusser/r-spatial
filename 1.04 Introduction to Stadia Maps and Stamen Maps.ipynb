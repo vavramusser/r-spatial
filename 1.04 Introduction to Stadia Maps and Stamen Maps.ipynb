{
 "cells": [
  {
   "cell_type": "markdown",
   "id": "2af0d3a7-22a8-46fe-b0aa-0c882c0591a6",
   "metadata": {},
   "source": [
    "# Introduction to [Stadia Maps and Stamen Maps](https://stadiamaps.com)"
   ]
  },
  {
   "cell_type": "markdown",
   "id": "dcc2b1bb-738b-4aba-b360-6bcefa21e64b",
   "metadata": {},
   "source": [
    "[**Stadia Maps**](https://stadiamaps.com) is a mapping platform offering high-quality basemaps and geospatial services, built on top of [OpenStreetMap (OSM)](https://www.openstreetmap.org) data. Stadia Maps provides visually appealing and customizable map styles optimized for a variety of applications, from web and mobile development to spatial analysis and mapping. By combining OSM’s comprehensive geographic data with advanced styling options, Stadia Maps delivers flexible, user-friendly mapping solutions suitable for diverse analytical and visualization needs.\n",
    "\n",
    "[**Stamen Maps**](https://maps.stamen.com) is a collection of creative and visually distinctive basemaps designed for mapping and spatial analysis. Built using [OpenStreetMap (OSM)](https://www.openstreetmap.org) data, Stamen Maps features unique cartographic styles, such as \"Toner,\" \"Watercolor,\" and \"Terrain,\" that cater to a wide range of use cases, from artistic visualizations to detailed geographic analysis. These basemaps are free to use and have become a popular choice for creating engaging, visually striking maps in academic, professional, and public-facing projects.  As of July 31, 2023, [Stamen Map Tiles are now served by Stadia Maps](https://maps.stamen.com/stadia-partnership).\n",
    "\n",
    "### Available Data\n",
    "\n",
    "**Stadia Maps Styles**\n",
    "* [Alidade Smooth](https://stadiamaps.com/themes/#:~:text=their%20use%20cases.-,Alidade%20Smooth,-%C2%A9%20Stadia%20Maps)\n",
    "* [Alidade Smooth Dark](https://stadiamaps.com/themes/#map=14/43.653/-79.38:~:text=Explore%20Alidade%20Smooth-,Alidade%20Smooth%20Dark,-%C2%A9%20Stadia%20Maps)\n",
    "* [Alidade Satellite](https://stadiamaps.com/themes/#map=14/43.653/-79.38:~:text=Alidade%20Smooth%20Dark-,Alidade%20Satellite,-%C2%A9%20CNES%2C%20Distribution%20Airbus)\n",
    "* Alidade Bright (beta)\n",
    "* [Outdoors](https://stadiamaps.com/themes/#:~:text=Explore%20Alidade%20Satellite-,Outdoors,-%C2%A9%20Stadia%20Maps)\n",
    "\n",
    "**Stadia x Stamen Map Styles**\n",
    "* [Stamen Toner and Toner Lite](https://stadiamaps.com/themes/#:~:text=accessible%20to%20anyone.-,Stamen%20Toner,-%C2%A9%20Stadia%20Maps%20%26)\n",
    "* [Stamen Terrain](https://stadiamaps.com/themes/#:~:text=Explore%20Stamen%20Toner-,Stamen%20Terrain,-%C2%A9%20Stadia%20Maps%20%26)\n",
    "* [Stamen Watercolor](https://stadiamaps.com/themes/#:~:text=Explore%20Stamen%20Terrain-,Stamen%20Watercolor,-%C2%A9%20Stadia%20Maps%20%C2%A9%20Stamen)\n",
    "\n",
    "**Classic Styles**\n",
    "* [OSM Bright](https://stadiamaps.com/themes/#:~:text=around%20the%20web.-,OSM%20Bright,-%C2%A9%20Stadia%20Maps)"
   ]
  },
  {
   "cell_type": "markdown",
   "id": "b0b5bd1b-a57a-49fd-9b47-636f9f81a9e5",
   "metadata": {},
   "source": [
    "## The Stadia Maps API\n",
    "\n",
    "Data from Stadia Maps and Stamen Maps can be accessed with a Stadia Maps account and using the [**Stadia Maps API**](https://stadiamaps.com/products/geospatial-apis).  Stadia Maps is completely free for non-commercial and evaluation use and no credit card is required to sign up.\n",
    "\n",
    "An [API (Application Programming Interface)](https://en.wikipedia.org/wiki/API) is a set of rules and protocols that allow different software applications to communicate with each other. APIs enable automated access to data and services, allowing users to retrieve, manipulate, and manage information without directly interacting with a website or user interface.\n",
    "\n",
    "### ★ Create Your Stadia Maps Account and API Key ★\n",
    "\n",
    "To use the Stadia Maps API, including , users need to [set up a Stadia Maps account](https://client.stadiamaps.com/signup).  Once you have set up a Stadia Maps account, return to your account information to view your Stadia Maps API key."
   ]
  },
  {
   "cell_type": "markdown",
   "id": "d5d32399-b2d8-4926-b7f3-a455550aefe8",
   "metadata": {},
   "source": [
    "## The ggmap R Package\n",
    "\n",
    "The [**ggmap package**](https://cran.r-project.org/web/packages/ggmap/index.html) is a powerful tool for visualizing spatial data by combining the flexibility of ggplot2 with the ability to retrieve basemaps from online mapping services including [Stadia Maps](https://stadiamaps.com) and [Stamen Maps](https://maps.stamen.com) as well as [Google Maps](https://mapsplatform.google.com) and [OpenStreetMap](https://www.openstreetmap.org).  Designed to streamline the integration of basemaps and data layers, ggmap allows users to create high-quality, interactive, and publication-ready maps. With functions for geocoding, reverse geocoding, and map styling, ggmap enables users to overlay spatial data points, polygons, or lines onto visually appealing basemaps, making it an essential package for spatial visualization in R."
   ]
  },
  {
   "cell_type": "markdown",
   "id": "bd66051a-3003-47df-b8c0-bb6a6a9cfcf5",
   "metadata": {},
   "source": [
    "---\n",
    "\n",
    "## Next Steps\n",
    "\n",
    "* Continue Learning About Open Data\n",
    "    * → **Chapter 1.01 Introduction to IPUMS and the IPUMS API**\n",
    "    * → [**Chapter 1.02 Introduction to Natural Earth**](https://platform.i-guide.io/notebooks/924c7ca6-3d12-4a80-ab4d-814cc80f7f79)\n",
    "    * → **Chapter 1.03 Introduction to OpenStreetMap (OSM)**\n",
    "* Continue Exploring the Fundamentals of Working with Spatial Data in R\n",
    "  * → Chapter 2.1 [**Introduction to sf: Reading, Writing, and Inspecting Vector Data**](https://platform.i-guide.io/notebooks/9968babe-22e4-4c3d-98e2-d8b45e9672cd)"
   ]
  },
  {
   "cell_type": "markdown",
   "id": "ceec78ce-e543-4c52-b5ee-fbfdfe2c117a",
   "metadata": {},
   "source": [
    "* Return to the [**R Spatial Notebooks Project Chapter List**](https://vavramusser.github.io/r-spatial/#:~:text=Chapter%201%3A%20Data%20Sources%20and%20APIs) to view a list of all available notebooks organized in the R Spatial Notebooks chapter structure.\n",
    "* Visit the [**R Spatial Notebooks Project Homepage**](https://vavramusser.github.io/r-spatial) to learn more about the project, view the list of all notebooks, and explore additional resources.\n",
    "* Join the project [**Mailing List**](https://mailchi.mp/ab01e8fc8397/r-spatial-email-signup) to hear about future notebook releases and other updates.\n",
    "* If you have an idea for a new notebook please submit your idea via the [**Suggestion Box**](https://us19.list-manage.com/survey?u=746bf8d366d6fbc99c699e714&id=54590a28ea&attribution=false).\n",
    "\n",
    "---\n",
    "\n",
    "## ★ Thank You ★\n",
    "\n",
    "Thank you so much for engaging with this notebook and supporting the project!  The R Spatial Notebooks Project is a labor of love so if you enjoy or benefit from these notebooks, please consider [**Donating to the Project**](https://buymeacoffee.com/vavramusser).  Your support allows me to continue producing notebooks and supporting the R Spatial Notebooks community."
   ]
  }
 ],
 "metadata": {
  "kernelspec": {
   "display_name": "R",
   "language": "R",
   "name": "ir"
  },
  "language_info": {
   "codemirror_mode": "r",
   "file_extension": ".r",
   "mimetype": "text/x-r-source",
   "name": "R",
   "pygments_lexer": "r",
   "version": "4.3.3"
  }
 },
 "nbformat": 4,
 "nbformat_minor": 5
}
