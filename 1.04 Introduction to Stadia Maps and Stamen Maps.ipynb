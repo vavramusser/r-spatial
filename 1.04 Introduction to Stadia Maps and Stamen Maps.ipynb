{
 "cells": [
  {
   "cell_type": "markdown",
   "id": "2af0d3a7-22a8-46fe-b0aa-0c882c0591a6",
   "metadata": {},
   "source": [
    "# Introduction to Stadia Maps and Stamen Maps"
   ]
  },
  {
   "cell_type": "markdown",
   "id": "dcc2b1bb-738b-4aba-b360-6bcefa21e64b",
   "metadata": {},
   "source": [
    "...\n",
    "### Available Data"
   ]
  },
  {
   "cell_type": "markdown",
   "id": "ceec78ce-e543-4c52-b5ee-fbfdfe2c117a",
   "metadata": {},
   "source": [
    "## Recommended Next Steps\n",
    "\n",
    "* **Continue with Chapter 1: Data Sources and APIs**\n",
    "  * 1.1: Introduction to IPUMS and the IPUMS API\n",
    "  * 1.2: Introduciton to Natural Earth\n",
    "  * 1.3: Introduction to OpenStreetMap (OSM)\n",
    "  * 1.5: Introduction to Google Maps\n",
    "  * 1.6: Introduction to Basemaps with ggmap\n",
    "  * 1.7: Introduction to Google Earth Engine (GEE)\n",
    "  * 1.8: Introduction to the National Land Cover Database (NLCD)\n",
    "  * 1.9: Introduction to the EPA Air Quality System (AQS) Data Repository"
   ]
  }
 ],
 "metadata": {
  "kernelspec": {
   "display_name": "R",
   "language": "R",
   "name": "ir"
  },
  "language_info": {
   "codemirror_mode": "r",
   "file_extension": ".r",
   "mimetype": "text/x-r-source",
   "name": "R",
   "pygments_lexer": "r",
   "version": "4.3.3"
  }
 },
 "nbformat": 4,
 "nbformat_minor": 5
}
