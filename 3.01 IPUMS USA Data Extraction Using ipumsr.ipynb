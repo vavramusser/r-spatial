{
 "cells": [
  {
   "cell_type": "markdown",
   "id": "7aaffa8e-d021-4099-abba-a0c18aaf69b0",
   "metadata": {},
   "source": [
    "# IPUMS USA Data Extraction Using ipumsr\n",
    "### by [Kate Vavra-Musser](https://vavramusser.github.io) for the [R Spatial Notebook Series](https://vavramusser.github.io/r-spatial)"
   ]
  },
  {
   "cell_type": "markdown",
   "id": "d34c6940-17d7-418c-8ab7-271fe716a114",
   "metadata": {
    "jp-MarkdownHeadingCollapsed": true
   },
   "source": [
    "This notebook builds on the the workflow introduced in the **[Introduction to the IPUMS API for R Users](https://tech.popdata.org/ipumsr/articles/ipums-api.html)** article on the IPUMS website.  As the author of the R Spatial Notebook series, I recognize the IPUMS article as a significant inspiration and source of information for this notebook.\n",
    "\n",
    "## Introduction\n",
    "The [IPUMS USA](https://usa.ipums.org/usa) database offers harmonized microdata from the [U.S. Decennial Census](https://www.census.gov/programs-surveys/decennial-census.html), [American Community Survey (ACS)](https://www.census.gov/programs-surveys/acs/about.html), and [Puerto Rico Community Survey (PRCS)](https://www.census.gov/programs-surveys/acs/about/puerto-rico-community-survey.html). It provides detailed, individual-level records on population demographics, economic activity, housing conditions, and social characteristics, enabling the analysis of trends in American society across time and space. Through harmonization, IPUMS USA allows data to be seamlessly compared across census years, despite changes in survey design, geographic boundaries, and variable definitions.\n",
    "\n",
    "**From the [IPUMS USA Website](https://usa.ipums.org/usa):** IPUMS USA collects, preserves and harmonizes United States Census microdata and provides easy access to this data with enhanced documentation. Data includes Decennial Censuses from 1790 to 2010 and American Community Surveys (ACS) from 2000 to the present.\n",
    "\n",
    "#### Data Included in the IPUMS USA Repository\n",
    "* [American Community Survey (ACS)](https://www.census.gov/programs-surveys/acs/about.html)\n",
    "  * Annual data from 2001 to present\n",
    "  * 3-year estimates from 2007 to 2013\n",
    "  * 5-year estimates 2009 to present\n",
    "  * Historic population sample data from 1850 to 2000\n",
    "* [Puerto Rico Community Survey (PRCS)](https://www.census.gov/programs-surveys/acs/about/puerto-rico-community-survey.html)\n",
    "  * Annual data from 2005 to present\n",
    "  * 3-year estimates from 2007 to 2013\n",
    "  * 5-year estimates 2009 to present\n",
    "  * Historic population sample data from 1910 to 2000\n",
    "* [Historic Full Count data from 1790 to 1950](https://usa.ipums.org/usa/full_count.shtml)\n",
    "\n",
    "### About the American and Puerto Rico Community Surveys (ACS and PRCS)\n",
    "The [American Community Survey (ACS)](https://www.census.gov/programs-surveys/acs/about.html) and [Puerto Rico Community Survey (PRCS)](https://www.census.gov/programs-surveys/acs/about/puerto-rico-community-survey.html) are are annual surveys conducted by the [U.S. Census Bureau](https://www.census.gov) that collect information on a subset of the U.S. population.  The ACS and PRCS collect data on a variety of topics, including income, poverty, education, marital status, health insurance coverage, disability, occupancy, costs, tenure, and units by type.  It is a more in-depth supplement to the Decennial U.S. Census and in 2005 replaced the long-form version of the Decennial Census survey which was previously conducted every ten years.  Each year the ACS samples over 3.5 million housing units across the United States with a new sample of about 250,000 addresses drawn each month.\n",
    "\n",
    "ACS and PRCS are available as single-year datasets as well as three- and five-year summaries of the data.  While single-year data provide a snapshot of conditions in a specific year, the three- and five-year summaries offer more stable estimates by averaging data over time, making them less susceptible to anomalies and more useful for analyzing smaller geographic areas.\n",
    "\n",
    "### Historic Census Microdata\n",
    "In addition to these contemporary datasets, IPUMS USA makes [historic Full Count U.S. Census microdata]((https://usa.ipums.org/usa/full_count.shtml)) freely available for research purposes, covering the period 1790 to 1950. This dataset includes over 800 million individual-level records from 1850 to 1940 and 7.5 million household-level records from 1790 to 1840. The microdata represent a collaborative effort between IPUMS and the genealogical organizations [Ancestry.com](ancestry.com) and [FamilySearch](https://www.familysearch.org/en/united-states), leveraging extensive digitized historical census records for scientific purposes.\n",
    "\n",
    "### Notebook Goals\n",
    "This notebook introduces the process of extracting [IPUMS USA](https://usa.ipums.org/usa) data using the [IPUMS API](https://developer.ipums.org/docs/v2/apiprogram) via the [ipumsr R package](https://cran.r-project.org/web/packages/ipumsr/index.html). Users will learn how to define, submit, and download an IPUMS USA data extract, specifying desired variables, time periods, and geographic units for analysis. By the end of this notebook, users will have the skills to efficiently acquire customized IPUMS USA datasets and prepare them for spatial and statistical workflows.\n",
    "\n",
    "### ✨ Prerequisites ✨\n",
    "* Complete [Introduction to IPUMS and the IPUMS API](https://platform.i-guide.io/notebooks/82d3b176-e4e6-4307-8186-318a3fe6c81a)\n",
    "* Set Up Your [IPUMS Account and API Key](https://account.ipums.org/api_keys)\n",
    "\n",
    "### Notebook Overview\n",
    "1. Setup\n",
    "2. IPUMS USA Metadata Exploration\n",
    "3. IPUMS USA Data Extraction Specification and Submission"
   ]
  },
  {
   "cell_type": "markdown",
   "id": "fca65eb8-9354-460a-b440-02bccddfb839",
   "metadata": {},
   "source": [
    "## 1. Setup\n",
    "This section will guide you through the process of installing essential packages and setting your IPUMS API key.\n",
    "\n",
    "#### Required Packages\n",
    "\n",
    "[**dplyr**](https://cran.r-project.org/web/packages/dplyr/index.html) A Grammar of Data Manipulation. This notebook uses the the following function from *dplyr*.\n",
    "\n",
    "* [*filter*](https://rdrr.io/cran/dplyr/man/filter.html) · keep rows that match a condition\n",
    "* This notebook also uses [*%>%*](https://magrittr.tidyverse.org/reference/pipe.html), referred to as the *pipe* operator.  The *pip* operator is used to pass the output from one function directly into the next function for the purpose of creating streamlined workflows and is a commonly used component of the [*tidyverse*](https://www.tidyverse.org).\n",
    "\n",
    "[**ipumsr**](https://cran.r-project.org/web/packages/ipumsr/index.html) An R Interface for Downloading, Reading, and Handling IPUMS Data.  This notebook uses the the following functions from *ipumsr*.\n",
    "\n",
    "* [*define_extract_micro*](https://rdrr.io/github/mnpopcenter/ripums/man/define_extract_micro.html) · define an extract request for an IPUMS microdata collection\n",
    "* [*download_extract*](https://rdrr.io/cran/ipumsr/man/download_extract.html) · download a completed IPUMS data extract\n",
    "* [*get_sample_info*](https://rdrr.io/cran/ipumsr/man/get_sample_info.html) · list available samples for IPUMS microdata collections\n",
    "* [*read_ipums_ddi*](https://rdrr.io/cran/ipumsr/man/read_ipums_ddi.html) · read metadata about an IPUMS microdata extract from a DDI codebook (.xml) file\n",
    "* [*read_ipums_micro*](https://rdrr.io/cran/ipumsr/man/read_ipums_micro.html) · read data from an IPUMS microdata extract\n",
    "* [*set_ipums_api_key*](https://rdrr.io/cran/ipumsr/man/set_ipums_api_key.html) · set your IPUMS API key\n",
    "* [*submit_extract*](https://rdrr.io/cran/ipumsr/man/submit_extract.html) · submit an extract request via the IPUMS API\n",
    "* [*wait_for_extract*](https://rdrr.io/cran/ipumsr/man/wait_for_extract.html) · wait for an extract to finish processing\n",
    "\n",
    "[**stringr**](https://cran.r-project.org/web/packages/stringr/index.html) Simple, Consistent Wrappers for Common String Operations.  This notebook uses the following function from *stringr*.\n",
    "\n",
    "* [*str_detect*](https://stringr.tidyverse.org/reference/str_detect.html) · detect the presence or absence of a match"
   ]
  },
  {
   "cell_type": "markdown",
   "id": "25e1018c-13cb-4e15-91a3-504ce1eb07a1",
   "metadata": {},
   "source": [
    "### 1a. Install and Load Required Packages\n",
    "If you have not already installed the required packages, uncomment and run the code below:"
   ]
  },
  {
   "cell_type": "code",
   "execution_count": null,
   "id": "ed2c53cc-354e-4eef-a6ad-bb96d627765f",
   "metadata": {},
   "outputs": [],
   "source": [
    "# install.packages(c(\"dplyr\", \"ipumsr\", \"stringr\"))"
   ]
  },
  {
   "cell_type": "markdown",
   "id": "1b8b928a-bdf7-464f-9ffb-64b2cf7b6910",
   "metadata": {},
   "source": [
    "Load the packages into your workspace."
   ]
  },
  {
   "cell_type": "code",
   "execution_count": 1,
   "id": "8b7f2f90-2b0d-47e9-a088-596751cb3dbe",
   "metadata": {},
   "outputs": [
    {
     "name": "stderr",
     "output_type": "stream",
     "text": [
      "\n",
      "Attaching package: 'dplyr'\n",
      "\n",
      "\n",
      "The following objects are masked from 'package:stats':\n",
      "\n",
      "    filter, lag\n",
      "\n",
      "\n",
      "The following objects are masked from 'package:base':\n",
      "\n",
      "    intersect, setdiff, setequal, union\n",
      "\n",
      "\n"
     ]
    }
   ],
   "source": [
    "library(dplyr)\n",
    "library(ipumsr)\n",
    "library(stringr)"
   ]
  },
  {
   "cell_type": "markdown",
   "id": "d91a1587-dbef-4dda-a967-07b3953b532f",
   "metadata": {},
   "source": [
    "### 1b. Set Your IPUMS API Key\n",
    "\n",
    "Store your [IPUMS API key](https://account.ipums.org/api_keys) in your environment using the following code.\n",
    "\n",
    "Refer to [Chapter 1.1 Introduction to IPUMS and the IPUMS API](https://platform.i-guide.io/notebooks/82d3b176-e4e6-4307-8186-318a3fe6c81a) for instructions on setting up your IPUMS account and API key."
   ]
  },
  {
   "cell_type": "code",
   "execution_count": 2,
   "id": "ae999683-c024-47d7-9936-55d91ce26e82",
   "metadata": {},
   "outputs": [
    {
     "name": "stdin",
     "output_type": "stream",
     "text": [
      "Please enter your IPUMS API key:  59cba10d8a5da536fc06b59dd85f877c475a4c7d96dd08a9ce04d9d0\n"
     ]
    },
    {
     "name": "stderr",
     "output_type": "stream",
     "text": [
      "Existing .Renviron file copied to C:\\Users\\vavra\\Documents/.Renviron_backup for backup purposes.\n",
      "\n",
      "The environment variable IPUMS_API_KEY has been set and saved for future sessions.\n",
      "\n"
     ]
    }
   ],
   "source": [
    "ipumps_api_key = readline(\"Please enter your IPUMS API key: \")\n",
    "set_ipums_api_key(ipumps_api_key, save = T, overwrite = T)"
   ]
  },
  {
   "cell_type": "markdown",
   "id": "3169ebf5-3bf0-489d-9f31-591faa2b784d",
   "metadata": {},
   "source": [
    "## 2. IPUMS USA Metadata Exploration\n",
    "\n",
    "Before submitting an IPUMS data extraction request, it’s essential to ensure the parameters of the extraction definition are set up correctly.  The extraction definition specifies the sample, variables, and other options.\n",
    "\n",
    "If this is your first time using the IPUMS API in R, or if you are setting up a new data extract for a new project, it is a good idea to start by exploring the available data which can be done using the *ipumsr* package.\n",
    "\n",
    "### 2a. Review the List of Samples\n",
    "\n",
    "First, let's take a look at the entire list of datasets available from the [IPUMS USA data repository](https://usa.ipums.org/usa).  The USA data available for direct extraction using the IPUMS API include the [American Communinty Survey (ACS)](https://www.census.gov/programs-surveys/acs) and [Puerto Rico Community Survey (PRCS)](https://www.census.gov/programs-surveys/acs/about/puerto-rico-community-survey.html).\n",
    "\n",
    "For this step, we will use the [*get_sample_info*](https://rdrr.io/cran/ipumsr/man/get_sample_info.html) function from the [**ipumsr**](https://cran.r-project.org/web/packages/ipumsr/index.html) package.  This function will return a list of all datasets from the specified IPUMS data repository which are available to be downloaded using the IPUMS API.  Since we are focusing on IPUMS USA, we will specify that we want to view all available samples from the IPUMS USA repository by passing *\"usa\"* to the function.  This code stores the metadata from all available samples in the IPUMS USA repository to the object *metadata_usa*.\n",
    "\n",
    "**★ Pro Tip:** You can use the [*get_sample_info*](https://rdrr.io/cran/ipumsr/man/get_sample_info.html) function to retrieve metadata for any of the available IPUMS repositories by changing the database reference code."
   ]
  },
  {
   "cell_type": "code",
   "execution_count": 3,
   "id": "4403097a-86f6-44e3-adf9-b282082c6718",
   "metadata": {},
   "outputs": [],
   "source": [
    "# retrive and view the list of samples from the IPUMS USA database\n",
    "metadata_usa <- get_sample_info(\"usa\")"
   ]
  },
  {
   "cell_type": "markdown",
   "id": "b74f5804-059e-47a7-a306-205d9434574c",
   "metadata": {},
   "source": [
    "Let's take a look at the dimensions of the *metadata_usa* object.  This will give us an idea of how many samples are available from the IPUMS USA repository."
   ]
  },
  {
   "cell_type": "code",
   "execution_count": 4,
   "id": "e4947857-7046-4ba1-9c25-b4052b68a3aa",
   "metadata": {},
   "outputs": [
    {
     "data": {
      "text/html": [
       "<style>\n",
       ".list-inline {list-style: none; margin:0; padding: 0}\n",
       ".list-inline>li {display: inline-block}\n",
       ".list-inline>li:not(:last-child)::after {content: \"\\00b7\"; padding: 0 .5ex}\n",
       "</style>\n",
       "<ol class=list-inline><li>150</li><li>2</li></ol>\n"
      ],
      "text/latex": [
       "\\begin{enumerate*}\n",
       "\\item 150\n",
       "\\item 2\n",
       "\\end{enumerate*}\n"
      ],
      "text/markdown": [
       "1. 150\n",
       "2. 2\n",
       "\n",
       "\n"
      ],
      "text/plain": [
       "[1] 150   2"
      ]
     },
     "metadata": {},
     "output_type": "display_data"
    }
   ],
   "source": [
    "# view the dimensions of the list of samples\n",
    "dim(metadata_usa)"
   ]
  },
  {
   "cell_type": "markdown",
   "id": "98dae0a8-51bd-4dbd-b180-a22cee84d2c8",
   "metadata": {},
   "source": [
    "The results tell us that there are 148 samples available from IPUMS USA.\n",
    "\n",
    "Let's take a look at the first few elements in the table of samples."
   ]
  },
  {
   "cell_type": "code",
   "execution_count": 5,
   "id": "48cad01c-89a4-45bf-bcc4-00809be6f72c",
   "metadata": {},
   "outputs": [
    {
     "data": {
      "text/html": [
       "<table class=\"dataframe\">\n",
       "<caption>A tibble: 6 × 2</caption>\n",
       "<thead>\n",
       "\t<tr><th scope=col>name</th><th scope=col>description</th></tr>\n",
       "\t<tr><th scope=col>&lt;chr&gt;</th><th scope=col>&lt;chr&gt;</th></tr>\n",
       "</thead>\n",
       "<tbody>\n",
       "\t<tr><td>us1850a</td><td>1850 1%                                 </td></tr>\n",
       "\t<tr><td>us1850c</td><td>1850 100% sample (Revised November 2023)</td></tr>\n",
       "\t<tr><td>us1860a</td><td>1860 1%                                 </td></tr>\n",
       "\t<tr><td>us1860b</td><td>1860 1% sample with black oversample    </td></tr>\n",
       "\t<tr><td>us1860c</td><td>1860 100% sample (Revised November 2023)</td></tr>\n",
       "\t<tr><td>us1870a</td><td>1870 1%                                 </td></tr>\n",
       "</tbody>\n",
       "</table>\n"
      ],
      "text/latex": [
       "A tibble: 6 × 2\n",
       "\\begin{tabular}{ll}\n",
       " name & description\\\\\n",
       " <chr> & <chr>\\\\\n",
       "\\hline\n",
       "\t us1850a & 1850 1\\%                                 \\\\\n",
       "\t us1850c & 1850 100\\% sample (Revised November 2023)\\\\\n",
       "\t us1860a & 1860 1\\%                                 \\\\\n",
       "\t us1860b & 1860 1\\% sample with black oversample    \\\\\n",
       "\t us1860c & 1860 100\\% sample (Revised November 2023)\\\\\n",
       "\t us1870a & 1870 1\\%                                 \\\\\n",
       "\\end{tabular}\n"
      ],
      "text/markdown": [
       "\n",
       "A tibble: 6 × 2\n",
       "\n",
       "| name &lt;chr&gt; | description &lt;chr&gt; |\n",
       "|---|---|\n",
       "| us1850a | 1850 1%                                  |\n",
       "| us1850c | 1850 100% sample (Revised November 2023) |\n",
       "| us1860a | 1860 1%                                  |\n",
       "| us1860b | 1860 1% sample with black oversample     |\n",
       "| us1860c | 1860 100% sample (Revised November 2023) |\n",
       "| us1870a | 1870 1%                                  |\n",
       "\n"
      ],
      "text/plain": [
       "  name    description                             \n",
       "1 us1850a 1850 1%                                 \n",
       "2 us1850c 1850 100% sample (Revised November 2023)\n",
       "3 us1860a 1860 1%                                 \n",
       "4 us1860b 1860 1% sample with black oversample    \n",
       "5 us1860c 1860 100% sample (Revised November 2023)\n",
       "6 us1870a 1870 1%                                 "
      ]
     },
     "metadata": {},
     "output_type": "display_data"
    }
   ],
   "source": [
    "# view the first few lines of the list of samples\n",
    "head(metadata_usa)"
   ]
  },
  {
   "cell_type": "code",
   "execution_count": 6,
   "id": "2af9b894-ca0c-4286-9f54-cf971654120d",
   "metadata": {},
   "outputs": [
    {
     "data": {
      "text/html": [
       "<table class=\"dataframe\">\n",
       "<caption>A tibble: 5 × 2</caption>\n",
       "<thead>\n",
       "\t<tr><th scope=col>name</th><th scope=col>description</th></tr>\n",
       "\t<tr><th scope=col>&lt;chr&gt;</th><th scope=col>&lt;chr&gt;</th></tr>\n",
       "</thead>\n",
       "<tbody>\n",
       "\t<tr><td>us2010a</td><td>2010 ACS             </td></tr>\n",
       "\t<tr><td>us2010c</td><td>2008-2010, ACS 3-year</td></tr>\n",
       "\t<tr><td>us2010e</td><td>2006-2010, ACS 5-year</td></tr>\n",
       "\t<tr><td>us2012c</td><td>2010-2012, ACS 3-year</td></tr>\n",
       "\t<tr><td>us2014c</td><td>2010-2014, ACS 5-year</td></tr>\n",
       "</tbody>\n",
       "</table>\n"
      ],
      "text/latex": [
       "A tibble: 5 × 2\n",
       "\\begin{tabular}{ll}\n",
       " name & description\\\\\n",
       " <chr> & <chr>\\\\\n",
       "\\hline\n",
       "\t us2010a & 2010 ACS             \\\\\n",
       "\t us2010c & 2008-2010, ACS 3-year\\\\\n",
       "\t us2010e & 2006-2010, ACS 5-year\\\\\n",
       "\t us2012c & 2010-2012, ACS 3-year\\\\\n",
       "\t us2014c & 2010-2014, ACS 5-year\\\\\n",
       "\\end{tabular}\n"
      ],
      "text/markdown": [
       "\n",
       "A tibble: 5 × 2\n",
       "\n",
       "| name &lt;chr&gt; | description &lt;chr&gt; |\n",
       "|---|---|\n",
       "| us2010a | 2010 ACS              |\n",
       "| us2010c | 2008-2010, ACS 3-year |\n",
       "| us2010e | 2006-2010, ACS 5-year |\n",
       "| us2012c | 2010-2012, ACS 3-year |\n",
       "| us2014c | 2010-2014, ACS 5-year |\n",
       "\n"
      ],
      "text/plain": [
       "  name    description          \n",
       "1 us2010a 2010 ACS             \n",
       "2 us2010c 2008-2010, ACS 3-year\n",
       "3 us2010e 2006-2010, ACS 5-year\n",
       "4 us2012c 2010-2012, ACS 3-year\n",
       "5 us2014c 2010-2014, ACS 5-year"
      ]
     },
     "metadata": {},
     "output_type": "display_data"
    }
   ],
   "source": [
    "# filter the list of samples by survey and year\n",
    "metadata_usa %>% filter(str_detect(description, \"ACS\"),      # filter descrption by survey\n",
    "                        str_detect(description, \"2010\"))     # filter description by year"
   ]
  },
  {
   "cell_type": "markdown",
   "id": "439e5d91-e3a8-41e3-82cd-e52cc1283128",
   "metadata": {},
   "source": [
    "The filtering process has returned five relevant samples including the 2010 ACS, the 2008-2010 and 2010-2012 ACS 3-year summaries, and the 2006-2010 and 2010-2014 ACS 5-year summaries.  For this exercise we will use the **2010 ACS Sample** which is referred to using identification code (*name*) **us2010a**.\n",
    "\n",
    "**★ Pro Tip:** In the IPUMS specification, ACS and PRCS multi-year summaries are referred to by the **final year** in the corresponding time range.  For example, the 2008-2010 ACS 3-year summary is referred to using the code *2010e*.\n",
    "\n",
    "## 3. IPUMS USA Data Extraction Specification and Submission\n",
    "\n",
    "Once we have reviewed the available samples and decided on the dataset, the next step is to set up a data extraction using the [*define_extract_micro*](https://rdrr.io/github/mnpopcenter/ripums/man/define_extract_micro.html) function from the [**ipumsr**](https://cran.r-project.org/web/packages/ipumsr/index.html) package.  This function requires the following minimum parameters:\n",
    "\n",
    "* *collection* · the IPUMS data collection for the extract (for this exercise we are downloading from IPUMS USA so we use the code \"usa\")\n",
    "* *description* · text description of the extract\n",
    "* *samples* · vector of samples to include in the extract; samples should be specified using the sample identification codes\n",
    "* *variables* · vector of variables to include in the extract\n",
    "\n",
    "### 3a. Define the Variable List\n",
    "\n",
    "We already know what we will pass to the function for the *collection* (\"usa\") and *samples* (\"us2010a\") parameters.  Next we will need to determine which variables we want.\n",
    "\n",
    "If you are already familiar with IPUMS USA data extractions using their web-based data extract platforms, you might already know which variables are available for our selected sample.  If not, the best place to start is by exploring the web-based [**IPUMS USA Data Extract Platform**](https://usa.ipums.org/usa-action/variables/live_search) to see what variables are available and identify the appropriate variable codes.  Before searching for variables, be sure to click the **Select Samples** button in the top-left corner of the search platform and select the samples you are planning to use.  Since we are using the 2010 ACS sample for this example, you should select the 2010 ACS sample within the search platform.  What variables are available, and the codes used for the variables, may differ based on your selected sample, so it is important to be specific.\n",
    "\n",
    "For this example we will use the following set of variables from the 2010 ACS.\n",
    "\n",
    "**Variable Selection**\n",
    "* [State FIPS Code (STATEFIP)](https://en.wikipedia.org/wiki/Federal_Information_Processing_Standard_state_code)\n",
    "* [Public Use Microdata Area (PUMA)](https://www.census.gov/programs-surveys/geography/guidance/geo-areas/pumas.html#:~:text=Public%20Use%20Microdata%20Areas%20(PUMAs)%20are%20non%2Doverlapping%2C,%2C%20Puerto%20Rico%2C%20and%20Guam.)\n",
    "* Sex (SEX)\n",
    "* Age (AGE)\n",
    "* Race (RACE)\n",
    "* Educational Attainment (EDUC)\n",
    "* Total Personal Income (INCTOT)\n",
    "\n",
    "By default, the data extraction will also include both our selected variables and a set of IPUMS preselected variables.  The preselected variables include metainformation such as identification codes and survey weights.  We will explore and list the preselected variables after completing the data extraction.\n",
    "\n",
    "### 3b. Define the Data Extract\n",
    "\n",
    "Now that we know the collection (\"usa\"), sample (\"us2010a\"), and list of variables (c(\"STATEFIP\", \"PUMA\", \"SEX\", \"AGE\", \"RACE\", \"EDUC\", \"INCTOT\")) we are ready to submit our data extract request.  In this step we will add a text description of the request which can be anything and is included to help us differentiate between requests.  For this extract we will use the simple description \"IPUMS USA Data Extraction\".\n",
    "\n",
    "Here we pass all the extraction definition information to the [*define_extract_micro*](https://rdrr.io/github/mnpopcenter/ripums/man/define_extract_micro.html) function from the [**ipumsr**](https://cran.r-project.org/web/packages/ipumsr/index.html) package and store the resulting extraction definition in the object *extract_definition*.\n",
    "\n",
    "**★ Pro Tip:** You can specify multiple samples in the same data extract by specifying all sample identification codes as a list.  Be sure that the variables you specify are available for all of the samples!"
   ]
  },
  {
   "cell_type": "code",
   "execution_count": 7,
   "id": "1e76df77-bbfa-4629-aa04-c3af735d4474",
   "metadata": {},
   "outputs": [],
   "source": [
    "# set up the data extraction definition\n",
    "extract_definition <- define_extract_micro(collection = \"usa\",\n",
    "                                           description = \"IPUMS USA Data Extraction\",\n",
    "                                           samples = c(\"us2010a\"),\n",
    "                                           variables = c(\"STATEFIP\", \"PUMA\", \"SEX\", \"AGE\", \"RACE\", \"EDUC\", \"INCTOT\"))"
   ]
  },
  {
   "cell_type": "markdown",
   "id": "d53300a8-9e38-4035-9e21-97a364238f15",
   "metadata": {},
   "source": [
    "Let's review the extraction definition information to make sure we have set it up the way we intended."
   ]
  },
  {
   "cell_type": "code",
   "execution_count": 8,
   "id": "c4d04593-1a8d-4963-974b-e0f5eb4a5d97",
   "metadata": {},
   "outputs": [
    {
     "data": {
      "text/html": [
       "<dl>\n",
       "\t<dt>$collection</dt>\n",
       "\t\t<dd>'usa'</dd>\n",
       "\t<dt>$description</dt>\n",
       "\t\t<dd>'IPUMS USA Data Extraction'</dd>\n",
       "\t<dt>$samples</dt>\n",
       "\t\t<dd><strong>$us2010a</strong> = <strong>$name</strong> = 'us2010a'</dd>\n",
       "\t<dt>$variables</dt>\n",
       "\t\t<dd><dl>\n",
       "\t<dt>$STATEFIP</dt>\n",
       "\t\t<dd><strong>$name</strong> = 'STATEFIP'</dd>\n",
       "\t<dt>$PUMA</dt>\n",
       "\t\t<dd><strong>$name</strong> = 'PUMA'</dd>\n",
       "\t<dt>$SEX</dt>\n",
       "\t\t<dd><strong>$name</strong> = 'SEX'</dd>\n",
       "\t<dt>$AGE</dt>\n",
       "\t\t<dd><strong>$name</strong> = 'AGE'</dd>\n",
       "\t<dt>$RACE</dt>\n",
       "\t\t<dd><strong>$name</strong> = 'RACE'</dd>\n",
       "\t<dt>$EDUC</dt>\n",
       "\t\t<dd><strong>$name</strong> = 'EDUC'</dd>\n",
       "\t<dt>$INCTOT</dt>\n",
       "\t\t<dd><strong>$name</strong> = 'INCTOT'</dd>\n",
       "</dl>\n",
       "</dd>\n",
       "\t<dt>$time_use_variables</dt>\n",
       "\t\t<dd>NULL</dd>\n",
       "\t<dt>$sample_members</dt>\n",
       "\t\t<dd>NULL</dd>\n",
       "\t<dt>$data_format</dt>\n",
       "\t\t<dd>'fixed_width'</dd>\n",
       "\t<dt>$data_structure</dt>\n",
       "\t\t<dd>'rectangular'</dd>\n",
       "\t<dt>$rectangular_on</dt>\n",
       "\t\t<dd>'P'</dd>\n",
       "\t<dt>$case_select_who</dt>\n",
       "\t\t<dd>'individuals'</dd>\n",
       "\t<dt>$data_quality_flags</dt>\n",
       "\t\t<dd>NULL</dd>\n",
       "\t<dt>$submitted</dt>\n",
       "\t\t<dd>FALSE</dd>\n",
       "\t<dt>$download_links</dt>\n",
       "\t\t<dd><dl>\n",
       "</dl>\n",
       "</dd>\n",
       "\t<dt>$number</dt>\n",
       "\t\t<dd>&lt;NA&gt;</dd>\n",
       "\t<dt>$status</dt>\n",
       "\t\t<dd>'unsubmitted'</dd>\n",
       "</dl>\n"
      ],
      "text/latex": [
       "\\begin{description}\n",
       "\\item[\\$collection] 'usa'\n",
       "\\item[\\$description] 'IPUMS USA Data Extraction'\n",
       "\\item[\\$samples] \\textbf{\\$us2010a} = \\textbf{\\$name} = 'us2010a'\n",
       "\\item[\\$variables] \\begin{description}\n",
       "\\item[\\$STATEFIP] \\textbf{\\$name} = 'STATEFIP'\n",
       "\\item[\\$PUMA] \\textbf{\\$name} = 'PUMA'\n",
       "\\item[\\$SEX] \\textbf{\\$name} = 'SEX'\n",
       "\\item[\\$AGE] \\textbf{\\$name} = 'AGE'\n",
       "\\item[\\$RACE] \\textbf{\\$name} = 'RACE'\n",
       "\\item[\\$EDUC] \\textbf{\\$name} = 'EDUC'\n",
       "\\item[\\$INCTOT] \\textbf{\\$name} = 'INCTOT'\n",
       "\\end{description}\n",
       "\n",
       "\\item[\\$time\\_use\\_variables] NULL\n",
       "\\item[\\$sample\\_members] NULL\n",
       "\\item[\\$data\\_format] 'fixed\\_width'\n",
       "\\item[\\$data\\_structure] 'rectangular'\n",
       "\\item[\\$rectangular\\_on] 'P'\n",
       "\\item[\\$case\\_select\\_who] 'individuals'\n",
       "\\item[\\$data\\_quality\\_flags] NULL\n",
       "\\item[\\$submitted] FALSE\n",
       "\\item[\\$download\\_links] \\begin{description}\n",
       "\\end{description}\n",
       "\n",
       "\\item[\\$number] <NA>\n",
       "\\item[\\$status] 'unsubmitted'\n",
       "\\end{description}\n"
      ],
      "text/markdown": [
       "$collection\n",
       ":   'usa'\n",
       "$description\n",
       ":   'IPUMS USA Data Extraction'\n",
       "$samples\n",
       ":   **$us2010a** = **$name** = 'us2010a'\n",
       "$variables\n",
       ":   $STATEFIP\n",
       ":   **$name** = 'STATEFIP'\n",
       "$PUMA\n",
       ":   **$name** = 'PUMA'\n",
       "$SEX\n",
       ":   **$name** = 'SEX'\n",
       "$AGE\n",
       ":   **$name** = 'AGE'\n",
       "$RACE\n",
       ":   **$name** = 'RACE'\n",
       "$EDUC\n",
       ":   **$name** = 'EDUC'\n",
       "$INCTOT\n",
       ":   **$name** = 'INCTOT'\n",
       "\n",
       "\n",
       "\n",
       "$time_use_variables\n",
       ":   NULL\n",
       "$sample_members\n",
       ":   NULL\n",
       "$data_format\n",
       ":   'fixed_width'\n",
       "$data_structure\n",
       ":   'rectangular'\n",
       "$rectangular_on\n",
       ":   'P'\n",
       "$case_select_who\n",
       ":   'individuals'\n",
       "$data_quality_flags\n",
       ":   NULL\n",
       "$submitted\n",
       ":   FALSE\n",
       "$download_links\n",
       ":   \n",
       "\n",
       "\n",
       "$number\n",
       ":   &lt;NA&gt;\n",
       "$status\n",
       ":   'unsubmitted'\n",
       "\n",
       "\n"
      ],
      "text/plain": [
       "Unsubmitted IPUMS USA extract \n",
       "Description: IPUMS USA Data Extraction\n",
       "\n",
       "\u001b[1mSamples: \u001b[22m(1 total) us2010a\n",
       "\u001b[1mVariables: \u001b[22m(7 total) STATEFIP, PUMA, SEX, AGE, RACE, EDUC, INCTOT"
      ]
     },
     "metadata": {},
     "output_type": "display_data"
    }
   ],
   "source": [
    "# review the extraction definition\n",
    "extract_definition"
   ]
  },
  {
   "cell_type": "markdown",
   "id": "eb957bb5-f2af-4124-a0e7-591b57b3ef04",
   "metadata": {},
   "source": [
    "Everything looks good so we will submit the extraction request, wait for it to complete, and download the resulting data.\n",
    "\n",
    "### 3c. Submit the Extract Request\n",
    "\n",
    "Now that the extraction definition is set up, we can submit it to the IPUMS API using the [*submit_extract*](https://rdrr.io/cran/ipumsr/man/submit_extract.html) from the [**ipumsr**](https://cran.r-project.org/web/packages/ipumsr/index.html).\n",
    "\n",
    "For this exercise, after submitting the request we will also use the [*wait_for_extract*](https://rdrr.io/cran/ipumsr/man/wait_for_extract.html) function from the [**ipumsr**](https://cran.r-project.org/web/packages/ipumsr/index.html) package to monitor the status of the request.  This is not a necessary step but it is helpful, especially when submitting large requests.\n",
    "\n",
    "Finally, once the extract is complete, we can download it using the [*download_extract*](https://rdrr.io/cran/ipumsr/man/download_extract.html) function from the [**ipumsr**](https://cran.r-project.org/web/packages/ipumsr/index.html) package and save it in the object *filepath*."
   ]
  },
  {
   "cell_type": "code",
   "execution_count": 9,
   "id": "d804f9c9-54f3-41c3-a2a2-ba5a63cfaf99",
   "metadata": {},
   "outputs": [
    {
     "name": "stderr",
     "output_type": "stream",
     "text": [
      "Successfully submitted IPUMS USA extract number 30\n",
      "\n",
      "Checking extract status...\n",
      "\n",
      "Waiting 10 seconds...\n",
      "\n",
      "Checking extract status...\n",
      "\n",
      "Waiting 20 seconds...\n",
      "\n",
      "Checking extract status...\n",
      "\n",
      "IPUMS USA extract 30 is ready to download.\n",
      "\n"
     ]
    },
    {
     "data": {
      "text/html": [
       "'completed'"
      ],
      "text/latex": [
       "'completed'"
      ],
      "text/markdown": [
       "'completed'"
      ],
      "text/plain": [
       "[1] \"completed\""
      ]
     },
     "metadata": {},
     "output_type": "display_data"
    },
    {
     "name": "stdout",
     "output_type": "stream",
     "text": [
      "\n",
      "\n",
      " |======================================================================| 100%"
     ]
    },
    {
     "name": "stderr",
     "output_type": "stream",
     "text": [
      "DDI codebook file saved to C:/Users/vavra/Dropbox/R Spatial/r-spatial/usa_00030.xml\n",
      "Data file saved to C:/Users/vavra/Dropbox/R Spatial/r-spatial/usa_00030.dat.gz\n",
      "\n"
     ]
    }
   ],
   "source": [
    "# submit extraction request\n",
    "extract_submitted <- submit_extract(extract_definition)\n",
    "\n",
    "# wait for completion\n",
    "extraction_complete <- wait_for_extract(extract_submitted)\n",
    "\n",
    "# check completion status\n",
    "extraction_complete$status\n",
    "\n",
    "# get the extract filepath\n",
    "filepath <- download_extract(extract_submitted, overwrite = T)"
   ]
  },
  {
   "cell_type": "markdown",
   "id": "96a4b12f-4353-4fac-833b-dd08ea829173",
   "metadata": {},
   "source": [
    "### 3d. Review the Extract\n",
    "\n",
    "Once we have downloaded the extract, we are ready to review it and transform it to a format we can easily use.  The data extract download will contain the following two files.\n",
    "\n",
    "1. A [DDI (Data Documentation Initiative)](https://ddialliance.org) codebook file (file extension .xml) containing metadata and descriptive information for the data.\n",
    "2. A zipped data (.dat) file (file extension .dat.gz) containing the data.\n",
    "\n",
    "Read the ddi and data files into a format which we can work with in R.  The final *dat* object will contain the data from our extraction in a table format which is easy to use in R."
   ]
  },
  {
   "cell_type": "code",
   "execution_count": 10,
   "id": "d4e90e86-6f89-4118-bfe5-dffedd6a18bd",
   "metadata": {},
   "outputs": [
    {
     "name": "stderr",
     "output_type": "stream",
     "text": [
      "Use of data from IPUMS USA is subject to conditions including that users should cite the data appropriately. Use command `ipums_conditions()` for more details.\n",
      "\n"
     ]
    }
   ],
   "source": [
    "ddi <- read_ipums_ddi(filepath)\n",
    "dat <- read_ipums_micro(ddi)"
   ]
  },
  {
   "cell_type": "markdown",
   "id": "f823c049-3fe4-48ac-9c91-ba9bd28b5d22",
   "metadata": {},
   "source": [
    "We now have a useable version of our dataset stored in *dat*.  Let's take a look at the number of observations and variables in the data."
   ]
  },
  {
   "cell_type": "code",
   "execution_count": 11,
   "id": "15776ab6-2323-4b53-bb7d-1fa41e5ab211",
   "metadata": {},
   "outputs": [
    {
     "data": {
      "text/html": [
       "<style>\n",
       ".list-inline {list-style: none; margin:0; padding: 0}\n",
       ".list-inline>li {display: inline-block}\n",
       ".list-inline>li:not(:last-child)::after {content: \"\\00b7\"; padding: 0 .5ex}\n",
       "</style>\n",
       "<ol class=list-inline><li>3061692</li><li>19</li></ol>\n"
      ],
      "text/latex": [
       "\\begin{enumerate*}\n",
       "\\item 3061692\n",
       "\\item 19\n",
       "\\end{enumerate*}\n"
      ],
      "text/markdown": [
       "1. 3061692\n",
       "2. 19\n",
       "\n",
       "\n"
      ],
      "text/plain": [
       "[1] 3061692      19"
      ]
     },
     "metadata": {},
     "output_type": "display_data"
    }
   ],
   "source": [
    "dim(dat)"
   ]
  },
  {
   "cell_type": "markdown",
   "id": "6f6a36bd-0e8d-40d0-bc9a-5252c8ba85f6",
   "metadata": {},
   "source": [
    "The 2010 ACS data we downloaded includes information on 19 variables for about 3.1 million individuals.  This makes sense since we know the ACS surveys about 3.5 million individuals each year.\n",
    "\n",
    "Let's take a look at the first few lines of the data."
   ]
  },
  {
   "cell_type": "code",
   "execution_count": 12,
   "id": "f76e9234-340d-4ec0-99c5-4bfe0e46a594",
   "metadata": {},
   "outputs": [
    {
     "data": {
      "text/html": [
       "<table class=\"dataframe\">\n",
       "<caption>A tibble: 6 × 19</caption>\n",
       "<thead>\n",
       "\t<tr><th scope=col>YEAR</th><th scope=col>SAMPLE</th><th scope=col>SERIAL</th><th scope=col>CBSERIAL</th><th scope=col>HHWT</th><th scope=col>CLUSTER</th><th scope=col>STATEFIP</th><th scope=col>PUMA</th><th scope=col>STRATA</th><th scope=col>GQ</th><th scope=col>PERNUM</th><th scope=col>PERWT</th><th scope=col>SEX</th><th scope=col>AGE</th><th scope=col>RACE</th><th scope=col>RACED</th><th scope=col>EDUC</th><th scope=col>EDUCD</th><th scope=col>INCTOT</th></tr>\n",
       "\t<tr><th scope=col>&lt;int&gt;</th><th scope=col>&lt;int+lbl&gt;</th><th scope=col>&lt;dbl&gt;</th><th scope=col>&lt;dbl&gt;</th><th scope=col>&lt;dbl&gt;</th><th scope=col>&lt;dbl&gt;</th><th scope=col>&lt;int+lbl&gt;</th><th scope=col>&lt;dbl+lbl&gt;</th><th scope=col>&lt;dbl&gt;</th><th scope=col>&lt;int+lbl&gt;</th><th scope=col>&lt;dbl&gt;</th><th scope=col>&lt;dbl&gt;</th><th scope=col>&lt;int+lbl&gt;</th><th scope=col>&lt;int+lbl&gt;</th><th scope=col>&lt;int+lbl&gt;</th><th scope=col>&lt;int+lbl&gt;</th><th scope=col>&lt;int+lbl&gt;</th><th scope=col>&lt;int+lbl&gt;</th><th scope=col>&lt;dbl+lbl&gt;</th></tr>\n",
       "</thead>\n",
       "<tbody>\n",
       "\t<tr><td>2010</td><td>201001</td><td>1</td><td> 69</td><td>96</td><td>2.01e+12</td><td>1</td><td> 400</td><td> 40001</td><td>1</td><td>1</td><td> 96</td><td>2</td><td>75</td><td>1</td><td>100</td><td> 6</td><td> 63</td><td>   7500</td></tr>\n",
       "\t<tr><td>2010</td><td>201001</td><td>2</td><td> 80</td><td>97</td><td>2.01e+12</td><td>1</td><td>2200</td><td>220001</td><td>1</td><td>1</td><td> 97</td><td>1</td><td>25</td><td>1</td><td>100</td><td>11</td><td>114</td><td>  17000</td></tr>\n",
       "\t<tr><td>2010</td><td>201001</td><td>2</td><td> 80</td><td>97</td><td>2.01e+12</td><td>1</td><td>2200</td><td>220001</td><td>1</td><td>2</td><td>128</td><td>2</td><td>26</td><td>1</td><td>100</td><td> 7</td><td> 71</td><td>  13000</td></tr>\n",
       "\t<tr><td>2010</td><td>201001</td><td>2</td><td> 80</td><td>97</td><td>2.01e+12</td><td>1</td><td>2200</td><td>220001</td><td>1</td><td>3</td><td>182</td><td>1</td><td> 3</td><td>1</td><td>100</td><td> 0</td><td>  2</td><td>9999999</td></tr>\n",
       "\t<tr><td>2010</td><td>201001</td><td>3</td><td>140</td><td>90</td><td>2.01e+12</td><td>1</td><td> 100</td><td> 10001</td><td>1</td><td>1</td><td> 90</td><td>2</td><td>87</td><td>1</td><td>100</td><td> 7</td><td> 71</td><td>  29400</td></tr>\n",
       "\t<tr><td>2010</td><td>201001</td><td>4</td><td>224</td><td>82</td><td>2.01e+12</td><td>1</td><td>1300</td><td>130001</td><td>1</td><td>1</td><td> 82</td><td>1</td><td>33</td><td>1</td><td>100</td><td>10</td><td>101</td><td>  28000</td></tr>\n",
       "</tbody>\n",
       "</table>\n"
      ],
      "text/latex": [
       "A tibble: 6 × 19\n",
       "\\begin{tabular}{lllllllllllllllllll}\n",
       " YEAR & SAMPLE & SERIAL & CBSERIAL & HHWT & CLUSTER & STATEFIP & PUMA & STRATA & GQ & PERNUM & PERWT & SEX & AGE & RACE & RACED & EDUC & EDUCD & INCTOT\\\\\n",
       " <int> & <int+lbl> & <dbl> & <dbl> & <dbl> & <dbl> & <int+lbl> & <dbl+lbl> & <dbl> & <int+lbl> & <dbl> & <dbl> & <int+lbl> & <int+lbl> & <int+lbl> & <int+lbl> & <int+lbl> & <int+lbl> & <dbl+lbl>\\\\\n",
       "\\hline\n",
       "\t 2010 & 201001 & 1 &  69 & 96 & 2.01e+12 & 1 &  400 &  40001 & 1 & 1 &  96 & 2 & 75 & 1 & 100 &  6 &  63 &    7500\\\\\n",
       "\t 2010 & 201001 & 2 &  80 & 97 & 2.01e+12 & 1 & 2200 & 220001 & 1 & 1 &  97 & 1 & 25 & 1 & 100 & 11 & 114 &   17000\\\\\n",
       "\t 2010 & 201001 & 2 &  80 & 97 & 2.01e+12 & 1 & 2200 & 220001 & 1 & 2 & 128 & 2 & 26 & 1 & 100 &  7 &  71 &   13000\\\\\n",
       "\t 2010 & 201001 & 2 &  80 & 97 & 2.01e+12 & 1 & 2200 & 220001 & 1 & 3 & 182 & 1 &  3 & 1 & 100 &  0 &   2 & 9999999\\\\\n",
       "\t 2010 & 201001 & 3 & 140 & 90 & 2.01e+12 & 1 &  100 &  10001 & 1 & 1 &  90 & 2 & 87 & 1 & 100 &  7 &  71 &   29400\\\\\n",
       "\t 2010 & 201001 & 4 & 224 & 82 & 2.01e+12 & 1 & 1300 & 130001 & 1 & 1 &  82 & 1 & 33 & 1 & 100 & 10 & 101 &   28000\\\\\n",
       "\\end{tabular}\n"
      ],
      "text/markdown": [
       "\n",
       "A tibble: 6 × 19\n",
       "\n",
       "| YEAR &lt;int&gt; | SAMPLE &lt;int+lbl&gt; | SERIAL &lt;dbl&gt; | CBSERIAL &lt;dbl&gt; | HHWT &lt;dbl&gt; | CLUSTER &lt;dbl&gt; | STATEFIP &lt;int+lbl&gt; | PUMA &lt;dbl+lbl&gt; | STRATA &lt;dbl&gt; | GQ &lt;int+lbl&gt; | PERNUM &lt;dbl&gt; | PERWT &lt;dbl&gt; | SEX &lt;int+lbl&gt; | AGE &lt;int+lbl&gt; | RACE &lt;int+lbl&gt; | RACED &lt;int+lbl&gt; | EDUC &lt;int+lbl&gt; | EDUCD &lt;int+lbl&gt; | INCTOT &lt;dbl+lbl&gt; |\n",
       "|---|---|---|---|---|---|---|---|---|---|---|---|---|---|---|---|---|---|---|\n",
       "| 2010 | 201001 | 1 |  69 | 96 | 2.01e+12 | 1 |  400 |  40001 | 1 | 1 |  96 | 2 | 75 | 1 | 100 |  6 |  63 |    7500 |\n",
       "| 2010 | 201001 | 2 |  80 | 97 | 2.01e+12 | 1 | 2200 | 220001 | 1 | 1 |  97 | 1 | 25 | 1 | 100 | 11 | 114 |   17000 |\n",
       "| 2010 | 201001 | 2 |  80 | 97 | 2.01e+12 | 1 | 2200 | 220001 | 1 | 2 | 128 | 2 | 26 | 1 | 100 |  7 |  71 |   13000 |\n",
       "| 2010 | 201001 | 2 |  80 | 97 | 2.01e+12 | 1 | 2200 | 220001 | 1 | 3 | 182 | 1 |  3 | 1 | 100 |  0 |   2 | 9999999 |\n",
       "| 2010 | 201001 | 3 | 140 | 90 | 2.01e+12 | 1 |  100 |  10001 | 1 | 1 |  90 | 2 | 87 | 1 | 100 |  7 |  71 |   29400 |\n",
       "| 2010 | 201001 | 4 | 224 | 82 | 2.01e+12 | 1 | 1300 | 130001 | 1 | 1 |  82 | 1 | 33 | 1 | 100 | 10 | 101 |   28000 |\n",
       "\n"
      ],
      "text/plain": [
       "  YEAR SAMPLE SERIAL CBSERIAL HHWT CLUSTER  STATEFIP PUMA STRATA GQ PERNUM\n",
       "1 2010 201001 1       69      96   2.01e+12 1         400  40001 1  1     \n",
       "2 2010 201001 2       80      97   2.01e+12 1        2200 220001 1  1     \n",
       "3 2010 201001 2       80      97   2.01e+12 1        2200 220001 1  2     \n",
       "4 2010 201001 2       80      97   2.01e+12 1        2200 220001 1  3     \n",
       "5 2010 201001 3      140      90   2.01e+12 1         100  10001 1  1     \n",
       "6 2010 201001 4      224      82   2.01e+12 1        1300 130001 1  1     \n",
       "  PERWT SEX AGE RACE RACED EDUC EDUCD INCTOT \n",
       "1  96   2   75  1    100    6    63      7500\n",
       "2  97   1   25  1    100   11   114     17000\n",
       "3 128   2   26  1    100    7    71     13000\n",
       "4 182   1    3  1    100    0     2   9999999\n",
       "5  90   2   87  1    100    7    71     29400\n",
       "6  82   1   33  1    100   10   101     28000"
      ]
     },
     "metadata": {},
     "output_type": "display_data"
    }
   ],
   "source": [
    "head(dat)"
   ]
  },
  {
   "cell_type": "markdown",
   "id": "02f17e74-6f2a-4495-b588-845fd185a817",
   "metadata": {},
   "source": [
    "Notice that this data is in [*tibble*](https://tibble.tidyverse.org) format rather than the more common *data.frame* format you might be used to as an R user.  A tibble can be thought of as a version of a data.frame that includes additional functionality and metadata visibility.  It is also more compatible with the [*tidyverse*](https://www.tidyverse.org) packages, including the [*dplyr*](https://cran.r-project.org/web/packages/dplyr/index.html) package we use in this notebook.\n",
    "\n",
    "As mentioned above, IPUMS includes a set of preselected variables in data extractions, along with the variables selected by the user.  We only selected 6 variables for the extraction but the resulting download includes 18 variables.  Let's take a look at the list of column names."
   ]
  },
  {
   "cell_type": "code",
   "execution_count": 13,
   "id": "07efce56-6ebe-4ec8-81ca-a2514bc83332",
   "metadata": {},
   "outputs": [
    {
     "data": {
      "text/html": [
       "<style>\n",
       ".list-inline {list-style: none; margin:0; padding: 0}\n",
       ".list-inline>li {display: inline-block}\n",
       ".list-inline>li:not(:last-child)::after {content: \"\\00b7\"; padding: 0 .5ex}\n",
       "</style>\n",
       "<ol class=list-inline><li>'YEAR'</li><li>'SAMPLE'</li><li>'SERIAL'</li><li>'CBSERIAL'</li><li>'HHWT'</li><li>'CLUSTER'</li><li>'STATEFIP'</li><li>'PUMA'</li><li>'STRATA'</li><li>'GQ'</li><li>'PERNUM'</li><li>'PERWT'</li><li>'SEX'</li><li>'AGE'</li><li>'RACE'</li><li>'RACED'</li><li>'EDUC'</li><li>'EDUCD'</li><li>'INCTOT'</li></ol>\n"
      ],
      "text/latex": [
       "\\begin{enumerate*}\n",
       "\\item 'YEAR'\n",
       "\\item 'SAMPLE'\n",
       "\\item 'SERIAL'\n",
       "\\item 'CBSERIAL'\n",
       "\\item 'HHWT'\n",
       "\\item 'CLUSTER'\n",
       "\\item 'STATEFIP'\n",
       "\\item 'PUMA'\n",
       "\\item 'STRATA'\n",
       "\\item 'GQ'\n",
       "\\item 'PERNUM'\n",
       "\\item 'PERWT'\n",
       "\\item 'SEX'\n",
       "\\item 'AGE'\n",
       "\\item 'RACE'\n",
       "\\item 'RACED'\n",
       "\\item 'EDUC'\n",
       "\\item 'EDUCD'\n",
       "\\item 'INCTOT'\n",
       "\\end{enumerate*}\n"
      ],
      "text/markdown": [
       "1. 'YEAR'\n",
       "2. 'SAMPLE'\n",
       "3. 'SERIAL'\n",
       "4. 'CBSERIAL'\n",
       "5. 'HHWT'\n",
       "6. 'CLUSTER'\n",
       "7. 'STATEFIP'\n",
       "8. 'PUMA'\n",
       "9. 'STRATA'\n",
       "10. 'GQ'\n",
       "11. 'PERNUM'\n",
       "12. 'PERWT'\n",
       "13. 'SEX'\n",
       "14. 'AGE'\n",
       "15. 'RACE'\n",
       "16. 'RACED'\n",
       "17. 'EDUC'\n",
       "18. 'EDUCD'\n",
       "19. 'INCTOT'\n",
       "\n",
       "\n"
      ],
      "text/plain": [
       " [1] \"YEAR\"     \"SAMPLE\"   \"SERIAL\"   \"CBSERIAL\" \"HHWT\"     \"CLUSTER\" \n",
       " [7] \"STATEFIP\" \"PUMA\"     \"STRATA\"   \"GQ\"       \"PERNUM\"   \"PERWT\"   \n",
       "[13] \"SEX\"      \"AGE\"      \"RACE\"     \"RACED\"    \"EDUC\"     \"EDUCD\"   \n",
       "[19] \"INCTOT\"  "
      ]
     },
     "metadata": {},
     "output_type": "display_data"
    }
   ],
   "source": [
    "colnames(dat)"
   ]
  },
  {
   "cell_type": "markdown",
   "id": "b4d212d0-f085-42ee-b885-4c9dbc61e597",
   "metadata": {},
   "source": [
    "This list includes the 7 variables we originally selected as well as detailed supplemental variables for 2 of our selected variables (RACED for the variales RACE and EDUCD for the variable EDUC).  We also see that there are 10 additional IPUMS preselected variables which mainly include metadata such as identification codes, weights, and other metainformation.\n",
    "\n",
    "**Variable Selection**\n",
    "* [State FIPS Code (STATEFIP)](https://en.wikipedia.org/wiki/Federal_Information_Processing_Standard_state_code)\n",
    "* [Public Use Microdata Area (PUMA)](https://www.census.gov/programs-surveys/geography/guidance/geo-areas/pumas.html#:~:text=Public%20Use%20Microdata%20Areas%20(PUMAs)%20are%20non%2Doverlapping%2C,%2C%20Puerto%20Rico%2C%20and%20Guam.)\n",
    "* Sex (SEX)\n",
    "* Age (AGE)\n",
    "* Race (RACE)\n",
    "* Educational Attainment (EDUC)\n",
    "* Total Personal Income (INCTOT)\n",
    "\n",
    "**Detailed Supplements for Selected Variables**\n",
    "* Race (detailed) (RACED)\n",
    "* Education (detailed) (EDUCD)\n",
    "\n",
    "**IPUMS Preselected Variables**\n",
    "* Census Year (YEAR)\n",
    "* IPUMS Sample Identifier (SAMPLE)\n",
    "* Household Serial Number (SERIAL)\n",
    "* Original Census Bureau Household Serial Number (CBSERIAL)\n",
    "* Household Weight (HHWT)\n",
    "* Household Cluster for Vaccine Estimation (CLUSTER)\n",
    "* Household Strata for Variance Estimation (STRATA)\n",
    "* Group Quarters Status (GQ)\n",
    "* Person Number in Sample Unit (PERNUM)\n",
    "* Person Weight (PERWT)\n",
    "\n",
    "### 3e. Save the Data\n",
    "\n",
    "Finally, let's save the data we extracted from IPUMS USA.  We will save the data in the following two formats:\n",
    "\n",
    "* A *.rds* version of the data.  The **R Data Serialization (RDS)** format will retain metadata for the next time we want to import the file back into R.  One downside to the .rds format is it is only useable within R.\n",
    "* A *.csv* version of the data.  The [**Comma-Separated Values (CSV)**](https://en.wikipedia.org/wiki/Comma-separated_values) format is versitile and can be easily accessed in other programs.  However, the CSV file format does not include metadata such as labels for variable levels.\n",
    "\n",
    "Since our data is very large (the .csv verion of the saved data will be about 300 MB) let's first subset it to make it a little easier to work with.  Before saving, we will subset the data to include only individuals located in the state of Michigan (FIPS code 26)."
   ]
  },
  {
   "cell_type": "code",
   "execution_count": 14,
   "id": "2fe4fd66-35cb-4ebe-99aa-b8c23b4f9474",
   "metadata": {},
   "outputs": [
    {
     "data": {
      "text/html": [
       "<style>\n",
       ".list-inline {list-style: none; margin:0; padding: 0}\n",
       ".list-inline>li {display: inline-block}\n",
       ".list-inline>li:not(:last-child)::after {content: \"\\00b7\"; padding: 0 .5ex}\n",
       "</style>\n",
       "<ol class=list-inline><li>98973</li><li>19</li></ol>\n"
      ],
      "text/latex": [
       "\\begin{enumerate*}\n",
       "\\item 98973\n",
       "\\item 19\n",
       "\\end{enumerate*}\n"
      ],
      "text/markdown": [
       "1. 98973\n",
       "2. 19\n",
       "\n",
       "\n"
      ],
      "text/plain": [
       "[1] 98973    19"
      ]
     },
     "metadata": {},
     "output_type": "display_data"
    }
   ],
   "source": [
    "# subset the data to only the state of Michigan\n",
    "dat_subset <- dat[dat$STATEFIP == 26,]\n",
    "\n",
    "# view the dimensions of the new data table\n",
    "dim(dat_subset)"
   ]
  },
  {
   "cell_type": "markdown",
   "id": "b96a43c1-6619-42ca-8e05-59c75218e423",
   "metadata": {},
   "source": [
    "Subsetting the data to only Indiana reduces the dimensions of the data to only 98,973 individuals, making it much easier to work with and store."
   ]
  },
  {
   "cell_type": "code",
   "execution_count": 15,
   "id": "96f7c3b3-06ec-403c-baa1-576123fe2654",
   "metadata": {},
   "outputs": [],
   "source": [
    "saveRDS(dat_subset, \"ipums_usa_example.rds\")\n",
    "write.csv(dat_subset, \"ipums_usa_example.csv\")"
   ]
  },
  {
   "cell_type": "markdown",
   "id": "a1647e32-2058-4898-87bf-6181dfd3f193",
   "metadata": {},
   "source": [
    "At the end of this exercise we have a freshly downloaded dataset from the IPUMS USA repository saved in our workspace."
   ]
  },
  {
   "cell_type": "markdown",
   "id": "3de5cc34-47fb-4be1-a467-a78fddb88ac1",
   "metadata": {},
   "source": [
    "---\n",
    "\n",
    "## Next Steps\n",
    "\n",
    "* Continue to [**Chapter 3.02 IPUMS NHGIS Data Extraction using ipumsr**](https://platform.i-guide.io/notebooks/be08e56e-1c08-458e-a230-263c64d386bc)\n",
    "* Move on to Chapter 5: Data Cleaning, Preparation, and Exploratory Data Analysis (EDA)\n",
    "  * [**Chapter 5.01 Data Cleaning and Preparation with IPUMS USA**]()\n",
    "  * [**Chapter 5.03 Exploratory Data Analysis with IPUMS USA**]()\n",
    "* Return to the [**R Spatial Notebooks Project Chapter List**](https://vavramusser.github.io/r-spatial/#:~:text=Chapter%201%3A%20Data%20Sources%20and%20APIs) to view a list of all available notebooks organized in the R Spatial Notebooks chapter structure.\n",
    "* Visit the [**R Spatial Notebooks Project Homepage**](https://vavramusser.github.io/r-spatial) to learn more about the project, view the list of all notebooks, and explore additional resources.\n",
    "* Join the project [**Mailing List**](https://mailchi.mp/ab01e8fc8397/r-spatial-email-signup) to hear about future notebook releases and other updates.\n",
    "* If you have an idea for a new notebook please submit your idea via the [**Suggestion Box**](https://us19.list-manage.com/survey?u=746bf8d366d6fbc99c699e714&id=54590a28ea&attribution=false).\n",
    "\n",
    "---\n",
    "\n",
    "## ★ Thank You ★\n",
    "\n",
    "Thank you so much for engaging with this notebook and supporting the project!  The R Spatial Notebooks Project is a labor of love so if you enjoy or benefit from these notebooks, please consider [**Donating to the Project**](https://buymeacoffee.com/vavramusser).  Your support allows me to continue producing notebooks and supporting the R Spatial Notebooks community."
   ]
  },
  {
   "cell_type": "markdown",
   "id": "38cd4475-fc7d-4935-ace2-db1072757b60",
   "metadata": {},
   "source": [
    "---\n",
    "\n",
    "## Quick Code\n",
    "A clean and simple version of the code included in this notebook (excluding the metadata exploration steps).  **Don't forget to update the code with your IPUMS API key!**"
   ]
  },
  {
   "cell_type": "raw",
   "id": "f803b68b-01e2-44ac-bfcb-8fc3703596f6",
   "metadata": {},
   "source": [
    "# install required packages\n",
    "# install.packages(\"ipumsr\")\n",
    "\n",
    "# load required libraries\n",
    "library(ipumsr)\n",
    "\n",
    "# set IPUMS API key\n",
    "ipums_api_key <- \"paste your api key here\"\n",
    "set_ipums_api_key(ipums_api_key, save = T, overwrite = T)\n",
    "\n",
    "# set up the data extract\n",
    "extraction <- define_extract_micro(description = \"IPUMS USA Data Extraction\",\n",
    "                                   collection = \"usa\",\n",
    "                                   sample = \"us2010a\",\n",
    "                                   variables = c(\"PUMA\", \"SEX\", \"AGE\", \"RACE\", \"EDUC\", \"INCTOT\"))\n",
    "\n",
    "# submit extract request and download the files\n",
    "extraction_submitted <- submit_extract(extraction)                  # submit the extract  \n",
    "extraction_complete <- wait_for_extract(extraction_submitted)       # wait for completion\n",
    "extraction_complete$status                                          # check completion\n",
    "filepath <- download_extract(extraction_submitted, overwrite = T)   # get extract filepath\n",
    "\n",
    "# extract the files\n",
    "ddi <- read_ipums_ddi(filepath)\n",
    "dat <- read_ipums_micro(ddi)\n",
    "\n",
    "# save as RDS file\n",
    "saveRDS(dat, \"ipums_usa_example.rds\", )\n",
    "\n",
    "# save as a csv file\n",
    "write.csv(dat, \"ipums_usa_example.csv\")"
   ]
  }
 ],
 "metadata": {
  "kernelspec": {
   "display_name": "R",
   "language": "R",
   "name": "ir"
  },
  "language_info": {
   "codemirror_mode": "r",
   "file_extension": ".r",
   "mimetype": "text/x-r-source",
   "name": "R",
   "pygments_lexer": "r",
   "version": "4.3.3"
  }
 },
 "nbformat": 4,
 "nbformat_minor": 5
}
