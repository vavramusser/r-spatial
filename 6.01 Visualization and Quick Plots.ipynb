{
 "cells": [
  {
   "cell_type": "markdown",
   "id": "89474c97-01cc-4738-8cab-8ed363d0c8a0",
   "metadata": {},
   "source": [
    "# Visualization and Quick Plots\n",
    "### by [Kate Vavra-Musser](https://vavramusser.github.io) for the [R Spatial Notebook Series](https://vavramusser.github.io/r-spatial)"
   ]
  },
  {
   "cell_type": "markdown",
   "id": "2865d5cd-32f4-45a6-bfd6-aefd9f126a6b",
   "metadata": {},
   "source": [
    "## Introduction\n",
    "Visualization is a critical step in spatial analysis, enabling us to explore and communicate patterns in spatial data effectively. This notebook focuses on quick visualization techniques, which are essential during the exploratory phase of analysis. By visualizing your data early on, you can uncover trends, detect outliers, and gain insights that inform the rest of your workflow.\n",
    "\n",
    "This notebook is the foundation for the rest of the \"Mapping and Visualization\" chapter. Later notebooks will dive deeper into working with point and polygon data, choropleth mapping, and advanced tools like leaflet and tmap.\n",
    "\n",
    "### Notebook Goals\n",
    "Learn how to create quick, static plots of spatial data.  Use R's sf package to handle spatial data efficiently.  Leverage ggplot2 for clean and customizable visualizations.  Address common challenges, such as working with projections and large datasets.\n",
    "\n",
    "By the end of this notebook, you'll be able to: Quickly visualize spatial data to assess its structure and content.  Use plotting techniques that set the stage for more advanced mapping.\n",
    "\n",
    "### ★ Prerequisites ★\n",
    "* Complete Chapter 2.2 Reading, Writing, and Inspecting Vector Data\n",
    "* Complete Chapter 2.3 Working with CRS: Reprojection and Transformation\n",
    "* Complete Chapter 2.4 Preparing Spatial Data\n",
    "### Notebook Overview\n",
    "...\n",
    "\n",
    "---"
   ]
  },
  {
   "cell_type": "markdown",
   "id": "66bf081d-4976-4d06-855f-3621cdd642b1",
   "metadata": {},
   "source": [
    "## 1. Setup\n",
    "\n",
    "This notebook requires the following R packages and functions.\n",
    "\n",
    "[**ggplot2**](https://cran.r-project.org/web/packages/ggplot2/index.html) · Create Elegant Data Visualisations Using the Grammar of Graphics · A system for *declaratively* creating graphics, based on *The Grammar of Graphics*. You provide the data, tell *ggplot2* how to map variables to aesthetics, what graphical primitives to use, and it takes care of the details. · This notebook uses the following functions from *ggplot2*.\n",
    "\n",
    "* *CoordSf* · visualize sf objects\n",
    "  * *geom_sf* · geometric objects (points, lines, or polygons)\n",
    "* [*ggplot*](https://rdrr.io/cran/ggplot2/man/ggplot.html) · create a new ggplot\n",
    "* [*labs*](https://rdrr.io/cran/ggplot2/man/labs.html) · modify axis, legend, and plot labels\n",
    "* [*ggtheme*](https://rdrr.io/cran/ggplot2/man/ggtheme.html) · complete themes\n",
    "  * *theme_minimal* · minimal theme\n",
    "\n",
    "[**sf**](https://cran.r-project.org/web/packages/sf/index.html) · Support for [simple features](https://r-spatial.github.io/sf/articles/sf1.html), a standardized way to encode spatial vector data - Binds to [*GDAL*](https://gdal.org/en/stable) for reading and writing data, to [*GEOS*](https://libgeos.org) for geometrical operations, and to [*PROJ*](https://proj.org/en/stable) for projection conversions and datum transformations - Uses by default the [*s2*](https://cran.r-project.org/web/packages/s2/index.html) package for spherical geometry operations on ellipsoidal (long/lat) coordinates · This notebook uses the following functions from *sf*.\n",
    "\n",
    "* [*st_read*](https://rdrr.io/cran/sf/man/st_read.html) · read simple features or layers from file or database\n",
    "* [*st_transform*](https://rdrr.io/cran/sf/man/st_transform.html) · transform or convert coordinates of simple feature\n",
    "* [*st_write*](https://rdrr.io/cran/sf/man/st_write.html) · write simple features object to file or database"
   ]
  },
  {
   "cell_type": "markdown",
   "id": "2b474442-9324-4b88-ae61-b53123d8f547",
   "metadata": {},
   "source": [
    "### 1a. Install and Load Required Packages\n",
    "If you have not already installed the required packages, uncomment and run the code below:"
   ]
  },
  {
   "cell_type": "code",
   "execution_count": 13,
   "id": "0707c1ef-8684-4f7b-aecd-97d31e5b8c59",
   "metadata": {},
   "outputs": [],
   "source": [
    "# install.packages(c(\"ggplot2\", \"sf\"))"
   ]
  },
  {
   "cell_type": "markdown",
   "id": "eaef2b44-ae0e-4dc6-9234-08adb27fbccd",
   "metadata": {},
   "source": [
    "Load the packages into your workspace."
   ]
  },
  {
   "cell_type": "code",
   "execution_count": 3,
   "id": "f9f0c3cc-d963-4148-97d7-fffdf63dda04",
   "metadata": {},
   "outputs": [
    {
     "name": "stderr",
     "output_type": "stream",
     "text": [
      "Linking to GEOS 3.11.2, GDAL 3.8.2, PROJ 9.3.1; sf_use_s2() is TRUE\n",
      "\n"
     ]
    }
   ],
   "source": [
    "library(ggplot2)\n",
    "library(sf)"
   ]
  },
  {
   "cell_type": "code",
   "execution_count": 5,
   "id": "d7304090-6eb8-4c11-a129-2b8e689c0ab9",
   "metadata": {},
   "outputs": [
    {
     "name": "stdout",
     "output_type": "stream",
     "text": [
      "Reading layer `usa_states' from data source \n",
      "  `C:\\Users\\vavra\\Dropbox\\R Spatial\\r-spatial\\usa_states.shp' \n",
      "  using driver `ESRI Shapefile'\n",
      "Simple feature collection with 52 features and 9 fields\n",
      "Geometry type: MULTIPOLYGON\n",
      "Dimension:     XY\n",
      "Bounding box:  xmin: -179.1743 ymin: 17.91377 xmax: 179.7739 ymax: 71.35256\n",
      "Geodetic CRS:  NAD83\n"
     ]
    }
   ],
   "source": [
    "# load example spatial data\n",
    "usa_states <- st_read(\"usa_states.shp\")"
   ]
  },
  {
   "cell_type": "code",
   "execution_count": 9,
   "id": "f486c921-0cbb-4d52-801d-49d006b97acd",
   "metadata": {},
   "outputs": [
    {
     "name": "stdout",
     "output_type": "stream",
     "text": [
      "Simple feature collection with 52 features and 9 fields\n",
      "Geometry type: MULTIPOLYGON\n",
      "Dimension:     XY\n",
      "Bounding box:  xmin: -179.1743 ymin: 17.91377 xmax: 179.7739 ymax: 71.35256\n",
      "Geodetic CRS:  NAD83\n",
      "First 10 features:\n",
      "   STATEFP  STATENS    AFFGEOID GEOID STUSPS         NAME LSAD        ALAND\n",
      "1       24 01714934 0400000US24    24     MD     Maryland   00  25151100280\n",
      "2       19 01779785 0400000US19    19     IA         Iowa   00 144661267977\n",
      "3       10 01779781 0400000US10    10     DE     Delaware   00   5045925646\n",
      "4       39 01085497 0400000US39    39     OH         Ohio   00 105828882568\n",
      "5       42 01779798 0400000US42    42     PA Pennsylvania   00 115884442321\n",
      "6       31 01779792 0400000US31    31     NE     Nebraska   00 198956658395\n",
      "7       53 01779804 0400000US53    53     WA   Washington   00 172112588220\n",
      "8       72 01779808 0400000US72    72     PR  Puerto Rico   00   8868896030\n",
      "9       01 01779775 0400000US01    01     AL      Alabama   00 131174048583\n",
      "10      05 00068085 0400000US05    05     AR     Arkansas   00 134768872727\n",
      "        AWATER                       geometry\n",
      "1   6979966958 MULTIPOLYGON (((-76.04621 3...\n",
      "2   1084180812 MULTIPOLYGON (((-96.62187 4...\n",
      "3   1399985648 MULTIPOLYGON (((-75.77379 3...\n",
      "4  10268850702 MULTIPOLYGON (((-82.86334 4...\n",
      "5   3394589990 MULTIPOLYGON (((-80.51989 4...\n",
      "6   1371829134 MULTIPOLYGON (((-104.0531 4...\n",
      "7  12559278850 MULTIPOLYGON (((-123.2371 4...\n",
      "8   4922382562 MULTIPOLYGON (((-65.34207 1...\n",
      "9   4593327154 MULTIPOLYGON (((-88.46866 3...\n",
      "10  2962859592 MULTIPOLYGON (((-94.61792 3...\n"
     ]
    }
   ],
   "source": [
    "# inspect the data\n",
    "print(usa_states)"
   ]
  },
  {
   "cell_type": "markdown",
   "id": "faa0a146-b246-4f01-8c6f-07aa5f8b4c15",
   "metadata": {},
   "source": [
    "## 2. Basic Spatial Data Plotting\n",
    "\n",
    "This section demonstrates how to visualize spatial data using R's core plotting functions and ggplot2.\n",
    "\n",
    "* Demonstrate how to read and inspect spatial data using sf or similar libraries.\n",
    "* Plot spatial data with basic R plotting functions (e.g., plot())."
   ]
  },
  {
   "cell_type": "code",
   "execution_count": 22,
   "id": "34c22684-a41b-4468-84fb-29b4826714f7",
   "metadata": {},
   "outputs": [
    {
     "data": {
      "image/png": "[encoded data removed]",
      "text/plain": [
       "plot without title"
      ]
     },
     "metadata": {
      "image/png": {
       "height": 420,
       "width": 420
      }
     },
     "output_type": "display_data"
    }
   ],
   "source": [
    "plot(st_geometry(usa_states))"
   ]
  },
  {
   "cell_type": "code",
   "execution_count": 23,
   "id": "41ffed16-a98c-4497-ac1c-ccb1afbbf802",
   "metadata": {},
   "outputs": [
    {
     "data": {
      "image/png": "[encoded data removed]",
      "text/plain": [
       "Plot with title \"AWATER\""
      ]
     },
     "metadata": {
      "image/png": {
       "height": 420,
       "width": 420
      }
     },
     "output_type": "display_data"
    }
   ],
   "source": [
    "plot(usa_states[\"AWATER\"])"
   ]
  },
  {
   "cell_type": "code",
   "execution_count": 24,
   "id": "adc5b31a-d8ee-4caa-859b-f21ea19f8008",
   "metadata": {},
   "outputs": [
    {
     "data": {
      "image/png": "[encoded data removed]",
      "text/plain": [
       "Plot with title \"Base R Plot of Spatial Data\""
      ]
     },
     "metadata": {
      "image/png": {
       "height": 420,
       "width": 420
      }
     },
     "output_type": "display_data"
    }
   ],
   "source": [
    "plot(usa_states[\"AWATER\"], main = \"Base R Plot of Spatial Data\")"
   ]
  },
  {
   "cell_type": "markdown",
   "id": "acc275b5-d834-44fa-a74b-9dd6a669f075",
   "metadata": {},
   "source": [
    "## 3. Mapping with ggplot2"
   ]
  },
  {
   "cell_type": "markdown",
   "id": "414c770e-9745-459c-bd96-c129a66270ef",
   "metadata": {},
   "source": [
    "### 3.1 Plotting Geometry"
   ]
  },
  {
   "cell_type": "code",
   "execution_count": 26,
   "id": "6f45b81f-b2ac-475e-b3c4-ce80cb671d67",
   "metadata": {},
   "outputs": [
    {
     "data": {
      "image/png": "[encoded data removed]",
      "text/plain": [
       "plot without title"
      ]
     },
     "metadata": {
      "image/png": {
       "height": 420,
       "width": 420
      }
     },
     "output_type": "display_data"
    }
   ],
   "source": [
    "# basic plot using ggplot2 and geom_sf\n",
    "ggplot(data = usa_states) +\n",
    "    geom_sf() +\n",
    "    theme_minimal()"
   ]
  },
  {
   "cell_type": "markdown",
   "id": "a0ea5a6a-f8e6-47b7-8269-d841ec1146d0",
   "metadata": {},
   "source": [
    "### 3.2 Plotting Attributes"
   ]
  },
  {
   "cell_type": "code",
   "execution_count": 29,
   "id": "f260a768-9853-48f2-8edf-06ed57828ea1",
   "metadata": {},
   "outputs": [
    {
     "data": {
      "image/png": "[encoded data removed]",
      "text/plain": [
       "plot without title"
      ]
     },
     "metadata": {
      "image/png": {
       "height": 420,
       "width": 420
      }
     },
     "output_type": "display_data"
    }
   ],
   "source": [
    "# basic plot using ggplot2 and geom_sf\n",
    "ggplot(data = usa_states) +\n",
    "    geom_sf(aes(fill = AWATER)) +\n",
    "    theme_minimal()"
   ]
  },
  {
   "cell_type": "markdown",
   "id": "2b217b73-50e1-4222-879d-067bb5b0aa9e",
   "metadata": {},
   "source": [
    "### 3.3 Adding Titles, Labels, and Legends"
   ]
  },
  {
   "cell_type": "code",
   "execution_count": 33,
   "id": "b955b7c3-c6ef-4eaa-8a9a-eb42cb4af1ef",
   "metadata": {},
   "outputs": [
    {
     "data": {
      "image/png": "[encoded data removed]",
      "text/plain": [
       "plot without title"
      ]
     },
     "metadata": {
      "image/png": {
       "height": 420,
       "width": 420
      }
     },
     "output_type": "display_data"
    }
   ],
   "source": [
    "# basic plot using ggplot2 and geom_sf\n",
    "ggplot(data = usa_states) +\n",
    "    geom_sf(aes(fill = AWATER)) +\n",
    "    labs(title = \"Total Water Area by State\",\n",
    "         fill = \"Water Area\") +\n",
    "    theme_minimal()"
   ]
  },
  {
   "cell_type": "markdown",
   "id": "cd543bc0-0564-44a2-a957-570c86687337",
   "metadata": {},
   "source": [
    "### 3.4 Adjusting Color Palettes"
   ]
  },
  {
   "cell_type": "markdown",
   "id": "4e9216b3-de47-4b4e-b942-403eb87ceb11",
   "metadata": {},
   "source": [
    "## 4 Exploring Spatial Data with Mapping\n",
    "\n",
    "### 4.1 Faceting to Compare Categories"
   ]
  },
  {
   "cell_type": "markdown",
   "id": "482e9413-2d03-4538-9dba-2a8d9ce35f4b",
   "metadata": {},
   "source": [
    "---\n",
    "## Recommended Next Steps\n",
    "\n",
    "* **Continue with Chapter 6: Mapping and Visualization**\n",
    "  * Foundational Mapping and Visualization\n",
    "    * [Mapping Point and Polygon Data](https://platform.i-guide.io/notebooks/2b9f579c-32b0-4078-af39-994bb31d50ec)\n",
    "    * [Choropleth Mapping](https://platform.i-guide.io/notebooks/f2f973df-2412-49f0-ad39-d80051f20d4d)"
   ]
  }
 ],
 "metadata": {
  "kernelspec": {
   "display_name": "Python 3 (ipykernel)",
   "language": "python",
   "name": "python3"
  },
  "language_info": {
   "codemirror_mode": {
    "name": "ipython",
    "version": 3
   },
   "file_extension": ".py",
   "mimetype": "text/x-python",
   "name": "python",
   "nbconvert_exporter": "python",
   "pygments_lexer": "ipython3",
   "version": "3.13.1"
  }
 },
 "nbformat": 4,
 "nbformat_minor": 5
}
