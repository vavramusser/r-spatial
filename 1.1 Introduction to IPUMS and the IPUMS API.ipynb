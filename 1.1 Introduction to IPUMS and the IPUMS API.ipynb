{
 "cells": [
  {
   "cell_type": "markdown",
   "id": "47319ac8-3b67-4609-b37d-001ff1eb79da",
   "metadata": {},
   "source": [
    "# Introduction to IPUMS and the IPUMS API"
   ]
  },
  {
   "cell_type": "markdown",
   "id": "9391b245-ba28-452f-9627-9f29ff415b30",
   "metadata": {},
   "source": [
    "The [**IPUMS (Integrated Public Use Microdata Series)**](https://www.ipums.org) provides access to high-quality, harmonized data on population and health from around the world. Developed and maintained by the [Institute for Social Research and Data Innovation (ISRDI)](https://isrdi.umn.edu) at the [University of Minnesota's Minnesota Population Center (MPC)](https://pop.umn.edu), IPUMS datasets cover a range of demographic, health, and geographic topics that support research in fields like public health, economics, geography, and social sciences. IPUMS data offerings include U.S. Census data, global demographic surveys, and health datasets, all standardized across time and location to allow for easy cross-temporal and cross-national comparisons.\n",
    "\n",
    "### Available Data\n",
    "\n",
    "#### United States Data\n",
    "* [IPUMS USA](https://usa.ipums.org/usa): United States microdata from 1850 to the present\n",
    "  * Decennial Census\n",
    "  * American Community Survey (ACS)\n",
    "* [Current Population Survey (CPS)](https://cps.ipums.org/cps): CPS microdata including basic monthly surveys and supplements from 1962 to the present\n",
    "* [National Historic Geographic Information System (NHGIS)](https://www.nhgis.org): Tabular US Census and GIS boundary files from 1790 to present\n",
    "* [Time Use](https://timeuse.ipums.org): Historical and contemporary time use data from 1930 to present\n",
    "  * American Time Use Survey (ATUS)\n",
    "  * American Heritage Time Use Study (AHTUS)\n",
    "* [Health Surveys](https://healthsurveys.ipums.org): Historical and contemporary US health survey data\n",
    "  * National Health Interview Series (NHIS)\n",
    "  * Medical Expenditure Panel Survey (MEPS)\n",
    "* [Higher Education](https://highered.ipums.org/highered): Survey data on the science and engineering workforce in the US from 1993 to present\n",
    "  * National Survey of College Graduates (NSCG)\n",
    "  * Survey of Doctorate Recipents (SDR)\n",
    "  * National Survey of Recent College Graduates (NSRCG)\n",
    "\n",
    "#### International Data\n",
    "* [IPUMS International](https://international.ipums.org/international): The world's largest collection of census microdata covering over 100 countries, contemporary and historical\n",
    "* [Global Health](https://globalhealth.ipums.org): Health survey data from around the world\n",
    "  * Demographic and Health Surveys (DHS)\n",
    "  * Performance Monitoring for Action (PMA)\n",
    "  * Multiple Indicator Cluster Surveys (MICS)\n",
    "* [International Historic Geographic Information System (IHGIS)](https://ihgis.ipums.org): Tabular and GIS data from population, housing, and agricultural censuses aroud the world\n",
    "* [Time Use](https://timeuse.ipums.org): Historical and contemporary time use data from 1930 to present\n",
    "  * Multinational Time Use Study (MTUS)"
   ]
  },
  {
   "cell_type": "markdown",
   "id": "9025440e-a7fe-4fd9-bb89-757fc20e1385",
   "metadata": {},
   "source": [
    "## The ipumsr R Package\n",
    "The [**ipumsr package**](https://cran.r-project.org/web/packages/ipumsr/index.html) is a tool for loading, managing, and analyzing IPUMS data within R. Designed to simplify the process of working with IPUMS extracts, ipumsr provides functions to import data, handle metadata, and apply labeled values directly, making it easier to move from raw data to analysis. This package supports both the classic rectangular datasets from IPUMS as well as more complex hierarchical files."
   ]
  },
  {
   "cell_type": "markdown",
   "id": "3406908c-a360-43ed-b20a-16fe0c18f794",
   "metadata": {},
   "source": [
    "## The IPUMS API\n",
    "The ipumsr package uses the [**IPUMS API**](https://developer.ipums.org/docs/v2/apiprogram) to extract data requests from IPUMS.\n",
    "\n",
    "An [API (Application Programming Interface)](https://en.wikipedia.org/wiki/API) is a set of rules and protocols that allow different software applications to communicate with each other. APIs enable automated access to data and services, allowing users to retrieve, manipulate, and manage information without directly interacting with a website or user interface.\n",
    "\n",
    "In the case of IPUMS, the API provides a streamlined, programmatic way to access data, making it possible to request and download datasets directly within R.\n",
    "\n",
    "### ★ Create Your IPUMS Account and API Key ★\n",
    "To download IPUMS data **you will need to set up an IPUMS account** and to submit data requests using the IPUMS API **you will need to obtain an IPUMS API key**.  You can register for an IPUMS account and get your IPUMS API key by following the instructions on [the IPUMS website](https://account.ipums.org/api_keys)."
   ]
  },
  {
   "cell_type": "markdown",
   "id": "9762686d-5503-4314-a5dc-af87992a8d2f",
   "metadata": {},
   "source": [
    "### IPUMS API Functionality for IPUMS Data\n",
    "\n",
    "As of December 2024, ipumsr supports the following levels of functionality for each IPUMS project.\n",
    "\n",
    "##### Browse Metadata, Request and Download Data, Read Data Extracts\n",
    "* [IPUMS NHGIS](https://www.nhgis.org) U.S. Census Data Tables and Mapping Files\n",
    "\n",
    "##### Request and Download Data, Read Data Extracts\n",
    "* [IPUMS USA](https://usa.ipums.org/usa) U.S. Census Data for Social, Economic, and Health Research\n",
    "* [IPUMS CPS](https://cps.ipums.org/cps) Current Population Survey (CPS) Data for Social, Economic, and Health Research\n",
    "* [IPUMS International](https://international.ipums.org/international) Harmonized International Census Data for Scoial Science and Health Research\n",
    "* [IPUMS Time Use](https://timeuse.ipums.org) from the American Time Use Survey (ATUS), American Heritage Time Use Study (AHTUS), and Multinational Time Use Study (MTUS)\n",
    "* [IPUMS Health Surveys](https://healthsurveys.ipums.org) Harmonized Data from U.S. National Health Surveys including the National Health Interview Series (NHIS) and the Medical Expenditure Panel Survey (MEPS)\n",
    "\n",
    "##### Read Data Extracts only\n",
    "* [IPUMS Global Health](https://globalhealth.ipums.org) Harmonized International Survey Data on Maternal, Child, and Reproductive Health from the Demographic and Health Surveys (DHS), Performance Monitoring for Action (PMA), and Multiple Indicator Cluster Surveys (MICS)\n",
    "* [IPUMS Higher Education](https://highered.ipums.org/highered) Survey Data on Scientists and Engineers\n",
    "\n",
    "##### Not Currently Supported\n",
    "* [IPUMS IHGIS](https://ihgis.ipums.org) Analysis Ready Tables from International Censuses"
   ]
  },
  {
   "cell_type": "markdown",
   "id": "e1e5cfa6-56aa-4493-9619-79a38ed17ebc",
   "metadata": {},
   "source": [
    "## Recommended Next Steps\n",
    "* **Continue with Chapter 1: Data Sources and APIs**\n",
    "  * 1.2: Introduciton to Natural Earth\n",
    "  * 1.3: Introduction to Basemaps with ggmap\n",
    "  * 1.4: Introduction to the EPA Air Quality System (AQS) Data Repository\n",
    "  * 1.5: Introduction to the National Land Cover Database (NLCD)\n",
    "  * 1.6: Introduction to Open Street Map (OSM)\n",
    "  * 1.7: Introduction to Google Earth Engine (GEE)\n",
    "* **Move on to Chapter 2: IPUMS Data Acquisition and Extraction**\n",
    "  * 2.1: IPUMS USA Data Extraction Using ipumsr\n",
    "  * 2.2: IPUMS CPS Data Extraction Using ipumsr\n",
    "  * 2.3: IPUMS International Microdata Extraction Using ipumsr\n",
    "  * 2.4: IPUMS NHGIS Data Extraction Using ipumsr\n",
    "  * 2.5: IPUMS Time Use Data Extraction Using ipumsr\n",
    "  * 2.6: IPUMS Health Surveys Data Extraction Using ipumsr\n",
    "  * 2.7: Reading IPUMS Global Health Data Extracts Using ipumsr\n",
    "  * 2.8: Reading IPUMS Higher Education Data Extracts Using ipumsr"
   ]
  }
 ],
 "metadata": {
  "kernelspec": {
   "display_name": "R",
   "language": "R",
   "name": "ir"
  },
  "language_info": {
   "codemirror_mode": "r",
   "file_extension": ".r",
   "mimetype": "text/x-r-source",
   "name": "R",
   "pygments_lexer": "r",
   "version": "4.3.3"
  }
 },
 "nbformat": 4,
 "nbformat_minor": 5
}
