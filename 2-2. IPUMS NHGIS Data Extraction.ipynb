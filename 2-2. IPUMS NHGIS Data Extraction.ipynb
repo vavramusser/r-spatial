{
 "cells": [
  {
   "cell_type": "markdown",
   "id": "72003a39-c3a2-4e91-831a-c504e260f92a",
   "metadata": {},
   "source": [
    "# IPUMS NHGIS Data Extraction Using ipumsr"
   ]
  },
  {
   "cell_type": "markdown",
   "id": "2f13f0ec-0c3e-4776-a526-2f455a206902",
   "metadata": {},
   "source": [
    "## Introduction\n",
    "\n",
    "**From the [IPUMS NHGIS Webpage](https://www.nhgis.org):** The National Historical Geographic Information System (NHGIS) provides easy access to summary tables and time series of population, housing, agriculture, and economic data, along with GIS-compatible mapping files, for years from 1790 through the present and for all levels of U.S. census geography, including states, counties, tracts, and blocks.\n",
    "\n",
    "This notebook will guide you through the process of exploring, selecting, and extracting population data from [IPUMS NHGIS](https://nhgis.org) using the [IPUMS API](https://developer.ipums.org/docs/v2/apiprogram) via the [ipumsr R package](https://cran.r-project.org/web/packages/ipumsr/index.htm).  By working through this notebook, you will learn how to define an extraction of population data from the IPUMS NHGIS repository and download the data for analysis.\n",
    "\n",
    "By working through this notebook, you will learn how to define an extraction of population data for specific geographic areas (such as tracts or counties) and download the relevant data and shapefiles for spatial analysis. This workflow is useful for researchers and analysts interested in understanding population changes over time across different regions of the United States.\n",
    "\n",
    "\n",
    "#### Prerequisites\n",
    "\n",
    "Before using this notebook, we recommend first completing the **Introduction to IPUMS and the IPUMS API** notebook.\n",
    "\n",
    "\n",
    "#### Overview\n",
    "This notebook includes the following sections:\n",
    "\n",
    "1. Setup\n",
    "2. NHGIS Time-Series Data Metadata Exploration\n",
    "3. NHGIS Geography Shapefile Metadata Exploration\n",
    "4. NHGIS Time-Series Data and Geography Shapefile Extraction Specification and Submission\n",
    "5. Subset and Merge the Time-Series and Geography Data Extractions"
   ]
  },
  {
   "cell_type": "markdown",
   "id": "e98b0d57-13c7-49d7-8511-85fb37e1b296",
   "metadata": {},
   "source": [
    "## 1. Setup\n",
    "\n",
    "### 1a. Package Installation\n",
    "\n",
    "Before running this script, you will need to install and load the following packages into your R environment:"
   ]
  },
  {
   "cell_type": "markdown",
   "id": "bd157335-8f45-4265-bfca-592b68e60499",
   "metadata": {},
   "source": [
    "[**dplyr**](https://cran.r-project.org/web/packages/dplyr/index.html) A package for data manipulation that provides a consistent set of functions to filter, arrange, summarize, and transform data. *dplyr* makes it easy to work with data frames and perform operations efficiently.  This notebook uses the the following functions from *dplyr*.\n",
    "* [*filter()*](https://dplyr.tidyverse.org/reference/filter.html) for subsetting a dataframe based on specified conditions\n",
    "* [*select()*](https://dplyr.tidyverse.org/reference/select.html) for selecting variables in a dataframe by name\n",
    "* [*rename()*](https://dplyr.tidyverse.org/reference/rename.html) for changing the names of individual variables in a dataframe\n",
    "* This notebook also uses [*%>%*](https://magrittr.tidyverse.org/reference/pipe.html), referred to as the *pipe* operator, which is used to pass the output from one function directly into the next function for the purpose of creating streamlined workflows.  The *pipe* operator is a commonly used component of the [*tidyverse*](https://www.tidyverse.org)."
   ]
  },
  {
   "cell_type": "markdown",
   "id": "262aaa21-201f-4a32-8ea6-a2b9691d986c",
   "metadata": {},
   "source": [
    "[**ipumsr**](https://cran.r-project.org/web/packages/ipumsr/index.html) A package specifically designed to interact with IPUMS datasets, including NHGIS. It allows users to define and submit data extraction requests, download data, and read it directly into R for analysis.  This notebook uses the the following functions from *ipumsr*.\n",
    "\n",
    "* *set_ipums_api_key()* for setting your IPUMS API key\n",
    "* *get_metadata_nhgis()* for listing available data sources from IPUMS NHGIS\n",
    "* *define_extract_nhgis()* for defining an IPUMS NHGIS extract request\n",
    "* *tst_spec()* for creating a tst_spec object containing a time-series table specification\n",
    "* *submit_exract()* for submitting an extract request via the IPUMS API and return an *ipums_extract* object\n",
    "* *wait_for_extract()* wait for an extract to finish processing\n",
    "* *download_extract()* download an extract's data files\n",
    "* *read_nhgis()* for reading tabular data from an NHGIS extract\n",
    "* *read_ipums_sf()* for reading spatial data from an IPUMS extract"
   ]
  },
  {
   "cell_type": "markdown",
   "id": "4b3bf054-4a94-4ecb-b442-bd2177d0dae2",
   "metadata": {},
   "source": [
    "[**purrr**](https://cran.r-project.org/web/packages/purrr/index.html) A functional programming toolkit that simplifies the process of working with lists and vectors. It is particularly useful for applying functions to multiple elements or data frames, making it easier to write clean, efficient code.  This notebook uses the the following functions from *purr*.\n",
    "\n",
    "* [*map()*](https://www.rdocumentation.org/packages/purrr/versions/0.2.5/topics/map) and [*map_dfr()*](https://purrr.tidyverse.org/reference/map_dfr.html) for applying a function to each element in the given input"
   ]
  },
  {
   "cell_type": "markdown",
   "id": "29497545-6fb3-4990-bcab-b23ea3d9d5f1",
   "metadata": {},
   "source": [
    "If you are working in the I-GUIDE environment, the these packages should be already be installed.  If you are working on your local machine or another environment, you may need to install them before continuing."
   ]
  },
  {
   "cell_type": "code",
   "execution_count": 1,
   "id": "1b426c39-2d8d-4562-a284-d063f6f918e7",
   "metadata": {},
   "outputs": [],
   "source": [
    "# install.packages(\"dplyr\", \"ipumsr\", \"purr\")"
   ]
  },
  {
   "cell_type": "markdown",
   "id": "cd438188-d2c1-4a3d-8cec-55408980826e",
   "metadata": {},
   "source": [
    "Load the packages into your workspace."
   ]
  },
  {
   "cell_type": "code",
   "execution_count": 6,
   "id": "65683ba8-4ee0-447f-8cd3-36e76f469f71",
   "metadata": {},
   "outputs": [],
   "source": [
    "library(dplyr)\n",
    "library(ipumsr)\n",
    "library(purrr)"
   ]
  },
  {
   "cell_type": "markdown",
   "id": "d5b81dee-1b3e-4ac2-9649-a38f28f37c45",
   "metadata": {},
   "source": [
    "### 1b. API Setup\n",
    "\n",
    "#### Connect your IPUMS API Key\n",
    "\n",
    "Run the following code to enter your [IPUMS API key](https://account.ipums.org/api_keys).  Refer to the **Introduction to IPUMS and the IPUMS API** notebook for background on the IPUMS data repository and for instructions on setting up your IPUMS account and API key."
   ]
  },
  {
   "cell_type": "code",
   "execution_count": null,
   "id": "cf136374-a2ee-4a3f-a633-fe33e23c48e8",
   "metadata": {},
   "outputs": [],
   "source": [
    "ipumps_api_key = readline(\"Please enter your IPUMS API key: \")\n",
    "set_ipums_api_key(ipumps_api_key, save = T, overwrite = T)"
   ]
  },
  {
   "attachments": {},
   "cell_type": "markdown",
   "id": "4c68d863-f0c8-4394-b289-7d021433e46c",
   "metadata": {},
   "source": [
    "## 2. NHGIS Time-Series Data Metadata Exploration\n",
    "\n",
    "The NHGIS provides a variety of time-series tables, each representing collections of population data over different years. This section helps you identify the right datasets for your analysis by exploring the available time-series tables and filtering them based on specific criteria.\n",
    "\n",
    "#### Steps:\n",
    "1. Retrieve metadata for available time-series datasets.\n",
    "2. Filter and display datasets that focus on a specific topic.\n",
    "3. Identify which years and geographic levels are covered by each dataset.\n",
    "4. Select a dataset for extration.\n",
    "\n",
    "### 2a. Retrieve Time-Series Metadata\n",
    "First we will take a look at the list available NHGIS time-series datasets which includes hundreds of data tables.  Running the code below will provide a snapshot of the first ten datasets in the list."
   ]
  },
  {
   "cell_type": "code",
   "execution_count": 6,
   "id": "34f2d502-001d-474e-a02e-a5529c64bb1f",
   "metadata": {},
   "outputs": [
    {
     "name": "stdout",
     "output_type": "stream",
     "text": [
      "\u001b[90m# A tibble: 389 × 7\u001b[39m\n",
      "   name  description        geographic_integration sequence time_series years   \n",
      "   \u001b[3m\u001b[90m<chr>\u001b[39m\u001b[23m \u001b[3m\u001b[90m<chr>\u001b[39m\u001b[23m              \u001b[3m\u001b[90m<chr>\u001b[39m\u001b[23m                     \u001b[3m\u001b[90m<dbl>\u001b[39m\u001b[23m \u001b[3m\u001b[90m<list>\u001b[39m\u001b[23m      \u001b[3m\u001b[90m<list>\u001b[39m\u001b[23m  \n",
      "\u001b[90m 1\u001b[39m A00   Total Population   Nominal                    100. \u001b[90m<tibble>\u001b[39m    \u001b[90m<tibble>\u001b[39m\n",
      "\u001b[90m 2\u001b[39m AV0   Total Population   Nominal                    100. \u001b[90m<tibble>\u001b[39m    \u001b[90m<tibble>\u001b[39m\n",
      "\u001b[90m 3\u001b[39m B78   Total Population   Nominal                    100. \u001b[90m<tibble>\u001b[39m    \u001b[90m<tibble>\u001b[39m\n",
      "\u001b[90m 4\u001b[39m CL8   Total Population   Standardized to 2010       100. \u001b[90m<tibble>\u001b[39m    \u001b[90m<tibble>\u001b[39m\n",
      "\u001b[90m 5\u001b[39m A57   Persons by Urban/… Nominal                    101. \u001b[90m<tibble>\u001b[39m    \u001b[90m<tibble>\u001b[39m\n",
      "\u001b[90m 6\u001b[39m A59   Persons by Urban/… Nominal                    101. \u001b[90m<tibble>\u001b[39m    \u001b[90m<tibble>\u001b[39m\n",
      "\u001b[90m 7\u001b[39m CL9   Persons by Urban/… Standardized to 2010       101. \u001b[90m<tibble>\u001b[39m    \u001b[90m<tibble>\u001b[39m\n",
      "\u001b[90m 8\u001b[39m A08   Persons by Sex [2] Nominal                    102. \u001b[90m<tibble>\u001b[39m    \u001b[90m<tibble>\u001b[39m\n",
      "\u001b[90m 9\u001b[39m AV1   Persons by Sex [2] Nominal                    102. \u001b[90m<tibble>\u001b[39m    \u001b[90m<tibble>\u001b[39m\n",
      "\u001b[90m10\u001b[39m CM0   Persons by Sex [2] Standardized to 2010       102. \u001b[90m<tibble>\u001b[39m    \u001b[90m<tibble>\u001b[39m\n",
      "\u001b[90m# ℹ 379 more rows\u001b[39m\n",
      "\u001b[90m# ℹ 1 more variable: geog_levels <list>\u001b[39m\n"
     ]
    }
   ],
   "source": [
    "# get list of time-series dataset metadata\n",
    "datts_meta <- get_metadata_nhgis(\"time_series_tables\") %>% print(n = 10)"
   ]
  },
  {
   "cell_type": "markdown",
   "id": "db5b9822-fbc1-40e7-9a65-1149ae59e936",
   "metadata": {},
   "source": [
    "Note that each entry in the list includes not only the description and reference code for the dataset but also [tibbles](https://tibble.tidyverse.org) for \"time_series\", \"years\", and \"geog_levels\".  The information in the tibbles is not visualized in this high-level view of the data but you can imagine that for each \"\\<tibble>\" entry there is another table of information containing additional details on the available data.  We will zoom in deeper in the following steps and you will be able to view the data contained within these tibbles.\n",
    "\n",
    "This wealth of data is overwhelming and it is unlikely anyone would need it all for a single project.  So in the next step, we will programmatically filter the metadata to select only the datasets focused on a specific topic."
   ]
  },
  {
   "cell_type": "markdown",
   "id": "d276d141-1eda-4c17-a403-0f5a8e95cf3e",
   "metadata": {},
   "source": [
    "### 2b. Filter Metadata Based on Criteria\n",
    "\n",
    "You will use the following code to retrieve metadata on available NHGIS time-series datasets and filter them to find datasets that focus on a specific topic.\n",
    "\n",
    "In this example, we will explore only the datasets which focus on total population.  Therefore, we will filter the entire list of datasets to find the subset of datasets whcih include the phrase \"total population\" in the description."
   ]
  },
  {
   "cell_type": "code",
   "execution_count": 7,
   "id": "ced3ca38-dd98-442e-840d-6dd76d05547f",
   "metadata": {},
   "outputs": [],
   "source": [
    "description_filter <- \"total population\""
   ]
  },
  {
   "cell_type": "code",
   "execution_count": 8,
   "id": "da1ccea9-a365-458d-8600-dbc7edc8212e",
   "metadata": {},
   "outputs": [
    {
     "name": "stdout",
     "output_type": "stream",
     "text": [
      "[1] name        description\n",
      "<0 rows> (or 0-length row.names)\n"
     ]
    }
   ],
   "source": [
    "datts_meta_filter <- datts_meta %>% filter(grepl(description_filter, description, ignore.case = T)) %>% select(name, description) %>% as.data.frame() %>% print()"
   ]
  },
  {
   "cell_type": "markdown",
   "id": "d072c7bb-43d2-4197-b862-6aeb6d46edf9",
   "metadata": {},
   "source": [
    "Using \"total population\" as a filter resulted in four potential datasets.  For additional detailed information NHGIS time-series datasets, refer to the [NHGIS Time Series Tables lookup document](https://assets.nhgis.org/NHGIS_Time_Series_Tables.pdf).\n",
    "\n",
    "Next we will take a look at the metadata for this selection of datasets datasets to determine which of the datasets includes information on the time range and geographies we are interested in."
   ]
  },
  {
   "cell_type": "markdown",
   "id": "acfc1e15-ad82-4790-bcd8-d2fbfdddd354",
   "metadata": {},
   "source": [
    "### 2c. Identify Available Years and Geographic Levels\n",
    "\n",
    "This step will display the available years and geographic levels for the filtered datasets. This will help you decide which dataset best suits your analysis.\n",
    "\n",
    "You can use the *get_metadata_nhgis* command to view metadata for a specific NHGIS time-series table using the table's code.  The following example shows the metadata for table \"CL8\"."
   ]
  },
  {
   "cell_type": "code",
   "execution_count": 128,
   "id": "f998802a-203f-46bb-8b95-6af790c8ba93",
   "metadata": {},
   "outputs": [
    {
     "data": {
      "text/html": [
       "<dl>\n",
       "\t<dt>$name</dt>\n",
       "\t\t<dd>'CL8'</dd>\n",
       "\t<dt>$description</dt>\n",
       "\t\t<dd>'Total Population'</dd>\n",
       "\t<dt>$geographic_integration</dt>\n",
       "\t\t<dd>'Standardized to 2010'</dd>\n",
       "\t<dt>$sequence</dt>\n",
       "\t\t<dd>100.04</dd>\n",
       "\t<dt>$time_series</dt>\n",
       "\t\t<dd><table class=\"dataframe\">\n",
       "<caption>A tibble: 1 × 3</caption>\n",
       "<thead>\n",
       "\t<tr><th scope=col>name</th><th scope=col>description</th><th scope=col>sequence</th></tr>\n",
       "\t<tr><th scope=col>&lt;chr&gt;</th><th scope=col>&lt;chr&gt;</th><th scope=col>&lt;int&gt;</th></tr>\n",
       "</thead>\n",
       "<tbody>\n",
       "\t<tr><td>AA</td><td>Persons: Total</td><td>1</td></tr>\n",
       "</tbody>\n",
       "</table>\n",
       "</dd>\n",
       "\t<dt>$years</dt>\n",
       "\t\t<dd><table class=\"dataframe\">\n",
       "<caption>A tibble: 4 × 3</caption>\n",
       "<thead>\n",
       "\t<tr><th scope=col>name</th><th scope=col>description</th><th scope=col>sequence</th></tr>\n",
       "\t<tr><th scope=col>&lt;chr&gt;</th><th scope=col>&lt;chr&gt;</th><th scope=col>&lt;int&gt;</th></tr>\n",
       "</thead>\n",
       "<tbody>\n",
       "\t<tr><td>1990</td><td>1990</td><td>108</td></tr>\n",
       "\t<tr><td>2000</td><td>2000</td><td>118</td></tr>\n",
       "\t<tr><td>2010</td><td>2010</td><td>131</td></tr>\n",
       "\t<tr><td>2020</td><td>2020</td><td>155</td></tr>\n",
       "</tbody>\n",
       "</table>\n",
       "</dd>\n",
       "\t<dt>$geog_levels</dt>\n",
       "\t\t<dd><table class=\"dataframe\">\n",
       "<caption>A tibble: 10 × 3</caption>\n",
       "<thead>\n",
       "\t<tr><th scope=col>name</th><th scope=col>description</th><th scope=col>sequence</th></tr>\n",
       "\t<tr><th scope=col>&lt;chr&gt;</th><th scope=col>&lt;chr&gt;</th><th scope=col>&lt;int&gt;</th></tr>\n",
       "</thead>\n",
       "<tbody>\n",
       "\t<tr><td>state   </td><td>State                                                          </td><td>  4</td></tr>\n",
       "\t<tr><td>county  </td><td>State--County                                                  </td><td> 25</td></tr>\n",
       "\t<tr><td>tract   </td><td>State--County--Census Tract                                    </td><td> 66</td></tr>\n",
       "\t<tr><td>blck_grp</td><td>State--County--Census Tract--Block Group                       </td><td> 85</td></tr>\n",
       "\t<tr><td>cty_sub </td><td>State--County--County Subdivision                              </td><td>102</td></tr>\n",
       "\t<tr><td>place   </td><td>State--Place                                                   </td><td>148</td></tr>\n",
       "\t<tr><td>cd111th </td><td>State--Congressional District (2007-2013, 110th-112th Congress)</td><td>217</td></tr>\n",
       "\t<tr><td>cbsa    </td><td>Metropolitan Statistical Area/Micropolitan Statistical Area    </td><td>338</td></tr>\n",
       "\t<tr><td>urb_area</td><td>Urban Area                                                     </td><td>372</td></tr>\n",
       "\t<tr><td>zcta    </td><td>5-Digit ZIP Code Tabulation Area                               </td><td>382</td></tr>\n",
       "</tbody>\n",
       "</table>\n",
       "</dd>\n",
       "</dl>\n"
      ],
      "text/latex": [
       "\\begin{description}\n",
       "\\item[\\$name] 'CL8'\n",
       "\\item[\\$description] 'Total Population'\n",
       "\\item[\\$geographic\\_integration] 'Standardized to 2010'\n",
       "\\item[\\$sequence] 100.04\n",
       "\\item[\\$time\\_series] A tibble: 1 × 3\n",
       "\\begin{tabular}{lll}\n",
       " name & description & sequence\\\\\n",
       " <chr> & <chr> & <int>\\\\\n",
       "\\hline\n",
       "\t AA & Persons: Total & 1\\\\\n",
       "\\end{tabular}\n",
       "\n",
       "\\item[\\$years] A tibble: 4 × 3\n",
       "\\begin{tabular}{lll}\n",
       " name & description & sequence\\\\\n",
       " <chr> & <chr> & <int>\\\\\n",
       "\\hline\n",
       "\t 1990 & 1990 & 108\\\\\n",
       "\t 2000 & 2000 & 118\\\\\n",
       "\t 2010 & 2010 & 131\\\\\n",
       "\t 2020 & 2020 & 155\\\\\n",
       "\\end{tabular}\n",
       "\n",
       "\\item[\\$geog\\_levels] A tibble: 10 × 3\n",
       "\\begin{tabular}{lll}\n",
       " name & description & sequence\\\\\n",
       " <chr> & <chr> & <int>\\\\\n",
       "\\hline\n",
       "\t state    & State                                                           &   4\\\\\n",
       "\t county   & State--County                                                   &  25\\\\\n",
       "\t tract    & State--County--Census Tract                                     &  66\\\\\n",
       "\t blck\\_grp & State--County--Census Tract--Block Group                        &  85\\\\\n",
       "\t cty\\_sub  & State--County--County Subdivision                               & 102\\\\\n",
       "\t place    & State--Place                                                    & 148\\\\\n",
       "\t cd111th  & State--Congressional District (2007-2013, 110th-112th Congress) & 217\\\\\n",
       "\t cbsa     & Metropolitan Statistical Area/Micropolitan Statistical Area     & 338\\\\\n",
       "\t urb\\_area & Urban Area                                                      & 372\\\\\n",
       "\t zcta     & 5-Digit ZIP Code Tabulation Area                                & 382\\\\\n",
       "\\end{tabular}\n",
       "\n",
       "\\end{description}\n"
      ],
      "text/markdown": [
       "$name\n",
       ":   'CL8'\n",
       "$description\n",
       ":   'Total Population'\n",
       "$geographic_integration\n",
       ":   'Standardized to 2010'\n",
       "$sequence\n",
       ":   100.04\n",
       "$time_series\n",
       ":   \n",
       "A tibble: 1 × 3\n",
       "\n",
       "| name &lt;chr&gt; | description &lt;chr&gt; | sequence &lt;int&gt; |\n",
       "|---|---|---|\n",
       "| AA | Persons: Total | 1 |\n",
       "\n",
       "\n",
       "$years\n",
       ":   \n",
       "A tibble: 4 × 3\n",
       "\n",
       "| name &lt;chr&gt; | description &lt;chr&gt; | sequence &lt;int&gt; |\n",
       "|---|---|---|\n",
       "| 1990 | 1990 | 108 |\n",
       "| 2000 | 2000 | 118 |\n",
       "| 2010 | 2010 | 131 |\n",
       "| 2020 | 2020 | 155 |\n",
       "\n",
       "\n",
       "$geog_levels\n",
       ":   \n",
       "A tibble: 10 × 3\n",
       "\n",
       "| name &lt;chr&gt; | description &lt;chr&gt; | sequence &lt;int&gt; |\n",
       "|---|---|---|\n",
       "| state    | State                                                           |   4 |\n",
       "| county   | State--County                                                   |  25 |\n",
       "| tract    | State--County--Census Tract                                     |  66 |\n",
       "| blck_grp | State--County--Census Tract--Block Group                        |  85 |\n",
       "| cty_sub  | State--County--County Subdivision                               | 102 |\n",
       "| place    | State--Place                                                    | 148 |\n",
       "| cd111th  | State--Congressional District (2007-2013, 110th-112th Congress) | 217 |\n",
       "| cbsa     | Metropolitan Statistical Area/Micropolitan Statistical Area     | 338 |\n",
       "| urb_area | Urban Area                                                      | 372 |\n",
       "| zcta     | 5-Digit ZIP Code Tabulation Area                                | 382 |\n",
       "\n",
       "\n",
       "\n",
       "\n"
      ],
      "text/plain": [
       "$name\n",
       "[1] \"CL8\"\n",
       "\n",
       "$description\n",
       "[1] \"Total Population\"\n",
       "\n",
       "$geographic_integration\n",
       "[1] \"Standardized to 2010\"\n",
       "\n",
       "$sequence\n",
       "[1] 100.04\n",
       "\n",
       "$time_series\n",
       "\u001b[90m# A tibble: 1 × 3\u001b[39m\n",
       "  name  description    sequence\n",
       "  \u001b[3m\u001b[90m<chr>\u001b[39m\u001b[23m \u001b[3m\u001b[90m<chr>\u001b[39m\u001b[23m             \u001b[3m\u001b[90m<int>\u001b[39m\u001b[23m\n",
       "\u001b[90m1\u001b[39m AA    Persons: Total        1\n",
       "\n",
       "$years\n",
       "\u001b[90m# A tibble: 4 × 3\u001b[39m\n",
       "  name  description sequence\n",
       "  \u001b[3m\u001b[90m<chr>\u001b[39m\u001b[23m \u001b[3m\u001b[90m<chr>\u001b[39m\u001b[23m          \u001b[3m\u001b[90m<int>\u001b[39m\u001b[23m\n",
       "\u001b[90m1\u001b[39m 1990  1990             108\n",
       "\u001b[90m2\u001b[39m 2000  2000             118\n",
       "\u001b[90m3\u001b[39m 2010  2010             131\n",
       "\u001b[90m4\u001b[39m 2020  2020             155\n",
       "\n",
       "$geog_levels\n",
       "\u001b[90m# A tibble: 10 × 3\u001b[39m\n",
       "   name     description                                                 sequence\n",
       "   \u001b[3m\u001b[90m<chr>\u001b[39m\u001b[23m    \u001b[3m\u001b[90m<chr>\u001b[39m\u001b[23m                                                          \u001b[3m\u001b[90m<int>\u001b[39m\u001b[23m\n",
       "\u001b[90m 1\u001b[39m state    State                                                              4\n",
       "\u001b[90m 2\u001b[39m county   State--County                                                     25\n",
       "\u001b[90m 3\u001b[39m tract    State--County--Census Tract                                       66\n",
       "\u001b[90m 4\u001b[39m blck_grp State--County--Census Tract--Block Group                          85\n",
       "\u001b[90m 5\u001b[39m cty_sub  State--County--County Subdivision                                102\n",
       "\u001b[90m 6\u001b[39m place    State--Place                                                     148\n",
       "\u001b[90m 7\u001b[39m cd111th  State--Congressional District (2007-2013, 110th-112th Cong…      217\n",
       "\u001b[90m 8\u001b[39m cbsa     Metropolitan Statistical Area/Micropolitan Statistical Area      338\n",
       "\u001b[90m 9\u001b[39m urb_area Urban Area                                                       372\n",
       "\u001b[90m10\u001b[39m zcta     5-Digit ZIP Code Tabulation Area                                 382\n"
      ]
     },
     "metadata": {},
     "output_type": "display_data"
    }
   ],
   "source": [
    "get_metadata_nhgis(time_series_table = \"CL8\")"
   ]
  },
  {
   "cell_type": "markdown",
   "id": "29e13a9d-cc92-456d-ae13-fa6a6b65720f",
   "metadata": {},
   "source": [
    "The metadata view shows that the CL8 time-series table includes total population information for 1990, 2000, 2010, and 2020 and for a variety of geographic levels.  Here we can see the information included in the \"time_series\", \"years\", and \"geog_levels\" tibbles which were obscured in the high-level view in step 2a.\n",
    "\n",
    "We could repeat this process for each table from our data filtering proces, but to save us some time, the code below takes the name, description, years, and geograpic levels information for each of the tables in our filtering results and presents the metadata in a simple reference table."
   ]
  },
  {
   "cell_type": "code",
   "execution_count": 9,
   "id": "d1be7982-9fde-45b2-830f-21536d5708bc",
   "metadata": {},
   "outputs": [
    {
     "data": {
      "text/html": [
       "<table class=\"dataframe\">\n",
       "<caption>A data.frame: 4 × 4</caption>\n",
       "<thead>\n",
       "\t<tr><th scope=col>name</th><th scope=col>description</th><th scope=col>years</th><th scope=col>geog_levels</th></tr>\n",
       "\t<tr><th scope=col>&lt;chr&gt;</th><th scope=col>&lt;chr&gt;</th><th scope=col>&lt;chr&gt;</th><th scope=col>&lt;chr&gt;</th></tr>\n",
       "</thead>\n",
       "<tbody>\n",
       "\t<tr><td>A00</td><td>Total Population</td><td>1790, 1800, 1810, 1820, 1830, 1840, 1850, 1860, 1870, 1880, 1890, 1900, 1910, 1920, 1930, 1940, 1950, 1960, 1970, 1980, 1990, 2000, 2010, 2020                                   </td><td>state, county                                                                </td></tr>\n",
       "\t<tr><td>AV0</td><td>Total Population</td><td>1970, 1980, 1990, 2000, 2010, 2006-2010, 2007-2011, 2008-2012, 2009-2013, 2010-2014, 2011-2015, 2012-2016, 2013-2017, 2014-2018, 2015-2019, 2020, 2016-2020, 2017-2021, 2018-2022</td><td>state, county, tract, cty_sub, place                                         </td></tr>\n",
       "\t<tr><td>B78</td><td>Total Population</td><td>1980, 1990, 2000, 2010, 2006-2010, 2007-2011, 2008-2012, 2009-2013, 2010-2014, 2011-2015, 2012-2016, 2013-2017, 2014-2018, 2015-2019, 2020, 2016-2020, 2017-2021, 2018-2022      </td><td>nation, region, division, state, county, tract, cty_sub, place               </td></tr>\n",
       "\t<tr><td>CL8</td><td>Total Population</td><td>1990, 2000, 2010, 2020                                                                                                                                                           </td><td>state, county, tract, blck_grp, cty_sub, place, cd111th, cbsa, urb_area, zcta</td></tr>\n",
       "</tbody>\n",
       "</table>\n"
      ],
      "text/latex": [
       "A data.frame: 4 × 4\n",
       "\\begin{tabular}{llll}\n",
       " name & description & years & geog\\_levels\\\\\n",
       " <chr> & <chr> & <chr> & <chr>\\\\\n",
       "\\hline\n",
       "\t A00 & Total Population & 1790, 1800, 1810, 1820, 1830, 1840, 1850, 1860, 1870, 1880, 1890, 1900, 1910, 1920, 1930, 1940, 1950, 1960, 1970, 1980, 1990, 2000, 2010, 2020                                    & state, county                                                                \\\\\n",
       "\t AV0 & Total Population & 1970, 1980, 1990, 2000, 2010, 2006-2010, 2007-2011, 2008-2012, 2009-2013, 2010-2014, 2011-2015, 2012-2016, 2013-2017, 2014-2018, 2015-2019, 2020, 2016-2020, 2017-2021, 2018-2022 & state, county, tract, cty\\_sub, place                                         \\\\\n",
       "\t B78 & Total Population & 1980, 1990, 2000, 2010, 2006-2010, 2007-2011, 2008-2012, 2009-2013, 2010-2014, 2011-2015, 2012-2016, 2013-2017, 2014-2018, 2015-2019, 2020, 2016-2020, 2017-2021, 2018-2022       & nation, region, division, state, county, tract, cty\\_sub, place               \\\\\n",
       "\t CL8 & Total Population & 1990, 2000, 2010, 2020                                                                                                                                                            & state, county, tract, blck\\_grp, cty\\_sub, place, cd111th, cbsa, urb\\_area, zcta\\\\\n",
       "\\end{tabular}\n"
      ],
      "text/markdown": [
       "\n",
       "A data.frame: 4 × 4\n",
       "\n",
       "| name &lt;chr&gt; | description &lt;chr&gt; | years &lt;chr&gt; | geog_levels &lt;chr&gt; |\n",
       "|---|---|---|---|\n",
       "| A00 | Total Population | 1790, 1800, 1810, 1820, 1830, 1840, 1850, 1860, 1870, 1880, 1890, 1900, 1910, 1920, 1930, 1940, 1950, 1960, 1970, 1980, 1990, 2000, 2010, 2020                                    | state, county                                                                 |\n",
       "| AV0 | Total Population | 1970, 1980, 1990, 2000, 2010, 2006-2010, 2007-2011, 2008-2012, 2009-2013, 2010-2014, 2011-2015, 2012-2016, 2013-2017, 2014-2018, 2015-2019, 2020, 2016-2020, 2017-2021, 2018-2022 | state, county, tract, cty_sub, place                                          |\n",
       "| B78 | Total Population | 1980, 1990, 2000, 2010, 2006-2010, 2007-2011, 2008-2012, 2009-2013, 2010-2014, 2011-2015, 2012-2016, 2013-2017, 2014-2018, 2015-2019, 2020, 2016-2020, 2017-2021, 2018-2022       | nation, region, division, state, county, tract, cty_sub, place                |\n",
       "| CL8 | Total Population | 1990, 2000, 2010, 2020                                                                                                                                                            | state, county, tract, blck_grp, cty_sub, place, cd111th, cbsa, urb_area, zcta |\n",
       "\n"
      ],
      "text/plain": [
       "  name description     \n",
       "1 A00  Total Population\n",
       "2 AV0  Total Population\n",
       "3 B78  Total Population\n",
       "4 CL8  Total Population\n",
       "  years                                                                                                                                                                            \n",
       "1 1790, 1800, 1810, 1820, 1830, 1840, 1850, 1860, 1870, 1880, 1890, 1900, 1910, 1920, 1930, 1940, 1950, 1960, 1970, 1980, 1990, 2000, 2010, 2020                                   \n",
       "2 1970, 1980, 1990, 2000, 2010, 2006-2010, 2007-2011, 2008-2012, 2009-2013, 2010-2014, 2011-2015, 2012-2016, 2013-2017, 2014-2018, 2015-2019, 2020, 2016-2020, 2017-2021, 2018-2022\n",
       "3 1980, 1990, 2000, 2010, 2006-2010, 2007-2011, 2008-2012, 2009-2013, 2010-2014, 2011-2015, 2012-2016, 2013-2017, 2014-2018, 2015-2019, 2020, 2016-2020, 2017-2021, 2018-2022      \n",
       "4 1990, 2000, 2010, 2020                                                                                                                                                           \n",
       "  geog_levels                                                                  \n",
       "1 state, county                                                                \n",
       "2 state, county, tract, cty_sub, place                                         \n",
       "3 nation, region, division, state, county, tract, cty_sub, place               \n",
       "4 state, county, tract, blck_grp, cty_sub, place, cd111th, cbsa, urb_area, zcta"
      ]
     },
     "metadata": {},
     "output_type": "display_data"
    }
   ],
   "source": [
    "# get metadata for each time-series table\n",
    "metadata_list <- map(datts_meta_filter$name, ~ get_metadata_nhgis(time_series_table = .x))\n",
    "\n",
    "# combine into a data frame with the necessary columns\n",
    "metadata_combined <- map_dfr(metadata_list, function(metadata) {\n",
    "  data.frame(\n",
    "    name = metadata$name,\n",
    "    description = metadata$description,\n",
    "    # Extract only the \"description\" column from the nested tibbles in \"years\" and \"geog_levels\"\n",
    "    years = paste(metadata$years$description, collapse = \", \"),\n",
    "    geog_levels = paste(metadata$geog_levels$name, collapse = \", \")\n",
    "  )\n",
    "})\n",
    "\n",
    "# print the final data frame\n",
    "metadata_combined"
   ]
  },
  {
   "cell_type": "markdown",
   "id": "fbaf2630-34dd-4619-8c1a-304008143778",
   "metadata": {},
   "source": [
    "Taking a look at these results, we can easily see the available years and geographies for each of the time-series tables we identified in our filtering process.\n",
    "\n",
    "Note that the lists of year ranges include both single years (e.g. \"2000\") corresponding to Decennial Census population counts and year ranges (e.g. \"2008-2012\") corresponding to five-year average population estimates from the [American Community Survey (ACS)](https://www.census.gov/programs-surveys/acs)."
   ]
  },
  {
   "cell_type": "markdown",
   "id": "3649a6a8-48e0-4b8b-a460-02cad0868a32",
   "metadata": {},
   "source": [
    "### 2d. Select a Dataset\n",
    "\n",
    "Once we have decided on a specific dataset, we will save the table's code for use in our data extration later on.\n",
    "\n",
    "In this example, we select the 2010 harmonized dataset (CL8), which aligns data to standardized 2010 geographies.  But you can change this line of code to correspond to whichever dataset you want.  You can also select multiple datasets using a list (e.g. *c(\"CL8\", \"A00\")*).  However, if you choose to select multiple dataseta, be mindful of the differences in available years and geographies for the datasets in your selection."
   ]
  },
  {
   "cell_type": "code",
   "execution_count": 11,
   "id": "beb219d2-fa44-4a90-844d-6b466cb4ea3f",
   "metadata": {},
   "outputs": [],
   "source": [
    "selection_datts <- \"CL8\""
   ]
  },
  {
   "cell_type": "markdown",
   "id": "df51bfe5-2dc5-4d22-9361-6c4532d33e7c",
   "metadata": {},
   "source": [
    "Now that we have selected our dataset, let's review its complete metadata details.  Verfity that you have selected the correct dataset and that our selection meets your data needs."
   ]
  },
  {
   "cell_type": "code",
   "execution_count": 12,
   "id": "a9007030-ac86-44b1-bd5e-efa9c569147b",
   "metadata": {},
   "outputs": [
    {
     "data": {
      "text/html": [
       "<dl>\n",
       "\t<dt>$name</dt>\n",
       "\t\t<dd>'CL8'</dd>\n",
       "\t<dt>$description</dt>\n",
       "\t\t<dd>'Total Population'</dd>\n",
       "\t<dt>$geographic_integration</dt>\n",
       "\t\t<dd>'Standardized to 2010'</dd>\n",
       "\t<dt>$sequence</dt>\n",
       "\t\t<dd>100.04</dd>\n",
       "\t<dt>$time_series</dt>\n",
       "\t\t<dd><table class=\"dataframe\">\n",
       "<caption>A tibble: 1 × 3</caption>\n",
       "<thead>\n",
       "\t<tr><th scope=col>name</th><th scope=col>description</th><th scope=col>sequence</th></tr>\n",
       "\t<tr><th scope=col>&lt;chr&gt;</th><th scope=col>&lt;chr&gt;</th><th scope=col>&lt;int&gt;</th></tr>\n",
       "</thead>\n",
       "<tbody>\n",
       "\t<tr><td>AA</td><td>Persons: Total</td><td>1</td></tr>\n",
       "</tbody>\n",
       "</table>\n",
       "</dd>\n",
       "\t<dt>$years</dt>\n",
       "\t\t<dd><table class=\"dataframe\">\n",
       "<caption>A tibble: 4 × 3</caption>\n",
       "<thead>\n",
       "\t<tr><th scope=col>name</th><th scope=col>description</th><th scope=col>sequence</th></tr>\n",
       "\t<tr><th scope=col>&lt;chr&gt;</th><th scope=col>&lt;chr&gt;</th><th scope=col>&lt;int&gt;</th></tr>\n",
       "</thead>\n",
       "<tbody>\n",
       "\t<tr><td>1990</td><td>1990</td><td>108</td></tr>\n",
       "\t<tr><td>2000</td><td>2000</td><td>118</td></tr>\n",
       "\t<tr><td>2010</td><td>2010</td><td>131</td></tr>\n",
       "\t<tr><td>2020</td><td>2020</td><td>155</td></tr>\n",
       "</tbody>\n",
       "</table>\n",
       "</dd>\n",
       "\t<dt>$geog_levels</dt>\n",
       "\t\t<dd><table class=\"dataframe\">\n",
       "<caption>A tibble: 10 × 3</caption>\n",
       "<thead>\n",
       "\t<tr><th scope=col>name</th><th scope=col>description</th><th scope=col>sequence</th></tr>\n",
       "\t<tr><th scope=col>&lt;chr&gt;</th><th scope=col>&lt;chr&gt;</th><th scope=col>&lt;int&gt;</th></tr>\n",
       "</thead>\n",
       "<tbody>\n",
       "\t<tr><td>state   </td><td>State                                                          </td><td>  4</td></tr>\n",
       "\t<tr><td>county  </td><td>State--County                                                  </td><td> 25</td></tr>\n",
       "\t<tr><td>tract   </td><td>State--County--Census Tract                                    </td><td> 66</td></tr>\n",
       "\t<tr><td>blck_grp</td><td>State--County--Census Tract--Block Group                       </td><td> 85</td></tr>\n",
       "\t<tr><td>cty_sub </td><td>State--County--County Subdivision                              </td><td>102</td></tr>\n",
       "\t<tr><td>place   </td><td>State--Place                                                   </td><td>148</td></tr>\n",
       "\t<tr><td>cd111th </td><td>State--Congressional District (2007-2013, 110th-112th Congress)</td><td>217</td></tr>\n",
       "\t<tr><td>cbsa    </td><td>Metropolitan Statistical Area/Micropolitan Statistical Area    </td><td>338</td></tr>\n",
       "\t<tr><td>urb_area</td><td>Urban Area                                                     </td><td>372</td></tr>\n",
       "\t<tr><td>zcta    </td><td>5-Digit ZIP Code Tabulation Area                               </td><td>382</td></tr>\n",
       "</tbody>\n",
       "</table>\n",
       "</dd>\n",
       "</dl>\n"
      ],
      "text/latex": [
       "\\begin{description}\n",
       "\\item[\\$name] 'CL8'\n",
       "\\item[\\$description] 'Total Population'\n",
       "\\item[\\$geographic\\_integration] 'Standardized to 2010'\n",
       "\\item[\\$sequence] 100.04\n",
       "\\item[\\$time\\_series] A tibble: 1 × 3\n",
       "\\begin{tabular}{lll}\n",
       " name & description & sequence\\\\\n",
       " <chr> & <chr> & <int>\\\\\n",
       "\\hline\n",
       "\t AA & Persons: Total & 1\\\\\n",
       "\\end{tabular}\n",
       "\n",
       "\\item[\\$years] A tibble: 4 × 3\n",
       "\\begin{tabular}{lll}\n",
       " name & description & sequence\\\\\n",
       " <chr> & <chr> & <int>\\\\\n",
       "\\hline\n",
       "\t 1990 & 1990 & 108\\\\\n",
       "\t 2000 & 2000 & 118\\\\\n",
       "\t 2010 & 2010 & 131\\\\\n",
       "\t 2020 & 2020 & 155\\\\\n",
       "\\end{tabular}\n",
       "\n",
       "\\item[\\$geog\\_levels] A tibble: 10 × 3\n",
       "\\begin{tabular}{lll}\n",
       " name & description & sequence\\\\\n",
       " <chr> & <chr> & <int>\\\\\n",
       "\\hline\n",
       "\t state    & State                                                           &   4\\\\\n",
       "\t county   & State--County                                                   &  25\\\\\n",
       "\t tract    & State--County--Census Tract                                     &  66\\\\\n",
       "\t blck\\_grp & State--County--Census Tract--Block Group                        &  85\\\\\n",
       "\t cty\\_sub  & State--County--County Subdivision                               & 102\\\\\n",
       "\t place    & State--Place                                                    & 148\\\\\n",
       "\t cd111th  & State--Congressional District (2007-2013, 110th-112th Congress) & 217\\\\\n",
       "\t cbsa     & Metropolitan Statistical Area/Micropolitan Statistical Area     & 338\\\\\n",
       "\t urb\\_area & Urban Area                                                      & 372\\\\\n",
       "\t zcta     & 5-Digit ZIP Code Tabulation Area                                & 382\\\\\n",
       "\\end{tabular}\n",
       "\n",
       "\\end{description}\n"
      ],
      "text/markdown": [
       "$name\n",
       ":   'CL8'\n",
       "$description\n",
       ":   'Total Population'\n",
       "$geographic_integration\n",
       ":   'Standardized to 2010'\n",
       "$sequence\n",
       ":   100.04\n",
       "$time_series\n",
       ":   \n",
       "A tibble: 1 × 3\n",
       "\n",
       "| name &lt;chr&gt; | description &lt;chr&gt; | sequence &lt;int&gt; |\n",
       "|---|---|---|\n",
       "| AA | Persons: Total | 1 |\n",
       "\n",
       "\n",
       "$years\n",
       ":   \n",
       "A tibble: 4 × 3\n",
       "\n",
       "| name &lt;chr&gt; | description &lt;chr&gt; | sequence &lt;int&gt; |\n",
       "|---|---|---|\n",
       "| 1990 | 1990 | 108 |\n",
       "| 2000 | 2000 | 118 |\n",
       "| 2010 | 2010 | 131 |\n",
       "| 2020 | 2020 | 155 |\n",
       "\n",
       "\n",
       "$geog_levels\n",
       ":   \n",
       "A tibble: 10 × 3\n",
       "\n",
       "| name &lt;chr&gt; | description &lt;chr&gt; | sequence &lt;int&gt; |\n",
       "|---|---|---|\n",
       "| state    | State                                                           |   4 |\n",
       "| county   | State--County                                                   |  25 |\n",
       "| tract    | State--County--Census Tract                                     |  66 |\n",
       "| blck_grp | State--County--Census Tract--Block Group                        |  85 |\n",
       "| cty_sub  | State--County--County Subdivision                               | 102 |\n",
       "| place    | State--Place                                                    | 148 |\n",
       "| cd111th  | State--Congressional District (2007-2013, 110th-112th Congress) | 217 |\n",
       "| cbsa     | Metropolitan Statistical Area/Micropolitan Statistical Area     | 338 |\n",
       "| urb_area | Urban Area                                                      | 372 |\n",
       "| zcta     | 5-Digit ZIP Code Tabulation Area                                | 382 |\n",
       "\n",
       "\n",
       "\n",
       "\n"
      ],
      "text/plain": [
       "$name\n",
       "[1] \"CL8\"\n",
       "\n",
       "$description\n",
       "[1] \"Total Population\"\n",
       "\n",
       "$geographic_integration\n",
       "[1] \"Standardized to 2010\"\n",
       "\n",
       "$sequence\n",
       "[1] 100.04\n",
       "\n",
       "$time_series\n",
       "\u001b[90m# A tibble: 1 × 3\u001b[39m\n",
       "  name  description    sequence\n",
       "  \u001b[3m\u001b[90m<chr>\u001b[39m\u001b[23m \u001b[3m\u001b[90m<chr>\u001b[39m\u001b[23m             \u001b[3m\u001b[90m<int>\u001b[39m\u001b[23m\n",
       "\u001b[90m1\u001b[39m AA    Persons: Total        1\n",
       "\n",
       "$years\n",
       "\u001b[90m# A tibble: 4 × 3\u001b[39m\n",
       "  name  description sequence\n",
       "  \u001b[3m\u001b[90m<chr>\u001b[39m\u001b[23m \u001b[3m\u001b[90m<chr>\u001b[39m\u001b[23m          \u001b[3m\u001b[90m<int>\u001b[39m\u001b[23m\n",
       "\u001b[90m1\u001b[39m 1990  1990             108\n",
       "\u001b[90m2\u001b[39m 2000  2000             118\n",
       "\u001b[90m3\u001b[39m 2010  2010             131\n",
       "\u001b[90m4\u001b[39m 2020  2020             155\n",
       "\n",
       "$geog_levels\n",
       "\u001b[90m# A tibble: 10 × 3\u001b[39m\n",
       "   name     description                                                 sequence\n",
       "   \u001b[3m\u001b[90m<chr>\u001b[39m\u001b[23m    \u001b[3m\u001b[90m<chr>\u001b[39m\u001b[23m                                                          \u001b[3m\u001b[90m<int>\u001b[39m\u001b[23m\n",
       "\u001b[90m 1\u001b[39m state    State                                                              4\n",
       "\u001b[90m 2\u001b[39m county   State--County                                                     25\n",
       "\u001b[90m 3\u001b[39m tract    State--County--Census Tract                                       66\n",
       "\u001b[90m 4\u001b[39m blck_grp State--County--Census Tract--Block Group                          85\n",
       "\u001b[90m 5\u001b[39m cty_sub  State--County--County Subdivision                                102\n",
       "\u001b[90m 6\u001b[39m place    State--Place                                                     148\n",
       "\u001b[90m 7\u001b[39m cd111th  State--Congressional District (2007-2013, 110th-112th Cong…      217\n",
       "\u001b[90m 8\u001b[39m cbsa     Metropolitan Statistical Area/Micropolitan Statistical Area      338\n",
       "\u001b[90m 9\u001b[39m urb_area Urban Area                                                       372\n",
       "\u001b[90m10\u001b[39m zcta     5-Digit ZIP Code Tabulation Area                                 382\n"
      ]
     },
     "metadata": {},
     "output_type": "display_data"
    }
   ],
   "source": [
    "get_metadata_nhgis(time_series_table = selection_datts)"
   ]
  },
  {
   "cell_type": "markdown",
   "id": "d4a95cdd-2313-498c-9d0c-d2438cced412",
   "metadata": {},
   "source": [
    "## 3. NHGIS Geography Shapefile Metadata Exploration\n",
    "\n",
    "As we saw in our metadata exploration above, the available geography levels vary based on the dataset.  If we want to extract geographic data along with the our datatable, we will need to review the available geographic data files and select an appropriate file for use with our data.\n",
    "\n",
    "#### Steps:\n",
    "1. Review dataset metadata.\n",
    "2. Retrieve metadata for available shapefiless.\n",
    "3. Filter and display shapefiles based on years and geographic level.\n",
    "5. Select a shapefile for extration."
   ]
  },
  {
   "cell_type": "markdown",
   "id": "672e3b73-804c-48c1-88b9-4c7c92d0fa20",
   "metadata": {},
   "source": [
    "### 3a. Review Time-Series Data Metadata\n",
    "\n",
    "First we should review which geographies are available for our selected datatable and select a geographic level for our extraction."
   ]
  },
  {
   "cell_type": "code",
   "execution_count": 3,
   "id": "24ac08e4-2ba7-44b2-adfb-4bf2652db967",
   "metadata": {},
   "outputs": [
    {
     "ename": "ERROR",
     "evalue": "Error in get_metadata_nhgis(time_series_table = selection_datts): could not find function \"get_metadata_nhgis\"\n",
     "output_type": "error",
     "traceback": [
      "Error in get_metadata_nhgis(time_series_table = selection_datts): could not find function \"get_metadata_nhgis\"\nTraceback:\n"
     ]
    }
   ],
   "source": [
    "get_metadata_nhgis(time_series_table = selection_datts)$geog_levels"
   ]
  },
  {
   "cell_type": "markdown",
   "id": "4cf6aaae-bf3f-4b7b-8e8e-6cbc11a58080",
   "metadata": {},
   "source": [
    "Select one of the available geographies and save it for use in our data extration later on.\n",
    "\n",
    "In this example, we select the Census tract (\"tract\") geographies.  But you can change this line of code to correspond to whichever geography you want.  Similar to the datast selection in step 2d, you can also select multiple geographies using a list (e.g. *c(\"state\", \"county\")*)."
   ]
  },
  {
   "cell_type": "code",
   "execution_count": 15,
   "id": "700c6ca8",
   "metadata": {},
   "outputs": [],
   "source": [
    "selection_geog <- \"tract\""
   ]
  },
  {
   "cell_type": "markdown",
   "id": "f658bf8f-4a2a-49a6-b143-b8dfdc65b62a",
   "metadata": {},
   "source": [
    "### 3b. Retrieve Geography Metadata\n",
    "\n",
    "Shapefiles are a type of file format which contain geographic boundaries.  This type of file is essential for spatial analysis.  This section retrieves and filters shapefile metadata to identify shapefiles which correspond to our selected year and geography.  This filtering step ensures you have the correct geographic boundaries for the population data."
   ]
  },
  {
   "cell_type": "code",
   "execution_count": 14,
   "id": "57327c9c-3f3f-434f-8093-2c8aabe6b851",
   "metadata": {},
   "outputs": [],
   "source": [
    "shp_meta <- get_metadata_nhgis(\"shapefiles\")"
   ]
  },
  {
   "cell_type": "markdown",
   "id": "21212492-840a-463a-8577-681446a4af23",
   "metadata": {},
   "source": [
    "### 3c. Filter Geography Metadata Based on Year and Geography\n",
    "\n",
    "For this exercise, we will extract a set of shapefiles at your previously-selected geography as well as a specific year.  As we saw in our metadata exploration above, the available geography levels vary based on the dataset.\n",
    "\n",
    "For this filtering step, you should also filter based on the year.  For this exercise, we are using time-series table CL8 which contains information on total population harmonized to 2010 geographies.  Therefore, we should only select a shapefile which corresponds to 2010 geographies."
   ]
  },
  {
   "cell_type": "code",
   "execution_count": 16,
   "id": "5ab9a0cb-74c4-419c-8cd6-bb18921494cd",
   "metadata": {},
   "outputs": [],
   "source": [
    "selection_year <- \"2010\""
   ]
  },
  {
   "cell_type": "markdown",
   "id": "f09c12d6-3e47-47eb-99f7-516ef589a242",
   "metadata": {},
   "source": [
    "If you are unfamiliar with Census geographies, it might sound strange to include a year specification in this filtring step.  For large geographies, such as \"nation\" or \"state\", the year is relatively unimportant because the boundaries of these regions are not redrawn from year to year.  However, for smaller geographies, especially those related to the U.S. Decennial Census, such as \"tract\", \"block\" or \"blck_grp\" (block group), and as those related to political districts, such as \"cd\" (congressional district), the boundary of the grography can change over time.  Census tract, block group, and block boundaries are redrawn for each Decennial Census based on population numbers, and Congressional Districts are often redrawn for new congresional elections.  For this reason, it is essential to correspond your shapefile selection to your time-series data extraction.\n",
    "\n",
    "Run the code below to list the available shapefiles based on your year and geography specifications."
   ]
  },
  {
   "cell_type": "code",
   "execution_count": 17,
   "id": "bc870bcd-ba3b-4c94-98f2-aacabb906d4d",
   "metadata": {},
   "outputs": [
    {
     "name": "stdout",
     "output_type": "stream",
     "text": [
      "\u001b[90m# A tibble: 4 × 6\u001b[39m\n",
      "  name                            year  geographic_level   extent basis sequence\n",
      "  \u001b[3m\u001b[90m<chr>\u001b[39m\u001b[23m                           \u001b[3m\u001b[90m<chr>\u001b[39m\u001b[23m \u001b[3m\u001b[90m<chr>\u001b[39m\u001b[23m              \u001b[3m\u001b[90m<chr>\u001b[39m\u001b[23m  \u001b[3m\u001b[90m<chr>\u001b[39m\u001b[23m    \u001b[3m\u001b[90m<int>\u001b[39m\u001b[23m\n",
      "\u001b[90m1\u001b[39m us_tract_2010_tl2010            2010  Census Tract       Unite… 2010…      603\n",
      "\u001b[90m2\u001b[39m us_tract_cenpop_2010_cenpop2010 2010  Census Tract (Cen… Unite… 2010…      604\n",
      "\u001b[90m3\u001b[39m us_tract_2010_tl2020            2010  Census Tract       Unite… 2020…      605\n",
      "\u001b[90m4\u001b[39m us_ttract_2010_tl2010           2010  Tribal Census Tra… Unite… 2010…      641\n"
     ]
    }
   ],
   "source": [
    "shp_meta %>% filter(year == selection_year & grepl(selection_geog, geographic_level, ignore.case = T)) %>% print(n = Inf)"
   ]
  },
  {
   "cell_type": "markdown",
   "id": "50ce420a-65cc-413f-b8a5-6fd9a7934bf9",
   "metadata": {},
   "source": [
    "The filtering step provides us with a list of potential shapefiles we can use for our extraction based on the year and geography criteria."
   ]
  },
  {
   "cell_type": "markdown",
   "id": "3f2acbf0-fa8b-45c8-9c67-d44b7c795871",
   "metadata": {},
   "source": [
    "### 3d. Select a Geography Shapfile\n",
    "\n",
    "For this exercise, we will select the 2010 Census tract dataset based on the 2010 TIGER line files (file \"us_tract_2010_tl2010\").  And wee will save this selection for use later in our data extraction step."
   ]
  },
  {
   "cell_type": "code",
   "execution_count": 19,
   "id": "a2cdadfb-24ad-4c55-a6c5-64f36c30e354",
   "metadata": {},
   "outputs": [],
   "source": [
    "selection_shp <- \"us_tract_2010_tl2010\""
   ]
  },
  {
   "cell_type": "markdown",
   "id": "097ffa3a-9550-4ccd-bc2e-cdc53ccdcff7",
   "metadata": {},
   "source": [
    "## 4. NHGIS Time-Series Dataset and Geography Shapefile Extraction Specification and Submission\n",
    "\n",
    "Now that you've identified your dataset and shapefile, this section defines and submits an extraction request to the IPUMS NHGIS API. Extracting data from IPUMS NHGIS allows you to download specific datasets and geographical data directly from the IPUMS server. This method makes it easy to automate and reproduce data requests.  The extraction will include both the selected time-series data and the corresponding shapefiles.\n",
    "\n",
    "#### Steps:\n",
    "1. Define and Run the Data Extraction\n",
    "2. Review the Data Extraction"
   ]
  },
  {
   "cell_type": "markdown",
   "id": "68c3f813-fa35-401d-a351-d1012a86e9db",
   "metadata": {},
   "source": [
    "### 4a. Define the Extraction Parameters and Run the Extraction\n",
    "\n",
    "Here we will put everything together including out time series data table selection (selection_datts), our selected geography (selection_geog), and our selected shapefiles (selection_shp)."
   ]
  },
  {
   "cell_type": "code",
   "execution_count": 5,
   "id": "06d6fbfd-9e94-47c5-8fac-78dbb8983e76",
   "metadata": {},
   "outputs": [
    {
     "ename": "ERROR",
     "evalue": "Error in eval(expr, envir, enclos): object 'selection_datts' not found\n",
     "output_type": "error",
     "traceback": [
      "Error in eval(expr, envir, enclos): object 'selection_datts' not found\nTraceback:\n",
      "1. define_extract_nhgis(description = \"I-GUIDE IPUMS Population Change Extraction\", \n .     time_series_tables = tst_spec(name = selection_datts, geog_levels = selection_geog), \n .     shapefiles = selection_shp)",
      "2. tst_spec(name = selection_datts, geog_levels = selection_geog)",
      "3. new_ipums_spec(name, geog_levels = geog_levels, years = years, \n .     class = \"tst_spec\")"
     ]
    }
   ],
   "source": [
    "extraction <- define_extract_nhgis(description = \"I-GUIDE IPUMS Population Change Extraction\",\n",
    "                                   time_series_tables = tst_spec(name = selection_datts,\n",
    "                                                                 geog_levels = selection_geog),\n",
    "                                   shapefiles = selection_shp)"
   ]
  },
  {
   "cell_type": "markdown",
   "id": "560de1c0-afbc-4a84-8260-9688df775926",
   "metadata": {},
   "source": [
    "Submit the extraction request and wait for it to complete, then download the resulting data."
   ]
  },
  {
   "cell_type": "code",
   "execution_count": 1,
   "id": "6c955fa7",
   "metadata": {},
   "outputs": [
    {
     "ename": "ERROR",
     "evalue": "Error in submit_extract(extraction): could not find function \"submit_extract\"\n",
     "output_type": "error",
     "traceback": [
      "Error in submit_extract(extraction): could not find function \"submit_extract\"\nTraceback:\n"
     ]
    }
   ],
   "source": [
    "# submit extraction  \n",
    "extraction_submitted <- submit_extract(extraction)\n",
    "\n",
    "# wait for completion\n",
    "extraction_complete <- wait_for_extract(extraction_submitted)\n",
    "\n",
    "# check completion\n",
    "extraction_complete$status\n",
    "\n",
    "# get extraction filepath\n",
    "filepath <- download_extract(extraction_submitted, overwrite = T)"
   ]
  },
  {
   "cell_type": "markdown",
   "id": "d2cc34a6-2b19-4dba-bd01-40c70d9e276c",
   "metadata": {},
   "source": [
    "### 4b. Review the Extracted Files\n",
    "If you followed along with this exercise, your data extraction and download should contain the following two files.  If you expanded your extraction to additional datasets and shapefiles, you extraction will contain additional files.\n",
    "\n",
    "1. A dataset containing total population by Census tract (based on 2010 Census tract boundaries) for all available years in the CL8 time-series dataset (1990, 2000, 2010, and 2020).\n",
    "2. A shapefile with 2010 Census tract boundaries."
   ]
  },
  {
   "cell_type": "code",
   "execution_count": 50,
   "id": "99208189-2bfd-4a72-acb9-e4176842631b",
   "metadata": {},
   "outputs": [
    {
     "name": "stderr",
     "output_type": "stream",
     "text": [
      "Use of data from NHGIS is subject to conditions including that users should cite the data appropriately. Use command `ipums_conditions()` for more details.\n",
      "\n",
      "\u001b[1mRows: \u001b[22m\u001b[34m73057\u001b[39m \u001b[1mColumns: \u001b[22m\u001b[34m17\u001b[39m\n",
      "\u001b[36m──\u001b[39m \u001b[1mColumn specification\u001b[22m \u001b[36m────────────────────────────────────────────────────────\u001b[39m\n",
      "\u001b[1mDelimiter:\u001b[22m \",\"\n",
      "\u001b[31mchr\u001b[39m  (6): GISJOIN, STATE, STATEA, COUNTY, COUNTYA, TRACTA\n",
      "\u001b[32mdbl\u001b[39m (11): GEOGYEAR, CL8AA1990, CL8AA1990L, CL8AA1990U, CL8AA2000, CL8AA2000L...\n",
      "\n",
      "\u001b[36mℹ\u001b[39m Use `spec()` to retrieve the full column specification for this data.\n",
      "\u001b[36mℹ\u001b[39m Specify the column types or set `show_col_types = FALSE` to quiet this message.\n"
     ]
    }
   ],
   "source": [
    "# see files in extract\n",
    "dat_raw <- read_nhgis(filepath[1])\n",
    "shp_raw <- read_ipums_sf(filepath[2])"
   ]
  },
  {
   "cell_type": "code",
   "execution_count": 4,
   "id": "bad40933-267f-4531-8a63-11f23ad09419",
   "metadata": {},
   "outputs": [
    {
     "ename": "ERROR",
     "evalue": "Error in eval(expr, envir, enclos): object 'dat_raw' not found\n",
     "output_type": "error",
     "traceback": [
      "Error in eval(expr, envir, enclos): object 'dat_raw' not found\nTraceback:\n",
      "1. head(dat_raw)"
     ]
    }
   ],
   "source": [
    "head(dat_raw)"
   ]
  },
  {
   "cell_type": "markdown",
   "id": "eaf1837a-2471-4b58-92c8-5c375e9a841c",
   "metadata": {},
   "source": [
    "## 5. Subset and Merge the Time-Series and Geography Data Extractions"
   ]
  },
  {
   "cell_type": "markdown",
   "id": "81be6dac-76b3-4f7e-a50e-0acdb70955a3",
   "metadata": {},
   "source": [
    "This final section provides a few example data engineering next steps for reference.\n",
    "\n",
    "1. First, the time-series population data is condensed to include only population counts from 1990, 2000, 2010, and 2020 and the column \"GISJOIN\" which contains unique codes for each Census tract.\n",
    "2. Next, the population count columns are renamed.\n",
    "3. Then the Census tract shapefile is condensed to include only the state FIPS code and \"GISJOIN\" columns.\n",
    "4. Finally, the time-series population data is mrged with the Census tract shapefile using the unique \"GISJOIN\" column as the join key."
   ]
  },
  {
   "cell_type": "markdown",
   "id": "476d05b3-3321-45e6-bac0-ec1bd1a18fdb",
   "metadata": {},
   "source": [
    "### 5a. Subset the Time-Series and Geography Data\n",
    "\n"
   ]
  },
  {
   "cell_type": "code",
   "execution_count": null,
   "id": "83867576-a128-4e71-8065-b7931ba4915d",
   "metadata": {},
   "outputs": [],
   "source": [
    "# subset the time-series data to only necessary columns\n",
    "dat <- dat_raw[c(\"GISJOIN\", \"CL8AA1990\", \"CL8AA2000\", \"CL8AA2010\", \"CL8AA2020\")]\n",
    "\n",
    "# subset the shapefile to only necessary columns\n",
    "shp <- shp_raw[c(\"GISJOIN\", \"STATEFP10\")]"
   ]
  },
  {
   "cell_type": "markdown",
   "id": "e7c27f46-459a-4f3a-99a4-28178faf80aa",
   "metadata": {},
   "source": [
    "### 5b. Merge the Time-Series and Geography Data "
   ]
  },
  {
   "cell_type": "code",
   "execution_count": null,
   "id": "935d7e5c-f3e1-464b-8893-e57ef219d7e2",
   "metadata": {},
   "outputs": [],
   "source": [
    "# merge the time-series population data with the Censuss tract shapefile\n",
    "dat <- merge(dat, shp, by = \"GISJOIN\")"
   ]
  },
  {
   "cell_type": "markdown",
   "id": "dfca8c9f-2653-423d-b71b-24bbc8e12a0f",
   "metadata": {},
   "source": [
    "The final merged includes total population for 1990, 2000, 2010, and 2020 attached to the geographic boundaries of the 2010 Census tracts.  The code below provides a snapshot of the first ten lines in the final merged dataset."
   ]
  },
  {
   "cell_type": "code",
   "execution_count": 57,
   "id": "59fa05f2-af45-45ed-91e7-8ad2cc99467d",
   "metadata": {},
   "outputs": [
    {
     "data": {
      "text/html": [
       "<table class=\"dataframe\">\n",
       "<caption>A data.frame: 6 × 7</caption>\n",
       "<thead>\n",
       "\t<tr><th></th><th scope=col>GISJOIN</th><th scope=col>pop1990</th><th scope=col>pop2000</th><th scope=col>pop2010</th><th scope=col>pop2020</th><th scope=col>STATEFP10</th><th scope=col>geometry</th></tr>\n",
       "\t<tr><th></th><th scope=col>&lt;chr&gt;</th><th scope=col>&lt;dbl&gt;</th><th scope=col>&lt;dbl&gt;</th><th scope=col>&lt;dbl&gt;</th><th scope=col>&lt;dbl&gt;</th><th scope=col>&lt;chr&gt;</th><th scope=col>&lt;MULTIPOLYGON [m]&gt;</th></tr>\n",
       "</thead>\n",
       "<tbody>\n",
       "\t<tr><th scope=row>1</th><td>G0100010020100</td><td>1772.67</td><td>1920.02</td><td> 1912</td><td> 1775</td><td>01</td><td>MULTIPOLYGON (((888438 -515...</td></tr>\n",
       "\t<tr><th scope=row>2</th><td>G0100010020200</td><td>2031.00</td><td>1892.00</td><td> 2170</td><td> 2055</td><td>01</td><td>MULTIPOLYGON (((889844.1 -5...</td></tr>\n",
       "\t<tr><th scope=row>3</th><td>G0100010020300</td><td>2952.00</td><td>3339.00</td><td> 3373</td><td> 3216</td><td>01</td><td>MULTIPOLYGON (((891383.8 -5...</td></tr>\n",
       "\t<tr><th scope=row>4</th><td>G0100010020400</td><td>4401.00</td><td>4556.00</td><td> 4386</td><td> 4246</td><td>01</td><td>MULTIPOLYGON (((892527.3 -5...</td></tr>\n",
       "\t<tr><th scope=row>5</th><td>G0100010020500</td><td>3120.68</td><td>6041.90</td><td>10766</td><td>11222</td><td>01</td><td>MULTIPOLYGON (((895451 -522...</td></tr>\n",
       "\t<tr><th scope=row>6</th><td>G0100010020600</td><td>3330.00</td><td>3272.00</td><td> 3668</td><td> 3729</td><td>01</td><td>MULTIPOLYGON (((889098.5 -5...</td></tr>\n",
       "</tbody>\n",
       "</table>\n"
      ],
      "text/latex": [
       "A data.frame: 6 × 7\n",
       "\\begin{tabular}{r|lllllll}\n",
       "  & GISJOIN & pop1990 & pop2000 & pop2010 & pop2020 & STATEFP10 & geometry\\\\\n",
       "  & <chr> & <dbl> & <dbl> & <dbl> & <dbl> & <chr> & <MULTIPOLYGON {[}m{]}>\\\\\n",
       "\\hline\n",
       "\t1 & G0100010020100 & 1772.67 & 1920.02 &  1912 &  1775 & 01 & MULTIPOLYGON (((888438 -515...\\\\\n",
       "\t2 & G0100010020200 & 2031.00 & 1892.00 &  2170 &  2055 & 01 & MULTIPOLYGON (((889844.1 -5...\\\\\n",
       "\t3 & G0100010020300 & 2952.00 & 3339.00 &  3373 &  3216 & 01 & MULTIPOLYGON (((891383.8 -5...\\\\\n",
       "\t4 & G0100010020400 & 4401.00 & 4556.00 &  4386 &  4246 & 01 & MULTIPOLYGON (((892527.3 -5...\\\\\n",
       "\t5 & G0100010020500 & 3120.68 & 6041.90 & 10766 & 11222 & 01 & MULTIPOLYGON (((895451 -522...\\\\\n",
       "\t6 & G0100010020600 & 3330.00 & 3272.00 &  3668 &  3729 & 01 & MULTIPOLYGON (((889098.5 -5...\\\\\n",
       "\\end{tabular}\n"
      ],
      "text/markdown": [
       "\n",
       "A data.frame: 6 × 7\n",
       "\n",
       "| <!--/--> | GISJOIN &lt;chr&gt; | pop1990 &lt;dbl&gt; | pop2000 &lt;dbl&gt; | pop2010 &lt;dbl&gt; | pop2020 &lt;dbl&gt; | STATEFP10 &lt;chr&gt; | geometry &lt;MULTIPOLYGON [m]&gt; |\n",
       "|---|---|---|---|---|---|---|---|\n",
       "| 1 | G0100010020100 | 1772.67 | 1920.02 |  1912 |  1775 | 01 | MULTIPOLYGON (((888438 -515... |\n",
       "| 2 | G0100010020200 | 2031.00 | 1892.00 |  2170 |  2055 | 01 | MULTIPOLYGON (((889844.1 -5... |\n",
       "| 3 | G0100010020300 | 2952.00 | 3339.00 |  3373 |  3216 | 01 | MULTIPOLYGON (((891383.8 -5... |\n",
       "| 4 | G0100010020400 | 4401.00 | 4556.00 |  4386 |  4246 | 01 | MULTIPOLYGON (((892527.3 -5... |\n",
       "| 5 | G0100010020500 | 3120.68 | 6041.90 | 10766 | 11222 | 01 | MULTIPOLYGON (((895451 -522... |\n",
       "| 6 | G0100010020600 | 3330.00 | 3272.00 |  3668 |  3729 | 01 | MULTIPOLYGON (((889098.5 -5... |\n",
       "\n"
      ],
      "text/plain": [
       "  GISJOIN        pop1990 pop2000 pop2010 pop2020 STATEFP10\n",
       "1 G0100010020100 1772.67 1920.02  1912    1775   01       \n",
       "2 G0100010020200 2031.00 1892.00  2170    2055   01       \n",
       "3 G0100010020300 2952.00 3339.00  3373    3216   01       \n",
       "4 G0100010020400 4401.00 4556.00  4386    4246   01       \n",
       "5 G0100010020500 3120.68 6041.90 10766   11222   01       \n",
       "6 G0100010020600 3330.00 3272.00  3668    3729   01       \n",
       "  geometry                      \n",
       "1 MULTIPOLYGON (((888438 -515...\n",
       "2 MULTIPOLYGON (((889844.1 -5...\n",
       "3 MULTIPOLYGON (((891383.8 -5...\n",
       "4 MULTIPOLYGON (((892527.3 -5...\n",
       "5 MULTIPOLYGON (((895451 -522...\n",
       "6 MULTIPOLYGON (((889098.5 -5..."
      ]
     },
     "metadata": {},
     "output_type": "display_data"
    }
   ],
   "source": [
    "head(dat)"
   ]
  },
  {
   "cell_type": "markdown",
   "id": "05a80015-ce9c-4b51-ab23-35eafbcf9b81",
   "metadata": {},
   "source": [
    "## Conclusion\n",
    "This script provides a step-by-step guide to extracting and preparing U.S. Census population data from the IPUMS NHGIS for spatial analysis. By following this approach, social scientists and researchers can automate data extraction tasks, save time, and ensure reproducibility.\n",
    "\n",
    "The data and shapefile merging capabilities allow users to explore population trends across various geographic levels and time periods. Feel free to customize the script to fit your specific research needs."
   ]
  },
  {
   "cell_type": "markdown",
   "id": "313811a9-d540-4615-b871-ae4ebbee5cd4",
   "metadata": {},
   "source": [
    "## Next Steps\n",
    "\n",
    "From here, we recommend exploring the following notebooks:\n",
    "\n",
    "* **Exploratory Data Spatial Analysis (ESDA) with IPUMS NHGIS**"
   ]
  },
  {
   "cell_type": "markdown",
   "id": "4570aa6d-f6cd-436a-87d5-6788778bd601",
   "metadata": {},
   "source": [
    "## Quick Code\n",
    "\n",
    "Don't forget to update the code with your IPUMS API key!"
   ]
  },
  {
   "cell_type": "code",
   "execution_count": 18,
   "id": "18f6faec-198e-4867-a630-fd27a51a124b",
   "metadata": {},
   "outputs": [
    {
     "name": "stderr",
     "output_type": "stream",
     "text": [
      "Existing .Renviron file copied to /home/jovyan/.Renviron_backup for backup purposes.\n",
      "\n",
      "The environment variable IPUMS_API_KEY has been set and saved for future sessions.\n",
      "\n"
     ]
    },
    {
     "ename": "ERROR",
     "evalue": "\u001b[1m\u001b[33mError\u001b[39m in `ipums_api_request()`:\u001b[22m\n\u001b[33m!\u001b[39m The provided API key is either missing or invalid.\n\u001b[34mℹ\u001b[39m Please provide your API key to the `api_key` argument or request a key at https://account.ipums.org/api_keys\n\u001b[34mℹ\u001b[39m Use `set_ipums_api_key()` to save your key for future use.\n",
     "output_type": "error",
     "traceback": [
      "\u001b[1m\u001b[33mError\u001b[39m in `ipums_api_request()`:\u001b[22m\n\u001b[33m!\u001b[39m The provided API key is either missing or invalid.\n\u001b[34mℹ\u001b[39m Please provide your API key to the `api_key` argument or request a key at https://account.ipums.org/api_keys\n\u001b[34mℹ\u001b[39m Use `set_ipums_api_key()` to save your key for future use.\nTraceback:\n",
      "1. submit_extract(extraction)",
      "2. ipums_api_extracts_request(\"POST\", collection = extract$collection, \n .     url = url, body = extract_to_request_json(extract), api_key = api_key)",
      "3. ipums_api_request(verb = verb, url = url, body = body, api_key = api_key, \n .     httr::content_type_json())",
      "4. validate_api_request(response)",
      "5. rlang::abort(c(\"The provided API key is either missing or invalid.\", \n .     i = paste0(\"Please provide your API key to the `api_key` argument \", \n .         \"or request a key at https://account.ipums.org/api_keys\"), \n .     i = \"Use `set_ipums_api_key()` to save your key for future use.\"), \n .     call = call)",
      "6. signal_abort(cnd, .file)"
     ]
    }
   ],
   "source": [
    "# install necessary packages\n",
    "#install.packages(\"dplyr\", \"ipumsr\", \"purr\")\n",
    "\n",
    "# load necessary libraries\n",
    "library(dplyr)\n",
    "library(ipumsr)\n",
    "library(purrr)\n",
    "\n",
    "# set IPUMS API key\n",
    "ipums_api_key <- \"paste your api key here\"\n",
    "set_ipums_api_key(ipums_api_key, save = T, overwrite = T)\n",
    "\n",
    "# define extract specifications\n",
    "selection_datts <- \"CL8\"                  # time-series data table\n",
    "selection_geog <- \"tract\"                 # geographic level\n",
    "selection_year <- \"2010\"                  # year(s)\n",
    "selection_shp <- \"us_tract_2010_tl2010\"   # shapefile\n",
    "\n",
    "# set up the data extraction\n",
    "extraction <- define_extract_nhgis(description = \"IPUMS NHGIS Data Extraction\",\n",
    "                                   time_series_tables = tst_spec(name = selection_datts,\n",
    "                                                                 geog_levels = selection_geog,\n",
    "                                                                 years = selection_year),\n",
    "                                   shapefiles = selection_shp)\n",
    "\n",
    "# submit extraction and extract the data\n",
    "extraction_submitted <- submit_extract(extraction)                  # submit the extraction  \n",
    "extraction_complete <- wait_for_extract(extraction_submitted)       # wait for completion\n",
    "extraction_complete$status                                          # check completion\n",
    "filepath <- download_extract(extraction_submitted, overwrite = T)   # get extraction filepath\n",
    "\n",
    "# extract the files\n",
    "dat_raw <- read_nhgis(filepath[1])\n",
    "shp_raw <- read_ipums_sf(filepath[2])\n",
    "\n",
    "# merge the data and geography files\n",
    "dat <- merge(dat_raw, shp_raw, by = \"GISJOIN\")\n",
    "\n",
    "# save as RDS file\n",
    "saveRDS(dat, \"dat_ipums_nhgis.rds\", )"
   ]
  }
 ],
 "metadata": {
  "kernelspec": {
   "display_name": "iguide-ewd-r",
   "language": "R",
   "name": "iguide-ewd-r"
  },
  "language_info": {
   "codemirror_mode": "r",
   "file_extension": ".r",
   "mimetype": "text/x-r-source",
   "name": "R",
   "pygments_lexer": "r",
   "version": "4.3.1"
  }
 },
 "nbformat": 4,
 "nbformat_minor": 5
}
