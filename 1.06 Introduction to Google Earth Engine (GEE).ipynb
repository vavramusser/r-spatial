{
 "cells": [
  {
   "cell_type": "markdown",
   "id": "2af0d3a7-22a8-46fe-b0aa-0c882c0591a6",
   "metadata": {},
   "source": [
    "# Introduction to Google Earth Engine (GEE)"
   ]
  },
  {
   "cell_type": "markdown",
   "id": "dcc2b1bb-738b-4aba-b360-6bcefa21e64b",
   "metadata": {},
   "source": [
    "[**Google Earth Engine (GEE)**](https://earthengine.google.com) is a cloud-based platform for geospatial analysis that provides access to a vast catalog of satellite imagery and environmental datasets. GEE enables scalable, high-performance processing of large geospatial datasets, making it ideal for applications like land cover classification, climate change analysis, and environmental monitoring. This notebook introduces GEE, highlights its capabilities, and demonstrates how to integrate it into spatial workflows in R.\n",
    "\n",
    "### Available Data\n",
    "Google Earth Engine (GEE) provides access to a vast catalog of geospatial datasets and services, enabling advanced analysis and visualization. Key categories of available data include:\n",
    "\n",
    "* Satellite Imagery\n",
    "  * High-resolution imagery from sources like Landsat, Sentinel, and MODIS.\n",
    "  * Historical and near real-time data for monitoring land, water, and atmospheric conditions.\n",
    "* Environmental Data\n",
    "  * Climate variables such as temperature, precipitation, and humidity.\n",
    "  * Vegetation indices, including NDVI and EVI, derived from satellite imagery.\n",
    "  * Atmospheric data on aerosols, greenhouse gases, and air quality.\n",
    "* Land Cover and Land Use\n",
    "  * Global and regional land cover classifications, including the National Land Cover Database (NLCD) and ESA's WorldCover.\n",
    "  * Data on urbanization, deforestation, and agricultural expansion.\n",
    "* Topography and Elevation\n",
    " * Digital elevation models (DEMs) from sources like SRTM and ASTER.\n",
    " * Terrain analysis, including slope and aspect.\n",
    "* Hydrological Data\n",
    "  * Surface water occurrence, flooding patterns, and water quality indicators.\n",
    "  * River networks and watershed delineations.\n",
    "* Socioeconomic Data\n",
    "  * Human population density, settlement patterns, and infrastructure data.\n",
    "* Global Change Indicators\n",
    "  * Datasets related to climate change, biodiversity, and ecosystem services.\n",
    "* Custom User-Uploaded Data\n",
    "  * Users can upload and integrate their geospatial datasets to enhance analyses."
   ]
  },
  {
   "cell_type": "markdown",
   "id": "20ac1429-3f80-47f1-863e-7c78d60794fd",
   "metadata": {},
   "source": [
    "## The rgee R Package\n",
    "The [**rgee**](https://cran.r-project.org/web/packages/rgee/index.html) package serves as an interface between R and the GEE API, enabling Earth Engine functionality within R. It simplifies tasks like retrieving data, running computations, and visualizing results in R."
   ]
  },
  {
   "cell_type": "markdown",
   "id": "66fd09cd-040c-4fd8-b30c-9c9d0ebee88c",
   "metadata": {},
   "source": [
    "## The Google Earth Engine API\n",
    "The rgee package uses the [**Google Earth Engine API**](https://developers.google.com/earth-engine/guides/access) to query and extract geospatial data from Google Earth Engine..\n",
    "\n",
    "An [API (Application Programming Interface)](https://en.wikipedia.org/wiki/API) is a set of rules and protocols that allow different software applications to communicate with each other. APIs enable automated access to data and services, allowing users to retrieve, manipulate, and manage information without directly interacting with a website or user interface.\n",
    "\n",
    "### ★ Create Your Google Earth Engine Account and API Key ★\n",
    "To use the API, you must first sign up for access at Google Earth Engine.\n",
    "\n",
    "While GEE does not use a traditional API key, you must authenticate your account using Google credentials. This process typically involves setting up a service account or using OAuth 2.0 authentication."
   ]
  },
  {
   "cell_type": "markdown",
   "id": "ceec78ce-e543-4c52-b5ee-fbfdfe2c117a",
   "metadata": {},
   "source": [
    "## Recommended Next Steps\n",
    "\n",
    "* **Continue with Chapter 1: Data Sources and APIs**\n",
    "  * 1.1: Introduction to IPUMS and the IPUMS API\n",
    "  * 1.2: Introduciton to Natural Earth\n",
    "  * 1.3: Introduction to OpenStreetMap (OSM)\n",
    "  * 1.4: Introduction to Stadia Maps and Stamen Maps\n",
    "  * 1.5: Introduction to Google Maps\n",
    "  * 1.6: Introduction to Basemaps with ggmap\n",
    "  * 1.8: Introduction to the National Land Cover Database (NLCD)\n",
    "  * 1.9: Introduction to the EPA Air Quality System (AQS) Data Repository"
   ]
  }
 ],
 "metadata": {
  "kernelspec": {
   "display_name": "R",
   "language": "R",
   "name": "ir"
  },
  "language_info": {
   "codemirror_mode": "r",
   "file_extension": ".r",
   "mimetype": "text/x-r-source",
   "name": "R",
   "pygments_lexer": "r",
   "version": "4.3.3"
  }
 },
 "nbformat": 4,
 "nbformat_minor": 5
}
