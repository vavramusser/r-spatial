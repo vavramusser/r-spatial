{
 "cells": [
  {
   "cell_type": "markdown",
   "id": "e59fd3d6-ef13-4971-9e8e-cc277ba9a02c",
   "metadata": {},
   "source": [
    "# Working with CRS: Reprojecting and Transforming Vector Data\n",
    "### by [Kate Vavra-Musser](https://vavramusser.github.io) for the [R Spatial Notebook Series](https://vavramusser.github.io/r-spatial)"
   ]
  },
  {
   "cell_type": "markdown",
   "id": "79bd0549-da7a-4fdf-93c0-11830d1a8611",
   "metadata": {},
   "source": [
    "## Introduction\n",
    "[Coordinate Reference Systems (CRS)](https://en.wikipedia.org/wiki/Spatial_reference_system) play a foundational role in spatial data analysis. They define how data based on the three-dimensional surface of the earth can be represented in flat, two-dimensional maps. Understanding CRS is essential for working with spatial data, especially if you are working with datasets from different sources that may use different CRSs.  If you want to map more than one spatial data layer on the same map, or if you want to use multiple spatial data files in the same spatial analysis workflow, you will need to ensure all layers are in the same CRS.\n",
    "\n",
    "### Geographic vs Projected CRS\n",
    "There are two main types of CRSs: Geographic CRS and Projected CRS.\n",
    "\n",
    "#### Geographic CRS (GCS)\n",
    "A Geographic CRS represents locations using **latitude and longitude** on a three-dimensional sphere or ellipsoid.  Geographic CRS are best for storing and displaying global data, but are not ideal for area measurements due to local distortions.\n",
    "\n",
    "**When to Use Geographic CRS**\n",
    "* When dealing with global datasets (e.g., satellite data, GPS data).\n",
    "* When storing and sharing data (most GIS databases store raw data in a geographic CRS).\n",
    "* For web maps (WGS 84 is the most common for web-based applications).\n",
    "\n",
    "**Drawbacks**\n",
    "* Not suitable for measuring distances or areas accurately, as degrees of latitude and longitude do not have uniform lengths across the globe.\n",
    "\n",
    "#### Projected Coordinate Reference Systems (PCS)\n",
    "A Projected CRS transforms the Earth's curved surface onto a flat, two-dimensional plane, allowing for accurate distance, area, and direction measurements.  Projected CRS use linear units (e.g. meters or feet) instead of degrees.  They are designed to minimize distortion for a **specific area** and are best for regional and local spatial analysis where accurate distance and area calculations are needed.\n",
    "\n",
    "**When to Use Projected CRS**\n",
    "* For regional and local analysis where distance and area measurements matter (e.g., urban planning, land surveys).\n",
    "* When performing spatial operations like buffering or area calculations.\n",
    "* For maps that need to preserve distances, shapes, or areas accurately.\n",
    "\n",
    "**Drawbacks**\n",
    "* Only accurate within its defined area.  A projected CRS optimized for North America won’t work well for Europe.\n",
    "* May distort some aspects of geometry, depending on the projection type.\n",
    "\n",
    "#### Common CRS\n",
    "| **CRS Name** | **Type** | **Common Use Case** | **EPSG Code**\n",
    "|:-|:-|:-|:-\n",
    "| [World Geodetic System 1984 (WGS 84)](https://en.wikipedia.org/wiki/World_Geodetic_System) | Geographic | Global standard, used in GPS and web maps | [4326](https://epsg.io/4326) |\n",
    "| [Web Mercator (WGS 84)](https://en.wikipedia.org/wiki/Web_Mercator_projection) | Projected | Used in web maps (Google Maps, OSM, Bing) | [3857](https://epsg.io/3857) |\n",
    "| [North American Datum 1983 (NAD83)](https://en.wikipedia.org/wiki/North_American_Datum) | Geographic | North America-based datasets | [4269](https://epsg.io/4269) |\n",
    "| [Albers Equal Area  Conic (NAD83)](https://en.wikipedia.org/wiki/Albers_projection) | Projected | US Census, socio-economic studies | [5070](https://epsg.io/5070) |\n",
    "\n",
    "### Tips for Choosing and Working with CRS\n",
    "\n",
    "* When mapping multiple layers or carrying out analyses that use multiple datasets, all layers must share the same CRS.\n",
    "* Certain projections minimize distortions in distance, area, or angles, which is critical for tasks like distance measurements or area calculations.\n",
    "* Some map projections are better suited for specific regions or visualization purposes.\n",
    "* No projection is perfect!  Choose one that best suits your analysis needs.\n",
    "* Always verify that the CRS information is correctly assigned, especially when working with new or imported datasets.\n",
    "* Keep track of transformations in your workflow for reproducibility.\n",
    "\n",
    "### Notebook Goals\n",
    "In this notebook, you will explore how to work with CRSs in R using the sf package including reprojecting spatial data between different CRSs.\n",
    "\n",
    "### ✨ Prerequisites ✨\n",
    "* Complete [Introduction to sf: Reading, Writing, and Inspecting Vector Data](https://platform.i-guide.io/notebooks/9968babe-22e4-4c3d-98e2-d8b45e9672cd)\n",
    "\n",
    "### 💽 Data Used in this Notebook 💽\n",
    "* United States Boundary Shapefile (*usa_boundary.shp*)\n",
    "  * You can also download a copy of *usa_boundary.zip* file from [the I-GUIDE platform](https://platform.i-guide.io/datasets/aae279db-71f0-47e4-91e7-e8ac8791ea56) or directly from [Kate's GitHub](https://github.com/vavramusser/r-spatial/blob/main/usa_boundary.zip).  You will need to unzip *usa_boundary.zip* and extract *usa_boundary.shp* file to your workspace.\n",
    "\n",
    "### Notebook Overview\n",
    "1. Setup\n",
    "2. Reprojecting and Transforming Spatial Data\n",
    "\n",
    "---"
   ]
  },
  {
   "cell_type": "markdown",
   "id": "b32733f6-3d16-4b57-9ddc-480e7540b7df",
   "metadata": {},
   "source": [
    "## 1. Setup\n",
    "This notebook requires the following R packages and functions.\n",
    "\n",
    "[**sf**](https://cran.r-project.org/web/packages/sf/index.html) · Support for [simple features](https://r-spatial.github.io/sf/articles/sf1.html), a standardized way to encode spatial vector data - Binds to [*GDAL*](https://gdal.org/en/stable) for reading and writing data, to [*GEOS*](https://libgeos.org) for geometrical operations, and to [*PROJ*](https://proj.org/en/stable) for projection conversions and datum transformations - Uses by default the [*s2*](https://cran.r-project.org/web/packages/s2/index.html) package for spherical geometry operations on ellipsoidal (long/lat) coordinates · This notebook uses the following functions from *sf*.\n",
    "\n",
    "* [*st_crs*](https://rdrr.io/cran/sf/man/st_crs.html) · retrieve coordinate reference system from object\n",
    "* [*st_geometry*](https://rdrr.io/cran/sf/man/st_geometry.html) · get, set, replace or rename geometry from an sf object\n",
    "* [*st_read*](https://rdrr.io/cran/sf/man/st_read.html) · read simple features or layers from file or database\n",
    "* [*st_transform*](https://rdrr.io/cran/sf/man/st_transform.html) · transform or convert coordinates of simple feature"
   ]
  },
  {
   "cell_type": "markdown",
   "id": "5fb873c5-7817-4654-9863-cd6301ec083d",
   "metadata": {},
   "source": [
    "### 1a. Install and Load Required Packages\n",
    "If you have not already installed the required packages, uncomment and run the code below:"
   ]
  },
  {
   "cell_type": "code",
   "execution_count": 2,
   "id": "bc5cb206-7e72-4f56-b0b8-314c09b3dc34",
   "metadata": {},
   "outputs": [],
   "source": [
    "# install.packages(c(\"sf\"))"
   ]
  },
  {
   "cell_type": "markdown",
   "id": "6be59733-df5e-4e15-92cf-31e406183077",
   "metadata": {},
   "source": [
    "Load the packages into your workspace."
   ]
  },
  {
   "cell_type": "code",
   "execution_count": 3,
   "id": "26c8fbba-ae53-4cc0-90d7-214425aa28d4",
   "metadata": {},
   "outputs": [
    {
     "name": "stderr",
     "output_type": "stream",
     "text": [
      "Linking to GEOS 3.11.2, GDAL 3.8.2, PROJ 9.3.1; sf_use_s2() is TRUE\n",
      "\n"
     ]
    }
   ],
   "source": [
    "library(sf)"
   ]
  },
  {
   "cell_type": "markdown",
   "id": "9ff96449-0f95-48a8-84b4-e92d239c8ac1",
   "metadata": {},
   "source": [
    "### 1b. Read in the Example Data"
   ]
  },
  {
   "cell_type": "code",
   "execution_count": 4,
   "id": "1913d9bd-3a0f-42a0-91a1-bbf197c5bbfd",
   "metadata": {},
   "outputs": [
    {
     "name": "stdout",
     "output_type": "stream",
     "text": [
      "Reading layer `usa_boundary' from data source \n",
      "  `C:\\Users\\vavra\\Dropbox\\R Spatial\\r-spatial\\usa_boundary.shp' \n",
      "  using driver `ESRI Shapefile'\n",
      "Simple feature collection with 1 feature and 166 fields\n",
      "Geometry type: MULTIPOLYGON\n",
      "Dimension:     XY\n",
      "Bounding box:  xmin: -171.7911 ymin: 18.91619 xmax: -66.96466 ymax: 71.35776\n",
      "Geodetic CRS:  WGS 84\n"
     ]
    }
   ],
   "source": [
    "# read the shapefile into an sf object\n",
    "usa_boundary <- st_read(\"usa_boundary.shp\")"
   ]
  },
  {
   "cell_type": "markdown",
   "id": "4d9c25f7-ab4c-4b6c-b421-fb43820d013b",
   "metadata": {},
   "source": [
    "## 2. Reprojecting and Transforming Spatial Data\n",
    "\n",
    "### 2a. Identifying CRS with [*st_crs*](https://rdrr.io/cran/sf/man/st_crs.html)\n",
    "\n",
    "The [*st_crs*](https://rdrr.io/cran/sf/man/st_crs.html) function from the [**sf**](https://cran.r-project.org/web/packages/sf/index.html) package retrieves information about the CRS of an sf object. It can also be used to assign a CRS to data."
   ]
  },
  {
   "cell_type": "code",
   "execution_count": null,
   "id": "79f9352e-50a2-48a7-a973-efc4714f92f0",
   "metadata": {},
   "outputs": [],
   "source": [
    "# View the CRS of the dataset\n",
    "st_crs(usa_boundary)"
   ]
  },
  {
   "cell_type": "markdown",
   "id": "b3d06f89-37b0-4cdf-8ac9-cbe3bc54dd64",
   "metadata": {},
   "source": [
    "The output includes details like the EPSG code and projection definition (Proj4 string or WKT)."
   ]
  },
  {
   "cell_type": "code",
   "execution_count": null,
   "id": "cb0f8131-1989-42aa-b6ff-8d22175d6b5b",
   "metadata": {},
   "outputs": [],
   "source": [
    "plot(st_geometry(usa_boundary))"
   ]
  },
  {
   "cell_type": "markdown",
   "id": "7965c3df-3c1a-4488-a446-45349a9b65a9",
   "metadata": {},
   "source": [
    "### 2b. Reprojecting Data with [*st_transform*](https://rdrr.io/cran/sf/man/st_transform.html)\n",
    "\n",
    "The [*st_transform*](https://rdrr.io/cran/sf/man/st_transform.html) function from the [**sf**](https://cran.r-project.org/web/packages/sf/index.html) package changes the CRS of spatial data. This is useful when aligning data from different sources or preparing data for analyses that require a specific projection."
   ]
  },
  {
   "cell_type": "code",
   "execution_count": null,
   "id": "a68cbc70-5ecc-4d6e-89a7-d8f8f18b2332",
   "metadata": {},
   "outputs": [],
   "source": [
    "# Transform to USA Contiguous Albers Equal Area Conic CRS (NAD83) using EPSG\n",
    "usa_boundary_albers <- st_transform(usa_boundary, crs = 5070)\n",
    "\n",
    "# Check the CRS of the transformed dataset\n",
    "st_crs(usa_boundary_albers)"
   ]
  },
  {
   "cell_type": "code",
   "execution_count": null,
   "id": "0541c088-ad33-4551-8ba5-f6ab5bb9ed05",
   "metadata": {},
   "outputs": [],
   "source": [
    "par(mfrow = c(2, 1))\n",
    "plot(st_geometry(usa_boundary), main = \"WGS 1984\")\n",
    "plot(st_geometry(usa_boundary_albers), main = \"Albers Equal Area Conic\")"
   ]
  },
  {
   "cell_type": "markdown",
   "id": "eabf2dc0-f675-41ea-9537-4600221b3b66",
   "metadata": {},
   "source": [
    "#### Example: Transforming to a Custom CRS\n",
    "\n",
    "You can also specify a CRS using a WKT string or Proj4 string:"
   ]
  },
  {
   "cell_type": "code",
   "execution_count": null,
   "id": "d2b9d00f-d875-4ac8-ba60-ae629b5a4d16",
   "metadata": {},
   "outputs": [],
   "source": [
    "# Transform to US National Atlas Equal Area CRS (NAD83) using Proj.4 string\n",
    "usa_boundary_atlas <- st_transform(usa_boundary, crs = \"+proj=laea +lat_0=45 +lon_0=-100 +x_0=0 +y_0=0 +ellps=sphere +units=m +no_defs +type=crs\")"
   ]
  },
  {
   "cell_type": "code",
   "execution_count": null,
   "id": "6ce5e12c-513a-4744-9ea8-3080954719c4",
   "metadata": {},
   "outputs": [],
   "source": [
    "par(mfrow = c(3, 1))\n",
    "plot(st_geometry(usa_boundary), main = \"WGS 1984\")\n",
    "plot(st_geometry(usa_boundary_albers), main = \"Albers Equal Area Conic\")\n",
    "plot(st_geometry(usa_boundary_atlas), main = \"Atlas Equal Area\")"
   ]
  },
  {
   "cell_type": "markdown",
   "id": "b4fa1dc1-3e3d-40c9-b668-7bc304c9aafc",
   "metadata": {},
   "source": [
    "#### Example: Transforming Using Another Object's CRS\n",
    "Finally, you can also directly pass the CRS of another object."
   ]
  },
  {
   "cell_type": "code",
   "execution_count": null,
   "id": "fb0c247b-b2c8-4ad2-ad6a-df16a30408cf",
   "metadata": {},
   "outputs": [],
   "source": [
    "# Transform to WGS 1984 using the CRS of the original usa_boundary file\n",
    "usa_boundary_wgs <- st_transform(usa_boundary_albers, crs = st_crs(usa_boundary))"
   ]
  },
  {
   "cell_type": "code",
   "execution_count": null,
   "id": "14a11c43-9cd7-45b0-8727-420871c36e5f",
   "metadata": {},
   "outputs": [],
   "source": [
    "par(mfrow = c(2, 2))\n",
    "plot(st_geometry(usa_boundary), main = \"WGS 1984\")\n",
    "plot(st_geometry(usa_boundary_albers), main = \"Albers Equal Area Conic\")\n",
    "plot(st_geometry(usa_boundary_atlas), main = \"Atlas Equal Area\")\n",
    "plot(st_geometry(usa_boundary_wgs), main = \"WGS 1984\")"
   ]
  },
  {
   "cell_type": "markdown",
   "id": "ca88f466-9d87-41e3-b705-67b36fe09f78",
   "metadata": {},
   "source": [
    "## Review\n",
    "\n",
    "This notebook provided an introduction to working with CRSs in R using the [*sf*](https://cran.r-project.org/web/packages/sf/index.html) package, including:\n",
    "\n",
    "* Inspecting CRSs with [*st_crs*](https://rdrr.io/cran/sf/man/st_crs.html)\n",
    "* Transforming data with [*st_transform*](https://rdrr.io/cran/sf/man/st_transform.html)"
   ]
  },
  {
   "cell_type": "markdown",
   "id": "147a60b7-01d4-44d3-9d58-02b625faee9b",
   "metadata": {},
   "source": [
    "---\n",
    "\n",
    "## Next Steps\n",
    "\n",
    "* Continue to [**Chapter 2.03 Preparing Vector Data for Analysis**](https://platform.i-guide.io/notebooks/44926d85-7f08-4774-a103-a22ff3876cad)\n",
    "* Move on to Chapter 3: IPUMS Data Acquisition and Extraction\n",
    "  * [**Chapter 3.01 IPUMS USA Data Extraction using ipumsr**](https://platform.i-guide.io/notebooks/ab5cad39-6d00-43d2-bc51-17fd4e6b98f2)\n",
    "  * [**Chapter 3.02 IPUMS NHGIS Data Extraction using ipumsr**](https://platform.i-guide.io/notebooks/be08e56e-1c08-458e-a230-263c64d386bc)\n",
    "* Move on to Chapter 4: Open-Source GIS Data Acquisition and Extraction\n",
    "  * [**Chapter 4.01 Importing Data from Natural Earth with rnaturalearth and rnaturalearthdata**]()\n",
    "* Return to the [**R Spatial Notebooks Project Chapter List**](https://vavramusser.github.io/r-spatial/#:~:text=Chapter%201%3A%20Data%20Sources%20and%20APIs) to view a list of all available notebooks organized in the R Spatial Notebooks chapter structure.\n",
    "* Visit the [**R Spatial Notebooks Project Homepage**](https://vavramusser.github.io/r-spatial) to learn more about the project, view the list of all notebooks, and explore additional resources.\n",
    "* Join the project [**Mailing List**](https://mailchi.mp/ab01e8fc8397/r-spatial-email-signup) to hear about future notebook releases and other updates.\n",
    "* If you have an idea for a new notebook please submit your idea via the [**Suggestion Box**](https://us19.list-manage.com/survey?u=746bf8d366d6fbc99c699e714&id=54590a28ea&attribution=false).\n",
    "\n",
    "---\n",
    "\n",
    "## ★ Thank You ★\n",
    "\n",
    "Thank you so much for engaging with this notebook and supporting the project!  The R Spatial Notebooks Project is a labor of love so if you enjoy or benefit from these notebooks, please consider [**Donating to the Project**](https://buymeacoffee.com/vavramusser).  Your support allows me to continue producing notebooks and supporting the R Spatial Notebooks community."
   ]
  }
 ],
 "metadata": {
  "kernelspec": {
   "display_name": "R",
   "language": "R",
   "name": "ir"
  },
  "language_info": {
   "codemirror_mode": "r",
   "file_extension": ".r",
   "mimetype": "text/x-r-source",
   "name": "R",
   "pygments_lexer": "r",
   "version": "4.3.3"
  }
 },
 "nbformat": 4,
 "nbformat_minor": 5
}
