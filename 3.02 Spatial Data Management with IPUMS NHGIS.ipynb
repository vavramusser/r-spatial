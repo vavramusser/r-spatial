{
 "cells": [
  {
   "cell_type": "markdown",
   "id": "8e08d742-8677-4b94-9052-f0e492b7c26e",
   "metadata": {},
   "source": [
    "# Spatial Data Management with IPUMS NHGIS"
   ]
  },
  {
   "cell_type": "markdown",
   "id": "69e9f83b-932b-4bdb-89cd-d551f4352c6b",
   "metadata": {},
   "source": [
    "## Introduction\n",
    "\n",
    "This notebook is designed to guide you through a data cleaning workflow using 2010 Decennial Census data previously downloaded from the [IPUMS National Historical Geographic Information System (NHGIS)](https://www.nhgis.org/) project using the [ipumsr R package](https://cran.r-project.org/web/packages/ipumsr/index.htm).\n",
    "\n",
    "### ★ Prerequisites ★\n",
    "* Complete Chapter 1.1: Introduction to IPUMS and the IPUMS API\n",
    "* Set Up Your [IPUMS Account and API Key](https://account.ipums.org/api_keys)\n",
    "* Complete Chapter 2.4: IPUMS NHGIS Data Extraction Using ipumsr\n",
    "\n",
    "At the end of Chapter 2.4: IPUMS NHGIS Data Extraction Using ipumsr, you saved your data extraction as two file formats *ipums_nhgis_example.rds* and *ipums_nhgis_example.csv*.  You will need these files to run this notebook.  If you are working throuhg this chapter without previously completing, Chapter 1.2, you will need to copy the *ipums_nhgis_example.rds* file into your working directory prior to running this notebook."
   ]
  },
  {
   "cell_type": "markdown",
   "id": "f2e3517d-61c4-49bf-b9ae-06f0e52d3bab",
   "metadata": {},
   "source": [
    "#### Overview\n",
    "This notebook includes the following sections:\n",
    "\n",
    "1. Setup\n",
    "2. Initial Review\n",
    "3. Cleaning and Recoding Continuous Variables\n",
    "5. Cleaning and Recoding Categorical Variables\n",
    "6. Final Review"
   ]
  },
  {
   "cell_type": "markdown",
   "id": "e05d95c1-55c8-470a-a8b6-f317f6cd87e7",
   "metadata": {},
   "source": [
    "## 1. Setup\n",
    "\n",
    "Before running this script, you will need to install and load the following packages into your R environment:\n",
    "\n",
    "[**dplyr**](https://cran.r-project.org/web/packages/dplyr/index.html) A Grammar of Data Manipulation. This notebook uses the the following functions from *dplyr*.\n",
    "\n",
    "* [*case_when*](https://rdrr.io/cran/dplyr/man/case_when.html) · a general vectorized if-else\n",
    "* [*mutate*](https://rdrr.io/cran/dplyr/man/mutate.html) · create, modify, and delete columns\n",
    "* [*select*](https://rdrr.io/cran/dplyr/man/select.html) · keep or drop columns using their names and types\n",
    "* This notebook also uses [*%>%*](https://magrittr.tidyverse.org/reference/pipe.html), referred to as the *pipe* operator, which is used to pass the output from one function directly into the next function for the purpose of creating streamlined workflows.  The *pipe* operator is a commonly used component of the [*tidyverse*](https://www.tidyverse.org).\n",
    "\n",
    "[**haven**](https://cran.r-project.org/web/packages/haven/index.html) Import and Export 'SPSS', 'Stata' and 'SAS' Files.  This notebook uses the the following functions from *haven*.\n",
    "\n",
    "* [*as_factor()*](https://rdrr.io/cran/haven/man/as_factor.html) · for formating categorical variables as factors.\n",
    "\n",
    "[**sf**](https://cran.r-project.org/web/packages/sf/index.html) Support for simple features, a standardized way to encode spatial vector data. Binds to 'GDAL' for reading and writing data, to 'GEOS' for geometrical operations, and to 'PROJ' for projection conversions and datum transformations. Uses by default the 's2' package for spherical geometry operations on ellipsoidal (long/lat) coordinates.  This notebook uses the following functions from *sf*.\n",
    "\n",
    "* [*st_as_sf*](https://rdrr.io/cran/sf/man/st_as_sf.html) · Convert foreign object to an sf object\n",
    "* [*st_crs*](https://rdrr.io/cran/sf/man/st_crs.html) · Retrieve coordinate reference system from object\n",
    "* [*st_transform*](https://rdrr.io/cran/sf/man/st_transform.html) · Transform or convert coordinates of simple feature\n",
    "\n",
    "### 1a. Install and Load Required Packages\n",
    "If you have not already installed the required packages, uncomment and run the code below:"
   ]
  },
  {
   "cell_type": "code",
   "execution_count": 21,
   "id": "9d39c474-e2a6-4845-9c31-edffcb536e21",
   "metadata": {},
   "outputs": [],
   "source": [
    "# install.packages(c(\"dplyr\", \"haven\", \"sf\"))"
   ]
  },
  {
   "cell_type": "markdown",
   "id": "e9b97492-bde1-4140-ad26-b7d73bdc9a21",
   "metadata": {},
   "source": [
    "Load the packages into your workspace."
   ]
  },
  {
   "cell_type": "code",
   "execution_count": 22,
   "id": "51f10447-c644-49ab-b45b-4275c83cfb84",
   "metadata": {},
   "outputs": [
    {
     "name": "stderr",
     "output_type": "stream",
     "text": [
      "Linking to GEOS 3.11.2, GDAL 3.8.2, PROJ 9.3.1; sf_use_s2() is TRUE\n",
      "\n"
     ]
    }
   ],
   "source": [
    "library(dplyr)\n",
    "library(haven)\n",
    "library(sf)"
   ]
  },
  {
   "cell_type": "markdown",
   "id": "3466e722-d43f-466e-b8a4-2c59b37a2af1",
   "metadata": {},
   "source": [
    "### 1b. Read the Data File\n",
    "\n",
    "Run the following line of code to read in the *ipums_nhgis_example.rds* file into memory.  You may need to update the file path to reflect the file's location on your machine or in your working directory.\n",
    "\n",
    "The *ipums_nhgis_example.rds* file contains information from the 2010 Decennial Census."
   ]
  },
  {
   "cell_type": "code",
   "execution_count": 5,
   "id": "dcef9e34-4eff-4690-b383-3b8a8014a5d7",
   "metadata": {},
   "outputs": [],
   "source": [
    "dat <- readRDS(\"ipums_nhgis_example.rds\")"
   ]
  },
  {
   "cell_type": "markdown",
   "id": "01fa9d70-849a-4ebe-80cf-89bdc29400ce",
   "metadata": {},
   "source": [
    "As a refresher, let's take a look at the number of observations and the variables in the data."
   ]
  },
  {
   "cell_type": "code",
   "execution_count": 6,
   "id": "0a65ff85-be0b-47ce-9041-d60a93c0138f",
   "metadata": {},
   "outputs": [
    {
     "data": {
      "text/html": [
       "<style>\n",
       ".list-inline {list-style: none; margin:0; padding: 0}\n",
       ".list-inline>li {display: inline-block}\n",
       ".list-inline>li:not(:last-child)::after {content: \"\\00b7\"; padding: 0 .5ex}\n",
       "</style>\n",
       "<ol class=list-inline><li>72765</li><li>32</li></ol>\n"
      ],
      "text/latex": [
       "\\begin{enumerate*}\n",
       "\\item 72765\n",
       "\\item 32\n",
       "\\end{enumerate*}\n"
      ],
      "text/markdown": [
       "1. 72765\n",
       "2. 32\n",
       "\n",
       "\n"
      ],
      "text/plain": [
       "[1] 72765    32"
      ]
     },
     "metadata": {},
     "output_type": "display_data"
    }
   ],
   "source": [
    "dim(dat)"
   ]
  },
  {
   "cell_type": "markdown",
   "id": "0c2d8916-03ce-42bc-92d3-086c45a3c620",
   "metadata": {},
   "source": [
    "The data includes information on 32 variables for 72,765 observations."
   ]
  },
  {
   "cell_type": "code",
   "execution_count": 7,
   "id": "d55c1341-fffc-4b44-9615-1a889c573360",
   "metadata": {},
   "outputs": [
    {
     "data": {
      "text/html": [
       "<style>\n",
       ".list-inline {list-style: none; margin:0; padding: 0}\n",
       ".list-inline>li {display: inline-block}\n",
       ".list-inline>li:not(:last-child)::after {content: \"\\00b7\"; padding: 0 .5ex}\n",
       "</style>\n",
       "<ol class=list-inline><li>'GISJOIN'</li><li>'GEOGYEAR'</li><li>'STATE'</li><li>'STATEA'</li><li>'COUNTY'</li><li>'COUNTYA'</li><li>'TRACTA'</li><li>'CL8AA1990'</li><li>'CL8AA1990L'</li><li>'CL8AA1990U'</li><li>'CL8AA2000'</li><li>'CL8AA2000L'</li><li>'CL8AA2000U'</li><li>'CL8AA2010'</li><li>'CL8AA2020'</li><li>'CL8AA2020L'</li><li>'CL8AA2020U'</li><li>'STATEFP10'</li><li>'COUNTYFP10'</li><li>'TRACTCE10'</li><li>'GEOID10'</li><li>'NAME10'</li><li>'NAMELSAD10'</li><li>'MTFCC10'</li><li>'FUNCSTAT10'</li><li>'ALAND10'</li><li>'AWATER10'</li><li>'INTPTLAT10'</li><li>'INTPTLON10'</li><li>'Shape_area'</li><li>'Shape_len'</li><li>'geometry'</li></ol>\n"
      ],
      "text/latex": [
       "\\begin{enumerate*}\n",
       "\\item 'GISJOIN'\n",
       "\\item 'GEOGYEAR'\n",
       "\\item 'STATE'\n",
       "\\item 'STATEA'\n",
       "\\item 'COUNTY'\n",
       "\\item 'COUNTYA'\n",
       "\\item 'TRACTA'\n",
       "\\item 'CL8AA1990'\n",
       "\\item 'CL8AA1990L'\n",
       "\\item 'CL8AA1990U'\n",
       "\\item 'CL8AA2000'\n",
       "\\item 'CL8AA2000L'\n",
       "\\item 'CL8AA2000U'\n",
       "\\item 'CL8AA2010'\n",
       "\\item 'CL8AA2020'\n",
       "\\item 'CL8AA2020L'\n",
       "\\item 'CL8AA2020U'\n",
       "\\item 'STATEFP10'\n",
       "\\item 'COUNTYFP10'\n",
       "\\item 'TRACTCE10'\n",
       "\\item 'GEOID10'\n",
       "\\item 'NAME10'\n",
       "\\item 'NAMELSAD10'\n",
       "\\item 'MTFCC10'\n",
       "\\item 'FUNCSTAT10'\n",
       "\\item 'ALAND10'\n",
       "\\item 'AWATER10'\n",
       "\\item 'INTPTLAT10'\n",
       "\\item 'INTPTLON10'\n",
       "\\item 'Shape\\_area'\n",
       "\\item 'Shape\\_len'\n",
       "\\item 'geometry'\n",
       "\\end{enumerate*}\n"
      ],
      "text/markdown": [
       "1. 'GISJOIN'\n",
       "2. 'GEOGYEAR'\n",
       "3. 'STATE'\n",
       "4. 'STATEA'\n",
       "5. 'COUNTY'\n",
       "6. 'COUNTYA'\n",
       "7. 'TRACTA'\n",
       "8. 'CL8AA1990'\n",
       "9. 'CL8AA1990L'\n",
       "10. 'CL8AA1990U'\n",
       "11. 'CL8AA2000'\n",
       "12. 'CL8AA2000L'\n",
       "13. 'CL8AA2000U'\n",
       "14. 'CL8AA2010'\n",
       "15. 'CL8AA2020'\n",
       "16. 'CL8AA2020L'\n",
       "17. 'CL8AA2020U'\n",
       "18. 'STATEFP10'\n",
       "19. 'COUNTYFP10'\n",
       "20. 'TRACTCE10'\n",
       "21. 'GEOID10'\n",
       "22. 'NAME10'\n",
       "23. 'NAMELSAD10'\n",
       "24. 'MTFCC10'\n",
       "25. 'FUNCSTAT10'\n",
       "26. 'ALAND10'\n",
       "27. 'AWATER10'\n",
       "28. 'INTPTLAT10'\n",
       "29. 'INTPTLON10'\n",
       "30. 'Shape_area'\n",
       "31. 'Shape_len'\n",
       "32. 'geometry'\n",
       "\n",
       "\n"
      ],
      "text/plain": [
       " [1] \"GISJOIN\"    \"GEOGYEAR\"   \"STATE\"      \"STATEA\"     \"COUNTY\"    \n",
       " [6] \"COUNTYA\"    \"TRACTA\"     \"CL8AA1990\"  \"CL8AA1990L\" \"CL8AA1990U\"\n",
       "[11] \"CL8AA2000\"  \"CL8AA2000L\" \"CL8AA2000U\" \"CL8AA2010\"  \"CL8AA2020\" \n",
       "[16] \"CL8AA2020L\" \"CL8AA2020U\" \"STATEFP10\"  \"COUNTYFP10\" \"TRACTCE10\" \n",
       "[21] \"GEOID10\"    \"NAME10\"     \"NAMELSAD10\" \"MTFCC10\"    \"FUNCSTAT10\"\n",
       "[26] \"ALAND10\"    \"AWATER10\"   \"INTPTLAT10\" \"INTPTLON10\" \"Shape_area\"\n",
       "[31] \"Shape_len\"  \"geometry\"  "
      ]
     },
     "metadata": {},
     "output_type": "display_data"
    }
   ],
   "source": [
    "colnames(dat)"
   ]
  },
  {
   "cell_type": "markdown",
   "id": "1a431ed9-368c-40bb-84bf-d070783384df",
   "metadata": {},
   "source": [
    "Below is a referece list of the variables included in this data extraction.\n",
    "\n",
    "**Population Variables**\n",
    "* Geography Year (GEOGYEAR)\n",
    "* State Name (STATE)\n",
    "* State Code (STATEA)\n",
    "* County Name (COUNTY)\n",
    "* County Code (COUNTYA)\n",
    "* Census Tract Code (TRACTA)\n",
    "* 1990 Total Persons (CL8AA1990)\n",
    "* 1990 Total Persons (Lower Bound) (CL8AA1990L)\n",
    "* 1990 Total Persons (Upper Bound) (CL8AA1990U)\n",
    "* 2000 Total Persons (CL8AA2000)\n",
    "* 2000 Total Persons (Lower Bound) (CL8AA2000L)\n",
    "* 2000 Total Persons (Upper Bound) (CL8AA2000U)\n",
    "* 2010 Total Persons (CL8AA2010)\n",
    "* 2020 Total Persons (CL8AA2020)\n",
    "* 2020 Total Persons (Lower Bound) (CL8AA2020L)\n",
    "* 2020 Total Persons (Upper Bound) (CL8AA2020U)\n",
    "\n",
    "**Geography Variables**\n",
    "* State FIPS Code (STATEFP10)\n",
    "* County FIPS Code (COUNTYFP10)\n",
    "* Census Tract FIPS Code (TRACTCE10)\n",
    "* Geographic Identifier (GEOID10)\n",
    "* Census Tract Name (NAME10)\n",
    "* Legal/Statistical Area Description (LSAD) Name (NAMELSAD10)\n",
    "* MAF/TIGER Feature Class Code (MTFCC10)\n",
    "* Functional Status (FUNCSTAT10)\n",
    "* Land Area in Square Meters (ALAND10)\n",
    "* Water Area in Square Meters (AWATER10)\n",
    "* Internal Point (Centroid) Latitude Coordinate (INTPTLAT10)\n",
    "* Internal Point (Centroid) Longitude Coordinate (INTPTLON10)\n",
    "* Shape Area (Shape_area)\n",
    "* Shape Length (Shape_len)\n",
    "* Spatial Geometry (geometry)\n",
    "\n",
    "**GIS Join**\n",
    "* GIS Join Match Code (GISJOIN)"
   ]
  },
  {
   "cell_type": "code",
   "execution_count": 25,
   "id": "c2244332-5052-4710-b135-a3559b817f6b",
   "metadata": {},
   "outputs": [
    {
     "data": {
      "text/html": [
       "<table class=\"dataframe\">\n",
       "<caption>A data.frame: 6 × 32</caption>\n",
       "<thead>\n",
       "\t<tr><th></th><th scope=col>GISJOIN</th><th scope=col>GEOGYEAR</th><th scope=col>STATE</th><th scope=col>STATEA</th><th scope=col>COUNTY</th><th scope=col>COUNTYA</th><th scope=col>TRACTA</th><th scope=col>CL8AA1990</th><th scope=col>CL8AA1990L</th><th scope=col>CL8AA1990U</th><th scope=col>⋯</th><th scope=col>NAMELSAD10</th><th scope=col>MTFCC10</th><th scope=col>FUNCSTAT10</th><th scope=col>ALAND10</th><th scope=col>AWATER10</th><th scope=col>INTPTLAT10</th><th scope=col>INTPTLON10</th><th scope=col>Shape_area</th><th scope=col>Shape_len</th><th scope=col>geometry</th></tr>\n",
       "\t<tr><th></th><th scope=col>&lt;chr&gt;</th><th scope=col>&lt;dbl&gt;</th><th scope=col>&lt;chr&gt;</th><th scope=col>&lt;chr&gt;</th><th scope=col>&lt;chr&gt;</th><th scope=col>&lt;chr&gt;</th><th scope=col>&lt;chr&gt;</th><th scope=col>&lt;dbl&gt;</th><th scope=col>&lt;dbl&gt;</th><th scope=col>&lt;dbl&gt;</th><th scope=col>⋯</th><th scope=col>&lt;chr&gt;</th><th scope=col>&lt;chr&gt;</th><th scope=col>&lt;chr&gt;</th><th scope=col>&lt;dbl&gt;</th><th scope=col>&lt;dbl&gt;</th><th scope=col>&lt;chr&gt;</th><th scope=col>&lt;chr&gt;</th><th scope=col>&lt;dbl&gt;</th><th scope=col>&lt;dbl&gt;</th><th scope=col>&lt;MULTIPOLYGON [m]&gt;</th></tr>\n",
       "</thead>\n",
       "<tbody>\n",
       "\t<tr><th scope=row>1</th><td>G0100010020100</td><td>2010</td><td>Alabama</td><td>01</td><td>Autauga County</td><td>001</td><td>020100</td><td>1772.67</td><td>1750</td><td>1773</td><td>⋯</td><td>Census Tract 201</td><td>G5020</td><td>S</td><td> 9809944</td><td>36312</td><td>+32.4771112</td><td>-086.4903033</td><td> 9846259</td><td>16193.875</td><td>MULTIPOLYGON (((888438 -515...</td></tr>\n",
       "\t<tr><th scope=row>2</th><td>G0100010020200</td><td>2010</td><td>Alabama</td><td>01</td><td>Autauga County</td><td>001</td><td>020200</td><td>2031.00</td><td>2031</td><td>2031</td><td>⋯</td><td>Census Tract 202</td><td>G5020</td><td>S</td><td> 3340505</td><td> 5846</td><td>+32.4757580</td><td>-086.4724678</td><td> 3346347</td><td> 9844.309</td><td>MULTIPOLYGON (((889844.1 -5...</td></tr>\n",
       "\t<tr><th scope=row>3</th><td>G0100010020300</td><td>2010</td><td>Alabama</td><td>01</td><td>Autauga County</td><td>001</td><td>020300</td><td>2952.00</td><td>2952</td><td>2952</td><td>⋯</td><td>Census Tract 203</td><td>G5020</td><td>S</td><td> 5349274</td><td> 9054</td><td>+32.4740243</td><td>-086.4597033</td><td> 5358330</td><td>10519.641</td><td>MULTIPOLYGON (((891383.8 -5...</td></tr>\n",
       "\t<tr><th scope=row>4</th><td>G0100010020400</td><td>2010</td><td>Alabama</td><td>01</td><td>Autauga County</td><td>001</td><td>020400</td><td>4401.00</td><td>4401</td><td>4401</td><td>⋯</td><td>Census Tract 204</td><td>G5020</td><td>S</td><td> 6382705</td><td>16244</td><td>+32.4710782</td><td>-086.4446805</td><td> 6398946</td><td>12500.859</td><td>MULTIPOLYGON (((892527.3 -5...</td></tr>\n",
       "\t<tr><th scope=row>5</th><td>G0100010020500</td><td>2010</td><td>Alabama</td><td>01</td><td>Autauga County</td><td>001</td><td>020500</td><td>3120.68</td><td>3119</td><td>3433</td><td>⋯</td><td>Census Tract 205</td><td>G5020</td><td>S</td><td>11397725</td><td>48412</td><td>+32.4589157</td><td>-086.4218165</td><td>11446139</td><td>17113.378</td><td>MULTIPOLYGON (((895451 -522...</td></tr>\n",
       "\t<tr><th scope=row>6</th><td>G0100010020600</td><td>2010</td><td>Alabama</td><td>01</td><td>Autauga County</td><td>001</td><td>020600</td><td>3330.00</td><td>3330</td><td>3330</td><td>⋯</td><td>Census Tract 206</td><td>G5020</td><td>S</td><td> 8020366</td><td>60048</td><td>+32.4473470</td><td>-086.4768023</td><td> 8080417</td><td>14306.062</td><td>MULTIPOLYGON (((889098.5 -5...</td></tr>\n",
       "</tbody>\n",
       "</table>\n"
      ],
      "text/latex": [
       "A data.frame: 6 × 32\n",
       "\\begin{tabular}{r|lllllllllllllllllllll}\n",
       "  & GISJOIN & GEOGYEAR & STATE & STATEA & COUNTY & COUNTYA & TRACTA & CL8AA1990 & CL8AA1990L & CL8AA1990U & ⋯ & NAMELSAD10 & MTFCC10 & FUNCSTAT10 & ALAND10 & AWATER10 & INTPTLAT10 & INTPTLON10 & Shape\\_area & Shape\\_len & geometry\\\\\n",
       "  & <chr> & <dbl> & <chr> & <chr> & <chr> & <chr> & <chr> & <dbl> & <dbl> & <dbl> & ⋯ & <chr> & <chr> & <chr> & <dbl> & <dbl> & <chr> & <chr> & <dbl> & <dbl> & <MULTIPOLYGON {[}m{]}>\\\\\n",
       "\\hline\n",
       "\t1 & G0100010020100 & 2010 & Alabama & 01 & Autauga County & 001 & 020100 & 1772.67 & 1750 & 1773 & ⋯ & Census Tract 201 & G5020 & S &  9809944 & 36312 & +32.4771112 & -086.4903033 &  9846259 & 16193.875 & MULTIPOLYGON (((888438 -515...\\\\\n",
       "\t2 & G0100010020200 & 2010 & Alabama & 01 & Autauga County & 001 & 020200 & 2031.00 & 2031 & 2031 & ⋯ & Census Tract 202 & G5020 & S &  3340505 &  5846 & +32.4757580 & -086.4724678 &  3346347 &  9844.309 & MULTIPOLYGON (((889844.1 -5...\\\\\n",
       "\t3 & G0100010020300 & 2010 & Alabama & 01 & Autauga County & 001 & 020300 & 2952.00 & 2952 & 2952 & ⋯ & Census Tract 203 & G5020 & S &  5349274 &  9054 & +32.4740243 & -086.4597033 &  5358330 & 10519.641 & MULTIPOLYGON (((891383.8 -5...\\\\\n",
       "\t4 & G0100010020400 & 2010 & Alabama & 01 & Autauga County & 001 & 020400 & 4401.00 & 4401 & 4401 & ⋯ & Census Tract 204 & G5020 & S &  6382705 & 16244 & +32.4710782 & -086.4446805 &  6398946 & 12500.859 & MULTIPOLYGON (((892527.3 -5...\\\\\n",
       "\t5 & G0100010020500 & 2010 & Alabama & 01 & Autauga County & 001 & 020500 & 3120.68 & 3119 & 3433 & ⋯ & Census Tract 205 & G5020 & S & 11397725 & 48412 & +32.4589157 & -086.4218165 & 11446139 & 17113.378 & MULTIPOLYGON (((895451 -522...\\\\\n",
       "\t6 & G0100010020600 & 2010 & Alabama & 01 & Autauga County & 001 & 020600 & 3330.00 & 3330 & 3330 & ⋯ & Census Tract 206 & G5020 & S &  8020366 & 60048 & +32.4473470 & -086.4768023 &  8080417 & 14306.062 & MULTIPOLYGON (((889098.5 -5...\\\\\n",
       "\\end{tabular}\n"
      ],
      "text/markdown": [
       "\n",
       "A data.frame: 6 × 32\n",
       "\n",
       "| <!--/--> | GISJOIN &lt;chr&gt; | GEOGYEAR &lt;dbl&gt; | STATE &lt;chr&gt; | STATEA &lt;chr&gt; | COUNTY &lt;chr&gt; | COUNTYA &lt;chr&gt; | TRACTA &lt;chr&gt; | CL8AA1990 &lt;dbl&gt; | CL8AA1990L &lt;dbl&gt; | CL8AA1990U &lt;dbl&gt; | ⋯ ⋯ | NAMELSAD10 &lt;chr&gt; | MTFCC10 &lt;chr&gt; | FUNCSTAT10 &lt;chr&gt; | ALAND10 &lt;dbl&gt; | AWATER10 &lt;dbl&gt; | INTPTLAT10 &lt;chr&gt; | INTPTLON10 &lt;chr&gt; | Shape_area &lt;dbl&gt; | Shape_len &lt;dbl&gt; | geometry &lt;MULTIPOLYGON [m]&gt; |\n",
       "|---|---|---|---|---|---|---|---|---|---|---|---|---|---|---|---|---|---|---|---|---|---|\n",
       "| 1 | G0100010020100 | 2010 | Alabama | 01 | Autauga County | 001 | 020100 | 1772.67 | 1750 | 1773 | ⋯ | Census Tract 201 | G5020 | S |  9809944 | 36312 | +32.4771112 | -086.4903033 |  9846259 | 16193.875 | MULTIPOLYGON (((888438 -515... |\n",
       "| 2 | G0100010020200 | 2010 | Alabama | 01 | Autauga County | 001 | 020200 | 2031.00 | 2031 | 2031 | ⋯ | Census Tract 202 | G5020 | S |  3340505 |  5846 | +32.4757580 | -086.4724678 |  3346347 |  9844.309 | MULTIPOLYGON (((889844.1 -5... |\n",
       "| 3 | G0100010020300 | 2010 | Alabama | 01 | Autauga County | 001 | 020300 | 2952.00 | 2952 | 2952 | ⋯ | Census Tract 203 | G5020 | S |  5349274 |  9054 | +32.4740243 | -086.4597033 |  5358330 | 10519.641 | MULTIPOLYGON (((891383.8 -5... |\n",
       "| 4 | G0100010020400 | 2010 | Alabama | 01 | Autauga County | 001 | 020400 | 4401.00 | 4401 | 4401 | ⋯ | Census Tract 204 | G5020 | S |  6382705 | 16244 | +32.4710782 | -086.4446805 |  6398946 | 12500.859 | MULTIPOLYGON (((892527.3 -5... |\n",
       "| 5 | G0100010020500 | 2010 | Alabama | 01 | Autauga County | 001 | 020500 | 3120.68 | 3119 | 3433 | ⋯ | Census Tract 205 | G5020 | S | 11397725 | 48412 | +32.4589157 | -086.4218165 | 11446139 | 17113.378 | MULTIPOLYGON (((895451 -522... |\n",
       "| 6 | G0100010020600 | 2010 | Alabama | 01 | Autauga County | 001 | 020600 | 3330.00 | 3330 | 3330 | ⋯ | Census Tract 206 | G5020 | S |  8020366 | 60048 | +32.4473470 | -086.4768023 |  8080417 | 14306.062 | MULTIPOLYGON (((889098.5 -5... |\n",
       "\n"
      ],
      "text/plain": [
       "  GISJOIN        GEOGYEAR STATE   STATEA COUNTY         COUNTYA TRACTA\n",
       "1 G0100010020100 2010     Alabama 01     Autauga County 001     020100\n",
       "2 G0100010020200 2010     Alabama 01     Autauga County 001     020200\n",
       "3 G0100010020300 2010     Alabama 01     Autauga County 001     020300\n",
       "4 G0100010020400 2010     Alabama 01     Autauga County 001     020400\n",
       "5 G0100010020500 2010     Alabama 01     Autauga County 001     020500\n",
       "6 G0100010020600 2010     Alabama 01     Autauga County 001     020600\n",
       "  CL8AA1990 CL8AA1990L CL8AA1990U ⋯ NAMELSAD10       MTFCC10 FUNCSTAT10\n",
       "1 1772.67   1750       1773       ⋯ Census Tract 201 G5020   S         \n",
       "2 2031.00   2031       2031       ⋯ Census Tract 202 G5020   S         \n",
       "3 2952.00   2952       2952       ⋯ Census Tract 203 G5020   S         \n",
       "4 4401.00   4401       4401       ⋯ Census Tract 204 G5020   S         \n",
       "5 3120.68   3119       3433       ⋯ Census Tract 205 G5020   S         \n",
       "6 3330.00   3330       3330       ⋯ Census Tract 206 G5020   S         \n",
       "  ALAND10  AWATER10 INTPTLAT10  INTPTLON10   Shape_area Shape_len\n",
       "1  9809944 36312    +32.4771112 -086.4903033  9846259   16193.875\n",
       "2  3340505  5846    +32.4757580 -086.4724678  3346347    9844.309\n",
       "3  5349274  9054    +32.4740243 -086.4597033  5358330   10519.641\n",
       "4  6382705 16244    +32.4710782 -086.4446805  6398946   12500.859\n",
       "5 11397725 48412    +32.4589157 -086.4218165 11446139   17113.378\n",
       "6  8020366 60048    +32.4473470 -086.4768023  8080417   14306.062\n",
       "  geometry                      \n",
       "1 MULTIPOLYGON (((888438 -515...\n",
       "2 MULTIPOLYGON (((889844.1 -5...\n",
       "3 MULTIPOLYGON (((891383.8 -5...\n",
       "4 MULTIPOLYGON (((892527.3 -5...\n",
       "5 MULTIPOLYGON (((895451 -522...\n",
       "6 MULTIPOLYGON (((889098.5 -5..."
      ]
     },
     "metadata": {},
     "output_type": "display_data"
    }
   ],
   "source": [
    "head(dat)"
   ]
  },
  {
   "cell_type": "markdown",
   "id": "3dbdd6a4-9d90-4f01-be9b-d76af4cf768d",
   "metadata": {},
   "source": [
    "### 1c. Convert the Data to Simple Features (sf) Format"
   ]
  },
  {
   "cell_type": "code",
   "execution_count": 28,
   "id": "a2782432-d5ac-4007-a8da-9e84b5321746",
   "metadata": {},
   "outputs": [],
   "source": [
    "dat_sf <- st_as_sf(dat)"
   ]
  },
  {
   "cell_type": "markdown",
   "id": "797da9a5-8734-42c4-a1b7-3089ac661c58",
   "metadata": {},
   "source": [
    "## 2. Coordinate Reference Systems (CRS)\n",
    "\n",
    "Coordinate Reference Systems (CRS) define how spatial data is mapped onto the Earth's surface. A CRS specifies the coordinate system and projection used to represent geographic locations. Ensuring that all spatial data layers in a project share the same CRS is critical for accurate spatial analyses.\n",
    "\n",
    "This section covers the following:\n",
    "\n",
    "* Understanding CRS: The difference between geographic and projected coordinate systems.\n",
    "* Inspecting CRS: Checking the CRS of spatial data.\n",
    "* Reprojecting Data: Converting spatial data to a desired CRS."
   ]
  },
  {
   "cell_type": "markdown",
   "id": "6000a149-be9c-44b5-9d43-fc4c4ea84f0e",
   "metadata": {},
   "source": [
    "* Explain CRS concepts and the importance of ensuring all spatial layers use the same CRS.\n",
    "* Show how to reproject spatial data to a desired CRS using R (sf::st_transform()).\n",
    "* Provide examples of common CRSs (e.g., WGS84 for global data or NAD83/Albers Equal Area for U.S. data)."
   ]
  },
  {
   "cell_type": "markdown",
   "id": "ec7777e8-8872-4470-8248-4ded09bdbfa1",
   "metadata": {},
   "source": [
    "### 2a. Understanding CRS\n",
    "\n",
    "Spatial data can use:\n",
    "\n",
    "* **Geographic CRS:** Coordinates are represented as latitude and longitude (e.g., WGS84). Suitable for global data but not for distance or area calculations due to distortion.\n",
    "* **Projected CRS:** Coordinates are represented in linear units (e.g., meters or feet), minimizing distortion for specific areas (e.g., UTM, NAD83)."
   ]
  },
  {
   "cell_type": "markdown",
   "id": "19b5aa32-4213-4540-a8d3-0ac59f89e342",
   "metadata": {},
   "source": [
    "### 2b. Inspecting the CRS\n",
    "\n",
    "Use the st_crs() function from the sf package to inspect the CRS of a spatial object."
   ]
  },
  {
   "cell_type": "code",
   "execution_count": 29,
   "id": "edcbc38d-5949-46fa-be31-a71d93d8b722",
   "metadata": {},
   "outputs": [
    {
     "data": {
      "text/plain": [
       "Coordinate Reference System:\n",
       "  User input: USA_Contiguous_Albers_Equal_Area_Conic \n",
       "  wkt:\n",
       "PROJCRS[\"USA_Contiguous_Albers_Equal_Area_Conic\",\n",
       "    BASEGEOGCRS[\"NAD83\",\n",
       "        DATUM[\"North American Datum 1983\",\n",
       "            ELLIPSOID[\"GRS 1980\",6378137,298.257222101,\n",
       "                LENGTHUNIT[\"metre\",1]]],\n",
       "        PRIMEM[\"Greenwich\",0,\n",
       "            ANGLEUNIT[\"degree\",0.0174532925199433]],\n",
       "        ID[\"EPSG\",4269]],\n",
       "    CONVERSION[\"USA_Contiguous_Albers_Equal_Area_Conic\",\n",
       "        METHOD[\"Albers Equal Area\",\n",
       "            ID[\"EPSG\",9822]],\n",
       "        PARAMETER[\"Latitude of false origin\",37.5,\n",
       "            ANGLEUNIT[\"degree\",0.0174532925199433],\n",
       "            ID[\"EPSG\",8821]],\n",
       "        PARAMETER[\"Longitude of false origin\",-96,\n",
       "            ANGLEUNIT[\"degree\",0.0174532925199433],\n",
       "            ID[\"EPSG\",8822]],\n",
       "        PARAMETER[\"Latitude of 1st standard parallel\",29.5,\n",
       "            ANGLEUNIT[\"degree\",0.0174532925199433],\n",
       "            ID[\"EPSG\",8823]],\n",
       "        PARAMETER[\"Latitude of 2nd standard parallel\",45.5,\n",
       "            ANGLEUNIT[\"degree\",0.0174532925199433],\n",
       "            ID[\"EPSG\",8824]],\n",
       "        PARAMETER[\"Easting at false origin\",0,\n",
       "            LENGTHUNIT[\"metre\",1],\n",
       "            ID[\"EPSG\",8826]],\n",
       "        PARAMETER[\"Northing at false origin\",0,\n",
       "            LENGTHUNIT[\"metre\",1],\n",
       "            ID[\"EPSG\",8827]]],\n",
       "    CS[Cartesian,2],\n",
       "        AXIS[\"(E)\",east,\n",
       "            ORDER[1],\n",
       "            LENGTHUNIT[\"metre\",1]],\n",
       "        AXIS[\"(N)\",north,\n",
       "            ORDER[2],\n",
       "            LENGTHUNIT[\"metre\",1]],\n",
       "    USAGE[\n",
       "        SCOPE[\"Not known.\"],\n",
       "        AREA[\"United States (USA) - CONUS onshore - Alabama; Arizona; Arkansas; California; Colorado; Connecticut; Delaware; Florida; Georgia; Idaho; Illinois; Indiana; Iowa; Kansas; Kentucky; Louisiana; Maine; Maryland; Massachusetts; Michigan; Minnesota; Mississippi; Missouri; Montana; Nebraska; Nevada; New Hampshire; New Jersey; New Mexico; New York; North Carolina; North Dakota; Ohio; Oklahoma; Oregon; Pennsylvania; Rhode Island; South Carolina; South Dakota; Tennessee; Texas; Utah; Vermont; Virginia; Washington; West Virginia; Wisconsin; Wyoming.\"],\n",
       "        BBOX[24.41,-124.79,49.38,-66.91]],\n",
       "    ID[\"ESRI\",102003]]"
      ]
     },
     "metadata": {},
     "output_type": "display_data"
    }
   ],
   "source": [
    "# Check CRS of the spatial data\n",
    "st_crs(dat_sf)\n",
    "\n",
    "# Output includes:\n",
    "# - EPSG code (e.g., 4326 for WGS84)\n",
    "# - Proj4string describing the CRS"
   ]
  },
  {
   "cell_type": "markdown",
   "id": "9bbdb331-0ec6-4f5c-8772-9bdada139acb",
   "metadata": {},
   "source": [
    "### 2b. Reprojecting Data\n",
    "\n",
    "To ensure compatibility between layers or to use a CRS suitable for your analysis, you can reproject spatial data using st_transform()."
   ]
  },
  {
   "cell_type": "code",
   "execution_count": 30,
   "id": "84f9c472-deac-4a00-b727-50291134fb3d",
   "metadata": {},
   "outputs": [],
   "source": [
    "# Reproject data to WGS84 (EPSG:4326)\n",
    "dat_wgs84 <- st_transform(dat_sf, crs = 4326)\n",
    "\n",
    "# Reproject data to NAD83 / UTM Zone 15N (EPSG:26915)\n",
    "dat_utm <- st_transform(dat_sf, crs = 26915)"
   ]
  },
  {
   "cell_type": "markdown",
   "id": "40381a39-9976-40c3-ae7d-04910123ac7e",
   "metadata": {},
   "source": [
    "Commonly Used CRSs\n",
    "Here are a few common CRSs and their EPSG codes:\n",
    "\n",
    "* WGS84 (EPSG:4326): Default geographic CRS for global data.\n",
    "* NAD83 / Albers Equal Area (EPSG:5070): Suitable for U.S.-wide analyses.\n",
    "* NAD83 / UTM Zone 15N (EPSG:26915): Ideal for regional studies in the central U.S."
   ]
  },
  {
   "cell_type": "markdown",
   "id": "c92bedf1-9370-4bb2-9b7d-9227ab4947b1",
   "metadata": {},
   "source": [
    "## 3. Spatial Data Formats\n",
    "\n",
    "Spatial data comes in various formats, each suited for specific types of analyses or visualization tasks. Understanding these formats and how to work with them in R is essential for spatial data preparation and analysis. This section covers the following:\n",
    "\n",
    "* Common Spatial Data Formats: Overview of popular formats and their typical use cases.\n",
    "* Reading Spatial Data: Importing spatial data from different formats using the sf package.\n",
    "* Writing Spatial Data: Exporting spatial data to commonly used formats."
   ]
  },
  {
   "cell_type": "markdown",
   "id": "90ea95b1-c544-409e-9e97-865dc6dfbb92",
   "metadata": {},
   "source": [
    "### 3a. Common Spatial Data Formats\n",
    "Spatial data can be broadly categorized into two types: vector and raster. Below are common formats:\n",
    "\n",
    "**Vector Formats (Points, Lines, Polygons)**\n",
    "* Shapefile (.shp): A widely used format, often with multiple accompanying files (.shx, .dbf, etc.).\n",
    "* GeoJSON (.geojson): A lightweight, web-friendly format for vector data.\n",
    "* Geopackage (.gpkg): A modern format that supports multiple layers and data types in a single file.\n",
    "\n",
    "**Raster Formats (Grids, Images)**\n",
    "* GeoTIFF (.tif): A versatile format for raster data, including satellite imagery and elevation data.\n",
    "* ASCII Grid (.asc): A simple text-based raster format.\n",
    "\n",
    "**Other Formats**\n",
    "* CSV with Coordinates: Tabular data containing latitude/longitude or other coordinates, convertible to spatial data.\n",
    "* KML (.kml): Used for Google Earth visualizations.\n"
   ]
  },
  {
   "cell_type": "markdown",
   "id": "64c30a1e-9140-4f37-97df-ae8726041d23",
   "metadata": {},
   "source": [
    "* Highlight key formats (e.g., shapefiles, GeoJSON, geopackages, rasters) and how to read/write them in R.\n",
    "* Demonstrate converting between spatial and non-spatial formats (e.g., sf to data.frame)."
   ]
  },
  {
   "cell_type": "markdown",
   "id": "b3aa0daa-0a03-4840-98b8-92c4fba6bbe6",
   "metadata": {},
   "source": [
    "### 3b. Reading Spatial Data\n",
    "\n",
    "Use the sf package to read vector data and the terra package for raster data."
   ]
  },
  {
   "cell_type": "code",
   "execution_count": 31,
   "id": "395e04fe-ef10-42bc-9ae9-863539a1c8ae",
   "metadata": {},
   "outputs": [],
   "source": [
    "# Reading a Shapefile\n",
    "#shapefile <- st_read(\"path/to/shapefile.shp\")\n",
    "\n",
    "# Reading a GeoJSON file\n",
    "#geojson <- st_read(\"path/to/file.geojson\")\n",
    "\n",
    "# Reading a Geopackage layer\n",
    "#geopackage <- st_read(\"path/to/file.gpkg\", layer = \"layer_name\")\n",
    "\n",
    "# Viewing metadata\n",
    "#st_crs(shapefile)  # Check CRS\n",
    "#st_geometry_type(shapefile)  # Geometry type (POINT, LINESTRING, etc.)"
   ]
  },
  {
   "cell_type": "markdown",
   "id": "2c2d687e-6a7c-4a52-a55d-7b5ce4d045c6",
   "metadata": {},
   "source": [
    "For tabular data with coordinates, convert it into a spatial object:"
   ]
  },
  {
   "cell_type": "code",
   "execution_count": 32,
   "id": "c190f18e-7ea2-4c28-a8e6-6c6b73311bbd",
   "metadata": {},
   "outputs": [],
   "source": [
    "# Example CSV with latitude and longitude\n",
    "#csv_data <- read.csv(\"path/to/coordinates.csv\")\n",
    "\n",
    "# Convert to spatial object\n",
    "#csv_spatial <- st_as_sf(csv_data, coords = c(\"longitude\", \"latitude\"), crs = 4326)"
   ]
  },
  {
   "cell_type": "markdown",
   "id": "cc9773ff-7f6f-47e7-8938-ade19dcd8076",
   "metadata": {},
   "source": [
    "### 3c. Writing Spatial Data\n",
    "\n",
    "The sf package also supports exporting spatial data to various formats."
   ]
  },
  {
   "cell_type": "code",
   "execution_count": null,
   "id": "39b2bec1-225f-4ca7-b19d-b99c7e0db451",
   "metadata": {},
   "outputs": [],
   "source": [
    "# Write to a Shapefile\n",
    "#st_write(shapefile, \"path/to/exported_shapefile.shp\")\n",
    "\n",
    "# Write to a GeoJSON file\n",
    "#st_write(shapefile, \"path/to/exported_file.geojson\")\n",
    "\n",
    "# Write to a Geopackage (with layer name)\n",
    "#st_write(shapefile, \"path/to/exported_file.gpkg\", layer = \"exported_layer\")\n",
    "\n",
    "# Write to CSV (if attributes are non-spatial)\n",
    "#write.csv(st_drop_geometry(shapefile), \"path/to/exported_data.csv\")"
   ]
  },
  {
   "cell_type": "markdown",
   "id": "23f6ab17-ccc5-4ef8-a6c3-7471300a34b5",
   "metadata": {},
   "source": [
    "### 3d. Summary of Format Advantages\n",
    "\n",
    "(table of summary of format advantages)\n",
    "\n",
    "* Shapefile\n",
    "  * Advantages: widely supported, simple format\n",
    "  * Used For: general-purpose GIS use\n",
    "* GeoJSON\n",
    "  * Advantages: lightweight, web-friendly\n",
    "  * Used For: web-based mapping and visualizations\n",
    "* Geopackage\n",
    "  * Advantages: multi-layer, company, supports raster and vector formats\n",
    "  * Used For: large projects with multiple datasets\n",
    "* GeoTIFF\n",
    "  * Advantages: high-resolution raster data\n",
    "  * Used For: satellite imagery, elevation models\n",
    "* CSV\n",
    "  * Advantages: simple tabular format\n",
    "  * Used For: lightweight point data storage"
   ]
  },
  {
   "cell_type": "markdown",
   "id": "50a2eb67-14ba-4b22-a30c-3c42837cfcf4",
   "metadata": {},
   "source": [
    "# Recommended Next Steps\n",
    "\n",
    "* **Continue with Chapter 3: Data Cleaning and Preparation**\n",
    "  * 3.1: Data Preparation and Transformation with IPUMS USA\n",
    "* **Move on to Chapter 4: Exploratory Data Analysis (EDA)**\n",
    "  * 4.2: Spatial Exploratory Data Analysis (SEDA) with IPUMS NHGIS"
   ]
  }
 ],
 "metadata": {
  "kernelspec": {
   "display_name": "R",
   "language": "R",
   "name": "ir"
  },
  "language_info": {
   "codemirror_mode": "r",
   "file_extension": ".r",
   "mimetype": "text/x-r-source",
   "name": "R",
   "pygments_lexer": "r",
   "version": "4.3.3"
  }
 },
 "nbformat": 4,
 "nbformat_minor": 5
}
