{
 "cells": [
  {
   "cell_type": "markdown",
   "id": "dda55375-9fed-41f6-8d3b-b5a3855face7",
   "metadata": {},
   "source": [
    "# Introduction to the National Land Cover Database (NLCD)"
   ]
  },
  {
   "cell_type": "markdown",
   "id": "4b16bcf4-a14b-4e63-9aed-487b6c212f40",
   "metadata": {},
   "source": [
    "The [National Land Cover Database (NLCD)](https://www.usgs.gov/centers/eros/science/annual-national-land-cover-database) is a comprehensive dataset that provides detailed information on land cover and land use across the United States. Produced by the [Multi-Resolution Land Characteristics (MRLC) Consortium](https://www.mrlc.gov), the NLCD is widely used for environmental research, planning, and management. It classifies land cover into categories such as forests, wetlands, urban areas, and agriculture, with data available at a 30-meter resolution.\n",
    "\n",
    "Key Features of the NLCD:\n",
    "\n",
    "* Detailed Land Cover Categories: Includes classes like developed land, forests, wetlands, croplands, and grasslands, allowing users to analyze various land cover types.\n",
    "* Multiple Time Periods: Updated periodically, the NLCD provides snapshots of land cover for multiple years, enabling change detection and trend analysis.\n",
    "* Nationwide Coverage: Covers the entire contiguous United States, Alaska, Hawaii, and Puerto Rico, making it a consistent resource for studying land cover on a broad scale."
   ]
  }
 ],
 "metadata": {
  "kernelspec": {
   "display_name": "iguide-ewd-r",
   "language": "R",
   "name": "iguide-ewd-r"
  },
  "language_info": {
   "codemirror_mode": "r",
   "file_extension": ".r",
   "mimetype": "text/x-r-source",
   "name": "R",
   "pygments_lexer": "r",
   "version": "4.3.1"
  }
 },
 "nbformat": 4,
 "nbformat_minor": 5
}
