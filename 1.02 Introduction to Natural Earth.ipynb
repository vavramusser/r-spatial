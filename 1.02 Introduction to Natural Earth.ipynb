{
 "cells": [
  {
   "cell_type": "markdown",
   "id": "f061c98f-3231-48dc-becc-863a13ee06f2",
   "metadata": {},
   "source": [
    "# Introduction to Natural Earth"
   ]
  },
  {
   "attachments": {},
   "cell_type": "markdown",
   "id": "b6924bbe-189e-4462-b3a1-d0ce6fe2249b",
   "metadata": {},
   "source": [
    "[**Natural Earth**](https://www.naturalearthdata.com) is a free, public domain map dataset designed for creating visually appealing and well-crafted maps at multiple scales. It provides tightly integrated vector and raster data that align seamlessly across layers, ensuring consistent geographic shapes and precise connections between features. Built collaboratively by volunteers and supported by the [North American Cartographic Information Society (NACIS)](https://nacis.org), Natural Earth simplifies the process of finding high-quality data for small-scale maps, saving cartographers time by offering ready-to-use datasets.\n",
    "\n",
    "The dataset includes detailed attributes for mapmaking, such as feature names ranked by importance and width attributes for rivers, enabling faster and more effective map production. Designed with cartographers in mind, Natural Earth solves the challenges of sifting through poorly attributed geospatial data, providing clean, reliable, and professional-grade resources for use in any type of project.\n",
    "\n",
    "### Available Data\n",
    "\n",
    "Natural Earth data is available at three different scales:\n",
    "\n",
    "* Large Scale (1:10 million)\n",
    "* Medium Scale (1:50 million)\n",
    "* Small Scale (1:110 million)\n",
    "\n",
    "And categorized into three main themes:\n",
    "\n",
    "* [**Cultural Vector Data Themes**](https://www.naturalearthdata.com/features/#:~:text=Cultural%20Vector%20Data%20Themes%3A) countries, disputed areas and breakaway regions, first order administrative boundaries, populated places, urban polygons, parks and protected areas, Pacific nation groupings, and water boundary indicators\n",
    "* [**Physical Vector Data Themes**](https://www.naturalearthdata.com/features/#:~:text=Physical%20Vector%20Data%20Themes%3A) coastline, land, ocean, minor islands, reefs, major physical features, rivers and lake centerlines, lakes, glaciated areas, Antartic ice shelves, bathymetry, geographic lines, and graticules\n",
    "* [**Raster Data Themes**](https://www.naturalearthdata.com/features/#:~:text=WGS84%20bounding%20box.-,Raster%20Data%20Themes%3A,-Optional%20baked%20in) shaded relief, land cover, terrain, ocean bottom, and ocean depth"
   ]
  },
  {
   "cell_type": "markdown",
   "id": "02ea4e94-b918-474e-8877-feebe92d9c45",
   "metadata": {},
   "source": [
    "## The rnaturalearth and naturalearthdata R Packages\n",
    "\n",
    "The **[naturalearth](https://cran.r-project.org/web/packages/rnaturalearth/index.html)** and **[naturalearthdata](https://cran.r-project.org/web/packages/rnaturalearthdata/index.html)** packages support the programmatic extraction of Natural Earth data into an R environment.  Extracting data from Natural Earth using the R packages does not require an account nor an API key."
   ]
  },
  {
   "cell_type": "markdown",
   "id": "efca919b-bc19-4d83-8556-ce7a141e9010",
   "metadata": {},
   "source": [
    "## Recommended Next Steps\n",
    "\n",
    "* **Continue with Chapter 1: Data Sources and APIs**\n",
    "  * [1.1 Introduction to IPUMS and the IPUMS API](https://platform.i-guide.io/notebooks/82d3b176-e4e6-4307-8186-318a3fe6c81a)\n",
    "  * [1.3 Introduction to OpenStreetMap (OSM)](https://platform.i-guide.io/notebooks/e7796dde-de2e-4745-a9e3-5880d2f28803)\n",
    "  * [1.4 Introduction to Stadia Maps and Stamen Maps](https://platform.i-guide.io/notebooks/9d896d1e-bb49-4915-9a8c-b1ea07f495a4)\n",
    "  * [1.5 Introduction to Google Maps](https://platform.i-guide.io/notebooks/e2767af9-62ba-43a7-b16b-9f3b053cf418)\n",
    "  * [1.6 Introduction to Google Earth Engine (GEE)](https://platform.i-guide.io/notebooks/7ef82017-ed6d-44d9-865c-0780fdc54da9)\n",
    "  * [1.7 Introduction to the National Land Cover Database (NLCD)](https://platform.i-guide.io/notebooks/92d44a37-8633-4dd9-8d22-ad461bcc73ab)\n",
    "  * [1.8 Introduction to the EPA Air Quality System (AQS) Data Repository](https://platform.i-guide.io/notebooks/12ad0cf1-5acd-404b-8a82-25430173c1a1)"
   ]
  }
 ],
 "metadata": {
  "kernelspec": {
   "display_name": "R",
   "language": "R",
   "name": "ir"
  },
  "language_info": {
   "codemirror_mode": "r",
   "file_extension": ".r",
   "mimetype": "text/x-r-source",
   "name": "R",
   "pygments_lexer": "r",
   "version": "4.3.3"
  }
 },
 "nbformat": 4,
 "nbformat_minor": 5
}
