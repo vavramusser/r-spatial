{
 "cells": [
  {
   "cell_type": "markdown",
   "id": "f061c98f-3231-48dc-becc-863a13ee06f2",
   "metadata": {},
   "source": [
    "# Introduction to [Natural Earth](https://www.naturalearthdata.com)\n",
    "### by [Kate Vavra-Musser](https://vavramusser.github.io) for the [R Spatial Notebook Series](https://vavramusser.github.io/r-spatial)"
   ]
  },
  {
   "attachments": {},
   "cell_type": "markdown",
   "id": "b6924bbe-189e-4462-b3a1-d0ce6fe2249b",
   "metadata": {},
   "source": [
    "[**Natural Earth**](https://www.naturalearthdata.com) is a free, public domain map dataset designed for creating visually appealing and well-crafted maps at multiple scales. It provides tightly integrated vector and raster data that align seamlessly across layers, ensuring consistent geographic shapes and precise connections between features. Built collaboratively by volunteers and supported by the [North American Cartographic Information Society (NACIS)](https://nacis.org), Natural Earth simplifies the process of finding high-quality data for small-scale maps, saving cartographers time by offering ready-to-use datasets.\n",
    "\n",
    "The dataset includes detailed attributes for mapmaking, such as feature names ranked by importance and width attributes for rivers, enabling faster and more effective map production. Designed with cartographers in mind, Natural Earth solves the challenges of sifting through poorly attributed geospatial data, providing clean, reliable, and professional-grade resources for use in any type of project.\n",
    "\n",
    "### Available Data\n",
    "\n",
    "Natural Earth data is available at three different scales:\n",
    "\n",
    "* Large Scale (1:10 million)\n",
    "* Medium Scale (1:50 million)\n",
    "* Small Scale (1:110 million)\n",
    "\n",
    "And categorized into three main themes:\n",
    "\n",
    "* [**Cultural Vector Data Themes:**](https://www.naturalearthdata.com/features/#:~:text=Cultural%20Vector%20Data%20Themes%3A) countries, disputed areas and breakaway regions, first order administrative boundaries, populated places, urban polygons, parks and protected areas, Pacific nation groupings, and water boundary indicators\n",
    "* [**Physical Vector Data Themes:**](https://www.naturalearthdata.com/features/#:~:text=Physical%20Vector%20Data%20Themes%3A) coastline, land, ocean, minor islands, reefs, major physical features, rivers and lake centerlines, lakes, glaciated areas, Antartic ice shelves, bathymetry, geographic lines, and graticules\n",
    "* [**Raster Data Themes:**](https://www.naturalearthdata.com/features/#:~:text=WGS84%20bounding%20box.-,Raster%20Data%20Themes%3A,-Optional%20baked%20in) shaded relief, land cover, terrain, ocean bottom, and ocean depth"
   ]
  },
  {
   "cell_type": "markdown",
   "id": "02ea4e94-b918-474e-8877-feebe92d9c45",
   "metadata": {},
   "source": [
    "## The rnaturalearth and naturalearthdata R Packages\n",
    "\n",
    "The **[naturalearth](https://cran.r-project.org/web/packages/rnaturalearth/index.html)** and **[naturalearthdata](https://cran.r-project.org/web/packages/rnaturalearthdata/index.html)** packages support the programmatic extraction of Natural Earth data into an R environment.  Extracting data from Natural Earth using the R packages does not require an account nor an API key."
   ]
  },
  {
   "cell_type": "markdown",
   "id": "fbae8ff5-aaf7-4732-85f1-cc248a59ffe0",
   "metadata": {},
   "source": [
    "---\n",
    "\n",
    "## Next Steps\n",
    "\n",
    "* Continue Learning About Open Data Sources and Acquisition\n",
    "    * → **Chapter 1.01 Introduction to IPUMS and the IPUMS API**\n",
    "    * → **Chapter 1.03 Introduction to OpenStreetMap (OSM)**\n",
    "    * → **Chapter 1.04 Introduction to Stadia and Stamen Maps**\n",
    "* Continue Exploring the Fundamentals of Working with Spatial Data in R\n",
    "  * → Chapter 2.1 [**Introduction to sf: Reading, Writing, and Inspecting Vector Data**](https://platform.i-guide.io/notebooks/9968babe-22e4-4c3d-98e2-d8b45e9672cd)\n",
    "* Continue Working with Natural Earth\n",
    "  * → Chapter 4.1 [**Importing Data from Natural Earth with rnaturalearth and rnaturalearthdata**](https://platform.i-guide.io/notebooks/934e764c-d727-4bab-bc1c-198233484adc)"
   ]
  },
  {
   "cell_type": "markdown",
   "id": "94df3fc1-3c50-4ed0-a4f4-c6cd33dfc3ac",
   "metadata": {},
   "source": [
    "* Return to the [**R Spatial Notebooks Project Chapter List**](https://vavramusser.github.io/r-spatial/#:~:text=Chapter%201%3A%20Data%20Sources%20and%20APIs) to view a list of all available notebooks organized in the R Spatial Notebooks chapter structure.\n",
    "* Visit the [**R Spatial Notebooks Project Homepage**](https://vavramusser.github.io/r-spatial) to learn more about the project, view the list of all notebooks, and explore additional resources.\n",
    "* Join the project [**Mailing List**](https://mailchi.mp/ab01e8fc8397/r-spatial-email-signup) to hear about future notebook releases and other updates.\n",
    "* If you have an idea for a new notebook please submit your idea via the [**Suggestion Box**](https://us19.list-manage.com/survey?u=746bf8d366d6fbc99c699e714&id=54590a28ea&attribution=false).\n",
    "\n",
    "---\n",
    "\n",
    "## ★ Thank You ★\n",
    "\n",
    "Thank you so much for engaging with this notebook and supporting the project!  The R Spatial Notebooks Project is a labor of love so if you enjoy or benefit from these notebooks, please consider [**Donating to the Project**](https://buymeacoffee.com/vavramusser).  Your support allows me to continue producing notebooks and supporting the R Spatial Notebooks community."
   ]
  }
 ],
 "metadata": {
  "kernelspec": {
   "display_name": "R",
   "language": "R",
   "name": "ir"
  },
  "language_info": {
   "codemirror_mode": "r",
   "file_extension": ".r",
   "mimetype": "text/x-r-source",
   "name": "R",
   "pygments_lexer": "r",
   "version": "4.3.3"
  }
 },
 "nbformat": 4,
 "nbformat_minor": 5
}
