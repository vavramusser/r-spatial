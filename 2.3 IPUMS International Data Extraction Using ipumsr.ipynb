{
 "cells": [
  {
   "cell_type": "markdown",
   "id": "5c578a64-4d4a-4721-958c-800506510b16",
   "metadata": {},
   "source": [
    "# IPUMS International Data Extraction Using ipumsr"
   ]
  },
  {
   "cell_type": "markdown",
   "id": "dda02f5e-fa65-4398-b630-c51d09cea26d",
   "metadata": {},
   "source": [
    "## Introduction\n",
    "The [IPUMS International](https://international.ipums.org/international) database offers harmonized microdata from population censuses and surveys across multiple countries. It provides detailed, individual-level records on demographics, education, employment, housing, and household characteristics, enabling the analysis of global trends in population and socioeconomic conditions across time and space. Through harmonization, IPUMS International ensures data can be seamlessly compared across countries and census years, overcoming challenges posed by differences in survey design, geographic boundaries, and variable definitions.\"\n",
    "\n",
    "**From the [IPUMS International Website](https://international.ipums.org/international):** IPUMS International is dedicated to collecting and distributing census microdata from around the world. The project goals are to collect and preserve data and documentation, harmonize data, and disseminate the harmonized data free of charge.\n",
    "\n",
    "This notebook introduces the process of extracting [IPUMS International](https://international.ipums.org/international) data using the [IPUMS API](https://developer.ipums.org/docs/v2/apiprogram) via the [ipumsr R package](https://cran.r-project.org/web/packages/ipumsr/index.html). Users will learn how to define, submit, and download an IPUMS International data extract, specifying desired variables, time periods, and geographic units for analysis. By the end of this notebook, users will have the skills to efficiently acquire customized IPUMS International datasets and prepare them for spatial and statistical workflows.\n",
    "\n",
    "### ★ Prerequisites ★\n",
    "* Complete Chapter 1.1: Introduction to IPUMS and the IPUMS API\n",
    "* Set Up Your [IPUMS Account and API Key](https://account.ipums.org/api_keys)\n",
    "\n",
    "### Notebook Overview\n",
    "1. Setup\n",
    "2. IPUMS International Metadata Exploration\n",
    "3. IPUMS International Data Extraction Specification and Submission"
   ]
  },
  {
   "cell_type": "markdown",
   "id": "c37f20a3-8ece-415c-a7f4-3edc53ee2fb9",
   "metadata": {},
   "source": [
    "## 1. Setup\n",
    "This section will guide you through the process of installing essential packages and setting your IPUMS API key.\n",
    "\n",
    "#### Required Packages\n",
    "\n",
    "[**dplyr**](https://cran.r-project.org/web/packages/dplyr/index.html) A Grammar of Data Manipulation. This notebook uses the the following function from *dplyr*.\n",
    "\n",
    "* [*filter*](https://rdrr.io/cran/dplyr/man/filter.html) · keep rows that match a condition\n",
    "* This notebook also uses [*%>%*](https://magrittr.tidyverse.org/reference/pipe.html), referred to as the *pipe* operator, which is used to pass the output from one function directly into the next function for the purpose of creating streamlined workflows.  The *pipe* operator is a commonly used component of the [*tidyverse*](https://www.tidyverse.org).\n",
    "\n",
    "[**ipumsr**](https://cran.r-project.org/web/packages/ipumsr/index.html) An R Interface for Downloading, Reading, and Handling IPUMS Data.  This notebook uses the the following functions from *ipumsr*.\n",
    "\n",
    "* [*define_extract_micro*](https://rdrr.io/github/mnpopcenter/ripums/man/define_extract_micro.html) · define an extract request for an IPUMS microdata collection\n",
    "* [*download_extract*](https://rdrr.io/cran/ipumsr/man/download_extract.html) · download a completed IPUMS data extract\n",
    "* [*get_sample_info*](https://rdrr.io/cran/ipumsr/man/get_sample_info.html) · list available samples for IPUMS microdata collections\n",
    "* [*read_ipums_ddi*](https://rdrr.io/cran/ipumsr/man/read_ipums_ddi.html) · read metadata about an IPUMS microdata extract from a DDI codebook (.xml) file\n",
    "* [*read_ipums_micro*](https://rdrr.io/cran/ipumsr/man/read_ipums_micro.html) · read data from an IPUMS microdata extract\n",
    "* [*set_ipums_api_key*](https://rdrr.io/cran/ipumsr/man/set_ipums_api_key.html) · set your IPUMS API key\n",
    "* [*submit_extract*](https://rdrr.io/cran/ipumsr/man/submit_extract.html) · submit an extract request via the IPUMS API\n",
    "* [*wait_for_extract*](https://rdrr.io/cran/ipumsr/man/wait_for_extract.html) · wait for an extract to finish processing\n",
    "\n",
    "[**stringr**](https://cran.r-project.org/web/packages/stringr/index.html) Simple, Consistent Wrappers for Common String Operations.  This notebook uses the following function from *stringr*.\n",
    "\n",
    "* [*str_detect*](https://stringr.tidyverse.org/reference/str_detect.html) · detect the presence or absence of a match"
   ]
  },
  {
   "cell_type": "markdown",
   "id": "18683019-023e-4094-965e-5f03301f94e2",
   "metadata": {},
   "source": [
    "### 1a. Install and Load Required Packages\n",
    "If you have not already installed the required packages, uncomment and run the code below:"
   ]
  },
  {
   "cell_type": "code",
   "execution_count": null,
   "id": "96ac04cf-ae0c-4b79-9986-0cdbd765be4d",
   "metadata": {},
   "outputs": [],
   "source": [
    "# install.packages(c(\"dplyr\", \"ipumsr\", \"stringr\"))"
   ]
  },
  {
   "cell_type": "markdown",
   "id": "aa422eba-1a8e-4970-8f6c-df9dc8ee437a",
   "metadata": {},
   "source": [
    "Load the packages into your workspace."
   ]
  },
  {
   "cell_type": "code",
   "execution_count": 2,
   "id": "59e34c65-4160-49ae-bbfd-2e58dd213657",
   "metadata": {},
   "outputs": [
    {
     "name": "stderr",
     "output_type": "stream",
     "text": [
      "\n",
      "Attaching package: 'dplyr'\n",
      "\n",
      "\n",
      "The following objects are masked from 'package:stats':\n",
      "\n",
      "    filter, lag\n",
      "\n",
      "\n",
      "The following objects are masked from 'package:base':\n",
      "\n",
      "    intersect, setdiff, setequal, union\n",
      "\n",
      "\n"
     ]
    }
   ],
   "source": [
    "library(dplyr)\n",
    "library(ipumsr)\n",
    "library(stringr)"
   ]
  },
  {
   "cell_type": "markdown",
   "id": "8a60792f-6f68-4906-a9fa-e920ae480ede",
   "metadata": {},
   "source": [
    "#### 1b. Set Your IPUMS API Key\n",
    "\n",
    "Store your [IPUMS API key](https://account.ipums.org/api_keys) in your environment using the following code.\n",
    "\n",
    "Refer to *Chapter 1.1: Introduction to IPUMS and the IPUMS API* for instructions on setting up your IPUMS account and API key."
   ]
  },
  {
   "cell_type": "code",
   "execution_count": 3,
   "id": "cab2e9a8-43d0-4cd7-a294-6e21253a1055",
   "metadata": {},
   "outputs": [
    {
     "name": "stdin",
     "output_type": "stream",
     "text": [
      "Please enter your IPUMS API key:  59cba10d8a5da536fc06b59dd85f877c475a4c7d96dd08a9ce04d9d0\n"
     ]
    },
    {
     "name": "stderr",
     "output_type": "stream",
     "text": [
      "Existing .Renviron file copied to C:\\Users\\vavra\\Documents/.Renviron_backup for backup purposes.\n",
      "\n",
      "The environment variable IPUMS_API_KEY has been set and saved for future sessions.\n",
      "\n"
     ]
    }
   ],
   "source": [
    "ipumps_api_key = readline(\"Please enter your IPUMS API key: \")\n",
    "set_ipums_api_key(ipumps_api_key, save = T, overwrite = T)"
   ]
  },
  {
   "cell_type": "markdown",
   "id": "1746c938-fe9c-4a6e-9a62-748ef2205d9c",
   "metadata": {},
   "source": [
    "## 2. IPUMS International Metadata Exploration\n",
    "\n",
    "### 2a. Review the List of Samples"
   ]
  },
  {
   "cell_type": "code",
   "execution_count": 6,
   "id": "756a0dd2-3f82-40ff-94a7-f8f8174b0da2",
   "metadata": {},
   "outputs": [
    {
     "data": {
      "text/html": [
       "<style>\n",
       ".list-inline {list-style: none; margin:0; padding: 0}\n",
       ".list-inline>li {display: inline-block}\n",
       ".list-inline>li:not(:last-child)::after {content: \"\\00b7\"; padding: 0 .5ex}\n",
       "</style>\n",
       "<ol class=list-inline><li>558</li><li>2</li></ol>\n"
      ],
      "text/latex": [
       "\\begin{enumerate*}\n",
       "\\item 558\n",
       "\\item 2\n",
       "\\end{enumerate*}\n"
      ],
      "text/markdown": [
       "1. 558\n",
       "2. 2\n",
       "\n",
       "\n"
      ],
      "text/plain": [
       "[1] 558   2"
      ]
     },
     "metadata": {},
     "output_type": "display_data"
    }
   ],
   "source": [
    "# retrive and view the list of samples from the IPUMS International database\n",
    "metadata_int <- get_sample_info(\"ipumsi\")\n",
    "\n",
    "# view the dimensions of the list of samples\n",
    "dim(metadata_int)"
   ]
  },
  {
   "cell_type": "code",
   "execution_count": 7,
   "id": "55f0e320-a1f5-404b-ae3a-1668a31d27ff",
   "metadata": {},
   "outputs": [
    {
     "data": {
      "text/html": [
       "<table class=\"dataframe\">\n",
       "<caption>A tibble: 6 × 2</caption>\n",
       "<thead>\n",
       "\t<tr><th scope=col>name</th><th scope=col>description</th></tr>\n",
       "\t<tr><th scope=col>&lt;chr&gt;</th><th scope=col>&lt;chr&gt;</th></tr>\n",
       "</thead>\n",
       "<tbody>\n",
       "\t<tr><td>ar1970a</td><td>Argentina 1970</td></tr>\n",
       "\t<tr><td>ar1980a</td><td>Argentina 1980</td></tr>\n",
       "\t<tr><td>ar1991a</td><td>Argentina 1991</td></tr>\n",
       "\t<tr><td>ar2001a</td><td>Argentina 2001</td></tr>\n",
       "\t<tr><td>at1971a</td><td>Austria 1971  </td></tr>\n",
       "\t<tr><td>at1981a</td><td>Austria 1981  </td></tr>\n",
       "</tbody>\n",
       "</table>\n"
      ],
      "text/latex": [
       "A tibble: 6 × 2\n",
       "\\begin{tabular}{ll}\n",
       " name & description\\\\\n",
       " <chr> & <chr>\\\\\n",
       "\\hline\n",
       "\t ar1970a & Argentina 1970\\\\\n",
       "\t ar1980a & Argentina 1980\\\\\n",
       "\t ar1991a & Argentina 1991\\\\\n",
       "\t ar2001a & Argentina 2001\\\\\n",
       "\t at1971a & Austria 1971  \\\\\n",
       "\t at1981a & Austria 1981  \\\\\n",
       "\\end{tabular}\n"
      ],
      "text/markdown": [
       "\n",
       "A tibble: 6 × 2\n",
       "\n",
       "| name &lt;chr&gt; | description &lt;chr&gt; |\n",
       "|---|---|\n",
       "| ar1970a | Argentina 1970 |\n",
       "| ar1980a | Argentina 1980 |\n",
       "| ar1991a | Argentina 1991 |\n",
       "| ar2001a | Argentina 2001 |\n",
       "| at1971a | Austria 1971   |\n",
       "| at1981a | Austria 1981   |\n",
       "\n"
      ],
      "text/plain": [
       "  name    description   \n",
       "1 ar1970a Argentina 1970\n",
       "2 ar1980a Argentina 1980\n",
       "3 ar1991a Argentina 1991\n",
       "4 ar2001a Argentina 2001\n",
       "5 at1971a Austria 1971  \n",
       "6 at1981a Austria 1981  "
      ]
     },
     "metadata": {},
     "output_type": "display_data"
    }
   ],
   "source": [
    "# view the first few lines of the list of samples\n",
    "head(metadata_int)"
   ]
  },
  {
   "cell_type": "markdown",
   "id": "0461282e-cca8-406d-bd0c-5b17849608ae",
   "metadata": {},
   "source": [
    "Refer to the [Descriptions of IPUMS International Samples](https://international.ipums.org/international-action/sample_details) page on the IPUMS International website."
   ]
  },
  {
   "cell_type": "code",
   "execution_count": 9,
   "id": "b30d8114-28dc-47d7-baa7-db74f63aa61b",
   "metadata": {},
   "outputs": [
    {
     "data": {
      "text/html": [
       "<table class=\"dataframe\">\n",
       "<caption>A tibble: 5 × 2</caption>\n",
       "<thead>\n",
       "\t<tr><th scope=col>name</th><th scope=col>description</th></tr>\n",
       "\t<tr><th scope=col>&lt;chr&gt;</th><th scope=col>&lt;chr&gt;</th></tr>\n",
       "</thead>\n",
       "<tbody>\n",
       "\t<tr><td>za1996a</td><td>South Africa 1996</td></tr>\n",
       "\t<tr><td>za2001a</td><td>South Africa 2001</td></tr>\n",
       "\t<tr><td>za2007a</td><td>South Africa 2007</td></tr>\n",
       "\t<tr><td>za2011a</td><td>South Africa 2011</td></tr>\n",
       "\t<tr><td>za2016a</td><td>South Africa 2016</td></tr>\n",
       "</tbody>\n",
       "</table>\n"
      ],
      "text/latex": [
       "A tibble: 5 × 2\n",
       "\\begin{tabular}{ll}\n",
       " name & description\\\\\n",
       " <chr> & <chr>\\\\\n",
       "\\hline\n",
       "\t za1996a & South Africa 1996\\\\\n",
       "\t za2001a & South Africa 2001\\\\\n",
       "\t za2007a & South Africa 2007\\\\\n",
       "\t za2011a & South Africa 2011\\\\\n",
       "\t za2016a & South Africa 2016\\\\\n",
       "\\end{tabular}\n"
      ],
      "text/markdown": [
       "\n",
       "A tibble: 5 × 2\n",
       "\n",
       "| name &lt;chr&gt; | description &lt;chr&gt; |\n",
       "|---|---|\n",
       "| za1996a | South Africa 1996 |\n",
       "| za2001a | South Africa 2001 |\n",
       "| za2007a | South Africa 2007 |\n",
       "| za2011a | South Africa 2011 |\n",
       "| za2016a | South Africa 2016 |\n",
       "\n"
      ],
      "text/plain": [
       "  name    description      \n",
       "1 za1996a South Africa 1996\n",
       "2 za2001a South Africa 2001\n",
       "3 za2007a South Africa 2007\n",
       "4 za2011a South Africa 2011\n",
       "5 za2016a South Africa 2016"
      ]
     },
     "metadata": {},
     "output_type": "display_data"
    }
   ],
   "source": [
    "# filter the list of samples by country\n",
    "metadata_int %>% filter(str_detect(description, \"South Africa\"))"
   ]
  },
  {
   "cell_type": "markdown",
   "id": "32d4ef27-98be-4d06-99ea-7fd797cee507",
   "metadata": {},
   "source": [
    "## 3. IPUMS USA Data Extraction Specification and Submission\n",
    "\n",
    "Once we know the dataset and variable selection we want, we can define our data extraction using the *define_extract_micro* function from the *ipumsr* package.  This function requires the following parameters:\n",
    "\n",
    "### 3a. Define the Data Extract\n",
    "\n",
    "For this example we will use the 2016 South Africa sample.\n",
    "\n",
    "**Variable Selection**\n",
    "* South Africa, Local Municipality 2016 (Level 3 GIS) (GEO3_ZA2016)\n",
    "* Electricity (ELECTRIC)\n",
    "* Water Supply (WATSUP)\n",
    "* Sewage (SEWAGE)\n",
    "* Cooking Fuel (FUELCOOK)\n",
    "* Toilet (TOILET)\n",
    "\n",
    "By default, the data extraction will also include a number of IPUMS preselected variables.  These variables include metainformation such as identification codes and survey weights.  We will explore and list the preselected variables after completing the data extraction.\n",
    "\n",
    "* **collection** Code for the IPUMS collection represented by this extract request.  In our case we are downloading from IPUMS USA so we use the code \"usa\".\n",
    "* **description** Text description of the extract.\n",
    "* **samples** Vector of samples to include in the extract request.  In our case we are downloading the 2010 ACS data (us2010a).\n",
    "* **variables** Vector of variable names or a list of detailed variable specifications to include in the extract request."
   ]
  },
  {
   "cell_type": "code",
   "execution_count": 13,
   "id": "513744e4-b21e-40a9-a7db-3977e5b5659c",
   "metadata": {},
   "outputs": [],
   "source": [
    "# set up the data extraction definition\n",
    "extract_definition <- define_extract_micro(collection = \"ipumsi\",\n",
    "                                           description = \"IPUMS International Data Extraction\",\n",
    "                                           samples = c(\"za2016a\"),\n",
    "                                           variables = c(\"GEO3_ZA2016\", \"ELECTRIC\", \"WATSUP\", \"SEWAGE\", \"FUELCOOK\", \"TOILET\"))"
   ]
  },
  {
   "cell_type": "code",
   "execution_count": 14,
   "id": "17b51cc3-a8ab-4bf4-b6e9-c0c164ee0402",
   "metadata": {},
   "outputs": [
    {
     "data": {
      "text/html": [
       "<dl>\n",
       "\t<dt>$collection</dt>\n",
       "\t\t<dd>'ipumsi'</dd>\n",
       "\t<dt>$description</dt>\n",
       "\t\t<dd>'IPUMS International Data Extraction'</dd>\n",
       "\t<dt>$samples</dt>\n",
       "\t\t<dd><strong>$za2016a</strong> = <strong>$name</strong> = 'za2016a'</dd>\n",
       "\t<dt>$variables</dt>\n",
       "\t\t<dd><dl>\n",
       "\t<dt>$GEO3_ZA2016</dt>\n",
       "\t\t<dd><strong>$name</strong> = 'GEO3_ZA2016'</dd>\n",
       "\t<dt>$ELECTRIC</dt>\n",
       "\t\t<dd><strong>$name</strong> = 'ELECTRIC'</dd>\n",
       "\t<dt>$WATSUP</dt>\n",
       "\t\t<dd><strong>$name</strong> = 'WATSUP'</dd>\n",
       "\t<dt>$SEWAGE</dt>\n",
       "\t\t<dd><strong>$name</strong> = 'SEWAGE'</dd>\n",
       "\t<dt>$FUELCOOK</dt>\n",
       "\t\t<dd><strong>$name</strong> = 'FUELCOOK'</dd>\n",
       "\t<dt>$TOILET</dt>\n",
       "\t\t<dd><strong>$name</strong> = 'TOILET'</dd>\n",
       "</dl>\n",
       "</dd>\n",
       "\t<dt>$time_use_variables</dt>\n",
       "\t\t<dd>NULL</dd>\n",
       "\t<dt>$sample_members</dt>\n",
       "\t\t<dd>NULL</dd>\n",
       "\t<dt>$data_format</dt>\n",
       "\t\t<dd>'fixed_width'</dd>\n",
       "\t<dt>$data_structure</dt>\n",
       "\t\t<dd>'rectangular'</dd>\n",
       "\t<dt>$rectangular_on</dt>\n",
       "\t\t<dd>'P'</dd>\n",
       "\t<dt>$case_select_who</dt>\n",
       "\t\t<dd>'individuals'</dd>\n",
       "\t<dt>$data_quality_flags</dt>\n",
       "\t\t<dd>NULL</dd>\n",
       "\t<dt>$submitted</dt>\n",
       "\t\t<dd>FALSE</dd>\n",
       "\t<dt>$download_links</dt>\n",
       "\t\t<dd><dl>\n",
       "</dl>\n",
       "</dd>\n",
       "\t<dt>$number</dt>\n",
       "\t\t<dd>&lt;NA&gt;</dd>\n",
       "\t<dt>$status</dt>\n",
       "\t\t<dd>'unsubmitted'</dd>\n",
       "</dl>\n"
      ],
      "text/latex": [
       "\\begin{description}\n",
       "\\item[\\$collection] 'ipumsi'\n",
       "\\item[\\$description] 'IPUMS International Data Extraction'\n",
       "\\item[\\$samples] \\textbf{\\$za2016a} = \\textbf{\\$name} = 'za2016a'\n",
       "\\item[\\$variables] \\begin{description}\n",
       "\\item[\\$GEO3\\_ZA2016] \\textbf{\\$name} = 'GEO3\\_ZA2016'\n",
       "\\item[\\$ELECTRIC] \\textbf{\\$name} = 'ELECTRIC'\n",
       "\\item[\\$WATSUP] \\textbf{\\$name} = 'WATSUP'\n",
       "\\item[\\$SEWAGE] \\textbf{\\$name} = 'SEWAGE'\n",
       "\\item[\\$FUELCOOK] \\textbf{\\$name} = 'FUELCOOK'\n",
       "\\item[\\$TOILET] \\textbf{\\$name} = 'TOILET'\n",
       "\\end{description}\n",
       "\n",
       "\\item[\\$time\\_use\\_variables] NULL\n",
       "\\item[\\$sample\\_members] NULL\n",
       "\\item[\\$data\\_format] 'fixed\\_width'\n",
       "\\item[\\$data\\_structure] 'rectangular'\n",
       "\\item[\\$rectangular\\_on] 'P'\n",
       "\\item[\\$case\\_select\\_who] 'individuals'\n",
       "\\item[\\$data\\_quality\\_flags] NULL\n",
       "\\item[\\$submitted] FALSE\n",
       "\\item[\\$download\\_links] \\begin{description}\n",
       "\\end{description}\n",
       "\n",
       "\\item[\\$number] <NA>\n",
       "\\item[\\$status] 'unsubmitted'\n",
       "\\end{description}\n"
      ],
      "text/markdown": [
       "$collection\n",
       ":   'ipumsi'\n",
       "$description\n",
       ":   'IPUMS International Data Extraction'\n",
       "$samples\n",
       ":   **$za2016a** = **$name** = 'za2016a'\n",
       "$variables\n",
       ":   $GEO3_ZA2016\n",
       ":   **$name** = 'GEO3_ZA2016'\n",
       "$ELECTRIC\n",
       ":   **$name** = 'ELECTRIC'\n",
       "$WATSUP\n",
       ":   **$name** = 'WATSUP'\n",
       "$SEWAGE\n",
       ":   **$name** = 'SEWAGE'\n",
       "$FUELCOOK\n",
       ":   **$name** = 'FUELCOOK'\n",
       "$TOILET\n",
       ":   **$name** = 'TOILET'\n",
       "\n",
       "\n",
       "\n",
       "$time_use_variables\n",
       ":   NULL\n",
       "$sample_members\n",
       ":   NULL\n",
       "$data_format\n",
       ":   'fixed_width'\n",
       "$data_structure\n",
       ":   'rectangular'\n",
       "$rectangular_on\n",
       ":   'P'\n",
       "$case_select_who\n",
       ":   'individuals'\n",
       "$data_quality_flags\n",
       ":   NULL\n",
       "$submitted\n",
       ":   FALSE\n",
       "$download_links\n",
       ":   \n",
       "\n",
       "\n",
       "$number\n",
       ":   &lt;NA&gt;\n",
       "$status\n",
       ":   'unsubmitted'\n",
       "\n",
       "\n"
      ],
      "text/plain": [
       "Unsubmitted IPUMS International extract \n",
       "Description: IPUMS International Data Extraction\n",
       "\n",
       "\u001b[1mSamples: \u001b[22m(1 total) za2016a\n",
       "\u001b[1mVariables: \u001b[22m(6 total) GEO3_ZA2016, ELECTRIC, WATSUP, SEWAGE, FUELCOOK, TOILET"
      ]
     },
     "metadata": {},
     "output_type": "display_data"
    }
   ],
   "source": [
    "# review the extraction definition\n",
    "extract_definition"
   ]
  },
  {
   "cell_type": "markdown",
   "id": "7899607a-8770-475d-a403-a8baaadb2c92",
   "metadata": {},
   "source": [
    "### 3b. Submit the Extract Request"
   ]
  },
  {
   "cell_type": "code",
   "execution_count": 15,
   "id": "4e11e18d-562b-47cc-b620-449417cb2337",
   "metadata": {},
   "outputs": [
    {
     "name": "stderr",
     "output_type": "stream",
     "text": [
      "Successfully submitted IPUMS International extract number 1\n",
      "\n",
      "Checking extract status...\n",
      "\n",
      "Waiting 10 seconds...\n",
      "\n",
      "Checking extract status...\n",
      "\n",
      "Waiting 20 seconds...\n",
      "\n",
      "Checking extract status...\n",
      "\n",
      "Waiting 30 seconds...\n",
      "\n",
      "Checking extract status...\n",
      "\n",
      "Waiting 40 seconds...\n",
      "\n",
      "Checking extract status...\n",
      "\n",
      "IPUMS International extract 1 is ready to download.\n",
      "\n"
     ]
    },
    {
     "data": {
      "text/html": [
       "'completed'"
      ],
      "text/latex": [
       "'completed'"
      ],
      "text/markdown": [
       "'completed'"
      ],
      "text/plain": [
       "[1] \"completed\""
      ]
     },
     "metadata": {},
     "output_type": "display_data"
    },
    {
     "name": "stdout",
     "output_type": "stream",
     "text": [
      "\n",
      "\n",
      " |======================================================================| 100%"
     ]
    },
    {
     "name": "stderr",
     "output_type": "stream",
     "text": [
      "DDI codebook file saved to C:/Users/vavra/Dropbox/R Spatial/r-spatial/ipumsi_00001.xml\n",
      "Data file saved to C:/Users/vavra/Dropbox/R Spatial/r-spatial/ipumsi_00001.dat.gz\n",
      "\n"
     ]
    }
   ],
   "source": [
    "# submit extraction request\n",
    "extract_submitted <- submit_extract(extract_definition)\n",
    "\n",
    "# wait for completion\n",
    "extraction_complete <- wait_for_extract(extract_submitted)\n",
    "\n",
    "# check completion status\n",
    "extraction_complete$status\n",
    "\n",
    "# get the extract filepath\n",
    "filepath <- download_extract(extract_submitted, overwrite = T)"
   ]
  },
  {
   "cell_type": "markdown",
   "id": "cf7c5124-f8dd-481d-a802-1b1b210be10e",
   "metadata": {},
   "source": [
    "### 3c. Review the Extract\n",
    "\n",
    "The data extract download will contain the following two files.\n",
    "\n",
    "1. A [DDI (Data Documentation Initiative)](https://ddialliance.org) codebook file (file extension .xml) containing metadata and descriptive information for you data.\n",
    "2. A zipped data (.dat) file (file extension .dat.gz) containing your data.\n",
    "\n",
    "Read the ddi and data files into a format which we can work with in R."
   ]
  },
  {
   "cell_type": "code",
   "execution_count": 16,
   "id": "f5a51a63-8493-4eb7-81c4-f4bac011d7bc",
   "metadata": {},
   "outputs": [
    {
     "name": "stderr",
     "output_type": "stream",
     "text": [
      "Use of data from IPUMS International is subject to conditions including that users should cite the data appropriately. Use command `ipums_conditions()` for more details.\n",
      "\n"
     ]
    }
   ],
   "source": [
    "ddi <- read_ipums_ddi(filepath)\n",
    "dat <- read_ipums_micro(ddi)"
   ]
  },
  {
   "cell_type": "code",
   "execution_count": 17,
   "id": "6936de9d-c7c2-436c-a088-19a411a42df9",
   "metadata": {},
   "outputs": [
    {
     "data": {
      "text/html": [
       "<style>\n",
       ".list-inline {list-style: none; margin:0; padding: 0}\n",
       ".list-inline>li {display: inline-block}\n",
       ".list-inline>li:not(:last-child)::after {content: \"\\00b7\"; padding: 0 .5ex}\n",
       "</style>\n",
       "<ol class=list-inline><li>3328793</li><li>11</li></ol>\n"
      ],
      "text/latex": [
       "\\begin{enumerate*}\n",
       "\\item 3328793\n",
       "\\item 11\n",
       "\\end{enumerate*}\n"
      ],
      "text/markdown": [
       "1. 3328793\n",
       "2. 11\n",
       "\n",
       "\n"
      ],
      "text/plain": [
       "[1] 3328793      11"
      ]
     },
     "metadata": {},
     "output_type": "display_data"
    }
   ],
   "source": [
    "dim(dat)"
   ]
  },
  {
   "cell_type": "code",
   "execution_count": 18,
   "id": "2f980738-bad4-47d5-9897-2dc78ca67e0f",
   "metadata": {},
   "outputs": [
    {
     "data": {
      "text/html": [
       "<table class=\"dataframe\">\n",
       "<caption>A tibble: 6 × 11</caption>\n",
       "<thead>\n",
       "\t<tr><th scope=col>COUNTRY</th><th scope=col>YEAR</th><th scope=col>SAMPLE</th><th scope=col>SERIAL</th><th scope=col>HHWT</th><th scope=col>GEO3_ZA2016</th><th scope=col>ELECTRIC</th><th scope=col>WATSUP</th><th scope=col>SEWAGE</th><th scope=col>FUELCOOK</th><th scope=col>TOILET</th></tr>\n",
       "\t<tr><th scope=col>&lt;int+lbl&gt;</th><th scope=col>&lt;int&gt;</th><th scope=col>&lt;int+lbl&gt;</th><th scope=col>&lt;dbl&gt;</th><th scope=col>&lt;dbl&gt;</th><th scope=col>&lt;int+lbl&gt;</th><th scope=col>&lt;int+lbl&gt;</th><th scope=col>&lt;int+lbl&gt;</th><th scope=col>&lt;int+lbl&gt;</th><th scope=col>&lt;int+lbl&gt;</th><th scope=col>&lt;int+lbl&gt;</th></tr>\n",
       "</thead>\n",
       "<tbody>\n",
       "\t<tr><td>710</td><td>2016</td><td>710201601</td><td>1000</td><td>19.71</td><td>6037013</td><td>1</td><td>16</td><td>11</td><td>20</td><td>21</td></tr>\n",
       "\t<tr><td>710</td><td>2016</td><td>710201601</td><td>1000</td><td>19.71</td><td>6037013</td><td>1</td><td>16</td><td>11</td><td>20</td><td>21</td></tr>\n",
       "\t<tr><td>710</td><td>2016</td><td>710201601</td><td>1000</td><td>19.71</td><td>6037013</td><td>1</td><td>16</td><td>11</td><td>20</td><td>21</td></tr>\n",
       "\t<tr><td>710</td><td>2016</td><td>710201601</td><td>1000</td><td>19.71</td><td>6037013</td><td>1</td><td>16</td><td>11</td><td>20</td><td>21</td></tr>\n",
       "\t<tr><td>710</td><td>2016</td><td>710201601</td><td>1000</td><td>19.71</td><td>6037013</td><td>1</td><td>16</td><td>11</td><td>20</td><td>21</td></tr>\n",
       "\t<tr><td>710</td><td>2016</td><td>710201601</td><td>1000</td><td>19.71</td><td>6037013</td><td>1</td><td>16</td><td>11</td><td>20</td><td>21</td></tr>\n",
       "</tbody>\n",
       "</table>\n"
      ],
      "text/latex": [
       "A tibble: 6 × 11\n",
       "\\begin{tabular}{lllllllllll}\n",
       " COUNTRY & YEAR & SAMPLE & SERIAL & HHWT & GEO3\\_ZA2016 & ELECTRIC & WATSUP & SEWAGE & FUELCOOK & TOILET\\\\\n",
       " <int+lbl> & <int> & <int+lbl> & <dbl> & <dbl> & <int+lbl> & <int+lbl> & <int+lbl> & <int+lbl> & <int+lbl> & <int+lbl>\\\\\n",
       "\\hline\n",
       "\t 710 & 2016 & 710201601 & 1000 & 19.71 & 6037013 & 1 & 16 & 11 & 20 & 21\\\\\n",
       "\t 710 & 2016 & 710201601 & 1000 & 19.71 & 6037013 & 1 & 16 & 11 & 20 & 21\\\\\n",
       "\t 710 & 2016 & 710201601 & 1000 & 19.71 & 6037013 & 1 & 16 & 11 & 20 & 21\\\\\n",
       "\t 710 & 2016 & 710201601 & 1000 & 19.71 & 6037013 & 1 & 16 & 11 & 20 & 21\\\\\n",
       "\t 710 & 2016 & 710201601 & 1000 & 19.71 & 6037013 & 1 & 16 & 11 & 20 & 21\\\\\n",
       "\t 710 & 2016 & 710201601 & 1000 & 19.71 & 6037013 & 1 & 16 & 11 & 20 & 21\\\\\n",
       "\\end{tabular}\n"
      ],
      "text/markdown": [
       "\n",
       "A tibble: 6 × 11\n",
       "\n",
       "| COUNTRY &lt;int+lbl&gt; | YEAR &lt;int&gt; | SAMPLE &lt;int+lbl&gt; | SERIAL &lt;dbl&gt; | HHWT &lt;dbl&gt; | GEO3_ZA2016 &lt;int+lbl&gt; | ELECTRIC &lt;int+lbl&gt; | WATSUP &lt;int+lbl&gt; | SEWAGE &lt;int+lbl&gt; | FUELCOOK &lt;int+lbl&gt; | TOILET &lt;int+lbl&gt; |\n",
       "|---|---|---|---|---|---|---|---|---|---|---|\n",
       "| 710 | 2016 | 710201601 | 1000 | 19.71 | 6037013 | 1 | 16 | 11 | 20 | 21 |\n",
       "| 710 | 2016 | 710201601 | 1000 | 19.71 | 6037013 | 1 | 16 | 11 | 20 | 21 |\n",
       "| 710 | 2016 | 710201601 | 1000 | 19.71 | 6037013 | 1 | 16 | 11 | 20 | 21 |\n",
       "| 710 | 2016 | 710201601 | 1000 | 19.71 | 6037013 | 1 | 16 | 11 | 20 | 21 |\n",
       "| 710 | 2016 | 710201601 | 1000 | 19.71 | 6037013 | 1 | 16 | 11 | 20 | 21 |\n",
       "| 710 | 2016 | 710201601 | 1000 | 19.71 | 6037013 | 1 | 16 | 11 | 20 | 21 |\n",
       "\n"
      ],
      "text/plain": [
       "  COUNTRY YEAR SAMPLE    SERIAL HHWT  GEO3_ZA2016 ELECTRIC WATSUP SEWAGE\n",
       "1 710     2016 710201601 1000   19.71 6037013     1        16     11    \n",
       "2 710     2016 710201601 1000   19.71 6037013     1        16     11    \n",
       "3 710     2016 710201601 1000   19.71 6037013     1        16     11    \n",
       "4 710     2016 710201601 1000   19.71 6037013     1        16     11    \n",
       "5 710     2016 710201601 1000   19.71 6037013     1        16     11    \n",
       "6 710     2016 710201601 1000   19.71 6037013     1        16     11    \n",
       "  FUELCOOK TOILET\n",
       "1 20       21    \n",
       "2 20       21    \n",
       "3 20       21    \n",
       "4 20       21    \n",
       "5 20       21    \n",
       "6 20       21    "
      ]
     },
     "metadata": {},
     "output_type": "display_data"
    }
   ],
   "source": [
    "head(dat)"
   ]
  },
  {
   "cell_type": "code",
   "execution_count": 19,
   "id": "2c39105c-a5db-456e-bc60-f9177a67cad3",
   "metadata": {},
   "outputs": [
    {
     "data": {
      "text/html": [
       "<style>\n",
       ".list-inline {list-style: none; margin:0; padding: 0}\n",
       ".list-inline>li {display: inline-block}\n",
       ".list-inline>li:not(:last-child)::after {content: \"\\00b7\"; padding: 0 .5ex}\n",
       "</style>\n",
       "<ol class=list-inline><li>'COUNTRY'</li><li>'YEAR'</li><li>'SAMPLE'</li><li>'SERIAL'</li><li>'HHWT'</li><li>'GEO3_ZA2016'</li><li>'ELECTRIC'</li><li>'WATSUP'</li><li>'SEWAGE'</li><li>'FUELCOOK'</li><li>'TOILET'</li></ol>\n"
      ],
      "text/latex": [
       "\\begin{enumerate*}\n",
       "\\item 'COUNTRY'\n",
       "\\item 'YEAR'\n",
       "\\item 'SAMPLE'\n",
       "\\item 'SERIAL'\n",
       "\\item 'HHWT'\n",
       "\\item 'GEO3\\_ZA2016'\n",
       "\\item 'ELECTRIC'\n",
       "\\item 'WATSUP'\n",
       "\\item 'SEWAGE'\n",
       "\\item 'FUELCOOK'\n",
       "\\item 'TOILET'\n",
       "\\end{enumerate*}\n"
      ],
      "text/markdown": [
       "1. 'COUNTRY'\n",
       "2. 'YEAR'\n",
       "3. 'SAMPLE'\n",
       "4. 'SERIAL'\n",
       "5. 'HHWT'\n",
       "6. 'GEO3_ZA2016'\n",
       "7. 'ELECTRIC'\n",
       "8. 'WATSUP'\n",
       "9. 'SEWAGE'\n",
       "10. 'FUELCOOK'\n",
       "11. 'TOILET'\n",
       "\n",
       "\n"
      ],
      "text/plain": [
       " [1] \"COUNTRY\"     \"YEAR\"        \"SAMPLE\"      \"SERIAL\"      \"HHWT\"       \n",
       " [6] \"GEO3_ZA2016\" \"ELECTRIC\"    \"WATSUP\"      \"SEWAGE\"      \"FUELCOOK\"   \n",
       "[11] \"TOILET\"     "
      ]
     },
     "metadata": {},
     "output_type": "display_data"
    }
   ],
   "source": [
    "colnames(dat)"
   ]
  },
  {
   "cell_type": "markdown",
   "id": "4caf5572-7b0d-4299-b589-a586485810e3",
   "metadata": {},
   "source": [
    "**Variable Selection**\n",
    "* South Africa, Local Municipality 2016 (Level 3 GIS) (GEO3_ZA2016)\n",
    "* Electricity (ELECTRIC)\n",
    "* Water Supply (WATSUP)\n",
    "* Sewage (SEWAGE)\n",
    "* Cooking Fuel (FUELCOOK)\n",
    "* Toilet (TOILET)\n",
    "\n",
    "**IPUMS Preselected Variables**\n",
    "* Country (COUNTRY)\n",
    "* Survey Year (YEAR)\n",
    "* IPUMS Sample Identifier (SAMPLE)\n",
    "* Household Serial Number (SERIAL)\n",
    "* Household Weight (HHWT)"
   ]
  },
  {
   "cell_type": "markdown",
   "id": "4af6d02b-fb23-4f6f-a4d0-7e47e313a1cc",
   "metadata": {},
   "source": [
    "### 3d. Save the Data\n",
    "\n",
    "Next let's save a couple versions of our IPUMS ACS data file.\n",
    "\n",
    "* A *.rds* version of the data.  The **R Data Serialization (RDS)** format will retain metadata for the next time we want to import the file back into R.  One downside to the .rds format is it is only useable within R.\n",
    "* A *.csv* version of the data.  The [**Comma-Separated Values (CSV)**](https://en.wikipedia.org/wiki/Comma-separated_values) format is versitile and can be easily accessed in other programs.  However, the CSV file format does not include metadata such as labels for variable levels."
   ]
  },
  {
   "cell_type": "code",
   "execution_count": null,
   "id": "8da7254e-28ee-474f-b3c0-995cde9e3a40",
   "metadata": {},
   "outputs": [],
   "source": [
    "saveRDS(dat, \"ipums_international_example.rds\")\n",
    "write.csv(dat, \"ipums_international_example.csv\")"
   ]
  },
  {
   "cell_type": "markdown",
   "id": "d5ef03ff-b161-4a58-9c5a-4b5914759960",
   "metadata": {},
   "source": [
    "## Recommended Next Steps\n",
    "* **Continue with Chapter 2: IPUMS Data Acquisition and Extraction**\n",
    "  * 2.1: IPUMS USA Data Extraction Using ipumsr\n",
    "  * 2.2: IPUMS CPS Data Extraction Using ipumsr\n",
    "  * 2.4: IPUMS NHGIS Data Extraction Using ipumsr\n",
    "  * 2.5: IPUMS Time Use Data Extraction Using ipumsr\n",
    "  * 2.6: IPUMS Health Surveys Data Extraction Using ipumsr\n",
    "  * 2.7: Reading IPUMS Global Health Data Extracts Using ipumsr\n",
    "  * 2.8: Reading IPUMS Higher Education Data Extracts Using ipumsr"
   ]
  },
  {
   "cell_type": "markdown",
   "id": "8dae34c5-09d9-4790-9275-055a684ab9a9",
   "metadata": {},
   "source": [
    "## Quick Code\n",
    "Don't forget to update the code with your IPUMS API key!"
   ]
  },
  {
   "cell_type": "raw",
   "id": "bef449b4-e814-49f2-b91a-77550f61f220",
   "metadata": {},
   "source": [
    "# install required packages\n",
    "# install.packages(\"ipumsr\")\n",
    "\n",
    "# load required libraries\n",
    "library(ipumsr)\n",
    "\n",
    "# set IPUMS API key\n",
    "ipums_api_key <- \"paste your api key here\"\n",
    "set_ipums_api_key(ipums_api_key, save = T, overwrite = T)\n",
    "\n",
    "# set up the data extract\n",
    "extraction <- define_extract_micro(description = \"IPUMS International Data Extraction\",\n",
    "                                   collection = \"cps\",\n",
    "                                   samples = c(\"za2016a\"),\n",
    "                                   variables = c(\"GEO3_ZA2016\", \"ELECTRIC\", \"WATSUP\", \"SEWAGE\", \"FUELCOOK\", \"TOILET\"))\n",
    "\n",
    "# submit extract request and download the files\n",
    "extraction_submitted <- submit_extract(extraction)                  # submit the extract  \n",
    "extraction_complete <- wait_for_extract(extraction_submitted)       # wait for completion\n",
    "extraction_complete$status                                          # check completion\n",
    "filepath <- download_extract(extraction_submitted, overwrite = T)   # get extract filepath\n",
    "\n",
    "# extract the files\n",
    "ddi <- read_ipums_ddi(filepath)\n",
    "dat <- read_ipums_micro(ddi)\n",
    "\n",
    "# save as RDS file\n",
    "saveRDS(dat, \"ipums_international_example.rds\", )\n",
    "\n",
    "# save as a csv file\n",
    "write.csv(dat, \"ipums_international_example.csv\")"
   ]
  }
 ],
 "metadata": {
  "kernelspec": {
   "display_name": "R",
   "language": "R",
   "name": "ir"
  },
  "language_info": {
   "codemirror_mode": "r",
   "file_extension": ".r",
   "mimetype": "text/x-r-source",
   "name": "R",
   "pygments_lexer": "r",
   "version": "4.3.3"
  }
 },
 "nbformat": 4,
 "nbformat_minor": 5
}
