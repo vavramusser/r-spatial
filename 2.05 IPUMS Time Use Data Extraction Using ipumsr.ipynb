{
 "cells": [
  {
   "cell_type": "markdown",
   "id": "5c578a64-4d4a-4721-958c-800506510b16",
   "metadata": {},
   "source": [
    "# IPUMS Time Use Data Extraction Using ipumsr"
   ]
  },
  {
   "cell_type": "markdown",
   "id": "dda02f5e-fa65-4398-b630-c51d09cea26d",
   "metadata": {},
   "source": [
    "## Introduction\n",
    "The [IPUMS Time Use](https://timeuse.ipums.org) database offers harmonized microdata from the [American Time Use Survey (ATUS)](https://www.bls.gov/tus) and international time use surveys, providing insights into how individuals allocate their time across various activities. It includes detailed records on work, caregiving, leisure, and daily routines, enabling analysis of time-use patterns and trends across different populations and time periods. Through harmonization, IPUMS Time Use ensures data can be seamlessly compared across survey years and countries, addressing differences in activity coding, survey methodologies, and geographic contexts.\n",
    "\n",
    "**From the [IPUMS Time Use Website](https://timeuse.ipums.org):** These projects provide free individual-level time use data for research purposes. The data extract systems make it easy to create data sets containing time use and other variables a user needs.\n",
    "\n",
    "The IPUMS Time Use database is organized into the following three subsections:\n",
    "\n",
    "* [American Time Use Survey (ATUS)](https://www.atusdata.org/atus): Annual American Time Use Survey (ATUS) data from 2003 forward.\n",
    "* [American Heritage Time Use Study (AHTUS)](https://www.ahtusdata.org/ahtus): Historical American time use data since 1930 harmonized for comparison over time, including the ATUS samples.\n",
    "* [Multinational Time Use Study (MTUS)](https://www.mtusdata.org/mtus): MTUS is a project dedicated to making it easy for researchers to use data from around the world.\n",
    "\n",
    "This notebook introduces the process of extracting [IPUMS Time Use](https://timeuse.ipums.org) data using the [IPUMS API](https://developer.ipums.org/docs/v2/apiprogram) via the [ipumsr R package](https://cran.r-project.org/web/packages/ipumsr/index.html). Users will learn how to define, submit, and download an IPUMS Time Use data extract, specifying desired variables, time periods, and geographic units for analysis. By the end of this notebook, users will have the skills to efficiently acquire customized IPUMS Time Use datasets and prepare them for spatial and statistical workflows.\n",
    "\n",
    "### ★ Prerequisites ★\n",
    "* Complete Chapter 1.1: Introduction to IPUMS and the IPUMS API\n",
    "* Set Up Your [IPUMS Account and API Key](https://account.ipums.org/api_keys)\n",
    "\n",
    "### Notebook Overview\n",
    "1. Setup\n",
    "2. IPUMS American Time Use Survey (ATUS) Metadata Exploration\n",
    "3. IPUMS American Time Use Survey (ATUS) Data Extraction Specification and Submission\n",
    "4. IPUMS American Heritage Time Use Study (AHTUS) Metadata Exploration\n",
    "5. IPUMS American Heritage Time Use Study (AHTUS) Data Extraction Specification and Submission\n",
    "6. IPUMS Multinational Time Use Study (MTUS) Metadata Exploration\n",
    "7. IPUMS Multinational Time Use Study (MTUS) Data Extraction Specification and Submission"
   ]
  },
  {
   "cell_type": "markdown",
   "id": "b23a46f0-029a-4bbd-8cf8-7d0cba4a6fdd",
   "metadata": {},
   "source": [
    "## 1. Setup\n",
    "This section will guide you through the process of installing essential packages and setting your IPUMS API key.\n",
    "\n",
    "#### Required Packages\n",
    "\n",
    "[**dplyr**](https://cran.r-project.org/web/packages/dplyr/index.html) A Grammar of Data Manipulation. This notebook uses the the following function from *dplyr*.\n",
    "\n",
    "* [*filter*](https://rdrr.io/cran/dplyr/man/filter.html) · keep rows that match a condition\n",
    "* This notebook also uses [*%>%*](https://magrittr.tidyverse.org/reference/pipe.html), referred to as the *pipe* operator, which is used to pass the output from one function directly into the next function for the purpose of creating streamlined workflows.  The *pipe* operator is a commonly used component of the [*tidyverse*](https://www.tidyverse.org).\n",
    "\n",
    "[**ipumsr**](https://cran.r-project.org/web/packages/ipumsr/index.html) An R Interface for Downloading, Reading, and Handling IPUMS Data.  This notebook uses the the following functions from *ipumsr*.\n",
    "\n",
    "* [*define_extract_micro*](https://rdrr.io/github/mnpopcenter/ripums/man/define_extract_micro.html) · define an extract request for an IPUMS microdata collection\n",
    "* [*download_extract*](https://rdrr.io/cran/ipumsr/man/download_extract.html) · download a completed IPUMS data extract\n",
    "* [*get_sample_info*](https://rdrr.io/cran/ipumsr/man/get_sample_info.html) · list available samples for IPUMS microdata collections\n",
    "* [*read_ipums_ddi*](https://rdrr.io/cran/ipumsr/man/read_ipums_ddi.html) · read metadata about an IPUMS microdata extract from a DDI codebook (.xml) file\n",
    "* [*read_ipums_micro*](https://rdrr.io/cran/ipumsr/man/read_ipums_micro.html) · read data from an IPUMS microdata extract\n",
    "* [*set_ipums_api_key*](https://rdrr.io/cran/ipumsr/man/set_ipums_api_key.html) · set your IPUMS API key\n",
    "* [*submit_extract*](https://rdrr.io/cran/ipumsr/man/submit_extract.html) · submit an extract request via the IPUMS API\n",
    "* [*wait_for_extract*](https://rdrr.io/cran/ipumsr/man/wait_for_extract.html) · wait for an extract to finish processing\n",
    "\n",
    "[**stringr**](https://cran.r-project.org/web/packages/stringr/index.html) Simple, Consistent Wrappers for Common String Operations.  This notebook uses the following function from *stringr*.\n",
    "\n",
    "* [*str_detect*](https://stringr.tidyverse.org/reference/str_detect.html) · detect the presence or absence of a match"
   ]
  },
  {
   "cell_type": "markdown",
   "id": "a5498790-2a32-45c2-b6ac-35d91303f0a7",
   "metadata": {},
   "source": [
    "### 1a. Install and Load Required Packages\n",
    "If you have not already installed the required packages, uncomment and run the code below:"
   ]
  },
  {
   "cell_type": "code",
   "execution_count": null,
   "id": "f5747b7c-3c50-4699-91c8-d880f9cf9d0b",
   "metadata": {},
   "outputs": [],
   "source": [
    "# install.packages(c(\"dplyr\", \"ipumsr\", \"stringr\"))"
   ]
  },
  {
   "cell_type": "markdown",
   "id": "40e0549b-289f-4185-b230-e5cc9e4d2331",
   "metadata": {},
   "source": [
    "Load the packages into your workspace."
   ]
  },
  {
   "cell_type": "code",
   "execution_count": 1,
   "id": "53481a5d-b6e8-4250-a702-899c13ee1fe1",
   "metadata": {},
   "outputs": [
    {
     "name": "stderr",
     "output_type": "stream",
     "text": [
      "\n",
      "Attaching package: 'dplyr'\n",
      "\n",
      "\n",
      "The following objects are masked from 'package:stats':\n",
      "\n",
      "    filter, lag\n",
      "\n",
      "\n",
      "The following objects are masked from 'package:base':\n",
      "\n",
      "    intersect, setdiff, setequal, union\n",
      "\n",
      "\n"
     ]
    }
   ],
   "source": [
    "library(dplyr)\n",
    "library(ipumsr)\n",
    "library(stringr)"
   ]
  },
  {
   "cell_type": "markdown",
   "id": "4f7dff7f-4159-4a23-9194-f19d2049f268",
   "metadata": {},
   "source": [
    "#### 1b. Set Your IPUMS API Key\n",
    "\n",
    "Store your [IPUMS API key](https://account.ipums.org/api_keys) in your environment using the following code.\n",
    "\n",
    "Refer to *Chapter 1.1: Introduction to IPUMS and the IPUMS API* for instructions on setting up your IPUMS account and API key."
   ]
  },
  {
   "cell_type": "code",
   "execution_count": 2,
   "id": "97c5dcb1-c963-4f97-8e70-029c7a032123",
   "metadata": {},
   "outputs": [
    {
     "name": "stdin",
     "output_type": "stream",
     "text": [
      "Please enter your IPUMS API key:  59cba10d8a5da536fc06b59dd85f877c475a4c7d96dd08a9ce04d9d0\n"
     ]
    },
    {
     "name": "stderr",
     "output_type": "stream",
     "text": [
      "Existing .Renviron file copied to C:\\Users\\vavra\\Documents/.Renviron_backup for backup purposes.\n",
      "\n",
      "The environment variable IPUMS_API_KEY has been set and saved for future sessions.\n",
      "\n"
     ]
    }
   ],
   "source": [
    "ipumps_api_key = readline(\"Please enter your IPUMS API key: \")\n",
    "set_ipums_api_key(ipumps_api_key, save = T, overwrite = T)"
   ]
  },
  {
   "cell_type": "markdown",
   "id": "d506445d-dddb-4c93-9bec-30b9fd20aabb",
   "metadata": {},
   "source": [
    "## 2. IPUMS American Time Use Survey (ATUS) Metadata Exploration\n",
    "\n",
    "From the [**IPUMS American Time Use Survey (ATUS) Webpage**](https://www.atusdata.org/atus): The ATUS is a nationally representative U.S. time diary survey for period since 2003. IPUMS Time Use harmonizes these data and provides a data extract builder that allows users to create custom time use variables and data extracts for analysis. ATUS-X is a collaboration of the IPUMS Center for Data Integration and the Maryland Population Research Center.\n",
    "\n",
    "### 2a. Review the List of Samples"
   ]
  },
  {
   "cell_type": "code",
   "execution_count": 4,
   "id": "574060d1-16a7-43f0-a4f7-e8b5b177b5d4",
   "metadata": {},
   "outputs": [
    {
     "data": {
      "text/html": [
       "<table class=\"dataframe\">\n",
       "<caption>A tibble: 21 × 2</caption>\n",
       "<thead>\n",
       "\t<tr><th scope=col>name</th><th scope=col>description</th></tr>\n",
       "\t<tr><th scope=col>&lt;chr&gt;</th><th scope=col>&lt;chr&gt;</th></tr>\n",
       "</thead>\n",
       "<tbody>\n",
       "\t<tr><td>at2003</td><td>ATUS 2003</td></tr>\n",
       "\t<tr><td>at2004</td><td>ATUS 2004</td></tr>\n",
       "\t<tr><td>at2005</td><td>ATUS 2005</td></tr>\n",
       "\t<tr><td>at2006</td><td>ATUS 2006</td></tr>\n",
       "\t<tr><td>at2007</td><td>ATUS 2007</td></tr>\n",
       "\t<tr><td>at2008</td><td>ATUS 2008</td></tr>\n",
       "\t<tr><td>at2009</td><td>ATUS 2009</td></tr>\n",
       "\t<tr><td>at2010</td><td>ATUS 2010</td></tr>\n",
       "\t<tr><td>at2011</td><td>ATUS 2011</td></tr>\n",
       "\t<tr><td>at2012</td><td>ATUS 2012</td></tr>\n",
       "\t<tr><td>at2013</td><td>ATUS 2013</td></tr>\n",
       "\t<tr><td>at2014</td><td>ATUS 2014</td></tr>\n",
       "\t<tr><td>at2015</td><td>ATUS 2015</td></tr>\n",
       "\t<tr><td>at2016</td><td>ATUS 2016</td></tr>\n",
       "\t<tr><td>at2017</td><td>ATUS 2017</td></tr>\n",
       "\t<tr><td>at2018</td><td>ATUS 2018</td></tr>\n",
       "\t<tr><td>at2019</td><td>ATUS 2019</td></tr>\n",
       "\t<tr><td>at2020</td><td>ATUS 2020</td></tr>\n",
       "\t<tr><td>at2021</td><td>ATUS 2021</td></tr>\n",
       "\t<tr><td>at2022</td><td>ATUS 2022</td></tr>\n",
       "\t<tr><td>at2023</td><td>ATUS 2023</td></tr>\n",
       "</tbody>\n",
       "</table>\n"
      ],
      "text/latex": [
       "A tibble: 21 × 2\n",
       "\\begin{tabular}{ll}\n",
       " name & description\\\\\n",
       " <chr> & <chr>\\\\\n",
       "\\hline\n",
       "\t at2003 & ATUS 2003\\\\\n",
       "\t at2004 & ATUS 2004\\\\\n",
       "\t at2005 & ATUS 2005\\\\\n",
       "\t at2006 & ATUS 2006\\\\\n",
       "\t at2007 & ATUS 2007\\\\\n",
       "\t at2008 & ATUS 2008\\\\\n",
       "\t at2009 & ATUS 2009\\\\\n",
       "\t at2010 & ATUS 2010\\\\\n",
       "\t at2011 & ATUS 2011\\\\\n",
       "\t at2012 & ATUS 2012\\\\\n",
       "\t at2013 & ATUS 2013\\\\\n",
       "\t at2014 & ATUS 2014\\\\\n",
       "\t at2015 & ATUS 2015\\\\\n",
       "\t at2016 & ATUS 2016\\\\\n",
       "\t at2017 & ATUS 2017\\\\\n",
       "\t at2018 & ATUS 2018\\\\\n",
       "\t at2019 & ATUS 2019\\\\\n",
       "\t at2020 & ATUS 2020\\\\\n",
       "\t at2021 & ATUS 2021\\\\\n",
       "\t at2022 & ATUS 2022\\\\\n",
       "\t at2023 & ATUS 2023\\\\\n",
       "\\end{tabular}\n"
      ],
      "text/markdown": [
       "\n",
       "A tibble: 21 × 2\n",
       "\n",
       "| name &lt;chr&gt; | description &lt;chr&gt; |\n",
       "|---|---|\n",
       "| at2003 | ATUS 2003 |\n",
       "| at2004 | ATUS 2004 |\n",
       "| at2005 | ATUS 2005 |\n",
       "| at2006 | ATUS 2006 |\n",
       "| at2007 | ATUS 2007 |\n",
       "| at2008 | ATUS 2008 |\n",
       "| at2009 | ATUS 2009 |\n",
       "| at2010 | ATUS 2010 |\n",
       "| at2011 | ATUS 2011 |\n",
       "| at2012 | ATUS 2012 |\n",
       "| at2013 | ATUS 2013 |\n",
       "| at2014 | ATUS 2014 |\n",
       "| at2015 | ATUS 2015 |\n",
       "| at2016 | ATUS 2016 |\n",
       "| at2017 | ATUS 2017 |\n",
       "| at2018 | ATUS 2018 |\n",
       "| at2019 | ATUS 2019 |\n",
       "| at2020 | ATUS 2020 |\n",
       "| at2021 | ATUS 2021 |\n",
       "| at2022 | ATUS 2022 |\n",
       "| at2023 | ATUS 2023 |\n",
       "\n"
      ],
      "text/plain": [
       "   name   description\n",
       "1  at2003 ATUS 2003  \n",
       "2  at2004 ATUS 2004  \n",
       "3  at2005 ATUS 2005  \n",
       "4  at2006 ATUS 2006  \n",
       "5  at2007 ATUS 2007  \n",
       "6  at2008 ATUS 2008  \n",
       "7  at2009 ATUS 2009  \n",
       "8  at2010 ATUS 2010  \n",
       "9  at2011 ATUS 2011  \n",
       "10 at2012 ATUS 2012  \n",
       "11 at2013 ATUS 2013  \n",
       "12 at2014 ATUS 2014  \n",
       "13 at2015 ATUS 2015  \n",
       "14 at2016 ATUS 2016  \n",
       "15 at2017 ATUS 2017  \n",
       "16 at2018 ATUS 2018  \n",
       "17 at2019 ATUS 2019  \n",
       "18 at2020 ATUS 2020  \n",
       "19 at2021 ATUS 2021  \n",
       "20 at2022 ATUS 2022  \n",
       "21 at2023 ATUS 2023  "
      ]
     },
     "metadata": {},
     "output_type": "display_data"
    }
   ],
   "source": [
    "# retrive and view the list of samples from the IPUMS USA database\n",
    "metadata_atus <- get_sample_info(\"atus\")\n",
    "\n",
    "# view the list of samples\n",
    "metadata_atus"
   ]
  },
  {
   "cell_type": "markdown",
   "id": "dd4dc1fa-6959-4392-9f56-a78f84cecb65",
   "metadata": {},
   "source": [
    "## 3. IPUMS American Time Use Survey (ATUS) Data Extraction Specification and Submission\n",
    "\n",
    "Once we know the dataset and variable selection we want, we can define our data extraction using the *define_extract_micro* function from the *ipumsr* package.  This function requires the following parameters:\n",
    "\n",
    "### 3a. Define the Data Extract\n",
    "\n",
    "For this example we will use the 2020 ATUS sample.\n",
    "\n",
    "**Variable Selection**\n",
    "* County (FIPS Code) (COUNTY)\n",
    "* Age (AGE)\n",
    "* Sex (SEX)\n",
    "* Hours Usually Worked per Week (UHRSWORKT)\n",
    "* Total Time Spent on Secondary Childcare for All Children (SCC_ALL)\n",
    "* Eldercare Provided in Last 3 Months (ECPRIOR)\n",
    "\n",
    "By default, the data extraction will also include a number of IPUMS preselected variables.  These variables include metainformation such as identification codes and survey weights.  We will explore and list the preselected variables after completing the data extraction.\n",
    "\n",
    "* **collection** Code for the IPUMS collection represented by this extract request.  In our case we are downloading from IPUMS USA so we use the code \"usa\".\n",
    "* **description** Text description of the extract.\n",
    "* **samples** Vector of samples to include in the extract request.  In our case we are downloading the 2010 ACS data (us2010a).\n",
    "* **variables** Vector of variable names or a list of detailed variable specifications to include in the extract request."
   ]
  },
  {
   "cell_type": "code",
   "execution_count": 8,
   "id": "ff289878-0c08-45a0-837b-bbacb4ac7f30",
   "metadata": {},
   "outputs": [],
   "source": [
    "# set up the data extraction definition\n",
    "extract_definition <- define_extract_micro(collection = \"atus\",\n",
    "                                           description = \"IPUMS ATUS Data Extraction\",\n",
    "                                           samples = c(\"at2020\"),\n",
    "                                           variables = c(\"COUNTY\", \"AGE\", \"SEX\", \"UHRSWORKT\", \"SCC_ALL\", \"ECPRIOR\"))"
   ]
  },
  {
   "cell_type": "code",
   "execution_count": 9,
   "id": "b6194107-6211-4005-9783-0490a928cacf",
   "metadata": {},
   "outputs": [
    {
     "data": {
      "text/html": [
       "<dl>\n",
       "\t<dt>$collection</dt>\n",
       "\t\t<dd>'atus'</dd>\n",
       "\t<dt>$description</dt>\n",
       "\t\t<dd>'IPUMS ATUS Data Extraction'</dd>\n",
       "\t<dt>$samples</dt>\n",
       "\t\t<dd><strong>$at2020</strong> = <strong>$name</strong> = 'at2020'</dd>\n",
       "\t<dt>$variables</dt>\n",
       "\t\t<dd><dl>\n",
       "\t<dt>$COUNTY</dt>\n",
       "\t\t<dd><strong>$name</strong> = 'COUNTY'</dd>\n",
       "\t<dt>$AGE</dt>\n",
       "\t\t<dd><strong>$name</strong> = 'AGE'</dd>\n",
       "\t<dt>$SEX</dt>\n",
       "\t\t<dd><strong>$name</strong> = 'SEX'</dd>\n",
       "\t<dt>$UHRSWORKT</dt>\n",
       "\t\t<dd><strong>$name</strong> = 'UHRSWORKT'</dd>\n",
       "\t<dt>$SCC_ALL</dt>\n",
       "\t\t<dd><strong>$name</strong> = 'SCC_ALL'</dd>\n",
       "\t<dt>$ECPRIOR</dt>\n",
       "\t\t<dd><strong>$name</strong> = 'ECPRIOR'</dd>\n",
       "</dl>\n",
       "</dd>\n",
       "\t<dt>$time_use_variables</dt>\n",
       "\t\t<dd>NULL</dd>\n",
       "\t<dt>$sample_members</dt>\n",
       "\t\t<dd>NULL</dd>\n",
       "\t<dt>$data_format</dt>\n",
       "\t\t<dd>'fixed_width'</dd>\n",
       "\t<dt>$data_structure</dt>\n",
       "\t\t<dd>'rectangular'</dd>\n",
       "\t<dt>$rectangular_on</dt>\n",
       "\t\t<dd>'P'</dd>\n",
       "\t<dt>$case_select_who</dt>\n",
       "\t\t<dd>'individuals'</dd>\n",
       "\t<dt>$data_quality_flags</dt>\n",
       "\t\t<dd>NULL</dd>\n",
       "\t<dt>$submitted</dt>\n",
       "\t\t<dd>FALSE</dd>\n",
       "\t<dt>$download_links</dt>\n",
       "\t\t<dd><dl>\n",
       "</dl>\n",
       "</dd>\n",
       "\t<dt>$number</dt>\n",
       "\t\t<dd>&lt;NA&gt;</dd>\n",
       "\t<dt>$status</dt>\n",
       "\t\t<dd>'unsubmitted'</dd>\n",
       "</dl>\n"
      ],
      "text/latex": [
       "\\begin{description}\n",
       "\\item[\\$collection] 'atus'\n",
       "\\item[\\$description] 'IPUMS ATUS Data Extraction'\n",
       "\\item[\\$samples] \\textbf{\\$at2020} = \\textbf{\\$name} = 'at2020'\n",
       "\\item[\\$variables] \\begin{description}\n",
       "\\item[\\$COUNTY] \\textbf{\\$name} = 'COUNTY'\n",
       "\\item[\\$AGE] \\textbf{\\$name} = 'AGE'\n",
       "\\item[\\$SEX] \\textbf{\\$name} = 'SEX'\n",
       "\\item[\\$UHRSWORKT] \\textbf{\\$name} = 'UHRSWORKT'\n",
       "\\item[\\$SCC\\_ALL] \\textbf{\\$name} = 'SCC\\_ALL'\n",
       "\\item[\\$ECPRIOR] \\textbf{\\$name} = 'ECPRIOR'\n",
       "\\end{description}\n",
       "\n",
       "\\item[\\$time\\_use\\_variables] NULL\n",
       "\\item[\\$sample\\_members] NULL\n",
       "\\item[\\$data\\_format] 'fixed\\_width'\n",
       "\\item[\\$data\\_structure] 'rectangular'\n",
       "\\item[\\$rectangular\\_on] 'P'\n",
       "\\item[\\$case\\_select\\_who] 'individuals'\n",
       "\\item[\\$data\\_quality\\_flags] NULL\n",
       "\\item[\\$submitted] FALSE\n",
       "\\item[\\$download\\_links] \\begin{description}\n",
       "\\end{description}\n",
       "\n",
       "\\item[\\$number] <NA>\n",
       "\\item[\\$status] 'unsubmitted'\n",
       "\\end{description}\n"
      ],
      "text/markdown": [
       "$collection\n",
       ":   'atus'\n",
       "$description\n",
       ":   'IPUMS ATUS Data Extraction'\n",
       "$samples\n",
       ":   **$at2020** = **$name** = 'at2020'\n",
       "$variables\n",
       ":   $COUNTY\n",
       ":   **$name** = 'COUNTY'\n",
       "$AGE\n",
       ":   **$name** = 'AGE'\n",
       "$SEX\n",
       ":   **$name** = 'SEX'\n",
       "$UHRSWORKT\n",
       ":   **$name** = 'UHRSWORKT'\n",
       "$SCC_ALL\n",
       ":   **$name** = 'SCC_ALL'\n",
       "$ECPRIOR\n",
       ":   **$name** = 'ECPRIOR'\n",
       "\n",
       "\n",
       "\n",
       "$time_use_variables\n",
       ":   NULL\n",
       "$sample_members\n",
       ":   NULL\n",
       "$data_format\n",
       ":   'fixed_width'\n",
       "$data_structure\n",
       ":   'rectangular'\n",
       "$rectangular_on\n",
       ":   'P'\n",
       "$case_select_who\n",
       ":   'individuals'\n",
       "$data_quality_flags\n",
       ":   NULL\n",
       "$submitted\n",
       ":   FALSE\n",
       "$download_links\n",
       ":   \n",
       "\n",
       "\n",
       "$number\n",
       ":   &lt;NA&gt;\n",
       "$status\n",
       ":   'unsubmitted'\n",
       "\n",
       "\n"
      ],
      "text/plain": [
       "Unsubmitted IPUMS ATUS extract \n",
       "Description: IPUMS ATUS Data Extraction\n",
       "\n",
       "\u001b[1mSamples: \u001b[22m(1 total) at2020\n",
       "\u001b[1mVariables: \u001b[22m(6 total) COUNTY, AGE, SEX, UHRSWORKT, SCC_ALL, ECPRIOR"
      ]
     },
     "metadata": {},
     "output_type": "display_data"
    }
   ],
   "source": [
    "# review the extraction definition\n",
    "extract_definition"
   ]
  },
  {
   "cell_type": "markdown",
   "id": "bc1d80ad-f3fa-4ed1-9ecc-f3629a7fb503",
   "metadata": {},
   "source": [
    "### 3b. Submit the Extract Request"
   ]
  },
  {
   "cell_type": "code",
   "execution_count": 10,
   "id": "a20a4fec-5fdc-48fc-9bd2-4c130f874c07",
   "metadata": {},
   "outputs": [
    {
     "name": "stderr",
     "output_type": "stream",
     "text": [
      "Successfully submitted IPUMS ATUS extract number 1\n",
      "\n",
      "Checking extract status...\n",
      "\n",
      "Waiting 10 seconds...\n",
      "\n",
      "Checking extract status...\n",
      "\n",
      "Waiting 20 seconds...\n",
      "\n",
      "Checking extract status...\n",
      "\n",
      "IPUMS ATUS extract 1 is ready to download.\n",
      "\n"
     ]
    },
    {
     "data": {
      "text/html": [
       "'completed'"
      ],
      "text/latex": [
       "'completed'"
      ],
      "text/markdown": [
       "'completed'"
      ],
      "text/plain": [
       "[1] \"completed\""
      ]
     },
     "metadata": {},
     "output_type": "display_data"
    },
    {
     "name": "stdout",
     "output_type": "stream",
     "text": [
      "\n",
      "\n",
      " |======================================================================| 100%"
     ]
    },
    {
     "name": "stderr",
     "output_type": "stream",
     "text": [
      "DDI codebook file saved to C:/Users/vavra/Dropbox/R Spatial/r-spatial/atus_00001.xml\n",
      "Data file saved to C:/Users/vavra/Dropbox/R Spatial/r-spatial/atus_00001.dat.gz\n",
      "\n"
     ]
    }
   ],
   "source": [
    "# submit extraction request\n",
    "extract_submitted <- submit_extract(extract_definition)\n",
    "\n",
    "# wait for completion\n",
    "extraction_complete <- wait_for_extract(extract_submitted)\n",
    "\n",
    "# check completion status\n",
    "extraction_complete$status\n",
    "\n",
    "# get the extract filepath\n",
    "filepath <- download_extract(extract_submitted, overwrite = T)"
   ]
  },
  {
   "cell_type": "markdown",
   "id": "f808885c-1f7c-40f5-b8bd-aa542ce691a3",
   "metadata": {},
   "source": [
    "### 3c. Review the Extract\n",
    "\n",
    "The data extract download will contain the following two files.\n",
    "\n",
    "1. A [DDI (Data Documentation Initiative)](https://ddialliance.org) codebook file (file extension .xml) containing metadata and descriptive information for you data.\n",
    "2. A zipped data (.dat) file (file extension .dat.gz) containing your data.\n",
    "\n",
    "Read the ddi and data files into a format which we can work with in R."
   ]
  },
  {
   "cell_type": "code",
   "execution_count": 11,
   "id": "916dc63c-46af-473f-83d7-c1c9f9a9e1da",
   "metadata": {},
   "outputs": [
    {
     "name": "stderr",
     "output_type": "stream",
     "text": [
      "Use of data from IPUMS ATUS is subject to conditions including that users should cite the data appropriately. Use command `ipums_conditions()` for more details.\n",
      "\n"
     ]
    }
   ],
   "source": [
    "ddi <- read_ipums_ddi(filepath)\n",
    "dat <- read_ipums_micro(ddi)"
   ]
  },
  {
   "cell_type": "code",
   "execution_count": 12,
   "id": "e2427b5a-e4a0-4a61-9c1d-a11529574a00",
   "metadata": {},
   "outputs": [
    {
     "data": {
      "text/html": [
       "<style>\n",
       ".list-inline {list-style: none; margin:0; padding: 0}\n",
       ".list-inline>li {display: inline-block}\n",
       ".list-inline>li:not(:last-child)::after {content: \"\\00b7\"; padding: 0 .5ex}\n",
       "</style>\n",
       "<ol class=list-inline><li>8782</li><li>12</li></ol>\n"
      ],
      "text/latex": [
       "\\begin{enumerate*}\n",
       "\\item 8782\n",
       "\\item 12\n",
       "\\end{enumerate*}\n"
      ],
      "text/markdown": [
       "1. 8782\n",
       "2. 12\n",
       "\n",
       "\n"
      ],
      "text/plain": [
       "[1] 8782   12"
      ]
     },
     "metadata": {},
     "output_type": "display_data"
    }
   ],
   "source": [
    "dim(dat)"
   ]
  },
  {
   "cell_type": "code",
   "execution_count": 13,
   "id": "aad2fc99-3060-4e9f-8a22-0bb12b953b52",
   "metadata": {},
   "outputs": [
    {
     "data": {
      "text/html": [
       "<table class=\"dataframe\">\n",
       "<caption>A tibble: 6 × 12</caption>\n",
       "<thead>\n",
       "\t<tr><th scope=col>YEAR</th><th scope=col>CASEID</th><th scope=col>SERIAL</th><th scope=col>COUNTY</th><th scope=col>PERNUM</th><th scope=col>LINENO</th><th scope=col>WT20</th><th scope=col>AGE</th><th scope=col>SEX</th><th scope=col>UHRSWORKT</th><th scope=col>SCC_ALL</th><th scope=col>ECPRIOR</th></tr>\n",
       "\t<tr><th scope=col>&lt;dbl&gt;</th><th scope=col>&lt;dbl&gt;</th><th scope=col>&lt;dbl&gt;</th><th scope=col>&lt;dbl&gt;</th><th scope=col>&lt;int&gt;</th><th scope=col>&lt;int+lbl&gt;</th><th scope=col>&lt;dbl&gt;</th><th scope=col>&lt;dbl+lbl&gt;</th><th scope=col>&lt;int+lbl&gt;</th><th scope=col>&lt;dbl+lbl&gt;</th><th scope=col>&lt;dbl&gt;</th><th scope=col>&lt;int+lbl&gt;</th></tr>\n",
       "</thead>\n",
       "<tbody>\n",
       "\t<tr><td>2020</td><td>2.02001e+13</td><td>1</td><td> 8031</td><td>1</td><td>1</td><td> 5541150</td><td>85</td><td>1</td><td>9999</td><td> 0</td><td>0</td></tr>\n",
       "\t<tr><td>2020</td><td>2.02001e+13</td><td>2</td><td>21067</td><td>1</td><td>1</td><td>23480415</td><td>43</td><td>1</td><td>  40</td><td>65</td><td>1</td></tr>\n",
       "\t<tr><td>2020</td><td>2.02001e+13</td><td>3</td><td>39095</td><td>1</td><td>1</td><td>10433371</td><td>23</td><td>2</td><td>  30</td><td> 0</td><td>0</td></tr>\n",
       "\t<tr><td>2020</td><td>2.02001e+13</td><td>4</td><td> 6067</td><td>1</td><td>1</td><td> 8671349</td><td>18</td><td>1</td><td>9999</td><td> 0</td><td>0</td></tr>\n",
       "\t<tr><td>2020</td><td>2.02001e+13</td><td>5</td><td>48000</td><td>1</td><td>1</td><td>45141377</td><td>20</td><td>1</td><td>  17</td><td> 0</td><td>0</td></tr>\n",
       "\t<tr><td>2020</td><td>2.02001e+13</td><td>6</td><td>41000</td><td>1</td><td>1</td><td>36015633</td><td>27</td><td>2</td><td>  40</td><td> 0</td><td>0</td></tr>\n",
       "</tbody>\n",
       "</table>\n"
      ],
      "text/latex": [
       "A tibble: 6 × 12\n",
       "\\begin{tabular}{llllllllllll}\n",
       " YEAR & CASEID & SERIAL & COUNTY & PERNUM & LINENO & WT20 & AGE & SEX & UHRSWORKT & SCC\\_ALL & ECPRIOR\\\\\n",
       " <dbl> & <dbl> & <dbl> & <dbl> & <int> & <int+lbl> & <dbl> & <dbl+lbl> & <int+lbl> & <dbl+lbl> & <dbl> & <int+lbl>\\\\\n",
       "\\hline\n",
       "\t 2020 & 2.02001e+13 & 1 &  8031 & 1 & 1 &  5541150 & 85 & 1 & 9999 &  0 & 0\\\\\n",
       "\t 2020 & 2.02001e+13 & 2 & 21067 & 1 & 1 & 23480415 & 43 & 1 &   40 & 65 & 1\\\\\n",
       "\t 2020 & 2.02001e+13 & 3 & 39095 & 1 & 1 & 10433371 & 23 & 2 &   30 &  0 & 0\\\\\n",
       "\t 2020 & 2.02001e+13 & 4 &  6067 & 1 & 1 &  8671349 & 18 & 1 & 9999 &  0 & 0\\\\\n",
       "\t 2020 & 2.02001e+13 & 5 & 48000 & 1 & 1 & 45141377 & 20 & 1 &   17 &  0 & 0\\\\\n",
       "\t 2020 & 2.02001e+13 & 6 & 41000 & 1 & 1 & 36015633 & 27 & 2 &   40 &  0 & 0\\\\\n",
       "\\end{tabular}\n"
      ],
      "text/markdown": [
       "\n",
       "A tibble: 6 × 12\n",
       "\n",
       "| YEAR &lt;dbl&gt; | CASEID &lt;dbl&gt; | SERIAL &lt;dbl&gt; | COUNTY &lt;dbl&gt; | PERNUM &lt;int&gt; | LINENO &lt;int+lbl&gt; | WT20 &lt;dbl&gt; | AGE &lt;dbl+lbl&gt; | SEX &lt;int+lbl&gt; | UHRSWORKT &lt;dbl+lbl&gt; | SCC_ALL &lt;dbl&gt; | ECPRIOR &lt;int+lbl&gt; |\n",
       "|---|---|---|---|---|---|---|---|---|---|---|---|\n",
       "| 2020 | 2.02001e+13 | 1 |  8031 | 1 | 1 |  5541150 | 85 | 1 | 9999 |  0 | 0 |\n",
       "| 2020 | 2.02001e+13 | 2 | 21067 | 1 | 1 | 23480415 | 43 | 1 |   40 | 65 | 1 |\n",
       "| 2020 | 2.02001e+13 | 3 | 39095 | 1 | 1 | 10433371 | 23 | 2 |   30 |  0 | 0 |\n",
       "| 2020 | 2.02001e+13 | 4 |  6067 | 1 | 1 |  8671349 | 18 | 1 | 9999 |  0 | 0 |\n",
       "| 2020 | 2.02001e+13 | 5 | 48000 | 1 | 1 | 45141377 | 20 | 1 |   17 |  0 | 0 |\n",
       "| 2020 | 2.02001e+13 | 6 | 41000 | 1 | 1 | 36015633 | 27 | 2 |   40 |  0 | 0 |\n",
       "\n"
      ],
      "text/plain": [
       "  YEAR CASEID      SERIAL COUNTY PERNUM LINENO WT20     AGE SEX UHRSWORKT\n",
       "1 2020 2.02001e+13 1       8031  1      1       5541150 85  1   9999     \n",
       "2 2020 2.02001e+13 2      21067  1      1      23480415 43  1     40     \n",
       "3 2020 2.02001e+13 3      39095  1      1      10433371 23  2     30     \n",
       "4 2020 2.02001e+13 4       6067  1      1       8671349 18  1   9999     \n",
       "5 2020 2.02001e+13 5      48000  1      1      45141377 20  1     17     \n",
       "6 2020 2.02001e+13 6      41000  1      1      36015633 27  2     40     \n",
       "  SCC_ALL ECPRIOR\n",
       "1  0      0      \n",
       "2 65      1      \n",
       "3  0      0      \n",
       "4  0      0      \n",
       "5  0      0      \n",
       "6  0      0      "
      ]
     },
     "metadata": {},
     "output_type": "display_data"
    }
   ],
   "source": [
    "head(dat)"
   ]
  },
  {
   "cell_type": "code",
   "execution_count": 14,
   "id": "39a0cd89-2084-4678-8212-5b833034c0de",
   "metadata": {},
   "outputs": [
    {
     "data": {
      "text/html": [
       "<style>\n",
       ".list-inline {list-style: none; margin:0; padding: 0}\n",
       ".list-inline>li {display: inline-block}\n",
       ".list-inline>li:not(:last-child)::after {content: \"\\00b7\"; padding: 0 .5ex}\n",
       "</style>\n",
       "<ol class=list-inline><li>'YEAR'</li><li>'CASEID'</li><li>'SERIAL'</li><li>'COUNTY'</li><li>'PERNUM'</li><li>'LINENO'</li><li>'WT20'</li><li>'AGE'</li><li>'SEX'</li><li>'UHRSWORKT'</li><li>'SCC_ALL'</li><li>'ECPRIOR'</li></ol>\n"
      ],
      "text/latex": [
       "\\begin{enumerate*}\n",
       "\\item 'YEAR'\n",
       "\\item 'CASEID'\n",
       "\\item 'SERIAL'\n",
       "\\item 'COUNTY'\n",
       "\\item 'PERNUM'\n",
       "\\item 'LINENO'\n",
       "\\item 'WT20'\n",
       "\\item 'AGE'\n",
       "\\item 'SEX'\n",
       "\\item 'UHRSWORKT'\n",
       "\\item 'SCC\\_ALL'\n",
       "\\item 'ECPRIOR'\n",
       "\\end{enumerate*}\n"
      ],
      "text/markdown": [
       "1. 'YEAR'\n",
       "2. 'CASEID'\n",
       "3. 'SERIAL'\n",
       "4. 'COUNTY'\n",
       "5. 'PERNUM'\n",
       "6. 'LINENO'\n",
       "7. 'WT20'\n",
       "8. 'AGE'\n",
       "9. 'SEX'\n",
       "10. 'UHRSWORKT'\n",
       "11. 'SCC_ALL'\n",
       "12. 'ECPRIOR'\n",
       "\n",
       "\n"
      ],
      "text/plain": [
       " [1] \"YEAR\"      \"CASEID\"    \"SERIAL\"    \"COUNTY\"    \"PERNUM\"    \"LINENO\"   \n",
       " [7] \"WT20\"      \"AGE\"       \"SEX\"       \"UHRSWORKT\" \"SCC_ALL\"   \"ECPRIOR\"  "
      ]
     },
     "metadata": {},
     "output_type": "display_data"
    }
   ],
   "source": [
    "colnames(dat)"
   ]
  },
  {
   "cell_type": "markdown",
   "id": "fb2e5fa6-292d-49dd-935a-2a7a6f02ac53",
   "metadata": {},
   "source": [
    "**Variable Selection**\n",
    "* County (FIPS Code) (COUNTY)\n",
    "* Age (AGE)\n",
    "* Sex (SEX)\n",
    "* Hours Usually Worked per Week (UHRSWORKT)\n",
    "* Total Time Spent on Secondary Childcare for All Children (SCC_ALL)\n",
    "* Eldercare Provided in Last 3 Months (ECPRIOR)\n",
    "\n",
    "**IPUMS Preselected Variables**\n",
    "* Survey Year (YEAR)\n",
    "* ATUS Case ID (CASEID)\n",
    "* Household Serial Number (SERIAL)\n",
    "* Person Number (General) (PERNUM)\n",
    "* Person Line Number (LINENO)\n",
    "* Person Weight, 2020 Methodology (WT20)"
   ]
  },
  {
   "cell_type": "markdown",
   "id": "2b2cf9be-e53c-479b-b9d9-1eb8f5cddb96",
   "metadata": {},
   "source": [
    "### 3d. Save the Data\n",
    "\n",
    "Next let's save a couple versions of our IPUMS ACS data file.\n",
    "\n",
    "* A *.rds* version of the data.  The **R Data Serialization (RDS)** format will retain metadata for the next time we want to import the file back into R.  One downside to the .rds format is it is only useable within R.\n",
    "* A *.csv* version of the data.  The [**Comma-Separated Values (CSV)**](https://en.wikipedia.org/wiki/Comma-separated_values) format is versitile and can be easily accessed in other programs.  However, the CSV file format does not include metadata such as labels for variable levels."
   ]
  },
  {
   "cell_type": "code",
   "execution_count": null,
   "id": "eab61c29-1241-451b-b52d-a329fec76960",
   "metadata": {},
   "outputs": [],
   "source": [
    "saveRDS(dat, \"ipums_atus_example.rds\")\n",
    "write.csv(dat, \"ipums_atus_example.csv\")"
   ]
  },
  {
   "cell_type": "markdown",
   "id": "bb006ecd-580d-4a85-8bc0-e32628a8e92a",
   "metadata": {},
   "source": [
    "#### 4. IPUMS American Heritage Time Use Study (AHTUS) Metadata Exploration\n",
    "\n",
    "From the [**IPUMS American Heritage Time Use Study (AHTUS) Webpage**](https://www.ahtusdata.org/ahtus): The AHTUS is a harmonized collection of time diary data from the U.S. for the period 1930 to 2012. AHTUS-X is a data extract builder that allows users to create custom time use variables and data extracts for analysis. This project is a collaboration of the Minnesota Population Center, the Maryland Population Research Center and the Centre for Time Use Research at the University College London.\n",
    "\n",
    "### 4a. Review the List of Samples"
   ]
  },
  {
   "cell_type": "code",
   "execution_count": 16,
   "id": "b5e0bc05-fc28-4f66-a280-8b0af1c31bfd",
   "metadata": {},
   "outputs": [
    {
     "data": {
      "text/html": [
       "<table class=\"dataframe\">\n",
       "<caption>A tibble: 18 × 2</caption>\n",
       "<thead>\n",
       "\t<tr><th scope=col>name</th><th scope=col>description</th></tr>\n",
       "\t<tr><th scope=col>&lt;chr&gt;</th><th scope=col>&lt;chr&gt;</th></tr>\n",
       "</thead>\n",
       "<tbody>\n",
       "\t<tr><td>us1965a</td><td>1965     </td></tr>\n",
       "\t<tr><td>us1975a</td><td>1975     </td></tr>\n",
       "\t<tr><td>us1985a</td><td>1985     </td></tr>\n",
       "\t<tr><td>us1993a</td><td>1993     </td></tr>\n",
       "\t<tr><td>us1995a</td><td>1995     </td></tr>\n",
       "\t<tr><td>us1998a</td><td>1998     </td></tr>\n",
       "\t<tr><td>us2003a</td><td>2003 ATUS</td></tr>\n",
       "\t<tr><td>us2004a</td><td>2004 ATUS</td></tr>\n",
       "\t<tr><td>us2005a</td><td>2005 ATUS</td></tr>\n",
       "\t<tr><td>us2006a</td><td>2006 ATUS</td></tr>\n",
       "\t<tr><td>us2007a</td><td>2007 ATUS</td></tr>\n",
       "\t<tr><td>us2008a</td><td>2008 ATUS</td></tr>\n",
       "\t<tr><td>us2009a</td><td>2009 ATUS</td></tr>\n",
       "\t<tr><td>us2010a</td><td>2010 ATUS</td></tr>\n",
       "\t<tr><td>us2011a</td><td>2011 ATUS</td></tr>\n",
       "\t<tr><td>us2012a</td><td>2012 ATUS</td></tr>\n",
       "\t<tr><td>us1930a</td><td>1930     </td></tr>\n",
       "\t<tr><td>us2018a</td><td>2018 ATUS</td></tr>\n",
       "</tbody>\n",
       "</table>\n"
      ],
      "text/latex": [
       "A tibble: 18 × 2\n",
       "\\begin{tabular}{ll}\n",
       " name & description\\\\\n",
       " <chr> & <chr>\\\\\n",
       "\\hline\n",
       "\t us1965a & 1965     \\\\\n",
       "\t us1975a & 1975     \\\\\n",
       "\t us1985a & 1985     \\\\\n",
       "\t us1993a & 1993     \\\\\n",
       "\t us1995a & 1995     \\\\\n",
       "\t us1998a & 1998     \\\\\n",
       "\t us2003a & 2003 ATUS\\\\\n",
       "\t us2004a & 2004 ATUS\\\\\n",
       "\t us2005a & 2005 ATUS\\\\\n",
       "\t us2006a & 2006 ATUS\\\\\n",
       "\t us2007a & 2007 ATUS\\\\\n",
       "\t us2008a & 2008 ATUS\\\\\n",
       "\t us2009a & 2009 ATUS\\\\\n",
       "\t us2010a & 2010 ATUS\\\\\n",
       "\t us2011a & 2011 ATUS\\\\\n",
       "\t us2012a & 2012 ATUS\\\\\n",
       "\t us1930a & 1930     \\\\\n",
       "\t us2018a & 2018 ATUS\\\\\n",
       "\\end{tabular}\n"
      ],
      "text/markdown": [
       "\n",
       "A tibble: 18 × 2\n",
       "\n",
       "| name &lt;chr&gt; | description &lt;chr&gt; |\n",
       "|---|---|\n",
       "| us1965a | 1965      |\n",
       "| us1975a | 1975      |\n",
       "| us1985a | 1985      |\n",
       "| us1993a | 1993      |\n",
       "| us1995a | 1995      |\n",
       "| us1998a | 1998      |\n",
       "| us2003a | 2003 ATUS |\n",
       "| us2004a | 2004 ATUS |\n",
       "| us2005a | 2005 ATUS |\n",
       "| us2006a | 2006 ATUS |\n",
       "| us2007a | 2007 ATUS |\n",
       "| us2008a | 2008 ATUS |\n",
       "| us2009a | 2009 ATUS |\n",
       "| us2010a | 2010 ATUS |\n",
       "| us2011a | 2011 ATUS |\n",
       "| us2012a | 2012 ATUS |\n",
       "| us1930a | 1930      |\n",
       "| us2018a | 2018 ATUS |\n",
       "\n"
      ],
      "text/plain": [
       "   name    description\n",
       "1  us1965a 1965       \n",
       "2  us1975a 1975       \n",
       "3  us1985a 1985       \n",
       "4  us1993a 1993       \n",
       "5  us1995a 1995       \n",
       "6  us1998a 1998       \n",
       "7  us2003a 2003 ATUS  \n",
       "8  us2004a 2004 ATUS  \n",
       "9  us2005a 2005 ATUS  \n",
       "10 us2006a 2006 ATUS  \n",
       "11 us2007a 2007 ATUS  \n",
       "12 us2008a 2008 ATUS  \n",
       "13 us2009a 2009 ATUS  \n",
       "14 us2010a 2010 ATUS  \n",
       "15 us2011a 2011 ATUS  \n",
       "16 us2012a 2012 ATUS  \n",
       "17 us1930a 1930       \n",
       "18 us2018a 2018 ATUS  "
      ]
     },
     "metadata": {},
     "output_type": "display_data"
    }
   ],
   "source": [
    "# retrive and view the list of samples from the IPUMS USA database\n",
    "metadata_ahtus <- get_sample_info(\"ahtus\")\n",
    "\n",
    "# view the list of samples\n",
    "metadata_ahtus"
   ]
  },
  {
   "cell_type": "markdown",
   "id": "8d0784f6-2097-4556-8dea-d0c45f31658e",
   "metadata": {},
   "source": [
    "## 4. IPUMS AHTUS Data Extraction Specification and Submission\n",
    "\n",
    "Once we know the dataset and variable selection we want, we can define our data extraction using the *define_extract_micro* function from the *ipumsr* package.  This function requires the following parameters:\n",
    "\n",
    "### 4a. Define the Data Extract\n",
    "\n",
    "For this example we will use the 2010 ATUS sample.\n",
    "\n",
    "**Variable Selection**\n",
    "* State (STATE)\n",
    "* Age (AGE)\n",
    "* Sex (SEX)\n",
    "* Household Type (HHTYPE)\n",
    "* Number of Hours Worked Per Week (WKHRS)\n",
    "* Number of Full-Time Workers in Household (NWORK)\n",
    "\n",
    "By default, the data extraction will also include a number of IPUMS preselected variables.  These variables include metainformation such as identification codes and survey weights.  We will explore and list the preselected variables after completing the data extraction.\n",
    "\n",
    "* **collection** Code for the IPUMS collection represented by this extract request.  In our case we are downloading from IPUMS USA so we use the code \"usa\".\n",
    "* **description** Text description of the extract.\n",
    "* **samples** Vector of samples to include in the extract request.  In our case we are downloading the 2010 ACS data (us2010a).\n",
    "* **variables** Vector of variable names or a list of detailed variable specifications to include in the extract request."
   ]
  },
  {
   "cell_type": "code",
   "execution_count": 23,
   "id": "6258a5a8-bbfa-468c-bc04-58c2ac512b44",
   "metadata": {},
   "outputs": [],
   "source": [
    "# set up the data extraction definition\n",
    "extract_definition <- define_extract_micro(collection = \"ahtus\",\n",
    "                                           description = \"IPUMS AHTUS Data Extraction\",\n",
    "                                           samples = c(\"us2010a\"),\n",
    "                                           variables = c(\"STATE\", \"AGE\", \"SEX\", \"HHTYPE\", \"WKHRS\", \"NWORK\"))"
   ]
  },
  {
   "cell_type": "code",
   "execution_count": 24,
   "id": "244cd717-bf28-4aac-9092-24a639c2175b",
   "metadata": {},
   "outputs": [
    {
     "data": {
      "text/html": [
       "<dl>\n",
       "\t<dt>$collection</dt>\n",
       "\t\t<dd>'ahtus'</dd>\n",
       "\t<dt>$description</dt>\n",
       "\t\t<dd>'IPUMS AHTUS Data Extraction'</dd>\n",
       "\t<dt>$samples</dt>\n",
       "\t\t<dd><strong>$us2010a</strong> = <strong>$name</strong> = 'us2010a'</dd>\n",
       "\t<dt>$variables</dt>\n",
       "\t\t<dd><dl>\n",
       "\t<dt>$STATE</dt>\n",
       "\t\t<dd><strong>$name</strong> = 'STATE'</dd>\n",
       "\t<dt>$AGE</dt>\n",
       "\t\t<dd><strong>$name</strong> = 'AGE'</dd>\n",
       "\t<dt>$SEX</dt>\n",
       "\t\t<dd><strong>$name</strong> = 'SEX'</dd>\n",
       "\t<dt>$HHTYPE</dt>\n",
       "\t\t<dd><strong>$name</strong> = 'HHTYPE'</dd>\n",
       "\t<dt>$WKHRS</dt>\n",
       "\t\t<dd><strong>$name</strong> = 'WKHRS'</dd>\n",
       "\t<dt>$NWORK</dt>\n",
       "\t\t<dd><strong>$name</strong> = 'NWORK'</dd>\n",
       "</dl>\n",
       "</dd>\n",
       "\t<dt>$time_use_variables</dt>\n",
       "\t\t<dd>NULL</dd>\n",
       "\t<dt>$sample_members</dt>\n",
       "\t\t<dd>NULL</dd>\n",
       "\t<dt>$data_format</dt>\n",
       "\t\t<dd>'fixed_width'</dd>\n",
       "\t<dt>$data_structure</dt>\n",
       "\t\t<dd>'rectangular'</dd>\n",
       "\t<dt>$rectangular_on</dt>\n",
       "\t\t<dd>'P'</dd>\n",
       "\t<dt>$case_select_who</dt>\n",
       "\t\t<dd>'individuals'</dd>\n",
       "\t<dt>$data_quality_flags</dt>\n",
       "\t\t<dd>NULL</dd>\n",
       "\t<dt>$submitted</dt>\n",
       "\t\t<dd>FALSE</dd>\n",
       "\t<dt>$download_links</dt>\n",
       "\t\t<dd><dl>\n",
       "</dl>\n",
       "</dd>\n",
       "\t<dt>$number</dt>\n",
       "\t\t<dd>&lt;NA&gt;</dd>\n",
       "\t<dt>$status</dt>\n",
       "\t\t<dd>'unsubmitted'</dd>\n",
       "</dl>\n"
      ],
      "text/latex": [
       "\\begin{description}\n",
       "\\item[\\$collection] 'ahtus'\n",
       "\\item[\\$description] 'IPUMS AHTUS Data Extraction'\n",
       "\\item[\\$samples] \\textbf{\\$us2010a} = \\textbf{\\$name} = 'us2010a'\n",
       "\\item[\\$variables] \\begin{description}\n",
       "\\item[\\$STATE] \\textbf{\\$name} = 'STATE'\n",
       "\\item[\\$AGE] \\textbf{\\$name} = 'AGE'\n",
       "\\item[\\$SEX] \\textbf{\\$name} = 'SEX'\n",
       "\\item[\\$HHTYPE] \\textbf{\\$name} = 'HHTYPE'\n",
       "\\item[\\$WKHRS] \\textbf{\\$name} = 'WKHRS'\n",
       "\\item[\\$NWORK] \\textbf{\\$name} = 'NWORK'\n",
       "\\end{description}\n",
       "\n",
       "\\item[\\$time\\_use\\_variables] NULL\n",
       "\\item[\\$sample\\_members] NULL\n",
       "\\item[\\$data\\_format] 'fixed\\_width'\n",
       "\\item[\\$data\\_structure] 'rectangular'\n",
       "\\item[\\$rectangular\\_on] 'P'\n",
       "\\item[\\$case\\_select\\_who] 'individuals'\n",
       "\\item[\\$data\\_quality\\_flags] NULL\n",
       "\\item[\\$submitted] FALSE\n",
       "\\item[\\$download\\_links] \\begin{description}\n",
       "\\end{description}\n",
       "\n",
       "\\item[\\$number] <NA>\n",
       "\\item[\\$status] 'unsubmitted'\n",
       "\\end{description}\n"
      ],
      "text/markdown": [
       "$collection\n",
       ":   'ahtus'\n",
       "$description\n",
       ":   'IPUMS AHTUS Data Extraction'\n",
       "$samples\n",
       ":   **$us2010a** = **$name** = 'us2010a'\n",
       "$variables\n",
       ":   $STATE\n",
       ":   **$name** = 'STATE'\n",
       "$AGE\n",
       ":   **$name** = 'AGE'\n",
       "$SEX\n",
       ":   **$name** = 'SEX'\n",
       "$HHTYPE\n",
       ":   **$name** = 'HHTYPE'\n",
       "$WKHRS\n",
       ":   **$name** = 'WKHRS'\n",
       "$NWORK\n",
       ":   **$name** = 'NWORK'\n",
       "\n",
       "\n",
       "\n",
       "$time_use_variables\n",
       ":   NULL\n",
       "$sample_members\n",
       ":   NULL\n",
       "$data_format\n",
       ":   'fixed_width'\n",
       "$data_structure\n",
       ":   'rectangular'\n",
       "$rectangular_on\n",
       ":   'P'\n",
       "$case_select_who\n",
       ":   'individuals'\n",
       "$data_quality_flags\n",
       ":   NULL\n",
       "$submitted\n",
       ":   FALSE\n",
       "$download_links\n",
       ":   \n",
       "\n",
       "\n",
       "$number\n",
       ":   &lt;NA&gt;\n",
       "$status\n",
       ":   'unsubmitted'\n",
       "\n",
       "\n"
      ],
      "text/plain": [
       "Unsubmitted IPUMS AHTUS extract \n",
       "Description: IPUMS AHTUS Data Extraction\n",
       "\n",
       "\u001b[1mSamples: \u001b[22m(1 total) us2010a\n",
       "\u001b[1mVariables: \u001b[22m(6 total) STATE, AGE, SEX, HHTYPE, WKHRS, NWORK"
      ]
     },
     "metadata": {},
     "output_type": "display_data"
    }
   ],
   "source": [
    "# review the extraction definition\n",
    "extract_definition"
   ]
  },
  {
   "cell_type": "markdown",
   "id": "a68eb396-415d-449c-a046-6c4517f953a1",
   "metadata": {},
   "source": [
    "### 4b. Submit the Extract Request"
   ]
  },
  {
   "cell_type": "code",
   "execution_count": 25,
   "id": "1c8c804b-379e-4d9c-90dc-9da4bac8322a",
   "metadata": {},
   "outputs": [
    {
     "name": "stderr",
     "output_type": "stream",
     "text": [
      "Successfully submitted IPUMS AHTUS extract number 1\n",
      "\n",
      "Checking extract status...\n",
      "\n",
      "Waiting 10 seconds...\n",
      "\n",
      "Checking extract status...\n",
      "\n",
      "IPUMS AHTUS extract 1 is ready to download.\n",
      "\n"
     ]
    },
    {
     "data": {
      "text/html": [
       "'completed'"
      ],
      "text/latex": [
       "'completed'"
      ],
      "text/markdown": [
       "'completed'"
      ],
      "text/plain": [
       "[1] \"completed\""
      ]
     },
     "metadata": {},
     "output_type": "display_data"
    },
    {
     "name": "stdout",
     "output_type": "stream",
     "text": [
      "\n",
      "\n",
      " |======================================================================| 100%"
     ]
    },
    {
     "name": "stderr",
     "output_type": "stream",
     "text": [
      "DDI codebook file saved to C:/Users/vavra/Dropbox/R Spatial/r-spatial/ahtus_00001.xml\n",
      "Data file saved to C:/Users/vavra/Dropbox/R Spatial/r-spatial/ahtus_00001.dat.gz\n",
      "\n"
     ]
    }
   ],
   "source": [
    "# submit extraction request\n",
    "extract_submitted <- submit_extract(extract_definition)\n",
    "\n",
    "# wait for completion\n",
    "extraction_complete <- wait_for_extract(extract_submitted)\n",
    "\n",
    "# check completion status\n",
    "extraction_complete$status\n",
    "\n",
    "# get the extract filepath\n",
    "filepath <- download_extract(extract_submitted, overwrite = T)"
   ]
  },
  {
   "cell_type": "markdown",
   "id": "722752d4-7c1c-45ea-9f2b-5eec5ef54dc9",
   "metadata": {},
   "source": [
    "### 4c. Review the Extract\n",
    "\n",
    "The data extract download will contain the following two files.\n",
    "\n",
    "1. A [DDI (Data Documentation Initiative)](https://ddialliance.org) codebook file (file extension .xml) containing metadata and descriptive information for you data.\n",
    "2. A zipped data (.dat) file (file extension .dat.gz) containing your data.\n",
    "\n",
    "Read the ddi and data files into a format which we can work with in R."
   ]
  },
  {
   "cell_type": "code",
   "execution_count": 26,
   "id": "debbf77f-75e5-4d7d-a198-1c0735d2ae19",
   "metadata": {},
   "outputs": [
    {
     "name": "stderr",
     "output_type": "stream",
     "text": [
      "Use of data from IPUMS AHTUS is subject to conditions including that users should cite the data appropriately. Use command `ipums_conditions()` for more details.\n",
      "\n"
     ]
    }
   ],
   "source": [
    "ddi <- read_ipums_ddi(filepath)\n",
    "dat <- read_ipums_micro(ddi)"
   ]
  },
  {
   "cell_type": "code",
   "execution_count": 27,
   "id": "09901e39-1e2a-4cb2-9034-9a9b25cf268d",
   "metadata": {},
   "outputs": [
    {
     "data": {
      "text/html": [
       "<style>\n",
       ".list-inline {list-style: none; margin:0; padding: 0}\n",
       ".list-inline>li {display: inline-block}\n",
       ".list-inline>li:not(:last-child)::after {content: \"\\00b7\"; padding: 0 .5ex}\n",
       "</style>\n",
       "<ol class=list-inline><li>13260</li><li>13</li></ol>\n"
      ],
      "text/latex": [
       "\\begin{enumerate*}\n",
       "\\item 13260\n",
       "\\item 13\n",
       "\\end{enumerate*}\n"
      ],
      "text/markdown": [
       "1. 13260\n",
       "2. 13\n",
       "\n",
       "\n"
      ],
      "text/plain": [
       "[1] 13260    13"
      ]
     },
     "metadata": {},
     "output_type": "display_data"
    }
   ],
   "source": [
    "dim(dat)"
   ]
  },
  {
   "cell_type": "code",
   "execution_count": 28,
   "id": "763aec3b-bfc0-4bd6-b974-dae890680f3a",
   "metadata": {},
   "outputs": [
    {
     "data": {
      "text/html": [
       "<table class=\"dataframe\">\n",
       "<caption>A tibble: 6 × 13</caption>\n",
       "<thead>\n",
       "\t<tr><th scope=col>SAMPLE</th><th scope=col>PERNUM</th><th scope=col>IDENT</th><th scope=col>PID</th><th scope=col>SERIAL</th><th scope=col>YEAR</th><th scope=col>AGE</th><th scope=col>SEX</th><th scope=col>RECWGHT</th><th scope=col>STATE</th><th scope=col>HHTYPE</th><th scope=col>WKHRS</th><th scope=col>NWORK</th></tr>\n",
       "\t<tr><th scope=col>&lt;int&gt;</th><th scope=col>&lt;dbl&gt;</th><th scope=col>&lt;dbl&gt;</th><th scope=col>&lt;dbl&gt;</th><th scope=col>&lt;dbl&gt;</th><th scope=col>&lt;int&gt;</th><th scope=col>&lt;int+lbl&gt;</th><th scope=col>&lt;int+lbl&gt;</th><th scope=col>&lt;dbl&gt;</th><th scope=col>&lt;int+lbl&gt;</th><th scope=col>&lt;int+lbl&gt;</th><th scope=col>&lt;int+lbl&gt;</th><th scope=col>&lt;int&gt;</th></tr>\n",
       "</thead>\n",
       "<tbody>\n",
       "\t<tr><td>2010</td><td>1</td><td>10101</td><td>2.010030e+13</td><td>1</td><td>2010</td><td>47</td><td>1</td><td>0.6202086</td><td> 5</td><td>1</td><td>-8</td><td>1</td></tr>\n",
       "\t<tr><td>2010</td><td>1</td><td>20101</td><td>2.010111e+13</td><td>2</td><td>2010</td><td>38</td><td>2</td><td>0.4170180</td><td> 5</td><td>1</td><td>50</td><td>2</td></tr>\n",
       "\t<tr><td>2010</td><td>1</td><td>30101</td><td>2.010121e+13</td><td>3</td><td>2010</td><td>56</td><td>1</td><td>1.6022509</td><td> 5</td><td>6</td><td>50</td><td>1</td></tr>\n",
       "\t<tr><td>2010</td><td>1</td><td>40101</td><td>2.010011e+13</td><td>4</td><td>2010</td><td>75</td><td>2</td><td>0.0000000</td><td>43</td><td>3</td><td>-7</td><td>2</td></tr>\n",
       "\t<tr><td>2010</td><td>1</td><td>50101</td><td>2.010040e+13</td><td>5</td><td>2010</td><td>46</td><td>1</td><td>0.6202086</td><td> 5</td><td>5</td><td>40</td><td>1</td></tr>\n",
       "\t<tr><td>2010</td><td>1</td><td>60101</td><td>2.010030e+13</td><td>6</td><td>2010</td><td>21</td><td>1</td><td>2.5851967</td><td>11</td><td>8</td><td>-8</td><td>2</td></tr>\n",
       "</tbody>\n",
       "</table>\n"
      ],
      "text/latex": [
       "A tibble: 6 × 13\n",
       "\\begin{tabular}{lllllllllllll}\n",
       " SAMPLE & PERNUM & IDENT & PID & SERIAL & YEAR & AGE & SEX & RECWGHT & STATE & HHTYPE & WKHRS & NWORK\\\\\n",
       " <int> & <dbl> & <dbl> & <dbl> & <dbl> & <int> & <int+lbl> & <int+lbl> & <dbl> & <int+lbl> & <int+lbl> & <int+lbl> & <int>\\\\\n",
       "\\hline\n",
       "\t 2010 & 1 & 10101 & 2.010030e+13 & 1 & 2010 & 47 & 1 & 0.6202086 &  5 & 1 & -8 & 1\\\\\n",
       "\t 2010 & 1 & 20101 & 2.010111e+13 & 2 & 2010 & 38 & 2 & 0.4170180 &  5 & 1 & 50 & 2\\\\\n",
       "\t 2010 & 1 & 30101 & 2.010121e+13 & 3 & 2010 & 56 & 1 & 1.6022509 &  5 & 6 & 50 & 1\\\\\n",
       "\t 2010 & 1 & 40101 & 2.010011e+13 & 4 & 2010 & 75 & 2 & 0.0000000 & 43 & 3 & -7 & 2\\\\\n",
       "\t 2010 & 1 & 50101 & 2.010040e+13 & 5 & 2010 & 46 & 1 & 0.6202086 &  5 & 5 & 40 & 1\\\\\n",
       "\t 2010 & 1 & 60101 & 2.010030e+13 & 6 & 2010 & 21 & 1 & 2.5851967 & 11 & 8 & -8 & 2\\\\\n",
       "\\end{tabular}\n"
      ],
      "text/markdown": [
       "\n",
       "A tibble: 6 × 13\n",
       "\n",
       "| SAMPLE &lt;int&gt; | PERNUM &lt;dbl&gt; | IDENT &lt;dbl&gt; | PID &lt;dbl&gt; | SERIAL &lt;dbl&gt; | YEAR &lt;int&gt; | AGE &lt;int+lbl&gt; | SEX &lt;int+lbl&gt; | RECWGHT &lt;dbl&gt; | STATE &lt;int+lbl&gt; | HHTYPE &lt;int+lbl&gt; | WKHRS &lt;int+lbl&gt; | NWORK &lt;int&gt; |\n",
       "|---|---|---|---|---|---|---|---|---|---|---|---|---|\n",
       "| 2010 | 1 | 10101 | 2.010030e+13 | 1 | 2010 | 47 | 1 | 0.6202086 |  5 | 1 | -8 | 1 |\n",
       "| 2010 | 1 | 20101 | 2.010111e+13 | 2 | 2010 | 38 | 2 | 0.4170180 |  5 | 1 | 50 | 2 |\n",
       "| 2010 | 1 | 30101 | 2.010121e+13 | 3 | 2010 | 56 | 1 | 1.6022509 |  5 | 6 | 50 | 1 |\n",
       "| 2010 | 1 | 40101 | 2.010011e+13 | 4 | 2010 | 75 | 2 | 0.0000000 | 43 | 3 | -7 | 2 |\n",
       "| 2010 | 1 | 50101 | 2.010040e+13 | 5 | 2010 | 46 | 1 | 0.6202086 |  5 | 5 | 40 | 1 |\n",
       "| 2010 | 1 | 60101 | 2.010030e+13 | 6 | 2010 | 21 | 1 | 2.5851967 | 11 | 8 | -8 | 2 |\n",
       "\n"
      ],
      "text/plain": [
       "  SAMPLE PERNUM IDENT PID          SERIAL YEAR AGE SEX RECWGHT   STATE HHTYPE\n",
       "1 2010   1      10101 2.010030e+13 1      2010 47  1   0.6202086  5    1     \n",
       "2 2010   1      20101 2.010111e+13 2      2010 38  2   0.4170180  5    1     \n",
       "3 2010   1      30101 2.010121e+13 3      2010 56  1   1.6022509  5    6     \n",
       "4 2010   1      40101 2.010011e+13 4      2010 75  2   0.0000000 43    3     \n",
       "5 2010   1      50101 2.010040e+13 5      2010 46  1   0.6202086  5    5     \n",
       "6 2010   1      60101 2.010030e+13 6      2010 21  1   2.5851967 11    8     \n",
       "  WKHRS NWORK\n",
       "1 -8    1    \n",
       "2 50    2    \n",
       "3 50    1    \n",
       "4 -7    2    \n",
       "5 40    1    \n",
       "6 -8    2    "
      ]
     },
     "metadata": {},
     "output_type": "display_data"
    }
   ],
   "source": [
    "head(dat)"
   ]
  },
  {
   "cell_type": "code",
   "execution_count": 29,
   "id": "72ee1272-ac63-468c-ba6c-1a8172ad5c26",
   "metadata": {},
   "outputs": [
    {
     "data": {
      "text/html": [
       "<style>\n",
       ".list-inline {list-style: none; margin:0; padding: 0}\n",
       ".list-inline>li {display: inline-block}\n",
       ".list-inline>li:not(:last-child)::after {content: \"\\00b7\"; padding: 0 .5ex}\n",
       "</style>\n",
       "<ol class=list-inline><li>'SAMPLE'</li><li>'PERNUM'</li><li>'IDENT'</li><li>'PID'</li><li>'SERIAL'</li><li>'YEAR'</li><li>'AGE'</li><li>'SEX'</li><li>'RECWGHT'</li><li>'STATE'</li><li>'HHTYPE'</li><li>'WKHRS'</li><li>'NWORK'</li></ol>\n"
      ],
      "text/latex": [
       "\\begin{enumerate*}\n",
       "\\item 'SAMPLE'\n",
       "\\item 'PERNUM'\n",
       "\\item 'IDENT'\n",
       "\\item 'PID'\n",
       "\\item 'SERIAL'\n",
       "\\item 'YEAR'\n",
       "\\item 'AGE'\n",
       "\\item 'SEX'\n",
       "\\item 'RECWGHT'\n",
       "\\item 'STATE'\n",
       "\\item 'HHTYPE'\n",
       "\\item 'WKHRS'\n",
       "\\item 'NWORK'\n",
       "\\end{enumerate*}\n"
      ],
      "text/markdown": [
       "1. 'SAMPLE'\n",
       "2. 'PERNUM'\n",
       "3. 'IDENT'\n",
       "4. 'PID'\n",
       "5. 'SERIAL'\n",
       "6. 'YEAR'\n",
       "7. 'AGE'\n",
       "8. 'SEX'\n",
       "9. 'RECWGHT'\n",
       "10. 'STATE'\n",
       "11. 'HHTYPE'\n",
       "12. 'WKHRS'\n",
       "13. 'NWORK'\n",
       "\n",
       "\n"
      ],
      "text/plain": [
       " [1] \"SAMPLE\"  \"PERNUM\"  \"IDENT\"   \"PID\"     \"SERIAL\"  \"YEAR\"    \"AGE\"    \n",
       " [8] \"SEX\"     \"RECWGHT\" \"STATE\"   \"HHTYPE\"  \"WKHRS\"   \"NWORK\"  "
      ]
     },
     "metadata": {},
     "output_type": "display_data"
    }
   ],
   "source": [
    "colnames(dat)"
   ]
  },
  {
   "cell_type": "markdown",
   "id": "ef38f87d-9d49-4e87-bc61-789abaf70b8b",
   "metadata": {},
   "source": [
    "**Variable Selection**\n",
    "* State (STATE)\n",
    "* Age (AGE)\n",
    "* Sex (SEX)\n",
    "* Household Type (HHTYPE)\n",
    "* Number of Hours Worked Per Week (WKHRS)\n",
    "* Number of Full-Time Workers in Household (NWORK)\n",
    "\n",
    "**IPUMS Preselected Variables**\n",
    "* Sample (SAMPLE)\n",
    "* Person Number (PERNUM)\n",
    "* Identifier (IDENT)\n",
    "* Person Identifer (PID)\n",
    "* Person Serial Number (SERIAL)\n",
    "* Year Diary Kept (YEAR)\n",
    "* Recommended Sample (Day) Weight Removing Low Quality Diaries and Missing Age or Sex (RECWGHT)"
   ]
  },
  {
   "cell_type": "markdown",
   "id": "18728563-55a4-482e-b9b5-4e9ef66092fd",
   "metadata": {},
   "source": [
    "### 4d. Save the Data\n",
    "\n",
    "Next let's save a couple versions of our IPUMS ACS data file.\n",
    "\n",
    "* A *.rds* version of the data.  The **R Data Serialization (RDS)** format will retain metadata for the next time we want to import the file back into R.  One downside to the .rds format is it is only useable within R.\n",
    "* A *.csv* version of the data.  The [**Comma-Separated Values (CSV)**](https://en.wikipedia.org/wiki/Comma-separated_values) format is versitile and can be easily accessed in other programs.  However, the CSV file format does not include metadata such as labels for variable levels."
   ]
  },
  {
   "cell_type": "code",
   "execution_count": null,
   "id": "c2879af7-1dea-4d63-915d-b6080148f6f0",
   "metadata": {},
   "outputs": [],
   "source": [
    "saveRDS(dat, \"ipums_usa_example.rds\")\n",
    "write.csv(dat, \"ipums_usa_example.csv\")"
   ]
  },
  {
   "cell_type": "markdown",
   "id": "a06884ae-eb53-4da5-ad8a-885415a4333b",
   "metadata": {},
   "source": [
    "## 5. IPUMS Multinational Time Use Study (MTUS) Metadata Exploration\n",
    "\n",
    "From the [**IPUMS Multinational Time Use Study (MTUS) Webpage**](https://www.mtusdata.org/mtus): MTUS is a collection of time diary data from a growing number of countries that are harmonized for compatibility across time and space. IPUMS MTUS is a data extract builder that allows users to create custom time use variables and data extracts for analysis. This project is a collaboration of the Minnesota Population Center, the Maryland Population Research Center and the Centre for Time Use Research at University College London.\n",
    "\n",
    "### 5a. Review the List of Samples"
   ]
  },
  {
   "cell_type": "code",
   "execution_count": 30,
   "id": "81d8d8b2-74f2-4994-9bf6-b2071f41b4dc",
   "metadata": {},
   "outputs": [
    {
     "data": {
      "text/html": [
       "<style>\n",
       ".list-inline {list-style: none; margin:0; padding: 0}\n",
       ".list-inline>li {display: inline-block}\n",
       ".list-inline>li:not(:last-child)::after {content: \"\\00b7\"; padding: 0 .5ex}\n",
       "</style>\n",
       "<ol class=list-inline><li>67</li><li>2</li></ol>\n"
      ],
      "text/latex": [
       "\\begin{enumerate*}\n",
       "\\item 67\n",
       "\\item 2\n",
       "\\end{enumerate*}\n"
      ],
      "text/markdown": [
       "1. 67\n",
       "2. 2\n",
       "\n",
       "\n"
      ],
      "text/plain": [
       "[1] 67  2"
      ]
     },
     "metadata": {},
     "output_type": "display_data"
    }
   ],
   "source": [
    "# retrive and view the list of samples from the IPUMS USA database\n",
    "metadata_mtus <- get_sample_info(\"mtus\")\n",
    "\n",
    "# view the dimensions of the list of samples\n",
    "dim(metadata_mtus)"
   ]
  },
  {
   "cell_type": "code",
   "execution_count": 31,
   "id": "617f8fc9-e193-435a-b6f3-c852a6df4538",
   "metadata": {},
   "outputs": [
    {
     "data": {
      "text/html": [
       "<table class=\"dataframe\">\n",
       "<caption>A tibble: 6 × 2</caption>\n",
       "<thead>\n",
       "\t<tr><th scope=col>name</th><th scope=col>description</th></tr>\n",
       "\t<tr><th scope=col>&lt;chr&gt;</th><th scope=col>&lt;chr&gt;</th></tr>\n",
       "</thead>\n",
       "<tbody>\n",
       "\t<tr><td>us1965a</td><td>United States 1965</td></tr>\n",
       "\t<tr><td>us1975a</td><td>United States 1975</td></tr>\n",
       "\t<tr><td>us1985a</td><td>United States 1985</td></tr>\n",
       "\t<tr><td>us1993a</td><td>United States 1993</td></tr>\n",
       "\t<tr><td>us1995a</td><td>United States 1995</td></tr>\n",
       "\t<tr><td>us1998a</td><td>United States 1998</td></tr>\n",
       "</tbody>\n",
       "</table>\n"
      ],
      "text/latex": [
       "A tibble: 6 × 2\n",
       "\\begin{tabular}{ll}\n",
       " name & description\\\\\n",
       " <chr> & <chr>\\\\\n",
       "\\hline\n",
       "\t us1965a & United States 1965\\\\\n",
       "\t us1975a & United States 1975\\\\\n",
       "\t us1985a & United States 1985\\\\\n",
       "\t us1993a & United States 1993\\\\\n",
       "\t us1995a & United States 1995\\\\\n",
       "\t us1998a & United States 1998\\\\\n",
       "\\end{tabular}\n"
      ],
      "text/markdown": [
       "\n",
       "A tibble: 6 × 2\n",
       "\n",
       "| name &lt;chr&gt; | description &lt;chr&gt; |\n",
       "|---|---|\n",
       "| us1965a | United States 1965 |\n",
       "| us1975a | United States 1975 |\n",
       "| us1985a | United States 1985 |\n",
       "| us1993a | United States 1993 |\n",
       "| us1995a | United States 1995 |\n",
       "| us1998a | United States 1998 |\n",
       "\n"
      ],
      "text/plain": [
       "  name    description       \n",
       "1 us1965a United States 1965\n",
       "2 us1975a United States 1975\n",
       "3 us1985a United States 1985\n",
       "4 us1993a United States 1993\n",
       "5 us1995a United States 1995\n",
       "6 us1998a United States 1998"
      ]
     },
     "metadata": {},
     "output_type": "display_data"
    }
   ],
   "source": [
    "# view the first few lines of the list of samples\n",
    "head(metadata_mtus)"
   ]
  },
  {
   "cell_type": "code",
   "execution_count": 33,
   "id": "e75badf4-7d95-4ed3-83e3-e3382add8d44",
   "metadata": {},
   "outputs": [
    {
     "data": {
      "text/html": [
       "<table class=\"dataframe\">\n",
       "<caption>A tibble: 2 × 2</caption>\n",
       "<thead>\n",
       "\t<tr><th scope=col>name</th><th scope=col>description</th></tr>\n",
       "\t<tr><th scope=col>&lt;chr&gt;</th><th scope=col>&lt;chr&gt;</th></tr>\n",
       "</thead>\n",
       "<tbody>\n",
       "\t<tr><td>fi1979a</td><td>Finland 1979</td></tr>\n",
       "\t<tr><td>fi2009a</td><td>Finland 2009</td></tr>\n",
       "</tbody>\n",
       "</table>\n"
      ],
      "text/latex": [
       "A tibble: 2 × 2\n",
       "\\begin{tabular}{ll}\n",
       " name & description\\\\\n",
       " <chr> & <chr>\\\\\n",
       "\\hline\n",
       "\t fi1979a & Finland 1979\\\\\n",
       "\t fi2009a & Finland 2009\\\\\n",
       "\\end{tabular}\n"
      ],
      "text/markdown": [
       "\n",
       "A tibble: 2 × 2\n",
       "\n",
       "| name &lt;chr&gt; | description &lt;chr&gt; |\n",
       "|---|---|\n",
       "| fi1979a | Finland 1979 |\n",
       "| fi2009a | Finland 2009 |\n",
       "\n"
      ],
      "text/plain": [
       "  name    description \n",
       "1 fi1979a Finland 1979\n",
       "2 fi2009a Finland 2009"
      ]
     },
     "metadata": {},
     "output_type": "display_data"
    }
   ],
   "source": [
    "# filter the list of samples by country\n",
    "metadata_mtus %>% filter(str_detect(description, \"Finland\"))"
   ]
  },
  {
   "cell_type": "markdown",
   "id": "bf64add4-09a5-4123-b09e-c5557ee7f062",
   "metadata": {},
   "source": [
    "## 5. IPUMS MTUS Data Extraction Specification and Submission\n",
    "\n",
    "Once we know the dataset and variable selection we want, we can define our data extraction using the *define_extract_micro* function from the *ipumsr* package.  This function requires the following parameters:\n",
    "\n",
    "### 5a. Define the Data Extract\n",
    "\n",
    "For this example we will use the 2010 ACS sample.\n",
    "\n",
    "**Variable Selection**\n",
    "* Region: Finland (REGION_FI)\n",
    "* Age (AGE)\n",
    "* Sex (SEX)\n",
    "* Sector of Employment (SECTOR)\n",
    "* Hours Paid Work Last Week Including Overtime (WORKHRS)\n",
    "* Has Disability/Long-Term Health Condition (DISAB)\n",
    "\n",
    "By default, the data extraction will also include a number of IPUMS preselected variables.  These variables include metainformation such as identification codes and survey weights.  We will explore and list the preselected variables after completing the data extraction.\n",
    "\n",
    "* **collection** Code for the IPUMS collection represented by this extract request.  In our case we are downloading from IPUMS USA so we use the code \"usa\".\n",
    "* **description** Text description of the extract.\n",
    "* **samples** Vector of samples to include in the extract request.  In our case we are downloading the 2010 ACS data (us2010a).\n",
    "* **variables** Vector of variable names or a list of detailed variable specifications to include in the extract request."
   ]
  },
  {
   "cell_type": "code",
   "execution_count": 38,
   "id": "f8210bff-2852-4f2f-b4d2-d32d882d6561",
   "metadata": {},
   "outputs": [],
   "source": [
    "# set up the data extraction definition\n",
    "extract_definition <- define_extract_micro(collection = \"mtus\",\n",
    "                                           description = \"IPUMS MTUS Data Extraction\",\n",
    "                                           samples = c(\"fi2009a\"),\n",
    "                                           variables = c(\"REGION_FI\", \"AGE\", \"SEX\", \"SECTOR\", \"WORKHRS\", \"DISAB\"))"
   ]
  },
  {
   "cell_type": "code",
   "execution_count": 39,
   "id": "87b37ad6-3f80-44da-8d30-ecf94d0dc03d",
   "metadata": {},
   "outputs": [
    {
     "data": {
      "text/html": [
       "<dl>\n",
       "\t<dt>$collection</dt>\n",
       "\t\t<dd>'mtus'</dd>\n",
       "\t<dt>$description</dt>\n",
       "\t\t<dd>'IPUMS MTUS Data Extraction'</dd>\n",
       "\t<dt>$samples</dt>\n",
       "\t\t<dd><strong>$fi2009a</strong> = <strong>$name</strong> = 'fi2009a'</dd>\n",
       "\t<dt>$variables</dt>\n",
       "\t\t<dd><dl>\n",
       "\t<dt>$REGION_FI</dt>\n",
       "\t\t<dd><strong>$name</strong> = 'REGION_FI'</dd>\n",
       "\t<dt>$AGE</dt>\n",
       "\t\t<dd><strong>$name</strong> = 'AGE'</dd>\n",
       "\t<dt>$SEX</dt>\n",
       "\t\t<dd><strong>$name</strong> = 'SEX'</dd>\n",
       "\t<dt>$SECTOR</dt>\n",
       "\t\t<dd><strong>$name</strong> = 'SECTOR'</dd>\n",
       "\t<dt>$WORKHRS</dt>\n",
       "\t\t<dd><strong>$name</strong> = 'WORKHRS'</dd>\n",
       "\t<dt>$DISAB</dt>\n",
       "\t\t<dd><strong>$name</strong> = 'DISAB'</dd>\n",
       "</dl>\n",
       "</dd>\n",
       "\t<dt>$time_use_variables</dt>\n",
       "\t\t<dd>NULL</dd>\n",
       "\t<dt>$sample_members</dt>\n",
       "\t\t<dd>NULL</dd>\n",
       "\t<dt>$data_format</dt>\n",
       "\t\t<dd>'fixed_width'</dd>\n",
       "\t<dt>$data_structure</dt>\n",
       "\t\t<dd>'rectangular'</dd>\n",
       "\t<dt>$rectangular_on</dt>\n",
       "\t\t<dd>'P'</dd>\n",
       "\t<dt>$case_select_who</dt>\n",
       "\t\t<dd>'individuals'</dd>\n",
       "\t<dt>$data_quality_flags</dt>\n",
       "\t\t<dd>NULL</dd>\n",
       "\t<dt>$submitted</dt>\n",
       "\t\t<dd>FALSE</dd>\n",
       "\t<dt>$download_links</dt>\n",
       "\t\t<dd><dl>\n",
       "</dl>\n",
       "</dd>\n",
       "\t<dt>$number</dt>\n",
       "\t\t<dd>&lt;NA&gt;</dd>\n",
       "\t<dt>$status</dt>\n",
       "\t\t<dd>'unsubmitted'</dd>\n",
       "</dl>\n"
      ],
      "text/latex": [
       "\\begin{description}\n",
       "\\item[\\$collection] 'mtus'\n",
       "\\item[\\$description] 'IPUMS MTUS Data Extraction'\n",
       "\\item[\\$samples] \\textbf{\\$fi2009a} = \\textbf{\\$name} = 'fi2009a'\n",
       "\\item[\\$variables] \\begin{description}\n",
       "\\item[\\$REGION\\_FI] \\textbf{\\$name} = 'REGION\\_FI'\n",
       "\\item[\\$AGE] \\textbf{\\$name} = 'AGE'\n",
       "\\item[\\$SEX] \\textbf{\\$name} = 'SEX'\n",
       "\\item[\\$SECTOR] \\textbf{\\$name} = 'SECTOR'\n",
       "\\item[\\$WORKHRS] \\textbf{\\$name} = 'WORKHRS'\n",
       "\\item[\\$DISAB] \\textbf{\\$name} = 'DISAB'\n",
       "\\end{description}\n",
       "\n",
       "\\item[\\$time\\_use\\_variables] NULL\n",
       "\\item[\\$sample\\_members] NULL\n",
       "\\item[\\$data\\_format] 'fixed\\_width'\n",
       "\\item[\\$data\\_structure] 'rectangular'\n",
       "\\item[\\$rectangular\\_on] 'P'\n",
       "\\item[\\$case\\_select\\_who] 'individuals'\n",
       "\\item[\\$data\\_quality\\_flags] NULL\n",
       "\\item[\\$submitted] FALSE\n",
       "\\item[\\$download\\_links] \\begin{description}\n",
       "\\end{description}\n",
       "\n",
       "\\item[\\$number] <NA>\n",
       "\\item[\\$status] 'unsubmitted'\n",
       "\\end{description}\n"
      ],
      "text/markdown": [
       "$collection\n",
       ":   'mtus'\n",
       "$description\n",
       ":   'IPUMS MTUS Data Extraction'\n",
       "$samples\n",
       ":   **$fi2009a** = **$name** = 'fi2009a'\n",
       "$variables\n",
       ":   $REGION_FI\n",
       ":   **$name** = 'REGION_FI'\n",
       "$AGE\n",
       ":   **$name** = 'AGE'\n",
       "$SEX\n",
       ":   **$name** = 'SEX'\n",
       "$SECTOR\n",
       ":   **$name** = 'SECTOR'\n",
       "$WORKHRS\n",
       ":   **$name** = 'WORKHRS'\n",
       "$DISAB\n",
       ":   **$name** = 'DISAB'\n",
       "\n",
       "\n",
       "\n",
       "$time_use_variables\n",
       ":   NULL\n",
       "$sample_members\n",
       ":   NULL\n",
       "$data_format\n",
       ":   'fixed_width'\n",
       "$data_structure\n",
       ":   'rectangular'\n",
       "$rectangular_on\n",
       ":   'P'\n",
       "$case_select_who\n",
       ":   'individuals'\n",
       "$data_quality_flags\n",
       ":   NULL\n",
       "$submitted\n",
       ":   FALSE\n",
       "$download_links\n",
       ":   \n",
       "\n",
       "\n",
       "$number\n",
       ":   &lt;NA&gt;\n",
       "$status\n",
       ":   'unsubmitted'\n",
       "\n",
       "\n"
      ],
      "text/plain": [
       "Unsubmitted IPUMS MTUS extract \n",
       "Description: IPUMS MTUS Data Extraction\n",
       "\n",
       "\u001b[1mSamples: \u001b[22m(1 total) fi2009a\n",
       "\u001b[1mVariables: \u001b[22m(6 total) REGION_FI, AGE, SEX, SECTOR, WORKHRS, DISAB"
      ]
     },
     "metadata": {},
     "output_type": "display_data"
    }
   ],
   "source": [
    "# review the extraction definition\n",
    "extract_definition"
   ]
  },
  {
   "cell_type": "markdown",
   "id": "f0ac8c5e-3c0a-4728-8658-afe58aaaf507",
   "metadata": {},
   "source": [
    "### 5b. Submit the Extract Request"
   ]
  },
  {
   "cell_type": "code",
   "execution_count": 40,
   "id": "d3e9afcd-fc36-4703-96ad-8e99757e635b",
   "metadata": {},
   "outputs": [
    {
     "name": "stderr",
     "output_type": "stream",
     "text": [
      "Successfully submitted IPUMS MTUS extract number 1\n",
      "\n",
      "Checking extract status...\n",
      "\n",
      "Waiting 10 seconds...\n",
      "\n",
      "Checking extract status...\n",
      "\n",
      "IPUMS MTUS extract 1 is ready to download.\n",
      "\n"
     ]
    },
    {
     "data": {
      "text/html": [
       "'completed'"
      ],
      "text/latex": [
       "'completed'"
      ],
      "text/markdown": [
       "'completed'"
      ],
      "text/plain": [
       "[1] \"completed\""
      ]
     },
     "metadata": {},
     "output_type": "display_data"
    },
    {
     "name": "stdout",
     "output_type": "stream",
     "text": [
      "\n",
      "\n",
      " |======================================================================| 100%"
     ]
    },
    {
     "name": "stderr",
     "output_type": "stream",
     "text": [
      "DDI codebook file saved to C:/Users/vavra/Dropbox/R Spatial/r-spatial/mtus_00001.xml\n",
      "Data file saved to C:/Users/vavra/Dropbox/R Spatial/r-spatial/mtus_00001.dat.gz\n",
      "\n"
     ]
    }
   ],
   "source": [
    "# submit extraction request\n",
    "extract_submitted <- submit_extract(extract_definition)\n",
    "\n",
    "# wait for completion\n",
    "extraction_complete <- wait_for_extract(extract_submitted)\n",
    "\n",
    "# check completion status\n",
    "extraction_complete$status\n",
    "\n",
    "# get the extract filepath\n",
    "filepath <- download_extract(extract_submitted, overwrite = T)"
   ]
  },
  {
   "cell_type": "markdown",
   "id": "fceffe85-23d5-4ec8-9dd2-9703247ea68e",
   "metadata": {},
   "source": [
    "### 5c. Review the Extract\n",
    "\n",
    "The data extract download will contain the following two files.\n",
    "\n",
    "1. A [DDI (Data Documentation Initiative)](https://ddialliance.org) codebook file (file extension .xml) containing metadata and descriptive information for you data.\n",
    "2. A zipped data (.dat) file (file extension .dat.gz) containing your data.\n",
    "\n",
    "Read the ddi and data files into a format which we can work with in R."
   ]
  },
  {
   "cell_type": "code",
   "execution_count": 41,
   "id": "0cfceb07-2101-4b5f-88ba-cc9db359cee5",
   "metadata": {},
   "outputs": [
    {
     "name": "stderr",
     "output_type": "stream",
     "text": [
      "Use of data from IPUMS MTUS is subject to conditions including that users should cite the data appropriately. Use command `ipums_conditions()` for more details.\n",
      "\n"
     ]
    }
   ],
   "source": [
    "ddi <- read_ipums_ddi(filepath)\n",
    "dat <- read_ipums_micro(ddi)"
   ]
  },
  {
   "cell_type": "code",
   "execution_count": 42,
   "id": "3cf68817-8878-4c70-ad91-b787e1a0ce7e",
   "metadata": {},
   "outputs": [
    {
     "data": {
      "text/html": [
       "<style>\n",
       ".list-inline {list-style: none; margin:0; padding: 0}\n",
       ".list-inline>li {display: inline-block}\n",
       ".list-inline>li:not(:last-child)::after {content: \"\\00b7\"; padding: 0 .5ex}\n",
       "</style>\n",
       "<ol class=list-inline><li>7455</li><li>17</li></ol>\n"
      ],
      "text/latex": [
       "\\begin{enumerate*}\n",
       "\\item 7455\n",
       "\\item 17\n",
       "\\end{enumerate*}\n"
      ],
      "text/markdown": [
       "1. 7455\n",
       "2. 17\n",
       "\n",
       "\n"
      ],
      "text/plain": [
       "[1] 7455   17"
      ]
     },
     "metadata": {},
     "output_type": "display_data"
    }
   ],
   "source": [
    "dim(dat)"
   ]
  },
  {
   "cell_type": "code",
   "execution_count": 43,
   "id": "ace6f127-c0ab-4505-8be0-2ab589f3a3f4",
   "metadata": {},
   "outputs": [
    {
     "data": {
      "text/html": [
       "<table class=\"dataframe\">\n",
       "<caption>A tibble: 6 × 17</caption>\n",
       "<thead>\n",
       "\t<tr><th scope=col>SERIAL</th><th scope=col>SAMPLE</th><th scope=col>IDENT</th><th scope=col>COUNTRY</th><th scope=col>HLDID</th><th scope=col>PERSID</th><th scope=col>DIARY</th><th scope=col>YEAR</th><th scope=col>DIARYID</th><th scope=col>PERNUM</th><th scope=col>AGE</th><th scope=col>SEX</th><th scope=col>SECTOR</th><th scope=col>WORKHRS</th><th scope=col>DISAB</th><th scope=col>PROPWT</th><th scope=col>REGION_FI</th></tr>\n",
       "\t<tr><th scope=col>&lt;dbl&gt;</th><th scope=col>&lt;chr+lbl&gt;</th><th scope=col>&lt;dbl&gt;</th><th scope=col>&lt;chr+lbl&gt;</th><th scope=col>&lt;dbl&gt;</th><th scope=col>&lt;dbl&gt;</th><th scope=col>&lt;int+lbl&gt;</th><th scope=col>&lt;int&gt;</th><th scope=col>&lt;dbl&gt;</th><th scope=col>&lt;dbl&gt;</th><th scope=col>&lt;dbl&gt;</th><th scope=col>&lt;int+lbl&gt;</th><th scope=col>&lt;int+lbl&gt;</th><th scope=col>&lt;dbl+lbl&gt;</th><th scope=col>&lt;int+lbl&gt;</th><th scope=col>&lt;dbl&gt;</th><th scope=col>&lt;int+lbl&gt;</th></tr>\n",
       "</thead>\n",
       "<tbody>\n",
       "\t<tr><td>1</td><td>FI2009</td><td>10101</td><td>FI</td><td>11700</td><td>1</td><td>1</td><td>2010</td><td>1</td><td>1</td><td>42</td><td>1</td><td> 2</td><td>-7</td><td>0</td><td>0.2649978</td><td>3</td></tr>\n",
       "\t<tr><td>2</td><td>FI2009</td><td>10102</td><td>FI</td><td>11700</td><td>1</td><td>2</td><td>2010</td><td>2</td><td>1</td><td>42</td><td>1</td><td> 2</td><td>-7</td><td>0</td><td>0.6570081</td><td>3</td></tr>\n",
       "\t<tr><td>3</td><td>FI2009</td><td>10201</td><td>FI</td><td>11700</td><td>2</td><td>1</td><td>2010</td><td>1</td><td>2</td><td>42</td><td>2</td><td> 2</td><td>-7</td><td>1</td><td>0.2493114</td><td>3</td></tr>\n",
       "\t<tr><td>4</td><td>FI2009</td><td>10202</td><td>FI</td><td>11700</td><td>2</td><td>2</td><td>2010</td><td>2</td><td>2</td><td>42</td><td>2</td><td> 2</td><td>-7</td><td>1</td><td>0.6181168</td><td>3</td></tr>\n",
       "\t<tr><td>5</td><td>FI2009</td><td>20101</td><td>FI</td><td>11700</td><td>1</td><td>1</td><td>2010</td><td>1</td><td>1</td><td>17</td><td>1</td><td>-7</td><td>-7</td><td>0</td><td>0.2908149</td><td>4</td></tr>\n",
       "\t<tr><td>6</td><td>FI2009</td><td>20102</td><td>FI</td><td>11700</td><td>1</td><td>2</td><td>2010</td><td>2</td><td>1</td><td>17</td><td>1</td><td>-7</td><td>-7</td><td>0</td><td>0.7162496</td><td>4</td></tr>\n",
       "</tbody>\n",
       "</table>\n"
      ],
      "text/latex": [
       "A tibble: 6 × 17\n",
       "\\begin{tabular}{lllllllllllllllll}\n",
       " SERIAL & SAMPLE & IDENT & COUNTRY & HLDID & PERSID & DIARY & YEAR & DIARYID & PERNUM & AGE & SEX & SECTOR & WORKHRS & DISAB & PROPWT & REGION\\_FI\\\\\n",
       " <dbl> & <chr+lbl> & <dbl> & <chr+lbl> & <dbl> & <dbl> & <int+lbl> & <int> & <dbl> & <dbl> & <dbl> & <int+lbl> & <int+lbl> & <dbl+lbl> & <int+lbl> & <dbl> & <int+lbl>\\\\\n",
       "\\hline\n",
       "\t 1 & FI2009 & 10101 & FI & 11700 & 1 & 1 & 2010 & 1 & 1 & 42 & 1 &  2 & -7 & 0 & 0.2649978 & 3\\\\\n",
       "\t 2 & FI2009 & 10102 & FI & 11700 & 1 & 2 & 2010 & 2 & 1 & 42 & 1 &  2 & -7 & 0 & 0.6570081 & 3\\\\\n",
       "\t 3 & FI2009 & 10201 & FI & 11700 & 2 & 1 & 2010 & 1 & 2 & 42 & 2 &  2 & -7 & 1 & 0.2493114 & 3\\\\\n",
       "\t 4 & FI2009 & 10202 & FI & 11700 & 2 & 2 & 2010 & 2 & 2 & 42 & 2 &  2 & -7 & 1 & 0.6181168 & 3\\\\\n",
       "\t 5 & FI2009 & 20101 & FI & 11700 & 1 & 1 & 2010 & 1 & 1 & 17 & 1 & -7 & -7 & 0 & 0.2908149 & 4\\\\\n",
       "\t 6 & FI2009 & 20102 & FI & 11700 & 1 & 2 & 2010 & 2 & 1 & 17 & 1 & -7 & -7 & 0 & 0.7162496 & 4\\\\\n",
       "\\end{tabular}\n"
      ],
      "text/markdown": [
       "\n",
       "A tibble: 6 × 17\n",
       "\n",
       "| SERIAL &lt;dbl&gt; | SAMPLE &lt;chr+lbl&gt; | IDENT &lt;dbl&gt; | COUNTRY &lt;chr+lbl&gt; | HLDID &lt;dbl&gt; | PERSID &lt;dbl&gt; | DIARY &lt;int+lbl&gt; | YEAR &lt;int&gt; | DIARYID &lt;dbl&gt; | PERNUM &lt;dbl&gt; | AGE &lt;dbl&gt; | SEX &lt;int+lbl&gt; | SECTOR &lt;int+lbl&gt; | WORKHRS &lt;dbl+lbl&gt; | DISAB &lt;int+lbl&gt; | PROPWT &lt;dbl&gt; | REGION_FI &lt;int+lbl&gt; |\n",
       "|---|---|---|---|---|---|---|---|---|---|---|---|---|---|---|---|---|\n",
       "| 1 | FI2009 | 10101 | FI | 11700 | 1 | 1 | 2010 | 1 | 1 | 42 | 1 |  2 | -7 | 0 | 0.2649978 | 3 |\n",
       "| 2 | FI2009 | 10102 | FI | 11700 | 1 | 2 | 2010 | 2 | 1 | 42 | 1 |  2 | -7 | 0 | 0.6570081 | 3 |\n",
       "| 3 | FI2009 | 10201 | FI | 11700 | 2 | 1 | 2010 | 1 | 2 | 42 | 2 |  2 | -7 | 1 | 0.2493114 | 3 |\n",
       "| 4 | FI2009 | 10202 | FI | 11700 | 2 | 2 | 2010 | 2 | 2 | 42 | 2 |  2 | -7 | 1 | 0.6181168 | 3 |\n",
       "| 5 | FI2009 | 20101 | FI | 11700 | 1 | 1 | 2010 | 1 | 1 | 17 | 1 | -7 | -7 | 0 | 0.2908149 | 4 |\n",
       "| 6 | FI2009 | 20102 | FI | 11700 | 1 | 2 | 2010 | 2 | 1 | 17 | 1 | -7 | -7 | 0 | 0.7162496 | 4 |\n",
       "\n"
      ],
      "text/plain": [
       "  SERIAL SAMPLE IDENT COUNTRY HLDID PERSID DIARY YEAR DIARYID PERNUM AGE SEX\n",
       "1 1      FI2009 10101 FI      11700 1      1     2010 1       1      42  1  \n",
       "2 2      FI2009 10102 FI      11700 1      2     2010 2       1      42  1  \n",
       "3 3      FI2009 10201 FI      11700 2      1     2010 1       2      42  2  \n",
       "4 4      FI2009 10202 FI      11700 2      2     2010 2       2      42  2  \n",
       "5 5      FI2009 20101 FI      11700 1      1     2010 1       1      17  1  \n",
       "6 6      FI2009 20102 FI      11700 1      2     2010 2       1      17  1  \n",
       "  SECTOR WORKHRS DISAB PROPWT    REGION_FI\n",
       "1  2     -7      0     0.2649978 3        \n",
       "2  2     -7      0     0.6570081 3        \n",
       "3  2     -7      1     0.2493114 3        \n",
       "4  2     -7      1     0.6181168 3        \n",
       "5 -7     -7      0     0.2908149 4        \n",
       "6 -7     -7      0     0.7162496 4        "
      ]
     },
     "metadata": {},
     "output_type": "display_data"
    }
   ],
   "source": [
    "head(dat)"
   ]
  },
  {
   "cell_type": "code",
   "execution_count": 44,
   "id": "a4258bd2-7b7b-4e06-8952-d708b5a8ae67",
   "metadata": {},
   "outputs": [
    {
     "data": {
      "text/html": [
       "<style>\n",
       ".list-inline {list-style: none; margin:0; padding: 0}\n",
       ".list-inline>li {display: inline-block}\n",
       ".list-inline>li:not(:last-child)::after {content: \"\\00b7\"; padding: 0 .5ex}\n",
       "</style>\n",
       "<ol class=list-inline><li>'SERIAL'</li><li>'SAMPLE'</li><li>'IDENT'</li><li>'COUNTRY'</li><li>'HLDID'</li><li>'PERSID'</li><li>'DIARY'</li><li>'YEAR'</li><li>'DIARYID'</li><li>'PERNUM'</li><li>'AGE'</li><li>'SEX'</li><li>'SECTOR'</li><li>'WORKHRS'</li><li>'DISAB'</li><li>'PROPWT'</li><li>'REGION_FI'</li></ol>\n"
      ],
      "text/latex": [
       "\\begin{enumerate*}\n",
       "\\item 'SERIAL'\n",
       "\\item 'SAMPLE'\n",
       "\\item 'IDENT'\n",
       "\\item 'COUNTRY'\n",
       "\\item 'HLDID'\n",
       "\\item 'PERSID'\n",
       "\\item 'DIARY'\n",
       "\\item 'YEAR'\n",
       "\\item 'DIARYID'\n",
       "\\item 'PERNUM'\n",
       "\\item 'AGE'\n",
       "\\item 'SEX'\n",
       "\\item 'SECTOR'\n",
       "\\item 'WORKHRS'\n",
       "\\item 'DISAB'\n",
       "\\item 'PROPWT'\n",
       "\\item 'REGION\\_FI'\n",
       "\\end{enumerate*}\n"
      ],
      "text/markdown": [
       "1. 'SERIAL'\n",
       "2. 'SAMPLE'\n",
       "3. 'IDENT'\n",
       "4. 'COUNTRY'\n",
       "5. 'HLDID'\n",
       "6. 'PERSID'\n",
       "7. 'DIARY'\n",
       "8. 'YEAR'\n",
       "9. 'DIARYID'\n",
       "10. 'PERNUM'\n",
       "11. 'AGE'\n",
       "12. 'SEX'\n",
       "13. 'SECTOR'\n",
       "14. 'WORKHRS'\n",
       "15. 'DISAB'\n",
       "16. 'PROPWT'\n",
       "17. 'REGION_FI'\n",
       "\n",
       "\n"
      ],
      "text/plain": [
       " [1] \"SERIAL\"    \"SAMPLE\"    \"IDENT\"     \"COUNTRY\"   \"HLDID\"     \"PERSID\"   \n",
       " [7] \"DIARY\"     \"YEAR\"      \"DIARYID\"   \"PERNUM\"    \"AGE\"       \"SEX\"      \n",
       "[13] \"SECTOR\"    \"WORKHRS\"   \"DISAB\"     \"PROPWT\"    \"REGION_FI\""
      ]
     },
     "metadata": {},
     "output_type": "display_data"
    }
   ],
   "source": [
    "colnames(dat)"
   ]
  },
  {
   "cell_type": "markdown",
   "id": "6d40e037-fbcd-441c-99d2-44ba64dd530d",
   "metadata": {},
   "source": [
    "**Variable Selection**\n",
    "* Region: Finland (REGION_FI)\n",
    "* Age (AGE)\n",
    "* Sex (SEX)\n",
    "* Sector of Employment (SECTOR)\n",
    "* Hours Paid Work Last Week Including Overtime (WORKHRS)\n",
    "* Has Disability/Long-Term Health Condition (DISAB)\n",
    "\n",
    "**IPUMS Preselected Variables**\n",
    "* Person Serial Number (SERIAL)\n",
    "* Sample (SAMPLE)\n",
    "* Identifier (IDENT)\n",
    "* Country or Region of Survey (COUNTRY)\n",
    "* Household ID (HLDID)\n",
    "* Person/Diarist Identifer (PERSID)\n",
    "* Diary Order (DIARY)\n",
    "* Year Diary Kept (YEAR)\n",
    "* Diary Identifier (DIARYID)\n",
    "* Person Number (PERNUM)\n",
    "* Proposed Weight (PROPWT)"
   ]
  },
  {
   "cell_type": "markdown",
   "id": "0ce6d59b-a548-4414-8819-d37d3c41fcd1",
   "metadata": {},
   "source": [
    "### 6d. Save the Data\n",
    "\n",
    "Next let's save a couple versions of our IPUMS ACS data file.\n",
    "\n",
    "* A *.rds* version of the data.  The **R Data Serialization (RDS)** format will retain metadata for the next time we want to import the file back into R.  One downside to the .rds format is it is only useable within R.\n",
    "* A *.csv* version of the data.  The [**Comma-Separated Values (CSV)**](https://en.wikipedia.org/wiki/Comma-separated_values) format is versitile and can be easily accessed in other programs.  However, the CSV file format does not include metadata such as labels for variable levels."
   ]
  },
  {
   "cell_type": "code",
   "execution_count": null,
   "id": "15c5f0fa-4d80-4406-9829-0608d82ba037",
   "metadata": {},
   "outputs": [],
   "source": [
    "saveRDS(dat, \"ipums_mtus_example.rds\")\n",
    "write.csv(dat, \"ipums_mtus_example.csv\")"
   ]
  },
  {
   "cell_type": "markdown",
   "id": "bfc2c6c2-8555-4f2f-b568-e5cc51188c74",
   "metadata": {},
   "source": [
    "## Recommended Next Steps\n",
    "* **Continue with Chapter 2: IPUMS Data Acquisition and Extraction**\n",
    "  * 2.1: IPUMS USA Data Extraction Using ipumsr\n",
    "  * 2.2: IPUMS CPS Data Extraction Using ipumsr\n",
    "  * 2.3: IPUMS International Microdata Extraction Using ipumsr\n",
    "  * 2.4: IPUMS NHGIS Data Extraction Using ipumsr\n",
    "  * 2.6: IPUMS Health Surveys Data Extraction Using ipumsr\n",
    "  * 2.7: Reading IPUMS Global Health Data Extracts Using ipumsr\n",
    "  * 2.8: Reading IPUMS Higher Education Data Extracts Using ipumsr"
   ]
  },
  {
   "cell_type": "markdown",
   "id": "9673ce9a-9eb5-47b1-b970-617366005758",
   "metadata": {},
   "source": [
    "## Quick Code\n",
    "Don't forget to update the code with your IPUMS API key!"
   ]
  },
  {
   "cell_type": "raw",
   "id": "f39dc273-5a7c-4271-8630-357e08f19721",
   "metadata": {},
   "source": [
    "# install required packages\n",
    "# install.packages(\"ipumsr\")\n",
    "\n",
    "# load required libraries\n",
    "library(ipumsr)\n",
    "\n",
    "# set IPUMS API key\n",
    "ipums_api_key <- \"paste your api key here\"\n",
    "set_ipums_api_key(ipums_api_key, save = T, overwrite = T)\n",
    "\n",
    "# set up the data extract\n",
    "extraction <- define_extract_micro(description = \"IPUMS Data Extraction\",\n",
    "                                   collection = \"atus\",\n",
    "                                   sample = \"us2010a\",\n",
    "                                   variables = c(\"PUMA\", \"SEX\", \"AGE\", \"RACE\", \"EDUC\", \"INCTOT\"))\n",
    "\n",
    "# submit extract request and download the files\n",
    "extraction_submitted <- submit_extract(extraction)                  # submit the extract  \n",
    "extraction_complete <- wait_for_extract(extraction_submitted)       # wait for completion\n",
    "extraction_complete$status                                          # check completion\n",
    "filepath <- download_extract(extraction_submitted, overwrite = T)   # get extract filepath\n",
    "\n",
    "# extract the files\n",
    "ddi <- read_ipums_ddi(filepath)\n",
    "dat <- read_ipums_micro(ddi)\n",
    "\n",
    "# save as RDS file\n",
    "saveRDS(dat, \"ipums_usa_example.rds\", )\n",
    "\n",
    "# save as a csv file\n",
    "write.csv(dat, \"ipums_usa_example.csv\")"
   ]
  }
 ],
 "metadata": {
  "kernelspec": {
   "display_name": "R",
   "language": "R",
   "name": "ir"
  },
  "language_info": {
   "codemirror_mode": "r",
   "file_extension": ".r",
   "mimetype": "text/x-r-source",
   "name": "R",
   "pygments_lexer": "r",
   "version": "4.3.3"
  }
 },
 "nbformat": 4,
 "nbformat_minor": 5
}
