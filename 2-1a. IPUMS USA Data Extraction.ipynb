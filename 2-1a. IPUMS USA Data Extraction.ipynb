{
 "cells": [
  {
   "cell_type": "markdown",
   "id": "7aaffa8e-d021-4099-abba-a0c18aaf69b0",
   "metadata": {},
   "source": [
    "# IPUMS USA Data Extraction Using ipumsr"
   ]
  },
  {
   "cell_type": "markdown",
   "id": "57edfdd9-1fce-4120-bda5-8e1f068d0e96",
   "metadata": {},
   "source": [
    "## Introduction\n",
    "This notebook is designed to guide you through exploring, selecting, and extracting population data from [IPUMS USA](https://cps.ipums.org/usa) using the [R ipumsr package](https://cran.r-project.org/web/packages/ipumsr/index.htm).\n",
    "\n",
    "The IPUMS USA data repository includes data from the [American Communinty Survey (ACS)](https://www.census.gov/programs-surveys/acs) and [Puerto Rico Community Survey (PRCS)](https://www.census.gov/programs-surveys/acs/about/puerto-rico-community-survey.html).\n",
    "\n",
    "By working through this notebook, you will learn how to define an extraction of population data from the IPUMS USA repository and download the relevant data for analysis."
   ]
  },
  {
   "cell_type": "markdown",
   "id": "31fa7047-e5e7-4078-8033-724dab99e4b6",
   "metadata": {
    "jp-MarkdownHeadingCollapsed": true
   },
   "source": [
    "#### Overview\n",
    "This notebook includes the following sections:\n",
    "\n",
    "1. Setup\n",
    "2. USA Data Metadata Exploration\n",
    "3. USA Data Extraction Specification and Submission"
   ]
  },
  {
   "cell_type": "markdown",
   "id": "ac7b9cd6-908f-4cb6-a648-d3c8f7581c53",
   "metadata": {},
   "source": [
    "## 1. Setup\n",
    "\n",
    "Before running this script, you will need to install and load the *ipumsr* package into your R environment:\n",
    "\n",
    "[**ipumsr**](https://cran.r-project.org/web/packages/ipumsr/index.html) A package specifically designed to interact with IPUMS datasets, including NHGIS. It allows users to define and submit data extraction requests, download data, and read it directly into R for analysis.  This notebook uses the the following functions from *ipumsr*.\n",
    "\n",
    "* *set_ipums_api_key()* for setting your IPUMS API key\r\n",
    "* *get_sample_info()* for retrieving sample identification codes and descriptions for IPUMS microdata collections\n",
    "* *define_extract_micro()* for defining the parameters of an IPUMS microdata extract request to be submitted via the IPUMS API\n",
    "* *submit_exract()* for submitting an extract request via the IPUMS API and return an *ipums_extract* object\n",
    "* *wait_for_extract()* wait for an extract to finish processing\n",
    "* *download_extract()* download an extract's data files\n",
    "* *read_ipums_ddi()* for reading metadata about an IPUMS microdata extract from a DDI codebook (.xml) file\n",
    "* *read_ipums_micro()* for reading data from an IPUMS microdata extract\n",
    "\n",
    "If you are working in the I-GUIDE environment, the *ipumsr* package should be already be installed.  However you will still need to load the package into your workspace using *library* base R function."
   ]
  },
  {
   "cell_type": "code",
   "execution_count": 1,
   "id": "8b7f2f90-2b0d-47e9-a088-596751cb3dbe",
   "metadata": {},
   "outputs": [],
   "source": [
    "library(ipumsr)"
   ]
  },
  {
   "cell_type": "markdown",
   "id": "d91a1587-dbef-4dda-a967-07b3953b532f",
   "metadata": {},
   "source": [
    "Run the following code to enter your [IPUMS API key](https://account.ipums.org/api_keys)."
   ]
  },
  {
   "cell_type": "code",
   "execution_count": 4,
   "id": "ae999683-c024-47d7-9936-55d91ce26e82",
   "metadata": {},
   "outputs": [
    {
     "name": "stdin",
     "output_type": "stream",
     "text": [
      "Please enter your IPUMSS API key:  59cba10d8a5da536fc06b59dd85f877c475a4c7d96dd08a9ce04d9d0\n"
     ]
    },
    {
     "name": "stderr",
     "output_type": "stream",
     "text": [
      "Existing .Renviron file copied to /home/jovyan/.Renviron_backup for backup purposes.\n",
      "\n",
      "The environment variable IPUMS_API_KEY has been set and saved for future sessions.\n",
      "\n"
     ]
    }
   ],
   "source": [
    "my_ipumps_api_key = readline(\"Please enter your IPUMS API key: \")\n",
    "set_ipums_api_key(my_ipumps_api_key, save = T, overwrite = T)"
   ]
  },
  {
   "cell_type": "markdown",
   "id": "919ebf75-7e15-41ac-9b2c-ac5949828566",
   "metadata": {},
   "source": [
    "## 2. Metadata Exploration\n",
    "\n",
    "Next, let's take a look at the entire set of available datasets within the USA data repository.  The USA data available for direct extraction using the IPUMS API primairly focus on the [American Communinty Survey (ACS)](https://www.census.gov/programs-surveys/acs) and [Puerto Rico Community Survey (PRCS)](https://www.census.gov/programs-surveys/acs/about/puerto-rico-community-survey.html).\n",
    "\n",
    "The ACS and PRCS are are annual surveys conducted by the U.S. Census Bureau that collect information on a subset of the U.S. population.  The ACS collects data on a variety of topics, including income, poverty, education, marital status, health insurance coverage, disability, occupancy, costs, tenure, and units by type.  It is a more in-depth supplement to the Decennial U.S. Census and in 2005 replaced the long-form version of the Decennial Census survey which was previously conducted every ten years.  Each year the ACS samples over 3.5 million housing units across the United States with a new sample of about 250,000 addresses drawn each month.\n",
    "\n",
    "ACS and PRCS are available as single-year datasets as well as three- and five-year summaries of the data.  The three- and five-year summary data are often used in lieu of the single-year data as they are less susceptible to anomalies.\n",
    "\n",
    "The IPUMS Data also includes population counts and samples dating back to 1850 but, for this exercise, we will focus on the ACS sample data which has been the standard USA population sample survey since 2005.  Refer to the [Descriptions of IPUMS Samples](https://usa.ipums.org/usa/sampdesc.shtml) page on the IPUMS USA website for a list of all IPUMS USA data sets and their descriptions.\n",
    "\n",
    "The *get_sample_info* function form the ipumsr package returns a list of all datasets from the specified IPUMS data repository which are available to be downloaded using the ipumsr API.  We will reuqest the list of datasets from the USA (usa) repository and print the full list."
   ]
  },
  {
   "cell_type": "code",
   "execution_count": 9,
   "id": "2d2d982a-33bf-458d-b97f-8f4cd66304e2",
   "metadata": {},
   "outputs": [
    {
     "name": "stdout",
     "output_type": "stream",
     "text": [
      "\u001b[90m# A tibble: 146 × 2\u001b[39m\n",
      "    name    description                               \n",
      "    \u001b[3m\u001b[90m<chr>\u001b[39m\u001b[23m   \u001b[3m\u001b[90m<chr>\u001b[39m\u001b[23m                                     \n",
      "\u001b[90m  1\u001b[39m us1850a 1850 1%                                   \n",
      "\u001b[90m  2\u001b[39m us1850c 1850 100% sample (Revised November 2023)  \n",
      "\u001b[90m  3\u001b[39m us1860a 1860 1%                                   \n",
      "\u001b[90m  4\u001b[39m us1860b 1860 1% sample with black oversample      \n",
      "\u001b[90m  5\u001b[39m us1860c 1860 100% sample (Revised November 2023)  \n",
      "\u001b[90m  6\u001b[39m us1870a 1870 1%                                   \n",
      "\u001b[90m  7\u001b[39m us1870b 1870 1% sample with black oversample      \n",
      "\u001b[90m  8\u001b[39m us1870c 1870 100% sample (Revised November 2023)  \n",
      "\u001b[90m  9\u001b[39m us1880a 1880 1%                                   \n",
      "\u001b[90m 10\u001b[39m us1880d 1880 10%                                  \n",
      "\u001b[90m 11\u001b[39m us1880e 1880 100% database (Revised November 2023)\n",
      "\u001b[90m 12\u001b[39m us1900k 1900 1%                                   \n",
      "\u001b[90m 13\u001b[39m us1900j 1900 5%                                   \n",
      "\u001b[90m 14\u001b[39m us1900l 1900 1% sample with oversamples           \n",
      "\u001b[90m 15\u001b[39m us1900m 1900 100% database                        \n",
      "\u001b[90m 16\u001b[39m us1910h 1910 Puerto Rico                          \n",
      "\u001b[90m 17\u001b[39m us1910k 1910 1%                                   \n",
      "\u001b[90m 18\u001b[39m us1910l 1910 1.4% sample with oversamples         \n",
      "\u001b[90m 19\u001b[39m us1910m 1910 100% database                        \n",
      "\u001b[90m 20\u001b[39m us1920a 1920 1%                                   \n",
      "\u001b[90m 21\u001b[39m us1920b 1920 Puerto Rico sample                   \n",
      "\u001b[90m 22\u001b[39m us1920c 1920 100% database                        \n",
      "\u001b[90m 23\u001b[39m us1930a 1930 1%                                   \n",
      "\u001b[90m 24\u001b[39m us1930b 1930 5%                                   \n",
      "\u001b[90m 25\u001b[39m us1930c 1930 Puerto Rico                          \n",
      "\u001b[90m 26\u001b[39m us1930d 1930 100% database                        \n",
      "\u001b[90m 27\u001b[39m us1940a 1940 1%                                   \n",
      "\u001b[90m 28\u001b[39m us1940b 1940 100% database                        \n",
      "\u001b[90m 29\u001b[39m us1950a 1950 1%                                   \n",
      "\u001b[90m 30\u001b[39m us1950b 1950 100% database                        \n",
      "\u001b[90m 31\u001b[39m us1960a 1960 1%                                   \n",
      "\u001b[90m 32\u001b[39m us1960b 1960 5%                                   \n",
      "\u001b[90m 33\u001b[39m us1970a 1970 Form 1 State                         \n",
      "\u001b[90m 34\u001b[39m us1970b 1970 Form 2 State                         \n",
      "\u001b[90m 35\u001b[39m us1970c 1970 Form 1 Metro                         \n",
      "\u001b[90m 36\u001b[39m us1970d 1970 Form 2 Metro                         \n",
      "\u001b[90m 37\u001b[39m us1970e 1970 Form 1 Neighborhood                  \n",
      "\u001b[90m 38\u001b[39m us1970f 1970 Form 2 Neighborhood                  \n",
      "\u001b[90m 39\u001b[39m us1970h 1970 Puerto Rico State                    \n",
      "\u001b[90m 40\u001b[39m us1970i 1970 Puerto Rico Municipio                \n",
      "\u001b[90m 41\u001b[39m us1970j 1970 Puerto Rico Neighborhood             \n",
      "\u001b[90m 42\u001b[39m us1980a 1980 5%                                   \n",
      "\u001b[90m 43\u001b[39m us1980b 1980 1%                                   \n",
      "\u001b[90m 44\u001b[39m us1980c 1980 Urban/Rural                          \n",
      "\u001b[90m 45\u001b[39m us1980d 1980 Labor Market Area                    \n",
      "\u001b[90m 46\u001b[39m us1980e 1980 Detailed metro/non-metro             \n",
      "\u001b[90m 47\u001b[39m us1980f 1980 Puerto Rico 5%                       \n",
      "\u001b[90m 48\u001b[39m us1980g 1980 Puerto Rico 1%                       \n",
      "\u001b[90m 49\u001b[39m us1990a 1990 5%                                   \n",
      "\u001b[90m 50\u001b[39m us1990b 1990 1%                                   \n",
      "\u001b[90m 51\u001b[39m us1990c 1990 Unweighted 1%                        \n",
      "\u001b[90m 52\u001b[39m us1990d 1990 Elderly                              \n",
      "\u001b[90m 53\u001b[39m us1990e 1990 Labor Market Area                    \n",
      "\u001b[90m 54\u001b[39m us1990f 1990 Puerto Rico 5%                       \n",
      "\u001b[90m 55\u001b[39m us1990g 1990 Puerto Rico 1%                       \n",
      "\u001b[90m 56\u001b[39m us2000a 2000 5%                                   \n",
      "\u001b[90m 57\u001b[39m us2000b 2000 1% sample (old version)              \n",
      "\u001b[90m 58\u001b[39m us2000c 2000 Unweighted 1%                        \n",
      "\u001b[90m 59\u001b[39m us2000d 2000 ACS                                  \n",
      "\u001b[90m 60\u001b[39m us2000e 2000 Puerto Rico 5%                       \n",
      "\u001b[90m 61\u001b[39m us2000f 2000 Puerto Rico 1% sample (old version)  \n",
      "\u001b[90m 62\u001b[39m us2000g 2000 1%                                   \n",
      "\u001b[90m 63\u001b[39m us2000h 2000 Puerto Rico 1%                       \n",
      "\u001b[90m 64\u001b[39m us2001a 2001 ACS                                  \n",
      "\u001b[90m 65\u001b[39m us2002a 2002 ACS                                  \n",
      "\u001b[90m 66\u001b[39m us2003a 2003 ACS                                  \n",
      "\u001b[90m 67\u001b[39m us2004a 2004 ACS                                  \n",
      "\u001b[90m 68\u001b[39m us2005a 2005 ACS                                  \n",
      "\u001b[90m 69\u001b[39m us2005b 2005 PRCS                                 \n",
      "\u001b[90m 70\u001b[39m us2006a 2006 ACS                                  \n",
      "\u001b[90m 71\u001b[39m us2006b 2006 PRCS                                 \n",
      "\u001b[90m 72\u001b[39m us2007a 2007 ACS                                  \n",
      "\u001b[90m 73\u001b[39m us2007b 2007 PRCS                                 \n",
      "\u001b[90m 74\u001b[39m us2007c 2005-2007, ACS 3-year                     \n",
      "\u001b[90m 75\u001b[39m us2007d 2005-2007, PRCS 3-year                    \n",
      "\u001b[90m 76\u001b[39m us2008a 2008 ACS                                  \n",
      "\u001b[90m 77\u001b[39m us2008b 2008 PRCS                                 \n",
      "\u001b[90m 78\u001b[39m us2008c 2006-2008, ACS 3-year                     \n",
      "\u001b[90m 79\u001b[39m us2008d 2006-2008, PRCS 3-year                    \n",
      "\u001b[90m 80\u001b[39m us2009a 2009 ACS                                  \n",
      "\u001b[90m 81\u001b[39m us2009b 2009 PRCS                                 \n",
      "\u001b[90m 82\u001b[39m us2009c 2007-2009, ACS 3-year                     \n",
      "\u001b[90m 83\u001b[39m us2009d 2007-2009, PRCS 3-year                    \n",
      "\u001b[90m 84\u001b[39m us2009e 2005-2009, ACS 5-year                     \n",
      "\u001b[90m 85\u001b[39m us2009f 2005-2009, PRCS 5-year                    \n",
      "\u001b[90m 86\u001b[39m us2010a 2010 ACS                                  \n",
      "\u001b[90m 87\u001b[39m us2010b 2010 PRCS                                 \n",
      "\u001b[90m 88\u001b[39m us2010c 2008-2010, ACS 3-year                     \n",
      "\u001b[90m 89\u001b[39m us2010d 2008-2010, PRCS 3-year                    \n",
      "\u001b[90m 90\u001b[39m us2010e 2006-2010, ACS 5-year                     \n",
      "\u001b[90m 91\u001b[39m us2010f 2006-2010, PRCS 5-year                    \n",
      "\u001b[90m 92\u001b[39m us2010g 2010 10%                                  \n",
      "\u001b[90m 93\u001b[39m us2010h 2010 Puerto Rico 10%                      \n",
      "\u001b[90m 94\u001b[39m us2011a 2011 ACS                                  \n",
      "\u001b[90m 95\u001b[39m us2011b 2011 PRCS                                 \n",
      "\u001b[90m 96\u001b[39m us2011c 2009-2011, ACS 3-year                     \n",
      "\u001b[90m 97\u001b[39m us2011d 2009-2011, PRCS 3-year                    \n",
      "\u001b[90m 98\u001b[39m us2011e 2007-2011, ACS 5-year                     \n",
      "\u001b[90m 99\u001b[39m us2011f 2007-2011, PRCS 5-year                    \n",
      "\u001b[90m100\u001b[39m us2012a 2012 ACS                                  \n",
      "\u001b[90m101\u001b[39m us2012b 2012 PRCS                                 \n",
      "\u001b[90m102\u001b[39m us2012c 2010-2012, ACS 3-year                     \n",
      "\u001b[90m103\u001b[39m us2012d 2010-2012, PRCS 3-year                    \n",
      "\u001b[90m104\u001b[39m us2012e 2008-2012, ACS 5-year                     \n",
      "\u001b[90m105\u001b[39m us2012f 2008-2012, PRCS 5-year                    \n",
      "\u001b[90m106\u001b[39m us2013a 2013 ACS                                  \n",
      "\u001b[90m107\u001b[39m us2013b 2013 PRCS                                 \n",
      "\u001b[90m108\u001b[39m us2013c 2011-2013, ACS 3-year                     \n",
      "\u001b[90m109\u001b[39m us2013d 2011-2013, PRCS 3-year                    \n",
      "\u001b[90m110\u001b[39m us2013e 2009-2013, ACS 5-year                     \n",
      "\u001b[90m111\u001b[39m us2013f 2009-2013, PRCS 5-year                    \n",
      "\u001b[90m112\u001b[39m us2014a 2014 ACS                                  \n",
      "\u001b[90m113\u001b[39m us2014b 2014 PRCS                                 \n",
      "\u001b[90m114\u001b[39m us2014c 2010-2014, ACS 5-year                     \n",
      "\u001b[90m115\u001b[39m us2014d 2010-2014, PRCS 5-year                    \n",
      "\u001b[90m116\u001b[39m us2015a 2015 ACS                                  \n",
      "\u001b[90m117\u001b[39m us2015b 2015 PRCS                                 \n",
      "\u001b[90m118\u001b[39m us2015c 2011-2015, ACS 5-year                     \n",
      "\u001b[90m119\u001b[39m us2015d 2011-2015, PRCS 5-year                    \n",
      "\u001b[90m120\u001b[39m us2016a 2016 ACS                                  \n",
      "\u001b[90m121\u001b[39m us2016b 2016 PRCS                                 \n",
      "\u001b[90m122\u001b[39m us2016c 2012-2016, ACS 5-year                     \n",
      "\u001b[90m123\u001b[39m us2016d 2012-2016, PRCS 5-year                    \n",
      "\u001b[90m124\u001b[39m us2017a 2017 ACS                                  \n",
      "\u001b[90m125\u001b[39m us2017b 2017 PRCS                                 \n",
      "\u001b[90m126\u001b[39m us2017c 2013-2017, ACS 5-year                     \n",
      "\u001b[90m127\u001b[39m us2017d 2013-2017, PRCS 5-year                    \n",
      "\u001b[90m128\u001b[39m us2018a 2018 ACS                                  \n",
      "\u001b[90m129\u001b[39m us2018b 2018 PRCS                                 \n",
      "\u001b[90m130\u001b[39m us2018c 2014-2018, ACS 5-year                     \n",
      "\u001b[90m131\u001b[39m us2018d 2014-2018, PRCS 5-year                    \n",
      "\u001b[90m132\u001b[39m us2019a 2019 ACS                                  \n",
      "\u001b[90m133\u001b[39m us2019b 2019 PRCS                                 \n",
      "\u001b[90m134\u001b[39m us2019c 2015-2019, ACS 5-year                     \n",
      "\u001b[90m135\u001b[39m us2019d 2015-2019, PRCS 5-year                    \n",
      "\u001b[90m136\u001b[39m us2020a 2020 ACS                                  \n",
      "\u001b[90m137\u001b[39m us2020c 2016-2020, ACS 5-year                     \n",
      "\u001b[90m138\u001b[39m us2020d 2016-2020, PRCS 5-year                    \n",
      "\u001b[90m139\u001b[39m us2021a 2021 ACS                                  \n",
      "\u001b[90m140\u001b[39m us2021b 2021 PRCS                                 \n",
      "\u001b[90m141\u001b[39m us2021c 2017-2021, ACS 5-year                     \n",
      "\u001b[90m142\u001b[39m us2021d 2017-2021, PRCS 5-year                    \n",
      "\u001b[90m143\u001b[39m us2022a 2022 ACS                                  \n",
      "\u001b[90m144\u001b[39m us2022b 2022 PRCS                                 \n",
      "\u001b[90m145\u001b[39m us2022c 2018-2022, ACS 5-year                     \n",
      "\u001b[90m146\u001b[39m us2022d 2018-2022, PRCS 5-year                    \n"
     ]
    }
   ],
   "source": [
    "metadata <- get_sample_info(\"usa\") %>% print(n = Inf)"
   ]
  },
  {
   "cell_type": "markdown",
   "id": "edfd9db7-2c73-4d79-a6f6-1bc3c4e587d5",
   "metadata": {},
   "source": [
    "For this exercise, we will be work with the 2022 five-year ACS data (us2022c).  In the IPUMS specification, ACS and PRCS multi-year summaries are referred to by the final year in the corresponding time range.  So the 2022 five-year ACS is a summary of the 2018, 2019, 2020, 2021, and 2022 ACS surveys.\n",
    "\n",
    "The data extraction process does allow us to download multiple datasets, but for this exercise we will only download the us2022c ACS data.\n",
    "\n",
    "As mentioned, the ACS includes a wide range of variables on many topics.  Here we will focus on the following selection of demographic variables.\n",
    "\n",
    "1. sex (SEX)\n",
    "2. age (AGE)\n",
    "3. race (RACE)\n",
    "4. educational attainment (EDUC)\n",
    "5. total income (INCTOT)\n",
    "\n",
    "And include a couple geography reference variables.\n",
    "\n",
    "6. state FIPS code (STATEFIP)\n",
    "7. county FIPS code (COUNTYFIP)"
   ]
  },
  {
   "cell_type": "markdown",
   "id": "dfb856be-d79c-47d1-83a8-3ddd0614f84e",
   "metadata": {},
   "source": [
    "## 3. Extraction Specification and Submission\n",
    "\n",
    "Once we know the dataset and variable selection we want, we can define our data extraction using the *define_extract_micro* function from the *ipumsr* package.  This function requires the following parameters:\n",
    "\n",
    "* **collection** Code for the IPUMS collection represented by this extract request.  In our case we are downloading from IPUMS USA so we use the code \"usa\".  The other collections include CPS (cps), International (ipumsi), Time Use (atus, ahtus, or mtus), and Health Surveys (nhgis or meps).\n",
    "* **description** Description of the extract.\n",
    "* **samples** Vector of samples to include in the extracft request.  In our case we are downloading the ACS 2022 5-year summary data (us2022c).\n",
    "* **variables** Vector of variable names or a list of detailed variable specifications to include in the extract request.\n",
    "\n",
    "For additional information on *define_extract_micro* and other ipumsr functions, refer to [the CRAN ipumsr reference manual](https://cran.r-project.org/web/packages/ipumsr/ipumsr.pdf)."
   ]
  },
  {
   "cell_type": "code",
   "execution_count": 11,
   "id": "9c67f25c-11f6-4e16-984d-f3286de5c074",
   "metadata": {},
   "outputs": [],
   "source": [
    "extract_definition <- define_extract_micro(\n",
    "  collection = \"usa\",\n",
    "  description = \"Example ACS extract\",\n",
    "  samples = c(\"us2022c\"),\n",
    "  variables = c(\"STATEFIP\", \"COUNTYFIP\", \"SEX\", \"AGE\", \"RACE\", \"EDUC\", \"INCTOT\")\n",
    ")"
   ]
  },
  {
   "cell_type": "markdown",
   "id": "9d53d79e-3b04-4940-823b-d310425ef5e6",
   "metadata": {},
   "source": [
    "Review the extraction definition to make sure we have set it up the way we intended."
   ]
  },
  {
   "cell_type": "code",
   "execution_count": 12,
   "id": "7f2dec08-3ae7-404c-b305-e55a8e555dd5",
   "metadata": {},
   "outputs": [
    {
     "data": {
      "text/html": [
       "<dl>\n",
       "\t<dt>$collection</dt>\n",
       "\t\t<dd>'usa'</dd>\n",
       "\t<dt>$description</dt>\n",
       "\t\t<dd>'Example ACS extract'</dd>\n",
       "\t<dt>$samples</dt>\n",
       "\t\t<dd><strong>$us2022c</strong> = <strong>$name</strong> = 'us2022c'</dd>\n",
       "\t<dt>$variables</dt>\n",
       "\t\t<dd><dl>\n",
       "\t<dt>$STATEFIP</dt>\n",
       "\t\t<dd><strong>$name</strong> = 'STATEFIP'</dd>\n",
       "\t<dt>$COUNTYFIP</dt>\n",
       "\t\t<dd><strong>$name</strong> = 'COUNTYFIP'</dd>\n",
       "\t<dt>$SEX</dt>\n",
       "\t\t<dd><strong>$name</strong> = 'SEX'</dd>\n",
       "\t<dt>$AGE</dt>\n",
       "\t\t<dd><strong>$name</strong> = 'AGE'</dd>\n",
       "\t<dt>$RACE</dt>\n",
       "\t\t<dd><strong>$name</strong> = 'RACE'</dd>\n",
       "\t<dt>$EDUC</dt>\n",
       "\t\t<dd><strong>$name</strong> = 'EDUC'</dd>\n",
       "\t<dt>$INCTOT</dt>\n",
       "\t\t<dd><strong>$name</strong> = 'INCTOT'</dd>\n",
       "</dl>\n",
       "</dd>\n",
       "\t<dt>$time_use_variables</dt>\n",
       "\t\t<dd>NULL</dd>\n",
       "\t<dt>$sample_members</dt>\n",
       "\t\t<dd>NULL</dd>\n",
       "\t<dt>$data_format</dt>\n",
       "\t\t<dd>'fixed_width'</dd>\n",
       "\t<dt>$data_structure</dt>\n",
       "\t\t<dd>'rectangular'</dd>\n",
       "\t<dt>$rectangular_on</dt>\n",
       "\t\t<dd>'P'</dd>\n",
       "\t<dt>$case_select_who</dt>\n",
       "\t\t<dd>'individuals'</dd>\n",
       "\t<dt>$data_quality_flags</dt>\n",
       "\t\t<dd>NULL</dd>\n",
       "\t<dt>$submitted</dt>\n",
       "\t\t<dd>FALSE</dd>\n",
       "\t<dt>$download_links</dt>\n",
       "\t\t<dd><dl>\n",
       "</dl>\n",
       "</dd>\n",
       "\t<dt>$number</dt>\n",
       "\t\t<dd>&lt;NA&gt;</dd>\n",
       "\t<dt>$status</dt>\n",
       "\t\t<dd>'unsubmitted'</dd>\n",
       "</dl>\n"
      ],
      "text/latex": [
       "\\begin{description}\n",
       "\\item[\\$collection] 'usa'\n",
       "\\item[\\$description] 'Example ACS extract'\n",
       "\\item[\\$samples] \\textbf{\\$us2022c} = \\textbf{\\$name} = 'us2022c'\n",
       "\\item[\\$variables] \\begin{description}\n",
       "\\item[\\$STATEFIP] \\textbf{\\$name} = 'STATEFIP'\n",
       "\\item[\\$COUNTYFIP] \\textbf{\\$name} = 'COUNTYFIP'\n",
       "\\item[\\$SEX] \\textbf{\\$name} = 'SEX'\n",
       "\\item[\\$AGE] \\textbf{\\$name} = 'AGE'\n",
       "\\item[\\$RACE] \\textbf{\\$name} = 'RACE'\n",
       "\\item[\\$EDUC] \\textbf{\\$name} = 'EDUC'\n",
       "\\item[\\$INCTOT] \\textbf{\\$name} = 'INCTOT'\n",
       "\\end{description}\n",
       "\n",
       "\\item[\\$time\\_use\\_variables] NULL\n",
       "\\item[\\$sample\\_members] NULL\n",
       "\\item[\\$data\\_format] 'fixed\\_width'\n",
       "\\item[\\$data\\_structure] 'rectangular'\n",
       "\\item[\\$rectangular\\_on] 'P'\n",
       "\\item[\\$case\\_select\\_who] 'individuals'\n",
       "\\item[\\$data\\_quality\\_flags] NULL\n",
       "\\item[\\$submitted] FALSE\n",
       "\\item[\\$download\\_links] \\begin{description}\n",
       "\\end{description}\n",
       "\n",
       "\\item[\\$number] <NA>\n",
       "\\item[\\$status] 'unsubmitted'\n",
       "\\end{description}\n"
      ],
      "text/markdown": [
       "$collection\n",
       ":   'usa'\n",
       "$description\n",
       ":   'Example ACS extract'\n",
       "$samples\n",
       ":   **$us2022c** = **$name** = 'us2022c'\n",
       "$variables\n",
       ":   $STATEFIP\n",
       ":   **$name** = 'STATEFIP'\n",
       "$COUNTYFIP\n",
       ":   **$name** = 'COUNTYFIP'\n",
       "$SEX\n",
       ":   **$name** = 'SEX'\n",
       "$AGE\n",
       ":   **$name** = 'AGE'\n",
       "$RACE\n",
       ":   **$name** = 'RACE'\n",
       "$EDUC\n",
       ":   **$name** = 'EDUC'\n",
       "$INCTOT\n",
       ":   **$name** = 'INCTOT'\n",
       "\n",
       "\n",
       "\n",
       "$time_use_variables\n",
       ":   NULL\n",
       "$sample_members\n",
       ":   NULL\n",
       "$data_format\n",
       ":   'fixed_width'\n",
       "$data_structure\n",
       ":   'rectangular'\n",
       "$rectangular_on\n",
       ":   'P'\n",
       "$case_select_who\n",
       ":   'individuals'\n",
       "$data_quality_flags\n",
       ":   NULL\n",
       "$submitted\n",
       ":   FALSE\n",
       "$download_links\n",
       ":   \n",
       "\n",
       "\n",
       "$number\n",
       ":   &lt;NA&gt;\n",
       "$status\n",
       ":   'unsubmitted'\n",
       "\n",
       "\n"
      ],
      "text/plain": [
       "Unsubmitted IPUMS USA extract \n",
       "Description: Example ACS extract\n",
       "\n",
       "\u001b[1mSamples: \u001b[22m(1 total) us2022c\n",
       "\u001b[1mVariables: \u001b[22m(7 total) STATEFIP, COUNTYFIP, SEX, AGE, RACE, EDUC, INCTOT"
      ]
     },
     "metadata": {},
     "output_type": "display_data"
    }
   ],
   "source": [
    "extract_definition"
   ]
  },
  {
   "cell_type": "markdown",
   "id": "3a310e2f-9a4f-474b-9beb-2e037cf73b94",
   "metadata": {},
   "source": [
    "Everything looks good so we will submit the extraction request, wait for it to complete, and download the resulting data."
   ]
  },
  {
   "cell_type": "code",
   "execution_count": 13,
   "id": "63b7f353-9579-46da-9d3f-0103a88773c4",
   "metadata": {},
   "outputs": [
    {
     "name": "stderr",
     "output_type": "stream",
     "text": [
      "Successfully submitted IPUMS USA extract number 17\n",
      "\n",
      "Checking extract status...\n",
      "\n",
      "Waiting 10 seconds...\n",
      "\n",
      "Checking extract status...\n",
      "\n",
      "Waiting 20 seconds...\n",
      "\n",
      "Checking extract status...\n",
      "\n",
      "Waiting 30 seconds...\n",
      "\n",
      "Checking extract status...\n",
      "\n",
      "Waiting 40 seconds...\n",
      "\n",
      "Checking extract status...\n",
      "\n",
      "Waiting 50 seconds...\n",
      "\n",
      "Checking extract status...\n",
      "\n",
      "IPUMS USA extract 17 is ready to download.\n",
      "\n"
     ]
    },
    {
     "data": {
      "text/html": [
       "'completed'"
      ],
      "text/latex": [
       "'completed'"
      ],
      "text/markdown": [
       "'completed'"
      ],
      "text/plain": [
       "[1] \"completed\""
      ]
     },
     "metadata": {},
     "output_type": "display_data"
    },
    {
     "name": "stdout",
     "output_type": "stream",
     "text": [
      "  |======================================================================| 100%\n",
      "  |======================================================================| 100%\n"
     ]
    },
    {
     "name": "stderr",
     "output_type": "stream",
     "text": [
      "DDI codebook file saved to /home/jovyan/pipelines/1 - Data Acquisition and Extraction /usa_00017.xml\n",
      "Data file saved to /home/jovyan/pipelines/1 - Data Acquisition and Extraction /usa_00017.dat.gz\n",
      "\n"
     ]
    }
   ],
   "source": [
    "# submit extraction  \n",
    "extract_submitted <- submit_extract(extract_definition)\n",
    "\n",
    "# wait for completion\n",
    "extraction_complete <- wait_for_extract(extract_submitted)\n",
    "\n",
    "# check completion status\n",
    "extraction_complete$status\n",
    "\n",
    "# get extraction filepath\n",
    "filepath <- download_extract(extract_submitted, overwrite = T)"
   ]
  },
  {
   "cell_type": "markdown",
   "id": "2632fbdd-afcd-4e98-9d2b-4e43578951a1",
   "metadata": {},
   "source": [
    "Your data extraction download will contain the following two files.\n",
    "\n",
    "1. A [DDI (Data Documentation Initiative)](https://ddialliance.org) codebook file (file extension .xml) containing metadata and descriptive information for you data.\n",
    "2. A zipped data (.dat) file (file extension .dat.gz) containing your data.\n",
    "\n",
    "We need to read the ddi and data files into a format which we can work with in R."
   ]
  },
  {
   "cell_type": "code",
   "execution_count": 14,
   "id": "58524925-702d-4911-8471-3534b15974f9",
   "metadata": {},
   "outputs": [
    {
     "name": "stderr",
     "output_type": "stream",
     "text": [
      "Use of data from IPUMS USA is subject to conditions including that users should cite the data appropriately. Use command `ipums_conditions()` for more details.\n",
      "\n"
     ]
    }
   ],
   "source": [
    "ddi <- read_ipums_ddi(filepath)\n",
    "dat <- read_ipums_micro(ddi)"
   ]
  },
  {
   "cell_type": "markdown",
   "id": "4bf547c7-be86-4fb4-af93-62e5ddb12032",
   "metadata": {},
   "source": [
    "We now have a useable version of our dataset stored in *dat*.  Let's take a look at the number of observations and variables in the data."
   ]
  },
  {
   "cell_type": "code",
   "execution_count": 15,
   "id": "d4f152d0-cc80-4187-a841-0ec62baa9870",
   "metadata": {},
   "outputs": [
    {
     "data": {
      "text/html": [
       "<style>\n",
       ".list-inline {list-style: none; margin:0; padding: 0}\n",
       ".list-inline>li {display: inline-block}\n",
       ".list-inline>li:not(:last-child)::after {content: \"\\00b7\"; padding: 0 .5ex}\n",
       "</style>\n",
       "<ol class=list-inline><li>15721123</li><li>20</li></ol>\n"
      ],
      "text/latex": [
       "\\begin{enumerate*}\n",
       "\\item 15721123\n",
       "\\item 20\n",
       "\\end{enumerate*}\n"
      ],
      "text/markdown": [
       "1. 15721123\n",
       "2. 20\n",
       "\n",
       "\n"
      ],
      "text/plain": [
       "[1] 15721123       20"
      ]
     },
     "metadata": {},
     "output_type": "display_data"
    }
   ],
   "source": [
    "dim(dat)"
   ]
  },
  {
   "cell_type": "markdown",
   "id": "8261cdfa-e7d7-49b4-90c1-c6f5d60bbfd9",
   "metadata": {},
   "source": [
    "The 2022 5-year ACS data includes information on 20 variables for 15,721,123 individuals.  This makes sense since we know the ACS surveys about 3.5 million individuals and our dataset corresponds to five years of ACS data.\n",
    "\n",
    "Let's take a look at the first few lines of the data file."
   ]
  },
  {
   "cell_type": "code",
   "execution_count": 16,
   "id": "f730e18a-de12-48a6-9e18-d56121a68df1",
   "metadata": {},
   "outputs": [
    {
     "data": {
      "text/html": [
       "<table class=\"dataframe\">\n",
       "<caption>A tibble: 6 × 20</caption>\n",
       "<thead>\n",
       "\t<tr><th scope=col>YEAR</th><th scope=col>MULTYEAR</th><th scope=col>SAMPLE</th><th scope=col>SERIAL</th><th scope=col>CBSERIAL</th><th scope=col>HHWT</th><th scope=col>CLUSTER</th><th scope=col>STATEFIP</th><th scope=col>COUNTYFIP</th><th scope=col>STRATA</th><th scope=col>GQ</th><th scope=col>PERNUM</th><th scope=col>PERWT</th><th scope=col>SEX</th><th scope=col>AGE</th><th scope=col>RACE</th><th scope=col>RACED</th><th scope=col>EDUC</th><th scope=col>EDUCD</th><th scope=col>INCTOT</th></tr>\n",
       "\t<tr><th scope=col>&lt;int&gt;</th><th scope=col>&lt;dbl&gt;</th><th scope=col>&lt;int+lbl&gt;</th><th scope=col>&lt;dbl&gt;</th><th scope=col>&lt;dbl&gt;</th><th scope=col>&lt;dbl&gt;</th><th scope=col>&lt;dbl&gt;</th><th scope=col>&lt;int+lbl&gt;</th><th scope=col>&lt;dbl+lbl&gt;</th><th scope=col>&lt;dbl&gt;</th><th scope=col>&lt;int+lbl&gt;</th><th scope=col>&lt;dbl&gt;</th><th scope=col>&lt;dbl&gt;</th><th scope=col>&lt;int+lbl&gt;</th><th scope=col>&lt;int+lbl&gt;</th><th scope=col>&lt;int+lbl&gt;</th><th scope=col>&lt;int+lbl&gt;</th><th scope=col>&lt;int+lbl&gt;</th><th scope=col>&lt;int+lbl&gt;</th><th scope=col>&lt;dbl+lbl&gt;</th></tr>\n",
       "</thead>\n",
       "<tbody>\n",
       "\t<tr><td>2022</td><td>2018</td><td>202203</td><td>1</td><td>2.01801e+12</td><td>17</td><td>2.022e+12</td><td>1</td><td> 0</td><td>160001</td><td>4</td><td>1</td><td>17</td><td>2</td><td>19</td><td>1</td><td>100</td><td>6</td><td>65</td><td>-1754</td></tr>\n",
       "\t<tr><td>2022</td><td>2018</td><td>202203</td><td>2</td><td>2.01801e+12</td><td>17</td><td>2.022e+12</td><td>1</td><td>81</td><td>190001</td><td>4</td><td>1</td><td>17</td><td>2</td><td>18</td><td>2</td><td>200</td><td>6</td><td>65</td><td> 1870</td></tr>\n",
       "\t<tr><td>2022</td><td>2018</td><td>202203</td><td>3</td><td>2.01801e+12</td><td>24</td><td>2.022e+12</td><td>1</td><td> 0</td><td>200001</td><td>3</td><td>1</td><td>24</td><td>1</td><td>53</td><td>1</td><td>100</td><td>6</td><td>64</td><td>11691</td></tr>\n",
       "\t<tr><td>2022</td><td>2018</td><td>202203</td><td>4</td><td>2.01801e+12</td><td> 8</td><td>2.022e+12</td><td>1</td><td> 0</td><td>240001</td><td>3</td><td>1</td><td> 8</td><td>1</td><td>28</td><td>1</td><td>100</td><td>7</td><td>71</td><td>    0</td></tr>\n",
       "\t<tr><td>2022</td><td>2018</td><td>202203</td><td>5</td><td>2.01801e+12</td><td> 3</td><td>2.022e+12</td><td>1</td><td>97</td><td>270101</td><td>3</td><td>1</td><td> 3</td><td>2</td><td>25</td><td>1</td><td>100</td><td>3</td><td>30</td><td>    0</td></tr>\n",
       "\t<tr><td>2022</td><td>2018</td><td>202203</td><td>6</td><td>2.01801e+12</td><td> 4</td><td>2.022e+12</td><td>1</td><td> 0</td><td>240001</td><td>3</td><td>1</td><td> 4</td><td>2</td><td>30</td><td>1</td><td>100</td><td>6</td><td>63</td><td>    0</td></tr>\n",
       "</tbody>\n",
       "</table>\n"
      ],
      "text/latex": [
       "A tibble: 6 × 20\n",
       "\\begin{tabular}{llllllllllllllllllll}\n",
       " YEAR & MULTYEAR & SAMPLE & SERIAL & CBSERIAL & HHWT & CLUSTER & STATEFIP & COUNTYFIP & STRATA & GQ & PERNUM & PERWT & SEX & AGE & RACE & RACED & EDUC & EDUCD & INCTOT\\\\\n",
       " <int> & <dbl> & <int+lbl> & <dbl> & <dbl> & <dbl> & <dbl> & <int+lbl> & <dbl+lbl> & <dbl> & <int+lbl> & <dbl> & <dbl> & <int+lbl> & <int+lbl> & <int+lbl> & <int+lbl> & <int+lbl> & <int+lbl> & <dbl+lbl>\\\\\n",
       "\\hline\n",
       "\t 2022 & 2018 & 202203 & 1 & 2.01801e+12 & 17 & 2.022e+12 & 1 &  0 & 160001 & 4 & 1 & 17 & 2 & 19 & 1 & 100 & 6 & 65 & -1754\\\\\n",
       "\t 2022 & 2018 & 202203 & 2 & 2.01801e+12 & 17 & 2.022e+12 & 1 & 81 & 190001 & 4 & 1 & 17 & 2 & 18 & 2 & 200 & 6 & 65 &  1870\\\\\n",
       "\t 2022 & 2018 & 202203 & 3 & 2.01801e+12 & 24 & 2.022e+12 & 1 &  0 & 200001 & 3 & 1 & 24 & 1 & 53 & 1 & 100 & 6 & 64 & 11691\\\\\n",
       "\t 2022 & 2018 & 202203 & 4 & 2.01801e+12 &  8 & 2.022e+12 & 1 &  0 & 240001 & 3 & 1 &  8 & 1 & 28 & 1 & 100 & 7 & 71 &     0\\\\\n",
       "\t 2022 & 2018 & 202203 & 5 & 2.01801e+12 &  3 & 2.022e+12 & 1 & 97 & 270101 & 3 & 1 &  3 & 2 & 25 & 1 & 100 & 3 & 30 &     0\\\\\n",
       "\t 2022 & 2018 & 202203 & 6 & 2.01801e+12 &  4 & 2.022e+12 & 1 &  0 & 240001 & 3 & 1 &  4 & 2 & 30 & 1 & 100 & 6 & 63 &     0\\\\\n",
       "\\end{tabular}\n"
      ],
      "text/markdown": [
       "\n",
       "A tibble: 6 × 20\n",
       "\n",
       "| YEAR &lt;int&gt; | MULTYEAR &lt;dbl&gt; | SAMPLE &lt;int+lbl&gt; | SERIAL &lt;dbl&gt; | CBSERIAL &lt;dbl&gt; | HHWT &lt;dbl&gt; | CLUSTER &lt;dbl&gt; | STATEFIP &lt;int+lbl&gt; | COUNTYFIP &lt;dbl+lbl&gt; | STRATA &lt;dbl&gt; | GQ &lt;int+lbl&gt; | PERNUM &lt;dbl&gt; | PERWT &lt;dbl&gt; | SEX &lt;int+lbl&gt; | AGE &lt;int+lbl&gt; | RACE &lt;int+lbl&gt; | RACED &lt;int+lbl&gt; | EDUC &lt;int+lbl&gt; | EDUCD &lt;int+lbl&gt; | INCTOT &lt;dbl+lbl&gt; |\n",
       "|---|---|---|---|---|---|---|---|---|---|---|---|---|---|---|---|---|---|---|---|\n",
       "| 2022 | 2018 | 202203 | 1 | 2.01801e+12 | 17 | 2.022e+12 | 1 |  0 | 160001 | 4 | 1 | 17 | 2 | 19 | 1 | 100 | 6 | 65 | -1754 |\n",
       "| 2022 | 2018 | 202203 | 2 | 2.01801e+12 | 17 | 2.022e+12 | 1 | 81 | 190001 | 4 | 1 | 17 | 2 | 18 | 2 | 200 | 6 | 65 |  1870 |\n",
       "| 2022 | 2018 | 202203 | 3 | 2.01801e+12 | 24 | 2.022e+12 | 1 |  0 | 200001 | 3 | 1 | 24 | 1 | 53 | 1 | 100 | 6 | 64 | 11691 |\n",
       "| 2022 | 2018 | 202203 | 4 | 2.01801e+12 |  8 | 2.022e+12 | 1 |  0 | 240001 | 3 | 1 |  8 | 1 | 28 | 1 | 100 | 7 | 71 |     0 |\n",
       "| 2022 | 2018 | 202203 | 5 | 2.01801e+12 |  3 | 2.022e+12 | 1 | 97 | 270101 | 3 | 1 |  3 | 2 | 25 | 1 | 100 | 3 | 30 |     0 |\n",
       "| 2022 | 2018 | 202203 | 6 | 2.01801e+12 |  4 | 2.022e+12 | 1 |  0 | 240001 | 3 | 1 |  4 | 2 | 30 | 1 | 100 | 6 | 63 |     0 |\n",
       "\n"
      ],
      "text/plain": [
       "  YEAR MULTYEAR SAMPLE SERIAL CBSERIAL    HHWT CLUSTER   STATEFIP COUNTYFIP\n",
       "1 2022 2018     202203 1      2.01801e+12 17   2.022e+12 1         0       \n",
       "2 2022 2018     202203 2      2.01801e+12 17   2.022e+12 1        81       \n",
       "3 2022 2018     202203 3      2.01801e+12 24   2.022e+12 1         0       \n",
       "4 2022 2018     202203 4      2.01801e+12  8   2.022e+12 1         0       \n",
       "5 2022 2018     202203 5      2.01801e+12  3   2.022e+12 1        97       \n",
       "6 2022 2018     202203 6      2.01801e+12  4   2.022e+12 1         0       \n",
       "  STRATA GQ PERNUM PERWT SEX AGE RACE RACED EDUC EDUCD INCTOT\n",
       "1 160001 4  1      17    2   19  1    100   6    65    -1754 \n",
       "2 190001 4  1      17    2   18  2    200   6    65     1870 \n",
       "3 200001 3  1      24    1   53  1    100   6    64    11691 \n",
       "4 240001 3  1       8    1   28  1    100   7    71        0 \n",
       "5 270101 3  1       3    2   25  1    100   3    30        0 \n",
       "6 240001 3  1       4    2   30  1    100   6    63        0 "
      ]
     },
     "metadata": {},
     "output_type": "display_data"
    }
   ],
   "source": [
    "head(dat)"
   ]
  },
  {
   "cell_type": "markdown",
   "id": "8db235e4-c328-4b44-bd94-da7aca994eb2",
   "metadata": {},
   "source": [
    "Notice that this data is in [\"tibble\"](https://tibble.tidyverse.org) format rather than the more common \"data.frame\" format you might be used to as an R user.  A tibble can be thought of as a version of a data.frame that includes additional functionality and metadata visibility.  It is also more compatible with the tidyverse packages, including the dplyr package we use in this notebook.\n",
    "\n",
    "We also appear to have a lot more columns than the set we requested from IPUMS.  The view above truncates the dataset to a subset of the columns for easier viewing.  Let's take a quick look at the list of column names so we can see all the variables included in this dataset."
   ]
  },
  {
   "cell_type": "code",
   "execution_count": 17,
   "id": "c904ec7d-25b2-4e00-b386-f85741643a2f",
   "metadata": {},
   "outputs": [
    {
     "data": {
      "text/html": [
       "<style>\n",
       ".list-inline {list-style: none; margin:0; padding: 0}\n",
       ".list-inline>li {display: inline-block}\n",
       ".list-inline>li:not(:last-child)::after {content: \"\\00b7\"; padding: 0 .5ex}\n",
       "</style>\n",
       "<ol class=list-inline><li>'YEAR'</li><li>'MULTYEAR'</li><li>'SAMPLE'</li><li>'SERIAL'</li><li>'CBSERIAL'</li><li>'HHWT'</li><li>'CLUSTER'</li><li>'STATEFIP'</li><li>'COUNTYFIP'</li><li>'STRATA'</li><li>'GQ'</li><li>'PERNUM'</li><li>'PERWT'</li><li>'SEX'</li><li>'AGE'</li><li>'RACE'</li><li>'RACED'</li><li>'EDUC'</li><li>'EDUCD'</li><li>'INCTOT'</li></ol>\n"
      ],
      "text/latex": [
       "\\begin{enumerate*}\n",
       "\\item 'YEAR'\n",
       "\\item 'MULTYEAR'\n",
       "\\item 'SAMPLE'\n",
       "\\item 'SERIAL'\n",
       "\\item 'CBSERIAL'\n",
       "\\item 'HHWT'\n",
       "\\item 'CLUSTER'\n",
       "\\item 'STATEFIP'\n",
       "\\item 'COUNTYFIP'\n",
       "\\item 'STRATA'\n",
       "\\item 'GQ'\n",
       "\\item 'PERNUM'\n",
       "\\item 'PERWT'\n",
       "\\item 'SEX'\n",
       "\\item 'AGE'\n",
       "\\item 'RACE'\n",
       "\\item 'RACED'\n",
       "\\item 'EDUC'\n",
       "\\item 'EDUCD'\n",
       "\\item 'INCTOT'\n",
       "\\end{enumerate*}\n"
      ],
      "text/markdown": [
       "1. 'YEAR'\n",
       "2. 'MULTYEAR'\n",
       "3. 'SAMPLE'\n",
       "4. 'SERIAL'\n",
       "5. 'CBSERIAL'\n",
       "6. 'HHWT'\n",
       "7. 'CLUSTER'\n",
       "8. 'STATEFIP'\n",
       "9. 'COUNTYFIP'\n",
       "10. 'STRATA'\n",
       "11. 'GQ'\n",
       "12. 'PERNUM'\n",
       "13. 'PERWT'\n",
       "14. 'SEX'\n",
       "15. 'AGE'\n",
       "16. 'RACE'\n",
       "17. 'RACED'\n",
       "18. 'EDUC'\n",
       "19. 'EDUCD'\n",
       "20. 'INCTOT'\n",
       "\n",
       "\n"
      ],
      "text/plain": [
       " [1] \"YEAR\"      \"MULTYEAR\"  \"SAMPLE\"    \"SERIAL\"    \"CBSERIAL\"  \"HHWT\"     \n",
       " [7] \"CLUSTER\"   \"STATEFIP\"  \"COUNTYFIP\" \"STRATA\"    \"GQ\"        \"PERNUM\"   \n",
       "[13] \"PERWT\"     \"SEX\"       \"AGE\"       \"RACE\"      \"RACED\"     \"EDUC\"     \n",
       "[19] \"EDUCD\"     \"INCTOT\"   "
      ]
     },
     "metadata": {},
     "output_type": "display_data"
    }
   ],
   "source": [
    "colnames(dat)"
   ]
  },
  {
   "cell_type": "markdown",
   "id": "bcd8ff42-755b-45f8-b402-433242a15c81",
   "metadata": {},
   "source": [
    "The IPUMS R API included both the variables we asked for and some additional variables.\n",
    "\n",
    "We have the demographic variables we requested:\n",
    "\n",
    "1. sex (SEX)\n",
    "2. age (AGE)\n",
    "3. race (RACE)\n",
    "4. educational attainment (EDUC)\n",
    "5. total income (INCTOT)\n",
    "\n",
    "Along with more descriptive supplementary versions of some of our demographic variables:\n",
    "\n",
    "6. detailed race (RACED)\n",
    "7. detailed educational attainment (EDUCD)\n",
    "\n",
    "And the geographic variables we requested:\n",
    "\n",
    "8. state FIPS code (STATEFIP)\n",
    "9. county FIPS code (COUNTYFIP)\n",
    "\n",
    "IPUMS has also included a set of varibles which we did not specifically request but which are always included in the ACS data downloads:\n",
    "\n",
    "10. five-year summary reference year (YEAR) (i.e. 2022 for this data)\n",
    "11. survey year (MULTYEAR) (i.e. 2018, 2019, 2020, 2021, or 2022 for this data)\n",
    "12. sample identifier (SAMPLE)\n",
    "13. unique household identifier (SERIAL)\n",
    "14. Census Bureau unique household identifier (CBSERIAL)\n",
    "15. household survey weight (HHWT)\n",
    "16. primmary sampling unit or cluster (CLUSTER)\n",
    "17. stratification code (STRATA)\n",
    "18. group quarters code (GQ)\n",
    "19. person nunber within the household (PERNUM)\n",
    "20. person weight (PERWT)\n",
    "\n",
    "Next let's save a couple versions of our IPUMS ACS data file.\n",
    "\n",
    "* A *.rds* version of the data.  The **R Data Serialization (RDS)** format will retain metadata for the next time we want to import the file back into R.  One downside to the .rds format is it is only useable within R.\n",
    "* A *.csv* version of the data.  The [**Comma-Separated Values (CSV)**](https://en.wikipedia.org/wiki/Comma-separated_values) format is versitile and can be easily accessed in other programs.  However, the CSV file format does not include metadata such as labels for variable levels."
   ]
  },
  {
   "cell_type": "code",
   "execution_count": 18,
   "id": "3923ac17-1340-4b6f-a16e-5c71fe30da88",
   "metadata": {},
   "outputs": [],
   "source": [
    "saveRDS(dat, \"IPUMS_ACS_5y_2022.rds\")\n",
    "write.csv(dat, \"IPUMS_ACS_5y_2022.csv\")"
   ]
  },
  {
   "cell_type": "markdown",
   "id": "f790ed4c-33be-4934-9ebb-9c069a63ced4",
   "metadata": {},
   "source": [
    "At the end of this exercise we have a freshly downloaded dataset from the IPUMS USA repository saved in our workspace."
   ]
  },
  {
   "cell_type": "markdown",
   "id": "3de5cc34-47fb-4be1-a467-a78fddb88ac1",
   "metadata": {},
   "source": [
    "## Next Steps\n",
    "\n",
    "From here, we recommend exploring the following notebooks:\n",
    "\n",
    "* **Data Cleaning with IPUMS USA**\n",
    "* **IPUMS NHGIS Data Extraction**"
   ]
  }
 ],
 "metadata": {
  "kernelspec": {
   "display_name": "iguide-ewd-r",
   "language": "R",
   "name": "iguide-ewd-r"
  },
  "language_info": {
   "codemirror_mode": "r",
   "file_extension": ".r",
   "mimetype": "text/x-r-source",
   "name": "R",
   "pygments_lexer": "r",
   "version": "4.3.1"
  }
 },
 "nbformat": 4,
 "nbformat_minor": 5
}
