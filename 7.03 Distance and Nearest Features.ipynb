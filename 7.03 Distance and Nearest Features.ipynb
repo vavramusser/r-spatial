{
 "cells": [
  {
   "cell_type": "markdown",
   "id": "c2306c5d-16ed-4ec4-87d2-3001cf343a9e",
   "metadata": {},
   "source": [
    "# Distance and Nearest Neighbor Calculations\n",
    "### by [Kate Vavra-Musser](https://vavramusser.github.io) for the [R Spatial Notebook Series](https://vavramusser.github.io/r-spatial)"
   ]
  },
  {
   "cell_type": "markdown",
   "id": "f17c37e9-01c8-4a96-b4c9-f1bb5d2fbe23",
   "metadata": {},
   "source": [
    "## Introduction\n",
    "\n",
    "Proximity analysis is a critical aspect of spatial analysis, enabling researchers to evaluate distances between spatial features, assess accessibility, and identify relationships between locations.  Proximity analysis is widely used in accessibility studies, urban planning, environmental research, and many other fields.\n",
    "\n",
    "For this notebook, we’ll use the [*rnaturalearth*](https://cran.r-project.org/web/packages/rnaturalearth/index.html) package to access and load datasets from [*Natural Earth*](https://www.naturalearthdata.com). These packages provide direct access to Natural Earth’s geographic data without requiring an API key, making it simple to bring boundaries and point data directly into R.\n",
    "\n",
    "This notebook introduces three commonly used geometric query functions from the [**`sf`**](https://cran.r-project.org/web/packages/sf/index.html) package:\n",
    "\n",
    "* *`st_distance`*\n",
    "* *`st_nearest_feature`*\n",
    "\n",
    "### Notebook Goals\n",
    "This notebook demonstrates how to perform proximity analysis using R, covering common scenarios and applications.\n",
    "\n",
    "### ★ Prerequisites ★\n",
    "\n",
    "#### About the Example Data Set\n",
    "\n",
    "#### Notebook Overview\n",
    "1. Setup\n",
    "2. ..."
   ]
  },
  {
   "cell_type": "markdown",
   "id": "bf6ca292-d141-48a0-bbd0-aac187468491",
   "metadata": {},
   "source": [
    "## 1. Setup\n",
    "This section will guide you through the process of installing essential packages and setting your IPUMS API key.\n",
    "\n",
    "##### Required Packages\n",
    "\n",
    "[**sf**](https://cran.r-project.org/web/packages/sf/index.html) · Support for simple features, a standardized way to encode spatial vector data. Binds to 'GDAL' for reading and writing data, to 'GEOS' for geometrical operations, and to 'PROJ' for projection conversions and datum transformations. Uses by default the 's2' package for spherical geometry operations on ellipsoidal (long/lat) coordinates.  This notebook uses the following functions from *sf*.\n",
    "\n",
    "* [*geos_measures*](https://rdrr.io/cran/sf/man/geos_measures.html) · compute geometric measurements\n",
    "  * *st_area* · compute area\n",
    "  * *st_distance* · compute distance\n",
    "  * *st_length* · compute length\n",
    "  * *st_perimeter* · compute perimeter\n",
    "* [*st_crs*](https://rdrr.io/cran/sf/man/st_crs.html) · retrieve coordinate reference system from object\n",
    "* [*st_nearest_feature*](https://rdrr.io/cran/sf/man/st_nearest_feature.html) · get index of nearest featur\n",
    "* [*st_read*](https://rdrr.io/cran/sf/man/st_read.html) · read simple features or layers from file or database\n",
    "* [*st_transform*](https://rdrr.io/cran/sf/man/st_transform.html) · transform or convert coordinates of simple feature\n",
    "* [*valid*](https://rdrr.io/cran/sf/man/valid.html) · check validity or make an invalid geometry valid\n",
    "  * *st_is_valid* · check validity\n",
    "\n",
    "### 1a. Install and Load Required Packages\n",
    "If you have not already installed the required packages, uncomment and run the code below:"
   ]
  },
  {
   "cell_type": "code",
   "execution_count": 3,
   "id": "ab68e2e8-f073-4ba8-8314-e5f020249ba0",
   "metadata": {},
   "outputs": [],
   "source": [
    "# install.packages(\"sf\")"
   ]
  },
  {
   "cell_type": "markdown",
   "id": "2f672ce2-0e53-4cc1-9cd8-f6a0d65ea973",
   "metadata": {},
   "source": [
    "Load the packages into your workspace."
   ]
  },
  {
   "cell_type": "code",
   "execution_count": 4,
   "id": "befbbec8-c3c7-47e1-a151-031b663a237c",
   "metadata": {},
   "outputs": [],
   "source": [
    "library(sf)"
   ]
  },
  {
   "cell_type": "markdown",
   "id": "0c2a2758-ec90-40fa-a5bc-125821d933f3",
   "metadata": {},
   "source": [
    "### 1b. Import Data\n",
    "\n",
    "First we will import three vector datasets to work with using the [*st_read*](https://rdrr.io/cran/sf/man/st_read.html) function from the [**sf**](https://cran.r-project.org/web/packages/sf/index.html) package.  If you worked through [Chapter 3.4.1](), [Chapter 3.4.2](), and [Chapter 4.1](), you should have saved these files to your workspace and they should be available to work with directly.  If you did not work through these chapters, you can download and import the files to your workspace.\n",
    "\n",
    "* **United States Populated Places Point Locations** (*ipums_nhgis_places.shp*) downloaded from [IPUMS NHGIS](https://www.nhgis.org) in [Chapter 3.4.1 IPUMS NHGIS Data Extraction Using ipumsr - Supplemental Exercise 1](). \n",
    "* **United States Country Boundary** (*usa_boundary.shp*) downloaded from [Natural Earth](https://www.naturalearthdata.com) in [Chapter 4.1 Importing Data from Natural Earth with rnaturalearth and rnaturalearthdata](). \n",
    "* **Global Airport Point Locations** (*airports.shp*) downloaded from [Natural Earth](https://www.naturalearthdata.com) in [Chapter 4.1 Importing Data from Natural Earth with rnaturalearth and rnaturalearthdata](). "
   ]
  },
  {
   "cell_type": "code",
   "execution_count": 7,
   "id": "3285f8ca-eb6d-499c-986f-b8bdc3251351",
   "metadata": {},
   "outputs": [
    {
     "name": "stdout",
     "output_type": "stream",
     "text": [
      "Reading layer `ipums_nhgis_places' from data source \n",
      "  `C:\\Users\\vavra\\Dropbox\\R Spatial\\r-spatial\\ipums_nhgis_places.shp' \n",
      "  using driver `ESRI Shapefile'\n",
      "Simple feature collection with 29261 features and 22 fields\n",
      "Geometry type: POINT\n",
      "Dimension:     XY\n",
      "Bounding box:  xmin: -6238595 ymin: -1328241 xmax: 2254129 ymax: 4577031\n",
      "Projected CRS: USA_Contiguous_Albers_Equal_Area_Conic\n",
      "Reading layer `usa_boundary' from data source \n",
      "  `C:\\Users\\vavra\\Dropbox\\R Spatial\\r-spatial\\usa_boundary.shp' \n",
      "  using driver `ESRI Shapefile'\n",
      "Simple feature collection with 1 feature and 166 fields\n",
      "Geometry type: MULTIPOLYGON\n",
      "Dimension:     XY\n",
      "Bounding box:  xmin: -171.7911 ymin: 18.91619 xmax: -66.96466 ymax: 71.35776\n",
      "Geodetic CRS:  WGS 84\n",
      "Reading layer `airports' from data source \n",
      "  `C:\\Users\\vavra\\Dropbox\\R Spatial\\r-spatial\\airports.shp' using driver `ESRI Shapefile'\n",
      "Simple feature collection with 893 features and 39 fields\n",
      "Geometry type: POINT\n",
      "Dimension:     XY\n",
      "Bounding box:  xmin: -175.1356 ymin: -53.78147 xmax: 179.1954 ymax: 78.24672\n",
      "Geodetic CRS:  WGS 84\n"
     ]
    }
   ],
   "source": [
    "# Read sample data: Census tracts and public service locations\n",
    "places <- st_read(\"ipums_nhgis_places.shp\")\n",
    "usa <- st_read(\"usa_boundary.shp\")\n",
    "airports <- st_read(\"airports.shp\")"
   ]
  },
  {
   "cell_type": "markdown",
   "id": "313280ac-49c0-4237-add3-60614983a560",
   "metadata": {},
   "source": [
    "We can see that the *places* file contains point locations and information on 29,261 populated places in the US, the *usa* file contains one boundary for the United States, and the *airports* file contains point locations and information on 893 major airports globally.\n",
    "\n",
    "### 1c. Project All Files to the Same CRS\n",
    "\n",
    "Let's ensure that all three files are using the same coordinate reference system (CRS).  Based on the file information output from reading in the data in the above code chunk, we can see that the *places* files from [IPUMS NHGIS](https://www.nhgis.org) uses the [USA Contiguous Albers Equal Area Conic projected CRS](https://epsg.io/102003) while the two files from [Natural Earth](https://www.naturalearthdata.com) (*usa* and *airports*) uses the [WGS 1984 Geodetic CRS](https://epsg.io/4326).\n",
    "\n",
    "For this notebook, we will use the [WGS 1984 Geodetic CRS](https://epsg.io/4326) used by *usa* and *airports* so we will need to reproject the *places* files to this CRS."
   ]
  },
  {
   "cell_type": "code",
   "execution_count": 8,
   "id": "f9df6f2d-29b5-46cf-8770-4008404a1b56",
   "metadata": {},
   "outputs": [],
   "source": [
    "# make versons\n",
    "places <- st_transform(places, st_crs(usa))"
   ]
  },
  {
   "cell_type": "markdown",
   "id": "767ceaf9-62c2-4d92-90e5-e308f6bbd19d",
   "metadata": {},
   "source": [
    "Let's double check the CRS for all three files."
   ]
  },
  {
   "cell_type": "code",
   "execution_count": 9,
   "id": "cc313aa2-ce12-4155-9879-aa1a7011053a",
   "metadata": {},
   "outputs": [
    {
     "data": {
      "text/html": [
       "4326"
      ],
      "text/latex": [
       "4326"
      ],
      "text/markdown": [
       "4326"
      ],
      "text/plain": [
       "[1] 4326"
      ]
     },
     "metadata": {},
     "output_type": "display_data"
    },
    {
     "data": {
      "text/html": [
       "4326"
      ],
      "text/latex": [
       "4326"
      ],
      "text/markdown": [
       "4326"
      ],
      "text/plain": [
       "[1] 4326"
      ]
     },
     "metadata": {},
     "output_type": "display_data"
    },
    {
     "data": {
      "text/html": [
       "4326"
      ],
      "text/latex": [
       "4326"
      ],
      "text/markdown": [
       "4326"
      ],
      "text/plain": [
       "[1] 4326"
      ]
     },
     "metadata": {},
     "output_type": "display_data"
    }
   ],
   "source": [
    "st_crs(places)$epsg\n",
    "st_crs(usa)$epsg\n",
    "st_crs(airports)$epsg"
   ]
  },
  {
   "cell_type": "markdown",
   "id": "3dc9dba3-f17d-4988-9359-3bd03656fe3a",
   "metadata": {},
   "source": [
    "All three files are now represented in the [WGS 1984 Geodetic CRS (EPSG code 4326)](https://epsg.io/4326).\n",
    "\n",
    "### 1d. Validate the Data\n",
    "\n",
    "Let's ensure that the three files we are working with have valid geometries using the [*st_is_valid*](https://rdrr.io/cran/sf/man/valid.html) function from the [**sf**](https://cran.r-project.org/web/packages/sf/index.html) package.  If there are any invalid geometries that could impact our ability to carry out spatial analyses or properly map our data."
   ]
  },
  {
   "cell_type": "code",
   "execution_count": 10,
   "id": "b1dee4be-4362-4d80-8ec8-7d529972b143",
   "metadata": {},
   "outputs": [
    {
     "data": {
      "text/plain": [
       "\n",
       " TRUE \n",
       "29261 "
      ]
     },
     "metadata": {},
     "output_type": "display_data"
    }
   ],
   "source": [
    "table(st_is_valid(places))"
   ]
  },
  {
   "cell_type": "code",
   "execution_count": 11,
   "id": "8952ce8c-553d-4cc1-9d3a-a66598737fd5",
   "metadata": {},
   "outputs": [
    {
     "data": {
      "text/plain": [
       "\n",
       "TRUE \n",
       "   1 "
      ]
     },
     "metadata": {},
     "output_type": "display_data"
    }
   ],
   "source": [
    "table(st_is_valid(usa))"
   ]
  },
  {
   "cell_type": "code",
   "execution_count": 12,
   "id": "9f3e9b7c-cd42-462f-aabe-14b1231d9f95",
   "metadata": {},
   "outputs": [
    {
     "data": {
      "text/plain": [
       "\n",
       "TRUE \n",
       " 893 "
      ]
     },
     "metadata": {},
     "output_type": "display_data"
    }
   ],
   "source": [
    "table(st_is_valid(airports))"
   ]
  },
  {
   "cell_type": "markdown",
   "id": "06fa1dfd-0bbf-446c-bacf-6f9d4ff9c2f8",
   "metadata": {},
   "source": [
    "All 29,261 features in the *places* file, 1 feature in the *usa* file, and 893 features in the *airports* file are all valid!  We are ready to move on to the next step.\n",
    "\n",
    "### 1e. Review the Data\n",
    "\n",
    "Let's take a look at the first few rows for the *places* and *airports* files as a refresher to see what attibutes (columns) each file includes."
   ]
  },
  {
   "cell_type": "code",
   "execution_count": 13,
   "id": "47990ba1-9416-4893-9d0e-413bb6545916",
   "metadata": {},
   "outputs": [
    {
     "name": "stderr",
     "output_type": "stream",
     "text": [
      "Registered S3 method overwritten by 'geojsonsf':\n",
      "  method        from   \n",
      "  print.geojson geojson\n",
      "\n"
     ]
    },
    {
     "data": {
      "application/geo+json": {
       "features": [
        {
         "geometry": {
          "coordinates": [
           -85.5297,
           33.101
          ],
          "type": "Point"
         },
         "properties": {
          "CL8AA1990": 177.25,
          "CL8AA1990L": 120,
          "CL8AA1990U": 213,
          "CL8AA2000": 131.68,
          "CL8AA2000L": 89,
          "CL8AA2000U": 153,
          "CL8AA2010": 192,
          "CL8AA2020": 133,
          "CL8AA2020L": 133,
          "CL8AA2020U": 133,
          "GEOGYEAR": 2010,
          "GISJOIN": "G01000100",
          "NAME": "Abanda",
          "NHGISPLACE": "G010001000",
          "NHGISST": "010",
          "PLACEA": "00100",
          "PLACE_x": "Abanda CDP",
          "PLACE_y": "Abanda CDP",
          "STATEA": "01",
          "STATE_x": "Alabama",
          "STATE_y": "Alabama",
          "YEAR": 2010
         },
         "type": "Feature"
        },
        {
         "geometry": {
          "coordinates": [
           -85.2505,
           31.5718
          ],
          "type": "Point"
         },
         "properties": {
          "CL8AA1990": 3176.41,
          "CL8AA1990L": 2996,
          "CL8AA1990U": 3186,
          "CL8AA2000": 2987.18,
          "CL8AA2000L": 2839,
          "CL8AA2000U": 2991,
          "CL8AA2010": 2688,
          "CL8AA2020": 2358,
          "CL8AA2020L": 2358,
          "CL8AA2020U": 2358,
          "GEOGYEAR": 2010,
          "GISJOIN": "G01000124",
          "NAME": "Abbeville",
          "NHGISPLACE": "G010001240",
          "NHGISST": "010",
          "PLACEA": "00124",
          "PLACE_x": "Abbeville city",
          "PLACE_y": "Abbeville city",
          "STATEA": "01",
          "STATE_x": "Alabama",
          "STATE_y": "Alabama",
          "YEAR": 2010
         },
         "type": "Feature"
        },
        {
         "geometry": {
          "coordinates": [
           -86.9561,
           33.6009
          ],
          "type": "Point"
         },
         "properties": {
          "CL8AA1990": 5620.12,
          "CL8AA1990L": 2558,
          "CL8AA1990U": 10483,
          "CL8AA2000": 5107.32,
          "CL8AA2000L": 4963,
          "CL8AA2000U": 7050,
          "CL8AA2010": 4522,
          "CL8AA2020": 4353.93,
          "CL8AA2020L": 2274,
          "CL8AA2020U": 6083,
          "GEOGYEAR": 2010,
          "GISJOIN": "G01000460",
          "NAME": "Adamsville",
          "NHGISPLACE": "G010004600",
          "NHGISST": "010",
          "PLACEA": "00460",
          "PLACE_x": "Adamsville city",
          "PLACE_y": "Adamsville city",
          "STATEA": "01",
          "STATE_x": "Alabama",
          "STATE_y": "Alabama",
          "YEAR": 2010
         },
         "type": "Feature"
        },
        {
         "geometry": {
          "coordinates": [
           -87.1814,
           34.2023
          ],
          "type": "Point"
         },
         "properties": {
          "CL8AA1990": 715.01,
          "CL8AA1990L": 278,
          "CL8AA1990U": 1147,
          "CL8AA2000": 743.68,
          "CL8AA2000L": 632,
          "CL8AA2000U": 994,
          "CL8AA2010": 758,
          "CL8AA2020": 659,
          "CL8AA2020L": 659,
          "CL8AA2020U": 659,
          "GEOGYEAR": 2010,
          "GISJOIN": "G01000484",
          "NAME": "Addison",
          "NHGISPLACE": "G010004840",
          "NHGISST": "010",
          "PLACEA": "00484",
          "PLACE_x": "Addison town",
          "PLACE_y": "Addison town",
          "STATEA": "01",
          "STATE_x": "Alabama",
          "STATE_y": "Alabama",
          "YEAR": 2010
         },
         "type": "Feature"
        },
        {
         "geometry": {
          "coordinates": [
           -87.7425,
           32.8765
          ],
          "type": "Point"
         },
         "properties": {
          "CL8AA1990": 444.66,
          "CL8AA1990L": 284,
          "CL8AA1990U": 575,
          "CL8AA2000": 448.09,
          "CL8AA2000L": 365,
          "CL8AA2000U": 545,
          "CL8AA2010": 356,
          "CL8AA2020": 225,
          "CL8AA2020L": 225,
          "CL8AA2020U": 225,
          "GEOGYEAR": 2010,
          "GISJOIN": "G01000676",
          "NAME": "Akron",
          "NHGISPLACE": "G010006760",
          "NHGISST": "010",
          "PLACEA": "00676",
          "PLACE_x": "Akron town",
          "PLACE_y": "Akron town",
          "STATEA": "01",
          "STATE_x": "Alabama",
          "STATE_y": "Alabama",
          "YEAR": 2010
         },
         "type": "Feature"
        },
        {
         "geometry": {
          "coordinates": [
           -86.8164,
           33.2443
          ],
          "type": "Point"
         },
         "properties": {
          "CL8AA1990": 15885.55,
          "CL8AA1990L": 11096,
          "CL8AA1990U": 19519,
          "CL8AA2000": 24415.7,
          "CL8AA2000L": 20176,
          "CL8AA2000U": 27874,
          "CL8AA2010": 30352,
          "CL8AA2020": 32519.23,
          "CL8AA2020L": 25856,
          "CL8AA2020U": 34631,
          "GEOGYEAR": 2010,
          "GISJOIN": "G01000820",
          "NAME": "Alabaster",
          "NHGISPLACE": "G010008200",
          "NHGISST": "010",
          "PLACEA": "00820",
          "PLACE_x": "Alabaster city",
          "PLACE_y": "Alabaster city",
          "STATEA": "01",
          "STATE_x": "Alabama",
          "STATE_y": "Alabama",
          "YEAR": 2010
         },
         "type": "Feature"
        }
       ],
       "type": "FeatureCollection"
      },
      "text/html": [
       "<table class=\"dataframe\">\n",
       "<caption>A sf: 6 × 23</caption>\n",
       "<thead>\n",
       "\t<tr><th></th><th scope=col>GISJOIN</th><th scope=col>GEOGYEAR</th><th scope=col>STATE_x</th><th scope=col>STATEA</th><th scope=col>PLACE_x</th><th scope=col>PLACEA</th><th scope=col>CL8AA1990</th><th scope=col>CL8AA1990L</th><th scope=col>CL8AA1990U</th><th scope=col>CL8AA2000</th><th scope=col>geometry</th><th scope=col>⋯</th><th scope=col>CL8AA2020</th><th scope=col>CL8AA2020L</th><th scope=col>CL8AA2020U</th><th scope=col>STATE_y</th><th scope=col>NHGISST</th><th scope=col>PLACE_y</th><th scope=col>NAME</th><th scope=col>NHGISPLACE</th><th scope=col>YEAR</th><th scope=col>geometry</th></tr>\n",
       "\t<tr><th></th><th scope=col>&lt;chr&gt;</th><th scope=col>&lt;dbl&gt;</th><th scope=col>&lt;chr&gt;</th><th scope=col>&lt;chr&gt;</th><th scope=col>&lt;chr&gt;</th><th scope=col>&lt;chr&gt;</th><th scope=col>&lt;dbl&gt;</th><th scope=col>&lt;dbl&gt;</th><th scope=col>&lt;dbl&gt;</th><th scope=col>&lt;dbl&gt;</th><th scope=col>⋯</th><th scope=col>&lt;dbl&gt;</th><th scope=col>&lt;dbl&gt;</th><th scope=col>&lt;dbl&gt;</th><th scope=col>&lt;chr&gt;</th><th scope=col>&lt;chr&gt;</th><th scope=col>&lt;chr&gt;</th><th scope=col>&lt;chr&gt;</th><th scope=col>&lt;chr&gt;</th><th scope=col>&lt;int&gt;</th><th scope=col>&lt;POINT [°]&gt;</th></tr>\n",
       "</thead>\n",
       "<tbody>\n",
       "\t<tr><th scope=row>1</th><td>G01000100</td><td>2010</td><td>Alabama</td><td>01</td><td>Abanda CDP     </td><td>00100</td><td>  177.25</td><td>  120</td><td>  213</td><td>  131.68</td><td>POINT (-85.52968 33.10095)</td><td>⋯</td><td>  133.00</td><td>  133</td><td>  133</td><td>Alabama</td><td>010</td><td>Abanda CDP     </td><td>Abanda    </td><td>G010001000</td><td>2010</td><td>POINT (-85.52968 33.10095)</td></tr>\n",
       "\t<tr><th scope=row>2</th><td>G01000124</td><td>2010</td><td>Alabama</td><td>01</td><td>Abbeville city </td><td>00124</td><td> 3176.41</td><td> 2996</td><td> 3186</td><td> 2987.18</td><td>POINT (-85.25049 31.57184)</td><td>⋯</td><td> 2358.00</td><td> 2358</td><td> 2358</td><td>Alabama</td><td>010</td><td>Abbeville city </td><td>Abbeville </td><td>G010001240</td><td>2010</td><td>POINT (-85.25049 31.57184)</td></tr>\n",
       "\t<tr><th scope=row>3</th><td>G01000460</td><td>2010</td><td>Alabama</td><td>01</td><td>Adamsville city</td><td>00460</td><td> 5620.12</td><td> 2558</td><td>10483</td><td> 5107.32</td><td>POINT (-86.95611 33.60094)</td><td>⋯</td><td> 4353.93</td><td> 2274</td><td> 6083</td><td>Alabama</td><td>010</td><td>Adamsville city</td><td>Adamsville</td><td>G010004600</td><td>2010</td><td>POINT (-86.95611 33.60094)</td></tr>\n",
       "\t<tr><th scope=row>4</th><td>G01000484</td><td>2010</td><td>Alabama</td><td>01</td><td>Addison town   </td><td>00484</td><td>  715.01</td><td>  278</td><td> 1147</td><td>  743.68</td><td>POINT (-87.1814 34.20232)</td><td>⋯</td><td>  659.00</td><td>  659</td><td>  659</td><td>Alabama</td><td>010</td><td>Addison town   </td><td>Addison   </td><td>G010004840</td><td>2010</td><td>POINT (-87.1814 34.20232)</td></tr>\n",
       "\t<tr><th scope=row>5</th><td>G01000676</td><td>2010</td><td>Alabama</td><td>01</td><td>Akron town     </td><td>00676</td><td>  444.66</td><td>  284</td><td>  575</td><td>  448.09</td><td>POINT (-87.74251 32.87652)</td><td>⋯</td><td>  225.00</td><td>  225</td><td>  225</td><td>Alabama</td><td>010</td><td>Akron town     </td><td>Akron     </td><td>G010006760</td><td>2010</td><td>POINT (-87.74251 32.87652)</td></tr>\n",
       "\t<tr><th scope=row>6</th><td>G01000820</td><td>2010</td><td>Alabama</td><td>01</td><td>Alabaster city </td><td>00820</td><td>15885.55</td><td>11096</td><td>19519</td><td>24415.70</td><td>POINT (-86.81638 33.24428)</td><td>⋯</td><td>32519.23</td><td>25856</td><td>34631</td><td>Alabama</td><td>010</td><td>Alabaster city </td><td>Alabaster </td><td>G010008200</td><td>2010</td><td>POINT (-86.81638 33.24428)</td></tr>\n",
       "</tbody>\n",
       "</table>\n"
      ],
      "text/latex": [
       "A sf: 6 × 23\n",
       "\\begin{tabular}{r|lllllllllllllllllllll}\n",
       "  & GISJOIN & GEOGYEAR & STATE\\_x & STATEA & PLACE\\_x & PLACEA & CL8AA1990 & CL8AA1990L & CL8AA1990U & CL8AA2000 & geometry & ⋯ & CL8AA2020 & CL8AA2020L & CL8AA2020U & STATE\\_y & NHGISST & PLACE\\_y & NAME & NHGISPLACE & YEAR & geometry\\\\\n",
       "  & <chr> & <dbl> & <chr> & <chr> & <chr> & <chr> & <dbl> & <dbl> & <dbl> & <dbl> & ⋯ & <dbl> & <dbl> & <dbl> & <chr> & <chr> & <chr> & <chr> & <chr> & <int> & <POINT {[}°{]}>\\\\\n",
       "\\hline\n",
       "\t1 & G01000100 & 2010 & Alabama & 01 & Abanda CDP      & 00100 &   177.25 &   120 &   213 &   131.68 & POINT (-85.52968 33.10095) & ⋯ &   133.00 &   133 &   133 & Alabama & 010 & Abanda CDP      & Abanda     & G010001000 & 2010 & POINT (-85.52968 33.10095)\\\\\n",
       "\t2 & G01000124 & 2010 & Alabama & 01 & Abbeville city  & 00124 &  3176.41 &  2996 &  3186 &  2987.18 & POINT (-85.25049 31.57184) & ⋯ &  2358.00 &  2358 &  2358 & Alabama & 010 & Abbeville city  & Abbeville  & G010001240 & 2010 & POINT (-85.25049 31.57184)\\\\\n",
       "\t3 & G01000460 & 2010 & Alabama & 01 & Adamsville city & 00460 &  5620.12 &  2558 & 10483 &  5107.32 & POINT (-86.95611 33.60094) & ⋯ &  4353.93 &  2274 &  6083 & Alabama & 010 & Adamsville city & Adamsville & G010004600 & 2010 & POINT (-86.95611 33.60094)\\\\\n",
       "\t4 & G01000484 & 2010 & Alabama & 01 & Addison town    & 00484 &   715.01 &   278 &  1147 &   743.68 & POINT (-87.1814 34.20232) & ⋯ &   659.00 &   659 &   659 & Alabama & 010 & Addison town    & Addison    & G010004840 & 2010 & POINT (-87.1814 34.20232)\\\\\n",
       "\t5 & G01000676 & 2010 & Alabama & 01 & Akron town      & 00676 &   444.66 &   284 &   575 &   448.09 & POINT (-87.74251 32.87652) & ⋯ &   225.00 &   225 &   225 & Alabama & 010 & Akron town      & Akron      & G010006760 & 2010 & POINT (-87.74251 32.87652)\\\\\n",
       "\t6 & G01000820 & 2010 & Alabama & 01 & Alabaster city  & 00820 & 15885.55 & 11096 & 19519 & 24415.70 & POINT (-86.81638 33.24428) & ⋯ & 32519.23 & 25856 & 34631 & Alabama & 010 & Alabaster city  & Alabaster  & G010008200 & 2010 & POINT (-86.81638 33.24428)\\\\\n",
       "\\end{tabular}\n"
      ],
      "text/markdown": [
       "\n",
       "A sf: 6 × 23\n",
       "\n",
       "| <!--/--> | GISJOIN &lt;chr&gt; | GEOGYEAR &lt;dbl&gt; | STATE_x &lt;chr&gt; | STATEA &lt;chr&gt; | PLACE_x &lt;chr&gt; | PLACEA &lt;chr&gt; | CL8AA1990 &lt;dbl&gt; | CL8AA1990L &lt;dbl&gt; | CL8AA1990U &lt;dbl&gt; | CL8AA2000 &lt;dbl&gt; | geometry ⋯ | ⋯ &lt;dbl&gt; | CL8AA2020 &lt;dbl&gt; | CL8AA2020L &lt;dbl&gt; | CL8AA2020U &lt;chr&gt; | STATE_y &lt;chr&gt; | NHGISST &lt;chr&gt; | PLACE_y &lt;chr&gt; | NAME &lt;chr&gt; | NHGISPLACE &lt;int&gt; | YEAR &lt;POINT [°]&gt; | geometry &lt;chr&gt; |\n",
       "|---|---|---|---|---|---|---|---|---|---|---|---|---|---|---|---|---|---|---|---|---|---|\n",
       "| 1 | G01000100 | 2010 | Alabama | 01 | Abanda CDP      | 00100 |   177.25 |   120 |   213 |   131.68 | POINT (-85.52968 33.10095) | ⋯ |   133.00 |   133 |   133 | Alabama | 010 | Abanda CDP      | Abanda     | G010001000 | 2010 | POINT (-85.52968 33.10095) |\n",
       "| 2 | G01000124 | 2010 | Alabama | 01 | Abbeville city  | 00124 |  3176.41 |  2996 |  3186 |  2987.18 | POINT (-85.25049 31.57184) | ⋯ |  2358.00 |  2358 |  2358 | Alabama | 010 | Abbeville city  | Abbeville  | G010001240 | 2010 | POINT (-85.25049 31.57184) |\n",
       "| 3 | G01000460 | 2010 | Alabama | 01 | Adamsville city | 00460 |  5620.12 |  2558 | 10483 |  5107.32 | POINT (-86.95611 33.60094) | ⋯ |  4353.93 |  2274 |  6083 | Alabama | 010 | Adamsville city | Adamsville | G010004600 | 2010 | POINT (-86.95611 33.60094) |\n",
       "| 4 | G01000484 | 2010 | Alabama | 01 | Addison town    | 00484 |   715.01 |   278 |  1147 |   743.68 | POINT (-87.1814 34.20232) | ⋯ |   659.00 |   659 |   659 | Alabama | 010 | Addison town    | Addison    | G010004840 | 2010 | POINT (-87.1814 34.20232) |\n",
       "| 5 | G01000676 | 2010 | Alabama | 01 | Akron town      | 00676 |   444.66 |   284 |   575 |   448.09 | POINT (-87.74251 32.87652) | ⋯ |   225.00 |   225 |   225 | Alabama | 010 | Akron town      | Akron      | G010006760 | 2010 | POINT (-87.74251 32.87652) |\n",
       "| 6 | G01000820 | 2010 | Alabama | 01 | Alabaster city  | 00820 | 15885.55 | 11096 | 19519 | 24415.70 | POINT (-86.81638 33.24428) | ⋯ | 32519.23 | 25856 | 34631 | Alabama | 010 | Alabaster city  | Alabaster  | G010008200 | 2010 | POINT (-86.81638 33.24428) |\n",
       "\n"
      ],
      "text/plain": [
       "  GISJOIN   GEOGYEAR STATE_x STATEA PLACE_x         PLACEA CL8AA1990 CL8AA1990L\n",
       "1 G01000100 2010     Alabama 01     Abanda CDP      00100    177.25    120     \n",
       "2 G01000124 2010     Alabama 01     Abbeville city  00124   3176.41   2996     \n",
       "3 G01000460 2010     Alabama 01     Adamsville city 00460   5620.12   2558     \n",
       "4 G01000484 2010     Alabama 01     Addison town    00484    715.01    278     \n",
       "5 G01000676 2010     Alabama 01     Akron town      00676    444.66    284     \n",
       "6 G01000820 2010     Alabama 01     Alabaster city  00820  15885.55  11096     \n",
       "  CL8AA1990U CL8AA2000 geometry                   ⋯ CL8AA2020 CL8AA2020L\n",
       "1   213        131.68  POINT (-85.52968 33.10095) ⋯   133.00    133     \n",
       "2  3186       2987.18  POINT (-85.25049 31.57184) ⋯  2358.00   2358     \n",
       "3 10483       5107.32  POINT (-86.95611 33.60094) ⋯  4353.93   2274     \n",
       "4  1147        743.68  POINT (-87.1814 34.20232)  ⋯   659.00    659     \n",
       "5   575        448.09  POINT (-87.74251 32.87652) ⋯   225.00    225     \n",
       "6 19519      24415.70  POINT (-86.81638 33.24428) ⋯ 32519.23  25856     \n",
       "  CL8AA2020U STATE_y NHGISST PLACE_y         NAME       NHGISPLACE YEAR\n",
       "1   133      Alabama 010     Abanda CDP      Abanda     G010001000 2010\n",
       "2  2358      Alabama 010     Abbeville city  Abbeville  G010001240 2010\n",
       "3  6083      Alabama 010     Adamsville city Adamsville G010004600 2010\n",
       "4   659      Alabama 010     Addison town    Addison    G010004840 2010\n",
       "5   225      Alabama 010     Akron town      Akron      G010006760 2010\n",
       "6 34631      Alabama 010     Alabaster city  Alabaster  G010008200 2010\n",
       "  geometry                  \n",
       "1 POINT (-85.52968 33.10095)\n",
       "2 POINT (-85.25049 31.57184)\n",
       "3 POINT (-86.95611 33.60094)\n",
       "4 POINT (-87.1814 34.20232) \n",
       "5 POINT (-87.74251 32.87652)\n",
       "6 POINT (-86.81638 33.24428)"
      ]
     },
     "metadata": {},
     "output_type": "display_data"
    }
   ],
   "source": [
    "head(places)"
   ]
  },
  {
   "cell_type": "code",
   "execution_count": 14,
   "id": "1a83b45d-9ae6-4136-97e2-fe755d3c8835",
   "metadata": {},
   "outputs": [
    {
     "data": {
      "application/geo+json": {
       "features": [
        {
         "geometry": {
          "coordinates": [
           75.9571,
           30.8504
          ],
          "type": "Point"
         },
         "properties": {
          "abbrev": "LUH",
          "comments": null,
          "featurecla": "Airport",
          "gps_code": "VILD",
          "iata_code": "LUH",
          "location": "terminal",
          "name": "Sahnewal",
          "name_ar": null,
          "name_bn": null,
          "name_de": null,
          "name_el": null,
          "name_en": "Sahnewal Airport",
          "name_es": null,
          "name_fa": "??????? ?????",
          "name_fr": "aéroport de Sahnewal",
          "name_he": null,
          "name_hi": "??????? ???? ?????",
          "name_hu": null,
          "name_id": null,
          "name_it": null,
          "name_ja": null,
          "name_ko": null,
          "name_nl": null,
          "name_pl": null,
          "name_pt": "Aeroporto de Sahnewal",
          "name_ru": null,
          "name_sv": "Ludhiana Airport",
          "name_tr": null,
          "name_uk": null,
          "name_ur": null,
          "name_vi": null,
          "name_zh": null,
          "name_zht": null,
          "natlscale": 8,
          "scalerank": 9,
          "type": "small",
          "wdid_score": 4,
          "wikidataid": "Q7399709",
          "wikipedia": "http://en.wikipedia.org/wiki/Sahnewal_Airport"
         },
         "type": "Feature"
        },
        {
         "geometry": {
          "coordinates": [
           75.9331,
           17.6254
          ],
          "type": "Point"
         },
         "properties": {
          "abbrev": "SSE",
          "comments": null,
          "featurecla": "Airport",
          "gps_code": "VASL",
          "iata_code": "SSE",
          "location": "terminal",
          "name": "Solapur",
          "name_ar": "???? ???????",
          "name_bn": null,
          "name_de": null,
          "name_el": null,
          "name_en": "Solapur Airport",
          "name_es": null,
          "name_fa": "??????? ???????",
          "name_fr": "aéroport de Solapur",
          "name_he": null,
          "name_hi": "??????? ????????????",
          "name_hu": null,
          "name_id": null,
          "name_it": null,
          "name_ja": "????????",
          "name_ko": null,
          "name_nl": null,
          "name_pl": null,
          "name_pt": null,
          "name_ru": null,
          "name_sv": null,
          "name_tr": null,
          "name_uk": null,
          "name_ur": null,
          "name_vi": null,
          "name_zh": null,
          "name_zht": null,
          "natlscale": 8,
          "scalerank": 9,
          "type": "mid",
          "wdid_score": 4,
          "wikidataid": "Q7555807",
          "wikipedia": "http://en.wikipedia.org/wiki/Solapur_Airport"
         },
         "type": "Feature"
        },
        {
         "geometry": {
          "coordinates": [
           85.3236,
           23.3177
          ],
          "type": "Point"
         },
         "properties": {
          "abbrev": "IXR",
          "comments": null,
          "featurecla": "Airport",
          "gps_code": "VERC",
          "iata_code": "IXR",
          "location": "terminal",
          "name": "Birsa Munda",
          "name_ar": null,
          "name_bn": "????? ?????? ??????????",
          "name_de": null,
          "name_el": null,
          "name_en": "Birsa Munda Airport",
          "name_es": "Aeropuerto Birsa Munda",
          "name_fa": "??????? ????? ?????",
          "name_fr": "aéroport de Birsa Munda",
          "name_he": null,
          "name_hi": "????? ????? ????-?????",
          "name_hu": null,
          "name_id": "Bandar Udara Birsa Munda",
          "name_it": null,
          "name_ja": "?????????",
          "name_ko": null,
          "name_nl": "Birsa Munda Airport",
          "name_pl": "Port lotniczy Ranchi",
          "name_pt": "Aeroporto Internacional Birsa Munda",
          "name_ru": "???????? ????? ????? ?????",
          "name_sv": "M. O. Ranchi",
          "name_tr": "Birsa Munda Havaalan?",
          "name_uk": null,
          "name_ur": null,
          "name_vi": "Sân bay Birsa Munda",
          "name_zh": "???·????",
          "name_zht": "???·????",
          "natlscale": 8,
          "scalerank": 9,
          "type": "mid",
          "wdid_score": 4,
          "wikidataid": "Q598231",
          "wikipedia": "http://en.wikipedia.org/wiki/Birsa_Munda_Airport"
         },
         "type": "Feature"
        },
        {
         "geometry": {
          "coordinates": [
           48.7471,
           31.3432
          ],
          "type": "Point"
         },
         "properties": {
          "abbrev": "AWZ",
          "comments": null,
          "featurecla": "Airport",
          "gps_code": "OIAW",
          "iata_code": "AWZ",
          "location": "terminal",
          "name": "Ahwaz",
          "name_ar": "???? ??????? ??????",
          "name_bn": null,
          "name_de": "Flughafen Ahvaz",
          "name_el": null,
          "name_en": "Ahvaz International Airport",
          "name_es": "Aeropuerto Internacional de Ahvaz",
          "name_fa": "??????? ??? ?????? ?????",
          "name_fr": "aéroport d'Ahvaz",
          "name_he": null,
          "name_hi": null,
          "name_hu": null,
          "name_id": "Bandar Udara Internasional Ahwaz",
          "name_it": null,
          "name_ja": "????????",
          "name_ko": null,
          "name_nl": "Ahwaz Airport",
          "name_pl": "Port lotniczy Ahwaz",
          "name_pt": null,
          "name_ru": null,
          "name_sv": "Ahwaz International Airport",
          "name_tr": "Ahvaz Havaliman?",
          "name_uk": null,
          "name_ur": null,
          "name_vi": "Sân bay Ahvaz",
          "name_zh": "?????",
          "name_zht": "?????",
          "natlscale": 8,
          "scalerank": 9,
          "type": "mid",
          "wdid_score": 4,
          "wikidataid": "Q622296",
          "wikipedia": "http://en.wikipedia.org/wiki/Ahwaz_Airport"
         },
         "type": "Feature"
        },
        {
         "geometry": {
          "coordinates": [
           78.2172,
           26.2855
          ],
          "type": "Point"
         },
         "properties": {
          "abbrev": "GWL",
          "comments": null,
          "featurecla": "Airport",
          "gps_code": "VIGR",
          "iata_code": "GWL",
          "location": "terminal",
          "name": "Gwalior",
          "name_ar": "???? ??????",
          "name_bn": "?????????? ??????????",
          "name_de": null,
          "name_el": null,
          "name_en": "Gwalior Airport",
          "name_es": null,
          "name_fa": "??????? ???????",
          "name_fr": "aéroport de Gwalior",
          "name_he": null,
          "name_hi": "???????? ????????????",
          "name_hu": null,
          "name_id": null,
          "name_it": null,
          "name_ja": "????????",
          "name_ko": null,
          "name_nl": null,
          "name_pl": "Port lotniczy Gwalior",
          "name_pt": null,
          "name_ru": null,
          "name_sv": "Gwalior Airport",
          "name_tr": null,
          "name_uk": null,
          "name_ur": null,
          "name_vi": "Sân bay Gwalior",
          "name_zh": "??????",
          "name_zht": "??????",
          "natlscale": 8,
          "scalerank": 9,
          "type": "mid and military",
          "wdid_score": 4,
          "wikidataid": "Q2247561",
          "wikipedia": "http://en.wikipedia.org/wiki/Gwalior_Airport"
         },
         "type": "Feature"
        },
        {
         "geometry": {
          "coordinates": [
           42.9711,
           14.7553
          ],
          "type": "Point"
         },
         "properties": {
          "abbrev": "HOD",
          "comments": null,
          "featurecla": "Airport",
          "gps_code": "OYHD",
          "iata_code": "HOD",
          "location": "terminal",
          "name": "Hodeidah Int'l",
          "name_ar": "???? ??????? ??????",
          "name_bn": null,
          "name_de": null,
          "name_el": null,
          "name_en": "Hodeida International Airport",
          "name_es": "Aeropuerto Internacional de Hodeida",
          "name_fa": "??????? ????????? ??????",
          "name_fr": "HOD",
          "name_he": null,
          "name_hi": null,
          "name_hu": null,
          "name_id": "Bandar Udara Internasional Hodeida",
          "name_it": null,
          "name_ja": "????????",
          "name_ko": null,
          "name_nl": null,
          "name_pl": "Port lotniczy Al-Hudajda",
          "name_pt": null,
          "name_ru": null,
          "name_sv": null,
          "name_tr": null,
          "name_uk": null,
          "name_ur": null,
          "name_vi": null,
          "name_zh": "???????",
          "name_zht": "???????",
          "natlscale": 8,
          "scalerank": 9,
          "type": "mid",
          "wdid_score": 4,
          "wikidataid": "Q2584014",
          "wikipedia": "http://en.wikipedia.org/wiki/Hodeida_International_Airport"
         },
         "type": "Feature"
        }
       ],
       "type": "FeatureCollection"
      },
      "text/html": [
       "<table class=\"dataframe\">\n",
       "<caption>A sf: 6 × 40</caption>\n",
       "<thead>\n",
       "\t<tr><th></th><th scope=col>scalerank</th><th scope=col>featurecla</th><th scope=col>type</th><th scope=col>name</th><th scope=col>abbrev</th><th scope=col>location</th><th scope=col>gps_code</th><th scope=col>iata_code</th><th scope=col>wikipedia</th><th scope=col>natlscale</th><th scope=col>geometry</th><th scope=col>⋯</th><th scope=col>name_tr</th><th scope=col>name_vi</th><th scope=col>name_zh</th><th scope=col>wdid_score</th><th scope=col>name_fa</th><th scope=col>name_he</th><th scope=col>name_uk</th><th scope=col>name_ur</th><th scope=col>name_zht</th><th scope=col>geometry</th></tr>\n",
       "\t<tr><th></th><th scope=col>&lt;int&gt;</th><th scope=col>&lt;chr&gt;</th><th scope=col>&lt;chr&gt;</th><th scope=col>&lt;chr&gt;</th><th scope=col>&lt;chr&gt;</th><th scope=col>&lt;chr&gt;</th><th scope=col>&lt;chr&gt;</th><th scope=col>&lt;chr&gt;</th><th scope=col>&lt;chr&gt;</th><th scope=col>&lt;dbl&gt;</th><th scope=col>⋯</th><th scope=col>&lt;chr&gt;</th><th scope=col>&lt;chr&gt;</th><th scope=col>&lt;chr&gt;</th><th scope=col>&lt;int&gt;</th><th scope=col>&lt;chr&gt;</th><th scope=col>&lt;chr&gt;</th><th scope=col>&lt;chr&gt;</th><th scope=col>&lt;chr&gt;</th><th scope=col>&lt;chr&gt;</th><th scope=col>&lt;POINT [°]&gt;</th></tr>\n",
       "</thead>\n",
       "<tbody>\n",
       "\t<tr><th scope=row>1</th><td>9</td><td>Airport</td><td>small           </td><td>Sahnewal      </td><td>LUH</td><td>terminal</td><td>VILD</td><td>LUH</td><td>http://en.wikipedia.org/wiki/Sahnewal_Airport             </td><td>8</td><td>POINT (75.95707 30.85036)</td><td>⋯</td><td>NA                   </td><td>NA                 </td><td>NA      </td><td>4</td><td>??????? ?????           </td><td>NA</td><td>NA</td><td>NA</td><td>NA      </td><td>POINT (75.95707 30.85036)</td></tr>\n",
       "\t<tr><th scope=row>2</th><td>9</td><td>Airport</td><td>mid             </td><td>Solapur       </td><td>SSE</td><td>terminal</td><td>VASL</td><td>SSE</td><td>http://en.wikipedia.org/wiki/Solapur_Airport              </td><td>8</td><td>POINT (75.93306 17.62542)</td><td>⋯</td><td>NA                   </td><td>NA                 </td><td>NA      </td><td>4</td><td>??????? ???????         </td><td>NA</td><td>NA</td><td>NA</td><td>NA      </td><td>POINT (75.93306 17.62542)</td></tr>\n",
       "\t<tr><th scope=row>3</th><td>9</td><td>Airport</td><td>mid             </td><td>Birsa Munda   </td><td>IXR</td><td>terminal</td><td>VERC</td><td>IXR</td><td>http://en.wikipedia.org/wiki/Birsa_Munda_Airport          </td><td>8</td><td>POINT (85.3236 23.31772)</td><td>⋯</td><td>Birsa Munda Havaalan?</td><td>Sân bay Birsa Munda</td><td>???·????</td><td>4</td><td>??????? ????? ?????     </td><td>NA</td><td>NA</td><td>NA</td><td>???·????</td><td>POINT (85.3236 23.31772)</td></tr>\n",
       "\t<tr><th scope=row>4</th><td>9</td><td>Airport</td><td>mid             </td><td>Ahwaz         </td><td>AWZ</td><td>terminal</td><td>OIAW</td><td>AWZ</td><td>http://en.wikipedia.org/wiki/Ahwaz_Airport                </td><td>8</td><td>POINT (48.74711 31.34316)</td><td>⋯</td><td>Ahvaz Havaliman?     </td><td>Sân bay Ahvaz      </td><td>?????   </td><td>4</td><td>??????? ??? ?????? ?????</td><td>NA</td><td>NA</td><td>NA</td><td>?????   </td><td>POINT (48.74711 31.34316)</td></tr>\n",
       "\t<tr><th scope=row>5</th><td>9</td><td>Airport</td><td>mid and military</td><td>Gwalior       </td><td>GWL</td><td>terminal</td><td>VIGR</td><td>GWL</td><td>http://en.wikipedia.org/wiki/Gwalior_Airport              </td><td>8</td><td>POINT (78.21722 26.28549)</td><td>⋯</td><td>NA                   </td><td>Sân bay Gwalior    </td><td>??????  </td><td>4</td><td>??????? ???????         </td><td>NA</td><td>NA</td><td>NA</td><td>??????  </td><td>POINT (78.21722 26.28549)</td></tr>\n",
       "\t<tr><th scope=row>6</th><td>9</td><td>Airport</td><td>mid             </td><td>Hodeidah Int'l</td><td>HOD</td><td>terminal</td><td>OYHD</td><td>HOD</td><td>http://en.wikipedia.org/wiki/Hodeida_International_Airport</td><td>8</td><td>POINT (42.9711 14.75525)</td><td>⋯</td><td>NA                   </td><td>NA                 </td><td>??????? </td><td>4</td><td>??????? ????????? ??????</td><td>NA</td><td>NA</td><td>NA</td><td>??????? </td><td>POINT (42.9711 14.75525)</td></tr>\n",
       "</tbody>\n",
       "</table>\n"
      ],
      "text/latex": [
       "A sf: 6 × 40\n",
       "\\begin{tabular}{r|lllllllllllllllllllll}\n",
       "  & scalerank & featurecla & type & name & abbrev & location & gps\\_code & iata\\_code & wikipedia & natlscale & geometry & ⋯ & name\\_tr & name\\_vi & name\\_zh & wdid\\_score & name\\_fa & name\\_he & name\\_uk & name\\_ur & name\\_zht & geometry\\\\\n",
       "  & <int> & <chr> & <chr> & <chr> & <chr> & <chr> & <chr> & <chr> & <chr> & <dbl> & ⋯ & <chr> & <chr> & <chr> & <int> & <chr> & <chr> & <chr> & <chr> & <chr> & <POINT {[}°{]}>\\\\\n",
       "\\hline\n",
       "\t1 & 9 & Airport & small            & Sahnewal       & LUH & terminal & VILD & LUH & http://en.wikipedia.org/wiki/Sahnewal\\_Airport              & 8 & POINT (75.95707 30.85036) & ⋯ & NA                    & NA                  & NA       & 4 & ??????? ?????            & NA & NA & NA & NA       & POINT (75.95707 30.85036)\\\\\n",
       "\t2 & 9 & Airport & mid              & Solapur        & SSE & terminal & VASL & SSE & http://en.wikipedia.org/wiki/Solapur\\_Airport               & 8 & POINT (75.93306 17.62542) & ⋯ & NA                    & NA                  & NA       & 4 & ??????? ???????          & NA & NA & NA & NA       & POINT (75.93306 17.62542)\\\\\n",
       "\t3 & 9 & Airport & mid              & Birsa Munda    & IXR & terminal & VERC & IXR & http://en.wikipedia.org/wiki/Birsa\\_Munda\\_Airport           & 8 & POINT (85.3236 23.31772) & ⋯ & Birsa Munda Havaalan? & Sân bay Birsa Munda & ???·???? & 4 & ??????? ????? ?????      & NA & NA & NA & ???·???? & POINT (85.3236 23.31772)\\\\\n",
       "\t4 & 9 & Airport & mid              & Ahwaz          & AWZ & terminal & OIAW & AWZ & http://en.wikipedia.org/wiki/Ahwaz\\_Airport                 & 8 & POINT (48.74711 31.34316) & ⋯ & Ahvaz Havaliman?      & Sân bay Ahvaz       & ?????    & 4 & ??????? ??? ?????? ????? & NA & NA & NA & ?????    & POINT (48.74711 31.34316)\\\\\n",
       "\t5 & 9 & Airport & mid and military & Gwalior        & GWL & terminal & VIGR & GWL & http://en.wikipedia.org/wiki/Gwalior\\_Airport               & 8 & POINT (78.21722 26.28549) & ⋯ & NA                    & Sân bay Gwalior     & ??????   & 4 & ??????? ???????          & NA & NA & NA & ??????   & POINT (78.21722 26.28549)\\\\\n",
       "\t6 & 9 & Airport & mid              & Hodeidah Int'l & HOD & terminal & OYHD & HOD & http://en.wikipedia.org/wiki/Hodeida\\_International\\_Airport & 8 & POINT (42.9711 14.75525) & ⋯ & NA                    & NA                  & ???????  & 4 & ??????? ????????? ?????? & NA & NA & NA & ???????  & POINT (42.9711 14.75525)\\\\\n",
       "\\end{tabular}\n"
      ],
      "text/markdown": [
       "\n",
       "A sf: 6 × 40\n",
       "\n",
       "| <!--/--> | scalerank &lt;int&gt; | featurecla &lt;chr&gt; | type &lt;chr&gt; | name &lt;chr&gt; | abbrev &lt;chr&gt; | location &lt;chr&gt; | gps_code &lt;chr&gt; | iata_code &lt;chr&gt; | wikipedia &lt;chr&gt; | natlscale &lt;dbl&gt; | geometry ⋯ | ⋯ &lt;chr&gt; | name_tr &lt;chr&gt; | name_vi &lt;chr&gt; | name_zh &lt;int&gt; | wdid_score &lt;chr&gt; | name_fa &lt;chr&gt; | name_he &lt;chr&gt; | name_uk &lt;chr&gt; | name_ur &lt;chr&gt; | name_zht &lt;POINT [°]&gt; | geometry &lt;int&gt; |\n",
       "|---|---|---|---|---|---|---|---|---|---|---|---|---|---|---|---|---|---|---|---|---|---|\n",
       "| 1 | 9 | Airport | small            | Sahnewal       | LUH | terminal | VILD | LUH | http://en.wikipedia.org/wiki/Sahnewal_Airport              | 8 | POINT (75.95707 30.85036) | ⋯ | NA                    | NA                  | NA       | 4 | ??????? ?????            | NA | NA | NA | NA       | POINT (75.95707 30.85036) |\n",
       "| 2 | 9 | Airport | mid              | Solapur        | SSE | terminal | VASL | SSE | http://en.wikipedia.org/wiki/Solapur_Airport               | 8 | POINT (75.93306 17.62542) | ⋯ | NA                    | NA                  | NA       | 4 | ??????? ???????          | NA | NA | NA | NA       | POINT (75.93306 17.62542) |\n",
       "| 3 | 9 | Airport | mid              | Birsa Munda    | IXR | terminal | VERC | IXR | http://en.wikipedia.org/wiki/Birsa_Munda_Airport           | 8 | POINT (85.3236 23.31772) | ⋯ | Birsa Munda Havaalan? | Sân bay Birsa Munda | ???·???? | 4 | ??????? ????? ?????      | NA | NA | NA | ???·???? | POINT (85.3236 23.31772) |\n",
       "| 4 | 9 | Airport | mid              | Ahwaz          | AWZ | terminal | OIAW | AWZ | http://en.wikipedia.org/wiki/Ahwaz_Airport                 | 8 | POINT (48.74711 31.34316) | ⋯ | Ahvaz Havaliman?      | Sân bay Ahvaz       | ?????    | 4 | ??????? ??? ?????? ????? | NA | NA | NA | ?????    | POINT (48.74711 31.34316) |\n",
       "| 5 | 9 | Airport | mid and military | Gwalior        | GWL | terminal | VIGR | GWL | http://en.wikipedia.org/wiki/Gwalior_Airport               | 8 | POINT (78.21722 26.28549) | ⋯ | NA                    | Sân bay Gwalior     | ??????   | 4 | ??????? ???????          | NA | NA | NA | ??????   | POINT (78.21722 26.28549) |\n",
       "| 6 | 9 | Airport | mid              | Hodeidah Int'l | HOD | terminal | OYHD | HOD | http://en.wikipedia.org/wiki/Hodeida_International_Airport | 8 | POINT (42.9711 14.75525) | ⋯ | NA                    | NA                  | ???????  | 4 | ??????? ????????? ?????? | NA | NA | NA | ???????  | POINT (42.9711 14.75525) |\n",
       "\n"
      ],
      "text/plain": [
       "  scalerank featurecla type             name           abbrev location gps_code\n",
       "1 9         Airport    small            Sahnewal       LUH    terminal VILD    \n",
       "2 9         Airport    mid              Solapur        SSE    terminal VASL    \n",
       "3 9         Airport    mid              Birsa Munda    IXR    terminal VERC    \n",
       "4 9         Airport    mid              Ahwaz          AWZ    terminal OIAW    \n",
       "5 9         Airport    mid and military Gwalior        GWL    terminal VIGR    \n",
       "6 9         Airport    mid              Hodeidah Int'l HOD    terminal OYHD    \n",
       "  iata_code wikipedia                                                 \n",
       "1 LUH       http://en.wikipedia.org/wiki/Sahnewal_Airport             \n",
       "2 SSE       http://en.wikipedia.org/wiki/Solapur_Airport              \n",
       "3 IXR       http://en.wikipedia.org/wiki/Birsa_Munda_Airport          \n",
       "4 AWZ       http://en.wikipedia.org/wiki/Ahwaz_Airport                \n",
       "5 GWL       http://en.wikipedia.org/wiki/Gwalior_Airport              \n",
       "6 HOD       http://en.wikipedia.org/wiki/Hodeida_International_Airport\n",
       "  natlscale geometry                  ⋯ name_tr              \n",
       "1 8         POINT (75.95707 30.85036) ⋯ NA                   \n",
       "2 8         POINT (75.93306 17.62542) ⋯ NA                   \n",
       "3 8         POINT (85.3236 23.31772)  ⋯ Birsa Munda Havaalan?\n",
       "4 8         POINT (48.74711 31.34316) ⋯ Ahvaz Havaliman?     \n",
       "5 8         POINT (78.21722 26.28549) ⋯ NA                   \n",
       "6 8         POINT (42.9711 14.75525)  ⋯ NA                   \n",
       "  name_vi             name_zh  wdid_score name_fa                  name_he\n",
       "1 NA                  NA       4          ??????? ?????            NA     \n",
       "2 NA                  NA       4          ??????? ???????          NA     \n",
       "3 Sân bay Birsa Munda ???·???? 4          ??????? ????? ?????      NA     \n",
       "4 Sân bay Ahvaz       ?????    4          ??????? ??? ?????? ????? NA     \n",
       "5 Sân bay Gwalior     ??????   4          ??????? ???????          NA     \n",
       "6 NA                  ???????  4          ??????? ????????? ?????? NA     \n",
       "  name_uk name_ur name_zht geometry                 \n",
       "1 NA      NA      NA       POINT (75.95707 30.85036)\n",
       "2 NA      NA      NA       POINT (75.93306 17.62542)\n",
       "3 NA      NA      ???·???? POINT (85.3236 23.31772) \n",
       "4 NA      NA      ?????    POINT (48.74711 31.34316)\n",
       "5 NA      NA      ??????   POINT (78.21722 26.28549)\n",
       "6 NA      NA      ???????  POINT (42.9711 14.75525) "
      ]
     },
     "metadata": {},
     "output_type": "display_data"
    }
   ],
   "source": [
    "head(airports)"
   ]
  },
  {
   "cell_type": "markdown",
   "id": "3fb66825-25e9-46e6-9681-a2e15ba50757",
   "metadata": {},
   "source": [
    "Let's take a look at the different categories of the *type* and *location* variables in the *airports* file."
   ]
  },
  {
   "cell_type": "code",
   "execution_count": 17,
   "id": "0169fd83-1041-4c40-acb6-497045f36ed4",
   "metadata": {},
   "outputs": [
    {
     "data": {
      "text/html": [
       "<style>\n",
       ".list-inline {list-style: none; margin:0; padding: 0}\n",
       ".list-inline>li {display: inline-block}\n",
       ".list-inline>li:not(:last-child)::after {content: \"\\00b7\"; padding: 0 .5ex}\n",
       "</style>\n",
       "<ol class=list-inline><li>'small'</li><li>'mid'</li><li>'mid and military'</li><li>'major and military'</li><li>'military mid'</li><li>'military'</li><li>'major'</li><li>'military major'</li><li>'spaceport'</li></ol>\n"
      ],
      "text/latex": [
       "\\begin{enumerate*}\n",
       "\\item 'small'\n",
       "\\item 'mid'\n",
       "\\item 'mid and military'\n",
       "\\item 'major and military'\n",
       "\\item 'military mid'\n",
       "\\item 'military'\n",
       "\\item 'major'\n",
       "\\item 'military major'\n",
       "\\item 'spaceport'\n",
       "\\end{enumerate*}\n"
      ],
      "text/markdown": [
       "1. 'small'\n",
       "2. 'mid'\n",
       "3. 'mid and military'\n",
       "4. 'major and military'\n",
       "5. 'military mid'\n",
       "6. 'military'\n",
       "7. 'major'\n",
       "8. 'military major'\n",
       "9. 'spaceport'\n",
       "\n",
       "\n"
      ],
      "text/plain": [
       "[1] \"small\"              \"mid\"                \"mid and military\"  \n",
       "[4] \"major and military\" \"military mid\"       \"military\"          \n",
       "[7] \"major\"              \"military major\"     \"spaceport\"         "
      ]
     },
     "metadata": {},
     "output_type": "display_data"
    }
   ],
   "source": [
    "unique(airports$type)"
   ]
  },
  {
   "cell_type": "code",
   "execution_count": 18,
   "id": "1d30c84f-853b-4e05-bf36-89d5a38047d1",
   "metadata": {},
   "outputs": [
    {
     "data": {
      "text/html": [
       "<style>\n",
       ".list-inline {list-style: none; margin:0; padding: 0}\n",
       ".list-inline>li {display: inline-block}\n",
       ".list-inline>li:not(:last-child)::after {content: \"\\00b7\"; padding: 0 .5ex}\n",
       "</style>\n",
       "<ol class=list-inline><li>'terminal'</li><li>'ramp'</li><li>'runway'</li><li>'approximate'</li><li>'parking'</li><li>'freight'</li></ol>\n"
      ],
      "text/latex": [
       "\\begin{enumerate*}\n",
       "\\item 'terminal'\n",
       "\\item 'ramp'\n",
       "\\item 'runway'\n",
       "\\item 'approximate'\n",
       "\\item 'parking'\n",
       "\\item 'freight'\n",
       "\\end{enumerate*}\n"
      ],
      "text/markdown": [
       "1. 'terminal'\n",
       "2. 'ramp'\n",
       "3. 'runway'\n",
       "4. 'approximate'\n",
       "5. 'parking'\n",
       "6. 'freight'\n",
       "\n",
       "\n"
      ],
      "text/plain": [
       "[1] \"terminal\"    \"ramp\"        \"runway\"      \"approximate\" \"parking\"    \n",
       "[6] \"freight\"    "
      ]
     },
     "metadata": {},
     "output_type": "display_data"
    }
   ],
   "source": [
    "unique(airports$location)"
   ]
  },
  {
   "cell_type": "markdown",
   "id": "b3b5d98c-d56d-4ae3-aa2b-81a838f58761",
   "metadata": {},
   "source": [
    "A few attributes we may want to take note of for our analyses are:\n",
    "\n",
    "From the ***places*** file:\n",
    "\n",
    "* State Name (*STATE_x*)\n",
    "* City Name (*PLACE_x*)\n",
    "* 1990 Total Population (*CL8AA1990*)\n",
    "* 2000 Total Population (*CL8AA2000*)\n",
    "* 2010 Total Population (*CL8AA2010*)\n",
    "* 2020 Total Population (*CL8AA2020*)\n",
    "\n",
    "From the ***airports*** file:\n",
    "\n",
    "* Airport Name (*name*)\n",
    "* Airport Code (*abbrev*)\n",
    "* Airport Type (*type*)\n",
    "  * categories: small, mid, major, military, military mid, military major, mid and military, major and military, spaceport\n",
    "* Airport Location (*location*)\n",
    "  * categories: terminal, ramp, runway, approximate, parking, freight"
   ]
  },
  {
   "cell_type": "markdown",
   "id": "2db1e627-265a-493c-a232-b21b3acb9117",
   "metadata": {},
   "source": [
    "## 2. Basic Distance Calculations\n",
    "\n",
    "* Euclidean Distance (Planar)\n",
    "  * Best for small-scale, local projections where curvature is negligible.\n",
    "  * Used for calculating straight-line distances in projected coordinate systems.\n",
    "* Great Circle Distance (Haversine)\n",
    "  * Appropriate for geographic (longitude/latitude) coordinates.\n",
    "  * Accounts for Earth's curvature using the Haversine formula.\n",
    "* Manhattan Distance (Taxicab)\n",
    "  * Measures distances in a grid-like structure, useful for urban environments.\n",
    "* Minkowski Distance\n",
    "  * Generalization of Euclidean and Manhattan distances; customizable via a parameter.\n",
    "* Chebyshev Distance\n",
    "  * Measures the greatest difference along any coordinate dimension.\n",
    "  * Useful in chessboard-like movement patterns."
   ]
  },
  {
   "cell_type": "markdown",
   "id": "32d174b7-1929-430e-94ad-62575250bcec",
   "metadata": {},
   "source": [
    "### 2a. Euclidean Distance (Planar)"
   ]
  },
  {
   "cell_type": "code",
   "execution_count": null,
   "id": "5531113c-1175-4192-9784-59aca94c5628",
   "metadata": {},
   "outputs": [],
   "source": []
  },
  {
   "cell_type": "markdown",
   "id": "6b0f6a89-5957-4eea-ac44-fee9bf7dce8f",
   "metadata": {},
   "source": [
    "### 2b. Great Circle Distance (Haversine)"
   ]
  },
  {
   "cell_type": "code",
   "execution_count": null,
   "id": "be171eaf-1691-4a12-8c2e-b01f77d064bb",
   "metadata": {},
   "outputs": [],
   "source": []
  },
  {
   "cell_type": "markdown",
   "id": "1a942b73-002b-4a44-97a8-bc3381f6c2bb",
   "metadata": {},
   "source": [
    "### 2c. Manhattan Distance (Taxicab)"
   ]
  },
  {
   "cell_type": "code",
   "execution_count": null,
   "id": "fe5f48e5-2e8e-4b34-a029-b74541643ab6",
   "metadata": {},
   "outputs": [],
   "source": []
  },
  {
   "cell_type": "markdown",
   "id": "241f55cd-1e2c-401b-9041-f7a3910f0c45",
   "metadata": {},
   "source": [
    "### 2d. Minkowski Distance"
   ]
  },
  {
   "cell_type": "code",
   "execution_count": null,
   "id": "961649dc-8256-40d1-a7e3-e4c15f26b93b",
   "metadata": {},
   "outputs": [],
   "source": []
  },
  {
   "cell_type": "markdown",
   "id": "bed5ab06-0637-42b0-8f41-588b7ac4960f",
   "metadata": {},
   "source": [
    "### 2e. Chebyshev Distance"
   ]
  },
  {
   "cell_type": "code",
   "execution_count": null,
   "id": "32d33ae5-8333-4773-86fc-e179ce2e8c87",
   "metadata": {},
   "outputs": [],
   "source": []
  },
  {
   "cell_type": "code",
   "execution_count": 39,
   "id": "dbaf65c9-b62c-4bac-8ea2-0c28cdf4063f",
   "metadata": {},
   "outputs": [],
   "source": [
    "# New York City\n",
    "nyc <- places[places$PLACE_x == \"New York city\",]\n",
    "\n",
    "# John F Kennedy Airport\n",
    "jfk <- airports[581,]"
   ]
  },
  {
   "cell_type": "markdown",
   "id": "1a93fe9e-ddaf-4ea3-83f1-5874dfd9fe3a",
   "metadata": {},
   "source": [
    "character; for Cartesian coordinates only: one of Euclidean, Hausdorff or\n",
    "Frech"
   ]
  },
  {
   "cell_type": "code",
   "execution_count": 40,
   "id": "343290cc-87e1-465d-9fd9-f67a98761683",
   "metadata": {},
   "outputs": [
    {
     "data": {
      "text/plain": [
       "Units: [m]\n",
       "         [,1]\n",
       "[1,] 20018.84"
      ]
     },
     "metadata": {},
     "output_type": "display_data"
    }
   ],
   "source": [
    "st_distance(nyc, jfk)"
   ]
  },
  {
   "cell_type": "markdown",
   "id": "9b4172a1-4735-401b-85ef-60700eeda2e6",
   "metadata": {},
   "source": [
    "The distance between the point location representing New York City and the point location representing John F Kennedy Airport is approximately 20,019 meters or about 12.4 miles."
   ]
  },
  {
   "cell_type": "markdown",
   "id": "cdd37948-ddb9-49f0-b07e-b96d8a586461",
   "metadata": {},
   "source": [
    "### 3a. Euclidean Distance\n",
    "\n",
    "Euclidean distance is the \"straight-line\" distance between two points in Cartesian space. It is calculated based on projected coordinates and is often used for smaller areas."
   ]
  },
  {
   "cell_type": "code",
   "execution_count": null,
   "id": "efe0316e-e7b2-41fb-a5ce-de8bb9177396",
   "metadata": {},
   "outputs": [],
   "source": []
  },
  {
   "cell_type": "code",
   "execution_count": 16,
   "id": "02fda6f7-061c-43f9-a606-a5e93af9e4f2",
   "metadata": {},
   "outputs": [],
   "source": [
    "# find the nearest airport for each place\n",
    "nearest_airport_indices <- st_nearest_feature(usa_places, usa_airports)"
   ]
  },
  {
   "cell_type": "code",
   "execution_count": 17,
   "id": "8be9e770-1825-4f43-ad66-84770f5c6abf",
   "metadata": {},
   "outputs": [],
   "source": [
    "# calculate the distance to the nearest airport\n",
    "distances <- st_distance(usa_places, usa_airports[nearest_airport_indices, ], by_element = T)"
   ]
  },
  {
   "cell_type": "code",
   "execution_count": 18,
   "id": "aa1a7f7c-5512-4937-9bc4-b23bba195a0b",
   "metadata": {},
   "outputs": [
    {
     "data": {
      "text/plain": [
       "Units: [m]\n",
       "[1] 118526.92 134800.41  19281.30  62137.04 119424.51  35953.89"
      ]
     },
     "metadata": {},
     "output_type": "display_data"
    }
   ],
   "source": [
    "head(distances)"
   ]
  },
  {
   "cell_type": "markdown",
   "id": "47708c32-70ee-48bb-8d70-8d0dd3acf20f",
   "metadata": {},
   "source": [
    "### 3b. Geodesic Distance\n",
    "\n",
    "Geodesic distance is the shortest path between two points on the Earth's surface. It is more accurate for larger areas or when working with lat/lon coordinates."
   ]
  },
  {
   "cell_type": "code",
   "execution_count": null,
   "id": "1ad9722a-7c29-44d1-aaae-5eb653c25cfb",
   "metadata": {},
   "outputs": [],
   "source": [
    "### requires the geosphere package ###\n",
    "\n",
    "# Calculate geodesic distances using geosphere package\n",
    "#coords <- st_coordinates(cities)\n",
    "#dist_matrix_geodesic <- distm(\n",
    "#  x = coords[1:10, ],\n",
    "#  fun = distHaversine  # Haversine formula for geodesic distance\n",
    "#)\n",
    "\n",
    "# Display the distance matrix (in meters)\n",
    "#dist_matrix_geodesic"
   ]
  },
  {
   "cell_type": "markdown",
   "id": "db399821-0b8b-48c7-a6fa-e3514d62d823",
   "metadata": {},
   "source": [
    "### 3b. Distance Matrix"
   ]
  },
  {
   "cell_type": "code",
   "execution_count": 20,
   "id": "ee5a413c-ef92-4b61-a583-d9b8f8dc7ed0",
   "metadata": {},
   "outputs": [],
   "source": [
    "# Transform to projected CRS for accurate Euclidean distance\n",
    "#cities_projected <- st_transform(cities_within_us, crs = 26915)  # UTM Zone 15N\n",
    "\n",
    "# Select a sample of cities for analysis\n",
    "#cities_projected <- cities_projected[1:10, ]\n",
    "\n",
    "# Distance matrix (Euclidean)\n",
    "#usa_airports_dist_matrix_euclidean <- st_distance(usa_airports)\n",
    "\n",
    "# Display the distance matrix (in meters)\n",
    "#usa_airports_dist_matrix_euclidean"
   ]
  },
  {
   "cell_type": "markdown",
   "id": "036913ef-2f68-4d37-af73-8d670ba2f945",
   "metadata": {},
   "source": [
    "Based this analysis, San Juan, Puerto Rico is the closest major city to the coast while Denver, Colorado is the furthest major city from the coast."
   ]
  },
  {
   "cell_type": "markdown",
   "id": "25abc69e-04da-4baa-a570-c889e05ff780",
   "metadata": {},
   "source": [
    "## 4. Nearest Neighbor Analysis\n",
    "\n",
    "Nearest neighbor analysis identifies the closest spatial feature for each point in a dataset. This is useful for applications like finding the nearest service center or analyzing spatial clustering."
   ]
  },
  {
   "cell_type": "code",
   "execution_count": null,
   "id": "b9819e31-c4b3-49ad-90bc-3ff353eef758",
   "metadata": {},
   "outputs": [],
   "source": [
    "# Find the index of the nearest coastline feature for each city\n",
    "nearest_indices <- st_nearest_feature(cities, coastline)\n",
    "\n",
    "# Extract the corresponding distances\n",
    "nearest_distances <- st_distance(cities, coastline[nearest_indices, ])\n",
    "\n",
    "# Convert distances to kilometers\n",
    "nearest_distances_km <- as.numeric(nearest_distances) / 1000\n",
    "\n",
    "# Combine results into a data frame\n",
    "nearest_results <- data.frame(\n",
    "  city_name = cities$NAME,\n",
    "  nearest_coastline_index = nearest_indices,\n",
    "  distance_to_coastline_km = nearest_distances_km\n",
    ")\n",
    "\n",
    "# Display nearest neighbor results\n",
    "nearest_results"
   ]
  },
  {
   "cell_type": "markdown",
   "id": "3cb93511-1c5c-4600-b67d-cbb211709c23",
   "metadata": {},
   "source": [
    "## 5. Buffer Analysis\n",
    "\n",
    "Buffer analysis creates zones of influence around spatial features, which can be used to analyze proximity impacts, such as areas within a certain distance of cities."
   ]
  },
  {
   "cell_type": "markdown",
   "id": "7bea5020-722d-42f3-80c4-be4c04e3d8bd",
   "metadata": {},
   "source": [
    "# Create buffer zones around cities\n",
    "buffers <- st_buffer(cities_projected[1:10, ], dist = 50000)  # 50 km buffer\n",
    "\n",
    "# Check which coastlines intersect with buffers\n",
    "intersections <- st_intersects(buffers, coastline)\n",
    "\n",
    "# Summarize results\n",
    "buffer_results <- data.frame(\n",
    "  city_name = cities$NAME[1:10],\n",
    "  num_coastline_intersections = sapply(intersections, length)\n",
    ")\n",
    "\n",
    "# Display buffer analysis results\n",
    "buffer_results\n",
    "\n",
    "# Visualize buffers on a map\n",
    "leaflet() %>%\n",
    "  addTiles() %>%\n",
    "  addPolygons(data = st_transform(buffers, crs = 4326), color = \"green\", fillOpacity = 0.2, group = \"Buffers\") %>%\n",
    "  addCircleMarkers(data = cities, color = \"blue\", radius = 5, group = \"Cities\") %>%\n",
    "  addPolylines(data = coastline, color = \"red\", group = \"Coastline\") %>%\n",
    "  addLayersControl(overlayGroups = c(\"Buffers\", \"Cities\", \"Coastline\"))"
   ]
  }
 ],
 "metadata": {
  "kernelspec": {
   "display_name": "R",
   "language": "R",
   "name": "ir"
  },
  "language_info": {
   "codemirror_mode": "r",
   "file_extension": ".r",
   "mimetype": "text/x-r-source",
   "name": "R",
   "pygments_lexer": "r",
   "version": "4.3.3"
  }
 },
 "nbformat": 4,
 "nbformat_minor": 5
}
