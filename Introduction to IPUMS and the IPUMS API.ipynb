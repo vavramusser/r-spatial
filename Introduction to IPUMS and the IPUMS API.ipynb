{
 "cells": [
  {
   "cell_type": "markdown",
   "id": "47319ac8-3b67-4609-b37d-001ff1eb79da",
   "metadata": {},
   "source": [
    "# Introduction to IPUMS and the IPUMS API"
   ]
  },
  {
   "cell_type": "markdown",
   "id": "6662b9cf-7fe0-4c0b-9691-f4d3a0cd233d",
   "metadata": {},
   "source": [
    "[IPUMS (Integrated Public Use Microdata Series)](https://www.ipums.org) provides access to high-quality, harmonized data on population and health from around the world. Developed and maintained by the [Institute for Social Research and Data Innovation (ISRDI)](https://isrdi.umn.edu) at the [University of Minnesota's Minnesota Population Center](https://www.ipums.org), IPUMS datasets cover a range of demographic, health, and geographic topics that support research in fields like public health, economics, geography, and social sciences. IPUMS data offerings include U.S. Census data, global demographic surveys, and health datasets, all standardized across time and location to allow for easy cross-temporal and cross-national comparisons.\n",
    "\n",
    "The [R ipumsr package](https://cran.r-project.org/web/packages/ipumsr/index.htm) is an essential tool for loading, managing, and analyzing IPUMS data within R. Designed to simplify the process of working with IPUMS extracts, ipumsr provides functions to import data, handle metadata, and apply labeled values directly, making it easier to move from raw data to analysis. This package supports both the classic rectangular datasets from IPUMS as well as more complex hierarchical files."
   ]
  },
  {
   "cell_type": "markdown",
   "id": "3406908c-a360-43ed-b20a-16fe0c18f794",
   "metadata": {},
   "source": [
    "### The IPUMS API\n",
    "The ipumsr package uses the [IPUMS API](https://developer.ipums.org/docs/v2/apiprogram) to extract data requests from IPUMS.  An [API (Application Programming Interface)](https://en.wikipedia.org/wiki/API) is a set of rules and protocols that allow different software applications to communicate with each other. APIs enable automated access to data and services, allowing users to retrieve, manipulate, and manage information without directly interacting with a website or user interface. In the case of IPUMS, the API provides a streamlined, programmatic way to access data, making it possible to request and download datasets directly within R.\n",
    "\n",
    "#### Create Your IPUMS Account and API Key\n",
    "To download IPUMS data you will need to set up an IPUMS account and to submit data requests using the API you will also need to obtain an IPUMS API key.  You can register for an account and get your API key from [the IPUMS website](https://account.ipums.org/api_keys)."
   ]
  },
  {
   "cell_type": "markdown",
   "id": "49b626a0-fbc8-4d9b-b0da-67a9a0b0df47",
   "metadata": {},
   "source": [
    "### Available Data\n",
    "\n",
    "As of November 2024, ipumsr supports the followig levels of functionality for each IPUMS project.\n",
    "\n",
    "##### Browse Metadata, Request and Download Data, Read Data Extracts\n",
    "* [IPUMS NHGIS](https://www.nhgis.org) U.S. Census Data Tables and Mapping Files\n",
    "\n",
    "##### Request and Download Data, Read Data Extracts\n",
    "* [IPUMS USA](https://usa.ipums.org/usa) U.S. Census Data for Social, Economic, and Health Research\n",
    "* [IPUMS CPS](https://cps.ipums.org/cps) Current Population Survey (CPS) Data for Social, Economic, and Health Research\n",
    "* [IPUMS International](https://international.ipums.org/international) Harmonized International Census Data for Scoial Science and Health Research\n",
    "* [IPUMS Time Use](https://timeuse.ipums.org) from the American Time Use Survey (ATUS), American Heritage Time Use Study (AHTUS), and Multinational Time Use Study (MTUS)\n",
    "* [IPUMS Health Surveys](https://healthsurveys.ipums.org) Harmonized Data from U.S. National Health Surveys including the National Health Interview Series (NHIS) and the Medical Expenditure Panel Survey (MEPS)\n",
    "\n",
    "##### Read Data Extracts only\n",
    "* [IPUMS Global Health](https://globalhealth.ipums.org) Harmonized International Survey Data on Maternal, Child, and Reproductive Health from the Demographic and Health Surveys (DHS), Performance Monitoring for Action (PMA), and Multiple Indicator Cluster Surveys (MICS)\n",
    "* [IPUMS Higher Education](https://highered.ipums.org/highered) Survey Data on Scientists and Engineers\n",
    "\n",
    "##### Not Currently Supported\n",
    "* [IPUMS IHGIS](https://ihgis.ipums.org) Analysis Ready Tables from International Censuses"
   ]
  },
  {
   "cell_type": "markdown",
   "id": "e1e5cfa6-56aa-4493-9619-79a38ed17ebc",
   "metadata": {},
   "source": [
    "## Next Steps\n",
    "\n",
    "From here, we recommend exploring the following notebooks:\n",
    "\n",
    "* **IPUMS USA Data Extraction**\n",
    "* **IPUMS NHGIS Data Extraction**"
   ]
  }
 ],
 "metadata": {
  "kernelspec": {
   "display_name": "iguide-ewd-r",
   "language": "R",
   "name": "iguide-ewd-r"
  },
  "language_info": {
   "codemirror_mode": "r",
   "file_extension": ".r",
   "mimetype": "text/x-r-source",
   "name": "R",
   "pygments_lexer": "r",
   "version": "4.3.1"
  }
 },
 "nbformat": 4,
 "nbformat_minor": 5
}
