{
 "cells": [
  {
   "cell_type": "markdown",
   "id": "a2f818d5-1893-4507-8816-525f8d1ca80f",
   "metadata": {},
   "source": [
    "# Adding Basemaps with ggmap"
   ]
  },
  {
   "cell_type": "markdown",
   "id": "d6e225f4-8a91-40f9-a2e2-bbaf045942b7",
   "metadata": {},
   "source": [
    "## Introduction\n",
    "\n",
    "Adding basemaps to a map visualization provides geographical context, enhancing the viewer's understanding of the spatial data. Basemaps can display satellite imagery, street maps, and terrain features, helping highlight the location of points or boundaries. This notebook will walk through using ggmap with ggplot2 to add and customize basemaps for overlaying point or polygon data.  We’ll use the Natural Earth dataset to represent spatial features, overlaying them on a basemap. We’ll focus on a specific region, such as California, for clarity.\n",
    "\n",
    "In this notebook, we will learn how to enhance our spatial visualizations by adding basemaps using ggmap in combination with ggplot2. Basemaps provide geographical context, making it easier to interpret spatial data, especially when overlaying boundaries, points, or other geographic features.\n",
    "\n",
    "We’ll use ggmap for basemaps, ggplot2 for plotting, and sf to handle geographic data. In this example, we’ll visualize the boundary of California on a Stadia basemap."
   ]
  },
  {
   "cell_type": "markdown",
   "id": "6a8f6f26-b8a8-4d68-86c6-64b121924239",
   "metadata": {},
   "source": [
    "## 1. Setup\n",
    "\n",
    "Before running this script, you will need to install and load the following packages into your R environment:"
   ]
  },
  {
   "cell_type": "markdown",
   "id": "6f1e4ce4-e5aa-4f8d-87f8-9bfa9d4ba403",
   "metadata": {},
   "source": [
    "[**ggmap**](https://cran.r-project.org/web/packages/ggmap/index.html) A collection of functions to visualize spatial data and models on top of static maps from various online sources (e.g Google Maps and Stamen Maps). It includes tools common to those tasks, including functions for geolocation and routing.  This notebook uses the following functions from *ggmap*.\n",
    "\n",
    "* [*get_stamenmap*](https://rdrr.io/cran/ggmap/man/get_stamenmap.html) for accessing a tile server from Stamen Maps\n",
    "* [*register_stadiamaps*](https://search.r-project.org/CRAN/refmans/ggmap/html/register_stadiamaps.html) for registering a Stadia Maps API key"
   ]
  },
  {
   "cell_type": "markdown",
   "id": "93f03205-3ee3-45ba-839e-b5b7348f327b",
   "metadata": {},
   "source": [
    "[**ggplot2**](https://cran.r-project.org/web/packages/ggplot2/index.html) A package for creating graphics based on the \"Grammar of Graphics\".  This notebook uses the following functions from *ggplot2*.\n",
    "\n",
    "* [*geom_sf()*](https://ggplot2.tidyverse.org/reference/ggsf.html) for visualizing (mapping) sf objects"
   ]
  },
  {
   "cell_type": "markdown",
   "id": "0a58f878-573b-4073-bc28-ce4b576486c6",
   "metadata": {},
   "source": [
    "[**sf**](https://cran.r-project.org/web/packages/sf/index.html) A package providing support for simple features (sf) geometry objects, a standardized way to encode spatial vector data.  This notebook uses the following functions from *sf*.\n",
    "\n",
    "* [*st_read()*](https://www.rdocumentation.org/packages/sf/versions/0.2-2/topics/st_read) for readinb simple features from file or database\n",
    "* [*st_transform()*](https://r-spatial.github.io/sf/reference/st_transform.html) for transforming or converting coordinates of simple feature"
   ]
  },
  {
   "cell_type": "markdown",
   "id": "ea27380f-2145-4158-8164-34991312a7cb",
   "metadata": {},
   "source": [
    "If you are working in the I-GUIDE environment, these packages should be already be installed.  However you will still need to load the packages into your workspace using *library* base R function."
   ]
  },
  {
   "cell_type": "code",
   "execution_count": 9,
   "id": "13fc4184-5725-4320-93c6-4ea433d93f14",
   "metadata": {},
   "outputs": [],
   "source": [
    "library(ggmap)\n",
    "library(ggplot2)\n",
    "library(sf)"
   ]
  },
  {
   "cell_type": "markdown",
   "id": "97664989-d74f-4fa0-a8db-44e3081aee59",
   "metadata": {},
   "source": [
    "### Setting Up ggmap and API Access\n",
    "\n",
    "The ggmap package retrieves basemaps from various sources (e.g., Google Maps, OpenStreetMap, Stadia). Many of these basemaps require an API key, so this section walks users through obtaining and setting up an API key, if necessary.\n",
    "\n",
    "1. Install and load the ggmap package.\n",
    "2. Set up an API key for Google Maps (if desired) or use open basemap sources like Stamen.\n",
    "\n",
    "For example, Stadia Maps offer basemap options like toner, terrain, and watercolor.\n",
    "\n",
    "You can sign up for a Stadia Maps account and API key [here](https://client.stadiamaps.com/signup).\n",
    "\n",
    "Run the following code to enter your [Stadia API key](https://client.stadiamaps.com/signup)."
   ]
  },
  {
   "cell_type": "code",
   "execution_count": 13,
   "id": "3ba2cd03-9f00-4aa7-a732-211cfc402e1f",
   "metadata": {},
   "outputs": [
    {
     "name": "stdin",
     "output_type": "stream",
     "text": [
      "Please enter your Stadia API key:  fb6aa2de-5aef-4179-a705-f5f0540a74e1\n"
     ]
    }
   ],
   "source": [
    "stadia_api_key = readline(\"Please enter your Stadia API key: \")\n",
    "register_stadiamaps(stadia_api_key)"
   ]
  },
  {
   "cell_type": "markdown",
   "id": "62873834-bb06-4716-8498-dcd5d8f7b6d2",
   "metadata": {},
   "source": [
    "## 2. Import a Basemap with ggmap\n",
    "\n",
    "Here, we use the *get_stadiamap()* function from *ggmap* to retrieve a Stadia basemap for California. Stadia offers several map types, such as terrain, toner, and watercolor, which can provide different styles depending on the type of visualization you’re aiming for.\n",
    "\n",
    "First we will define the California bounding box.  The bounding box for California helps us limit the basemap to just the area we need, reducing load| time and focusing on our region of interest."
   ]
  },
  {
   "cell_type": "code",
   "execution_count": null,
   "id": "0feae471-1b82-40e8-b1f7-b3a98e3f405e",
   "metadata": {},
   "outputs": [],
   "source": [
    "california_bbox <- c(left = -125, bottom = 32, right = -114, top = 42)"
   ]
  },
  {
   "cell_type": "markdown",
   "id": "a74226ad-207c-45c6-ba8b-f798880d178b",
   "metadata": {},
   "source": [
    "Next we will retrieve a basemap for California from Stadia Maps using the California bounding box we previously specified."
   ]
  },
  {
   "cell_type": "code",
   "execution_count": 1,
   "id": "185fe9b7-f337-4797-9089-e39574d4a5f6",
   "metadata": {},
   "outputs": [
    {
     "ename": "ERROR",
     "evalue": "Error in get_stadiamap(bbox = california_bbox, zoom = 6, maptype = \"stamen_watercolor\"): could not find function \"get_stadiamap\"\n",
     "output_type": "error",
     "traceback": [
      "Error in get_stadiamap(bbox = california_bbox, zoom = 6, maptype = \"stamen_watercolor\"): could not find function \"get_stadiamap\"\nTraceback:\n"
     ]
    }
   ],
   "source": [
    "basemap <- get_stadiamap(bbox = california_bbox, zoom = 6, maptype = \"stamen_terrain\")"
   ]
  },
  {
   "cell_type": "markdown",
   "id": "4ce80ea5-cc3f-4514-ac96-40fbd32a878b",
   "metadata": {},
   "source": [
    "## 3. Import the California Boundary\n",
    "\n",
    "To overlay the California boundary on the basemap, we need to load the shapefile and ensure its CRS matches the basemap’s CRS, which is typically WGS84 (EPSG: 4326).\n",
    "\n",
    "Read in a local shapefile of the state of California boundary."
   ]
  },
  {
   "cell_type": "code",
   "execution_count": null,
   "id": "6b392fe5-9184-411a-b11b-1f62b2d17967",
   "metadata": {},
   "outputs": [],
   "source": [
    "california_boundary <- st_read(\"CA_State.shp\")"
   ]
  },
  {
   "cell_type": "markdown",
   "id": "2661828e-c82e-4bb9-a402-aa3895f0d70e",
   "metadata": {},
   "source": [
    "Transform the California boundary file to CRS EPSG 4326.  The data needs to be in this CRS to be able to plot it on the basemap.  It’s essential to verify that both the basemap and spatial data have the same CRS, or they won’t align correctly."
   ]
  },
  {
   "cell_type": "code",
   "execution_count": null,
   "id": "d5090b5b-c9c6-4fd1-9dc2-2aebfcf0a9c0",
   "metadata": {},
   "outputs": [],
   "source": [
    "california_boundary <- st_transform(california_boundary, crs = 4326)"
   ]
  },
  {
   "cell_type": "markdown",
   "id": "7241697a-ec84-43de-866e-8d95dab926b4",
   "metadata": {},
   "source": [
    "## 4. Overlaying Spatial Data on the Basemap\n",
    "\n",
    "Now that we have both the basemap and California boundary in the same CRS, we can use ggmap() to display the basemap and geom_sf() to overlay the boundary layer.\n",
    "\n",
    "* ggmap(basemap): Displays the basemap.\n",
    "* geom_sf(): Adds the California boundary on top. Adjust color for boundary color and size for line thickness.\n",
    "* labs(): Adds a title to the plot."
   ]
  },
  {
   "cell_type": "code",
   "execution_count": null,
   "id": "8f544a85-b1f6-4e66-b283-c101de371c3c",
   "metadata": {},
   "outputs": [],
   "source": [
    "ggmap(basemap) +\n",
    "  geom_sf(data = california_boundary, fill = NA, color = \"red\", inherit.aes = F) +\n",
    "  labs(title = \"California Boundary with Basemap\") +\n",
    "  theme_minimal()"
   ]
  },
  {
   "cell_type": "markdown",
   "id": "588e68f0-7c55-4eb0-ba51-7262791fe6f4",
   "metadata": {},
   "source": [
    "## 5. Experimenting with Different Basemap Styles\n",
    "\n",
    "Depending on your visualization goals, different basemap styles can enhance or detract from your map. Here we’ll experiment with the toner and Alidade Smooth styles from Stadia Maps.  You can view all the available basemap styles on the [Stadia Maps website](https://docs.stadiamaps.com/themes).\n",
    "\n",
    "* maptype = \"stamen_toner\": High-contrast black-and-white map, useful for emphasizing overlays.\n",
    "* maptype = \"stamen_watercolor\": Artistic, stylized map that’s good for presentations."
   ]
  },
  {
   "cell_type": "code",
   "execution_count": null,
   "id": "ca7cd6e9-64dc-42ab-9787-0680f75fe783",
   "metadata": {},
   "outputs": [],
   "source": [
    "# toner basemap\n",
    "basemap_toner <- get_stadiamap(bbox = california_bbox, zoom = 6, maptype = \"stamen_toner\")\n",
    "\n",
    "ggmap(basemap_toner) +\n",
    "  geom_sf(data = california_boundary, fill = NA, color = \"blue\", size = 1, inherit.aes = FALSE) +\n",
    "  labs(title = \"California Boundary with Toner Basemap\") +\n",
    "  theme_minimal()"
   ]
  },
  {
   "cell_type": "code",
   "execution_count": 2,
   "id": "462c838e-8c37-4991-b5eb-ffafe487eba2",
   "metadata": {},
   "outputs": [
    {
     "ename": "ERROR",
     "evalue": "Error in get_stadiamap(bbox = california_bbox, zoom = 6, maptype = \"alidade_smooth\"): could not find function \"get_stadiamap\"\n",
     "output_type": "error",
     "traceback": [
      "Error in get_stadiamap(bbox = california_bbox, zoom = 6, maptype = \"alidade_smooth\"): could not find function \"get_stadiamap\"\nTraceback:\n"
     ]
    }
   ],
   "source": [
    "# alidade smooth basemap\n",
    "basemap_alidade <- get_stadiamap(bbox = california_bbox, zoom = 6, maptype = \"alidade_smooth\")\n",
    "\n",
    "ggmap(basemap_alidade) +\n",
    "  geom_sf(data = california_boundary, fill = NA, color = \"darkgreen\", size = 1, inherit.aes = FALSE) +\n",
    "  labs(title = \"California Boundary with Alidade Smooth Basemap\") +\n",
    "  theme_minimal()"
   ]
  }
 ],
 "metadata": {
  "kernelspec": {
   "display_name": "iguide-ewd-r",
   "language": "R",
   "name": "iguide-ewd-r"
  },
  "language_info": {
   "codemirror_mode": "r",
   "file_extension": ".r",
   "mimetype": "text/x-r-source",
   "name": "R",
   "pygments_lexer": "r",
   "version": "4.3.1"
  }
 },
 "nbformat": 4,
 "nbformat_minor": 5
}
