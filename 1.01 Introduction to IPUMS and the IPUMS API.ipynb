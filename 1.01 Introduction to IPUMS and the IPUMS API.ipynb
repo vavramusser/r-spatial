{
 "cells": [
  {
   "cell_type": "markdown",
   "id": "47319ac8-3b67-4609-b37d-001ff1eb79da",
   "metadata": {},
   "source": [
    "# Introduction to [IPUMS](https://www.ipums.org) and the [IPUMS API](https://developer.ipums.org/docs/v2/apiprogram)\n",
    "### by [Kate Vavra-Musser](https://vavramusser.github.io) for the [R Spatial Notebook Series](https://vavramusser.github.io/r-spatial)"
   ]
  },
  {
   "cell_type": "markdown",
   "id": "9391b245-ba28-452f-9627-9f29ff415b30",
   "metadata": {},
   "source": [
    "The [**IPUMS (Integrated Public Use Microdata Series)**](https://www.ipums.org) provides access to high-quality, harmonized data on population and health from around the world. Developed and maintained by the [Institute for Social Research and Data Innovation (ISRDI)](https://isrdi.umn.edu) at the [University of Minnesota's Minnesota Population Center (MPC)](https://pop.umn.edu), IPUMS datasets cover a range of demographic, health, and geographic topics that support research in fields like public health, economics, geography, and social sciences. IPUMS data offerings include U.S. Census data, global demographic surveys, and health datasets, all standardized across time and location to allow for easy cross-temporal and cross-national comparisons.\n",
    "\n",
    "### Available Data\n",
    "\n",
    "#### United States Data\n",
    "* [**IPUMS USA**](https://usa.ipums.org/usa): United States microdata from 1850 to the present\n",
    "  * Decennial Census\n",
    "  * American Community Survey (ACS)\n",
    "* [**Current Population Survey (CPS)**](https://cps.ipums.org/cps): CPS microdata including basic monthly surveys and supplements from 1962 to the present\n",
    "* [**National Historic Geographic Information System (NHGIS)**](https://www.nhgis.org): Tabular US Census and GIS boundary files from 1790 to present\n",
    "* [**Time Use**](https://timeuse.ipums.org): Historical and contemporary time use data from 1930 to present\n",
    "  * American Time Use Survey (ATUS)\n",
    "  * American Heritage Time Use Study (AHTUS)\n",
    "* [**Health Surveys**](https://healthsurveys.ipums.org): Historical and contemporary US health survey data\n",
    "  * National Health Interview Series (NHIS)\n",
    "  * Medical Expenditure Panel Survey (MEPS)\n",
    "* [**Higher Education**](https://highered.ipums.org/highered): Survey data on the science and engineering workforce in the US from 1993 to present\n",
    "  * National Survey of College Graduates (NSCG)\n",
    "  * Survey of Doctorate Recipents (SDR)\n",
    "  * National Survey of Recent College Graduates (NSRCG)\n",
    "\n",
    "#### International Data\n",
    "* [**IPUMS International**](https://international.ipums.org/international): The world's largest collection of census microdata covering over 100 countries, contemporary and historical\n",
    "* [**Global Health**](https://globalhealth.ipums.org): Health survey data from around the world\n",
    "  * Demographic and Health Surveys (DHS)\n",
    "  * Performance Monitoring for Action (PMA)\n",
    "  * Multiple Indicator Cluster Surveys (MICS)\n",
    "* [**International Historic Geographic Information System (IHGIS)**](https://ihgis.ipums.org): Tabular and GIS data from population, housing, and agricultural censuses aroud the world\n",
    "* [**Time Use**](https://timeuse.ipums.org): Historical and contemporary time use data from 1930 to present\n",
    "  * Multinational Time Use Study (MTUS)"
   ]
  },
  {
   "cell_type": "markdown",
   "id": "9025440e-a7fe-4fd9-bb89-757fc20e1385",
   "metadata": {},
   "source": [
    "## The ipumsr R Package\n",
    "The [**ipumsr package**](https://cran.r-project.org/web/packages/ipumsr/index.html) is a tool for loading, managing, and analyzing IPUMS data within R. Designed to simplify the process of working with IPUMS extracts, ipumsr provides functions to import data, handle metadata, and apply labeled values directly, making it easier to move from raw data to analysis. This package supports both the classic rectangular datasets from IPUMS as well as more complex hierarchical files."
   ]
  },
  {
   "cell_type": "markdown",
   "id": "3406908c-a360-43ed-b20a-16fe0c18f794",
   "metadata": {},
   "source": [
    "## The IPUMS API\n",
    "The ipumsr package uses the [**IPUMS API**](https://developer.ipums.org/docs/v2/apiprogram) to extract data requests from IPUMS.\n",
    "\n",
    "An [API (Application Programming Interface)](https://en.wikipedia.org/wiki/API) is a set of rules and protocols that allow different software applications to communicate with each other. APIs enable automated access to data and services, allowing users to retrieve, manipulate, and manage information without directly interacting with a website or user interface.\n",
    "\n",
    "In the case of IPUMS, the API provides a streamlined, programmatic way to access data, making it possible to request and download datasets directly within R.\n",
    "\n",
    "### ★ Create Your IPUMS Account and API Key ★\n",
    "To download IPUMS data **you will need to set up an IPUMS account** and to submit data requests using the IPUMS API **you will need to obtain an IPUMS API key**.  You can register for an IPUMS account and get your IPUMS API key by following the instructions on [the IPUMS website](https://account.ipums.org/api_keys)."
   ]
  },
  {
   "cell_type": "markdown",
   "id": "9762686d-5503-4314-a5dc-af87992a8d2f",
   "metadata": {},
   "source": [
    "### IPUMS API Functionality for IPUMS Data\n",
    "\n",
    "Use of the IPUMS API with ipumsr supports the following levels of functionality for each IPUMS project.\n",
    "\n",
    "##### Browse Metadata, Request and Download Data, Read Data Extracts\n",
    "* [IPUMS NHGIS](https://www.nhgis.org) U.S. Census Data Tables and Mapping Files\n",
    "\n",
    "##### Request and Download Data, Read Data Extracts\n",
    "* [IPUMS USA](https://usa.ipums.org/usa) U.S. Census Data for Social, Economic, and Health Research\n",
    "* [IPUMS CPS](https://cps.ipums.org/cps) Current Population Survey (CPS) Data for Social, Economic, and Health Research\n",
    "* [IPUMS International](https://international.ipums.org/international) Harmonized International Census Data for Scoial Science and Health Research\n",
    "* [IPUMS Time Use](https://timeuse.ipums.org) from the American Time Use Survey (ATUS), American Heritage Time Use Study (AHTUS), and Multinational Time Use Study (MTUS)\n",
    "* [IPUMS Health Surveys](https://healthsurveys.ipums.org) Harmonized Data from U.S. National Health Surveys including the National Health Interview Series (NHIS) and the Medical Expenditure Panel Survey (MEPS)\n",
    "\n",
    "##### Read Data Extracts only\n",
    "* [IPUMS Global Health](https://globalhealth.ipums.org) Harmonized International Survey Data on Maternal, Child, and Reproductive Health from the Demographic and Health Surveys (DHS), Performance Monitoring for Action (PMA), and Multiple Indicator Cluster Surveys (MICS)\n",
    "* [IPUMS Higher Education](https://highered.ipums.org/highered) Survey Data on Scientists and Engineers\n",
    "\n",
    "##### Not Currently Supported\n",
    "* [IPUMS IHGIS](https://ihgis.ipums.org) Analysis Ready Tables from International Censuses"
   ]
  },
  {
   "cell_type": "markdown",
   "id": "f73932de-fe60-4fbc-a6f4-c21d0db4194d",
   "metadata": {},
   "source": [
    "---\n",
    "\n",
    "## Next Steps\n",
    "\n",
    "* Continue to [**Chapter 1.02 Introduction to Natural Earth**]()\n",
    "* Move on to Chapter 2: Fundamentals of Spatial Data\n",
    "  * [**Chapter 2.01 Introduction to sf: Reading, Writing, and Inspecting Vector Data**]()\n",
    "* Move on to Chapter 3: IPUMS Data Acquisition and Extraction\n",
    "  * [**Chapter 3.01 IPUMS USA Data Extraction using ipumsr**]()\n",
    "  * [**Chapter 3.02 IPUMS NHGIS Data Extraction using ipumsr**]()\n",
    "* Return to the [**R Spatial Notebooks Project Chapter List**](https://vavramusser.github.io/r-spatial/#:~:text=Chapter%201%3A%20Data%20Sources%20and%20APIs) to view a list of all available notebooks organized in the R Spatial Notebooks chapter structure.\n",
    "* Visit the [**R Spatial Notebooks Project Homepage**](https://vavramusser.github.io/r-spatial) to learn more about the project, view the list of all notebooks, and explore additional resources.\n",
    "* Join the project [**Mailing List**](https://mailchi.mp/ab01e8fc8397/r-spatial-email-signup) to hear about future notebook releases and other updates.\n",
    "* If you have an idea for a new notebook please submit your idea via the [**Suggestion Box**](https://us19.list-manage.com/survey?u=746bf8d366d6fbc99c699e714&id=54590a28ea&attribution=false).\n",
    "\n",
    "---\n",
    "\n",
    "## ★ Thank You ★\n",
    "\n",
    "Thank you so much for engaging with this notebook and supporting the project!  The R Spatial Notebooks Project is a labor of love so if you enjoy or benefit from these notebooks, please consider [**Donating to the Project**](https://buymeacoffee.com/vavramusser).  Your support allows me to continue producing notebooks and supporting the R Spatial Notebooks community."
   ]
  }
 ],
 "metadata": {
  "kernelspec": {
   "display_name": "R",
   "language": "R",
   "name": "ir"
  },
  "language_info": {
   "codemirror_mode": "r",
   "file_extension": ".r",
   "mimetype": "text/x-r-source",
   "name": "R",
   "pygments_lexer": "r",
   "version": "4.3.3"
  }
 },
 "nbformat": 4,
 "nbformat_minor": 5
}
