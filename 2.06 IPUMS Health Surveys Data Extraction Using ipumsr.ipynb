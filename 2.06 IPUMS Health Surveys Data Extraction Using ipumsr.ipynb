{
 "cells": [
  {
   "cell_type": "markdown",
   "id": "5c578a64-4d4a-4721-958c-800506510b16",
   "metadata": {},
   "source": [
    "# IPUMS Health Surveys Data Extraction Using ipumsr\n",
    "### by [Kate Vavra-Musser](https://vavramusser.github.io) for the [R Spatial Notebook Series](https://vavramusser.github.io/r-spatial)"
   ]
  },
  {
   "cell_type": "markdown",
   "id": "dda02f5e-fa65-4398-b630-c51d09cea26d",
   "metadata": {},
   "source": [
    "This notebook builds on the the workflow introduced in the **[Introduction to the IPUMS API for R Users](https://tech.popdata.org/ipumsr/articles/ipums-api.html)** article on the IPUMS website.  As the author of the R Spatial Notebook series, I recognize the IPUMS article as a significant inspiration and source of information for this notebook.\n",
    "\n",
    "## Introduction\n",
    "\n",
    "The [IPUMS Health Surveys](https://healthsurveys.ipums.org) database offers harmonized microdata from the [National Health Interview Survey (NHIS)](https://www.cdc.gov/nchs/nhis/index.html) and the [Medical Expenditure Panel Survey (MEPS)](https://meps.ahrq.gov/mepsweb), providing detailed information on population health, healthcare access, and medical expenditures. It enables researchers to analyze trends in health outcomes, insurance coverage, and healthcare utilization across time and demographic groups. Through harmonization, IPUMS Health Surveys ensures data can be seamlessly compared across survey years, addressing changes in survey design, variable definitions, and geographic classifications.\n",
    "\n",
    "**From the [IPUMS Health Surveys Website](https://healthsurveys.ipums.org):** IPUMS Health Surveys provide free individual-level survey data for research purposes from two leading sources of self-reported health and health care access information: the National Health Interview Survey (NHIS) and the Medical Expenditure Panel Survey (MEPS).\n",
    "\n",
    "The IPUMS Health Surveys database organized into the following two subsections, based on data source:\n",
    "\n",
    "* [National Health Interview Survey (NHIS)](https://nhis.ipums.org/nhis): The National Health Interview Survey (NHIS) provides harmonized annual microdata from the 1960s to the present.\n",
    "* [Medical Expenditure Panel Survey (MEPS)](https://meps.ipums.org/meps): The Medical Expenditure Panel Survey (MEPS) provides harmonized microdata from the longitudinal survey of U.S. health care expenditures and utilization, covering the period 1996 to the present.\n",
    "\n",
    "This notebook introduces the process of extracting [IPUMS Health Surveys](https://healthsurveys.ipums.org) data using the [IPUMS API](https://developer.ipums.org/docs/v2/apiprogram) via the [ipumsr R package](https://cran.r-project.org/web/packages/ipumsr/index.html). Users will learn how to define, submit, and download an IPUMS Health Surveys data extract, specifying desired variables, time periods, and geographic units for analysis. By the end of this notebook, users will have the skills to efficiently acquire customized IPUMS Health Surveys datasets and prepare them for spatial and statistical workflows.\n",
    "\n",
    "### ★ Prerequisites ★\n",
    "* Complete [Section 1.1 Introduction to IPUMS and the IPUMS API](https://platform.i-guide.io/notebooks/82d3b176-e4e6-4307-8186-318a3fe6c81a)\n",
    "* Set Up Your [IPUMS Account and API Key](https://account.ipums.org/api_keys)\n",
    "\n",
    "### Notebook Overview\n",
    "1. Setup\n",
    "2. IPUMS National Health Interview Series (NHIS) Metadata Exploration\n",
    "3. IPUMS National Health Interview Series (NHIS) Data Extraction Specification and Submission\n",
    "4. IPUMS Medical Expenditures Panel Survey (MEPS) Metadata Exploration\n",
    "5. IPUMS Medical Expenditures Panel Survey (MEPS) Data Extraction Specification and Submission"
   ]
  },
  {
   "cell_type": "markdown",
   "id": "500f6e8f-3e19-461c-a596-6ee38dcadb81",
   "metadata": {},
   "source": [
    "## 1. Setup\n",
    "## 1. Setup\n",
    "This section will guide you through the process of installing essential packages and setting your IPUMS API key.\n",
    "\n",
    "#### Required Packages\n",
    "\n",
    "[**dplyr**](https://cran.r-project.org/web/packages/dplyr/index.html) A Grammar of Data Manipulation. This notebook uses the the following function from *dplyr*.\n",
    "\n",
    "* [*filter*](https://rdrr.io/cran/dplyr/man/filter.html) · keep rows that match a condition\n",
    "* This notebook also uses [*%>%*](https://magrittr.tidyverse.org/reference/pipe.html), referred to as the *pipe* operator, which is used to pass the output from one function directly into the next function for the purpose of creating streamlined workflows.  The *pipe* operator is a commonly used component of the [*tidyverse*](https://www.tidyverse.org).\n",
    "\n",
    "[**ipumsr**](https://cran.r-project.org/web/packages/ipumsr/index.html) An R Interface for Downloading, Reading, and Handling IPUMS Data.  This notebook uses the the following functions from *ipumsr*.\n",
    "\n",
    "* [*define_extract_micro*](https://rdrr.io/github/mnpopcenter/ripums/man/define_extract_micro.html) · define an extract request for an IPUMS microdata collection\n",
    "* [*download_extract*](https://rdrr.io/cran/ipumsr/man/download_extract.html) · download a completed IPUMS data extract\n",
    "* [*get_sample_info*](https://rdrr.io/cran/ipumsr/man/get_sample_info.html) · list available samples for IPUMS microdata collections\n",
    "* [*read_ipums_ddi*](https://rdrr.io/cran/ipumsr/man/read_ipums_ddi.html) · read metadata about an IPUMS microdata extract from a DDI codebook (.xml) file\n",
    "* [*read_ipums_micro*](https://rdrr.io/cran/ipumsr/man/read_ipums_micro.html) · read data from an IPUMS microdata extract\n",
    "* [*set_ipums_api_key*](https://rdrr.io/cran/ipumsr/man/set_ipums_api_key.html) · set your IPUMS API key\n",
    "* [*submit_extract*](https://rdrr.io/cran/ipumsr/man/submit_extract.html) · submit an extract request via the IPUMS API\n",
    "* [*wait_for_extract*](https://rdrr.io/cran/ipumsr/man/wait_for_extract.html) · wait for an extract to finish processing\n",
    "\n",
    "[**stringr**](https://cran.r-project.org/web/packages/stringr/index.html) Simple, Consistent Wrappers for Common String Operations.  This notebook uses the following function from *stringr*.\n",
    "\n",
    "* [*str_detect*](https://stringr.tidyverse.org/reference/str_detect.html) · detect the presence or absence of a match"
   ]
  },
  {
   "cell_type": "markdown",
   "id": "bb9432cd-1d12-4290-bb5b-c624c9a388e2",
   "metadata": {},
   "source": [
    "### 1a. Install and Load Required Packages\n",
    "If you have not already installed the required packages, uncomment and run the code below:"
   ]
  },
  {
   "cell_type": "code",
   "execution_count": null,
   "id": "b216c3df-15f9-488f-9e56-ea384a848826",
   "metadata": {},
   "outputs": [],
   "source": [
    "# install.packages(c(\"dplyr\", \"ipumsr\", \"stringr\"))"
   ]
  },
  {
   "cell_type": "markdown",
   "id": "3cd9eb54-acd5-4baf-886c-cc5a35978451",
   "metadata": {},
   "source": [
    "Load the packages into your workspace."
   ]
  },
  {
   "cell_type": "code",
   "execution_count": null,
   "id": "a586fda9-d65e-48c4-9341-1f2b3db3e1a3",
   "metadata": {},
   "outputs": [],
   "source": [
    "library(dplyr)\n",
    "library(ipumsr)\n",
    "library(stringr)"
   ]
  },
  {
   "cell_type": "markdown",
   "id": "06f9a97a-949e-4ba0-99c0-19608949dfcf",
   "metadata": {},
   "source": [
    "#### 1b. Set Your IPUMS API Key\n",
    "\n",
    "Store your [IPUMS API key](https://account.ipums.org/api_keys) in your environment using the following code.\n",
    "\n",
    "Refer to *Chapter 1.1: Introduction to IPUMS and the IPUMS API* for instructions on setting up your IPUMS account and API key."
   ]
  },
  {
   "cell_type": "code",
   "execution_count": null,
   "id": "8f275371-6941-45cf-9fe8-ab830a5a9740",
   "metadata": {},
   "outputs": [],
   "source": [
    "ipumps_api_key = readline(\"Please enter your IPUMS API key: \")\n",
    "set_ipums_api_key(ipumps_api_key, save = T, overwrite = T)"
   ]
  },
  {
   "cell_type": "markdown",
   "id": "f3db7904-ccea-4e43-84c9-7858f42f6086",
   "metadata": {},
   "source": [
    "nhis\n",
    "meps"
   ]
  },
  {
   "cell_type": "markdown",
   "id": "44910989-5772-4af8-9ae6-73779b97d611",
   "metadata": {},
   "source": [
    "## 2. IPUMS National Health Interview Series (NHIS) Metadata Exploration\n",
    "\n",
    "From the [**IPUMS National Health Interview Series (NHIS) Webpage**](https://nhis.ipums.org/nhis): The National Health Interview Survey is a survey collecting information on the health, health care access, and health behaviors of the civilian, non-institutionalized U.S. population, with digital data files available from 1963 to present. IPUMS Health Surveys harmonizes these data and allows users to create custom NHIS data extracts for analysis.\n",
    "\n",
    "### 2a. Review the List of Samples"
   ]
  },
  {
   "cell_type": "code",
   "execution_count": null,
   "id": "7924e1d2-609e-47d7-a6dd-c2f96de05036",
   "metadata": {},
   "outputs": [],
   "source": [
    "# retrive and view the list of samples from the IPUMS USA database\n",
    "metadata_nhis <- get_sample_info(\"nhis\")\n",
    "\n",
    "# view the dimensions of the list of samples\n",
    "dim(metadata_nhis)"
   ]
  },
  {
   "cell_type": "code",
   "execution_count": null,
   "id": "1a7ef288-9f10-4300-989f-3683a790baf5",
   "metadata": {},
   "outputs": [],
   "source": [
    "# view the first few lines of the list of samples\n",
    "head(metadata_nhis)"
   ]
  },
  {
   "cell_type": "markdown",
   "id": "7e21c1ae-8535-41b6-973c-4e15dedef687",
   "metadata": {},
   "source": [
    "Refer to the [Descriptions of IPUMS NHIS Samples](https://nhis.ipums.org/nhis/surveys.shtml) page on the IPUMS NHIS website."
   ]
  },
  {
   "cell_type": "code",
   "execution_count": null,
   "id": "e320033a-150f-42e4-a56f-4512d689c00e",
   "metadata": {},
   "outputs": [],
   "source": [
    "# filter the list of samples by year\n",
    "metadata_nhis %>% filter(str_detect(description, \"2000\"))"
   ]
  },
  {
   "cell_type": "markdown",
   "id": "b487aca4-7d40-4de3-a914-a7352fc3163e",
   "metadata": {},
   "source": [
    "## 3. IPUMS NHIS Data Extraction Specification and Submission\n",
    "\n",
    "Once we know the dataset and variable selection we want, we can define our data extraction using the *define_extract_micro* function from the *ipumsr* package.  This function requires the following parameters:\n",
    "\n",
    "### 3a. Define the Data Extract\n",
    "\n",
    "For this example we will use the 2020 NHIS sample.\n",
    "\n",
    "**Variable Selection**\n",
    "* Regin of Residence (REGION)\n",
    "* Health Status (HEALTH)\n",
    "* Health Insurance Coverage Status (HINOTCOVE)\n",
    "* Ever Told Had Hypertension on 2+ Visits (HYP2TIME)\n",
    "* Ever Smoked 100 Cigarettes in Life (SMOKEV)\n",
    "* Frequency of Vigorous Activity 10+ Minutes: Times per Week (VIG10FWK)\n",
    "\n",
    "By default, the data extraction will also include a number of IPUMS preselected variables.  These variables include metainformation such as identification codes and survey weights.  We will explore and list the preselected variables after completing the data extraction.\n",
    "\n",
    "* **collection** Code for the IPUMS collection represented by this extract request.  In our case we are downloading from IPUMS USA so we use the code \"usa\".\n",
    "* **description** Text description of the extract.\n",
    "* **samples** Vector of samples to include in the extract request.  In our case we are downloading the 2010 ACS data (us2010a).\n",
    "* **variables** Vector of variable names or a list of detailed variable specifications to include in the extract request."
   ]
  },
  {
   "cell_type": "code",
   "execution_count": null,
   "id": "9542726a-527a-4968-b692-4266e2d46b8c",
   "metadata": {},
   "outputs": [],
   "source": [
    "# set up the data extraction definition\n",
    "extract_definition <- define_extract_micro(collection = \"nhis\",\n",
    "                                           description = \"IPUMS NHIS Data Extraction\",\n",
    "                                           samples = c(\"ih2000\"),\n",
    "                                           variables = c(\"REGION\", \"HEALTH\", \"HINOTCOVE\", \"HYP2TIME\", \"SMOKEV\", \"VIG10FWK\"))"
   ]
  },
  {
   "cell_type": "code",
   "execution_count": null,
   "id": "9123ec83-1c31-425c-b4a8-c9c8a3dd26ec",
   "metadata": {},
   "outputs": [],
   "source": [
    "# review the extraction definition\n",
    "extract_definition"
   ]
  },
  {
   "cell_type": "markdown",
   "id": "46b99602-39c2-42d8-b387-1ce557058115",
   "metadata": {},
   "source": [
    "### 3b. Submit the Extract Request"
   ]
  },
  {
   "cell_type": "code",
   "execution_count": null,
   "id": "174a9f81-252d-47d1-afda-94405a8b6fe6",
   "metadata": {},
   "outputs": [],
   "source": [
    "# submit extraction request\n",
    "extract_submitted <- submit_extract(extract_definition)\n",
    "\n",
    "# wait for completion\n",
    "extraction_complete <- wait_for_extract(extract_submitted)\n",
    "\n",
    "# check completion status\n",
    "extraction_complete$status\n",
    "\n",
    "# get the extract filepath\n",
    "filepath <- download_extract(extract_submitted, overwrite = T)"
   ]
  },
  {
   "cell_type": "markdown",
   "id": "81708df3-e2b0-4bd7-ab5d-55434d3960cb",
   "metadata": {},
   "source": [
    "### 3c. Review the Extract\n",
    "\n",
    "The data extract download will contain the following two files.\n",
    "\n",
    "1. A [DDI (Data Documentation Initiative)](https://ddialliance.org) codebook file (file extension .xml) containing metadata and descriptive information for you data.\n",
    "2. A zipped data (.dat) file (file extension .dat.gz) containing your data.\n",
    "\n",
    "Read the ddi and data files into a format which we can work with in R."
   ]
  },
  {
   "cell_type": "code",
   "execution_count": null,
   "id": "03b61af0-2100-48c4-b95e-14b01b24b62a",
   "metadata": {},
   "outputs": [],
   "source": [
    "ddi <- read_ipums_ddi(filepath)\n",
    "dat <- read_ipums_micro(ddi)"
   ]
  },
  {
   "cell_type": "code",
   "execution_count": null,
   "id": "1aecfdfb-878e-4258-9b6f-d1f6b37d9acb",
   "metadata": {},
   "outputs": [],
   "source": [
    "dim(dat)"
   ]
  },
  {
   "cell_type": "code",
   "execution_count": null,
   "id": "cab80732-f495-4cff-a06b-07ade5dc453c",
   "metadata": {},
   "outputs": [],
   "source": [
    "head(dat)"
   ]
  },
  {
   "cell_type": "code",
   "execution_count": null,
   "id": "5bd95137-7fec-4d79-9d9c-e9b6fb500bc5",
   "metadata": {},
   "outputs": [],
   "source": [
    "colnames(dat)"
   ]
  },
  {
   "cell_type": "markdown",
   "id": "613cbba4-bfcc-4a67-a78e-a3dfc9e81e40",
   "metadata": {},
   "source": [
    "**Variable Selection**\n",
    "* Regin of Residence (REGION)\n",
    "* Health Status (HEALTH)\n",
    "* Health Insurance Coverage Status (HINOTCOVE)\n",
    "* Ever Told Had Hypertension on 2+ Visits (HYP2TIME)\n",
    "* Ever Smoked 100 Cigarettes in Life (SMOKEV)\n",
    "* Frequency of Vigorous Activity 10+ Minutes: Times per Week (VIG10FWK)\n",
    "\n",
    "**IPUMS Preselected Variables**\n",
    "* Survey Year (YEAR)\n",
    "* Sequential Serial Number, Household Record (SERIAL)\n",
    "* Stratum for Variance Estimation (STRATA)\n",
    "* Primary Sampling Unit (PSU) for Variance Estimation (PSU)\n",
    "* NHIS Unique Identifier, Household (NHISHID)\n",
    "* Household Weight, Final Annual (HHWEIGHT)\n",
    "* Person Number within Family/Household (from reformatting) (PERNUM)\n",
    "* NHIS Unique Identifier, Person (NHISPID)\n",
    "* Household Number (from NHIS) (HHX)\n",
    "* Family Number (from NHIS) (FMX)\n",
    "* Person Number of Respondent (from NHIS) (PX)\n",
    "* Final Basic Annual Weight (PERWEIGHT)\n",
    "* Sample Person Weight (SAMPWEIGHT)\n",
    "* Final Annual Family Weight (FWEIGHT)\n",
    "* Sample Adult Flag (ASTATFLG)\n",
    "* Sample Child Flag (CSTATFLG)"
   ]
  },
  {
   "cell_type": "markdown",
   "id": "a7957855-d54f-4d52-ba11-a30d586eea58",
   "metadata": {},
   "source": [
    "### 3d. Save the Data\n",
    "\n",
    "Next let's save a couple versions of our IPUMS NHIS data file.\n",
    "\n",
    "* A *.rds* version of the data.  The **R Data Serialization (RDS)** format will retain metadata for the next time we want to import the file back into R.  One downside to the .rds format is it is only useable within R.\n",
    "* A *.csv* version of the data.  The [**Comma-Separated Values (CSV)**](https://en.wikipedia.org/wiki/Comma-separated_values) format is versitile and can be easily accessed in other programs.  However, the CSV file format does not include metadata such as labels for variable levels."
   ]
  },
  {
   "cell_type": "code",
   "execution_count": null,
   "id": "5e644dc7-a733-4c76-865e-63798c7e6123",
   "metadata": {},
   "outputs": [],
   "source": [
    "saveRDS(dat, \"ipums_nhis_example.rds\")\n",
    "write.csv(dat, \"ipums_nhis_example.csv\")"
   ]
  },
  {
   "cell_type": "markdown",
   "id": "4843b229-a66a-4e1b-8c19-b71b3203042f",
   "metadata": {},
   "source": [
    "## 4. IPUMS Medical Expenditures Panel Survey (MEPS) Metadata Exploration\n",
    "\n",
    "From the [**IPUMS Medical Expenditures Panel Survey (MEPS) Webpage**](https://nhis.ipums.org/nhis): MEPS provides nationally representative, longitudinal data from 1996 to the present on health status, medical conditions, healthcare utilization, and healthcare expenditures for the U.S. civilian, non-institutionalized population. IPUMS MEPS harmonizes these data and allows users to create customized data extracts for analysis.\n",
    "\n",
    "### 4a. Review the List of Samples"
   ]
  },
  {
   "cell_type": "code",
   "execution_count": null,
   "id": "2965aace-d326-4c9d-bb58-0690db9879f7",
   "metadata": {},
   "outputs": [],
   "source": [
    "# retrive and view the list of samples from the IPUMS MEPS database\n",
    "metadata_meps <- get_sample_info(\"meps\")\n",
    "\n",
    "# view the dimensions of the list of samples\n",
    "dim(metadata_meps)"
   ]
  },
  {
   "cell_type": "code",
   "execution_count": null,
   "id": "7943cae1-aabe-4289-9750-1025a265b6eb",
   "metadata": {},
   "outputs": [],
   "source": [
    "# view the first few lines of the list of samples\n",
    "head(metadata_meps)"
   ]
  },
  {
   "cell_type": "code",
   "execution_count": null,
   "id": "d172fbdd-8448-4f54-ba2e-1960c7cff9c6",
   "metadata": {},
   "outputs": [],
   "source": [
    "# filter the list of samples by year\n",
    "metadata_meps %>% filter(str_detect(description, \"2020\"))"
   ]
  },
  {
   "cell_type": "markdown",
   "id": "0f443d77-ee57-4cea-b014-4f7e030ababf",
   "metadata": {},
   "source": [
    "## 5. IPUMS Medical Expenditures Panel Survey (MEPS) Data Extraction Specification and Submission\n",
    "\n",
    "Once we know the dataset and variable selection we want, we can define our data extraction using the *define_extract_micro* function from the *ipumsr* package.  This function requires the following parameters:\n",
    "\n",
    "### 5a. Define the Data Extract\n",
    "\n",
    "For this example we will use the 2020 MEPS sample.\n",
    "\n",
    "**Variable Selection**\n",
    "* Health Status (HEALTH)\n",
    "* Health Insuraance Coverage Type (Hierarchy) (COVERTYPE)\n",
    "* Annual Total of Direct Health Care Payments (EXPTOT)\n",
    "* Annual Total Number of Visits Made to Office-Based Medical Providers (OBTOTVIS)\n",
    "* Respondent Has Been Told They Have Diabetes (DCSDIABDX)\n",
    "\n",
    "By default, the data extraction will also include a number of IPUMS preselected variables.  These variables include metainformation such as identification codes and survey weights.  We will explore and list the preselected variables after completing the data extraction.\n",
    "\n",
    "* **collection** Code for the IPUMS collection represented by this extract request.  In our case we are downloading from IPUMS USA so we use the code \"usa\".\n",
    "* **description** Text description of the extract.\n",
    "* **samples** Vector of samples to include in the extract request.  In our case we are downloading the 2010 ACS data (us2010a).\n",
    "* **variables** Vector of variable names or a list of detailed variable specifications to include in the extract request."
   ]
  },
  {
   "cell_type": "code",
   "execution_count": null,
   "id": "191a9323-6755-46ce-ae38-9c554e109287",
   "metadata": {},
   "outputs": [],
   "source": [
    "# set up the data extraction definition\n",
    "extract_definition <- define_extract_micro(collection = \"meps\",\n",
    "                                           description = \"IPUMS MEPS Data Extraction\",\n",
    "                                           samples = c(\"mp2020\"),\n",
    "                                           variables = c(\"HEALTH\", \"COVERTYPE\", \"EXPTOT\", \"OBTOTVIS\", \"DCSDIABDX\"))"
   ]
  },
  {
   "cell_type": "code",
   "execution_count": null,
   "id": "077bdafc-973b-4f99-9690-501ada8a7eba",
   "metadata": {},
   "outputs": [],
   "source": [
    "# review the extraction definition\n",
    "extract_definition"
   ]
  },
  {
   "cell_type": "markdown",
   "id": "8dd3ad30-5607-4f39-900c-e38012e91b5b",
   "metadata": {},
   "source": [
    "### 5b. Submit the Extract Request"
   ]
  },
  {
   "cell_type": "code",
   "execution_count": null,
   "id": "87c157fb-c29d-4d79-865e-061aecaa029f",
   "metadata": {},
   "outputs": [],
   "source": [
    "# submit extraction request\n",
    "extract_submitted <- submit_extract(extract_definition)\n",
    "\n",
    "# wait for completion\n",
    "extraction_complete <- wait_for_extract(extract_submitted)\n",
    "\n",
    "# check completion status\n",
    "extraction_complete$status\n",
    "\n",
    "# get the extract filepath\n",
    "filepath <- download_extract(extract_submitted, overwrite = T)"
   ]
  },
  {
   "cell_type": "markdown",
   "id": "0ff7f2c1-b38c-49c7-b921-956e9e587e8b",
   "metadata": {},
   "source": [
    "### 5c. Review the Extract\n",
    "\n",
    "The data extract download will contain the following two files.\n",
    "\n",
    "1. A [DDI (Data Documentation Initiative)](https://ddialliance.org) codebook file (file extension .xml) containing metadata and descriptive information for you data.\n",
    "2. A zipped data (.dat) file (file extension .dat.gz) containing your data.\n",
    "\n",
    "Read the ddi and data files into a format which we can work with in R."
   ]
  },
  {
   "cell_type": "code",
   "execution_count": null,
   "id": "e3b4a997-458f-4657-a000-29681f8cd0ae",
   "metadata": {},
   "outputs": [],
   "source": [
    "ddi <- read_ipums_ddi(filepath)\n",
    "dat <- read_ipums_micro(ddi)"
   ]
  },
  {
   "cell_type": "code",
   "execution_count": null,
   "id": "68a5ce49-3186-4524-a5e0-298ed3a7a481",
   "metadata": {},
   "outputs": [],
   "source": [
    "dim(dat)"
   ]
  },
  {
   "cell_type": "code",
   "execution_count": null,
   "id": "87a363f2-c771-42d0-a5cf-9e424686c853",
   "metadata": {},
   "outputs": [],
   "source": [
    "head(dat)"
   ]
  },
  {
   "cell_type": "code",
   "execution_count": null,
   "id": "56044c1d-c087-4af5-af95-165deebb8df7",
   "metadata": {},
   "outputs": [],
   "source": [
    "colnames(dat)"
   ]
  },
  {
   "cell_type": "markdown",
   "id": "9f3789ff-c213-4701-87e1-588a732fe95c",
   "metadata": {},
   "source": [
    "**Variable Selection**\n",
    "* Health Status (HEALTH)\n",
    "* Health Insuraance Coverage Type (Hierarchy) (COVERTYPE)\n",
    "* Annual Total of Direct Health Care Payments (EXPTOT)\n",
    "* Annual Total Number of Visits Made to Office-Based Medical Providers (OBTOTVIS)\n",
    "* Respondent Has Been Told They Have Diabetes (DCSDIABDX)\n",
    "\n",
    "**IPUMS Preselected Variables**\n",
    "* Survey Year (YEAR)\n",
    "* Person Number within Family/Household (from reformatting) (PERNUM)\n",
    "* Dwelling Unit ID (DUID)\n",
    "* Person Number (PID)\n",
    "* MEPS Unique Identifier (IPUMS Generated) (MEPSID)\n",
    "* Panel (PANEL)\n",
    "* Annual Primary Sampling Unit (PSU) for Variance Estimation (PSUANN)\n",
    "* Annual Stratum for Variance Estimation (STRATANN)\n",
    "* Pooled Primary Sampling Unit (PSU) for Variance Estimation (PSUPLD)\n",
    "* Pooled Variance Stratum (STRATAPLD)\n",
    "* Year Entered MEPS (PANELYR)\n",
    "* Relative Year 1 or 2 in Panel (RELYR)\n",
    "* Final Basic Annual Weight (PERWEIGHT)\n",
    "* Self-Administered Questionnaire Weight (SAQWEIGHT)\n",
    "* Diabetes Care Weight (DIABWEIGHT)"
   ]
  },
  {
   "cell_type": "markdown",
   "id": "d37d499c-b97a-4a22-b3b5-73d89c530d16",
   "metadata": {},
   "source": [
    "### 5d. Save the Data\n",
    "\n",
    "Next let's save a couple versions of our IPUMS MEPS data file.\n",
    "\n",
    "* A *.rds* version of the data.  The **R Data Serialization (RDS)** format will retain metadata for the next time we want to import the file back into R.  One downside to the .rds format is it is only useable within R.\n",
    "* A *.csv* version of the data.  The [**Comma-Separated Values (CSV)**](https://en.wikipedia.org/wiki/Comma-separated_values) format is versitile and can be easily accessed in other programs.  However, the CSV file format does not include metadata such as labels for variable levels."
   ]
  },
  {
   "cell_type": "code",
   "execution_count": null,
   "id": "d55da418-c4fe-4e02-8728-6b9d9b890765",
   "metadata": {},
   "outputs": [],
   "source": [
    "saveRDS(dat, \"ipums_meps_example.rds\")\n",
    "write.csv(dat, \"ipums_mepss_example.csv\")"
   ]
  },
  {
   "cell_type": "markdown",
   "id": "4b21aeef-dac8-4138-a515-9e0626c3b27b",
   "metadata": {},
   "source": [
    "## Recommended Next Steps\n",
    "* **Continue with Chapter 2: IPUMS Data Acquisition and Extraction**\n",
    "  * 2.1: IPUMS USA Data Extraction Using ipumsr\n",
    "  * 2.2: IPUMS CPS Data Extraction Using ipumsr\n",
    "  * 2.3: IPUMS International Microdata Extraction Using ipumsr\n",
    "  * 2.4: IPUMS NHGIS Data Extraction Using ipumsr\n",
    "  * 2.5: IPUMS Time Use Data Extraction Using ipumsr\n",
    "  * 2.7: Reading IPUMS Global Health Data Extracts Using ipumsr\n",
    "  * 2.8: Reading IPUMS Higher Education Data Extracts Using ipumsr"
   ]
  }
 ],
 "metadata": {
  "kernelspec": {
   "display_name": "R",
   "language": "R",
   "name": "ir"
  },
  "language_info": {
   "codemirror_mode": "r",
   "file_extension": ".r",
   "mimetype": "text/x-r-source",
   "name": "R",
   "pygments_lexer": "r",
   "version": "4.3.3"
  }
 },
 "nbformat": 4,
 "nbformat_minor": 5
}
