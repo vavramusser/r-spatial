{
 "cells": [
  {
   "cell_type": "markdown",
   "id": "616c7d11-8ef6-454e-9d34-d85cbd7a48bf",
   "metadata": {},
   "source": [
    "# Mapping Point and Polygon Data\n",
    "### by [Kate Vavra-Musser](https://vavramusser.github.io) for the [R Spatial Notebook Series](https://vavramusser.github.io/r-spatial)"
   ]
  },
  {
   "cell_type": "markdown",
   "id": "d6196c63-947e-4fa1-bdb7-4d0c66837964",
   "metadata": {},
   "source": [
    "## Introduction\n",
    "\n",
    "In this notebook, we’ll explore the basics of mapping point and polygon data using R. We’ll demonstrate how to access open-source spatial datasets from [*rnaturalearth*](https://cran.r-project.org/web/packages/rnaturalearth/index.html), an excellent source freely available of global administrative boundaries, cities, rivers, and other geographic features.\n",
    "\n",
    "We’ll use sf for spatial data handling and ggplot2 for visualization, covering basic mapping techniques and styling options.\n",
    "\n",
    "### Notebook Goals\n",
    "This notebook provides a foundation for working with spatial data, allowing users to create informative maps with both point and polygon layers.\n",
    "\n",
    "### ★ Prerequisites ★\n",
    "  * [IPUMS NHGIS Data Extraction Using ipumsr](https://platform.i-guide.io/notebooks/be08e56e-1c08-458e-a230-263c64d386bc)\n",
    "    * [IPUMS NHGIS Data Extraction Using ipumsr: Supplemental Exercise 1](https://vavramusser.github.io/r-spatial)\n",
    "  * [Spatial Exploration and Preprocessing with IPUMS NHGIS](https://platform.i-guide.io/notebooks/2927de7d-45a4-46d7-8f76-a569af637d82)\n",
    "\n",
    "### Notebook Overview\n",
    "...\n",
    "\n",
    "---"
   ]
  },
  {
   "cell_type": "markdown",
   "id": "3823bbd2-e981-43f9-818f-21797cd32f3c",
   "metadata": {},
   "source": [
    "## 1. Setup\n",
    "This section will guide you through the process of installing essential packages.\n",
    "\n",
    "##### Required Packages\n",
    "\n",
    "[**ggplot2**](https://cran.r-project.org/web/packages/ggplot2/index.html) · Create Elegant Data Visualisations Using the Grammar of Graphics.  This notebook uses the following functions from *ggplot2*.\n",
    "\n",
    "* *CoordSf* · visualize sf objects\n",
    "  * *geom_sf* · geometric objects (points, lines, or polygons)\n",
    "* [*ggplot*](https://rdrr.io/cran/ggplot2/man/ggplot.html) · create a new ggplot\n",
    "* [*ggtheme*](https://rdrr.io/cran/ggplot2/man/ggtheme.html) · complete themes\n",
    "  * *theme_minimal* · minimal theme\n",
    "* [*labs*](https://rdrr.io/cran/ggplot2/man/labs.html) · modify axis, legend, and plot labels\n",
    "* [*theme*](https://rdrr.io/cran/ggplot2/man/theme.html) · modify components of a theme\n",
    "\n",
    "[**sf**](https://cran.r-project.org/web/packages/sf/index.html) · Support for simple features, a standardized way to encode spatial vector data. Binds to 'GDAL' for reading and writing data, to 'GEOS' for geometrical operations, and to 'PROJ' for projection conversions and datum transformations. Uses by default the 's2' package for spherical geometry operations on ellipsoidal (long/lat) coordinates.  This notebook uses the following functions from *sf*.\n",
    "\n",
    "* [*st_crs*](https://rdrr.io/cran/sf/man/st_crs.html) · retrieve coordinate reference system from object\n",
    "* [*st_transform*](https://rdrr.io/cran/sf/man/st_transform.html) · transform or convert coordinates of simple feature"
   ]
  },
  {
   "cell_type": "markdown",
   "id": "3950c244-883b-452e-895c-fb46030e9075",
   "metadata": {},
   "source": [
    "### 1a. Install and Load Required Packages\n",
    "If you have not already installed the required packages, uncomment and run the code below:"
   ]
  },
  {
   "cell_type": "code",
   "execution_count": 1,
   "id": "2016b322-9598-428b-9b9d-b45854e3c600",
   "metadata": {},
   "outputs": [],
   "source": [
    "# install.packages(c(\"ggplot2\", \"sf\"))"
   ]
  },
  {
   "cell_type": "markdown",
   "id": "eb28dea9-91cc-4736-b9a4-bad82e5cc075",
   "metadata": {},
   "source": [
    "Load the packages into your workspace."
   ]
  },
  {
   "cell_type": "code",
   "execution_count": 2,
   "id": "b6c69974-fc11-47aa-bf30-ff636e6672b6",
   "metadata": {},
   "outputs": [
    {
     "name": "stderr",
     "output_type": "stream",
     "text": [
      "Linking to GEOS 3.11.2, GDAL 3.8.2, PROJ 9.3.1; sf_use_s2() is TRUE\n",
      "\n"
     ]
    }
   ],
   "source": [
    "library(ggplot2)\n",
    "library(sf)"
   ]
  },
  {
   "cell_type": "code",
   "execution_count": 13,
   "id": "7cde64e1-4680-4f81-82c9-b271f76244e5",
   "metadata": {},
   "outputs": [
    {
     "name": "stdout",
     "output_type": "stream",
     "text": [
      "Reading layer `ipums_nhgis_states' from data source \n",
      "  `C:\\Users\\vavra\\Dropbox\\R Spatial\\r-spatial holding pen\\ipums_nhgis_states.shp' \n",
      "  using driver `ESRI Shapefile'\n",
      "Simple feature collection with 52 features and 14 fields\n",
      "Geometry type: MULTIPOLYGON\n",
      "Dimension:     XY\n",
      "Bounding box:  xmin: -7115208 ymin: -1685018 xmax: 3321632 ymax: 4591848\n",
      "Projected CRS: USA_Contiguous_Albers_Equal_Area_Conic\n"
     ]
    }
   ],
   "source": [
    "states <- st_read(\"ipums_nhgis_states.shp\")"
   ]
  },
  {
   "cell_type": "code",
   "execution_count": 12,
   "id": "1a290eb4-d303-4a5d-a8d2-76a5d646b314",
   "metadata": {},
   "outputs": [
    {
     "name": "stdout",
     "output_type": "stream",
     "text": [
      "Reading layer `usa_airports' from data source \n",
      "  `C:\\Users\\vavra\\Dropbox\\R Spatial\\r-spatial holding pen\\usa_airports.shp' \n",
      "  using driver `ESRI Shapefile'\n",
      "Simple feature collection with 131 features and 205 fields\n",
      "Geometry type: POINT\n",
      "Dimension:     XY\n",
      "Bounding box:  xmin: -161.839 ymin: 19.7148 xmax: -71.01641 ymax: 71.2893\n",
      "Geodetic CRS:  WGS 84\n"
     ]
    }
   ],
   "source": [
    "airports <- st_read(\"ipums_nhgis_places.shp\")"
   ]
  },
  {
   "cell_type": "code",
   "execution_count": 7,
   "id": "3ccd815f-9305-4626-bd54-97260343b681",
   "metadata": {},
   "outputs": [
    {
     "name": "stdout",
     "output_type": "stream",
     "text": [
      "Reading layer `ne_50m_populated_places' from data source \n",
      "  `C:\\Users\\vavra\\AppData\\Local\\Temp\\Rtmpmwduik\\ne_50m_populated_places.shp' \n",
      "  using driver `ESRI Shapefile'\n",
      "Simple feature collection with 1251 features and 137 fields\n",
      "Geometry type: POINT\n",
      "Dimension:     XY\n",
      "Bounding box:  xmin: -175.2206 ymin: -90 xmax: 179.2166 ymax: 78.22097\n",
      "Geodetic CRS:  WGS 84\n"
     ]
    }
   ],
   "source": [
    "# country boundary polygons\n",
    "#countries <- ne_countries(scale = \"medium\", returnclass = \"sf\")\n",
    "\n",
    "# populated places point locations\n",
    "#cities <- ne_download(scale = \"medium\", type = \"populated_places\", category = \"cultural\", returnclass = \"sf\")"
   ]
  },
  {
   "cell_type": "markdown",
   "id": "77fa6150-61d0-4d8b-b8c0-025fe45bb4fa",
   "metadata": {},
   "source": [
    "## 3. Data Preparation\n",
    "\n",
    "Before mapping, it’s essential to inspect the data structure and ensure that all spatial layers are in the same Coordinate Reference System (CRS). This step is crucial because different layers need to be aligned spatially to appear correctly on the map.\n",
    "\n",
    "The *st_crs()* function allows us to check and set the CRS of spatial data in sf. If any layers use different CRSs, we can transform them using the *st_transform()* function, ensuring compatibility and accurate mapping."
   ]
  },
  {
   "cell_type": "code",
   "execution_count": 14,
   "id": "45bf6162-b3db-476f-99fd-a18aa6ebdfa4",
   "metadata": {},
   "outputs": [
    {
     "data": {
      "text/plain": [
       "Coordinate Reference System:\n",
       "  User input: USA_Contiguous_Albers_Equal_Area_Conic \n",
       "  wkt:\n",
       "PROJCRS[\"USA_Contiguous_Albers_Equal_Area_Conic\",\n",
       "    BASEGEOGCRS[\"NAD83\",\n",
       "        DATUM[\"North American Datum 1983\",\n",
       "            ELLIPSOID[\"GRS 1980\",6378137,298.257222101,\n",
       "                LENGTHUNIT[\"metre\",1]]],\n",
       "        PRIMEM[\"Greenwich\",0,\n",
       "            ANGLEUNIT[\"degree\",0.0174532925199433]],\n",
       "        ID[\"EPSG\",4269]],\n",
       "    CONVERSION[\"USA_Contiguous_Albers_Equal_Area_Conic\",\n",
       "        METHOD[\"Albers Equal Area\",\n",
       "            ID[\"EPSG\",9822]],\n",
       "        PARAMETER[\"Latitude of false origin\",37.5,\n",
       "            ANGLEUNIT[\"degree\",0.0174532925199433],\n",
       "            ID[\"EPSG\",8821]],\n",
       "        PARAMETER[\"Longitude of false origin\",-96,\n",
       "            ANGLEUNIT[\"degree\",0.0174532925199433],\n",
       "            ID[\"EPSG\",8822]],\n",
       "        PARAMETER[\"Latitude of 1st standard parallel\",29.5,\n",
       "            ANGLEUNIT[\"degree\",0.0174532925199433],\n",
       "            ID[\"EPSG\",8823]],\n",
       "        PARAMETER[\"Latitude of 2nd standard parallel\",45.5,\n",
       "            ANGLEUNIT[\"degree\",0.0174532925199433],\n",
       "            ID[\"EPSG\",8824]],\n",
       "        PARAMETER[\"Easting at false origin\",0,\n",
       "            LENGTHUNIT[\"metre\",1],\n",
       "            ID[\"EPSG\",8826]],\n",
       "        PARAMETER[\"Northing at false origin\",0,\n",
       "            LENGTHUNIT[\"metre\",1],\n",
       "            ID[\"EPSG\",8827]]],\n",
       "    CS[Cartesian,2],\n",
       "        AXIS[\"(E)\",east,\n",
       "            ORDER[1],\n",
       "            LENGTHUNIT[\"metre\",1]],\n",
       "        AXIS[\"(N)\",north,\n",
       "            ORDER[2],\n",
       "            LENGTHUNIT[\"metre\",1]],\n",
       "    USAGE[\n",
       "        SCOPE[\"Not known.\"],\n",
       "        AREA[\"United States (USA) - CONUS onshore - Alabama; Arizona; Arkansas; California; Colorado; Connecticut; Delaware; Florida; Georgia; Idaho; Illinois; Indiana; Iowa; Kansas; Kentucky; Louisiana; Maine; Maryland; Massachusetts; Michigan; Minnesota; Mississippi; Missouri; Montana; Nebraska; Nevada; New Hampshire; New Jersey; New Mexico; New York; North Carolina; North Dakota; Ohio; Oklahoma; Oregon; Pennsylvania; Rhode Island; South Carolina; South Dakota; Tennessee; Texas; Utah; Vermont; Virginia; Washington; West Virginia; Wisconsin; Wyoming.\"],\n",
       "        BBOX[24.41,-124.79,49.38,-66.91]],\n",
       "    ID[\"ESRI\",102003]]"
      ]
     },
     "metadata": {},
     "output_type": "display_data"
    }
   ],
   "source": [
    "st_crs(states)"
   ]
  },
  {
   "cell_type": "code",
   "execution_count": 15,
   "id": "2186031e-530b-4a82-a15b-c88e0a35d0dd",
   "metadata": {},
   "outputs": [
    {
     "data": {
      "text/plain": [
       "Coordinate Reference System:\n",
       "  User input: WGS 84 \n",
       "  wkt:\n",
       "GEOGCRS[\"WGS 84\",\n",
       "    DATUM[\"World Geodetic System 1984\",\n",
       "        ELLIPSOID[\"WGS 84\",6378137,298.257223563,\n",
       "            LENGTHUNIT[\"metre\",1]]],\n",
       "    PRIMEM[\"Greenwich\",0,\n",
       "        ANGLEUNIT[\"degree\",0.0174532925199433]],\n",
       "    CS[ellipsoidal,2],\n",
       "        AXIS[\"latitude\",north,\n",
       "            ORDER[1],\n",
       "            ANGLEUNIT[\"degree\",0.0174532925199433]],\n",
       "        AXIS[\"longitude\",east,\n",
       "            ORDER[2],\n",
       "            ANGLEUNIT[\"degree\",0.0174532925199433]],\n",
       "    ID[\"EPSG\",4326]]"
      ]
     },
     "metadata": {},
     "output_type": "display_data"
    }
   ],
   "source": [
    "st_crs(airports)"
   ]
  },
  {
   "cell_type": "markdown",
   "id": "0e0c765d-82f1-424c-ab7e-4afdf9f93ba7",
   "metadata": {},
   "source": [
    "From this comparison, we can see that the **states** shapefile we downloaded from the IPUMS NHGIS repository is in [**NAD83 (EPSG 4269)**](https://epsg.io/4269) while the **airports** shapefile we downloaded from Natural Earth is in [**WGS84 (EPSG 4326)**](https://epsg.io/4326).  Before we can map these two files in the same map, we will need to transform them to the same CRS.  Since we are working wihin the United States, and the **NAD83** CRS is specifially for working in North America (while the **WGS84** CRS is a global CRS), let's continue our project in **NAD83**.  Therefore, let's transform the **airports** shapefile using the **states** CRS."
   ]
  },
  {
   "cell_type": "code",
   "execution_count": 16,
   "id": "9df3bdf8-dccc-4fac-9bde-1869a2f91d65",
   "metadata": {},
   "outputs": [],
   "source": [
    "airports <- st_transform(airports, crs = st_crs(states))"
   ]
  },
  {
   "cell_type": "markdown",
   "id": "120357b6-edbe-4d7b-a830-5f60889c9603",
   "metadata": {},
   "source": [
    "## 4. Basic Mapping of Points and Polygons with ggplot2\n",
    "\n",
    "Now we’re ready to map our data using the *geom_sf()* function from *ggplot2*, which handles spatial objects like sf polygons and points. Here, we’ll:\n",
    "\n",
    "* Plot the country boundaries as filled polygons in a light gray color.\n",
    "* Overlay the city points on top, using a distinct color to differentiate them from the polygon layer.\n",
    "\n",
    "This map gives a straightforward view of the spatial distribution of countries and cities globally, and serves as a base for further styling."
   ]
  },
  {
   "cell_type": "code",
   "execution_count": 18,
   "id": "f64bb17a-d806-4bec-b03c-da24eeb33569",
   "metadata": {},
   "outputs": [
    {
     "data": {
      "image/png": "[encoded data removed]",
      "text/plain": [
       "plot without title"
      ]
     },
     "metadata": {
      "image/png": {
       "height": 420,
       "width": 420
      }
     },
     "output_type": "display_data"
    }
   ],
   "source": [
    "ggplot() +\n",
    "  geom_sf(data = states, fill = \"lightgray\", color = \"black\") +        # state polygons\n",
    "  geom_sf(data = airports, color = \"red\", size = 1, alpha = 0.7) +     # airport point locations\n",
    "  labs(title = \"Map of State Boundaries and Airport Point Locations\",\n",
    "       x = \"Longitude\", y = \"Latitude\") +\n",
    "  theme_minimal()"
   ]
  },
  {
   "cell_type": "markdown",
   "id": "1307da6a-ac3e-4957-81eb-a7386ab7b4a0",
   "metadata": {},
   "source": [
    "## 5. Styling and Customization\n",
    "\n",
    "To enhance our map’s readability and aesthetic, we’ll add some additional styling elements:\n",
    "\n",
    "* Fill colors: Set the polygon fill color to lightblue and outline color to gray40.\n",
    "Legend: Use scale_color_manual() to specify a color for the cities and adjust the legend to reflect the \"City\" label.\n",
    "* Labels: Customize the map title, axis labels, and legend position.\n",
    "\n",
    "This customization allows us to create a more visually appealing and informative map, making it easy to distinguish between the countries and cities while providing helpful labels."
   ]
  },
  {
   "cell_type": "code",
   "execution_count": 23,
   "id": "9c6b93fb-c8c3-4e01-aff2-104f3a9f426d",
   "metadata": {},
   "outputs": [
    {
     "data": {
      "image/png": "[encoded data removed]",
      "text/plain": [
       "plot without title"
      ]
     },
     "metadata": {
      "image/png": {
       "height": 420,
       "width": 420
      }
     },
     "output_type": "display_data"
    }
   ],
   "source": [
    "ggplot() +\n",
    "  geom_sf(data = states, fill = \"lightblue\", color = \"gray40\") +\n",
    "  geom_sf(data = airports, aes(color = \"Airport\"), size = 1.2, alpha = 0.7) +\n",
    "  scale_color_manual(values = c(\"Airport\" = \"darkred\")) +\n",
    "  labs(title = \"Map of State Boundaries and Airport Point Locations\",\n",
    "       color = \"Legend\",\n",
    "       x = \"Longitude\", y = \"Latitude\") +\n",
    "  theme_minimal() +\n",
    "  theme(legend.position = \"bottom\")"
   ]
  }
 ],
 "metadata": {
  "kernelspec": {
   "display_name": "R",
   "language": "R",
   "name": "ir"
  },
  "language_info": {
   "codemirror_mode": "r",
   "file_extension": ".r",
   "mimetype": "text/x-r-source",
   "name": "R",
   "pygments_lexer": "r",
   "version": "4.3.3"
  }
 },
 "nbformat": 4,
 "nbformat_minor": 5
}
