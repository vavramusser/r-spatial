{
 "cells": [
  {
   "cell_type": "markdown",
   "id": "616c7d11-8ef6-454e-9d34-d85cbd7a48bf",
   "metadata": {},
   "source": [
    "# Mapping Point and Polygon Data"
   ]
  },
  {
   "cell_type": "markdown",
   "id": "d6196c63-947e-4fa1-bdb7-4d0c66837964",
   "metadata": {},
   "source": [
    "## Introduction\n",
    "\n",
    "In this notebook, we’ll explore the basics of mapping point and polygon data using R. We’ll demonstrate how to access open-source spatial datasets from [*rnaturalearth*](https://cran.r-project.org/web/packages/rnaturalearth/index.html), an excellent source freely available of global administrative boundaries, cities, rivers, and other geographic features.\n",
    "\n",
    "We’ll use sf for spatial data handling and ggplot2 for visualization, covering basic mapping techniques and styling options. This notebook provides a foundation for working with spatial data, allowing users to create informative maps with both point and polygon layers.\n",
    "\n",
    "### ★ Prerequisites ★\n",
    "* Complete Chapter 1.2: Introduciton to Natural Earth\n",
    "\n",
    "### Open-Source Geographic Data from Natural Earth\n",
    "\n",
    "Natural Earth provides an array of data types that can be customized by scale and region, making it a valuable resource for global and thematic mapping. Here, we used ne_countries() for national boundaries and ne_download(type = \"populated_places\") for city points, both at medium scale. Experimenting with different scales (e.g., large, small) allows users to balance detail and performance in different mapping contexts."
   ]
  },
  {
   "cell_type": "markdown",
   "id": "3823bbd2-e981-43f9-818f-21797cd32f3c",
   "metadata": {},
   "source": [
    "## 1. Setup\n",
    "This section will guide you through the process of installing essential packages.\n",
    "\n",
    "##### Required Packages\n",
    "\n",
    "[**ggplot2**](https://cran.r-project.org/web/packages/ggplot2/index.html) · Create Elegant Data Visualisations Using the Grammar of Graphics.  A system for 'declaratively' creating graphics, based on \"The Grammar of Graphics\". You provide the data, tell 'ggplot2' how to map variables to aesthetics, what graphical primitives to use, and it takes care of the details.  This notebook uses the following functions from *ggplot2*.\n",
    "\n",
    "* *CoordSf* · Visualize sf objects\n",
    "  * *geom_sf* · geometric objects (points, lines, or polygons)\n",
    "* [*ggplot*](https://rdrr.io/cran/ggplot2/man/ggplot.html) · Create a new ggplot\n",
    "* [*ggtheme*](https://rdrr.io/cran/ggplot2/man/ggtheme.html) · Complete themes\n",
    "  * *theme_minimal* · Minimal theme\n",
    "* [*labs*](https://rdrr.io/cran/ggplot2/man/labs.html) · Modify axis, legend, and plot labels\n",
    "* [*theme*](https://rdrr.io/cran/ggplot2/man/theme.html) · Modify components of a theme\n",
    "\n",
    "[**rnaturalearth**](https://cran.r-project.org/web/packages/rnaturalearth/index.html) · World Map Data from [Natural Earth](https://www.naturalearthdata.com).  Facilitates mapping by making natural earth map data from more easily available to R users.  This notebook uses the folloing functions from *rnationalearth*.\n",
    "\n",
    "* [*ne_countries*](https://rdrr.io/cran/rnaturalearth/man/ne_countries.html) · Get natural earth world country polygons\n",
    "* [*ne_download*](https://rdrr.io/cran/rnaturalearth/man/ne_download.html) · Download data from Natural Earth and (optionally) read into R\n",
    "\n",
    "[**rnaturalearthdata**](https://cran.r-project.org/web/packages/rnaturalearthdata/index.html) · World Vector Map Data from [Natural Earth](https://www.naturalearthdata.com) Used in [rnaturalearth](https://cran.r-project.org/web/packages/rnaturalearth/index.html). Access functions are provided in the accompanying package '[rnaturalearth](https://cran.r-project.org/web/packages/rnaturalearth/index.html).\n",
    "\n",
    "[**sf**](https://cran.r-project.org/web/packages/sf/index.html) · Support for simple features, a standardized way to encode spatial vector data. Binds to 'GDAL' for reading and writing data, to 'GEOS' for geometrical operations, and to 'PROJ' for projection conversions and datum transformations. Uses by default the 's2' package for spherical geometry operations on ellipsoidal (long/lat) coordinates.  This notebook uses the following functions from *sf*.\n",
    "\n",
    "* [*st_crs*](https://rdrr.io/cran/sf/man/st_crs.html) · Retrieve coordinate reference system from object\n",
    "* [*st_transform*](https://rdrr.io/cran/sf/man/st_transform.html) · Transform or convert coordinates of simple feature"
   ]
  },
  {
   "cell_type": "markdown",
   "id": "3950c244-883b-452e-895c-fb46030e9075",
   "metadata": {},
   "source": [
    "### 1a. Install and Load Required Packages\n",
    "If you have not already installed the required packages, uncomment and run the code below:"
   ]
  },
  {
   "cell_type": "code",
   "execution_count": null,
   "id": "2016b322-9598-428b-9b9d-b45854e3c600",
   "metadata": {},
   "outputs": [],
   "source": [
    "# install.packages(c(\"ggplot2\", \"rnaturalearth\", \"rnaturalearthdata\", \"sf\"))"
   ]
  },
  {
   "cell_type": "markdown",
   "id": "eb28dea9-91cc-4736-b9a4-bad82e5cc075",
   "metadata": {},
   "source": [
    "Load the packages into your workspace."
   ]
  },
  {
   "cell_type": "code",
   "execution_count": null,
   "id": "b6c69974-fc11-47aa-bf30-ff636e6672b6",
   "metadata": {},
   "outputs": [],
   "source": [
    "library(ggplot2)\n",
    "library(rnaturalearth)\n",
    "library(rnaturalearthdata)\n",
    "library(sf)"
   ]
  },
  {
   "cell_type": "markdown",
   "id": "a0dade34-dfae-46af-8b8c-d880d84b90cc",
   "metadata": {},
   "source": [
    "## 2. Data Acquisition with rnaturalearth\n",
    "\n",
    "For this notebook, we’ll use the [*rnaturalearth*](https://cran.r-project.org/web/packages/rnaturalearth/index.html) and [*rnaturalearthdata*](https://cran.r-project.org/web/packages/rnaturalearthdata/index.html) packages to access and load datasets from [*Natural Earth*](https://www.naturalearthdata.com). These packages provide direct access to Natural Earth’s geographic data without requiring an API key, making it simple to bring boundaries and point data directly into R.\n",
    "\n",
    "We’ll import the following data files:\n",
    "\n",
    "* Countries (polygons): national boundaries of countries worldwide\n",
    "* Populated Places (points): locations of major cities and towns\n",
    "\n",
    "Each dataset will be returned as an sf object, allowing us to work easily with the files in R using the [*sf*](https://cran.r-project.org/web/packages/sf/index.html) package."
   ]
  },
  {
   "cell_type": "code",
   "execution_count": null,
   "id": "3ccd815f-9305-4626-bd54-97260343b681",
   "metadata": {},
   "outputs": [],
   "source": [
    "# country boundary polygons\n",
    "countries <- ne_countries(scale = \"medium\", returnclass = \"sf\")\n",
    "\n",
    "# populated places point locations\n",
    "cities <- ne_download(scale = \"medium\", type = \"populated_places\", category = \"cultural\", returnclass = \"sf\")"
   ]
  },
  {
   "cell_type": "markdown",
   "id": "77fa6150-61d0-4d8b-b8c0-025fe45bb4fa",
   "metadata": {},
   "source": [
    "## 3. Data Preparation\n",
    "\n",
    "Before mapping, it’s essential to inspect the data structure and ensure that all spatial layers are in the same Coordinate Reference System (CRS). This step is crucial because different layers need to be aligned spatially to appear correctly on the map.\n",
    "\n",
    "The *st_crs()* function allows us to check and set the CRS of spatial data in sf. If any layers use different CRSs, we can transform them using the *st_transform()* function, ensuring compatibility and accurate mapping."
   ]
  },
  {
   "cell_type": "code",
   "execution_count": null,
   "id": "9df3bdf8-dccc-4fac-9bde-1869a2f91d65",
   "metadata": {},
   "outputs": [],
   "source": [
    "countries <- st_transform(countries, crs = st_crs(cities))"
   ]
  },
  {
   "cell_type": "markdown",
   "id": "120357b6-edbe-4d7b-a830-5f60889c9603",
   "metadata": {},
   "source": [
    "## 4. Basic Mapping of Points and Polygons with ggplot2\n",
    "\n",
    "Now we’re ready to map our data using the *geom_sf()* function from *ggplot2*, which handles spatial objects like sf polygons and points. Here, we’ll:\n",
    "\n",
    "* Plot the country boundaries as filled polygons in a light gray color.\n",
    "* Overlay the city points on top, using a distinct color to differentiate them from the polygon layer.\n",
    "\n",
    "This map gives a straightforward view of the spatial distribution of countries and cities globally, and serves as a base for further styling."
   ]
  },
  {
   "cell_type": "code",
   "execution_count": null,
   "id": "f64bb17a-d806-4bec-b03c-da24eeb33569",
   "metadata": {},
   "outputs": [],
   "source": [
    "ggplot() +\n",
    "  geom_sf(data = countries, fill = \"lightgray\", color = \"black\") +  # Country polygons\n",
    "  geom_sf(data = cities, color = \"red\", size = 1, alpha = 0.7) +    # City points\n",
    "  labs(title = \"World Map with Country Boundaries and Major Cities\",\n",
    "       x = \"Longitude\", y = \"Latitude\") +\n",
    "  theme_minimal()"
   ]
  },
  {
   "cell_type": "markdown",
   "id": "1307da6a-ac3e-4957-81eb-a7386ab7b4a0",
   "metadata": {},
   "source": [
    "## 5. Styling and Customization\n",
    "\n",
    "To enhance our map’s readability and aesthetic, we’ll add some additional styling elements:\n",
    "\n",
    "* Fill colors: Set the polygon fill color to lightblue and outline color to gray40.\n",
    "Legend: Use scale_color_manual() to specify a color for the cities and adjust the legend to reflect the \"City\" label.\n",
    "* Labels: Customize the map title, axis labels, and legend position.\n",
    "\n",
    "This customization allows us to create a more visually appealing and informative map, making it easy to distinguish between the countries and cities while providing helpful labels."
   ]
  },
  {
   "cell_type": "code",
   "execution_count": null,
   "id": "9c6b93fb-c8c3-4e01-aff2-104f3a9f426d",
   "metadata": {},
   "outputs": [],
   "source": [
    "ggplot() +\n",
    "  geom_sf(data = countries, fill = \"lightblue\", color = \"gray40\") +\n",
    "  geom_sf(data = cities, aes(color = \"City\"), size = 1.2, alpha = 0.7) +\n",
    "  scale_color_manual(values = c(\"City\" = \"darkred\")) +\n",
    "  labs(title = \"Country Boundaries with Major Cities\",\n",
    "       color = \"Legend\",\n",
    "       x = \"Longitude\", y = \"Latitude\") +\n",
    "  theme_minimal() +\n",
    "  theme(legend.position = \"bottom\")"
   ]
  }
 ],
 "metadata": {
  "kernelspec": {
   "display_name": "R",
   "language": "R",
   "name": "ir"
  },
  "language_info": {
   "codemirror_mode": "r",
   "file_extension": ".r",
   "mimetype": "text/x-r-source",
   "name": "R",
   "pygments_lexer": "r",
   "version": "4.3.3"
  }
 },
 "nbformat": 4,
 "nbformat_minor": 5
}
