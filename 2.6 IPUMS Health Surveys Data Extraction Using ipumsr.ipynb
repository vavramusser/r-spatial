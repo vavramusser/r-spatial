{
 "cells": [
  {
   "cell_type": "markdown",
   "id": "5c578a64-4d4a-4721-958c-800506510b16",
   "metadata": {},
   "source": [
    "# IPUMS Health Surveys Data Extraction Using ipumsr"
   ]
  },
  {
   "cell_type": "markdown",
   "id": "dda02f5e-fa65-4398-b630-c51d09cea26d",
   "metadata": {},
   "source": [
    "## Introduction\n",
    "\n",
    "The [IPUMS Health Surveys](https://healthsurveys.ipums.org) database offers harmonized microdata from the [National Health Interview Survey (NHIS)](https://www.cdc.gov/nchs/nhis/index.html) and the [Medical Expenditure Panel Survey (MEPS)](https://meps.ahrq.gov/mepsweb), providing detailed information on population health, healthcare access, and medical expenditures. It enables researchers to analyze trends in health outcomes, insurance coverage, and healthcare utilization across time and demographic groups. Through harmonization, IPUMS Health Surveys ensures data can be seamlessly compared across survey years, addressing changes in survey design, variable definitions, and geographic classifications.\n",
    "\n",
    "**From the [IPUMS Health Surveys Website](https://healthsurveys.ipums.org):** IPUMS Health Surveys provide free individual-level survey data for research purposes from two leading sources of self-reported health and health care access information: the National Health Interview Survey (NHIS) and the Medical Expenditure Panel Survey (MEPS).\n",
    "\n",
    "The IPUMS Health Surveys database organized into the following two subsections, based on data source:\n",
    "\n",
    "* [National Health Interview Survey (NHIS)](https://nhis.ipums.org/nhis): The National Health Interview Survey (NHIS) provides harmonized annual microdata from the 1960s to the present.\n",
    "* [Medical Expenditure Panel Survey (MEPS)](https://meps.ipums.org/meps): The Medical Expenditure Panel Survey (MEPS) provides harmonized microdata from the longitudinal survey of U.S. health care expenditures and utilization, covering the period 1996 to the present.\n",
    "\n",
    "This notebook introduces the process of extracting [IPUMS Health Surveys](https://healthsurveys.ipums.org) data using the [IPUMS API](https://developer.ipums.org/docs/v2/apiprogram) via the [ipumsr R package](https://cran.r-project.org/web/packages/ipumsr/index.html). Users will learn how to define, submit, and download an IPUMS Health Surveys data extract, specifying desired variables, time periods, and geographic units for analysis. By the end of this notebook, users will have the skills to efficiently acquire customized IPUMS Health Surveys datasets and prepare them for spatial and statistical workflows.\n",
    "\n",
    "### ★ Prerequisites ★\n",
    "* Complete Chapter 1.1: Introduction to IPUMS and the IPUMS API\n",
    "* Set Up Your [IPUMS Account and API Key](https://account.ipums.org/api_keys)\n",
    "\n",
    "### Notebook Overview\n",
    "1. Setup\n",
    "2. IPUMS NHIS Metadata Exploration\n",
    "3. IPUMS NHIS Data Extraction Specification and Submission\n",
    "4. IPUMS MEPS Metadata Exploration\n",
    "5. IPUMS MEPS Data Extraction Specification and Submission"
   ]
  },
  {
   "cell_type": "markdown",
   "id": "500f6e8f-3e19-461c-a596-6ee38dcadb81",
   "metadata": {},
   "source": [
    "## 1. Setup\n",
    "This section will guide you through the process of installing essential packages and setting your IPUMS API key.\n",
    "\n",
    "##### Required Packages\n",
    "\n",
    "[**ipumsr**](https://cran.r-project.org/web/packages/ipumsr/index.html) A package for interacting with IPUMS datasets and the IPUMS API. It allows users to define and submit data extraction requests, download data, and read it directly into R for analysis.  This notebook uses the the following functions from *ipumsr*.\n",
    "\n",
    "* *set_ipums_api_key()* for setting your IPUMS API key\n",
    "* *get_sample_info()* for retrieving sample identification codes and descriptions for IPUMS microdata collections\n",
    "* *get_metadata_nhgis()* for listing available data sources from IPUMS NHGIS\n",
    "* *define_extract_micro()* for defining the parameters of an IPUMS microdata extract request to be submitted via the IPUMS API\n",
    "* *define_extract_nhgis()* for defining an IPUMS NHGIS extract request\n",
    "* *tst_spec()* for creating a tst_spec object containing a time-series table specification\n",
    "* *submit_exract()* for submitting an extract request via the IPUMS API and return an *ipums_extract* object\n",
    "* *wait_for_extract()* wait for an extract to finish processing\n",
    "* *download_extract()* download an extract's data files\n",
    "* *read_ipums_ddi()* for reading metadata about an IPUMS microdata extract from a DDI codebook (.xml) file\n",
    "* *read_ipums_micro()* for reading data from an IPUMS microdata extract\n",
    "* *read_nhgis()* for reading tabular data from an NHGIS extract\n",
    "* *read_ipums_sf()* for reading spatial data from an IPUMS extract"
   ]
  },
  {
   "cell_type": "markdown",
   "id": "bb9432cd-1d12-4290-bb5b-c624c9a388e2",
   "metadata": {},
   "source": [
    "### 1a. Install and Load Required Packages\n",
    "If you have not already installed the required packages, uncomment and run the code below:"
   ]
  },
  {
   "cell_type": "code",
   "execution_count": null,
   "id": "b216c3df-15f9-488f-9e56-ea384a848826",
   "metadata": {},
   "outputs": [],
   "source": [
    "# install.packages(\"ipumsr\")"
   ]
  },
  {
   "cell_type": "markdown",
   "id": "3cd9eb54-acd5-4baf-886c-cc5a35978451",
   "metadata": {},
   "source": [
    "Load the packages into your workspace."
   ]
  },
  {
   "cell_type": "code",
   "execution_count": null,
   "id": "a586fda9-d65e-48c4-9341-1f2b3db3e1a3",
   "metadata": {},
   "outputs": [],
   "source": [
    "library(ipumsr)"
   ]
  },
  {
   "cell_type": "markdown",
   "id": "06f9a97a-949e-4ba0-99c0-19608949dfcf",
   "metadata": {},
   "source": [
    "#### 1b. Set Your IPUMS API Key\n",
    "\n",
    "Store your [IPUMS API key](https://account.ipums.org/api_keys) in your environment using the following code.\n",
    "\n",
    "Refer to *Chapter 1.1: Introduction to IPUMS and the IPUMS API* for instructions on setting up your IPUMS account and API key."
   ]
  },
  {
   "cell_type": "code",
   "execution_count": null,
   "id": "8f275371-6941-45cf-9fe8-ab830a5a9740",
   "metadata": {},
   "outputs": [],
   "source": [
    "ipumps_api_key = readline(\"Please enter your IPUMS API key: \")\n",
    "set_ipums_api_key(ipumps_api_key, save = T, overwrite = T)"
   ]
  },
  {
   "cell_type": "markdown",
   "id": "f3db7904-ccea-4e43-84c9-7858f42f6086",
   "metadata": {},
   "source": [
    "nhis\n",
    "meps"
   ]
  },
  {
   "cell_type": "markdown",
   "id": "4caf5572-7b0d-4299-b589-a586485810e3",
   "metadata": {},
   "source": [
    "## National Health Interview Series (NHIS)\n",
    "\n",
    "From the [**IPUMS National Health Interview Series (NHIS) Webpage**](https://nhis.ipums.org/nhis): The National Health Interview Survey is a survey collecting information on the health, health care access, and health behaviors of the civilian, non-institutionalized U.S. population, with digital data files available from 1963 to present. IPUMS Health Surveys harmonizes these data and allows users to create custom NHIS data extracts for analysis.\n",
    "\n",
    "##### NHIS 2020\n",
    "\n",
    "**Variable Selection**\n",
    "* Regin of Residence (REGION)\n",
    "* Health Status (HEALTH)\n",
    "* Health Insurance Coverage Status (HINOTCOVE)\n",
    "* Ever Told Had Hypertension on 2+ Visits (HYP2TIME)\n",
    "* Ever Smoked 100 Cigarettes in Life (SMOKEV)\n",
    "* Frequency of Vigorous Activity 10+ Minutes: Times per Week (VIG10FWK)\n",
    "\n",
    "**IPUMS Preselected Variables**\n",
    "* Survey Year (YEAR)\n",
    "* Sequential Serial Number, Household Record (SERIAL)\n",
    "* Stratum for Variance Estimation (STRATA)\n",
    "* Primary Sampling Unit (PSU) for Variance Estimation (PSU)\n",
    "* NHIS Unique Identifier, Household (NHISHID)\n",
    "* Person Number within Family/Household (from reformatting) (PERNUM)\n",
    "* NHIS Unique Identifier, Person (NHISPID)\n",
    "* Household Number (from NHIS)\n",
    "* Sample Person Weight (SAMPWEIGHT)\n",
    "* Sample Adult Weight, Longitudinal Sample (LONGWEIGHT)\n",
    "* Sample Adult Weight, Partial Sample (PARTWEIGHT)\n",
    "* Sample Adult Flag (ASTATFLG)\n",
    "* Sample Child Flag (CSTATFLG)"
   ]
  },
  {
   "cell_type": "markdown",
   "id": "ef38f87d-9d49-4e87-bc61-789abaf70b8b",
   "metadata": {},
   "source": [
    "## Medical Expenditures Panel Survey (MEPS)\n",
    "\n",
    "From the [**IPUMS Medical Expenditures Panel Survey (MEPS) Webpage**](https://nhis.ipums.org/nhis): MEPS provides nationally representative, longitudinal data from 1996 to the present on health status, medical conditions, healthcare utilization, and healthcare expenditures for the U.S. civilian, non-institutionalized population. IPUMS MEPS harmonizes these data and allows users to create customized data extracts for analysis.\n",
    "\n",
    "##### MEPS 2020\n",
    "\n",
    "**Variable Selection**\n",
    "* Health Status (HEALTH)\n",
    "* Health Insuraance Coverage Type (Hierarchy) (COVERTYPE)\n",
    "* Annual Total of Direct Health Care Payments (EXPTOT)\n",
    "* Annual Total Number of Visits Made to Office-Based Medical Providers (OBTOTVIS)\n",
    "* Respondent Has Been Told They Have Diabetes (DCSDIABDX)\n",
    "\n",
    "**IPUMS Preselected Variables**\n",
    "* Record Type (RECTYPE)\n",
    "* Survey Year (YEAR)\n",
    "* Sequential Serial Number, Person Record (SERIAL)\n",
    "* Person Number within Family/Household (from reformatting) (PERNUM)\n",
    "* Dwelling Unit ID (DUID)\n",
    "* Person Number (PID)\n",
    "* MEPS Unique Identifier (IPUMS Generated)\n",
    "* Panel (PANEL)\n",
    "* Annual Primary Sampling Unit (PSU) for Variance Estimation (PSUANN)\n",
    "* Annual Stratum for Variance Estimation (STRATANN)\n",
    "* Pooled Primary Sampling Unit (PSU) for Variance Estimation (PSUPLD)\n",
    "* Pooled Variance Stratum (STRATAPLD)\n",
    "* Year Entered MEPS (PANELYR)\n",
    "* Relative Year 1 or 2 in Panel (RELYR)\n",
    "* Final Basic Annual Weight (PERWEIGHT)\n",
    "* Self-Administered Questionnaire Weight (SAQWEIGHT)\n",
    "* Diabetes Care Weight (DIABWEIGHT)"
   ]
  },
  {
   "cell_type": "markdown",
   "id": "4b21aeef-dac8-4138-a515-9e0626c3b27b",
   "metadata": {},
   "source": [
    "## Recommended Next Steps\n",
    "* **Continue with Chapter 2: IPUMS Data Acquisition and Extraction**\n",
    "  * 2.1: IPUMS USA Data Extraction Using ipumsr\n",
    "  * 2.2: IPUMS CPS Data Extraction Using ipumsr\n",
    "  * 2.3: IPUMS International Microdata Extraction Using ipumsr\n",
    "  * 2.4: IPUMS NHGIS Data Extraction Using ipumsr\n",
    "  * 2.5: IPUMS Time Use Data Extraction Using ipumsr\n",
    "  * 2.7: Reading IPUMS Global Health Data Extracts Using ipumsr\n",
    "  * 2.8: Reading IPUMS Higher Education Data Extracts Using ipumsr"
   ]
  }
 ],
 "metadata": {
  "kernelspec": {
   "display_name": "R",
   "language": "R",
   "name": "ir"
  },
  "language_info": {
   "codemirror_mode": "r",
   "file_extension": ".r",
   "mimetype": "text/x-r-source",
   "name": "R",
   "pygments_lexer": "r",
   "version": "4.3.3"
  }
 },
 "nbformat": 4,
 "nbformat_minor": 5
}
