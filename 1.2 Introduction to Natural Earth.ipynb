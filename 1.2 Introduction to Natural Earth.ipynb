{
 "cells": [
  {
   "cell_type": "markdown",
   "id": "f061c98f-3231-48dc-becc-863a13ee06f2",
   "metadata": {},
   "source": [
    "# Introduction to Natural Earth"
   ]
  },
  {
   "attachments": {},
   "cell_type": "markdown",
   "id": "b6924bbe-189e-4462-b3a1-d0ce6fe2249b",
   "metadata": {},
   "source": [
    "Developed by a team of cartographers, [**Natural Earth**](https://www.naturalearthdata.com) is designed to meet the needs of mapmakers and GIS users by offering data that is both visually appealing and easy to work with.  Natural Earth data is available under public domain, making it accessible for any project.  The service provides harmonized global datasets, minimizing inconsistencies across borders and is designed to look good on maps, with simplified geometries that make it efficient for rendering.\n",
    "\n",
    "## Available Data\n",
    "\n",
    "Natural Earth data is available at three different scales:\n",
    "\n",
    "* 1:10 million (detailed enough for regional maps),\n",
    "* 1:50 million (suitable for continental maps),\n",
    "* 1:110 million (ideal for global maps).\n",
    "\n",
    "And categorized into three main themes:\n",
    "\n",
    "* Cultural: Includes political boundaries (countries, states, provinces), populated places, and administrative boundaries\n",
    "* Physical: Includes natural features such as rivers, lakes, glaciers, and land cover\n",
    "* Raster: Includes global relief, ocean depth, and bathymetry data"
   ]
  },
  {
   "cell_type": "markdown",
   "id": "02ea4e94-b918-474e-8877-feebe92d9c45",
   "metadata": {},
   "source": [
    "## The rnaturalearth and naturalearthdata R Packages\n",
    "\n",
    "The [naturalearth](https://cran.r-project.org/web/packages/rnaturalearth/index.html) and [naturalearthdata](https://cran.r-project.org/web/packages/rnaturalearthdata/index.html) packages support the programmatic extraction of Natural Earth data into an R environment.  Extracting data from Natural Earth using the R packages does not require a registration nor an API key."
   ]
  },
  {
   "cell_type": "markdown",
   "id": "efca919b-bc19-4d83-8556-ce7a141e9010",
   "metadata": {},
   "source": [
    "## Recommended Next Steps\n",
    "\n",
    "* Mapping Point and Polygon Data"
   ]
  }
 ],
 "metadata": {
  "kernelspec": {
   "display_name": "R",
   "language": "R",
   "name": "ir"
  },
  "language_info": {
   "codemirror_mode": "r",
   "file_extension": ".r",
   "mimetype": "text/x-r-source",
   "name": "R",
   "pygments_lexer": "r",
   "version": "4.3.3"
  }
 },
 "nbformat": 4,
 "nbformat_minor": 5
}
