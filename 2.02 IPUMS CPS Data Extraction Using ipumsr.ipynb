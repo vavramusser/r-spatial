{
 "cells": [
  {
   "cell_type": "markdown",
   "id": "5416a642-8884-4543-acf3-81c553cff811",
   "metadata": {},
   "source": [
    "# IPUMS Current Population Survey (CPS) Data Extraction Using ipumsr\n",
    "### by [Kate Vavra-Musser](https://vavramusser.github.io) for the [R Spatial Notebook Series](https://vavramusser.github.io/r-spatial)"
   ]
  },
  {
   "cell_type": "markdown",
   "id": "dda02f5e-fa65-4398-b630-c51d09cea26d",
   "metadata": {},
   "source": [
    "## Introduction\n",
    "The [IPUMS CPS](https://cps.ipums.org/cps) database offers harmonized microdata from the [Current Population Survey (CPS)](https://www.census.gov/programs-surveys/cps.html), a key source of information on labor force participation, employment, income, and related demographic characteristics in the United States. It provides detailed, individual-level records that enable the analysis of trends in the labor market and socioeconomic conditions over time. Through harmonization, IPUMS CPS allows data to be seamlessly compared across survey years, despite changes in questionnaire design, geographic classifications, and variable definitions.\n",
    "\n",
    "**From the [IPUMS CPS Website](https://cps.ipums.org/cps):** IPUMS CPS harmonizes microdata from the monthly U.S. labor force survey, the Current Population Survey (CPS), covering the period 1962 to the present. Data include demographic information, rich employment data, program participation and supplemental data on topics such as fertility, tobacco use, volunteer activities, voter registration, computer and internet use, food security, and more.\n",
    "\n",
    "#### Data Included in the IPUMS CPS Repository\n",
    "* Monthly [Current Population Survey (CPS)](https://www.census.gov/programs-surveys/cps.html) data from 1976 to present\n",
    "* Annual [Social and Economic Supplement (ASEC)](https://www.census.gov/programs-surveys/saipe/guidance/model-input-data/cpsasec.html) data from 1962 to present\n",
    "\n",
    "### About the CPS and ASEC\n",
    "The [**Current Population Survey (CPS)**](https://www.census.gov/programs-surveys/cps.html) and [**Annual Social and Economic Supplement (ASEC)**](https://www.census.gov/programs-surveys/saipe/guidance/model-input-data/cpsasec.html) are vital surveys conducted by the U.S. [Census Bureau](https://www.census.gov) and the [Bureau of Labor Statistics](https://www.bls.gov). The CPS is a monthly survey that collects labor force data, including employment, unemployment, and workforce participation, as well as demographic information. It serves as the primary source of data for calculating the U.S. unemployment rate and analyzing labor market trends.\n",
    "\n",
    "The ASEC is a supplement to the CPS, conducted annually in March. It expands on the core CPS topics by collecting detailed information on income, poverty, health insurance coverage, program participation, and household composition. The ASEC is a key source for evaluating the social and economic well-being of the U.S. population and is widely used for policymaking, academic research, and public understanding of economic conditions. Together, these surveys provide comprehensive insights into the labor market and socioeconomic conditions across the United States.\n",
    "\n",
    "### Notebook Goals\n",
    "This notebook introduces the process of extracting [IPUMS CPS](https://cps.ipums.org/cps) data using the [IPUMS API](https://developer.ipums.org/docs/v2/apiprogram) via the [ipumsr R package](https://cran.r-project.org/web/packages/ipumsr/index.html). Users will learn how to define, submit, and download an IPUMS CPS data extract, specifying desired variables, time periods, and geographic units for analysis. By the end of this notebook, users will have the skills to efficiently acquire customized IPUMS CPS datasets and prepare them for spatial and statistical workflows.\n",
    "\n",
    "### ★ Prerequisites ★\n",
    "* Complete [Section 1.1 Introduction to IPUMS and the IPUMS API](https://platform.i-guide.io/notebooks/82d3b176-e4e6-4307-8186-318a3fe6c81a)\n",
    "* Set Up Your [IPUMS Account and API Key](https://account.ipums.org/api_keys)\n",
    "\n",
    "### Notebook Overview\n",
    "1. Setup\n",
    "2. IPUMS CPS Metadata Exploration\n",
    "3. IPUMS CPS Data Extraction Specification and Submission"
   ]
  },
  {
   "cell_type": "markdown",
   "id": "a61334a9-13a7-4e2b-827c-c41ce3086d93",
   "metadata": {},
   "source": [
    "## 1. Setup\n",
    "This section will guide you through the process of installing essential packages and setting your IPUMS API key.\n",
    "\n",
    "#### Required Packages\n",
    "\n",
    "[**dplyr**](https://cran.r-project.org/web/packages/dplyr/index.html) A Grammar of Data Manipulation. This notebook uses the the following function from *dplyr*.\n",
    "\n",
    "* [*filter*](https://rdrr.io/cran/dplyr/man/filter.html) · keep rows that match a condition\n",
    "* This notebook also uses [*%>%*](https://magrittr.tidyverse.org/reference/pipe.html), referred to as the *pipe* operator.  The *pip* operator is used to pass the output from one function directly into the next function for the purpose of creating streamlined workflows and is a commonly used component of the [*tidyverse*](https://www.tidyverse.org).\n",
    "\n",
    "[**ipumsr**](https://cran.r-project.org/web/packages/ipumsr/index.html) An R Interface for Downloading, Reading, and Handling IPUMS Data.  This notebook uses the the following functions from *ipumsr*.\n",
    "\n",
    "* [*define_extract_micro*](https://rdrr.io/github/mnpopcenter/ripums/man/define_extract_micro.html) · define an extract request for an IPUMS microdata collection\n",
    "* [*download_extract*](https://rdrr.io/cran/ipumsr/man/download_extract.html) · download a completed IPUMS data extract\n",
    "* [*get_sample_info*](https://rdrr.io/cran/ipumsr/man/get_sample_info.html) · list available samples for IPUMS microdata collections\n",
    "* [*read_ipums_ddi*](https://rdrr.io/cran/ipumsr/man/read_ipums_ddi.html) · read metadata about an IPUMS microdata extract from a DDI codebook (.xml) file\n",
    "* [*read_ipums_micro*](https://rdrr.io/cran/ipumsr/man/read_ipums_micro.html) · read data from an IPUMS microdata extract\n",
    "* [*set_ipums_api_key*](https://rdrr.io/cran/ipumsr/man/set_ipums_api_key.html) · set your IPUMS API key\n",
    "* [*submit_extract*](https://rdrr.io/cran/ipumsr/man/submit_extract.html) · submit an extract request via the IPUMS API\n",
    "* [*wait_for_extract*](https://rdrr.io/cran/ipumsr/man/wait_for_extract.html) · wait for an extract to finish processing\n",
    "\n",
    "[**stringr**](https://cran.r-project.org/web/packages/stringr/index.html) Simple, Consistent Wrappers for Common String Operations.  This notebook uses the following function from *stringr*.\n",
    "\n",
    "* [*str_detect*](https://stringr.tidyverse.org/reference/str_detect.html) · detect the presence or absence of a match"
   ]
  },
  {
   "cell_type": "markdown",
   "id": "277496e2-30ab-4e2d-9289-75ac7ed1e242",
   "metadata": {},
   "source": [
    "### 1a. Install and Load Required Packages\n",
    "If you have not already installed the required packages, uncomment and run the code below:"
   ]
  },
  {
   "cell_type": "code",
   "execution_count": null,
   "id": "f1024956-e83c-4da1-87cc-d71d7f6bd7fe",
   "metadata": {},
   "outputs": [],
   "source": [
    "# install.packages(c(\"dplyr\", \"ipumsr\", \"stringr\"))"
   ]
  },
  {
   "cell_type": "markdown",
   "id": "37614887-fb05-48db-844e-43bbca59bf16",
   "metadata": {},
   "source": [
    "Load the packages into your workspace."
   ]
  },
  {
   "cell_type": "code",
   "execution_count": null,
   "id": "a3dd418e-ffe9-4a43-8f79-ac1784422dcb",
   "metadata": {},
   "outputs": [],
   "source": [
    "library(dplyr)\n",
    "library(ipumsr)\n",
    "library(stringr)"
   ]
  },
  {
   "cell_type": "markdown",
   "id": "44c9276d-635e-4cf0-ac45-7076dcb2b187",
   "metadata": {},
   "source": [
    "### 1b. Set Your IPUMS API Key\n",
    "\n",
    "Store your [IPUMS API key](https://account.ipums.org/api_keys) in your environment using the following code.\n",
    "\n",
    "Refer to [Chapter 1.1 Introduction to IPUMS and the IPUMS API](https://platform.i-guide.io/notebooks/82d3b176-e4e6-4307-8186-318a3fe6c81a) for instructions on setting up your IPUMS account and API key."
   ]
  },
  {
   "cell_type": "code",
   "execution_count": null,
   "id": "58871518-c306-462d-b442-f3ffa5e27f28",
   "metadata": {},
   "outputs": [],
   "source": [
    "ipumps_api_key = readline(\"Please enter your IPUMS API key: \")\n",
    "set_ipums_api_key(ipumps_api_key, save = T, overwrite = T)"
   ]
  },
  {
   "cell_type": "markdown",
   "id": "f00d6494-5520-4d27-bd62-4eeae22e78e1",
   "metadata": {},
   "source": [
    "## 2. IPUMS CPS Metadata Exploration\n",
    "\n",
    "Before submitting an IPUMS data extraction request, it’s essential to ensure the parameters of the extraction definition are set up correctly.  The extraction definition specifies the sample, variables, and other options.\n",
    "\n",
    "If this is your first time using the IPUMS API in R, or if you are setting up a new data extract for a new project, it is a good idea to start by exploring the available data which can be done using the *ipumsr* package.\n",
    "\n",
    "### 2a. Review the List of Samples\n",
    "\n",
    "First, let's take a look at the entire list of datasets available from the [IPUMS Current Population Survey (CPS) data repository](https://cps.ipums.org/cps).  The CPS data available for direct extraction using the IPUMS API include the monthly [Current Population Survey (CPS)](https://www.census.gov/programs-surveys/cps.html) from 1976 to present and the annual [CPS Annual Social and Economic Supplement (ASEC)](https://www.census.gov/programs-surveys/saipe/guidance/model-input-data/cpsasec.html) from 1962 to present.\n",
    "\n",
    "For this step, we will use the [*get_sample_info*](https://rdrr.io/cran/ipumsr/man/get_sample_info.html) function from the [**ipumsr**](https://cran.r-project.org/web/packages/ipumsr/index.html) package.  This function will return a list of all datasets from the specified IPUMS data repository which are available to be downloaded using the IPUMS API.  Since we are focusing on IPUMS CPS, we will specify that we want to view all available samples from the IPUMS CPS repository by passing *\"cps\"* to the function.  This code stores the metadata from all available samples in the IPUMS CPS repository to the object *metadata_usa*.\n",
    "\n",
    "**★ Pro Tip:** You can use the [*get_sample_info*](https://rdrr.io/cran/ipumsr/man/get_sample_info.html) function to retrieve metadata for any of the available IPUMS repositories by changing the database reference code."
   ]
  },
  {
   "cell_type": "code",
   "execution_count": null,
   "id": "6b27459a-971a-4078-a51e-5dde4f6a182c",
   "metadata": {},
   "outputs": [],
   "source": [
    "# retrive and view the list of samples from the IPUMS CPS database\n",
    "metadata_cps <- get_sample_info(\"cps\")"
   ]
  },
  {
   "cell_type": "markdown",
   "id": "a75be795-d548-4598-8604-169557200e58",
   "metadata": {},
   "source": [
    "Let's take a look at the dimensions of the *metadata_cps* object.  This will give us an idea of how many samples are available from the IPUMS CPS repository."
   ]
  },
  {
   "cell_type": "code",
   "execution_count": null,
   "id": "400d19c3-b30e-4615-9473-7ffe2f5f65e8",
   "metadata": {},
   "outputs": [],
   "source": [
    "# view the dimensions of the list of samples\n",
    "dim(metadata_cps)"
   ]
  },
  {
   "cell_type": "markdown",
   "id": "11f928b7-270f-466d-995a-4123b4f05e42",
   "metadata": {},
   "source": [
    "The results tell us that there are 650 samples available from IPUMS CPS.\n",
    "\n",
    "Let's take a look at the first few elements in the table of samples."
   ]
  },
  {
   "cell_type": "code",
   "execution_count": null,
   "id": "53054616-bb4c-4a8b-93bc-5e515a102106",
   "metadata": {},
   "outputs": [],
   "source": [
    "# view the first few lines of the list of samples\n",
    "head(metadata_cps)"
   ]
  },
  {
   "cell_type": "markdown",
   "id": "fd9313d4-ee5d-43b9-8bc4-88128ef9de50",
   "metadata": {},
   "source": [
    "From this preview, we can see that the IPUMS CPS metada table has 1) a **name*, corresponding to a sample identification code, and 2) a **description**, providing a short description or label for each sample.  We will need to select a sample and make note of its sample identification code (**name**) which we will use when defining our data extraction.\n",
    "\n",
    "At first glance, it might be difficult to understand what data is contained in each sample, especially if you are not used to working with CPS data.  Refer to the [Descriptions of IPUMS CPS Samples](https://cps.ipums.org/cps/samples.shtml) page on the IPUMS CPS website for a list of all IPUMS USA samples and more detailed information on each sample.  IPUMS also provides the [list of sample identification codes](https://cps.ipums.org/cps-action/samples/sample_ids) on their website.\n",
    "\n",
    "If you already know which sample you want to use you could explore the samples list until you found the appropriate sample identification code (**name**).  Alternately, you could use the [*filter*](https://rdrr.io/cran/dplyr/man/filter.html) function from the [**dplyr**](https://cran.r-project.org/web/packages/dplyr/index.html) package in conjunction with the[*str_detect*](https://stringr.tidyverse.org/reference/str_detect.html) function from the [**stringr**](https://cran.r-project.org/web/packages/stringr/index.html) package to filter the list of samples down to the subset which may be relevant for your project.\n",
    "\n",
    "For this exercise, we will filter the list of sample metadata *metadata_cps* to only samples which have *2020* in their descriptions."
   ]
  },
  {
   "cell_type": "code",
   "execution_count": null,
   "id": "c4efb7e2-d392-45be-87b7-7ff8895b9f38",
   "metadata": {},
   "outputs": [],
   "source": [
    "# filter the list of samples by year\n",
    "metadata_cps %>% filter(str_detect(description, \"2020\"))      # filter descrption by year"
   ]
  },
  {
   "cell_type": "markdown",
   "id": "6a9d6299-c260-42f2-a3fa-482684d602d4",
   "metadata": {},
   "source": [
    "The filtering process has returned 13 relevant samples including the 12 monthly CPS samples and the annual ASEC sample.  For this exercise we will use the **2020 ASEC Sample** which is referred to using identification code (*name*) **cps2020_03s**.\n",
    "\n",
    "## 3. IPUMS CPS Data Extraction Specification and Submission\n",
    "\n",
    "Once we have reviewed the available samples and decided on the dataset, the next step is to set up a data extraction using the [*define_extract_micro*](https://rdrr.io/github/mnpopcenter/ripums/man/define_extract_micro.html) function from the [**ipumsr**](https://cran.r-project.org/web/packages/ipumsr/index.html) package.  This function requires the following minimum parameters:\n",
    "\n",
    "* *collection* · the IPUMS data collection for the extract (for this exercise we are downloading from IPUMS CPS so we use the code \"usa\")\n",
    "* *description* · text description of the extract\n",
    "* *samples* · vector of samples to include in the extract; samples should be specified using the sample identification codes\n",
    "* *variables* · vector of variables to include in the extract\n",
    "\n",
    "### 3a. Define the Variable List\n",
    "\n",
    "We already know what we will pass to the function for the *collection* (\"cps\") and *samples* (\"cps2020_03s\") parameters.  Next we will need to determine which variables we want.\n",
    "\n",
    "If you are already familiar with IPUMS CPS data extractions using their web-based data extract platforms, you might already know which variables are available for our selected sample.  If not, the best place to start is by exploring the web-based [**IPUMS CPS Data Extract Platform**](https://cps.ipums.org/cps-action/variables/group) to see what variables are available and identify the appropriate variable codes.  Before searching for variables, be sure to click the **Select Samples** button in the top-left corner of the search platform and select the samples you are planning to use.  Since we are using the 2020 ASEC sample for this example, you should select the 2020 ASEC sample within the search platform.  What variables are available, and the codes used for the variables, may differ based on your selected sample, so it is important to be specific.\n",
    "\n",
    "For this example we will use the following set of variables from the 2020 ASEC\n",
    "\n",
    "**Variable Selection**\n",
    "* [County FIPS Code (COUNTY)](https://en.wikipedia.org/wiki/Federal_Information_Processing_Standard_state_code)\n",
    "* Age (AGE)\n",
    "* Sex (SEX)\n",
    "* Quit Job or Retired for Health Reasons (QUITSICK)\n",
    "* Covered by Military Health Insurance in the Last Year (HICHAMP)\n",
    "* Veteran's Most Recent Period of Service (VETLAST)\n",
    "\n",
    "By default, the data extraction will also include both our selected variables and a set of IPUMS preselected variables.  The preselected variables include metainformation such as identification codes and survey weights.  We will explore and list the preselected variables after completing the data extraction.\n",
    "\n",
    "### 3b. Define the Data Extract\n",
    "\n",
    "Now that we know the collection (\"cps\"), sample (\"cps2020_03s\"), and list of variables (c(\"COUNTY\", \"SEX\", \"AGE\", \"RACE\", \"EDUC\", \"INCTOT\")) we are ready to submit our data extract request.  In this step we will add a text description of the request which can be anything and is included to help us differentiate between requests.  For this extract we will use the simple description \"IPUMS CPS Data Extraction\".\n",
    "\n",
    "Here we pass all the extraction definition information to the [*define_extract_micro*](https://rdrr.io/github/mnpopcenter/ripums/man/define_extract_micro.html) function from the [**ipumsr**](https://cran.r-project.org/web/packages/ipumsr/index.html) package and store the resulting extraction definition in the object *extract_definition*.\n",
    "\n",
    "**★ Pro Tip:** You can specify multiple samples in the same data extract by specifying all sample identification codes as a list.  Be sure that the variables you specify are available for all of the samples!"
   ]
  },
  {
   "cell_type": "code",
   "execution_count": null,
   "id": "8c2695dc-a83d-4c40-848b-85927c554296",
   "metadata": {},
   "outputs": [],
   "source": [
    "# set up the data extraction definition\n",
    "extract_definition <- define_extract_micro(collection = \"cps\",\n",
    "                                           description = \"IPUMS CPS Data Extraction\",\n",
    "                                           samples = c(\"cps2020_03s\"),\n",
    "                                           variables = c(\"COUNTY\", \"AGE\", \"SEX\", \"QUITSICK\", \"HICHAMP\", \"VETLAST\"))"
   ]
  },
  {
   "cell_type": "markdown",
   "id": "fe87d03a-e208-4df2-a677-cfe45e7a0c6b",
   "metadata": {},
   "source": [
    "Let's review the extraction definition information to make sure we have set it up the way we intended."
   ]
  },
  {
   "cell_type": "code",
   "execution_count": null,
   "id": "ec733522-08b8-44b8-b3bc-41c3e19d125f",
   "metadata": {},
   "outputs": [],
   "source": [
    "# review the extraction definition\n",
    "extract_definition"
   ]
  },
  {
   "cell_type": "markdown",
   "id": "064250dd-c833-47bf-89d8-a337390f7555",
   "metadata": {},
   "source": [
    "Everything looks good so we will submit the extraction request, wait for it to complete, and download the resulting data.\n",
    "\n",
    "### 3c. Submit the Extract Request\n",
    "\n",
    "Now that the extraction definition is set up, we can submit it to the IPUMS API using the [*submit_extract*](https://rdrr.io/cran/ipumsr/man/submit_extract.html) from the [**ipumsr**](https://cran.r-project.org/web/packages/ipumsr/index.html).\n",
    "\n",
    "For this exercise, after submitting the request we will also use the [*wait_for_extract*](https://rdrr.io/cran/ipumsr/man/wait_for_extract.html) function from the [**ipumsr**](https://cran.r-project.org/web/packages/ipumsr/index.html) package to monitor the status of the request.  This is not a necessary step but it is helpful, especially when submitting large requests.\n",
    "\n",
    "Finally, once the extract is complete, we can download it using the [*download_extract*](https://rdrr.io/cran/ipumsr/man/download_extract.html) function from the [**ipumsr**](https://cran.r-project.org/web/packages/ipumsr/index.html) package and save it in the object *filepath*."
   ]
  },
  {
   "cell_type": "code",
   "execution_count": null,
   "id": "b1784101-e2b4-4d24-ad6f-0dcc38470c8b",
   "metadata": {},
   "outputs": [],
   "source": [
    "# submit extraction request\n",
    "extract_submitted <- submit_extract(extract_definition)\n",
    "\n",
    "# wait for completion\n",
    "extraction_complete <- wait_for_extract(extract_submitted)\n",
    "\n",
    "# check completion status\n",
    "extraction_complete$status\n",
    "\n",
    "# get the extract filepath\n",
    "filepath <- download_extract(extract_submitted, overwrite = T)"
   ]
  },
  {
   "cell_type": "markdown",
   "id": "cd4dfe7b-dad4-436e-840b-bdb2393a76a4",
   "metadata": {},
   "source": [
    "### 3d. Review the Extract\n",
    "\n",
    "Once we have downloaded the extract, we are ready to review it and transform it to a format we can easily use.  The data extract download will contain the following two files.\n",
    "\n",
    "1. A [DDI (Data Documentation Initiative)](https://ddialliance.org) codebook file (file extension .xml) containing metadata and descriptive information for the data.\n",
    "2. A zipped data (.dat) file (file extension .dat.gz) containing the data.\n",
    "\n",
    "Read the ddi and data files into a format which we can work with in R.  The final *dat* object will contain the data from our extraction in a table format which is easy to use in R."
   ]
  },
  {
   "cell_type": "code",
   "execution_count": null,
   "id": "d7d53df0-08c8-4a75-85d6-df6bc905c974",
   "metadata": {},
   "outputs": [],
   "source": [
    "ddi <- read_ipums_ddi(filepath)\n",
    "dat <- read_ipums_micro(ddi)"
   ]
  },
  {
   "cell_type": "markdown",
   "id": "f95631ad-1594-4206-abea-8597307d624e",
   "metadata": {},
   "source": [
    "We now have a useable version of our dataset stored in *dat*.  Let's take a look at the number of observations and variables in the data."
   ]
  },
  {
   "cell_type": "code",
   "execution_count": null,
   "id": "03fb0c30-e042-41d3-9e0e-a7a3d13de657",
   "metadata": {},
   "outputs": [],
   "source": [
    "dim(dat)"
   ]
  },
  {
   "cell_type": "markdown",
   "id": "dc1a7003-4d50-4752-ba42-36d357795474",
   "metadata": {},
   "source": [
    "The 2020 ASEC data we downloaded includes information on 16 variables for 157,959 individuals.\n",
    "\n",
    "Let's take a look at the first few lines of the data."
   ]
  },
  {
   "cell_type": "code",
   "execution_count": null,
   "id": "6d7e1961-bc3f-4d76-bca7-eaf6420a517f",
   "metadata": {},
   "outputs": [],
   "source": [
    "head(dat)"
   ]
  },
  {
   "cell_type": "markdown",
   "id": "9df98a0f-7fb7-4220-950d-287bbc9ddbd6",
   "metadata": {},
   "source": [
    "Notice that this data is in [*tibble*](https://tibble.tidyverse.org) format rather than the more common *data.frame* format you might be used to as an R user.  A tibble can be thought of as a version of a data.frame that includes additional functionality and metadata visibility.  It is also more compatible with the [*tidyverse*](https://www.tidyverse.org) packages, including the [*dplyr*](https://cran.r-project.org/web/packages/dplyr/index.html) package we use in this notebook.\n",
    "\n",
    "As mentioned above, IPUMS includes a set of preselected variables in data extractions, along with the variables selected by the user.  We only selected 6 variables for the extraction but the resulting download includes 18 variables.  Let's take a look at the list of column names."
   ]
  },
  {
   "cell_type": "code",
   "execution_count": null,
   "id": "57aba26b-f76f-4335-add1-8e0fc5b38b6e",
   "metadata": {},
   "outputs": [],
   "source": [
    "colnames(dat)"
   ]
  },
  {
   "cell_type": "markdown",
   "id": "4caf5572-7b0d-4299-b589-a586485810e3",
   "metadata": {},
   "source": [
    "This list includes the 6 variables we originally selected and 10 additional IPUMS preselected variables which mainly include metadata such as identification codes, weights, and other metainformation.\n",
    "\n",
    "**Variable Selection**\n",
    "* [County FIPS Code (COUNTY)](https://en.wikipedia.org/wiki/Federal_Information_Processing_Standard_state_code)\n",
    "* Age (AGE)\n",
    "* Sex (SEX)\n",
    "* Quit Job or Retired for Health Reasons (QUITSICK)\n",
    "* Covered by Military Health Insurance in the Last Year (HICHAMP)\n",
    "* Veteran's Most Recent Period of Service (VETLAST)\n",
    "\n",
    "**IPUMS Preselected Variables**\n",
    "* Survey Year (YEAR)\n",
    "* Household Serial Number (SERIAL)\n",
    "* Month (MONTH)\n",
    "* CPSID, Household Record (CPSID)\n",
    "* Flag for ASEC (ASECFLAG)\n",
    "* Annual Social and Economic Supplement Household Weight (ASECWTH)\n",
    "* Person Number in Sample Unit (PERNUM)\n",
    "* CPSID, Person Record (CPSIDP)\n",
    "* Validated Longitudinal Identifer (CPSIDV)\n",
    "* Annual Social and Economic Supplement Weight (ASECWT)"
   ]
  },
  {
   "cell_type": "markdown",
   "id": "f69da11d-7b25-4569-9e06-0230c788091e",
   "metadata": {},
   "source": [
    "### 3e. Save the Data\n",
    "\n",
    "Finally, let's save the data we extracted from IPUMS CPS.  We will save the data in the following two formats:\n",
    "\n",
    "* A *.rds* version of the data.  The **R Data Serialization (RDS)** format will retain metadata for the next time we want to import the file back into R.  One downside to the .rds format is it is only useable within R.\n",
    "* A *.csv* version of the data.  The [**Comma-Separated Values (CSV)**](https://en.wikipedia.org/wiki/Comma-separated_values) format is versitile and can be easily accessed in other programs.  However, the CSV file format does not include metadata such as labels for variable levels."
   ]
  },
  {
   "cell_type": "code",
   "execution_count": null,
   "id": "b87ec85e-4e8f-41a0-a037-fac653114335",
   "metadata": {},
   "outputs": [],
   "source": [
    "saveRDS(dat, \"ipums_cps_example.rds\")\n",
    "write.csv(dat, \"ipums_cps_example.csv\")"
   ]
  },
  {
   "cell_type": "markdown",
   "id": "caa85c5d-8a7b-4c71-a382-0f37756662e2",
   "metadata": {},
   "source": [
    "At the end of this exercise we have a freshly downloaded dataset from the IPUMS USA repository saved in our workspace."
   ]
  },
  {
   "cell_type": "markdown",
   "id": "1af29113-db66-48db-9cd1-520a9baf38b1",
   "metadata": {},
   "source": [
    "## Recommended Next Steps\n",
    "* **Continue with Chapter 2: IPUMS Data Acquisition and Extraction**\n",
    "  * [2.1 IPUMS USA Data Extraction Using ipumsr](https://platform.i-guide.io/notebooks/ab5cad39-6d00-43d2-bc51-17fd4e6b98f2)\n",
    "  * [2.3 IPUMS International Microdata Extraction Using ipumsr](https://platform.i-guide.io/notebooks/71bcc1a6-8d43-405d-a8c3-adceaf5b785d)\n",
    "  * [2.4 IPUMS NHGIS Data Extraction Using ipumsr](https://platform.i-guide.io/notebooks/be08e56e-1c08-458e-a230-263c64d386bc)\n",
    "  * [2.5 IPUMS Time Use Data Extraction Using ipumsr](https://platform.i-guide.io/datasets/db169417-ceb7-4a98-965c-096873edbf6a)\n",
    "  * [2.6 IPUMS Health Surveys Data Extraction Using ipumsr](https://platform.i-guide.io/notebooks/4b366bd1-b23f-4f47-9c7f-2a060a9135a5)\n",
    "* **Move on to Chapter 3: Data Cleaning and Preparation**\n",
    "  * [3.1 Data Preparation and Transformation with IPUMS USA](https://platform.i-guide.io/notebooks/b4b29b13-d832-495d-8db7-1545a30549f1)"
   ]
  },
  {
   "cell_type": "markdown",
   "id": "5737702e-8210-491c-bb7a-1c1281c1dba0",
   "metadata": {},
   "source": [
    "## Quick Code\n",
    "A clean and simple version of the code included in this notebook (excluding the metadata exploration steps).  **Don't forget to update the code with your IPUMS API key!**"
   ]
  },
  {
   "cell_type": "raw",
   "id": "14cfc390-870f-44e5-8463-00a3b70e92fa",
   "metadata": {},
   "source": [
    "# install required packages\n",
    "# install.packages(\"ipumsr\")\n",
    "\n",
    "# load required libraries\n",
    "library(ipumsr)\n",
    "\n",
    "# set IPUMS API key\n",
    "ipums_api_key <- \"paste your api key here\"\n",
    "set_ipums_api_key(ipums_api_key, save = T, overwrite = T)\n",
    "\n",
    "# set up the data extract\n",
    "extraction <- define_extract_micro(description = \"IPUMS CPS Data Extraction\",\n",
    "                                   collection = \"cps\",\n",
    "                                   sample = \"cps2020_03s\",\n",
    "                                   variables = c(\"COUNTY\", \"AGE\", \"SEX\", \"QUITSICK\", \"HICHAMP\", \"VETLAST\"))\n",
    "\n",
    "# submit extract request and download the files\n",
    "extraction_submitted <- submit_extract(extraction)                  # submit the extract  \n",
    "extraction_complete <- wait_for_extract(extraction_submitted)       # wait for completion\n",
    "extraction_complete$status                                          # check completion\n",
    "filepath <- download_extract(extraction_submitted, overwrite = T)   # get extract filepath\n",
    "\n",
    "# extract the files\n",
    "ddi <- read_ipums_ddi(filepath)\n",
    "dat <- read_ipums_micro(ddi)\n",
    "\n",
    "# save as RDS file\n",
    "saveRDS(dat, \"ipums_cps_example.rds\", )\n",
    "\n",
    "# save as a csv file\n",
    "write.csv(dat, \"ipums_cps_example.csv\")"
   ]
  }
 ],
 "metadata": {
  "kernelspec": {
   "display_name": "R",
   "language": "R",
   "name": "ir"
  },
  "language_info": {
   "codemirror_mode": "r",
   "file_extension": ".r",
   "mimetype": "text/x-r-source",
   "name": "R",
   "pygments_lexer": "r",
   "version": "4.3.3"
  }
 },
 "nbformat": 4,
 "nbformat_minor": 5
}
