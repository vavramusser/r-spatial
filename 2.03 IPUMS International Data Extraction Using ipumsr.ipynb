{
 "cells": [
  {
   "cell_type": "markdown",
   "id": "5c578a64-4d4a-4721-958c-800506510b16",
   "metadata": {},
   "source": [
    "# IPUMS International Data Extraction Using ipumsr\n",
    "### by [Kate Vavra-Musser](https://vavramusser.github.io) for the [R Spatial Notebook Series](https://vavramusser.github.io/r-spatial)"
   ]
  },
  {
   "cell_type": "markdown",
   "id": "dda02f5e-fa65-4398-b630-c51d09cea26d",
   "metadata": {},
   "source": [
    "This notebook builds on the the workflow introduced in the **[Introduction to the IPUMS API for R Users](https://tech.popdata.org/ipumsr/articles/ipums-api.html)** article on the IPUMS website.  As the author of the R Spatial Notebook series, I recognize the IPUMS article as a significant inspiration and source of information for this notebook.\n",
    "\n",
    "## Introduction\n",
    "The [IPUMS International](https://international.ipums.org/international) database offers harmonized microdata from population censuses and surveys across multiple countries. It provides detailed, individual-level records on demographics, education, employment, housing, and household characteristics, enabling the analysis of global trends in population and socioeconomic conditions across time and space. Through harmonization, IPUMS International ensures data can be seamlessly compared across countries and census years, overcoming challenges posed by differences in survey design, geographic boundaries, and variable definitions.\"\n",
    "\n",
    "**From the [IPUMS International Website](https://international.ipums.org/international):** IPUMS International is dedicated to collecting and distributing census microdata from around the world. The project goals are to collect and preserve data and documentation, harmonize data, and disseminate the harmonized data free of charge.\n",
    "\n",
    "#### Data Included in the IPUMS USA Repository\n",
    "The IPUMS International repository includes population survey data from over 100 countries dating back to the 1960s.  For a complete list of all available surveys by country and year refer to the [IPUMS International List of Samples](https://international.ipums.org/international-action/sample_details).\n",
    "\n",
    "### Notebook Goals\n",
    "This notebook introduces the process of extracting [IPUMS International](https://international.ipums.org/international) data using the [IPUMS API](https://developer.ipums.org/docs/v2/apiprogram) via the [ipumsr R package](https://cran.r-project.org/web/packages/ipumsr/index.html). Users will learn how to define, submit, and download an IPUMS International data extract, specifying desired variables, time periods, and geographic units for analysis. By the end of this notebook, users will have the skills to efficiently acquire customized IPUMS International datasets and prepare them for spatial and statistical workflows.\n",
    "\n",
    "### ★ Prerequisites ★\n",
    "* Complete [Section 1.1 Introduction to IPUMS and the IPUMS API](https://platform.i-guide.io/notebooks/82d3b176-e4e6-4307-8186-318a3fe6c81a)\n",
    "* Set Up Your [IPUMS Account and API Key](https://account.ipums.org/api_keys)\n",
    "\n",
    "### Notebook Overview\n",
    "1. Setup\n",
    "2. IPUMS International Metadata Exploration\n",
    "3. IPUMS International Data Extraction Specification and Submission"
   ]
  },
  {
   "cell_type": "markdown",
   "id": "c37f20a3-8ece-415c-a7f4-3edc53ee2fb9",
   "metadata": {},
   "source": [
    "## 1. Setup\n",
    "This section will guide you through the process of installing essential packages and setting your IPUMS API key.\n",
    "\n",
    "#### Required Packages\n",
    "\n",
    "[**dplyr**](https://cran.r-project.org/web/packages/dplyr/index.html) A Grammar of Data Manipulation. This notebook uses the the following function from *dplyr*.\n",
    "\n",
    "* [*filter*](https://rdrr.io/cran/dplyr/man/filter.html) · keep rows that match a condition\n",
    "* This notebook also uses [*%>%*](https://magrittr.tidyverse.org/reference/pipe.html), referred to as the *pipe* operator.  The *pip* operator is used to pass the output from one function directly into the next function for the purpose of creating streamlined workflows and is a commonly used component of the [*tidyverse*](https://www.tidyverse.org).\n",
    "\n",
    "[**ipumsr**](https://cran.r-project.org/web/packages/ipumsr/index.html) An R Interface for Downloading, Reading, and Handling IPUMS Data.  This notebook uses the the following functions from *ipumsr*.\n",
    "\n",
    "* [*define_extract_micro*](https://rdrr.io/github/mnpopcenter/ripums/man/define_extract_micro.html) · define an extract request for an IPUMS microdata collection\n",
    "* [*download_extract*](https://rdrr.io/cran/ipumsr/man/download_extract.html) · download a completed IPUMS data extract\n",
    "* [*get_sample_info*](https://rdrr.io/cran/ipumsr/man/get_sample_info.html) · list available samples for IPUMS microdata collections\n",
    "* [*read_ipums_ddi*](https://rdrr.io/cran/ipumsr/man/read_ipums_ddi.html) · read metadata about an IPUMS microdata extract from a DDI codebook (.xml) file\n",
    "* [*read_ipums_micro*](https://rdrr.io/cran/ipumsr/man/read_ipums_micro.html) · read data from an IPUMS microdata extract\n",
    "* [*set_ipums_api_key*](https://rdrr.io/cran/ipumsr/man/set_ipums_api_key.html) · set your IPUMS API key\n",
    "* [*submit_extract*](https://rdrr.io/cran/ipumsr/man/submit_extract.html) · submit an extract request via the IPUMS API\n",
    "* [*wait_for_extract*](https://rdrr.io/cran/ipumsr/man/wait_for_extract.html) · wait for an extract to finish processing\n",
    "\n",
    "[**stringr**](https://cran.r-project.org/web/packages/stringr/index.html) Simple, Consistent Wrappers for Common String Operations.  This notebook uses the following function from *stringr*.\n",
    "\n",
    "* [*str_detect*](https://stringr.tidyverse.org/reference/str_detect.html) · detect the presence or absence of a match"
   ]
  },
  {
   "cell_type": "markdown",
   "id": "18683019-023e-4094-965e-5f03301f94e2",
   "metadata": {},
   "source": [
    "### 1a. Install and Load Required Packages\n",
    "If you have not already installed the required packages, uncomment and run the code below:"
   ]
  },
  {
   "cell_type": "code",
   "execution_count": null,
   "id": "96ac04cf-ae0c-4b79-9986-0cdbd765be4d",
   "metadata": {},
   "outputs": [],
   "source": [
    "# install.packages(c(\"dplyr\", \"ipumsr\", \"stringr\"))"
   ]
  },
  {
   "cell_type": "markdown",
   "id": "aa422eba-1a8e-4970-8f6c-df9dc8ee437a",
   "metadata": {},
   "source": [
    "Load the packages into your workspace."
   ]
  },
  {
   "cell_type": "code",
   "execution_count": null,
   "id": "59e34c65-4160-49ae-bbfd-2e58dd213657",
   "metadata": {},
   "outputs": [],
   "source": [
    "library(dplyr)\n",
    "library(ipumsr)\n",
    "library(stringr)"
   ]
  },
  {
   "cell_type": "markdown",
   "id": "8a60792f-6f68-4906-a9fa-e920ae480ede",
   "metadata": {},
   "source": [
    "#### 1b. Set Your IPUMS API Key\n",
    "\n",
    "Store your [IPUMS API key](https://account.ipums.org/api_keys) in your environment using the following code.\n",
    "\n",
    "Refer to *Chapter 1.1: Introduction to IPUMS and the IPUMS API* for instructions on setting up your IPUMS account and API key."
   ]
  },
  {
   "cell_type": "code",
   "execution_count": null,
   "id": "cab2e9a8-43d0-4cd7-a294-6e21253a1055",
   "metadata": {},
   "outputs": [],
   "source": [
    "ipumps_api_key = readline(\"Please enter your IPUMS API key: \")\n",
    "set_ipums_api_key(ipumps_api_key, save = T, overwrite = T)"
   ]
  },
  {
   "cell_type": "markdown",
   "id": "1746c938-fe9c-4a6e-9a62-748ef2205d9c",
   "metadata": {},
   "source": [
    "## 2. IPUMS International Metadata Exploration\n",
    "\n",
    "Before submitting an IPUMS data extraction request, it’s essential to ensure the parameters of the extraction definition are set up correctly.  The extraction definition specifies the sample, variables, and other options.\n",
    "\n",
    "If this is your first time using the IPUMS API in R, or if you are setting up a new data extract for a new project, it is a good idea to start by exploring the available data which can be done using the *ipumsr* package.\n",
    "\n",
    "### 2a. Review the List of Samples\n",
    "\n",
    "First, let's take a look at the entire list of datasets available from the [IPUMS International data repository](https://international.ipums.org/international/index.shtml).  The data available for direct extraction using the IPUMS API include [over 500 population surveys from over 100 countries](https://international.ipums.org/international-action/sample_details).\n",
    "\n",
    "For this step, we will use the [*get_sample_info*](https://rdrr.io/cran/ipumsr/man/get_sample_info.html) function from the [**ipumsr**](https://cran.r-project.org/web/packages/ipumsr/index.html) package.  This function will return a list of all datasets from the specified IPUMS data repository which are available to be downloaded using the IPUMS API.  Since we are focusing on IPUMS International, we will specify that we want to view all available samples from the IPUMS International repository by passing *\"ipumsi\"* to the function.  This code stores the metadata from all available samples in the IPUMS USA repository to the object *metadata_usa*.\n",
    "\n",
    "**★ Pro Tip:** You can use the [*get_sample_info*](https://rdrr.io/cran/ipumsr/man/get_sample_info.html) function to retrieve metadata for any of the available IPUMS repositories by changing the database reference code."
   ]
  },
  {
   "cell_type": "code",
   "execution_count": null,
   "id": "a338681c-5713-4555-bc7b-6b3ee0d474cc",
   "metadata": {},
   "outputs": [],
   "source": [
    "# retrive and view the list of samples from the IPUMS International database\n",
    "metadata_int <- get_sample_info(\"ipumsi\")"
   ]
  },
  {
   "cell_type": "markdown",
   "id": "5e3e8c66-b93f-4be2-9727-4a61c4ae4bb8",
   "metadata": {},
   "source": [
    "Let's take a look at the dimensions of the *metadata_int* object.  This will give us an idea of how many samples are available from the IPUMS International repository."
   ]
  },
  {
   "cell_type": "code",
   "execution_count": null,
   "id": "dff50aa7-65e5-4339-b6b8-cea1831013d1",
   "metadata": {},
   "outputs": [],
   "source": [
    "# view the dimensions of the list of samples\n",
    "dim(metadata_int)"
   ]
  },
  {
   "cell_type": "markdown",
   "id": "208b0ec2-cf51-47e3-ae86-6faed2abc0be",
   "metadata": {},
   "source": [
    "The results tell us that there are 550 samples available from IPUMS International.\n",
    "\n",
    "Let's take a look at the first few elements in the table of samples."
   ]
  },
  {
   "cell_type": "code",
   "execution_count": null,
   "id": "55f0e320-a1f5-404b-ae3a-1668a31d27ff",
   "metadata": {},
   "outputs": [],
   "source": [
    "# view the first few lines of the list of samples\n",
    "head(metadata_int)"
   ]
  },
  {
   "cell_type": "markdown",
   "id": "0461282e-cca8-406d-bd0c-5b17849608ae",
   "metadata": {},
   "source": [
    "From this preview, we can see that the IPUMS International metada table has 1) a **name*, corresponding to a sample identification code, and 2) a **description**, providing a short description or label for each sample.  We will need to select a sample and make note of its sample identification code (**name**) which we will use when defining our data extraction.\n",
    "\n",
    "At first glance, it might be difficult to understand what data is contained in each sample, especially if you are not used to working with data from the IPUMS International repository.  Refer to the [Sample Information](https://international.ipums.org/international-action/sample_details) page on the IPUMS International website for a list of all IPUMS International samples and more detailed information on each sample.\n",
    "\n",
    "If you already know which sample you want to use you could explore the samples list until you found the appropriate sample identification code (**name**).  Alternately, you could use the [*filter*](https://rdrr.io/cran/dplyr/man/filter.html) function from the [**dplyr**](https://cran.r-project.org/web/packages/dplyr/index.html) package in conjunction with the[*str_detect*](https://stringr.tidyverse.org/reference/str_detect.html) function from the [**stringr**](https://cran.r-project.org/web/packages/stringr/index.html) package to filter the list of samples down to the subset which may be relevant for your project.\n",
    "\n",
    "For this exercise, we will filter the list of sample metadata *metadata_usa* to only samples which have *South Africa* in their descriptions."
   ]
  },
  {
   "cell_type": "code",
   "execution_count": null,
   "id": "b30d8114-28dc-47d7-baa7-db74f63aa61b",
   "metadata": {},
   "outputs": [],
   "source": [
    "# filter the list of samples by country\n",
    "metadata_int %>% filter(str_detect(description, \"South Africa\"))"
   ]
  },
  {
   "cell_type": "markdown",
   "id": "32d4ef27-98be-4d06-99ea-7fd797cee507",
   "metadata": {},
   "source": [
    "The filtering process has returned the five South African samples included in the IPUMS International repository.  For this exercise we will use the **2016 South Africa** which is referred to using identification code (*name*) **za2016a**.\n",
    "\n",
    "## 3. IPUMS International Data Extraction Specification and Submission\n",
    "\n",
    "Once we have reviewed the available samples and decided on the dataset, the next step is to set up a data extraction using the [*define_extract_micro*](https://rdrr.io/github/mnpopcenter/ripums/man/define_extract_micro.html) function from the [**ipumsr**](https://cran.r-project.org/web/packages/ipumsr/index.html) package.  This function requires the following minimum parameters:\n",
    "\n",
    "* *collection* · the IPUMS data collection for the extract (for this exercise we are downloading from IPUMS International so we use the code \"ipumsi\")\n",
    "* *description* · text description of the extract\n",
    "* *samples* · vector of samples to include in the extract; samples should be specified using the sample identification codes\n",
    "* *variables* · vector of variables to include in the extract\n",
    "\n",
    "### 3a. Define the Variable List\n",
    "\n",
    "We already know what we will pass to the function for the *collection* (\"ipumsi\") and *samples* (\"za2016a\") parameters.  Next we will need to determine which variables we want.\n",
    "\n",
    "If you are already familiar with IPUMS International data extractions using their web-based data extract platforms, you might already know which variables are available for our selected sample.  If not, the best place to start is by exploring the web-based [**IPUMS International Data Extract Platform**](https://international.ipums.org/international-action/variables/group) to see what variables are available and identify the appropriate variable codes.  Before searching for variables, be sure to click the **Select Samples** button in the top-left corner of the search platform and select the samples you are planning to use.  Since we are using the South Africa 2016 sample for this example, you should select the South Africa 2016 sample within the search platform.  What variables are available, and the codes used for the variables, may differ based on your selected sample, so it is important to be specific.\n",
    "\n",
    "For this example we will use the following set of variables from the 2010 ACS.\n",
    "\n",
    "**Variable Selection**\n",
    "* South Africa, Local Municipality 2016 (Level 3 GIS) (GEO3_ZA2016)\n",
    "* Electricity (ELECTRIC)\n",
    "* Water Supply (WATSUP)\n",
    "* Sewage (SEWAGE)\n",
    "* Cooking Fuel (FUELCOOK)\n",
    "* Toilet (TOILET)\n",
    "\n",
    "By default, the data extraction will also include both our selected variables and a set of IPUMS preselected variables.  The preselected variables include metainformation such as identification codes and survey weights.  We will explore and list the preselected variables after completing the data extraction.\n",
    "\n",
    "### 3b. Define the Data Extract\n",
    "\n",
    "Now that we know the collection (\"ipumsi\"), sample (\"za2016a\"), and list of variables (c(\"GEO3_ZA2016\", \"ELECTRIC\", \"WATSUP\", \"SEWAGE\", \"FUELCOOK\", \"TOILET\")) we are ready to submit our data extract request.  In this step we will add a text description of the request which can be anything and is included to help us differentiate between requests.  For this extract we will use the simple description \"IPUMS International Data Extraction\".\n",
    "\n",
    "Here we pass all the extraction definition information to the [*define_extract_micro*](https://rdrr.io/github/mnpopcenter/ripums/man/define_extract_micro.html) function from the [**ipumsr**](https://cran.r-project.org/web/packages/ipumsr/index.html) package and store the resulting extraction definition in the object *extract_definition*.\n",
    "\n",
    "**★ Pro Tip:** You can specify multiple samples in the same data extract by specifying all sample identification codes as a list.  Be sure that the variables you specify are available for all of the samples!"
   ]
  },
  {
   "cell_type": "code",
   "execution_count": null,
   "id": "513744e4-b21e-40a9-a7db-3977e5b5659c",
   "metadata": {},
   "outputs": [],
   "source": [
    "# set up the data extraction definition\n",
    "extract_definition <- define_extract_micro(collection = \"ipumsi\",\n",
    "                                           description = \"IPUMS International Data Extraction\",\n",
    "                                           samples = c(\"za2016a\"),\n",
    "                                           variables = c(\"GEO3_ZA2016\", \"ELECTRIC\", \"WATSUP\", \"SEWAGE\", \"FUELCOOK\", \"TOILET\"))"
   ]
  },
  {
   "cell_type": "markdown",
   "id": "80191e67-2235-4145-b92e-4a6e55c95024",
   "metadata": {},
   "source": [
    "Let's review the extraction definition information to make sure we have set it up the way we intended."
   ]
  },
  {
   "cell_type": "code",
   "execution_count": null,
   "id": "17b51cc3-a8ab-4bf4-b6e9-c0c164ee0402",
   "metadata": {},
   "outputs": [],
   "source": [
    "# review the extraction definition\n",
    "extract_definition"
   ]
  },
  {
   "cell_type": "markdown",
   "id": "7899607a-8770-475d-a403-a8baaadb2c92",
   "metadata": {},
   "source": [
    "Everything looks good so we will submit the extraction request, wait for it to complete, and download the resulting data.\n",
    "\n",
    "### 3c. Submit the Extract Request\n",
    "\n",
    "Now that the extraction definition is set up, we can submit it to the IPUMS API using the [*submit_extract*](https://rdrr.io/cran/ipumsr/man/submit_extract.html) from the [**ipumsr**](https://cran.r-project.org/web/packages/ipumsr/index.html).\n",
    "\n",
    "For this exercise, after submitting the request we will also use the [*wait_for_extract*](https://rdrr.io/cran/ipumsr/man/wait_for_extract.html) function from the [**ipumsr**](https://cran.r-project.org/web/packages/ipumsr/index.html) package to monitor the status of the request.  This is not a necessary step but it is helpful, especially when submitting large requests.\n",
    "\n",
    "Finally, once the extract is complete, we can download it using the [*download_extract*](https://rdrr.io/cran/ipumsr/man/download_extract.html) function from the [**ipumsr**](https://cran.r-project.org/web/packages/ipumsr/index.html) package and save it in the object *filepath*."
   ]
  },
  {
   "cell_type": "code",
   "execution_count": null,
   "id": "4e11e18d-562b-47cc-b620-449417cb2337",
   "metadata": {},
   "outputs": [],
   "source": [
    "# submit extraction request\n",
    "extract_submitted <- submit_extract(extract_definition)\n",
    "\n",
    "# wait for completion\n",
    "extraction_complete <- wait_for_extract(extract_submitted)\n",
    "\n",
    "# check completion status\n",
    "extraction_complete$status\n",
    "\n",
    "# get the extract filepath\n",
    "filepath <- download_extract(extract_submitted, overwrite = T)"
   ]
  },
  {
   "cell_type": "markdown",
   "id": "cf7c5124-f8dd-481d-a802-1b1b210be10e",
   "metadata": {},
   "source": [
    "### 3d. Review the Extract\n",
    "\n",
    "Once we have downloaded the extract, we are ready to review it and transform it to a format we can easily use.  The data extract download will contain the following two files.\n",
    "\n",
    "1. A [DDI (Data Documentation Initiative)](https://ddialliance.org) codebook file (file extension .xml) containing metadata and descriptive information for the data.\n",
    "2. A zipped data (.dat) file (file extension .dat.gz) containing the data.\n",
    "\n",
    "Read the ddi and data files into a format which we can work with in R.  The final *dat* object will contain the data from our extraction in a table format which is easy to use in R."
   ]
  },
  {
   "cell_type": "code",
   "execution_count": null,
   "id": "f5a51a63-8493-4eb7-81c4-f4bac011d7bc",
   "metadata": {},
   "outputs": [],
   "source": [
    "ddi <- read_ipums_ddi(filepath)\n",
    "dat <- read_ipums_micro(ddi)"
   ]
  },
  {
   "cell_type": "markdown",
   "id": "1027e4c9-1743-4303-879e-f04f94c1d387",
   "metadata": {},
   "source": [
    "We now have a useable version of our dataset stored in *dat*.  Let's take a look at the number of observations and variables in the data."
   ]
  },
  {
   "cell_type": "code",
   "execution_count": null,
   "id": "6936de9d-c7c2-436c-a088-19a411a42df9",
   "metadata": {},
   "outputs": [],
   "source": [
    "dim(dat)"
   ]
  },
  {
   "cell_type": "markdown",
   "id": "41f92360-dd84-4b3b-abe3-8092eb94a92e",
   "metadata": {},
   "source": [
    "The South Africa 2016 data we downloaded includes information on 11 variables for about 3.3 million individuals.\n",
    "\n",
    "Let's take a look at the first few lines of the data."
   ]
  },
  {
   "cell_type": "code",
   "execution_count": null,
   "id": "2f980738-bad4-47d5-9897-2dc78ca67e0f",
   "metadata": {},
   "outputs": [],
   "source": [
    "head(dat)"
   ]
  },
  {
   "cell_type": "markdown",
   "id": "210c3d02-b46b-4e8e-9119-3ae30c88a0fb",
   "metadata": {},
   "source": [
    "Notice that this data is in [*tibble*](https://tibble.tidyverse.org) format rather than the more common *data.frame* format you might be used to as an R user.  A tibble can be thought of as a version of a data.frame that includes additional functionality and metadata visibility.  It is also more compatible with the [*tidyverse*](https://www.tidyverse.org) packages, including the [*dplyr*](https://cran.r-project.org/web/packages/dplyr/index.html) package we use in this notebook.\n",
    "\n",
    "As mentioned above, IPUMS includes a set of preselected variables in data extractions, along with the variables selected by the user.  We only selected 6 variables for the extraction but the resulting download includes 18 variables.  Let's take a look at the list of column names."
   ]
  },
  {
   "cell_type": "code",
   "execution_count": null,
   "id": "2c39105c-a5db-456e-bc60-f9177a67cad3",
   "metadata": {},
   "outputs": [],
   "source": [
    "colnames(dat)"
   ]
  },
  {
   "cell_type": "markdown",
   "id": "4caf5572-7b0d-4299-b589-a586485810e3",
   "metadata": {},
   "source": [
    "This list includes the 6 variables we originally selected as well as 5 additional IPUMS preselected variables which mainly include metadata such as identification codes, weights, and other metainformation.\n",
    "\n",
    "**Variable Selection**\n",
    "* South Africa, Local Municipality 2016 (Level 3 GIS) (GEO3_ZA2016)\n",
    "* Electricity (ELECTRIC)\n",
    "* Water Supply (WATSUP)\n",
    "* Sewage (SEWAGE)\n",
    "* Cooking Fuel (FUELCOOK)\n",
    "* Toilet (TOILET)\n",
    "\n",
    "**IPUMS Preselected Variables**\n",
    "* Country (COUNTRY)\n",
    "* Survey Year (YEAR)\n",
    "* IPUMS Sample Identifier (SAMPLE)\n",
    "* Household Serial Number (SERIAL)\n",
    "* Household Weight (HHWT)\n",
    "\n",
    "### 3d. Save the Data\n",
    "\n",
    "Finally, let's save the data we extracted from IPUMS International.  We will save the data in the following two formats:\n",
    "\n",
    "* A *.rds* version of the data.  The **R Data Serialization (RDS)** format will retain metadata for the next time we want to import the file back into R.  One downside to the .rds format is it is only useable within R.\n",
    "* A *.csv* version of the data.  The [**Comma-Separated Values (CSV)**](https://en.wikipedia.org/wiki/Comma-separated_values) format is versitile and can be easily accessed in other programs.  However, the CSV file format does not include metadata such as labels for variable levels.\n",
    "\n",
    "**★ Pro Tip:** Setting the *row.names* parameter to *FALSE* in the *write.csv* function will supress the creation of an additional column of index values which is automatically generated in the CSV writing process."
   ]
  },
  {
   "cell_type": "code",
   "execution_count": null,
   "id": "8da7254e-28ee-474f-b3c0-995cde9e3a40",
   "metadata": {},
   "outputs": [],
   "source": [
    "saveRDS(dat, \"ipums_international_example.rds\")\n",
    "write.csv(dat, \"ipums_international_example.csv\", row.names = F)"
   ]
  },
  {
   "cell_type": "markdown",
   "id": "a3877f95-3ef8-4bbc-8ea9-1a75d8d8b561",
   "metadata": {},
   "source": [
    "At the end of this exercise we have a freshly downloaded dataset from the IPUMS International repository saved in our workspace."
   ]
  },
  {
   "cell_type": "markdown",
   "id": "d5ef03ff-b161-4a58-9c5a-4b5914759960",
   "metadata": {},
   "source": [
    "## Recommended Next Steps\n",
    "* **Continue with Chapter 2: IPUMS Data Acquisition and Extraction**\n",
    "  * [2.1 IPUMS USA Data Extraction Using ipumsr](https://platform.i-guide.io/notebooks/ab5cad39-6d00-43d2-bc51-17fd4e6b98f2)\n",
    "  * [2.2 IPUMS CPS Data Extraction Using ipumsr](https://platform.i-guide.io/notebooks/286321c5-6cc6-43df-a3e5-f3d72192e00c)\n",
    "  * [2.4 IPUMS NHGIS Data Extraction Using ipumsr](https://platform.i-guide.io/notebooks/be08e56e-1c08-458e-a230-263c64d386bc)\n",
    "  * [2.5 IPUMS Time Use Data Extraction Using ipumsr](https://platform.i-guide.io/datasets/db169417-ceb7-4a98-965c-096873edbf6a)\n",
    "  * [2.6 IPUMS Health Surveys Data Extraction Using ipumsr](https://platform.i-guide.io/notebooks/4b366bd1-b23f-4f47-9c7f-2a060a9135a5)"
   ]
  },
  {
   "cell_type": "markdown",
   "id": "8dae34c5-09d9-4790-9275-055a684ab9a9",
   "metadata": {},
   "source": [
    "## Quick Code\n",
    "A clean and simple version of the code included in this notebook (excluding the metadata exploration steps).  **Don't forget to update the code with your IPUMS API key!**"
   ]
  },
  {
   "cell_type": "raw",
   "id": "bef449b4-e814-49f2-b91a-77550f61f220",
   "metadata": {},
   "source": [
    "# install required packages\n",
    "# install.packages(\"ipumsr\")\n",
    "\n",
    "# load required libraries\n",
    "library(ipumsr)\n",
    "\n",
    "# set IPUMS API key\n",
    "ipums_api_key <- \"paste your api key here\"\n",
    "set_ipums_api_key(ipums_api_key, save = T, overwrite = T)\n",
    "\n",
    "# set up the data extract\n",
    "extraction <- define_extract_micro(description = \"IPUMS International Data Extraction\",\n",
    "                                   collection = \"ipumsi\",\n",
    "                                   samples = c(\"za2016a\"),\n",
    "                                   variables = c(\"GEO3_ZA2016\", \"ELECTRIC\", \"WATSUP\", \"SEWAGE\", \"FUELCOOK\", \"TOILET\"))\n",
    "\n",
    "# submit extract request and download the files\n",
    "extraction_submitted <- submit_extract(extraction)                  # submit the extract  \n",
    "extraction_complete <- wait_for_extract(extraction_submitted)       # wait for completion\n",
    "extraction_complete$status                                          # check completion\n",
    "filepath <- download_extract(extraction_submitted, overwrite = T)   # get extract filepath\n",
    "\n",
    "# extract the files\n",
    "ddi <- read_ipums_ddi(filepath)\n",
    "dat <- read_ipums_micro(ddi)\n",
    "\n",
    "# save as RDS file\n",
    "saveRDS(dat, \"ipums_international_example.rds\", )\n",
    "\n",
    "# save as a csv file\n",
    "write.csv(dat, \"ipums_international_example.csv\")"
   ]
  }
 ],
 "metadata": {
  "kernelspec": {
   "display_name": "R",
   "language": "R",
   "name": "ir"
  },
  "language_info": {
   "codemirror_mode": "r",
   "file_extension": ".r",
   "mimetype": "text/x-r-source",
   "name": "R",
   "pygments_lexer": "r",
   "version": "4.3.3"
  }
 },
 "nbformat": 4,
 "nbformat_minor": 5
}
