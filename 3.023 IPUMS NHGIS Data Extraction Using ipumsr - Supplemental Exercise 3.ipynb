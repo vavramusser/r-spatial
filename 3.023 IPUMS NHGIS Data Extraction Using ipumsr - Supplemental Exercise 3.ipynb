{
 "cells": [
  {
   "cell_type": "markdown",
   "id": "6b31681f-4cd6-43d9-b9b1-47f2e8fad0ff",
   "metadata": {},
   "source": [
    "# IPUMS [NHGIS](https://www.nhgis.org) Data Extraction Using [ipumsr](https://cran.r-project.org/web/packages/ipumsr/index.html) - Supplemental Exercise 3\n",
    "### by [Kate Vavra-Musser](https://vavramusser.github.io) for the [R Spatial Notebook Series](https://vavramusser.github.io/r-spatial)"
   ]
  },
  {
   "cell_type": "markdown",
   "id": "e80f35eb-2335-4b6e-b311-296e321c612d",
   "metadata": {},
   "source": [
    "## Introduction\n",
    "This notebook provides an additional example of the IPUMS NHGIS data extraction process using the IPUMS API via the ipumsr R package.  This exercise is a supplement to the workflow introducted in Chapter 3.4 IPUMS NHGIS Data Extraction Using ipumsr.\n",
    "\n",
    "### Notebook Goals\n",
    "This notebook replicates the IPUMS NHGIS data extraction process and extracts a NHGIS polygon dataset on block group population and accompanying shapefile.  The resulting data file is used in subsequent notebooks in the R Spatial Notebooks series.  The notebook provides an example of extracting spatial data limited by a user-defined extent with attached attribute data from the IPUMS NHGIS repository.\n",
    "\n",
    "### ★ Prerequisites ★\n",
    "* Complete [Chapter 1.1 Introduction to IPUMS and the IPUMS API](https://platform.i-guide.io/notebooks/82d3b176-e4e6-4307-8186-318a3fe6c81a)\n",
    "* Set Up Your [IPUMS Account and API Key](https://account.ipums.org/api_keys)\n",
    "* Complete [Chapter 2.4 IPUMS NHGIS Data Extraction Using ipumsr](https://platform.i-guide.io/notebooks/be08e56e-1c08-458e-a230-263c64d386bc)\n",
    "\n",
    "### Notebook Overview\n",
    "1. Setup\n",
    "2. Extraction Workflow: Shapefiles Restricted to a Geographic Extent + Tabular Data\n",
    "\n",
    "---"
   ]
  },
  {
   "cell_type": "markdown",
   "id": "797df1b1-5271-4afc-a1c3-3b6dd1fbda4e",
   "metadata": {},
   "source": [
    "## 1. Setup\n",
    "This section will guide you through the process of installing essential packages and setting your IPUMS API key.\n",
    "\n",
    "#### Required Packages\n",
    "\n",
    "[**dplyr**](https://cran.r-project.org/web/packages/dplyr/index.html) A Grammar of Data Manipulation. This notebook uses the the following functions from *dplyr*.\n",
    "\n",
    "* [*filter*](https://rdrr.io/cran/dplyr/man/filter.html) · keep rows that match a condition\n",
    "\n",
    "[**ipumsr**](https://cran.r-project.org/web/packages/ipumsr/index.html) An R Interface for Downloading, Reading, and Handling IPUMS Data.  This notebook uses the the following functions from *ipumsr*.\n",
    "\n",
    "* [*define_extract_nhgis*](https://rdrr.io/cran/ipumsr/man/define_extract_nhgis.html) · define an IPUMS NHGIS extract request\n",
    "* [*download_extract*](https://rdrr.io/cran/ipumsr/man/download_extract.html) · download a completed IPUMS data extract\n",
    "* [*get_metadata_nhgis*](https://rdrr.io/cran/ipumsr/man/get_metadata_nhgis.html) · list available data sources from IPUMS NHGIS\n",
    "* [*read_ipums_sf*](https://rdrr.io/cran/ipumsr/man/read_ipums_sf.html) · read spatial data from an IPUMS extract\n",
    "* [*read_nhgis*](https://rdrr.io/cran/ipumsr/man/read_nhgis.html) · read tabular data from an NHGIS extract\n",
    "* [*set_ipums_api_key*](https://rdrr.io/cran/ipumsr/man/set_ipums_api_key.html) · set your IPUMS API key\n",
    "* [*submit_extract*](https://rdrr.io/cran/ipumsr/man/submit_extract.html) · submit an extract request via the IPUMS API\n",
    "* *tst_spec* · create a *tst_spec* object containing a time series table specification\n",
    "* [*wait_for_extract*](https://rdrr.io/cran/ipumsr/man/wait_for_extract.html) · wait for an extract to finish processing\n",
    "\n",
    "[**purrr**](https://cran.r-project.org/web/packages/purrr/index.html) A complete and consistent functional programming toolkit for R. This notebook uses the the following functions from *purrr*.\n",
    "\n",
    "* [*map()*](https://rdrr.io/cran/purrr/man/map.html) and [*map_dfr()*](https://rdrr.io/cran/purrr/man/map_dfr.html) · apply a function to each element of a vector\n",
    "\n",
    "[**sf**](https://cran.r-project.org/web/packages/sf/index.html) Support for simple features, a standardized way to encode spatial vector data. Binds to 'GDAL' for reading and writing data, to 'GEOS' for geometrical operations, and to 'PROJ' for projection conversions and datum transformations. Uses by default the 's2' package for spherical geometry operations on ellipsoidal (long/lat) coordinates.  This notebook uses the following functions from *sf*.\n",
    "\n",
    "* [*st_write*](https://rdrr.io/cran/sf/man/st_write.html) · Write simple features object to file or database"
   ]
  },
  {
   "cell_type": "markdown",
   "id": "951f13d1-275e-4c92-84db-674be66b8e09",
   "metadata": {},
   "source": [
    "### 1a. Install and Load Required Packages\n",
    "If you have not already installed the required packages, uncomment and run the code below:"
   ]
  },
  {
   "cell_type": "code",
   "execution_count": null,
   "id": "841f1a72-4453-44c8-a8f0-b2fb4472bda6",
   "metadata": {},
   "outputs": [],
   "source": [
    "# install.packages(\"dplyr\", \"ipumsr\", \"purr\", \"sf\")"
   ]
  },
  {
   "cell_type": "markdown",
   "id": "a31fbfd3-6632-4272-a93c-4cdd59239282",
   "metadata": {},
   "source": [
    "Load the packages into your workspace."
   ]
  },
  {
   "cell_type": "code",
   "execution_count": null,
   "id": "dd119ca6-b0a3-4fb3-b862-f6479e8a67c7",
   "metadata": {},
   "outputs": [],
   "source": [
    "library(dplyr)\n",
    "library(ipumsr)\n",
    "library(purrr)\n",
    "library(sf)"
   ]
  },
  {
   "cell_type": "markdown",
   "id": "7a7e36c0-d983-4c35-ab66-cb71f031461c",
   "metadata": {},
   "source": [
    "### 1b. Set Your IPUMS API Key\n",
    "\n",
    "Store your [IPUMS API key](https://account.ipums.org/api_keys) in your environment using the following code.\n",
    "\n",
    "Refer to [Chapter 1.1 Introduction to IPUMS and the IPUMS API](https://platform.i-guide.io/notebooks/82d3b176-e4e6-4307-8186-318a3fe6c81a) for instructions on setting up your IPUMS account and API key."
   ]
  },
  {
   "cell_type": "code",
   "execution_count": null,
   "id": "b606eb6c-e4f3-41b7-8ad8-bafda3abe191",
   "metadata": {},
   "outputs": [],
   "source": [
    "ipumps_api_key = readline(\"Please enter your IPUMS API key: \")\n",
    "set_ipums_api_key(ipumps_api_key, save = T, overwrite = T)"
   ]
  },
  {
   "cell_type": "markdown",
   "id": "e298935a-cb15-436d-9d49-a5474f13f0fa",
   "metadata": {},
   "source": [
    "## 2. NHGIS Time-Series + Polygons with Geographic Extent - Method 1\n",
    "\n",
    "### 2a. View and Filter the List of Geography Shapefiles\n",
    "\n",
    "Forthis exercise, we will again work with the total population time-series table *CL8* that we worked with in Chapter 2.4 and Chapte 2.4a.  Therefore, we will jump directly into e will taking a look at the list of geography shapefiles that fit our critera.  We are looking for block group boundary shapefiles but want to restrict the extent of our query to onl the state of Minnesota.  Therefore, let's filter the shapefile metadata to only incluede shapefiles which include the word \"block group\" on the description of their *geographic_level* and have *Minnesota* as their extent.  We will also focus on only shapefiles using the 2010 Tiger-Line files so we will also filter based on the *year = 2010* criteria."
   ]
  },
  {
   "cell_type": "code",
   "execution_count": null,
   "id": "ae228f77-4e9e-4093-85c8-803f5a2f72bf",
   "metadata": {},
   "outputs": [],
   "source": [
    "metadata_shp <- get_metadata_nhgis(\"shapefiles\") %>%\n",
    "    filter(year == 2010, extent == \"Minnesota\", grepl(\"block group\", geographic_level, ignore.case = T)) %>%\n",
    "    print(n = Inf)"
   ]
  },
  {
   "cell_type": "markdown",
   "id": "b649e024-81c1-4db9-a04e-1215f63a06bc",
   "metadata": {},
   "source": [
    "This filter resulted in a list of two potential shapefiles.  Let's select the 2010 shapefile based on 2010 Tiger-Line shapefiles for states (*270_blck_grp_2010_tl2010*).\n",
    "\n",
    "### 2b. Shapefile Extraction Specification and Submission\n",
    "\n",
    "Now that we have selected our shapefile (*270_blck_grp_2010_tl2010*) we are ready to define and submit our extraction request to the IPUMS API.  We already know we want to use time-series table *CL8* at the block group (*blk_grp*) geographic level."
   ]
  },
  {
   "cell_type": "code",
   "execution_count": null,
   "id": "1e282d84-ef55-457e-8bf0-88b149fe657c",
   "metadata": {},
   "outputs": [],
   "source": [
    "extract_definition <- define_extract_nhgis(description = \"I-GUIDE NHGIS County Population  Extraction\",\n",
    "                                           time_series_tables = tst_spec(name = \"CL8\",\n",
    "                                                                         geog_levels = \"blck_grp\"),\n",
    "                                           shapefiles = \"270_blck_grp_2010_tl2010\")"
   ]
  },
  {
   "cell_type": "markdown",
   "id": "f391c56e-23db-437f-8588-542166824750",
   "metadata": {},
   "source": [
    "Submitting the extraction definition object *extract_definition* to the API."
   ]
  },
  {
   "cell_type": "code",
   "execution_count": null,
   "id": "9982fed0-d727-42d9-b8e6-b3d7779fb261",
   "metadata": {},
   "outputs": [],
   "source": [
    "extraction_submitted <- submit_extract(extract_definition)\n",
    "extraction_complete <- wait_for_extract(extraction_submitted)\n",
    "extraction_complete$status\n",
    "filepath <- download_extract(extraction_submitted, overwrite = T)"
   ]
  },
  {
   "cell_type": "markdown",
   "id": "0ab87817-9c0f-42f3-a4bb-112f5aadc305",
   "metadata": {},
   "source": [
    "The result of the extraction request will be two files 1) a time-series table containing the populationd data and 2) the places (points) geography shapefile.  The next step is to read these two files into R."
   ]
  },
  {
   "cell_type": "code",
   "execution_count": null,
   "id": "7c2e40c7-20cb-4356-b67e-90a7461b4cc0",
   "metadata": {},
   "outputs": [],
   "source": [
    "dat <- read_nhgis(filepath[1])\n",
    "shp <- read_ipums_sf(filepath[2])"
   ]
  },
  {
   "cell_type": "markdown",
   "id": "609fa707-19c5-46aa-a465-2f8d312a8c6e",
   "metadata": {},
   "source": [
    "Let's take a look at the dimesions of the time-series data (*dat*) and the shapefile (*shp*)."
   ]
  },
  {
   "cell_type": "code",
   "execution_count": null,
   "id": "f6b9a741-241d-4fc9-b201-621a7e1c64de",
   "metadata": {},
   "outputs": [],
   "source": [
    "dim(dat)\n",
    "dim(shp)"
   ]
  },
  {
   "cell_type": "markdown",
   "id": "75803fb5-238d-4f0e-9c7d-33a40256aca9",
   "metadata": {},
   "source": [
    "The time-series table includes 18 variables for 217,740 block groups in the entire United States and the shapefile includes 16 attributes for the 4,108 block groups in the state of Minnesota.\n",
    "\n",
    "Let's take a look at the first few lines of the time-series table on population and the block groups shapefile."
   ]
  },
  {
   "cell_type": "code",
   "execution_count": null,
   "id": "d0a2244b-c832-4e4a-ac5c-d202ba5df998",
   "metadata": {},
   "outputs": [],
   "source": [
    "head(dat)"
   ]
  },
  {
   "cell_type": "code",
   "execution_count": null,
   "id": "2e648bb1-68b1-4a89-b072-555c11800be6",
   "metadata": {},
   "outputs": [],
   "source": [
    "head(shp)"
   ]
  },
  {
   "cell_type": "markdown",
   "id": "a466bf09-0ab1-42c9-9d36-f80baaf86a48",
   "metadata": {},
   "source": [
    "## 2. NHGIS Time-Series + Polygons with Geographic Extent - Method 2\n",
    "\n",
    "Alternately, we could have set up our querty using the block group shapefile for the entire United States (*us_blck_grp_2010_tl2010*) and then specified the geographic extent in the extraction definition step.  Note that in the extraction definition set up below we have specified *Minnesota* as the geographic extent."
   ]
  },
  {
   "cell_type": "code",
   "execution_count": null,
   "id": "40ac4d7e-9597-4fd4-b03e-affe377592d7",
   "metadata": {},
   "outputs": [],
   "source": [
    "extract_definition <- define_extract_nhgis(description = \"I-GUIDE NHGIS County Population  Extraction\",\n",
    "                                           time_series_tables = tst_spec(name = \"CL8\",\n",
    "                                                                         geog_levels = \"blck_grp\"),\n",
    "                                           shapefiles = \"us_blck_grp_2010_tl2010\",\n",
    "                                           extent = \"Minnesota\")"
   ]
  },
  {
   "cell_type": "markdown",
   "id": "fd198e97-76da-4fb5-b3ed-58a9f1a1aaab",
   "metadata": {},
   "source": [
    "Submitting the extraction definition object *extract_definition* to the API."
   ]
  },
  {
   "cell_type": "code",
   "execution_count": null,
   "id": "cb90e9f6-2118-40b4-bd59-2c2f15e1b983",
   "metadata": {},
   "outputs": [],
   "source": [
    "extraction_submitted <- submit_extract(extract_definition)\n",
    "extraction_complete <- wait_for_extract(extraction_submitted)\n",
    "extraction_complete$status\n",
    "filepath <- download_extract(extraction_submitted, overwrite = T)"
   ]
  },
  {
   "cell_type": "markdown",
   "id": "222f82e2-b80d-45a6-9b6b-aa1b1b29b48f",
   "metadata": {},
   "source": [
    "Again, the result of the extraction request will be two files 1) a time-series table containing the populationd data and 2) the places (points) geography shapefile.  The next step is to read these two files into R."
   ]
  },
  {
   "cell_type": "code",
   "execution_count": null,
   "id": "ac22cc0b-2c04-47be-aae2-474296237431",
   "metadata": {},
   "outputs": [],
   "source": [
    "dat <- read_nhgis(filepath[1])\n",
    "shp <- read_ipums_sf(filepath[2])"
   ]
  },
  {
   "cell_type": "markdown",
   "id": "7681d258-0337-4f53-a597-f534bdce0801",
   "metadata": {},
   "source": [
    "If we take a look at the dimesions of the time-series data (*dat*) and the shapefile (*shp*) and at the first few lines of each file, we can see that this method of setting up the data extraction resulted in the same files as the first method."
   ]
  },
  {
   "cell_type": "code",
   "execution_count": null,
   "id": "7e146018-a29e-401c-b856-78fd3262a8da",
   "metadata": {},
   "outputs": [],
   "source": [
    "dim(dat)\n",
    "dim(shp)"
   ]
  },
  {
   "cell_type": "code",
   "execution_count": null,
   "id": "8344cd89-43a1-4eef-9469-d976ad5a3675",
   "metadata": {},
   "outputs": [],
   "source": [
    "head(dat)"
   ]
  },
  {
   "cell_type": "code",
   "execution_count": null,
   "id": "a986e4b8-f3a4-4a08-92cd-7582e189c419",
   "metadata": {},
   "outputs": [],
   "source": [
    "head(shp)"
   ]
  },
  {
   "cell_type": "markdown",
   "id": "144364cc-781d-44a6-9c3c-e87a8cbb3934",
   "metadata": {},
   "source": [
    "Both files have the common column *GISJOIN* which should be familiar since we used it to merge the time-series and shapefile files in Chapter 2.4.  This time, we will not merge the files here but will instead save them seperately as a comma-seperated values (.csv) file for the time-series data and as a shapefile (.shp) for the geographic data.\n",
    "\n",
    "Before we do that however, we should remove a few columns that require a lot of memory.  This will make it easier to save and work work this data."
   ]
  },
  {
   "cell_type": "code",
   "execution_count": null,
   "id": "4434984c-368a-4912-934e-9f974e86bdfd",
   "metadata": {},
   "outputs": [],
   "source": [
    "# merge the time-series population data with the county geographic data\n",
    "dat_shp <- merge(dat, shp, by = \"GISJOIN\")"
   ]
  },
  {
   "cell_type": "code",
   "execution_count": null,
   "id": "3111224d-990d-4720-8297-9c3d2b5bbd87",
   "metadata": {},
   "outputs": [],
   "source": [
    "dat_shp <- dat_shp[, !names(dat_shp) %in% c(\"ALAND10\", \"AWATER10\", \"Shape_area\")]"
   ]
  },
  {
   "cell_type": "markdown",
   "id": "445a2178-6d4f-49ad-a33e-50678867d5b4",
   "metadata": {},
   "source": [
    "We are ready to save the files to our workspace."
   ]
  },
  {
   "cell_type": "code",
   "execution_count": null,
   "id": "2ed1ec9c-24f4-40d5-9202-df87ee0ae344",
   "metadata": {},
   "outputs": [],
   "source": [
    "st_write(dat_shp, \"ipums_nhgis_blockgroups.shp\", driver = \"ESRI Shapefile\", delete_dsn = T)"
   ]
  },
  {
   "cell_type": "markdown",
   "id": "d3572c5a-bc8b-4263-95b2-e098104ce823",
   "metadata": {},
   "source": [
    "At the end of this notebook we have saved a copy of the time-series table with population data from the 1990, 2000, 2010, and 2020 Decennial Censuses for block groups in the United States to the file *ipums_nhgis_blockgroups.csv* and a copy of the complementary geographic data file for block groups in the state of Minnesota to the shapefile *ipums_nhgis_blockgroups.shp*."
   ]
  },
  {
   "cell_type": "markdown",
   "id": "c17ca87d-d876-4c0b-bc07-9ff6dfaeef26",
   "metadata": {},
   "source": [
    "---\n",
    "## Recommended Next Steps\n",
    "\n",
    "* **Continue with Chapter 2: IPUMS Data Acquisition and Extraction**\n",
    "  * [2.4b IPUMS NHGIS Data Extraction Using ipumsr - Supplemental Exercise 2]()\n",
    "  * [2.4c IPUMS NHGIS Data Extraction Using ipumsr - Supplemental Exercise 3]()"
   ]
  },
  {
   "cell_type": "markdown",
   "id": "326c123b-8707-4312-94ce-d30d2b2ffe94",
   "metadata": {},
   "source": [
    "## Stay Connected\n",
    "Thank you for engaging with this notebook and supporting the project!  Please visit the [**R Spatial Notebooks Project Homepage**](https://vavramusser.github.io/r-spatial) to learn more about the project and explore additional notebooks.  Don't forget to join the project [**Mailing List**](https://mailchi.mp/ab01e8fc8397/r-spatial-email-signup) to hear about future notebook releases and other updates.  If you have an idea for a new notebook I want to hear about it!  Please submit your idea via the [**Suggestion Box**](https://us19.list-manage.com/survey?u=746bf8d366d6fbc99c699e714&id=54590a28ea&attribution=false)."
   ]
  }
 ],
 "metadata": {
  "kernelspec": {
   "display_name": "R",
   "language": "R",
   "name": "ir"
  },
  "language_info": {
   "codemirror_mode": "r",
   "file_extension": ".r",
   "mimetype": "text/x-r-source",
   "name": "R",
   "pygments_lexer": "r",
   "version": "4.3.3"
  }
 },
 "nbformat": 4,
 "nbformat_minor": 5
}
