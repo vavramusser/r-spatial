{
 "cells": [
  {
   "cell_type": "markdown",
   "id": "146cfa98-2a1d-40a7-9a25-5577b218dee8",
   "metadata": {},
   "source": [
    "# Choropleth Mapping"
   ]
  },
  {
   "cell_type": "markdown",
   "id": "015af2e0-7db7-4b03-930d-d3fa0e6ff2b6",
   "metadata": {},
   "source": [
    "## Introduction\n",
    "\n",
    "In this notebook, we’ll explore how to create a choropleth map using population data by county. [Choropleth maps](https://en.wikipedia.org/wiki/Choropleth_map) are thematic maps where areas are shaded or patterned in proportion to a variable of interest, in this case, population data. These maps help visualize spatial distributions and identify patterns, such as population density variations across geographic areas.\n",
    "\n",
    "This notebook will use NHGIS population data by county based on the 2020 US Decennial Census.\n",
    "\n",
    "### ★ Prerequisites ★\n",
    "* Complete Chapter 1.1: Introduction to IPUMS and the IPUMS API\n",
    "* Set Up Your [IPUMS Account and API Key](https://account.ipums.org/api_keys)\n",
    "* Complete Chapter 2.4: IPUMS NHGIS Data Extraction Using ipumsr\n",
    "\n",
    "At the end of Chapter 2.4: IPUMS NHGIS Data Extraction Using ipumsr, you saved your data extraction as two file formats *ipums_nhgis_example.rds* and *ipums_nhgis_example.csv*.  You will need these files to run this notebook.  If you are working throuhg this chapter without previously completing, Chapter 1.2, you will need to copy the *ipums_nhgis_example.rds* file into your working directory prior to running this notebook."
   ]
  },
  {
   "cell_type": "markdown",
   "id": "4ab8b549-b5fa-4098-9904-cf2605a457b7",
   "metadata": {},
   "source": [
    "## 1. Setup\n",
    "This section will guide you through the process of installing essential packages and setting your IPUMS API key.\n",
    "\n",
    "##### Required Packages\n",
    "\n",
    "[**dplyr**](https://cran.r-project.org/web/packages/dplyr/index.html) · A Grammar of Data Manipulation. This notebook uses the the following functions from *dplyr*.\n",
    "\n",
    "* [*mutate*](https://rdrr.io/cran/dplyr/man/mutate.html) · create, modify, and delete columns\n",
    "* [*rename*](https://rdrr.io/cran/dplyr/man/rename.html) · rename columns\n",
    "* This notebook also uses [*%>%*](https://magrittr.tidyverse.org/reference/pipe.html), referred to as the *pipe* operator, which is used to pass the output from one function directly into the next function for the purpose of creating streamlined workflows.  The *pipe* operator is a commonly used component of the [*tidyverse*](https://www.tidyverse.org).\n",
    "\n",
    "[**ggplot2**](https://cran.r-project.org/web/packages/ggplot2/index.html) · Create Elegant Data Visualisations Using the Grammar of Graphics.  A system for 'declaratively' creating graphics, based on \"The Grammar of Graphics\". You provide the data, tell 'ggplot2' how to map variables to aesthetics, what graphical primitives to use, and it takes care of the details.  This notebook uses the following functions from *ggplot2*.\n",
    "\n",
    "* *CoordSf* · Visualize sf objects\n",
    "  * *coord_sf* · geometric coordinates\n",
    "  * *geom_sf* · geometric objects (points, lines, or polygons)\n",
    "* [*ggplot*](https://rdrr.io/cran/ggplot2/man/ggplot.html) · Create a new ggplot\n",
    "* [*ggtheme*](https://rdrr.io/cran/ggplot2/man/ggtheme.html) · Complete themes\n",
    "  * *theme_minimal* · Minimal theme\n",
    "* [*labs*](https://rdrr.io/cran/ggplot2/man/labs.html) · Modify axis, legend, and plot labels\n",
    "* [*scale_colour_viridis_d*]() · Viridis colour scales from [viridisLite](https://cran.r-project.org/web/packages/viridisLite/index.html)\n",
    "  * *scale_fille_viridis_c*\n",
    "* [*theme*](https://rdrr.io/cran/ggplot2/man/theme.html) · Modify components of a theme\n",
    "\n",
    "[**sf**](https://cran.r-project.org/web/packages/sf/index.html) · Support for simple features, a standardized way to encode spatial vector data. Binds to 'GDAL' for reading and writing data, to 'GEOS' for geometrical operations, and to 'PROJ' for projection conversions and datum transformations. Uses by default the 's2' package for spherical geometry operations on ellipsoidal (long/lat) coordinates.  This notebook uses the following functions from *sf*.\n",
    "\n",
    "* [*geos_measures*](https://rdrr.io/cran/sf/man/geos_measures.html) · Compute geometric measurements\n",
    "  * *st_area* · Compute area\n",
    "* [*st_as_sf*](https://rdrr.io/cran/sf/man/st_as_sf.html) · Convert foreign object to an sf object\n",
    "* [*st_make_valid*](https://rdrr.io/cran/sf/man/valid.html) · Check validity or make an invalid geometry valid\n",
    "* [*st_transform*](https://rdrr.io/cran/sf/man/st_transform.html) · Transform or convert coordinates of simple feature"
   ]
  },
  {
   "cell_type": "markdown",
   "id": "19fd16e5-b61a-4cef-b559-bb539e4f3e92",
   "metadata": {},
   "source": [
    "### 1a. Install and Load Required Packages\n",
    "If you have not already installed the required packages, uncomment and run the code below:"
   ]
  },
  {
   "cell_type": "code",
   "execution_count": null,
   "id": "2628d51d-7ae9-4689-b5bf-cd954d9dbbd0",
   "metadata": {},
   "outputs": [],
   "source": [
    "# install.packages(c(\"dplyr\", \"ggplot2\", \"sf\"))"
   ]
  },
  {
   "cell_type": "markdown",
   "id": "5228df3a-2544-4e5e-b0c2-2a461a538389",
   "metadata": {},
   "source": [
    "Load the packages into your workspace."
   ]
  },
  {
   "cell_type": "code",
   "execution_count": null,
   "id": "714e2164-7dc7-4609-a509-65ec4a2ec6cd",
   "metadata": {},
   "outputs": [],
   "source": [
    "library(dplyr)\n",
    "library(ggplot2)\n",
    "library(sf)"
   ]
  },
  {
   "cell_type": "markdown",
   "id": "512d3212-af68-47a4-bd1d-4090b9aa0a8a",
   "metadata": {},
   "source": [
    "### 1b. Read in the Data File\n",
    "\n",
    "Run the following line of code to read in the *ipums_nhgis_example.rds* file into memory.  You may need to update the file path to reflect the file's location on your machine or in your working directory.\n",
    "\n",
    "The *ipums_nhgis_example.rds* file contains information from the 2010 Decennial Census."
   ]
  },
  {
   "cell_type": "code",
   "execution_count": null,
   "id": "dfd208cf-3c58-401c-91fe-fb5e7e7cc58a",
   "metadata": {},
   "outputs": [],
   "source": [
    "dat <- readRDS(\"ipums_nhgis_example.rds\")"
   ]
  },
  {
   "cell_type": "markdown",
   "id": "def28a7f-9956-4831-ba42-3331e8517bc7",
   "metadata": {},
   "source": [
    "## 2. Data Preparation\n",
    "\n",
    "Before mapping, we need to ensure the data is in the correct format and that each geometry is valid. Invalid geometries can prevent accurate area calculation and mapping, so we’ll clean and validate these before moving forward.\n",
    "\n",
    "First we will convert *dat_shp* to an sf object."
   ]
  },
  {
   "cell_type": "code",
   "execution_count": null,
   "id": "f2e234f8-2812-4aaf-89cb-64ba1b92b9f4",
   "metadata": {},
   "outputs": [],
   "source": [
    "dat_shp <- st_as_sf(dat_shp)"
   ]
  },
  {
   "cell_type": "markdown",
   "id": "96d8e835-1b3f-4332-8f83-7b1199627ed3",
   "metadata": {},
   "source": [
    "Next we will fix any invalid geometries using st_make_valid() to handle any geometric issues that might interfere with area calculations or plotting."
   ]
  },
  {
   "cell_type": "code",
   "execution_count": null,
   "id": "ce292c7a-82c9-4e5a-aea6-c669652c63cb",
   "metadata": {},
   "outputs": [],
   "source": [
    "dat_shp <- st_make_valid(dat_shp)"
   ]
  },
  {
   "cell_type": "markdown",
   "id": "1d2a5bc2-e7c5-4eb1-ba5d-3d1d26fdce71",
   "metadata": {},
   "source": [
    "In this step, we will transform the Coordinate Reference System (CRS) to a standard projection suitable for calculating area.  For this exercise, we will use the CRS 4326."
   ]
  },
  {
   "cell_type": "code",
   "execution_count": null,
   "id": "3539ae51-9cf1-4a27-9147-1fa74981f2f1",
   "metadata": {},
   "outputs": [],
   "source": [
    "dat_shp <- st_transform(dat_shp, crs = 4326)"
   ]
  },
  {
   "cell_type": "markdown",
   "id": "137ac3cb-ec0f-4bc3-806b-1d9cd04bd335",
   "metadata": {},
   "source": [
    "## 3. Calculating Population Density\n",
    "\n",
    "Population data is often more informative when normalized by area. In this step, we’ll calculate population density for each tract as the number of people per square kilometer. This allows us to compare population concentrations across areas of different sizes.\n",
    "\n",
    "In the next line of code we first calculate the area of each tract in square kilometers using st_area(), converting the units to numeric values to simplify further calculations.  Then we calculate population density (pop_density) as the total population (pop2020) divided by the area in square kilometers.  And finally, we convert pop_density to a plain numeric variable (without units), which avoids potential issues when visualizing data with ggplot2."
   ]
  },
  {
   "cell_type": "code",
   "execution_count": null,
   "id": "fea9b9b0-b882-4633-ba5f-cbd3fad1b36a",
   "metadata": {},
   "outputs": [],
   "source": [
    "# calculate area in square kilometers and population density\n",
    "dat_shp <- dat_shp %>%\n",
    "  mutate(area_km2 = as.numeric(st_area(.) / 1e6),     # convert area to square kilometers\n",
    "         pop_density = pop2020 / area_km2)            # population density per sq km\n",
    "\n",
    "# remove units from pop_density\n",
    "dat_shp <- dat_shp %>%\n",
    "  mutate(pop_density = as.numeric(pop_density))       # convert to numeric to remove units"
   ]
  },
  {
   "cell_type": "markdown",
   "id": "8a016192-93ae-4143-8af5-702977744e0e",
   "metadata": {},
   "source": [
    "## 4. Basic Choropleth Mapping with ggplot2\n",
    "\n",
    "With our data prepared and population density calculated, we can now map the population density across tracts. ggplot2 and geom_sf() allow us to map the polygons by filling each tract according to total population (pop2020), using a gradient color scale to represent low to high population counts.  In this step we do the following:\n",
    "\n",
    "1. Use geom_sf(aes(fill = pop_density)) to color each tract based on 2020 population (pop2020).\n",
    "2. Use scale_fill_viridis_c() to apply a colorblind-friendly gradient scale for the population count.\n",
    "3. Limit the map view to the contiguous United States using coord_sf() with specified latitude and longitude bounds, focusing the map and removing excess whitespace.\n",
    "\n",
    "This produces a clear choropleth map that allows users to easily identify areas of high and low population density across the U.S."
   ]
  },
  {
   "cell_type": "code",
   "execution_count": null,
   "id": "99af0f7e-0414-4c53-9952-c1aca54590c5",
   "metadata": {},
   "outputs": [],
   "source": [
    "ggplot(data = dat_shp) +\n",
    "  geom_sf(aes(fill = pop2020), color = NA) +\n",
    "  scale_fill_viridis_c(option = \"plasma\", na.value = \"grey50\") +     # use a colorblind-friendly scale\n",
    "  coord_sf(xlim = c(-125, -66), ylim = c(24, 50)) +                  # limit to the contiguious United States\n",
    "  labs(title = \"Population by County (2020)\", fill = \"Population\") +\n",
    "  theme_minimal()"
   ]
  },
  {
   "cell_type": "markdown",
   "id": "6af5e803-6e64-48cb-8f11-fb49e9958200",
   "metadata": {},
   "source": [
    "## 5. Mapping Population Density and Customizing the Color Scale and Legend\n",
    "\n",
    "The population map isn't very informative, so we'll make another version based on population density (pop_density).  To make the map more readable, we will also customize the color scale and legend. For example, using a logarithmic transformation can better capture population density variations, particularly if there’s a wide range between low-density and high-density areas.  In this step we:\n",
    "\n",
    "1. Apply scale_fill_viridis_c() with a log transformation and specific breaks to improve visual contrast across the density range.\n",
    "2. Adjust the legend position and add descriptive labels for clarity.\n",
    "\n",
    "This step helps users interpret the data more effectively by adjusting the color scale to better fit the data’s distribution."
   ]
  },
  {
   "cell_type": "code",
   "execution_count": null,
   "id": "e09c81ee-2bdc-4931-9100-295ec5d20422",
   "metadata": {},
   "outputs": [],
   "source": [
    "ggplot(data = dat_shp) +\n",
    "  geom_sf(aes(fill = pop_density), color = NA) +\n",
    "  scale_fill_viridis_c(option = \"plasma\", trans = \"log\",  # Log transformation for density range\n",
    "                       breaks = c(10, 100, 1000, 10000),  # Adjust breaks as needed\n",
    "                       labels = c(\"10\", \"100\", \"1k\", \"10k\"),\n",
    "                       na.value = \"grey50\") +\n",
    "  coord_sf(xlim = c(-125, -66), ylim = c(24, 50)) +\n",
    "  labs(title = \"Population Density by County (2020)\",\n",
    "       subtitle = \"Log-transformed color scale for population density\",\n",
    "       fill = \"Density (per sq km)\") +\n",
    "  theme_minimal() +\n",
    "  theme(legend.position = \"bottom\")"
   ]
  },
  {
   "cell_type": "markdown",
   "id": "527bf9b7-dc9e-48a8-8163-0f34fcc0755f",
   "metadata": {},
   "source": [
    "The final map reveals spatial patterns of 2020 population density across United States counties. By examining these density patterns, you can identify urban centers (higher population density) and rural areas (lower population density). This information is essential for understanding demographic distributions and can support analyses in public health, urban planning, and environmental impact studies."
   ]
  },
  {
   "cell_type": "markdown",
   "id": "af4f4464-a61c-4403-96a0-ac653caec462",
   "metadata": {},
   "source": [
    "## Recommended Next Steps\n",
    "\n",
    "* **Continue with Chapter 5: Mapping**\n",
    "  * 5.1: Mapping Point and Polygon Data\n",
    "  * 5.2: Choropleth Mapping\n",
    "  * 5.3: Adding Basemaps with ggmap\n",
    "  * 5.4: Interactive Mapping with leaflet\n",
    "* **Move on to Chapter 6: Foundational Spatial Analyses**\n",
    "  * 6.1: Distance Calculations\n",
    "  * 6.2: Nearest Neighbors\n",
    "  * 6.3: Buffer Analysis\n",
    "  * 6.4: Distance Matricies\n",
    "  * 6.5: Spatial Clustering\n",
    "  * 6.6: Spatial Joins\n",
    "  * 6.7: Point-in-Polygon Analysis\n",
    "  * 6.8: Overlay Analysis\n",
    "  * 6.9: Global Spatial Autocorrelation\n",
    "  * 6.10: Local Spatial Autocorrelation"
   ]
  }
 ],
 "metadata": {
  "kernelspec": {
   "display_name": "R",
   "language": "R",
   "name": "ir"
  },
  "language_info": {
   "codemirror_mode": "r",
   "file_extension": ".r",
   "mimetype": "text/x-r-source",
   "name": "R",
   "pygments_lexer": "r",
   "version": "4.3.3"
  }
 },
 "nbformat": 4,
 "nbformat_minor": 5
}
