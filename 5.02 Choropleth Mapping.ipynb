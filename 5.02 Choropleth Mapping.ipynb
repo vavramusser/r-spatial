{
 "cells": [
  {
   "cell_type": "markdown",
   "id": "146cfa98-2a1d-40a7-9a25-5577b218dee8",
   "metadata": {},
   "source": [
    "# Choropleth Mapping"
   ]
  },
  {
   "cell_type": "markdown",
   "id": "015af2e0-7db7-4b03-930d-d3fa0e6ff2b6",
   "metadata": {},
   "source": [
    "## Introduction\n",
    "\n",
    "In this notebook, we’ll explore how to create a choropleth map using population data by county. [Choropleth maps](https://en.wikipedia.org/wiki/Choropleth_map) are thematic maps where areas are shaded or patterned in proportion to a variable of interest, in this case, population data. These maps help visualize spatial distributions and identify patterns, such as population density variations across geographic areas.\n",
    "\n",
    "This notebook will use NHGIS population data by county based on the 2020 US Decennial Census."
   ]
  },
  {
   "cell_type": "markdown",
   "id": "4ab8b549-b5fa-4098-9904-cf2605a457b7",
   "metadata": {},
   "source": [
    "## 1. Setup\n",
    "\n",
    "Before running this script, you will need to install and load the following packages into your R environment:"
   ]
  },
  {
   "cell_type": "markdown",
   "id": "ea2cc253-3290-41eb-aac8-e45d8dd86366",
   "metadata": {},
   "source": [
    "[**dplyr**](https://cran.r-project.org/web/packages/dplyr/index.html) A package for data manipulation that provides a consistent set of functions to filter, arrange, summarize, and transform data. *dplyr* makes it easy to work with data frames and perform operations efficiently.  This notebook uses the the following functions from *dplyr*.\n",
    "\n",
    "* [*mutate()*](https://dplyr.tidyverse.org/reference/mutate.html) for modifying dataframes\n",
    "* [*rename()*](https://dplyr.tidyverse.org/reference/rename.html) for changing the names of individual variables in a dataframe\n",
    "* This notebook also uses [*%>%*](https://magrittr.tidyverse.org/reference/pipe.html), referred to as the *pipe* operator, which is used to pass the output from one function directly into the next function for the purpose of creating streamlined workflows.  The *pipe* operator is a commonly used component of the [*tidyverse*](https://www.tidyverse.org)."
   ]
  },
  {
   "cell_type": "markdown",
   "id": "f9ca2626-a1e2-4305-80e8-309e4d362b49",
   "metadata": {},
   "source": [
    "[**ggplot2**](https://cran.r-project.org/web/packages/ggplot2/index.html) A package for creating graphics based on the \"Grammar of Graphics\".  This notebook uses the following functions from *ggplot2*.\n",
    "\n",
    "* [*geom_sf()*](https://ggplot2.tidyverse.org/reference/ggsf.html) for visualizing (mapping) sf objects"
   ]
  },
  {
   "cell_type": "markdown",
   "id": "96405989-22c0-4de6-b38f-9f88c380f588",
   "metadata": {},
   "source": [
    "[**ipumsr**](https://cran.r-project.org/web/packages/ipumsr/index.html) A package specifically designed to interact with IPUMS datasets, including NHGIS. It allows users to define and submit data extraction requests, download data, and read it directly into R for analysis.  This notebook uses the the following functions from *ipumsr*.\n",
    "\n",
    "* *set_ipums_api_key()* for setting your IPUMS API key\n",
    "* *define_extract_nhgis()* for defining an IPUMS NHGIS extract request\n",
    "* *submit_exract()* for submitting an extract request via the IPUMS API and return an *ipums_extract* object\n",
    "* *wait_for_extract()* wait for an extract to finish processing\n",
    "* *download_extract()* download an extract's data files\n",
    "* *read_nhgis()* for reading tabular data from an NHGIS extract\n",
    "* *read_ipums_sf()* for reading spatial data from an IPUMS extract"
   ]
  },
  {
   "cell_type": "markdown",
   "id": "ab820549-8da5-4e5b-8fcd-5be63fac4732",
   "metadata": {},
   "source": [
    "[**sf**](https://cran.r-project.org/web/packages/sf/index.html) A package providing support for simple features (sf) geometry objects, a standardized way to encode spatial vector data.  This notebook uses the following functions from *sf*.\n",
    "\n",
    "* [*st_area()*](https://r-spatial.github.io/sf/reference/geos_measures.html) for computing the area or the length of a set of geometries\n",
    "* [*st_as_sf()*](https://r-spatial.github.io/sf/reference/st_as_sf.html) for converting a foreign object on a sf object\n",
    "* [*st_make_valid()*](https://r-spatial.github.io/sf/reference/valid.html) for checking whether geometry is valid or making an invalid geometry valid\n",
    "* [*st_transform()*](https://r-spatial.github.io/sf/reference/st_transform.html) for transforming or converting coordinates of simple feature"
   ]
  },
  {
   "cell_type": "markdown",
   "id": "19fd16e5-b61a-4cef-b559-bb539e4f3e92",
   "metadata": {},
   "source": [
    "If you are working in the I-GUIDE environment, these packages should be already be installed.  However you will still need to load the packages into your workspace using *library* base R function."
   ]
  },
  {
   "cell_type": "code",
   "execution_count": null,
   "id": "714e2164-7dc7-4609-a509-65ec4a2ec6cd",
   "metadata": {},
   "outputs": [],
   "source": [
    "library(dplyr)\n",
    "library(ipumsr)\n",
    "library(ggplot2)\n",
    "library(sf)"
   ]
  },
  {
   "cell_type": "markdown",
   "id": "2befbdda-b21e-4969-bef4-ba057eb6a470",
   "metadata": {},
   "source": [
    "Run the following code to enter your [IPUMS API key](https://account.ipums.org/api_keys)."
   ]
  },
  {
   "cell_type": "code",
   "execution_count": null,
   "id": "9be5599a-c1ae-4964-85ef-1b8065b7520e",
   "metadata": {},
   "outputs": [],
   "source": [
    "my_ipumps_api_key = readline(\"Please enter your IPUMS API key: \")\n",
    "set_ipums_api_key(my_ipumps_api_key, save = T, overwrite = T)"
   ]
  },
  {
   "cell_type": "markdown",
   "id": "f62e3fde-258a-4a66-bdda-ab7f030d00f2",
   "metadata": {},
   "source": [
    "## 2. Data Extraction"
   ]
  },
  {
   "cell_type": "code",
   "execution_count": null,
   "id": "16ff7dbe-3e7a-4303-a3bf-96ac8954b15f",
   "metadata": {},
   "outputs": [],
   "source": [
    "extraction <- define_extract_nhgis(description = \"I-GUIDE IPUMS Population Change Extraction\",\n",
    "                                   time_series_tables = tst_spec(name = \"CL8\",\n",
    "                                                                 geog_levels = \"county\",\n",
    "                                                                 years = \"2020\"),\n",
    "                                   shapefiles = \"us_county_2010_tl2010\")"
   ]
  },
  {
   "cell_type": "code",
   "execution_count": null,
   "id": "e16048c0-1ac0-4f12-8cff-dd2c076b34f8",
   "metadata": {},
   "outputs": [],
   "source": [
    "# submit extraction  \n",
    "extraction_submitted <- submit_extract(extraction)\n",
    "\n",
    "# wait for completion\n",
    "extraction_complete <- wait_for_extract(extraction_submitted)\n",
    "\n",
    "# check completion\n",
    "extraction_complete$status\n",
    "\n",
    "# get extraction filepath\n",
    "filepath <- download_extract(extraction_submitted, overwrite = T)"
   ]
  },
  {
   "cell_type": "code",
   "execution_count": null,
   "id": "27bba322-10a8-4db8-b0d3-2e7a1ae1b307",
   "metadata": {},
   "outputs": [],
   "source": [
    "# see files in extract\n",
    "dat_raw <- read_nhgis(filepath[1])\n",
    "shp_raw <- read_ipums_sf(filepath[2])"
   ]
  },
  {
   "cell_type": "code",
   "execution_count": null,
   "id": "3428b434-9036-4110-8605-62fce07b7b69",
   "metadata": {},
   "outputs": [],
   "source": [
    "colnames(dat_raw)"
   ]
  },
  {
   "cell_type": "code",
   "execution_count": null,
   "id": "33a3859b-a7eb-4e61-a704-586c3c248d51",
   "metadata": {},
   "outputs": [],
   "source": [
    "colnames(shp_raw)"
   ]
  },
  {
   "cell_type": "code",
   "execution_count": null,
   "id": "57db0590-ccd0-4293-ab3a-00b6dc0d30f1",
   "metadata": {},
   "outputs": [],
   "source": [
    "# subset the time-series data to only necessary columns\n",
    "dat <- dat_raw[c(\"GISJOIN\", \"CL8AA2020\")]\n",
    "\n",
    "# rename population columns\n",
    "dat <- dat %>% rename(\"pop2020\" = \"CL8AA2020\")\n",
    "\n",
    "# subset the shapefile to only necessary columns\n",
    "shp <- shp_raw[c(\"GISJOIN\", \"STATEFP10\", \"COUNTYFP10\")]\n",
    "\n",
    "# merge the time-series population data with the Censuss tract shapefile\n",
    "dat_shp <- merge(dat, shp, by = \"GISJOIN\")"
   ]
  },
  {
   "cell_type": "code",
   "execution_count": null,
   "id": "febe97b1-6bcc-4771-8633-32a4b5d8477f",
   "metadata": {},
   "outputs": [],
   "source": [
    "head(dat_shp)"
   ]
  },
  {
   "cell_type": "markdown",
   "id": "def28a7f-9956-4831-ba42-3331e8517bc7",
   "metadata": {},
   "source": [
    "## 3. Data Preparation\n",
    "\n",
    "Before mapping, we need to ensure the data is in the correct format and that each geometry is valid. Invalid geometries can prevent accurate area calculation and mapping, so we’ll clean and validate these before moving forward.\n",
    "\n",
    "First we will convert *dat_shp* to an sf object."
   ]
  },
  {
   "cell_type": "code",
   "execution_count": null,
   "id": "f2e234f8-2812-4aaf-89cb-64ba1b92b9f4",
   "metadata": {},
   "outputs": [],
   "source": [
    "dat_shp <- st_as_sf(dat_shp)"
   ]
  },
  {
   "cell_type": "markdown",
   "id": "96d8e835-1b3f-4332-8f83-7b1199627ed3",
   "metadata": {},
   "source": [
    "Next we will fix any invalid geometries using st_make_valid() to handle any geometric issues that might interfere with area calculations or plotting."
   ]
  },
  {
   "cell_type": "code",
   "execution_count": null,
   "id": "ce292c7a-82c9-4e5a-aea6-c669652c63cb",
   "metadata": {},
   "outputs": [],
   "source": [
    "dat_shp <- st_make_valid(dat_shp)"
   ]
  },
  {
   "cell_type": "markdown",
   "id": "1d2a5bc2-e7c5-4eb1-ba5d-3d1d26fdce71",
   "metadata": {},
   "source": [
    "In this step, we will transform the Coordinate Reference System (CRS) to a standard projection suitable for calculating area.  For this exercise, we will use the CRS 4326."
   ]
  },
  {
   "cell_type": "code",
   "execution_count": null,
   "id": "3539ae51-9cf1-4a27-9147-1fa74981f2f1",
   "metadata": {},
   "outputs": [],
   "source": [
    "dat_shp <- st_transform(dat_shp, crs = 4326)"
   ]
  },
  {
   "cell_type": "markdown",
   "id": "137ac3cb-ec0f-4bc3-806b-1d9cd04bd335",
   "metadata": {},
   "source": [
    "## 4. Calculating Population Density\n",
    "\n",
    "Population data is often more informative when normalized by area. In this step, we’ll calculate population density for each tract as the number of people per square kilometer. This allows us to compare population concentrations across areas of different sizes.\n",
    "\n",
    "In the next line of code we first calculate the area of each tract in square kilometers using st_area(), converting the units to numeric values to simplify further calculations.  Then we calculate population density (pop_density) as the total population (pop2020) divided by the area in square kilometers.  And finally, we convert pop_density to a plain numeric variable (without units), which avoids potential issues when visualizing data with ggplot2."
   ]
  },
  {
   "cell_type": "code",
   "execution_count": null,
   "id": "fea9b9b0-b882-4633-ba5f-cbd3fad1b36a",
   "metadata": {},
   "outputs": [],
   "source": [
    "# calculate area in square kilometers and population density\n",
    "dat_shp <- dat_shp %>%\n",
    "  mutate(area_km2 = as.numeric(st_area(.) / 1e6),     # convert area to square kilometers\n",
    "         pop_density = pop2020 / area_km2)            # population density per sq km\n",
    "\n",
    "# remove units from pop_density\n",
    "dat_shp <- dat_shp %>%\n",
    "  mutate(pop_density = as.numeric(pop_density))       # convert to numeric to remove units"
   ]
  },
  {
   "cell_type": "markdown",
   "id": "8a016192-93ae-4143-8af5-702977744e0e",
   "metadata": {},
   "source": [
    "## 4. Basic Choropleth Mapping with ggplot2\n",
    "\n",
    "With our data prepared and population density calculated, we can now map the population density across tracts. ggplot2 and geom_sf() allow us to map the polygons by filling each tract according to total population (pop2020), using a gradient color scale to represent low to high population counts.  In this step we do the following:\n",
    "\n",
    "1. Use geom_sf(aes(fill = pop_density)) to color each tract based on 2020 population (pop2020).\n",
    "2. Use scale_fill_viridis_c() to apply a colorblind-friendly gradient scale for the population count.\n",
    "3. Limit the map view to the contiguous United States using coord_sf() with specified latitude and longitude bounds, focusing the map and removing excess whitespace.\n",
    "\n",
    "This produces a clear choropleth map that allows users to easily identify areas of high and low population density across the U.S."
   ]
  },
  {
   "cell_type": "code",
   "execution_count": null,
   "id": "99af0f7e-0414-4c53-9952-c1aca54590c5",
   "metadata": {},
   "outputs": [],
   "source": [
    "ggplot(data = dat_shp) +\n",
    "  geom_sf(aes(fill = pop2020), color = NA) +\n",
    "  scale_fill_viridis_c(option = \"plasma\", na.value = \"grey50\") +     # use a colorblind-friendly scale\n",
    "  coord_sf(xlim = c(-125, -66), ylim = c(24, 50)) +                  # limit to the contiguious United States\n",
    "  labs(title = \"Population by County (2020)\", fill = \"Population\") +\n",
    "  theme_minimal()"
   ]
  },
  {
   "cell_type": "markdown",
   "id": "6af5e803-6e64-48cb-8f11-fb49e9958200",
   "metadata": {},
   "source": [
    "## 5. Mapping Population Density and Customizing the Color Scale and Legend\n",
    "\n",
    "The population map isn't very informative, so we'll make another version based on population density (pop_density).  To make the map more readable, we will also customize the color scale and legend. For example, using a logarithmic transformation can better capture population density variations, particularly if there’s a wide range between low-density and high-density areas.  In this step we:\n",
    "\n",
    "1. Apply scale_fill_viridis_c() with a log transformation and specific breaks to improve visual contrast across the density range.\n",
    "2. Adjust the legend position and add descriptive labels for clarity.\n",
    "\n",
    "This step helps users interpret the data more effectively by adjusting the color scale to better fit the data’s distribution."
   ]
  },
  {
   "cell_type": "code",
   "execution_count": null,
   "id": "e09c81ee-2bdc-4931-9100-295ec5d20422",
   "metadata": {},
   "outputs": [],
   "source": [
    "ggplot(data = dat_shp) +\n",
    "  geom_sf(aes(fill = pop_density), color = NA) +\n",
    "  scale_fill_viridis_c(option = \"plasma\", trans = \"log\",  # Log transformation for density range\n",
    "                       breaks = c(10, 100, 1000, 10000),  # Adjust breaks as needed\n",
    "                       labels = c(\"10\", \"100\", \"1k\", \"10k\"),\n",
    "                       na.value = \"grey50\") +\n",
    "  coord_sf(xlim = c(-125, -66), ylim = c(24, 50)) +\n",
    "  labs(title = \"Population Density by County (2020)\",\n",
    "       subtitle = \"Log-transformed color scale for population density\",\n",
    "       fill = \"Density (per sq km)\") +\n",
    "  theme_minimal() +\n",
    "  theme(legend.position = \"bottom\")"
   ]
  },
  {
   "cell_type": "markdown",
   "id": "527bf9b7-dc9e-48a8-8163-0f34fcc0755f",
   "metadata": {},
   "source": [
    "The final map reveals spatial patterns of 2020 population density across United States counties. By examining these density patterns, you can identify urban centers (higher population density) and rural areas (lower population density). This information is essential for understanding demographic distributions and can support analyses in public health, urban planning, and environmental impact studies."
   ]
  }
 ],
 "metadata": {
  "kernelspec": {
   "display_name": "R",
   "language": "R",
   "name": "ir"
  },
  "language_info": {
   "codemirror_mode": "r",
   "file_extension": ".r",
   "mimetype": "text/x-r-source",
   "name": "R",
   "pygments_lexer": "r",
   "version": "4.3.3"
  }
 },
 "nbformat": 4,
 "nbformat_minor": 5
}
