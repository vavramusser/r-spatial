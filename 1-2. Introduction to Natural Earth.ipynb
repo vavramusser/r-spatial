{
 "cells": [
  {
   "cell_type": "markdown",
   "id": "f061c98f-3231-48dc-becc-863a13ee06f2",
   "metadata": {},
   "source": [
    "# Introduction to Natural Earth"
   ]
  },
  {
   "cell_type": "markdown",
   "id": "0f84d5a2-bb5b-4d83-84f0-ba10ec568fcf",
   "metadata": {},
   "source": [
    "Developed by a team of cartographers, [Natural Earth](https://www.naturalearthdata.com) is designed to meet the needs of mapmakers and GIS users by offering data that is both visually appealing and easy to work with.  Natural Earth data is available under public domain, making it accessible for any project.  The service provides harmonized global datasets, minimizing inconsistencies across borders and is designed to look good on maps, with simplified geometries that make it efficient for rendering.\n",
    "\n",
    "Natural Earth data is available at three different scales:\n",
    "\n",
    "* 1:10 million (detailed enough for regional maps),\n",
    "* 1:50 million (suitable for continental maps),\n",
    "* 1:110 million (ideal for global maps).\n",
    "\n",
    "And categorized into three main themes:\n",
    "\n",
    "* Cultural: Includes political boundaries (countries, states, provinces), populated places, and administrative boundaries\n",
    "* Physical: Includes natural features such as rivers, lakes, glaciers, and land cover\n",
    "* Raster: Includes global relief, ocean depth, and bathymetry data\n",
    "\n",
    "The [naturalearth](https://cran.r-project.org/web/packages/rnaturalearth/index.html) and [naturalearthdata](https://cran.r-project.org/web/packages/rnaturalearthdata/index.html) packages support the programmatic extraction of Natural Earth data into an R environment."
   ]
  },
  {
   "cell_type": "markdown",
   "id": "02ea4e94-b918-474e-8877-feebe92d9c45",
   "metadata": {},
   "source": [
    "[**rnaturalearth**](https://cran.r-project.org/web/packages/rnaturalearth/index.html) A package for extracting geographic data from the open-source online repository [Natural Earth](https://www.naturalearthdata.com).  This notebook uses the folloing functions from *rnationalearth*.\n",
    "\n",
    "* [*ne_countries()*](https://www.rdocumentation.org/packages/rnaturalearth/versions/1.0.1/topics/ne_countries) for downloading world country polygons from Natural Earth\n",
    "* [*ne_download()*](https://www.rdocumentation.org/packages/rnaturalearth/versions/1.0.1/topics/ne_download) for downloading data from Natural Earth"
   ]
  },
  {
   "cell_type": "markdown",
   "id": "efca919b-bc19-4d83-8556-ce7a141e9010",
   "metadata": {},
   "source": [
    "## Next Steps\n",
    "\n",
    "From here, we recommend exploring the following notebooks:\n",
    "\n",
    "* **Mapping Point and Polygon Data**"
   ]
  }
 ],
 "metadata": {
  "kernelspec": {
   "display_name": "iguide-ewd-r",
   "language": "R",
   "name": "iguide-ewd-r"
  },
  "language_info": {
   "codemirror_mode": "r",
   "file_extension": ".r",
   "mimetype": "text/x-r-source",
   "name": "R",
   "pygments_lexer": "r",
   "version": "4.3.1"
  }
 },
 "nbformat": 4,
 "nbformat_minor": 5
}
