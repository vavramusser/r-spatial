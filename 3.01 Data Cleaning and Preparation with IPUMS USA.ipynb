{
 "cells": [
  {
   "cell_type": "markdown",
   "id": "8e08d742-8677-4b94-9052-f0e492b7c26e",
   "metadata": {},
   "source": [
    "# Data Cleaning and Preparation with IPUMS USA\n",
    "### by [Kate Vavra-Musser](https://vavramusser.github.io) for the [R Spatial Notebook Series](https://vavramusser.github.io/r-spatial)"
   ]
  },
  {
   "cell_type": "markdown",
   "id": "69e9f83b-932b-4bdb-89cd-d551f4352c6b",
   "metadata": {},
   "source": [
    "## Introduction\n",
    "This notebook demonstrates the process of cleaning and preparing tabular population data for analysis.  The notebook uses data extracted from the [IPUMS USA](https://usa.ipums.org/usa) repository, which provides harmonized data from the U.S. Decennial Census, American Community Survey, and Puerto Rico Community Survey, and other sources.  Working with large and complex datasets, like those provided by IPUMS, often requires meticulous cleaning and preparation to ensure that the data are suitable for the user's specific analysis. This notebook will guide you through key steps in this process, including importing, exploring, and transforming IPUMS data.\n",
    "\n",
    "### Notebook Goals\n",
    "This notebook introduces a data cleaning workflow using previously-downloaded data from [IPUMS USA](https://usa.ipums.org/usa) data using the [IPUMS API](https://developer.ipums.org/docs/v2/apiprogram) via the [ipumsr R package](https://cran.r-project.org/web/packages/ipumsr/index.html).  This notebook is intended as a follow-up to [IPUMS USA Data Extraction Using ipumsr](https://platform.i-guide.io/notebooks/ab5cad39-6d00-43d2-bc51-17fd4e6b98f2).  Users will learn how to clean and recode common continuous and categorical variables used in population data in R.  By the end of this notebook, users will have the skills to create their own workflows cleaning and preparing tabular IPUMS data or other population datasets for social and demographic research workflows.\n",
    "\n",
    "### ★ Prerequisites ★\n",
    "* Complete [Chapter 2.1 IPUMS USA Data Extraction Using ipumsr](https://platform.i-guide.io/notebooks/ab5cad39-6d00-43d2-bc51-17fd4e6b98f2)\n",
    "* Have a copy of the *ipums_usa_example.rds* file available in your workspace\n",
    "  * If you worked through [Chapter 2.1](https://platform.i-guide.io/notebooks/ab5cad39-6d00-43d2-bc51-17fd4e6b98f2) you should have created and saved a copy of *ipums_usa_example.rds* in the final section of the notebook.\n",
    "  * You can also download a copy of *ipums_usa_example.rds* file from [the I-GUIDE platform](https://platform.i-guide.io/datasets/0cb99a7c-97c0-4ffc-a2d7-ff539c8eadae) or [Kate's GitHub](https://github.com/vavramusser/r-spatial/blob/main/ipums_usa_example.csv).\n",
    "\n",
    "#### About the Example Data Set\n",
    "The [*ipums_usa_example.rds*](https://github.com/vavramusser/r-spatial/blob/main/ipums_usa_example.csv) file contains basic demographic information (sex, age, race, educational attainment, and total personal income) on residents of the state of Michigan collected as part of the 2010 [American Community Survey (ACS)](https://www.census.gov/programs-surveys/acs/about.html).  The ACS is an annual survey conducted by the [U.S. Census Bureau](https://www.census.gov) that collects information on a subset of the U.S. population.  It is a more in-depth supplement to the [U.S. Decennial Census](https://www.census.gov/programs-surveys/decennial-census.html) and in 2005 replaced the long-form version of the Decennial Census survey which was previously conducted every ten years.\n",
    "\n",
    "### Notebook Overview\n",
    "1. Setup\n",
    "2. Initial Review\n",
    "3. Cleaning and Recoding Continuous Variables\n",
    "5. Cleaning and Recoding Categorical Variables\n",
    "6. Final Review"
   ]
  },
  {
   "cell_type": "markdown",
   "id": "fb37b0f8-9de7-4c7c-a9f7-67c51733f029",
   "metadata": {},
   "source": [
    "## 1. Setup\n",
    "\n",
    "This section will guide you through the process of installing essential packages.\n",
    "\n",
    "[**dplyr**](https://cran.r-project.org/web/packages/dplyr/index.html) · A Grammar of Data Manipulation. This notebook uses the the following functions from *dplyr*.\n",
    "\n",
    "* [*case_when*](https://rdrr.io/cran/dplyr/man/case_when.html) · a general vectorized if-else\n",
    "* [*count*](https://rdrr.io/cran/dplyr/man/count.html) · count the observations in each group\n",
    "* [*mutate*](https://rdrr.io/cran/dplyr/man/mutate.html) · create, modify, and delete columns\n",
    "* [*row_number*](https://rdrr.io/cran/dplyr/man/row_number.html) · integer ranking functions\n",
    "* [*select*](https://rdrr.io/cran/dplyr/man/select.html) · keep or drop columns using their names and types\n",
    "* This notebook also uses [*%>%*](https://magrittr.tidyverse.org/reference/pipe.html), referred to as the *pipe* operator.  The *pip* operator is used to pass the output from one function directly into the next function for the purpose of creating streamlined workflows and is a commonly used component of the [*tidyverse*](https://www.tidyverse.org).\n",
    "\n",
    "[**haven**](https://cran.r-project.org/web/packages/haven/index.html) · Import foreign statistical formats into R via the embedded [\"ReadStat\"](https://github.com/WizardMac/ReadStat) C library.  This notebook uses the the following functions from *haven*.\n",
    "\n",
    "* [*as_factor*](https://rdrr.io/cran/haven/man/as_factor.html) · convert labelled vectors to factors"
   ]
  },
  {
   "cell_type": "markdown",
   "id": "b660b962-f580-4609-9061-6ebd61d141cc",
   "metadata": {},
   "source": [
    "### 1a. Install and Load Required Packages\n",
    "If you have not already installed the required packages, uncomment and run the code below:"
   ]
  },
  {
   "cell_type": "code",
   "execution_count": null,
   "id": "9d39c474-e2a6-4845-9c31-edffcb536e21",
   "metadata": {},
   "outputs": [],
   "source": [
    "# install.packages(c(\"dplyr\", \"haven\"))"
   ]
  },
  {
   "cell_type": "markdown",
   "id": "e9b97492-bde1-4140-ad26-b7d73bdc9a21",
   "metadata": {},
   "source": [
    "Load the packages into your workspace."
   ]
  },
  {
   "cell_type": "code",
   "execution_count": null,
   "id": "51f10447-c644-49ab-b45b-4275c83cfb84",
   "metadata": {},
   "outputs": [],
   "source": [
    "library(dplyr)\n",
    "library(haven)"
   ]
  },
  {
   "cell_type": "markdown",
   "id": "3466e722-d43f-466e-b8a4-2c59b37a2af1",
   "metadata": {},
   "source": [
    "### 1b. Load the Data File\n",
    "\n",
    "Run the following line of code to read the *ipums_usa_example.rds* file into memory.  You may need to update the file path to reflect the file's location on your machine or in your working directory."
   ]
  },
  {
   "cell_type": "code",
   "execution_count": null,
   "id": "dcef9e34-4eff-4690-b383-3b8a8014a5d7",
   "metadata": {},
   "outputs": [],
   "source": [
    "dat <- readRDS(\"ipums_usa_example.rds\")"
   ]
  },
  {
   "cell_type": "markdown",
   "id": "01fa9d70-849a-4ebe-80cf-89bdc29400ce",
   "metadata": {},
   "source": [
    "## 2. Initial Review\n",
    "\n",
    "As a reminder, the [*ipums_usa_example.rds*](https://github.com/vavramusser/r-spatial/blob/main/ipums_usa_example.csv) file contains basic demographic information (sex, age, race, educational attainment, and total personal income) on residents of the state of Michigan collected as part of the 2010 [American Community Survey (ACS)](https://www.census.gov/programs-surveys/acs/about.html).\n",
    "\n",
    "Let's take a look at the number of observations and variables in the data."
   ]
  },
  {
   "cell_type": "code",
   "execution_count": null,
   "id": "0a65ff85-be0b-47ce-9041-d60a93c0138f",
   "metadata": {},
   "outputs": [],
   "source": [
    "dim(dat)"
   ]
  },
  {
   "cell_type": "markdown",
   "id": "0c2d8916-03ce-42bc-92d3-086c45a3c620",
   "metadata": {},
   "source": [
    "The data includes information on 19 variables for 98,973 individuals living in the state of Michigan in 2010.\n",
    "\n",
    "Let's take a look at the first few lines of the data."
   ]
  },
  {
   "cell_type": "code",
   "execution_count": null,
   "id": "dae92b76-71cd-4019-ab1c-fcf18afeec8f",
   "metadata": {},
   "outputs": [],
   "source": [
    "head(dat)"
   ]
  },
  {
   "cell_type": "markdown",
   "id": "04e9b7e0-2540-4f51-8dbb-d341e5f76ec5",
   "metadata": {},
   "source": [
    "In [Chapter 2.1](https://platform.i-guide.io/notebooks/ab5cad39-6d00-43d2-bc51-17fd4e6b98f2) we set up our IPUMS API extraction with a selection of 7 population variables.  However, IPUMS includes a set of preselected variables in data extractions including metadata and other supplemental information which account for the additional 12 variables.\n",
    "\n",
    "Let's take a look at the list of column names."
   ]
  },
  {
   "cell_type": "code",
   "execution_count": null,
   "id": "d55c1341-fffc-4b44-9615-1a889c573360",
   "metadata": {},
   "outputs": [],
   "source": [
    "colnames(dat)"
   ]
  },
  {
   "cell_type": "markdown",
   "id": "1a431ed9-368c-40bb-84bf-d070783384df",
   "metadata": {},
   "source": [
    "Below is a referece list of the variables included in the data.  This list includes the 7 variables originally selected as well as detailed supplemental variables for 2 of the selected variables (RACED for the variales RACE and EDUCD for the variable EDUC) and 10 IPUMS preselected variables which mainly include metadata such as identification codes, weights, and other metainformation.\n",
    "\n",
    "**User Variable Selection**\n",
    "* [State FIPS Code (STATEFIP)](https://en.wikipedia.org/wiki/Federal_Information_Processing_Standard_state_code)\n",
    "* [Public Use Microdata Area (PUMA)](https://www.census.gov/programs-surveys/geography/guidance/geo-areas/pumas.html#:~:text=Public%20Use%20Microdata%20Areas%20(PUMAs)%20are%20non%2Doverlapping%2C,%2C%20Puerto%20Rico%2C%20and%20Guam.)\n",
    "* Sex (SEX)\n",
    "* Age (AGE)\n",
    "* Race (RACE)\n",
    "* Educational Attainment (EDUC)\n",
    "* Total Personal Income (INCTOT)\n",
    "\n",
    "**Detailed Supplements for Selected Variables**\n",
    "* Race (detailed) (RACED)\n",
    "* Education (detailed) (EDUCD)\n",
    "\n",
    "**IPUMS Preselected Variables**\n",
    "* Census Year (YEAR)\n",
    "* IPUMS Sample Identifier (SAMPLE)\n",
    "* Household Serial Number (SERIAL)\n",
    "* Original Census Bureau Household Serial Number (CBSERIAL)\n",
    "* Household Weight (HHWT)\n",
    "* Household Cluster for Vaccine Estimation (CLUSTER)\n",
    "* Household Strata for Variance Estimation (STRATA)\n",
    "* Group Quarters Status (GQ)\n",
    "* Person Number in Sample Unit (PERNUM)\n",
    "* Person Weight (PERWT)"
   ]
  },
  {
   "cell_type": "markdown",
   "id": "84d45a4d-52bc-4fdf-a9a4-eba65771e9ec",
   "metadata": {},
   "source": [
    "### 2a. Summarize the Data\n",
    "\n",
    "Let's start with a quick summary of the entire dataset using the *summary* command which provides a overview of a dataset and is a quick and easy way of exploring the overall data structure as well as potential high-level issues.  For this step we will restrict the summary to only subset of demographic variables since those are the variables we will focus on in the data cleaning process for this notebook."
   ]
  },
  {
   "cell_type": "code",
   "execution_count": null,
   "id": "0447fa3b-9fb3-458a-9a35-2018e0611002",
   "metadata": {},
   "outputs": [],
   "source": [
    "summary(dat[, c(\"SEX\", \"AGE\", \"RACE\", \"RACED\", \"EDUC\", \"EDUCD\", \"INCTOT\")])"
   ]
  },
  {
   "cell_type": "markdown",
   "id": "06bd95aa-0024-4837-8c98-a255c3c75f76",
   "metadata": {},
   "source": [
    "The high-level summary shows us a few potential issues with these data.\n",
    "\n",
    "1. **All variables are coded as numeric, even though many of them are actually categorical.**  It is very common to code categorical variables using numeric codes but it is important to remember that these categorical variables are useless without data labels or a codebook reference.  Fortunately, the IPUMS extraction and download process included metadata for our data, which includes labels for relevant variables.  We can also refer to the [IPUMS USA Online Data Finder](https://usa.ipums.org/usa-action/variables/group/demog) to find detailed information on each of our variables.  It is a good data stewardship practice to always have the codebook or other reference material nearby while performing the data cleaning process.\n",
    "2. **There are no missing values.**  If there were missing values in the data they would be indicated by an \"NA\" count for each variable.  While it is possible that our data actually has no missing values, it is also very possible that missing values are specified with a specific code.  Especailly with very large and complex datasets, it is important to retain skepticism about the lack of missing values and review each variable and its corresponding labels and codebook during the cleaning process.\n",
    "3. **The largest total income (INCTOT) value is 9999999.**  While it is possible that this is the actual maximum total income value in the dataset, it is more likely that this is a [topcoded reference value](https://en.wikipedia.org/wiki/Top-coded) or a missing value code.  Values in multiples of 9s, e.g. \"999\" or \"9999999\" are commonly used to indicate a topcoded value, missing, or other special circumstance.\n",
    "4. **The smalles total income (INCTOT) value is negative.**  What does this mean?\n",
    "\n",
    "Next we will review each of the demographic variables, keeping these potential issues at the front of our mind as we go.  The cleaning process will involve looking for and managing and issues with the data, such as missing values or values which need to be recoded, as well as reorganizing variables to make them easier to use or to suit the needs of our project.\n",
    "\n",
    "## 3. Clean and Recode Categorical Variables\n",
    "\n",
    "We will start with the three categorical variables in our set demographic variables.  The categorical variables in our dataset include:\n",
    "\n",
    "* [sex (SEX)](https://usa.ipums.org/usa-action/variables/SEX#codes_section)\n",
    "* [race (RACE and RACED)](https://usa.ipums.org/usa-action/variables/RACE#codes_section)\n",
    "* [educational attainment (EDUC and EDUCD)](https://usa.ipums.org/usa-action/variables/EDUC#codes_section)\n",
    "\n",
    "For this section we will create and use following helper function *variable_nice* using the [*count*](https://rdrr.io/cran/dplyr/man/count.html), [*mutate*](https://rdrr.io/cran/dplyr/man/mutate.html), and [*row_number*](https://rdrr.io/cran/dplyr/man/row_number.html), functions from the [**dplyr**](https://cran.r-project.org/web/packages/dplyr/index.html) package and the [*as_factor*](https://rdrr.io/cran/haven/man/as_factor.html) function from the [**haven**](https://cran.r-project.org/web/packages/haven/index.html) package.  This function will create a simple view showing the data label *{{variable}}*, count of observations *n*, numeric level indicator *code*, and the percent of the data which is represented by each variable level.\n",
    "\n",
    "Alternately, we could use the function *table* which would provide us with the counts for each variable level but would not show the percents or labels."
   ]
  },
  {
   "cell_type": "code",
   "execution_count": null,
   "id": "f523e805-7176-426a-a7c0-7426dd784fa6",
   "metadata": {},
   "outputs": [],
   "source": [
    "variable_nice <- function(data, variable) {\n",
    "    data %>%\n",
    "    count({{variable}}) %>%\n",
    "    mutate(code = row_number(),\n",
    "           {{variable}} := as_factor({{variable}}),\n",
    "           percent = round(n / sum(n) * 100, 2))\n",
    "}"
   ]
  },
  {
   "cell_type": "code",
   "execution_count": null,
   "id": "3aa7df84-d63a-4502-826b-163c2d8f2a11",
   "metadata": {},
   "outputs": [],
   "source": [
    "variable_nice(dat, RACE)"
   ]
  },
  {
   "cell_type": "markdown",
   "id": "eeabf85b-c239-4b22-8f39-78786d13788f",
   "metadata": {},
   "source": [
    "### 3a. Sex\n",
    "\n",
    "The [IPUMS codebook for SEX](https://usa.ipums.org/usa-action/variables/SEX#codes_section) shows us that there are three categories for this variable.\n",
    "\n",
    "* 1 ‧ Male\n",
    "* 2 ‧ Female\n",
    "* 9 ‧ *Missing or Blank*\n",
    "\n",
    "Similar to the 9999999 INCTOT values we saw in the initial summary, the SEX variable also has a special coding using 9s.  A code of 9 for SEX indicates a missing or blank value.\n",
    "\n",
    "Let's take a look at the breakdown of the SEX variable in our data."
   ]
  },
  {
   "cell_type": "code",
   "execution_count": null,
   "id": "d970c063-d9a7-43cc-9683-8eeb038af121",
   "metadata": {},
   "outputs": [],
   "source": [
    "variable_nice(dat, SEX)"
   ]
  },
  {
   "cell_type": "markdown",
   "id": "f87d5b1a-c295-4982-9fb4-3c897819d66e",
   "metadata": {},
   "source": [
    "All values in the SEX variable in our data are 1 (male) or 2 (female) and there are no missing values."
   ]
  },
  {
   "cell_type": "markdown",
   "id": "03530487-3b29-4a4b-8b7f-771826f00e4e",
   "metadata": {},
   "source": [
    "### 3b. Race\n",
    "\n",
    "As we were reminded in our initial review of the data, the IPUMS data extraction included both the RACE variable and a supplementary detailed race RACED variable.  The [IPUMS codebook for RACE and RACED](https://usa.ipums.org/usa-action/variables/RACE#codes_section) shows us that there are nine categories for the basic race variable (RACE) and 253 categories for the detailed race variable (RACED).\n",
    "\n",
    "Let's first take a look at the RACE variable."
   ]
  },
  {
   "cell_type": "code",
   "execution_count": null,
   "id": "1625c81f-48f0-4be7-ad96-a41baa089782",
   "metadata": {},
   "outputs": [],
   "source": [
    "variable_nice(dat, RACE)"
   ]
  },
  {
   "cell_type": "markdown",
   "id": "b1dfda0f-af7a-4c94-a80b-3f284dec1030",
   "metadata": {},
   "source": [
    "As we saw in the codebook, the RACE variable has nine categories, and our dataset includes individuals in each of the nine categories.\n",
    "\n",
    "**★ Pro Tip:** The acronym NEC, as in the \"Other race, nec\" category, stands for \"not elsewhere classified\" and is commonly used in demographic data.\n",
    "\n",
    "The RACE variable is an example of a very common occurrance in demographic data where one or a few categories represent the vast the majority of the data and the remaining categories are relatively rare.  In our sample nearly 85% of the individuals are White and most of the other categories constitute fewer than 1% of the sample.  This sometimes poses an issue in analysis, especially if we are interested in focusing on minority populations.  We won't worry about it for now, but it is something to think about when you conduct your own analyses.\n",
    "\n",
    "We know that the detailed race variable (RACED) has a lot of categories (253).  Let's check how many of them are represented in our data."
   ]
  },
  {
   "cell_type": "code",
   "execution_count": null,
   "id": "ffb0da5f-cd2e-484a-a5fe-6209e05cb98c",
   "metadata": {},
   "outputs": [],
   "source": [
    "length(unique((dat$RACED)))"
   ]
  },
  {
   "cell_type": "markdown",
   "id": "a8b501fe-295b-450e-b8b7-6845a891afe9",
   "metadata": {},
   "source": [
    "The individuals in our data represent 104 of the possible 253 detailed race categories.\n",
    "\n",
    "104 is still a lot of categories so we aren't going to attempt to view the full table for this variable.  Instead, let's take a look at the first ten categories."
   ]
  },
  {
   "cell_type": "code",
   "execution_count": null,
   "id": "c763ee96-cdd6-4ab2-a2f7-bced2122c83d",
   "metadata": {},
   "outputs": [],
   "source": [
    "head(variable_nice(dat, RACED), 10)"
   ]
  },
  {
   "cell_type": "markdown",
   "id": "f4439601-b5ad-432f-ad1e-671134a7e883",
   "metadata": {},
   "source": [
    "We can already see that this version of the race variable has a lot of additional information.  The first two categories (White and Black/African-American) are the same as the RACE variable but the next few categories show that the more general \"American Indian or Alaska Native\" cateogry is split into categories for specific Native American tribes.  Without looking at the entire list of all categories in RACED we can get an idea of the level of detail included in this variable.\n",
    "\n",
    "This amount of detail might come in handy later on if we use this data for a detailed race-based analysis.  But for now let's keep it simple and stick to just using the RACE variable."
   ]
  },
  {
   "cell_type": "markdown",
   "id": "ac56c4c0-fd91-465d-9a64-731846b4686d",
   "metadata": {},
   "source": [
    "#### Recoding the Race Variable\n",
    "\n",
    "Even the 9 race categories in the simple RACE variable is a lot, especially if we plan to run a regression or do some other analysis where statistical power is important.  We might want to simplify this variable to even fewer categories.\n",
    "\n",
    "For some types of analysis it might be essential to reduce the number of cateogies, especially if there are many categories with very few observations like the RACE variable, so that quantative analysis have sufficient statisitcal power.  On the other hand, other types of analyses, especially qualitative analysis, may significantly benefit from the high level of detail included in the RACED variable.\n",
    "\n",
    "When it comes to a variable like race, the practice of combining categories can be contentious and nuanced.  The type of analysis you plan to carry out and the goals of your project will determine how to best recode complex variables like RACE and RACED.  For this exercise, we will condense our data to five very commonly used race categories for working with data on the United States general population.  These are the categories currently in use for the U.S. Decennial Census.  This set of categories is not be the best option for all analyses, but it is fine for our example workflow.\n",
    "\n",
    "1. White\n",
    "2. Black or African-American\n",
    "3. American Indian or Alaska native\n",
    "4. Asian or Pacific Islander\n",
    "5. Some Other Race\n",
    "6. Two or More Races\n",
    "\n",
    "This step will simplify our data down from 9 to 6 categories.  Individuals classified as \"4. Chinese\", \"5. Japanese\", \"6, Other Asian or Pacific Islander\" will be reclassified to the new \"4. Asian or Pacific Islander\" category and indiviuals classified as \"8. Two major races\" and \"9. Three or more major races\" will be reclassified the new \"6. Two or More Races\" category.\n",
    "\n",
    "To carry out the recode, we will use the [*case_when*](https://rdrr.io/cran/dplyr/man/case_when.html) and [*mutate*](https://rdrr.io/cran/dplyr/man/mutate.html) functions from the [**dplyr**](https://cran.r-project.org/web/packages/dplyr/index.html) package to create a new variable (RACE_RECODE) based on information from the existing RACE variable."
   ]
  },
  {
   "cell_type": "code",
   "execution_count": null,
   "id": "42888329-c5fe-4975-b22e-2e181f85c7e3",
   "metadata": {},
   "outputs": [],
   "source": [
    "dat <- dat %>%\n",
    "  mutate(RACE_RECODE = case_when(\n",
    "    RACE == 1 ~ 1,\n",
    "    RACE == 2 ~ 2,\n",
    "    RACE == 3 ~ 3,\n",
    "    RACE %in% c(4, 5, 6) ~ 4,\n",
    "    RACE == 7 ~ 5,\n",
    "    RACE %in% c(8, 9) ~ 6))"
   ]
  },
  {
   "cell_type": "markdown",
   "id": "70ddce90-8b39-4c8e-8b6f-3b25e04581ba",
   "metadata": {},
   "source": [
    "We should also specify the new RACE_RECODE variable as a [**factor**](https://r4ds.hadley.nz/factors.html) which a data type used to represent categorical variables that have a limited and fixed set of possible categories.  The individual categories of a factor are usually referred to as \"levels\".  A nice feature of factors is that we can also set the order of the levels and add labels to each level.\n",
    "\n",
    "The RACE_RECODE variable has a fixed set of five possible levels, corresponding to the five race groupings we created, so it fits the critera of a factor.  We will add labels in this step which will help us remember what races are grouped into the categories represented by each of the RACE_RECODE levels.  The following code uses the [*mutate*](https://rdrr.io/cran/dplyr/man/mutate.html) function from the [**dplyr**](https://cran.r-project.org/web/packages/dplyr/index.html) package and the *factor* function to generate the new version of the race variable."
   ]
  },
  {
   "cell_type": "code",
   "execution_count": null,
   "id": "52fcba0b-b6a8-4c72-bff4-c304f26b2184",
   "metadata": {},
   "outputs": [],
   "source": [
    "dat <- dat %>%\n",
    "  mutate(RACE_RECODE = factor(RACE_RECODE,\n",
    "                              levels = c(1, 2, 3, 4, 5, 6),\n",
    "                              labels = c(\"White\",\n",
    "                                         \"Black\",\n",
    "                                         \"American Indian or Native American\",\n",
    "                                         \"Asian or Pacific Islander\",\n",
    "                                         \"Other Race\",\n",
    "                                         \"Two or More Races\")))"
   ]
  },
  {
   "cell_type": "markdown",
   "id": "ded7c320-348c-4058-bbba-9383c1470b26",
   "metadata": {},
   "source": [
    "Let's take a look at the new variable."
   ]
  },
  {
   "cell_type": "code",
   "execution_count": null,
   "id": "1520d5d4-8ed3-4522-b97b-9b07e51a5ba0",
   "metadata": {},
   "outputs": [],
   "source": [
    "variable_nice(dat, RACE_RECODE)"
   ]
  },
  {
   "cell_type": "markdown",
   "id": "1f3e873b-3bc0-4674-828c-56be7120ca0d",
   "metadata": {},
   "source": [
    "We now have a new, simplified version of the RACE variable with fewer categories."
   ]
  },
  {
   "cell_type": "markdown",
   "id": "162b90ab-4f48-44e1-8d35-3ece0c8caab0",
   "metadata": {},
   "source": [
    "### 3c. Education\n",
    "\n",
    "Similar to the RACE variable, the eductional attainment variable EDUC comes with the more detailed educational attainment variable EDUCD.  The EDUC and EDUCD variables provide information on total individual educational attainment.  The [IPUMS codebook for EDUC and EDUCD](https://usa.ipums.org/usa-action/variables/EDUCD#codes_section) shows us that there are 13 categories for the basic education variable (EDUC) and 44 categories for the detailed education variable (EDUCD).\n",
    "\n",
    "Let's first take a look at the EDUC variable."
   ]
  },
  {
   "cell_type": "code",
   "execution_count": null,
   "id": "de452f22-6cb1-4d85-916f-9a9a495da256",
   "metadata": {},
   "outputs": [],
   "source": [
    "variable_nice(dat, EDUC)"
   ]
  },
  {
   "cell_type": "markdown",
   "id": "c5914c99-a484-4cbd-acd2-0898a802c9bd",
   "metadata": {},
   "source": [
    "Looking at the EDUC variable, we can see that the first level corresponds to *N/A or no schooling*.  At the beginning of the EDA section, we mentioned the possibility that some variables will have levels which correspond to missing values or special circumstances.  Unfortunatly for us, the two components of the *N/A or no schooling* group correspond to two very different situations.  *N/A* likely refers to situations where educational attainment was not collected, not relevant, or not included in the database for some reason.  However, *no schooling* refers to individuals who specifically have no educational attainment.\n",
    "\n",
    "Depending on the type of analysis, we might want to seperate these two situations if possible, for example by recoding the *N/A* values to *missing* and either creating a seperate group for individuals with no schooling or combining them into a new *little or no schooling* category with other low-educational attainment categories.\n",
    "\n",
    "We can also see that, while the EDUC variable provides information on the number of years of education completed, it does not provide information on degree completion.  In most cases, there is a significant social and economic difference between receiving a high school diploma or equivalent degree and completing 12 years of education but not receiving a degree.  It would be best if we could explore additional detail for the individuals in some of these categories.\n",
    "\n",
    "Fortunatly, we have the EDUCD variable which has a lot more information on educational attainment.  Let's take a look at what information is available in EDUCD."
   ]
  },
  {
   "cell_type": "code",
   "execution_count": null,
   "id": "6eb877e8-1689-4de3-937f-828cea148610",
   "metadata": {},
   "outputs": [],
   "source": [
    "variable_nice(dat, EDUCD)"
   ]
  },
  {
   "cell_type": "markdown",
   "id": "44ad7d05-6bec-4c26-a394-b55ac5ab1434",
   "metadata": {},
   "source": [
    "The EDUCD variable has many more categories including seperate categories for *N/A* and \"no schooling completed\" as well as detailed information on degree completion!  We can use this information to recode the information from both variables into a new variable which better suits our analyses needs.\n",
    "\n",
    "#### Recoding the Education Variable\n",
    "\n",
    "Our recode will have the following seven categories.\n",
    "\n",
    "1. eight or fewer years of eduction (including no schooling)\n",
    "2. some high school (9-12 years, no degree)\n",
    "3. high school diploma, GED, or alternative credential completed\n",
    "4. some college (1+ years, no degree)\n",
    "5. associate's degree\n",
    "6. bachelor's degree\n",
    "7. advanced degree (master's, professional, or doctoral degree)\n",
    "\n",
    "Unlike RACE_RECODE, the EDUC_RECODE variable will include missing values since we plan to recode instances of *N/A* to missing.  In R, missing values are represented by the special object *NA*.  Most analytical functions in R automatically ignore *NA* values or have an option to ignore them.  Recoding missing categories as *NA* will make things easier for us down the line if we plan to carry out quantiative analysis with our data."
   ]
  },
  {
   "cell_type": "code",
   "execution_count": null,
   "id": "af90221f-96e4-4404-87a3-d047c3f9d9ab",
   "metadata": {},
   "outputs": [],
   "source": [
    "dat <- dat %>%\n",
    "  mutate(EDUC_RECODE = case_when(\n",
    "    EDUCD == 1 ~ NA,                # N/A\n",
    "    EDUCD %in% c(2:26) ~ 1,         # eight or fewer years (including no schooling)\n",
    "    EDUCD %in% c(30:61) ~ 2,        # some high school (9-12 years, no degree)\n",
    "    EDUCD %in% c(63:64) ~ 3,        # high school diploma, GED, or alternative credential completed\n",
    "    EDUCD %in% c(65:71) ~ 4,        # some college (1+ years, no degree)\n",
    "    EDUCD == 81 ~ 5,                # associate's degree\n",
    "    EDUCD == 101 ~ 6,               # bachelor's degree\n",
    "    EDUCD %in% c(114:116) ~ 7))     # advanced degree (master's, professional, or doctoral degree)"
   ]
  },
  {
   "cell_type": "markdown",
   "id": "ca67bf8e-944c-4106-a72c-3eb7483d1d57",
   "metadata": {},
   "source": [
    "As with the RACE_RECODE variable in the previous section, we will classify the EDUC_RECODE as a factor and attach category labels."
   ]
  },
  {
   "cell_type": "code",
   "execution_count": null,
   "id": "033af000-a653-459f-b6b1-727d9f679a78",
   "metadata": {},
   "outputs": [],
   "source": [
    "dat <- dat %>%\n",
    "  mutate(EDUC_RECODE = factor(EDUC_RECODE,\n",
    "                              levels = c(1, 2, 3, 4, 5, 6, 7),\n",
    "                              labels = c(\"eight or fewer years\",\n",
    "                                         \"some high school, no degree\",\n",
    "                                         \"high school degree or equivalent\",\n",
    "                                         \"some college, no degree\",\n",
    "                                         \"associate's degree\",\n",
    "                                         \"bachelor's degree\",\n",
    "                                         \"advanced degree\")))"
   ]
  },
  {
   "cell_type": "markdown",
   "id": "52b6a9a1-fe69-45c8-82f2-b4a4deffeea0",
   "metadata": {},
   "source": [
    "Let's take a look at the new variable."
   ]
  },
  {
   "cell_type": "code",
   "execution_count": null,
   "id": "9e0745a6-ef1b-4530-b21b-69b4d0afd78a",
   "metadata": {},
   "outputs": [],
   "source": [
    "variable_nice(dat, EDUC_RECODE)"
   ]
  },
  {
   "cell_type": "markdown",
   "id": "9784d8d2-d513-4507-8785-41bf8526ceb7",
   "metadata": {},
   "source": [
    "We have new, simplified version of the a categorical variable with fewer categories and recoded missing values.  In this case, the new variable is both simplier than either of the original RACE and RACED variables and also reorganizes the data in a way which may be more meaningful for the analyses we have in mind."
   ]
  },
  {
   "cell_type": "markdown",
   "id": "c66273a2-a857-470c-b335-b481be1e0b80",
   "metadata": {},
   "source": [
    "## 4. Clean and Recode Continuious Variables\n",
    "\n",
    "Now that we have finished reviewing the three categorical demographic varables, we will move on to the two continuous demographic variables.  The continuous variables in our dataset include:\n",
    "\n",
    "* [age (AGE)](https://usa.ipums.org/usa-action/variables/AGE#codes_section)\n",
    "* [individual total income (INCTOT)](https://usa.ipums.org/usa-action/variables/INCTOT#codes_section)"
   ]
  },
  {
   "cell_type": "markdown",
   "id": "3df79beb-7bd1-4aec-8bbf-20ab5b638215",
   "metadata": {},
   "source": [
    "### 4a. Age\n",
    "\n",
    "The AGE variable provides the numeric age, in years, for each indiviual in the sample.  Reviewing the [IPUMS codebook for AGE](https://usa.ipums.org/usa-action/variables/AGE#codes_section) shows us that *999* corresponds to missing value but based on our initial review of the data there were no instances of *999* in the AGE variable indicating there is no missing data for age.  We will double check for missing values in this step and still carry out the recode step.\n",
    "\n",
    "We could use the *variable_nice* function used to view the categorical variables to view the continuous AGE variable but that would give us a table which includes a line for every age in the dataset, probably not very useful.\n",
    "\n",
    "Instead, let's take a look at summary statistics and a frequnecy distribution for this variable using the *summary* and *hist* functions.\n",
    "\n",
    "Both the *summary* and *hist* functions are from base R!  The information and graphics these functions will produce are relatively simple and not very pretty but the commands are also simple, and easy to remember and use, part of the base R environment (so they don't require any additional packages), and computationally non-intensive.  You could use more complicated functions to generate summary tables and visualizations but at this stage, when we just want quick snapshots of the data so we can make management decisions.  The simple base R functions work great.\n",
    "\n",
    "**★ Pro Tip:**  Kate thinks base R is the best R and you can't convince her otherwise."
   ]
  },
  {
   "cell_type": "code",
   "execution_count": null,
   "id": "805d65ba-dd83-4b82-9f47-c220e1091d22",
   "metadata": {},
   "outputs": [],
   "source": [
    "summary(dat$AGE)"
   ]
  },
  {
   "cell_type": "markdown",
   "id": "b77ab0c3-449a-4234-8ec0-4438724fc749",
   "metadata": {},
   "source": [
    "Ages in this sample range from 0 to 94 with a median of 42 which seems reasonable for a large sample of the general population.  The summary also confirms that we don't have any instances of the *999* code which would indicate missing data."
   ]
  },
  {
   "cell_type": "code",
   "execution_count": null,
   "id": "98355078-53ad-4985-ad3d-1491261b3569",
   "metadata": {
    "scrolled": true
   },
   "outputs": [],
   "source": [
    "hist(dat$AGE, breaks = 100, main = \"Histogram of Age\", xlab = \"Age\")"
   ]
  },
  {
   "cell_type": "markdown",
   "id": "29ae8187-5e52-4e6d-8bb4-478073d6f7df",
   "metadata": {},
   "source": [
    "The distribution of ages, as shown in the histogram, also seems to be a reasonable representation of a large sample of the general population.\n",
    "\n",
    "Interestingly, there seems to be lower-than-expected frequency values for individuals in their twenties through late-thirties.  This may be representative of the actual population in Michiagn or it may be an artifact of the sample population or sampling process.  Unlike the Decennial Census, the ACS is not a complete population count some subpopulations, such as college students or younger adults, may be more prone to being left out of the sampling process.\n",
    "\n",
    "If we wanted to use ACS data as an estimate for the true 2010 Michian population, we would first need to apply the survey design and survey weights to the data.  The IPUMS preselected set of variables included multiple survey design and survey weight supplemental variables which we would use to apply weights.  For now we will skip the process of applying a survey design and survey weights to our data.\n",
    "\n",
    "#### Categorizing the Age Variable\n",
    "\n",
    "While the numeric AGE variable is very useful, it likely contains more detail that we will need for our analysis.  Let's create a new categorical age variable where each category represents a range of ages.  Our new variable will use the following age ranges commonly used in demographic and sociological research.\n",
    "\n",
    "1. 0 to 17 (children)\n",
    "2. 18 to 24 (young adults)\n",
    "3. 25 to 44\n",
    "4. 45 to 64\n",
    "5. 65+ (older adults; retirement age)\n",
    "\n",
    "We will use the [*mutate*](https://rdrr.io/cran/dplyr/man/mutate.html) function from the [**dplyr**](https://cran.r-project.org/web/packages/dplyr/index.html) package to recode information from AGE variable into a new AGE_CAT variable in the same way we used [*mutate*](https://rdrr.io/cran/dplyr/man/mutate.html) to create the RACE_RECODE and EDUC_RECODE variables."
   ]
  },
  {
   "cell_type": "code",
   "execution_count": null,
   "id": "25a463c2-624c-49c7-84a1-ca186fd02fb0",
   "metadata": {},
   "outputs": [],
   "source": [
    "dat <- dat %>%\n",
    "  mutate(AGE_CAT = case_when(\n",
    "    AGE < 18 ~ 1,\n",
    "    AGE %in% c(18:24) ~ 2,\n",
    "    AGE %in% c(25:44) ~ 3,\n",
    "    AGE %in% c(45:64) ~ 4,\n",
    "    AGE >= 65 ~ 5))"
   ]
  },
  {
   "cell_type": "markdown",
   "id": "17316492-62f9-4c31-803a-3b74163eaf9d",
   "metadata": {},
   "source": [
    "Although the original AGE variable was continuous, the new AGE_CAT variable is categorical and like RACE_RECODE and EDUC_RECODE, AGE_CAT is also a factor.  Therefore, we will also specify that AGE_CAT as a factor and set labels for each variable level using the same workflow we used for the cateogorical variables."
   ]
  },
  {
   "cell_type": "code",
   "execution_count": null,
   "id": "e9d65dcf-3bf8-4ad1-982c-93c525e4584d",
   "metadata": {},
   "outputs": [],
   "source": [
    "dat <- dat %>%\n",
    "  mutate(AGE_CAT = factor(AGE_CAT,\n",
    "                              levels = c(1, 2, 3, 4, 5),\n",
    "                              labels = c(\"under 18\",\n",
    "                                         \"18-24\",\n",
    "                                         \"25-44\",\n",
    "                                         \"45-64\",\n",
    "                                         \"65+\")))"
   ]
  },
  {
   "cell_type": "markdown",
   "id": "f35b2641-3bc0-4f5d-bd9d-7b66ee132523",
   "metadata": {},
   "source": [
    "Now that we have a labeled, categorical version of the AGE variable, let's take a look at the percent breakdown by age range."
   ]
  },
  {
   "cell_type": "code",
   "execution_count": null,
   "id": "eb5992f3-d32d-47bf-af74-bbf6e4680978",
   "metadata": {},
   "outputs": [],
   "source": [
    "variable_nice(dat, AGE_CAT)"
   ]
  },
  {
   "cell_type": "markdown",
   "id": "a26e3857-5530-430d-96ed-dde900e5b483",
   "metadata": {},
   "source": [
    "The new AGE_CAT variable simplifies the AGE information into a format which is likely easier for us to use and understand."
   ]
  },
  {
   "cell_type": "markdown",
   "id": "9116e38f-d049-4d92-8aa8-d78e30f39226",
   "metadata": {},
   "source": [
    "### 4b. Income\n",
    "\n",
    "The last demographic varaible we will work with is the income variable (INCTOT).  Like the age variable, the original version of this variable is numeric and represents the exact reported income for each surveyed individual. \n",
    "\n",
    "Like with AGE, rather than using the *variable_nice* function, we'll take a look at the summary statistics and frequency distribution of INCTOT using the *summary* and *hist* functions"
   ]
  },
  {
   "cell_type": "code",
   "execution_count": null,
   "id": "adf91f23-7d2b-4eff-ac83-7e4a8d842a7d",
   "metadata": {},
   "outputs": [],
   "source": [
    "summary(dat$INCTOT)"
   ]
  },
  {
   "cell_type": "markdown",
   "id": "8dd8b6c0-1ead-4620-838c-f8c3ef7756e5",
   "metadata": {},
   "source": [
    "The *9999999* maximum value should raise some alarm and remind you that we previously noticed the maximum INCTOT value is *9999999*.  Something to be suspicious about...\n",
    "\n",
    "We are also reminded that the INCTOT variable includes negative values, another interesting characteristic of the data that we should look into."
   ]
  },
  {
   "cell_type": "code",
   "execution_count": null,
   "id": "ab89983e-ce7b-4354-8ee9-b209a96206f0",
   "metadata": {},
   "outputs": [],
   "source": [
    "hist(dat$INCTOT, breaks = 100, main = \"Histogram of Total Income\", xlab = \"Total Income\")"
   ]
  },
  {
   "cell_type": "markdown",
   "id": "03673c2d-6533-4fc3-ae45-1088240e266f",
   "metadata": {},
   "source": [
    "The histogram showing the distribution of income values is another red flag that something is not right.  Numeric, continuous demographic variables almost always follow a somewhat normal or log-normal distribution.  However, there is clearly a large chunk of the data categorized at a very high value.  An anomaly which doesn't seem to follow the pattern of the rest of the data.\n",
    "\n",
    "The solution is to take a look at the [IPUMS codebook for INCTOT](https://usa.ipums.org/usa-action/variables/INCTOT#codes_section).  The codebooks tells us that value *9999998* indicates \"unknown\" and the value *9999999* indictes \"N/A\".\n",
    "\n",
    "So for our next step we should recode these two values as *NA* so they won't be included in any calculations or in while visualizing the distribution."
   ]
  },
  {
   "cell_type": "code",
   "execution_count": null,
   "id": "4d321417-c983-4cb3-b84c-ad0478474863",
   "metadata": {},
   "outputs": [],
   "source": [
    "dat <- dat %>%\n",
    "  mutate(INCTOT = na_if(INCTOT, 9999998),\n",
    "         INCTOT = na_if(INCTOT, 9999999))"
   ]
  },
  {
   "cell_type": "markdown",
   "id": "c61b2753-01c5-4b1e-a9a4-6da31fa7fd73",
   "metadata": {},
   "source": [
    "Let's take another look at the summary statistics after recoding the missing information."
   ]
  },
  {
   "cell_type": "code",
   "execution_count": null,
   "id": "45d230c8-956c-4c92-91a5-6f33a84218e6",
   "metadata": {},
   "outputs": [],
   "source": [
    "summary(dat$INCTOT)"
   ]
  },
  {
   "cell_type": "markdown",
   "id": "c01ce256-c7b9-4e12-b350-0999eaf8da79",
   "metadata": {},
   "source": [
    "And the new distribution of values."
   ]
  },
  {
   "cell_type": "code",
   "execution_count": null,
   "id": "b4e0ba6a-d371-43de-b6e0-c52e0e9623b2",
   "metadata": {},
   "outputs": [],
   "source": [
    "hist(dat$INCTOT, breaks = 100, main = \"Histogram of Total Income\", xlab = \"Total Income\")"
   ]
  },
  {
   "cell_type": "markdown",
   "id": "b8649fb8-d5b2-4238-aa0d-4f38920dedf4",
   "metadata": {},
   "source": [
    "Recoding the *9999998* and *9999999* values to *NA* impacted 17,688 observations, or about 18% of the data and after removing those values from the analysis the summary and distribution appear much more as we would expect.  The distribution shows that the majority of the individuals in the sample have total incomes around \\\\$200,000 or less but there are a few outliers ranging up to the largest income in the sample, \\\\$637,000.\n",
    "\n",
    "#### Categorizing the Age Variable\n",
    "\n",
    "Similar to age, total income is not very useful as a raw number.  Instead, it's often more useful to look at income brackets rather than raw income values.\n",
    "\n",
    "Binning income into categories would be especially useful in our situation since the income variable has a frequency distribution with a very long right tail.  Very few individuals with very high incomes are skewing the overall distribution.  In addition, when a variable has a highly skewed dataset, values usually take on wildly different meanings in different sections of the distribution.  For example, the difference between an income of \\\\$10,000 and \\\\$50,000 corresponds to a very large difference in terms of lifestyle and socioeconmic status.  However, the difference between an income of \\\\$1,010,000 and \\\\$1,050,000 is likely negligible and both correspond to a very high socioeconomic status.\n",
    "\n",
    "We will recode the income variable in the following way:\n",
    "\n",
    "1. < 25,000 (low income)\n",
    "2. 25,000 to 49,999 (lower-middle income)\n",
    "3. 50,000 to 74,999 (middle income)\n",
    "4. 75,000 to 149,999 (upper-middle income)\n",
    "5. 150,000 or more (high income)"
   ]
  },
  {
   "cell_type": "code",
   "execution_count": null,
   "id": "ddbf394e-2da8-4108-ab8d-336f86fbfdd1",
   "metadata": {},
   "outputs": [],
   "source": [
    "dat <- dat %>%\n",
    "  mutate(INCTOT_CAT = case_when(\n",
    "    INCTOT < 25000 ~ 1,\n",
    "    INCTOT %in% c(25000:49999) ~ 2,\n",
    "    INCTOT %in% c(50000:74999) ~ 3,\n",
    "    INCTOT %in% c(75000:149999) ~ 4,\n",
    "    INCTOT >= 150000 ~ 5))"
   ]
  },
  {
   "cell_type": "markdown",
   "id": "d12624c1-5a75-4737-bb65-fc9ce82b21d2",
   "metadata": {},
   "source": [
    "As usuall, we will code this variable as a factor and create a set of labels for each level."
   ]
  },
  {
   "cell_type": "code",
   "execution_count": null,
   "id": "45fecb3d-a609-414b-ac5e-0595b080b696",
   "metadata": {},
   "outputs": [],
   "source": [
    "dat <- dat %>%\n",
    "  mutate(INCTOT_CAT = factor(INCTOT_CAT,\n",
    "                              levels = c(1, 2, 3, 4, 5),\n",
    "                              labels = c(\"under 25,000\",\n",
    "                                         \"25,000 to 49,999\",\n",
    "                                         \"50,000 to 74,999\",\n",
    "                                         \"75,000 to 149,999\",\n",
    "                                         \"150,000 or more\")))"
   ]
  },
  {
   "cell_type": "markdown",
   "id": "d1a4bec6-be08-438d-96da-da0b0fd5bd6f",
   "metadata": {},
   "source": [
    "Let's take a look at the percentage breakdown for our new categorical variable."
   ]
  },
  {
   "cell_type": "code",
   "execution_count": null,
   "id": "a0bc011f-0e58-454a-bd96-022ea4370432",
   "metadata": {},
   "outputs": [],
   "source": [
    "variable_nice(dat, INCTOT_CAT)"
   ]
  },
  {
   "cell_type": "markdown",
   "id": "39141151-bcf9-4599-a57f-a937989a91c8",
   "metadata": {},
   "source": [
    "As with AGE_CAT, the INCTOT_CAT variable simplifies the income information into a simplier format which is easier to understand and work with."
   ]
  },
  {
   "cell_type": "markdown",
   "id": "380dd7a1-587b-4651-80f4-fd3271fbacb9",
   "metadata": {},
   "source": [
    "## 5. Final Review\n",
    "\n",
    "We've completed initial data management and recode steps for each of the demographic variables in our data.  Let's take a final look at the updated summary information including all the new demographic varaibles we created in this section."
   ]
  },
  {
   "cell_type": "code",
   "execution_count": null,
   "id": "b3975059-091e-4ab8-9544-0ba4bf48f261",
   "metadata": {},
   "outputs": [],
   "source": [
    "summary(dat[, c(\"SEX\", \"AGE\", \"AGE_CAT\", \"RACE\", \"RACED\", \"RACE_RECODE\", \"EDUC\", \"EDUCD\", \"EDUC_RECODE\", \"INCTOT\", \"INCTOT_CAT\")])"
   ]
  },
  {
   "cell_type": "markdown",
   "id": "bae022ce-688a-4d51-9063-8bd02c147147",
   "metadata": {},
   "source": [
    "We've made a lot of updates!  We now have categorical versions of our two continuous numeric variables, AGE and INCTOT, and new, recoded versions of RACE and EDUC.  We've also recoded the missing values in EDUC_RECODE and INC_TOT to *NA* so we can use these variables in analyses without having to worry about incorrectly treating the missing codes like real numers.\n",
    "\n",
    "Let's make a simplified version of the data, specifically for analysis, that only includes the variables we plan to keep.\n",
    "\n",
    "This step isn't essential but it will give us a smaller version of the data to work with in the next steps of our analysis which will be less confusing and less computationally intensive to work with.\n",
    "\n",
    "Specifically, we will restrict our data to the following demographic variables:\n",
    "\n",
    "1. sex (SEX)\n",
    "2. age (AGE)\n",
    "3. age categories (AGE_CAT)\n",
    "4. race categories (RACE_RECODE)\n",
    "5. educational attainment categories (EDUC_RECODE)\n",
    "6. income (INCTOT)\n",
    "7. income categories (INCTOT_CAT)\n",
    "\n",
    "And the two geographic identification variables from the original data extraction request:\n",
    "\n",
    "8. [State FIPS Code (STATEFIP)](https://en.wikipedia.org/wiki/Federal_Information_Processing_Standard_state_code)\n",
    "9. [Public Use Microdata Area (PUMA)](https://www.census.gov/programs-surveys/geography/guidance/geo-areas/pumas.html#:~:text=Public%20Use%20Microdata%20Areas%20(PUMAs)%20are%20non%2Doverlapping%2C,%2C%20Puerto%20Rico%2C%20and%20Guam.)\n",
    "\n",
    "We'll create a new, subseted version of the data using the [*select*](https://rdrr.io/cran/dplyr/man/select.html) function from the [**dplyr**](https://cran.r-project.org/web/packages/dplyr/index.html) package."
   ]
  },
  {
   "cell_type": "code",
   "execution_count": null,
   "id": "9af87562-33fa-42ff-850b-fe6e00279d26",
   "metadata": {},
   "outputs": [],
   "source": [
    "dat_analysis <- dat %>% select(STATEFIP, PUMA, SEX, AGE, AGE_CAT, RACE_RECODE, EDUC_RECODE, INCTOT, INCTOT_CAT)"
   ]
  },
  {
   "cell_type": "markdown",
   "id": "6f906d80-d01a-41ab-9b37-5d69aa9b0b36",
   "metadata": {},
   "source": [
    "Let's take a look at the first few lines of *dat_analysis*."
   ]
  },
  {
   "cell_type": "code",
   "execution_count": null,
   "id": "608d434e-f3dc-4915-a71d-af8806368f9d",
   "metadata": {},
   "outputs": [],
   "source": [
    "head(dat_analysis)"
   ]
  },
  {
   "cell_type": "markdown",
   "id": "0f5c24c2-8f2a-4928-a4b7-fb083c0cd048",
   "metadata": {},
   "source": [
    "And a look at the summary information for *dat_analysis*."
   ]
  },
  {
   "cell_type": "code",
   "execution_count": null,
   "id": "18be50e3-1689-4dde-99be-99e86c7263bf",
   "metadata": {},
   "outputs": [],
   "source": [
    "summary(dat_analysis)"
   ]
  },
  {
   "cell_type": "markdown",
   "id": "45902040-521f-47c7-930b-c98f66841f07",
   "metadata": {},
   "source": [
    "Finally, we'll save a copy of *dat_analysis* in the R Data Serialization (RDS) file format.  The .rds format will retain metadata for the next time we want to import the file back into R and is only useable within R."
   ]
  },
  {
   "cell_type": "code",
   "execution_count": null,
   "id": "322019a2-694e-4a5e-88a9-9ec0a38f94f0",
   "metadata": {},
   "outputs": [],
   "source": [
    "saveRDS(dat_analysis, \"ipums_usa_analysis.rds\")"
   ]
  },
  {
   "cell_type": "markdown",
   "id": "40156e6e-6b0b-40e0-9f9b-c96acd18ab26",
   "metadata": {},
   "source": [
    "At the end of this exercise we have a cleaned up and nicely prepared version of our IPUMS USA data saved in our workspace."
   ]
  },
  {
   "cell_type": "markdown",
   "id": "50a2eb67-14ba-4b22-a30c-3c42837cfcf4",
   "metadata": {},
   "source": [
    "## Recommended Next Steps\n",
    "\n",
    "* **Continue with Chapter 3: Data Cleaning and Preparation**\n",
    "  * 3.2 Spatial Data Preparation and Transformation with IPUMS NHGIS\n",
    "* **Move on to Chapter 4: Exploratory Data Analysis (EDA)**\n",
    "  * [4.1 Exploratory Data Analysis (EDA) with IPUMS USA](https://platform.i-guide.io/notebooks/29c5c2da-4bfe-4150-9c05-b65956c997b4)"
   ]
  },
  {
   "cell_type": "markdown",
   "id": "a696dc8a-b559-4317-a6fa-91f25a53e60c",
   "metadata": {},
   "source": [
    "## Quick Code\n",
    "A clean and simple version of the code included in this notebook."
   ]
  },
  {
   "cell_type": "raw",
   "id": "3828d5ef-53de-4ea7-a305-9c8167106f51",
   "metadata": {},
   "source": [
    "# install required packages\n",
    "# install.packages(c(\"dplyr\", \"haven\"))\n",
    "\n",
    "# load required libraries\n",
    "library(dplyr)\n",
    "library(haven)\n",
    "\n",
    "# read in the .rds file\n",
    "dat <- readRDS(\"ipums_usa_example.rds\")\n",
    "\n",
    "# summarize the data\n",
    "summary(dat[, c(\"SEX\", \"AGE\", \"RACE\", \"RACED\", \"EDUC\", \"EDUCD\", \"INCTOT\")])\n",
    "\n",
    "# create the variable_nice helper function for cleanly viewing variable summaries\n",
    "variable_nice <- function(data, variable) {\n",
    "    data %>%\n",
    "    count({{variable}}) %>%\n",
    "    mutate(code = row_number(),\n",
    "           {{variable}} := as_factor({{variable}}),\n",
    "           percent = round(n / sum(n) * 100, 2))\n",
    "}\n",
    "\n",
    "### review the SEX variable\n",
    "variable_nice(dat, SEX)\n",
    "\n",
    "### review and recode the RACE variable\n",
    "# review the RACE variable\n",
    "variable_nice(dat, RACE)\n",
    "# recode the RACE variable; create RACE_RECODE\n",
    "dat <- dat %>%\n",
    "  mutate(RACE_RECODE = case_when(\n",
    "    RACE == 1 ~ 1,\n",
    "    RACE == 2 ~ 2,\n",
    "    RACE == 3 ~ 3,\n",
    "    RACE %in% c(4, 5, 6) ~ 4,\n",
    "    RACE == 7 ~ 5,\n",
    "    RACE %in% c(8, 9) ~ 6))\n",
    "# label the RACE_RECODE variale\n",
    "dat <- dat %>%\n",
    "  mutate(RACE_RECODE = factor(RACE_RECODE,\n",
    "                              levels = c(1, 2, 3, 4, 5, 6),\n",
    "                              labels = c(\"White\",\n",
    "                                         \"Black\",\n",
    "                                         \"American Indian or Native American\",\n",
    "                                         \"Asian or Pacific Islander\",\n",
    "                                         \"Other Race\",\n",
    "                                         \"Two or More Races\")))\n",
    "# review the RACE_RECODE variable\n",
    "variable_nice(dat, RACE_RECODE)\n",
    "\n",
    "### review and recode the EDUC variable\n",
    "# review the EDUC and EDUCD variables\n",
    "variable_nice(dat, EDUC)\n",
    "variable_nice(dat, EDUCD)\n",
    "# recode the EDUCD variable; create EDUC_RECODE\n",
    "dat <- dat %>%\n",
    "  mutate(EDUC_RECODE = case_when(\n",
    "    EDUCD == 1 ~ NA,                # N/A\n",
    "    EDUCD %in% c(2:26) ~ 1,         # eight or fewer years (including no schooling)\n",
    "    EDUCD %in% c(30:61) ~ 2,        # some high school (9-12 years, no degree)\n",
    "    EDUCD %in% c(63:64) ~ 3,        # high school diploma, GED, or alternative credential completed\n",
    "    EDUCD %in% c(65:71) ~ 4,        # some college (1+ years, no degree)\n",
    "    EDUCD == 81 ~ 5,                # associate's degree\n",
    "    EDUCD == 101 ~ 6,               # bachelor's degree\n",
    "    EDUCD %in% c(114:116) ~ 7))     # advanced degree (master's, professional, or doctoral degree)\n",
    "# label the EDUC_RECODE variable\n",
    "dat <- dat %>%\n",
    "  mutate(EDUC_RECODE = factor(EDUC_RECODE,\n",
    "                              levels = c(1, 2, 3, 4, 5, 6, 7),\n",
    "                              labels = c(\"eight or fewer years\",\n",
    "                                         \"some high school, no degree\",\n",
    "                                         \"high school degree or equivalent\",\n",
    "                                         \"some college, no degree\",\n",
    "                                         \"associate's degree\",\n",
    "                                         \"bachelor's degree\",\n",
    "                                         \"advanced degree\")))\n",
    "# review the EDUC_RECODE variable\n",
    "variable_nice(dat, EDUC_RECODE)\n",
    "\n",
    "### review and recode the AGE variable\n",
    "# summarize the AGE variable\n",
    "summary(dat$AGE)\n",
    "# view the frequency distribution for the AGE variable\n",
    "hist(dat$AGE, breaks = 100, main = \"Histogram of Age\", xlab = \"Age\")\n",
    "# categorize the AGE variable; create AGE_RECODE\n",
    "dat <- dat %>%\n",
    "  mutate(AGE_CAT = case_when(\n",
    "    AGE < 18 ~ 1,\n",
    "    AGE %in% c(18:24) ~ 2,\n",
    "    AGE %in% c(25:44) ~ 3,\n",
    "    AGE %in% c(45:64) ~ 4,\n",
    "    AGE >= 65 ~ 5))\n",
    "# label the AGE_CAT variable\n",
    "dat <- dat %>%\n",
    "  mutate(AGE_CAT = factor(AGE_CAT,\n",
    "                              levels = c(1, 2, 3, 4, 5),\n",
    "                              labels = c(\"under 18\",\n",
    "                                         \"18-24\",\n",
    "                                         \"25-44\",\n",
    "                                         \"45-64\",\n",
    "                                         \"65+\")))\n",
    "# review the AGE_CAT variable\n",
    "variable_nice(dat, AGE_CAT)\n",
    "\n",
    "### review and recode the INCTOT variable\n",
    "# summarize the INCTOT variable\n",
    "summary(dat$INCTOT)\n",
    "# view the frequency distribution for the INCTOT variable\n",
    "hist(dat$INCTOT, breaks = 100, main = \"Histogram of Total Income\", xlab = \"Total Income\")\n",
    "# recode missing values to NA\n",
    "dat <- dat %>%\n",
    "  mutate(INCTOT = na_if(INCTOT, 9999998),\n",
    "         INCTOT = na_if(INCTOT, 9999999))\n",
    "# categorize the INCTOT variable; create INCTOT_CAT\n",
    "dat <- dat %>%\n",
    "  mutate(INCTOT_CAT = case_when(\n",
    "    INCTOT < 25000 ~ 1,\n",
    "    INCTOT %in% c(25000:49999) ~ 2,\n",
    "    INCTOT %in% c(50000:74999) ~ 3,\n",
    "    INCTOT %in% c(75000:149999) ~ 4,\n",
    "    INCTOT >= 150000 ~ 5))\n",
    "# label the INCTOT_CAT variable\n",
    "dat <- dat %>%\n",
    "  mutate(INCTOT_CAT = factor(INCTOT_CAT,\n",
    "                              levels = c(1, 2, 3, 4, 5),\n",
    "                              labels = c(\"under 25,000\",\n",
    "                                         \"25,000 to 49,999\",\n",
    "                                         \"50,000 to 74,999\",\n",
    "                                         \"75,000 to 149,999\",\n",
    "                                         \"150,000 or more\")))\n",
    "# review the INCTOT_CAT variable\n",
    "variable_nice(dat, INCTOT_CAT)\n",
    "\n",
    "# summarize the final data\n",
    "summary(dat[, c(\"SEX\", \"AGE\", \"AGE_CAT\", \"RACE\", \"RACED\", \"RACE_RECODE\", \"EDUC\", \"EDUCD\", \"EDUC_RECODE\", \"INCTOT\", \"INCTOT_CAT\")])\n",
    "\n",
    "# subset the data\n",
    "dat_analysis <- dat %>% select(STATEFIP, PUMA, SEX, AGE, AGE_CAT, RACE_RECODE, EDUC_RECODE, INCTOT, INCTOT_CAT)\n",
    "\n",
    "# save as RDS file\n",
    "saveRDS(dat_analysis, \"ipums_usa_analysis.rds\")"
   ]
  }
 ],
 "metadata": {
  "kernelspec": {
   "display_name": "R",
   "language": "R",
   "name": "ir"
  },
  "language_info": {
   "codemirror_mode": "r",
   "file_extension": ".r",
   "mimetype": "text/x-r-source",
   "name": "R",
   "pygments_lexer": "r",
   "version": "4.3.3"
  }
 },
 "nbformat": 4,
 "nbformat_minor": 5
}
