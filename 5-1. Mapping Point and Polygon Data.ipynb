{
 "cells": [
  {
   "cell_type": "markdown",
   "id": "616c7d11-8ef6-454e-9d34-d85cbd7a48bf",
   "metadata": {},
   "source": [
    "# Mapping Point and Polygon Data"
   ]
  },
  {
   "cell_type": "markdown",
   "id": "d6196c63-947e-4fa1-bdb7-4d0c66837964",
   "metadata": {},
   "source": [
    "## Introduction\n",
    "\n",
    "In this notebook, we’ll explore the basics of mapping point and polygon data using R. We’ll demonstrate how to access open-source spatial datasets from [*rnaturalearth*](https://cran.r-project.org/web/packages/rnaturalearth/index.html), an excellent source freely available of global administrative boundaries, cities, rivers, and other geographic features.\n",
    "\n",
    "We’ll use sf for spatial data handling and ggplot2 for visualization, covering basic mapping techniques and styling options. This notebook provides a foundation for working with spatial data, allowing users to create informative maps with both point and polygon layers."
   ]
  },
  {
   "cell_type": "markdown",
   "id": "5e97ab72-ce64-47cf-aa34-f82e1b107d49",
   "metadata": {},
   "source": [
    "### Open-Source Geographic Data from Natural Earth\n",
    "\n",
    "Natural Earth provides an array of data types that can be customized by scale and region, making it a valuable resource for global and thematic mapping. Here, we used ne_countries() for national boundaries and ne_download(type = \"populated_places\") for city points, both at medium scale. Experimenting with different scales (e.g., large, small) allows users to balance detail and performance in different mapping contexts."
   ]
  },
  {
   "cell_type": "markdown",
   "id": "3823bbd2-e981-43f9-818f-21797cd32f3c",
   "metadata": {},
   "source": [
    "## 1. Setup\n",
    "\n",
    "Before running this script, you will need to install and load the following packages into your R environment:"
   ]
  },
  {
   "cell_type": "markdown",
   "id": "c9d7b235-ecdd-41c7-b768-a8e0a40186e9",
   "metadata": {},
   "source": [
    "[**ggplot2**](https://cran.r-project.org/web/packages/ggplot2/index.html) A package for creating graphics based on the \"Grammar of Graphics\".  This notebook uses the following functions from *ggplot2*.\n",
    "\n",
    "* [*geom_sf()*](https://ggplot2.tidyverse.org/reference/ggsf.html) for visualizing (mapping) sf objects"
   ]
  },
  {
   "cell_type": "markdown",
   "id": "df9e44ff-94ba-4fce-bc19-311fe9bcb9aa",
   "metadata": {},
   "source": [
    "[**rnaturalearth**](https://cran.r-project.org/web/packages/rnaturalearth/index.html) A package for extracting geographic data from the open-source online repository [Natural Earth](https://www.naturalearthdata.com).  This notebook uses the folloing functions from *rnationalearth*.\n",
    "\n",
    "* [*ne_countries()*](https://www.rdocumentation.org/packages/rnaturalearth/versions/1.0.1/topics/ne_countries) for downloading world country polygons from Natural Earth\n",
    "* [*ne_download()*](https://www.rdocumentation.org/packages/rnaturalearth/versions/1.0.1/topics/ne_download) for downloading data from Natural Earth"
   ]
  },
  {
   "cell_type": "markdown",
   "id": "fa9547b3-77d7-44a0-aa78-0d7cbf1ba7da",
   "metadata": {},
   "source": [
    "[**sf**](https://cran.r-project.org/web/packages/sf/index.html) A package providing support for simple features (sf) geometry objects, a standardized way to encode spatial vector data.  This notebook uses the following functions from *sf*.\n",
    "\n",
    "* [*st_crs()*](https://r-spatial.github.io/sf/reference/st_crs.html) for retrieveing, setting, and replacing coordinate reference systems (CRS) for sf objects\n",
    "* [*st_transform()*](https://r-spatial.github.io/sf/reference/st_transform.html) for transforming or converting coordinates of simple feature"
   ]
  },
  {
   "cell_type": "markdown",
   "id": "3950c244-883b-452e-895c-fb46030e9075",
   "metadata": {},
   "source": [
    "If you are working in the I-GUIDE environment, these packages should be already be installed.  However you will still need to load the packages into your workspace using *library* base R function."
   ]
  },
  {
   "cell_type": "code",
   "execution_count": 1,
   "id": "b6c69974-fc11-47aa-bf30-ff636e6672b6",
   "metadata": {},
   "outputs": [
    {
     "name": "stderr",
     "output_type": "stream",
     "text": [
      "Linking to GEOS 3.12.0, GDAL 3.7.2, PROJ 9.3.0; sf_use_s2() is TRUE\n",
      "\n"
     ]
    }
   ],
   "source": [
    "library(ggplot2)\n",
    "#library(rnaturalearth)\n",
    "library(sf)"
   ]
  },
  {
   "cell_type": "markdown",
   "id": "a0dade34-dfae-46af-8b8c-d880d84b90cc",
   "metadata": {},
   "source": [
    "## 2. Data Acquisition with rnaturalearth\n",
    "\n",
    "For this notebook, we’ll use the [*rnaturalearth*](https://cran.r-project.org/web/packages/rnaturalearth/index.html) package to access and load datasets from [*Natural Earth*](https://www.naturalearthdata.com). These packages provide direct access to Natural Earth’s geographic data without requiring an API key, making it simple to bring boundaries and point data directly into R.\n",
    "\n",
    "We’ll import the following data files:\n",
    "\n",
    "* Countries (polygons): national boundaries of countries worldwide\n",
    "* Populated Places (points): locations of major cities and towns\n",
    "\n",
    "Each dataset will be returned as an sf object, allowing us to work easily with the files in R using the [*sf*](https://cran.r-project.org/web/packages/sf/index.html) package."
   ]
  },
  {
   "cell_type": "code",
   "execution_count": 2,
   "id": "3ccd815f-9305-4626-bd54-97260343b681",
   "metadata": {},
   "outputs": [
    {
     "ename": "ERROR",
     "evalue": "Error in ne_countries(scale = \"medium\", returnclass = \"sf\"): could not find function \"ne_countries\"\n",
     "output_type": "error",
     "traceback": [
      "Error in ne_countries(scale = \"medium\", returnclass = \"sf\"): could not find function \"ne_countries\"\nTraceback:\n"
     ]
    }
   ],
   "source": [
    "# country boundary polygons\n",
    "countries <- ne_countries(scale = \"medium\", returnclass = \"sf\")\n",
    "\n",
    "# populated places point locations\n",
    "cities <- ne_download(scale = \"medium\", type = \"populated_places\", category = \"cultural\", returnclass = \"sf\")"
   ]
  },
  {
   "cell_type": "markdown",
   "id": "77fa6150-61d0-4d8b-b8c0-025fe45bb4fa",
   "metadata": {},
   "source": [
    "## 3. Data Preparation\n",
    "\n",
    "Before mapping, it’s essential to inspect the data structure and ensure that all spatial layers are in the same Coordinate Reference System (CRS). This step is crucial because different layers need to be aligned spatially to appear correctly on the map.\n",
    "\n",
    "The *st_crs()* function allows us to check and set the CRS of spatial data in sf. If any layers use different CRSs, we can transform them using the *st_transform()* function, ensuring compatibility and accurate mapping."
   ]
  },
  {
   "cell_type": "code",
   "execution_count": null,
   "id": "9df3bdf8-dccc-4fac-9bde-1869a2f91d65",
   "metadata": {},
   "outputs": [],
   "source": [
    "countries <- st_transform(countries, crs = st_crs(cities))"
   ]
  },
  {
   "cell_type": "markdown",
   "id": "120357b6-edbe-4d7b-a830-5f60889c9603",
   "metadata": {},
   "source": [
    "## 4. Basic Mapping of Points and Polygons with ggplot2\n",
    "\n",
    "Now we’re ready to map our data using the *geom_sf()* function from *ggplot2*, which handles spatial objects like sf polygons and points. Here, we’ll:\n",
    "\n",
    "* Plot the country boundaries as filled polygons in a light gray color.\n",
    "* Overlay the city points on top, using a distinct color to differentiate them from the polygon layer.\n",
    "\n",
    "This map gives a straightforward view of the spatial distribution of countries and cities globally, and serves as a base for further styling."
   ]
  },
  {
   "cell_type": "code",
   "execution_count": null,
   "id": "f64bb17a-d806-4bec-b03c-da24eeb33569",
   "metadata": {},
   "outputs": [],
   "source": [
    "ggplot() +\n",
    "  geom_sf(data = countries, fill = \"lightgray\", color = \"black\") +  # Country polygons\n",
    "  geom_sf(data = cities, color = \"red\", size = 1, alpha = 0.7) +    # City points\n",
    "  labs(title = \"World Map with Country Boundaries and Major Cities\",\n",
    "       x = \"Longitude\", y = \"Latitude\") +\n",
    "  theme_minimal()"
   ]
  },
  {
   "cell_type": "markdown",
   "id": "1307da6a-ac3e-4957-81eb-a7386ab7b4a0",
   "metadata": {},
   "source": [
    "## 5. Styling and Customization\n",
    "\n",
    "To enhance our map’s readability and aesthetic, we’ll add some additional styling elements:\n",
    "\n",
    "* Fill colors: Set the polygon fill color to lightblue and outline color to gray40.\n",
    "Legend: Use scale_color_manual() to specify a color for the cities and adjust the legend to reflect the \"City\" label.\n",
    "* Labels: Customize the map title, axis labels, and legend position.\n",
    "\n",
    "This customization allows us to create a more visually appealing and informative map, making it easy to distinguish between the countries and cities while providing helpful labels."
   ]
  },
  {
   "cell_type": "code",
   "execution_count": null,
   "id": "9c6b93fb-c8c3-4e01-aff2-104f3a9f426d",
   "metadata": {},
   "outputs": [],
   "source": [
    "ggplot() +\n",
    "  geom_sf(data = countries, fill = \"lightblue\", color = \"gray40\") +\n",
    "  geom_sf(data = cities, aes(color = \"City\"), size = 1.2, alpha = 0.7) +\n",
    "  scale_color_manual(values = c(\"City\" = \"darkred\")) +\n",
    "  labs(title = \"Country Boundaries with Major Cities\",\n",
    "       color = \"Legend\",\n",
    "       x = \"Longitude\", y = \"Latitude\") +\n",
    "  theme_minimal() +\n",
    "  theme(legend.position = \"bottom\")"
   ]
  }
 ],
 "metadata": {
  "kernelspec": {
   "display_name": "iguide-ewd-r",
   "language": "R",
   "name": "iguide-ewd-r"
  },
  "language_info": {
   "codemirror_mode": "r",
   "file_extension": ".r",
   "mimetype": "text/x-r-source",
   "name": "R",
   "pygments_lexer": "r",
   "version": "4.3.1"
  }
 },
 "nbformat": 4,
 "nbformat_minor": 5
}
